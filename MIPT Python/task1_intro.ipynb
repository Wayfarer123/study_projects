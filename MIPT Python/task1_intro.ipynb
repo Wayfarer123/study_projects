{
 "cells": [
  {
   "cell_type": "markdown",
   "metadata": {},
   "source": [
    "## Домашнее задание №1 (курс \"Практикум по программированию на языке Python\")"
   ]
  },
  {
   "cell_type": "markdown",
   "metadata": {},
   "source": [
    "### Выполнил: <font color='red'>Охотников Никита Владимирович, МФТИ, ФПМИ</font>\n",
    "\n",
    "### Тема: Введение в язык Python\n",
    "\n",
    "**Автор**: Мурат Апишев\n",
    "\n",
    "**Выдана**:   16 февраля 2023\n",
    "\n",
    "**Дедлайн**:  21:00 3 марта 2023\n",
    "\n",
    "**Среда выполнения**: Jupyter Notebook (Python 3.7+)\n",
    "\n",
    "#### Правила:\n",
    "\n",
    "Результат выполнения задания - Jupyter Notebook с кодом. __Максимальное число баллов за задание - 20__.\n",
    "\n",
    "Все ячейки должны быть \"выполненными\", при этом результат должен воспроизводиться при проверке (на Python 3.7). Если какой-то код не был запущен или отрабатывает с ошибками, то пункт не засчитывается. Задание, сданное после дедлайна, _не принимается_. Можно отправить недоделанное задание, выполненные пункты будут оценены.\n",
    "\n",
    "Готовое задание отправляется на почту mel-lain@yandex.ru.\n",
    "\n",
    "Задание выполняется самостоятельно. Если какие-то студенты будут уличены в списывании, все они автоматически получат за эту работу 0 баллов. Если вы нашли в Интернете какой-то специфичный код, который собираетесь заимствовать, обязательно укажите это в задании - наверняка вы не единственный, кто найдёт и использует эту информацию.\n",
    "\n",
    "__Удалять фрагменты формулировок заданий запрещается.__"
   ]
  },
  {
   "cell_type": "markdown",
   "metadata": {},
   "source": [
    "#### Постановка задачи:\n",
    "\n",
    "- В данной работе нужно решить набор задач, проверяющих владение базовыми инструментами языка.\n",
    "- Каждая задача представляет собой написание одной или более функций, а также набора тестов, проверяющих работу этой функции в общих и крайних случаях.\n",
    "- Отсутствие тестов автоматически уменьшает количество баллов за задание как минимум в два раза, некачественные тесты также будут штрафоваться.\n",
    "- Если в задании указано использовать несколько разных вариантов решения, подразумевается использование различных инструментов (циклы, списковые включения, генераторы, встроенные функции, функции модулей стандартной библотеки и т.п.), замена, например, цикла for на цикл while не является иным способом решения.\n",
    "- Даже если это не указано явно в требованиях, код должен быть по возможности неизбыточным, работать с разумной сложностью и объёмом потребялемой памяти, проверяющие могут снизить балл за задание, выполненное без учёта этого требования.\n",
    "- Результирующий код должен быть читаемым, с единой системой отступов и адеквантными названиями переменных, проверяющие могут снизить балл за задание, выполненное без учёта этого требования."
   ]
  },
  {
   "cell_type": "markdown",
   "metadata": {},
   "source": [
    "__Задание 1 (0.5 балла):__ Дано натуральное число. Требуется определить, является ли год с данным номером високосным. Если год является високосным, то выведите YES, иначе выведите NO. Напомним, что в соответствии с григорианским календарем, год является високосным, если его номер кратен 4, но не кратен 100, а также если он кратен 400."
   ]
  },
  {
   "cell_type": "code",
   "execution_count": 1,
   "metadata": {},
   "outputs": [
    {
     "name": "stdout",
     "output_type": "stream",
     "text": [
      "year: 4        ans: YES\n",
      "year: 100      ans: NO\n",
      "year: 800      ans: YES\n",
      "year: 42       ans: NO\n",
      "year: 1        ans: NO\n",
      "year: 0        ans: invalid year number\n",
      "year: -10      ans: invalid year number\n"
     ]
    }
   ],
   "source": [
    "def task_01_func(year):\n",
    "    if year <= 0:\n",
    "        print(\"invalid year number\")\n",
    "        return\n",
    "    if year % 4 == 0:\n",
    "        if year % 100 != 0 or year % 400 == 0:\n",
    "            print(\"YES\")\n",
    "        else:\n",
    "            print(\"NO\")\n",
    "    else:\n",
    "        print(\"NO\")\n",
    "    \n",
    "    \n",
    "def test_01():\n",
    "    for year in [4, 100, 800, 42, 1, 0, -10]:\n",
    "\n",
    "        print(f\"year: {year}\".ljust(15), end='')\n",
    "        print(f\"ans: \".ljust(5), end='')\n",
    "        task_01_func(year)\n",
    "        \n",
    "        \n",
    "test_01()"
   ]
  },
  {
   "cell_type": "markdown",
   "metadata": {},
   "source": [
    "__Задание 2 (0.5 балла):__ Дано натуральное число. Найдите число знаков в его десятичной записи. Предложите как минимум два различных решения."
   ]
  },
  {
   "cell_type": "code",
   "execution_count": 2,
   "metadata": {},
   "outputs": [
    {
     "name": "stdout",
     "output_type": "stream",
     "text": [
      "number: 0                ans: 1\n",
      "number: 123              ans: 3\n",
      "number: 19764937697416   ans: 14\n",
      "number: 2                ans: 1\n"
     ]
    }
   ],
   "source": [
    "def task_02_func(number):\n",
    "    print(len(str(number)))\n",
    "\n",
    "\n",
    "def test_02():\n",
    "    for number in [0, 123, 19764937697416, 2]:\n",
    "        print(f\"number: {number}\".ljust(25), end='')\n",
    "        print(f\"ans: \".ljust(5), end='')\n",
    "        task_02_func(number)\n",
    "\n",
    "        \n",
    "test_02()"
   ]
  },
  {
   "cell_type": "code",
   "execution_count": 3,
   "metadata": {
    "scrolled": true
   },
   "outputs": [
    {
     "name": "stdout",
     "output_type": "stream",
     "text": [
      "number: 0                ans: 1\n",
      "number: 123              ans: 3\n",
      "number: 19764937697416   ans: 14\n",
      "number: 2                ans: 1\n"
     ]
    }
   ],
   "source": [
    "def task_02_func(number):\n",
    "    loc_n = number\n",
    "    l = 0\n",
    "    if loc_n == 0:\n",
    "        print(1)\n",
    "        return\n",
    "    while loc_n > 0:\n",
    "        loc_n, l = loc_n // 10, l + 1\n",
    "    print(l)\n",
    "\n",
    "test_02()"
   ]
  },
  {
   "cell_type": "markdown",
   "metadata": {},
   "source": [
    "__Задание 3 (0.5 балла):__ По данному натуральном n вычислите сумму 1!+2!+3!+...+n!. В решении этой задачи с помощью циклов можно использовать только один цикл. Предложите как минимум два различных решения."
   ]
  },
  {
   "cell_type": "code",
   "execution_count": 4,
   "metadata": {},
   "outputs": [
    {
     "name": "stdout",
     "output_type": "stream",
     "text": [
      "number: 0     ans: 1\n",
      "number: 1     ans: 1\n",
      "number: 3     ans: 9\n",
      "number: 5     ans: 153\n"
     ]
    }
   ],
   "source": [
    "def task_03_func(n):\n",
    "    cur = 1\n",
    "    sum_ = 1\n",
    "    for i in range(2, n+1):\n",
    "        cur *= i\n",
    "        sum_ += cur\n",
    "    print(sum_)\n",
    "\n",
    "    \n",
    "def test_03():\n",
    "    for number in [0, 1, 3, 5]:\n",
    "\n",
    "        print(f\"number: {number}\".ljust(14), end='')\n",
    "        print(f\"ans: \".ljust(5), end='')\n",
    "        task_03_func(number)\n",
    "\n",
    "test_03()"
   ]
  },
  {
   "cell_type": "code",
   "execution_count": 5,
   "metadata": {},
   "outputs": [
    {
     "name": "stdout",
     "output_type": "stream",
     "text": [
      "number: 0     ans: 1\n",
      "number: 1     ans: 1\n",
      "number: 3     ans: 9\n",
      "number: 5     ans: 153\n"
     ]
    }
   ],
   "source": [
    "# сначала добавил обработку нуля в тест и код, потом прочитал задание... \n",
    "# будем считать, что так надо было\n",
    "import math\n",
    "def task_03_func(n):\n",
    "    print(sum([math.factorial(i) for i in range(1,n+1)])) if n > 0 else print(1)\n",
    "    \n",
    "test_03()"
   ]
  },
  {
   "cell_type": "markdown",
   "metadata": {},
   "source": [
    "__Задание 4 (0.5 балла):__ Определить, является ли введённая строка палиндромом (то есть одинаково читается с обеих сторон). Предложите как минимум три различных решения."
   ]
  },
  {
   "cell_type": "code",
   "execution_count": 6,
   "metadata": {},
   "outputs": [
    {
     "name": "stdout",
     "output_type": "stream",
     "text": [
      "string:             ans: Palindrome\n",
      "string: aabaa       ans: Palindrome\n",
      "string: aab         ans: NOT palindrome\n",
      "string: a           ans: Palindrome\n",
      "string: aa          ans: Palindrome\n"
     ]
    }
   ],
   "source": [
    "def task_04_func(s):\n",
    "    print(\"Palindrome\") if s == s[::-1] else print(\"NOT palindrome\")\n",
    "\n",
    "\n",
    "def test_04():\n",
    "    for string in ['', 'aabaa', \"aab\", \"a\", \"aa\"]:\n",
    "\n",
    "        print(f\"string: {string}\".ljust(20), end='')\n",
    "        print(f\"ans: \".ljust(5), end='')\n",
    "        task_04_func(string)\n",
    "\n",
    "\n",
    "test_04()"
   ]
  },
  {
   "cell_type": "code",
   "execution_count": 7,
   "metadata": {},
   "outputs": [
    {
     "name": "stdout",
     "output_type": "stream",
     "text": [
      "string:             ans: Palindrome\n",
      "string: aabaa       ans: Palindrome\n",
      "string: aab         ans: NOT palindrome\n",
      "string: a           ans: Palindrome\n",
      "string: aa          ans: Palindrome\n"
     ]
    }
   ],
   "source": [
    "def task_04_func(s):\n",
    "    l = len(s)\n",
    "    for i in range(l // 2):\n",
    "        if s[i] != s[l-1-i]:\n",
    "            print(\"NOT palindrome\")\n",
    "            return \n",
    "    print(\"Palindrome\")\n",
    "\n",
    "    \n",
    "test_04()"
   ]
  },
  {
   "cell_type": "code",
   "execution_count": 8,
   "metadata": {},
   "outputs": [
    {
     "name": "stdout",
     "output_type": "stream",
     "text": [
      "string:             ans: Palindrome\n",
      "string: aabaa       ans: Palindrome\n",
      "string: aab         ans: NOT Palindrome\n",
      "string: a           ans: Palindrome\n",
      "string: aa          ans: Palindrome\n"
     ]
    }
   ],
   "source": [
    "# Дисклеймер: специально очень плохое решение за квадрат, т.к.\n",
    "# сложно сделать линейное сильно отличающееся от тех, что выше\n",
    "def task_04_func(s):\n",
    "    rev_s = ''\n",
    "    for letter in s:\n",
    "        rev_s = letter + rev_s\n",
    "    if rev_s == s:\n",
    "        print(\"Palindrome\")\n",
    "    else:\n",
    "        print(\"NOT Palindrome\")\n",
    "\n",
    "\n",
    "test_04()"
   ]
  },
  {
   "cell_type": "markdown",
   "metadata": {},
   "source": [
    "__Задание 5 (1 балл):__ Дан текст в виде строки. Напишите функцию, которая возвращает словарь, где ключами являются уникальные слова из этого текста, а значениями - число раз, которое данное слово встретилось в тексте. Считать, что слова разделяются пробелами. Предложите как минимум два различных решения."
   ]
  },
  {
   "cell_type": "code",
   "execution_count": 9,
   "metadata": {},
   "outputs": [
    {
     "name": "stdout",
     "output_type": "stream",
     "text": [
      "text:                              ans: {}\n",
      "text: Some random text             ans: {'Some': 1, 'random': 1, 'text': 1}\n",
      "text: Some random text text text   ans: {'Some': 1, 'random': 1, 'text': 3}\n"
     ]
    }
   ],
   "source": [
    "def task_05_func(text):\n",
    "    dic = {}\n",
    "    for word in text.split():\n",
    "        if word not in dic:\n",
    "            dic[word] = 1\n",
    "        else:\n",
    "            dic[word] += 1\n",
    "    return dic\n",
    "\n",
    "\n",
    "def test_05():\n",
    "    for text in ['',\n",
    "                 'Some random text',\n",
    "                 'Some random text text text']:\n",
    "        print(f\"text: {text}\".ljust(35), end='')\n",
    "        print(f\"ans: \".ljust(5), end='')\n",
    "        print(task_05_func(text))\n",
    "\n",
    "\n",
    "        \n",
    "test_05()"
   ]
  },
  {
   "cell_type": "code",
   "execution_count": 10,
   "metadata": {},
   "outputs": [
    {
     "name": "stdout",
     "output_type": "stream",
     "text": [
      "text:                              ans: {}\n",
      "text: Some random text             ans: {'Some': 1, 'random': 1, 'text': 1}\n",
      "text: Some random text text text   ans: {'Some': 1, 'random': 1, 'text': 3}\n"
     ]
    }
   ],
   "source": [
    "from collections import Counter\n",
    "\n",
    "def task_05_func(text):\n",
    "    return dict(Counter(text.split()))\n",
    "\n",
    "\n",
    "test_05()"
   ]
  },
  {
   "cell_type": "markdown",
   "metadata": {},
   "source": [
    "__Задание 6 (1 балл):__ Напишите функцию, которая принимает на вход строку и символ и возвращает:\n",
    "\n",
    "- если символ встретился в строке один раз - кортеж (индекс вхождения, None);\n",
    "- если два и более раз - кортеж (индекс первого вхождения, индекс последнего вхождения);\n",
    "- если ни разу - кортеж (None, None).\n",
    "\n",
    "Запрещается делать более одного прохода по каждому элементу строки."
   ]
  },
  {
   "cell_type": "code",
   "execution_count": 11,
   "metadata": {},
   "outputs": [
    {
     "name": "stdout",
     "output_type": "stream",
     "text": [
      "(string, symbol): ('', 'a')             ans: (None, None)\n",
      "(string, symbol): ('aaaa', 'a')         ans: (0, 3)\n",
      "(string, symbol): ('aba', 'a')          ans: (0, 2)\n",
      "(string, symbol): ('abbbb', 'a')        ans: (0, None)\n"
     ]
    }
   ],
   "source": [
    "def task_06_func(input_str, input_char):\n",
    "    out = [None, None]\n",
    "    i = 0\n",
    "    for sym in input_str:\n",
    "        if sym == input_char:\n",
    "            if out[0] is None:\n",
    "                out[0] = i\n",
    "            else:\n",
    "                out[1] = i\n",
    "        i += 1\n",
    "    return tuple(out)\n",
    "        \n",
    "\n",
    "def test_06():\n",
    "    for inp_str, inp_char in zip([\"\", \"aaaa\", \"aba\", \"abbbb\"],\n",
    "                                [\"a\", \"a\", \"a\", \"a\"]):\n",
    "        print(f\"(string, symbol): {(inp_str, inp_char)}\".ljust(40), end='')\n",
    "        print(f\"ans: \".ljust(5), end='')\n",
    "        print(task_06_func(inp_str, inp_char))\n",
    "\n",
    "\n",
    "test_06()"
   ]
  },
  {
   "cell_type": "markdown",
   "metadata": {},
   "source": [
    "__Задание 7 (1 балл):__ Дан список целых чисел. Напишите функцию, которая возвращает копию этого списка, из которой удалены отрицательные числа, а все прочие числа возведены в квадрат. Также возвращаемая последовательность должна быть отсортирована по убыванию. Предложите как минимум три различных решения."
   ]
  },
  {
   "cell_type": "code",
   "execution_count": 12,
   "metadata": {
    "scrolled": true
   },
   "outputs": [
    {
     "name": "stdout",
     "output_type": "stream",
     "text": [
      "list: [0]                     ans: [0]\n",
      "list: [1, 4, 3, 2, 5]         ans: [25, 16, 9, 4, 1]\n",
      "list: [-2, -5, 2, 3, 1, -10]  ans: [9, 4, 1]\n",
      "list: [-1, -2]                ans: []\n"
     ]
    }
   ],
   "source": [
    "def task_07_func(lst):\n",
    "    return sorted([elem ** 2 for elem in lst if elem >= 0], reverse=True)\n",
    "\n",
    "\n",
    "def test_07():\n",
    "    for lst in [[0],\n",
    "                [1, 4, 3, 2, 5],\n",
    "                [-2, -5, 2, 3, 1, -10],\n",
    "                [-1,-2]]:\n",
    "        print(f\"list: {lst}\".ljust(30), end='')\n",
    "        print(f\"ans: \".ljust(5), end='')\n",
    "        print(task_07_func(lst))\n",
    "        \n",
    "\n",
    "test_07()"
   ]
  },
  {
   "cell_type": "code",
   "execution_count": 13,
   "metadata": {},
   "outputs": [
    {
     "name": "stdout",
     "output_type": "stream",
     "text": [
      "list: [0]                     ans: [0]\n",
      "list: [1, 4, 3, 2, 5]         ans: [25, 16, 9, 4, 1]\n",
      "list: [-2, -5, 2, 3, 1, -10]  ans: [9, 4, 1]\n",
      "list: [-1, -2]                ans: []\n"
     ]
    }
   ],
   "source": [
    "def task_07_func(lst):\n",
    "    return sorted(list(map(lambda x: x**2, filter(lambda elem: elem >= 0, lst))), reverse=True)\n",
    "\n",
    "\n",
    "test_07()"
   ]
  },
  {
   "cell_type": "code",
   "execution_count": 14,
   "metadata": {},
   "outputs": [
    {
     "name": "stdout",
     "output_type": "stream",
     "text": [
      "list: [0]                     ans: [0]\n",
      "list: [1, 4, 3, 2, 5]         ans: [25, 16, 9, 4, 1]\n",
      "list: [-2, -5, 2, 3, 1, -10]  ans: [9, 4, 1]\n",
      "list: [-1, -2]                ans: []\n"
     ]
    }
   ],
   "source": [
    "def task_07_func(lst):\n",
    "    i = 0\n",
    "    it = len(lst)\n",
    "    while it > 0:\n",
    "        it -= 1\n",
    "        if lst[i] < 0:\n",
    "            lst.remove(lst[i])\n",
    "        else:\n",
    "            lst[i] = lst[i] ** 2\n",
    "            i += 1\n",
    "    return(sorted(lst, reverse=True))\n",
    "\n",
    "\n",
    "test_07()"
   ]
  },
  {
   "cell_type": "markdown",
   "metadata": {},
   "source": [
    "__Задание 8 (1 балл):__ Напишите функцию, которая принимает на вход список кортежей одинаковой длины и индекс `index` элемента в кортеже и возвращает генератор, итерирование по которому позволит получит все кортежи входного списка, отсортированные по убыванию элементов этих кортежей с индексом `index`."
   ]
  },
  {
   "cell_type": "code",
   "execution_count": 15,
   "metadata": {},
   "outputs": [
    {
     "name": "stdout",
     "output_type": "stream",
     "text": [
      "(list, index): ([(1, 1, 2), (0, 5, -1), (5, -7, 3)], 1)\n",
      "ans ([elem for elem in *generator*]):     [(0, 5, -1), (1, 1, 2), (5, -7, 3)]\n",
      "(list, index): ([0], 0)                           \n",
      "ans ([elem for elem in *generator*]):     [0]\n",
      "(list, index): ([(0, 1, 2), (0, 0, 5)], 2)        \n",
      "ans ([elem for elem in *generator*]):     [(0, 0, 5), (0, 1, 2)]\n"
     ]
    }
   ],
   "source": [
    "def task_08_func(lst, index):\n",
    "    if isinstance(lst[0], int):\n",
    "        out = sorted(lst, reverse=True)\n",
    "    else:\n",
    "        out = sorted(lst, key=lambda elem: elem[index], reverse=True)\n",
    "    for elem in out:\n",
    "        yield elem\n",
    "    \n",
    "    \n",
    "def test_08():\n",
    "    for lst, index in zip([[(1, 1, 2), (0, 5, -1), (5, -7, 3)],\n",
    "                [0],\n",
    "                [(0,1,2), (0, 0, 5)]],\n",
    "                   [1, 0, 2]):\n",
    "        print(f\"(list, index): {lst, index}\".ljust(50))\n",
    "        print(f\"ans ([elem for elem in *generator*]): \".ljust(42), end='')\n",
    "        print([elem for elem in task_08_func(lst, index)])\n",
    "        \n",
    "\n",
    "test_08()"
   ]
  },
  {
   "cell_type": "markdown",
   "metadata": {},
   "source": [
    "__Задание 9 (1 балл):__ Напишите функцию, которая получает на вход натуральное число `n` и выводит первые `n` строк треугольника Паскаля."
   ]
  },
  {
   "cell_type": "code",
   "execution_count": 16,
   "metadata": {
    "scrolled": true
   },
   "outputs": [
    {
     "name": "stdout",
     "output_type": "stream",
     "text": [
      " 1  \n",
      "1 1 \n",
      "\n",
      "    1     \n",
      "   1 1    \n",
      "  1 2 1   \n",
      " 1 3 3 1  \n",
      "1 4 6 4 1 \n",
      "\n",
      "           1            \n",
      "         1  1           \n",
      "        1  2  1         \n",
      "      1  3  3  1        \n",
      "     1  4  6  4  1      \n",
      "   1  5  10 10 5  1     \n",
      "  1  6  15 20 15 6  1   \n",
      "1  7  21 35 35 21 7  1  \n",
      "\n",
      "                     1                      \n",
      "                   1   1                    \n",
      "                 1   2   1                  \n",
      "               1   3   3   1                \n",
      "             1   4   6   4   1              \n",
      "           1   5   10  10  5   1            \n",
      "         1   6   15  20  15  6   1          \n",
      "       1   7   21  35  35  21  7   1        \n",
      "     1   8   28  56  70  56  28  8   1      \n",
      "   1   9   36  84 126 126  84  36  9   1    \n",
      " 1   10  45 120 210 252 210 120  45  10  1  \n",
      "\n"
     ]
    }
   ],
   "source": [
    "# положим строку из единственной единицы нулевой \n",
    "# и будем выводить строки до n-й включительно\n",
    "\n",
    "import math\n",
    "def task_09_func(n):\n",
    "    max_num_len = len(str(math.comb(n, n//2)))\n",
    "    \n",
    "    def good_string(n, max_num_len = max_num_len):\n",
    "        return str(n).center(max_num_len)\n",
    "    \n",
    "    if n == 0:\n",
    "        print(\"\")\n",
    "        return\n",
    "    lines = ['1']\n",
    "    for i in range(1, n+1):  \n",
    "        prev_line = list(map(int, lines[i-1].split()))\n",
    "        new_line = [0] * (i + 1)\n",
    "        for j in range(i):\n",
    "            new_line[j] += prev_line[j]\n",
    "            new_line[j+1] += prev_line[j]\n",
    "        lines.append(' '.join(map(good_string, new_line)))\n",
    "        \n",
    "    print(\"\\n\".join([line.center(len(lines[-1])+1, ' ') for line in lines]))\n",
    "\n",
    "for i in range(1, 13, 3):  \n",
    "    task_09_func(i)\n",
    "    print()\n"
   ]
  },
  {
   "cell_type": "markdown",
   "metadata": {},
   "source": [
    "__Задание 10 (1 балл):__ Напишите функцию, которая принимает на вход абсолютный путь к директории и две строки с расширениями файлов. В результате её выполнения у всех файлов в указанной директории, имеющих первое расширение, расширение должно измениться на второе. В конце работы функция должна возвращать кортеж из двух элементов:\n",
    "\n",
    "1. сколько всего в директории файлов (именно файлов, не директорий);\n",
    "2. у скольки из них расширение было изменено.\n",
    "\n",
    "Допускается только один проход по каждому файлу из указанной директории."
   ]
  },
  {
   "cell_type": "code",
   "execution_count": 17,
   "metadata": {},
   "outputs": [
    {
     "name": "stdout",
     "output_type": "stream",
     "text": [
      "initial state:\n",
      "   test_10\\doc123.docx\n",
      "   test_10\\folder123\n",
      "   test_10\\folder456\n",
      "   test_10\\png123.bmp\n",
      "   test_10\\txt123.txt\n",
      "\n",
      "ans (n_files, n_changes): (3, 1) \n",
      "\n",
      "final state:\n",
      "   test_10\\doc123.docx\n",
      "   test_10\\folder123\n",
      "   test_10\\folder456\n",
      "   test_10\\png123.bmp\n",
      "   test_10\\txt123.docx\n",
      "\n"
     ]
    }
   ],
   "source": [
    "import pathlib\n",
    "import os\n",
    "import glob\n",
    "import shutil\n",
    "\n",
    "def task_10_func(dir_path, prev_extension, next_extension):\n",
    "    iterable_paths = pathlib.Path(dir_path)\n",
    "    count_files = 0\n",
    "    count_changes = 0\n",
    "    for f in iterable_paths.iterdir():\n",
    "        if f.is_file():\n",
    "            name, ext = os.path.splitext(f)\n",
    "            if ext == prev_extension:\n",
    "                os.rename(f, name + next_extension)\n",
    "                count_changes += 1\n",
    "            count_files += 1\n",
    "    return count_files, count_changes\n",
    "\n",
    "\n",
    "test_dir = 'test_10'\n",
    "test_dirs = ['folder123', 'folder456']\n",
    "test_files = ['doc123.docx', 'png123.bmp', 'txt123.txt', 'txt123.txt']\n",
    "try: \n",
    "    os.mkdir(test_dir) \n",
    "except:\n",
    "    pass\n",
    "    \n",
    "for f in test_dirs:\n",
    "    try: \n",
    "        os.mkdir(test_dir + \"\\\\\" + f) \n",
    "    except:\n",
    "        pass\n",
    "for f in test_files:\n",
    "    with open(test_dir + \"\\\\\" + f, 'w'):\n",
    "        pass\n",
    "\n",
    "prev_extension = '.txt'\n",
    "next_extension = '.docx'\n",
    "\n",
    "#print(f\"initial state:\\n   {glob.glob(test_dir + '/*')}\\n\")\n",
    "print(f\"initial state:\")\n",
    "[print('   ' + elem) for elem in glob.glob(test_dir + '/*')]\n",
    "print()\n",
    "print(f\"ans (n_files, n_changes): \", end='')\n",
    "print(task_10_func(test_dir, prev_extension, next_extension),\"\\n\")\n",
    "print(f\"final state:\")\n",
    "[print('   ' + elem) for elem in glob.glob(test_dir + '/*')]\n",
    "print()\n",
    "\n",
    "if os.path.exists(test_dir):\n",
    "    shutil.rmtree(test_dir)"
   ]
  },
  {
   "cell_type": "markdown",
   "metadata": {},
   "source": [
    "__Задание 11 (1 балл):__ Описать функцию, которая принимает на вход два списка и возвращает список уникальных элементов, которые есть в первом входном списке и отсутствуют во втором. Запрещается использовать циклы и списковые включения/генераторы списков."
   ]
  },
  {
   "cell_type": "code",
   "execution_count": 18,
   "metadata": {},
   "outputs": [
    {
     "name": "stdout",
     "output_type": "stream",
     "text": [
      "(first_list, second_list): ([1, 2, 5, 5, -1], [1, 0, 2])    ans: [5, -1]\n",
      "(first_list, second_list): ([], [0, 0, 0])                  ans: []\n",
      "(first_list, second_list): ([1, 2, 3], [1, 2, 3])           ans: []\n",
      "(first_list, second_list): ([1, 2, 3], [4, 5, 6])           ans: [1, 2, 3]\n"
     ]
    }
   ],
   "source": [
    "def task_11_func(first_list, second_list):\n",
    "    return list(set(first_list).difference(set(second_list)))\n",
    "\n",
    "\n",
    "def test_11():\n",
    "    for f_lst, s_lst in zip([[1, 2, 5, 5, -1], [], [1, 2, 3], [1, 2, 3]],\n",
    "                   [[1, 0, 2], [0,0,0], [1, 2, 3], [4, 5, 6]]):\n",
    "        print(f\"(first_list, second_list): {f_lst, s_lst}\".ljust(60), end='')\n",
    "        print(f\"ans: \".ljust(5), end='')\n",
    "        print(task_11_func(f_lst, s_lst))\n",
    "        \n",
    "\n",
    "test_11()"
   ]
  },
  {
   "cell_type": "markdown",
   "metadata": {},
   "source": [
    "__Задание 12 (1 балл):__ Напишите функцию, которая получает на вход путь к файлу, в котором в каждой строке записано одно вещественное число, а также путь к выходному файлу. Функция должна прочитать содержимое файла, игнорировать строки с нечётными индексами, а строки с чётными индексами должна увеличить на минимальное из чисел, содержащихся в этом файле. Полученные числа нужно записать в выходной файл с точностью 5 знаков после запятой.\n",
    "\n",
    "Требуется сделать не более двух проходов по входному файлу, расход памяти на протяжении работы должен быть O(1) (то есть никак не зависеть от числа строк во входном файле)."
   ]
  },
  {
   "cell_type": "code",
   "execution_count": 19,
   "metadata": {},
   "outputs": [
    {
     "name": "stdout",
     "output_type": "stream",
     "text": [
      "Input file: \n",
      "  1.50001\n",
      "  0.500001\n",
      "  5.500001\n",
      "  1.2\n",
      "  2.854\n",
      "\n",
      "Output file: \n",
      "  2.00001\n",
      "  6.0\n",
      "  3.354\n"
     ]
    }
   ],
   "source": [
    "def task_12_func(input_path, output_path):\n",
    "    min_ = None\n",
    "    line_count = 0\n",
    "    with open(input_path, \"r\") as f:\n",
    "        line = f.readline()\n",
    "        if len(line) != 0:\n",
    "            min_ = float(line)\n",
    "            line_count += 1\n",
    "        else:\n",
    "            with open(ouput_path, \"w\"):\n",
    "                pass\n",
    "            return\n",
    "            \n",
    "        while True:\n",
    "            line = f.readline()\n",
    "            if len(line) == 0:\n",
    "                break\n",
    "            line_count += 1\n",
    "            min_ = min(min_, float(line))\n",
    "    \n",
    "    with open(input_path, \"r\") as r_f, open(output_path, \"w\") as w_f:\n",
    "        for i in range(line_count):\n",
    "            line = r_f.readline()\n",
    "            if i % 2 != 0:\n",
    "                continue\n",
    "            w_f.write(str(round(float(line) + min_, 5)) + \"\\n\")\n",
    "\n",
    "\n",
    "input_path = \"test_12_input.txt\"\n",
    "output_path = \"test_12_output.txt\"\n",
    "\n",
    "inp = \"1.50001\\n0.500001\\n5.500001\\n1.2\\n2.854\"\n",
    "\n",
    "\n",
    "with open(input_path, \"w\") as in_f, open(output_path, \"w\") as out_f:\n",
    "    in_f.write(inp)\n",
    "\n",
    "\n",
    "def test_12():\n",
    "    with open(input_path, \"r\") as in_f:\n",
    "        print(\"Input file: \")\n",
    "        [print(\"  \" + line, end='') for line in in_f.readlines()]\n",
    "    task_12_func(input_path, output_path)\n",
    "    print(\"\\n\")\n",
    "    with open(output_path, \"r\") as out_f:\n",
    "        print(\"Output file: \")\n",
    "        [print(\"  \" + line, end='') for line in out_f.readlines()]\n",
    "    \n",
    "    \n",
    "test_12()"
   ]
  },
  {
   "cell_type": "markdown",
   "metadata": {},
   "source": [
    "__Задание 13 (1 балл):__ Написать функцию, которая принимает на вход число `n`, которое может быть либо натуральным, либо -1, и возвращает генератор чисел Фиббоначи. Если входной параметр равен натуральному числу, то генератор должен выдавать последовательно числа Фиббоначи до `n`-го. Если `n` равно -1, то генератор должен быть бесконечным."
   ]
  },
  {
   "cell_type": "code",
   "execution_count": 20,
   "metadata": {},
   "outputs": [
    {
     "name": "stdout",
     "output_type": "stream",
     "text": [
      "input: 1    ans:  1 \n",
      "input: 2    ans:  1 1 \n",
      "input: 5    ans:  1 1 2 3 5 \n",
      "input: 10   ans:  1 1 2 3 5 8 13 21 34 55 \n",
      "input: -1   ans:  Infinite generator, let's print numbers less than 1e+10:\n",
      "\n",
      "   1 1 2 3 5 8 13 21 34 55 89 144 233 377 610 987 1597 2584 4181 6765 10946 17711 28657 46368 75025 121393 196418 317811 514229 832040 1346269 2178309 3524578 5702887 9227465 14930352 24157817 39088169 63245986 102334155 165580141 267914296 433494437 701408733 1134903170 1836311903 2971215073 4807526976 7778742049 "
     ]
    }
   ],
   "source": [
    "def task_13_func(n):\n",
    "    cur_num = [0, 1]\n",
    "    if n == -1:\n",
    "        while True:\n",
    "            out = cur_num[-1]\n",
    "            cur_num[0], cur_num[1] = cur_num[1], cur_num[0] + cur_num[1]\n",
    "            yield out\n",
    "    else:\n",
    "        for i in range(n):\n",
    "            out = cur_num[-1]\n",
    "            cur_num[0], cur_num[1] = cur_num[1], cur_num[0] + cur_num[1]\n",
    "            yield out\n",
    "            \n",
    "\n",
    "def test_13(stop_if_inf):\n",
    "    for n in [1, 2, 5, 10, -1]:\n",
    "        if n != -1:\n",
    "            print(f\"input: {n}\".ljust(12), end='')\n",
    "            print(f\"ans: \".ljust(6), end='')\n",
    "            [print(str(num) + ' ', end='') for num in task_13_func(n)]\n",
    "            print()\n",
    "        else:\n",
    "            print(f\"input: {n}\".ljust(12), end='')\n",
    "            print(f\"ans: \".ljust(6), end='')\n",
    "            print(f\"Infinite generator, let's print numbers less than {stop_if_inf:.0e}:\\n\\n   \", end='')\n",
    "            for num in task_13_func(n):\n",
    "                if num < stop_if_inf:\n",
    "                    print(str(num) + ' ', end='')\n",
    "                else:\n",
    "                    break\n",
    "\n",
    "                    \n",
    "stop_if_inf = 1e10         \n",
    "test_13(stop_if_inf)"
   ]
  },
  {
   "cell_type": "markdown",
   "metadata": {},
   "source": [
    "__Задание 14 (1 балл):__ Написать функцию, которая принимает на вход произвольный объект, проверяет его тип, и для целого числа возвращает список всех магических методов объекта, начинающихся с `__a`, для строк - с `__s`. Для всех прочих типов должен возвращаться список немагических методов. В задании запрещается использовать циклы и списковые включения/генераторы списков."
   ]
  },
  {
   "cell_type": "code",
   "execution_count": 21,
   "metadata": {},
   "outputs": [
    {
     "name": "stdout",
     "output_type": "stream",
     "text": [
      "input type: <class 'int'>\n",
      "ans: \n",
      "  __add__\n",
      "  __abs__\n",
      "  __and__\n",
      "\n",
      "input type: <class 'float'>\n",
      "ans: \n",
      "  conjugate\n",
      "  as_integer_ratio\n",
      "  fromhex\n",
      "  hex\n",
      "  is_integer\n",
      "  real\n",
      "  imag\n",
      "\n",
      "input type: <class 'list'>\n",
      "ans: \n",
      "  clear\n",
      "  copy\n",
      "  append\n",
      "  insert\n",
      "  extend\n",
      "  pop\n",
      "  remove\n",
      "  index\n",
      "  count\n",
      "  reverse\n",
      "  sort\n",
      "\n",
      "input type: <class 'str'>\n",
      "ans: \n",
      "  __str__\n",
      "  __sizeof__\n",
      "  __setattr__\n",
      "  __subclasshook__\n",
      "\n"
     ]
    }
   ],
   "source": [
    "import re\n",
    "   \n",
    "    \n",
    "def task_14_func(n):\n",
    "    if isinstance(n, int):\n",
    "        return list(filter(lambda method: re.search(\"__a\", method), n.__dir__()))\n",
    "    elif isinstance(n, str):\n",
    "        return list(filter(lambda method: re.search(\"__s\", method), n.__dir__()))\n",
    "    else:\n",
    "        return list(filter(lambda method: not re.search(r\"__.*__\", method), n.__dir__()))   \n",
    "    \n",
    "    \n",
    "def test_14():\n",
    "    for obj in [5, 1.2, [1,2,3], '123']:\n",
    "        print(f\"input type: {type(obj)}\".ljust(25))\n",
    "        print(f\"ans: \".ljust(5))\n",
    "        [print(\"  \" + method) for method in task_14_func(obj)]\n",
    "        print()\n",
    "\n",
    "\n",
    "test_14()"
   ]
  },
  {
   "cell_type": "markdown",
   "metadata": {},
   "source": [
    "__Задание 15 (1.5 балла):__ Написать функцию, которая во входной строке заменяет вхождения всех английских заглавных букв на их номер в таблице ASCII, затем производит сплит по минимальной из цифр строки. Предложите как минимум два различных решения, одно из которых не должно использовать циклы. При использовании циклов допускается не более двух проходов по строке."
   ]
  },
  {
   "cell_type": "code",
   "execution_count": 22,
   "metadata": {},
   "outputs": [
    {
     "name": "stdout",
     "output_type": "stream",
     "text": [
      "input string:                      A1bC1233212E\n",
      "input string ASCII for capital:    651b67123321269\n",
      "ans:                               ['65', 'b67', '2332', '269']\n",
      "\n",
      "input string:                      1023aDjFPZPg\n",
      "input string ASCII for capital:    1023a68j70809080g\n",
      "ans:                               ['1', '23a68j7', '8', '9', '8', 'g']\n",
      "\n",
      "input string:                      123123123\n",
      "input string ASCII for capital:    123123123\n",
      "ans:                               ['', '23', '23', '23']\n",
      "\n",
      "input string:                      abcabc\n",
      "input string ASCII for capital:    abcabc\n",
      "ans:                               ['abcabc']\n",
      "\n",
      "input string:                      aBCaBC\n",
      "input string ASCII for capital:    a6667a6667\n",
      "ans:                               ['a', '', '', '7a', '', '', '7']\n",
      "\n"
     ]
    }
   ],
   "source": [
    "def task_15_func(n):\n",
    "    lst = \"\".join([elem if not elem.isupper() else str(elem.encode('ascii')[0]) for elem in n])\n",
    "    min_number = min(list(map(int, re.findall(r'\\d', lst)))) if re.findall(r'\\d', lst) else 0\n",
    "    return (''.join(lst)).split(str(min_number))\n",
    "\n",
    "\n",
    "def test_15():\n",
    "    for s in ['A1bC1233212E',\n",
    "              '1023aDjFPZPg',\n",
    "              '123123123',\n",
    "              'abcabc',\n",
    "              'aBCaBC']:\n",
    "        print(\"input string: \".ljust(35), end='')\n",
    "        print(s)\n",
    "        print(\"input string ASCII for capital: \".ljust(35), end='')\n",
    "        print(\"\".join([elem if not elem.isupper() else str(elem.encode('ascii')[0]) for elem in s]))\n",
    "        print(f\"ans: \".ljust(35), end='')\n",
    "        print(task_15_func(s))\n",
    "        print()\n",
    "        \n",
    "\n",
    "test_15()"
   ]
  },
  {
   "cell_type": "code",
   "execution_count": 23,
   "metadata": {},
   "outputs": [
    {
     "name": "stdout",
     "output_type": "stream",
     "text": [
      "input string:                      A1bC1233212E\n",
      "input string ASCII for capital:    651b67123321269\n",
      "ans:                               ['65', 'b67', '2332', '269']\n",
      "\n",
      "input string:                      1023aDjFPZPg\n",
      "input string ASCII for capital:    1023a68j70809080g\n",
      "ans:                               ['1', '23a68j7', '8', '9', '8', 'g']\n",
      "\n",
      "input string:                      123123123\n",
      "input string ASCII for capital:    123123123\n",
      "ans:                               ['', '23', '23', '23']\n",
      "\n",
      "input string:                      abcabc\n",
      "input string ASCII for capital:    abcabc\n",
      "ans:                               ['abcabc']\n",
      "\n",
      "input string:                      aBCaBC\n",
      "input string ASCII for capital:    a6667a6667\n",
      "ans:                               ['a', '', '', '7a', '', '', '7']\n",
      "\n"
     ]
    }
   ],
   "source": [
    "def make_good(elem):\n",
    "    return elem if not elem.isupper() else str(elem.encode('ascii')[0])\n",
    "                                               \n",
    "\n",
    "def task_15_func(n):\n",
    "    lst = ''.join(list(map(make_good, n)))\n",
    "    min_number = min(list(map(int, re.findall(r'\\d', lst)))) if re.findall(r'\\d', lst) else 0\n",
    "    return (''.join(lst)).split(str(min_number))          \n",
    "                     \n",
    "\n",
    "test_15()"
   ]
  },
  {
   "cell_type": "markdown",
   "metadata": {},
   "source": [
    "__Задание 16 (1.5 балла):__ Написать функцию, которая принимает на вход строку и извлекает из неё мобильные телефонные номера с помощью регулярных выражений. Функция должна поддерживать общепринятые варианты написания номера, как со всевозможными разделителями, так и без них (обеспечьте поддержку не менее 10 различных случаев). Возвращаемым значением функции является список всех найденных в строке номеров, если их не было, нужно вернуть пустой список."
   ]
  },
  {
   "cell_type": "code",
   "execution_count": 24,
   "metadata": {},
   "outputs": [
    {
     "name": "stdout",
     "output_type": "stream",
     "text": [
      "input string: option 1: 8 888 888 88 88         ans: ['8 888 888 88 88']\n",
      "\n",
      "input string: option 2: 8 888 888 8888          ans: ['8 888 888 8888']\n",
      "\n",
      "input string: option 3: 88888888888             ans: ['88888888888']\n",
      "\n",
      "input string: option 4: 8(888)8888888           ans: ['8(888)8888888']\n",
      "\n",
      "input string: option 5: 8-888-888-88-88         ans: ['8-888-888-88-88']\n",
      "\n",
      "input string: option 6: 8 888 888-88-88         ans: ['8 888 888-88-88']\n",
      "\n",
      "input string: option 7: 8 888 888-8888          ans: ['8 888 888-8888']\n",
      "\n",
      "input string: option 8: 8 (888) 888 88 88       ans: ['8 (888) 888 88 88']\n",
      "\n",
      "input string: option 9: 8 (888) 888-88-88       ans: ['8 (888) 888-88-88']\n",
      "\n",
      "input string: option 10: 8 (888) 888-8888       ans: ['8 (888) 888-8888']\n",
      "\n",
      "input string: option 11: 8(888)888-88-88        ans: ['8(888)888-88-88']\n",
      "\n",
      "input string: option 12: 8(888)888-8888         ans: ['8(888)888-8888']\n",
      "\n",
      "input string: option 13: +7 888 888 88 88       ans: ['+7 888 888 88 88']\n",
      "\n",
      "input string: option 14: +7 888 888 8888        ans: ['+7 888 888 8888']\n",
      "\n",
      "input string: option 15: +78888888888           ans: ['+78888888888']\n",
      "\n",
      "input string: option 16: +7(888)8888888         ans: ['+7(888)8888888']\n",
      "\n",
      "input string: option 17: +7-888-888-88-88       ans: ['+7-888-888-88-88']\n",
      "\n",
      "input string: option 18: +7 888 888-88-88       ans: ['+7 888 888-88-88']\n",
      "\n",
      "input string: option 19: +7 888 888-8888        ans: ['+7 888 888-8888']\n",
      "\n",
      "input string: option 20: +7 (888) 888 88 88     ans: ['+7 (888) 888 88 88']\n",
      "\n",
      "input string: option 21: +7 (888) 888-88-88     ans: ['+7 (888) 888-88-88']\n",
      "\n",
      "input string: option 22: +7 (888) 888-8888      ans: ['+7 (888) 888-8888']\n",
      "\n",
      "input string: option 23: +7(888)888-88-88       ans: ['+7(888)888-88-88']\n",
      "\n",
      "input string: option 24: +7(888)888-8888        ans: ['+7(888)888-8888']\n",
      "\n",
      "input string: all toghether:8 888 888 88 88\n",
      "SOME RANDOM TEXT8 888 888 8888\n",
      "SOME RANDOM TEXT88888888888\n",
      "8(888)8888888\n",
      "SOME RANDOM TEXT8-888-888-88-88\n",
      "SOME RANDOM TEXT8 888 888-88-88\n",
      "8 888 888-8888\n",
      "8 (888) 888 88 88\n",
      "8 (888) 888-88-88\n",
      "8 (888) 888-8888\n",
      "8(888)888-88-88\n",
      "8(888)888-8888\n",
      "+7 888 888 88 88\n",
      "+7 888 888 8888SOME RANDOM TEXT\n",
      "SOME RANDOM TEXT+78888888888\n",
      "+7(888)8888888\n",
      "+7-888-888-88-88SOME RANDOM TEXT\n",
      "+7 888 888-88-88\n",
      "+7 888 888-8888\n",
      "+7 (888) 888 88 88\n",
      "+7 (888) 888-88-88SOME RANDOM TEXT\n",
      "+7 (888) 888-8888\n",
      "SOME RANDOM TEXT+7(888)888-88-88\n",
      "+7(888)888-8888\n",
      "\n",
      "ans: ['8 888 888 88 88', '8 888 888 8888', '88888888888', '8(888)8888888', '8-888-888-88-88', '8 888 888-88-88', '8 888 888-8888', '8 (888) 888 88 88', '8 (888) 888-88-88', '8 (888) 888-8888', '8(888)888-88-88', '8(888)888-8888', '+7 888 888 88 88', '+7 888 888 8888', '+78888888888', '+7(888)8888888', '+7-888-888-88-88', '+7 888 888-88-88', '+7 888 888-8888', '+7 (888) 888 88 88', '+7 (888) 888-88-88', '+7 (888) 888-8888', '+7(888)888-88-88', '+7(888)888-8888']\n",
      "\n"
     ]
    }
   ],
   "source": [
    "def task_16_func(n):\n",
    "    return re.findall(r'[+]?\\d{1}[ -]?[(]?\\d{3}[)]?[ -]?\\d{3}[ -]?\\d{2}[ -]?\\d{2}',  n)\n",
    "\n",
    "\n",
    "def test_16():\n",
    "    for string in [\"option 1: 8 888 888 88 88\",\n",
    "                   \"option 2: 8 888 888 8888\",\n",
    "                   \"option 3: 88888888888\",\n",
    "                   \"option 4: 8(888)8888888\",\n",
    "                   \"option 5: 8-888-888-88-88\",\n",
    "                   \"option 6: 8 888 888-88-88\",\n",
    "                   \"option 7: 8 888 888-8888\",\n",
    "                   \"option 8: 8 (888) 888 88 88\",\n",
    "                   \"option 9: 8 (888) 888-88-88\",\n",
    "                   \"option 10: 8 (888) 888-8888\",\n",
    "                   \"option 11: 8(888)888-88-88\",\n",
    "                   \"option 12: 8(888)888-8888\",\n",
    "                   \"option 13: +7 888 888 88 88\",\n",
    "                   \"option 14: +7 888 888 8888\",\n",
    "                   \"option 15: +78888888888\",\n",
    "                   \"option 16: +7(888)8888888\",\n",
    "                   \"option 17: +7-888-888-88-88\",\n",
    "                   \"option 18: +7 888 888-88-88\",\n",
    "                   \"option 19: +7 888 888-8888\",\n",
    "                   \"option 20: +7 (888) 888 88 88\",\n",
    "                   \"option 21: +7 (888) 888-88-88\",\n",
    "                   \"option 22: +7 (888) 888-8888\",\n",
    "                   \"option 23: +7(888)888-88-88\",\n",
    "                   \"option 24: +7(888)888-8888\",\n",
    "                   \"all toghether:8 888 888 88 88\\nSOME RANDOM TEXT8 888 888 8888\\nSOME RANDOM TEXT88888888888\\n8(888)8888888\\nSOME RANDOM TEXT8-888-888-88-88\\nSOME RANDOM TEXT8 888 888-88-88\\n8 888 888-8888\\n8 (888) 888 88 88\\n8 (888) 888-88-88\\n8 (888) 888-8888\\n8(888)888-88-88\\n8(888)888-8888\\n+7 888 888 88 88\\n+7 888 888 8888SOME RANDOM TEXT\\nSOME RANDOM TEXT+78888888888\\n+7(888)8888888\\n+7-888-888-88-88SOME RANDOM TEXT\\n+7 888 888-88-88\\n+7 888 888-8888\\n+7 (888) 888 88 88\\n+7 (888) 888-88-88SOME RANDOM TEXT\\n+7 (888) 888-8888\\nSOME RANDOM TEXT+7(888)888-88-88\\n+7(888)888-8888\\n\\n\"]:\n",
    "        \n",
    "        print(f\"input string: {string}\".ljust(48), end='')\n",
    "        print(f\"ans: \".ljust(5), end='')\n",
    "        print(task_16_func(string))\n",
    "        print()\n",
    "        \n",
    "\n",
    "test_16()"
   ]
  },
  {
   "cell_type": "markdown",
   "metadata": {},
   "source": [
    "__Задание 17 (5 баллов):__ Опишем бинарное дерево, представленное в виде вложенных кортежей, в каждом узле дерева хранится вещественное число и ссылка на левое и правое поддерево.\n",
    "\n",
    "Пример: для сбалансированного дерева\n",
    "\n",
    "```\n",
    "        v_0\n",
    "       /   \\\n",
    "   v_11     v_12\n",
    "  /  \\       /  \\\n",
    "v_21 v_22  v_23 v_24\n",
    "```\n",
    "\n",
    "представление в виде кортежей будет выглядеть так:\n",
    "\n",
    "```\n",
    "(v_0,\n",
    "    (v_11,\n",
    "        (v_21, None, None),\n",
    "        (v_22, None, None)\n",
    "    ),\n",
    "    (v_12,\n",
    "        (v_23, None, None),\n",
    "        (v_24, None, None)\n",
    "    )\n",
    ")\n",
    "```\n",
    "\n",
    "Необходимо написать функцию, которая принимает на вход бинарное дерево (не обязательно сбалансированное), закодированное описанным способом в виде кортежа, производит его обход в глубину и для каждой листовой вершины вычисляет сумму всех значений от корня до неё включительно. Функция ничего не возвращает, вместо этого она выводит получаемые суммы в порядке следования листовых вершин (слева направо).\n",
    "\n",
    "Реализуйте два решения: на основе рекурсии и на основе циклов."
   ]
  },
  {
   "cell_type": "code",
   "execution_count": 25,
   "metadata": {},
   "outputs": [
    {
     "name": "stdout",
     "output_type": "stream",
     "text": [
      "Tree: \n",
      "  _3_  \n",
      " /   \\ \n",
      " 1   4 \n",
      "/ \\ / \\\n",
      "0 2 3 5\n",
      "\n",
      "ans:  4 6 10 12 \n",
      "\n",
      "Tree: \n",
      "    _4\n",
      "   /  \n",
      "   3  \n",
      "  / \\ \n",
      "  2 4 \n",
      " /    \n",
      " 1    \n",
      "/     \n",
      "0     \n",
      "\n",
      "ans:  10 11 \n",
      "\n",
      "Tree: \n",
      "5\n",
      "\n",
      "ans:  5 \n",
      "\n"
     ]
    }
   ],
   "source": [
    "class Node():\n",
    "    def __init__(self, value=None):\n",
    "        self.left = None\n",
    "        self.right = None\n",
    "        self.value = value\n",
    "        self.counter = value\n",
    "        self.f = False\n",
    "    \n",
    "    def print_height_recursive(self):\n",
    "        if self.left is None and self.right is None:\n",
    "            print(self.counter, end=' ')\n",
    "            return\n",
    "        \n",
    "        if self.left is not None:\n",
    "            self.left.counter += self.counter\n",
    "            self.left.print_height_recursive()\n",
    "        if self.right is not None:\n",
    "            self.right.counter += self.counter\n",
    "            self.right.print_height_recursive()\n",
    "    \n",
    "    def print_height_iterative(self):\n",
    "        stack = [self]\n",
    "        while len(stack) > 0:\n",
    "            node = stack[-1]\n",
    "            node.f = True\n",
    "            if node.left is not None and not node.left.f:\n",
    "                node.left.counter += node.counter\n",
    "                stack.append(node.left)\n",
    "            elif node.right is not None and not node.right.f:\n",
    "                node.right.counter += node.counter\n",
    "                stack.append(node.right)\n",
    "            else:\n",
    "                if node.left is None and node.right is None:\n",
    "                    print(node.counter, end=' ')\n",
    "                stack.pop()\n",
    "                \n",
    "\n",
    "\n",
    "# Фукнция для визуализации дерева честно украдена с \n",
    "# https://stackoverflow.com/questions/34012886/print-binary-tree-level-by-level-in-python   \n",
    "\n",
    "def print_tree(root, val=\"value\", left=\"left\", right=\"right\"):\n",
    "    def display(root, val=val, left=left, right=right):\n",
    "        \"\"\"Returns list of strings, width, height, and horizontal coordinate of the root.\"\"\"\n",
    "        # No child.\n",
    "        if getattr(root, right) is None and getattr(root, left) is None:\n",
    "            line = '%s' % getattr(root, val)\n",
    "            width = len(line)\n",
    "            height = 1\n",
    "            middle = width // 2\n",
    "            return [line], width, height, middle\n",
    "\n",
    "        # Only left child.\n",
    "        if getattr(root, right) is None:\n",
    "            lines, n, p, x = display(getattr(root, left))\n",
    "            s = '%s' % getattr(root, val)\n",
    "            u = len(s)\n",
    "            first_line = (x + 1) * ' ' + (n - x - 1) * '_' + s\n",
    "            second_line = x * ' ' + '/' + (n - x - 1 + u) * ' '\n",
    "            shifted_lines = [line + u * ' ' for line in lines]\n",
    "            return [first_line, second_line] + shifted_lines, n + u, p + 2, n + u // 2\n",
    "\n",
    "        # Only right child.\n",
    "        if getattr(root, left) is None:\n",
    "            lines, n, p, x = display(getattr(root, right))\n",
    "            s = '%s' % getattr(root, val)\n",
    "            u = len(s)\n",
    "            first_line = s + x * '_' + (n - x) * ' '\n",
    "            second_line = (u + x) * ' ' + '\\\\' + (n - x - 1) * ' '\n",
    "            shifted_lines = [u * ' ' + line for line in lines]\n",
    "            return [first_line, second_line] + shifted_lines, n + u, p + 2, u // 2\n",
    "\n",
    "        # Two children.\n",
    "        left, n, p, x = display(getattr(root, left))\n",
    "        right, m, q, y = display(getattr(root, right))\n",
    "        s = '%s' % getattr(root, val)\n",
    "        u = len(s)\n",
    "        first_line = (x + 1) * ' ' + (n - x - 1) * '_' + s + y * '_' + (m - y) * ' '\n",
    "        second_line = x * ' ' + '/' + (n - x - 1 + u + y) * ' ' + '\\\\' + (m - y - 1) * ' '\n",
    "        if p < q:\n",
    "            left += [n * ' '] * (q - p)\n",
    "        elif q < p:\n",
    "            right += [m * ' '] * (p - q)\n",
    "        zipped_lines = zip(left, right)\n",
    "        lines = [first_line, second_line] + [a + u * ' ' + b for a, b in zipped_lines]\n",
    "        return lines, n + m + u, max(p, q) + 2, n + u // 2\n",
    "\n",
    "    lines, *_ = display(root, val, left, right)\n",
    "    for line in lines:\n",
    "        print(line)\n",
    "\n",
    "        \n",
    "def tree_from_weird_tree(tr):\n",
    "    l = 1\n",
    "    r = 2\n",
    "    if len(tr) == 0:\n",
    "        return None\n",
    "    \n",
    "    root = Node(tr[0])\n",
    "    \n",
    "    if tr[l] is not None:\n",
    "        root.left = tree_from_weird_tree(tr[l])\n",
    "    if tr[r] is not None:\n",
    "        root.right = tree_from_weird_tree(tr[r])\n",
    "    \n",
    "    return root\n",
    "\n",
    "    \n",
    "def task_17_func(tree):\n",
    "    root = tree_from_weird_tree(tree)\n",
    "    root.print_height_recursive()\n",
    "    \n",
    "\n",
    "trees = [(3, (1,\n",
    "                (0, None, None),\n",
    "                (2, None, None)),\n",
    "             (4,\n",
    "                (3, None, None),\n",
    "                (5, None, None))),\n",
    "         (4, (3,\n",
    "                (2, (1,\n",
    "                        (0, None, None), \n",
    "                         None), \n",
    "                     None),\n",
    "                (4, None, None)),\n",
    "             None), \n",
    "         (5, None, None)]\n",
    "\n",
    "\n",
    "def test_17():\n",
    "    for tree in trees:\n",
    "        print(\"Tree: \")\n",
    "        root = tree_from_weird_tree(tree)\n",
    "        print_tree(root)\n",
    "        print()\n",
    "        print(\"ans:  \", end='')\n",
    "        task_17_func(tree)\n",
    "        print(\"\\n\")\n",
    "    \n",
    "    \n",
    "test_17()"
   ]
  },
  {
   "cell_type": "code",
   "execution_count": 26,
   "metadata": {},
   "outputs": [
    {
     "name": "stdout",
     "output_type": "stream",
     "text": [
      "Tree: \n",
      "  _3_  \n",
      " /   \\ \n",
      " 1   4 \n",
      "/ \\ / \\\n",
      "0 2 3 5\n",
      "\n",
      "ans:  4 6 10 12 \n",
      "\n",
      "Tree: \n",
      "    _4\n",
      "   /  \n",
      "   3  \n",
      "  / \\ \n",
      "  2 4 \n",
      " /    \n",
      " 1    \n",
      "/     \n",
      "0     \n",
      "\n",
      "ans:  10 11 \n",
      "\n",
      "Tree: \n",
      "5\n",
      "\n",
      "ans:  5 \n",
      "\n"
     ]
    }
   ],
   "source": [
    "def task_17_func(tree):\n",
    "    root = tree_from_weird_tree(tree)\n",
    "    root.print_height_iterative()\n",
    "\n",
    "    \n",
    "test_17()"
   ]
  },
  {
   "cell_type": "code",
   "execution_count": null,
   "metadata": {},
   "outputs": [],
   "source": []
  }
 ],
 "metadata": {
  "kernelspec": {
   "display_name": "Python 3 (ipykernel)",
   "language": "python",
   "name": "python3"
  },
  "language_info": {
   "codemirror_mode": {
    "name": "ipython",
    "version": 3
   },
   "file_extension": ".py",
   "mimetype": "text/x-python",
   "name": "python",
   "nbconvert_exporter": "python",
   "pygments_lexer": "ipython3",
   "version": "3.9.13"
  }
 },
 "nbformat": 4,
 "nbformat_minor": 2
}
