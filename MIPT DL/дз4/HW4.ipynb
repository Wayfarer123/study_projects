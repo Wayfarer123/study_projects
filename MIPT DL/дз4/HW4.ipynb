{
 "cells": [
  {
   "cell_type": "markdown",
   "metadata": {
    "id": "cnd2hClwPLL0"
   },
   "source": [
    "## Домашнее задание №4\n",
    "### Deadline - 14 November 23:59"
   ]
  },
  {
   "cell_type": "markdown",
   "metadata": {
    "id": "qgBoqET99j-D"
   },
   "source": [
    "Данное задание посвящено семантической сегментации. Ваша цель реализовать модель сегментации cпутниковых снимков на датасете [FloodNet Challenge](http://www.classic.grss-ieee.org/earthvision2021/challenge.html).. В первой части задания вы реализуете основные инструменты, которые необходимы для задачи сегментации: подсчет метрик, архитектуры, логгирование метрик. Во второй части вам предложено улучшить текущее решение и выбить заданные скор на задаче, используя любые трюки/идеи, которые вы сможете реализовать"
   ]
  },
  {
   "cell_type": "markdown",
   "metadata": {
    "id": "64-aU7opBbNq"
   },
   "source": [
    "## Часть 1: Базовое решение (1/3 от максимального числа баллов)\n",
    "- Подсчет метрик\n",
    "- Архитектуру модели (реализовать UNet)\n",
    "- Обучение модели"
   ]
  },
  {
   "cell_type": "markdown",
   "metadata": {
    "id": "wLTlqHvJMtmG"
   },
   "source": [
    "### Loading dataset"
   ]
  },
  {
   "cell_type": "code",
   "execution_count": 1,
   "metadata": {
    "colab": {
     "base_uri": "https://localhost:8080/"
    },
    "id": "FbKalUEsMtAF",
    "outputId": "46bc16d5-2cf5-446f-ce99-663d21590485"
   },
   "outputs": [],
   "source": [
    "# !gdown --id 1vLTGoRO1zeQSZ0mfRTgVC9W6R5Z94UoO"
   ]
  },
  {
   "cell_type": "markdown",
   "metadata": {
    "id": "ECH_A8yycF5_"
   },
   "source": [
    "Распаковываем архив"
   ]
  },
  {
   "cell_type": "code",
   "execution_count": 2,
   "metadata": {
    "id": "HMhkjPp_NpZy"
   },
   "outputs": [],
   "source": [
    "# !tar -xzf tiny-floodnet-challenge.tar.gz"
   ]
  },
  {
   "cell_type": "code",
   "execution_count": 3,
   "metadata": {
    "id": "lxUqdJoJN6CC"
   },
   "outputs": [],
   "source": [
    "from tqdm.auto import tqdm\n",
    "import torch\n",
    "import torch.nn as nn\n",
    "import torch.nn.functional as F\n",
    "\n",
    "from matplotlib import pyplot as plt\n",
    "from torch.utils.data import Dataset, DataLoader\n",
    "from torch.utils.tensorboard import SummaryWriter\n",
    "from torchvision.transforms import ToTensor, PILToTensor, Compose"
   ]
  },
  {
   "cell_type": "markdown",
   "metadata": {
    "id": "ta8DcB-fMrlr"
   },
   "source": [
    "### Dataset\n",
    "\n",
    "Датасет уже содержит разбиение на обучающую и тестовые выборки"
   ]
  },
  {
   "cell_type": "code",
   "execution_count": 4,
   "metadata": {
    "id": "vHccJO-6_A1w"
   },
   "outputs": [],
   "source": [
    "import glob\n",
    "import os\n",
    "import numpy as np\n",
    "import albumentations as A\n",
    "\n",
    "from PIL import Image"
   ]
  },
  {
   "cell_type": "markdown",
   "metadata": {
    "id": "h3KSVMEPWtAB"
   },
   "source": [
    "Для обработки изображений будем использовать библиотеку [albumentations](https://albumentations.ai/docs/). В ней содержиться больше аугментаций чем в torchvision, а также реализовано более удобная работа с аугментациями."
   ]
  },
  {
   "cell_type": "markdown",
   "metadata": {
    "id": "jo_U3uMCcMo5"
   },
   "source": [
    "Реализуйте загрузку данных"
   ]
  },
  {
   "cell_type": "code",
   "execution_count": 55,
   "metadata": {
    "id": "n5MwB7-JN4Vr"
   },
   "outputs": [],
   "source": [
    "class FloodNet(Dataset):\n",
    "    \"\"\"\n",
    "    Классы:\n",
    "    0: Background, 1: Building, 2: Road, 3: Water, 4: Tree, 5: Vehicle, 6: Pool, 7: Grass\n",
    "    \"\"\"\n",
    "    def __init__(\n",
    "        self,\n",
    "        data_path: str,\n",
    "        phase: str,\n",
    "        augment: bool,\n",
    "        img_size: int,\n",
    "    ):\n",
    "        self.num_classes = 8\n",
    "        self.data_path = data_path\n",
    "        self.phase = phase\n",
    "        self.augment = augment\n",
    "        self.img_size = img_size\n",
    "\n",
    "        self.items = [filename.split('.')[0] for filename in os.listdir(f'{data_path}/{phase}/image')]\n",
    "\n",
    "        if augment:\n",
    "            self.transform = A.Compose([\n",
    "                                        A.HorizontalFlip(p=0.5),\n",
    "                                        A.VerticalFlip(p=0.5),\n",
    "                                        A.Normalize(),\n",
    "                                        A.RandomResizedCrop(width=img_size, height=img_size, \n",
    "                                                            scale=[0.8,1.0], ratio=(1,1), p=0.9),\n",
    "                                        A.Resize(height=img_size, width=img_size)\n",
    "                                        ])          \n",
    "        else:\n",
    "            #A.geometric.resize.Resize\n",
    "            self.transform = A.Compose([\n",
    "                                    A.Normalize(),\n",
    "                                    A.Resize(height=img_size, width=img_size)\n",
    "                                    ])\n",
    "\n",
    "        self.to_tensor = ToTensor()\n",
    "\n",
    "    def __len__(self):\n",
    "        return len(self.items)\n",
    "\n",
    "    def __getitem__(self, index):\n",
    "        image = np.asarray(Image.open(f'{self.data_path}/{self.phase}/image/{self.items[index]}.jpg'))\n",
    "        mask = np.asarray(Image.open(f'{self.data_path}/{self.phase}/mask/{self.items[index]}.png'))\n",
    "\n",
    "        # if self.phase == 'train':\n",
    "        # \t# TODO: apply transform to both image and mask (0.5 points)\n",
    "        augmented = self.transform(image=image, mask=mask)\n",
    "        image = augmented['image']\n",
    "        mask = augmented['mask']\n",
    "\n",
    "        image = self.to_tensor(image.copy())\n",
    "        mask = torch.from_numpy(mask.copy()).long()\n",
    "\n",
    "        if self.phase == 'train':\n",
    "            assert isinstance(image, torch.FloatTensor) and image.shape == (3, self.img_size, self.img_size)\n",
    "            assert isinstance(mask, torch.LongTensor) and mask.shape == (self.img_size, self.img_size)\n",
    "\n",
    "        return image, mask"
   ]
  },
  {
   "cell_type": "code",
   "execution_count": 56,
   "metadata": {
    "id": "3tUNjyZdXW9L"
   },
   "outputs": [],
   "source": [
    "NUM_CLASSES=8"
   ]
  },
  {
   "cell_type": "code",
   "execution_count": 57,
   "metadata": {
    "id": "ieiQ-_C7Sehv"
   },
   "outputs": [],
   "source": [
    "train_dataset = FloodNet('tiny-floodnet-challenge', 'train', True, 256)\n",
    "test_dataset = FloodNet('tiny-floodnet-challenge', 'test', False, 256)"
   ]
  },
  {
   "cell_type": "markdown",
   "metadata": {
    "id": "0HvCkf7VXaEg"
   },
   "source": [
    "Берем небольшой батч, так как иначе изображения не поместятся в память"
   ]
  },
  {
   "cell_type": "code",
   "execution_count": 58,
   "metadata": {
    "id": "ZYSlFdmhSZbt"
   },
   "outputs": [],
   "source": [
    "train_dataloader = DataLoader(train_dataset, batch_size=4, shuffle=True)\n",
    "\n",
    "val_dataloader = DataLoader(test_dataset, batch_size=1, shuffle=False)"
   ]
  },
  {
   "cell_type": "markdown",
   "metadata": {
    "id": "6YE8YuOBFFZm"
   },
   "source": [
    "### Metrics"
   ]
  },
  {
   "cell_type": "markdown",
   "metadata": {
    "id": "4ttxcUOncU7C"
   },
   "source": [
    "Мы закончили с реализацией датасета. Теперь необходимо реализовать подсчет IoU, Recall, Accuracy"
   ]
  },
  {
   "cell_type": "markdown",
   "metadata": {
    "id": "3CjXDCAOYCRp"
   },
   "source": [
    "![image.png](data:image/png;base64,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)"
   ]
  },
  {
   "cell_type": "code",
   "execution_count": 59,
   "metadata": {},
   "outputs": [
    {
     "name": "stdout",
     "output_type": "stream",
     "text": [
      "torch.Size([4, 3, 256, 256]) torch.Size([4, 256, 256])\n",
      "torch.Size([1, 3, 256, 256]) torch.Size([1, 256, 256])\n"
     ]
    }
   ],
   "source": [
    "for img, m in train_dataloader:\n",
    "    print(img.shape, m.shape)\n",
    "    break\n",
    "for img, m in val_dataloader:\n",
    "    print(img.shape, m.shape)\n",
    "    break"
   ]
  },
  {
   "cell_type": "code",
   "execution_count": 60,
   "metadata": {
    "id": "Qos6pIK9Bi2-"
   },
   "outputs": [],
   "source": [
    "def calc_val_data(preds, masks, num_classes):\n",
    "    # batch_size x num_classes x H x W\n",
    "    preds = torch.argmax(preds, dim=1)\n",
    "    batch_size=preds.shape[0]\n",
    "\n",
    "    preds_per_class = torch.cat([preds.unsqueeze(1) == i for i in range(num_classes)],1)\n",
    "    masks_per_class = torch.cat([masks.unsqueeze(1) == i for i in range(num_classes)],1)\n",
    "    intersection = torch.sum(preds_per_class * masks_per_class, dim=[2,3])\n",
    "    union = torch.sum(preds_per_class + masks_per_class, dim=[2,3])\n",
    "    target = torch.sum(masks_per_class, dim=[2,3])\n",
    "\n",
    "    # for i in range(num_classes): # Go over all classes\n",
    "    #     # TODO\n",
    "\n",
    "    assert isinstance(intersection, torch.Tensor), 'Output should be a tensor'\n",
    "    assert isinstance(union, torch.Tensor), 'Output should be a tensor'\n",
    "    assert isinstance(target, torch.Tensor), 'Output should be a tensor'\n",
    "\n",
    "    assert intersection.shape == union.shape == target.shape, 'Wrong output shape'\n",
    "    assert union.shape[0] == masks.shape[0] and union.shape[1] == num_classes, 'Wrong output shape'\n",
    "\n",
    "    return intersection, union, target"
   ]
  },
  {
   "cell_type": "markdown",
   "metadata": {
    "id": "S9nWuyQAIej-"
   },
   "source": [
    "$mean IoU = \\frac{1}{|classes|} \\sum_{i=1}^{|classes|} IoU(class)$"
   ]
  },
  {
   "cell_type": "code",
   "execution_count": 61,
   "metadata": {
    "id": "EIpIYVvnGL_V"
   },
   "outputs": [],
   "source": [
    "# def calc_val_loss(intersection, union, target, eps = 1e-7):\n",
    "#     # average over classes\n",
    "#     mean_iou = torch.mean(intersection/(union+eps))\n",
    "#     mean_class_rec = ... # TODO: calc mean class recall\n",
    "#     mean_acc = ... # TODO: calc mean accuracy\n",
    "\n",
    "#     return mean_iou, mean_class_rec, mean_acc"
   ]
  },
  {
   "cell_type": "markdown",
   "metadata": {
    "id": "6iWeKqRl3Fb2"
   },
   "source": [
    "Обновленные метрики от Матвея"
   ]
  },
  {
   "cell_type": "code",
   "execution_count": 62,
   "metadata": {
    "id": "-shPQ9UE3Bw-"
   },
   "outputs": [],
   "source": [
    "def iou(net_output, target, class_label=torch.tensor(1).type(torch.int), eps=1e-6):\n",
    "    net_out_ = (net_output == class_label)\n",
    "    target_ = (target == class_label)\n",
    "    return (torch.sum(net_out_ * target_))/(torch.sum(torch.maximum(net_out_, target_)) + eps)\n",
    "\n",
    "def recall(net_output, target, class_label=torch.tensor(1).type(torch.int), eps=1e-6):\n",
    "    net_out_ = (net_output == class_label)\n",
    "    target_ = (target == class_label)\n",
    "    return (torch.sum(net_out_ * target_))/(torch.sum(target_) + eps)\n",
    "\n",
    "def accuracy(net_output, target, class_label=torch.tensor(1).type(torch.int), eps=1e-6):\n",
    "    net_out_ = (net_output == class_label)\n",
    "    target_ = (target == class_label)\n",
    "    return (torch.sum(net_out_ == target_))/(torch.sum(torch.ones_like(target_)) + eps)\n",
    "\n",
    "def calc_val_loss(outputs, masks, num_classes, eps=1e-7):\n",
    "    softmax     = torch.nn.Softmax(dim=1)\n",
    "    probability = softmax(outputs)\n",
    "    prediction  = torch.argmax(probability, dim=1)\n",
    "    mean_iou, mean_recall, mean_acc = [], [], []\n",
    "\n",
    "    ind = [i for i in range(num_classes) if (masks==i).sum() > 0]\n",
    "    for i in ind:\n",
    "        mean_iou.append(iou(prediction, masks, i, eps=eps).item())\n",
    "        mean_recall.append(recall(prediction, masks, i, eps=eps).item())\n",
    "        mean_acc.append(accuracy(prediction, masks, i, eps=eps).item())\n",
    "    return np.mean(mean_iou), np.mean(mean_recall), np.mean(mean_acc)"
   ]
  },
  {
   "cell_type": "markdown",
   "metadata": {
    "id": "-GEkAfXzFIEF"
   },
   "source": [
    "### Model"
   ]
  },
  {
   "cell_type": "markdown",
   "metadata": {
    "id": "vymYn7xAOo_h"
   },
   "source": [
    "В качестве базовой модели будем использовать UNet. Архитектура представлена ниже. Вам не нужно точно воспроизвести архитектуру. Важно реализовать передачу intermediate features, полученные от encoder к decoder."
   ]
  },
  {
   "cell_type": "markdown",
   "metadata": {
    "id": "kBlWb7CHblSX"
   },
   "source": [
    "![image.png](data:image/png;base64,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)"
   ]
  },
  {
   "cell_type": "code",
   "execution_count": 63,
   "metadata": {
    "id": "SeGWtE0lc3_L"
   },
   "outputs": [],
   "source": [
    "import torch\n",
    "from torch import nn\n",
    "from torch.nn import functional as F\n",
    "from torchvision import models\n",
    "\n",
    "# class DownBlock(nn.Module):\n",
    "#     def __init__(self, in_channel, out_channel, down=True):\n",
    "#         super().__init__()\n",
    "#         # TODO\n",
    "\n",
    "#     def forward(self, x):\n",
    "#         # TODO\n",
    "#         return x"
   ]
  },
  {
   "cell_type": "code",
   "execution_count": 64,
   "metadata": {
    "id": "fF0pE9HSYexj"
   },
   "outputs": [],
   "source": [
    "# class UpBlock(nn.Module):\n",
    "#     def __init__(self, in_channel, prev_channel, out_channel, up=True):\n",
    "#         super().__init__()\n",
    "#         # TODO\n",
    "\n",
    "#     def forward(self, x, res=None):\n",
    "#         # TODO\n",
    "#         return x"
   ]
  },
  {
   "cell_type": "markdown",
   "metadata": {},
   "source": [
    "#### Реализация через такие блоки неудобная, предлагаю свою:"
   ]
  },
  {
   "cell_type": "code",
   "execution_count": 65,
   "metadata": {},
   "outputs": [],
   "source": [
    "class Block(nn.Module):\n",
    "    def __init__(self, in_c, out_c, kernel_size=3, stride=1, \n",
    "                 padding=1, normalize=True, dropout=False):\n",
    "        super().__init__()\n",
    "        self.norm = normalize\n",
    "        self.dropout = nn.Dropout(p=dropout) if dropout else False\n",
    "        self.conv1 = nn.Conv2d(in_c, out_c, kernel_size, stride, padding)\n",
    "        self.conv2 = nn.Conv2d(out_c, out_c, kernel_size, stride, padding)\n",
    "        self.activation = nn.SiLU()\n",
    "\n",
    "    def forward(self, x):\n",
    "        out = self.conv1(x)\n",
    "        out = self.activation(out)\n",
    "        out = self.dropout(out) if self.dropout else out\n",
    "        out = F.layer_norm(out, out.shape) if self.norm else out\n",
    "        out = self.conv2(out)\n",
    "        out = self.activation(out)\n",
    "        out = F.layer_norm(out, out.shape) if self.norm else out\n",
    "        return out"
   ]
  },
  {
   "cell_type": "code",
   "execution_count": 66,
   "metadata": {
    "id": "Q1iETlyoPGjd"
   },
   "outputs": [],
   "source": [
    "class UNet(nn.Module):\n",
    "    \"\"\"\n",
    "    Используя UpBlock и DownBlock, реализуйте полноценную архитектуру.\n",
    "    Учтите, что разрешение изображение может не делиться на 2**num_down_blocks, поэтому\n",
    "    вам нужно интерполировать его до нужного разрешения\n",
    "\n",
    "    Для уменьшения/увеличения размерности можете использовать любой удобный вам метод\n",
    "    \"\"\"\n",
    "    def __init__(self,\n",
    "                 num_classes,\n",
    "                 width=256,\n",
    "                 height=256,\n",
    "                 in_channels=3,\n",
    "                 dropout=0.2,\n",
    "                 depth=32):\n",
    "        super(UNet, self).__init__()\n",
    "        self.num_classes = num_classes\n",
    "\n",
    "        # First half\n",
    "        self.b1 = nn.Sequential(\n",
    "            Block(in_channels, depth, dropout=False),\n",
    "            Block(depth, depth, dropout=False)\n",
    "        )\n",
    "        # self.down1 = nn.MaxPool2d(2, 2)\n",
    "        self.down1 = nn.Conv2d(depth, depth*2, kernel_size=2, stride=2)\n",
    "        \n",
    "        self.b2 = nn.Sequential(\n",
    "            # Block(depth, depth*2, dropout=False),\n",
    "            Block(depth*2, depth*2, dropout=dropout),\n",
    "            Block(depth*2, depth*2, dropout=False)\n",
    "        )\n",
    "        #self.down2 = nn.MaxPool2d(2, 2)\n",
    "        self.down2 = nn.Conv2d(depth*2, depth*4, kernel_size=2, stride=2)\n",
    "\n",
    "        self.b3 = nn.Sequential(\n",
    "            # Block(depth*2, depth*4, dropout=False),\n",
    "            Block(depth*4, depth*4, dropout=dropout),\n",
    "            Block(depth*4, depth*4, dropout=False)\n",
    "        )\n",
    "        # self.down3 = nn.MaxPool2d(2, 2)\n",
    "        self.down3 = nn.Conv2d(depth*4, depth*8, kernel_size=2, stride=2)\n",
    "\n",
    "        self.b4 = nn.Sequential(\n",
    "            # Block(depth*4, depth*8, dropout=False),\n",
    "            Block(depth*8, depth*8, dropout=dropout),\n",
    "            Block(depth*8, depth*8, dropout=False)\n",
    "        )\n",
    "        # self.down4 = nn.MaxPool2d(2, 2)\n",
    "        self.down4 = nn.Conv2d(depth*8, depth*16, kernel_size=2, stride=2)\n",
    "\n",
    "        # Bottleneck\n",
    "        self.b_mid = nn.Sequential(\n",
    "            # Block(depth*8, depth*16, dropout=False),\n",
    "            Block(depth*16, depth*16, dropout=dropout),\n",
    "            Block(depth*16, depth*16, dropout=False)\n",
    "        )\n",
    "        \n",
    "        # Second half\n",
    "        self.up1 = nn.ConvTranspose2d(depth*16, depth*8, 2, 2)\n",
    "        self.b5 = nn.Sequential(\n",
    "            Block(depth*16, depth*8, dropout=dropout),\n",
    "            Block(depth*8, depth*8, dropout=False),\n",
    "        )\n",
    "\n",
    "        self.up2 = nn.ConvTranspose2d(depth*8, depth*4, 2, 2)\n",
    "        self.b6 = nn.Sequential(\n",
    "            Block(depth*8, depth*4, dropout=dropout),\n",
    "            Block(depth*4, depth*4, dropout=False),\n",
    "        )\n",
    "\n",
    "        self.up3 = nn.ConvTranspose2d(depth*4, depth*2, 2, 2)\n",
    "        self.b7 = nn.Sequential(\n",
    "            Block(depth*4, depth*2, dropout=dropout),\n",
    "            Block(depth*2, depth*2, dropout=False),\n",
    "        )\n",
    "\n",
    "        self.up4 = nn.ConvTranspose2d(depth*2, depth, 2, 2)\n",
    "        self.b8 = nn.Sequential(\n",
    "            Block(depth*2, depth, dropout=dropout),\n",
    "            Block(depth, depth, dropout=False),\n",
    "        )\n",
    "\n",
    "        self.conv_out = nn.Conv2d(depth, num_classes, 1)\n",
    "        \n",
    "\n",
    "    def forward(self, inputs):\n",
    "        out1 = self.b1(inputs)\n",
    "        out2 = self.b2(self.down1(out1))\n",
    "        out3 = self.b3(self.down2(out2))\n",
    "        out4 = self.b4(self.down3(out3))\n",
    "\n",
    "        out_mid = self.b_mid(self.down4(out4))\n",
    "\n",
    "        out5 = torch.cat((out4, self.up1(out_mid)), dim=1)\n",
    "        out5 = self.b5(out5)\n",
    "        out6 = torch.cat((out3, self.up2(out5)), dim=1)\n",
    "        out6 = self.b6(out6)\n",
    "        out7 = torch.cat((out2, self.up3(out6)), dim=1)\n",
    "        out7 = self.b7(out7)\n",
    "        out8 = torch.cat((out1, self.up4(out7)), dim=1)\n",
    "        out8 = self.b8(out8)\n",
    "\n",
    "        logits = self.conv_out(out8)\n",
    "\n",
    "        assert logits.shape == (inputs.shape[0], self.num_classes, inputs.shape[2], inputs.shape[3]), 'Wrong shape of the logits'\n",
    "        return logits"
   ]
  },
  {
   "cell_type": "markdown",
   "metadata": {
    "id": "5ddy5r_1FMFl"
   },
   "source": [
    "### Training"
   ]
  },
  {
   "cell_type": "code",
   "execution_count": 68,
   "metadata": {
    "id": "KLAMyALaFWUY",
    "scrolled": true
   },
   "outputs": [
    {
     "data": {
      "application/vnd.jupyter.widget-view+json": {
       "model_id": "8de344e5b5604997999186ca67be54fd",
       "version_major": 2,
       "version_minor": 0
      },
      "text/plain": [
       "  0%|          | 0/100 [00:00<?, ?it/s]"
      ]
     },
     "metadata": {},
     "output_type": "display_data"
    },
    {
     "data": {
      "application/vnd.jupyter.widget-view+json": {
       "model_id": "",
       "version_major": 2,
       "version_minor": 0
      },
      "text/plain": [
       "Train:   0%|          | 0/78 [00:00<?, ?it/s]"
      ]
     },
     "metadata": {},
     "output_type": "display_data"
    },
    {
     "data": {
      "application/vnd.jupyter.widget-view+json": {
       "model_id": "",
       "version_major": 2,
       "version_minor": 0
      },
      "text/plain": [
       "Eval:   0%|          | 0/35 [00:00<?, ?it/s]"
      ]
     },
     "metadata": {},
     "output_type": "display_data"
    },
    {
     "name": "stdout",
     "output_type": "stream",
     "text": [
      "Epoch 0, val_mIoU=0.0862, val_mRecall=0.1601, val_mAcc=0.8565\n"
     ]
    },
    {
     "data": {
      "application/vnd.jupyter.widget-view+json": {
       "model_id": "",
       "version_major": 2,
       "version_minor": 0
      },
      "text/plain": [
       "Train:   0%|          | 0/78 [00:00<?, ?it/s]"
      ]
     },
     "metadata": {},
     "output_type": "display_data"
    },
    {
     "data": {
      "application/vnd.jupyter.widget-view+json": {
       "model_id": "",
       "version_major": 2,
       "version_minor": 0
      },
      "text/plain": [
       "Eval:   0%|          | 0/35 [00:00<?, ?it/s]"
      ]
     },
     "metadata": {},
     "output_type": "display_data"
    },
    {
     "name": "stdout",
     "output_type": "stream",
     "text": [
      "Epoch 1, val_mIoU=0.1418, val_mRecall=0.2195, val_mAcc=0.8707\n"
     ]
    },
    {
     "data": {
      "application/vnd.jupyter.widget-view+json": {
       "model_id": "",
       "version_major": 2,
       "version_minor": 0
      },
      "text/plain": [
       "Train:   0%|          | 0/78 [00:00<?, ?it/s]"
      ]
     },
     "metadata": {},
     "output_type": "display_data"
    },
    {
     "data": {
      "application/vnd.jupyter.widget-view+json": {
       "model_id": "",
       "version_major": 2,
       "version_minor": 0
      },
      "text/plain": [
       "Eval:   0%|          | 0/35 [00:00<?, ?it/s]"
      ]
     },
     "metadata": {},
     "output_type": "display_data"
    },
    {
     "name": "stdout",
     "output_type": "stream",
     "text": [
      "Epoch 2, val_mIoU=0.1602, val_mRecall=0.2396, val_mAcc=0.8727\n"
     ]
    },
    {
     "data": {
      "application/vnd.jupyter.widget-view+json": {
       "model_id": "",
       "version_major": 2,
       "version_minor": 0
      },
      "text/plain": [
       "Train:   0%|          | 0/78 [00:00<?, ?it/s]"
      ]
     },
     "metadata": {},
     "output_type": "display_data"
    },
    {
     "data": {
      "application/vnd.jupyter.widget-view+json": {
       "model_id": "",
       "version_major": 2,
       "version_minor": 0
      },
      "text/plain": [
       "Eval:   0%|          | 0/35 [00:00<?, ?it/s]"
      ]
     },
     "metadata": {},
     "output_type": "display_data"
    },
    {
     "name": "stdout",
     "output_type": "stream",
     "text": [
      "Epoch 3, val_mIoU=0.1710, val_mRecall=0.2535, val_mAcc=0.8747\n"
     ]
    },
    {
     "data": {
      "application/vnd.jupyter.widget-view+json": {
       "model_id": "",
       "version_major": 2,
       "version_minor": 0
      },
      "text/plain": [
       "Train:   0%|          | 0/78 [00:00<?, ?it/s]"
      ]
     },
     "metadata": {},
     "output_type": "display_data"
    },
    {
     "data": {
      "application/vnd.jupyter.widget-view+json": {
       "model_id": "",
       "version_major": 2,
       "version_minor": 0
      },
      "text/plain": [
       "Eval:   0%|          | 0/35 [00:00<?, ?it/s]"
      ]
     },
     "metadata": {},
     "output_type": "display_data"
    },
    {
     "name": "stdout",
     "output_type": "stream",
     "text": [
      "Epoch 4, val_mIoU=0.1728, val_mRecall=0.2676, val_mAcc=0.8801\n"
     ]
    },
    {
     "data": {
      "application/vnd.jupyter.widget-view+json": {
       "model_id": "",
       "version_major": 2,
       "version_minor": 0
      },
      "text/plain": [
       "Train:   0%|          | 0/78 [00:00<?, ?it/s]"
      ]
     },
     "metadata": {},
     "output_type": "display_data"
    },
    {
     "data": {
      "application/vnd.jupyter.widget-view+json": {
       "model_id": "",
       "version_major": 2,
       "version_minor": 0
      },
      "text/plain": [
       "Eval:   0%|          | 0/35 [00:00<?, ?it/s]"
      ]
     },
     "metadata": {},
     "output_type": "display_data"
    },
    {
     "name": "stdout",
     "output_type": "stream",
     "text": [
      "Epoch 5, val_mIoU=0.2271, val_mRecall=0.3348, val_mAcc=0.8873\n"
     ]
    },
    {
     "data": {
      "application/vnd.jupyter.widget-view+json": {
       "model_id": "",
       "version_major": 2,
       "version_minor": 0
      },
      "text/plain": [
       "Train:   0%|          | 0/78 [00:00<?, ?it/s]"
      ]
     },
     "metadata": {},
     "output_type": "display_data"
    },
    {
     "data": {
      "application/vnd.jupyter.widget-view+json": {
       "model_id": "",
       "version_major": 2,
       "version_minor": 0
      },
      "text/plain": [
       "Eval:   0%|          | 0/35 [00:00<?, ?it/s]"
      ]
     },
     "metadata": {},
     "output_type": "display_data"
    },
    {
     "name": "stdout",
     "output_type": "stream",
     "text": [
      "Epoch 6, val_mIoU=0.2147, val_mRecall=0.3105, val_mAcc=0.8828\n"
     ]
    },
    {
     "data": {
      "application/vnd.jupyter.widget-view+json": {
       "model_id": "",
       "version_major": 2,
       "version_minor": 0
      },
      "text/plain": [
       "Train:   0%|          | 0/78 [00:00<?, ?it/s]"
      ]
     },
     "metadata": {},
     "output_type": "display_data"
    },
    {
     "data": {
      "application/vnd.jupyter.widget-view+json": {
       "model_id": "",
       "version_major": 2,
       "version_minor": 0
      },
      "text/plain": [
       "Eval:   0%|          | 0/35 [00:00<?, ?it/s]"
      ]
     },
     "metadata": {},
     "output_type": "display_data"
    },
    {
     "name": "stdout",
     "output_type": "stream",
     "text": [
      "Epoch 7, val_mIoU=0.2408, val_mRecall=0.3535, val_mAcc=0.8886\n"
     ]
    },
    {
     "data": {
      "application/vnd.jupyter.widget-view+json": {
       "model_id": "",
       "version_major": 2,
       "version_minor": 0
      },
      "text/plain": [
       "Train:   0%|          | 0/78 [00:00<?, ?it/s]"
      ]
     },
     "metadata": {},
     "output_type": "display_data"
    },
    {
     "data": {
      "application/vnd.jupyter.widget-view+json": {
       "model_id": "",
       "version_major": 2,
       "version_minor": 0
      },
      "text/plain": [
       "Eval:   0%|          | 0/35 [00:00<?, ?it/s]"
      ]
     },
     "metadata": {},
     "output_type": "display_data"
    },
    {
     "name": "stdout",
     "output_type": "stream",
     "text": [
      "Epoch 8, val_mIoU=0.2294, val_mRecall=0.3253, val_mAcc=0.8857\n"
     ]
    },
    {
     "data": {
      "application/vnd.jupyter.widget-view+json": {
       "model_id": "",
       "version_major": 2,
       "version_minor": 0
      },
      "text/plain": [
       "Train:   0%|          | 0/78 [00:00<?, ?it/s]"
      ]
     },
     "metadata": {},
     "output_type": "display_data"
    },
    {
     "data": {
      "application/vnd.jupyter.widget-view+json": {
       "model_id": "",
       "version_major": 2,
       "version_minor": 0
      },
      "text/plain": [
       "Eval:   0%|          | 0/35 [00:00<?, ?it/s]"
      ]
     },
     "metadata": {},
     "output_type": "display_data"
    },
    {
     "name": "stdout",
     "output_type": "stream",
     "text": [
      "Epoch 9, val_mIoU=0.2095, val_mRecall=0.3055, val_mAcc=0.8877\n"
     ]
    },
    {
     "data": {
      "application/vnd.jupyter.widget-view+json": {
       "model_id": "",
       "version_major": 2,
       "version_minor": 0
      },
      "text/plain": [
       "Train:   0%|          | 0/78 [00:00<?, ?it/s]"
      ]
     },
     "metadata": {},
     "output_type": "display_data"
    },
    {
     "data": {
      "application/vnd.jupyter.widget-view+json": {
       "model_id": "",
       "version_major": 2,
       "version_minor": 0
      },
      "text/plain": [
       "Eval:   0%|          | 0/35 [00:00<?, ?it/s]"
      ]
     },
     "metadata": {},
     "output_type": "display_data"
    },
    {
     "name": "stdout",
     "output_type": "stream",
     "text": [
      "Epoch 10, val_mIoU=0.2084, val_mRecall=0.3000, val_mAcc=0.8829\n"
     ]
    },
    {
     "data": {
      "application/vnd.jupyter.widget-view+json": {
       "model_id": "",
       "version_major": 2,
       "version_minor": 0
      },
      "text/plain": [
       "Train:   0%|          | 0/78 [00:00<?, ?it/s]"
      ]
     },
     "metadata": {},
     "output_type": "display_data"
    },
    {
     "data": {
      "application/vnd.jupyter.widget-view+json": {
       "model_id": "",
       "version_major": 2,
       "version_minor": 0
      },
      "text/plain": [
       "Eval:   0%|          | 0/35 [00:00<?, ?it/s]"
      ]
     },
     "metadata": {},
     "output_type": "display_data"
    },
    {
     "name": "stdout",
     "output_type": "stream",
     "text": [
      "Epoch 11, val_mIoU=0.2414, val_mRecall=0.3400, val_mAcc=0.8915\n"
     ]
    },
    {
     "data": {
      "application/vnd.jupyter.widget-view+json": {
       "model_id": "",
       "version_major": 2,
       "version_minor": 0
      },
      "text/plain": [
       "Train:   0%|          | 0/78 [00:00<?, ?it/s]"
      ]
     },
     "metadata": {},
     "output_type": "display_data"
    },
    {
     "data": {
      "application/vnd.jupyter.widget-view+json": {
       "model_id": "",
       "version_major": 2,
       "version_minor": 0
      },
      "text/plain": [
       "Eval:   0%|          | 0/35 [00:00<?, ?it/s]"
      ]
     },
     "metadata": {},
     "output_type": "display_data"
    },
    {
     "name": "stdout",
     "output_type": "stream",
     "text": [
      "Epoch 12, val_mIoU=0.2356, val_mRecall=0.3282, val_mAcc=0.8869\n"
     ]
    },
    {
     "data": {
      "application/vnd.jupyter.widget-view+json": {
       "model_id": "",
       "version_major": 2,
       "version_minor": 0
      },
      "text/plain": [
       "Train:   0%|          | 0/78 [00:00<?, ?it/s]"
      ]
     },
     "metadata": {},
     "output_type": "display_data"
    },
    {
     "data": {
      "application/vnd.jupyter.widget-view+json": {
       "model_id": "",
       "version_major": 2,
       "version_minor": 0
      },
      "text/plain": [
       "Eval:   0%|          | 0/35 [00:00<?, ?it/s]"
      ]
     },
     "metadata": {},
     "output_type": "display_data"
    },
    {
     "name": "stdout",
     "output_type": "stream",
     "text": [
      "Epoch 13, val_mIoU=0.2405, val_mRecall=0.3395, val_mAcc=0.8884\n"
     ]
    },
    {
     "data": {
      "application/vnd.jupyter.widget-view+json": {
       "model_id": "",
       "version_major": 2,
       "version_minor": 0
      },
      "text/plain": [
       "Train:   0%|          | 0/78 [00:00<?, ?it/s]"
      ]
     },
     "metadata": {},
     "output_type": "display_data"
    },
    {
     "data": {
      "application/vnd.jupyter.widget-view+json": {
       "model_id": "",
       "version_major": 2,
       "version_minor": 0
      },
      "text/plain": [
       "Eval:   0%|          | 0/35 [00:00<?, ?it/s]"
      ]
     },
     "metadata": {},
     "output_type": "display_data"
    },
    {
     "name": "stdout",
     "output_type": "stream",
     "text": [
      "Epoch 14, val_mIoU=0.2217, val_mRecall=0.3124, val_mAcc=0.8852\n"
     ]
    },
    {
     "data": {
      "application/vnd.jupyter.widget-view+json": {
       "model_id": "",
       "version_major": 2,
       "version_minor": 0
      },
      "text/plain": [
       "Train:   0%|          | 0/78 [00:00<?, ?it/s]"
      ]
     },
     "metadata": {},
     "output_type": "display_data"
    },
    {
     "data": {
      "application/vnd.jupyter.widget-view+json": {
       "model_id": "",
       "version_major": 2,
       "version_minor": 0
      },
      "text/plain": [
       "Eval:   0%|          | 0/35 [00:00<?, ?it/s]"
      ]
     },
     "metadata": {},
     "output_type": "display_data"
    },
    {
     "name": "stdout",
     "output_type": "stream",
     "text": [
      "Epoch 15, val_mIoU=0.2475, val_mRecall=0.3456, val_mAcc=0.8879\n"
     ]
    },
    {
     "data": {
      "application/vnd.jupyter.widget-view+json": {
       "model_id": "",
       "version_major": 2,
       "version_minor": 0
      },
      "text/plain": [
       "Train:   0%|          | 0/78 [00:00<?, ?it/s]"
      ]
     },
     "metadata": {},
     "output_type": "display_data"
    },
    {
     "data": {
      "application/vnd.jupyter.widget-view+json": {
       "model_id": "",
       "version_major": 2,
       "version_minor": 0
      },
      "text/plain": [
       "Eval:   0%|          | 0/35 [00:00<?, ?it/s]"
      ]
     },
     "metadata": {},
     "output_type": "display_data"
    },
    {
     "name": "stdout",
     "output_type": "stream",
     "text": [
      "Epoch 16, val_mIoU=0.2379, val_mRecall=0.3341, val_mAcc=0.8860\n"
     ]
    },
    {
     "data": {
      "application/vnd.jupyter.widget-view+json": {
       "model_id": "",
       "version_major": 2,
       "version_minor": 0
      },
      "text/plain": [
       "Train:   0%|          | 0/78 [00:00<?, ?it/s]"
      ]
     },
     "metadata": {},
     "output_type": "display_data"
    },
    {
     "data": {
      "application/vnd.jupyter.widget-view+json": {
       "model_id": "",
       "version_major": 2,
       "version_minor": 0
      },
      "text/plain": [
       "Eval:   0%|          | 0/35 [00:00<?, ?it/s]"
      ]
     },
     "metadata": {},
     "output_type": "display_data"
    },
    {
     "name": "stdout",
     "output_type": "stream",
     "text": [
      "Epoch 17, val_mIoU=0.2474, val_mRecall=0.3460, val_mAcc=0.8870\n"
     ]
    },
    {
     "data": {
      "application/vnd.jupyter.widget-view+json": {
       "model_id": "",
       "version_major": 2,
       "version_minor": 0
      },
      "text/plain": [
       "Train:   0%|          | 0/78 [00:00<?, ?it/s]"
      ]
     },
     "metadata": {},
     "output_type": "display_data"
    },
    {
     "data": {
      "application/vnd.jupyter.widget-view+json": {
       "model_id": "",
       "version_major": 2,
       "version_minor": 0
      },
      "text/plain": [
       "Eval:   0%|          | 0/35 [00:00<?, ?it/s]"
      ]
     },
     "metadata": {},
     "output_type": "display_data"
    },
    {
     "name": "stdout",
     "output_type": "stream",
     "text": [
      "Epoch 18, val_mIoU=0.2528, val_mRecall=0.3523, val_mAcc=0.8853\n"
     ]
    },
    {
     "data": {
      "application/vnd.jupyter.widget-view+json": {
       "model_id": "",
       "version_major": 2,
       "version_minor": 0
      },
      "text/plain": [
       "Train:   0%|          | 0/78 [00:00<?, ?it/s]"
      ]
     },
     "metadata": {},
     "output_type": "display_data"
    },
    {
     "data": {
      "application/vnd.jupyter.widget-view+json": {
       "model_id": "",
       "version_major": 2,
       "version_minor": 0
      },
      "text/plain": [
       "Eval:   0%|          | 0/35 [00:00<?, ?it/s]"
      ]
     },
     "metadata": {},
     "output_type": "display_data"
    },
    {
     "name": "stdout",
     "output_type": "stream",
     "text": [
      "Epoch 19, val_mIoU=0.2487, val_mRecall=0.3426, val_mAcc=0.8884\n"
     ]
    },
    {
     "data": {
      "application/vnd.jupyter.widget-view+json": {
       "model_id": "",
       "version_major": 2,
       "version_minor": 0
      },
      "text/plain": [
       "Train:   0%|          | 0/78 [00:00<?, ?it/s]"
      ]
     },
     "metadata": {},
     "output_type": "display_data"
    },
    {
     "data": {
      "application/vnd.jupyter.widget-view+json": {
       "model_id": "",
       "version_major": 2,
       "version_minor": 0
      },
      "text/plain": [
       "Eval:   0%|          | 0/35 [00:00<?, ?it/s]"
      ]
     },
     "metadata": {},
     "output_type": "display_data"
    },
    {
     "name": "stdout",
     "output_type": "stream",
     "text": [
      "Epoch 20, val_mIoU=0.2388, val_mRecall=0.3292, val_mAcc=0.8857\n"
     ]
    },
    {
     "data": {
      "application/vnd.jupyter.widget-view+json": {
       "model_id": "",
       "version_major": 2,
       "version_minor": 0
      },
      "text/plain": [
       "Train:   0%|          | 0/78 [00:00<?, ?it/s]"
      ]
     },
     "metadata": {},
     "output_type": "display_data"
    },
    {
     "data": {
      "application/vnd.jupyter.widget-view+json": {
       "model_id": "",
       "version_major": 2,
       "version_minor": 0
      },
      "text/plain": [
       "Eval:   0%|          | 0/35 [00:00<?, ?it/s]"
      ]
     },
     "metadata": {},
     "output_type": "display_data"
    },
    {
     "name": "stdout",
     "output_type": "stream",
     "text": [
      "Epoch 21, val_mIoU=0.2618, val_mRecall=0.3585, val_mAcc=0.8901\n"
     ]
    },
    {
     "data": {
      "application/vnd.jupyter.widget-view+json": {
       "model_id": "",
       "version_major": 2,
       "version_minor": 0
      },
      "text/plain": [
       "Train:   0%|          | 0/78 [00:00<?, ?it/s]"
      ]
     },
     "metadata": {},
     "output_type": "display_data"
    },
    {
     "data": {
      "application/vnd.jupyter.widget-view+json": {
       "model_id": "",
       "version_major": 2,
       "version_minor": 0
      },
      "text/plain": [
       "Eval:   0%|          | 0/35 [00:00<?, ?it/s]"
      ]
     },
     "metadata": {},
     "output_type": "display_data"
    },
    {
     "name": "stdout",
     "output_type": "stream",
     "text": [
      "Epoch 22, val_mIoU=0.2446, val_mRecall=0.3365, val_mAcc=0.8858\n"
     ]
    },
    {
     "data": {
      "application/vnd.jupyter.widget-view+json": {
       "model_id": "",
       "version_major": 2,
       "version_minor": 0
      },
      "text/plain": [
       "Train:   0%|          | 0/78 [00:00<?, ?it/s]"
      ]
     },
     "metadata": {},
     "output_type": "display_data"
    },
    {
     "data": {
      "application/vnd.jupyter.widget-view+json": {
       "model_id": "",
       "version_major": 2,
       "version_minor": 0
      },
      "text/plain": [
       "Eval:   0%|          | 0/35 [00:00<?, ?it/s]"
      ]
     },
     "metadata": {},
     "output_type": "display_data"
    },
    {
     "name": "stdout",
     "output_type": "stream",
     "text": [
      "Epoch 23, val_mIoU=0.2570, val_mRecall=0.3510, val_mAcc=0.8899\n"
     ]
    },
    {
     "data": {
      "application/vnd.jupyter.widget-view+json": {
       "model_id": "",
       "version_major": 2,
       "version_minor": 0
      },
      "text/plain": [
       "Train:   0%|          | 0/78 [00:00<?, ?it/s]"
      ]
     },
     "metadata": {},
     "output_type": "display_data"
    },
    {
     "data": {
      "application/vnd.jupyter.widget-view+json": {
       "model_id": "",
       "version_major": 2,
       "version_minor": 0
      },
      "text/plain": [
       "Eval:   0%|          | 0/35 [00:00<?, ?it/s]"
      ]
     },
     "metadata": {},
     "output_type": "display_data"
    },
    {
     "name": "stdout",
     "output_type": "stream",
     "text": [
      "Epoch 24, val_mIoU=0.2650, val_mRecall=0.3637, val_mAcc=0.8911\n"
     ]
    },
    {
     "data": {
      "application/vnd.jupyter.widget-view+json": {
       "model_id": "",
       "version_major": 2,
       "version_minor": 0
      },
      "text/plain": [
       "Train:   0%|          | 0/78 [00:00<?, ?it/s]"
      ]
     },
     "metadata": {},
     "output_type": "display_data"
    },
    {
     "data": {
      "application/vnd.jupyter.widget-view+json": {
       "model_id": "",
       "version_major": 2,
       "version_minor": 0
      },
      "text/plain": [
       "Eval:   0%|          | 0/35 [00:00<?, ?it/s]"
      ]
     },
     "metadata": {},
     "output_type": "display_data"
    },
    {
     "name": "stdout",
     "output_type": "stream",
     "text": [
      "Epoch 25, val_mIoU=0.2681, val_mRecall=0.3612, val_mAcc=0.8895\n"
     ]
    },
    {
     "data": {
      "application/vnd.jupyter.widget-view+json": {
       "model_id": "",
       "version_major": 2,
       "version_minor": 0
      },
      "text/plain": [
       "Train:   0%|          | 0/78 [00:00<?, ?it/s]"
      ]
     },
     "metadata": {},
     "output_type": "display_data"
    },
    {
     "data": {
      "application/vnd.jupyter.widget-view+json": {
       "model_id": "",
       "version_major": 2,
       "version_minor": 0
      },
      "text/plain": [
       "Eval:   0%|          | 0/35 [00:00<?, ?it/s]"
      ]
     },
     "metadata": {},
     "output_type": "display_data"
    },
    {
     "name": "stdout",
     "output_type": "stream",
     "text": [
      "Epoch 26, val_mIoU=0.2671, val_mRecall=0.3631, val_mAcc=0.8900\n"
     ]
    },
    {
     "data": {
      "application/vnd.jupyter.widget-view+json": {
       "model_id": "",
       "version_major": 2,
       "version_minor": 0
      },
      "text/plain": [
       "Train:   0%|          | 0/78 [00:00<?, ?it/s]"
      ]
     },
     "metadata": {},
     "output_type": "display_data"
    },
    {
     "data": {
      "application/vnd.jupyter.widget-view+json": {
       "model_id": "",
       "version_major": 2,
       "version_minor": 0
      },
      "text/plain": [
       "Eval:   0%|          | 0/35 [00:00<?, ?it/s]"
      ]
     },
     "metadata": {},
     "output_type": "display_data"
    },
    {
     "name": "stdout",
     "output_type": "stream",
     "text": [
      "Epoch 27, val_mIoU=0.2659, val_mRecall=0.3634, val_mAcc=0.8895\n"
     ]
    },
    {
     "data": {
      "application/vnd.jupyter.widget-view+json": {
       "model_id": "",
       "version_major": 2,
       "version_minor": 0
      },
      "text/plain": [
       "Train:   0%|          | 0/78 [00:00<?, ?it/s]"
      ]
     },
     "metadata": {},
     "output_type": "display_data"
    },
    {
     "data": {
      "application/vnd.jupyter.widget-view+json": {
       "model_id": "",
       "version_major": 2,
       "version_minor": 0
      },
      "text/plain": [
       "Eval:   0%|          | 0/35 [00:00<?, ?it/s]"
      ]
     },
     "metadata": {},
     "output_type": "display_data"
    },
    {
     "name": "stdout",
     "output_type": "stream",
     "text": [
      "Epoch 28, val_mIoU=0.2812, val_mRecall=0.3777, val_mAcc=0.8931\n"
     ]
    },
    {
     "data": {
      "application/vnd.jupyter.widget-view+json": {
       "model_id": "",
       "version_major": 2,
       "version_minor": 0
      },
      "text/plain": [
       "Train:   0%|          | 0/78 [00:00<?, ?it/s]"
      ]
     },
     "metadata": {},
     "output_type": "display_data"
    },
    {
     "data": {
      "application/vnd.jupyter.widget-view+json": {
       "model_id": "",
       "version_major": 2,
       "version_minor": 0
      },
      "text/plain": [
       "Eval:   0%|          | 0/35 [00:00<?, ?it/s]"
      ]
     },
     "metadata": {},
     "output_type": "display_data"
    },
    {
     "name": "stdout",
     "output_type": "stream",
     "text": [
      "Epoch 29, val_mIoU=0.2645, val_mRecall=0.3596, val_mAcc=0.8894\n"
     ]
    },
    {
     "data": {
      "application/vnd.jupyter.widget-view+json": {
       "model_id": "",
       "version_major": 2,
       "version_minor": 0
      },
      "text/plain": [
       "Train:   0%|          | 0/78 [00:00<?, ?it/s]"
      ]
     },
     "metadata": {},
     "output_type": "display_data"
    },
    {
     "data": {
      "application/vnd.jupyter.widget-view+json": {
       "model_id": "",
       "version_major": 2,
       "version_minor": 0
      },
      "text/plain": [
       "Eval:   0%|          | 0/35 [00:00<?, ?it/s]"
      ]
     },
     "metadata": {},
     "output_type": "display_data"
    },
    {
     "name": "stdout",
     "output_type": "stream",
     "text": [
      "Epoch 30, val_mIoU=0.2783, val_mRecall=0.3747, val_mAcc=0.8923\n"
     ]
    },
    {
     "data": {
      "application/vnd.jupyter.widget-view+json": {
       "model_id": "",
       "version_major": 2,
       "version_minor": 0
      },
      "text/plain": [
       "Train:   0%|          | 0/78 [00:00<?, ?it/s]"
      ]
     },
     "metadata": {},
     "output_type": "display_data"
    },
    {
     "data": {
      "application/vnd.jupyter.widget-view+json": {
       "model_id": "",
       "version_major": 2,
       "version_minor": 0
      },
      "text/plain": [
       "Eval:   0%|          | 0/35 [00:00<?, ?it/s]"
      ]
     },
     "metadata": {},
     "output_type": "display_data"
    },
    {
     "name": "stdout",
     "output_type": "stream",
     "text": [
      "Epoch 31, val_mIoU=0.2786, val_mRecall=0.3742, val_mAcc=0.8910\n"
     ]
    },
    {
     "data": {
      "application/vnd.jupyter.widget-view+json": {
       "model_id": "",
       "version_major": 2,
       "version_minor": 0
      },
      "text/plain": [
       "Train:   0%|          | 0/78 [00:00<?, ?it/s]"
      ]
     },
     "metadata": {},
     "output_type": "display_data"
    },
    {
     "data": {
      "application/vnd.jupyter.widget-view+json": {
       "model_id": "",
       "version_major": 2,
       "version_minor": 0
      },
      "text/plain": [
       "Eval:   0%|          | 0/35 [00:00<?, ?it/s]"
      ]
     },
     "metadata": {},
     "output_type": "display_data"
    },
    {
     "name": "stdout",
     "output_type": "stream",
     "text": [
      "Epoch 32, val_mIoU=0.2755, val_mRecall=0.3705, val_mAcc=0.8906\n"
     ]
    },
    {
     "data": {
      "application/vnd.jupyter.widget-view+json": {
       "model_id": "",
       "version_major": 2,
       "version_minor": 0
      },
      "text/plain": [
       "Train:   0%|          | 0/78 [00:00<?, ?it/s]"
      ]
     },
     "metadata": {},
     "output_type": "display_data"
    },
    {
     "data": {
      "application/vnd.jupyter.widget-view+json": {
       "model_id": "",
       "version_major": 2,
       "version_minor": 0
      },
      "text/plain": [
       "Eval:   0%|          | 0/35 [00:00<?, ?it/s]"
      ]
     },
     "metadata": {},
     "output_type": "display_data"
    },
    {
     "name": "stdout",
     "output_type": "stream",
     "text": [
      "Epoch 33, val_mIoU=0.2786, val_mRecall=0.3763, val_mAcc=0.8928\n"
     ]
    },
    {
     "data": {
      "application/vnd.jupyter.widget-view+json": {
       "model_id": "",
       "version_major": 2,
       "version_minor": 0
      },
      "text/plain": [
       "Train:   0%|          | 0/78 [00:00<?, ?it/s]"
      ]
     },
     "metadata": {},
     "output_type": "display_data"
    },
    {
     "data": {
      "application/vnd.jupyter.widget-view+json": {
       "model_id": "",
       "version_major": 2,
       "version_minor": 0
      },
      "text/plain": [
       "Eval:   0%|          | 0/35 [00:00<?, ?it/s]"
      ]
     },
     "metadata": {},
     "output_type": "display_data"
    },
    {
     "name": "stdout",
     "output_type": "stream",
     "text": [
      "Epoch 34, val_mIoU=0.2895, val_mRecall=0.3883, val_mAcc=0.8938\n"
     ]
    },
    {
     "data": {
      "application/vnd.jupyter.widget-view+json": {
       "model_id": "",
       "version_major": 2,
       "version_minor": 0
      },
      "text/plain": [
       "Train:   0%|          | 0/78 [00:00<?, ?it/s]"
      ]
     },
     "metadata": {},
     "output_type": "display_data"
    },
    {
     "data": {
      "application/vnd.jupyter.widget-view+json": {
       "model_id": "",
       "version_major": 2,
       "version_minor": 0
      },
      "text/plain": [
       "Eval:   0%|          | 0/35 [00:00<?, ?it/s]"
      ]
     },
     "metadata": {},
     "output_type": "display_data"
    },
    {
     "name": "stdout",
     "output_type": "stream",
     "text": [
      "Epoch 35, val_mIoU=0.2758, val_mRecall=0.3706, val_mAcc=0.8920\n"
     ]
    },
    {
     "data": {
      "application/vnd.jupyter.widget-view+json": {
       "model_id": "",
       "version_major": 2,
       "version_minor": 0
      },
      "text/plain": [
       "Train:   0%|          | 0/78 [00:00<?, ?it/s]"
      ]
     },
     "metadata": {},
     "output_type": "display_data"
    },
    {
     "data": {
      "application/vnd.jupyter.widget-view+json": {
       "model_id": "",
       "version_major": 2,
       "version_minor": 0
      },
      "text/plain": [
       "Eval:   0%|          | 0/35 [00:00<?, ?it/s]"
      ]
     },
     "metadata": {},
     "output_type": "display_data"
    },
    {
     "name": "stdout",
     "output_type": "stream",
     "text": [
      "Epoch 36, val_mIoU=0.2759, val_mRecall=0.3736, val_mAcc=0.8924\n"
     ]
    },
    {
     "data": {
      "application/vnd.jupyter.widget-view+json": {
       "model_id": "",
       "version_major": 2,
       "version_minor": 0
      },
      "text/plain": [
       "Train:   0%|          | 0/78 [00:00<?, ?it/s]"
      ]
     },
     "metadata": {},
     "output_type": "display_data"
    },
    {
     "data": {
      "application/vnd.jupyter.widget-view+json": {
       "model_id": "",
       "version_major": 2,
       "version_minor": 0
      },
      "text/plain": [
       "Eval:   0%|          | 0/35 [00:00<?, ?it/s]"
      ]
     },
     "metadata": {},
     "output_type": "display_data"
    },
    {
     "name": "stdout",
     "output_type": "stream",
     "text": [
      "Epoch 37, val_mIoU=0.2901, val_mRecall=0.3859, val_mAcc=0.8938\n"
     ]
    },
    {
     "data": {
      "application/vnd.jupyter.widget-view+json": {
       "model_id": "",
       "version_major": 2,
       "version_minor": 0
      },
      "text/plain": [
       "Train:   0%|          | 0/78 [00:00<?, ?it/s]"
      ]
     },
     "metadata": {},
     "output_type": "display_data"
    },
    {
     "data": {
      "application/vnd.jupyter.widget-view+json": {
       "model_id": "",
       "version_major": 2,
       "version_minor": 0
      },
      "text/plain": [
       "Eval:   0%|          | 0/35 [00:00<?, ?it/s]"
      ]
     },
     "metadata": {},
     "output_type": "display_data"
    },
    {
     "name": "stdout",
     "output_type": "stream",
     "text": [
      "Epoch 38, val_mIoU=0.2782, val_mRecall=0.3738, val_mAcc=0.8910\n"
     ]
    },
    {
     "data": {
      "application/vnd.jupyter.widget-view+json": {
       "model_id": "",
       "version_major": 2,
       "version_minor": 0
      },
      "text/plain": [
       "Train:   0%|          | 0/78 [00:00<?, ?it/s]"
      ]
     },
     "metadata": {},
     "output_type": "display_data"
    },
    {
     "data": {
      "application/vnd.jupyter.widget-view+json": {
       "model_id": "",
       "version_major": 2,
       "version_minor": 0
      },
      "text/plain": [
       "Eval:   0%|          | 0/35 [00:00<?, ?it/s]"
      ]
     },
     "metadata": {},
     "output_type": "display_data"
    },
    {
     "name": "stdout",
     "output_type": "stream",
     "text": [
      "Epoch 39, val_mIoU=0.2870, val_mRecall=0.3855, val_mAcc=0.8937\n"
     ]
    },
    {
     "data": {
      "application/vnd.jupyter.widget-view+json": {
       "model_id": "",
       "version_major": 2,
       "version_minor": 0
      },
      "text/plain": [
       "Train:   0%|          | 0/78 [00:00<?, ?it/s]"
      ]
     },
     "metadata": {},
     "output_type": "display_data"
    },
    {
     "data": {
      "application/vnd.jupyter.widget-view+json": {
       "model_id": "",
       "version_major": 2,
       "version_minor": 0
      },
      "text/plain": [
       "Eval:   0%|          | 0/35 [00:00<?, ?it/s]"
      ]
     },
     "metadata": {},
     "output_type": "display_data"
    },
    {
     "name": "stdout",
     "output_type": "stream",
     "text": [
      "Epoch 40, val_mIoU=0.2908, val_mRecall=0.3879, val_mAcc=0.8944\n"
     ]
    },
    {
     "data": {
      "application/vnd.jupyter.widget-view+json": {
       "model_id": "",
       "version_major": 2,
       "version_minor": 0
      },
      "text/plain": [
       "Train:   0%|          | 0/78 [00:00<?, ?it/s]"
      ]
     },
     "metadata": {},
     "output_type": "display_data"
    },
    {
     "data": {
      "application/vnd.jupyter.widget-view+json": {
       "model_id": "",
       "version_major": 2,
       "version_minor": 0
      },
      "text/plain": [
       "Eval:   0%|          | 0/35 [00:00<?, ?it/s]"
      ]
     },
     "metadata": {},
     "output_type": "display_data"
    },
    {
     "name": "stdout",
     "output_type": "stream",
     "text": [
      "Epoch 41, val_mIoU=0.2914, val_mRecall=0.3875, val_mAcc=0.8941\n"
     ]
    },
    {
     "data": {
      "application/vnd.jupyter.widget-view+json": {
       "model_id": "",
       "version_major": 2,
       "version_minor": 0
      },
      "text/plain": [
       "Train:   0%|          | 0/78 [00:00<?, ?it/s]"
      ]
     },
     "metadata": {},
     "output_type": "display_data"
    },
    {
     "data": {
      "application/vnd.jupyter.widget-view+json": {
       "model_id": "",
       "version_major": 2,
       "version_minor": 0
      },
      "text/plain": [
       "Eval:   0%|          | 0/35 [00:00<?, ?it/s]"
      ]
     },
     "metadata": {},
     "output_type": "display_data"
    },
    {
     "name": "stdout",
     "output_type": "stream",
     "text": [
      "Epoch 42, val_mIoU=0.2973, val_mRecall=0.3950, val_mAcc=0.8961\n"
     ]
    },
    {
     "data": {
      "application/vnd.jupyter.widget-view+json": {
       "model_id": "",
       "version_major": 2,
       "version_minor": 0
      },
      "text/plain": [
       "Train:   0%|          | 0/78 [00:00<?, ?it/s]"
      ]
     },
     "metadata": {},
     "output_type": "display_data"
    },
    {
     "data": {
      "application/vnd.jupyter.widget-view+json": {
       "model_id": "",
       "version_major": 2,
       "version_minor": 0
      },
      "text/plain": [
       "Eval:   0%|          | 0/35 [00:00<?, ?it/s]"
      ]
     },
     "metadata": {},
     "output_type": "display_data"
    },
    {
     "name": "stdout",
     "output_type": "stream",
     "text": [
      "Epoch 43, val_mIoU=0.2933, val_mRecall=0.3915, val_mAcc=0.8954\n"
     ]
    },
    {
     "data": {
      "application/vnd.jupyter.widget-view+json": {
       "model_id": "",
       "version_major": 2,
       "version_minor": 0
      },
      "text/plain": [
       "Train:   0%|          | 0/78 [00:00<?, ?it/s]"
      ]
     },
     "metadata": {},
     "output_type": "display_data"
    },
    {
     "data": {
      "application/vnd.jupyter.widget-view+json": {
       "model_id": "",
       "version_major": 2,
       "version_minor": 0
      },
      "text/plain": [
       "Eval:   0%|          | 0/35 [00:00<?, ?it/s]"
      ]
     },
     "metadata": {},
     "output_type": "display_data"
    },
    {
     "name": "stdout",
     "output_type": "stream",
     "text": [
      "Epoch 44, val_mIoU=0.2927, val_mRecall=0.3910, val_mAcc=0.8945\n"
     ]
    },
    {
     "data": {
      "application/vnd.jupyter.widget-view+json": {
       "model_id": "",
       "version_major": 2,
       "version_minor": 0
      },
      "text/plain": [
       "Train:   0%|          | 0/78 [00:00<?, ?it/s]"
      ]
     },
     "metadata": {},
     "output_type": "display_data"
    },
    {
     "data": {
      "application/vnd.jupyter.widget-view+json": {
       "model_id": "",
       "version_major": 2,
       "version_minor": 0
      },
      "text/plain": [
       "Eval:   0%|          | 0/35 [00:00<?, ?it/s]"
      ]
     },
     "metadata": {},
     "output_type": "display_data"
    },
    {
     "name": "stdout",
     "output_type": "stream",
     "text": [
      "Epoch 45, val_mIoU=0.2950, val_mRecall=0.3942, val_mAcc=0.8948\n"
     ]
    },
    {
     "data": {
      "application/vnd.jupyter.widget-view+json": {
       "model_id": "",
       "version_major": 2,
       "version_minor": 0
      },
      "text/plain": [
       "Train:   0%|          | 0/78 [00:00<?, ?it/s]"
      ]
     },
     "metadata": {},
     "output_type": "display_data"
    },
    {
     "data": {
      "application/vnd.jupyter.widget-view+json": {
       "model_id": "",
       "version_major": 2,
       "version_minor": 0
      },
      "text/plain": [
       "Eval:   0%|          | 0/35 [00:00<?, ?it/s]"
      ]
     },
     "metadata": {},
     "output_type": "display_data"
    },
    {
     "name": "stdout",
     "output_type": "stream",
     "text": [
      "Epoch 46, val_mIoU=0.2927, val_mRecall=0.3909, val_mAcc=0.8951\n"
     ]
    },
    {
     "data": {
      "application/vnd.jupyter.widget-view+json": {
       "model_id": "",
       "version_major": 2,
       "version_minor": 0
      },
      "text/plain": [
       "Train:   0%|          | 0/78 [00:00<?, ?it/s]"
      ]
     },
     "metadata": {},
     "output_type": "display_data"
    },
    {
     "data": {
      "application/vnd.jupyter.widget-view+json": {
       "model_id": "",
       "version_major": 2,
       "version_minor": 0
      },
      "text/plain": [
       "Eval:   0%|          | 0/35 [00:00<?, ?it/s]"
      ]
     },
     "metadata": {},
     "output_type": "display_data"
    },
    {
     "name": "stdout",
     "output_type": "stream",
     "text": [
      "Epoch 47, val_mIoU=0.2933, val_mRecall=0.3910, val_mAcc=0.8941\n"
     ]
    },
    {
     "data": {
      "application/vnd.jupyter.widget-view+json": {
       "model_id": "",
       "version_major": 2,
       "version_minor": 0
      },
      "text/plain": [
       "Train:   0%|          | 0/78 [00:00<?, ?it/s]"
      ]
     },
     "metadata": {},
     "output_type": "display_data"
    },
    {
     "data": {
      "application/vnd.jupyter.widget-view+json": {
       "model_id": "",
       "version_major": 2,
       "version_minor": 0
      },
      "text/plain": [
       "Eval:   0%|          | 0/35 [00:00<?, ?it/s]"
      ]
     },
     "metadata": {},
     "output_type": "display_data"
    },
    {
     "name": "stdout",
     "output_type": "stream",
     "text": [
      "Epoch 48, val_mIoU=0.3010, val_mRecall=0.3986, val_mAcc=0.8960\n"
     ]
    },
    {
     "data": {
      "application/vnd.jupyter.widget-view+json": {
       "model_id": "",
       "version_major": 2,
       "version_minor": 0
      },
      "text/plain": [
       "Train:   0%|          | 0/78 [00:00<?, ?it/s]"
      ]
     },
     "metadata": {},
     "output_type": "display_data"
    },
    {
     "data": {
      "application/vnd.jupyter.widget-view+json": {
       "model_id": "",
       "version_major": 2,
       "version_minor": 0
      },
      "text/plain": [
       "Eval:   0%|          | 0/35 [00:00<?, ?it/s]"
      ]
     },
     "metadata": {},
     "output_type": "display_data"
    },
    {
     "name": "stdout",
     "output_type": "stream",
     "text": [
      "Epoch 49, val_mIoU=0.3055, val_mRecall=0.4037, val_mAcc=0.8973\n"
     ]
    },
    {
     "data": {
      "application/vnd.jupyter.widget-view+json": {
       "model_id": "",
       "version_major": 2,
       "version_minor": 0
      },
      "text/plain": [
       "Train:   0%|          | 0/78 [00:00<?, ?it/s]"
      ]
     },
     "metadata": {},
     "output_type": "display_data"
    },
    {
     "data": {
      "application/vnd.jupyter.widget-view+json": {
       "model_id": "",
       "version_major": 2,
       "version_minor": 0
      },
      "text/plain": [
       "Eval:   0%|          | 0/35 [00:00<?, ?it/s]"
      ]
     },
     "metadata": {},
     "output_type": "display_data"
    },
    {
     "name": "stdout",
     "output_type": "stream",
     "text": [
      "Epoch 50, val_mIoU=0.2982, val_mRecall=0.3944, val_mAcc=0.8962\n"
     ]
    },
    {
     "data": {
      "application/vnd.jupyter.widget-view+json": {
       "model_id": "",
       "version_major": 2,
       "version_minor": 0
      },
      "text/plain": [
       "Train:   0%|          | 0/78 [00:00<?, ?it/s]"
      ]
     },
     "metadata": {},
     "output_type": "display_data"
    },
    {
     "data": {
      "application/vnd.jupyter.widget-view+json": {
       "model_id": "",
       "version_major": 2,
       "version_minor": 0
      },
      "text/plain": [
       "Eval:   0%|          | 0/35 [00:00<?, ?it/s]"
      ]
     },
     "metadata": {},
     "output_type": "display_data"
    },
    {
     "name": "stdout",
     "output_type": "stream",
     "text": [
      "Epoch 51, val_mIoU=0.3016, val_mRecall=0.3982, val_mAcc=0.8971\n"
     ]
    },
    {
     "data": {
      "application/vnd.jupyter.widget-view+json": {
       "model_id": "",
       "version_major": 2,
       "version_minor": 0
      },
      "text/plain": [
       "Train:   0%|          | 0/78 [00:00<?, ?it/s]"
      ]
     },
     "metadata": {},
     "output_type": "display_data"
    },
    {
     "data": {
      "application/vnd.jupyter.widget-view+json": {
       "model_id": "",
       "version_major": 2,
       "version_minor": 0
      },
      "text/plain": [
       "Eval:   0%|          | 0/35 [00:00<?, ?it/s]"
      ]
     },
     "metadata": {},
     "output_type": "display_data"
    },
    {
     "name": "stdout",
     "output_type": "stream",
     "text": [
      "Epoch 52, val_mIoU=0.2978, val_mRecall=0.3947, val_mAcc=0.8957\n"
     ]
    },
    {
     "data": {
      "application/vnd.jupyter.widget-view+json": {
       "model_id": "",
       "version_major": 2,
       "version_minor": 0
      },
      "text/plain": [
       "Train:   0%|          | 0/78 [00:00<?, ?it/s]"
      ]
     },
     "metadata": {},
     "output_type": "display_data"
    },
    {
     "data": {
      "application/vnd.jupyter.widget-view+json": {
       "model_id": "",
       "version_major": 2,
       "version_minor": 0
      },
      "text/plain": [
       "Eval:   0%|          | 0/35 [00:00<?, ?it/s]"
      ]
     },
     "metadata": {},
     "output_type": "display_data"
    },
    {
     "name": "stdout",
     "output_type": "stream",
     "text": [
      "Epoch 53, val_mIoU=0.3065, val_mRecall=0.4053, val_mAcc=0.8980\n"
     ]
    },
    {
     "data": {
      "application/vnd.jupyter.widget-view+json": {
       "model_id": "",
       "version_major": 2,
       "version_minor": 0
      },
      "text/plain": [
       "Train:   0%|          | 0/78 [00:00<?, ?it/s]"
      ]
     },
     "metadata": {},
     "output_type": "display_data"
    },
    {
     "data": {
      "application/vnd.jupyter.widget-view+json": {
       "model_id": "",
       "version_major": 2,
       "version_minor": 0
      },
      "text/plain": [
       "Eval:   0%|          | 0/35 [00:00<?, ?it/s]"
      ]
     },
     "metadata": {},
     "output_type": "display_data"
    },
    {
     "name": "stdout",
     "output_type": "stream",
     "text": [
      "Epoch 54, val_mIoU=0.3026, val_mRecall=0.4005, val_mAcc=0.8972\n"
     ]
    },
    {
     "data": {
      "application/vnd.jupyter.widget-view+json": {
       "model_id": "",
       "version_major": 2,
       "version_minor": 0
      },
      "text/plain": [
       "Train:   0%|          | 0/78 [00:00<?, ?it/s]"
      ]
     },
     "metadata": {},
     "output_type": "display_data"
    },
    {
     "data": {
      "application/vnd.jupyter.widget-view+json": {
       "model_id": "",
       "version_major": 2,
       "version_minor": 0
      },
      "text/plain": [
       "Eval:   0%|          | 0/35 [00:00<?, ?it/s]"
      ]
     },
     "metadata": {},
     "output_type": "display_data"
    },
    {
     "name": "stdout",
     "output_type": "stream",
     "text": [
      "Epoch 55, val_mIoU=0.3036, val_mRecall=0.4008, val_mAcc=0.8971\n"
     ]
    },
    {
     "data": {
      "application/vnd.jupyter.widget-view+json": {
       "model_id": "",
       "version_major": 2,
       "version_minor": 0
      },
      "text/plain": [
       "Train:   0%|          | 0/78 [00:00<?, ?it/s]"
      ]
     },
     "metadata": {},
     "output_type": "display_data"
    },
    {
     "data": {
      "application/vnd.jupyter.widget-view+json": {
       "model_id": "",
       "version_major": 2,
       "version_minor": 0
      },
      "text/plain": [
       "Eval:   0%|          | 0/35 [00:00<?, ?it/s]"
      ]
     },
     "metadata": {},
     "output_type": "display_data"
    },
    {
     "name": "stdout",
     "output_type": "stream",
     "text": [
      "Epoch 56, val_mIoU=0.3087, val_mRecall=0.4063, val_mAcc=0.8982\n"
     ]
    },
    {
     "data": {
      "application/vnd.jupyter.widget-view+json": {
       "model_id": "",
       "version_major": 2,
       "version_minor": 0
      },
      "text/plain": [
       "Train:   0%|          | 0/78 [00:00<?, ?it/s]"
      ]
     },
     "metadata": {},
     "output_type": "display_data"
    },
    {
     "data": {
      "application/vnd.jupyter.widget-view+json": {
       "model_id": "",
       "version_major": 2,
       "version_minor": 0
      },
      "text/plain": [
       "Eval:   0%|          | 0/35 [00:00<?, ?it/s]"
      ]
     },
     "metadata": {},
     "output_type": "display_data"
    },
    {
     "name": "stdout",
     "output_type": "stream",
     "text": [
      "Epoch 57, val_mIoU=0.3079, val_mRecall=0.4060, val_mAcc=0.8983\n"
     ]
    },
    {
     "data": {
      "application/vnd.jupyter.widget-view+json": {
       "model_id": "",
       "version_major": 2,
       "version_minor": 0
      },
      "text/plain": [
       "Train:   0%|          | 0/78 [00:00<?, ?it/s]"
      ]
     },
     "metadata": {},
     "output_type": "display_data"
    },
    {
     "data": {
      "application/vnd.jupyter.widget-view+json": {
       "model_id": "",
       "version_major": 2,
       "version_minor": 0
      },
      "text/plain": [
       "Eval:   0%|          | 0/35 [00:00<?, ?it/s]"
      ]
     },
     "metadata": {},
     "output_type": "display_data"
    },
    {
     "name": "stdout",
     "output_type": "stream",
     "text": [
      "Epoch 58, val_mIoU=0.3060, val_mRecall=0.4043, val_mAcc=0.8976\n"
     ]
    },
    {
     "data": {
      "application/vnd.jupyter.widget-view+json": {
       "model_id": "",
       "version_major": 2,
       "version_minor": 0
      },
      "text/plain": [
       "Train:   0%|          | 0/78 [00:00<?, ?it/s]"
      ]
     },
     "metadata": {},
     "output_type": "display_data"
    },
    {
     "data": {
      "application/vnd.jupyter.widget-view+json": {
       "model_id": "",
       "version_major": 2,
       "version_minor": 0
      },
      "text/plain": [
       "Eval:   0%|          | 0/35 [00:00<?, ?it/s]"
      ]
     },
     "metadata": {},
     "output_type": "display_data"
    },
    {
     "name": "stdout",
     "output_type": "stream",
     "text": [
      "Epoch 59, val_mIoU=0.3118, val_mRecall=0.4108, val_mAcc=0.8988\n"
     ]
    },
    {
     "data": {
      "application/vnd.jupyter.widget-view+json": {
       "model_id": "",
       "version_major": 2,
       "version_minor": 0
      },
      "text/plain": [
       "Train:   0%|          | 0/78 [00:00<?, ?it/s]"
      ]
     },
     "metadata": {},
     "output_type": "display_data"
    },
    {
     "data": {
      "application/vnd.jupyter.widget-view+json": {
       "model_id": "",
       "version_major": 2,
       "version_minor": 0
      },
      "text/plain": [
       "Eval:   0%|          | 0/35 [00:00<?, ?it/s]"
      ]
     },
     "metadata": {},
     "output_type": "display_data"
    },
    {
     "name": "stdout",
     "output_type": "stream",
     "text": [
      "Epoch 60, val_mIoU=0.3093, val_mRecall=0.4070, val_mAcc=0.8983\n"
     ]
    },
    {
     "data": {
      "application/vnd.jupyter.widget-view+json": {
       "model_id": "",
       "version_major": 2,
       "version_minor": 0
      },
      "text/plain": [
       "Train:   0%|          | 0/78 [00:00<?, ?it/s]"
      ]
     },
     "metadata": {},
     "output_type": "display_data"
    },
    {
     "data": {
      "application/vnd.jupyter.widget-view+json": {
       "model_id": "",
       "version_major": 2,
       "version_minor": 0
      },
      "text/plain": [
       "Eval:   0%|          | 0/35 [00:00<?, ?it/s]"
      ]
     },
     "metadata": {},
     "output_type": "display_data"
    },
    {
     "name": "stdout",
     "output_type": "stream",
     "text": [
      "Epoch 61, val_mIoU=0.3178, val_mRecall=0.4154, val_mAcc=0.8997\n"
     ]
    },
    {
     "data": {
      "application/vnd.jupyter.widget-view+json": {
       "model_id": "",
       "version_major": 2,
       "version_minor": 0
      },
      "text/plain": [
       "Train:   0%|          | 0/78 [00:00<?, ?it/s]"
      ]
     },
     "metadata": {},
     "output_type": "display_data"
    },
    {
     "data": {
      "application/vnd.jupyter.widget-view+json": {
       "model_id": "",
       "version_major": 2,
       "version_minor": 0
      },
      "text/plain": [
       "Eval:   0%|          | 0/35 [00:00<?, ?it/s]"
      ]
     },
     "metadata": {},
     "output_type": "display_data"
    },
    {
     "name": "stdout",
     "output_type": "stream",
     "text": [
      "Epoch 62, val_mIoU=0.3189, val_mRecall=0.4169, val_mAcc=0.9001\n"
     ]
    },
    {
     "data": {
      "application/vnd.jupyter.widget-view+json": {
       "model_id": "",
       "version_major": 2,
       "version_minor": 0
      },
      "text/plain": [
       "Train:   0%|          | 0/78 [00:00<?, ?it/s]"
      ]
     },
     "metadata": {},
     "output_type": "display_data"
    },
    {
     "data": {
      "application/vnd.jupyter.widget-view+json": {
       "model_id": "",
       "version_major": 2,
       "version_minor": 0
      },
      "text/plain": [
       "Eval:   0%|          | 0/35 [00:00<?, ?it/s]"
      ]
     },
     "metadata": {},
     "output_type": "display_data"
    },
    {
     "name": "stdout",
     "output_type": "stream",
     "text": [
      "Epoch 63, val_mIoU=0.3193, val_mRecall=0.4189, val_mAcc=0.9004\n"
     ]
    },
    {
     "data": {
      "application/vnd.jupyter.widget-view+json": {
       "model_id": "",
       "version_major": 2,
       "version_minor": 0
      },
      "text/plain": [
       "Train:   0%|          | 0/78 [00:00<?, ?it/s]"
      ]
     },
     "metadata": {},
     "output_type": "display_data"
    },
    {
     "data": {
      "application/vnd.jupyter.widget-view+json": {
       "model_id": "",
       "version_major": 2,
       "version_minor": 0
      },
      "text/plain": [
       "Eval:   0%|          | 0/35 [00:00<?, ?it/s]"
      ]
     },
     "metadata": {},
     "output_type": "display_data"
    },
    {
     "name": "stdout",
     "output_type": "stream",
     "text": [
      "Epoch 64, val_mIoU=0.3155, val_mRecall=0.4135, val_mAcc=0.8995\n"
     ]
    },
    {
     "data": {
      "application/vnd.jupyter.widget-view+json": {
       "model_id": "",
       "version_major": 2,
       "version_minor": 0
      },
      "text/plain": [
       "Train:   0%|          | 0/78 [00:00<?, ?it/s]"
      ]
     },
     "metadata": {},
     "output_type": "display_data"
    },
    {
     "data": {
      "application/vnd.jupyter.widget-view+json": {
       "model_id": "",
       "version_major": 2,
       "version_minor": 0
      },
      "text/plain": [
       "Eval:   0%|          | 0/35 [00:00<?, ?it/s]"
      ]
     },
     "metadata": {},
     "output_type": "display_data"
    },
    {
     "name": "stdout",
     "output_type": "stream",
     "text": [
      "Epoch 65, val_mIoU=0.3153, val_mRecall=0.4136, val_mAcc=0.8995\n"
     ]
    },
    {
     "data": {
      "application/vnd.jupyter.widget-view+json": {
       "model_id": "",
       "version_major": 2,
       "version_minor": 0
      },
      "text/plain": [
       "Train:   0%|          | 0/78 [00:00<?, ?it/s]"
      ]
     },
     "metadata": {},
     "output_type": "display_data"
    },
    {
     "data": {
      "application/vnd.jupyter.widget-view+json": {
       "model_id": "",
       "version_major": 2,
       "version_minor": 0
      },
      "text/plain": [
       "Eval:   0%|          | 0/35 [00:00<?, ?it/s]"
      ]
     },
     "metadata": {},
     "output_type": "display_data"
    },
    {
     "name": "stdout",
     "output_type": "stream",
     "text": [
      "Epoch 66, val_mIoU=0.3153, val_mRecall=0.4134, val_mAcc=0.8998\n"
     ]
    },
    {
     "data": {
      "application/vnd.jupyter.widget-view+json": {
       "model_id": "",
       "version_major": 2,
       "version_minor": 0
      },
      "text/plain": [
       "Train:   0%|          | 0/78 [00:00<?, ?it/s]"
      ]
     },
     "metadata": {},
     "output_type": "display_data"
    },
    {
     "data": {
      "application/vnd.jupyter.widget-view+json": {
       "model_id": "",
       "version_major": 2,
       "version_minor": 0
      },
      "text/plain": [
       "Eval:   0%|          | 0/35 [00:00<?, ?it/s]"
      ]
     },
     "metadata": {},
     "output_type": "display_data"
    },
    {
     "name": "stdout",
     "output_type": "stream",
     "text": [
      "Epoch 67, val_mIoU=0.3188, val_mRecall=0.4166, val_mAcc=0.9004\n"
     ]
    },
    {
     "data": {
      "application/vnd.jupyter.widget-view+json": {
       "model_id": "",
       "version_major": 2,
       "version_minor": 0
      },
      "text/plain": [
       "Train:   0%|          | 0/78 [00:00<?, ?it/s]"
      ]
     },
     "metadata": {},
     "output_type": "display_data"
    },
    {
     "data": {
      "application/vnd.jupyter.widget-view+json": {
       "model_id": "",
       "version_major": 2,
       "version_minor": 0
      },
      "text/plain": [
       "Eval:   0%|          | 0/35 [00:00<?, ?it/s]"
      ]
     },
     "metadata": {},
     "output_type": "display_data"
    },
    {
     "name": "stdout",
     "output_type": "stream",
     "text": [
      "Epoch 68, val_mIoU=0.3264, val_mRecall=0.4236, val_mAcc=0.9017\n"
     ]
    },
    {
     "data": {
      "application/vnd.jupyter.widget-view+json": {
       "model_id": "",
       "version_major": 2,
       "version_minor": 0
      },
      "text/plain": [
       "Train:   0%|          | 0/78 [00:00<?, ?it/s]"
      ]
     },
     "metadata": {},
     "output_type": "display_data"
    },
    {
     "data": {
      "application/vnd.jupyter.widget-view+json": {
       "model_id": "",
       "version_major": 2,
       "version_minor": 0
      },
      "text/plain": [
       "Eval:   0%|          | 0/35 [00:00<?, ?it/s]"
      ]
     },
     "metadata": {},
     "output_type": "display_data"
    },
    {
     "name": "stdout",
     "output_type": "stream",
     "text": [
      "Epoch 69, val_mIoU=0.3221, val_mRecall=0.4199, val_mAcc=0.9010\n"
     ]
    },
    {
     "data": {
      "application/vnd.jupyter.widget-view+json": {
       "model_id": "",
       "version_major": 2,
       "version_minor": 0
      },
      "text/plain": [
       "Train:   0%|          | 0/78 [00:00<?, ?it/s]"
      ]
     },
     "metadata": {},
     "output_type": "display_data"
    },
    {
     "data": {
      "application/vnd.jupyter.widget-view+json": {
       "model_id": "",
       "version_major": 2,
       "version_minor": 0
      },
      "text/plain": [
       "Eval:   0%|          | 0/35 [00:00<?, ?it/s]"
      ]
     },
     "metadata": {},
     "output_type": "display_data"
    },
    {
     "name": "stdout",
     "output_type": "stream",
     "text": [
      "Epoch 70, val_mIoU=0.3245, val_mRecall=0.4226, val_mAcc=0.9018\n"
     ]
    },
    {
     "data": {
      "application/vnd.jupyter.widget-view+json": {
       "model_id": "",
       "version_major": 2,
       "version_minor": 0
      },
      "text/plain": [
       "Train:   0%|          | 0/78 [00:00<?, ?it/s]"
      ]
     },
     "metadata": {},
     "output_type": "display_data"
    },
    {
     "data": {
      "application/vnd.jupyter.widget-view+json": {
       "model_id": "",
       "version_major": 2,
       "version_minor": 0
      },
      "text/plain": [
       "Eval:   0%|          | 0/35 [00:00<?, ?it/s]"
      ]
     },
     "metadata": {},
     "output_type": "display_data"
    },
    {
     "name": "stdout",
     "output_type": "stream",
     "text": [
      "Epoch 71, val_mIoU=0.3273, val_mRecall=0.4247, val_mAcc=0.9022\n"
     ]
    },
    {
     "data": {
      "application/vnd.jupyter.widget-view+json": {
       "model_id": "",
       "version_major": 2,
       "version_minor": 0
      },
      "text/plain": [
       "Train:   0%|          | 0/78 [00:00<?, ?it/s]"
      ]
     },
     "metadata": {},
     "output_type": "display_data"
    },
    {
     "data": {
      "application/vnd.jupyter.widget-view+json": {
       "model_id": "",
       "version_major": 2,
       "version_minor": 0
      },
      "text/plain": [
       "Eval:   0%|          | 0/35 [00:00<?, ?it/s]"
      ]
     },
     "metadata": {},
     "output_type": "display_data"
    },
    {
     "name": "stdout",
     "output_type": "stream",
     "text": [
      "Epoch 72, val_mIoU=0.3268, val_mRecall=0.4240, val_mAcc=0.9020\n"
     ]
    },
    {
     "data": {
      "application/vnd.jupyter.widget-view+json": {
       "model_id": "",
       "version_major": 2,
       "version_minor": 0
      },
      "text/plain": [
       "Train:   0%|          | 0/78 [00:00<?, ?it/s]"
      ]
     },
     "metadata": {},
     "output_type": "display_data"
    },
    {
     "data": {
      "application/vnd.jupyter.widget-view+json": {
       "model_id": "",
       "version_major": 2,
       "version_minor": 0
      },
      "text/plain": [
       "Eval:   0%|          | 0/35 [00:00<?, ?it/s]"
      ]
     },
     "metadata": {},
     "output_type": "display_data"
    },
    {
     "name": "stdout",
     "output_type": "stream",
     "text": [
      "Epoch 73, val_mIoU=0.3264, val_mRecall=0.4227, val_mAcc=0.9020\n"
     ]
    },
    {
     "data": {
      "application/vnd.jupyter.widget-view+json": {
       "model_id": "",
       "version_major": 2,
       "version_minor": 0
      },
      "text/plain": [
       "Train:   0%|          | 0/78 [00:00<?, ?it/s]"
      ]
     },
     "metadata": {},
     "output_type": "display_data"
    },
    {
     "data": {
      "application/vnd.jupyter.widget-view+json": {
       "model_id": "",
       "version_major": 2,
       "version_minor": 0
      },
      "text/plain": [
       "Eval:   0%|          | 0/35 [00:00<?, ?it/s]"
      ]
     },
     "metadata": {},
     "output_type": "display_data"
    },
    {
     "name": "stdout",
     "output_type": "stream",
     "text": [
      "Epoch 74, val_mIoU=0.3272, val_mRecall=0.4238, val_mAcc=0.9022\n"
     ]
    },
    {
     "data": {
      "application/vnd.jupyter.widget-view+json": {
       "model_id": "",
       "version_major": 2,
       "version_minor": 0
      },
      "text/plain": [
       "Train:   0%|          | 0/78 [00:00<?, ?it/s]"
      ]
     },
     "metadata": {},
     "output_type": "display_data"
    },
    {
     "data": {
      "application/vnd.jupyter.widget-view+json": {
       "model_id": "",
       "version_major": 2,
       "version_minor": 0
      },
      "text/plain": [
       "Eval:   0%|          | 0/35 [00:00<?, ?it/s]"
      ]
     },
     "metadata": {},
     "output_type": "display_data"
    },
    {
     "name": "stdout",
     "output_type": "stream",
     "text": [
      "Epoch 75, val_mIoU=0.3268, val_mRecall=0.4234, val_mAcc=0.9020\n"
     ]
    },
    {
     "data": {
      "application/vnd.jupyter.widget-view+json": {
       "model_id": "",
       "version_major": 2,
       "version_minor": 0
      },
      "text/plain": [
       "Train:   0%|          | 0/78 [00:00<?, ?it/s]"
      ]
     },
     "metadata": {},
     "output_type": "display_data"
    },
    {
     "data": {
      "application/vnd.jupyter.widget-view+json": {
       "model_id": "",
       "version_major": 2,
       "version_minor": 0
      },
      "text/plain": [
       "Eval:   0%|          | 0/35 [00:00<?, ?it/s]"
      ]
     },
     "metadata": {},
     "output_type": "display_data"
    },
    {
     "name": "stdout",
     "output_type": "stream",
     "text": [
      "Epoch 76, val_mIoU=0.3293, val_mRecall=0.4255, val_mAcc=0.9024\n"
     ]
    },
    {
     "data": {
      "application/vnd.jupyter.widget-view+json": {
       "model_id": "",
       "version_major": 2,
       "version_minor": 0
      },
      "text/plain": [
       "Train:   0%|          | 0/78 [00:00<?, ?it/s]"
      ]
     },
     "metadata": {},
     "output_type": "display_data"
    },
    {
     "data": {
      "application/vnd.jupyter.widget-view+json": {
       "model_id": "",
       "version_major": 2,
       "version_minor": 0
      },
      "text/plain": [
       "Eval:   0%|          | 0/35 [00:00<?, ?it/s]"
      ]
     },
     "metadata": {},
     "output_type": "display_data"
    },
    {
     "name": "stdout",
     "output_type": "stream",
     "text": [
      "Epoch 77, val_mIoU=0.3279, val_mRecall=0.4245, val_mAcc=0.9020\n"
     ]
    },
    {
     "data": {
      "application/vnd.jupyter.widget-view+json": {
       "model_id": "",
       "version_major": 2,
       "version_minor": 0
      },
      "text/plain": [
       "Train:   0%|          | 0/78 [00:00<?, ?it/s]"
      ]
     },
     "metadata": {},
     "output_type": "display_data"
    },
    {
     "data": {
      "application/vnd.jupyter.widget-view+json": {
       "model_id": "",
       "version_major": 2,
       "version_minor": 0
      },
      "text/plain": [
       "Eval:   0%|          | 0/35 [00:00<?, ?it/s]"
      ]
     },
     "metadata": {},
     "output_type": "display_data"
    },
    {
     "name": "stdout",
     "output_type": "stream",
     "text": [
      "Epoch 78, val_mIoU=0.3309, val_mRecall=0.4279, val_mAcc=0.9026\n"
     ]
    },
    {
     "data": {
      "application/vnd.jupyter.widget-view+json": {
       "model_id": "",
       "version_major": 2,
       "version_minor": 0
      },
      "text/plain": [
       "Train:   0%|          | 0/78 [00:00<?, ?it/s]"
      ]
     },
     "metadata": {},
     "output_type": "display_data"
    },
    {
     "data": {
      "application/vnd.jupyter.widget-view+json": {
       "model_id": "",
       "version_major": 2,
       "version_minor": 0
      },
      "text/plain": [
       "Eval:   0%|          | 0/35 [00:00<?, ?it/s]"
      ]
     },
     "metadata": {},
     "output_type": "display_data"
    },
    {
     "name": "stdout",
     "output_type": "stream",
     "text": [
      "Epoch 79, val_mIoU=0.3297, val_mRecall=0.4264, val_mAcc=0.9023\n"
     ]
    },
    {
     "data": {
      "application/vnd.jupyter.widget-view+json": {
       "model_id": "",
       "version_major": 2,
       "version_minor": 0
      },
      "text/plain": [
       "Train:   0%|          | 0/78 [00:00<?, ?it/s]"
      ]
     },
     "metadata": {},
     "output_type": "display_data"
    },
    {
     "data": {
      "application/vnd.jupyter.widget-view+json": {
       "model_id": "",
       "version_major": 2,
       "version_minor": 0
      },
      "text/plain": [
       "Eval:   0%|          | 0/35 [00:00<?, ?it/s]"
      ]
     },
     "metadata": {},
     "output_type": "display_data"
    },
    {
     "name": "stdout",
     "output_type": "stream",
     "text": [
      "Epoch 80, val_mIoU=0.3292, val_mRecall=0.4266, val_mAcc=0.9022\n"
     ]
    },
    {
     "data": {
      "application/vnd.jupyter.widget-view+json": {
       "model_id": "",
       "version_major": 2,
       "version_minor": 0
      },
      "text/plain": [
       "Train:   0%|          | 0/78 [00:00<?, ?it/s]"
      ]
     },
     "metadata": {},
     "output_type": "display_data"
    },
    {
     "data": {
      "application/vnd.jupyter.widget-view+json": {
       "model_id": "",
       "version_major": 2,
       "version_minor": 0
      },
      "text/plain": [
       "Eval:   0%|          | 0/35 [00:00<?, ?it/s]"
      ]
     },
     "metadata": {},
     "output_type": "display_data"
    },
    {
     "name": "stdout",
     "output_type": "stream",
     "text": [
      "Epoch 81, val_mIoU=0.3270, val_mRecall=0.4240, val_mAcc=0.9019\n"
     ]
    },
    {
     "data": {
      "application/vnd.jupyter.widget-view+json": {
       "model_id": "",
       "version_major": 2,
       "version_minor": 0
      },
      "text/plain": [
       "Train:   0%|          | 0/78 [00:00<?, ?it/s]"
      ]
     },
     "metadata": {},
     "output_type": "display_data"
    },
    {
     "data": {
      "application/vnd.jupyter.widget-view+json": {
       "model_id": "",
       "version_major": 2,
       "version_minor": 0
      },
      "text/plain": [
       "Eval:   0%|          | 0/35 [00:00<?, ?it/s]"
      ]
     },
     "metadata": {},
     "output_type": "display_data"
    },
    {
     "name": "stdout",
     "output_type": "stream",
     "text": [
      "Epoch 82, val_mIoU=0.3305, val_mRecall=0.4270, val_mAcc=0.9025\n"
     ]
    },
    {
     "data": {
      "application/vnd.jupyter.widget-view+json": {
       "model_id": "",
       "version_major": 2,
       "version_minor": 0
      },
      "text/plain": [
       "Train:   0%|          | 0/78 [00:00<?, ?it/s]"
      ]
     },
     "metadata": {},
     "output_type": "display_data"
    },
    {
     "data": {
      "application/vnd.jupyter.widget-view+json": {
       "model_id": "",
       "version_major": 2,
       "version_minor": 0
      },
      "text/plain": [
       "Eval:   0%|          | 0/35 [00:00<?, ?it/s]"
      ]
     },
     "metadata": {},
     "output_type": "display_data"
    },
    {
     "name": "stdout",
     "output_type": "stream",
     "text": [
      "Epoch 83, val_mIoU=0.3349, val_mRecall=0.4312, val_mAcc=0.9033\n"
     ]
    },
    {
     "data": {
      "application/vnd.jupyter.widget-view+json": {
       "model_id": "",
       "version_major": 2,
       "version_minor": 0
      },
      "text/plain": [
       "Train:   0%|          | 0/78 [00:00<?, ?it/s]"
      ]
     },
     "metadata": {},
     "output_type": "display_data"
    },
    {
     "data": {
      "application/vnd.jupyter.widget-view+json": {
       "model_id": "",
       "version_major": 2,
       "version_minor": 0
      },
      "text/plain": [
       "Eval:   0%|          | 0/35 [00:00<?, ?it/s]"
      ]
     },
     "metadata": {},
     "output_type": "display_data"
    },
    {
     "name": "stdout",
     "output_type": "stream",
     "text": [
      "Epoch 84, val_mIoU=0.3343, val_mRecall=0.4304, val_mAcc=0.9032\n"
     ]
    },
    {
     "data": {
      "application/vnd.jupyter.widget-view+json": {
       "model_id": "",
       "version_major": 2,
       "version_minor": 0
      },
      "text/plain": [
       "Train:   0%|          | 0/78 [00:00<?, ?it/s]"
      ]
     },
     "metadata": {},
     "output_type": "display_data"
    },
    {
     "data": {
      "application/vnd.jupyter.widget-view+json": {
       "model_id": "",
       "version_major": 2,
       "version_minor": 0
      },
      "text/plain": [
       "Eval:   0%|          | 0/35 [00:00<?, ?it/s]"
      ]
     },
     "metadata": {},
     "output_type": "display_data"
    },
    {
     "name": "stdout",
     "output_type": "stream",
     "text": [
      "Epoch 85, val_mIoU=0.3322, val_mRecall=0.4284, val_mAcc=0.9028\n"
     ]
    },
    {
     "data": {
      "application/vnd.jupyter.widget-view+json": {
       "model_id": "",
       "version_major": 2,
       "version_minor": 0
      },
      "text/plain": [
       "Train:   0%|          | 0/78 [00:00<?, ?it/s]"
      ]
     },
     "metadata": {},
     "output_type": "display_data"
    },
    {
     "data": {
      "application/vnd.jupyter.widget-view+json": {
       "model_id": "",
       "version_major": 2,
       "version_minor": 0
      },
      "text/plain": [
       "Eval:   0%|          | 0/35 [00:00<?, ?it/s]"
      ]
     },
     "metadata": {},
     "output_type": "display_data"
    },
    {
     "name": "stdout",
     "output_type": "stream",
     "text": [
      "Epoch 86, val_mIoU=0.3317, val_mRecall=0.4283, val_mAcc=0.9026\n"
     ]
    },
    {
     "data": {
      "application/vnd.jupyter.widget-view+json": {
       "model_id": "d3b67545e53648b5942c5344d96d7524",
       "version_major": 2,
       "version_minor": 0
      },
      "text/plain": [
       "Train:   0%|          | 0/78 [00:00<?, ?it/s]"
      ]
     },
     "metadata": {},
     "output_type": "display_data"
    },
    {
     "ename": "KeyboardInterrupt",
     "evalue": "",
     "output_type": "error",
     "traceback": [
      "\u001b[1;31m---------------------------------------------------------------------------\u001b[0m",
      "\u001b[1;31mKeyboardInterrupt\u001b[0m                         Traceback (most recent call last)",
      "Cell \u001b[1;32mIn[68], line 30\u001b[0m\n\u001b[0;32m     27\u001b[0m optim\u001b[38;5;241m.\u001b[39mzero_grad()\n\u001b[0;32m     29\u001b[0m \u001b[38;5;28;01mfor\u001b[39;00m i, batch \u001b[38;5;129;01min\u001b[39;00m \u001b[38;5;28menumerate\u001b[39m(tqdm(train_dataloader, colour\u001b[38;5;241m=\u001b[39m\u001b[38;5;124m\"\u001b[39m\u001b[38;5;124m#444499\u001b[39m\u001b[38;5;124m\"\u001b[39m, leave\u001b[38;5;241m=\u001b[39m\u001b[38;5;28;01mFalse\u001b[39;00m, desc\u001b[38;5;241m=\u001b[39m\u001b[38;5;124mf\u001b[39m\u001b[38;5;124m\"\u001b[39m\u001b[38;5;124mTrain\u001b[39m\u001b[38;5;124m\"\u001b[39m)):\n\u001b[1;32m---> 30\u001b[0m     x, y \u001b[38;5;241m=\u001b[39m \u001b[43mbatch\u001b[49m\u001b[43m[\u001b[49m\u001b[38;5;241;43m0\u001b[39;49m\u001b[43m]\u001b[49m\u001b[38;5;241;43m.\u001b[39;49m\u001b[43mto\u001b[49m\u001b[43m(\u001b[49m\u001b[43mdevice\u001b[49m\u001b[43m)\u001b[49m, batch[\u001b[38;5;241m1\u001b[39m]\u001b[38;5;241m.\u001b[39mto(device)\n\u001b[0;32m     31\u001b[0m     pred \u001b[38;5;241m=\u001b[39m m(x)\n\u001b[0;32m     32\u001b[0m     loss \u001b[38;5;241m=\u001b[39m criterion(pred, y)\n",
      "\u001b[1;31mKeyboardInterrupt\u001b[0m: "
     ]
    }
   ],
   "source": [
    "import gc\n",
    "\n",
    "device='cuda:0'\n",
    "try:\n",
    "    del m, optim, scheduler, pred, x, y, loss\n",
    "except: pass\n",
    "torch.cuda.empty_cache()\n",
    "gc.collect()\n",
    "torch.cuda.empty_cache()\n",
    "\n",
    "m = UNet(NUM_CLASSES, depth=64, dropout=0.15).to(device)\n",
    "\n",
    "train_dataloader = DataLoader(train_dataset, batch_size=4, shuffle=True)\n",
    "\n",
    "val_dataloader = DataLoader(test_dataset, batch_size=1, shuffle=False)\n",
    "\n",
    "grad_accum = 20\n",
    "criterion = nn.CrossEntropyLoss()\n",
    "optim = torch.optim.Adam(m.parameters(), lr=2e-4, betas=(0.8, 0.9))\n",
    "scheduler = torch.optim.lr_scheduler.StepLR(optim, step_size=1, gamma=0.95)\n",
    "tb = SummaryWriter()\n",
    "\n",
    "\n",
    "global_step = 0\n",
    "for epoch in tqdm(range(100), colour=\"#449944\"):\n",
    "    m.train()\n",
    "    optim.zero_grad()\n",
    "    \n",
    "    for i, batch in enumerate(tqdm(train_dataloader, colour=\"#444499\", leave=False, desc=f\"Train\")):\n",
    "        x, y = batch[0].to(device), batch[1].to(device)\n",
    "        pred = m(x)\n",
    "        loss = criterion(pred, y)\n",
    "\n",
    "        tb.add_scalar(\"train_loss\", loss.item(), global_step)\n",
    "        global_step += 1\n",
    "        loss.backward()\n",
    "        \n",
    "        if (i+1) % grad_accum == 0 or i == len(train_dataloader) - 1:\n",
    "            optim.step()    \n",
    "            optim.zero_grad()\n",
    "            \n",
    "    scheduler.step()\n",
    "\n",
    "    intersection, union, target = 0.0, 0.0, 0.0\n",
    "    with torch.no_grad():\n",
    "        outputs = []\n",
    "        masks = []\n",
    "        m.eval()\n",
    "        for batch in tqdm(val_dataloader, colour=\"#227777\", leave=False, desc=f\"Eval\"):\n",
    "            x, y = batch[0].to(device), batch[1].to(device)\n",
    "            pred = m(x)\n",
    "\n",
    "            loss = criterion(pred, y).detach()\n",
    "\n",
    "            # tmp_intersection, tmp_union, tmp_target = calc_val_data(pred, y, 8)\n",
    "            # # batch_size x num_classes x H x W\n",
    "            # intersection += tmp_intersection.sum(0)\n",
    "            # union += tmp_union.sum(0)\n",
    "            # target += tmp_target.sum(0)\n",
    "\n",
    "            outputs.append(pred.detach().cpu())\n",
    "            masks.append(y.detach().cpu())\n",
    "            \n",
    "        outputs = torch.cat(outputs, 0)\n",
    "        masks = torch.cat(masks, 0)\n",
    "    \n",
    "    torch.cuda.empty_cache()\n",
    "    gc.collect()\n",
    "    torch.cuda.empty_cache()\n",
    "            \n",
    "\n",
    "    mean_iou, mean_class_rec, mean_acc = calc_val_loss(outputs, masks, NUM_CLASSES, eps=1e-7)\n",
    "\n",
    "    print(f\"Epoch {epoch}, val_mIoU={mean_iou:.4f}, val_mRecall={mean_class_rec:.4f}, val_mAcc={mean_acc:.4f}\")\n",
    "    tb.add_scalar(\"val_mean_iou\", mean_iou, epoch)\n",
    "    tb.add_scalar(\"val_mean_class_rec\", mean_class_rec, epoch)\n",
    "    tb.add_scalar(\"val_mean_acc\", mean_acc, epoch)"
   ]
  },
  {
   "cell_type": "code",
   "execution_count": 17,
   "metadata": {
    "id": "0OudugKOcA_M"
   },
   "outputs": [
    {
     "data": {
      "text/html": [
       "\n",
       "      <iframe id=\"tensorboard-frame-e7f22fb3e2d9446b\" width=\"100%\" height=\"800\" frameborder=\"0\">\n",
       "      </iframe>\n",
       "      <script>\n",
       "        (function() {\n",
       "          const frame = document.getElementById(\"tensorboard-frame-e7f22fb3e2d9446b\");\n",
       "          const url = new URL(\"/\", window.location);\n",
       "          const port = 7765;\n",
       "          if (port) {\n",
       "            url.port = port;\n",
       "          }\n",
       "          frame.src = url;\n",
       "        })();\n",
       "      </script>\n",
       "    "
      ],
      "text/plain": [
       "<IPython.core.display.HTML object>"
      ]
     },
     "metadata": {},
     "output_type": "display_data"
    }
   ],
   "source": [
    "%load_ext tensorboard\n",
    "%tensorboard --port=7765 --logdir runs"
   ]
  },
  {
   "cell_type": "markdown",
   "metadata": {
    "id": "4MjjIxbOQBih"
   },
   "source": [
    "## Часть 2: Ваше решение (2/3 от максимального числа баллов)"
   ]
  },
  {
   "cell_type": "markdown",
   "metadata": {
    "id": "Ty2Sb_oNQElt"
   },
   "source": [
    "В данной задаче предстоит выбить скор 45 mAcc на валидации.\n",
    "\n",
    "Для решения можно использовать любые фреймворки, методы, модели.\n",
    "\n",
    "Рекомендация к решению:\n",
    "- Удобно будет воспользоваться предобученными моделями из [mmsegmentation](https://mmsegmentation.readthedocs.io/)\n",
    "- Для реализации аугментаций вы можете воспользоваться библиотекой [albumentations](https://albumentations.ai/docs/)\n",
    "\n",
    "\n",
    "В качестве решения вам нужно предоставить:\n",
    "\n",
    "- checkpoint вашей модели.\n",
    "- скрипт с загрузкой модели и её инференса вашей модели на валидационной выборке.\n",
    "- отчет о решении в TeX / Markdown.\n",
    "\n",
    "Отчет должен включать себя:\n",
    "\n",
    "- описание финального решения. Какие техники/методы/архитектуры вы использовали. Также в эту часть должны быть включены кривые обучения для финального решения (Cross entropy loss, mean IoU, mean Acc). Для кривых обучения можете использовать tensorboard logs.\n",
    "\n",
    "- описание промежуточных экспериментов, которые показывают процесс ваших размышлений при выборе тех или иных решений."
   ]
  },
  {
   "cell_type": "markdown",
   "metadata": {
    "id": "FZhkgzWAoRL6"
   },
   "source": [
    "### Ваше решение"
   ]
  },
  {
   "cell_type": "markdown",
   "metadata": {
    "id": "gXRVRZD5oNHz"
   },
   "source": [
    "Ничего не делал дополнительно к 1 части, потому что требуемый скор итак побивается вдвое чем угодно, а на вопросы в чате по-поводу этого ответа так и не увидел, да и перебором предобученных моделей без четкой цели заниматься не очень хочется -- хватило классификации собак на курсе Нейчева. \n",
    "\n",
    "В первой части для улучшения результата (просто посмотреть а сколько можно получить обучая с нуля) перебирал параметры аугментаций, увеличивал/уменьшал количество слоев в сетке, двигал/убирал/добавлял dropout и layernorm, менял активации, добавил gradient accumulation для повышения стабильности тренировки, менял параметры scheduler-a и оптимизатора.\n",
    "\n",
    "Особых закономерностей, кроме того, что не стоит брать слишком маленькие кропы и экстремальные значения LR, выявлено не было. Довольно серьезно помогла нормализация. Сетка умудряется учиться точно также при добавлении dropout-а, одновременно показывая ХУДШИЕ результаты на тесте, что звучит как совершеннейший абсурд. Основная гипотеза почему все так плохо -- очень кривая разметка (в чате куча примеров), которую по-хорошему надо фиксить, но это довольно долго и не кажется не предполагалось. \n",
    "\n",
    "Скрипт с инференсом по сути написан в тренировке, скоры для последней опробованной модели видны в последней ячейке, выбирать лучшую не понятно как (на валидации максимум было что-то вроде 0.42 mean IoU, но результат нестабильный), поскольку значения довольно сильно скачут при незначительных изменениях процесса -- нужно фиксить датасет, а нужный скор выбивает все что угодно с корректно написанным кодом, поэтому веса не прикладываю (да и не успеваю, что-то я поздновато вспомнил что домашку еще отправить надо..)"
   ]
  },
  {
   "cell_type": "code",
   "execution_count": null,
   "metadata": {},
   "outputs": [],
   "source": []
  }
 ],
 "metadata": {
  "accelerator": "GPU",
  "colab": {
   "provenance": []
  },
  "kernelspec": {
   "display_name": "Python 3 (ipykernel)",
   "language": "python",
   "name": "python3"
  },
  "language_info": {
   "codemirror_mode": {
    "name": "ipython",
    "version": 3
   },
   "file_extension": ".py",
   "mimetype": "text/x-python",
   "name": "python",
   "nbconvert_exporter": "python",
   "pygments_lexer": "ipython3",
   "version": "3.10.13"
  }
 },
 "nbformat": 4,
 "nbformat_minor": 4
}
