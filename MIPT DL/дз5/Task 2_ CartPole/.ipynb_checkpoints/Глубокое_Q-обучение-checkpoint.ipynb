{
 "cells": [
  {
   "cell_type": "markdown",
   "metadata": {},
   "source": [
    "# Глубокая Q-сеть, вариант многослойного перцептрона 5 баллов\n",
    "\n",
    "#### дедлайн задания: 24 ноября 23:59\n",
    "\n",
    "В данной домашней работе требуется реализовать DQN &mdash; приближённый алгоритм Q-обучения c механизмом _experience_ _replay_ и целевой сетью (_target network_) &mdash; и пронаблюдать, лучше ли подход DQN работает по сравнению с рассмотренными ранее в каком-либо аспекте.\n",
    "\n",
    "Исходная статья:\n",
    "https://arxiv.org/pdf/1312.5602.pdf\n",
    "\n",
    "Конспект теории по глубокому Q-обучению:\n",
    "https://arxiv.org/pdf/2201.09746.pdf (главы 4.1 и 4.2)"
   ]
  },
  {
   "cell_type": "markdown",
   "metadata": {},
   "source": [
    "# Работа выполнена: Охотников Никита Владимирович, Б05-003."
   ]
  },
  {
   "cell_type": "markdown",
   "metadata": {},
   "source": [
    "В данном задании требуется обучить агента в среде CartPole. По идее, процесс обучения должен занять несколько десятков минут."
   ]
  },
  {
   "cell_type": "code",
   "execution_count": 1,
   "metadata": {},
   "outputs": [],
   "source": [
    "import gym\n",
    "import random\n",
    "import numpy as np\n",
    "import matplotlib.pyplot as plt\n",
    "import torch\n",
    "import utils\n",
    "from IPython.display import HTML\n",
    "import os\n",
    "import seaborn as sns\n",
    "sns.set_style(\"darkgrid\")"
   ]
  },
  {
   "cell_type": "markdown",
   "metadata": {},
   "source": [
    "### CartPole, снова"
   ]
  },
  {
   "cell_type": "code",
   "execution_count": 137,
   "metadata": {},
   "outputs": [],
   "source": [
    "ENV_NAME = \"CartPole-v1\"\n",
    "\n",
    "class reset_seed_wrapper(gym.Wrapper):\n",
    "    def __init__(self, env, seed):\n",
    "        super().__init__(env)\n",
    "        self.seed = seed\n",
    "    def reset(self):\n",
    "        return self.env.reset(seed= self.seed)[0] # откидываем ненужное\n",
    "    def step(self, action):\n",
    "        s, r, done, info, _ = self.env.step(action, )\n",
    "        return s, r, done, info\n",
    "def make_env(seed=None):\n",
    "    # CartPole обёрнут в time limit wrapper по умолчанию\n",
    "    env = gym.make(ENV_NAME).unwrapped\n",
    "    env = reset_seed_wrapper(env, seed)\n",
    "    # if seed is not None:\n",
    "    #     env.seed(seed)\n",
    "    return env"
   ]
  },
  {
   "cell_type": "code",
   "execution_count": 140,
   "metadata": {},
   "outputs": [
    {
     "data": {
      "text/plain": [
       "array([-0.00356901,  0.02307127, -0.03104124,  0.01418228], dtype=float32)"
      ]
     },
     "execution_count": 140,
     "metadata": {},
     "output_type": "execute_result"
    }
   ],
   "source": [
    "env = make_env()\n",
    "state = env.reset()\n",
    "state"
   ]
  },
  {
   "cell_type": "code",
   "execution_count": 4,
   "metadata": {},
   "outputs": [
    {
     "data": {
      "text/plain": [
       "(4,)"
      ]
     },
     "execution_count": 4,
     "metadata": {},
     "output_type": "execute_result"
    }
   ],
   "source": [
    "state_shape = env.observation_space.shape\n",
    "state_shape"
   ]
  },
  {
   "cell_type": "code",
   "execution_count": 5,
   "metadata": {},
   "outputs": [
    {
     "data": {
      "text/plain": [
       "2"
      ]
     },
     "execution_count": 5,
     "metadata": {},
     "output_type": "execute_result"
    }
   ],
   "source": [
    "n_actions = env.action_space.n\n",
    "n_actions"
   ]
  },
  {
   "cell_type": "markdown",
   "metadata": {},
   "source": [
    "# Приближённое Q-обучение: построение сети\n",
    "\n",
    "Теперь требуется построить нейронную сеть, способную отображать наблюдения в Q-ценности состояния. Так как происходит работа с предобработанными признаками (положения тележки, углы и скорости), то не требуется сложная нейронная сеть пока. Фактически, нужно построить нейронную сеть с архитектурой, обозначенной снизу:\n",
    "\n",
    "<img src=https://raw.githubusercontent.com/yandexdataschool/Practical_RL/master/yet_another_week/_resource/qlearning_scheme.png width=640>\n",
    "\n",
    "В идеале рекомендуется начать с небольших 1-2 скрытых слоёв с < 200 нейронов и затем увеличить размер сети, если агент не может получить целевую награду. Батч-нормализация и дропаут здесь могут всё испортить. Также рекомендуется избегать использование таких нелинейностей, как функция сигмоиды и гиперболического тангенса: наблюдения агента не нормализованы, так что сигмоиды могут концентрироваться у нуля."
   ]
  },
  {
   "cell_type": "code",
   "execution_count": 6,
   "metadata": {},
   "outputs": [
    {
     "data": {
      "text/plain": [
       "device(type='cpu')"
      ]
     },
     "execution_count": 6,
     "metadata": {},
     "output_type": "execute_result"
    }
   ],
   "source": [
    "import torch\n",
    "import torch.nn as nn\n",
    "\n",
    "# device = torch.device(\"cuda\" if torch.cuda.is_available() else \"cpu\")\n",
    "# # те, кто имеют GPU, но не хотят использовать графический вычислитель, могут раскомментировать:\n",
    "device = torch.device('cpu')\n",
    "device"
   ]
  },
  {
   "cell_type": "code",
   "execution_count": 95,
   "metadata": {},
   "outputs": [],
   "source": [
    "class DQNAgent(nn.Module):\n",
    "    def __init__(self, state_shape, n_actions, epsilon=0):\n",
    "\n",
    "        super().__init__()\n",
    "        self.epsilon = epsilon\n",
    "        self.n_actions = n_actions\n",
    "        self.state_shape = state_shape\n",
    "        # Задайте структуру нейронной сети здесь. \n",
    "        # Убедитесь в том, что здесь определёны все параметры агента.\n",
    "        assert len(state_shape) == 1\n",
    "        state_dim = state_shape[0]\n",
    "        self.network = nn.Sequential(\n",
    "                    nn.Linear(state_dim, 100),\n",
    "                    nn.ReLU(),\n",
    "                    nn.Linear(100, 200),\n",
    "                    nn.ReLU(),\n",
    "                    nn.Linear(200, 100),\n",
    "                    nn.ReLU(),\n",
    "                    nn.Linear(100, self.n_actions))\n",
    "\n",
    "        \n",
    "    def forward(self, state_t):\n",
    "        \"\"\"\n",
    "        принимает наблюдение агента (тензор), возвращает qvalues (тензор)\n",
    "        :параметр state_t: батч состояний, размерность = [batch_size, *state_dim=4]\n",
    "        \"\"\"\n",
    "        # Используйте Вашу нейросеть для вычисления qvalues данного состояния state_t\n",
    "        state_t = state_t.to(device)\n",
    "        qvalues = self.network(state_t)\n",
    "\n",
    "        assert qvalues.requires_grad #\"qvalues должны быть torch tensor с возможностью дифференцирования\"\n",
    "        assert len(\n",
    "            qvalues.shape) == 2 and qvalues.shape[0] == state_t.shape[0] and qvalues.shape[1] == n_actions\n",
    "\n",
    "        return qvalues\n",
    "\n",
    "    def get_qvalues(self, states):\n",
    "        \"\"\"\n",
    "        Как forward, только работает на numpy arrays, не на тензорах\n",
    "        \"\"\"\n",
    "        model_device = next(self.parameters()).device\n",
    "        states = torch.tensor(states, device=model_device, dtype=torch.float32)\n",
    "        qvalues = self.forward(states)\n",
    "        return qvalues.data.cpu().numpy()\n",
    "\n",
    "    def sample_actions(self, qvalues):\n",
    "        \"\"\"Выбрать действия для данных qvalues. Использует эпсилон-жадную стратегию исследования среды.\"\"\"\n",
    "        epsilon = self.epsilon\n",
    "        batch_size, n_actions = qvalues.shape\n",
    "\n",
    "        random_actions = np.random.choice(n_actions, size=batch_size)\n",
    "        best_actions = qvalues.argmax(axis=-1)\n",
    "\n",
    "        should_explore = np.random.choice(\n",
    "            [0, 1], batch_size, p=[1-epsilon, epsilon])\n",
    "        return np.where(should_explore, random_actions, best_actions)"
   ]
  },
  {
   "cell_type": "code",
   "execution_count": 96,
   "metadata": {},
   "outputs": [],
   "source": [
    "agent = DQNAgent(state_shape, n_actions, epsilon=0.5).to(device)"
   ]
  },
  {
   "cell_type": "markdown",
   "metadata": {},
   "source": [
    "Теперь давайте проверим нашего агента на предмет наличия ошибок."
   ]
  },
  {
   "cell_type": "code",
   "execution_count": 97,
   "metadata": {},
   "outputs": [],
   "source": [
    "def evaluate(env, agent, n_games=1, greedy=False, t_max=10000):\n",
    "    \"\"\"Играет qvalues полных эпизодов. Если greedy=True, то действия берутся из детерминированной\n",
    "    стратегии как argmax(qvalues). Возвращает среднюю награду.\"\"\"\n",
    "    rewards = []\n",
    "    for _ in range(n_games):\n",
    "        s = env.reset()\n",
    "        reward = 0\n",
    "        for _ in range(t_max):\n",
    "            \n",
    "            qvalues = agent.get_qvalues([s])\n",
    "            action = (\n",
    "                qvalues.argmax(axis=-1)[0]\n",
    "                if greedy\n",
    "                else agent.sample_actions(qvalues)[0]\n",
    "            )\n",
    "            s, r, done, info = env.step(action)\n",
    "            reward += r\n",
    "            if done:\n",
    "                break\n",
    "\n",
    "        rewards.append(reward)\n",
    "    env.close()\n",
    "    return np.mean(rewards)"
   ]
  },
  {
   "cell_type": "code",
   "execution_count": 98,
   "metadata": {},
   "outputs": [
    {
     "data": {
      "text/plain": [
       "15.0"
      ]
     },
     "execution_count": 98,
     "metadata": {},
     "output_type": "execute_result"
    }
   ],
   "source": [
    "evaluate(env, agent, n_games=1)"
   ]
  },
  {
   "cell_type": "markdown",
   "metadata": {},
   "source": [
    "# Experience Replay\n",
    "Сущетвует мощный метод, который можно использовать для улучшения сходимости _off-policy_ алгоритмов относительно общего количества используемых сэмплов: _Experience_ _Replay_. Смысл состоит в том, что появляется возможность настроить агента с помощью Q-обучения и EV-SARSA на кортежах `<s,a,r,s'>`, даже если они не сэмплированы из текущей политики агента. Итак, здесь требуется реализовать следующее:\n",
    "\n",
    "<img src=https://github.com/yandexdataschool/Practical_RL/raw/master/yet_another_week/_resource/exp_replay.png width=640>\n",
    "\n",
    "#### Обучение с experience replay\n",
    "1. Сыграть шаг игры, отсэмплировать `<s,a,r,s'>`.\n",
    "2. Обновить q-values на основе `<s,a,r,s'>`.\n",
    "3. Записать `<s,a,r,s'>` в буфер. \n",
    " 3. Если буфер полный, то удалить ранние данные.\n",
    "4. Сэмплировать K таких переходов из данного буфера и обновить q-values на их основе.\n",
    "\n",
    "#### Интерфейс довольно простой:\n",
    "* `exp_replay.add(obs, act, rw, next_obs, done)`  &mdash; сохраняет кортеж (s,a,r,s',done) в буфер\n",
    "* `exp_replay.sample(batch_size)` &mdash; возвращает наблюдения, действия, награды, следующие наблюдения и is_done для `batch_size` случайных сэмплов.\n",
    "* `len(exp_replay)` &mdash; возвращает количество элиментов, хранящихся в буфере на данный момент.\n",
    "\n",
    "\n",
    "Для применения такого обучения требуется, во-первых, реализация структуры памяти, которая будет работать как буфер."
   ]
  },
  {
   "cell_type": "code",
   "execution_count": 99,
   "metadata": {},
   "outputs": [],
   "source": [
    "from numpy_ringbuffer import RingBuffer\n",
    "import random\n",
    "\n",
    "\n",
    "class ReplayBuffer(object):\n",
    "    def __init__(self, size):\n",
    "        \"\"\"\n",
    "        Создаёт буфер реплеев.\n",
    "        Параметры\n",
    "        ----------\n",
    "        size: int\n",
    "            Максимальное количество хранящихся единовременно переходов. При переполнении буфера старые\n",
    "            записи удаляются.\n",
    "\n",
    "        Замечание: для данного задания можно выбрать любую структуру данных.\n",
    "              Если Вам достаточно простого решения, то можно просто хранить список кортежей (s, a, r, s')\n",
    "              в self._storage. Однако, можно найти более быстрые и/или эффективные по памяти способы\n",
    "              реализации самого хранения переходов.\n",
    "        \"\"\"\n",
    "        self._storage = RingBuffer(capacity=size, dtype=tuple)\n",
    "        self._maxsize = size\n",
    "\n",
    "        # Дополнительно: Ваш код\n",
    "\n",
    "    def __len__(self):\n",
    "        return len(self._storage)\n",
    "\n",
    "    def add(self, obs_t, action, reward, obs_tp1, done):\n",
    "        '''\n",
    "        Убедитесь, что _storage не превзойдёт по размерам _maxsize. \n",
    "        Убедитесь, что FIFO правило выполняется: старейшие прецеденты должны удаляться раньше всех.\n",
    "        '''\n",
    "        data = (obs_t, action, reward, obs_tp1, done)\n",
    "        # storage = self._storage\n",
    "        # maxsize = self._maxsize\n",
    "\n",
    "        self._storage.append(data)\n",
    "\n",
    "    def sample(self, batch_size):\n",
    "        \"\"\"Сэмплирование батча переходов.\n",
    "        Параметры\n",
    "        ----------\n",
    "        batch_size: int\n",
    "            Сколько переходов сэмплировать.\n",
    "        Возвращает\n",
    "        -------\n",
    "        obs_batch: np.array\n",
    "            батч наблюдений (состояний)\n",
    "        act_batch: np.array\n",
    "            батч действий, выполненных на основе obs_batch\n",
    "        rew_batch: np.array\n",
    "            награды, полученные в качестве результата выполнения act_batch\n",
    "        next_obs_batch: np.array\n",
    "            следующие наблюдения (состояния), полученные после выполнения act_batch\n",
    "        done_mask: np.array\n",
    "            done_mask[i] = 1, если выполнение act_batch[i] повлекло\n",
    "            окончание эпизода и 0 иначе.\n",
    "        \"\"\"\n",
    "            # < случайно сгенерировать batch_size индексов сэмплов в буфере >\n",
    "            # собрать <s,a,r,s',done> для каждого индекса\n",
    "        samples = random.choices(self._storage, k=batch_size)\n",
    "        # < states > , < actions >, < rewards >,  < next_states >, < is_done >\n",
    "        return np.array([s[0] for s in samples]), np.array([s[1] for s in samples]), np.array([s[2] for s in samples]), \\\n",
    "                    np.array([s[3] for s in samples]), np.array([s[4] for s in samples])"
   ]
  },
  {
   "cell_type": "code",
   "execution_count": 100,
   "metadata": {},
   "outputs": [],
   "source": [
    "exp_replay = ReplayBuffer(10)\n",
    "\n",
    "for _ in range(30):\n",
    "    exp_replay.add(env.reset(), env.action_space.sample(), 1.0, env.reset(), done=False)\n",
    "\n",
    "obs_batch, act_batch, reward_batch, next_obs_batch, is_done_batch = exp_replay.sample(5)\n",
    "\n",
    "assert (\n",
    "    len(exp_replay) == 10\n",
    "), \"размер буфера должен быть равен 10, потому что это максимальная вместимость\""
   ]
  },
  {
   "cell_type": "code",
   "execution_count": 101,
   "metadata": {},
   "outputs": [],
   "source": [
    "def play_and_record(initial_state, agent, env, exp_replay, n_steps=1):\n",
    "    \"\"\"\n",
    "    Сыграть в игру n_steps шагов, записать каждый (s,a,r,s', done) в exp_replay буфер.\n",
    "    Как только игра заканчивается, добавляется запись с done=True и среда env перезапускается.\n",
    "    Гарантируетcя, что env находится в состоянии done=False после работы функции.\n",
    "\n",
    "    ПРОСЬБА НЕ ПЕРЕЗАПУСКАТЬ ENV, ПОКА ОНА НЕ В СОСТОЯНИИ \"DONE\"\n",
    "\n",
    "    :возвращает: сумму наград по времени и состояние, в котором среда оказалась\n",
    "    \"\"\"\n",
    "    s = initial_state\n",
    "    sum_rewards = 0\n",
    "\n",
    "    # Сыграть в игру n_steps шагов согласно инструкциям выше\n",
    "    for i in range(n_steps):\n",
    "        qvalues = agent.get_qvalues([s])        \n",
    "        action = agent.sample_actions(qvalues)[0]\n",
    "        \n",
    "        new_state, r, done, info = env.step(action)\n",
    "        sum_rewards += r\n",
    "        \n",
    "        exp_replay.add(s, action, r, new_state, done)\n",
    "        \n",
    "        s = new_state\n",
    "        if done:\n",
    "            s = env.reset()\n",
    "\n",
    "    return sum_rewards, s"
   ]
  },
  {
   "cell_type": "code",
   "execution_count": 102,
   "metadata": {},
   "outputs": [
    {
     "name": "stdout",
     "output_type": "stream",
     "text": [
      "Отлично справились!\n"
     ]
    }
   ],
   "source": [
    "# Протестируйте Ваш код.\n",
    "exp_replay = ReplayBuffer(2000)\n",
    "\n",
    "state = env.reset()\n",
    "play_and_record(state, agent, env, exp_replay, n_steps=1000)\n",
    "\n",
    "# если вы используете собственный experience replay буфер, то некоторые из тестов, возможно, потребуется\n",
    "# скорректировать.\n",
    "# Убедитесь в том, что Вы знаете, что Ваш код делает\n",
    "assert len(exp_replay) == 1000, (\n",
    "    \"play_and_record должна добавить ровно 1000 шагов, \"\n",
    "    \"но вместо этого добавила %i\" % len(exp_replay)\n",
    ")\n",
    "is_dones = list(zip(*exp_replay._storage))[-1]\n",
    "\n",
    "assert 0 < np.mean(is_dones) < 0.1, (\n",
    "    \"Убедитесь, что Вы перезапускаете игру, как только она 'done', и корректно записываете is_done в буфер.\"\n",
    "    \"Получена %f доля is_done за %i шагов. [Если думаете, что Вам не повезло, то просто перезапустите тест.]\"\n",
    "    % (np.mean(is_dones), len(exp_replay))\n",
    ")\n",
    "\n",
    "for _ in range(100):\n",
    "    (\n",
    "        obs_batch,\n",
    "        act_batch,\n",
    "        reward_batch,\n",
    "        next_obs_batch,\n",
    "        is_done_batch,\n",
    "    ) = exp_replay.sample(10)\n",
    "    assert obs_batch.shape == next_obs_batch.shape == (10,) + state_shape\n",
    "    assert act_batch.shape == (\n",
    "        10,\n",
    "    ), \"батч действий должен иметь размер (10,), но имееет %s\" % str(act_batch.shape)\n",
    "    assert reward_batch.shape == (\n",
    "        10,\n",
    "    ), \"батч наград должен иметь размер (10,), но имееет %s\" % str(reward_batch.shape)\n",
    "    assert is_done_batch.shape == (\n",
    "        10,\n",
    "    ), \"батч is_done должен иметь размер (10,), но имееет %s\" % str(is_done_batch.shape)\n",
    "    assert [\n",
    "        int(i) in (0, 1) for i in is_dones\n",
    "    ], \"is_done должен быть строго True или False\"\n",
    "    assert [\n",
    "        0 <= a < n_actions for a in act_batch\n",
    "    ], \"действия должны быть в промежутке [0, n_actions]\"\n",
    "\n",
    "print(\"Отлично справились!\")"
   ]
  },
  {
   "cell_type": "markdown",
   "metadata": {},
   "source": [
    "# Целевые сети\n",
    "\n",
    "Также будет реализована так называемая \"целевая сеть\" &mdash; копия весов нейронной сети агента, используемая для оценки целевого значения Q-функции:\n",
    "\n",
    "Сама по себе сеть представляет собой точную копию сети агента, но её параметры не обучаются. Наоборот, они берутся из обучаемой сети агента раз в несколько итераций цикла обучения.\n",
    "\n",
    "$$ Q_{reference}(s,a) = r + \\gamma \\cdot \\max _{a'} Q_{target}(s',a') $$\n",
    "\n",
    "<img src=https://github.com/yandexdataschool/Practical_RL/raw/master/yet_another_week/_resource/target_net.png width=480>"
   ]
  },
  {
   "cell_type": "code",
   "execution_count": 103,
   "metadata": {},
   "outputs": [
    {
     "data": {
      "text/plain": [
       "<All keys matched successfully>"
      ]
     },
     "execution_count": 103,
     "metadata": {},
     "output_type": "execute_result"
    }
   ],
   "source": [
    "target_network = DQNAgent(agent.state_shape, agent.n_actions, epsilon=0.5).to(device)\n",
    "# Так можно загружать веса из агента в целевую сеть\n",
    "target_network.load_state_dict(agent.state_dict())"
   ]
  },
  {
   "cell_type": "markdown",
   "metadata": {},
   "source": [
    "# Обучение с помощью... Q-обучения\n",
    "Тут будет реализована функция, похожая на `agent.update` из табличного Q-обучения."
   ]
  },
  {
   "cell_type": "markdown",
   "metadata": {},
   "source": [
    "Вычислить TD ошибку Q-обучения:\n",
    "\n",
    "$$ L = { 1 \\over N} \\sum_i [ Q_{\\theta}(s,a) - Q_{reference}(s,a) ] ^2 $$\n",
    "\n",
    "С $Q_{reference}$, определённой как:\n",
    "\n",
    "$$ Q_{reference}(s,a) = r(s,a) + \\gamma \\cdot max_{a'} Q_{target}(s', a') $$\n",
    "\n",
    "Где\n",
    "* $Q_{target}(s',a')$ обозначает Q-ценность следующего состояния и следующего действия, предсказанного с помощью __target_network__\n",
    "* $s, a, r, s'$ суть текущие состояние, действие, награда и следующее состояние соответственно\n",
    "* $\\gamma$ фактор дисконта, определённый двумя блоками выше.\n",
    "\n",
    "\n",
    "__Замечание 1:__ ниже представлен пример входных данных. Не бойтесь с ним экспериментировать, прежде чем написать непосредственно функцию.\n",
    "\n",
    "__Замечание 2:__ compute_td_loss есть источник приблизительно 99% ошибок в данной домашней работе. Если награда не увеличивается, то часто в подобных случаях помогает построчная отладка с помощью [резиновой утки](https://rubberduckdebugging.com/)."
   ]
  },
  {
   "cell_type": "code",
   "execution_count": 104,
   "metadata": {},
   "outputs": [],
   "source": [
    "def compute_td_loss(states, actions, rewards, next_states, is_done,\n",
    "                    agent, target_network,\n",
    "                    gamma=0.99,\n",
    "                    check_shapes=False,\n",
    "                    device=device):\n",
    "    \"\"\" Вычислите td функцию потерь, используя только операции PyTorch. Используйте формулы выше. \"\"\"\n",
    "    states = torch.tensor(states, device=device, dtype=torch.float)    # размер: [batch_size, *state_shape]\n",
    "    # print('S', states)\n",
    "\n",
    "    actions = torch.tensor(actions, device=device, dtype=torch.long)    # размер: [batch_size]\n",
    "    # print('A', actions)\n",
    "    rewards = torch.tensor(rewards, device=device, dtype=torch.float)  # размер: [batch_size]\n",
    "    # print('R', rewards)\n",
    "    # размер: [batch_size, *state_shape]\n",
    "    next_states = torch.tensor(next_states, device=device, dtype=torch.float)\n",
    "    # print(\"S'\", next_states)\n",
    "    is_done = torch.tensor(\n",
    "        is_done.astype('float32'),\n",
    "        device=device,\n",
    "        dtype=torch.float\n",
    "    )  # размер: [batch_size]\n",
    "    is_not_done = 1 - is_done\n",
    "    # print('done', is_not_done)\n",
    "\n",
    "    # получить q-values для всех действий в текущих состояниях\n",
    "    predicted_qvalues = agent(states)\n",
    "    # print('Q(s,a)', predicted_qvalues)\n",
    "\n",
    "    # вычислить q-values для всех действий в следующих состояниях\n",
    "    predicted_next_qvalues = target_network(next_states)\n",
    "    # print(\"Q(s',a')\", predicted_next_qvalues)\n",
    "    \n",
    "    # выбрать q-values для соотоветствующих выбранных действий\n",
    "    predicted_qvalues_for_actions = predicted_qvalues[range(\n",
    "        len(actions)), actions]\n",
    "    # print('selected Q(s, a)', predicted_qvalues_for_actions)\n",
    "\n",
    "    # вычислить V*(next_states), используя предсказанные следующие q-values\n",
    "    next_state_values = torch.max(predicted_next_qvalues, dim=1)[0]\n",
    "\n",
    "    assert next_state_values.dim(\n",
    "    ) == 1 and next_state_values.shape[0] == states.shape[0], \"нужно предсказывать одно действие для состояния\"\n",
    "\n",
    "    # вычислить \"target q-values\" для функции потерь - то, что внутри квадратных скобок в формуле выше.\n",
    "    # в последнем состоянии использовать упрощённую формулу: Q(s,a) = r(s,a) так как s' не существует\n",
    "    # Вы можете умножить следующие состояния на is_not_done для достижения этого.\n",
    "    target_qvalues_for_actions = rewards + gamma * next_state_values * is_not_done\n",
    "\n",
    "    # среднеквадратическая функция потерь для минимизации\n",
    "    \n",
    "    assert predicted_qvalues_for_actions.shape == target_qvalues_for_actions.shape\n",
    "    \n",
    "    loss = torch.mean((predicted_qvalues_for_actions -\n",
    "                       target_qvalues_for_actions.detach()) ** 2)\n",
    "    # print('loss vector', (predicted_qvalues_for_actions -\n",
    "    #                   target_qvalues_for_actions.detach()) ** 2)\n",
    "    # print('loss', loss)\n",
    "\n",
    "    if check_shapes:\n",
    "        assert predicted_next_qvalues.data.dim(\n",
    "        ) == 2, \"убедитесь, что Вы предсказали все q-values для всех действий в следующих состояниях\"\n",
    "        assert next_state_values.data.dim(\n",
    "        ) == 1, \"убедитесь, что Вы вычислили V(s') как максимум по оси действий в тензоре, а не по всем осям\"\n",
    "        assert target_qvalues_for_actions.data.dim(\n",
    "        ) == 1, \"что-то не то с целевыми q-values, они должны быть вектором\"\n",
    "\n",
    "    return loss"
   ]
  },
  {
   "cell_type": "markdown",
   "metadata": {},
   "source": [
    "Проверка корректности реализации"
   ]
  },
  {
   "cell_type": "code",
   "execution_count": 105,
   "metadata": {},
   "outputs": [],
   "source": [
    "obs_batch, act_batch, reward_batch, next_obs_batch, is_done_batch = exp_replay.sample(\n",
    "    10\n",
    ")\n",
    "\n",
    "loss = compute_td_loss(\n",
    "    obs_batch,\n",
    "    act_batch,\n",
    "    reward_batch,\n",
    "    next_obs_batch,\n",
    "    is_done_batch,\n",
    "    agent,\n",
    "    target_network,\n",
    "    gamma=0.99,\n",
    "    check_shapes=True,\n",
    ")\n",
    "loss.backward()\n",
    "\n",
    "assert (\n",
    "    loss.requires_grad and tuple(loss.data.size()) == ()\n",
    "), \"Вы должны вернуть скаляр значения функции потерь - среднее по батчу.\"\n",
    "assert np.any(\n",
    "    next(agent.parameters()).grad.data.cpu().numpy() != 0\n",
    "), \"Функция потерь должна быть дифференцируема относительно весов сети.\"\n",
    "assert np.all(\n",
    "    next(target_network.parameters()).grad is None\n",
    "), \"Целевая сеть не должна быть дифференцируемой.\""
   ]
  },
  {
   "cell_type": "markdown",
   "metadata": {},
   "source": [
    "# Основной цикл\n",
    "\n",
    "Время собрать всё вместе и посмотреть, обучается ли что-нибудь."
   ]
  },
  {
   "cell_type": "code",
   "execution_count": 106,
   "metadata": {},
   "outputs": [],
   "source": [
    "from tqdm import trange\n",
    "from IPython.display import clear_output\n",
    "import matplotlib.pyplot as plt"
   ]
  },
  {
   "cell_type": "code",
   "execution_count": 108,
   "metadata": {},
   "outputs": [
    {
     "data": {
      "text/plain": [
       "<torch._C.Generator at 0x17cac94e6f0>"
      ]
     },
     "execution_count": 108,
     "metadata": {},
     "output_type": "execute_result"
    }
   ],
   "source": [
    "seed = 42\n",
    "random.seed(seed)\n",
    "np.random.seed(seed)\n",
    "torch.manual_seed(seed)"
   ]
  },
  {
   "cell_type": "code",
   "execution_count": 109,
   "metadata": {},
   "outputs": [
    {
     "data": {
      "text/plain": [
       "<All keys matched successfully>"
      ]
     },
     "execution_count": 109,
     "metadata": {},
     "output_type": "execute_result"
    }
   ],
   "source": [
    "env = make_env(seed)\n",
    "state_dim = env.observation_space.shape\n",
    "n_actions = env.action_space.n\n",
    "state = env.reset()\n",
    "\n",
    "agent = DQNAgent(state_dim, n_actions, epsilon=1).to(device)\n",
    "target_network = DQNAgent(state_dim, n_actions, epsilon=1).to(device)\n",
    "target_network.load_state_dict(agent.state_dict())"
   ]
  },
  {
   "cell_type": "code",
   "execution_count": 110,
   "metadata": {},
   "outputs": [
    {
     "name": "stdout",
     "output_type": "stream",
     "text": [
      "10000\n"
     ]
    }
   ],
   "source": [
    "exp_replay = ReplayBuffer(10**4)\n",
    "for i in range(100):\n",
    "    if not utils.is_enough_ram(min_available_gb=0.1):\n",
    "        print(\n",
    "            \"\"\"\n",
    "            Меньше, чем 100 Mb RAM, доступно. \n",
    "            Убедитесь, что размер буфера не слишком большой.\n",
    "            Также проверьте, может, другие процессы потребляют сильно много RAM.\n",
    "            \"\"\"\n",
    "        )\n",
    "        break\n",
    "    play_and_record(state, agent, env, exp_replay, n_steps=10**2)\n",
    "    if len(exp_replay) == 10**4:\n",
    "        break\n",
    "print(len(exp_replay))"
   ]
  },
  {
   "cell_type": "code",
   "execution_count": 111,
   "metadata": {},
   "outputs": [],
   "source": [
    "timesteps_per_epoch = 100\n",
    "batch_size = 42\n",
    "total_steps = 3 * 10**4\n",
    "decay_steps = 1 * 10**4\n",
    "\n",
    "opt = torch.optim.RMSprop(agent.parameters(), lr=1e-3)\n",
    "opt.zero_grad()\n",
    "\n",
    "init_epsilon = 1\n",
    "final_epsilon = 0.1\n",
    "\n",
    "loss_freq = 20\n",
    "refresh_target_network_freq = 100\n",
    "eval_freq = 1000\n",
    "\n",
    "max_grad_norm = 10\n",
    "gamma = 0.99"
   ]
  },
  {
   "cell_type": "code",
   "execution_count": 112,
   "metadata": {},
   "outputs": [],
   "source": [
    "mean_rw_history = []\n",
    "td_loss_history = []\n",
    "grad_norm_history = []\n",
    "initial_state_v_history = []"
   ]
  },
  {
   "cell_type": "code",
   "execution_count": 113,
   "metadata": {},
   "outputs": [
    {
     "data": {
      "image/png": "[encoded data removed]",
      "text/plain": [
       "<Figure size 1600x900 with 4 Axes>"
      ]
     },
     "metadata": {},
     "output_type": "display_data"
    },
    {
     "name": "stderr",
     "output_type": "stream",
     "text": [
      "100%|███████████████████████████████████████████████████████████████████| 30001/30001 [16:04<00:00, 31.10it/s]\n"
     ]
    }
   ],
   "source": [
    "state = env.reset()\n",
    "for step in trange(total_steps + 1):\n",
    "    if not utils.is_enough_ram():\n",
    "        print('Меньше, чем 100 Mb RAM, доступно, заморозка процедуры обучения')\n",
    "        print('убедитесь, что всё в порядке и пошлите сигнал KeyboardInterrupt для продолжения')\n",
    "        try:\n",
    "            while True:\n",
    "                pass\n",
    "        except KeyboardInterrupt:\n",
    "            pass\n",
    "\n",
    "    agent.epsilon = utils.linear_decay(init_epsilon, final_epsilon, step, decay_steps)\n",
    "\n",
    "    # игра\n",
    "    _, state = play_and_record(state, agent, env, exp_replay, timesteps_per_epoch)\n",
    "\n",
    "    # обучение\n",
    "    states, actions, rewards, next_states, is_done = exp_replay.sample(batch_size)\n",
    "\n",
    "    \n",
    "    loss = compute_td_loss(states, actions, rewards, \n",
    "                           next_states, is_done,\n",
    "                           agent, target_network,\n",
    "                           gamma=0.99, check_shapes=True)\n",
    "\n",
    "    loss.backward()\n",
    "    grad_norm = nn.utils.clip_grad_norm_(agent.parameters(), max_grad_norm).item()\n",
    "    opt.step()\n",
    "    opt.zero_grad()\n",
    "\n",
    "    if step % loss_freq == 0:\n",
    "        td_loss_history.append(loss.data.cpu().item())\n",
    "        grad_norm_history.append(grad_norm)\n",
    "\n",
    "    if step % refresh_target_network_freq == 0:\n",
    "        # Загрузка весов агента в target_network\n",
    "        target_network.load_state_dict(agent.state_dict())\n",
    "\n",
    "    if step % eval_freq == 0:\n",
    "        # Оценка агента\n",
    "        mean_rw_history.append(evaluate(\n",
    "            make_env(seed=step), agent, n_games=3, greedy=True, t_max=1000)\n",
    "        )\n",
    "        initial_state_q_values = agent.get_qvalues(\n",
    "            [make_env(seed=step).reset()]\n",
    "        )\n",
    "        initial_state_v_history.append(np.max(initial_state_q_values))\n",
    "\n",
    "        print(\"размер буфера = %i, epsilon = %.5f\" %\n",
    "              (len(exp_replay), agent.epsilon))\n",
    "\n",
    "        plt.figure(figsize=[16, 9])\n",
    "        plt.subplot(2, 2, 1)\n",
    "        plt.title(\"Средняя награда за эпизод\")\n",
    "        plt.plot(mean_rw_history)\n",
    "        plt.grid()\n",
    "\n",
    "        assert not np.isnan(td_loss_history[-1])\n",
    "        plt.subplot(2, 2, 2)\n",
    "        plt.title(\"История TD функции потерь (сглаженная)\")\n",
    "        plt.plot(utils.smoothen(td_loss_history))\n",
    "        plt.grid()\n",
    "\n",
    "        plt.subplot(2, 2, 3)\n",
    "        plt.title(\"Ценность начального состояния\")\n",
    "        plt.plot(initial_state_v_history)\n",
    "        plt.grid()\n",
    "\n",
    "        plt.subplot(2, 2, 4)\n",
    "        plt.title(\"История нормы градиента (сглаженная)\")\n",
    "        plt.plot(utils.smoothen(grad_norm_history))\n",
    "        plt.grid()\n",
    "\n",
    "        clear_output(True)\n",
    "        plt.show()"
   ]
  },
  {
   "cell_type": "code",
   "execution_count": 119,
   "metadata": {},
   "outputs": [
    {
     "name": "stdout",
     "output_type": "stream",
     "text": [
      "финальный счёт: 1000.0\n",
      "Отлично справились\n"
     ]
    }
   ],
   "source": [
    "final_score = evaluate(make_env(), agent, n_games=30, greedy=True, t_max=1000)\n",
    "print(\"финальный счёт:\", final_score)\n",
    "assert final_score > 300, \"недостаточно хорошо для DQN\"\n",
    "print(\"Отлично справились\")"
   ]
  },
  {
   "cell_type": "markdown",
   "metadata": {},
   "source": [
    "# Запись видео"
   ]
  },
  {
   "cell_type": "markdown",
   "metadata": {},
   "source": [
    "#### Вспомнил про видео за 25 минут до дедлайна, оба способа не заработали, фиксить некогда...( "
   ]
  },
  {
   "cell_type": "code",
   "execution_count": 135,
   "metadata": {},
   "outputs": [],
   "source": [
    "from gym.wrappers import RecordVideo\n",
    "import warnings\n",
    "warnings.filterwarnings('ignore')\n",
    "\n",
    "def evaluate_video(env, agent, greedy=False, t_max=10000):\n",
    "    \"\"\"Играет n_games полных эпизодов. Если greedy=True, то действия берутся из детерминированной\n",
    "    стратегии как argmax(qvalues). Возвращает среднюю награду.\"\"\"\n",
    "    # Создание объекта RecordVideo\n",
    "    name_prefix = \"non-greedy\" if greedy == False else \"greedy\"\n",
    "    record_video = RecordVideo(env, \"CartPole-v1/videos\", name_prefix=name_prefix)\n",
    "    s = record_video.reset()\n",
    "    reward = 0\n",
    "    for _ in range(t_max):\n",
    "        record_video.render()\n",
    "        qvalues = agent.get_qvalues([s])\n",
    "        action = (\n",
    "            qvalues.argmax(axis=-1)[0]\n",
    "            if greedy\n",
    "            else agent.sample_actions(qvalues)[0]\n",
    "        )\n",
    "        s, r, done, info = record_video.step(action)\n",
    "        reward += r\n",
    "        if done:\n",
    "            break\n",
    "    record_video.close()\n",
    "    return reward\n"
   ]
  },
  {
   "cell_type": "code",
   "execution_count": 145,
   "metadata": {},
   "outputs": [],
   "source": [
    "# Environment\n",
    "env = gym.make('CartPole-v1')\n",
    "env.reset()\n",
    "\n",
    "# Creating a video\n",
    "evaluate_video(env, agent)"
   ]
  },
  {
   "cell_type": "code",
   "execution_count": 146,
   "metadata": {},
   "outputs": [],
   "source": [
    "# Environment\n",
    "env = gym.make('CartPole-v1')\n",
    "\n",
    "# Creating a video\n",
    "evaluate_video(env, agent)"
   ]
  },
  {
   "cell_type": "code",
   "execution_count": null,
   "metadata": {},
   "outputs": [],
   "source": []
  },
  {
   "cell_type": "code",
   "execution_count": null,
   "metadata": {},
   "outputs": [],
   "source": []
  },
  {
   "cell_type": "code",
   "execution_count": 131,
   "metadata": {},
   "outputs": [
    {
     "ename": "FileNotFoundError",
     "evalue": "[Errno 2] No such file or directory: 'CartPole-v1/videos/non-greedy_compressed.mp4'",
     "output_type": "error",
     "traceback": [
      "\u001b[1;31m---------------------------------------------------------------------------\u001b[0m",
      "\u001b[1;31mFileNotFoundError\u001b[0m                         Traceback (most recent call last)",
      "Cell \u001b[1;32mIn[131], line 14\u001b[0m\n\u001b[0;32m     11\u001b[0m os\u001b[38;5;241m.\u001b[39msystem(\u001b[38;5;124mf\u001b[39m\u001b[38;5;124m\"\u001b[39m\u001b[38;5;124mffmpeg -i \u001b[39m\u001b[38;5;132;01m{\u001b[39;00msave_path\u001b[38;5;132;01m}\u001b[39;00m\u001b[38;5;124m -vcodec libx264 \u001b[39m\u001b[38;5;132;01m{\u001b[39;00mcompressed_path\u001b[38;5;132;01m}\u001b[39;00m\u001b[38;5;124m\"\u001b[39m)\n\u001b[0;32m     13\u001b[0m \u001b[38;5;66;03m# Show video\u001b[39;00m\n\u001b[1;32m---> 14\u001b[0m mp4 \u001b[38;5;241m=\u001b[39m \u001b[38;5;28;43mopen\u001b[39;49m\u001b[43m(\u001b[49m\u001b[43mcompressed_path\u001b[49m\u001b[43m,\u001b[49m\u001b[38;5;124;43m'\u001b[39;49m\u001b[38;5;124;43mrb\u001b[39;49m\u001b[38;5;124;43m'\u001b[39;49m\u001b[43m)\u001b[49m\u001b[38;5;241m.\u001b[39mread()\n\u001b[0;32m     15\u001b[0m data_url \u001b[38;5;241m=\u001b[39m \u001b[38;5;124m\"\u001b[39m\u001b[38;5;124mdata:video/mp4;base64,\u001b[39m\u001b[38;5;124m\"\u001b[39m \u001b[38;5;241m+\u001b[39m b64encode(mp4)\u001b[38;5;241m.\u001b[39mdecode()\n\u001b[0;32m     16\u001b[0m HTML(\u001b[38;5;124m\"\"\"\u001b[39m\n\u001b[0;32m     17\u001b[0m \u001b[38;5;124m<video width=640 heigh=480 controls>\u001b[39m\n\u001b[0;32m     18\u001b[0m \u001b[38;5;124m      <source src=\u001b[39m\u001b[38;5;124m\"\u001b[39m\u001b[38;5;132;01m%s\u001b[39;00m\u001b[38;5;124m\"\u001b[39m\u001b[38;5;124m type=\u001b[39m\u001b[38;5;124m\"\u001b[39m\u001b[38;5;124mvideo/mp4\u001b[39m\u001b[38;5;124m\"\u001b[39m\u001b[38;5;124m>\u001b[39m\n\u001b[0;32m     19\u001b[0m \u001b[38;5;124m</video>\u001b[39m\n\u001b[0;32m     20\u001b[0m \u001b[38;5;124m\"\"\"\u001b[39m \u001b[38;5;241m%\u001b[39m data_url)\n",
      "File \u001b[1;32m~\\anaconda3\\envs\\DL\\lib\\site-packages\\IPython\\core\\interactiveshell.py:286\u001b[0m, in \u001b[0;36m_modified_open\u001b[1;34m(file, *args, **kwargs)\u001b[0m\n\u001b[0;32m    279\u001b[0m \u001b[38;5;28;01mif\u001b[39;00m file \u001b[38;5;129;01min\u001b[39;00m {\u001b[38;5;241m0\u001b[39m, \u001b[38;5;241m1\u001b[39m, \u001b[38;5;241m2\u001b[39m}:\n\u001b[0;32m    280\u001b[0m     \u001b[38;5;28;01mraise\u001b[39;00m \u001b[38;5;167;01mValueError\u001b[39;00m(\n\u001b[0;32m    281\u001b[0m         \u001b[38;5;124mf\u001b[39m\u001b[38;5;124m\"\u001b[39m\u001b[38;5;124mIPython won\u001b[39m\u001b[38;5;124m'\u001b[39m\u001b[38;5;124mt let you open fd=\u001b[39m\u001b[38;5;132;01m{\u001b[39;00mfile\u001b[38;5;132;01m}\u001b[39;00m\u001b[38;5;124m by default \u001b[39m\u001b[38;5;124m\"\u001b[39m\n\u001b[0;32m    282\u001b[0m         \u001b[38;5;124m\"\u001b[39m\u001b[38;5;124mas it is likely to crash IPython. If you know what you are doing, \u001b[39m\u001b[38;5;124m\"\u001b[39m\n\u001b[0;32m    283\u001b[0m         \u001b[38;5;124m\"\u001b[39m\u001b[38;5;124myou can use builtins\u001b[39m\u001b[38;5;124m'\u001b[39m\u001b[38;5;124m open.\u001b[39m\u001b[38;5;124m\"\u001b[39m\n\u001b[0;32m    284\u001b[0m     )\n\u001b[1;32m--> 286\u001b[0m \u001b[38;5;28;01mreturn\u001b[39;00m io_open(file, \u001b[38;5;241m*\u001b[39margs, \u001b[38;5;241m*\u001b[39m\u001b[38;5;241m*\u001b[39mkwargs)\n",
      "\u001b[1;31mFileNotFoundError\u001b[0m: [Errno 2] No such file or directory: 'CartPole-v1/videos/non-greedy_compressed.mp4'"
     ]
    }
   ],
   "source": [
    "from base64 import b64encode\n",
    "import os\n",
    "\n",
    "# Input video path\n",
    "save_path = \"CartPole-v1/videos/non-greedy-episode-0.mp4\"\n",
    "\n",
    "# Compressed video path\n",
    "compressed_path = \"CartPole-v1/videos/non-greedy_compressed.mp4\"\n",
    "\n",
    "# Play video\n",
    "os.system(f\"ffmpeg -i {save_path} -vcodec libx264 {compressed_path}\")\n",
    "\n",
    "# Show video\n",
    "mp4 = open(compressed_path,'rb').read()\n",
    "data_url = \"data:video/mp4;base64,\" + b64encode(mp4).decode()\n",
    "HTML(\"\"\"\n",
    "<video width=640 heigh=480 controls>\n",
    "      <source src=\"%s\" type=\"video/mp4\">\n",
    "</video>\n",
    "\"\"\" % data_url)"
   ]
  },
  {
   "cell_type": "code",
   "execution_count": null,
   "metadata": {},
   "outputs": [],
   "source": []
  },
  {
   "cell_type": "code",
   "execution_count": null,
   "metadata": {},
   "outputs": [],
   "source": []
  },
  {
   "cell_type": "code",
   "execution_count": null,
   "metadata": {},
   "outputs": [],
   "source": []
  },
  {
   "cell_type": "code",
   "execution_count": 122,
   "metadata": {},
   "outputs": [
    {
     "ename": "AttributeError",
     "evalue": "module 'gym.wrappers' has no attribute 'Monitor'",
     "output_type": "error",
     "traceback": [
      "\u001b[1;31m---------------------------------------------------------------------------\u001b[0m",
      "\u001b[1;31mAttributeError\u001b[0m                            Traceback (most recent call last)",
      "Cell \u001b[1;32mIn[122], line 2\u001b[0m\n\u001b[0;32m      1\u001b[0m \u001b[38;5;66;03m# запись эпизодов\u001b[39;00m\n\u001b[1;32m----> 2\u001b[0m env_monitor \u001b[38;5;241m=\u001b[39m \u001b[43mgym\u001b[49m\u001b[38;5;241;43m.\u001b[39;49m\u001b[43mwrappers\u001b[49m\u001b[38;5;241;43m.\u001b[39;49m\u001b[43mMonitor\u001b[49m(env, directory\u001b[38;5;241m=\u001b[39m\u001b[38;5;124m\"\u001b[39m\u001b[38;5;124mCartPole-v1videos\u001b[39m\u001b[38;5;124m\"\u001b[39m, force\u001b[38;5;241m=\u001b[39m\u001b[38;5;28;01mTrue\u001b[39;00m)\n\u001b[0;32m      3\u001b[0m evaluate(env_monitor, agent)\n\u001b[0;32m      4\u001b[0m env_monitor\u001b[38;5;241m.\u001b[39mclose()\n",
      "\u001b[1;31mAttributeError\u001b[0m: module 'gym.wrappers' has no attribute 'Monitor'"
     ]
    }
   ],
   "source": [
    "# запись эпизодов\n",
    "env_monitor = gym.wrappers.Monitor(env, directory=\"CartPole-v1videos\", force=True)\n",
    "evaluate(env_monitor, agent)\n",
    "env_monitor.close()"
   ]
  },
  {
   "cell_type": "code",
   "execution_count": 123,
   "metadata": {},
   "outputs": [
    {
     "ename": "FileNotFoundError",
     "evalue": "[WinError 3] Системе не удается найти указанный путь: './CartPole-v1videos'",
     "output_type": "error",
     "traceback": [
      "\u001b[1;31m---------------------------------------------------------------------------\u001b[0m",
      "\u001b[1;31mFileNotFoundError\u001b[0m                         Traceback (most recent call last)",
      "Cell \u001b[1;32mIn[123], line 2\u001b[0m\n\u001b[0;32m      1\u001b[0m video_names \u001b[38;5;241m=\u001b[39m \u001b[38;5;28mlist\u001b[39m(\n\u001b[1;32m----> 2\u001b[0m     \u001b[38;5;28mfilter\u001b[39m(\u001b[38;5;28;01mlambda\u001b[39;00m s: s\u001b[38;5;241m.\u001b[39mendswith(\u001b[38;5;124m\"\u001b[39m\u001b[38;5;124m.mp4\u001b[39m\u001b[38;5;124m\"\u001b[39m), \u001b[43mos\u001b[49m\u001b[38;5;241;43m.\u001b[39;49m\u001b[43mlistdir\u001b[49m\u001b[43m(\u001b[49m\u001b[38;5;124;43m\"\u001b[39;49m\u001b[38;5;124;43m./CartPole-v1videos\u001b[39;49m\u001b[38;5;124;43m\"\u001b[39;49m\u001b[43m)\u001b[49m)\n\u001b[0;32m      3\u001b[0m )\n",
      "\u001b[1;31mFileNotFoundError\u001b[0m: [WinError 3] Системе не удается найти указанный путь: './CartPole-v1videos'"
     ]
    }
   ],
   "source": [
    "video_names = list(\n",
    "    filter(lambda s: s.endswith(\".mp4\"), os.listdir(\"./CartPole-v1videos\"))\n",
    ")"
   ]
  },
  {
   "cell_type": "code",
   "execution_count": 124,
   "metadata": {},
   "outputs": [
    {
     "ename": "NameError",
     "evalue": "name 'video_names' is not defined",
     "output_type": "error",
     "traceback": [
      "\u001b[1;31m---------------------------------------------------------------------------\u001b[0m",
      "\u001b[1;31mNameError\u001b[0m                                 Traceback (most recent call last)",
      "Cell \u001b[1;32mIn[124], line 7\u001b[0m\n\u001b[0;32m      1\u001b[0m HTML(\n\u001b[0;32m      2\u001b[0m \u001b[38;5;250m    \u001b[39m\u001b[38;5;124;03m\"\"\"\u001b[39;00m\n\u001b[0;32m      3\u001b[0m \u001b[38;5;124;03m<video width=\"640\" height=\"480\" controls>\u001b[39;00m\n\u001b[0;32m      4\u001b[0m \u001b[38;5;124;03m  <source src=\"{}\" type=\"video/mp4\">\u001b[39;00m\n\u001b[0;32m      5\u001b[0m \u001b[38;5;124;03m</video>\u001b[39;00m\n\u001b[0;32m      6\u001b[0m \u001b[38;5;124;03m\"\"\"\u001b[39;00m\u001b[38;5;241m.\u001b[39mformat(\n\u001b[1;32m----> 7\u001b[0m         \u001b[38;5;124m\"\u001b[39m\u001b[38;5;124m./CartPole-v1videos/\u001b[39m\u001b[38;5;124m\"\u001b[39m \u001b[38;5;241m+\u001b[39m \u001b[43mvideo_names\u001b[49m[\u001b[38;5;241m-\u001b[39m\u001b[38;5;241m1\u001b[39m]\n\u001b[0;32m      8\u001b[0m     )\n\u001b[0;32m      9\u001b[0m )\n",
      "\u001b[1;31mNameError\u001b[0m: name 'video_names' is not defined"
     ]
    }
   ],
   "source": [
    "HTML(\n",
    "    \"\"\"\n",
    "<video width=\"640\" height=\"480\" controls>\n",
    "  <source src=\"{}\" type=\"video/mp4\">\n",
    "</video>\n",
    "\"\"\".format(\n",
    "        \"./CartPole-v1videos/\" + video_names[-1]\n",
    "    )\n",
    ")"
   ]
  },
  {
   "cell_type": "code",
   "execution_count": 125,
   "metadata": {},
   "outputs": [
    {
     "ename": "AttributeError",
     "evalue": "module 'gym.wrappers' has no attribute 'Monitor'",
     "output_type": "error",
     "traceback": [
      "\u001b[1;31m---------------------------------------------------------------------------\u001b[0m",
      "\u001b[1;31mAttributeError\u001b[0m                            Traceback (most recent call last)",
      "Cell \u001b[1;32mIn[125], line 1\u001b[0m\n\u001b[1;32m----> 1\u001b[0m env_monitor \u001b[38;5;241m=\u001b[39m \u001b[43mgym\u001b[49m\u001b[38;5;241;43m.\u001b[39;49m\u001b[43mwrappers\u001b[49m\u001b[38;5;241;43m.\u001b[39;49m\u001b[43mMonitor\u001b[49m(\n\u001b[0;32m      2\u001b[0m     env, directory\u001b[38;5;241m=\u001b[39m\u001b[38;5;124m\"\u001b[39m\u001b[38;5;124mCartPole-v1videos-deterministic\u001b[39m\u001b[38;5;124m\"\u001b[39m, force\u001b[38;5;241m=\u001b[39m\u001b[38;5;28;01mTrue\u001b[39;00m\n\u001b[0;32m      3\u001b[0m )\n\u001b[0;32m      4\u001b[0m evaluate(env_monitor, agent, greedy\u001b[38;5;241m=\u001b[39m\u001b[38;5;28;01mTrue\u001b[39;00m)\n\u001b[0;32m      5\u001b[0m env_monitor\u001b[38;5;241m.\u001b[39mclose()\n",
      "\u001b[1;31mAttributeError\u001b[0m: module 'gym.wrappers' has no attribute 'Monitor'"
     ]
    }
   ],
   "source": [
    "env_monitor = gym.wrappers.Monitor(\n",
    "    env, directory=\"CartPole-v1videos-deterministic\", force=True\n",
    ")\n",
    "evaluate(env_monitor, agent, greedy=True)\n",
    "env_monitor.close()"
   ]
  },
  {
   "cell_type": "code",
   "execution_count": 126,
   "metadata": {},
   "outputs": [
    {
     "ename": "FileNotFoundError",
     "evalue": "[WinError 3] Системе не удается найти указанный путь: './CartPole-v1videos-deterministic'",
     "output_type": "error",
     "traceback": [
      "\u001b[1;31m---------------------------------------------------------------------------\u001b[0m",
      "\u001b[1;31mFileNotFoundError\u001b[0m                         Traceback (most recent call last)",
      "Cell \u001b[1;32mIn[126], line 3\u001b[0m\n\u001b[0;32m      1\u001b[0m video_names \u001b[38;5;241m=\u001b[39m \u001b[38;5;28mlist\u001b[39m(\n\u001b[0;32m      2\u001b[0m     \u001b[38;5;28mfilter\u001b[39m(\n\u001b[1;32m----> 3\u001b[0m         \u001b[38;5;28;01mlambda\u001b[39;00m s: s\u001b[38;5;241m.\u001b[39mendswith(\u001b[38;5;124m\"\u001b[39m\u001b[38;5;124m.mp4\u001b[39m\u001b[38;5;124m\"\u001b[39m), \u001b[43mos\u001b[49m\u001b[38;5;241;43m.\u001b[39;49m\u001b[43mlistdir\u001b[49m\u001b[43m(\u001b[49m\u001b[38;5;124;43m\"\u001b[39;49m\u001b[38;5;124;43m./CartPole-v1videos-deterministic\u001b[39;49m\u001b[38;5;124;43m\"\u001b[39;49m\u001b[43m)\u001b[49m\n\u001b[0;32m      4\u001b[0m     )\n\u001b[0;32m      5\u001b[0m )\n",
      "\u001b[1;31mFileNotFoundError\u001b[0m: [WinError 3] Системе не удается найти указанный путь: './CartPole-v1videos-deterministic'"
     ]
    }
   ],
   "source": [
    "video_names = list(\n",
    "    filter(\n",
    "        lambda s: s.endswith(\".mp4\"), os.listdir(\"./CartPole-v1videos-deterministic\")\n",
    "    )\n",
    ")"
   ]
  },
  {
   "cell_type": "code",
   "execution_count": null,
   "metadata": {},
   "outputs": [],
   "source": [
    "HTML(\n",
    "    \"\"\"\n",
    "<video width=\"640\" height=\"480\" controls>\n",
    "  <source src=\"{}\" type=\"video/mp4\">\n",
    "</video>\n",
    "\"\"\".format(\n",
    "        \"./CartPole-v1videos-deterministic/\" + video_names[-1]\n",
    "    )\n",
    ")"
   ]
  }
 ],
 "metadata": {
  "kernelspec": {
   "display_name": "Python 3 (ipykernel)",
   "language": "python",
   "name": "python3"
  },
  "language_info": {
   "codemirror_mode": {
    "name": "ipython",
    "version": 3
   },
   "file_extension": ".py",
   "mimetype": "text/x-python",
   "name": "python",
   "nbconvert_exporter": "python",
   "pygments_lexer": "ipython3",
   "version": "3.10.13"
  },
  "vscode": {
   "interpreter": {
    "hash": "f92b2924b84ff19c1c3dc485f7644d4486f64738191026bf8e6de303969141b5"
   }
  },
  "widgets": {
   "application/vnd.jupyter.widget-state+json": {
    "state": {},
    "version_major": 2,
    "version_minor": 0
   }
  }
 },
 "nbformat": 4,
 "nbformat_minor": 4
}
