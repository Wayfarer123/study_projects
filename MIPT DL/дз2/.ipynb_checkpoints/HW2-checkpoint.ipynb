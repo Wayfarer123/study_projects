{
 "cells": [
  {
   "cell_type": "markdown",
   "metadata": {
    "id": "IFTMJ2v-5YpN"
   },
   "source": [
    "# Homework 2. Training networks in PyTorch\n",
    "\n",
    "Это домашнее задание посвящено отработки навыков по написанию и обучению нейронных сетей. Ваше задание реализовать обучение нейронной сети и выполнить задания по анализу сети в конце ноутбука. Удачи!\n",
    "\n",
    "<font color='red'> **Дедлайн 4 октября 23:59 (жесткий)**  </font>"
   ]
  },
  {
   "cell_type": "markdown",
   "metadata": {
    "id": "i3dj1mfT5Yp4"
   },
   "source": [
    "### Data loading in pytorch"
   ]
  },
  {
   "cell_type": "code",
   "execution_count": 59,
   "metadata": {
    "id": "UKLLAvNt5Yp5"
   },
   "outputs": [],
   "source": [
    "import torch\n",
    "import torch.nn as nn\n",
    "import torch.nn.functional as F\n",
    "import numpy as np\n",
    "import torch.utils.data\n",
    "device = \"cuda\" if torch.cuda.is_available() else \"cpu\"\n",
    "import gc\n",
    "from IPython.display import clear_output\n",
    "from collections import namedtuple"
   ]
  },
  {
   "cell_type": "code",
   "execution_count": 48,
   "metadata": {
    "id": "h626FYAm5Yp6"
   },
   "outputs": [],
   "source": [
    "from matplotlib import pyplot as plt\n",
    "import seaborn as sns\n",
    "sns.set_style(\"darkgrid\")\n",
    "%matplotlib inline"
   ]
  },
  {
   "cell_type": "markdown",
   "metadata": {
    "id": "_2oqonVb5Yp7"
   },
   "source": [
    "You will works with a MNIST dataset. It contains grayscale images of handwritten digits of size 28 x 28. The number of training objects is 60000.\n",
    "\n",
    "\n",
    "In pytorch, there is a special module to download MNIST. But for us it is more convinient to load the data ourselves."
   ]
  },
  {
   "cell_type": "code",
   "execution_count": 13,
   "metadata": {
    "id": "3vZ3StbV5Yp7"
   },
   "outputs": [],
   "source": [
    "from util import load_mnist"
   ]
  },
  {
   "cell_type": "code",
   "execution_count": 14,
   "metadata": {
    "id": "bOxvlgne5Yp9"
   },
   "outputs": [],
   "source": [
    "X_train, y_train, X_test, y_test = load_mnist()"
   ]
  },
  {
   "cell_type": "markdown",
   "metadata": {
    "id": "4q6eiPbL5Yp-"
   },
   "source": [
    "The code below prepares short data (train and val) for seminar purposes (use this data to quickly learn model on CPU and to tune the hyperparameters). Also, we prepare the full data (train_full and test) to train a final model."
   ]
  },
  {
   "cell_type": "code",
   "execution_count": 15,
   "metadata": {
    "id": "0IJS2adK5Yp_",
    "outputId": "be9d80dc-2484-4c7b-ffad-d82b84692f91"
   },
   "outputs": [
    {
     "data": {
      "text/plain": [
       "(60000, 1, 28, 28)"
      ]
     },
     "execution_count": 15,
     "metadata": {},
     "output_type": "execute_result"
    }
   ],
   "source": [
    "# shuffle data\n",
    "np.random.seed(0)\n",
    "idxs = np.random.permutation(np.arange(X_train.shape[0]))\n",
    "X_train, y_train = X_train[idxs], y_train[idxs]\n",
    "\n",
    "X_train.shape"
   ]
  },
  {
   "cell_type": "markdown",
   "metadata": {
    "id": "dYzxQ2Mf5Yp_"
   },
   "source": [
    "Pytorch offers convinient class DataLoader for mini batch generation. You should pass instance of Tensor Dataset to it."
   ]
  },
  {
   "cell_type": "code",
   "execution_count": 16,
   "metadata": {
    "id": "oOmqt8aE5Yp_"
   },
   "outputs": [],
   "source": [
    "def get_loader(X, y, batch_size=64):\n",
    "    train = torch.utils.data.TensorDataset(torch.from_numpy(X).float(),\n",
    "                                       torch.from_numpy(y).long())\n",
    "    train_loader = torch.utils.data.DataLoader(train,\n",
    "                                               batch_size=batch_size)\n",
    "    return train_loader\n",
    "\n",
    "# for final model:\n",
    "train_loader_full = get_loader(X_train, y_train)\n",
    "test_loader = get_loader(X_test, y_test)\n",
    "# for validation purposes:\n",
    "train_loader = get_loader(X_train[:15000], y_train[:15000])\n",
    "val_loader = get_loader(X_train[15000:30000], y_train[15000:30000])"
   ]
  },
  {
   "cell_type": "code",
   "execution_count": 17,
   "metadata": {
    "id": "bOfwqdwJ5YqA",
    "outputId": "f41c6b2c-c1fe-48b6-8382-e5980d16d843"
   },
   "outputs": [
    {
     "data": {
      "text/plain": [
       "torch.Size([15000, 1, 28, 28])"
      ]
     },
     "execution_count": 17,
     "metadata": {},
     "output_type": "execute_result"
    }
   ],
   "source": [
    "# check number of objects\n",
    "val_loader.dataset.tensors[0].shape"
   ]
  },
  {
   "cell_type": "markdown",
   "metadata": {
    "id": "lRoL5vqr5YqB"
   },
   "source": [
    "### Building LeNet-5\n",
    "\n",
    "Convolutional layer (from Anton Osokin's presentation):\n",
    "![slide](https://github.com/nadiinchi/dl_labs/raw/master/convolution.png)"
   ]
  },
  {
   "cell_type": "markdown",
   "metadata": {
    "id": "0WokmLD85YqB"
   },
   "source": [
    "You need to implement Lenet-5:\n",
    "\n",
    "![Архитектура LeNet-5](https://www.researchgate.net/profile/Vladimir_Golovko3/publication/313808170/figure/fig3/AS:552880910618630@1508828489678/Architecture-of-LeNet-5.png)"
   ]
  },
  {
   "cell_type": "markdown",
   "metadata": {
    "id": "Lc-cF7o35YqD"
   },
   "source": [
    "Construct a network according to the image and code examples given above. Use ReLU nonlinearity (after all linear and convolutional layers). The network must support multiplying the number of convolutions in each convolutional layer by k.\n",
    "\n",
    "Please note that on the scheme the size of the image is 32 x 32 but in our code the size is 28 x 28.\n",
    "\n",
    "Do not apply softmax at the end of the forward pass!"
   ]
  },
  {
   "cell_type": "markdown",
   "metadata": {
    "id": "iWfeNQ9gPhXo"
   },
   "source": [
    "### <font color='red'>[TODO] Написание архитектуры Le-Net-5 </font>\n",
    "\n",
    "В этой части вам нужно реализовать архитектуру Le-Net-5, но учтите, что на вход изображения приходит 28x28.\n",
    "\n",
    "Для того, написать архитектуру используйте [nn.Conv2D](https://pytorch.org/docs/stable/generated/torch.nn.Conv2d.html), [nn.AvgPool2d](https://pytorch.org/docs/stable/generated/torch.nn.AvgPool2d.html), [nn.ReLU](https://pytorch.org/docs/stable/generated/torch.nn.ReLU.html). Ориентируйтесь на картинку сверху в реализации"
   ]
  },
  {
   "cell_type": "code",
   "execution_count": 153,
   "metadata": {
    "id": "k9AXOaVh5YqE"
   },
   "outputs": [],
   "source": [
    "class CNN(nn.Module):\n",
    "    def __init__(self, k=1):\n",
    "        super(CNN, self).__init__()\n",
    "        ### your code here: define layers\n",
    "        self.conv1 =  nn.Conv2d(in_channels=1, out_channels=6*k, \n",
    "                      kernel_size=5, stride=1, padding=2)\n",
    "        self.pool1 = nn.AvgPool2d(2)\n",
    "        self.conv2 = nn.Conv2d(in_channels=6*k, out_channels=16*k, \n",
    "                      kernel_size=5, stride=1)\n",
    "        self.pool2 = nn.AvgPool2d(2)\n",
    "        self.flatten = nn.Flatten()\n",
    "        self.linear1 = nn.Linear(16*k*25, 120)\n",
    "        self.linear2 = nn.Linear(120, 84)\n",
    "        self.linear3 = nn.Linear(84, 10)    \n",
    "        self.activation = F.relu\n",
    "\n",
    "    def forward(self, x):\n",
    "        x = self.activation(self.conv1(x))\n",
    "        x = self.pool1(x)\n",
    "        x = self.activation(self.conv2(x))\n",
    "        x = self.pool2(x)\n",
    "        x = self.activation(self.linear1(self.flatten(x)))\n",
    "        x = self.activation(self.linear2(x))\n",
    "        x = self.linear3(x)\n",
    "        return x"
   ]
  },
  {
   "cell_type": "markdown",
   "metadata": {
    "id": "J4BYDgVO5YqE"
   },
   "source": [
    "Let's count the number of the parameters in the network:"
   ]
  },
  {
   "cell_type": "code",
   "execution_count": 154,
   "metadata": {
    "id": "JobCjm_Z5YqG"
   },
   "outputs": [
    {
     "data": {
      "text/plain": [
       "61706"
      ]
     },
     "execution_count": 154,
     "metadata": {},
     "output_type": "execute_result"
    }
   ],
   "source": [
    "cnn = CNN()\n",
    "def count_parameters(model):\n",
    "    return sum(param.data.numpy().size for param \\\n",
    "               in model.parameters() if param.requires_grad)\n",
    "\n",
    "count_parameters(cnn)"
   ]
  },
  {
   "cell_type": "markdown",
   "metadata": {
    "id": "p50aWdYI5YqG"
   },
   "source": [
    "### Training"
   ]
  },
  {
   "cell_type": "markdown",
   "metadata": {
    "id": "OO04799z5YqH"
   },
   "source": [
    "Let's define the loss function:"
   ]
  },
  {
   "cell_type": "code",
   "execution_count": 49,
   "metadata": {
    "id": "xeBFcssY5YqH"
   },
   "outputs": [],
   "source": [
    "criterion = nn.CrossEntropyLoss() # loss includes softmax"
   ]
  },
  {
   "cell_type": "markdown",
   "metadata": {
    "id": "500YiRwa5YqI"
   },
   "source": [
    "Also, define a device where to store the data and the model (cpu or gpu):"
   ]
  },
  {
   "cell_type": "code",
   "execution_count": 50,
   "metadata": {
    "id": "3HQo_6Kb5YqJ"
   },
   "outputs": [],
   "source": [
    "cnn = cnn.to(device)"
   ]
  },
  {
   "cell_type": "markdown",
   "metadata": {
    "id": "KK9sl8w_5YqK"
   },
   "source": [
    "During training, we will control the quality on the training and validation set. This produces duplicates of the code. That's why we will define a function evaluate_loss_acc to evaluate our model on different data sets. In the same manner, we define function train_epoch to perform one training epoch on traiing data. Please note that we will compute the training loss _after_ each epoch (not averaging it during epoch).\n",
    "\n",
    "In the propotypes, train and eval modes are noted. In our case, we don't need them (because we don't use neither dropout nor batch normalization). However, we will switch the regime so you can use this code in the future."
   ]
  },
  {
   "cell_type": "markdown",
   "metadata": {
    "id": "K-9aShtYQWkt"
   },
   "source": [
    "### <font color='red'>[TODO] Реализуйте функции обучение модели </font>\n",
    "\n",
    "В части вам нужно написать циклы обучения моделей, вы можете ориентировать на ноутбук семинара при их выполнении"
   ]
  },
  {
   "cell_type": "code",
   "execution_count": 124,
   "metadata": {
    "id": "5dQn4HuD5YqL"
   },
   "outputs": [],
   "source": [
    "def train_epoch(model, optimizer, train_loader, criterion, device):\n",
    "    \"\"\"\n",
    "    for each batch\n",
    "    performs forward and backward pass and parameters update\n",
    "\n",
    "    Input:\n",
    "    model: instance of model (example defined above)\n",
    "    optimizer: instance of optimizer (defined above)\n",
    "    train_loader: instance of DataLoader\n",
    "\n",
    "    Returns:\n",
    "    nothing\n",
    "\n",
    "    Do not forget to set net to train mode!\n",
    "    \"\"\"\n",
    "    model.train()\n",
    "    for inputs, labels in train_loader:\n",
    "        inputs, labels = inputs.to(device), labels.to(device)\n",
    "        \n",
    "        optimizer.zero_grad()\n",
    "        \n",
    "        outputs = model(inputs)\n",
    "        loss = criterion(outputs, labels)\n",
    "\n",
    "        loss.backward()\n",
    "        optimizer.step()\n",
    "\n",
    "    gc.collect()\n",
    "    torch.cuda.empty_cache()\n",
    "    gc.collect()\n",
    "\n",
    "\n",
    "def evaluate_loss_acc(loader, model, criterion, device):\n",
    "    \"\"\"\n",
    "    Evaluates loss and accuracy on the whole dataset\n",
    "\n",
    "    Input:\n",
    "    loader:  instance of DataLoader\n",
    "    model: instance of model (examle defined above)\n",
    "\n",
    "    Returns:\n",
    "    (loss, accuracy)\n",
    "\n",
    "    Do not forget to set net to eval mode!\n",
    "    \"\"\"\n",
    "    model.eval()\n",
    "    with torch.no_grad():\n",
    "        loss_accum = 0.0\n",
    "        accuracy_accum = 0.0\n",
    "        n_elems = 0\n",
    "        \n",
    "        for i, (inputs, labels) in enumerate(loader):\n",
    "            inputs, labels = inputs.to(device), labels.to(device)\n",
    "            n_elems += len(labels)\n",
    "            \n",
    "            outputs = model(inputs).detach()\n",
    "            loss_accum += criterion(outputs, labels).detach().cpu()\n",
    "            accuracy_accum += (torch.argmax(outputs, dim=1) == labels).sum().cpu()\n",
    "            \n",
    "        loss_accum = loss_accum / i \n",
    "        accuracy_accum = accuracy_accum / n_elems \n",
    "    \n",
    "    return loss_accum, accuracy_accum\n",
    "\n",
    "\n",
    "def train(model, opt, train_loader, test_loader, criterion, n_epochs, \\\n",
    "          device=device, verbose=True):\n",
    "    \"\"\"\n",
    "    Performs training of the model and prints progress\n",
    "\n",
    "    Input:\n",
    "    model: instance of model (example defined above)\n",
    "    opt: instance of optimizer\n",
    "    train_loader: instance of DataLoader\n",
    "    test_loader: instance of DataLoader (for evaluation)\n",
    "    n_epochs: int\n",
    "\n",
    "    Returns:\n",
    "    4 lists: train_log, train_acc_log, val_log, val_acc_log\n",
    "    with corresponding metrics per epoch\n",
    "    \"\"\"\n",
    "    train_log, train_acc_log = [], []\n",
    "    val_log, val_acc_log = [], []\n",
    "\n",
    "    for epoch in range(n_epochs):\n",
    "        train_epoch(model, opt, train_loader, criterion, device)\n",
    "        train_loss, train_acc = evaluate_loss_acc(train_loader,\n",
    "                                                  model, criterion,\n",
    "                                                  device)\n",
    "        val_loss, val_acc = evaluate_loss_acc(test_loader, model,\n",
    "                                              criterion, device)\n",
    "\n",
    "        train_log.append(train_loss.detach())\n",
    "        train_acc_log.append(train_acc)\n",
    "\n",
    "        val_log.append(val_loss)\n",
    "        val_acc_log.append(val_acc)\n",
    "\n",
    "        if verbose:\n",
    "            clear_output(True)\n",
    "            plot_loss_acc(train_log, val_log, train_acc_log, val_acc_log)\n",
    "            print (('\\nEpoch [%d/%d], Loss (train/test): %.4f/%.4f,'+\\\n",
    "               ' Acc (train/test): %.4f/%.4f' )\n",
    "                   %(epoch+1, n_epochs, \\\n",
    "                     train_loss, val_loss, train_acc, val_acc))\n",
    "\n",
    "    return train_log, train_acc_log, val_log, val_acc_log\n",
    "\n",
    "\n",
    "def plot_loss_acc(train_loss, val_loss, train_acc, val_acc):\n",
    "    fig, ax = plt.subplots(ncols=2, nrows=1, figsize=(14, 6))\n",
    "\n",
    "    ax[0].plot(np.arange(1, len(train_loss)+1, 1), train_loss, lw=3,\n",
    "            color=sns.color_palette()[0], label=\"Train\")\n",
    "    ax[0].plot(np.arange(1, len(val_loss)+1, 1), val_loss, lw=3,\n",
    "            color=sns.color_palette()[1], label=\"Validation\")\n",
    "\n",
    "    ax[1].plot(np.arange(1, len(train_acc)+1, 1), train_acc, lw=3,\n",
    "            color=sns.color_palette()[0], label=\"Train\")\n",
    "    ax[1].plot(np.arange(1, len(val_acc)+1, 1), val_acc, lw=3,\n",
    "            color=sns.color_palette()[1], label=\"Validation\")\n",
    "    \n",
    "\n",
    "    ax[0].set_xlabel(\"Epoch\", fontsize=18)\n",
    "    ax[0].set_ylabel('Loss', fontsize=18)\n",
    "    ax[0].tick_params(axis='both', labelsize=16)\n",
    "\n",
    "    ax[1].set_xlabel(\"Epoch\", fontsize=18)\n",
    "    ax[1].set_ylabel('Accuracy', fontsize=18)\n",
    "    ax[1].tick_params(axis='both', labelsize=16)\n",
    "\n",
    "    plt.xticks(fontsize=16)\n",
    "    plt.yticks(fontsize=16)\n",
    "    plt.show()"
   ]
  },
  {
   "cell_type": "markdown",
   "metadata": {
    "id": "DIl21h4g5YqM"
   },
   "source": [
    "### <font color='red'>[TODO] Обучение модели </font>\n",
    "\n",
    "Train the neural network, using defined functions. Use Adam as an optimizer, learning_rate=0.001, number of epochs = 20. For hold out, use val_loader, not test_loader."
   ]
  },
  {
   "cell_type": "code",
   "execution_count": 125,
   "metadata": {
    "id": "g9Z-1m-45YqN"
   },
   "outputs": [
    {
     "data": {
      "image/png": "[encoded data removed]",
      "text/plain": [
       "<Figure size 1400x600 with 2 Axes>"
      ]
     },
     "metadata": {},
     "output_type": "display_data"
    },
    {
     "name": "stdout",
     "output_type": "stream",
     "text": [
      "\n",
      "Epoch [20/20], Loss (train/test): 0.0141/0.0619, Acc (train/test): 0.9955/0.9865\n"
     ]
    }
   ],
   "source": [
    "try:\n",
    "    del model\n",
    "except: pass\n",
    "    \n",
    "model = CNN(k=1).to(device)\n",
    "\n",
    "Params = namedtuple(\"Params\", [\"lr\", \"batch_size\"])\n",
    "Results = namedtuple(\"Results\", [\"train_log\", \"train_acc_log\", \"val_log\", \"val_acc_log\"])\n",
    "\n",
    "results_dict = {}\n",
    "\n",
    "n_epochs = 20\n",
    "lr = 0.001\n",
    "batch_size = 64\n",
    "\n",
    "params = Params(lr, batch_size)\n",
    "\n",
    "criterion = nn.CrossEntropyLoss()\n",
    "optimizer = torch.optim.Adam(params=model.parameters(), lr=lr)\n",
    "\n",
    "train_loader = get_loader(X_train[:45000], y_train[:45000], batch_size = batch_size)\n",
    "val_loader = get_loader(X_train[45000:], y_train[45000:], batch_size = batch_size)\n",
    "\n",
    "train_log, train_acc_log, val_log, val_acc_log = train(model=model, opt=optimizer, \n",
    "                                                train_loader=train_loader, \n",
    "                                                test_loader=val_loader, \n",
    "                                                criterion=criterion, \n",
    "                                                n_epochs=20)\n",
    "res = Results(train_log, train_acc_log, val_log, val_acc_log)\n",
    "             \n",
    "results_dict.update({params: res})"
   ]
  },
  {
   "cell_type": "markdown",
   "metadata": {
    "id": "tjpBaZ7fSiP7"
   },
   "source": [
    "### <font color='red'>[TODO] Проведите эксперименты с моделью </font>"
   ]
  },
  {
   "cell_type": "markdown",
   "metadata": {
    "id": "AE5cJCEc5Yqq"
   },
   "source": [
    "\n",
    "### Choosing  learning_rate and batch_size"
   ]
  },
  {
   "cell_type": "markdown",
   "metadata": {
    "id": "Z_plUpWK5Yqq"
   },
   "source": [
    "Plot accuracy on the training and testing set v. s. training epoch for different learning parameters: learning rate$ \\in \\{0.0001, 0.001, 0.01\\}$, batch size $\\in \\{64, 256\\}$.\n",
    "\n",
    "The best option is to plot training curves on the left graph and validation curves on the right graph with the shared y axis (use plt.ylim).\n",
    "\n",
    "How do learning rate and batch size affect the final quality of the model?\n",
    "###### <font color='red'>-- increasing batch size definitely doesn't help, lowest LR performs the worst, others mostly indistinguishable.</font>"
   ]
  },
  {
   "cell_type": "code",
   "execution_count": 126,
   "metadata": {
    "id": "lc5mgJmZ5Yqr"
   },
   "outputs": [],
   "source": [
    "lrs = [1e-4, 1e-3, 1e-2]\n",
    "batch_sizes = [64, 256]\n",
    "n_epochs = 20\n",
    "\n",
    "for lr in lrs:\n",
    "    for batch_size in batch_sizes:\n",
    "        params = Params(lr, batch_size)\n",
    "        if results_dict.get(params) is None:\n",
    "            \n",
    "            try:\n",
    "                del model\n",
    "            except: pass\n",
    "        \n",
    "            model = CNN(k=1).to(device)\n",
    "\n",
    "            criterion = nn.CrossEntropyLoss()\n",
    "            optimizer = torch.optim.Adam(params=model.parameters(), lr=lr)\n",
    "            \n",
    "            train_loader = get_loader(X_train[:45000], y_train[:45000], batch_size = batch_size)\n",
    "            val_loader = get_loader(X_train[45000:], y_train[45000:], batch_size = batch_size)\n",
    "            \n",
    "            train_log, train_acc_log, val_log, val_acc_log = train(model=model, opt=optimizer, \n",
    "                                                            train_loader=train_loader, \n",
    "                                                            test_loader=val_loader, \n",
    "                                                            criterion=criterion, \n",
    "                                                            n_epochs=20, \n",
    "                                                            verbose=False)\n",
    "            res = Results(train_log, train_acc_log, val_log, val_acc_log)\n",
    "                         \n",
    "            results_dict.update({params: res})"
   ]
  },
  {
   "cell_type": "code",
   "execution_count": 128,
   "metadata": {},
   "outputs": [
    {
     "name": "stdout",
     "output_type": "stream",
     "text": [
      "Params(lr=0.001, batch_size=64)\n",
      "Train Accuracy: 0.9955111145973206\n",
      "Val Accuracy: 0.986466646194458\n",
      "\n",
      "Params(lr=0.0001, batch_size=64)\n",
      "Train Accuracy: 0.9772666692733765\n",
      "Val Accuracy: 0.9749333262443542\n",
      "\n",
      "Params(lr=0.0001, batch_size=256)\n",
      "Train Accuracy: 0.9515777826309204\n",
      "Val Accuracy: 0.951200008392334\n",
      "\n",
      "Params(lr=0.001, batch_size=256)\n",
      "Train Accuracy: 0.9893777966499329\n",
      "Val Accuracy: 0.9836000204086304\n",
      "\n",
      "Params(lr=0.01, batch_size=64)\n",
      "Train Accuracy: 0.9936222434043884\n",
      "Val Accuracy: 0.9872000217437744\n",
      "\n",
      "Params(lr=0.01, batch_size=256)\n",
      "Train Accuracy: 0.994866669178009\n",
      "Val Accuracy: 0.9865999817848206\n",
      "\n",
      "\n"
     ]
    }
   ],
   "source": [
    "[print(f\"{key}\\nTrain Accuracy: {val[1][-1]}\\nVal Accuracy: {val[3][-1]}\\n\") for key, val in results_dict.items()]\n",
    "print()"
   ]
  },
  {
   "cell_type": "markdown",
   "metadata": {
    "id": "oEG3Nu9w5Yqs"
   },
   "source": [
    "### Changing the architecture"
   ]
  },
  {
   "cell_type": "markdown",
   "metadata": {
    "id": "IqMV5M1j5Yqs"
   },
   "source": [
    "Try to modify our architecture: increase the number of filters and to reduce the number of fully-connected layers.\n",
    "\n",
    "Insert numbers in the brackets:\n",
    "* LeNet-5 classic (6 and 16 convolutions):  training acc: (0.996)  validation acc: (0.987)\n",
    "* Number of convolutions x 4 (24 и 64 convolutions):  training acc: (0.997)  validation acc: (0.99)\n",
    "* Removing fully connected layer: the previous network with 1 FC layer: training acc: (0.998)  validation acc: (0.99)\n",
    "    \n",
    "    "
   ]
  },
  {
   "cell_type": "markdown",
   "metadata": {},
   "source": [
    "##### Bigger LeNet"
   ]
  },
  {
   "cell_type": "code",
   "execution_count": 155,
   "metadata": {
    "id": "eqpd48i25Yqt"
   },
   "outputs": [],
   "source": [
    "lrs = [1e-4, 1e-3, 1e-2]\n",
    "batch_sizes = [64, 256]\n",
    "n_epochs = 20\n",
    "bigger_results_dict = {}\n",
    "\n",
    "for lr in lrs:\n",
    "    for batch_size in batch_sizes:\n",
    "        params = Params(lr, batch_size)\n",
    "        if bigger_results_dict.get(params) is None:\n",
    "            \n",
    "            try:\n",
    "                del bigger_model\n",
    "            except: pass\n",
    "        \n",
    "            bigger_model = CNN(k=4).to(device)\n",
    "\n",
    "            criterion = nn.CrossEntropyLoss()\n",
    "            optimizer = torch.optim.Adam(params=bigger_model.parameters(), lr=lr)\n",
    "            \n",
    "            train_loader = get_loader(X_train[:45000], y_train[:45000], batch_size = batch_size)\n",
    "            val_loader = get_loader(X_train[45000:], y_train[45000:], batch_size = batch_size)\n",
    "            \n",
    "            train_log, train_acc_log, val_log, val_acc_log = train(model=bigger_model, opt=optimizer, \n",
    "                                                            train_loader=train_loader, \n",
    "                                                            test_loader=val_loader, \n",
    "                                                            criterion=criterion, \n",
    "                                                            n_epochs=20, \n",
    "                                                            verbose=False)\n",
    "            res = Results(train_log, train_acc_log, val_log, val_acc_log)\n",
    "                         \n",
    "            bigger_results_dict.update({params: res})"
   ]
  },
  {
   "cell_type": "code",
   "execution_count": 156,
   "metadata": {},
   "outputs": [
    {
     "name": "stdout",
     "output_type": "stream",
     "text": [
      "Params(lr=0.0001, batch_size=64)\n",
      "Train Accuracy: 0.9911110997200012\n",
      "Val Accuracy: 0.9860000014305115\n",
      "\n",
      "Params(lr=0.0001, batch_size=256)\n",
      "Train Accuracy: 0.9791111350059509\n",
      "Val Accuracy: 0.9778000116348267\n",
      "\n",
      "Params(lr=0.001, batch_size=64)\n",
      "Train Accuracy: 0.9948889017105103\n",
      "Val Accuracy: 0.9882000088691711\n",
      "\n",
      "Params(lr=0.001, batch_size=256)\n",
      "Train Accuracy: 0.9961333274841309\n",
      "Val Accuracy: 0.9895333051681519\n",
      "\n",
      "Params(lr=0.01, batch_size=64)\n",
      "Train Accuracy: 0.9871777892112732\n",
      "Val Accuracy: 0.9797999858856201\n",
      "\n",
      "Params(lr=0.01, batch_size=256)\n",
      "Train Accuracy: 0.9972000122070312\n",
      "Val Accuracy: 0.990066647529602\n",
      "\n",
      "\n"
     ]
    }
   ],
   "source": [
    "[print(f\"{key}\\nTrain Accuracy: {val[1][-1]}\\nVal Accuracy: {val[3][-1]}\\n\") for key, val in bigger_results_dict.items()]\n",
    "print()"
   ]
  },
  {
   "cell_type": "markdown",
   "metadata": {},
   "source": [
    "##### single FC layer"
   ]
  },
  {
   "cell_type": "code",
   "execution_count": 157,
   "metadata": {},
   "outputs": [],
   "source": [
    "class CNN_singleFC(nn.Module):\n",
    "    def __init__(self, k=1):\n",
    "        super(CNN, self).__init__()\n",
    "        ### your code here: define layers\n",
    "        self.conv1 =  nn.Conv2d(in_channels=1, out_channels=6*k, \n",
    "                      kernel_size=5, stride=1, padding=2)\n",
    "        self.pool1 = nn.AvgPool2d(2)\n",
    "        self.conv2 = nn.Conv2d(in_channels=6*k, out_channels=16*k, \n",
    "                      kernel_size=5, stride=1)\n",
    "        self.pool2 = nn.AvgPool2d(2)\n",
    "        self.flatten = nn.Flatten()\n",
    "        self.linear1 = nn.Linear(16*k*25, 10)\n",
    "\n",
    "    def forward(self, x):\n",
    "        x = self.activation(self.conv1(x))\n",
    "        x = self.pool1(x)\n",
    "        x = self.activation(self.conv2(x))\n",
    "        x = self.pool2(x)\n",
    "        x = self.linear1(self.flatten(x))\n",
    "        return x"
   ]
  },
  {
   "cell_type": "code",
   "execution_count": 159,
   "metadata": {},
   "outputs": [],
   "source": [
    "lrs = [1e-4, 1e-3, 1e-2]\n",
    "batch_sizes = [64, 256]\n",
    "n_epochs = 20\n",
    "single_results_dict = {}\n",
    "\n",
    "for lr in lrs:\n",
    "    for batch_size in batch_sizes:\n",
    "        params = Params(lr, batch_size)\n",
    "        if single_results_dict.get(params) is None:\n",
    "            \n",
    "            try:\n",
    "                del single_model\n",
    "            except: pass\n",
    "        \n",
    "            single_model = CNN(k=4).to(device)\n",
    "\n",
    "            criterion = nn.CrossEntropyLoss()\n",
    "            optimizer = torch.optim.Adam(params=single_model.parameters(), lr=lr)\n",
    "            \n",
    "            train_loader = get_loader(X_train[:45000], y_train[:45000], batch_size = batch_size)\n",
    "            val_loader = get_loader(X_train[45000:], y_train[45000:], batch_size = batch_size)\n",
    "            \n",
    "            train_log, train_acc_log, val_log, val_acc_log = train(model=single_model, opt=optimizer, \n",
    "                                                            train_loader=train_loader, \n",
    "                                                            test_loader=val_loader, \n",
    "                                                            criterion=criterion, \n",
    "                                                            n_epochs=20, \n",
    "                                                            verbose=False)\n",
    "            res = Results(train_log, train_acc_log, val_log, val_acc_log)\n",
    "                         \n",
    "            single_results_dict.update({params: res})"
   ]
  },
  {
   "cell_type": "code",
   "execution_count": 160,
   "metadata": {},
   "outputs": [
    {
     "name": "stdout",
     "output_type": "stream",
     "text": [
      "Params(lr=0.0001, batch_size=64)\n",
      "Train Accuracy: 0.9897778034210205\n",
      "Val Accuracy: 0.984666645526886\n",
      "\n",
      "Params(lr=0.0001, batch_size=256)\n",
      "Train Accuracy: 0.9765777587890625\n",
      "Val Accuracy: 0.9757999777793884\n",
      "\n",
      "Params(lr=0.001, batch_size=64)\n",
      "Train Accuracy: 0.9984889030456543\n",
      "Val Accuracy: 0.9905999898910522\n",
      "\n",
      "Params(lr=0.001, batch_size=256)\n",
      "Train Accuracy: 0.9956222176551819\n",
      "Val Accuracy: 0.9890000224113464\n",
      "\n",
      "Params(lr=0.01, batch_size=64)\n",
      "Train Accuracy: 0.992377758026123\n",
      "Val Accuracy: 0.9833999872207642\n",
      "\n",
      "Params(lr=0.01, batch_size=256)\n",
      "Train Accuracy: 0.9918444156646729\n",
      "Val Accuracy: 0.9855999946594238\n",
      "\n",
      "\n"
     ]
    }
   ],
   "source": [
    "[print(f\"{key}\\nTrain Accuracy: {val[1][-1]}\\nVal Accuracy: {val[3][-1]}\\n\") for key, val in single_results_dict.items()]\n",
    "print()"
   ]
  },
  {
   "cell_type": "markdown",
   "metadata": {
    "id": "yoX-g-5n5Yqu"
   },
   "source": [
    "Choose the learning rate, batch size and the architecture based on your experiments. Train a network on the full dataset and print accuracy on the full test set."
   ]
  },
  {
   "cell_type": "code",
   "execution_count": 162,
   "metadata": {},
   "outputs": [],
   "source": [
    "lr = 0.001\n",
    "batch_size = 64\n",
    "n_epochs = 20\n",
    "\n",
    "params = Params(lr, batch_size)\n",
    "final_results_dict = {}\n",
    "\n",
    "try:\n",
    "    del single_model\n",
    "except: pass\n",
    "        \n",
    "single_model = CNN(k=4).to(device)\n",
    "\n",
    "criterion = nn.CrossEntropyLoss()\n",
    "optimizer = torch.optim.Adam(params=single_model.parameters(), lr=lr)\n",
    "            \n",
    "train_loader = get_loader(X_train, y_train, batch_size = batch_size)\n",
    "test_loader = get_loader(X_test, y_test, batch_size = batch_size)\n",
    "            \n",
    "train_log, train_acc_log, test_log, test_acc_log = train(model=single_model, opt=optimizer, \n",
    "                                                            train_loader=train_loader, \n",
    "                                                            test_loader=test_loader, \n",
    "                                                            criterion=criterion, \n",
    "                                                            n_epochs=20, \n",
    "                                                            verbose=False)\n",
    "res = Results(train_log, train_acc_log, test_log, test_acc_log)\n",
    "                         \n",
    "final_results_dict.update({params: res})"
   ]
  },
  {
   "cell_type": "code",
   "execution_count": 163,
   "metadata": {},
   "outputs": [
    {
     "name": "stdout",
     "output_type": "stream",
     "text": [
      "Params(lr=0.001, batch_size=64)\n",
      "Train Accuracy: 0.9987666606903076\n",
      "Test Accuracy: 0.9908000230789185\n",
      "\n",
      "\n"
     ]
    }
   ],
   "source": [
    "[print(f\"{key}\\nTrain Accuracy: {val[1][-1]}\\nTest Accuracy: {val[3][-1]}\\n\") for key, val in final_results_dict.items()]\n",
    "print()"
   ]
  },
  {
   "cell_type": "code",
   "execution_count": null,
   "metadata": {},
   "outputs": [],
   "source": []
  }
 ],
 "metadata": {
  "colab": {
   "provenance": []
  },
  "kernelspec": {
   "display_name": "Python 3 (ipykernel)",
   "language": "python",
   "name": "python3"
  },
  "language_info": {
   "codemirror_mode": {
    "name": "ipython",
    "version": 3
   },
   "file_extension": ".py",
   "mimetype": "text/x-python",
   "name": "python",
   "nbconvert_exporter": "python",
   "pygments_lexer": "ipython3",
   "version": "3.10.13"
  }
 },
 "nbformat": 4,
 "nbformat_minor": 4
}
