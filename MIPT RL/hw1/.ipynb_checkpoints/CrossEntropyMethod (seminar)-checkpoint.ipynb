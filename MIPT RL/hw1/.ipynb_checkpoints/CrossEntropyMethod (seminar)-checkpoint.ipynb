{
 "cells": [
  {
   "cell_type": "markdown",
   "metadata": {},
   "source": [
    "# Кросс-энтропийный метод\n",
    "\n",
    "Этот ноутбук научит Вас решать задачи обучения с подкреплением кросс-энтропийным методом. В дальнейшем мы отмасштабируем данный результат и использовать нейросетевую политику."
   ]
  },
  {
   "cell_type": "code",
   "execution_count": 1,
   "metadata": {},
   "outputs": [],
   "source": [
    "# !apt install ffmpeg xvfb python-opengl # для UNIX-подобных операционных систем\n",
    "# !brew install XQuartz # для использования xvfb в MacOS сервере (не опробовано)\n",
    "# !pip install piglet pyvirtualdisplay\n",
    "# !pip install gym==0.18.3"
   ]
  },
  {
   "cell_type": "code",
   "execution_count": 2,
   "metadata": {},
   "outputs": [],
   "source": [
    "# from pyvirtualdisplay import Display # для визуализации на UNIX-подобном сервере\n",
    "\n",
    "\n",
    "# virtual_display = Display(visible=0, size=(1920, 1080))\n",
    "# virtual_display.start()"
   ]
  },
  {
   "cell_type": "markdown",
   "metadata": {},
   "source": [
    "Скрыть предупреждения: эстетическая опция, можно не выполнять ячейку ниже"
   ]
  },
  {
   "cell_type": "code",
   "execution_count": 3,
   "metadata": {},
   "outputs": [],
   "source": [
    "import warnings\n",
    "\n",
    "\n",
    "warnings.filterwarnings(\"ignore\")"
   ]
  },
  {
   "cell_type": "markdown",
   "metadata": {},
   "source": [
    "Подключение основных библиотек, в комментариях код для запуска ноутбука на `Unix`-сервере (необходим для отображения работы `RL`-среды)"
   ]
  },
  {
   "cell_type": "code",
   "execution_count": 4,
   "metadata": {},
   "outputs": [],
   "source": [
    "# В Google Colab или на Unix-сервере (альтернатива pyvirtualdisplay), раскоментируйте код ниже:\n",
    "# !wget https://bit.ly/2FMJP5K -O setup.py && bash setup.py # после этого переустановать gym версии 0.18.3\n",
    "\n",
    "# Данный код создаёт виртуальный экран для отрисовки фреймов игры.\n",
    "# При локальном запуске можно проигнорировать\n",
    "# import os\n",
    "# if type(os.environ.get(\"DISPLAY\")) is not str or len(os.environ.get(\"DISPLAY\")) == 0:\n",
    "#     !bash ../xvfb start\n",
    "#     os.environ['DISPLAY'] = ':1'"
   ]
  },
  {
   "cell_type": "markdown",
   "metadata": {},
   "source": [
    "Поработаем со средой [Taxi-v3](https://www.gymlibrary.dev/environments/toy_text/taxi/) в библиотеке [OpenAI Gym](https://github.com/openai/gym):"
   ]
  },
  {
   "cell_type": "code",
   "execution_count": 5,
   "metadata": {},
   "outputs": [
    {
     "name": "stdout",
     "output_type": "stream",
     "text": [
      "+---------+\n",
      "|R: | : :G|\n",
      "| : | : : |\n",
      "| : : : : |\n",
      "| |\u001b[43m \u001b[0m: | : |\n",
      "|\u001b[35mY\u001b[0m| : |\u001b[34;1mB\u001b[0m: |\n",
      "+---------+\n",
      "\n"
     ]
    }
   ],
   "source": [
    "import gym\n",
    "import numpy as np\n",
    "import pandas as pd\n",
    "\n",
    "env = gym.make(\"Taxi-v3\")\n",
    "env.reset()\n",
    "env.render()"
   ]
  },
  {
   "cell_type": "code",
   "execution_count": 6,
   "metadata": {},
   "outputs": [
    {
     "name": "stdout",
     "output_type": "stream",
     "text": [
      "количество состояний = 500, количество действий = 6\n"
     ]
    }
   ],
   "source": [
    "n_states = env.observation_space.n\n",
    "n_actions = env.action_space.n\n",
    "\n",
    "print(\"количество состояний = %i, количество действий = %i\" % (n_states, n_actions))"
   ]
  },
  {
   "cell_type": "markdown",
   "metadata": {},
   "source": [
    "# Определим стохастическую политику\n",
    "\n",
    "В этот раз наша политика будет задаваться вероятностным распределением.\n",
    "\n",
    "```policy[s,a] = P(выполнить действие a | находясь в состоянии s)```\n",
    "\n",
    "Поскольку мы по-прежнему используем целочисленные представления состояний и действий, для представления политики можно использовать двумерный массив.\n",
    "\n",
    "Просьба инициализоровать политику __равномерно__, так что, вероятности всех действий должны быть одинаковыми."
   ]
  },
  {
   "cell_type": "code",
   "execution_count": 7,
   "metadata": {},
   "outputs": [],
   "source": [
    "policy = np.full((n_states, n_actions), 1. / n_actions)"
   ]
  },
  {
   "cell_type": "code",
   "execution_count": 8,
   "metadata": {},
   "outputs": [],
   "source": [
    "assert type(policy) in (np.ndarray, np.matrix)\n",
    "assert np.allclose(policy, 1./n_actions)\n",
    "assert np.allclose(np.sum(policy, axis=1), 1)"
   ]
  },
  {
   "cell_type": "markdown",
   "metadata": {},
   "source": [
    "# Сыграем в игру\n",
    "\n",
    "Как раньше, но ещё запишем все состояния и совершённые действия."
   ]
  },
  {
   "cell_type": "code",
   "execution_count": 9,
   "metadata": {},
   "outputs": [],
   "source": [
    "def generate_session(policy, t_max=10**4):\n",
    "    \"\"\"\n",
    "    Взаимодействует со средой до терминального состояния или до t_max шагов.\n",
    "    \n",
    "    \n",
    "    :параметр policy: NumPy-массив с размерностями [n_states,n_actions], заполненный вероятностями действий\n",
    "    :возвращает: список состояний, список действий и сумма наград\n",
    "    \"\"\"\n",
    "    states, actions = [], []\n",
    "    total_reward = 0.\n",
    "\n",
    "    s = env.reset()\n",
    "\n",
    "    for t in range(t_max):\n",
    "\n",
    "        a = np.random.choice(np.arange(n_actions), p=policy[s])\n",
    "\n",
    "        new_s, r, done, info = env.step(a)\n",
    "\n",
    "        # Запись состояния, действия и суммирование награды в states, actions и total_reward соответственно.\n",
    "        states.append(s)\n",
    "        actions.append(a)\n",
    "        total_reward += r\n",
    "\n",
    "        s = new_s\n",
    "        if done:\n",
    "            break\n",
    "    return states, actions, total_reward"
   ]
  },
  {
   "cell_type": "code",
   "execution_count": 10,
   "metadata": {},
   "outputs": [],
   "source": [
    "s, a, r = generate_session(policy)\n",
    "assert type(s) == type(a) == list\n",
    "assert len(s) == len(a)\n",
    "assert type(r) in [float, np.float]"
   ]
  },
  {
   "cell_type": "code",
   "execution_count": 11,
   "metadata": {},
   "outputs": [
    {
     "data": {
      "text/plain": [
       "<matplotlib.legend.Legend at 0x16cc9b910>"
      ]
     },
     "execution_count": 11,
     "metadata": {},
     "output_type": "execute_result"
    },
    {
     "data": {
      "image/png": "[encoded data removed]",
      "text/plain": [
       "<Figure size 640x480 with 1 Axes>"
      ]
     },
     "metadata": {},
     "output_type": "display_data"
    }
   ],
   "source": [
    "# давайте взглянем на изначальное распределеине награды\n",
    "import matplotlib.pyplot as plt\n",
    "%matplotlib inline\n",
    "\n",
    "sample_rewards = [generate_session(policy, t_max=1000)[-1] for _ in range(200)]\n",
    "\n",
    "plt.hist(sample_rewards, bins=20)\n",
    "plt.vlines([np.percentile(sample_rewards, 50)], [0], [100], label=\"0.5 квантиль\", color='green')\n",
    "plt.vlines([np.percentile(sample_rewards, 90)], [0], [100], label=\"0.9 квантиль\", color='red')\n",
    "plt.legend()"
   ]
  },
  {
   "cell_type": "markdown",
   "metadata": {},
   "source": [
    "### Шаги кросс-энтропийного метода"
   ]
  },
  {
   "cell_type": "code",
   "execution_count": 12,
   "metadata": {},
   "outputs": [],
   "source": [
    "def select_elites(states_batch, actions_batch, rewards_batch, percentile=50):\n",
    "    \"\"\"\n",
    "    Выбор состояний и действий из эпизодов с суммарной наградой >= percentile\n",
    "    :параметр states_batch: список списков состояний, states_batch[session_i][t]\n",
    "    :параметр actions_batch: список списков действий, actions_batch[session_i][t]\n",
    "    :параметр rewards_batch: список суммарных наград, rewards_batch[session_i]\n",
    "\n",
    "    :возвращает: elite_states, elite_actions, 1D списки состояний и соответствующих действий из отобранных эпизодов\n",
    "\n",
    "    Просьба врзвращать отобранные состояния и действия в исходном порядке \n",
    "    [т.е. сортированные по номеру эпизода и в хронологическом порядке внутри эпизода]\n",
    "\n",
    "    В случае замешательства просьба обратить внимание на примеры ниже. Просьба не трактовать состояния как целые\n",
    "    числа (они могут позже стать другими).\n",
    "    \"\"\"\n",
    "\n",
    "    reward_threshold = np.percentile(rewards_batch, q=percentile)\n",
    "    mask = np.array(rewards_batch) >= reward_threshold\n",
    "\n",
    "    elite_states = np.hstack(np.array(states_batch)[mask])\n",
    "    elite_actions = np.hstack(np.array(actions_batch)[mask])\n",
    "\n",
    "    return elite_states, elite_actions"
   ]
  },
  {
   "cell_type": "code",
   "execution_count": 13,
   "metadata": {},
   "outputs": [
    {
     "name": "stdout",
     "output_type": "stream",
     "text": [
      "Отлично!\n"
     ]
    }
   ],
   "source": [
    "states_batch = [\n",
    "    [1, 2, 3],     # эпизод 1\n",
    "    [4, 2, 0, 2],  # эпизод 2\n",
    "    [3, 1],        # эпизод 3\n",
    "]\n",
    "\n",
    "actions_batch = [\n",
    "    [0, 2, 4],     # эпизод 1\n",
    "    [3, 2, 0, 1],  # эпизод 2\n",
    "    [3, 3],        # эпизод 3\n",
    "]\n",
    "rewards_batch = [\n",
    "    3,  # эпизод 1\n",
    "    4,  # эпизод 2\n",
    "    5,  # эпизод 3\n",
    "]\n",
    "\n",
    "test_result_0 = select_elites(\n",
    "    states_batch, actions_batch, rewards_batch, percentile=0)\n",
    "test_result_30 = select_elites(\n",
    "    states_batch, actions_batch, rewards_batch, percentile=30)\n",
    "test_result_90 = select_elites(\n",
    "    states_batch, actions_batch, rewards_batch, percentile=90)\n",
    "test_result_100 = select_elites(\n",
    "    states_batch, actions_batch, rewards_batch, percentile=100)\n",
    "\n",
    "assert np.all(test_result_0[0] == [1, 2, 3, 4, 2, 0, 2, 3, 1])  \\\n",
    "    and np.all(test_result_0[1] == [0, 2, 4, 3, 2, 0, 1, 3, 3]),\\\n",
    "    \"Для квантиля 0 следует вернуть все состояния и действия в хронологическом порядке\"\n",
    "assert np.all(test_result_30[0] == [4, 2, 0, 2, 3, 1]) and \\\n",
    "    np.all(test_result_30[1] == [3, 2, 0, 1, 3, 3]),\\\n",
    "    \"Для квантиля 0.3 следует вернуть состояния/действия из последних двух эпизодов\"\n",
    "assert np.all(test_result_90[0] == [3, 1]) and \\\n",
    "    np.all(test_result_90[1] == [3, 3]),\\\n",
    "    \"Для квантиля 0.9 следует вернуть состояния/действия только из третьего эпизода\"\n",
    "assert np.all(test_result_100[0] == [3, 1]) and\\\n",
    "    np.all(test_result_100[1] == [3, 3]),\\\n",
    "    \"Используйте >=, не >. Дважды проверьте вычисление перцентилей (квантилей).\"\n",
    "print(\"Отлично!\")"
   ]
  },
  {
   "cell_type": "code",
   "execution_count": 14,
   "metadata": {},
   "outputs": [],
   "source": [
    "def update_policy(elite_states, elite_actions):\n",
    "    \"\"\"\n",
    "    По данной старой политике и по списку отобранных состояний/действий из select_elites вернуть новую политику\n",
    "    с вероятностью совершения действия пропорционально:\n",
    "    \n",
    "    policy[s_i,a_i] ~ #[пары s_i и a_i в отобранных состояниях/действиях].\n",
    "    \n",
    "    Не забывайте нормализовать политику, чтобы получить корректное вероятностное распределение и\n",
    "    учесть случай 0/0. Для непосещённых состояний установить равномерное распределение на действия:\n",
    "    \n",
    "    policy[s_i,a_i] = 1./n_actions.\n",
    "\n",
    "    :параметр elite_states: 1D список состояний из отобранных эпизодов\n",
    "    :параметр elite_actions: 1D список действий из отобранных эпизодов\n",
    "\n",
    "    \"\"\"\n",
    "\n",
    "    new_policy = np.zeros([n_states, n_actions])\n",
    "\n",
    "    #for s, a in zip(elite_states, elite_actions):\n",
    "    #    new_policy[s, a] += 1\n",
    "    np.add.at(new_policy, (elite_states, elite_actions), 1)\n",
    "    mask = new_policy.sum(axis=1) > 0\n",
    "    new_policy[mask] /= new_policy[mask].sum(axis=1)[:, np.newaxis]\n",
    "    # Не забудьте выставить 1/n_actions для непосещённых состояний.\n",
    "    new_policy[~mask] = 1 / n_actions\n",
    "\n",
    "    return new_policy"
   ]
  },
  {
   "cell_type": "code",
   "execution_count": 15,
   "metadata": {},
   "outputs": [
    {
     "name": "stdout",
     "output_type": "stream",
     "text": [
      "Отлично!\n"
     ]
    }
   ],
   "source": [
    "elite_states = [1, 2, 3, 4, 2, 0, 2, 3, 1]\n",
    "elite_actions = [0, 2, 4, 3, 2, 0, 1, 3, 3]\n",
    "\n",
    "new_policy = update_policy(elite_states, elite_actions)\n",
    "\n",
    "assert np.isfinite(new_policy).all(\n",
    "), \"Ваша новая политика содержит NaN-ы или +-inf. Проверьте наличие деления на 0.\"\n",
    "assert np.all(\n",
    "    new_policy >= 0), \"Ваша новая политика не может содержать отрицательные вероятности\"\n",
    "assert np.allclose(new_policy.sum(\n",
    "    axis=-1), 1), \"Ваша новая политика должна быть корректным вероятностным распределением на действиях\"\n",
    "reference_answer = np.array([\n",
    "    [1.,  0.,  0.,  0.,  0.],\n",
    "    [0.5,  0.,  0.,  0.5,  0.],\n",
    "    [0.,  0.33333333,  0.66666667,  0.,  0.],\n",
    "    [0.,  0.,  0.,  0.5,  0.5]])\n",
    "assert np.allclose(new_policy[:4, :5], reference_answer)\n",
    "print(\"Отлично!\")"
   ]
  },
  {
   "cell_type": "markdown",
   "metadata": {},
   "source": [
    "# Цикл обучения\n",
    "\n",
    "Сгенерируйте эпизоды, выберете N лучших и обучитесь на них."
   ]
  },
  {
   "cell_type": "code",
   "execution_count": 16,
   "metadata": {},
   "outputs": [],
   "source": [
    "from IPython.display import clear_output\n",
    "\n",
    "def show_progress(rewards_batch, log, percentile, reward_range=[-990, +10]):\n",
    "    \"\"\"\n",
    "    Удобная функция для демонстрации процесса обучения. Никакого rocket science, просто диаграммы.\n",
    "    \"\"\"\n",
    "\n",
    "    mean_reward = np.mean(rewards_batch)\n",
    "    threshold = np.percentile(rewards_batch, percentile)\n",
    "    log.append([mean_reward, threshold])\n",
    "\n",
    "    print(\"Среднее арифметическое суммарной награды = %.3f, порог=%.3f\" % (mean_reward, threshold))\n",
    "    plt.figure(figsize=[8, 4])\n",
    "    plt.subplot(1, 2, 1)\n",
    "    plt.plot(list(zip(*log))[0], label='Среднее арифметическое\\nсуммарной награды')\n",
    "    plt.plot(list(zip(*log))[1], label='Пороги суммарных наград')\n",
    "    plt.legend()\n",
    "    plt.grid()\n",
    "\n",
    "    plt.subplot(1, 2, 2)\n",
    "    plt.hist(rewards_batch, range=reward_range)\n",
    "    plt.vlines([np.percentile(rewards_batch, percentile)],\n",
    "               [0], [100], label=\"перцентиль\", color='red')\n",
    "    plt.legend()\n",
    "    plt.grid()\n",
    "    \n",
    "    clear_output(True)\n",
    "    plt.show()"
   ]
  },
  {
   "cell_type": "code",
   "execution_count": 17,
   "metadata": {},
   "outputs": [],
   "source": [
    "# перезапись политики на всякий случай\n",
    "policy = np.ones([n_states, n_actions]) / n_actions"
   ]
  },
  {
   "cell_type": "code",
   "execution_count": 18,
   "metadata": {},
   "outputs": [
    {
     "data": {
      "image/png": "[encoded data removed]",
      "text/plain": [
       "<Figure size 800x400 with 2 Axes>"
      ]
     },
     "metadata": {},
     "output_type": "display_data"
    }
   ],
   "source": [
    "n_sessions = 250  # сэмплировать столько эпизодов\n",
    "percentile = 20  # взять такой процент наилучших наград\n",
    "learning_rate = 0.5  # коэффициент экспоненциального сглаживания для вероятностей\n",
    "\n",
    "log = []\n",
    "\n",
    "for i in range(100):\n",
    "\n",
    "    %time sessions = [generate_session(policy) for _ in range(n_sessions)]\n",
    "\n",
    "    states_batch, actions_batch, rewards_batch = zip(*sessions)\n",
    "\n",
    "    elite_states, elite_actions = select_elites(states_batch, actions_batch, rewards_batch, percentile=percentile)\n",
    "\n",
    "    new_policy = update_policy(elite_states, elite_actions)\n",
    "\n",
    "    policy = learning_rate*new_policy + (1-learning_rate)*policy\n",
    "    learning_rate *= 0.99\n",
    "\n",
    "    # отображение результатов на диаграмме\n",
    "    show_progress(rewards_batch, log, percentile)"
   ]
  },
  {
   "cell_type": "markdown",
   "metadata": {},
   "source": [
    "### Обсуждение результатов\n",
    "\n",
    "Возможно, вы заметили, что задача о такси быстро сходится от $\\leq1000$ к почти оптимальному значению, а затем снова опускается до -50/-100. Частично это связано с тем, что окружающая среда обладает некоторой врожденной случайностью. А именно, отправные точки пассажира/водителя меняются от эпизода к эпизоду.\n",
    "\n",
    "Если кросс-энтропийный метод не сможет научиться побеждать с одной конкретной отправной точки, он просто откажется от нее, потому что ни одна сессия с этой отправной точки не попадет в «отобранные».\n",
    "\n",
    "Чтобы смягчить эту проблему, вы можете либо снизить порог отобранных сессий (метод проб и ошибок), либо изменить способ оценки стратегии (теоретически правильный способ). Вы можете сначала попробовать действие для каждого возможного состояния, а затем оценить этот выбор действий, запустив _несколько_ игр и усреднив награды."
   ]
  },
  {
   "cell_type": "code",
   "execution_count": null,
   "metadata": {},
   "outputs": [],
   "source": []
  }
 ],
 "metadata": {
  "kernelspec": {
   "display_name": "Python 3 (ipykernel)",
   "language": "python",
   "name": "python3"
  },
  "language_info": {
   "codemirror_mode": {
    "name": "ipython",
    "version": 3
   },
   "file_extension": ".py",
   "mimetype": "text/x-python",
   "name": "python",
   "nbconvert_exporter": "python",
   "pygments_lexer": "ipython3",
   "version": "3.10.13"
  }
 },
 "nbformat": 4,
 "nbformat_minor": 1
}
