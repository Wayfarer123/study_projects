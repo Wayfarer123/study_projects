{
 "cells": [
  {
   "cell_type": "markdown",
   "metadata": {},
   "source": [
    "# Марковский процесс принятия решений\n",
    "\n",
    "#### дедлайн (жёсткий) задания: 3 апреля, 23:59 UTC+3\n",
    "\n",
    "#### при сдаче задания нужно данный файл послать в систему сдачи\n",
    "\n",
    "В данной работе рассматриваются методы, разработанные для решения Марковских процессов принятия решений, **M**arkov **D**ecision **P**rocesses, **MDP**. В самом широком смысле, MDP определяется тем, как он изменяет состояния и как вычисляются награды.\n",
    "\n",
    "Переход состояний определяется распределением $P(s' |s,a)$ &mdash; насколько вероятно перейти в состояние $s'$, если производится действие $a$ в состоянии $s$. Существует несколько способов определить функцию вознаграждений, однако ради удобства будет использована следующая сигнатура: $r(s,a,s')$."
   ]
  },
  {
   "cell_type": "markdown",
   "metadata": {},
   "source": [
    "# Работа выполнена: Охотников Никита Владимирович, Б05-003."
   ]
  },
  {
   "cell_type": "markdown",
   "metadata": {},
   "source": [
    "Для начала, давайте определим простой MDP, изображённый на рисунке ниже:\n",
    "\n",
    "<img src=\"https://upload.wikimedia.org/wikipedia/commons/a/ad/Markov_Decision_Process.svg\" width=\"400px\" alt=\"Diagram by Waldoalvarez via Wikimedia Commons, CC BY-SA 4.0\"/>"
   ]
  },
  {
   "cell_type": "code",
   "execution_count": 217,
   "metadata": {},
   "outputs": [],
   "source": [
    "transition_probs = {\n",
    "    's0': {\n",
    "        'a0': {'s0': 0.5, 's2': 0.5},\n",
    "        'a1': {'s2': 1}\n",
    "    },\n",
    "    's1': {\n",
    "        'a0': {'s0': 0.7, 's1': 0.1, 's2': 0.2},\n",
    "        'a1': {'s1': 0.95, 's2': 0.05}\n",
    "    },\n",
    "    's2': {\n",
    "        'a0': {'s0': 0.4, 's2': 0.6},\n",
    "        'a1': {'s0': 0.3, 's1': 0.3, 's2': 0.4}\n",
    "    }\n",
    "}\n",
    "rewards = {\n",
    "    's1': {'a0': {'s0': +5}},\n",
    "    's2': {'a1': {'s0': -1}}\n",
    "}\n",
    "\n",
    "from mdp import MDP\n",
    "mdp = MDP(transition_probs, rewards, initial_state='s0')"
   ]
  },
  {
   "cell_type": "markdown",
   "metadata": {},
   "source": [
    "Теперь можно использовать MDP как и другие среды от Open AI Gym:"
   ]
  },
  {
   "cell_type": "code",
   "execution_count": 218,
   "metadata": {},
   "outputs": [
    {
     "name": "stdout",
     "output_type": "stream",
     "text": [
      "initial state = s0\n",
      "next_state = s2, reward = 0.0, done = False\n"
     ]
    }
   ],
   "source": [
    "print('initial state =', mdp.reset())\n",
    "next_state, reward, done, info = mdp.step('a1')\n",
    "print('next_state = %s, reward = %s, done = %s' % (next_state, reward, done))"
   ]
  },
  {
   "cell_type": "markdown",
   "metadata": {},
   "source": [
    "но также есть и другие методы, необходимые для имплементации алгоритма итерацонной оптимизации ценности (Value Iteration)"
   ]
  },
  {
   "cell_type": "code",
   "execution_count": 219,
   "metadata": {},
   "outputs": [
    {
     "name": "stdout",
     "output_type": "stream",
     "text": [
      "mdp.get_all_states = ('s0', 's1', 's2')\n",
      "mdp.get_possible_actions('s1') =  ('a0', 'a1')\n",
      "mdp.get_next_states('s1', 'a0') =  {'s0': 0.7, 's1': 0.1, 's2': 0.2}\n",
      "mdp.get_reward('s1', 'a0', 's0') =  5\n",
      "mdp.get_transition_prob('s1', 'a0', 's0') =  0.7\n"
     ]
    }
   ],
   "source": [
    "print(\"mdp.get_all_states =\", mdp.get_all_states())\n",
    "print(\"mdp.get_possible_actions('s1') = \", mdp.get_possible_actions('s1'))\n",
    "print(\"mdp.get_next_states('s1', 'a0') = \", mdp.get_next_states('s1', 'a0'))\n",
    "print(\"mdp.get_reward('s1', 'a0', 's0') = \", mdp.get_reward('s1', 'a0', 's0'))\n",
    "print(\"mdp.get_transition_prob('s1', 'a0', 's0') = \",\n",
    "      mdp.get_transition_prob('s1', 'a0', 's0'))"
   ]
  },
  {
   "cell_type": "markdown",
   "metadata": {},
   "source": [
    "### Опционально: визуализация MDP\n",
    "\n",
    "Вы можете визуализировать MDP с помощью функции отрисовки, написанной [neer201](https://github.com/neer201).\n",
    "\n",
    "Для этого требуется установить graphviz системно и для Python. На Unix-подобных системах (Ubuntu) для этого достатчно выполнить следующие команды:\n",
    "\n",
    "1. `sudo apt-get install graphviz`\n",
    "2. `pip install graphviz`\n",
    "3. перезагрузить этот ноутбук\n",
    "\n",
    "__Замечание:__ Установка graphviz на некоторые ОС (особенно Windows) может быть нетривиальной. Поэтому можно пропусить данный шаг и использовать стандартную визуализацию."
   ]
  },
  {
   "cell_type": "code",
   "execution_count": 220,
   "metadata": {},
   "outputs": [],
   "source": [
    "# from mdp import has_graphviz\n",
    "# from IPython.display import display\n",
    "# print(\"Graphviz доступен:\", has_graphviz)"
   ]
  },
  {
   "cell_type": "code",
   "execution_count": 221,
   "metadata": {},
   "outputs": [],
   "source": [
    "has_graphviz = False"
   ]
  },
  {
   "cell_type": "code",
   "execution_count": 222,
   "metadata": {},
   "outputs": [],
   "source": [
    "#Available but not working properly...\n",
    "\n",
    "# if has_graphviz:\n",
    "#     from mdp import plot_graph, plot_graph_with_state_values, \\\n",
    "#         plot_graph_optimal_strategy_and_state_values\n",
    "\n",
    "#     display(plot_graph(mdp))"
   ]
  },
  {
   "cell_type": "markdown",
   "metadata": {},
   "source": [
    "# Итерационная оптимизация ценности, Value Iteration (вплоть до 4 баллов)\n",
    "\n",
    "Теперь построим первый способ решения MDP. Простейший на данный момент алгоритм называется итерационной оптимизацией ценности или __V__alue __I__teration\n",
    "\n",
    "Ниже представлен псевдокод VI:\n",
    "\n",
    "---\n",
    "\n",
    "`1.` Инициализация $V^{(0)}(s)=0$, for all $s$\n",
    "\n",
    "`2.` Для $i=0, 1, 2, \\dots$\n",
    " \n",
    "`3.` $ \\quad V_{(i+1)}(s) = \\max_a \\sum_{s'} P(s' | s,a) \\cdot [ r(s,a,s') + \\gamma V_{i}(s')]$, для всех $s$\n",
    "\n",
    "---"
   ]
  },
  {
   "cell_type": "markdown",
   "metadata": {},
   "source": [
    "Для начала выпишем функцию вычисления $Q$-функции ценности $Q^{\\pi}$, определив следующим образом\n",
    "\n",
    "$$Q_i(s, a) = \\sum_{s'} P(s' | s,a) \\cdot [ r(s,a,s') + \\gamma V_{i}(s')]$$\n"
   ]
  },
  {
   "cell_type": "code",
   "execution_count": 223,
   "metadata": {},
   "outputs": [
    {
     "name": "stdout",
     "output_type": "stream",
     "text": [
      "Overwriting mdp_get_action_value.py\n"
     ]
    }
   ],
   "source": [
    "%%writefile mdp_get_action_value.py\n",
    "def get_action_value(mdp, state_values, state, action, gamma):\n",
    "    \"\"\" Вычисляет Q(s,a) согласно формуле выше \"\"\"\n",
    "    \n",
    "    # Ваша имплементация ниже\n",
    "    q_value = 0\n",
    "    for s, p in mdp.get_next_states(state, action).items():\n",
    "        q_value += mdp.get_reward(state, action, s) * p + p * gamma * state_values[s]\n",
    "    \n",
    "    return q_value"
   ]
  },
  {
   "cell_type": "code",
   "execution_count": 224,
   "metadata": {},
   "outputs": [],
   "source": [
    "from mdp_get_action_value import *"
   ]
  },
  {
   "cell_type": "code",
   "execution_count": 225,
   "metadata": {},
   "outputs": [],
   "source": [
    "import numpy as np\n",
    "test_Vs = {s: i for i, s in enumerate(sorted(mdp.get_all_states()))}\n",
    "assert np.isclose(get_action_value(mdp, test_Vs, 's2', 'a1', 0.9), 0.69)\n",
    "assert np.isclose(get_action_value(mdp, test_Vs, 's1', 'a0', 0.9), 3.95)"
   ]
  },
  {
   "cell_type": "markdown",
   "metadata": {},
   "source": [
    "Используя $Q(s,a)$ можно определить \"следующее\" $V(s)$ для итерационной оптимизации ценности.\n",
    " $$V_{(i+1)}(s) = \\max_a \\sum_{s'} P(s' | s,a) \\cdot [ r(s,a,s') + \\gamma V_{i}(s')] = \\max_a Q_i(s,a)$$"
   ]
  },
  {
   "cell_type": "code",
   "execution_count": 226,
   "metadata": {},
   "outputs": [],
   "source": [
    "def get_new_state_value(mdp, state_values, state, gamma):\n",
    "    \"\"\" Вычисляет следующее V(s) согласно формуле выше. Просьба не изменять state_values в процессе. \"\"\"\n",
    "    if mdp.is_terminal(state):\n",
    "        return 0\n",
    "\n",
    "    q_values = [get_action_value(mdp, state_values, state, action, gamma) for action in mdp.get_possible_actions(state)]\n",
    "       \n",
    "    return max(q_values)"
   ]
  },
  {
   "cell_type": "code",
   "execution_count": 227,
   "metadata": {},
   "outputs": [],
   "source": [
    "test_Vs_copy = dict(test_Vs)\n",
    "assert np.isclose(get_new_state_value(mdp, test_Vs, 's0', 0.9), 1.8)\n",
    "assert np.isclose(get_new_state_value(mdp, test_Vs, 's2', 0.9), 1.08)\n",
    "assert test_Vs == test_Vs_copy, \"просьба не изменять state_values в get_new_state_value\""
   ]
  },
  {
   "cell_type": "markdown",
   "metadata": {},
   "source": [
    "Наконец-то можно скомбинировать написанное в работающий алгоритм."
   ]
  },
  {
   "cell_type": "code",
   "execution_count": 228,
   "metadata": {
    "scrolled": true
   },
   "outputs": [
    {
     "name": "stdout",
     "output_type": "stream",
     "text": [
      "Итерация    0   |   разность max_s|V_new(s) - V_old(s)|: 3.50000   |   V(s0) = 0.000   V(s1) = 0.000   V(s2) = 0.000\n",
      "Итерация    1   |   разность max_s|V_new(s) - V_old(s)|: 0.64500   |   V(s0) = 0.000   V(s1) = 3.500   V(s2) = 0.000\n",
      "Итерация    2   |   разность max_s|V_new(s) - V_old(s)|: 0.58050   |   V(s0) = 0.000   V(s1) = 3.815   V(s2) = 0.645\n",
      "Итерация    3   |   разность max_s|V_new(s) - V_old(s)|: 0.43582   |   V(s0) = 0.581   V(s1) = 3.959   V(s2) = 0.962\n",
      "Итерация    4   |   разность max_s|V_new(s) - V_old(s)|: 0.30634   |   V(s0) = 0.866   V(s1) = 4.395   V(s2) = 1.272\n",
      "Итерация    5   |   разность max_s|V_new(s) - V_old(s)|: 0.27571   |   V(s0) = 1.145   V(s1) = 4.670   V(s2) = 1.579\n",
      "Итерация    6   |   разность max_s|V_new(s) - V_old(s)|: 0.24347   |   V(s0) = 1.421   V(s1) = 4.926   V(s2) = 1.838\n",
      "Итерация    7   |   разность max_s|V_new(s) - V_old(s)|: 0.21419   |   V(s0) = 1.655   V(s1) = 5.169   V(s2) = 2.075\n",
      "Итерация    8   |   разность max_s|V_new(s) - V_old(s)|: 0.19277   |   V(s0) = 1.868   V(s1) = 5.381   V(s2) = 2.290\n",
      "Итерация    9   |   разность max_s|V_new(s) - V_old(s)|: 0.17327   |   V(s0) = 2.061   V(s1) = 5.573   V(s2) = 2.481\n",
      "Итерация   10   |   разность max_s|V_new(s) - V_old(s)|: 0.15569   |   V(s0) = 2.233   V(s1) = 5.746   V(s2) = 2.654\n",
      "Итерация   11   |   разность max_s|V_new(s) - V_old(s)|: 0.14012   |   V(s0) = 2.389   V(s1) = 5.902   V(s2) = 2.810\n",
      "Итерация   12   |   разность max_s|V_new(s) - V_old(s)|: 0.12610   |   V(s0) = 2.529   V(s1) = 6.042   V(s2) = 2.950\n",
      "Итерация   13   |   разность max_s|V_new(s) - V_old(s)|: 0.11348   |   V(s0) = 2.655   V(s1) = 6.168   V(s2) = 3.076\n",
      "Итерация   14   |   разность max_s|V_new(s) - V_old(s)|: 0.10213   |   V(s0) = 2.769   V(s1) = 6.282   V(s2) = 3.190\n",
      "Итерация   15   |   разность max_s|V_new(s) - V_old(s)|: 0.09192   |   V(s0) = 2.871   V(s1) = 6.384   V(s2) = 3.292\n",
      "Итерация   16   |   разность max_s|V_new(s) - V_old(s)|: 0.08272   |   V(s0) = 2.963   V(s1) = 6.476   V(s2) = 3.384\n",
      "Итерация   17   |   разность max_s|V_new(s) - V_old(s)|: 0.07445   |   V(s0) = 3.045   V(s1) = 6.558   V(s2) = 3.467\n",
      "Итерация   18   |   разность max_s|V_new(s) - V_old(s)|: 0.06701   |   V(s0) = 3.120   V(s1) = 6.633   V(s2) = 3.541\n",
      "Итерация   19   |   разность max_s|V_new(s) - V_old(s)|: 0.06031   |   V(s0) = 3.187   V(s1) = 6.700   V(s2) = 3.608\n",
      "Итерация   20   |   разность max_s|V_new(s) - V_old(s)|: 0.05428   |   V(s0) = 3.247   V(s1) = 6.760   V(s2) = 3.668\n",
      "Итерация   21   |   разность max_s|V_new(s) - V_old(s)|: 0.04885   |   V(s0) = 3.301   V(s1) = 6.814   V(s2) = 3.723\n",
      "Итерация   22   |   разность max_s|V_new(s) - V_old(s)|: 0.04396   |   V(s0) = 3.350   V(s1) = 6.863   V(s2) = 3.771\n",
      "Итерация   23   |   разность max_s|V_new(s) - V_old(s)|: 0.03957   |   V(s0) = 3.394   V(s1) = 6.907   V(s2) = 3.815\n",
      "Итерация   24   |   разность max_s|V_new(s) - V_old(s)|: 0.03561   |   V(s0) = 3.434   V(s1) = 6.947   V(s2) = 3.855\n",
      "Итерация   25   |   разность max_s|V_new(s) - V_old(s)|: 0.03205   |   V(s0) = 3.469   V(s1) = 6.982   V(s2) = 3.891\n",
      "Итерация   26   |   разность max_s|V_new(s) - V_old(s)|: 0.02884   |   V(s0) = 3.502   V(s1) = 7.014   V(s2) = 3.923\n",
      "Итерация   27   |   разность max_s|V_new(s) - V_old(s)|: 0.02596   |   V(s0) = 3.530   V(s1) = 7.043   V(s2) = 3.951\n",
      "Итерация   28   |   разность max_s|V_new(s) - V_old(s)|: 0.02336   |   V(s0) = 3.556   V(s1) = 7.069   V(s2) = 3.977\n",
      "Итерация   29   |   разность max_s|V_new(s) - V_old(s)|: 0.02103   |   V(s0) = 3.580   V(s1) = 7.093   V(s2) = 4.001\n",
      "Итерация   30   |   разность max_s|V_new(s) - V_old(s)|: 0.01892   |   V(s0) = 3.601   V(s1) = 7.114   V(s2) = 4.022\n",
      "Итерация   31   |   разность max_s|V_new(s) - V_old(s)|: 0.01703   |   V(s0) = 3.620   V(s1) = 7.133   V(s2) = 4.041\n",
      "Итерация   32   |   разность max_s|V_new(s) - V_old(s)|: 0.01533   |   V(s0) = 3.637   V(s1) = 7.150   V(s2) = 4.058\n",
      "Итерация   33   |   разность max_s|V_new(s) - V_old(s)|: 0.01380   |   V(s0) = 3.652   V(s1) = 7.165   V(s2) = 4.073\n",
      "Итерация   34   |   разность max_s|V_new(s) - V_old(s)|: 0.01242   |   V(s0) = 3.666   V(s1) = 7.179   V(s2) = 4.087\n",
      "Итерация   35   |   разность max_s|V_new(s) - V_old(s)|: 0.01117   |   V(s0) = 3.678   V(s1) = 7.191   V(s2) = 4.099\n",
      "Итерация   36   |   разность max_s|V_new(s) - V_old(s)|: 0.01006   |   V(s0) = 3.689   V(s1) = 7.202   V(s2) = 4.110\n",
      "Итерация   37   |   разность max_s|V_new(s) - V_old(s)|: 0.00905   |   V(s0) = 3.699   V(s1) = 7.212   V(s2) = 4.121\n",
      "Итерация   38   |   разность max_s|V_new(s) - V_old(s)|: 0.00815   |   V(s0) = 3.708   V(s1) = 7.221   V(s2) = 4.130\n",
      "Итерация   39   |   разность max_s|V_new(s) - V_old(s)|: 0.00733   |   V(s0) = 3.717   V(s1) = 7.230   V(s2) = 4.138\n",
      "Итерация   40   |   разность max_s|V_new(s) - V_old(s)|: 0.00660   |   V(s0) = 3.724   V(s1) = 7.237   V(s2) = 4.145\n",
      "Итерация   41   |   разность max_s|V_new(s) - V_old(s)|: 0.00594   |   V(s0) = 3.731   V(s1) = 7.244   V(s2) = 4.152\n",
      "Итерация   42   |   разность max_s|V_new(s) - V_old(s)|: 0.00534   |   V(s0) = 3.736   V(s1) = 7.249   V(s2) = 4.158\n",
      "Итерация   43   |   разность max_s|V_new(s) - V_old(s)|: 0.00481   |   V(s0) = 3.742   V(s1) = 7.255   V(s2) = 4.163\n",
      "Итерация   44   |   разность max_s|V_new(s) - V_old(s)|: 0.00433   |   V(s0) = 3.747   V(s1) = 7.260   V(s2) = 4.168\n",
      "Итерация   45   |   разность max_s|V_new(s) - V_old(s)|: 0.00390   |   V(s0) = 3.751   V(s1) = 7.264   V(s2) = 4.172\n",
      "Итерация   46   |   разность max_s|V_new(s) - V_old(s)|: 0.00351   |   V(s0) = 3.755   V(s1) = 7.268   V(s2) = 4.176\n",
      "Итерация   47   |   разность max_s|V_new(s) - V_old(s)|: 0.00316   |   V(s0) = 3.758   V(s1) = 7.271   V(s2) = 4.179\n",
      "Итерация   48   |   разность max_s|V_new(s) - V_old(s)|: 0.00284   |   V(s0) = 3.762   V(s1) = 7.275   V(s2) = 4.183\n",
      "Итерация   49   |   разность max_s|V_new(s) - V_old(s)|: 0.00256   |   V(s0) = 3.764   V(s1) = 7.277   V(s2) = 4.185\n",
      "Итерация   50   |   разность max_s|V_new(s) - V_old(s)|: 0.00230   |   V(s0) = 3.767   V(s1) = 7.280   V(s2) = 4.188\n",
      "Итерация   51   |   разность max_s|V_new(s) - V_old(s)|: 0.00207   |   V(s0) = 3.769   V(s1) = 7.282   V(s2) = 4.190\n",
      "Итерация   52   |   разность max_s|V_new(s) - V_old(s)|: 0.00186   |   V(s0) = 3.771   V(s1) = 7.284   V(s2) = 4.192\n",
      "Итерация   53   |   разность max_s|V_new(s) - V_old(s)|: 0.00168   |   V(s0) = 3.773   V(s1) = 7.286   V(s2) = 4.194\n",
      "Итерация   54   |   разность max_s|V_new(s) - V_old(s)|: 0.00151   |   V(s0) = 3.775   V(s1) = 7.288   V(s2) = 4.196\n",
      "Итерация   55   |   разность max_s|V_new(s) - V_old(s)|: 0.00136   |   V(s0) = 3.776   V(s1) = 7.289   V(s2) = 4.197\n",
      "Итерация   56   |   разность max_s|V_new(s) - V_old(s)|: 0.00122   |   V(s0) = 3.778   V(s1) = 7.291   V(s2) = 4.199\n",
      "Итерация   57   |   разность max_s|V_new(s) - V_old(s)|: 0.00110   |   V(s0) = 3.779   V(s1) = 7.292   V(s2) = 4.200\n",
      "Итерация   58   |   разность max_s|V_new(s) - V_old(s)|: 0.00099   |   V(s0) = 3.780   V(s1) = 7.293   V(s2) = 4.201\n",
      "Останов\n",
      "CPU times: total: 0 ns\n",
      "Wall time: 2 ms\n"
     ]
    }
   ],
   "source": [
    "%%time\n",
    "\n",
    "# гиперпараметры\n",
    "gamma = 0.9            # фактор дисконтирования MDP\n",
    "num_iter = 100         # максимальное количество итераций, не включая инициализацию\n",
    "# останов VI, если новые значения V(s) настолько близки к старым (или ближе)\n",
    "min_difference = 0.001\n",
    "\n",
    "# инициализация V(s)\n",
    "state_values = {s: 0 for s in mdp.get_all_states()}\n",
    "\n",
    "if has_graphviz:\n",
    "    display(plot_graph_with_state_values(mdp, state_values))\n",
    "\n",
    "for i in range(num_iter):\n",
    "\n",
    "    # Вычисление новых V(s) используя определённые выше функции.\n",
    "    # Должен быть словарь {state : float V_new(state)}\n",
    "    new_state_values = {state: get_new_state_value(mdp, state_values, state, gamma) for state in mdp.get_all_states()}\n",
    "\n",
    "    assert isinstance(new_state_values, dict)\n",
    "\n",
    "    # Вычисление темпоральных различий V(s)\n",
    "    diff = max(abs(new_state_values[s] - state_values[s])\n",
    "               for s in mdp.get_all_states())\n",
    "    print(\"Итерация %4i   |   разность max_s|V_new(s) - V_old(s)|: %6.5f   |   \" % (i, diff), end=\"\")\n",
    "    print('   '.join(\"V(%s) = %.3f\" % (s, v) for s, v in state_values.items()))\n",
    "    state_values = new_state_values\n",
    "\n",
    "    if diff < min_difference:\n",
    "        print(\"Останов\")\n",
    "        break"
   ]
  },
  {
   "cell_type": "code",
   "execution_count": 229,
   "metadata": {},
   "outputs": [],
   "source": [
    "if has_graphviz:\n",
    "    display(plot_graph_with_state_values(mdp, state_values))"
   ]
  },
  {
   "cell_type": "code",
   "execution_count": 230,
   "metadata": {},
   "outputs": [
    {
     "name": "stdout",
     "output_type": "stream",
     "text": [
      "Финальные ценности состояний: {'s0': 3.7810348735476427, 's1': 7.2940064238672315, 's2': 4.202140275227052}\n"
     ]
    }
   ],
   "source": [
    "print(\"Финальные ценности состояний:\", state_values)\n",
    "\n",
    "assert abs(state_values['s0'] - 3.781) < 0.01\n",
    "assert abs(state_values['s1'] - 7.294) < 0.01\n",
    "assert abs(state_values['s2'] - 4.202) < 0.01"
   ]
  },
  {
   "cell_type": "markdown",
   "metadata": {},
   "source": [
    "Теперь используем полученные $V^{*}(s)$ для определения оптимальных действий в каждом состоянии\n",
    "\n",
    " $$\\pi^*(s) = argmax_a \\sum_{s'} P(s' | s,a) \\cdot [ r(s,a,s') + \\gamma V_{i}(s')] = argmax_a Q_i(s,a)$$\n",
    " \n",
    "Единственное отличие по сравнению с вычислением `V(s)` состоит в извлечении не `max`, а `argmax`: поиск действия с максимальной ценностью `Q(s,a)`."
   ]
  },
  {
   "cell_type": "code",
   "execution_count": 231,
   "metadata": {},
   "outputs": [],
   "source": [
    "def get_optimal_action(mdp, state_values, state, gamma=0.9):\n",
    "    \"\"\" Выбор оптимального действия, используя формулу выше. \"\"\"\n",
    "    if mdp.is_terminal(state):\n",
    "        return None\n",
    "        \n",
    "    actions = mdp.get_possible_actions(state)\n",
    "    if len(actions) < 1:\n",
    "        return None\n",
    "    q_values = [get_action_value(mdp, state_values, state, action, gamma) for action in actions]\n",
    "    \n",
    "    return actions[np.argmax(q_values)]"
   ]
  },
  {
   "cell_type": "code",
   "execution_count": 232,
   "metadata": {},
   "outputs": [],
   "source": [
    "assert get_optimal_action(mdp, state_values, 's0', gamma) == 'a1'\n",
    "assert get_optimal_action(mdp, state_values, 's1', gamma) == 'a0'\n",
    "assert get_optimal_action(mdp, state_values, 's2', gamma) == 'a1'"
   ]
  },
  {
   "cell_type": "code",
   "execution_count": 233,
   "metadata": {},
   "outputs": [],
   "source": [
    "if has_graphviz:\n",
    "    try:\n",
    "        display(plot_graph_optimal_strategy_and_state_values(mdp, state_values))\n",
    "    except ImportError:\n",
    "        raise ImportError(\"Запустите ячейку, начинающуюся с \\\"%%writefile mdp_get_action_value.py\\\"\")"
   ]
  },
  {
   "cell_type": "code",
   "execution_count": 234,
   "metadata": {},
   "outputs": [
    {
     "name": "stdout",
     "output_type": "stream",
     "text": [
      "средняя награда:  0.4527\n",
      "CPU times: total: 359 ms\n",
      "Wall time: 384 ms\n"
     ]
    }
   ],
   "source": [
    "%%time\n",
    "\n",
    "# Оценка средней награды агента\n",
    "\n",
    "s = mdp.reset()\n",
    "rewards = []\n",
    "for _ in range(10000):\n",
    "    s, r, done, _ = mdp.step(get_optimal_action(mdp, state_values, s, gamma))\n",
    "    rewards.append(r)\n",
    "\n",
    "print(\"средняя награда: \", np.mean(rewards))\n",
    "\n",
    "assert(0.40 < np.mean(rewards) < 0.55)"
   ]
  },
  {
   "cell_type": "markdown",
   "metadata": {},
   "source": [
    "### Frozen lake"
   ]
  },
  {
   "cell_type": "code",
   "execution_count": 235,
   "metadata": {},
   "outputs": [
    {
     "name": "stdout",
     "output_type": "stream",
     "text": [
      "*FFF\n",
      "FHFH\n",
      "FFFH\n",
      "HFFG\n",
      "\n"
     ]
    }
   ],
   "source": [
    "from mdp import FrozenLakeEnv\n",
    "mdp = FrozenLakeEnv(slip_chance=0)\n",
    "\n",
    "mdp.render()"
   ]
  },
  {
   "cell_type": "code",
   "execution_count": 236,
   "metadata": {},
   "outputs": [],
   "source": [
    "def value_iteration(mdp, state_values=None, gamma=0.9, num_iter=1000, min_difference=1e-5, verbose=True):\n",
    "    \"\"\" Выполняет num_iter шагов итерационной оптимизации ценности, начиная с state_values.\n",
    "         То же, что и ранее, но в формате функции \"\"\"\n",
    "    state_values = state_values or {s: 0 for s in mdp.get_all_states()}\n",
    "    for i in range(num_iter):\n",
    "\n",
    "        # Вычислить новые ценности состояний, используя определённые выше функции.\n",
    "        # В результате должен получиться словарь формата {state : new_V(state)}\n",
    "        new_state_values = {state: get_new_state_value(mdp, state_values, state, gamma) for state in mdp.get_all_states()}\n",
    "\n",
    "        assert isinstance(new_state_values, dict)\n",
    "\n",
    "        # Вычислить темпоральную разность по значениям ценности\n",
    "        diff = max(abs(new_state_values[s] - state_values[s])\n",
    "                   for s in mdp.get_all_states())\n",
    "        \n",
    "        if verbose:\n",
    "            print(\"Итерация %4i   |   разность max_s|V_new(s) - V_old(s)|: %6.5f   |   V(start): %.3f \" %\n",
    "                  (i, diff, new_state_values[mdp._initial_state]))\n",
    "\n",
    "        state_values = new_state_values\n",
    "        if diff < min_difference:\n",
    "            break\n",
    "\n",
    "    return state_values"
   ]
  },
  {
   "cell_type": "code",
   "execution_count": 237,
   "metadata": {},
   "outputs": [
    {
     "name": "stdout",
     "output_type": "stream",
     "text": [
      "Итерация    0   |   разность max_s|V_new(s) - V_old(s)|: 1.00000   |   V(start): 0.000 \n",
      "Итерация    1   |   разность max_s|V_new(s) - V_old(s)|: 0.90000   |   V(start): 0.000 \n",
      "Итерация    2   |   разность max_s|V_new(s) - V_old(s)|: 0.81000   |   V(start): 0.000 \n",
      "Итерация    3   |   разность max_s|V_new(s) - V_old(s)|: 0.72900   |   V(start): 0.000 \n",
      "Итерация    4   |   разность max_s|V_new(s) - V_old(s)|: 0.65610   |   V(start): 0.000 \n",
      "Итерация    5   |   разность max_s|V_new(s) - V_old(s)|: 0.59049   |   V(start): 0.590 \n",
      "Итерация    6   |   разность max_s|V_new(s) - V_old(s)|: 0.00000   |   V(start): 0.590 \n",
      "CPU times: total: 0 ns\n",
      "Wall time: 2.09 ms\n"
     ]
    }
   ],
   "source": [
    "%%time\n",
    "\n",
    "state_values = value_iteration(mdp)"
   ]
  },
  {
   "cell_type": "code",
   "execution_count": 238,
   "metadata": {},
   "outputs": [
    {
     "name": "stdout",
     "output_type": "stream",
     "text": [
      "*FFF\n",
      "FHFH\n",
      "FFFH\n",
      "HFFG\n",
      "\n",
      "down\n",
      "\n",
      "SFFF\n",
      "*HFH\n",
      "FFFH\n",
      "HFFG\n",
      "\n",
      "down\n",
      "\n",
      "SFFF\n",
      "FHFH\n",
      "*FFH\n",
      "HFFG\n",
      "\n",
      "right\n",
      "\n",
      "SFFF\n",
      "FHFH\n",
      "F*FH\n",
      "HFFG\n",
      "\n",
      "down\n",
      "\n",
      "SFFF\n",
      "FHFH\n",
      "FFFH\n",
      "H*FG\n",
      "\n",
      "right\n",
      "\n",
      "SFFF\n",
      "FHFH\n",
      "FFFH\n",
      "HF*G\n",
      "\n",
      "right\n",
      "\n",
      "SFFF\n",
      "FHFH\n",
      "FFFH\n",
      "HFF*\n",
      "\n",
      "CPU times: total: 0 ns\n",
      "Wall time: 1.01 ms\n"
     ]
    }
   ],
   "source": [
    "%%time\n",
    "\n",
    "s = mdp.reset()\n",
    "mdp.render()\n",
    "for t in range(100):\n",
    "    a = get_optimal_action(mdp, state_values, s, gamma)\n",
    "    print(a, end='\\n\\n')\n",
    "    s, r, done, _ = mdp.step(a)\n",
    "    mdp.render()\n",
    "    if done:\n",
    "        break"
   ]
  },
  {
   "cell_type": "markdown",
   "metadata": {},
   "source": [
    "### Время визуализаций!\n",
    "\n",
    "Обычно полезно и интересно видеть, что в действительности Ваш алгоритм выучивает под капотом. Для этого можно изобразить V-функцию и оптимальные действия на каждом шаге алгоритма VI."
   ]
  },
  {
   "cell_type": "code",
   "execution_count": 239,
   "metadata": {},
   "outputs": [],
   "source": [
    "import matplotlib.pyplot as plt\n",
    "%matplotlib inline\n",
    "\n",
    "\n",
    "def draw_policy(mdp, state_values):\n",
    "    plt.figure(figsize=(3, 3))\n",
    "    h, w = mdp.desc.shape\n",
    "    states = sorted(mdp.get_all_states())\n",
    "    V = np.array([state_values[s] for s in states])\n",
    "    Pi = {s: get_optimal_action(mdp, state_values, s, gamma) for s in states}\n",
    "    plt.imshow(V.reshape(w, h), cmap='gray', interpolation='none', clim=(0, 1))\n",
    "    ax = plt.gca()\n",
    "    ax.set_xticks(np.arange(h)-.5)\n",
    "    ax.set_yticks(np.arange(w)-.5)\n",
    "    ax.set_xticklabels([])\n",
    "    ax.set_yticklabels([])\n",
    "    Y, X = np.mgrid[0:4, 0:4]\n",
    "    a2uv = {'left': (-1, 0), 'down': (0, -1), 'right': (1, 0), 'up': (-1, 0)}\n",
    "    for y in range(h):\n",
    "        for x in range(w):\n",
    "            plt.text(x, y, str(mdp.desc[y, x].item()),\n",
    "                     color='g', size=12,  verticalalignment='center',\n",
    "                     horizontalalignment='center', fontweight='bold')\n",
    "            a = Pi[y, x]\n",
    "            if a is None:\n",
    "                continue\n",
    "            u, v = a2uv[a]\n",
    "            plt.arrow(x, y, u*.3, -v*.3, color='m',\n",
    "                      head_width=0.1, head_length=0.1)\n",
    "    plt.grid(color='b', lw=2, ls='-')\n",
    "    plt.show()"
   ]
  },
  {
   "cell_type": "code",
   "execution_count": 240,
   "metadata": {},
   "outputs": [
    {
     "name": "stdout",
     "output_type": "stream",
     "text": [
      "после итерации 0\n",
      "Итерация    0   |   разность max_s|V_new(s) - V_old(s)|: 1.00000   |   V(start): 0.000 \n"
     ]
    },
    {
     "data": {
      "image/png": "[encoded data removed]",
      "text/plain": [
       "<Figure size 300x300 with 1 Axes>"
      ]
     },
     "metadata": {},
     "output_type": "display_data"
    },
    {
     "name": "stdout",
     "output_type": "stream",
     "text": [
      "после итерации 1\n",
      "Итерация    0   |   разность max_s|V_new(s) - V_old(s)|: 0.90000   |   V(start): 0.000 \n"
     ]
    },
    {
     "data": {
      "image/png": "[encoded data removed]",
      "text/plain": [
       "<Figure size 300x300 with 1 Axes>"
      ]
     },
     "metadata": {},
     "output_type": "display_data"
    },
    {
     "name": "stdout",
     "output_type": "stream",
     "text": [
      "после итерации 2\n",
      "Итерация    0   |   разность max_s|V_new(s) - V_old(s)|: 0.81000   |   V(start): 0.000 \n"
     ]
    },
    {
     "data": {
      "image/png": "[encoded data removed]",
      "text/plain": [
       "<Figure size 300x300 with 1 Axes>"
      ]
     },
     "metadata": {},
     "output_type": "display_data"
    },
    {
     "name": "stdout",
     "output_type": "stream",
     "text": [
      "после итерации 3\n",
      "Итерация    0   |   разность max_s|V_new(s) - V_old(s)|: 0.72900   |   V(start): 0.000 \n"
     ]
    },
    {
     "data": {
      "image/png": "[encoded data removed]",
      "text/plain": [
       "<Figure size 300x300 with 1 Axes>"
      ]
     },
     "metadata": {},
     "output_type": "display_data"
    },
    {
     "name": "stdout",
     "output_type": "stream",
     "text": [
      "после итерации 4\n",
      "Итерация    0   |   разность max_s|V_new(s) - V_old(s)|: 0.65610   |   V(start): 0.000 \n"
     ]
    },
    {
     "data": {
      "image/png": "[encoded data removed]",
      "text/plain": [
       "<Figure size 300x300 with 1 Axes>"
      ]
     },
     "metadata": {},
     "output_type": "display_data"
    },
    {
     "name": "stdout",
     "output_type": "stream",
     "text": [
      "после итерации 5\n",
      "Итерация    0   |   разность max_s|V_new(s) - V_old(s)|: 0.59049   |   V(start): 0.590 \n"
     ]
    },
    {
     "data": {
      "image/png": "[encoded data removed]",
      "text/plain": [
       "<Figure size 300x300 with 1 Axes>"
      ]
     },
     "metadata": {},
     "output_type": "display_data"
    },
    {
     "name": "stdout",
     "output_type": "stream",
     "text": [
      "после итерации 6\n",
      "Итерация    0   |   разность max_s|V_new(s) - V_old(s)|: 0.00000   |   V(start): 0.590 \n"
     ]
    },
    {
     "data": {
      "image/png": "[encoded data removed]",
      "text/plain": [
       "<Figure size 300x300 with 1 Axes>"
      ]
     },
     "metadata": {},
     "output_type": "display_data"
    },
    {
     "name": "stdout",
     "output_type": "stream",
     "text": [
      "после итерации 7\n",
      "Итерация    0   |   разность max_s|V_new(s) - V_old(s)|: 0.00000   |   V(start): 0.590 \n"
     ]
    },
    {
     "data": {
      "image/png": "[encoded data removed]",
      "text/plain": [
       "<Figure size 300x300 with 1 Axes>"
      ]
     },
     "metadata": {},
     "output_type": "display_data"
    },
    {
     "name": "stdout",
     "output_type": "stream",
     "text": [
      "после итерации 8\n",
      "Итерация    0   |   разность max_s|V_new(s) - V_old(s)|: 0.00000   |   V(start): 0.590 \n"
     ]
    },
    {
     "data": {
      "image/png": "[encoded data removed]",
      "text/plain": [
       "<Figure size 300x300 with 1 Axes>"
      ]
     },
     "metadata": {},
     "output_type": "display_data"
    },
    {
     "name": "stdout",
     "output_type": "stream",
     "text": [
      "после итерации 9\n",
      "Итерация    0   |   разность max_s|V_new(s) - V_old(s)|: 0.00000   |   V(start): 0.590 \n"
     ]
    },
    {
     "data": {
      "image/png": "[encoded data removed]",
      "text/plain": [
       "<Figure size 300x300 with 1 Axes>"
      ]
     },
     "metadata": {},
     "output_type": "display_data"
    },
    {
     "name": "stdout",
     "output_type": "stream",
     "text": [
      "CPU times: total: 46.9 ms\n",
      "Wall time: 824 ms\n"
     ]
    }
   ],
   "source": [
    "%%time\n",
    "\n",
    "state_values = {s: 0 for s in mdp.get_all_states()}\n",
    "\n",
    "for i in range(10):\n",
    "    print(\"после итерации %i\" % i)\n",
    "    state_values = value_iteration(mdp, state_values, num_iter=1)\n",
    "    draw_policy(mdp, state_values)\n",
    "# просьба игнорировать отладочный вывод \"Итерация 0\" на каждом шаге"
   ]
  },
  {
   "cell_type": "code",
   "execution_count": 241,
   "metadata": {},
   "outputs": [
    {
     "name": "stdout",
     "output_type": "stream",
     "text": [
      "после итерации 29\n",
      "Итерация    0   |   разность max_s|V_new(s) - V_old(s)|: 0.00000   |   V(start): 0.198 \n"
     ]
    },
    {
     "data": {
      "image/png": "[encoded data removed]",
      "text/plain": [
       "<Figure size 300x300 with 1 Axes>"
      ]
     },
     "metadata": {},
     "output_type": "display_data"
    },
    {
     "name": "stdout",
     "output_type": "stream",
     "text": [
      "CPU times: total: 3.45 s\n",
      "Wall time: 20.8 s\n"
     ]
    }
   ],
   "source": [
    "%%time\n",
    "\n",
    "from IPython.display import clear_output\n",
    "from time import sleep\n",
    "mdp = FrozenLakeEnv(map_name='8x8', slip_chance=0.1)\n",
    "state_values = {s: 0 for s in mdp.get_all_states()}\n",
    "\n",
    "for i in range(30):\n",
    "    clear_output(True)\n",
    "    print(\"после итерации %i\" % i)\n",
    "    state_values = value_iteration(mdp, state_values, num_iter=1)\n",
    "    draw_policy(mdp, state_values)\n",
    "    sleep(0.5)\n",
    "# просьба игнорировать отладочный вывод \"Итерация 0\" на каждом шаге"
   ]
  },
  {
   "cell_type": "markdown",
   "metadata": {},
   "source": [
    "Массовые испытания"
   ]
  },
  {
   "cell_type": "code",
   "execution_count": 242,
   "metadata": {},
   "outputs": [
    {
     "name": "stdout",
     "output_type": "stream",
     "text": [
      "Итерация    0   |   разность max_s|V_new(s) - V_old(s)|: 1.00000   |   V(start): 0.000 \n",
      "Итерация    1   |   разность max_s|V_new(s) - V_old(s)|: 0.90000   |   V(start): 0.000 \n",
      "Итерация    2   |   разность max_s|V_new(s) - V_old(s)|: 0.81000   |   V(start): 0.000 \n",
      "Итерация    3   |   разность max_s|V_new(s) - V_old(s)|: 0.72900   |   V(start): 0.000 \n",
      "Итерация    4   |   разность max_s|V_new(s) - V_old(s)|: 0.65610   |   V(start): 0.000 \n",
      "Итерация    5   |   разность max_s|V_new(s) - V_old(s)|: 0.59049   |   V(start): 0.590 \n",
      "Итерация    6   |   разность max_s|V_new(s) - V_old(s)|: 0.00000   |   V(start): 0.590 \n",
      "средняя награда:  1.0\n",
      "Отлинчая работа!\n",
      "CPU times: total: 219 ms\n",
      "Wall time: 275 ms\n"
     ]
    }
   ],
   "source": [
    "%%time\n",
    "\n",
    "mdp = FrozenLakeEnv(slip_chance=0)\n",
    "state_values = value_iteration(mdp)\n",
    "\n",
    "total_rewards = []\n",
    "for game_i in range(1000):\n",
    "    s = mdp.reset()\n",
    "    rewards = []\n",
    "    for t in range(100):\n",
    "        s, r, done, _ = mdp.step(\n",
    "            get_optimal_action(mdp, state_values, s, gamma))\n",
    "        rewards.append(r)\n",
    "        if done:\n",
    "            break\n",
    "    total_rewards.append(np.sum(rewards))\n",
    "\n",
    "print(\"средняя награда: \", np.mean(total_rewards))\n",
    "assert(1.0 <= np.mean(total_rewards) <= 1.0)\n",
    "print(\"Отлинчая работа!\")"
   ]
  },
  {
   "cell_type": "code",
   "execution_count": 243,
   "metadata": {
    "scrolled": true
   },
   "outputs": [
    {
     "name": "stdout",
     "output_type": "stream",
     "text": [
      "Итерация    0   |   разность max_s|V_new(s) - V_old(s)|: 0.90000   |   V(start): 0.000 \n",
      "Итерация    1   |   разность max_s|V_new(s) - V_old(s)|: 0.72900   |   V(start): 0.000 \n",
      "Итерация    2   |   разность max_s|V_new(s) - V_old(s)|: 0.62330   |   V(start): 0.000 \n",
      "Итерация    3   |   разность max_s|V_new(s) - V_old(s)|: 0.50487   |   V(start): 0.000 \n",
      "Итерация    4   |   разность max_s|V_new(s) - V_old(s)|: 0.40894   |   V(start): 0.000 \n",
      "Итерация    5   |   разность max_s|V_new(s) - V_old(s)|: 0.34868   |   V(start): 0.349 \n",
      "Итерация    6   |   разность max_s|V_new(s) - V_old(s)|: 0.06529   |   V(start): 0.410 \n",
      "Итерация    7   |   разность max_s|V_new(s) - V_old(s)|: 0.05832   |   V(start): 0.468 \n",
      "Итерация    8   |   разность max_s|V_new(s) - V_old(s)|: 0.01139   |   V(start): 0.480 \n",
      "Итерация    9   |   разность max_s|V_new(s) - V_old(s)|: 0.00764   |   V(start): 0.487 \n",
      "Итерация   10   |   разность max_s|V_new(s) - V_old(s)|: 0.00164   |   V(start): 0.489 \n",
      "Итерация   11   |   разность max_s|V_new(s) - V_old(s)|: 0.00094   |   V(start): 0.490 \n",
      "Итерация   12   |   разность max_s|V_new(s) - V_old(s)|: 0.00022   |   V(start): 0.490 \n",
      "Итерация   13   |   разность max_s|V_new(s) - V_old(s)|: 0.00011   |   V(start): 0.490 \n",
      "Итерация   14   |   разность max_s|V_new(s) - V_old(s)|: 0.00003   |   V(start): 0.490 \n",
      "Итерация   15   |   разность max_s|V_new(s) - V_old(s)|: 0.00001   |   V(start): 0.490 \n",
      "Итерация   16   |   разность max_s|V_new(s) - V_old(s)|: 0.00000   |   V(start): 0.490 \n",
      "средняя награда:  0.895\n",
      "Отличная работа!\n",
      "CPU times: total: 141 ms\n",
      "Wall time: 344 ms\n"
     ]
    }
   ],
   "source": [
    "%%time\n",
    "\n",
    "# Оценка средней награды агента\n",
    "mdp = FrozenLakeEnv(slip_chance=0.1)\n",
    "state_values = value_iteration(mdp)\n",
    "\n",
    "total_rewards = []\n",
    "for game_i in range(1000):\n",
    "    s = mdp.reset()\n",
    "    rewards = []\n",
    "    for t in range(100):\n",
    "        s, r, done, _ = mdp.step(\n",
    "            get_optimal_action(mdp, state_values, s, gamma))\n",
    "        rewards.append(r)\n",
    "        if done:\n",
    "            break\n",
    "    total_rewards.append(np.sum(rewards))\n",
    "\n",
    "print(\"средняя награда: \", np.mean(total_rewards))\n",
    "assert(0.8 <= np.mean(total_rewards) <= 0.95)\n",
    "print(\"Отличная работа!\")"
   ]
  },
  {
   "cell_type": "code",
   "execution_count": 244,
   "metadata": {
    "scrolled": true
   },
   "outputs": [
    {
     "name": "stdout",
     "output_type": "stream",
     "text": [
      "Итерация    0   |   разность max_s|V_new(s) - V_old(s)|: 0.75000   |   V(start): 0.000 \n",
      "Итерация    1   |   разность max_s|V_new(s) - V_old(s)|: 0.50625   |   V(start): 0.000 \n",
      "Итерация    2   |   разность max_s|V_new(s) - V_old(s)|: 0.39867   |   V(start): 0.000 \n",
      "Итерация    3   |   разность max_s|V_new(s) - V_old(s)|: 0.26910   |   V(start): 0.000 \n",
      "Итерация    4   |   разность max_s|V_new(s) - V_old(s)|: 0.18164   |   V(start): 0.000 \n",
      "Итерация    5   |   разность max_s|V_new(s) - V_old(s)|: 0.14013   |   V(start): 0.140 \n",
      "Итерация    6   |   разность max_s|V_new(s) - V_old(s)|: 0.07028   |   V(start): 0.199 \n",
      "Итерация    7   |   разность max_s|V_new(s) - V_old(s)|: 0.06030   |   V(start): 0.260 \n",
      "Итерация    8   |   разность max_s|V_new(s) - V_old(s)|: 0.02594   |   V(start): 0.285 \n",
      "Итерация    9   |   разность max_s|V_new(s) - V_old(s)|: 0.01918   |   V(start): 0.305 \n",
      "Итерация   10   |   разность max_s|V_new(s) - V_old(s)|: 0.00858   |   V(start): 0.313 \n",
      "Итерация   11   |   разность max_s|V_new(s) - V_old(s)|: 0.00560   |   V(start): 0.319 \n",
      "Итерация   12   |   разность max_s|V_new(s) - V_old(s)|: 0.00260   |   V(start): 0.321 \n",
      "Итерация   13   |   разность max_s|V_new(s) - V_old(s)|: 0.00159   |   V(start): 0.323 \n",
      "Итерация   14   |   разность max_s|V_new(s) - V_old(s)|: 0.00076   |   V(start): 0.324 \n",
      "Итерация   15   |   разность max_s|V_new(s) - V_old(s)|: 0.00045   |   V(start): 0.324 \n",
      "Итерация   16   |   разность max_s|V_new(s) - V_old(s)|: 0.00022   |   V(start): 0.324 \n",
      "Итерация   17   |   разность max_s|V_new(s) - V_old(s)|: 0.00012   |   V(start): 0.325 \n",
      "Итерация   18   |   разность max_s|V_new(s) - V_old(s)|: 0.00006   |   V(start): 0.325 \n",
      "Итерация   19   |   разность max_s|V_new(s) - V_old(s)|: 0.00003   |   V(start): 0.325 \n",
      "Итерация   20   |   разность max_s|V_new(s) - V_old(s)|: 0.00002   |   V(start): 0.325 \n",
      "Итерация   21   |   разность max_s|V_new(s) - V_old(s)|: 0.00001   |   V(start): 0.325 \n",
      "средняя награда:  0.67\n",
      "Отличная работа!\n",
      "CPU times: total: 219 ms\n",
      "Wall time: 359 ms\n"
     ]
    }
   ],
   "source": [
    "%%time\n",
    "\n",
    "# Оценка средней награды агента\n",
    "mdp = FrozenLakeEnv(slip_chance=0.25)\n",
    "state_values = value_iteration(mdp)\n",
    "\n",
    "total_rewards = []\n",
    "for game_i in range(1000):\n",
    "    s = mdp.reset()\n",
    "    rewards = []\n",
    "    for t in range(100):\n",
    "        s, r, done, _ = mdp.step(\n",
    "            get_optimal_action(mdp, state_values, s, gamma))\n",
    "        rewards.append(r)\n",
    "        if done:\n",
    "            break\n",
    "    total_rewards.append(np.sum(rewards))\n",
    "\n",
    "print(\"средняя награда: \", np.mean(total_rewards))\n",
    "assert(0.6 <= np.mean(total_rewards) <= 0.7)\n",
    "print(\"Отличная работа!\")"
   ]
  },
  {
   "cell_type": "code",
   "execution_count": 245,
   "metadata": {
    "scrolled": true
   },
   "outputs": [
    {
     "name": "stdout",
     "output_type": "stream",
     "text": [
      "Итерация    0   |   разность max_s|V_new(s) - V_old(s)|: 0.80000   |   V(start): 0.000 \n",
      "Итерация    1   |   разность max_s|V_new(s) - V_old(s)|: 0.57600   |   V(start): 0.000 \n",
      "Итерация    2   |   разность max_s|V_new(s) - V_old(s)|: 0.41472   |   V(start): 0.000 \n",
      "Итерация    3   |   разность max_s|V_new(s) - V_old(s)|: 0.29860   |   V(start): 0.000 \n",
      "Итерация    4   |   разность max_s|V_new(s) - V_old(s)|: 0.24186   |   V(start): 0.000 \n",
      "Итерация    5   |   разность max_s|V_new(s) - V_old(s)|: 0.19349   |   V(start): 0.000 \n",
      "Итерация    6   |   разность max_s|V_new(s) - V_old(s)|: 0.15325   |   V(start): 0.000 \n",
      "Итерация    7   |   разность max_s|V_new(s) - V_old(s)|: 0.12288   |   V(start): 0.000 \n",
      "Итерация    8   |   разность max_s|V_new(s) - V_old(s)|: 0.09930   |   V(start): 0.000 \n",
      "Итерация    9   |   разность max_s|V_new(s) - V_old(s)|: 0.08037   |   V(start): 0.000 \n",
      "Итерация   10   |   разность max_s|V_new(s) - V_old(s)|: 0.06426   |   V(start): 0.000 \n",
      "Итерация   11   |   разность max_s|V_new(s) - V_old(s)|: 0.05129   |   V(start): 0.000 \n",
      "Итерация   12   |   разность max_s|V_new(s) - V_old(s)|: 0.04330   |   V(start): 0.000 \n",
      "Итерация   13   |   разность max_s|V_new(s) - V_old(s)|: 0.03802   |   V(start): 0.033 \n",
      "Итерация   14   |   разность max_s|V_new(s) - V_old(s)|: 0.03332   |   V(start): 0.058 \n",
      "Итерация   15   |   разность max_s|V_new(s) - V_old(s)|: 0.02910   |   V(start): 0.087 \n",
      "Итерация   16   |   разность max_s|V_new(s) - V_old(s)|: 0.01855   |   V(start): 0.106 \n",
      "Итерация   17   |   разность max_s|V_new(s) - V_old(s)|: 0.01403   |   V(start): 0.120 \n",
      "Итерация   18   |   разность max_s|V_new(s) - V_old(s)|: 0.00810   |   V(start): 0.128 \n",
      "Итерация   19   |   разность max_s|V_new(s) - V_old(s)|: 0.00555   |   V(start): 0.133 \n",
      "Итерация   20   |   разность max_s|V_new(s) - V_old(s)|: 0.00321   |   V(start): 0.137 \n",
      "Итерация   21   |   разность max_s|V_new(s) - V_old(s)|: 0.00247   |   V(start): 0.138 \n",
      "Итерация   22   |   разность max_s|V_new(s) - V_old(s)|: 0.00147   |   V(start): 0.139 \n",
      "Итерация   23   |   разность max_s|V_new(s) - V_old(s)|: 0.00104   |   V(start): 0.140 \n",
      "Итерация   24   |   разность max_s|V_new(s) - V_old(s)|: 0.00058   |   V(start): 0.140 \n",
      "Итерация   25   |   разность max_s|V_new(s) - V_old(s)|: 0.00036   |   V(start): 0.141 \n",
      "Итерация   26   |   разность max_s|V_new(s) - V_old(s)|: 0.00024   |   V(start): 0.141 \n",
      "Итерация   27   |   разность max_s|V_new(s) - V_old(s)|: 0.00018   |   V(start): 0.141 \n",
      "Итерация   28   |   разность max_s|V_new(s) - V_old(s)|: 0.00012   |   V(start): 0.141 \n",
      "Итерация   29   |   разность max_s|V_new(s) - V_old(s)|: 0.00007   |   V(start): 0.141 \n",
      "Итерация   30   |   разность max_s|V_new(s) - V_old(s)|: 0.00004   |   V(start): 0.141 \n",
      "Итерация   31   |   разность max_s|V_new(s) - V_old(s)|: 0.00003   |   V(start): 0.141 \n",
      "Итерация   32   |   разность max_s|V_new(s) - V_old(s)|: 0.00001   |   V(start): 0.141 \n",
      "Итерация   33   |   разность max_s|V_new(s) - V_old(s)|: 0.00001   |   V(start): 0.141 \n",
      "средняя награда:  0.76\n",
      "Отличная работа!\n",
      "CPU times: total: 656 ms\n",
      "Wall time: 914 ms\n"
     ]
    }
   ],
   "source": [
    "%%time\n",
    "\n",
    "# Оценка средней награды агента\n",
    "mdp = FrozenLakeEnv(slip_chance=0.2, map_name='8x8')\n",
    "state_values = value_iteration(mdp)\n",
    "\n",
    "total_rewards = []\n",
    "for game_i in range(1000):\n",
    "    s = mdp.reset()\n",
    "    rewards = []\n",
    "    for t in range(100):\n",
    "        s, r, done, _ = mdp.step(\n",
    "            get_optimal_action(mdp, state_values, s, gamma))\n",
    "        rewards.append(r)\n",
    "        if done:\n",
    "            break\n",
    "    total_rewards.append(np.sum(rewards))\n",
    "\n",
    "print(\"средняя награда: \", np.mean(total_rewards))\n",
    "assert(0.6 <= np.mean(total_rewards) <= 0.8)\n",
    "print(\"Отличная работа!\")"
   ]
  },
  {
   "cell_type": "markdown",
   "metadata": {},
   "source": [
    "# Итерационная оптимизация политики, Policy Iteration (вплоть до 4 баллов)\n",
    "\n",
    "Требуется имплементировать явную итерационную оптимизацию политики, Policy Iteration (PI) согласно следующему псевдокоду:\n",
    "\n",
    "---\n",
    "Инициализация $\\pi_0$   `// случайная или константная`\n",
    "\n",
    "Для $n=0, 1, 2, \\dots$\n",
    "- Вычислить функцию $V^{\\pi_{n}}$\n",
    "- С помощью $V^{\\pi_{n}}$, вычислить функцию $Q^{\\pi_{n}}$\n",
    "- Вычислить новую политику $\\pi_{n+1}(s) = \\operatorname*{argmax}_a Q^{\\pi_{n}}(s,a)$\n",
    "---\n",
    "\n",
    "В отличие от VI, Policy Iteration требует явное вычисление политики &mdash; выбранное действие для каждого состояния &mdash; и оценку $V^{\\pi_{n}}$ на основе данной политики. Обновление политики происходит после (итеративного) вычисления V-функции.\n",
    "\n",
    "\n",
    "Ниже представлены несколько функций-помощников, которые могут оказаться полезными при имплементации методов."
   ]
  },
  {
   "cell_type": "code",
   "execution_count": 246,
   "metadata": {},
   "outputs": [],
   "source": [
    "transition_probs = {\n",
    "    's0': {\n",
    "        'a0': {'s0': 0.5, 's2': 0.5},\n",
    "        'a1': {'s2': 1}\n",
    "    },\n",
    "    's1': {\n",
    "        'a0': {'s0': 0.7, 's1': 0.1, 's2': 0.2},\n",
    "        'a1': {'s1': 0.95, 's2': 0.05}\n",
    "    },\n",
    "    's2': {\n",
    "        'a0': {'s0': 0.4, 's1': 0.6},\n",
    "        'a1': {'s0': 0.3, 's1': 0.3, 's2': 0.4}\n",
    "    }\n",
    "}\n",
    "rewards = {\n",
    "    's1': {'a0': {'s0': +5}},\n",
    "    's2': {'a1': {'s0': -1}}\n",
    "}\n",
    "\n",
    "from mdp import MDP\n",
    "mdp = MDP(transition_probs, rewards, initial_state='s0')"
   ]
  },
  {
   "cell_type": "markdown",
   "metadata": {},
   "source": [
    "Настало время написать функцию под названием `compute_vpi`, которая вычисляет функцию $V^{\\pi}$ для произвольной политики $\\pi$.\n",
    "\n",
    "В отличие от VI, в этот раз требуется точное решение, не просто одна итерация.\n",
    "\n",
    "Напоминаем, что $V^{\\pi}$ удовлетворяет следующему линейному соотношению:\n",
    "$$V^{\\pi}(s) = \\sum_{s'} P(s,\\pi(s),s')[ R(s,\\pi(s),s') + \\gamma V^{\\pi}(s')]$$\n",
    "\n",
    "Вам потребуется решить систему линейных алгебраических уравнений в коде. (Найдите точное решение, например, С помощью `np.linalg.solve` или метода простых итераций.)"
   ]
  },
  {
   "cell_type": "code",
   "execution_count": 247,
   "metadata": {},
   "outputs": [],
   "source": [
    "def compute_vpi(mdp, policy, gamma):\n",
    "    \"\"\"\n",
    "    Вычисляет V^pi(s) ДЛЯ ВСЕХ СОСТОЯНИЙ при текущей политике.\n",
    "    :параметр policy: словарь выбранных на данный момент действий {s : a}\n",
    "    :возвращает: словарь {state : V^pi(state) для всех state}\n",
    "    \"\"\"\n",
    "    s_to_i = {state: ind for ind, state in enumerate(mdp.get_all_states())}\n",
    "    \n",
    "    p_matrix = np.zeros((len(mdp.get_all_states()), len(mdp.get_all_states())))\n",
    "    r_matrix = np.zeros((len(mdp.get_all_states()), len(mdp.get_all_states())))\n",
    "\n",
    "    for state in mdp.get_all_states():\n",
    "        action = policy[state]\n",
    "        if action is not None:\n",
    "            for next_state, next_state_prob in mdp.get_next_states(state, action).items():\n",
    "                p_matrix[s_to_i[state], s_to_i[next_state]] = next_state_prob\n",
    "                r_matrix[s_to_i[state], s_to_i[next_state]] = mdp.get_reward(state, action, next_state)\n",
    "        \n",
    "    b = (p_matrix * r_matrix).sum(axis=1)\n",
    "    A = np.eye(len(mdp.get_all_states())) - gamma * p_matrix\n",
    "    V = np.linalg.solve(A, b)\n",
    "\n",
    "    return {mdp.get_all_states()[i]: V[i] for i in range(len(V))}"
   ]
  },
  {
   "cell_type": "code",
   "execution_count": 248,
   "metadata": {},
   "outputs": [
    {
     "name": "stdout",
     "output_type": "stream",
     "text": [
      "{'s0': 2.8399699474079663, 's1': 6.498873027798649, 's2': 3.4710743801652932}\n",
      "CPU times: total: 0 ns\n",
      "Wall time: 0 ns\n"
     ]
    }
   ],
   "source": [
    "%%time\n",
    "\n",
    "test_policy = {s: np.random.choice(\n",
    "    mdp.get_possible_actions(s)) for s in mdp.get_all_states()}\n",
    "new_vpi = compute_vpi(mdp, test_policy, gamma)\n",
    "\n",
    "print(new_vpi)\n",
    "\n",
    "assert type(\n",
    "    new_vpi) is dict, \"compute_vpi должен возвращать словарь {state : V^pi(state) для всех state}\""
   ]
  },
  {
   "cell_type": "markdown",
   "metadata": {},
   "source": [
    "Как только получены новые ценности состояний, время обновить текущую политику."
   ]
  },
  {
   "cell_type": "code",
   "execution_count": 249,
   "metadata": {},
   "outputs": [],
   "source": [
    "def compute_new_policy(mdp, vpi, gamma):\n",
    "    \"\"\"\n",
    "    Вычисляет жадно новую политику как argmax по функции ценности\n",
    "    :параметр vpi: словарь {state : V^pi(state) для всех state}\n",
    "    :возвращает: словарь {state : оптимальное действие для всех state}\n",
    "    \"\"\"\n",
    "    new_policy = {state: get_optimal_action(mdp, vpi, state, gamma) \\\n",
    "                  for state in mdp.get_all_states()}\n",
    "    \n",
    "    return new_policy"
   ]
  },
  {
   "cell_type": "code",
   "execution_count": 250,
   "metadata": {},
   "outputs": [
    {
     "name": "stdout",
     "output_type": "stream",
     "text": [
      "{'s0': 'a1', 's1': 'a0', 's2': 'a0'}\n",
      "CPU times: total: 0 ns\n",
      "Wall time: 0 ns\n"
     ]
    }
   ],
   "source": [
    "%%time\n",
    "\n",
    "new_policy = compute_new_policy(mdp, new_vpi, gamma)\n",
    "\n",
    "print(new_policy)\n",
    "\n",
    "assert type(\n",
    "    new_policy) is dict, \"compute_new_policy должен возвращать словарь {состояние : оптимальное действие}\""
   ]
  },
  {
   "cell_type": "markdown",
   "metadata": {},
   "source": [
    "__Основной цикл__"
   ]
  },
  {
   "cell_type": "code",
   "execution_count": 296,
   "metadata": {},
   "outputs": [],
   "source": [
    "import random\n",
    "def policy_iteration(mdp, policy=None, gamma=0.9, num_iter=1000, min_difference=1e-5):\n",
    "    \"\"\" \n",
    "    Запуск итерационной оптимизации политики в цикле на num_iter итераций, или пока max_s|V_new(s) - V_old(s)|\n",
    "    не станет меньше min_difference. Если начальная политика не дана, то инициализация случайная.\n",
    "    \"\"\"\n",
    "    if policy is None:\n",
    "        policy = {state: random.choice(mdp.get_possible_actions(state)) if len(mdp.get_possible_actions(state)) > 0 else None for state in mdp.get_all_states()}\n",
    "\n",
    "    V = {state: random.random() for state in mdp.get_all_states()}\n",
    "    n_iters = 0\n",
    "    for i in range(num_iter):\n",
    "        n_iters += 1\n",
    "        new_V = compute_vpi(mdp, policy, gamma)\n",
    "        policy = compute_new_policy(mdp, new_V, gamma)\n",
    "\n",
    "        diff = max([np.abs(V[s] - new_V[s]) for s in V.keys()])\n",
    "        # print(new_V.values(), diff, \"\\n\\n\")\n",
    "        \n",
    "        if diff < min_difference:\n",
    "            break\n",
    "            \n",
    "        V = new_V\n",
    "        \n",
    "    return V, policy, n_iters"
   ]
  },
  {
   "cell_type": "markdown",
   "metadata": {},
   "source": [
    "__Ваши результаты экспериментирования с PI__"
   ]
  },
  {
   "cell_type": "code",
   "execution_count": 297,
   "metadata": {},
   "outputs": [],
   "source": [
    "from tqdm.auto import tqdm"
   ]
  },
  {
   "cell_type": "code",
   "execution_count": 304,
   "metadata": {},
   "outputs": [
    {
     "data": {
      "application/vnd.jupyter.widget-view+json": {
       "model_id": "4cbc66f7e2af4952ba6f111822cefa43",
       "version_major": 2,
       "version_minor": 0
      },
      "text/plain": [
       "  0%|          | 0/6 [00:00<?, ?it/s]"
      ]
     },
     "metadata": {},
     "output_type": "display_data"
    },
    {
     "name": "stdout",
     "output_type": "stream",
     "text": [
      "\n",
      "Slip_chance: 0\n",
      "  Количество итераций 4x4:  8\n",
      "  Количество итераций 8x8:  14\n"
     ]
    },
    {
     "data": {
      "application/vnd.jupyter.widget-view+json": {
       "model_id": "",
       "version_major": 2,
       "version_minor": 0
      },
      "text/plain": [
       "  0%|          | 0/10000 [00:00<?, ?it/s]"
      ]
     },
     "metadata": {},
     "output_type": "display_data"
    },
    {
     "name": "stdout",
     "output_type": "stream",
     "text": [
      "  Cредняя награда 4x4:  1.0\n",
      "  Cредняя награда 8x8:  1.0\n",
      "\n",
      "Slip_chance: 0.1\n",
      "  Количество итераций 4x4:  7\n",
      "  Количество итераций 8x8:  8\n"
     ]
    },
    {
     "data": {
      "application/vnd.jupyter.widget-view+json": {
       "model_id": "",
       "version_major": 2,
       "version_minor": 0
      },
      "text/plain": [
       "  0%|          | 0/10000 [00:00<?, ?it/s]"
      ]
     },
     "metadata": {},
     "output_type": "display_data"
    },
    {
     "name": "stdout",
     "output_type": "stream",
     "text": [
      "  Cредняя награда 4x4:  0.8817\n",
      "  Cредняя награда 8x8:  0.8788\n",
      "\n",
      "Slip_chance: 0.2\n",
      "  Количество итераций 4x4:  5\n",
      "  Количество итераций 8x8:  11\n"
     ]
    },
    {
     "data": {
      "application/vnd.jupyter.widget-view+json": {
       "model_id": "",
       "version_major": 2,
       "version_minor": 0
      },
      "text/plain": [
       "  0%|          | 0/10000 [00:00<?, ?it/s]"
      ]
     },
     "metadata": {},
     "output_type": "display_data"
    },
    {
     "name": "stdout",
     "output_type": "stream",
     "text": [
      "  Cредняя награда 4x4:  0.7282\n",
      "  Cредняя награда 8x8:  0.746\n",
      "\n",
      "Slip_chance: 0.3\n",
      "  Количество итераций 4x4:  5\n",
      "  Количество итераций 8x8:  8\n"
     ]
    },
    {
     "data": {
      "application/vnd.jupyter.widget-view+json": {
       "model_id": "",
       "version_major": 2,
       "version_minor": 0
      },
      "text/plain": [
       "  0%|          | 0/10000 [00:00<?, ?it/s]"
      ]
     },
     "metadata": {},
     "output_type": "display_data"
    },
    {
     "name": "stdout",
     "output_type": "stream",
     "text": [
      "  Cредняя награда 4x4:  0.5712\n",
      "  Cредняя награда 8x8:  0.585\n",
      "\n",
      "Slip_chance: 0.4\n",
      "  Количество итераций 4x4:  5\n",
      "  Количество итераций 8x8:  10\n"
     ]
    },
    {
     "data": {
      "application/vnd.jupyter.widget-view+json": {
       "model_id": "",
       "version_major": 2,
       "version_minor": 0
      },
      "text/plain": [
       "  0%|          | 0/10000 [00:00<?, ?it/s]"
      ]
     },
     "metadata": {},
     "output_type": "display_data"
    },
    {
     "name": "stdout",
     "output_type": "stream",
     "text": [
      "  Cредняя награда 4x4:  0.4198\n",
      "  Cредняя награда 8x8:  0.4598\n",
      "\n",
      "Slip_chance: 0.5\n",
      "  Количество итераций 4x4:  5\n",
      "  Количество итераций 8x8:  10\n"
     ]
    },
    {
     "data": {
      "application/vnd.jupyter.widget-view+json": {
       "model_id": "",
       "version_major": 2,
       "version_minor": 0
      },
      "text/plain": [
       "  0%|          | 0/10000 [00:00<?, ?it/s]"
      ]
     },
     "metadata": {},
     "output_type": "display_data"
    },
    {
     "name": "stdout",
     "output_type": "stream",
     "text": [
      "  Cредняя награда 4x4:  0.398\n",
      "  Cредняя награда 8x8:  0.3433\n"
     ]
    }
   ],
   "source": [
    "slip_chances = [0, 0.1,0.2, 0.3, 0.4, 0.5]\n",
    "\n",
    "for chance in tqdm(slip_chances):\n",
    "    print(f\"\\nSlip_chance: {chance}\")\n",
    "    \n",
    "    mdp_small = FrozenLakeEnv(slip_chance=chance)\n",
    "    mdp_big = FrozenLakeEnv(slip_chance=chance, map_name='8x8')\n",
    "\n",
    "    _, _ = mdp_small.reset(), mdp_big.reset()\n",
    "    \n",
    "    state_values_small, policy_small, iters_small = policy_iteration(mdp_small)\n",
    "    state_values_big, policy_big, iters_big = policy_iteration(mdp_big)\n",
    "\n",
    "    print(\"  Количество итераций 4x4: \", iters_small)\n",
    "    print(\"  Количество итераций 8x8: \", iters_big)\n",
    "    \n",
    "    total_rewards_small = []\n",
    "    total_rewards_big = []\n",
    "    \n",
    "    for game_i in tqdm(range(10000), colour=\"#223388\", leave=False):\n",
    "        s_small = mdp_small.reset()\n",
    "        s_big = mdp_big.reset()\n",
    "        \n",
    "        rewards_small = []\n",
    "        rewards_big = []\n",
    "        \n",
    "        for t in range(100):\n",
    "            \n",
    "            s_small, r_small, done, _ = mdp_small.step(policy_small[s_small])\n",
    "                # get_optimal_action(mdp_small, state_values_small, s_small, gamma))\n",
    "            rewards_small.append(r_small)\n",
    "            if done:\n",
    "                break\n",
    "        done = False        \n",
    "        for t in range(100):  \n",
    "            s_big, r_big, done, _ = mdp_big.step(policy_big[s_big])\n",
    "                # get_optimal_action(mdp_big, state_values_big, s_big, gamma))\n",
    "            rewards_big.append(r_big)\n",
    "            if done:\n",
    "                break            \n",
    "                \n",
    "        total_rewards_small.append(np.sum(rewards_small))\n",
    "        total_rewards_big.append(np.sum(rewards_big))\n",
    "        \n",
    "    \n",
    "    print(\"  Cредняя награда 4x4: \", np.mean(total_rewards_small))\n",
    "    print(\"  Cредняя награда 8x8: \", np.mean(total_rewards_big))"
   ]
  },
  {
   "cell_type": "markdown",
   "metadata": {},
   "source": [
    "Результаты согласуются со здравым смыслом, поэтому будем считать эту часть выполненной."
   ]
  },
  {
   "cell_type": "markdown",
   "metadata": {},
   "source": [
    "# Поиск MDP, на котором Value Iteration работает достаточно долго (вплоть до 2 баллов)\n",
    "\n",
    "Когда запускали Value Iteration на небольшой задаче frozen lake, последняя итерация, на которой изменялась стратегия обучаемой политики, была под номером 6 &mdash; то есть Value Iteration находил оптимальную политику на итерации 6. Существуют ли какие-либо гарантии на то, что в общем случае поиск оптимальной политики сверху ограничен конечным числом в MDP с негораниченным горизонтом с дисконтированием? Ответ без дополнительных предположений отрицательный, более того, можно предложить пример MDP, в котором жадный алгоритм оптимизации политики будет работать произвольное наперёд заданное заданное количество итераций.\n",
    "\n",
    "Ваша задача: предъявить MDP с не более чем 3 состояниями и 2 действиями такой, что на нём алгоритм Value Iteration до останова требует, как минимум, 50 итераций. Используйте фактор дисконтирования, равный 0.95 (Однако, заметим, что величина дисконтирования тут не играет особой роли &mdash; в теории Вы можете предъявить MDP с произвольным дисконтированием, отвечающий требованиям выше.)\n",
    "\n",
    "Замечание: V-функция ценности должна измениться хотя бы один раз после 50-ой итерации (включая 50-ую итерацию), не требуется изменение V-функции на каждой итерации."
   ]
  },
  {
   "cell_type": "code",
   "execution_count": null,
   "metadata": {},
   "outputs": [],
   "source": [
    "transition_probs = {\n",
    "    < Ваша имплементация >\n",
    "}\n",
    "rewards = {\n",
    "    < Ваша имплементация >\n",
    "}\n",
    "\n",
    "from mdp import MDP\n",
    "from numpy import random\n",
    "mdp = MDP(transition_probs, rewards, initial_state=random.choice(tuple(transition_probs.keys())))\n",
    "# Не бойтесь изменять начальное состояние initial_state"
   ]
  },
  {
   "cell_type": "code",
   "execution_count": null,
   "metadata": {},
   "outputs": [],
   "source": [
    "%%time\n",
    "\n",
    "gamma = 0.95\n",
    "state_values = {s: 0 for s in mdp.get_all_states()}\n",
    "policy = np.array([get_optimal_action(mdp, state_values, state, gamma)\n",
    "                   for state in sorted(mdp.get_all_states())])\n",
    "\n",
    "for i in range(100):\n",
    "    print(\"после итерации %i\" % i)\n",
    "    state_values = value_iteration(mdp, state_values, num_iter=1, gamma=gamma)\n",
    "\n",
    "    new_policy = np.array([get_optimal_action(mdp, state_values, state, gamma)\n",
    "                           for state in sorted(mdp.get_all_states())])\n",
    "\n",
    "    n_changes = (policy != new_policy).sum()\n",
    "    print(\"Количество поменявшихся действий = %i \\n\" % n_changes)\n",
    "    policy = new_policy\n",
    "\n",
    "# просьба игнорировать отладочный вывод \"Итерация 0\" на каждом шаге"
   ]
  },
  {
   "cell_type": "code",
   "execution_count": null,
   "metadata": {},
   "outputs": [],
   "source": []
  }
 ],
 "metadata": {
  "kernelspec": {
   "display_name": "Python 3 (ipykernel)",
   "language": "python",
   "name": "python3"
  },
  "language_info": {
   "codemirror_mode": {
    "name": "ipython",
    "version": 3
   },
   "file_extension": ".py",
   "mimetype": "text/x-python",
   "name": "python",
   "nbconvert_exporter": "python",
   "pygments_lexer": "ipython3",
   "version": "3.10.13"
  },
  "widgets": {
   "application/vnd.jupyter.widget-state+json": {
    "state": {
     "002405a97b44498896b6838a65e28889": {
      "model_module": "@jupyter-widgets/base",
      "model_module_version": "2.0.0",
      "model_name": "LayoutModel",
      "state": {}
     },
     "0027f709cc10492199c2e6776f1c3021": {
      "model_module": "@jupyter-widgets/controls",
      "model_module_version": "2.0.0",
      "model_name": "HTMLStyleModel",
      "state": {
       "description_width": "",
       "font_size": null,
       "text_color": null
      }
     },
     "004ca877f2a54fdb8c72ea99498a2d0d": {
      "model_module": "@jupyter-widgets/base",
      "model_module_version": "2.0.0",
      "model_name": "LayoutModel",
      "state": {}
     },
     "00b6467600904ebfa677e87ab0621357": {
      "model_module": "@jupyter-widgets/controls",
      "model_module_version": "2.0.0",
      "model_name": "HTMLStyleModel",
      "state": {
       "description_width": "",
       "font_size": null,
       "text_color": null
      }
     },
     "00d1771521cb4bee94585d00838ebe9f": {
      "model_module": "@jupyter-widgets/base",
      "model_module_version": "2.0.0",
      "model_name": "LayoutModel",
      "state": {
       "visibility": "hidden"
      }
     },
     "00d36be7b8a842629d40b6b0ab8e0421": {
      "model_module": "@jupyter-widgets/controls",
      "model_module_version": "2.0.0",
      "model_name": "HTMLModel",
      "state": {
       "layout": "IPY_MODEL_1ebd05c0cf244ce6ac9d7e46f58d01e5",
       "style": "IPY_MODEL_848627595cdb47e3b9940254a2b56902",
       "value": " 99%"
      }
     },
     "00e74bd203a948328b5428fc93163aec": {
      "model_module": "@jupyter-widgets/base",
      "model_module_version": "2.0.0",
      "model_name": "LayoutModel",
      "state": {}
     },
     "00f3192bf0844856bfdaac63efa0d1ce": {
      "model_module": "@jupyter-widgets/controls",
      "model_module_version": "2.0.0",
      "model_name": "HBoxModel",
      "state": {
       "children": [
        "IPY_MODEL_af12ef75d5cd43d7856296cdf2ad2210",
        "IPY_MODEL_2210ef436b4a4703be08961770fe512d",
        "IPY_MODEL_67a64922712d4379b9ed928f8fa12b78"
       ],
       "layout": "IPY_MODEL_b96a55a7ea294ff9aab925f59c62623c"
      }
     },
     "01c644caa7534cbba02c5718ae2e4b06": {
      "model_module": "@jupyter-widgets/controls",
      "model_module_version": "2.0.0",
      "model_name": "ProgressStyleModel",
      "state": {
       "bar_color": "#223388",
       "description_width": ""
      }
     },
     "01df1f2c3fda45cb839a26f98761be0b": {
      "model_module": "@jupyter-widgets/controls",
      "model_module_version": "2.0.0",
      "model_name": "FloatProgressModel",
      "state": {
       "layout": "IPY_MODEL_fe1c424151d04259a07f2a38a70d4517",
       "max": 10,
       "style": "IPY_MODEL_a0f69fdf17f644df884dff0c80248084",
       "value": 10
      }
     },
     "01eb2e7cc99b4ba5bfc64f9ebca41f33": {
      "model_module": "@jupyter-widgets/controls",
      "model_module_version": "2.0.0",
      "model_name": "FloatProgressModel",
      "state": {
       "layout": "IPY_MODEL_a7dd191f7bc5443aa491e497c29e7d4b",
       "max": 1000,
       "style": "IPY_MODEL_4952ca74135e4e9a900c4087ac04b200",
       "value": 1000
      }
     },
     "0207183d0df242bebe7fc83fa6e03403": {
      "model_module": "@jupyter-widgets/controls",
      "model_module_version": "2.0.0",
      "model_name": "HTMLStyleModel",
      "state": {
       "description_width": "",
       "font_size": null,
       "text_color": null
      }
     },
     "022dc77d2a9c43a1af04014daf3e01f5": {
      "model_module": "@jupyter-widgets/controls",
      "model_module_version": "2.0.0",
      "model_name": "HTMLModel",
      "state": {
       "layout": "IPY_MODEL_d939ebd6859a4dbc8096ad28e7f7cb85",
       "style": "IPY_MODEL_5c5bdaf4a223496eb5188bd28389f84e",
       "value": " 0/5 [00:00&lt;?, ?it/s]"
      }
     },
     "02956a83ed7942fb8a83cc784130b06c": {
      "model_module": "@jupyter-widgets/controls",
      "model_module_version": "2.0.0",
      "model_name": "ProgressStyleModel",
      "state": {
       "description_width": ""
      }
     },
     "02b692fa3c0d4afd899523f2c112d478": {
      "model_module": "@jupyter-widgets/controls",
      "model_module_version": "2.0.0",
      "model_name": "HTMLStyleModel",
      "state": {
       "description_width": "",
       "font_size": null,
       "text_color": null
      }
     },
     "02ca3b1bf03f4783abe07691ca661ab1": {
      "model_module": "@jupyter-widgets/controls",
      "model_module_version": "2.0.0",
      "model_name": "FloatProgressModel",
      "state": {
       "bar_style": "danger",
       "layout": "IPY_MODEL_3759ddb6e24746dc8bb7327ed66be49a",
       "max": 5,
       "style": "IPY_MODEL_9c6f8f73fd904a689c64532f3bc4eadf"
      }
     },
     "02f3fe640c964b1ab643575884a3474d": {
      "model_module": "@jupyter-widgets/controls",
      "model_module_version": "2.0.0",
      "model_name": "HTMLStyleModel",
      "state": {
       "description_width": "",
       "font_size": null,
       "text_color": null
      }
     },
     "02f7ac479db949af899d10809a66aedc": {
      "model_module": "@jupyter-widgets/base",
      "model_module_version": "2.0.0",
      "model_name": "LayoutModel",
      "state": {}
     },
     "036bc91751514b6294ba3e977d7b4263": {
      "model_module": "@jupyter-widgets/controls",
      "model_module_version": "2.0.0",
      "model_name": "FloatProgressModel",
      "state": {
       "bar_style": "danger",
       "layout": "IPY_MODEL_a9a01619797f4d1f952528cdabf3f698",
       "max": 10,
       "style": "IPY_MODEL_e6f72f69e9d24ec9916f0d76be97ba98"
      }
     },
     "0385760253c94035a46c6d32f75503ac": {
      "model_module": "@jupyter-widgets/controls",
      "model_module_version": "2.0.0",
      "model_name": "HTMLStyleModel",
      "state": {
       "description_width": "",
       "font_size": null,
       "text_color": null
      }
     },
     "03edec27bb7b4acf9c7467b91887692c": {
      "model_module": "@jupyter-widgets/controls",
      "model_module_version": "2.0.0",
      "model_name": "HTMLStyleModel",
      "state": {
       "description_width": "",
       "font_size": null,
       "text_color": null
      }
     },
     "046070d8350143929d4d3f510801f6bb": {
      "model_module": "@jupyter-widgets/controls",
      "model_module_version": "2.0.0",
      "model_name": "HTMLModel",
      "state": {
       "layout": "IPY_MODEL_73c61d07df9b44e4bd7b51d1cea27832",
       "style": "IPY_MODEL_f1e8f4b2eacd48699145b1695158476e",
       "value": "  9%"
      }
     },
     "047a0403f8ed4398833159b5ecbd32fd": {
      "model_module": "@jupyter-widgets/base",
      "model_module_version": "2.0.0",
      "model_name": "LayoutModel",
      "state": {}
     },
     "048097c85ced4323be4db5bf32f6e1df": {
      "model_module": "@jupyter-widgets/base",
      "model_module_version": "2.0.0",
      "model_name": "LayoutModel",
      "state": {}
     },
     "048935159c2a480aac1030b1fc72851a": {
      "model_module": "@jupyter-widgets/base",
      "model_module_version": "2.0.0",
      "model_name": "LayoutModel",
      "state": {}
     },
     "048a7d51bab24b1fa8de13bf8380bcf5": {
      "model_module": "@jupyter-widgets/controls",
      "model_module_version": "2.0.0",
      "model_name": "HTMLModel",
      "state": {
       "layout": "IPY_MODEL_632d31a6a94641589195a06460d61ba8",
       "style": "IPY_MODEL_f485feda082041bf9d36477829efd119",
       "value": " 9853/10000 [00:05&lt;00:00, 1833.20it/s]"
      }
     },
     "05006e2ac9d74728934fd68ae77d5da0": {
      "model_module": "@jupyter-widgets/base",
      "model_module_version": "2.0.0",
      "model_name": "LayoutModel",
      "state": {
       "visibility": "hidden"
      }
     },
     "053908395e81491196a5cf4f43da6aec": {
      "model_module": "@jupyter-widgets/controls",
      "model_module_version": "2.0.0",
      "model_name": "HTMLModel",
      "state": {
       "layout": "IPY_MODEL_c35d73ca36de42fa9b2840ddd06f1bac",
       "style": "IPY_MODEL_92608307b714448aa1659bfbfc7bb72c",
       "value": " 9817/10000 [00:04&lt;00:00, 1984.07it/s]"
      }
     },
     "0558187be76744b29dd4b7e0c2102c10": {
      "model_module": "@jupyter-widgets/base",
      "model_module_version": "2.0.0",
      "model_name": "LayoutModel",
      "state": {}
     },
     "0575b4321247446683389af380a39706": {
      "model_module": "@jupyter-widgets/base",
      "model_module_version": "2.0.0",
      "model_name": "LayoutModel",
      "state": {}
     },
     "05768be5023b4c27b13ddbf88217ae53": {
      "model_module": "@jupyter-widgets/base",
      "model_module_version": "2.0.0",
      "model_name": "LayoutModel",
      "state": {
       "visibility": "hidden"
      }
     },
     "05dfe501956e44ab8259f7044494aa09": {
      "model_module": "@jupyter-widgets/base",
      "model_module_version": "2.0.0",
      "model_name": "LayoutModel",
      "state": {}
     },
     "067328dcf344467da96517bb4b87fa5c": {
      "model_module": "@jupyter-widgets/base",
      "model_module_version": "2.0.0",
      "model_name": "LayoutModel",
      "state": {}
     },
     "06d2349b92db4938862b07bcfececc2b": {
      "model_module": "@jupyter-widgets/controls",
      "model_module_version": "2.0.0",
      "model_name": "ProgressStyleModel",
      "state": {
       "description_width": ""
      }
     },
     "0706d164a32f42dfa4b1bb697f04a755": {
      "model_module": "@jupyter-widgets/base",
      "model_module_version": "2.0.0",
      "model_name": "LayoutModel",
      "state": {}
     },
     "075d9722497847a9ab098c12d18f7883": {
      "model_module": "@jupyter-widgets/controls",
      "model_module_version": "2.0.0",
      "model_name": "HTMLModel",
      "state": {
       "layout": "IPY_MODEL_08ba35a618344392ad96170235d75628",
       "style": "IPY_MODEL_cf099eb6454d48a5a734f44d572e7365",
       "value": "  0%"
      }
     },
     "07690db2c9694b49addbf5b3fbe58324": {
      "model_module": "@jupyter-widgets/controls",
      "model_module_version": "2.0.0",
      "model_name": "ProgressStyleModel",
      "state": {
       "bar_color": "#223388",
       "description_width": ""
      }
     },
     "082fe36d943c4a3085c1934f0d098248": {
      "model_module": "@jupyter-widgets/controls",
      "model_module_version": "2.0.0",
      "model_name": "HTMLStyleModel",
      "state": {
       "description_width": "",
       "font_size": null,
       "text_color": null
      }
     },
     "08613c0b4cd940a0a197a2213f675336": {
      "model_module": "@jupyter-widgets/controls",
      "model_module_version": "2.0.0",
      "model_name": "HTMLStyleModel",
      "state": {
       "description_width": "",
       "font_size": null,
       "text_color": null
      }
     },
     "08ba35a618344392ad96170235d75628": {
      "model_module": "@jupyter-widgets/base",
      "model_module_version": "2.0.0",
      "model_name": "LayoutModel",
      "state": {}
     },
     "093f66708c704db2895b87851e5918ef": {
      "model_module": "@jupyter-widgets/controls",
      "model_module_version": "2.0.0",
      "model_name": "ProgressStyleModel",
      "state": {
       "bar_color": "#223388",
       "description_width": ""
      }
     },
     "0946c706b7c34295b3c848a447639727": {
      "model_module": "@jupyter-widgets/controls",
      "model_module_version": "2.0.0",
      "model_name": "ProgressStyleModel",
      "state": {
       "bar_color": "#223388",
       "description_width": ""
      }
     },
     "09499b3bcbad48baa9660774e0d79ed2": {
      "model_module": "@jupyter-widgets/base",
      "model_module_version": "2.0.0",
      "model_name": "LayoutModel",
      "state": {}
     },
     "0a0b59c7d0084262aa5ef3f264dc73af": {
      "model_module": "@jupyter-widgets/base",
      "model_module_version": "2.0.0",
      "model_name": "LayoutModel",
      "state": {}
     },
     "0a260f4fbe054d5ca249e3daf94979c5": {
      "model_module": "@jupyter-widgets/controls",
      "model_module_version": "2.0.0",
      "model_name": "HTMLStyleModel",
      "state": {
       "description_width": "",
       "font_size": null,
       "text_color": null
      }
     },
     "0a3f1a1b6d874443a4c436fcd7a5fb4d": {
      "model_module": "@jupyter-widgets/controls",
      "model_module_version": "2.0.0",
      "model_name": "HTMLStyleModel",
      "state": {
       "description_width": "",
       "font_size": null,
       "text_color": null
      }
     },
     "0a6634d485f4461cbd217ec44580397a": {
      "model_module": "@jupyter-widgets/base",
      "model_module_version": "2.0.0",
      "model_name": "LayoutModel",
      "state": {}
     },
     "0a6c355820fb46db942d09287d38a210": {
      "model_module": "@jupyter-widgets/base",
      "model_module_version": "2.0.0",
      "model_name": "LayoutModel",
      "state": {}
     },
     "0abe530337c74c9b9e44374e89b50455": {
      "model_module": "@jupyter-widgets/controls",
      "model_module_version": "2.0.0",
      "model_name": "HTMLModel",
      "state": {
       "layout": "IPY_MODEL_6efd86a5fab74c408ef565cc81d18e89",
       "style": "IPY_MODEL_65d819429f6344fe8ee0956728cede45",
       "value": " 0/5 [00:04&lt;?, ?it/s]"
      }
     },
     "0ad9bcb311114d119deb05e96726e7da": {
      "model_module": "@jupyter-widgets/controls",
      "model_module_version": "2.0.0",
      "model_name": "HTMLModel",
      "state": {
       "layout": "IPY_MODEL_b3845b8d625847c5b9b209054ca32201",
       "style": "IPY_MODEL_0ba2cdaf08bd40a78f58cf8897a6aa58",
       "value": " 940/10000 [00:04&lt;00:43, 208.57it/s]"
      }
     },
     "0adf7aefc9f342d282687051c91a94aa": {
      "model_module": "@jupyter-widgets/controls",
      "model_module_version": "2.0.0",
      "model_name": "ProgressStyleModel",
      "state": {
       "bar_color": "#223388",
       "description_width": ""
      }
     },
     "0afe7ac564d249d99b9ea7672dfdb73a": {
      "model_module": "@jupyter-widgets/controls",
      "model_module_version": "2.0.0",
      "model_name": "HBoxModel",
      "state": {
       "children": [
        "IPY_MODEL_6f5eb022ff684638b17070a4b9bfd778",
        "IPY_MODEL_7de3dfc8b6494e5084f94144bed126ab",
        "IPY_MODEL_88217f0c47c64f7882e9d7d34f52ad53"
       ],
       "layout": "IPY_MODEL_d1c7f83aabde4f3d8b0dd03f62c2c4b0"
      }
     },
     "0ba2cdaf08bd40a78f58cf8897a6aa58": {
      "model_module": "@jupyter-widgets/controls",
      "model_module_version": "2.0.0",
      "model_name": "HTMLStyleModel",
      "state": {
       "description_width": "",
       "font_size": null,
       "text_color": null
      }
     },
     "0beae759351d4a0ea6b9281934c0e2c9": {
      "model_module": "@jupyter-widgets/base",
      "model_module_version": "2.0.0",
      "model_name": "LayoutModel",
      "state": {}
     },
     "0c14533813874728bf79cc9e79c75d6c": {
      "model_module": "@jupyter-widgets/controls",
      "model_module_version": "2.0.0",
      "model_name": "HTMLModel",
      "state": {
       "layout": "IPY_MODEL_98418f1b993b4fb1846d70b245c995eb",
       "style": "IPY_MODEL_e5ffd64ebaec4d7196a816f0de058a68",
       "value": " 98%"
      }
     },
     "0c4672481beb4e39bf8a383699030e46": {
      "model_module": "@jupyter-widgets/controls",
      "model_module_version": "2.0.0",
      "model_name": "HTMLModel",
      "state": {
       "layout": "IPY_MODEL_6cd27a9e8c0e48dbbebf6ab65a7652a0",
       "style": "IPY_MODEL_00b6467600904ebfa677e87ab0621357",
       "value": " 0/5 [00:00&lt;?, ?it/s]"
      }
     },
     "0cf09b1bed74400ab13ea9de0f607772": {
      "model_module": "@jupyter-widgets/base",
      "model_module_version": "2.0.0",
      "model_name": "LayoutModel",
      "state": {
       "visibility": "hidden"
      }
     },
     "0d6b4eafa25e493d85cbcb9d50432b72": {
      "model_module": "@jupyter-widgets/base",
      "model_module_version": "2.0.0",
      "model_name": "LayoutModel",
      "state": {}
     },
     "0dabc1e8b0374aac865617c1a81f24b6": {
      "model_module": "@jupyter-widgets/base",
      "model_module_version": "2.0.0",
      "model_name": "LayoutModel",
      "state": {
       "visibility": "hidden"
      }
     },
     "0df801d3be3e45eba0b920a3c29b1d49": {
      "model_module": "@jupyter-widgets/controls",
      "model_module_version": "2.0.0",
      "model_name": "HTMLModel",
      "state": {
       "layout": "IPY_MODEL_8cc16bd6fce046bfa160a4ccba114a1c",
       "style": "IPY_MODEL_46359ed9b14948818fc1c7577d0d0cf0",
       "value": " 40%"
      }
     },
     "0e2243625ed54359a9b69998236505f5": {
      "model_module": "@jupyter-widgets/controls",
      "model_module_version": "2.0.0",
      "model_name": "HTMLModel",
      "state": {
       "layout": "IPY_MODEL_2fc7068c489040eb8c3469c9c02d4d4d",
       "style": "IPY_MODEL_61760dfd1ced4a928f92280c09a83ec2",
       "value": " 0/5 [00:00&lt;?, ?it/s]"
      }
     },
     "0e2d885b9fbb491780c2094d12f4fcb5": {
      "model_module": "@jupyter-widgets/controls",
      "model_module_version": "2.0.0",
      "model_name": "ProgressStyleModel",
      "state": {
       "description_width": ""
      }
     },
     "0f0b20ad0e7b408194f24d95be328f5a": {
      "model_module": "@jupyter-widgets/controls",
      "model_module_version": "2.0.0",
      "model_name": "HBoxModel",
      "state": {
       "children": [
        "IPY_MODEL_dd46fd98c79b44d0b73ebba4a7415d3a",
        "IPY_MODEL_fd202d89624345d585601a8981522fa9",
        "IPY_MODEL_e680653e1ca4437697a9abdcb91a88e0"
       ],
       "layout": "IPY_MODEL_54633b0cbf0d462da57ca8077b8118d1"
      }
     },
     "0f16abba963f4f28b59443ef48d3be9e": {
      "model_module": "@jupyter-widgets/controls",
      "model_module_version": "2.0.0",
      "model_name": "FloatProgressModel",
      "state": {
       "layout": "IPY_MODEL_85d78a72e5264d0a8d5df1ae16f5af10",
       "style": "IPY_MODEL_2ac25631452f4c35a5966b41e61a62cb",
       "value": 100
      }
     },
     "0f1bfb214e3f43c9bc14d12071c7a4b1": {
      "model_module": "@jupyter-widgets/base",
      "model_module_version": "2.0.0",
      "model_name": "LayoutModel",
      "state": {}
     },
     "0f6d3d8fad5b4ecdaf4085f9646bbef0": {
      "model_module": "@jupyter-widgets/controls",
      "model_module_version": "2.0.0",
      "model_name": "ProgressStyleModel",
      "state": {
       "bar_color": "#223388",
       "description_width": ""
      }
     },
     "0f72acf16cc2470bac055e27c1b8d089": {
      "model_module": "@jupyter-widgets/base",
      "model_module_version": "2.0.0",
      "model_name": "LayoutModel",
      "state": {}
     },
     "0fc8e3bf1dde44809727aa60f1724cef": {
      "model_module": "@jupyter-widgets/controls",
      "model_module_version": "2.0.0",
      "model_name": "HBoxModel",
      "state": {
       "children": [
        "IPY_MODEL_b84ce843b6c14839974433be3c4edbdd",
        "IPY_MODEL_dc8a81c48c684158ae516988de81324c",
        "IPY_MODEL_248678909b4440999cbf4186b0ad354f"
       ],
       "layout": "IPY_MODEL_773a7aca9715411d9f5e31a3448e28aa"
      }
     },
     "0fddc5a7dedd43ae83426b48dd4fe598": {
      "model_module": "@jupyter-widgets/controls",
      "model_module_version": "2.0.0",
      "model_name": "ProgressStyleModel",
      "state": {
       "bar_color": "#223388",
       "description_width": ""
      }
     },
     "101aa6b7a89b4cfca7c35d87d4412515": {
      "model_module": "@jupyter-widgets/controls",
      "model_module_version": "2.0.0",
      "model_name": "HTMLStyleModel",
      "state": {
       "description_width": "",
       "font_size": null,
       "text_color": null
      }
     },
     "1044d60546784b87948b903bca2dfe04": {
      "model_module": "@jupyter-widgets/base",
      "model_module_version": "2.0.0",
      "model_name": "LayoutModel",
      "state": {}
     },
     "10633593e2c54917b9d975a155cf1951": {
      "model_module": "@jupyter-widgets/controls",
      "model_module_version": "2.0.0",
      "model_name": "HTMLModel",
      "state": {
       "layout": "IPY_MODEL_ec6931c2633d4c53a5fc5b0cafbb888e",
       "style": "IPY_MODEL_ef01d9a3a6a3413b8866465e573cdaa6",
       "value": " 9829/10000 [00:06&lt;00:00, 1596.89it/s]"
      }
     },
     "108b58e70185412a9586d03c18fc17ff": {
      "model_module": "@jupyter-widgets/base",
      "model_module_version": "2.0.0",
      "model_name": "LayoutModel",
      "state": {}
     },
     "10c930f0056c4c219863d4d49c65ee98": {
      "model_module": "@jupyter-widgets/base",
      "model_module_version": "2.0.0",
      "model_name": "LayoutModel",
      "state": {}
     },
     "11a56fa7e2bc45a29205783699cb40c6": {
      "model_module": "@jupyter-widgets/controls",
      "model_module_version": "2.0.0",
      "model_name": "HTMLModel",
      "state": {
       "layout": "IPY_MODEL_dd5df985951e4316acbacb97e9815795",
       "style": "IPY_MODEL_16d5d804f49846e782129b80ac2d6541",
       "value": "  0%"
      }
     },
     "11ace6188d0549709a82de3133aacd0e": {
      "model_module": "@jupyter-widgets/base",
      "model_module_version": "2.0.0",
      "model_name": "LayoutModel",
      "state": {}
     },
     "121f0f46e54640c0aa77713d1830793f": {
      "model_module": "@jupyter-widgets/base",
      "model_module_version": "2.0.0",
      "model_name": "LayoutModel",
      "state": {}
     },
     "12d0ffe4350447b0bc3440a51ce5249f": {
      "model_module": "@jupyter-widgets/controls",
      "model_module_version": "2.0.0",
      "model_name": "HTMLStyleModel",
      "state": {
       "description_width": "",
       "font_size": null,
       "text_color": null
      }
     },
     "12f31da077e24f7b99d7f70140e75514": {
      "model_module": "@jupyter-widgets/controls",
      "model_module_version": "2.0.0",
      "model_name": "ProgressStyleModel",
      "state": {
       "bar_color": "#223388",
       "description_width": ""
      }
     },
     "136954ac46674e0889d4d27e91aae823": {
      "model_module": "@jupyter-widgets/controls",
      "model_module_version": "2.0.0",
      "model_name": "HTMLModel",
      "state": {
       "layout": "IPY_MODEL_204c2642cd134462923f16cb3890a643",
       "style": "IPY_MODEL_6e551d64fef54a05bb1f2e31911cc61a",
       "value": " 917/1000 [00:00&lt;00:00, 1810.11it/s]"
      }
     },
     "1376d47bd2f74263a8cd51ceeed240b7": {
      "model_module": "@jupyter-widgets/controls",
      "model_module_version": "2.0.0",
      "model_name": "HTMLModel",
      "state": {
       "layout": "IPY_MODEL_ad4200c82e2e4d64a77224ebd6918988",
       "style": "IPY_MODEL_7863294583f5494f9605984cdf71bdb7",
       "value": "100%"
      }
     },
     "13bd518bf8d749a3aa984a435f981e86": {
      "model_module": "@jupyter-widgets/base",
      "model_module_version": "2.0.0",
      "model_name": "LayoutModel",
      "state": {}
     },
     "13f7aeb649804d2da41c48c71c93ba1a": {
      "model_module": "@jupyter-widgets/base",
      "model_module_version": "2.0.0",
      "model_name": "LayoutModel",
      "state": {}
     },
     "142330f7881348a891241fc0c503b378": {
      "model_module": "@jupyter-widgets/base",
      "model_module_version": "2.0.0",
      "model_name": "LayoutModel",
      "state": {}
     },
     "14412bf9f7cc4cdd9eb32a565ad1445b": {
      "model_module": "@jupyter-widgets/controls",
      "model_module_version": "2.0.0",
      "model_name": "HTMLModel",
      "state": {
       "layout": "IPY_MODEL_7fb557df42104fa6b50aa74b37208076",
       "style": "IPY_MODEL_7c3265b6231341aaaa5ee83038c83ee8",
       "value": " 824/1000 [00:00&lt;00:00, 1596.64it/s]"
      }
     },
     "149528515246462b907e2c223051a406": {
      "model_module": "@jupyter-widgets/controls",
      "model_module_version": "2.0.0",
      "model_name": "ProgressStyleModel",
      "state": {
       "bar_color": "#223388",
       "description_width": ""
      }
     },
     "15394294a8704a5196e113702058790c": {
      "model_module": "@jupyter-widgets/base",
      "model_module_version": "2.0.0",
      "model_name": "LayoutModel",
      "state": {}
     },
     "158aac7c7d3f4ca297694ce98d50130e": {
      "model_module": "@jupyter-widgets/base",
      "model_module_version": "2.0.0",
      "model_name": "LayoutModel",
      "state": {
       "visibility": "hidden"
      }
     },
     "15934c4556ec4f2598ed495627491999": {
      "model_module": "@jupyter-widgets/base",
      "model_module_version": "2.0.0",
      "model_name": "LayoutModel",
      "state": {}
     },
     "159a4d2b4562401d839d825ae750c505": {
      "model_module": "@jupyter-widgets/base",
      "model_module_version": "2.0.0",
      "model_name": "LayoutModel",
      "state": {}
     },
     "15bd1fc797be48e9afd6514981fef5ff": {
      "model_module": "@jupyter-widgets/base",
      "model_module_version": "2.0.0",
      "model_name": "LayoutModel",
      "state": {}
     },
     "15e13ff638224df19f651f1f34e0a9e4": {
      "model_module": "@jupyter-widgets/controls",
      "model_module_version": "2.0.0",
      "model_name": "FloatProgressModel",
      "state": {
       "bar_style": "success",
       "layout": "IPY_MODEL_bc291981383243fa88c85cfa4c9d8fd6",
       "max": 8,
       "style": "IPY_MODEL_9cf6dbb15e9e446ea8e61d17bb12bd03",
       "value": 8
      }
     },
     "164ea83fe52e4d0c9280579981b766f5": {
      "model_module": "@jupyter-widgets/controls",
      "model_module_version": "2.0.0",
      "model_name": "ProgressStyleModel",
      "state": {
       "bar_color": "#223388",
       "description_width": ""
      }
     },
     "1677045b088c488ca90805f19419ed01": {
      "model_module": "@jupyter-widgets/controls",
      "model_module_version": "2.0.0",
      "model_name": "HTMLStyleModel",
      "state": {
       "description_width": "",
       "font_size": null,
       "text_color": null
      }
     },
     "1679ce9b81194f2ca43ebf4ef79e0d38": {
      "model_module": "@jupyter-widgets/controls",
      "model_module_version": "2.0.0",
      "model_name": "HTMLStyleModel",
      "state": {
       "description_width": "",
       "font_size": null,
       "text_color": null
      }
     },
     "16969a4eb38b41e89afbb2b077b2d2c5": {
      "model_module": "@jupyter-widgets/base",
      "model_module_version": "2.0.0",
      "model_name": "LayoutModel",
      "state": {}
     },
     "16d5d804f49846e782129b80ac2d6541": {
      "model_module": "@jupyter-widgets/controls",
      "model_module_version": "2.0.0",
      "model_name": "HTMLStyleModel",
      "state": {
       "description_width": "",
       "font_size": null,
       "text_color": null
      }
     },
     "16fbcabc6ed14cda933efaff1b3cbb56": {
      "model_module": "@jupyter-widgets/controls",
      "model_module_version": "2.0.0",
      "model_name": "HTMLModel",
      "state": {
       "layout": "IPY_MODEL_ebbea31c4b584933a50293498d6db3ff",
       "style": "IPY_MODEL_dc0b92bc6a0b4f46919ddf43fdb04ce3",
       "value": " 9970/10000 [00:22&lt;00:00, 442.04it/s]"
      }
     },
     "1717c265974b4a9198fdec123101afb4": {
      "model_module": "@jupyter-widgets/base",
      "model_module_version": "2.0.0",
      "model_name": "LayoutModel",
      "state": {
       "visibility": "hidden"
      }
     },
     "17237541f1214d1d8aa562ba0dc73295": {
      "model_module": "@jupyter-widgets/controls",
      "model_module_version": "2.0.0",
      "model_name": "ProgressStyleModel",
      "state": {
       "bar_color": "#223388",
       "description_width": ""
      }
     },
     "18078ab13b6a4638958f5eef996b5364": {
      "model_module": "@jupyter-widgets/controls",
      "model_module_version": "2.0.0",
      "model_name": "HTMLStyleModel",
      "state": {
       "description_width": "",
       "font_size": null,
       "text_color": null
      }
     },
     "186a8422697c42f7bccfaba05619923c": {
      "model_module": "@jupyter-widgets/base",
      "model_module_version": "2.0.0",
      "model_name": "LayoutModel",
      "state": {
       "visibility": "hidden"
      }
     },
     "18f3a8e942a342789d692340703c2a30": {
      "model_module": "@jupyter-widgets/base",
      "model_module_version": "2.0.0",
      "model_name": "LayoutModel",
      "state": {}
     },
     "18fd7e1d550642a08aa5c6eadc377ac4": {
      "model_module": "@jupyter-widgets/controls",
      "model_module_version": "2.0.0",
      "model_name": "ProgressStyleModel",
      "state": {
       "bar_color": "#223388",
       "description_width": ""
      }
     },
     "19206ca15c7f4ac09aeccccd7bda678b": {
      "model_module": "@jupyter-widgets/controls",
      "model_module_version": "2.0.0",
      "model_name": "HTMLModel",
      "state": {
       "layout": "IPY_MODEL_5c43970344904feb9424fb0501bf6363",
       "style": "IPY_MODEL_4025c26ca87644a78b8e332718b16efc",
       "value": "  0%"
      }
     },
     "1948dd4e3e0340d58097fb0e2ded1834": {
      "model_module": "@jupyter-widgets/base",
      "model_module_version": "2.0.0",
      "model_name": "LayoutModel",
      "state": {}
     },
     "19578da9fc2a408daa451ec77aab7fe3": {
      "model_module": "@jupyter-widgets/base",
      "model_module_version": "2.0.0",
      "model_name": "LayoutModel",
      "state": {}
     },
     "1987b3cb29cf4fe7b1b7419f5d98e0c3": {
      "model_module": "@jupyter-widgets/base",
      "model_module_version": "2.0.0",
      "model_name": "LayoutModel",
      "state": {}
     },
     "1a16c946b30047948b211c86c396b959": {
      "model_module": "@jupyter-widgets/controls",
      "model_module_version": "2.0.0",
      "model_name": "HTMLStyleModel",
      "state": {
       "description_width": "",
       "font_size": null,
       "text_color": null
      }
     },
     "1a4281f05f634496a909959486cfa9b9": {
      "model_module": "@jupyter-widgets/base",
      "model_module_version": "2.0.0",
      "model_name": "LayoutModel",
      "state": {}
     },
     "1a803db57a28457fb49084c758edd387": {
      "model_module": "@jupyter-widgets/controls",
      "model_module_version": "2.0.0",
      "model_name": "ProgressStyleModel",
      "state": {
       "bar_color": "#223388",
       "description_width": ""
      }
     },
     "1b0b9734d3134f7c96bd72edafd63e6e": {
      "model_module": "@jupyter-widgets/controls",
      "model_module_version": "2.0.0",
      "model_name": "HTMLStyleModel",
      "state": {
       "description_width": "",
       "font_size": null,
       "text_color": null
      }
     },
     "1b22861739a8414b868ac94a6b2d62d7": {
      "model_module": "@jupyter-widgets/controls",
      "model_module_version": "2.0.0",
      "model_name": "FloatProgressModel",
      "state": {
       "bar_style": "success",
       "layout": "IPY_MODEL_86cf766e107f409a8dafcd90781e7b82",
       "max": 5,
       "style": "IPY_MODEL_28441b2fbd004dae963479ff8dee021a",
       "value": 5
      }
     },
     "1bb5e74375c84c97837e1fa77d477158": {
      "model_module": "@jupyter-widgets/controls",
      "model_module_version": "2.0.0",
      "model_name": "HTMLStyleModel",
      "state": {
       "description_width": "",
       "font_size": null,
       "text_color": null
      }
     },
     "1bcbe3971a6b4b1fb592998a14832d8a": {
      "model_module": "@jupyter-widgets/controls",
      "model_module_version": "2.0.0",
      "model_name": "HTMLStyleModel",
      "state": {
       "description_width": "",
       "font_size": null,
       "text_color": null
      }
     },
     "1c79dcae2e5c4e71a9aceaf24392c257": {
      "model_module": "@jupyter-widgets/controls",
      "model_module_version": "2.0.0",
      "model_name": "HTMLStyleModel",
      "state": {
       "description_width": "",
       "font_size": null,
       "text_color": null
      }
     },
     "1c9bfbbbd12c41f0939d50fbe2ad11a7": {
      "model_module": "@jupyter-widgets/base",
      "model_module_version": "2.0.0",
      "model_name": "LayoutModel",
      "state": {}
     },
     "1cb5bdf903694cb090c0e3e79680857e": {
      "model_module": "@jupyter-widgets/controls",
      "model_module_version": "2.0.0",
      "model_name": "HTMLModel",
      "state": {
       "layout": "IPY_MODEL_22b0de785caf4ea480fb75bd76a60d28",
       "style": "IPY_MODEL_882952f0bc5f4167bd927cfb50c83a59",
       "value": "  0%"
      }
     },
     "1d2f35b7e0e848888f22a2ebb9d7b853": {
      "model_module": "@jupyter-widgets/controls",
      "model_module_version": "2.0.0",
      "model_name": "HTMLStyleModel",
      "state": {
       "description_width": "",
       "font_size": null,
       "text_color": null
      }
     },
     "1dc9a853c96b4f0e897c70f961f0fdf9": {
      "model_module": "@jupyter-widgets/base",
      "model_module_version": "2.0.0",
      "model_name": "LayoutModel",
      "state": {}
     },
     "1de1f9d6c09e44af8dbcce893a27166b": {
      "model_module": "@jupyter-widgets/base",
      "model_module_version": "2.0.0",
      "model_name": "LayoutModel",
      "state": {}
     },
     "1e040ef50b754bb6bf41acfea7e5d916": {
      "model_module": "@jupyter-widgets/base",
      "model_module_version": "2.0.0",
      "model_name": "LayoutModel",
      "state": {}
     },
     "1e1e4821c9604f3e948b6b9392b61ca0": {
      "model_module": "@jupyter-widgets/controls",
      "model_module_version": "2.0.0",
      "model_name": "HTMLModel",
      "state": {
       "layout": "IPY_MODEL_26815be695e7495080c496700ca501de",
       "style": "IPY_MODEL_27f4b7d1ba784e908fbad9417371ec8b",
       "value": "  0%"
      }
     },
     "1e29f95d10024850905343003e9d7033": {
      "model_module": "@jupyter-widgets/base",
      "model_module_version": "2.0.0",
      "model_name": "LayoutModel",
      "state": {}
     },
     "1e7547a0fe604a328f13343223ef7aa4": {
      "model_module": "@jupyter-widgets/controls",
      "model_module_version": "2.0.0",
      "model_name": "FloatProgressModel",
      "state": {
       "layout": "IPY_MODEL_e1534149bff7412dbefd8701bdbf0c6f",
       "max": 1000,
       "style": "IPY_MODEL_07690db2c9694b49addbf5b3fbe58324",
       "value": 1000
      }
     },
     "1e7806668d4b4079aed1197aa4e04343": {
      "model_module": "@jupyter-widgets/controls",
      "model_module_version": "2.0.0",
      "model_name": "HTMLModel",
      "state": {
       "layout": "IPY_MODEL_a329459f79074959a5cd1c1fca3bff5d",
       "style": "IPY_MODEL_62633d6c7f75410e8d457a958f8b90d8",
       "value": " 9854/10000 [00:05&lt;00:00, 1666.41it/s]"
      }
     },
     "1e83145131a64baf9bc38511d60fcbf1": {
      "model_module": "@jupyter-widgets/controls",
      "model_module_version": "2.0.0",
      "model_name": "FloatProgressModel",
      "state": {
       "layout": "IPY_MODEL_d671215fb68a4091894ef41f5c45d935",
       "style": "IPY_MODEL_149528515246462b907e2c223051a406",
       "value": 100
      }
     },
     "1ebd05c0cf244ce6ac9d7e46f58d01e5": {
      "model_module": "@jupyter-widgets/base",
      "model_module_version": "2.0.0",
      "model_name": "LayoutModel",
      "state": {}
     },
     "1f1ccdefa7e44f1283b9e81115e270a2": {
      "model_module": "@jupyter-widgets/controls",
      "model_module_version": "2.0.0",
      "model_name": "HTMLModel",
      "state": {
       "layout": "IPY_MODEL_f07f1ccd8cdf41b2a0668c75ad662466",
       "style": "IPY_MODEL_8a84cba0d8e048f39cc09831498ed7ee",
       "value": " 5/5 [00:30&lt;00:00,  6.52s/it]"
      }
     },
     "1fcb04dc506a4e0c8623350cd00c6e62": {
      "model_module": "@jupyter-widgets/controls",
      "model_module_version": "2.0.0",
      "model_name": "HTMLModel",
      "state": {
       "layout": "IPY_MODEL_2193388a1e9048348c11aa5e4fe0638a",
       "style": "IPY_MODEL_3bd5a52d3fe24baa9597016f52d73a11",
       "value": "  0%"
      }
     },
     "1ff3dd2ddb6149a69d11782d8972ad46": {
      "model_module": "@jupyter-widgets/controls",
      "model_module_version": "2.0.0",
      "model_name": "HTMLStyleModel",
      "state": {
       "description_width": "",
       "font_size": null,
       "text_color": null
      }
     },
     "203de1fa62a242f38879308ca336a09b": {
      "model_module": "@jupyter-widgets/controls",
      "model_module_version": "2.0.0",
      "model_name": "FloatProgressModel",
      "state": {
       "layout": "IPY_MODEL_3bbb0c51035e40d6af1ca7f972425616",
       "max": 1000,
       "style": "IPY_MODEL_6a2329ecf37a44be88c5325368c0d6a9",
       "value": 1000
      }
     },
     "204c2642cd134462923f16cb3890a643": {
      "model_module": "@jupyter-widgets/base",
      "model_module_version": "2.0.0",
      "model_name": "LayoutModel",
      "state": {}
     },
     "207d37cb7817424886523b6f686589ff": {
      "model_module": "@jupyter-widgets/controls",
      "model_module_version": "2.0.0",
      "model_name": "HTMLModel",
      "state": {
       "layout": "IPY_MODEL_8f0f9034d74542e9a59fce137d87b717",
       "style": "IPY_MODEL_fd369dc3e6f64f259bec8e53a8ad609c",
       "value": " 99%"
      }
     },
     "20b09268e44445fdbed7f8e36d20b3cb": {
      "model_module": "@jupyter-widgets/controls",
      "model_module_version": "2.0.0",
      "model_name": "HTMLStyleModel",
      "state": {
       "description_width": "",
       "font_size": null,
       "text_color": null
      }
     },
     "20c713d43ef545bc9fd2187f3a01af5d": {
      "model_module": "@jupyter-widgets/base",
      "model_module_version": "2.0.0",
      "model_name": "LayoutModel",
      "state": {}
     },
     "20ddf6f5be2e4ffc8d21bfb0bb772b98": {
      "model_module": "@jupyter-widgets/controls",
      "model_module_version": "2.0.0",
      "model_name": "HTMLStyleModel",
      "state": {
       "description_width": "",
       "font_size": null,
       "text_color": null
      }
     },
     "211356a8084343fcb13f17e108fe118f": {
      "model_module": "@jupyter-widgets/controls",
      "model_module_version": "2.0.0",
      "model_name": "FloatProgressModel",
      "state": {
       "bar_style": "danger",
       "layout": "IPY_MODEL_b60b79e0f2d14403873efc21c0b9f9fe",
       "max": 10,
       "style": "IPY_MODEL_164ea83fe52e4d0c9280579981b766f5"
      }
     },
     "21464106e67a447d9ff9b50887f144b6": {
      "model_module": "@jupyter-widgets/controls",
      "model_module_version": "2.0.0",
      "model_name": "HTMLModel",
      "state": {
       "layout": "IPY_MODEL_7f8d1a618a294a219c7edaf10f5cde36",
       "style": "IPY_MODEL_bfdfa6e2ce5c409c9cdf97bda857f0a2",
       "value": " 9922/10000 [00:05&lt;00:00, 1853.93it/s]"
      }
     },
     "2193388a1e9048348c11aa5e4fe0638a": {
      "model_module": "@jupyter-widgets/base",
      "model_module_version": "2.0.0",
      "model_name": "LayoutModel",
      "state": {}
     },
     "21cef7aa4409459b9299b23a42aee4ce": {
      "model_module": "@jupyter-widgets/controls",
      "model_module_version": "2.0.0",
      "model_name": "HTMLStyleModel",
      "state": {
       "description_width": "",
       "font_size": null,
       "text_color": null
      }
     },
     "2210ef436b4a4703be08961770fe512d": {
      "model_module": "@jupyter-widgets/controls",
      "model_module_version": "2.0.0",
      "model_name": "FloatProgressModel",
      "state": {
       "bar_style": "success",
       "layout": "IPY_MODEL_76f08a27b4734231bd7775054e212f55",
       "max": 5,
       "style": "IPY_MODEL_628838aa824e42d0b226a62a62323664",
       "value": 5
      }
     },
     "221f6611f5c24b0188df024dddc1a37a": {
      "model_module": "@jupyter-widgets/controls",
      "model_module_version": "2.0.0",
      "model_name": "FloatProgressModel",
      "state": {
       "layout": "IPY_MODEL_74e8e5e9bcf94b2ab58403fc81a90424",
       "style": "IPY_MODEL_9472e25a98b64e1fa62e90c0d260d73e",
       "value": 100
      }
     },
     "2244d58b2f44490387aa37de6a237803": {
      "model_module": "@jupyter-widgets/controls",
      "model_module_version": "2.0.0",
      "model_name": "HBoxModel",
      "state": {
       "children": [
        "IPY_MODEL_1e1e4821c9604f3e948b6b9392b61ca0",
        "IPY_MODEL_036bc91751514b6294ba3e977d7b4263",
        "IPY_MODEL_f868071a6d104a55ae381d89c61add9f"
       ],
       "layout": "IPY_MODEL_45d454fde2584fa68812411ec83de0ac"
      }
     },
     "22522ac13e9a41e08aa3b5f80af3cc1e": {
      "model_module": "@jupyter-widgets/base",
      "model_module_version": "2.0.0",
      "model_name": "LayoutModel",
      "state": {}
     },
     "22ae6fd84a83424c94cff372c4cf432d": {
      "model_module": "@jupyter-widgets/controls",
      "model_module_version": "2.0.0",
      "model_name": "HTMLStyleModel",
      "state": {
       "description_width": "",
       "font_size": null,
       "text_color": null
      }
     },
     "22b0de785caf4ea480fb75bd76a60d28": {
      "model_module": "@jupyter-widgets/base",
      "model_module_version": "2.0.0",
      "model_name": "LayoutModel",
      "state": {}
     },
     "22d818035230443ab11d16104f88062e": {
      "model_module": "@jupyter-widgets/controls",
      "model_module_version": "2.0.0",
      "model_name": "HTMLStyleModel",
      "state": {
       "description_width": "",
       "font_size": null,
       "text_color": null
      }
     },
     "22e2d1a7dca74131b969f32caee8850a": {
      "model_module": "@jupyter-widgets/base",
      "model_module_version": "2.0.0",
      "model_name": "LayoutModel",
      "state": {}
     },
     "22f00e83c812446287d22f93203adb75": {
      "model_module": "@jupyter-widgets/base",
      "model_module_version": "2.0.0",
      "model_name": "LayoutModel",
      "state": {}
     },
     "232ce396e16c47d6b20c8df43517f12d": {
      "model_module": "@jupyter-widgets/controls",
      "model_module_version": "2.0.0",
      "model_name": "HTMLModel",
      "state": {
       "layout": "IPY_MODEL_d6808eb8851144e0b1904b124a594166",
       "style": "IPY_MODEL_b24b8ea6af19458db49e0cc7c61a54c0",
       "value": " 99%"
      }
     },
     "237199bf688e4fedbdcf5a26f3886f10": {
      "model_module": "@jupyter-widgets/controls",
      "model_module_version": "2.0.0",
      "model_name": "HTMLStyleModel",
      "state": {
       "description_width": "",
       "font_size": null,
       "text_color": null
      }
     },
     "238155e55efb42abb5191473c7ff5d2d": {
      "model_module": "@jupyter-widgets/controls",
      "model_module_version": "2.0.0",
      "model_name": "HTMLModel",
      "state": {
       "layout": "IPY_MODEL_38b7f781803c4f10adee528607e57a1c",
       "style": "IPY_MODEL_ff9a07b42fb0483f998fafcd81b9c364",
       "value": "  0%"
      }
     },
     "23e7d9c35e534c37a93e51b1e8372b98": {
      "model_module": "@jupyter-widgets/controls",
      "model_module_version": "2.0.0",
      "model_name": "HTMLModel",
      "state": {
       "layout": "IPY_MODEL_f3644f0a74de4f09a687cc9594ea25aa",
       "style": "IPY_MODEL_1679ce9b81194f2ca43ebf4ef79e0d38",
       "value": " 99%"
      }
     },
     "24232e704272482f9952496aaa76c61f": {
      "model_module": "@jupyter-widgets/controls",
      "model_module_version": "2.0.0",
      "model_name": "HTMLModel",
      "state": {
       "layout": "IPY_MODEL_22522ac13e9a41e08aa3b5f80af3cc1e",
       "style": "IPY_MODEL_8ab2dd43568e4337b89fb3755fc932ae",
       "value": "100%"
      }
     },
     "2469014923774e54a17f772c5283179c": {
      "model_module": "@jupyter-widgets/base",
      "model_module_version": "2.0.0",
      "model_name": "LayoutModel",
      "state": {}
     },
     "248678909b4440999cbf4186b0ad354f": {
      "model_module": "@jupyter-widgets/controls",
      "model_module_version": "2.0.0",
      "model_name": "HTMLModel",
      "state": {
       "layout": "IPY_MODEL_0575b4321247446683389af380a39706",
       "style": "IPY_MODEL_e69d9a735f73407ca5899a13c5113cf1",
       "value": " 5/5 [00:05&lt;00:00,  1.17it/s]"
      }
     },
     "248c53a52b55435683e3a65d7a4b0c9f": {
      "model_module": "@jupyter-widgets/controls",
      "model_module_version": "2.0.0",
      "model_name": "HTMLModel",
      "state": {
       "layout": "IPY_MODEL_960976d9d6344942bf6eaf49ba8c0849",
       "style": "IPY_MODEL_1bb5e74375c84c97837e1fa77d477158",
       "value": "  0%"
      }
     },
     "24d9a8e37219445e92e5dee5d77676d8": {
      "model_module": "@jupyter-widgets/controls",
      "model_module_version": "2.0.0",
      "model_name": "FloatProgressModel",
      "state": {
       "layout": "IPY_MODEL_b88847d63e64441ca9b5169b0b630426",
       "max": 10000,
       "style": "IPY_MODEL_e84b314b773a48cfacb91db768ae164a",
       "value": 10000
      }
     },
     "24ea50bd0a4241ba9867a18096f660d6": {
      "model_module": "@jupyter-widgets/controls",
      "model_module_version": "2.0.0",
      "model_name": "FloatProgressModel",
      "state": {
       "layout": "IPY_MODEL_42d9af332b9c4ed095e99d052e562b98",
       "max": 10,
       "style": "IPY_MODEL_d53c54b0caf14c41a2ae532408b40d43",
       "value": 10
      }
     },
     "250a5dfba53340afb2fd8244a823c177": {
      "model_module": "@jupyter-widgets/controls",
      "model_module_version": "2.0.0",
      "model_name": "HTMLModel",
      "state": {
       "layout": "IPY_MODEL_46694d6d33b2461fa4d7010e28bd286e",
       "style": "IPY_MODEL_3ef948ee1c8843499f1b8e5f6d19bf58",
       "value": "  0%"
      }
     },
     "255a989b32a04890aa2a6cb555582deb": {
      "model_module": "@jupyter-widgets/base",
      "model_module_version": "2.0.0",
      "model_name": "LayoutModel",
      "state": {}
     },
     "2598d7e39c7c4a1c9d7c59b49f2b4042": {
      "model_module": "@jupyter-widgets/controls",
      "model_module_version": "2.0.0",
      "model_name": "HTMLModel",
      "state": {
       "layout": "IPY_MODEL_0a6c355820fb46db942d09287d38a210",
       "style": "IPY_MODEL_be56354729a745219da58e45e017f0ff",
       "value": "  0%"
      }
     },
     "25aa56d0de524885bbfb3a48b3433947": {
      "model_module": "@jupyter-widgets/controls",
      "model_module_version": "2.0.0",
      "model_name": "HTMLStyleModel",
      "state": {
       "description_width": "",
       "font_size": null,
       "text_color": null
      }
     },
     "263cfec73f5a4688a7aeda4a67c1bbf0": {
      "model_module": "@jupyter-widgets/controls",
      "model_module_version": "2.0.0",
      "model_name": "HTMLModel",
      "state": {
       "layout": "IPY_MODEL_41526c3bdf564554acf68f0c25baf151",
       "style": "IPY_MODEL_22d818035230443ab11d16104f88062e",
       "value": " 946/1000 [00:00&lt;00:00, 1741.99it/s]"
      }
     },
     "26815be695e7495080c496700ca501de": {
      "model_module": "@jupyter-widgets/base",
      "model_module_version": "2.0.0",
      "model_name": "LayoutModel",
      "state": {}
     },
     "2714694271e346d9b1e215763f57aa64": {
      "model_module": "@jupyter-widgets/controls",
      "model_module_version": "2.0.0",
      "model_name": "HTMLModel",
      "state": {
       "layout": "IPY_MODEL_778ed811ed94481c92d52e55d53262be",
       "style": "IPY_MODEL_2a9abf66201a4dbf8b3f8e6d7cb21754",
       "value": "100%"
      }
     },
     "276a3427dc40498db24a0f77fe2cf05d": {
      "model_module": "@jupyter-widgets/controls",
      "model_module_version": "2.0.0",
      "model_name": "HTMLModel",
      "state": {
       "layout": "IPY_MODEL_97e6c73a8d614457864d4730f1aef3e5",
       "style": "IPY_MODEL_cde8da87135249d0a2da6ecb609f9353",
       "value": " 99%"
      }
     },
     "277484ab0ff042a8b639c2796e1b6fd5": {
      "model_module": "@jupyter-widgets/base",
      "model_module_version": "2.0.0",
      "model_name": "LayoutModel",
      "state": {}
     },
     "277f7c9ee908487f8391fe060554fbcd": {
      "model_module": "@jupyter-widgets/controls",
      "model_module_version": "2.0.0",
      "model_name": "ProgressStyleModel",
      "state": {
       "description_width": ""
      }
     },
     "27884ff25bb5477d93f0a2d34ace92fa": {
      "model_module": "@jupyter-widgets/controls",
      "model_module_version": "2.0.0",
      "model_name": "HTMLStyleModel",
      "state": {
       "description_width": "",
       "font_size": null,
       "text_color": null
      }
     },
     "27f4b7d1ba784e908fbad9417371ec8b": {
      "model_module": "@jupyter-widgets/controls",
      "model_module_version": "2.0.0",
      "model_name": "HTMLStyleModel",
      "state": {
       "description_width": "",
       "font_size": null,
       "text_color": null
      }
     },
     "2819c97deecc49a198584921e81489df": {
      "model_module": "@jupyter-widgets/base",
      "model_module_version": "2.0.0",
      "model_name": "LayoutModel",
      "state": {}
     },
     "282a9d6bcbc34e798d5becec2ef56784": {
      "model_module": "@jupyter-widgets/controls",
      "model_module_version": "2.0.0",
      "model_name": "HBoxModel",
      "state": {
       "children": [
        "IPY_MODEL_6a0f6bb4b68c4e28bab3d4a6ed887208",
        "IPY_MODEL_c4fdce8f46ef4baf95d6ef3eda913d22",
        "IPY_MODEL_e014f4dd3db646da8f07eafa94fa6bfa"
       ],
       "layout": "IPY_MODEL_b15c7b2ff7c8402f9ad62078f911a28c"
      }
     },
     "28441b2fbd004dae963479ff8dee021a": {
      "model_module": "@jupyter-widgets/controls",
      "model_module_version": "2.0.0",
      "model_name": "ProgressStyleModel",
      "state": {
       "description_width": ""
      }
     },
     "284bb880795d4abba5aae5ee4df2dc66": {
      "model_module": "@jupyter-widgets/base",
      "model_module_version": "2.0.0",
      "model_name": "LayoutModel",
      "state": {}
     },
     "28e515afea9d461eb0371a033a9d909a": {
      "model_module": "@jupyter-widgets/controls",
      "model_module_version": "2.0.0",
      "model_name": "HTMLModel",
      "state": {
       "layout": "IPY_MODEL_4dd7c96d67f34090aee21a76c59de285",
       "style": "IPY_MODEL_ec85ef51ddc4481da984d2d4526f271c",
       "value": " 9982/10000 [00:47&lt;00:00, 213.60it/s]"
      }
     },
     "28e8c3d4bc5842b69c0e420948207377": {
      "model_module": "@jupyter-widgets/controls",
      "model_module_version": "2.0.0",
      "model_name": "HTMLStyleModel",
      "state": {
       "description_width": "",
       "font_size": null,
       "text_color": null
      }
     },
     "29231285199a4d83ac0e5471ecf8c300": {
      "model_module": "@jupyter-widgets/base",
      "model_module_version": "2.0.0",
      "model_name": "LayoutModel",
      "state": {}
     },
     "2972e260338c44379cc3724965548785": {
      "model_module": "@jupyter-widgets/controls",
      "model_module_version": "2.0.0",
      "model_name": "FloatProgressModel",
      "state": {
       "layout": "IPY_MODEL_859e0e3abfdf4e80ae2f5ea20fa3e170",
       "max": 10000,
       "style": "IPY_MODEL_775957778ea7463b9ea9705e94c3cb59",
       "value": 10000
      }
     },
     "29a00f7deaac4e2e81c76724c8b084f7": {
      "model_module": "@jupyter-widgets/base",
      "model_module_version": "2.0.0",
      "model_name": "LayoutModel",
      "state": {
       "visibility": "hidden"
      }
     },
     "29d4aa2a310e4dd990116c4ecafb75a5": {
      "model_module": "@jupyter-widgets/controls",
      "model_module_version": "2.0.0",
      "model_name": "ProgressStyleModel",
      "state": {
       "description_width": ""
      }
     },
     "2a8624644d0b4a7fa307a06fd664c94d": {
      "model_module": "@jupyter-widgets/controls",
      "model_module_version": "2.0.0",
      "model_name": "HTMLStyleModel",
      "state": {
       "description_width": "",
       "font_size": null,
       "text_color": null
      }
     },
     "2a9a0b203e6643639bea4303282bbf73": {
      "model_module": "@jupyter-widgets/base",
      "model_module_version": "2.0.0",
      "model_name": "LayoutModel",
      "state": {}
     },
     "2a9abf66201a4dbf8b3f8e6d7cb21754": {
      "model_module": "@jupyter-widgets/controls",
      "model_module_version": "2.0.0",
      "model_name": "HTMLStyleModel",
      "state": {
       "description_width": "",
       "font_size": null,
       "text_color": null
      }
     },
     "2ac25631452f4c35a5966b41e61a62cb": {
      "model_module": "@jupyter-widgets/controls",
      "model_module_version": "2.0.0",
      "model_name": "ProgressStyleModel",
      "state": {
       "bar_color": "#223388",
       "description_width": ""
      }
     },
     "2b24de5b34c54792a55bc02d21da0e6f": {
      "model_module": "@jupyter-widgets/controls",
      "model_module_version": "2.0.0",
      "model_name": "FloatProgressModel",
      "state": {
       "layout": "IPY_MODEL_76a2ae1a72fc4e4da57e4feec0165eaa",
       "max": 10000,
       "style": "IPY_MODEL_deae0225e60049a2b4103ae5e979a1c4",
       "value": 10000
      }
     },
     "2b57a0ab039d4d51be343131fba155d9": {
      "model_module": "@jupyter-widgets/controls",
      "model_module_version": "2.0.0",
      "model_name": "HTMLModel",
      "state": {
       "layout": "IPY_MODEL_6a4e6d5666ba45e28f1def14f21ecb19",
       "style": "IPY_MODEL_101aa6b7a89b4cfca7c35d87d4412515",
       "value": " 0/5 [00:00&lt;?, ?it/s]"
      }
     },
     "2bb66d103bbd442a894ab45c49ae674a": {
      "model_module": "@jupyter-widgets/base",
      "model_module_version": "2.0.0",
      "model_name": "LayoutModel",
      "state": {}
     },
     "2bc62cfa71e345a59608c85adc7a689e": {
      "model_module": "@jupyter-widgets/controls",
      "model_module_version": "2.0.0",
      "model_name": "ProgressStyleModel",
      "state": {
       "bar_color": "#223388",
       "description_width": ""
      }
     },
     "2c0d490ccbc844a69459acc85f8326fe": {
      "model_module": "@jupyter-widgets/controls",
      "model_module_version": "2.0.0",
      "model_name": "HTMLModel",
      "state": {
       "layout": "IPY_MODEL_901a60172e4b44cdb4da8adb15f84203",
       "style": "IPY_MODEL_d44b29f25b9d46e8a98661a2561afe7e",
       "value": " 88%"
      }
     },
     "2c339cd3d8384ab199171cd9521e08fe": {
      "model_module": "@jupyter-widgets/base",
      "model_module_version": "2.0.0",
      "model_name": "LayoutModel",
      "state": {}
     },
     "2c638835db384f06bc0144ce213d9c1b": {
      "model_module": "@jupyter-widgets/base",
      "model_module_version": "2.0.0",
      "model_name": "LayoutModel",
      "state": {}
     },
     "2c8f9bae11cb4e13b9ff5e9fd28892ef": {
      "model_module": "@jupyter-widgets/controls",
      "model_module_version": "2.0.0",
      "model_name": "HTMLStyleModel",
      "state": {
       "description_width": "",
       "font_size": null,
       "text_color": null
      }
     },
     "2d006f3f0fde4fc7acce415e6075fb49": {
      "model_module": "@jupyter-widgets/controls",
      "model_module_version": "2.0.0",
      "model_name": "ProgressStyleModel",
      "state": {
       "description_width": ""
      }
     },
     "2d15c41c2ffd4b9a9f9f773a9cd758e6": {
      "model_module": "@jupyter-widgets/base",
      "model_module_version": "2.0.0",
      "model_name": "LayoutModel",
      "state": {}
     },
     "2d2a3d249da94206b59976daccfd54f4": {
      "model_module": "@jupyter-widgets/controls",
      "model_module_version": "2.0.0",
      "model_name": "HTMLStyleModel",
      "state": {
       "description_width": "",
       "font_size": null,
       "text_color": null
      }
     },
     "2d77ec9a94034ceba0f8919fc265e1a7": {
      "model_module": "@jupyter-widgets/controls",
      "model_module_version": "2.0.0",
      "model_name": "ProgressStyleModel",
      "state": {
       "bar_color": "#223388",
       "description_width": ""
      }
     },
     "2d9362f516d047f3b60844e9bcbe5ae6": {
      "model_module": "@jupyter-widgets/base",
      "model_module_version": "2.0.0",
      "model_name": "LayoutModel",
      "state": {}
     },
     "2dc75c40947a472dadcbbbf2e1ce2c05": {
      "model_module": "@jupyter-widgets/base",
      "model_module_version": "2.0.0",
      "model_name": "LayoutModel",
      "state": {}
     },
     "2dd71b951662404992b6a7b8da4b074c": {
      "model_module": "@jupyter-widgets/controls",
      "model_module_version": "2.0.0",
      "model_name": "FloatProgressModel",
      "state": {
       "bar_style": "success",
       "layout": "IPY_MODEL_80e5173833c84ed3a922962126e7aea5",
       "max": 5,
       "style": "IPY_MODEL_62f80f6280ac4435bf785fe51447c575",
       "value": 5
      }
     },
     "2def26c5e4f843e8af42dbc9c9adac55": {
      "model_module": "@jupyter-widgets/base",
      "model_module_version": "2.0.0",
      "model_name": "LayoutModel",
      "state": {}
     },
     "2df72f0ee5314f448b3be6c83c8bee38": {
      "model_module": "@jupyter-widgets/controls",
      "model_module_version": "2.0.0",
      "model_name": "HTMLStyleModel",
      "state": {
       "description_width": "",
       "font_size": null,
       "text_color": null
      }
     },
     "2e04df2470ed4414920ff58a4bcc90cb": {
      "model_module": "@jupyter-widgets/base",
      "model_module_version": "2.0.0",
      "model_name": "LayoutModel",
      "state": {}
     },
     "2e5b8cce1f964ace9232112359c43be0": {
      "model_module": "@jupyter-widgets/controls",
      "model_module_version": "2.0.0",
      "model_name": "HTMLModel",
      "state": {
       "layout": "IPY_MODEL_19578da9fc2a408daa451ec77aab7fe3",
       "style": "IPY_MODEL_4b05c6818d234b6eaccccf02a1617c56",
       "value": "  0%"
      }
     },
     "2e5cd66f5e244b3db65416f274d432b2": {
      "model_module": "@jupyter-widgets/base",
      "model_module_version": "2.0.0",
      "model_name": "LayoutModel",
      "state": {}
     },
     "2e8060f1ed044500a40cf5b8e1bb0485": {
      "model_module": "@jupyter-widgets/base",
      "model_module_version": "2.0.0",
      "model_name": "LayoutModel",
      "state": {}
     },
     "2ecb0ca48572459c916adcd01c4c5068": {
      "model_module": "@jupyter-widgets/controls",
      "model_module_version": "2.0.0",
      "model_name": "HTMLStyleModel",
      "state": {
       "description_width": "",
       "font_size": null,
       "text_color": null
      }
     },
     "2ece4978a1994ed2bfa1b094a8b1aca4": {
      "model_module": "@jupyter-widgets/base",
      "model_module_version": "2.0.0",
      "model_name": "LayoutModel",
      "state": {}
     },
     "2ee3e1135bc44edfad422e9de620d05d": {
      "model_module": "@jupyter-widgets/base",
      "model_module_version": "2.0.0",
      "model_name": "LayoutModel",
      "state": {}
     },
     "2eefe2e5f05f4813af61e5a01eb5d94e": {
      "model_module": "@jupyter-widgets/controls",
      "model_module_version": "2.0.0",
      "model_name": "HBoxModel",
      "state": {
       "children": [
        "IPY_MODEL_0df801d3be3e45eba0b920a3c29b1d49",
        "IPY_MODEL_b31cd7bc4cf742969e3c3796a2683ae7",
        "IPY_MODEL_4eb9f6ad7f2c471780d30b7d710a78de"
       ],
       "layout": "IPY_MODEL_5f58245975ac40638d6bdef135037f56"
      }
     },
     "2f285574db3040189744f952ff792122": {
      "model_module": "@jupyter-widgets/base",
      "model_module_version": "2.0.0",
      "model_name": "LayoutModel",
      "state": {}
     },
     "2f2c1cde2bad4be1a8740e7b230b535b": {
      "model_module": "@jupyter-widgets/controls",
      "model_module_version": "2.0.0",
      "model_name": "ProgressStyleModel",
      "state": {
       "bar_color": "#223388",
       "description_width": ""
      }
     },
     "2f428fa0d43b4e67a5db5d5e1589b090": {
      "model_module": "@jupyter-widgets/base",
      "model_module_version": "2.0.0",
      "model_name": "LayoutModel",
      "state": {
       "visibility": "hidden"
      }
     },
     "2f4c3717134e4861b6b40afdbfad9599": {
      "model_module": "@jupyter-widgets/controls",
      "model_module_version": "2.0.0",
      "model_name": "ProgressStyleModel",
      "state": {
       "bar_color": "#223388",
       "description_width": ""
      }
     },
     "2f5c8ac19b344730b3309343ba4b7c71": {
      "model_module": "@jupyter-widgets/controls",
      "model_module_version": "2.0.0",
      "model_name": "ProgressStyleModel",
      "state": {
       "bar_color": "#223388",
       "description_width": ""
      }
     },
     "2fc7068c489040eb8c3469c9c02d4d4d": {
      "model_module": "@jupyter-widgets/base",
      "model_module_version": "2.0.0",
      "model_name": "LayoutModel",
      "state": {}
     },
     "2fd6aa09cca14deea5642655754de46a": {
      "model_module": "@jupyter-widgets/controls",
      "model_module_version": "2.0.0",
      "model_name": "HTMLModel",
      "state": {
       "layout": "IPY_MODEL_be50dd0a1b6e4fb7af112d754f4ec036",
       "style": "IPY_MODEL_56c7e7de810542339dc1d7e128f493f7",
       "value": " 99%"
      }
     },
     "3051f4b877544a07bb3a4759b5e4a39a": {
      "model_module": "@jupyter-widgets/base",
      "model_module_version": "2.0.0",
      "model_name": "LayoutModel",
      "state": {}
     },
     "3075bfdc33d944d697a92ffcb640982b": {
      "model_module": "@jupyter-widgets/base",
      "model_module_version": "2.0.0",
      "model_name": "LayoutModel",
      "state": {}
     },
     "30a44b784c12406f8875f5001faa3209": {
      "model_module": "@jupyter-widgets/controls",
      "model_module_version": "2.0.0",
      "model_name": "FloatProgressModel",
      "state": {
       "layout": "IPY_MODEL_e3941f0803fe4368848ba113a838ca3a",
       "max": 10000,
       "style": "IPY_MODEL_0f6d3d8fad5b4ecdaf4085f9646bbef0",
       "value": 10000
      }
     },
     "30b68a431f8445b889b65a3d57e18fd8": {
      "model_module": "@jupyter-widgets/base",
      "model_module_version": "2.0.0",
      "model_name": "LayoutModel",
      "state": {}
     },
     "30c7c324f1d649a5a94cb502e2f478a7": {
      "model_module": "@jupyter-widgets/base",
      "model_module_version": "2.0.0",
      "model_name": "LayoutModel",
      "state": {}
     },
     "30cc6486b68248719633540a37b6a2f1": {
      "model_module": "@jupyter-widgets/controls",
      "model_module_version": "2.0.0",
      "model_name": "FloatProgressModel",
      "state": {
       "bar_style": "danger",
       "layout": "IPY_MODEL_965ad55961d940d481257a528a8f7d03",
       "max": 10000,
       "style": "IPY_MODEL_33d29e5137784f97bcba0b2da26b3eee",
       "value": 658
      }
     },
     "30d37c9d668146d6b6e7a642821fbff4": {
      "model_module": "@jupyter-widgets/base",
      "model_module_version": "2.0.0",
      "model_name": "LayoutModel",
      "state": {}
     },
     "3139483dc96f45c18d7d4953c18f0c28": {
      "model_module": "@jupyter-widgets/controls",
      "model_module_version": "2.0.0",
      "model_name": "HTMLModel",
      "state": {
       "layout": "IPY_MODEL_85ea18a88c4846eb8673a9cdf094fce1",
       "style": "IPY_MODEL_62b4fd7a0a7e47e1b6dc8a60f3dcd8b5",
       "value": "  0%"
      }
     },
     "315f93a1bcd1447f846616cabfd391e9": {
      "model_module": "@jupyter-widgets/controls",
      "model_module_version": "2.0.0",
      "model_name": "ProgressStyleModel",
      "state": {
       "bar_color": "#223388",
       "description_width": ""
      }
     },
     "3188f0708bd44966827a8f06d61be355": {
      "model_module": "@jupyter-widgets/controls",
      "model_module_version": "2.0.0",
      "model_name": "HTMLStyleModel",
      "state": {
       "description_width": "",
       "font_size": null,
       "text_color": null
      }
     },
     "322ead9de0d14d0f89d57e9d455fcc1e": {
      "model_module": "@jupyter-widgets/controls",
      "model_module_version": "2.0.0",
      "model_name": "HTMLStyleModel",
      "state": {
       "description_width": "",
       "font_size": null,
       "text_color": null
      }
     },
     "325568c01b324b4688b4d58b452073e8": {
      "model_module": "@jupyter-widgets/controls",
      "model_module_version": "2.0.0",
      "model_name": "HTMLModel",
      "state": {
       "layout": "IPY_MODEL_9177887ad11640688c2aa974197859b1",
       "style": "IPY_MODEL_3e65c1420f974b6b8908c27bfa4f4ac8",
       "value": " 99%"
      }
     },
     "32783d69653b4689a964e3deca450724": {
      "model_module": "@jupyter-widgets/base",
      "model_module_version": "2.0.0",
      "model_name": "LayoutModel",
      "state": {}
     },
     "32b10bce66b24b5096ec13289a12ae41": {
      "model_module": "@jupyter-widgets/base",
      "model_module_version": "2.0.0",
      "model_name": "LayoutModel",
      "state": {}
     },
     "32d2cd9a05bf44fca6222738190f7fcf": {
      "model_module": "@jupyter-widgets/base",
      "model_module_version": "2.0.0",
      "model_name": "LayoutModel",
      "state": {}
     },
     "331e771670cb4245b90eef2ba1dcb47c": {
      "model_module": "@jupyter-widgets/controls",
      "model_module_version": "2.0.0",
      "model_name": "ProgressStyleModel",
      "state": {
       "description_width": ""
      }
     },
     "3330f261dc0d47c9a4bb43417ed34711": {
      "model_module": "@jupyter-widgets/controls",
      "model_module_version": "2.0.0",
      "model_name": "FloatProgressModel",
      "state": {
       "layout": "IPY_MODEL_df378aa0d9734ba189108b181afea565",
       "max": 10000,
       "style": "IPY_MODEL_6a96b5947f3241aa840ad5e0a4e79eec",
       "value": 10000
      }
     },
     "33a25eb11393416e9474a57054eef925": {
      "model_module": "@jupyter-widgets/base",
      "model_module_version": "2.0.0",
      "model_name": "LayoutModel",
      "state": {}
     },
     "33d29e5137784f97bcba0b2da26b3eee": {
      "model_module": "@jupyter-widgets/controls",
      "model_module_version": "2.0.0",
      "model_name": "ProgressStyleModel",
      "state": {
       "bar_color": "#223388",
       "description_width": ""
      }
     },
     "33de968a38344ba9a8046b81ad74c04a": {
      "model_module": "@jupyter-widgets/base",
      "model_module_version": "2.0.0",
      "model_name": "LayoutModel",
      "state": {}
     },
     "345ff15ad462427f8e403a15188cc250": {
      "model_module": "@jupyter-widgets/controls",
      "model_module_version": "2.0.0",
      "model_name": "HTMLModel",
      "state": {
       "layout": "IPY_MODEL_751226d78e7d49c2b5c85e114bc78b2e",
       "style": "IPY_MODEL_0385760253c94035a46c6d32f75503ac",
       "value": "  0%"
      }
     },
     "348e445d0d4849918051f1feb5dcbb0b": {
      "model_module": "@jupyter-widgets/base",
      "model_module_version": "2.0.0",
      "model_name": "LayoutModel",
      "state": {
       "visibility": "hidden"
      }
     },
     "3507882ad6c04612bbbe16b1f459c783": {
      "model_module": "@jupyter-widgets/controls",
      "model_module_version": "2.0.0",
      "model_name": "FloatProgressModel",
      "state": {
       "bar_style": "success",
       "layout": "IPY_MODEL_159a4d2b4562401d839d825ae750c505",
       "max": 5,
       "style": "IPY_MODEL_6cf3282ab5d9448fa53d2856074ae9b0",
       "value": 5
      }
     },
     "354ba7912365421a9d6129b5dab64dff": {
      "model_module": "@jupyter-widgets/controls",
      "model_module_version": "2.0.0",
      "model_name": "HTMLStyleModel",
      "state": {
       "description_width": "",
       "font_size": null,
       "text_color": null
      }
     },
     "35608d7d2b6845b3b2546572a0c09608": {
      "model_module": "@jupyter-widgets/controls",
      "model_module_version": "2.0.0",
      "model_name": "FloatProgressModel",
      "state": {
       "layout": "IPY_MODEL_b9de19c86dd74f1691b0454e92b1a924",
       "max": 10,
       "style": "IPY_MODEL_53fb1e0b398c495f89c0d8e2f3bf7889",
       "value": 10
      }
     },
     "35cbfe852c0c464b9e5b61b22f47add9": {
      "model_module": "@jupyter-widgets/controls",
      "model_module_version": "2.0.0",
      "model_name": "ProgressStyleModel",
      "state": {
       "bar_color": "#223388",
       "description_width": ""
      }
     },
     "35dd0fc62d2c40bfa8e65be8b402ce15": {
      "model_module": "@jupyter-widgets/base",
      "model_module_version": "2.0.0",
      "model_name": "LayoutModel",
      "state": {}
     },
     "362684e24e6a4fb8b03a193b5b4cbae4": {
      "model_module": "@jupyter-widgets/controls",
      "model_module_version": "2.0.0",
      "model_name": "ProgressStyleModel",
      "state": {
       "bar_color": "#223388",
       "description_width": ""
      }
     },
     "36c46e46fcea45b8b4c6d80933f9292b": {
      "model_module": "@jupyter-widgets/base",
      "model_module_version": "2.0.0",
      "model_name": "LayoutModel",
      "state": {}
     },
     "3759ddb6e24746dc8bb7327ed66be49a": {
      "model_module": "@jupyter-widgets/base",
      "model_module_version": "2.0.0",
      "model_name": "LayoutModel",
      "state": {}
     },
     "37b4927bd61f41bab285408e96f24bcd": {
      "model_module": "@jupyter-widgets/base",
      "model_module_version": "2.0.0",
      "model_name": "LayoutModel",
      "state": {}
     },
     "37f2e3eab13b4464b240d194a2ecc9ab": {
      "model_module": "@jupyter-widgets/controls",
      "model_module_version": "2.0.0",
      "model_name": "FloatProgressModel",
      "state": {
       "bar_style": "danger",
       "layout": "IPY_MODEL_edf0fd6e5cb64f0f90feb9c20214d357",
       "max": 5,
       "style": "IPY_MODEL_4a7d757229c24ea7aeb23942f6d93c33"
      }
     },
     "387ef1d03eb3445e9e52b9a7f3156286": {
      "model_module": "@jupyter-widgets/base",
      "model_module_version": "2.0.0",
      "model_name": "LayoutModel",
      "state": {}
     },
     "389751002abe46a79865e89c5a843c3e": {
      "model_module": "@jupyter-widgets/controls",
      "model_module_version": "2.0.0",
      "model_name": "HTMLModel",
      "state": {
       "layout": "IPY_MODEL_a379ac6d7fe44282bcf355a4ff2bcf43",
       "style": "IPY_MODEL_ec30d605bcd84af4b387c4e0cefdb3fc",
       "value": " 6/6 [00:41&lt;00:00,  7.99s/it]"
      }
     },
     "38b7258970af4eeba73c9ee8c948340f": {
      "model_module": "@jupyter-widgets/controls",
      "model_module_version": "2.0.0",
      "model_name": "ProgressStyleModel",
      "state": {
       "description_width": ""
      }
     },
     "38b7f781803c4f10adee528607e57a1c": {
      "model_module": "@jupyter-widgets/base",
      "model_module_version": "2.0.0",
      "model_name": "LayoutModel",
      "state": {}
     },
     "38c70f2e0f46407991f441f9505acf50": {
      "model_module": "@jupyter-widgets/controls",
      "model_module_version": "2.0.0",
      "model_name": "HTMLModel",
      "state": {
       "layout": "IPY_MODEL_bd4a7cc6225948abbb365c39bdf098f7",
       "style": "IPY_MODEL_88adfa418b64433399ecb8adeb9f8c2a",
       "value": "  0%"
      }
     },
     "38c88159a9154043987776488ff390b5": {
      "model_module": "@jupyter-widgets/base",
      "model_module_version": "2.0.0",
      "model_name": "LayoutModel",
      "state": {}
     },
     "39c3a782466143d28bcc436a8cdb65a4": {
      "model_module": "@jupyter-widgets/controls",
      "model_module_version": "2.0.0",
      "model_name": "ProgressStyleModel",
      "state": {
       "bar_color": "#223388",
       "description_width": ""
      }
     },
     "39e99f558317437e8ecffabacab8d9af": {
      "model_module": "@jupyter-widgets/base",
      "model_module_version": "2.0.0",
      "model_name": "LayoutModel",
      "state": {}
     },
     "3a57df91bb0b4e7ea82369220ab16601": {
      "model_module": "@jupyter-widgets/controls",
      "model_module_version": "2.0.0",
      "model_name": "HTMLModel",
      "state": {
       "layout": "IPY_MODEL_a5a0f1e4a36d484cb485a991552625e6",
       "style": "IPY_MODEL_5c87b9ba3d924235adf84f5f3f27ab95",
       "value": " 82%"
      }
     },
     "3a79855656ba4c9c9835a7dbc3a4daab": {
      "model_module": "@jupyter-widgets/controls",
      "model_module_version": "2.0.0",
      "model_name": "HTMLModel",
      "state": {
       "layout": "IPY_MODEL_fb991ce653824a0bb82f29bd96fdbd7d",
       "style": "IPY_MODEL_f6f01e072cff4d749f71b495e6639e63",
       "value": " 0/10 [00:00&lt;?, ?it/s]"
      }
     },
     "3a935dc1c805460fb06daeb9db411b83": {
      "model_module": "@jupyter-widgets/controls",
      "model_module_version": "2.0.0",
      "model_name": "HTMLStyleModel",
      "state": {
       "description_width": "",
       "font_size": null,
       "text_color": null
      }
     },
     "3af54938e2d641cda3a463f3d482b27b": {
      "model_module": "@jupyter-widgets/base",
      "model_module_version": "2.0.0",
      "model_name": "LayoutModel",
      "state": {}
     },
     "3af577114aa74e25826ef8ea238fa2e9": {
      "model_module": "@jupyter-widgets/base",
      "model_module_version": "2.0.0",
      "model_name": "LayoutModel",
      "state": {}
     },
     "3b44381804c347258ab5ea8a0f2d1aad": {
      "model_module": "@jupyter-widgets/controls",
      "model_module_version": "2.0.0",
      "model_name": "FloatProgressModel",
      "state": {
       "layout": "IPY_MODEL_20c713d43ef545bc9fd2187f3a01af5d",
       "max": 10000,
       "style": "IPY_MODEL_b21d0c4a3ae64cf0b83e8bb478c134c5",
       "value": 10000
      }
     },
     "3b766515cedc446fbe4a8bd958128b75": {
      "model_module": "@jupyter-widgets/controls",
      "model_module_version": "2.0.0",
      "model_name": "FloatProgressModel",
      "state": {
       "layout": "IPY_MODEL_a43bc1fe9ca54bfe83dc33bf38e2f5aa",
       "max": 10000,
       "style": "IPY_MODEL_e41711597a2c4e78830a7d01aa85c608",
       "value": 10000
      }
     },
     "3bae1cee84ab4717ae58bf559f4d4d3b": {
      "model_module": "@jupyter-widgets/base",
      "model_module_version": "2.0.0",
      "model_name": "LayoutModel",
      "state": {
       "visibility": "hidden"
      }
     },
     "3bbb0c51035e40d6af1ca7f972425616": {
      "model_module": "@jupyter-widgets/base",
      "model_module_version": "2.0.0",
      "model_name": "LayoutModel",
      "state": {}
     },
     "3bcbc04808244028821fa575c42e8dec": {
      "model_module": "@jupyter-widgets/base",
      "model_module_version": "2.0.0",
      "model_name": "LayoutModel",
      "state": {
       "visibility": "hidden"
      }
     },
     "3bd010293c624d8aa746bc9f9c904035": {
      "model_module": "@jupyter-widgets/controls",
      "model_module_version": "2.0.0",
      "model_name": "HBoxModel",
      "state": {
       "children": [
        "IPY_MODEL_ecfc1c8dbfa442d2add4256d3071a56d",
        "IPY_MODEL_fb3a048bb59e4afd8dc278591b3ed7b1",
        "IPY_MODEL_436b20297813462a9462bb0d92546de3"
       ],
       "layout": "IPY_MODEL_047a0403f8ed4398833159b5ecbd32fd"
      }
     },
     "3bd5a52d3fe24baa9597016f52d73a11": {
      "model_module": "@jupyter-widgets/controls",
      "model_module_version": "2.0.0",
      "model_name": "HTMLStyleModel",
      "state": {
       "description_width": "",
       "font_size": null,
       "text_color": null
      }
     },
     "3bd7800d2ec146678490b9e9d7e4c060": {
      "model_module": "@jupyter-widgets/controls",
      "model_module_version": "2.0.0",
      "model_name": "FloatProgressModel",
      "state": {
       "layout": "IPY_MODEL_2f285574db3040189744f952ff792122",
       "max": 1000,
       "style": "IPY_MODEL_2bc62cfa71e345a59608c85adc7a689e",
       "value": 1000
      }
     },
     "3bf583e84c464da7be543b9deda0fc92": {
      "model_module": "@jupyter-widgets/controls",
      "model_module_version": "2.0.0",
      "model_name": "HTMLModel",
      "state": {
       "layout": "IPY_MODEL_e63c7436578c40ff93d1e2d987c15a94",
       "style": "IPY_MODEL_e72112f0e2de4f6c8eb6518a74c20956",
       "value": " 99%"
      }
     },
     "3c07cf3274504288968fda8a8e6cf2e2": {
      "model_module": "@jupyter-widgets/controls",
      "model_module_version": "2.0.0",
      "model_name": "HTMLStyleModel",
      "state": {
       "description_width": "",
       "font_size": null,
       "text_color": null
      }
     },
     "3c220da1a45d4bf49a0f362549c60ad2": {
      "model_module": "@jupyter-widgets/base",
      "model_module_version": "2.0.0",
      "model_name": "LayoutModel",
      "state": {
       "visibility": "hidden"
      }
     },
     "3c28413d405444c39ec85d63b65ca738": {
      "model_module": "@jupyter-widgets/controls",
      "model_module_version": "2.0.0",
      "model_name": "HTMLModel",
      "state": {
       "layout": "IPY_MODEL_15394294a8704a5196e113702058790c",
       "style": "IPY_MODEL_85abb2ce581d445685d22c0faddb57f0",
       "value": " 0/5 [00:03&lt;?, ?it/s]"
      }
     },
     "3c438398ae7d47b6b1129df8df06191c": {
      "model_module": "@jupyter-widgets/base",
      "model_module_version": "2.0.0",
      "model_name": "LayoutModel",
      "state": {}
     },
     "3ca9d51e057240dfb4d9f639c85696c3": {
      "model_module": "@jupyter-widgets/controls",
      "model_module_version": "2.0.0",
      "model_name": "HTMLStyleModel",
      "state": {
       "description_width": "",
       "font_size": null,
       "text_color": null
      }
     },
     "3cac1b9f29624600b423f54acfb8505c": {
      "model_module": "@jupyter-widgets/base",
      "model_module_version": "2.0.0",
      "model_name": "LayoutModel",
      "state": {
       "visibility": "hidden"
      }
     },
     "3caefb9e85724e6ea59a55b7d90eff52": {
      "model_module": "@jupyter-widgets/base",
      "model_module_version": "2.0.0",
      "model_name": "LayoutModel",
      "state": {}
     },
     "3cb6ad9a961d410fae4ce45a7688b366": {
      "model_module": "@jupyter-widgets/base",
      "model_module_version": "2.0.0",
      "model_name": "LayoutModel",
      "state": {
       "visibility": "hidden"
      }
     },
     "3cddfbf5479546ef873639ce12e09901": {
      "model_module": "@jupyter-widgets/base",
      "model_module_version": "2.0.0",
      "model_name": "LayoutModel",
      "state": {}
     },
     "3ce88836f04b4ff4a20fc3229da5668f": {
      "model_module": "@jupyter-widgets/controls",
      "model_module_version": "2.0.0",
      "model_name": "HTMLModel",
      "state": {
       "layout": "IPY_MODEL_761b15aaf98d41049aace0f462581c39",
       "style": "IPY_MODEL_ef86e92486f447babeb8a65df7897d94",
       "value": " 99%"
      }
     },
     "3d684958af9e4f41b31b0704506889a1": {
      "model_module": "@jupyter-widgets/controls",
      "model_module_version": "2.0.0",
      "model_name": "HTMLStyleModel",
      "state": {
       "description_width": "",
       "font_size": null,
       "text_color": null
      }
     },
     "3d7702fa8c7b4370977c56f7d81837e5": {
      "model_module": "@jupyter-widgets/base",
      "model_module_version": "2.0.0",
      "model_name": "LayoutModel",
      "state": {}
     },
     "3d8b35904aa6488cafa8c44d83c7508e": {
      "model_module": "@jupyter-widgets/controls",
      "model_module_version": "2.0.0",
      "model_name": "HTMLModel",
      "state": {
       "layout": "IPY_MODEL_44c9d0f523f8489e87146b01cab67d56",
       "style": "IPY_MODEL_9509ff66ada14dbaa33d57d64d988593",
       "value": " 0/5 [00:00&lt;?, ?it/s]"
      }
     },
     "3dfddc0c7e344e078d4c0b6b6fb5c0d7": {
      "model_module": "@jupyter-widgets/base",
      "model_module_version": "2.0.0",
      "model_name": "LayoutModel",
      "state": {}
     },
     "3e24da8fab36443f809557196a677cfd": {
      "model_module": "@jupyter-widgets/controls",
      "model_module_version": "2.0.0",
      "model_name": "HTMLModel",
      "state": {
       "layout": "IPY_MODEL_bb43b6b7ff1b40929a0b19a8df4ae8f4",
       "style": "IPY_MODEL_5135a7e269c84b17bdabb0e782551b3c",
       "value": " 9804/10000 [00:04&lt;00:00, 1951.60it/s]"
      }
     },
     "3e65c1420f974b6b8908c27bfa4f4ac8": {
      "model_module": "@jupyter-widgets/controls",
      "model_module_version": "2.0.0",
      "model_name": "HTMLStyleModel",
      "state": {
       "description_width": "",
       "font_size": null,
       "text_color": null
      }
     },
     "3e8efb09753842b1b2632e800543ae9f": {
      "model_module": "@jupyter-widgets/base",
      "model_module_version": "2.0.0",
      "model_name": "LayoutModel",
      "state": {}
     },
     "3ef948ee1c8843499f1b8e5f6d19bf58": {
      "model_module": "@jupyter-widgets/controls",
      "model_module_version": "2.0.0",
      "model_name": "HTMLStyleModel",
      "state": {
       "description_width": "",
       "font_size": null,
       "text_color": null
      }
     },
     "3ef94b7b5d0e40c1b8dc6f4bcbb58b40": {
      "model_module": "@jupyter-widgets/controls",
      "model_module_version": "2.0.0",
      "model_name": "ProgressStyleModel",
      "state": {
       "bar_color": "#223388",
       "description_width": ""
      }
     },
     "3fdc510bee244ff990bde1523fd73f2f": {
      "model_module": "@jupyter-widgets/controls",
      "model_module_version": "2.0.0",
      "model_name": "HTMLStyleModel",
      "state": {
       "description_width": "",
       "font_size": null,
       "text_color": null
      }
     },
     "3ff58b174dd14811ae65be358cc0f8c3": {
      "model_module": "@jupyter-widgets/controls",
      "model_module_version": "2.0.0",
      "model_name": "HTMLModel",
      "state": {
       "layout": "IPY_MODEL_7fe88286215347fcbc0fa7015d7f90c7",
       "style": "IPY_MODEL_3188f0708bd44966827a8f06d61be355",
       "value": " 81/100 [00:00&lt;00:00, 391.55it/s]"
      }
     },
     "40118c39743a41e29cb637351abf140c": {
      "model_module": "@jupyter-widgets/controls",
      "model_module_version": "2.0.0",
      "model_name": "HTMLStyleModel",
      "state": {
       "description_width": "",
       "font_size": null,
       "text_color": null
      }
     },
     "4025c26ca87644a78b8e332718b16efc": {
      "model_module": "@jupyter-widgets/controls",
      "model_module_version": "2.0.0",
      "model_name": "HTMLStyleModel",
      "state": {
       "description_width": "",
       "font_size": null,
       "text_color": null
      }
     },
     "40b27ea487bc4072a54df353d4282cf6": {
      "model_module": "@jupyter-widgets/base",
      "model_module_version": "2.0.0",
      "model_name": "LayoutModel",
      "state": {
       "visibility": "hidden"
      }
     },
     "40e1562696fb4c8a8f7ecc1b4b89843f": {
      "model_module": "@jupyter-widgets/base",
      "model_module_version": "2.0.0",
      "model_name": "LayoutModel",
      "state": {}
     },
     "41159d879210491baa424a49fff54cb1": {
      "model_module": "@jupyter-widgets/controls",
      "model_module_version": "2.0.0",
      "model_name": "HTMLStyleModel",
      "state": {
       "description_width": "",
       "font_size": null,
       "text_color": null
      }
     },
     "4139a42bca264f4aa861c12ed95e413c": {
      "model_module": "@jupyter-widgets/controls",
      "model_module_version": "2.0.0",
      "model_name": "ProgressStyleModel",
      "state": {
       "bar_color": "#223388",
       "description_width": ""
      }
     },
     "41425b1883344d94b29809251d654285": {
      "model_module": "@jupyter-widgets/controls",
      "model_module_version": "2.0.0",
      "model_name": "HTMLStyleModel",
      "state": {
       "description_width": "",
       "font_size": null,
       "text_color": null
      }
     },
     "4149965962694fff8fc289097735a6bd": {
      "model_module": "@jupyter-widgets/base",
      "model_module_version": "2.0.0",
      "model_name": "LayoutModel",
      "state": {}
     },
     "41526c3bdf564554acf68f0c25baf151": {
      "model_module": "@jupyter-widgets/base",
      "model_module_version": "2.0.0",
      "model_name": "LayoutModel",
      "state": {}
     },
     "4192c78cb1e14facb640299b334b6b66": {
      "model_module": "@jupyter-widgets/base",
      "model_module_version": "2.0.0",
      "model_name": "LayoutModel",
      "state": {}
     },
     "41c032e5e3b04161bec7b76d7adb2cb9": {
      "model_module": "@jupyter-widgets/base",
      "model_module_version": "2.0.0",
      "model_name": "LayoutModel",
      "state": {}
     },
     "41cedb3e7eae412f9ca6f211a00583da": {
      "model_module": "@jupyter-widgets/controls",
      "model_module_version": "2.0.0",
      "model_name": "ProgressStyleModel",
      "state": {
       "bar_color": "#223388",
       "description_width": ""
      }
     },
     "420f4486c15e4bfc94dff3fa74febfe2": {
      "model_module": "@jupyter-widgets/base",
      "model_module_version": "2.0.0",
      "model_name": "LayoutModel",
      "state": {
       "visibility": "hidden"
      }
     },
     "42190e4503324154b17870519b4c213e": {
      "model_module": "@jupyter-widgets/base",
      "model_module_version": "2.0.0",
      "model_name": "LayoutModel",
      "state": {}
     },
     "4242ecea7c084370a3fb0766dfffdfe5": {
      "model_module": "@jupyter-widgets/base",
      "model_module_version": "2.0.0",
      "model_name": "LayoutModel",
      "state": {}
     },
     "42817b2749ef487696dd2b7b47a50fc3": {
      "model_module": "@jupyter-widgets/controls",
      "model_module_version": "2.0.0",
      "model_name": "HTMLModel",
      "state": {
       "layout": "IPY_MODEL_ee8a54b3575a4d1d84935bbeb0aaf9ff",
       "style": "IPY_MODEL_80b53c381c114408a5209d3682296b95",
       "value": " 904/1000 [00:00&lt;00:00, 1709.93it/s]"
      }
     },
     "42c627c041c54efa8495ac9b0c79fda5": {
      "model_module": "@jupyter-widgets/controls",
      "model_module_version": "2.0.0",
      "model_name": "ProgressStyleModel",
      "state": {
       "bar_color": "#223388",
       "description_width": ""
      }
     },
     "42d9af332b9c4ed095e99d052e562b98": {
      "model_module": "@jupyter-widgets/base",
      "model_module_version": "2.0.0",
      "model_name": "LayoutModel",
      "state": {}
     },
     "434f7c1486aa48798a88aa139b38c5da": {
      "model_module": "@jupyter-widgets/controls",
      "model_module_version": "2.0.0",
      "model_name": "HTMLStyleModel",
      "state": {
       "description_width": "",
       "font_size": null,
       "text_color": null
      }
     },
     "436b20297813462a9462bb0d92546de3": {
      "model_module": "@jupyter-widgets/controls",
      "model_module_version": "2.0.0",
      "model_name": "HTMLModel",
      "state": {
       "layout": "IPY_MODEL_512c0da6f68b4314acef3a1f0378d4d5",
       "style": "IPY_MODEL_e1cc0b55c30b4169932d41c255e345c4",
       "value": " 0/5 [00:00&lt;?, ?it/s]"
      }
     },
     "43d3adfd72c54b18b1e2d41772b00f33": {
      "model_module": "@jupyter-widgets/base",
      "model_module_version": "2.0.0",
      "model_name": "LayoutModel",
      "state": {}
     },
     "43d48d6e58c94fbdab0117c989978879": {
      "model_module": "@jupyter-widgets/controls",
      "model_module_version": "2.0.0",
      "model_name": "ProgressStyleModel",
      "state": {
       "bar_color": "#223388",
       "description_width": ""
      }
     },
     "43dbf6c056fe4278a222d1178678e6cb": {
      "model_module": "@jupyter-widgets/controls",
      "model_module_version": "2.0.0",
      "model_name": "HTMLModel",
      "state": {
       "layout": "IPY_MODEL_7bc2e608944f4fbe8cbeee98d662f3e9",
       "style": "IPY_MODEL_c24f38f442f047b5a499f086fea3f750",
       "value": "  7%"
      }
     },
     "43f655e1827f49bd9df1cd5d7f4c440b": {
      "model_module": "@jupyter-widgets/controls",
      "model_module_version": "2.0.0",
      "model_name": "HTMLStyleModel",
      "state": {
       "description_width": "",
       "font_size": null,
       "text_color": null
      }
     },
     "446e7574c85a4e4d9ad6d85986fcb96a": {
      "model_module": "@jupyter-widgets/base",
      "model_module_version": "2.0.0",
      "model_name": "LayoutModel",
      "state": {
       "visibility": "hidden"
      }
     },
     "44a9b0492a434e1d81de404181167786": {
      "model_module": "@jupyter-widgets/controls",
      "model_module_version": "2.0.0",
      "model_name": "HTMLStyleModel",
      "state": {
       "description_width": "",
       "font_size": null,
       "text_color": null
      }
     },
     "44c9d0f523f8489e87146b01cab67d56": {
      "model_module": "@jupyter-widgets/base",
      "model_module_version": "2.0.0",
      "model_name": "LayoutModel",
      "state": {}
     },
     "44d584f1c44347738f9d3ea517f3beab": {
      "model_module": "@jupyter-widgets/controls",
      "model_module_version": "2.0.0",
      "model_name": "HTMLModel",
      "state": {
       "layout": "IPY_MODEL_56b2781056764044ab3669660ae3f17d",
       "style": "IPY_MODEL_6c28896ec43448d7aac3eaeee96c7c40",
       "value": " 957/1000 [00:00&lt;00:00, 1828.83it/s]"
      }
     },
     "456880f9717d44d59120a6ebc46cc14d": {
      "model_module": "@jupyter-widgets/controls",
      "model_module_version": "2.0.0",
      "model_name": "FloatProgressModel",
      "state": {
       "layout": "IPY_MODEL_a16e5a610d4a426586edbe7b9f1015c5",
       "max": 10000,
       "style": "IPY_MODEL_4139a42bca264f4aa861c12ed95e413c",
       "value": 10000
      }
     },
     "458a4a295b304db4b104c0c9f0dc9edc": {
      "model_module": "@jupyter-widgets/controls",
      "model_module_version": "2.0.0",
      "model_name": "HTMLModel",
      "state": {
       "layout": "IPY_MODEL_255a989b32a04890aa2a6cb555582deb",
       "style": "IPY_MODEL_88959957b618439c8d3f460b82391173",
       "value": "100%"
      }
     },
     "45d454fde2584fa68812411ec83de0ac": {
      "model_module": "@jupyter-widgets/base",
      "model_module_version": "2.0.0",
      "model_name": "LayoutModel",
      "state": {}
     },
     "45efe5010dd34dbaa576e471f137a3f7": {
      "model_module": "@jupyter-widgets/controls",
      "model_module_version": "2.0.0",
      "model_name": "HTMLModel",
      "state": {
       "layout": "IPY_MODEL_1044d60546784b87948b903bca2dfe04",
       "style": "IPY_MODEL_fdd96bf9b0f646e8a575084c6615e8ff",
       "value": "  0%"
      }
     },
     "461457f327c245198824f78b0100043f": {
      "model_module": "@jupyter-widgets/base",
      "model_module_version": "2.0.0",
      "model_name": "LayoutModel",
      "state": {
       "visibility": "hidden"
      }
     },
     "46333c77e0d840bd87b27d074f59038c": {
      "model_module": "@jupyter-widgets/controls",
      "model_module_version": "2.0.0",
      "model_name": "HTMLModel",
      "state": {
       "layout": "IPY_MODEL_3d7702fa8c7b4370977c56f7d81837e5",
       "style": "IPY_MODEL_4ccbcce7f0b244e7a810d720997f3120",
       "value": "  0%"
      }
     },
     "46359ed9b14948818fc1c7577d0d0cf0": {
      "model_module": "@jupyter-widgets/controls",
      "model_module_version": "2.0.0",
      "model_name": "HTMLStyleModel",
      "state": {
       "description_width": "",
       "font_size": null,
       "text_color": null
      }
     },
     "4649f5123a2c44c480c7b27bb54537f5": {
      "model_module": "@jupyter-widgets/base",
      "model_module_version": "2.0.0",
      "model_name": "LayoutModel",
      "state": {}
     },
     "46694d6d33b2461fa4d7010e28bd286e": {
      "model_module": "@jupyter-widgets/base",
      "model_module_version": "2.0.0",
      "model_name": "LayoutModel",
      "state": {}
     },
     "4673451723194d0bae35b234054d4e0a": {
      "model_module": "@jupyter-widgets/controls",
      "model_module_version": "2.0.0",
      "model_name": "HTMLStyleModel",
      "state": {
       "description_width": "",
       "font_size": null,
       "text_color": null
      }
     },
     "4692d576342544198d719917b4c8387f": {
      "model_module": "@jupyter-widgets/base",
      "model_module_version": "2.0.0",
      "model_name": "LayoutModel",
      "state": {
       "visibility": "hidden"
      }
     },
     "46b168003227468cb302756a0c70265d": {
      "model_module": "@jupyter-widgets/controls",
      "model_module_version": "2.0.0",
      "model_name": "HTMLModel",
      "state": {
       "layout": "IPY_MODEL_c6d91a01a1f646c3a092b8a5f2dcfad0",
       "style": "IPY_MODEL_6b1b612be1f14860812e305bcea20db2",
       "value": " 9916/10000 [00:11&lt;00:00, 903.23it/s]"
      }
     },
     "472d1e685fa0464687e3e7d9fdc38f95": {
      "model_module": "@jupyter-widgets/base",
      "model_module_version": "2.0.0",
      "model_name": "LayoutModel",
      "state": {}
     },
     "4738bd7bb6a648eda9fb15526a7fdf4b": {
      "model_module": "@jupyter-widgets/controls",
      "model_module_version": "2.0.0",
      "model_name": "HTMLStyleModel",
      "state": {
       "description_width": "",
       "font_size": null,
       "text_color": null
      }
     },
     "478eadaa02c848f88f16c5c71a9f740a": {
      "model_module": "@jupyter-widgets/controls",
      "model_module_version": "2.0.0",
      "model_name": "HTMLModel",
      "state": {
       "layout": "IPY_MODEL_f22492a491174faa893d6781f6a8129b",
       "style": "IPY_MODEL_bd53774942694f06bca52a80df202aec",
       "value": " 0/10 [00:00&lt;?, ?it/s]"
      }
     },
     "479023ead5dd4f39b90d1f93fa51bf31": {
      "model_module": "@jupyter-widgets/base",
      "model_module_version": "2.0.0",
      "model_name": "LayoutModel",
      "state": {}
     },
     "47f8d605eabc4e789bf5e7dd936f582f": {
      "model_module": "@jupyter-widgets/base",
      "model_module_version": "2.0.0",
      "model_name": "LayoutModel",
      "state": {}
     },
     "483a973478ca466e9cdb154f0390197c": {
      "model_module": "@jupyter-widgets/controls",
      "model_module_version": "2.0.0",
      "model_name": "HTMLModel",
      "state": {
       "layout": "IPY_MODEL_b2e76271dc9d4574ad857850515942ec",
       "style": "IPY_MODEL_08613c0b4cd940a0a197a2213f675336",
       "value": " 95%"
      }
     },
     "485329dd0f5d46749173d5c7e923a5d9": {
      "model_module": "@jupyter-widgets/controls",
      "model_module_version": "2.0.0",
      "model_name": "HTMLStyleModel",
      "state": {
       "description_width": "",
       "font_size": null,
       "text_color": null
      }
     },
     "4853fd6feb084ceb9d4241f45a3635ec": {
      "model_module": "@jupyter-widgets/controls",
      "model_module_version": "2.0.0",
      "model_name": "HTMLStyleModel",
      "state": {
       "description_width": "",
       "font_size": null,
       "text_color": null
      }
     },
     "485c1e1c7e714c409de4a044d65cedbd": {
      "model_module": "@jupyter-widgets/base",
      "model_module_version": "2.0.0",
      "model_name": "LayoutModel",
      "state": {}
     },
     "4952ca74135e4e9a900c4087ac04b200": {
      "model_module": "@jupyter-widgets/controls",
      "model_module_version": "2.0.0",
      "model_name": "ProgressStyleModel",
      "state": {
       "bar_color": "#223388",
       "description_width": ""
      }
     },
     "4a48a3f0ab5d4a3999797ea1b3225caf": {
      "model_module": "@jupyter-widgets/controls",
      "model_module_version": "2.0.0",
      "model_name": "FloatProgressModel",
      "state": {
       "layout": "IPY_MODEL_4ea13b8c0576415ca827b13ae95c16a1",
       "max": 10000,
       "style": "IPY_MODEL_d25149740d8544dc9f8f5a7b471de06a",
       "value": 10000
      }
     },
     "4a55f8e8df6e45859e781f445ceb92b3": {
      "model_module": "@jupyter-widgets/base",
      "model_module_version": "2.0.0",
      "model_name": "LayoutModel",
      "state": {}
     },
     "4a7d757229c24ea7aeb23942f6d93c33": {
      "model_module": "@jupyter-widgets/controls",
      "model_module_version": "2.0.0",
      "model_name": "ProgressStyleModel",
      "state": {
       "description_width": ""
      }
     },
     "4ada072fcccf4e3aa5d7068db6dc3df6": {
      "model_module": "@jupyter-widgets/controls",
      "model_module_version": "2.0.0",
      "model_name": "ProgressStyleModel",
      "state": {
       "bar_color": "#223388",
       "description_width": ""
      }
     },
     "4ae00a5370e241a0847309f1024c0d9f": {
      "model_module": "@jupyter-widgets/base",
      "model_module_version": "2.0.0",
      "model_name": "LayoutModel",
      "state": {}
     },
     "4b05c6818d234b6eaccccf02a1617c56": {
      "model_module": "@jupyter-widgets/controls",
      "model_module_version": "2.0.0",
      "model_name": "HTMLStyleModel",
      "state": {
       "description_width": "",
       "font_size": null,
       "text_color": null
      }
     },
     "4b1f6ef83c254fc49e8dbf80054ce7c6": {
      "model_module": "@jupyter-widgets/base",
      "model_module_version": "2.0.0",
      "model_name": "LayoutModel",
      "state": {}
     },
     "4b4a16b5a933439bab8bd569e7f079f4": {
      "model_module": "@jupyter-widgets/controls",
      "model_module_version": "2.0.0",
      "model_name": "HTMLModel",
      "state": {
       "layout": "IPY_MODEL_ff9c7d21387a4a51ac65e667eedfd412",
       "style": "IPY_MODEL_a28d316f48e248a4938dda61fb9c6272",
       "value": "  0%"
      }
     },
     "4b7ce0ad2ae14f5ebea77ee45293f708": {
      "model_module": "@jupyter-widgets/base",
      "model_module_version": "2.0.0",
      "model_name": "LayoutModel",
      "state": {}
     },
     "4b838a2f47434c8aa07a234fcf88dec6": {
      "model_module": "@jupyter-widgets/controls",
      "model_module_version": "2.0.0",
      "model_name": "HTMLModel",
      "state": {
       "layout": "IPY_MODEL_b709ef35d99d4c5693570ae8709523b8",
       "style": "IPY_MODEL_a6d96927b5e1483a9425a1b600e7d5c0",
       "value": "  0%"
      }
     },
     "4b86bc57feee41738c6f0ad4e35e24b4": {
      "model_module": "@jupyter-widgets/controls",
      "model_module_version": "2.0.0",
      "model_name": "FloatProgressModel",
      "state": {
       "layout": "IPY_MODEL_3051f4b877544a07bb3a4759b5e4a39a",
       "max": 10,
       "style": "IPY_MODEL_1a803db57a28457fb49084c758edd387",
       "value": 10
      }
     },
     "4ba22c66f8fb4b07a35243ab572bddd3": {
      "model_module": "@jupyter-widgets/controls",
      "model_module_version": "2.0.0",
      "model_name": "HTMLModel",
      "state": {
       "layout": "IPY_MODEL_58a2d34f06f84ceb9d35954153b93800",
       "style": "IPY_MODEL_a1fa4552f55a4dfa9c0289c6878afea0",
       "value": " 94%"
      }
     },
     "4c0683216187441393d37dae757e813f": {
      "model_module": "@jupyter-widgets/controls",
      "model_module_version": "2.0.0",
      "model_name": "HTMLStyleModel",
      "state": {
       "description_width": "",
       "font_size": null,
       "text_color": null
      }
     },
     "4c4394282d924b62b49e13bb33ee53db": {
      "model_module": "@jupyter-widgets/controls",
      "model_module_version": "2.0.0",
      "model_name": "FloatProgressModel",
      "state": {
       "bar_style": "success",
       "layout": "IPY_MODEL_2d15c41c2ffd4b9a9f9f773a9cd758e6",
       "max": 5,
       "style": "IPY_MODEL_cf8b3476b227439890454797593c9fb8",
       "value": 5
      }
     },
     "4cbc66f7e2af4952ba6f111822cefa43": {
      "model_module": "@jupyter-widgets/controls",
      "model_module_version": "2.0.0",
      "model_name": "HBoxModel",
      "state": {
       "children": [
        "IPY_MODEL_8db184e9c8734283a278a944476d5621",
        "IPY_MODEL_a173a6b55ee649ebae54d8cc5398114e",
        "IPY_MODEL_389751002abe46a79865e89c5a843c3e"
       ],
       "layout": "IPY_MODEL_4149965962694fff8fc289097735a6bd"
      }
     },
     "4ccbcce7f0b244e7a810d720997f3120": {
      "model_module": "@jupyter-widgets/controls",
      "model_module_version": "2.0.0",
      "model_name": "HTMLStyleModel",
      "state": {
       "description_width": "",
       "font_size": null,
       "text_color": null
      }
     },
     "4d140652e8b545aa821969aa3251fa50": {
      "model_module": "@jupyter-widgets/controls",
      "model_module_version": "2.0.0",
      "model_name": "HTMLModel",
      "state": {
       "layout": "IPY_MODEL_6d6bcec051e4451eabfc7568470a15b9",
       "style": "IPY_MODEL_7d7f4ffca20e403b8e50a0d4538da44d",
       "value": "100%"
      }
     },
     "4d6b44a2dcee4f4eb5f90d0f2ac41853": {
      "model_module": "@jupyter-widgets/controls",
      "model_module_version": "2.0.0",
      "model_name": "HTMLModel",
      "state": {
       "layout": "IPY_MODEL_ed0ec10166534f2697040434df482538",
       "style": "IPY_MODEL_b9ceca44aece4cf0b8e6894df42abae7",
       "value": "  0%"
      }
     },
     "4dd7c96d67f34090aee21a76c59de285": {
      "model_module": "@jupyter-widgets/base",
      "model_module_version": "2.0.0",
      "model_name": "LayoutModel",
      "state": {}
     },
     "4de1cfacff6343b5819554d4b2684a88": {
      "model_module": "@jupyter-widgets/controls",
      "model_module_version": "2.0.0",
      "model_name": "HTMLStyleModel",
      "state": {
       "description_width": "",
       "font_size": null,
       "text_color": null
      }
     },
     "4dfcac74b8fc46209e3acb74e4de0e3e": {
      "model_module": "@jupyter-widgets/controls",
      "model_module_version": "2.0.0",
      "model_name": "HTMLModel",
      "state": {
       "layout": "IPY_MODEL_5b5d31fc1ac14424bda13cea8efacf8b",
       "style": "IPY_MODEL_ee2c08900d134de8800025cf2361c1dc",
       "value": " 86%"
      }
     },
     "4e10c33048ec424c82936bc608abadf0": {
      "model_module": "@jupyter-widgets/base",
      "model_module_version": "2.0.0",
      "model_name": "LayoutModel",
      "state": {}
     },
     "4ea13b8c0576415ca827b13ae95c16a1": {
      "model_module": "@jupyter-widgets/base",
      "model_module_version": "2.0.0",
      "model_name": "LayoutModel",
      "state": {}
     },
     "4eb9f6ad7f2c471780d30b7d710a78de": {
      "model_module": "@jupyter-widgets/controls",
      "model_module_version": "2.0.0",
      "model_name": "HTMLModel",
      "state": {
       "layout": "IPY_MODEL_d12b38a80bbb4e9ebb1fddfd636af8d5",
       "style": "IPY_MODEL_c01c070a9c7141ab9b04e8ac77ea948b",
       "value": " 4047/10000 [00:02&lt;00:03, 1831.75it/s]"
      }
     },
     "4fc9e28fd28c40cfb900e2869c5fde29": {
      "model_module": "@jupyter-widgets/base",
      "model_module_version": "2.0.0",
      "model_name": "LayoutModel",
      "state": {
       "visibility": "hidden"
      }
     },
     "500f5bd286994c68b295ccee9bb9df7d": {
      "model_module": "@jupyter-widgets/base",
      "model_module_version": "2.0.0",
      "model_name": "LayoutModel",
      "state": {
       "visibility": "hidden"
      }
     },
     "5015fd8323904550b73749922afc8f89": {
      "model_module": "@jupyter-widgets/controls",
      "model_module_version": "2.0.0",
      "model_name": "HTMLModel",
      "state": {
       "layout": "IPY_MODEL_d5eaf1fe54db4af68e3e2d76a8d214cf",
       "style": "IPY_MODEL_63a86d6086434841a66f8214a151dcbc",
       "value": " 0/10 [00:00&lt;?, ?it/s]"
      }
     },
     "5035094f7e6b4fd2a21e70e15773b1b3": {
      "model_module": "@jupyter-widgets/controls",
      "model_module_version": "2.0.0",
      "model_name": "HTMLModel",
      "state": {
       "layout": "IPY_MODEL_af9916d860884e57a76ea966913b1a07",
       "style": "IPY_MODEL_4738bd7bb6a648eda9fb15526a7fdf4b",
       "value": "  0%"
      }
     },
     "50e13daed4004f1293f2f6a9019a8b34": {
      "model_module": "@jupyter-widgets/controls",
      "model_module_version": "2.0.0",
      "model_name": "FloatProgressModel",
      "state": {
       "layout": "IPY_MODEL_02f7ac479db949af899d10809a66aedc",
       "max": 10,
       "style": "IPY_MODEL_12f31da077e24f7b99d7f70140e75514",
       "value": 10
      }
     },
     "50f62c7b0aab443cbc5b4be7eff09b3f": {
      "model_module": "@jupyter-widgets/controls",
      "model_module_version": "2.0.0",
      "model_name": "FloatProgressModel",
      "state": {
       "layout": "IPY_MODEL_e976c92b7528443dab762d1a31e2f123",
       "max": 10,
       "style": "IPY_MODEL_c3a1ba7cae334c9d803bba41aced6226",
       "value": 10
      }
     },
     "511932ae120142e3b0292d05469385ed": {
      "model_module": "@jupyter-widgets/controls",
      "model_module_version": "2.0.0",
      "model_name": "ProgressStyleModel",
      "state": {
       "bar_color": "#223388",
       "description_width": ""
      }
     },
     "512c0da6f68b4314acef3a1f0378d4d5": {
      "model_module": "@jupyter-widgets/base",
      "model_module_version": "2.0.0",
      "model_name": "LayoutModel",
      "state": {}
     },
     "5135a7e269c84b17bdabb0e782551b3c": {
      "model_module": "@jupyter-widgets/controls",
      "model_module_version": "2.0.0",
      "model_name": "HTMLStyleModel",
      "state": {
       "description_width": "",
       "font_size": null,
       "text_color": null
      }
     },
     "5192f565a1b84ff3b5e167de82527719": {
      "model_module": "@jupyter-widgets/controls",
      "model_module_version": "2.0.0",
      "model_name": "HTMLModel",
      "state": {
       "layout": "IPY_MODEL_f75c4b598b374a6989da94091eda0825",
       "style": "IPY_MODEL_a634e71fa60143ab8e3bf1ade3adfa58",
       "value": "100%"
      }
     },
     "51ca09edb7684270b7696dea5ae9e1e1": {
      "model_module": "@jupyter-widgets/base",
      "model_module_version": "2.0.0",
      "model_name": "LayoutModel",
      "state": {}
     },
     "522ea10891b4486888b4fb7cc7350bdd": {
      "model_module": "@jupyter-widgets/base",
      "model_module_version": "2.0.0",
      "model_name": "LayoutModel",
      "state": {}
     },
     "52edae612a4e4490bb5d120eaeb4e0cc": {
      "model_module": "@jupyter-widgets/controls",
      "model_module_version": "2.0.0",
      "model_name": "HTMLModel",
      "state": {
       "layout": "IPY_MODEL_3af54938e2d641cda3a463f3d482b27b",
       "style": "IPY_MODEL_7e78813cbc8b4e19bc59c10d479c7287",
       "value": " 99%"
      }
     },
     "5314f55d1eb6473e8803b7d6440db0a1": {
      "model_module": "@jupyter-widgets/controls",
      "model_module_version": "2.0.0",
      "model_name": "HTMLStyleModel",
      "state": {
       "description_width": "",
       "font_size": null,
       "text_color": null
      }
     },
     "53486406e1164a66a3f9963531a50863": {
      "model_module": "@jupyter-widgets/controls",
      "model_module_version": "2.0.0",
      "model_name": "FloatProgressModel",
      "state": {
       "bar_style": "success",
       "layout": "IPY_MODEL_22f00e83c812446287d22f93203adb75",
       "max": 5,
       "style": "IPY_MODEL_c8c6da1fe0624878adabd386481798b6",
       "value": 5
      }
     },
     "538d547db8aa473494a9a0d152a70020": {
      "model_module": "@jupyter-widgets/base",
      "model_module_version": "2.0.0",
      "model_name": "LayoutModel",
      "state": {
       "visibility": "hidden"
      }
     },
     "5395ef9393964be48e8cc06be5817b34": {
      "model_module": "@jupyter-widgets/controls",
      "model_module_version": "2.0.0",
      "model_name": "HTMLModel",
      "state": {
       "layout": "IPY_MODEL_cd6a53ffa15048189855e374ecaaa334",
       "style": "IPY_MODEL_40118c39743a41e29cb637351abf140c",
       "value": " 5/5 [00:00&lt;00:00, 19.13it/s]"
      }
     },
     "53da31cb1ccc4a68974dd800295ab245": {
      "model_module": "@jupyter-widgets/base",
      "model_module_version": "2.0.0",
      "model_name": "LayoutModel",
      "state": {}
     },
     "53df734b79a1473ba5d7b7bbef5e50bd": {
      "model_module": "@jupyter-widgets/controls",
      "model_module_version": "2.0.0",
      "model_name": "HTMLModel",
      "state": {
       "layout": "IPY_MODEL_9314eda865944864b737a2ef57c570fa",
       "style": "IPY_MODEL_f2d0de23ffe149cf98f966013971bf8b",
       "value": " 0/10 [00:00&lt;?, ?it/s]"
      }
     },
     "53e48f10de454405b227cda850ee47cd": {
      "model_module": "@jupyter-widgets/controls",
      "model_module_version": "2.0.0",
      "model_name": "ProgressStyleModel",
      "state": {
       "bar_color": "#223388",
       "description_width": ""
      }
     },
     "53f4f150d74d47eca239fcfbac9f64a5": {
      "model_module": "@jupyter-widgets/base",
      "model_module_version": "2.0.0",
      "model_name": "LayoutModel",
      "state": {}
     },
     "53fb1e0b398c495f89c0d8e2f3bf7889": {
      "model_module": "@jupyter-widgets/controls",
      "model_module_version": "2.0.0",
      "model_name": "ProgressStyleModel",
      "state": {
       "bar_color": "#223388",
       "description_width": ""
      }
     },
     "54633b0cbf0d462da57ca8077b8118d1": {
      "model_module": "@jupyter-widgets/base",
      "model_module_version": "2.0.0",
      "model_name": "LayoutModel",
      "state": {}
     },
     "54846594b5ae46228aae7e8d46c419a8": {
      "model_module": "@jupyter-widgets/base",
      "model_module_version": "2.0.0",
      "model_name": "LayoutModel",
      "state": {}
     },
     "548a4e0c3bc54cfba741969deefd8098": {
      "model_module": "@jupyter-widgets/controls",
      "model_module_version": "2.0.0",
      "model_name": "HTMLStyleModel",
      "state": {
       "description_width": "",
       "font_size": null,
       "text_color": null
      }
     },
     "549c022fba6443db81850ad8f3bb78e2": {
      "model_module": "@jupyter-widgets/controls",
      "model_module_version": "2.0.0",
      "model_name": "FloatProgressModel",
      "state": {
       "layout": "IPY_MODEL_78ddfbfee0e043ee87c15a121ea1f4bf",
       "max": 1000,
       "style": "IPY_MODEL_649d87a3a5b042b28215d1b6a9e3d708",
       "value": 1000
      }
     },
     "54d833b9c50345229fdd6b5846146dee": {
      "model_module": "@jupyter-widgets/base",
      "model_module_version": "2.0.0",
      "model_name": "LayoutModel",
      "state": {
       "visibility": "hidden"
      }
     },
     "55552fc1ead047fea5959ffacd0e5073": {
      "model_module": "@jupyter-widgets/base",
      "model_module_version": "2.0.0",
      "model_name": "LayoutModel",
      "state": {}
     },
     "55c64d733dc747b89d0145f0711c5537": {
      "model_module": "@jupyter-widgets/base",
      "model_module_version": "2.0.0",
      "model_name": "LayoutModel",
      "state": {
       "visibility": "hidden"
      }
     },
     "561614b01ed8417a9c6e630eff2191f3": {
      "model_module": "@jupyter-widgets/controls",
      "model_module_version": "2.0.0",
      "model_name": "HTMLStyleModel",
      "state": {
       "description_width": "",
       "font_size": null,
       "text_color": null
      }
     },
     "566fb69d47a24316bbf47c5497bd7347": {
      "model_module": "@jupyter-widgets/base",
      "model_module_version": "2.0.0",
      "model_name": "LayoutModel",
      "state": {}
     },
     "567393e606d940a6b63e232afe78c092": {
      "model_module": "@jupyter-widgets/base",
      "model_module_version": "2.0.0",
      "model_name": "LayoutModel",
      "state": {}
     },
     "56b2781056764044ab3669660ae3f17d": {
      "model_module": "@jupyter-widgets/base",
      "model_module_version": "2.0.0",
      "model_name": "LayoutModel",
      "state": {}
     },
     "56c7e7de810542339dc1d7e128f493f7": {
      "model_module": "@jupyter-widgets/controls",
      "model_module_version": "2.0.0",
      "model_name": "HTMLStyleModel",
      "state": {
       "description_width": "",
       "font_size": null,
       "text_color": null
      }
     },
     "56dd0a2de52048188bc283777cedd64d": {
      "model_module": "@jupyter-widgets/controls",
      "model_module_version": "2.0.0",
      "model_name": "HTMLModel",
      "state": {
       "layout": "IPY_MODEL_a4777aec3bd542cf9da20a243ca148dc",
       "style": "IPY_MODEL_d77605b6815d4a76a4cc8412faabf7be",
       "value": " 99%"
      }
     },
     "56dd3bd16b2f4f60aea364b1da8d5ae2": {
      "model_module": "@jupyter-widgets/controls",
      "model_module_version": "2.0.0",
      "model_name": "HTMLStyleModel",
      "state": {
       "description_width": "",
       "font_size": null,
       "text_color": null
      }
     },
     "571bd8147cc6483db71d84f3967a57d7": {
      "model_module": "@jupyter-widgets/base",
      "model_module_version": "2.0.0",
      "model_name": "LayoutModel",
      "state": {}
     },
     "5749023e33204676b1e5fb6f2733b88c": {
      "model_module": "@jupyter-widgets/controls",
      "model_module_version": "2.0.0",
      "model_name": "HTMLStyleModel",
      "state": {
       "description_width": "",
       "font_size": null,
       "text_color": null
      }
     },
     "574da26f20f745b3a3e11f86ea7cfabd": {
      "model_module": "@jupyter-widgets/controls",
      "model_module_version": "2.0.0",
      "model_name": "ProgressStyleModel",
      "state": {
       "bar_color": "#223388",
       "description_width": ""
      }
     },
     "575c668fc5f4432ca365767ae7b4e294": {
      "model_module": "@jupyter-widgets/controls",
      "model_module_version": "2.0.0",
      "model_name": "HBoxModel",
      "state": {
       "children": [
        "IPY_MODEL_d58b5235a8e24ab38beb445e6afcdd43",
        "IPY_MODEL_92774e6e06de4a41acdaf569b0763a45",
        "IPY_MODEL_c4e45817a52c45c188e95d440606f6b6"
       ],
       "layout": "IPY_MODEL_3dfddc0c7e344e078d4c0b6b6fb5c0d7"
      }
     },
     "57def9f2b83b42ab93c787b4234c4547": {
      "model_module": "@jupyter-widgets/base",
      "model_module_version": "2.0.0",
      "model_name": "LayoutModel",
      "state": {}
     },
     "57e0fbeec36d42e3ac8905ad7d2abd3a": {
      "model_module": "@jupyter-widgets/controls",
      "model_module_version": "2.0.0",
      "model_name": "HTMLStyleModel",
      "state": {
       "description_width": "",
       "font_size": null,
       "text_color": null
      }
     },
     "584451423f174292adf531820d0ca254": {
      "model_module": "@jupyter-widgets/base",
      "model_module_version": "2.0.0",
      "model_name": "LayoutModel",
      "state": {}
     },
     "58520fa606194f329c5af1f975dd059e": {
      "model_module": "@jupyter-widgets/controls",
      "model_module_version": "2.0.0",
      "model_name": "HTMLStyleModel",
      "state": {
       "description_width": "",
       "font_size": null,
       "text_color": null
      }
     },
     "58534873d7b64dbaa26de7453f8f3deb": {
      "model_module": "@jupyter-widgets/base",
      "model_module_version": "2.0.0",
      "model_name": "LayoutModel",
      "state": {}
     },
     "58922e7e939243259c690b7d043d7d04": {
      "model_module": "@jupyter-widgets/controls",
      "model_module_version": "2.0.0",
      "model_name": "HTMLModel",
      "state": {
       "layout": "IPY_MODEL_e79537019ed049abb718fdb8dc463f28",
       "style": "IPY_MODEL_db75bc70999d4ab984e46451f7da8152",
       "value": " 9957/10000 [00:05&lt;00:00, 1994.71it/s]"
      }
     },
     "589d9767f02149379f51a289f60a247e": {
      "model_module": "@jupyter-widgets/base",
      "model_module_version": "2.0.0",
      "model_name": "LayoutModel",
      "state": {}
     },
     "58a2d34f06f84ceb9d35954153b93800": {
      "model_module": "@jupyter-widgets/base",
      "model_module_version": "2.0.0",
      "model_name": "LayoutModel",
      "state": {}
     },
     "58c49cac91a447c09e41ced75aee6b8a": {
      "model_module": "@jupyter-widgets/controls",
      "model_module_version": "2.0.0",
      "model_name": "HTMLModel",
      "state": {
       "layout": "IPY_MODEL_4242ecea7c084370a3fb0766dfffdfe5",
       "style": "IPY_MODEL_7dcb94836b53466eb487bcae3ea2fe10",
       "value": " 86/100 [00:00&lt;00:00, 378.15it/s]"
      }
     },
     "58eecf84242849b5a5cbffa1677112cc": {
      "model_module": "@jupyter-widgets/controls",
      "model_module_version": "2.0.0",
      "model_name": "HTMLStyleModel",
      "state": {
       "description_width": "",
       "font_size": null,
       "text_color": null
      }
     },
     "59070b03a332400283d33ca0626b5512": {
      "model_module": "@jupyter-widgets/controls",
      "model_module_version": "2.0.0",
      "model_name": "HTMLStyleModel",
      "state": {
       "description_width": "",
       "font_size": null,
       "text_color": null
      }
     },
     "59c39af3f2f74a2eb6402e39084a64e7": {
      "model_module": "@jupyter-widgets/controls",
      "model_module_version": "2.0.0",
      "model_name": "HTMLModel",
      "state": {
       "layout": "IPY_MODEL_3cddfbf5479546ef873639ce12e09901",
       "style": "IPY_MODEL_28e8c3d4bc5842b69c0e420948207377",
       "value": " 81%"
      }
     },
     "5a0b4aec744f4d35aec80480b65ec4b3": {
      "model_module": "@jupyter-widgets/base",
      "model_module_version": "2.0.0",
      "model_name": "LayoutModel",
      "state": {}
     },
     "5a2c6f53b9f2492b81e0a303d89dddb5": {
      "model_module": "@jupyter-widgets/base",
      "model_module_version": "2.0.0",
      "model_name": "LayoutModel",
      "state": {}
     },
     "5a9f11320429489090952f8105949d45": {
      "model_module": "@jupyter-widgets/controls",
      "model_module_version": "2.0.0",
      "model_name": "ProgressStyleModel",
      "state": {
       "bar_color": "#223388",
       "description_width": ""
      }
     },
     "5aa3387ebe7c499ebd191b1adf18effb": {
      "model_module": "@jupyter-widgets/controls",
      "model_module_version": "2.0.0",
      "model_name": "HTMLStyleModel",
      "state": {
       "description_width": "",
       "font_size": null,
       "text_color": null
      }
     },
     "5aedab55b3274b4bae5901071812ad50": {
      "model_module": "@jupyter-widgets/base",
      "model_module_version": "2.0.0",
      "model_name": "LayoutModel",
      "state": {
       "visibility": "hidden"
      }
     },
     "5b22b7846b354ac985d1a1c5a64ecf24": {
      "model_module": "@jupyter-widgets/controls",
      "model_module_version": "2.0.0",
      "model_name": "FloatProgressModel",
      "state": {
       "layout": "IPY_MODEL_95716f514ac147cc9a9e2c6865ffed19",
       "max": 1000,
       "style": "IPY_MODEL_8e7d846ce7fc466b9bf8c4caac70a679",
       "value": 1000
      }
     },
     "5b2e7d0fdf4d4098a4823940c6aa6380": {
      "model_module": "@jupyter-widgets/controls",
      "model_module_version": "2.0.0",
      "model_name": "HTMLStyleModel",
      "state": {
       "description_width": "",
       "font_size": null,
       "text_color": null
      }
     },
     "5b59585fbc24400a83b1afc74ea2b033": {
      "model_module": "@jupyter-widgets/controls",
      "model_module_version": "2.0.0",
      "model_name": "ProgressStyleModel",
      "state": {
       "bar_color": "#223388",
       "description_width": ""
      }
     },
     "5b5d31fc1ac14424bda13cea8efacf8b": {
      "model_module": "@jupyter-widgets/base",
      "model_module_version": "2.0.0",
      "model_name": "LayoutModel",
      "state": {}
     },
     "5bd3dc1c103a45c39651ecc189958b13": {
      "model_module": "@jupyter-widgets/controls",
      "model_module_version": "2.0.0",
      "model_name": "HTMLStyleModel",
      "state": {
       "description_width": "",
       "font_size": null,
       "text_color": null
      }
     },
     "5c1585b448c449a09103183e45bd6ea4": {
      "model_module": "@jupyter-widgets/base",
      "model_module_version": "2.0.0",
      "model_name": "LayoutModel",
      "state": {}
     },
     "5c43970344904feb9424fb0501bf6363": {
      "model_module": "@jupyter-widgets/base",
      "model_module_version": "2.0.0",
      "model_name": "LayoutModel",
      "state": {}
     },
     "5c5bdaf4a223496eb5188bd28389f84e": {
      "model_module": "@jupyter-widgets/controls",
      "model_module_version": "2.0.0",
      "model_name": "HTMLStyleModel",
      "state": {
       "description_width": "",
       "font_size": null,
       "text_color": null
      }
     },
     "5c87b9ba3d924235adf84f5f3f27ab95": {
      "model_module": "@jupyter-widgets/controls",
      "model_module_version": "2.0.0",
      "model_name": "HTMLStyleModel",
      "state": {
       "description_width": "",
       "font_size": null,
       "text_color": null
      }
     },
     "5d1cc187c2624a2f93744357c33890fc": {
      "model_module": "@jupyter-widgets/controls",
      "model_module_version": "2.0.0",
      "model_name": "HTMLModel",
      "state": {
       "layout": "IPY_MODEL_4ae00a5370e241a0847309f1024c0d9f",
       "style": "IPY_MODEL_41159d879210491baa424a49fff54cb1",
       "value": "100%"
      }
     },
     "5d248f19e08c4a74b107fd3f38841dd0": {
      "model_module": "@jupyter-widgets/base",
      "model_module_version": "2.0.0",
      "model_name": "LayoutModel",
      "state": {}
     },
     "5d6437822a4f47d3937eea3b6bfc144d": {
      "model_module": "@jupyter-widgets/controls",
      "model_module_version": "2.0.0",
      "model_name": "ProgressStyleModel",
      "state": {
       "bar_color": "#223388",
       "description_width": ""
      }
     },
     "5d86a354dceb4f01945c09329dab8d50": {
      "model_module": "@jupyter-widgets/controls",
      "model_module_version": "2.0.0",
      "model_name": "ProgressStyleModel",
      "state": {
       "description_width": ""
      }
     },
     "5e2dd6ba6dfe4690814ab49efea8cb3f": {
      "model_module": "@jupyter-widgets/base",
      "model_module_version": "2.0.0",
      "model_name": "LayoutModel",
      "state": {
       "visibility": "hidden"
      }
     },
     "5e43e75737f046879f3b5fa9e1caf7e3": {
      "model_module": "@jupyter-widgets/base",
      "model_module_version": "2.0.0",
      "model_name": "LayoutModel",
      "state": {}
     },
     "5ea454de6a4b4977ace82f366a834112": {
      "model_module": "@jupyter-widgets/base",
      "model_module_version": "2.0.0",
      "model_name": "LayoutModel",
      "state": {}
     },
     "5f08bc64edc64475985f60824ab07353": {
      "model_module": "@jupyter-widgets/base",
      "model_module_version": "2.0.0",
      "model_name": "LayoutModel",
      "state": {}
     },
     "5f58245975ac40638d6bdef135037f56": {
      "model_module": "@jupyter-widgets/base",
      "model_module_version": "2.0.0",
      "model_name": "LayoutModel",
      "state": {}
     },
     "5fb903f490374b69b5c5b812d13f2bd1": {
      "model_module": "@jupyter-widgets/controls",
      "model_module_version": "2.0.0",
      "model_name": "HTMLStyleModel",
      "state": {
       "description_width": "",
       "font_size": null,
       "text_color": null
      }
     },
     "5fc30d9270864bf88eb6ca0140d9af9c": {
      "model_module": "@jupyter-widgets/base",
      "model_module_version": "2.0.0",
      "model_name": "LayoutModel",
      "state": {
       "visibility": "hidden"
      }
     },
     "608e895762824028a8f53829e1438404": {
      "model_module": "@jupyter-widgets/controls",
      "model_module_version": "2.0.0",
      "model_name": "HTMLStyleModel",
      "state": {
       "description_width": "",
       "font_size": null,
       "text_color": null
      }
     },
     "60921b661c134a7e8a96b820090613c3": {
      "model_module": "@jupyter-widgets/controls",
      "model_module_version": "2.0.0",
      "model_name": "FloatProgressModel",
      "state": {
       "bar_style": "danger",
       "layout": "IPY_MODEL_6cee83a94ee54e04b65b3bb070b3a55c",
       "max": 10,
       "style": "IPY_MODEL_a2112d8c62c341d3b4ff6e060c43b1bd"
      }
     },
     "609a3cd2116444d0a778e96d292f870e": {
      "model_module": "@jupyter-widgets/controls",
      "model_module_version": "2.0.0",
      "model_name": "HTMLStyleModel",
      "state": {
       "description_width": "",
       "font_size": null,
       "text_color": null
      }
     },
     "60a1d96844cb4c9880b80385a089cc5b": {
      "model_module": "@jupyter-widgets/controls",
      "model_module_version": "2.0.0",
      "model_name": "FloatProgressModel",
      "state": {
       "layout": "IPY_MODEL_91703a8eee2c4875b10eb2228e0230f5",
       "max": 10,
       "style": "IPY_MODEL_315f93a1bcd1447f846616cabfd391e9",
       "value": 10
      }
     },
     "60a45a791f634c6786286bb79323ce0c": {
      "model_module": "@jupyter-widgets/base",
      "model_module_version": "2.0.0",
      "model_name": "LayoutModel",
      "state": {}
     },
     "60fb6aab0a214103a5e87c31bbba0205": {
      "model_module": "@jupyter-widgets/controls",
      "model_module_version": "2.0.0",
      "model_name": "HTMLModel",
      "state": {
       "layout": "IPY_MODEL_2e04df2470ed4414920ff58a4bcc90cb",
       "style": "IPY_MODEL_41425b1883344d94b29809251d654285",
       "value": "  0%"
      }
     },
     "61760dfd1ced4a928f92280c09a83ec2": {
      "model_module": "@jupyter-widgets/controls",
      "model_module_version": "2.0.0",
      "model_name": "HTMLStyleModel",
      "state": {
       "description_width": "",
       "font_size": null,
       "text_color": null
      }
     },
     "61bf9ad9d4a2455b9f134c38f5bdae0f": {
      "model_module": "@jupyter-widgets/base",
      "model_module_version": "2.0.0",
      "model_name": "LayoutModel",
      "state": {}
     },
     "6240041590fb4fb299c9a81832f7284e": {
      "model_module": "@jupyter-widgets/controls",
      "model_module_version": "2.0.0",
      "model_name": "FloatProgressModel",
      "state": {
       "layout": "IPY_MODEL_6e3fd6bd6b5a4290a6d7a9194af17e4b",
       "max": 1000,
       "style": "IPY_MODEL_d61e54e7d3374912b466f95f4b6c8510",
       "value": 1000
      }
     },
     "6254375bbfa8407796f337d1eb4da7d1": {
      "model_module": "@jupyter-widgets/base",
      "model_module_version": "2.0.0",
      "model_name": "LayoutModel",
      "state": {}
     },
     "62633d6c7f75410e8d457a958f8b90d8": {
      "model_module": "@jupyter-widgets/controls",
      "model_module_version": "2.0.0",
      "model_name": "HTMLStyleModel",
      "state": {
       "description_width": "",
       "font_size": null,
       "text_color": null
      }
     },
     "628838aa824e42d0b226a62a62323664": {
      "model_module": "@jupyter-widgets/controls",
      "model_module_version": "2.0.0",
      "model_name": "ProgressStyleModel",
      "state": {
       "description_width": ""
      }
     },
     "62a031e795504a168724ad9a10d68928": {
      "model_module": "@jupyter-widgets/base",
      "model_module_version": "2.0.0",
      "model_name": "LayoutModel",
      "state": {
       "visibility": "hidden"
      }
     },
     "62b4fd7a0a7e47e1b6dc8a60f3dcd8b5": {
      "model_module": "@jupyter-widgets/controls",
      "model_module_version": "2.0.0",
      "model_name": "HTMLStyleModel",
      "state": {
       "description_width": "",
       "font_size": null,
       "text_color": null
      }
     },
     "62d95b2a96774b14badd062e78d14700": {
      "model_module": "@jupyter-widgets/controls",
      "model_module_version": "2.0.0",
      "model_name": "HTMLModel",
      "state": {
       "layout": "IPY_MODEL_42190e4503324154b17870519b4c213e",
       "style": "IPY_MODEL_43f655e1827f49bd9df1cd5d7f4c440b",
       "value": " 988/1000 [00:00&lt;00:00, 1951.40it/s]"
      }
     },
     "62ee53db39f3420392857cb63a5cae5a": {
      "model_module": "@jupyter-widgets/controls",
      "model_module_version": "2.0.0",
      "model_name": "ProgressStyleModel",
      "state": {
       "bar_color": "#223388",
       "description_width": ""
      }
     },
     "62f80f6280ac4435bf785fe51447c575": {
      "model_module": "@jupyter-widgets/controls",
      "model_module_version": "2.0.0",
      "model_name": "ProgressStyleModel",
      "state": {
       "description_width": ""
      }
     },
     "631795ff1dbb4aafb582b3e77721bbd6": {
      "model_module": "@jupyter-widgets/controls",
      "model_module_version": "2.0.0",
      "model_name": "HTMLStyleModel",
      "state": {
       "description_width": "",
       "font_size": null,
       "text_color": null
      }
     },
     "632d31a6a94641589195a06460d61ba8": {
      "model_module": "@jupyter-widgets/base",
      "model_module_version": "2.0.0",
      "model_name": "LayoutModel",
      "state": {}
     },
     "63448a12cd76410b85aaa9e7690a0ea3": {
      "model_module": "@jupyter-widgets/base",
      "model_module_version": "2.0.0",
      "model_name": "LayoutModel",
      "state": {
       "visibility": "hidden"
      }
     },
     "63a69898d9ad4a50a0dee3b0aba10c10": {
      "model_module": "@jupyter-widgets/base",
      "model_module_version": "2.0.0",
      "model_name": "LayoutModel",
      "state": {}
     },
     "63a86d6086434841a66f8214a151dcbc": {
      "model_module": "@jupyter-widgets/controls",
      "model_module_version": "2.0.0",
      "model_name": "HTMLStyleModel",
      "state": {
       "description_width": "",
       "font_size": null,
       "text_color": null
      }
     },
     "63c0c98108f54b3087d0bf0e294c9591": {
      "model_module": "@jupyter-widgets/base",
      "model_module_version": "2.0.0",
      "model_name": "LayoutModel",
      "state": {
       "visibility": "hidden"
      }
     },
     "63c438fe7dd449b6aa3b87c04d6904fb": {
      "model_module": "@jupyter-widgets/controls",
      "model_module_version": "2.0.0",
      "model_name": "HTMLModel",
      "state": {
       "layout": "IPY_MODEL_8ede2013ba494603aeea5a5161bcbf81",
       "style": "IPY_MODEL_1ff3dd2ddb6149a69d11782d8972ad46",
       "value": " 99%"
      }
     },
     "644e99e6882c4e7da513bf46c901f507": {
      "model_module": "@jupyter-widgets/controls",
      "model_module_version": "2.0.0",
      "model_name": "HTMLStyleModel",
      "state": {
       "description_width": "",
       "font_size": null,
       "text_color": null
      }
     },
     "649d87a3a5b042b28215d1b6a9e3d708": {
      "model_module": "@jupyter-widgets/controls",
      "model_module_version": "2.0.0",
      "model_name": "ProgressStyleModel",
      "state": {
       "bar_color": "#223388",
       "description_width": ""
      }
     },
     "64c6126c69894313a68a5c13689e3e1b": {
      "model_module": "@jupyter-widgets/controls",
      "model_module_version": "2.0.0",
      "model_name": "HTMLModel",
      "state": {
       "layout": "IPY_MODEL_d95362921c8d4d2489070fd3990015e2",
       "style": "IPY_MODEL_3a935dc1c805460fb06daeb9db411b83",
       "value": " 9383/10000 [00:04&lt;00:00, 1958.69it/s]"
      }
     },
     "653d85cc193e4f9fb1b87d7ceb13a9e0": {
      "model_module": "@jupyter-widgets/controls",
      "model_module_version": "2.0.0",
      "model_name": "ProgressStyleModel",
      "state": {
       "description_width": ""
      }
     },
     "658bfe1926da4296830e83d02e6e3f39": {
      "model_module": "@jupyter-widgets/controls",
      "model_module_version": "2.0.0",
      "model_name": "FloatProgressModel",
      "state": {
       "bar_style": "danger",
       "layout": "IPY_MODEL_05dfe501956e44ab8259f7044494aa09",
       "max": 5,
       "style": "IPY_MODEL_e0dd4f40e7c54ecc8161350dd0a895f6"
      }
     },
     "65c79e3a376f4eb98315998cafeb73be": {
      "model_module": "@jupyter-widgets/base",
      "model_module_version": "2.0.0",
      "model_name": "LayoutModel",
      "state": {}
     },
     "65d819429f6344fe8ee0956728cede45": {
      "model_module": "@jupyter-widgets/controls",
      "model_module_version": "2.0.0",
      "model_name": "HTMLStyleModel",
      "state": {
       "description_width": "",
       "font_size": null,
       "text_color": null
      }
     },
     "662e89e2a25441cea73a5f5b52f4821f": {
      "model_module": "@jupyter-widgets/base",
      "model_module_version": "2.0.0",
      "model_name": "LayoutModel",
      "state": {
       "visibility": "hidden"
      }
     },
     "662ef7999f144d72b9cb7a1404365fbb": {
      "model_module": "@jupyter-widgets/base",
      "model_module_version": "2.0.0",
      "model_name": "LayoutModel",
      "state": {}
     },
     "666879e892d64cf2816afba32b48049f": {
      "model_module": "@jupyter-widgets/controls",
      "model_module_version": "2.0.0",
      "model_name": "ProgressStyleModel",
      "state": {
       "description_width": ""
      }
     },
     "667193cbccf942adbbaf19287f730f2c": {
      "model_module": "@jupyter-widgets/controls",
      "model_module_version": "2.0.0",
      "model_name": "FloatProgressModel",
      "state": {
       "layout": "IPY_MODEL_98b3a702d7ef40ed9c67fbf6dbcd8b88",
       "max": 10000,
       "style": "IPY_MODEL_b6f9524b941f41bba954c9942cac012a",
       "value": 10000
      }
     },
     "6718053a01064d0f858000c5f1a0e1c6": {
      "model_module": "@jupyter-widgets/base",
      "model_module_version": "2.0.0",
      "model_name": "LayoutModel",
      "state": {}
     },
     "67577547a7994b28a1063551ebfb0b6b": {
      "model_module": "@jupyter-widgets/controls",
      "model_module_version": "2.0.0",
      "model_name": "HTMLStyleModel",
      "state": {
       "description_width": "",
       "font_size": null,
       "text_color": null
      }
     },
     "67a64922712d4379b9ed928f8fa12b78": {
      "model_module": "@jupyter-widgets/controls",
      "model_module_version": "2.0.0",
      "model_name": "HTMLModel",
      "state": {
       "layout": "IPY_MODEL_8586d4dc9fe34e2cb08799e5adae9d5c",
       "style": "IPY_MODEL_609a3cd2116444d0a778e96d292f870e",
       "value": " 5/5 [00:30&lt;00:00,  6.50s/it]"
      }
     },
     "687b04bcc95a47aeb6530082cec54ccf": {
      "model_module": "@jupyter-widgets/controls",
      "model_module_version": "2.0.0",
      "model_name": "HBoxModel",
      "state": {
       "children": [
        "IPY_MODEL_7317abc7f37e4a1d908ee6b489612999",
        "IPY_MODEL_a170e0306a9d48c8b51430b3cfe0c80a",
        "IPY_MODEL_e1907798f7c64dd5ae7bdd7dc95af009"
       ],
       "layout": "IPY_MODEL_793d477aabea488aa06dc004df40dca7"
      }
     },
     "69153812d9a14711b0a9649ae51dcc18": {
      "model_module": "@jupyter-widgets/controls",
      "model_module_version": "2.0.0",
      "model_name": "HTMLModel",
      "state": {
       "layout": "IPY_MODEL_a694b588396c47fa9605e8946f3701bc",
       "style": "IPY_MODEL_d20a50a4665040f29b108d4b551cbff3",
       "value": " 9786/10000 [00:04&lt;00:00, 1971.27it/s]"
      }
     },
     "699330da9b064d3189b139e3a2f573ec": {
      "model_module": "@jupyter-widgets/controls",
      "model_module_version": "2.0.0",
      "model_name": "HBoxModel",
      "state": {
       "children": [
        "IPY_MODEL_fb4f14010a48487cb5bffcb3accad510",
        "IPY_MODEL_7113c727fc364f439a0d11d8d9dabf8e",
        "IPY_MODEL_c3a024b387c24ff18d2952e654063136"
       ],
       "layout": "IPY_MODEL_efda74e4730a4cafa5670247c46a3075"
      }
     },
     "699a9bddeba34f5fb0541c611cc9ff39": {
      "model_module": "@jupyter-widgets/controls",
      "model_module_version": "2.0.0",
      "model_name": "ProgressStyleModel",
      "state": {
       "bar_color": "#223388",
       "description_width": ""
      }
     },
     "6a0803fa1d7e41b7a22d4473edbea0bb": {
      "model_module": "@jupyter-widgets/controls",
      "model_module_version": "2.0.0",
      "model_name": "HTMLModel",
      "state": {
       "layout": "IPY_MODEL_4649f5123a2c44c480c7b27bb54537f5",
       "style": "IPY_MODEL_6b6dc9e9113f4059864684fc3adee5c7",
       "value": " 5/5 [00:00&lt;00:00, 26.90it/s]"
      }
     },
     "6a0f6bb4b68c4e28bab3d4a6ed887208": {
      "model_module": "@jupyter-widgets/controls",
      "model_module_version": "2.0.0",
      "model_name": "HTMLModel",
      "state": {
       "layout": "IPY_MODEL_7cdf4d5ea3db46d393515de59c4bd5d8",
       "style": "IPY_MODEL_56dd3bd16b2f4f60aea364b1da8d5ae2",
       "value": "  0%"
      }
     },
     "6a2329ecf37a44be88c5325368c0d6a9": {
      "model_module": "@jupyter-widgets/controls",
      "model_module_version": "2.0.0",
      "model_name": "ProgressStyleModel",
      "state": {
       "bar_color": "#223388",
       "description_width": ""
      }
     },
     "6a4e6d5666ba45e28f1def14f21ecb19": {
      "model_module": "@jupyter-widgets/base",
      "model_module_version": "2.0.0",
      "model_name": "LayoutModel",
      "state": {}
     },
     "6a6c7fe232744f98a38d3afc2f1ce64d": {
      "model_module": "@jupyter-widgets/controls",
      "model_module_version": "2.0.0",
      "model_name": "ProgressStyleModel",
      "state": {
       "bar_color": "#223388",
       "description_width": ""
      }
     },
     "6a96b5947f3241aa840ad5e0a4e79eec": {
      "model_module": "@jupyter-widgets/controls",
      "model_module_version": "2.0.0",
      "model_name": "ProgressStyleModel",
      "state": {
       "bar_color": "#223388",
       "description_width": ""
      }
     },
     "6ac3537c2df449a8a3a56215da8013af": {
      "model_module": "@jupyter-widgets/controls",
      "model_module_version": "2.0.0",
      "model_name": "FloatProgressModel",
      "state": {
       "layout": "IPY_MODEL_3c438398ae7d47b6b1129df8df06191c",
       "max": 10000,
       "style": "IPY_MODEL_5a9f11320429489090952f8105949d45",
       "value": 10000
      }
     },
     "6b1b612be1f14860812e305bcea20db2": {
      "model_module": "@jupyter-widgets/controls",
      "model_module_version": "2.0.0",
      "model_name": "HTMLStyleModel",
      "state": {
       "description_width": "",
       "font_size": null,
       "text_color": null
      }
     },
     "6b366d54e1ab47b5b85593ce0a287149": {
      "model_module": "@jupyter-widgets/controls",
      "model_module_version": "2.0.0",
      "model_name": "HTMLStyleModel",
      "state": {
       "description_width": "",
       "font_size": null,
       "text_color": null
      }
     },
     "6b6dc9e9113f4059864684fc3adee5c7": {
      "model_module": "@jupyter-widgets/controls",
      "model_module_version": "2.0.0",
      "model_name": "HTMLStyleModel",
      "state": {
       "description_width": "",
       "font_size": null,
       "text_color": null
      }
     },
     "6c28896ec43448d7aac3eaeee96c7c40": {
      "model_module": "@jupyter-widgets/controls",
      "model_module_version": "2.0.0",
      "model_name": "HTMLStyleModel",
      "state": {
       "description_width": "",
       "font_size": null,
       "text_color": null
      }
     },
     "6c74b2b457364a8d8f0d08b23c38a18a": {
      "model_module": "@jupyter-widgets/controls",
      "model_module_version": "2.0.0",
      "model_name": "HTMLModel",
      "state": {
       "layout": "IPY_MODEL_769b584e69ef4b8aa43616e3d05802b9",
       "style": "IPY_MODEL_0a260f4fbe054d5ca249e3daf94979c5",
       "value": "100%"
      }
     },
     "6c7ceae1b3fd4ef2aed2b4145c3d38e9": {
      "model_module": "@jupyter-widgets/controls",
      "model_module_version": "2.0.0",
      "model_name": "HTMLModel",
      "state": {
       "layout": "IPY_MODEL_ce8ad5f99e4e4481af33ff2e00b31449",
       "style": "IPY_MODEL_9019449b73fd42f5bc3c0904963cf7f8",
       "value": "  0%"
      }
     },
     "6cd27a9e8c0e48dbbebf6ab65a7652a0": {
      "model_module": "@jupyter-widgets/base",
      "model_module_version": "2.0.0",
      "model_name": "LayoutModel",
      "state": {}
     },
     "6cee83a94ee54e04b65b3bb070b3a55c": {
      "model_module": "@jupyter-widgets/base",
      "model_module_version": "2.0.0",
      "model_name": "LayoutModel",
      "state": {}
     },
     "6cf3282ab5d9448fa53d2856074ae9b0": {
      "model_module": "@jupyter-widgets/controls",
      "model_module_version": "2.0.0",
      "model_name": "ProgressStyleModel",
      "state": {
       "description_width": ""
      }
     },
     "6d6bcec051e4451eabfc7568470a15b9": {
      "model_module": "@jupyter-widgets/base",
      "model_module_version": "2.0.0",
      "model_name": "LayoutModel",
      "state": {}
     },
     "6ddaa5ad5a78493aab301df6b9fb4567": {
      "model_module": "@jupyter-widgets/controls",
      "model_module_version": "2.0.0",
      "model_name": "FloatProgressModel",
      "state": {
       "layout": "IPY_MODEL_2ee3e1135bc44edfad422e9de620d05d",
       "max": 1000,
       "style": "IPY_MODEL_83a08ec5d0c4474898dab0f835176c2e",
       "value": 1000
      }
     },
     "6de3db4108f14cf4ad9da56893038665": {
      "model_module": "@jupyter-widgets/controls",
      "model_module_version": "2.0.0",
      "model_name": "ProgressStyleModel",
      "state": {
       "bar_color": "#223388",
       "description_width": ""
      }
     },
     "6e0c6bbf1d65466486d32e433b0c82a6": {
      "model_module": "@jupyter-widgets/controls",
      "model_module_version": "2.0.0",
      "model_name": "HBoxModel",
      "state": {
       "children": [
        "IPY_MODEL_a17e5681f4bc40a592458e10eb4f2161",
        "IPY_MODEL_3507882ad6c04612bbbe16b1f459c783",
        "IPY_MODEL_1f1ccdefa7e44f1283b9e81115e270a2"
       ],
       "layout": "IPY_MODEL_18f3a8e942a342789d692340703c2a30"
      }
     },
     "6e3385c4b17243a79149dc6393ac8aac": {
      "model_module": "@jupyter-widgets/controls",
      "model_module_version": "2.0.0",
      "model_name": "FloatProgressModel",
      "state": {
       "layout": "IPY_MODEL_2c339cd3d8384ab199171cd9521e08fe",
       "max": 10,
       "style": "IPY_MODEL_0fddc5a7dedd43ae83426b48dd4fe598",
       "value": 10
      }
     },
     "6e3fd6bd6b5a4290a6d7a9194af17e4b": {
      "model_module": "@jupyter-widgets/base",
      "model_module_version": "2.0.0",
      "model_name": "LayoutModel",
      "state": {}
     },
     "6e551d64fef54a05bb1f2e31911cc61a": {
      "model_module": "@jupyter-widgets/controls",
      "model_module_version": "2.0.0",
      "model_name": "HTMLStyleModel",
      "state": {
       "description_width": "",
       "font_size": null,
       "text_color": null
      }
     },
     "6e5bac36e68a43c590125c10da1b2bfc": {
      "model_module": "@jupyter-widgets/base",
      "model_module_version": "2.0.0",
      "model_name": "LayoutModel",
      "state": {}
     },
     "6e680b97545d4679b1197d3dce1da29c": {
      "model_module": "@jupyter-widgets/controls",
      "model_module_version": "2.0.0",
      "model_name": "HTMLModel",
      "state": {
       "layout": "IPY_MODEL_63a69898d9ad4a50a0dee3b0aba10c10",
       "style": "IPY_MODEL_20b09268e44445fdbed7f8e36d20b3cb",
       "value": " 99%"
      }
     },
     "6e856c38eb0a4ef38c4855db9bf5708a": {
      "model_module": "@jupyter-widgets/controls",
      "model_module_version": "2.0.0",
      "model_name": "HTMLStyleModel",
      "state": {
       "description_width": "",
       "font_size": null,
       "text_color": null
      }
     },
     "6efd86a5fab74c408ef565cc81d18e89": {
      "model_module": "@jupyter-widgets/base",
      "model_module_version": "2.0.0",
      "model_name": "LayoutModel",
      "state": {}
     },
     "6f252bcdb0ad455a9f31f893d6cf969b": {
      "model_module": "@jupyter-widgets/controls",
      "model_module_version": "2.0.0",
      "model_name": "HTMLModel",
      "state": {
       "layout": "IPY_MODEL_10c930f0056c4c219863d4d49c65ee98",
       "style": "IPY_MODEL_4c0683216187441393d37dae757e813f",
       "value": " 98%"
      }
     },
     "6f396a175ed64454ac234768dadea86b": {
      "model_module": "@jupyter-widgets/base",
      "model_module_version": "2.0.0",
      "model_name": "LayoutModel",
      "state": {}
     },
     "6f3d3f30e2614f21ab9afc1eb9f617e6": {
      "model_module": "@jupyter-widgets/controls",
      "model_module_version": "2.0.0",
      "model_name": "HTMLModel",
      "state": {
       "layout": "IPY_MODEL_048097c85ced4323be4db5bf32f6e1df",
       "style": "IPY_MODEL_1c79dcae2e5c4e71a9aceaf24392c257",
       "value": " 9966/10000 [00:07&lt;00:00, 1352.45it/s]"
      }
     },
     "6f5eb022ff684638b17070a4b9bfd778": {
      "model_module": "@jupyter-widgets/controls",
      "model_module_version": "2.0.0",
      "model_name": "HTMLModel",
      "state": {
       "layout": "IPY_MODEL_8d4983b9f0904fb6b3932ca279bd0a42",
       "style": "IPY_MODEL_a359d97fadb440e7bd968a12a005bfae",
       "value": " 16%"
      }
     },
     "6f80ed7840fc4d38ab166ac6432e0b2b": {
      "model_module": "@jupyter-widgets/controls",
      "model_module_version": "2.0.0",
      "model_name": "HBoxModel",
      "state": {
       "children": [
        "IPY_MODEL_6c7ceae1b3fd4ef2aed2b4145c3d38e9",
        "IPY_MODEL_e524e61de4aa43549f03d1802ca3a77c",
        "IPY_MODEL_3d8b35904aa6488cafa8c44d83c7508e"
       ],
       "layout": "IPY_MODEL_a00da7fde8d1473baf911048bea078ff"
      }
     },
     "6fa591b550974d99b0ac3f416d7c730d": {
      "model_module": "@jupyter-widgets/base",
      "model_module_version": "2.0.0",
      "model_name": "LayoutModel",
      "state": {
       "visibility": "hidden"
      }
     },
     "7007f83e0d334d04b1b6c88f8192c958": {
      "model_module": "@jupyter-widgets/base",
      "model_module_version": "2.0.0",
      "model_name": "LayoutModel",
      "state": {
       "visibility": "hidden"
      }
     },
     "704ce9f472d64754b81b3faa10e43ecc": {
      "model_module": "@jupyter-widgets/controls",
      "model_module_version": "2.0.0",
      "model_name": "HTMLModel",
      "state": {
       "layout": "IPY_MODEL_2dc75c40947a472dadcbbbf2e1ce2c05",
       "style": "IPY_MODEL_dbc93db35e9f496b801f415c1ffff815",
       "value": " 964/1000 [00:01&lt;00:00, 591.10it/s]"
      }
     },
     "7113c727fc364f439a0d11d8d9dabf8e": {
      "model_module": "@jupyter-widgets/controls",
      "model_module_version": "2.0.0",
      "model_name": "FloatProgressModel",
      "state": {
       "bar_style": "danger",
       "layout": "IPY_MODEL_a9710e4f26a449f7818d62213d82612d",
       "max": 5,
       "style": "IPY_MODEL_f0382584bc1141169f5b3d9b34fd6f80"
      }
     },
     "71a6040b88bf424a94195a0d81668c5e": {
      "model_module": "@jupyter-widgets/controls",
      "model_module_version": "2.0.0",
      "model_name": "FloatProgressModel",
      "state": {
       "bar_style": "danger",
       "layout": "IPY_MODEL_0558187be76744b29dd4b7e0c2102c10",
       "max": 10,
       "style": "IPY_MODEL_4ada072fcccf4e3aa5d7068db6dc3df6"
      }
     },
     "721732e72db94e09a968b9757a24fb94": {
      "model_module": "@jupyter-widgets/base",
      "model_module_version": "2.0.0",
      "model_name": "LayoutModel",
      "state": {}
     },
     "72879b5501024844947dbd7c19e579d3": {
      "model_module": "@jupyter-widgets/controls",
      "model_module_version": "2.0.0",
      "model_name": "HTMLModel",
      "state": {
       "layout": "IPY_MODEL_2819c97deecc49a198584921e81489df",
       "style": "IPY_MODEL_7908a2316f244ee1b3da3c18591f26cc",
       "value": " 0/10 [00:00&lt;?, ?it/s]"
      }
     },
     "72c8e6069ae640da9143f8d418516b45": {
      "model_module": "@jupyter-widgets/controls",
      "model_module_version": "2.0.0",
      "model_name": "HTMLModel",
      "state": {
       "layout": "IPY_MODEL_13f7aeb649804d2da41c48c71c93ba1a",
       "style": "IPY_MODEL_75c1f6647d764cf781a876c8e672477c",
       "value": " 9889/10000 [00:05&lt;00:00, 1846.71it/s]"
      }
     },
     "72e0da850e004c3aab8be01094ea7b3e": {
      "model_module": "@jupyter-widgets/controls",
      "model_module_version": "2.0.0",
      "model_name": "HBoxModel",
      "state": {
       "children": [
        "IPY_MODEL_9d1f99584aa64adab34075bd621471d7",
        "IPY_MODEL_53486406e1164a66a3f9963531a50863",
        "IPY_MODEL_5395ef9393964be48e8cc06be5817b34"
       ],
       "layout": "IPY_MODEL_efda394c1fd44ddeb88338ddede13e7e"
      }
     },
     "7317abc7f37e4a1d908ee6b489612999": {
      "model_module": "@jupyter-widgets/controls",
      "model_module_version": "2.0.0",
      "model_name": "HTMLModel",
      "state": {
       "layout": "IPY_MODEL_edf7454d5b9742f89cc4334699116fa3",
       "style": "IPY_MODEL_d73f9cb8e6f14d9a80998ca6913b041d",
       "value": "  0%"
      }
     },
     "731b75de2e4a44968f3a2cf63dd6df7a": {
      "model_module": "@jupyter-widgets/base",
      "model_module_version": "2.0.0",
      "model_name": "LayoutModel",
      "state": {}
     },
     "732ee3897ae54386b9f0ba31787a4306": {
      "model_module": "@jupyter-widgets/controls",
      "model_module_version": "2.0.0",
      "model_name": "ProgressStyleModel",
      "state": {
       "bar_color": "#223388",
       "description_width": ""
      }
     },
     "7354fed3c5fe40b584cce3ddda31483b": {
      "model_module": "@jupyter-widgets/controls",
      "model_module_version": "2.0.0",
      "model_name": "HTMLModel",
      "state": {
       "layout": "IPY_MODEL_83c872dcebae494fac80489ffe5511ca",
       "style": "IPY_MODEL_4673451723194d0bae35b234054d4e0a",
       "value": "100%"
      }
     },
     "73a57e01996f4761a966ab141676005c": {
      "model_module": "@jupyter-widgets/controls",
      "model_module_version": "2.0.0",
      "model_name": "HTMLStyleModel",
      "state": {
       "description_width": "",
       "font_size": null,
       "text_color": null
      }
     },
     "73c61d07df9b44e4bd7b51d1cea27832": {
      "model_module": "@jupyter-widgets/base",
      "model_module_version": "2.0.0",
      "model_name": "LayoutModel",
      "state": {}
     },
     "74e8e5e9bcf94b2ab58403fc81a90424": {
      "model_module": "@jupyter-widgets/base",
      "model_module_version": "2.0.0",
      "model_name": "LayoutModel",
      "state": {}
     },
     "751226d78e7d49c2b5c85e114bc78b2e": {
      "model_module": "@jupyter-widgets/base",
      "model_module_version": "2.0.0",
      "model_name": "LayoutModel",
      "state": {}
     },
     "75c1f6647d764cf781a876c8e672477c": {
      "model_module": "@jupyter-widgets/controls",
      "model_module_version": "2.0.0",
      "model_name": "HTMLStyleModel",
      "state": {
       "description_width": "",
       "font_size": null,
       "text_color": null
      }
     },
     "761b15aaf98d41049aace0f462581c39": {
      "model_module": "@jupyter-widgets/base",
      "model_module_version": "2.0.0",
      "model_name": "LayoutModel",
      "state": {}
     },
     "7671124a6edb425884c85048a743d7fa": {
      "model_module": "@jupyter-widgets/base",
      "model_module_version": "2.0.0",
      "model_name": "LayoutModel",
      "state": {}
     },
     "769b584e69ef4b8aa43616e3d05802b9": {
      "model_module": "@jupyter-widgets/base",
      "model_module_version": "2.0.0",
      "model_name": "LayoutModel",
      "state": {}
     },
     "76a2ae1a72fc4e4da57e4feec0165eaa": {
      "model_module": "@jupyter-widgets/base",
      "model_module_version": "2.0.0",
      "model_name": "LayoutModel",
      "state": {}
     },
     "76aba01212fb42f7bd8aa48912eded6c": {
      "model_module": "@jupyter-widgets/base",
      "model_module_version": "2.0.0",
      "model_name": "LayoutModel",
      "state": {}
     },
     "76f08a27b4734231bd7775054e212f55": {
      "model_module": "@jupyter-widgets/base",
      "model_module_version": "2.0.0",
      "model_name": "LayoutModel",
      "state": {}
     },
     "773a7aca9715411d9f5e31a3448e28aa": {
      "model_module": "@jupyter-widgets/base",
      "model_module_version": "2.0.0",
      "model_name": "LayoutModel",
      "state": {}
     },
     "7746b8783a954aed9c65dc70377d8f40": {
      "model_module": "@jupyter-widgets/controls",
      "model_module_version": "2.0.0",
      "model_name": "HTMLStyleModel",
      "state": {
       "description_width": "",
       "font_size": null,
       "text_color": null
      }
     },
     "775957778ea7463b9ea9705e94c3cb59": {
      "model_module": "@jupyter-widgets/controls",
      "model_module_version": "2.0.0",
      "model_name": "ProgressStyleModel",
      "state": {
       "bar_color": "#223388",
       "description_width": ""
      }
     },
     "778ed811ed94481c92d52e55d53262be": {
      "model_module": "@jupyter-widgets/base",
      "model_module_version": "2.0.0",
      "model_name": "LayoutModel",
      "state": {}
     },
     "77ff40edee4740559baa1d88aa2ef099": {
      "model_module": "@jupyter-widgets/controls",
      "model_module_version": "2.0.0",
      "model_name": "FloatProgressModel",
      "state": {
       "bar_style": "danger",
       "layout": "IPY_MODEL_93a0f92a1d714c75bfa994e02bcdbd17",
       "max": 5,
       "style": "IPY_MODEL_df09d8de09c54dbd93c5f901543a21b8"
      }
     },
     "782e1dc4020748fab7d1593f58b4ae12": {
      "model_module": "@jupyter-widgets/controls",
      "model_module_version": "2.0.0",
      "model_name": "HTMLModel",
      "state": {
       "layout": "IPY_MODEL_9ae28dc01b1d4b258f8fbb8fb9ee6fe9",
       "style": "IPY_MODEL_cad69870e0094dcd80d75882862d7162",
       "value": " 934/1000 [00:00&lt;00:00, 1332.40it/s]"
      }
     },
     "7863294583f5494f9605984cdf71bdb7": {
      "model_module": "@jupyter-widgets/controls",
      "model_module_version": "2.0.0",
      "model_name": "HTMLStyleModel",
      "state": {
       "description_width": "",
       "font_size": null,
       "text_color": null
      }
     },
     "7889b85da1ac493cba862cd4e2be8780": {
      "model_module": "@jupyter-widgets/controls",
      "model_module_version": "2.0.0",
      "model_name": "HBoxModel",
      "state": {
       "children": [
        "IPY_MODEL_4b4a16b5a933439bab8bd569e7f079f4",
        "IPY_MODEL_658bfe1926da4296830e83d02e6e3f39",
        "IPY_MODEL_f6d61eb6982a447cbf21f5b848eeb9bb"
       ],
       "layout": "IPY_MODEL_a08d254ec2014ab7962a15d26bb88bdc"
      }
     },
     "789dd4142ff94d3f8cc8f5d334d4639c": {
      "model_module": "@jupyter-widgets/base",
      "model_module_version": "2.0.0",
      "model_name": "LayoutModel",
      "state": {}
     },
     "78ddfbfee0e043ee87c15a121ea1f4bf": {
      "model_module": "@jupyter-widgets/base",
      "model_module_version": "2.0.0",
      "model_name": "LayoutModel",
      "state": {}
     },
     "78f76c3b43444f4b9b001995e5ea3243": {
      "model_module": "@jupyter-widgets/controls",
      "model_module_version": "2.0.0",
      "model_name": "HTMLStyleModel",
      "state": {
       "description_width": "",
       "font_size": null,
       "text_color": null
      }
     },
     "7908a2316f244ee1b3da3c18591f26cc": {
      "model_module": "@jupyter-widgets/controls",
      "model_module_version": "2.0.0",
      "model_name": "HTMLStyleModel",
      "state": {
       "description_width": "",
       "font_size": null,
       "text_color": null
      }
     },
     "793d477aabea488aa06dc004df40dca7": {
      "model_module": "@jupyter-widgets/base",
      "model_module_version": "2.0.0",
      "model_name": "LayoutModel",
      "state": {}
     },
     "795a358acc404ce792769982c3930bdc": {
      "model_module": "@jupyter-widgets/base",
      "model_module_version": "2.0.0",
      "model_name": "LayoutModel",
      "state": {}
     },
     "7a13003f65074a87b98cfa9a2b04b99c": {
      "model_module": "@jupyter-widgets/controls",
      "model_module_version": "2.0.0",
      "model_name": "FloatProgressModel",
      "state": {
       "layout": "IPY_MODEL_96b7451a034640e285fc03ac5bd07bf0",
       "max": 10000,
       "style": "IPY_MODEL_8d8d6e2a25d8400f85f9c142f4fac77a",
       "value": 10000
      }
     },
     "7a39d53a0f534747be694a3f4204282a": {
      "model_module": "@jupyter-widgets/controls",
      "model_module_version": "2.0.0",
      "model_name": "FloatProgressModel",
      "state": {
       "bar_style": "danger",
       "layout": "IPY_MODEL_09499b3bcbad48baa9660774e0d79ed2",
       "max": 5,
       "style": "IPY_MODEL_277f7c9ee908487f8391fe060554fbcd"
      }
     },
     "7a5ba7b25329499a84889211d0395c74": {
      "model_module": "@jupyter-widgets/base",
      "model_module_version": "2.0.0",
      "model_name": "LayoutModel",
      "state": {}
     },
     "7b353dbe5f35485e8099aebc109d8575": {
      "model_module": "@jupyter-widgets/controls",
      "model_module_version": "2.0.0",
      "model_name": "HTMLStyleModel",
      "state": {
       "description_width": "",
       "font_size": null,
       "text_color": null
      }
     },
     "7b44aeae0cb243bd851aa2ac0b779b6f": {
      "model_module": "@jupyter-widgets/base",
      "model_module_version": "2.0.0",
      "model_name": "LayoutModel",
      "state": {}
     },
     "7b886d6c0c4e4261a88182ddcba08865": {
      "model_module": "@jupyter-widgets/controls",
      "model_module_version": "2.0.0",
      "model_name": "FloatProgressModel",
      "state": {
       "layout": "IPY_MODEL_5f08bc64edc64475985f60824ab07353",
       "max": 10,
       "style": "IPY_MODEL_a478c50bb362437ba2481d2a5798d701",
       "value": 10
      }
     },
     "7bc2e608944f4fbe8cbeee98d662f3e9": {
      "model_module": "@jupyter-widgets/base",
      "model_module_version": "2.0.0",
      "model_name": "LayoutModel",
      "state": {}
     },
     "7c23e7c981864c119a36ac8fa6fea6cd": {
      "model_module": "@jupyter-widgets/controls",
      "model_module_version": "2.0.0",
      "model_name": "HTMLStyleModel",
      "state": {
       "description_width": "",
       "font_size": null,
       "text_color": null
      }
     },
     "7c3265b6231341aaaa5ee83038c83ee8": {
      "model_module": "@jupyter-widgets/controls",
      "model_module_version": "2.0.0",
      "model_name": "HTMLStyleModel",
      "state": {
       "description_width": "",
       "font_size": null,
       "text_color": null
      }
     },
     "7c3b6c5b29024442a1ba292e82a5af5b": {
      "model_module": "@jupyter-widgets/controls",
      "model_module_version": "2.0.0",
      "model_name": "HTMLModel",
      "state": {
       "layout": "IPY_MODEL_865219d82126446a92dc4b6c227f1a90",
       "style": "IPY_MODEL_b8ffd8b9de254b8fbd81eb3b64b7ce0d",
       "value": " 9852/10000 [00:05&lt;00:00, 1852.96it/s]"
      }
     },
     "7c78a15e069d4916ae8d2858a658d3a3": {
      "model_module": "@jupyter-widgets/base",
      "model_module_version": "2.0.0",
      "model_name": "LayoutModel",
      "state": {}
     },
     "7c876ce579a34d6b8c3f7861d609be50": {
      "model_module": "@jupyter-widgets/controls",
      "model_module_version": "2.0.0",
      "model_name": "HTMLModel",
      "state": {
       "layout": "IPY_MODEL_4b1f6ef83c254fc49e8dbf80054ce7c6",
       "style": "IPY_MODEL_fd78d913c1f04eafabe69b668ace4d6f",
       "value": " 9975/10000 [00:10&lt;00:00, 902.60it/s]"
      }
     },
     "7ca3c7b427e047fdbe3089c2fd103ea7": {
      "model_module": "@jupyter-widgets/base",
      "model_module_version": "2.0.0",
      "model_name": "LayoutModel",
      "state": {}
     },
     "7cdf4d5ea3db46d393515de59c4bd5d8": {
      "model_module": "@jupyter-widgets/base",
      "model_module_version": "2.0.0",
      "model_name": "LayoutModel",
      "state": {}
     },
     "7ceaf858b5cc4696a1d0bf08bfe39347": {
      "model_module": "@jupyter-widgets/controls",
      "model_module_version": "2.0.0",
      "model_name": "HTMLModel",
      "state": {
       "layout": "IPY_MODEL_871834ee16cf4a11a400add5dc9941c7",
       "style": "IPY_MODEL_b2850ed2eb884d2293d156f88822a6b2",
       "value": " 70%"
      }
     },
     "7d024de154f148048c97f431c8817923": {
      "model_module": "@jupyter-widgets/controls",
      "model_module_version": "2.0.0",
      "model_name": "HTMLModel",
      "state": {
       "layout": "IPY_MODEL_4b7ce0ad2ae14f5ebea77ee45293f708",
       "style": "IPY_MODEL_5b2e7d0fdf4d4098a4823940c6aa6380",
       "value": " 99%"
      }
     },
     "7d7f4ffca20e403b8e50a0d4538da44d": {
      "model_module": "@jupyter-widgets/controls",
      "model_module_version": "2.0.0",
      "model_name": "HTMLStyleModel",
      "state": {
       "description_width": "",
       "font_size": null,
       "text_color": null
      }
     },
     "7d84a546fc4a4a259843e0aea846a003": {
      "model_module": "@jupyter-widgets/base",
      "model_module_version": "2.0.0",
      "model_name": "LayoutModel",
      "state": {
       "visibility": "hidden"
      }
     },
     "7dcb94836b53466eb487bcae3ea2fe10": {
      "model_module": "@jupyter-widgets/controls",
      "model_module_version": "2.0.0",
      "model_name": "HTMLStyleModel",
      "state": {
       "description_width": "",
       "font_size": null,
       "text_color": null
      }
     },
     "7de3dfc8b6494e5084f94144bed126ab": {
      "model_module": "@jupyter-widgets/controls",
      "model_module_version": "2.0.0",
      "model_name": "FloatProgressModel",
      "state": {
       "bar_style": "danger",
       "layout": "IPY_MODEL_883bd602f7014cf4b2aa987be77d59fa",
       "max": 10000,
       "style": "IPY_MODEL_3ef94b7b5d0e40c1b8dc6f4bcbb58b40",
       "value": 1559
      }
     },
     "7e0d9dd609cb49a3bdc8cbde4c5fd2ef": {
      "model_module": "@jupyter-widgets/base",
      "model_module_version": "2.0.0",
      "model_name": "LayoutModel",
      "state": {}
     },
     "7e1070bc1a304fbab973cd5a05a2aba1": {
      "model_module": "@jupyter-widgets/controls",
      "model_module_version": "2.0.0",
      "model_name": "ProgressStyleModel",
      "state": {
       "bar_color": "#223388",
       "description_width": ""
      }
     },
     "7e683c25599a4f7681eff2699c19aa72": {
      "model_module": "@jupyter-widgets/base",
      "model_module_version": "2.0.0",
      "model_name": "LayoutModel",
      "state": {
       "visibility": "hidden"
      }
     },
     "7e78813cbc8b4e19bc59c10d479c7287": {
      "model_module": "@jupyter-widgets/controls",
      "model_module_version": "2.0.0",
      "model_name": "HTMLStyleModel",
      "state": {
       "description_width": "",
       "font_size": null,
       "text_color": null
      }
     },
     "7f13555a9aa345678f5ddc2315e05b2c": {
      "model_module": "@jupyter-widgets/base",
      "model_module_version": "2.0.0",
      "model_name": "LayoutModel",
      "state": {}
     },
     "7f5872a37db9457d9e138c03b8a30d5a": {
      "model_module": "@jupyter-widgets/controls",
      "model_module_version": "2.0.0",
      "model_name": "HTMLModel",
      "state": {
       "layout": "IPY_MODEL_ec02c7a76d79480abbd8ddd703e9e597",
       "style": "IPY_MODEL_c09051145d9e4b09b6aa5b29ab3c722b",
       "value": "  0%"
      }
     },
     "7f8d1a618a294a219c7edaf10f5cde36": {
      "model_module": "@jupyter-widgets/base",
      "model_module_version": "2.0.0",
      "model_name": "LayoutModel",
      "state": {}
     },
     "7fb557df42104fa6b50aa74b37208076": {
      "model_module": "@jupyter-widgets/base",
      "model_module_version": "2.0.0",
      "model_name": "LayoutModel",
      "state": {}
     },
     "7fd92c552b22446e907331571db08022": {
      "model_module": "@jupyter-widgets/controls",
      "model_module_version": "2.0.0",
      "model_name": "FloatProgressModel",
      "state": {
       "layout": "IPY_MODEL_76aba01212fb42f7bd8aa48912eded6c",
       "max": 10000,
       "style": "IPY_MODEL_e0cb72a8f6a74ba4ae546a9e1a0b1a99",
       "value": 10000
      }
     },
     "7fe88286215347fcbc0fa7015d7f90c7": {
      "model_module": "@jupyter-widgets/base",
      "model_module_version": "2.0.0",
      "model_name": "LayoutModel",
      "state": {}
     },
     "80b53c381c114408a5209d3682296b95": {
      "model_module": "@jupyter-widgets/controls",
      "model_module_version": "2.0.0",
      "model_name": "HTMLStyleModel",
      "state": {
       "description_width": "",
       "font_size": null,
       "text_color": null
      }
     },
     "80e5173833c84ed3a922962126e7aea5": {
      "model_module": "@jupyter-widgets/base",
      "model_module_version": "2.0.0",
      "model_name": "LayoutModel",
      "state": {}
     },
     "80f522f00fa440e0bba609ffeae1bca9": {
      "model_module": "@jupyter-widgets/base",
      "model_module_version": "2.0.0",
      "model_name": "LayoutModel",
      "state": {}
     },
     "812787bd149d4a808b1e7010b8318fed": {
      "model_module": "@jupyter-widgets/controls",
      "model_module_version": "2.0.0",
      "model_name": "FloatProgressModel",
      "state": {
       "layout": "IPY_MODEL_9e642e7fe078471ead2cd50b98b5c273",
       "max": 10,
       "style": "IPY_MODEL_39c3a782466143d28bcc436a8cdb65a4",
       "value": 10
      }
     },
     "813aa14dcdbe48f38fac76e68b3a7f00": {
      "model_module": "@jupyter-widgets/base",
      "model_module_version": "2.0.0",
      "model_name": "LayoutModel",
      "state": {}
     },
     "819e2b9334274eb39bbd3ad90f72e17e": {
      "model_module": "@jupyter-widgets/base",
      "model_module_version": "2.0.0",
      "model_name": "LayoutModel",
      "state": {}
     },
     "81f96a25b26b4a82854b658b3d66d9b9": {
      "model_module": "@jupyter-widgets/controls",
      "model_module_version": "2.0.0",
      "model_name": "HTMLStyleModel",
      "state": {
       "description_width": "",
       "font_size": null,
       "text_color": null
      }
     },
     "823e94afc5954c0e9ce187bfcb6fc9e6": {
      "model_module": "@jupyter-widgets/controls",
      "model_module_version": "2.0.0",
      "model_name": "FloatProgressModel",
      "state": {
       "bar_style": "danger",
       "layout": "IPY_MODEL_a1de0dd47329464080f78e15d834d72a",
       "max": 5,
       "style": "IPY_MODEL_0e2d885b9fbb491780c2094d12f4fcb5"
      }
     },
     "82610e1dc9e34a31833a35dd75a2c237": {
      "model_module": "@jupyter-widgets/base",
      "model_module_version": "2.0.0",
      "model_name": "LayoutModel",
      "state": {}
     },
     "82a3b7b51e234dc6a2749a9f51d8d5f6": {
      "model_module": "@jupyter-widgets/controls",
      "model_module_version": "2.0.0",
      "model_name": "ProgressStyleModel",
      "state": {
       "description_width": ""
      }
     },
     "82fedc98693347599bf4af86e89ea51e": {
      "model_module": "@jupyter-widgets/base",
      "model_module_version": "2.0.0",
      "model_name": "LayoutModel",
      "state": {
       "visibility": "hidden"
      }
     },
     "8306f416dcae4657b8339c4edae7bd86": {
      "model_module": "@jupyter-widgets/base",
      "model_module_version": "2.0.0",
      "model_name": "LayoutModel",
      "state": {}
     },
     "8388715099de40f8abca3252852f6c64": {
      "model_module": "@jupyter-widgets/controls",
      "model_module_version": "2.0.0",
      "model_name": "HTMLModel",
      "state": {
       "layout": "IPY_MODEL_90de169651f14af29710b043b09ab89b",
       "style": "IPY_MODEL_933bcac1f080406fbadceac111a3a48d",
       "value": "  0%"
      }
     },
     "83a08ec5d0c4474898dab0f835176c2e": {
      "model_module": "@jupyter-widgets/controls",
      "model_module_version": "2.0.0",
      "model_name": "ProgressStyleModel",
      "state": {
       "bar_color": "#223388",
       "description_width": ""
      }
     },
     "83c5064d30ed4b8ba083b2cf7839c44b": {
      "model_module": "@jupyter-widgets/base",
      "model_module_version": "2.0.0",
      "model_name": "LayoutModel",
      "state": {}
     },
     "83c872dcebae494fac80489ffe5511ca": {
      "model_module": "@jupyter-widgets/base",
      "model_module_version": "2.0.0",
      "model_name": "LayoutModel",
      "state": {}
     },
     "83cedbf2a5264e1fa325e6506933f159": {
      "model_module": "@jupyter-widgets/base",
      "model_module_version": "2.0.0",
      "model_name": "LayoutModel",
      "state": {}
     },
     "83e780a854934f88a3ef68977eeaf0e9": {
      "model_module": "@jupyter-widgets/controls",
      "model_module_version": "2.0.0",
      "model_name": "HTMLModel",
      "state": {
       "layout": "IPY_MODEL_83c5064d30ed4b8ba083b2cf7839c44b",
       "style": "IPY_MODEL_c534310fdf414b5f95c7c32f30fce8b6",
       "value": " 9919/10000 [00:05&lt;00:00, 1701.23it/s]"
      }
     },
     "848627595cdb47e3b9940254a2b56902": {
      "model_module": "@jupyter-widgets/controls",
      "model_module_version": "2.0.0",
      "model_name": "HTMLStyleModel",
      "state": {
       "description_width": "",
       "font_size": null,
       "text_color": null
      }
     },
     "84fe376e6e7a45ee9c69e1b2de2dd410": {
      "model_module": "@jupyter-widgets/controls",
      "model_module_version": "2.0.0",
      "model_name": "ProgressStyleModel",
      "state": {
       "bar_color": "#223388",
       "description_width": ""
      }
     },
     "855019c5ea3c4383a9143d965e59e4e5": {
      "model_module": "@jupyter-widgets/base",
      "model_module_version": "2.0.0",
      "model_name": "LayoutModel",
      "state": {}
     },
     "8586d4dc9fe34e2cb08799e5adae9d5c": {
      "model_module": "@jupyter-widgets/base",
      "model_module_version": "2.0.0",
      "model_name": "LayoutModel",
      "state": {}
     },
     "859e0e3abfdf4e80ae2f5ea20fa3e170": {
      "model_module": "@jupyter-widgets/base",
      "model_module_version": "2.0.0",
      "model_name": "LayoutModel",
      "state": {}
     },
     "85aa8dd75074487db848bfa358df68a9": {
      "model_module": "@jupyter-widgets/controls",
      "model_module_version": "2.0.0",
      "model_name": "HTMLStyleModel",
      "state": {
       "description_width": "",
       "font_size": null,
       "text_color": null
      }
     },
     "85abb2ce581d445685d22c0faddb57f0": {
      "model_module": "@jupyter-widgets/controls",
      "model_module_version": "2.0.0",
      "model_name": "HTMLStyleModel",
      "state": {
       "description_width": "",
       "font_size": null,
       "text_color": null
      }
     },
     "85d78a72e5264d0a8d5df1ae16f5af10": {
      "model_module": "@jupyter-widgets/base",
      "model_module_version": "2.0.0",
      "model_name": "LayoutModel",
      "state": {}
     },
     "85ea18a88c4846eb8673a9cdf094fce1": {
      "model_module": "@jupyter-widgets/base",
      "model_module_version": "2.0.0",
      "model_name": "LayoutModel",
      "state": {}
     },
     "8640919443704bd3a067ae608f37f2d8": {
      "model_module": "@jupyter-widgets/controls",
      "model_module_version": "2.0.0",
      "model_name": "HTMLModel",
      "state": {
       "layout": "IPY_MODEL_d4052ccb52274bb7828024c104b7f8c5",
       "style": "IPY_MODEL_644e99e6882c4e7da513bf46c901f507",
       "value": " 9931/10000 [00:07&lt;00:00, 1330.00it/s]"
      }
     },
     "865219d82126446a92dc4b6c227f1a90": {
      "model_module": "@jupyter-widgets/base",
      "model_module_version": "2.0.0",
      "model_name": "LayoutModel",
      "state": {}
     },
     "865e1c2995a14d88a9559bce19ece737": {
      "model_module": "@jupyter-widgets/base",
      "model_module_version": "2.0.0",
      "model_name": "LayoutModel",
      "state": {}
     },
     "868782e4b6434a929e8cb6f9bfb7cb5c": {
      "model_module": "@jupyter-widgets/controls",
      "model_module_version": "2.0.0",
      "model_name": "HTMLModel",
      "state": {
       "layout": "IPY_MODEL_e6cc2af565df4c039d7e922f45125b18",
       "style": "IPY_MODEL_608e895762824028a8f53829e1438404",
       "value": "100%"
      }
     },
     "86cf766e107f409a8dafcd90781e7b82": {
      "model_module": "@jupyter-widgets/base",
      "model_module_version": "2.0.0",
      "model_name": "LayoutModel",
      "state": {}
     },
     "87071ebfaef2471093cbbed66efff319": {
      "model_module": "@jupyter-widgets/base",
      "model_module_version": "2.0.0",
      "model_name": "LayoutModel",
      "state": {}
     },
     "871834ee16cf4a11a400add5dc9941c7": {
      "model_module": "@jupyter-widgets/base",
      "model_module_version": "2.0.0",
      "model_name": "LayoutModel",
      "state": {}
     },
     "877eba1ab621461f8701747a629c7a20": {
      "model_module": "@jupyter-widgets/controls",
      "model_module_version": "2.0.0",
      "model_name": "HTMLModel",
      "state": {
       "layout": "IPY_MODEL_16969a4eb38b41e89afbb2b077b2d2c5",
       "style": "IPY_MODEL_7c23e7c981864c119a36ac8fa6fea6cd",
       "value": " 5/5 [00:00&lt;00:00, 22.32it/s]"
      }
     },
     "88217f0c47c64f7882e9d7d34f52ad53": {
      "model_module": "@jupyter-widgets/controls",
      "model_module_version": "2.0.0",
      "model_name": "HTMLModel",
      "state": {
       "layout": "IPY_MODEL_0706d164a32f42dfa4b1bb697f04a755",
       "style": "IPY_MODEL_4de1cfacff6343b5819554d4b2684a88",
       "value": " 1559/10000 [00:04&lt;00:23, 359.96it/s]"
      }
     },
     "882952f0bc5f4167bd927cfb50c83a59": {
      "model_module": "@jupyter-widgets/controls",
      "model_module_version": "2.0.0",
      "model_name": "HTMLStyleModel",
      "state": {
       "description_width": "",
       "font_size": null,
       "text_color": null
      }
     },
     "883bd602f7014cf4b2aa987be77d59fa": {
      "model_module": "@jupyter-widgets/base",
      "model_module_version": "2.0.0",
      "model_name": "LayoutModel",
      "state": {}
     },
     "883df324cd0b47e1afd21b9ee459aab1": {
      "model_module": "@jupyter-widgets/base",
      "model_module_version": "2.0.0",
      "model_name": "LayoutModel",
      "state": {}
     },
     "8869894a522f42e68b4de82cd46ce90f": {
      "model_module": "@jupyter-widgets/controls",
      "model_module_version": "2.0.0",
      "model_name": "HTMLStyleModel",
      "state": {
       "description_width": "",
       "font_size": null,
       "text_color": null
      }
     },
     "88959957b618439c8d3f460b82391173": {
      "model_module": "@jupyter-widgets/controls",
      "model_module_version": "2.0.0",
      "model_name": "HTMLStyleModel",
      "state": {
       "description_width": "",
       "font_size": null,
       "text_color": null
      }
     },
     "88adfa418b64433399ecb8adeb9f8c2a": {
      "model_module": "@jupyter-widgets/controls",
      "model_module_version": "2.0.0",
      "model_name": "HTMLStyleModel",
      "state": {
       "description_width": "",
       "font_size": null,
       "text_color": null
      }
     },
     "8914048dda5647498a0a1e69fb6f95a5": {
      "model_module": "@jupyter-widgets/controls",
      "model_module_version": "2.0.0",
      "model_name": "HTMLStyleModel",
      "state": {
       "description_width": "",
       "font_size": null,
       "text_color": null
      }
     },
     "891446504a064e6c971ae181bf9aad6b": {
      "model_module": "@jupyter-widgets/controls",
      "model_module_version": "2.0.0",
      "model_name": "HTMLStyleModel",
      "state": {
       "description_width": "",
       "font_size": null,
       "text_color": null
      }
     },
     "895e8cd4185d4a08a1dd766f9c99efbf": {
      "model_module": "@jupyter-widgets/controls",
      "model_module_version": "2.0.0",
      "model_name": "HBoxModel",
      "state": {
       "children": [
        "IPY_MODEL_43dbf6c056fe4278a222d1178678e6cb",
        "IPY_MODEL_30cc6486b68248719633540a37b6a2f1",
        "IPY_MODEL_8f0a9553f7794dedbc0a58f3d56a5236"
       ],
       "layout": "IPY_MODEL_1948dd4e3e0340d58097fb0e2ded1834"
      }
     },
     "89f47d8a6c554b3ea8a4d7151e95d274": {
      "model_module": "@jupyter-widgets/controls",
      "model_module_version": "2.0.0",
      "model_name": "HBoxModel",
      "state": {
       "children": [
        "IPY_MODEL_e08ecddabfe34cb1be4f62d88104f801",
        "IPY_MODEL_2dd71b951662404992b6a7b8da4b074c",
        "IPY_MODEL_a18cfadc9e1240649a163ca1545e364e"
       ],
       "layout": "IPY_MODEL_ed2620a273e442649e8b3f76d117e26e"
      }
     },
     "8a84cba0d8e048f39cc09831498ed7ee": {
      "model_module": "@jupyter-widgets/controls",
      "model_module_version": "2.0.0",
      "model_name": "HTMLStyleModel",
      "state": {
       "description_width": "",
       "font_size": null,
       "text_color": null
      }
     },
     "8aaa994fea874d4fbce4258e99ce1808": {
      "model_module": "@jupyter-widgets/base",
      "model_module_version": "2.0.0",
      "model_name": "LayoutModel",
      "state": {}
     },
     "8ab2dd43568e4337b89fb3755fc932ae": {
      "model_module": "@jupyter-widgets/controls",
      "model_module_version": "2.0.0",
      "model_name": "HTMLStyleModel",
      "state": {
       "description_width": "",
       "font_size": null,
       "text_color": null
      }
     },
     "8abe069544234ee78a58e4fdde6ad5a5": {
      "model_module": "@jupyter-widgets/controls",
      "model_module_version": "2.0.0",
      "model_name": "HTMLStyleModel",
      "state": {
       "description_width": "",
       "font_size": null,
       "text_color": null
      }
     },
     "8ac0acf062e046e384f17aa3749b9b7e": {
      "model_module": "@jupyter-widgets/base",
      "model_module_version": "2.0.0",
      "model_name": "LayoutModel",
      "state": {
       "visibility": "hidden"
      }
     },
     "8b042469def64a65b116a28061d21019": {
      "model_module": "@jupyter-widgets/controls",
      "model_module_version": "2.0.0",
      "model_name": "HBoxModel",
      "state": {
       "children": [
        "IPY_MODEL_9e45f281948f4f3d85706a4761a4c3bf",
        "IPY_MODEL_db67a03763da443a940a5fa8138bb809",
        "IPY_MODEL_cfe27c4e9d734935bfa84a896322f8df"
       ],
       "layout": "IPY_MODEL_a55b253e7a4b45bb951bc6b40b9b76cd"
      }
     },
     "8b186d465a7f429687262973a823ecb2": {
      "model_module": "@jupyter-widgets/controls",
      "model_module_version": "2.0.0",
      "model_name": "FloatProgressModel",
      "state": {
       "layout": "IPY_MODEL_54846594b5ae46228aae7e8d46c419a8",
       "max": 10,
       "style": "IPY_MODEL_d615376d8452425a8bcd0f1e4ad96fdb",
       "value": 10
      }
     },
     "8c1a3c6f84d6441a8f8692dfb55b3c5c": {
      "model_module": "@jupyter-widgets/controls",
      "model_module_version": "2.0.0",
      "model_name": "HTMLModel",
      "state": {
       "layout": "IPY_MODEL_bb45148770d74f6fbfb562b1c8248009",
       "style": "IPY_MODEL_0a3f1a1b6d874443a4c436fcd7a5fb4d",
       "value": " 9965/10000 [00:26&lt;00:00, 373.65it/s]"
      }
     },
     "8c7db7a1c48b414c8d5afe1ac1333d1c": {
      "model_module": "@jupyter-widgets/controls",
      "model_module_version": "2.0.0",
      "model_name": "HTMLModel",
      "state": {
       "layout": "IPY_MODEL_6e5bac36e68a43c590125c10da1b2bfc",
       "style": "IPY_MODEL_85aa8dd75074487db848bfa358df68a9",
       "value": " 90%"
      }
     },
     "8c93c54ec8984cee901d9f19fbc9e307": {
      "model_module": "@jupyter-widgets/controls",
      "model_module_version": "2.0.0",
      "model_name": "ProgressStyleModel",
      "state": {
       "bar_color": "#223388",
       "description_width": ""
      }
     },
     "8cbc444eda874ffb979a6cccad7dae9a": {
      "model_module": "@jupyter-widgets/controls",
      "model_module_version": "2.0.0",
      "model_name": "HTMLModel",
      "state": {
       "layout": "IPY_MODEL_11ace6188d0549709a82de3133aacd0e",
       "style": "IPY_MODEL_9fe3701929ef4bbf97f91c0b75a0d8fa",
       "value": " 0/10 [00:00&lt;?, ?it/s]"
      }
     },
     "8cc16bd6fce046bfa160a4ccba114a1c": {
      "model_module": "@jupyter-widgets/base",
      "model_module_version": "2.0.0",
      "model_name": "LayoutModel",
      "state": {}
     },
     "8d4983b9f0904fb6b3932ca279bd0a42": {
      "model_module": "@jupyter-widgets/base",
      "model_module_version": "2.0.0",
      "model_name": "LayoutModel",
      "state": {}
     },
     "8d8d6e2a25d8400f85f9c142f4fac77a": {
      "model_module": "@jupyter-widgets/controls",
      "model_module_version": "2.0.0",
      "model_name": "ProgressStyleModel",
      "state": {
       "bar_color": "#223388",
       "description_width": ""
      }
     },
     "8db184e9c8734283a278a944476d5621": {
      "model_module": "@jupyter-widgets/controls",
      "model_module_version": "2.0.0",
      "model_name": "HTMLModel",
      "state": {
       "layout": "IPY_MODEL_1987b3cb29cf4fe7b1b7419f5d98e0c3",
       "style": "IPY_MODEL_f6306dab58c34cf28056aced3d7a6c01",
       "value": "100%"
      }
     },
     "8dbd89caed56437fa34d55584f7a1a99": {
      "model_module": "@jupyter-widgets/base",
      "model_module_version": "2.0.0",
      "model_name": "LayoutModel",
      "state": {}
     },
     "8e0844a1e1034ee48d90e4eb0caeef59": {
      "model_module": "@jupyter-widgets/controls",
      "model_module_version": "2.0.0",
      "model_name": "HTMLStyleModel",
      "state": {
       "description_width": "",
       "font_size": null,
       "text_color": null
      }
     },
     "8e1566dac1a9494bb984663d8e214948": {
      "model_module": "@jupyter-widgets/controls",
      "model_module_version": "2.0.0",
      "model_name": "HBoxModel",
      "state": {
       "children": [
        "IPY_MODEL_1fcb04dc506a4e0c8623350cd00c6e62",
        "IPY_MODEL_c1f60a0c1e2f4881853d862cb5e008f0",
        "IPY_MODEL_a39f077113d744a2a8b63ec9dbf2814e"
       ],
       "layout": "IPY_MODEL_41c032e5e3b04161bec7b76d7adb2cb9"
      }
     },
     "8e484f69e1464629b917822939769061": {
      "model_module": "@jupyter-widgets/controls",
      "model_module_version": "2.0.0",
      "model_name": "HTMLStyleModel",
      "state": {
       "description_width": "",
       "font_size": null,
       "text_color": null
      }
     },
     "8e7d846ce7fc466b9bf8c4caac70a679": {
      "model_module": "@jupyter-widgets/controls",
      "model_module_version": "2.0.0",
      "model_name": "ProgressStyleModel",
      "state": {
       "bar_color": "#223388",
       "description_width": ""
      }
     },
     "8e8a2a973ddb4b9e948ac528db6b2ec6": {
      "model_module": "@jupyter-widgets/controls",
      "model_module_version": "2.0.0",
      "model_name": "HTMLModel",
      "state": {
       "layout": "IPY_MODEL_e1e3bb67db724663ba568e7de6acc6e7",
       "style": "IPY_MODEL_8e484f69e1464629b917822939769061",
       "value": " 0/10 [00:00&lt;?, ?it/s]"
      }
     },
     "8e8e2a6a20cf4de9b930835a67b45fa1": {
      "model_module": "@jupyter-widgets/controls",
      "model_module_version": "2.0.0",
      "model_name": "HTMLModel",
      "state": {
       "layout": "IPY_MODEL_47f8d605eabc4e789bf5e7dd936f582f",
       "style": "IPY_MODEL_5fb903f490374b69b5c5b812d13f2bd1",
       "value": " 883/1000 [00:00&lt;00:00, 1606.88it/s]"
      }
     },
     "8ede2013ba494603aeea5a5161bcbf81": {
      "model_module": "@jupyter-widgets/base",
      "model_module_version": "2.0.0",
      "model_name": "LayoutModel",
      "state": {}
     },
     "8f0a9553f7794dedbc0a58f3d56a5236": {
      "model_module": "@jupyter-widgets/controls",
      "model_module_version": "2.0.0",
      "model_name": "HTMLModel",
      "state": {
       "layout": "IPY_MODEL_4192c78cb1e14facb640299b334b6b66",
       "style": "IPY_MODEL_f24dd4eacf0b49dfac064d42bbfd49dd",
       "value": " 658/10000 [00:03&lt;00:44, 209.02it/s]"
      }
     },
     "8f0f9034d74542e9a59fce137d87b717": {
      "model_module": "@jupyter-widgets/base",
      "model_module_version": "2.0.0",
      "model_name": "LayoutModel",
      "state": {}
     },
     "8f18c01a8b9d430fa560240068cfd493": {
      "model_module": "@jupyter-widgets/controls",
      "model_module_version": "2.0.0",
      "model_name": "HTMLStyleModel",
      "state": {
       "description_width": "",
       "font_size": null,
       "text_color": null
      }
     },
     "8f803e0f1cd54c939cc392adb8b08ead": {
      "model_module": "@jupyter-widgets/base",
      "model_module_version": "2.0.0",
      "model_name": "LayoutModel",
      "state": {}
     },
     "8fa4ee10da27476a958a4810626a0739": {
      "model_module": "@jupyter-widgets/controls",
      "model_module_version": "2.0.0",
      "model_name": "HBoxModel",
      "state": {
       "children": [
        "IPY_MODEL_d2f8257cf35b40fe91257c0a4d51b923",
        "IPY_MODEL_cf3f62a7e80e4e069a912695df0149d0",
        "IPY_MODEL_e99b6d84448944218d820ec5d6ec1ec6"
       ],
       "layout": "IPY_MODEL_472d1e685fa0464687e3e7d9fdc38f95"
      }
     },
     "8fbf561f0fc947328fe1fa037b5fcc41": {
      "model_module": "@jupyter-widgets/base",
      "model_module_version": "2.0.0",
      "model_name": "LayoutModel",
      "state": {
       "visibility": "hidden"
      }
     },
     "8fd842041a114a31898a94ea1d47ea49": {
      "model_module": "@jupyter-widgets/base",
      "model_module_version": "2.0.0",
      "model_name": "LayoutModel",
      "state": {}
     },
     "9019449b73fd42f5bc3c0904963cf7f8": {
      "model_module": "@jupyter-widgets/controls",
      "model_module_version": "2.0.0",
      "model_name": "HTMLStyleModel",
      "state": {
       "description_width": "",
       "font_size": null,
       "text_color": null
      }
     },
     "901a60172e4b44cdb4da8adb15f84203": {
      "model_module": "@jupyter-widgets/base",
      "model_module_version": "2.0.0",
      "model_name": "LayoutModel",
      "state": {}
     },
     "906d6b667ecb45cf916a1ba5cdd6de07": {
      "model_module": "@jupyter-widgets/controls",
      "model_module_version": "2.0.0",
      "model_name": "FloatProgressModel",
      "state": {
       "layout": "IPY_MODEL_a17e8865bdad4458ab93b32e85afa15d",
       "max": 10000,
       "style": "IPY_MODEL_a8bfa69c2f2947ffbd4e5c6ee54f22a0",
       "value": 10000
      }
     },
     "90de169651f14af29710b043b09ab89b": {
      "model_module": "@jupyter-widgets/base",
      "model_module_version": "2.0.0",
      "model_name": "LayoutModel",
      "state": {}
     },
     "90e24461af9040b2ac481291f6f9382f": {
      "model_module": "@jupyter-widgets/base",
      "model_module_version": "2.0.0",
      "model_name": "LayoutModel",
      "state": {
       "visibility": "hidden"
      }
     },
     "9109fedc617d455e8bb18bdbb424ac8b": {
      "model_module": "@jupyter-widgets/controls",
      "model_module_version": "2.0.0",
      "model_name": "HTMLModel",
      "state": {
       "layout": "IPY_MODEL_00e74bd203a948328b5428fc93163aec",
       "style": "IPY_MODEL_fcf23774f7cc41f4b20eedd0a753314c",
       "value": " 9925/10000 [00:07&lt;00:00, 1329.09it/s]"
      }
     },
     "91703a8eee2c4875b10eb2228e0230f5": {
      "model_module": "@jupyter-widgets/base",
      "model_module_version": "2.0.0",
      "model_name": "LayoutModel",
      "state": {}
     },
     "9177887ad11640688c2aa974197859b1": {
      "model_module": "@jupyter-widgets/base",
      "model_module_version": "2.0.0",
      "model_name": "LayoutModel",
      "state": {}
     },
     "91f613869ed24212a415b7d475939368": {
      "model_module": "@jupyter-widgets/controls",
      "model_module_version": "2.0.0",
      "model_name": "HTMLStyleModel",
      "state": {
       "description_width": "",
       "font_size": null,
       "text_color": null
      }
     },
     "92608307b714448aa1659bfbfc7bb72c": {
      "model_module": "@jupyter-widgets/controls",
      "model_module_version": "2.0.0",
      "model_name": "HTMLStyleModel",
      "state": {
       "description_width": "",
       "font_size": null,
       "text_color": null
      }
     },
     "92774e6e06de4a41acdaf569b0763a45": {
      "model_module": "@jupyter-widgets/controls",
      "model_module_version": "2.0.0",
      "model_name": "FloatProgressModel",
      "state": {
       "bar_style": "danger",
       "layout": "IPY_MODEL_5a0b4aec744f4d35aec80480b65ec4b3",
       "max": 5,
       "style": "IPY_MODEL_06d2349b92db4938862b07bcfececc2b"
      }
     },
     "92becf6c8d6949138c181b8c1faf6f08": {
      "model_module": "@jupyter-widgets/base",
      "model_module_version": "2.0.0",
      "model_name": "LayoutModel",
      "state": {}
     },
     "92ea63c7bc2f4458889ae2b769d6cda3": {
      "model_module": "@jupyter-widgets/controls",
      "model_module_version": "2.0.0",
      "model_name": "HTMLModel",
      "state": {
       "layout": "IPY_MODEL_ac4744439d5f4012bd71f21a9ffd1cfe",
       "style": "IPY_MODEL_1bcbe3971a6b4b1fb592998a14832d8a",
       "value": " 99%"
      }
     },
     "9305ceb0314a4f9facd6d523755cec1f": {
      "model_module": "@jupyter-widgets/base",
      "model_module_version": "2.0.0",
      "model_name": "LayoutModel",
      "state": {
       "visibility": "hidden"
      }
     },
     "9314eda865944864b737a2ef57c570fa": {
      "model_module": "@jupyter-widgets/base",
      "model_module_version": "2.0.0",
      "model_name": "LayoutModel",
      "state": {}
     },
     "933bcac1f080406fbadceac111a3a48d": {
      "model_module": "@jupyter-widgets/controls",
      "model_module_version": "2.0.0",
      "model_name": "HTMLStyleModel",
      "state": {
       "description_width": "",
       "font_size": null,
       "text_color": null
      }
     },
     "937f1eecc58c467a86165adace5da11c": {
      "model_module": "@jupyter-widgets/base",
      "model_module_version": "2.0.0",
      "model_name": "LayoutModel",
      "state": {}
     },
     "93a0f92a1d714c75bfa994e02bcdbd17": {
      "model_module": "@jupyter-widgets/base",
      "model_module_version": "2.0.0",
      "model_name": "LayoutModel",
      "state": {}
     },
     "9472e25a98b64e1fa62e90c0d260d73e": {
      "model_module": "@jupyter-widgets/controls",
      "model_module_version": "2.0.0",
      "model_name": "ProgressStyleModel",
      "state": {
       "bar_color": "#223388",
       "description_width": ""
      }
     },
     "9509ff66ada14dbaa33d57d64d988593": {
      "model_module": "@jupyter-widgets/controls",
      "model_module_version": "2.0.0",
      "model_name": "HTMLStyleModel",
      "state": {
       "description_width": "",
       "font_size": null,
       "text_color": null
      }
     },
     "950cee44e9b6466c86f8844f92226097": {
      "model_module": "@jupyter-widgets/base",
      "model_module_version": "2.0.0",
      "model_name": "LayoutModel",
      "state": {}
     },
     "956bab4f0ef940b0ad79ee2285105b7e": {
      "model_module": "@jupyter-widgets/controls",
      "model_module_version": "2.0.0",
      "model_name": "HTMLModel",
      "state": {
       "layout": "IPY_MODEL_dff15debb1c74512a02d8aa4f37827d3",
       "style": "IPY_MODEL_c4cca9e9405546c79e2a2b7218177ee5",
       "value": "100%"
      }
     },
     "95716f514ac147cc9a9e2c6865ffed19": {
      "model_module": "@jupyter-widgets/base",
      "model_module_version": "2.0.0",
      "model_name": "LayoutModel",
      "state": {}
     },
     "957763389d944faaad2d569e300b788d": {
      "model_module": "@jupyter-widgets/controls",
      "model_module_version": "2.0.0",
      "model_name": "FloatProgressModel",
      "state": {
       "layout": "IPY_MODEL_60a45a791f634c6786286bb79323ce0c",
       "max": 1000,
       "style": "IPY_MODEL_6a6c7fe232744f98a38d3afc2f1ce64d",
       "value": 1000
      }
     },
     "95bc7304b9b14741959c61d2b1c46b2b": {
      "model_module": "@jupyter-widgets/controls",
      "model_module_version": "2.0.0",
      "model_name": "HTMLModel",
      "state": {
       "layout": "IPY_MODEL_2c638835db384f06bc0144ce213d9c1b",
       "style": "IPY_MODEL_6b366d54e1ab47b5b85593ce0a287149",
       "value": " 990/1000 [00:04&lt;00:00, 209.06it/s]"
      }
     },
     "95bd3258b7a14012852b958ec86abf3b": {
      "model_module": "@jupyter-widgets/controls",
      "model_module_version": "2.0.0",
      "model_name": "FloatProgressModel",
      "state": {
       "layout": "IPY_MODEL_d85dec90e93a477db1745a68d0251d0b",
       "max": 10000,
       "style": "IPY_MODEL_362684e24e6a4fb8b03a193b5b4cbae4",
       "value": 10000
      }
     },
     "960976d9d6344942bf6eaf49ba8c0849": {
      "model_module": "@jupyter-widgets/base",
      "model_module_version": "2.0.0",
      "model_name": "LayoutModel",
      "state": {}
     },
     "960bf26b71bc4c8da4f76ffe646321d2": {
      "model_module": "@jupyter-widgets/controls",
      "model_module_version": "2.0.0",
      "model_name": "ProgressStyleModel",
      "state": {
       "bar_color": "#223388",
       "description_width": ""
      }
     },
     "9632eacf17774ab0a796405ec11502cf": {
      "model_module": "@jupyter-widgets/controls",
      "model_module_version": "2.0.0",
      "model_name": "HTMLStyleModel",
      "state": {
       "description_width": "",
       "font_size": null,
       "text_color": null
      }
     },
     "9656ef29eeed49c7a3d4bee7e922b96b": {
      "model_module": "@jupyter-widgets/controls",
      "model_module_version": "2.0.0",
      "model_name": "HTMLModel",
      "state": {
       "layout": "IPY_MODEL_865e1c2995a14d88a9559bce19ece737",
       "style": "IPY_MODEL_c62b8d53168c4f0086884226e924b91b",
       "value": " 0/100 [00:00&lt;?, ?it/s]"
      }
     },
     "965ad55961d940d481257a528a8f7d03": {
      "model_module": "@jupyter-widgets/base",
      "model_module_version": "2.0.0",
      "model_name": "LayoutModel",
      "state": {}
     },
     "9688407d141542b7ad798743e79c3c64": {
      "model_module": "@jupyter-widgets/controls",
      "model_module_version": "2.0.0",
      "model_name": "ProgressStyleModel",
      "state": {
       "bar_color": "#223388",
       "description_width": ""
      }
     },
     "96a061a5d41f43f5b4cf48f07a38da0e": {
      "model_module": "@jupyter-widgets/base",
      "model_module_version": "2.0.0",
      "model_name": "LayoutModel",
      "state": {
       "visibility": "hidden"
      }
     },
     "96b7451a034640e285fc03ac5bd07bf0": {
      "model_module": "@jupyter-widgets/base",
      "model_module_version": "2.0.0",
      "model_name": "LayoutModel",
      "state": {}
     },
     "96c809ed1e534d6f9d391fc5ab5858e9": {
      "model_module": "@jupyter-widgets/controls",
      "model_module_version": "2.0.0",
      "model_name": "HTMLStyleModel",
      "state": {
       "description_width": "",
       "font_size": null,
       "text_color": null
      }
     },
     "978416313ee144b9bccadf85abdf5ca3": {
      "model_module": "@jupyter-widgets/controls",
      "model_module_version": "2.0.0",
      "model_name": "FloatProgressModel",
      "state": {
       "layout": "IPY_MODEL_30c7c324f1d649a5a94cb502e2f478a7",
       "max": 10000,
       "style": "IPY_MODEL_41cedb3e7eae412f9ca6f211a00583da",
       "value": 10000
      }
     },
     "97e6c73a8d614457864d4730f1aef3e5": {
      "model_module": "@jupyter-widgets/base",
      "model_module_version": "2.0.0",
      "model_name": "LayoutModel",
      "state": {}
     },
     "982e983cff2a4bf49dddda061063ff2a": {
      "model_module": "@jupyter-widgets/controls",
      "model_module_version": "2.0.0",
      "model_name": "HTMLStyleModel",
      "state": {
       "description_width": "",
       "font_size": null,
       "text_color": null
      }
     },
     "98418f1b993b4fb1846d70b245c995eb": {
      "model_module": "@jupyter-widgets/base",
      "model_module_version": "2.0.0",
      "model_name": "LayoutModel",
      "state": {}
     },
     "984a15b035334b6a9290de0713496359": {
      "model_module": "@jupyter-widgets/controls",
      "model_module_version": "2.0.0",
      "model_name": "HTMLStyleModel",
      "state": {
       "description_width": "",
       "font_size": null,
       "text_color": null
      }
     },
     "98b3a702d7ef40ed9c67fbf6dbcd8b88": {
      "model_module": "@jupyter-widgets/base",
      "model_module_version": "2.0.0",
      "model_name": "LayoutModel",
      "state": {}
     },
     "9a744523637947f28ff88eb0b976c57d": {
      "model_module": "@jupyter-widgets/controls",
      "model_module_version": "2.0.0",
      "model_name": "HTMLStyleModel",
      "state": {
       "description_width": "",
       "font_size": null,
       "text_color": null
      }
     },
     "9a82872afb1e47cba26a24bdf2fb3909": {
      "model_module": "@jupyter-widgets/controls",
      "model_module_version": "2.0.0",
      "model_name": "FloatProgressModel",
      "state": {
       "layout": "IPY_MODEL_7671124a6edb425884c85048a743d7fa",
       "max": 10,
       "style": "IPY_MODEL_35cbfe852c0c464b9e5b61b22f47add9",
       "value": 10
      }
     },
     "9ae28dc01b1d4b258f8fbb8fb9ee6fe9": {
      "model_module": "@jupyter-widgets/base",
      "model_module_version": "2.0.0",
      "model_name": "LayoutModel",
      "state": {}
     },
     "9b26cf579ade487c8440b06ee40bece2": {
      "model_module": "@jupyter-widgets/controls",
      "model_module_version": "2.0.0",
      "model_name": "HTMLModel",
      "state": {
       "layout": "IPY_MODEL_9cbfb66780e24315959e0131c53e4170",
       "style": "IPY_MODEL_f1d7902692ef477aaa0b4972bf853277",
       "value": " 900/1000 [00:00&lt;00:00, 1819.09it/s]"
      }
     },
     "9b4d6bc734e540eab4fa1798c5110cac": {
      "model_module": "@jupyter-widgets/base",
      "model_module_version": "2.0.0",
      "model_name": "LayoutModel",
      "state": {
       "visibility": "hidden"
      }
     },
     "9b84e15de3bf43868f01b21ed75f391a": {
      "model_module": "@jupyter-widgets/base",
      "model_module_version": "2.0.0",
      "model_name": "LayoutModel",
      "state": {}
     },
     "9bc73ede19864d469143cbfd0ebddb35": {
      "model_module": "@jupyter-widgets/controls",
      "model_module_version": "2.0.0",
      "model_name": "FloatProgressModel",
      "state": {
       "layout": "IPY_MODEL_aefb82e3a2794bcab09dafeea5743ae7",
       "style": "IPY_MODEL_ec72bdbc9fe540968be0be056146c8cc",
       "value": 100
      }
     },
     "9c6f8f73fd904a689c64532f3bc4eadf": {
      "model_module": "@jupyter-widgets/controls",
      "model_module_version": "2.0.0",
      "model_name": "ProgressStyleModel",
      "state": {
       "description_width": ""
      }
     },
     "9cbfb66780e24315959e0131c53e4170": {
      "model_module": "@jupyter-widgets/base",
      "model_module_version": "2.0.0",
      "model_name": "LayoutModel",
      "state": {}
     },
     "9cf6dbb15e9e446ea8e61d17bb12bd03": {
      "model_module": "@jupyter-widgets/controls",
      "model_module_version": "2.0.0",
      "model_name": "ProgressStyleModel",
      "state": {
       "description_width": ""
      }
     },
     "9d1f99584aa64adab34075bd621471d7": {
      "model_module": "@jupyter-widgets/controls",
      "model_module_version": "2.0.0",
      "model_name": "HTMLModel",
      "state": {
       "layout": "IPY_MODEL_1e040ef50b754bb6bf41acfea7e5d916",
       "style": "IPY_MODEL_d817ba5692674dfeb82a987a2317c0d6",
       "value": "100%"
      }
     },
     "9d48c6f0e9c74cc0a253679b5b1bf46e": {
      "model_module": "@jupyter-widgets/base",
      "model_module_version": "2.0.0",
      "model_name": "LayoutModel",
      "state": {}
     },
     "9e45f281948f4f3d85706a4761a4c3bf": {
      "model_module": "@jupyter-widgets/controls",
      "model_module_version": "2.0.0",
      "model_name": "HTMLModel",
      "state": {
       "layout": "IPY_MODEL_53f4f150d74d47eca239fcfbac9f64a5",
       "style": "IPY_MODEL_9632eacf17774ab0a796405ec11502cf",
       "value": " 81%"
      }
     },
     "9e463c2d8a654a2785af26c9addcc5d3": {
      "model_module": "@jupyter-widgets/controls",
      "model_module_version": "2.0.0",
      "model_name": "FloatProgressModel",
      "state": {
       "bar_style": "success",
       "layout": "IPY_MODEL_aaa970950900419ba13175d43b07ad1f",
       "max": 5,
       "style": "IPY_MODEL_dcbf8ade04b64d03b916b48105e2f850",
       "value": 5
      }
     },
     "9e642e7fe078471ead2cd50b98b5c273": {
      "model_module": "@jupyter-widgets/base",
      "model_module_version": "2.0.0",
      "model_name": "LayoutModel",
      "state": {}
     },
     "9e6650048bc64f78932e5ce1c1311918": {
      "model_module": "@jupyter-widgets/base",
      "model_module_version": "2.0.0",
      "model_name": "LayoutModel",
      "state": {}
     },
     "9eb8ac3e68c2482abce1f387933646b1": {
      "model_module": "@jupyter-widgets/controls",
      "model_module_version": "2.0.0",
      "model_name": "HTMLModel",
      "state": {
       "layout": "IPY_MODEL_8f803e0f1cd54c939cc392adb8b08ead",
       "style": "IPY_MODEL_59070b03a332400283d33ca0626b5512",
       "value": "100%"
      }
     },
     "9f6c3f0b7f9146a6b9c877fe933180ed": {
      "model_module": "@jupyter-widgets/controls",
      "model_module_version": "2.0.0",
      "model_name": "HTMLStyleModel",
      "state": {
       "description_width": "",
       "font_size": null,
       "text_color": null
      }
     },
     "9f7b7adb968d4816a553bffc243f76c7": {
      "model_module": "@jupyter-widgets/base",
      "model_module_version": "2.0.0",
      "model_name": "LayoutModel",
      "state": {}
     },
     "9fc5ba30a23842ecb4534c507df06867": {
      "model_module": "@jupyter-widgets/controls",
      "model_module_version": "2.0.0",
      "model_name": "HTMLModel",
      "state": {
       "layout": "IPY_MODEL_b87820a4884d477ebf0026f4cd69c888",
       "style": "IPY_MODEL_1677045b088c488ca90805f19419ed01",
       "value": " 98%"
      }
     },
     "9fe3701929ef4bbf97f91c0b75a0d8fa": {
      "model_module": "@jupyter-widgets/controls",
      "model_module_version": "2.0.0",
      "model_name": "HTMLStyleModel",
      "state": {
       "description_width": "",
       "font_size": null,
       "text_color": null
      }
     },
     "a00cca9157404d45928846e7513a623a": {
      "model_module": "@jupyter-widgets/base",
      "model_module_version": "2.0.0",
      "model_name": "LayoutModel",
      "state": {}
     },
     "a00da7fde8d1473baf911048bea078ff": {
      "model_module": "@jupyter-widgets/base",
      "model_module_version": "2.0.0",
      "model_name": "LayoutModel",
      "state": {}
     },
     "a037a51149614773b9c2ed008dee91a7": {
      "model_module": "@jupyter-widgets/base",
      "model_module_version": "2.0.0",
      "model_name": "LayoutModel",
      "state": {
       "visibility": "hidden"
      }
     },
     "a040e42fb8a242888d3c866b0c509138": {
      "model_module": "@jupyter-widgets/base",
      "model_module_version": "2.0.0",
      "model_name": "LayoutModel",
      "state": {
       "visibility": "hidden"
      }
     },
     "a08d254ec2014ab7962a15d26bb88bdc": {
      "model_module": "@jupyter-widgets/base",
      "model_module_version": "2.0.0",
      "model_name": "LayoutModel",
      "state": {}
     },
     "a0f69fdf17f644df884dff0c80248084": {
      "model_module": "@jupyter-widgets/controls",
      "model_module_version": "2.0.0",
      "model_name": "ProgressStyleModel",
      "state": {
       "bar_color": "#223388",
       "description_width": ""
      }
     },
     "a10bf7a7384441aa85bd7dc09c9bef25": {
      "model_module": "@jupyter-widgets/controls",
      "model_module_version": "2.0.0",
      "model_name": "HBoxModel",
      "state": {
       "children": [
        "IPY_MODEL_7354fed3c5fe40b584cce3ddda31483b",
        "IPY_MODEL_a7f3fe3c43224996bed51ba71d3fd738",
        "IPY_MODEL_d78f338365fa4e6198b839f005ad7b9a"
       ],
       "layout": "IPY_MODEL_83cedbf2a5264e1fa325e6506933f159"
      }
     },
     "a1247a84fe954d5fb70b05ee3a756aff": {
      "model_module": "@jupyter-widgets/controls",
      "model_module_version": "2.0.0",
      "model_name": "HTMLModel",
      "state": {
       "layout": "IPY_MODEL_142330f7881348a891241fc0c503b378",
       "style": "IPY_MODEL_d512171ddc69415db347a56abdcbc7fb",
       "value": " 0/10 [00:00&lt;?, ?it/s]"
      }
     },
     "a16e5a610d4a426586edbe7b9f1015c5": {
      "model_module": "@jupyter-widgets/base",
      "model_module_version": "2.0.0",
      "model_name": "LayoutModel",
      "state": {}
     },
     "a170e0306a9d48c8b51430b3cfe0c80a": {
      "model_module": "@jupyter-widgets/controls",
      "model_module_version": "2.0.0",
      "model_name": "FloatProgressModel",
      "state": {
       "bar_style": "danger",
       "layout": "IPY_MODEL_5c1585b448c449a09103183e45bd6ea4",
       "max": 5,
       "style": "IPY_MODEL_653d85cc193e4f9fb1b87d7ceb13a9e0"
      }
     },
     "a173a6b55ee649ebae54d8cc5398114e": {
      "model_module": "@jupyter-widgets/controls",
      "model_module_version": "2.0.0",
      "model_name": "FloatProgressModel",
      "state": {
       "bar_style": "success",
       "layout": "IPY_MODEL_2ece4978a1994ed2bfa1b094a8b1aca4",
       "max": 6,
       "style": "IPY_MODEL_29d4aa2a310e4dd990116c4ecafb75a5",
       "value": 6
      }
     },
     "a17e5681f4bc40a592458e10eb4f2161": {
      "model_module": "@jupyter-widgets/controls",
      "model_module_version": "2.0.0",
      "model_name": "HTMLModel",
      "state": {
       "layout": "IPY_MODEL_58534873d7b64dbaa26de7453f8f3deb",
       "style": "IPY_MODEL_fd1fdaf3bb9b42aea3a1f20d91ac48e6",
       "value": "100%"
      }
     },
     "a17e8865bdad4458ab93b32e85afa15d": {
      "model_module": "@jupyter-widgets/base",
      "model_module_version": "2.0.0",
      "model_name": "LayoutModel",
      "state": {}
     },
     "a18cfadc9e1240649a163ca1545e364e": {
      "model_module": "@jupyter-widgets/controls",
      "model_module_version": "2.0.0",
      "model_name": "HTMLModel",
      "state": {
       "layout": "IPY_MODEL_7a5ba7b25329499a84889211d0395c74",
       "style": "IPY_MODEL_c80150367347442b900e74610532933e",
       "value": " 5/5 [00:09&lt;00:00,  1.44s/it]"
      }
     },
     "a1de0dd47329464080f78e15d834d72a": {
      "model_module": "@jupyter-widgets/base",
      "model_module_version": "2.0.0",
      "model_name": "LayoutModel",
      "state": {}
     },
     "a1fa4552f55a4dfa9c0289c6878afea0": {
      "model_module": "@jupyter-widgets/controls",
      "model_module_version": "2.0.0",
      "model_name": "HTMLStyleModel",
      "state": {
       "description_width": "",
       "font_size": null,
       "text_color": null
      }
     },
     "a2112d8c62c341d3b4ff6e060c43b1bd": {
      "model_module": "@jupyter-widgets/controls",
      "model_module_version": "2.0.0",
      "model_name": "ProgressStyleModel",
      "state": {
       "bar_color": "#223388",
       "description_width": ""
      }
     },
     "a220215baf504ab18827ca851b6729ad": {
      "model_module": "@jupyter-widgets/controls",
      "model_module_version": "2.0.0",
      "model_name": "FloatProgressModel",
      "state": {
       "bar_style": "success",
       "layout": "IPY_MODEL_4a55f8e8df6e45859e781f445ceb92b3",
       "max": 5,
       "style": "IPY_MODEL_a7d96e6f1a2944ee9469ecab2a54d549",
       "value": 5
      }
     },
     "a23bd95476ca4ca78c8d0f71596c6285": {
      "model_module": "@jupyter-widgets/base",
      "model_module_version": "2.0.0",
      "model_name": "LayoutModel",
      "state": {}
     },
     "a28d316f48e248a4938dda61fb9c6272": {
      "model_module": "@jupyter-widgets/controls",
      "model_module_version": "2.0.0",
      "model_name": "HTMLStyleModel",
      "state": {
       "description_width": "",
       "font_size": null,
       "text_color": null
      }
     },
     "a2a1586e4a6f4dc29ac6adc656e0c8f1": {
      "model_module": "@jupyter-widgets/controls",
      "model_module_version": "2.0.0",
      "model_name": "FloatProgressModel",
      "state": {
       "layout": "IPY_MODEL_284bb880795d4abba5aae5ee4df2dc66",
       "max": 1000,
       "style": "IPY_MODEL_7e1070bc1a304fbab973cd5a05a2aba1",
       "value": 1000
      }
     },
     "a2a43168b5c34f62b5026d6feb1e87f6": {
      "model_module": "@jupyter-widgets/controls",
      "model_module_version": "2.0.0",
      "model_name": "FloatProgressModel",
      "state": {
       "layout": "IPY_MODEL_d34280014dd2421bbc06f11e17b1984e",
       "max": 10,
       "style": "IPY_MODEL_574da26f20f745b3a3e11f86ea7cfabd",
       "value": 10
      }
     },
     "a329459f79074959a5cd1c1fca3bff5d": {
      "model_module": "@jupyter-widgets/base",
      "model_module_version": "2.0.0",
      "model_name": "LayoutModel",
      "state": {}
     },
     "a35646eaba924e3eab748c09a0e26078": {
      "model_module": "@jupyter-widgets/controls",
      "model_module_version": "2.0.0",
      "model_name": "HBoxModel",
      "state": {
       "children": [
        "IPY_MODEL_dc0dada4a52f47eea37a32e67613f98d",
        "IPY_MODEL_ed92d75bd3ac4b8dba49d79025e84f6e",
        "IPY_MODEL_b7c18b2bcc1d4582ad5884f3ec9fdb5d"
       ],
       "layout": "IPY_MODEL_819e2b9334274eb39bbd3ad90f72e17e"
      }
     },
     "a359d97fadb440e7bd968a12a005bfae": {
      "model_module": "@jupyter-widgets/controls",
      "model_module_version": "2.0.0",
      "model_name": "HTMLStyleModel",
      "state": {
       "description_width": "",
       "font_size": null,
       "text_color": null
      }
     },
     "a36f872460a9417cbcb22955e9bc2cbf": {
      "model_module": "@jupyter-widgets/base",
      "model_module_version": "2.0.0",
      "model_name": "LayoutModel",
      "state": {}
     },
     "a376fc1a18d54f4892228847c953ab0b": {
      "model_module": "@jupyter-widgets/controls",
      "model_module_version": "2.0.0",
      "model_name": "HBoxModel",
      "state": {
       "children": [
        "IPY_MODEL_1376d47bd2f74263a8cd51ceeed240b7",
        "IPY_MODEL_9e463c2d8a654a2785af26c9addcc5d3",
        "IPY_MODEL_6a0803fa1d7e41b7a22d4473edbea0bb"
       ],
       "layout": "IPY_MODEL_8aaa994fea874d4fbce4258e99ce1808"
      }
     },
     "a379ac6d7fe44282bcf355a4ff2bcf43": {
      "model_module": "@jupyter-widgets/base",
      "model_module_version": "2.0.0",
      "model_name": "LayoutModel",
      "state": {}
     },
     "a39f077113d744a2a8b63ec9dbf2814e": {
      "model_module": "@jupyter-widgets/controls",
      "model_module_version": "2.0.0",
      "model_name": "HTMLModel",
      "state": {
       "layout": "IPY_MODEL_d388d3bcf6364c21a6a33a71ab9dd4bd",
       "style": "IPY_MODEL_02f3fe640c964b1ab643575884a3474d",
       "value": " 0/5 [00:00&lt;?, ?it/s]"
      }
     },
     "a3a2dd0c97cc4709ad4b2813c13e2683": {
      "model_module": "@jupyter-widgets/controls",
      "model_module_version": "2.0.0",
      "model_name": "HTMLModel",
      "state": {
       "layout": "IPY_MODEL_566fb69d47a24316bbf47c5497bd7347",
       "style": "IPY_MODEL_27884ff25bb5477d93f0a2d34ace92fa",
       "value": " 0/5 [00:00&lt;?, ?it/s]"
      }
     },
     "a419c2dcd02d4e3183a7df3754f40556": {
      "model_module": "@jupyter-widgets/controls",
      "model_module_version": "2.0.0",
      "model_name": "HBoxModel",
      "state": {
       "children": [
        "IPY_MODEL_e6e38a8b8e2c4456a26dc12827f61fa5",
        "IPY_MODEL_823e94afc5954c0e9ce187bfcb6fc9e6",
        "IPY_MODEL_b3c3f1514fb549d69d4ff5a9d6c40385"
       ],
       "layout": "IPY_MODEL_d1d30817e72e4836966f8781d06c0e4e"
      }
     },
     "a429d9fc446e46308589d86a6610434e": {
      "model_module": "@jupyter-widgets/base",
      "model_module_version": "2.0.0",
      "model_name": "LayoutModel",
      "state": {}
     },
     "a43bc1fe9ca54bfe83dc33bf38e2f5aa": {
      "model_module": "@jupyter-widgets/base",
      "model_module_version": "2.0.0",
      "model_name": "LayoutModel",
      "state": {}
     },
     "a43cb55b33fd4117a37f030d0de7cdc2": {
      "model_module": "@jupyter-widgets/controls",
      "model_module_version": "2.0.0",
      "model_name": "ProgressStyleModel",
      "state": {
       "description_width": ""
      }
     },
     "a4777aec3bd542cf9da20a243ca148dc": {
      "model_module": "@jupyter-widgets/base",
      "model_module_version": "2.0.0",
      "model_name": "LayoutModel",
      "state": {}
     },
     "a478c50bb362437ba2481d2a5798d701": {
      "model_module": "@jupyter-widgets/controls",
      "model_module_version": "2.0.0",
      "model_name": "ProgressStyleModel",
      "state": {
       "bar_color": "#223388",
       "description_width": ""
      }
     },
     "a4cdd7e64b3e4bdba9339aedeef88290": {
      "model_module": "@jupyter-widgets/controls",
      "model_module_version": "2.0.0",
      "model_name": "HBoxModel",
      "state": {
       "children": [
        "IPY_MODEL_c9e00808ccad46f7a9328a533e83bcfa",
        "IPY_MODEL_71a6040b88bf424a94195a0d81668c5e",
        "IPY_MODEL_ce087d5d71ec419ca284a57608c49594"
       ],
       "layout": "IPY_MODEL_e428a67bae12442a8982e890d7baf44f"
      }
     },
     "a520e65dc8e94812af42640102b1e694": {
      "model_module": "@jupyter-widgets/controls",
      "model_module_version": "2.0.0",
      "model_name": "FloatProgressModel",
      "state": {
       "layout": "IPY_MODEL_2469014923774e54a17f772c5283179c",
       "max": 10000,
       "style": "IPY_MODEL_2f2c1cde2bad4be1a8740e7b230b535b",
       "value": 10000
      }
     },
     "a540b57d0b1a4d809da510785dc4f8ad": {
      "model_module": "@jupyter-widgets/controls",
      "model_module_version": "2.0.0",
      "model_name": "HBoxModel",
      "state": {
       "children": [
        "IPY_MODEL_6c74b2b457364a8d8f0d08b23c38a18a",
        "IPY_MODEL_1b22861739a8414b868ac94a6b2d62d7",
        "IPY_MODEL_877eba1ab621461f8701747a629c7a20"
       ],
       "layout": "IPY_MODEL_567393e606d940a6b63e232afe78c092"
      }
     },
     "a54955eb16284fb4ae5a132ed49b0cbb": {
      "model_module": "@jupyter-widgets/controls",
      "model_module_version": "2.0.0",
      "model_name": "HBoxModel",
      "state": {
       "children": [
        "IPY_MODEL_3139483dc96f45c18d7d4953c18f0c28",
        "IPY_MODEL_02ca3b1bf03f4783abe07691ca661ab1",
        "IPY_MODEL_0abe530337c74c9b9e44374e89b50455"
       ],
       "layout": "IPY_MODEL_8306f416dcae4657b8339c4edae7bd86"
      }
     },
     "a55b253e7a4b45bb951bc6b40b9b76cd": {
      "model_module": "@jupyter-widgets/base",
      "model_module_version": "2.0.0",
      "model_name": "LayoutModel",
      "state": {}
     },
     "a59878e1e39842e19ecb5fc50563971b": {
      "model_module": "@jupyter-widgets/controls",
      "model_module_version": "2.0.0",
      "model_name": "HTMLModel",
      "state": {
       "layout": "IPY_MODEL_004ca877f2a54fdb8c72ea99498a2d0d",
       "style": "IPY_MODEL_67577547a7994b28a1063551ebfb0b6b",
       "value": " 0/10 [00:00&lt;?, ?it/s]"
      }
     },
     "a5a0f1e4a36d484cb485a991552625e6": {
      "model_module": "@jupyter-widgets/base",
      "model_module_version": "2.0.0",
      "model_name": "LayoutModel",
      "state": {}
     },
     "a6171ff4887c45d09b21d3bc296403e0": {
      "model_module": "@jupyter-widgets/controls",
      "model_module_version": "2.0.0",
      "model_name": "HTMLModel",
      "state": {
       "layout": "IPY_MODEL_002405a97b44498896b6838a65e28889",
       "style": "IPY_MODEL_0027f709cc10492199c2e6776f1c3021",
       "value": " 99%"
      }
     },
     "a62ce3bbf32b454e9abb661c3a74e0a5": {
      "model_module": "@jupyter-widgets/controls",
      "model_module_version": "2.0.0",
      "model_name": "FloatProgressModel",
      "state": {
       "layout": "IPY_MODEL_9d48c6f0e9c74cc0a253679b5b1bf46e",
       "max": 10,
       "style": "IPY_MODEL_53e48f10de454405b227cda850ee47cd",
       "value": 10
      }
     },
     "a634e71fa60143ab8e3bf1ade3adfa58": {
      "model_module": "@jupyter-widgets/controls",
      "model_module_version": "2.0.0",
      "model_name": "HTMLStyleModel",
      "state": {
       "description_width": "",
       "font_size": null,
       "text_color": null
      }
     },
     "a694b588396c47fa9605e8946f3701bc": {
      "model_module": "@jupyter-widgets/base",
      "model_module_version": "2.0.0",
      "model_name": "LayoutModel",
      "state": {}
     },
     "a6d96927b5e1483a9425a1b600e7d5c0": {
      "model_module": "@jupyter-widgets/controls",
      "model_module_version": "2.0.0",
      "model_name": "HTMLStyleModel",
      "state": {
       "description_width": "",
       "font_size": null,
       "text_color": null
      }
     },
     "a726546bd0364aea97bd777c91e3fe1b": {
      "model_module": "@jupyter-widgets/controls",
      "model_module_version": "2.0.0",
      "model_name": "ProgressStyleModel",
      "state": {
       "bar_color": "#223388",
       "description_width": ""
      }
     },
     "a75961c553a34f059f7d6051e34f1692": {
      "model_module": "@jupyter-widgets/base",
      "model_module_version": "2.0.0",
      "model_name": "LayoutModel",
      "state": {
       "visibility": "hidden"
      }
     },
     "a7a813fa4a82482c90a46d3a96600c88": {
      "model_module": "@jupyter-widgets/base",
      "model_module_version": "2.0.0",
      "model_name": "LayoutModel",
      "state": {
       "visibility": "hidden"
      }
     },
     "a7d96e6f1a2944ee9469ecab2a54d549": {
      "model_module": "@jupyter-widgets/controls",
      "model_module_version": "2.0.0",
      "model_name": "ProgressStyleModel",
      "state": {
       "description_width": ""
      }
     },
     "a7dd191f7bc5443aa491e497c29e7d4b": {
      "model_module": "@jupyter-widgets/base",
      "model_module_version": "2.0.0",
      "model_name": "LayoutModel",
      "state": {}
     },
     "a7f3fe3c43224996bed51ba71d3fd738": {
      "model_module": "@jupyter-widgets/controls",
      "model_module_version": "2.0.0",
      "model_name": "FloatProgressModel",
      "state": {
       "bar_style": "success",
       "layout": "IPY_MODEL_7c78a15e069d4916ae8d2858a658d3a3",
       "max": 5,
       "style": "IPY_MODEL_331e771670cb4245b90eef2ba1dcb47c",
       "value": 5
      }
     },
     "a827b0beda964d21b0792a2ba2b9f531": {
      "model_module": "@jupyter-widgets/controls",
      "model_module_version": "2.0.0",
      "model_name": "FloatProgressModel",
      "state": {
       "layout": "IPY_MODEL_33de968a38344ba9a8046b81ad74c04a",
       "max": 10000,
       "style": "IPY_MODEL_aed45a86332e46a98db9da91c9f2baac",
       "value": 10000
      }
     },
     "a8bfa69c2f2947ffbd4e5c6ee54f22a0": {
      "model_module": "@jupyter-widgets/controls",
      "model_module_version": "2.0.0",
      "model_name": "ProgressStyleModel",
      "state": {
       "bar_color": "#223388",
       "description_width": ""
      }
     },
     "a9710e4f26a449f7818d62213d82612d": {
      "model_module": "@jupyter-widgets/base",
      "model_module_version": "2.0.0",
      "model_name": "LayoutModel",
      "state": {}
     },
     "a9a01619797f4d1f952528cdabf3f698": {
      "model_module": "@jupyter-widgets/base",
      "model_module_version": "2.0.0",
      "model_name": "LayoutModel",
      "state": {}
     },
     "a9b40f767a824db0b3a202da38434e3c": {
      "model_module": "@jupyter-widgets/base",
      "model_module_version": "2.0.0",
      "model_name": "LayoutModel",
      "state": {}
     },
     "aa2f2979aa2f40999a4d9ad719ace568": {
      "model_module": "@jupyter-widgets/controls",
      "model_module_version": "2.0.0",
      "model_name": "FloatProgressModel",
      "state": {
       "layout": "IPY_MODEL_1a4281f05f634496a909959486cfa9b9",
       "max": 10000,
       "style": "IPY_MODEL_18fd7e1d550642a08aa5c6eadc377ac4",
       "value": 10000
      }
     },
     "aa39a04ce35e4c76abb4979516bb7009": {
      "model_module": "@jupyter-widgets/controls",
      "model_module_version": "2.0.0",
      "model_name": "HTMLModel",
      "state": {
       "layout": "IPY_MODEL_80f522f00fa440e0bba609ffeae1bca9",
       "style": "IPY_MODEL_1b0b9734d3134f7c96bd72edafd63e6e",
       "value": "  0%"
      }
     },
     "aaa970950900419ba13175d43b07ad1f": {
      "model_module": "@jupyter-widgets/base",
      "model_module_version": "2.0.0",
      "model_name": "LayoutModel",
      "state": {}
     },
     "ab2e953f0d634b6ea8a34a5eac17106b": {
      "model_module": "@jupyter-widgets/base",
      "model_module_version": "2.0.0",
      "model_name": "LayoutModel",
      "state": {}
     },
     "ab89d3c1a8f94efda46d9bc1b5dff59b": {
      "model_module": "@jupyter-widgets/base",
      "model_module_version": "2.0.0",
      "model_name": "LayoutModel",
      "state": {
       "visibility": "hidden"
      }
     },
     "abbe5dc91ce6470c8e3d35688780e05a": {
      "model_module": "@jupyter-widgets/controls",
      "model_module_version": "2.0.0",
      "model_name": "HTMLModel",
      "state": {
       "layout": "IPY_MODEL_2e5cd66f5e244b3db65416f274d432b2",
       "style": "IPY_MODEL_2c8f9bae11cb4e13b9ff5e9fd28892ef",
       "value": " 93%"
      }
     },
     "abf683b94b9945f297421bf469465878": {
      "model_module": "@jupyter-widgets/controls",
      "model_module_version": "2.0.0",
      "model_name": "FloatProgressModel",
      "state": {
       "layout": "IPY_MODEL_e1bcc00cca6543a69af7e2e658f51f65",
       "max": 1000,
       "style": "IPY_MODEL_43d48d6e58c94fbdab0117c989978879",
       "value": 1000
      }
     },
     "ac1c6671f5fa4ec4b3a5c317ce5947c8": {
      "model_module": "@jupyter-widgets/base",
      "model_module_version": "2.0.0",
      "model_name": "LayoutModel",
      "state": {}
     },
     "ac4744439d5f4012bd71f21a9ffd1cfe": {
      "model_module": "@jupyter-widgets/base",
      "model_module_version": "2.0.0",
      "model_name": "LayoutModel",
      "state": {}
     },
     "acfaaa2564a8475dbc000d07f1f8c13d": {
      "model_module": "@jupyter-widgets/controls",
      "model_module_version": "2.0.0",
      "model_name": "HBoxModel",
      "state": {
       "children": [
        "IPY_MODEL_46333c77e0d840bd87b27d074f59038c",
        "IPY_MODEL_bf51b49109b2420098abf19d712fcded",
        "IPY_MODEL_3c28413d405444c39ec85d63b65ca738"
       ],
       "layout": "IPY_MODEL_32b10bce66b24b5096ec13289a12ae41"
      }
     },
     "ad04e104422c4dd4a3d5ecdd0025d285": {
      "model_module": "@jupyter-widgets/base",
      "model_module_version": "2.0.0",
      "model_name": "LayoutModel",
      "state": {}
     },
     "ad4200c82e2e4d64a77224ebd6918988": {
      "model_module": "@jupyter-widgets/base",
      "model_module_version": "2.0.0",
      "model_name": "LayoutModel",
      "state": {}
     },
     "ad51fde6941f461d832fbe341f15bcd2": {
      "model_module": "@jupyter-widgets/base",
      "model_module_version": "2.0.0",
      "model_name": "LayoutModel",
      "state": {}
     },
     "ada5f17cf72c4e51a4b1ab9f80de14b6": {
      "model_module": "@jupyter-widgets/controls",
      "model_module_version": "2.0.0",
      "model_name": "FloatProgressModel",
      "state": {
       "layout": "IPY_MODEL_9b84e15de3bf43868f01b21ed75f391a",
       "max": 1000,
       "style": "IPY_MODEL_8c93c54ec8984cee901d9f19fbc9e307",
       "value": 1000
      }
     },
     "adde0161d740420d8e552700ff9b1290": {
      "model_module": "@jupyter-widgets/controls",
      "model_module_version": "2.0.0",
      "model_name": "HTMLModel",
      "state": {
       "layout": "IPY_MODEL_d7708c320841436a8e223af7dd13515b",
       "style": "IPY_MODEL_0207183d0df242bebe7fc83fa6e03403",
       "value": " 99%"
      }
     },
     "addf1ec859064865addc90c1e632fcbd": {
      "model_module": "@jupyter-widgets/controls",
      "model_module_version": "2.0.0",
      "model_name": "HTMLModel",
      "state": {
       "layout": "IPY_MODEL_bacac9417b8c4cf3b76e0db7395d75f7",
       "style": "IPY_MODEL_7746b8783a954aed9c65dc70377d8f40",
       "value": "  0%"
      }
     },
     "aec922dfa06d41d1bbb4f436f15f4e69": {
      "model_module": "@jupyter-widgets/base",
      "model_module_version": "2.0.0",
      "model_name": "LayoutModel",
      "state": {
       "visibility": "hidden"
      }
     },
     "aed45a86332e46a98db9da91c9f2baac": {
      "model_module": "@jupyter-widgets/controls",
      "model_module_version": "2.0.0",
      "model_name": "ProgressStyleModel",
      "state": {
       "bar_color": "#223388",
       "description_width": ""
      }
     },
     "aefb82e3a2794bcab09dafeea5743ae7": {
      "model_module": "@jupyter-widgets/base",
      "model_module_version": "2.0.0",
      "model_name": "LayoutModel",
      "state": {}
     },
     "aefbcf2a5d07495c99f2790a4ed0144e": {
      "model_module": "@jupyter-widgets/controls",
      "model_module_version": "2.0.0",
      "model_name": "HTMLModel",
      "state": {
       "layout": "IPY_MODEL_f5f41d21f3fa44f3a18b339724b94fa4",
       "style": "IPY_MODEL_b9db8f826a62485ea2e7e35278ab853f",
       "value": "  0%"
      }
     },
     "af12ef75d5cd43d7856296cdf2ad2210": {
      "model_module": "@jupyter-widgets/controls",
      "model_module_version": "2.0.0",
      "model_name": "HTMLModel",
      "state": {
       "layout": "IPY_MODEL_e0e44b97b9cd49ed931478a2186467cf",
       "style": "IPY_MODEL_cf9b36091e4d4591808176314e624bec",
       "value": "100%"
      }
     },
     "af3cf7adef1948788067b92e316daaa7": {
      "model_module": "@jupyter-widgets/controls",
      "model_module_version": "2.0.0",
      "model_name": "HTMLModel",
      "state": {
       "layout": "IPY_MODEL_2e8060f1ed044500a40cf5b8e1bb0485",
       "style": "IPY_MODEL_91f613869ed24212a415b7d475939368",
       "value": " 9886/10000 [00:05&lt;00:00, 1728.82it/s]"
      }
     },
     "af6b086d87624cda994d8fd542faf860": {
      "model_module": "@jupyter-widgets/controls",
      "model_module_version": "2.0.0",
      "model_name": "HTMLModel",
      "state": {
       "layout": "IPY_MODEL_51ca09edb7684270b7696dea5ae9e1e1",
       "style": "IPY_MODEL_c3432febae2044cfaa627cd06ca67f95",
       "value": " 0/10 [00:00&lt;?, ?it/s]"
      }
     },
     "af9916d860884e57a76ea966913b1a07": {
      "model_module": "@jupyter-widgets/base",
      "model_module_version": "2.0.0",
      "model_name": "LayoutModel",
      "state": {}
     },
     "b15c7b2ff7c8402f9ad62078f911a28c": {
      "model_module": "@jupyter-widgets/base",
      "model_module_version": "2.0.0",
      "model_name": "LayoutModel",
      "state": {}
     },
     "b1c6600e1f974c7bbac95d98f470887e": {
      "model_module": "@jupyter-widgets/controls",
      "model_module_version": "2.0.0",
      "model_name": "ProgressStyleModel",
      "state": {
       "description_width": ""
      }
     },
     "b1d6551cef51494d9dab589b7cdfec5f": {
      "model_module": "@jupyter-widgets/controls",
      "model_module_version": "2.0.0",
      "model_name": "HTMLModel",
      "state": {
       "layout": "IPY_MODEL_efc1d8d185ef4951b4bd70acab973880",
       "style": "IPY_MODEL_20ddf6f5be2e4ffc8d21bfb0bb772b98",
       "value": " 0/10 [00:00&lt;?, ?it/s]"
      }
     },
     "b21d0c4a3ae64cf0b83e8bb478c134c5": {
      "model_module": "@jupyter-widgets/controls",
      "model_module_version": "2.0.0",
      "model_name": "ProgressStyleModel",
      "state": {
       "bar_color": "#223388",
       "description_width": ""
      }
     },
     "b232ee21eaef482ea9d411d8ddfacb40": {
      "model_module": "@jupyter-widgets/base",
      "model_module_version": "2.0.0",
      "model_name": "LayoutModel",
      "state": {}
     },
     "b23f204cec5a44e8a73d7cacca76ba58": {
      "model_module": "@jupyter-widgets/controls",
      "model_module_version": "2.0.0",
      "model_name": "HBoxModel",
      "state": {
       "children": [
        "IPY_MODEL_046070d8350143929d4d3f510801f6bb",
        "IPY_MODEL_fe5c5ae9419647d8b01c779318a1ef29",
        "IPY_MODEL_0ad9bcb311114d119deb05e96726e7da"
       ],
       "layout": "IPY_MODEL_40e1562696fb4c8a8f7ecc1b4b89843f"
      }
     },
     "b24b8ea6af19458db49e0cc7c61a54c0": {
      "model_module": "@jupyter-widgets/controls",
      "model_module_version": "2.0.0",
      "model_name": "HTMLStyleModel",
      "state": {
       "description_width": "",
       "font_size": null,
       "text_color": null
      }
     },
     "b2850ed2eb884d2293d156f88822a6b2": {
      "model_module": "@jupyter-widgets/controls",
      "model_module_version": "2.0.0",
      "model_name": "HTMLStyleModel",
      "state": {
       "description_width": "",
       "font_size": null,
       "text_color": null
      }
     },
     "b2e76271dc9d4574ad857850515942ec": {
      "model_module": "@jupyter-widgets/base",
      "model_module_version": "2.0.0",
      "model_name": "LayoutModel",
      "state": {}
     },
     "b2f74f24a2584ac58ee71d3cd1a46941": {
      "model_module": "@jupyter-widgets/base",
      "model_module_version": "2.0.0",
      "model_name": "LayoutModel",
      "state": {}
     },
     "b31cd7bc4cf742969e3c3796a2683ae7": {
      "model_module": "@jupyter-widgets/controls",
      "model_module_version": "2.0.0",
      "model_name": "FloatProgressModel",
      "state": {
       "bar_style": "danger",
       "layout": "IPY_MODEL_37b4927bd61f41bab285408e96f24bcd",
       "max": 10000,
       "style": "IPY_MODEL_699a9bddeba34f5fb0541c611cc9ff39",
       "value": 4047
      }
     },
     "b337e6f0e929459ebceac5d9bd78e3fc": {
      "model_module": "@jupyter-widgets/controls",
      "model_module_version": "2.0.0",
      "model_name": "HBoxModel",
      "state": {
       "children": [
        "IPY_MODEL_4ba22c66f8fb4b07a35243ab572bddd3",
        "IPY_MODEL_ee6e9a145259433eb3f3b192af3c256a",
        "IPY_MODEL_64c6126c69894313a68a5c13689e3e1b"
       ],
       "layout": "IPY_MODEL_b4c0f67eded047caa91303a7c17df7fa"
      }
     },
     "b36ae1559b274907aa7d582b9d099875": {
      "model_module": "@jupyter-widgets/controls",
      "model_module_version": "2.0.0",
      "model_name": "HTMLModel",
      "state": {
       "layout": "IPY_MODEL_53da31cb1ccc4a68974dd800295ab245",
       "style": "IPY_MODEL_5aa3387ebe7c499ebd191b1adf18effb",
       "value": " 99%"
      }
     },
     "b3845b8d625847c5b9b209054ca32201": {
      "model_module": "@jupyter-widgets/base",
      "model_module_version": "2.0.0",
      "model_name": "LayoutModel",
      "state": {}
     },
     "b3c3f1514fb549d69d4ff5a9d6c40385": {
      "model_module": "@jupyter-widgets/controls",
      "model_module_version": "2.0.0",
      "model_name": "HTMLModel",
      "state": {
       "layout": "IPY_MODEL_6718053a01064d0f858000c5f1a0e1c6",
       "style": "IPY_MODEL_5749023e33204676b1e5fb6f2733b88c",
       "value": " 0/5 [00:00&lt;?, ?it/s]"
      }
     },
     "b3e9d72bc77e469dbbecf97f6a8c9c3e": {
      "model_module": "@jupyter-widgets/controls",
      "model_module_version": "2.0.0",
      "model_name": "HBoxModel",
      "state": {
       "children": [
        "IPY_MODEL_4d140652e8b545aa821969aa3251fa50",
        "IPY_MODEL_a220215baf504ab18827ca851b6729ad",
        "IPY_MODEL_befa56280caa4894b1f2704eca04ab9e"
       ],
       "layout": "IPY_MODEL_bdaf097741be44f5ab7fe630b4f08649"
      }
     },
     "b4483c0b4e6043129b5aa58a52d2ab6b": {
      "model_module": "@jupyter-widgets/controls",
      "model_module_version": "2.0.0",
      "model_name": "HTMLModel",
      "state": {
       "layout": "IPY_MODEL_5d248f19e08c4a74b107fd3f38841dd0",
       "style": "IPY_MODEL_3fdc510bee244ff990bde1523fd73f2f",
       "value": " 0/10 [00:00&lt;?, ?it/s]"
      }
     },
     "b468e158886a4645a5e78f480b779846": {
      "model_module": "@jupyter-widgets/controls",
      "model_module_version": "2.0.0",
      "model_name": "HTMLModel",
      "state": {
       "layout": "IPY_MODEL_82610e1dc9e34a31833a35dd75a2c237",
       "style": "IPY_MODEL_d5e89c35182e4835b634b4457698efd2",
       "value": " 9856/10000 [00:06&lt;00:00, 1617.52it/s]"
      }
     },
     "b469199ce2d04c8697bc30e0902be193": {
      "model_module": "@jupyter-widgets/controls",
      "model_module_version": "2.0.0",
      "model_name": "HTMLModel",
      "state": {
       "layout": "IPY_MODEL_8dbd89caed56437fa34d55584f7a1a99",
       "style": "IPY_MODEL_be002e33bc574e9eb081128a6e6c052b",
       "value": " 0/100 [00:00&lt;?, ?it/s]"
      }
     },
     "b49d601cf1354e39a9cacd14580fc863": {
      "model_module": "@jupyter-widgets/controls",
      "model_module_version": "2.0.0",
      "model_name": "HTMLStyleModel",
      "state": {
       "description_width": "",
       "font_size": null,
       "text_color": null
      }
     },
     "b4c0f67eded047caa91303a7c17df7fa": {
      "model_module": "@jupyter-widgets/base",
      "model_module_version": "2.0.0",
      "model_name": "LayoutModel",
      "state": {}
     },
     "b523da8c4ff64c58ac5a4fc04c48e6e5": {
      "model_module": "@jupyter-widgets/base",
      "model_module_version": "2.0.0",
      "model_name": "LayoutModel",
      "state": {}
     },
     "b59484f21c3d46999a66c60a65514f19": {
      "model_module": "@jupyter-widgets/controls",
      "model_module_version": "2.0.0",
      "model_name": "HTMLModel",
      "state": {
       "layout": "IPY_MODEL_eb27fbbcd76c4bb4804b81575bb0fb47",
       "style": "IPY_MODEL_03edec27bb7b4acf9c7467b91887692c",
       "value": " 8/8 [01:31&lt;00:00, 17.32s/it]"
      }
     },
     "b60b79e0f2d14403873efc21c0b9f9fe": {
      "model_module": "@jupyter-widgets/base",
      "model_module_version": "2.0.0",
      "model_name": "LayoutModel",
      "state": {}
     },
     "b61c5b3e76ff40c283cf1ce239f90a39": {
      "model_module": "@jupyter-widgets/controls",
      "model_module_version": "2.0.0",
      "model_name": "HTMLModel",
      "state": {
       "layout": "IPY_MODEL_22e2d1a7dca74131b969f32caee8850a",
       "style": "IPY_MODEL_12d0ffe4350447b0bc3440a51ce5249f",
       "value": "  0%"
      }
     },
     "b62831403e4a42a2bf92604926aec9ee": {
      "model_module": "@jupyter-widgets/controls",
      "model_module_version": "2.0.0",
      "model_name": "HTMLModel",
      "state": {
       "layout": "IPY_MODEL_c3cca4fe35db40528cc0da3a9f92f709",
       "style": "IPY_MODEL_1a16c946b30047948b211c86c396b959",
       "value": " 9990/10000 [00:06&lt;00:00, 1617.46it/s]"
      }
     },
     "b62b0e092f8342c89e1b7bb21be1c2e8": {
      "model_module": "@jupyter-widgets/controls",
      "model_module_version": "2.0.0",
      "model_name": "HTMLModel",
      "state": {
       "layout": "IPY_MODEL_39e99f558317437e8ecffabacab8d9af",
       "style": "IPY_MODEL_f061fbd3190643fbbfcc7ba3b5535fc0",
       "value": " 9912/10000 [00:06&lt;00:00, 1628.33it/s]"
      }
     },
     "b670a53189da42918b610d25512d22a1": {
      "model_module": "@jupyter-widgets/controls",
      "model_module_version": "2.0.0",
      "model_name": "HTMLModel",
      "state": {
       "layout": "IPY_MODEL_dc26250f5b4b45fa821519ceb63d9d8f",
       "style": "IPY_MODEL_982e983cff2a4bf49dddda061063ff2a",
       "value": " 93%"
      }
     },
     "b67b59e7c4a9410d98ec715183bc7347": {
      "model_module": "@jupyter-widgets/base",
      "model_module_version": "2.0.0",
      "model_name": "LayoutModel",
      "state": {}
     },
     "b68f6327b47d47089a3ee7eb5f747271": {
      "model_module": "@jupyter-widgets/controls",
      "model_module_version": "2.0.0",
      "model_name": "HTMLStyleModel",
      "state": {
       "description_width": "",
       "font_size": null,
       "text_color": null
      }
     },
     "b6f9524b941f41bba954c9942cac012a": {
      "model_module": "@jupyter-widgets/controls",
      "model_module_version": "2.0.0",
      "model_name": "ProgressStyleModel",
      "state": {
       "bar_color": "#223388",
       "description_width": ""
      }
     },
     "b709ef35d99d4c5693570ae8709523b8": {
      "model_module": "@jupyter-widgets/base",
      "model_module_version": "2.0.0",
      "model_name": "LayoutModel",
      "state": {}
     },
     "b7c18b2bcc1d4582ad5884f3ec9fdb5d": {
      "model_module": "@jupyter-widgets/controls",
      "model_module_version": "2.0.0",
      "model_name": "HTMLModel",
      "state": {
       "layout": "IPY_MODEL_35dd0fc62d2c40bfa8e65be8b402ce15",
       "style": "IPY_MODEL_8914048dda5647498a0a1e69fb6f95a5",
       "value": " 5/5 [00:03&lt;00:00,  1.46it/s]"
      }
     },
     "b7e3d58fb99a4d61a5d95f02cdb6c25d": {
      "model_module": "@jupyter-widgets/base",
      "model_module_version": "2.0.0",
      "model_name": "LayoutModel",
      "state": {
       "visibility": "hidden"
      }
     },
     "b819a2c06684495892d1d958e6d685b5": {
      "model_module": "@jupyter-widgets/controls",
      "model_module_version": "2.0.0",
      "model_name": "HTMLModel",
      "state": {
       "layout": "IPY_MODEL_1c9bfbbbd12c41f0939d50fbe2ad11a7",
       "style": "IPY_MODEL_25aa56d0de524885bbfb3a48b3433947",
       "value": "  0%"
      }
     },
     "b84ce843b6c14839974433be3c4edbdd": {
      "model_module": "@jupyter-widgets/controls",
      "model_module_version": "2.0.0",
      "model_name": "HTMLModel",
      "state": {
       "layout": "IPY_MODEL_ece9f03b0467422e98373444902a92ec",
       "style": "IPY_MODEL_7b353dbe5f35485e8099aebc109d8575",
       "value": "100%"
      }
     },
     "b87820a4884d477ebf0026f4cd69c888": {
      "model_module": "@jupyter-widgets/base",
      "model_module_version": "2.0.0",
      "model_name": "LayoutModel",
      "state": {}
     },
     "b88847d63e64441ca9b5169b0b630426": {
      "model_module": "@jupyter-widgets/base",
      "model_module_version": "2.0.0",
      "model_name": "LayoutModel",
      "state": {}
     },
     "b8e865071af8418389551ab05bddc7ce": {
      "model_module": "@jupyter-widgets/controls",
      "model_module_version": "2.0.0",
      "model_name": "HTMLModel",
      "state": {
       "layout": "IPY_MODEL_584451423f174292adf531820d0ca254",
       "style": "IPY_MODEL_8869894a522f42e68b4de82cd46ce90f",
       "value": " 950/1000 [00:00&lt;00:00, 1292.70it/s]"
      }
     },
     "b8ffd8b9de254b8fbd81eb3b64b7ce0d": {
      "model_module": "@jupyter-widgets/controls",
      "model_module_version": "2.0.0",
      "model_name": "HTMLStyleModel",
      "state": {
       "description_width": "",
       "font_size": null,
       "text_color": null
      }
     },
     "b96a55a7ea294ff9aab925f59c62623c": {
      "model_module": "@jupyter-widgets/base",
      "model_module_version": "2.0.0",
      "model_name": "LayoutModel",
      "state": {}
     },
     "b99e072be46e49ba8204f709f6937a4a": {
      "model_module": "@jupyter-widgets/controls",
      "model_module_version": "2.0.0",
      "model_name": "HTMLStyleModel",
      "state": {
       "description_width": "",
       "font_size": null,
       "text_color": null
      }
     },
     "b9ceca44aece4cf0b8e6894df42abae7": {
      "model_module": "@jupyter-widgets/controls",
      "model_module_version": "2.0.0",
      "model_name": "HTMLStyleModel",
      "state": {
       "description_width": "",
       "font_size": null,
       "text_color": null
      }
     },
     "b9db8f826a62485ea2e7e35278ab853f": {
      "model_module": "@jupyter-widgets/controls",
      "model_module_version": "2.0.0",
      "model_name": "HTMLStyleModel",
      "state": {
       "description_width": "",
       "font_size": null,
       "text_color": null
      }
     },
     "b9de19c86dd74f1691b0454e92b1a924": {
      "model_module": "@jupyter-widgets/base",
      "model_module_version": "2.0.0",
      "model_name": "LayoutModel",
      "state": {}
     },
     "ba3389c0c18240c5ab720377c2062dbc": {
      "model_module": "@jupyter-widgets/controls",
      "model_module_version": "2.0.0",
      "model_name": "FloatProgressModel",
      "state": {
       "bar_style": "danger",
       "layout": "IPY_MODEL_f7698efe62944d4abfab34ab7a8d0e65",
       "max": 5,
       "style": "IPY_MODEL_82a3b7b51e234dc6a2749a9f51d8d5f6"
      }
     },
     "bacac9417b8c4cf3b76e0db7395d75f7": {
      "model_module": "@jupyter-widgets/base",
      "model_module_version": "2.0.0",
      "model_name": "LayoutModel",
      "state": {}
     },
     "bb0bdabdb5ac410288e3fb0f4689c6d5": {
      "model_module": "@jupyter-widgets/base",
      "model_module_version": "2.0.0",
      "model_name": "LayoutModel",
      "state": {}
     },
     "bb43b6b7ff1b40929a0b19a8df4ae8f4": {
      "model_module": "@jupyter-widgets/base",
      "model_module_version": "2.0.0",
      "model_name": "LayoutModel",
      "state": {}
     },
     "bb45148770d74f6fbfb562b1c8248009": {
      "model_module": "@jupyter-widgets/base",
      "model_module_version": "2.0.0",
      "model_name": "LayoutModel",
      "state": {}
     },
     "bb81ffbdf2c7488e90aa9f9827b65f4f": {
      "model_module": "@jupyter-widgets/controls",
      "model_module_version": "2.0.0",
      "model_name": "HTMLStyleModel",
      "state": {
       "description_width": "",
       "font_size": null,
       "text_color": null
      }
     },
     "bc291981383243fa88c85cfa4c9d8fd6": {
      "model_module": "@jupyter-widgets/base",
      "model_module_version": "2.0.0",
      "model_name": "LayoutModel",
      "state": {}
     },
     "bd173e3062b74c4f95206525ce315997": {
      "model_module": "@jupyter-widgets/base",
      "model_module_version": "2.0.0",
      "model_name": "LayoutModel",
      "state": {
       "visibility": "hidden"
      }
     },
     "bd4a7cc6225948abbb365c39bdf098f7": {
      "model_module": "@jupyter-widgets/base",
      "model_module_version": "2.0.0",
      "model_name": "LayoutModel",
      "state": {}
     },
     "bd53774942694f06bca52a80df202aec": {
      "model_module": "@jupyter-widgets/controls",
      "model_module_version": "2.0.0",
      "model_name": "HTMLStyleModel",
      "state": {
       "description_width": "",
       "font_size": null,
       "text_color": null
      }
     },
     "bd85b12c0ab1453e98acc5256881a2d5": {
      "model_module": "@jupyter-widgets/base",
      "model_module_version": "2.0.0",
      "model_name": "LayoutModel",
      "state": {
       "visibility": "hidden"
      }
     },
     "bdaf097741be44f5ab7fe630b4f08649": {
      "model_module": "@jupyter-widgets/base",
      "model_module_version": "2.0.0",
      "model_name": "LayoutModel",
      "state": {}
     },
     "be002e33bc574e9eb081128a6e6c052b": {
      "model_module": "@jupyter-widgets/controls",
      "model_module_version": "2.0.0",
      "model_name": "HTMLStyleModel",
      "state": {
       "description_width": "",
       "font_size": null,
       "text_color": null
      }
     },
     "be3432ce275b42d39d534512d6c825f6": {
      "model_module": "@jupyter-widgets/controls",
      "model_module_version": "2.0.0",
      "model_name": "HTMLModel",
      "state": {
       "layout": "IPY_MODEL_5a2c6f53b9f2492b81e0a303d89dddb5",
       "style": "IPY_MODEL_354ba7912365421a9d6129b5dab64dff",
       "value": " 98%"
      }
     },
     "be50dd0a1b6e4fb7af112d754f4ec036": {
      "model_module": "@jupyter-widgets/base",
      "model_module_version": "2.0.0",
      "model_name": "LayoutModel",
      "state": {}
     },
     "be56354729a745219da58e45e017f0ff": {
      "model_module": "@jupyter-widgets/controls",
      "model_module_version": "2.0.0",
      "model_name": "HTMLStyleModel",
      "state": {
       "description_width": "",
       "font_size": null,
       "text_color": null
      }
     },
     "be82aed80c2849528daa95ee32b86471": {
      "model_module": "@jupyter-widgets/controls",
      "model_module_version": "2.0.0",
      "model_name": "HTMLStyleModel",
      "state": {
       "description_width": "",
       "font_size": null,
       "text_color": null
      }
     },
     "beca8b621ecc49ab937f263a150a0752": {
      "model_module": "@jupyter-widgets/base",
      "model_module_version": "2.0.0",
      "model_name": "LayoutModel",
      "state": {}
     },
     "bef7889a3f8c4909bc274216ff0d7772": {
      "model_module": "@jupyter-widgets/base",
      "model_module_version": "2.0.0",
      "model_name": "LayoutModel",
      "state": {}
     },
     "befa56280caa4894b1f2704eca04ab9e": {
      "model_module": "@jupyter-widgets/controls",
      "model_module_version": "2.0.0",
      "model_name": "HTMLModel",
      "state": {
       "layout": "IPY_MODEL_c78086a8b3c84a3bae7e0e92e0e15392",
       "style": "IPY_MODEL_631795ff1dbb4aafb582b3e77721bbd6",
       "value": " 5/5 [00:00&lt;00:00, 16.38it/s]"
      }
     },
     "bf247c9f903849f5bba72521a4fb8f19": {
      "model_module": "@jupyter-widgets/base",
      "model_module_version": "2.0.0",
      "model_name": "LayoutModel",
      "state": {}
     },
     "bf51b49109b2420098abf19d712fcded": {
      "model_module": "@jupyter-widgets/controls",
      "model_module_version": "2.0.0",
      "model_name": "FloatProgressModel",
      "state": {
       "bar_style": "danger",
       "layout": "IPY_MODEL_789dd4142ff94d3f8cc8f5d334d4639c",
       "max": 5,
       "style": "IPY_MODEL_38b7258970af4eeba73c9ee8c948340f"
      }
     },
     "bf9018daba34462c9578389f7c9d0067": {
      "model_module": "@jupyter-widgets/controls",
      "model_module_version": "2.0.0",
      "model_name": "FloatProgressModel",
      "state": {
       "layout": "IPY_MODEL_b2f74f24a2584ac58ee71d3cd1a46941",
       "max": 10,
       "style": "IPY_MODEL_0946c706b7c34295b3c848a447639727",
       "value": 10
      }
     },
     "bfd0c6152c8f451a83bdce238e67b1aa": {
      "model_module": "@jupyter-widgets/controls",
      "model_module_version": "2.0.0",
      "model_name": "HTMLModel",
      "state": {
       "layout": "IPY_MODEL_589d9767f02149379f51a289f60a247e",
       "style": "IPY_MODEL_f662c19d4d554b5a94cd911929444bc4",
       "value": "  0%"
      }
     },
     "bfdfa6e2ce5c409c9cdf97bda857f0a2": {
      "model_module": "@jupyter-widgets/controls",
      "model_module_version": "2.0.0",
      "model_name": "HTMLStyleModel",
      "state": {
       "description_width": "",
       "font_size": null,
       "text_color": null
      }
     },
     "c01c070a9c7141ab9b04e8ac77ea948b": {
      "model_module": "@jupyter-widgets/controls",
      "model_module_version": "2.0.0",
      "model_name": "HTMLStyleModel",
      "state": {
       "description_width": "",
       "font_size": null,
       "text_color": null
      }
     },
     "c08f2cc1a43e4d45a3704f9e68c8a128": {
      "model_module": "@jupyter-widgets/controls",
      "model_module_version": "2.0.0",
      "model_name": "HTMLModel",
      "state": {
       "layout": "IPY_MODEL_662ef7999f144d72b9cb7a1404365fbb",
       "style": "IPY_MODEL_58520fa606194f329c5af1f975dd059e",
       "value": " 99%"
      }
     },
     "c09051145d9e4b09b6aa5b29ab3c722b": {
      "model_module": "@jupyter-widgets/controls",
      "model_module_version": "2.0.0",
      "model_name": "HTMLStyleModel",
      "state": {
       "description_width": "",
       "font_size": null,
       "text_color": null
      }
     },
     "c14c2b207a4a47a4a2fad0147baf5a3d": {
      "model_module": "@jupyter-widgets/base",
      "model_module_version": "2.0.0",
      "model_name": "LayoutModel",
      "state": {}
     },
     "c17fd10664544619b4770d6fecca4d34": {
      "model_module": "@jupyter-widgets/controls",
      "model_module_version": "2.0.0",
      "model_name": "FloatProgressModel",
      "state": {
       "layout": "IPY_MODEL_7e0d9dd609cb49a3bdc8cbde4c5fd2ef",
       "max": 10000,
       "style": "IPY_MODEL_a726546bd0364aea97bd777c91e3fe1b",
       "value": 10000
      }
     },
     "c1ca026cc69542eab6e983f8915d34ba": {
      "model_module": "@jupyter-widgets/controls",
      "model_module_version": "2.0.0",
      "model_name": "HTMLModel",
      "state": {
       "layout": "IPY_MODEL_108b58e70185412a9586d03c18fc17ff",
       "style": "IPY_MODEL_96c809ed1e534d6f9d391fc5ab5858e9",
       "value": " 5/5 [00:01&lt;00:00,  5.63it/s]"
      }
     },
     "c1f60a0c1e2f4881853d862cb5e008f0": {
      "model_module": "@jupyter-widgets/controls",
      "model_module_version": "2.0.0",
      "model_name": "FloatProgressModel",
      "state": {
       "bar_style": "danger",
       "layout": "IPY_MODEL_30b68a431f8445b889b65a3d57e18fd8",
       "max": 5,
       "style": "IPY_MODEL_b1c6600e1f974c7bbac95d98f470887e"
      }
     },
     "c24f38f442f047b5a499f086fea3f750": {
      "model_module": "@jupyter-widgets/controls",
      "model_module_version": "2.0.0",
      "model_name": "HTMLStyleModel",
      "state": {
       "description_width": "",
       "font_size": null,
       "text_color": null
      }
     },
     "c27544be26604b1dbcc1f844436e9179": {
      "model_module": "@jupyter-widgets/controls",
      "model_module_version": "2.0.0",
      "model_name": "HTMLModel",
      "state": {
       "layout": "IPY_MODEL_c2bedc33ed334df5ba0e2bcc94c319c5",
       "style": "IPY_MODEL_8f18c01a8b9d430fa560240068cfd493",
       "value": " 9880/10000 [00:05&lt;00:00, 1686.24it/s]"
      }
     },
     "c2b7c29e08174b08a648c224439f0ed6": {
      "model_module": "@jupyter-widgets/controls",
      "model_module_version": "2.0.0",
      "model_name": "HTMLModel",
      "state": {
       "layout": "IPY_MODEL_f8a2108decd645cab3cd91235e0fae8e",
       "style": "IPY_MODEL_237199bf688e4fedbdcf5a26f3886f10",
       "value": " 0/10 [00:00&lt;?, ?it/s]"
      }
     },
     "c2bedc33ed334df5ba0e2bcc94c319c5": {
      "model_module": "@jupyter-widgets/base",
      "model_module_version": "2.0.0",
      "model_name": "LayoutModel",
      "state": {}
     },
     "c3432febae2044cfaa627cd06ca67f95": {
      "model_module": "@jupyter-widgets/controls",
      "model_module_version": "2.0.0",
      "model_name": "HTMLStyleModel",
      "state": {
       "description_width": "",
       "font_size": null,
       "text_color": null
      }
     },
     "c35d73ca36de42fa9b2840ddd06f1bac": {
      "model_module": "@jupyter-widgets/base",
      "model_module_version": "2.0.0",
      "model_name": "LayoutModel",
      "state": {}
     },
     "c3638e2c4144420d9e985b8a931ac941": {
      "model_module": "@jupyter-widgets/controls",
      "model_module_version": "2.0.0",
      "model_name": "HTMLModel",
      "state": {
       "layout": "IPY_MODEL_a00cca9157404d45928846e7513a623a",
       "style": "IPY_MODEL_2a8624644d0b4a7fa307a06fd664c94d",
       "value": " 96%"
      }
     },
     "c394ca8e00da47619c3a0f64079f1a39": {
      "model_module": "@jupyter-widgets/base",
      "model_module_version": "2.0.0",
      "model_name": "LayoutModel",
      "state": {}
     },
     "c3a024b387c24ff18d2952e654063136": {
      "model_module": "@jupyter-widgets/controls",
      "model_module_version": "2.0.0",
      "model_name": "HTMLModel",
      "state": {
       "layout": "IPY_MODEL_e3b8798d22b046bc99cffdaa8751d2b0",
       "style": "IPY_MODEL_5314f55d1eb6473e8803b7d6440db0a1",
       "value": " 0/5 [00:04&lt;?, ?it/s]"
      }
     },
     "c3a1ba7cae334c9d803bba41aced6226": {
      "model_module": "@jupyter-widgets/controls",
      "model_module_version": "2.0.0",
      "model_name": "ProgressStyleModel",
      "state": {
       "bar_color": "#223388",
       "description_width": ""
      }
     },
     "c3cca4fe35db40528cc0da3a9f92f709": {
      "model_module": "@jupyter-widgets/base",
      "model_module_version": "2.0.0",
      "model_name": "LayoutModel",
      "state": {}
     },
     "c4398b8983ac4a31aba5c873c3832e2f": {
      "model_module": "@jupyter-widgets/controls",
      "model_module_version": "2.0.0",
      "model_name": "HTMLModel",
      "state": {
       "layout": "IPY_MODEL_a9b40f767a824db0b3a202da38434e3c",
       "style": "IPY_MODEL_548a4e0c3bc54cfba741969deefd8098",
       "value": " 0/10 [00:00&lt;?, ?it/s]"
      }
     },
     "c4cca9e9405546c79e2a2b7218177ee5": {
      "model_module": "@jupyter-widgets/controls",
      "model_module_version": "2.0.0",
      "model_name": "HTMLStyleModel",
      "state": {
       "description_width": "",
       "font_size": null,
       "text_color": null
      }
     },
     "c4e45817a52c45c188e95d440606f6b6": {
      "model_module": "@jupyter-widgets/controls",
      "model_module_version": "2.0.0",
      "model_name": "HTMLModel",
      "state": {
       "layout": "IPY_MODEL_731b75de2e4a44968f3a2cf63dd6df7a",
       "style": "IPY_MODEL_434f7c1486aa48798a88aa139b38c5da",
       "value": " 0/5 [00:04&lt;?, ?it/s]"
      }
     },
     "c4fdce8f46ef4baf95d6ef3eda913d22": {
      "model_module": "@jupyter-widgets/controls",
      "model_module_version": "2.0.0",
      "model_name": "FloatProgressModel",
      "state": {
       "bar_style": "danger",
       "layout": "IPY_MODEL_fbb2d12ab9154c54959c3e5829aee741",
       "max": 5,
       "style": "IPY_MODEL_c86e5753d1bd45baa740af3c7d80776d"
      }
     },
     "c534310fdf414b5f95c7c32f30fce8b6": {
      "model_module": "@jupyter-widgets/controls",
      "model_module_version": "2.0.0",
      "model_name": "HTMLStyleModel",
      "state": {
       "description_width": "",
       "font_size": null,
       "text_color": null
      }
     },
     "c59af304b1ee46b4980a5fa396989090": {
      "model_module": "@jupyter-widgets/base",
      "model_module_version": "2.0.0",
      "model_name": "LayoutModel",
      "state": {}
     },
     "c5a746decd5a4e5aa6f38385a66a90fd": {
      "model_module": "@jupyter-widgets/base",
      "model_module_version": "2.0.0",
      "model_name": "LayoutModel",
      "state": {
       "visibility": "hidden"
      }
     },
     "c5ffea57ac2747a2bba927b1a3c8d57e": {
      "model_module": "@jupyter-widgets/controls",
      "model_module_version": "2.0.0",
      "model_name": "HTMLModel",
      "state": {
       "layout": "IPY_MODEL_4e10c33048ec424c82936bc608abadf0",
       "style": "IPY_MODEL_1d2f35b7e0e848888f22a2ebb9d7b853",
       "value": " 9853/10000 [00:06&lt;00:00, 1574.48it/s]"
      }
     },
     "c62b8d53168c4f0086884226e924b91b": {
      "model_module": "@jupyter-widgets/controls",
      "model_module_version": "2.0.0",
      "model_name": "HTMLStyleModel",
      "state": {
       "description_width": "",
       "font_size": null,
       "text_color": null
      }
     },
     "c6409c08a7124e17a4cba281062caefd": {
      "model_module": "@jupyter-widgets/controls",
      "model_module_version": "2.0.0",
      "model_name": "HTMLStyleModel",
      "state": {
       "description_width": "",
       "font_size": null,
       "text_color": null
      }
     },
     "c698b4a902d0494bace1d8384884ca25": {
      "model_module": "@jupyter-widgets/base",
      "model_module_version": "2.0.0",
      "model_name": "LayoutModel",
      "state": {}
     },
     "c6d91a01a1f646c3a092b8a5f2dcfad0": {
      "model_module": "@jupyter-widgets/base",
      "model_module_version": "2.0.0",
      "model_name": "LayoutModel",
      "state": {}
     },
     "c6e46f85b4e14287923bab46abc50cd0": {
      "model_module": "@jupyter-widgets/controls",
      "model_module_version": "2.0.0",
      "model_name": "ProgressStyleModel",
      "state": {
       "bar_color": "#223388",
       "description_width": ""
      }
     },
     "c78086a8b3c84a3bae7e0e92e0e15392": {
      "model_module": "@jupyter-widgets/base",
      "model_module_version": "2.0.0",
      "model_name": "LayoutModel",
      "state": {}
     },
     "c78693b7434c48d19205a037e1da166f": {
      "model_module": "@jupyter-widgets/controls",
      "model_module_version": "2.0.0",
      "model_name": "HTMLModel",
      "state": {
       "layout": "IPY_MODEL_0a6634d485f4461cbd217ec44580397a",
       "style": "IPY_MODEL_f80864f6d72045909249a258206f3a80",
       "value": " 0/10 [00:00&lt;?, ?it/s]"
      }
     },
     "c792488cb5ff41b09ed258c0923f733c": {
      "model_module": "@jupyter-widgets/base",
      "model_module_version": "2.0.0",
      "model_name": "LayoutModel",
      "state": {}
     },
     "c7b12e3106c644d1b82c3c3a7be2fd2f": {
      "model_module": "@jupyter-widgets/base",
      "model_module_version": "2.0.0",
      "model_name": "LayoutModel",
      "state": {
       "visibility": "hidden"
      }
     },
     "c7e2467d5b40416cbfc0c0c6a922fa01": {
      "model_module": "@jupyter-widgets/base",
      "model_module_version": "2.0.0",
      "model_name": "LayoutModel",
      "state": {}
     },
     "c80150367347442b900e74610532933e": {
      "model_module": "@jupyter-widgets/controls",
      "model_module_version": "2.0.0",
      "model_name": "HTMLStyleModel",
      "state": {
       "description_width": "",
       "font_size": null,
       "text_color": null
      }
     },
     "c86e5753d1bd45baa740af3c7d80776d": {
      "model_module": "@jupyter-widgets/controls",
      "model_module_version": "2.0.0",
      "model_name": "ProgressStyleModel",
      "state": {
       "description_width": ""
      }
     },
     "c8a3be8d9e244d9db8644f7913fe2104": {
      "model_module": "@jupyter-widgets/controls",
      "model_module_version": "2.0.0",
      "model_name": "HTMLStyleModel",
      "state": {
       "description_width": "",
       "font_size": null,
       "text_color": null
      }
     },
     "c8c6da1fe0624878adabd386481798b6": {
      "model_module": "@jupyter-widgets/controls",
      "model_module_version": "2.0.0",
      "model_name": "ProgressStyleModel",
      "state": {
       "description_width": ""
      }
     },
     "c8cec3a77de244d2aad63adbcc4eef02": {
      "model_module": "@jupyter-widgets/base",
      "model_module_version": "2.0.0",
      "model_name": "LayoutModel",
      "state": {
       "visibility": "hidden"
      }
     },
     "c8ecebe33ce3441499c4b8e1951f4882": {
      "model_module": "@jupyter-widgets/controls",
      "model_module_version": "2.0.0",
      "model_name": "HTMLModel",
      "state": {
       "layout": "IPY_MODEL_a23bd95476ca4ca78c8d0f71596c6285",
       "style": "IPY_MODEL_fd22d21b66c44bfa9201f801813c2df5",
       "value": " 9943/10000 [00:05&lt;00:00, 1976.47it/s]"
      }
     },
     "c9e00808ccad46f7a9328a533e83bcfa": {
      "model_module": "@jupyter-widgets/controls",
      "model_module_version": "2.0.0",
      "model_name": "HTMLModel",
      "state": {
       "layout": "IPY_MODEL_29231285199a4d83ac0e5471ecf8c300",
       "style": "IPY_MODEL_e7bd1fbc1a414e01a155c878816c0715",
       "value": "  0%"
      }
     },
     "ca1167a48ca348ee82a1224c30b952e8": {
      "model_module": "@jupyter-widgets/controls",
      "model_module_version": "2.0.0",
      "model_name": "FloatProgressModel",
      "state": {
       "layout": "IPY_MODEL_87071ebfaef2471093cbbed66efff319",
       "max": 10000,
       "style": "IPY_MODEL_9688407d141542b7ad798743e79c3c64",
       "value": 10000
      }
     },
     "ca19eb4356f94bfab0f68726a0c9585a": {
      "model_module": "@jupyter-widgets/controls",
      "model_module_version": "2.0.0",
      "model_name": "HTMLModel",
      "state": {
       "layout": "IPY_MODEL_beca8b621ecc49ab937f263a150a0752",
       "style": "IPY_MODEL_4853fd6feb084ceb9d4241f45a3635ec",
       "value": "  0%"
      }
     },
     "ca2024c1a34b48e7a8cc742494cfa909": {
      "model_module": "@jupyter-widgets/base",
      "model_module_version": "2.0.0",
      "model_name": "LayoutModel",
      "state": {
       "visibility": "hidden"
      }
     },
     "ca4da71618ca4416b6e544237c650073": {
      "model_module": "@jupyter-widgets/base",
      "model_module_version": "2.0.0",
      "model_name": "LayoutModel",
      "state": {
       "visibility": "hidden"
      }
     },
     "ca7695e83163405a8842b2f354a76c9c": {
      "model_module": "@jupyter-widgets/controls",
      "model_module_version": "2.0.0",
      "model_name": "HTMLStyleModel",
      "state": {
       "description_width": "",
       "font_size": null,
       "text_color": null
      }
     },
     "cac27885f3ae4d7eaf44e8bfcfcc3fbf": {
      "model_module": "@jupyter-widgets/base",
      "model_module_version": "2.0.0",
      "model_name": "LayoutModel",
      "state": {}
     },
     "cad69870e0094dcd80d75882862d7162": {
      "model_module": "@jupyter-widgets/controls",
      "model_module_version": "2.0.0",
      "model_name": "HTMLStyleModel",
      "state": {
       "description_width": "",
       "font_size": null,
       "text_color": null
      }
     },
     "cafdff6954494991b0468d3c2a626e03": {
      "model_module": "@jupyter-widgets/controls",
      "model_module_version": "2.0.0",
      "model_name": "FloatProgressModel",
      "state": {
       "layout": "IPY_MODEL_7b44aeae0cb243bd851aa2ac0b779b6f",
       "max": 10000,
       "style": "IPY_MODEL_0adf7aefc9f342d282687051c91a94aa",
       "value": 10000
      }
     },
     "cbbe4d6d8c71409994109c57b1b3703e": {
      "model_module": "@jupyter-widgets/base",
      "model_module_version": "2.0.0",
      "model_name": "LayoutModel",
      "state": {
       "visibility": "hidden"
      }
     },
     "cc248620faec473fbd87640bb5a35c9a": {
      "model_module": "@jupyter-widgets/controls",
      "model_module_version": "2.0.0",
      "model_name": "HBoxModel",
      "state": {
       "children": [
        "IPY_MODEL_eff40db57c484faaa06dbcd9843f9914",
        "IPY_MODEL_77ff40edee4740559baa1d88aa2ef099",
        "IPY_MODEL_022dc77d2a9c43a1af04014daf3e01f5"
       ],
       "layout": "IPY_MODEL_1e29f95d10024850905343003e9d7033"
      }
     },
     "cd6a53ffa15048189855e374ecaaa334": {
      "model_module": "@jupyter-widgets/base",
      "model_module_version": "2.0.0",
      "model_name": "LayoutModel",
      "state": {}
     },
     "cd726a1b5ac5425aa2f6554f130c90d8": {
      "model_module": "@jupyter-widgets/controls",
      "model_module_version": "2.0.0",
      "model_name": "FloatProgressModel",
      "state": {
       "layout": "IPY_MODEL_950cee44e9b6466c86f8844f92226097",
       "max": 10000,
       "style": "IPY_MODEL_093f66708c704db2895b87851e5918ef",
       "value": 10000
      }
     },
     "cde8da87135249d0a2da6ecb609f9353": {
      "model_module": "@jupyter-widgets/controls",
      "model_module_version": "2.0.0",
      "model_name": "HTMLStyleModel",
      "state": {
       "description_width": "",
       "font_size": null,
       "text_color": null
      }
     },
     "ce087d5d71ec419ca284a57608c49594": {
      "model_module": "@jupyter-widgets/controls",
      "model_module_version": "2.0.0",
      "model_name": "HTMLModel",
      "state": {
       "layout": "IPY_MODEL_f07987d28c384c0da9a1a552d5230274",
       "style": "IPY_MODEL_e1acb32332f64dcaa4e415148198393f",
       "value": " 0/10 [00:00&lt;?, ?it/s]"
      }
     },
     "ce8ad5f99e4e4481af33ff2e00b31449": {
      "model_module": "@jupyter-widgets/base",
      "model_module_version": "2.0.0",
      "model_name": "LayoutModel",
      "state": {}
     },
     "ce8ea519049b46baacbf13da79ed0581": {
      "model_module": "@jupyter-widgets/base",
      "model_module_version": "2.0.0",
      "model_name": "LayoutModel",
      "state": {
       "visibility": "hidden"
      }
     },
     "cecede51e8f54cfe921661c947ba5d18": {
      "model_module": "@jupyter-widgets/controls",
      "model_module_version": "2.0.0",
      "model_name": "HBoxModel",
      "state": {
       "children": [
        "IPY_MODEL_38c70f2e0f46407991f441f9505acf50",
        "IPY_MODEL_211356a8084343fcb13f17e108fe118f",
        "IPY_MODEL_f1d4edbf8ee449bea657a05811650e93"
       ],
       "layout": "IPY_MODEL_3caefb9e85724e6ea59a55b7d90eff52"
      }
     },
     "cf099eb6454d48a5a734f44d572e7365": {
      "model_module": "@jupyter-widgets/controls",
      "model_module_version": "2.0.0",
      "model_name": "HTMLStyleModel",
      "state": {
       "description_width": "",
       "font_size": null,
       "text_color": null
      }
     },
     "cf3f62a7e80e4e069a912695df0149d0": {
      "model_module": "@jupyter-widgets/controls",
      "model_module_version": "2.0.0",
      "model_name": "FloatProgressModel",
      "state": {
       "bar_style": "danger",
       "layout": "IPY_MODEL_57def9f2b83b42ab93c787b4234c4547",
       "max": 7,
       "style": "IPY_MODEL_02956a83ed7942fb8a83cc784130b06c",
       "value": 1
      }
     },
     "cf7511bb4bc44deeb7186cdeb4060214": {
      "model_module": "@jupyter-widgets/controls",
      "model_module_version": "2.0.0",
      "model_name": "ProgressStyleModel",
      "state": {
       "bar_color": "#223388",
       "description_width": ""
      }
     },
     "cf7af0f7c9024a55b81f831f44215988": {
      "model_module": "@jupyter-widgets/controls",
      "model_module_version": "2.0.0",
      "model_name": "HTMLModel",
      "state": {
       "layout": "IPY_MODEL_61bf9ad9d4a2455b9f134c38f5bdae0f",
       "style": "IPY_MODEL_e58652e798794a05a787cedd4cf339d7",
       "value": "  0%"
      }
     },
     "cf8b3476b227439890454797593c9fb8": {
      "model_module": "@jupyter-widgets/controls",
      "model_module_version": "2.0.0",
      "model_name": "ProgressStyleModel",
      "state": {
       "description_width": ""
      }
     },
     "cf9b36091e4d4591808176314e624bec": {
      "model_module": "@jupyter-widgets/controls",
      "model_module_version": "2.0.0",
      "model_name": "HTMLStyleModel",
      "state": {
       "description_width": "",
       "font_size": null,
       "text_color": null
      }
     },
     "cfe27c4e9d734935bfa84a896322f8df": {
      "model_module": "@jupyter-widgets/controls",
      "model_module_version": "2.0.0",
      "model_name": "HTMLModel",
      "state": {
       "layout": "IPY_MODEL_9e6650048bc64f78932e5ce1c1311918",
       "style": "IPY_MODEL_b49d601cf1354e39a9cacd14580fc863",
       "value": " 8108/10000 [00:22&lt;00:05, 360.24it/s]"
      }
     },
     "d12b38a80bbb4e9ebb1fddfd636af8d5": {
      "model_module": "@jupyter-widgets/base",
      "model_module_version": "2.0.0",
      "model_name": "LayoutModel",
      "state": {}
     },
     "d1b01953ddc442de88db13c2fd1909f2": {
      "model_module": "@jupyter-widgets/base",
      "model_module_version": "2.0.0",
      "model_name": "LayoutModel",
      "state": {
       "visibility": "hidden"
      }
     },
     "d1c7f83aabde4f3d8b0dd03f62c2c4b0": {
      "model_module": "@jupyter-widgets/base",
      "model_module_version": "2.0.0",
      "model_name": "LayoutModel",
      "state": {}
     },
     "d1d30817e72e4836966f8781d06c0e4e": {
      "model_module": "@jupyter-widgets/base",
      "model_module_version": "2.0.0",
      "model_name": "LayoutModel",
      "state": {}
     },
     "d20a50a4665040f29b108d4b551cbff3": {
      "model_module": "@jupyter-widgets/controls",
      "model_module_version": "2.0.0",
      "model_name": "HTMLStyleModel",
      "state": {
       "description_width": "",
       "font_size": null,
       "text_color": null
      }
     },
     "d21331eac72e4bd8902b3ab2aa0f5270": {
      "model_module": "@jupyter-widgets/controls",
      "model_module_version": "2.0.0",
      "model_name": "FloatProgressModel",
      "state": {
       "layout": "IPY_MODEL_ad04e104422c4dd4a3d5ecdd0025d285",
       "max": 10000,
       "style": "IPY_MODEL_960bf26b71bc4c8da4f76ffe646321d2",
       "value": 10000
      }
     },
     "d25149740d8544dc9f8f5a7b471de06a": {
      "model_module": "@jupyter-widgets/controls",
      "model_module_version": "2.0.0",
      "model_name": "ProgressStyleModel",
      "state": {
       "bar_color": "#223388",
       "description_width": ""
      }
     },
     "d269c99223004f08a9afc71411de1de2": {
      "model_module": "@jupyter-widgets/controls",
      "model_module_version": "2.0.0",
      "model_name": "HTMLModel",
      "state": {
       "layout": "IPY_MODEL_d57ced6b45414a6990da8bcbb703683d",
       "style": "IPY_MODEL_e3322c91a4024b639e0a26235b503e2b",
       "value": " 9894/10000 [00:07&lt;00:00, 1337.24it/s]"
      }
     },
     "d2f8257cf35b40fe91257c0a4d51b923": {
      "model_module": "@jupyter-widgets/controls",
      "model_module_version": "2.0.0",
      "model_name": "HTMLModel",
      "state": {
       "layout": "IPY_MODEL_d798586ab50f4f07969e22ccbefef4b1",
       "style": "IPY_MODEL_5bd3dc1c103a45c39651ecc189958b13",
       "value": " 14%"
      }
     },
     "d316a9ebeed048b4a0f0a19ea80b2552": {
      "model_module": "@jupyter-widgets/base",
      "model_module_version": "2.0.0",
      "model_name": "LayoutModel",
      "state": {}
     },
     "d34280014dd2421bbc06f11e17b1984e": {
      "model_module": "@jupyter-widgets/base",
      "model_module_version": "2.0.0",
      "model_name": "LayoutModel",
      "state": {}
     },
     "d388d3bcf6364c21a6a33a71ab9dd4bd": {
      "model_module": "@jupyter-widgets/base",
      "model_module_version": "2.0.0",
      "model_name": "LayoutModel",
      "state": {}
     },
     "d3c615cc0ea24b34a0f726803a181e7b": {
      "model_module": "@jupyter-widgets/controls",
      "model_module_version": "2.0.0",
      "model_name": "HTMLStyleModel",
      "state": {
       "description_width": "",
       "font_size": null,
       "text_color": null
      }
     },
     "d3e1614e57b0494baad9101b6f7e6c2a": {
      "model_module": "@jupyter-widgets/base",
      "model_module_version": "2.0.0",
      "model_name": "LayoutModel",
      "state": {
       "visibility": "hidden"
      }
     },
     "d4052ccb52274bb7828024c104b7f8c5": {
      "model_module": "@jupyter-widgets/base",
      "model_module_version": "2.0.0",
      "model_name": "LayoutModel",
      "state": {}
     },
     "d44b29f25b9d46e8a98661a2561afe7e": {
      "model_module": "@jupyter-widgets/controls",
      "model_module_version": "2.0.0",
      "model_name": "HTMLStyleModel",
      "state": {
       "description_width": "",
       "font_size": null,
       "text_color": null
      }
     },
     "d45fdba6972e4b219d9385aff9f6e936": {
      "model_module": "@jupyter-widgets/controls",
      "model_module_version": "2.0.0",
      "model_name": "HTMLModel",
      "state": {
       "layout": "IPY_MODEL_0f1bfb214e3f43c9bc14d12071c7a4b1",
       "style": "IPY_MODEL_58eecf84242849b5a5cbffa1677112cc",
       "value": " 0/10 [00:00&lt;?, ?it/s]"
      }
     },
     "d47bea34989f4b569b2eae210a10cd17": {
      "model_module": "@jupyter-widgets/controls",
      "model_module_version": "2.0.0",
      "model_name": "HTMLModel",
      "state": {
       "layout": "IPY_MODEL_5ea454de6a4b4977ace82f366a834112",
       "style": "IPY_MODEL_18078ab13b6a4638958f5eef996b5364",
       "value": "  0%"
      }
     },
     "d4bdc273cef94202a4b5038df2b62a5c": {
      "model_module": "@jupyter-widgets/controls",
      "model_module_version": "2.0.0",
      "model_name": "HBoxModel",
      "state": {
       "children": [
        "IPY_MODEL_24232e704272482f9952496aaa76c61f",
        "IPY_MODEL_4c4394282d924b62b49e13bb33ee53db",
        "IPY_MODEL_c1ca026cc69542eab6e983f8915d34ba"
       ],
       "layout": "IPY_MODEL_38c88159a9154043987776488ff390b5"
      }
     },
     "d512171ddc69415db347a56abdcbc7fb": {
      "model_module": "@jupyter-widgets/controls",
      "model_module_version": "2.0.0",
      "model_name": "HTMLStyleModel",
      "state": {
       "description_width": "",
       "font_size": null,
       "text_color": null
      }
     },
     "d53c54b0caf14c41a2ae532408b40d43": {
      "model_module": "@jupyter-widgets/controls",
      "model_module_version": "2.0.0",
      "model_name": "ProgressStyleModel",
      "state": {
       "bar_color": "#223388",
       "description_width": ""
      }
     },
     "d57ced6b45414a6990da8bcbb703683d": {
      "model_module": "@jupyter-widgets/base",
      "model_module_version": "2.0.0",
      "model_name": "LayoutModel",
      "state": {}
     },
     "d58b5235a8e24ab38beb445e6afcdd43": {
      "model_module": "@jupyter-widgets/controls",
      "model_module_version": "2.0.0",
      "model_name": "HTMLModel",
      "state": {
       "layout": "IPY_MODEL_30d37c9d668146d6b6e7a642821fbff4",
       "style": "IPY_MODEL_ca7695e83163405a8842b2f354a76c9c",
       "value": "  0%"
      }
     },
     "d5e707f956284a94a7aa84c7c13cd0e9": {
      "model_module": "@jupyter-widgets/controls",
      "model_module_version": "2.0.0",
      "model_name": "HTMLModel",
      "state": {
       "layout": "IPY_MODEL_e1726646b4964705b98e830f2e3033aa",
       "style": "IPY_MODEL_78f76c3b43444f4b9b001995e5ea3243",
       "value": " 96%"
      }
     },
     "d5e89c35182e4835b634b4457698efd2": {
      "model_module": "@jupyter-widgets/controls",
      "model_module_version": "2.0.0",
      "model_name": "HTMLStyleModel",
      "state": {
       "description_width": "",
       "font_size": null,
       "text_color": null
      }
     },
     "d5eaf1fe54db4af68e3e2d76a8d214cf": {
      "model_module": "@jupyter-widgets/base",
      "model_module_version": "2.0.0",
      "model_name": "LayoutModel",
      "state": {}
     },
     "d615376d8452425a8bcd0f1e4ad96fdb": {
      "model_module": "@jupyter-widgets/controls",
      "model_module_version": "2.0.0",
      "model_name": "ProgressStyleModel",
      "state": {
       "bar_color": "#223388",
       "description_width": ""
      }
     },
     "d61e54e7d3374912b466f95f4b6c8510": {
      "model_module": "@jupyter-widgets/controls",
      "model_module_version": "2.0.0",
      "model_name": "ProgressStyleModel",
      "state": {
       "bar_color": "#223388",
       "description_width": ""
      }
     },
     "d671215fb68a4091894ef41f5c45d935": {
      "model_module": "@jupyter-widgets/base",
      "model_module_version": "2.0.0",
      "model_name": "LayoutModel",
      "state": {}
     },
     "d67ed50f8e534c6488cb25daa18784a8": {
      "model_module": "@jupyter-widgets/base",
      "model_module_version": "2.0.0",
      "model_name": "LayoutModel",
      "state": {
       "visibility": "hidden"
      }
     },
     "d6808eb8851144e0b1904b124a594166": {
      "model_module": "@jupyter-widgets/base",
      "model_module_version": "2.0.0",
      "model_name": "LayoutModel",
      "state": {}
     },
     "d73f9cb8e6f14d9a80998ca6913b041d": {
      "model_module": "@jupyter-widgets/controls",
      "model_module_version": "2.0.0",
      "model_name": "HTMLStyleModel",
      "state": {
       "description_width": "",
       "font_size": null,
       "text_color": null
      }
     },
     "d7708c320841436a8e223af7dd13515b": {
      "model_module": "@jupyter-widgets/base",
      "model_module_version": "2.0.0",
      "model_name": "LayoutModel",
      "state": {}
     },
     "d77605b6815d4a76a4cc8412faabf7be": {
      "model_module": "@jupyter-widgets/controls",
      "model_module_version": "2.0.0",
      "model_name": "HTMLStyleModel",
      "state": {
       "description_width": "",
       "font_size": null,
       "text_color": null
      }
     },
     "d78f338365fa4e6198b839f005ad7b9a": {
      "model_module": "@jupyter-widgets/controls",
      "model_module_version": "2.0.0",
      "model_name": "HTMLModel",
      "state": {
       "layout": "IPY_MODEL_d316a9ebeed048b4a0f0a19ea80b2552",
       "style": "IPY_MODEL_2d2a3d249da94206b59976daccfd54f4",
       "value": " 5/5 [01:12&lt;00:00, 10.11s/it]"
      }
     },
     "d798586ab50f4f07969e22ccbefef4b1": {
      "model_module": "@jupyter-widgets/base",
      "model_module_version": "2.0.0",
      "model_name": "LayoutModel",
      "state": {}
     },
     "d817ba5692674dfeb82a987a2317c0d6": {
      "model_module": "@jupyter-widgets/controls",
      "model_module_version": "2.0.0",
      "model_name": "HTMLStyleModel",
      "state": {
       "description_width": "",
       "font_size": null,
       "text_color": null
      }
     },
     "d85dec90e93a477db1745a68d0251d0b": {
      "model_module": "@jupyter-widgets/base",
      "model_module_version": "2.0.0",
      "model_name": "LayoutModel",
      "state": {}
     },
     "d939ebd6859a4dbc8096ad28e7f7cb85": {
      "model_module": "@jupyter-widgets/base",
      "model_module_version": "2.0.0",
      "model_name": "LayoutModel",
      "state": {}
     },
     "d95362921c8d4d2489070fd3990015e2": {
      "model_module": "@jupyter-widgets/base",
      "model_module_version": "2.0.0",
      "model_name": "LayoutModel",
      "state": {}
     },
     "d9c94e7a72e846a2bf29691f7edb3e54": {
      "model_module": "@jupyter-widgets/base",
      "model_module_version": "2.0.0",
      "model_name": "LayoutModel",
      "state": {
       "visibility": "hidden"
      }
     },
     "da376df1a9c14e748be202d0ef279282": {
      "model_module": "@jupyter-widgets/controls",
      "model_module_version": "2.0.0",
      "model_name": "HTMLModel",
      "state": {
       "layout": "IPY_MODEL_277484ab0ff042a8b639c2796e1b6fd5",
       "style": "IPY_MODEL_73a57e01996f4761a966ab141676005c",
       "value": " 982/1000 [00:00&lt;00:00, 1337.77it/s]"
      }
     },
     "db67a03763da443a940a5fa8138bb809": {
      "model_module": "@jupyter-widgets/controls",
      "model_module_version": "2.0.0",
      "model_name": "FloatProgressModel",
      "state": {
       "bar_style": "danger",
       "layout": "IPY_MODEL_0beae759351d4a0ea6b9281934c0e2c9",
       "max": 10000,
       "style": "IPY_MODEL_e185e7782aab45cfa4fa42249c30caef",
       "value": 8108
      }
     },
     "db75bc70999d4ab984e46451f7da8152": {
      "model_module": "@jupyter-widgets/controls",
      "model_module_version": "2.0.0",
      "model_name": "HTMLStyleModel",
      "state": {
       "description_width": "",
       "font_size": null,
       "text_color": null
      }
     },
     "dbc93db35e9f496b801f415c1ffff815": {
      "model_module": "@jupyter-widgets/controls",
      "model_module_version": "2.0.0",
      "model_name": "HTMLStyleModel",
      "state": {
       "description_width": "",
       "font_size": null,
       "text_color": null
      }
     },
     "dc0b92bc6a0b4f46919ddf43fdb04ce3": {
      "model_module": "@jupyter-widgets/controls",
      "model_module_version": "2.0.0",
      "model_name": "HTMLStyleModel",
      "state": {
       "description_width": "",
       "font_size": null,
       "text_color": null
      }
     },
     "dc0dada4a52f47eea37a32e67613f98d": {
      "model_module": "@jupyter-widgets/controls",
      "model_module_version": "2.0.0",
      "model_name": "HTMLModel",
      "state": {
       "layout": "IPY_MODEL_0d6b4eafa25e493d85cbcb9d50432b72",
       "style": "IPY_MODEL_082fe36d943c4a3085c1934f0d098248",
       "value": "100%"
      }
     },
     "dc26250f5b4b45fa821519ceb63d9d8f": {
      "model_module": "@jupyter-widgets/base",
      "model_module_version": "2.0.0",
      "model_name": "LayoutModel",
      "state": {}
     },
     "dc8a81c48c684158ae516988de81324c": {
      "model_module": "@jupyter-widgets/controls",
      "model_module_version": "2.0.0",
      "model_name": "FloatProgressModel",
      "state": {
       "bar_style": "success",
       "layout": "IPY_MODEL_479023ead5dd4f39b90d1f93fa51bf31",
       "max": 5,
       "style": "IPY_MODEL_ee11f4e5748c4ea8b07011e5d855774f",
       "value": 5
      }
     },
     "dcbf8ade04b64d03b916b48105e2f850": {
      "model_module": "@jupyter-widgets/controls",
      "model_module_version": "2.0.0",
      "model_name": "ProgressStyleModel",
      "state": {
       "description_width": ""
      }
     },
     "dcfb8dbcd7994caaa199cdc2fbcc1c33": {
      "model_module": "@jupyter-widgets/controls",
      "model_module_version": "2.0.0",
      "model_name": "FloatProgressModel",
      "state": {
       "layout": "IPY_MODEL_a36f872460a9417cbcb22955e9bc2cbf",
       "max": 1000,
       "style": "IPY_MODEL_cf7511bb4bc44deeb7186cdeb4060214",
       "value": 1000
      }
     },
     "dd46fd98c79b44d0b73ebba4a7415d3a": {
      "model_module": "@jupyter-widgets/controls",
      "model_module_version": "2.0.0",
      "model_name": "HTMLModel",
      "state": {
       "layout": "IPY_MODEL_c59af304b1ee46b4980a5fa396989090",
       "style": "IPY_MODEL_6e856c38eb0a4ef38c4855db9bf5708a",
       "value": "  0%"
      }
     },
     "dd5df985951e4316acbacb97e9815795": {
      "model_module": "@jupyter-widgets/base",
      "model_module_version": "2.0.0",
      "model_name": "LayoutModel",
      "state": {}
     },
     "ddbe082b5196487e815e7b7f74591878": {
      "model_module": "@jupyter-widgets/base",
      "model_module_version": "2.0.0",
      "model_name": "LayoutModel",
      "state": {}
     },
     "ddfa406010154e9a89e780de5f523176": {
      "model_module": "@jupyter-widgets/controls",
      "model_module_version": "2.0.0",
      "model_name": "HTMLModel",
      "state": {
       "layout": "IPY_MODEL_855019c5ea3c4383a9143d965e59e4e5",
       "style": "IPY_MODEL_322ead9de0d14d0f89d57e9d455fcc1e",
       "value": " 0/10 [00:00&lt;?, ?it/s]"
      }
     },
     "de3000651f4345aabaaa56670f45aee8": {
      "model_module": "@jupyter-widgets/controls",
      "model_module_version": "2.0.0",
      "model_name": "FloatProgressModel",
      "state": {
       "layout": "IPY_MODEL_bef7889a3f8c4909bc274216ff0d7772",
       "style": "IPY_MODEL_5d6437822a4f47d3937eea3b6bfc144d",
       "value": 100
      }
     },
     "de6529c7634946d29d9ca29dd293b739": {
      "model_module": "@jupyter-widgets/controls",
      "model_module_version": "2.0.0",
      "model_name": "HTMLModel",
      "state": {
       "layout": "IPY_MODEL_795a358acc404ce792769982c3930bdc",
       "style": "IPY_MODEL_891446504a064e6c971ae181bf9aad6b",
       "value": " 95%"
      }
     },
     "de91c9e95304499eac972127c910f68e": {
      "model_module": "@jupyter-widgets/controls",
      "model_module_version": "2.0.0",
      "model_name": "FloatProgressModel",
      "state": {
       "layout": "IPY_MODEL_15934c4556ec4f2598ed495627491999",
       "max": 10000,
       "style": "IPY_MODEL_5b59585fbc24400a83b1afc74ea2b033",
       "value": 10000
      }
     },
     "de9db2f5be9e456eb6d1d00f20d01ad6": {
      "model_module": "@jupyter-widgets/controls",
      "model_module_version": "2.0.0",
      "model_name": "HTMLStyleModel",
      "state": {
       "description_width": "",
       "font_size": null,
       "text_color": null
      }
     },
     "deae0225e60049a2b4103ae5e979a1c4": {
      "model_module": "@jupyter-widgets/controls",
      "model_module_version": "2.0.0",
      "model_name": "ProgressStyleModel",
      "state": {
       "bar_color": "#223388",
       "description_width": ""
      }
     },
     "df09d8de09c54dbd93c5f901543a21b8": {
      "model_module": "@jupyter-widgets/controls",
      "model_module_version": "2.0.0",
      "model_name": "ProgressStyleModel",
      "state": {
       "description_width": ""
      }
     },
     "df2b0804772441568d573773f80cf59a": {
      "model_module": "@jupyter-widgets/controls",
      "model_module_version": "2.0.0",
      "model_name": "HTMLModel",
      "state": {
       "layout": "IPY_MODEL_c7e2467d5b40416cbfc0c0c6a922fa01",
       "style": "IPY_MODEL_3c07cf3274504288968fda8a8e6cf2e2",
       "value": " 9945/10000 [00:05&lt;00:00, 1746.14it/s]"
      }
     },
     "df378aa0d9734ba189108b181afea565": {
      "model_module": "@jupyter-widgets/base",
      "model_module_version": "2.0.0",
      "model_name": "LayoutModel",
      "state": {}
     },
     "dfc888407a9a444da77f43e0ed81ec66": {
      "model_module": "@jupyter-widgets/controls",
      "model_module_version": "2.0.0",
      "model_name": "HTMLModel",
      "state": {
       "layout": "IPY_MODEL_32d2cd9a05bf44fca6222738190f7fcf",
       "style": "IPY_MODEL_3d684958af9e4f41b31b0704506889a1",
       "value": " 9915/10000 [00:07&lt;00:00, 1288.05it/s]"
      }
     },
     "dff15debb1c74512a02d8aa4f37827d3": {
      "model_module": "@jupyter-widgets/base",
      "model_module_version": "2.0.0",
      "model_name": "LayoutModel",
      "state": {}
     },
     "e014f4dd3db646da8f07eafa94fa6bfa": {
      "model_module": "@jupyter-widgets/controls",
      "model_module_version": "2.0.0",
      "model_name": "HTMLModel",
      "state": {
       "layout": "IPY_MODEL_15bd1fc797be48e9afd6514981fef5ff",
       "style": "IPY_MODEL_d3c615cc0ea24b34a0f726803a181e7b",
       "value": " 0/5 [00:22&lt;?, ?it/s]"
      }
     },
     "e08ecddabfe34cb1be4f62d88104f801": {
      "model_module": "@jupyter-widgets/controls",
      "model_module_version": "2.0.0",
      "model_name": "HTMLModel",
      "state": {
       "layout": "IPY_MODEL_cac27885f3ae4d7eaf44e8bfcfcc3fbf",
       "style": "IPY_MODEL_8e0844a1e1034ee48d90e4eb0caeef59",
       "value": "100%"
      }
     },
     "e0cb72a8f6a74ba4ae546a9e1a0b1a99": {
      "model_module": "@jupyter-widgets/controls",
      "model_module_version": "2.0.0",
      "model_name": "ProgressStyleModel",
      "state": {
       "bar_color": "#223388",
       "description_width": ""
      }
     },
     "e0d9398ace9c429c832f9867f7ea5b56": {
      "model_module": "@jupyter-widgets/controls",
      "model_module_version": "2.0.0",
      "model_name": "HTMLModel",
      "state": {
       "layout": "IPY_MODEL_5e43e75737f046879f3b5fa9e1caf7e3",
       "style": "IPY_MODEL_c6409c08a7124e17a4cba281062caefd",
       "value": " 98%"
      }
     },
     "e0dd4f40e7c54ecc8161350dd0a895f6": {
      "model_module": "@jupyter-widgets/controls",
      "model_module_version": "2.0.0",
      "model_name": "ProgressStyleModel",
      "state": {
       "description_width": ""
      }
     },
     "e0e44b97b9cd49ed931478a2186467cf": {
      "model_module": "@jupyter-widgets/base",
      "model_module_version": "2.0.0",
      "model_name": "LayoutModel",
      "state": {}
     },
     "e1534149bff7412dbefd8701bdbf0c6f": {
      "model_module": "@jupyter-widgets/base",
      "model_module_version": "2.0.0",
      "model_name": "LayoutModel",
      "state": {}
     },
     "e1726646b4964705b98e830f2e3033aa": {
      "model_module": "@jupyter-widgets/base",
      "model_module_version": "2.0.0",
      "model_name": "LayoutModel",
      "state": {}
     },
     "e185e7782aab45cfa4fa42249c30caef": {
      "model_module": "@jupyter-widgets/controls",
      "model_module_version": "2.0.0",
      "model_name": "ProgressStyleModel",
      "state": {
       "bar_color": "#223388",
       "description_width": ""
      }
     },
     "e1907798f7c64dd5ae7bdd7dc95af009": {
      "model_module": "@jupyter-widgets/controls",
      "model_module_version": "2.0.0",
      "model_name": "HTMLModel",
      "state": {
       "layout": "IPY_MODEL_387ef1d03eb3445e9e52b9a7f3156286",
       "style": "IPY_MODEL_bb81ffbdf2c7488e90aa9f9827b65f4f",
       "value": " 0/5 [00:00&lt;?, ?it/s]"
      }
     },
     "e1acb32332f64dcaa4e415148198393f": {
      "model_module": "@jupyter-widgets/controls",
      "model_module_version": "2.0.0",
      "model_name": "HTMLStyleModel",
      "state": {
       "description_width": "",
       "font_size": null,
       "text_color": null
      }
     },
     "e1bcc00cca6543a69af7e2e658f51f65": {
      "model_module": "@jupyter-widgets/base",
      "model_module_version": "2.0.0",
      "model_name": "LayoutModel",
      "state": {}
     },
     "e1cc0b55c30b4169932d41c255e345c4": {
      "model_module": "@jupyter-widgets/controls",
      "model_module_version": "2.0.0",
      "model_name": "HTMLStyleModel",
      "state": {
       "description_width": "",
       "font_size": null,
       "text_color": null
      }
     },
     "e1d9934b432b4b91bd8127fc388f8b3c": {
      "model_module": "@jupyter-widgets/controls",
      "model_module_version": "2.0.0",
      "model_name": "HTMLStyleModel",
      "state": {
       "description_width": "",
       "font_size": null,
       "text_color": null
      }
     },
     "e1e3bb67db724663ba568e7de6acc6e7": {
      "model_module": "@jupyter-widgets/base",
      "model_module_version": "2.0.0",
      "model_name": "LayoutModel",
      "state": {}
     },
     "e25ac060cc80488e8189c86bb38c9608": {
      "model_module": "@jupyter-widgets/controls",
      "model_module_version": "2.0.0",
      "model_name": "HTMLModel",
      "state": {
       "layout": "IPY_MODEL_1dc9a853c96b4f0e897c70f961f0fdf9",
       "style": "IPY_MODEL_22ae6fd84a83424c94cff372c4cf432d",
       "value": " 90%"
      }
     },
     "e2c5fa051c0945e495cd45b8fceabd34": {
      "model_module": "@jupyter-widgets/controls",
      "model_module_version": "2.0.0",
      "model_name": "HBoxModel",
      "state": {
       "children": [
        "IPY_MODEL_19206ca15c7f4ac09aeccccd7bda678b",
        "IPY_MODEL_ba3389c0c18240c5ab720377c2062dbc",
        "IPY_MODEL_0c4672481beb4e39bf8a383699030e46"
       ],
       "layout": "IPY_MODEL_13bd518bf8d749a3aa984a435f981e86"
      }
     },
     "e31505778a1d47878d14c3b99638e197": {
      "model_module": "@jupyter-widgets/controls",
      "model_module_version": "2.0.0",
      "model_name": "FloatProgressModel",
      "state": {
       "layout": "IPY_MODEL_0f72acf16cc2470bac055e27c1b8d089",
       "max": 10,
       "style": "IPY_MODEL_511932ae120142e3b0292d05469385ed",
       "value": 10
      }
     },
     "e3322c91a4024b639e0a26235b503e2b": {
      "model_module": "@jupyter-widgets/controls",
      "model_module_version": "2.0.0",
      "model_name": "HTMLStyleModel",
      "state": {
       "description_width": "",
       "font_size": null,
       "text_color": null
      }
     },
     "e3941f0803fe4368848ba113a838ca3a": {
      "model_module": "@jupyter-widgets/base",
      "model_module_version": "2.0.0",
      "model_name": "LayoutModel",
      "state": {}
     },
     "e3b8798d22b046bc99cffdaa8751d2b0": {
      "model_module": "@jupyter-widgets/base",
      "model_module_version": "2.0.0",
      "model_name": "LayoutModel",
      "state": {}
     },
     "e41711597a2c4e78830a7d01aa85c608": {
      "model_module": "@jupyter-widgets/controls",
      "model_module_version": "2.0.0",
      "model_name": "ProgressStyleModel",
      "state": {
       "bar_color": "#223388",
       "description_width": ""
      }
     },
     "e428a67bae12442a8982e890d7baf44f": {
      "model_module": "@jupyter-widgets/base",
      "model_module_version": "2.0.0",
      "model_name": "LayoutModel",
      "state": {}
     },
     "e524e61de4aa43549f03d1802ca3a77c": {
      "model_module": "@jupyter-widgets/controls",
      "model_module_version": "2.0.0",
      "model_name": "FloatProgressModel",
      "state": {
       "bar_style": "danger",
       "layout": "IPY_MODEL_55552fc1ead047fea5959ffacd0e5073",
       "max": 5,
       "style": "IPY_MODEL_5d86a354dceb4f01945c09329dab8d50"
      }
     },
     "e532ed134712462c8d3f7f861924131e": {
      "model_module": "@jupyter-widgets/controls",
      "model_module_version": "2.0.0",
      "model_name": "HTMLModel",
      "state": {
       "layout": "IPY_MODEL_9f7b7adb968d4816a553bffc243f76c7",
       "style": "IPY_MODEL_02b692fa3c0d4afd899523f2c112d478",
       "value": " 98%"
      }
     },
     "e58652e798794a05a787cedd4cf339d7": {
      "model_module": "@jupyter-widgets/controls",
      "model_module_version": "2.0.0",
      "model_name": "HTMLStyleModel",
      "state": {
       "description_width": "",
       "font_size": null,
       "text_color": null
      }
     },
     "e5ad0942829b483593681255cdc565d5": {
      "model_module": "@jupyter-widgets/base",
      "model_module_version": "2.0.0",
      "model_name": "LayoutModel",
      "state": {
       "visibility": "hidden"
      }
     },
     "e5ffd64ebaec4d7196a816f0de058a68": {
      "model_module": "@jupyter-widgets/controls",
      "model_module_version": "2.0.0",
      "model_name": "HTMLStyleModel",
      "state": {
       "description_width": "",
       "font_size": null,
       "text_color": null
      }
     },
     "e63c7436578c40ff93d1e2d987c15a94": {
      "model_module": "@jupyter-widgets/base",
      "model_module_version": "2.0.0",
      "model_name": "LayoutModel",
      "state": {}
     },
     "e680653e1ca4437697a9abdcb91a88e0": {
      "model_module": "@jupyter-widgets/controls",
      "model_module_version": "2.0.0",
      "model_name": "HTMLModel",
      "state": {
       "layout": "IPY_MODEL_8fd842041a114a31898a94ea1d47ea49",
       "style": "IPY_MODEL_9f6c3f0b7f9146a6b9c877fe933180ed",
       "value": " 0/10 [00:00&lt;?, ?it/s]"
      }
     },
     "e69d9a735f73407ca5899a13c5113cf1": {
      "model_module": "@jupyter-widgets/controls",
      "model_module_version": "2.0.0",
      "model_name": "HTMLStyleModel",
      "state": {
       "description_width": "",
       "font_size": null,
       "text_color": null
      }
     },
     "e6cc2af565df4c039d7e922f45125b18": {
      "model_module": "@jupyter-widgets/base",
      "model_module_version": "2.0.0",
      "model_name": "LayoutModel",
      "state": {}
     },
     "e6e38a8b8e2c4456a26dc12827f61fa5": {
      "model_module": "@jupyter-widgets/controls",
      "model_module_version": "2.0.0",
      "model_name": "HTMLModel",
      "state": {
       "layout": "IPY_MODEL_2a9a0b203e6643639bea4303282bbf73",
       "style": "IPY_MODEL_f6beb39eebb64a839e0636bf68cb6a45",
       "value": "  0%"
      }
     },
     "e6f72f69e9d24ec9916f0d76be97ba98": {
      "model_module": "@jupyter-widgets/controls",
      "model_module_version": "2.0.0",
      "model_name": "ProgressStyleModel",
      "state": {
       "bar_color": "#223388",
       "description_width": ""
      }
     },
     "e72112f0e2de4f6c8eb6518a74c20956": {
      "model_module": "@jupyter-widgets/controls",
      "model_module_version": "2.0.0",
      "model_name": "HTMLStyleModel",
      "state": {
       "description_width": "",
       "font_size": null,
       "text_color": null
      }
     },
     "e79537019ed049abb718fdb8dc463f28": {
      "model_module": "@jupyter-widgets/base",
      "model_module_version": "2.0.0",
      "model_name": "LayoutModel",
      "state": {}
     },
     "e7bd1fbc1a414e01a155c878816c0715": {
      "model_module": "@jupyter-widgets/controls",
      "model_module_version": "2.0.0",
      "model_name": "HTMLStyleModel",
      "state": {
       "description_width": "",
       "font_size": null,
       "text_color": null
      }
     },
     "e831738774b040df984b8e96813e88ec": {
      "model_module": "@jupyter-widgets/controls",
      "model_module_version": "2.0.0",
      "model_name": "HTMLModel",
      "state": {
       "layout": "IPY_MODEL_522ea10891b4486888b4fb7cc7350bdd",
       "style": "IPY_MODEL_57e0fbeec36d42e3ac8905ad7d2abd3a",
       "value": " 993/1000 [00:02&lt;00:00, 394.29it/s]"
      }
     },
     "e84b314b773a48cfacb91db768ae164a": {
      "model_module": "@jupyter-widgets/controls",
      "model_module_version": "2.0.0",
      "model_name": "ProgressStyleModel",
      "state": {
       "bar_color": "#223388",
       "description_width": ""
      }
     },
     "e976c92b7528443dab762d1a31e2f123": {
      "model_module": "@jupyter-widgets/base",
      "model_module_version": "2.0.0",
      "model_name": "LayoutModel",
      "state": {}
     },
     "e98d22c4fdde4731b3f17e78cddaf141": {
      "model_module": "@jupyter-widgets/controls",
      "model_module_version": "2.0.0",
      "model_name": "HBoxModel",
      "state": {
       "children": [
        "IPY_MODEL_b61c5b3e76ff40c283cf1ce239f90a39",
        "IPY_MODEL_ff5db1c131de405b8521b1059ae3876b",
        "IPY_MODEL_0e2243625ed54359a9b69998236505f5"
       ],
       "layout": "IPY_MODEL_3af577114aa74e25826ef8ea238fa2e9"
      }
     },
     "e99b6d84448944218d820ec5d6ec1ec6": {
      "model_module": "@jupyter-widgets/controls",
      "model_module_version": "2.0.0",
      "model_name": "HTMLModel",
      "state": {
       "layout": "IPY_MODEL_36c46e46fcea45b8b4c6d80933f9292b",
       "style": "IPY_MODEL_de9db2f5be9e456eb6d1d00f20d01ad6",
       "value": " 1/7 [00:07&lt;00:30,  5.13s/it]"
      }
     },
     "e9bd01f0d366466abb8945e06d17f073": {
      "model_module": "@jupyter-widgets/controls",
      "model_module_version": "2.0.0",
      "model_name": "HTMLModel",
      "state": {
       "layout": "IPY_MODEL_6254375bbfa8407796f337d1eb4da7d1",
       "style": "IPY_MODEL_3ca9d51e057240dfb4d9f639c85696c3",
       "value": " 0/10 [00:00&lt;?, ?it/s]"
      }
     },
     "ea40005a555c43c3af5b5d38cd573629": {
      "model_module": "@jupyter-widgets/controls",
      "model_module_version": "2.0.0",
      "model_name": "HBoxModel",
      "state": {
       "children": [
        "IPY_MODEL_9eb8ac3e68c2482abce1f387933646b1",
        "IPY_MODEL_15e13ff638224df19f651f1f34e0a9e4",
        "IPY_MODEL_b59484f21c3d46999a66c60a65514f19"
       ],
       "layout": "IPY_MODEL_2d9362f516d047f3b60844e9bcbe5ae6"
      }
     },
     "eadbb49189f44df69f0ad78dd18be4bd": {
      "model_module": "@jupyter-widgets/controls",
      "model_module_version": "2.0.0",
      "model_name": "HTMLStyleModel",
      "state": {
       "description_width": "",
       "font_size": null,
       "text_color": null
      }
     },
     "eaf8247f2fec4beba680865897f02985": {
      "model_module": "@jupyter-widgets/controls",
      "model_module_version": "2.0.0",
      "model_name": "HTMLModel",
      "state": {
       "layout": "IPY_MODEL_0a0b59c7d0084262aa5ef3f264dc73af",
       "style": "IPY_MODEL_b68f6327b47d47089a3ee7eb5f747271",
       "value": "100%"
      }
     },
     "eb1fbfef640f4b5c9b0f3794a5ebaaa2": {
      "model_module": "@jupyter-widgets/controls",
      "model_module_version": "2.0.0",
      "model_name": "FloatProgressModel",
      "state": {
       "layout": "IPY_MODEL_7f13555a9aa345678f5ddc2315e05b2c",
       "max": 10,
       "style": "IPY_MODEL_17237541f1214d1d8aa562ba0dc73295",
       "value": 10
      }
     },
     "eb27fbbcd76c4bb4804b81575bb0fb47": {
      "model_module": "@jupyter-widgets/base",
      "model_module_version": "2.0.0",
      "model_name": "LayoutModel",
      "state": {}
     },
     "eb715b673d76415d8ecc7d41e382c705": {
      "model_module": "@jupyter-widgets/controls",
      "model_module_version": "2.0.0",
      "model_name": "HTMLModel",
      "state": {
       "layout": "IPY_MODEL_65c79e3a376f4eb98315998cafeb73be",
       "style": "IPY_MODEL_984a15b035334b6a9290de0713496359",
       "value": " 99%"
      }
     },
     "ebbea31c4b584933a50293498d6db3ff": {
      "model_module": "@jupyter-widgets/base",
      "model_module_version": "2.0.0",
      "model_name": "LayoutModel",
      "state": {}
     },
     "ec02c7a76d79480abbd8ddd703e9e597": {
      "model_module": "@jupyter-widgets/base",
      "model_module_version": "2.0.0",
      "model_name": "LayoutModel",
      "state": {}
     },
     "ec30d605bcd84af4b387c4e0cefdb3fc": {
      "model_module": "@jupyter-widgets/controls",
      "model_module_version": "2.0.0",
      "model_name": "HTMLStyleModel",
      "state": {
       "description_width": "",
       "font_size": null,
       "text_color": null
      }
     },
     "ec6931c2633d4c53a5fc5b0cafbb888e": {
      "model_module": "@jupyter-widgets/base",
      "model_module_version": "2.0.0",
      "model_name": "LayoutModel",
      "state": {}
     },
     "ec6e6ca3011c4a9b9ac0c858a8e8bc7e": {
      "model_module": "@jupyter-widgets/controls",
      "model_module_version": "2.0.0",
      "model_name": "HTMLModel",
      "state": {
       "layout": "IPY_MODEL_7ca3c7b427e047fdbe3089c2fd103ea7",
       "style": "IPY_MODEL_21cef7aa4409459b9299b23a42aee4ce",
       "value": " 933/1000 [00:01&lt;00:00, 735.22it/s]"
      }
     },
     "ec72bdbc9fe540968be0be056146c8cc": {
      "model_module": "@jupyter-widgets/controls",
      "model_module_version": "2.0.0",
      "model_name": "ProgressStyleModel",
      "state": {
       "bar_color": "#223388",
       "description_width": ""
      }
     },
     "ec85ef51ddc4481da984d2d4526f271c": {
      "model_module": "@jupyter-widgets/controls",
      "model_module_version": "2.0.0",
      "model_name": "HTMLStyleModel",
      "state": {
       "description_width": "",
       "font_size": null,
       "text_color": null
      }
     },
     "ece9f03b0467422e98373444902a92ec": {
      "model_module": "@jupyter-widgets/base",
      "model_module_version": "2.0.0",
      "model_name": "LayoutModel",
      "state": {}
     },
     "ecfc1c8dbfa442d2add4256d3071a56d": {
      "model_module": "@jupyter-widgets/controls",
      "model_module_version": "2.0.0",
      "model_name": "HTMLModel",
      "state": {
       "layout": "IPY_MODEL_3075bfdc33d944d697a92ffcb640982b",
       "style": "IPY_MODEL_e1d9934b432b4b91bd8127fc388f8b3c",
       "value": "  0%"
      }
     },
     "ed0ec10166534f2697040434df482538": {
      "model_module": "@jupyter-widgets/base",
      "model_module_version": "2.0.0",
      "model_name": "LayoutModel",
      "state": {}
     },
     "ed2620a273e442649e8b3f76d117e26e": {
      "model_module": "@jupyter-widgets/base",
      "model_module_version": "2.0.0",
      "model_name": "LayoutModel",
      "state": {}
     },
     "ed50f429808849aa9e8c9c638a64bd8a": {
      "model_module": "@jupyter-widgets/controls",
      "model_module_version": "2.0.0",
      "model_name": "HTMLModel",
      "state": {
       "layout": "IPY_MODEL_ad51fde6941f461d832fbe341f15bcd2",
       "style": "IPY_MODEL_c8a3be8d9e244d9db8644f7913fe2104",
       "value": "  0%"
      }
     },
     "ed92d75bd3ac4b8dba49d79025e84f6e": {
      "model_module": "@jupyter-widgets/controls",
      "model_module_version": "2.0.0",
      "model_name": "FloatProgressModel",
      "state": {
       "bar_style": "success",
       "layout": "IPY_MODEL_c394ca8e00da47619c3a0f64079f1a39",
       "max": 5,
       "style": "IPY_MODEL_a43cb55b33fd4117a37f030d0de7cdc2",
       "value": 5
      }
     },
     "edf0fd6e5cb64f0f90feb9c20214d357": {
      "model_module": "@jupyter-widgets/base",
      "model_module_version": "2.0.0",
      "model_name": "LayoutModel",
      "state": {}
     },
     "edf7454d5b9742f89cc4334699116fa3": {
      "model_module": "@jupyter-widgets/base",
      "model_module_version": "2.0.0",
      "model_name": "LayoutModel",
      "state": {}
     },
     "ee11f4e5748c4ea8b07011e5d855774f": {
      "model_module": "@jupyter-widgets/controls",
      "model_module_version": "2.0.0",
      "model_name": "ProgressStyleModel",
      "state": {
       "description_width": ""
      }
     },
     "ee2c08900d134de8800025cf2361c1dc": {
      "model_module": "@jupyter-widgets/controls",
      "model_module_version": "2.0.0",
      "model_name": "HTMLStyleModel",
      "state": {
       "description_width": "",
       "font_size": null,
       "text_color": null
      }
     },
     "ee6e9a145259433eb3f3b192af3c256a": {
      "model_module": "@jupyter-widgets/controls",
      "model_module_version": "2.0.0",
      "model_name": "FloatProgressModel",
      "state": {
       "bar_style": "danger",
       "layout": "IPY_MODEL_048935159c2a480aac1030b1fc72851a",
       "max": 10000,
       "style": "IPY_MODEL_faa84a33efc64e78aa26207ca5bbda05",
       "value": 9383
      }
     },
     "ee8a54b3575a4d1d84935bbeb0aaf9ff": {
      "model_module": "@jupyter-widgets/base",
      "model_module_version": "2.0.0",
      "model_name": "LayoutModel",
      "state": {}
     },
     "eeae644f2ae5459ab0946290f43cd14f": {
      "model_module": "@jupyter-widgets/controls",
      "model_module_version": "2.0.0",
      "model_name": "ProgressStyleModel",
      "state": {
       "bar_color": "#223388",
       "description_width": ""
      }
     },
     "ef01d9a3a6a3413b8866465e573cdaa6": {
      "model_module": "@jupyter-widgets/controls",
      "model_module_version": "2.0.0",
      "model_name": "HTMLStyleModel",
      "state": {
       "description_width": "",
       "font_size": null,
       "text_color": null
      }
     },
     "ef154dd5f597401e8ff5fe9d92077f1c": {
      "model_module": "@jupyter-widgets/controls",
      "model_module_version": "2.0.0",
      "model_name": "FloatProgressModel",
      "state": {
       "layout": "IPY_MODEL_b523da8c4ff64c58ac5a4fc04c48e6e5",
       "max": 10000,
       "style": "IPY_MODEL_732ee3897ae54386b9f0ba31787a4306",
       "value": 10000
      }
     },
     "ef60f2de2e9f461e8117daae093ebee4": {
      "model_module": "@jupyter-widgets/controls",
      "model_module_version": "2.0.0",
      "model_name": "HBoxModel",
      "state": {
       "children": [
        "IPY_MODEL_4d6b44a2dcee4f4eb5f90d0f2ac41853",
        "IPY_MODEL_60921b661c134a7e8a96b820090613c3",
        "IPY_MODEL_72879b5501024844947dbd7c19e579d3"
       ],
       "layout": "IPY_MODEL_883df324cd0b47e1afd21b9ee459aab1"
      }
     },
     "ef86e92486f447babeb8a65df7897d94": {
      "model_module": "@jupyter-widgets/controls",
      "model_module_version": "2.0.0",
      "model_name": "HTMLStyleModel",
      "state": {
       "description_width": "",
       "font_size": null,
       "text_color": null
      }
     },
     "efc1d8d185ef4951b4bd70acab973880": {
      "model_module": "@jupyter-widgets/base",
      "model_module_version": "2.0.0",
      "model_name": "LayoutModel",
      "state": {}
     },
     "efda394c1fd44ddeb88338ddede13e7e": {
      "model_module": "@jupyter-widgets/base",
      "model_module_version": "2.0.0",
      "model_name": "LayoutModel",
      "state": {}
     },
     "efda74e4730a4cafa5670247c46a3075": {
      "model_module": "@jupyter-widgets/base",
      "model_module_version": "2.0.0",
      "model_name": "LayoutModel",
      "state": {}
     },
     "eff40db57c484faaa06dbcd9843f9914": {
      "model_module": "@jupyter-widgets/controls",
      "model_module_version": "2.0.0",
      "model_name": "HTMLModel",
      "state": {
       "layout": "IPY_MODEL_92becf6c8d6949138c181b8c1faf6f08",
       "style": "IPY_MODEL_2df72f0ee5314f448b3be6c83c8bee38",
       "value": "  0%"
      }
     },
     "f0382584bc1141169f5b3d9b34fd6f80": {
      "model_module": "@jupyter-widgets/controls",
      "model_module_version": "2.0.0",
      "model_name": "ProgressStyleModel",
      "state": {
       "description_width": ""
      }
     },
     "f061fbd3190643fbbfcc7ba3b5535fc0": {
      "model_module": "@jupyter-widgets/controls",
      "model_module_version": "2.0.0",
      "model_name": "HTMLStyleModel",
      "state": {
       "description_width": "",
       "font_size": null,
       "text_color": null
      }
     },
     "f073815d8b14419e94c272aefcdc283a": {
      "model_module": "@jupyter-widgets/controls",
      "model_module_version": "2.0.0",
      "model_name": "FloatProgressModel",
      "state": {
       "layout": "IPY_MODEL_b232ee21eaef482ea9d411d8ddfacb40",
       "max": 10000,
       "style": "IPY_MODEL_01c644caa7534cbba02c5718ae2e4b06",
       "value": 10000
      }
     },
     "f07987d28c384c0da9a1a552d5230274": {
      "model_module": "@jupyter-widgets/base",
      "model_module_version": "2.0.0",
      "model_name": "LayoutModel",
      "state": {}
     },
     "f07f1ccd8cdf41b2a0668c75ad662466": {
      "model_module": "@jupyter-widgets/base",
      "model_module_version": "2.0.0",
      "model_name": "LayoutModel",
      "state": {}
     },
     "f0d82f056f994c0e8d05d32f81861958": {
      "model_module": "@jupyter-widgets/controls",
      "model_module_version": "2.0.0",
      "model_name": "HBoxModel",
      "state": {
       "children": [
        "IPY_MODEL_7f5872a37db9457d9e138c03b8a30d5a",
        "IPY_MODEL_37f2e3eab13b4464b240d194a2ecc9ab",
        "IPY_MODEL_a3a2dd0c97cc4709ad4b2813c13e2683"
       ],
       "layout": "IPY_MODEL_ab2e953f0d634b6ea8a34a5eac17106b"
      }
     },
     "f10ab9efba0a4967a2758fa09195432e": {
      "model_module": "@jupyter-widgets/controls",
      "model_module_version": "2.0.0",
      "model_name": "HTMLModel",
      "state": {
       "layout": "IPY_MODEL_bf247c9f903849f5bba72521a4fb8f19",
       "style": "IPY_MODEL_b99e072be46e49ba8204f709f6937a4a",
       "value": " 0/10 [00:00&lt;?, ?it/s]"
      }
     },
     "f1b6b6f32c134a959bae5ede4fc3734f": {
      "model_module": "@jupyter-widgets/base",
      "model_module_version": "2.0.0",
      "model_name": "LayoutModel",
      "state": {
       "visibility": "hidden"
      }
     },
     "f1d4edbf8ee449bea657a05811650e93": {
      "model_module": "@jupyter-widgets/controls",
      "model_module_version": "2.0.0",
      "model_name": "HTMLModel",
      "state": {
       "layout": "IPY_MODEL_3e8efb09753842b1b2632e800543ae9f",
       "style": "IPY_MODEL_be82aed80c2849528daa95ee32b86471",
       "value": " 0/10 [00:00&lt;?, ?it/s]"
      }
     },
     "f1d7902692ef477aaa0b4972bf853277": {
      "model_module": "@jupyter-widgets/controls",
      "model_module_version": "2.0.0",
      "model_name": "HTMLStyleModel",
      "state": {
       "description_width": "",
       "font_size": null,
       "text_color": null
      }
     },
     "f1e8f4b2eacd48699145b1695158476e": {
      "model_module": "@jupyter-widgets/controls",
      "model_module_version": "2.0.0",
      "model_name": "HTMLStyleModel",
      "state": {
       "description_width": "",
       "font_size": null,
       "text_color": null
      }
     },
     "f22492a491174faa893d6781f6a8129b": {
      "model_module": "@jupyter-widgets/base",
      "model_module_version": "2.0.0",
      "model_name": "LayoutModel",
      "state": {}
     },
     "f24dd4eacf0b49dfac064d42bbfd49dd": {
      "model_module": "@jupyter-widgets/controls",
      "model_module_version": "2.0.0",
      "model_name": "HTMLStyleModel",
      "state": {
       "description_width": "",
       "font_size": null,
       "text_color": null
      }
     },
     "f2d0de23ffe149cf98f966013971bf8b": {
      "model_module": "@jupyter-widgets/controls",
      "model_module_version": "2.0.0",
      "model_name": "HTMLStyleModel",
      "state": {
       "description_width": "",
       "font_size": null,
       "text_color": null
      }
     },
     "f3644f0a74de4f09a687cc9594ea25aa": {
      "model_module": "@jupyter-widgets/base",
      "model_module_version": "2.0.0",
      "model_name": "LayoutModel",
      "state": {}
     },
     "f4390490c99e41819aee300c2eec21af": {
      "model_module": "@jupyter-widgets/base",
      "model_module_version": "2.0.0",
      "model_name": "LayoutModel",
      "state": {
       "visibility": "hidden"
      }
     },
     "f485feda082041bf9d36477829efd119": {
      "model_module": "@jupyter-widgets/controls",
      "model_module_version": "2.0.0",
      "model_name": "HTMLStyleModel",
      "state": {
       "description_width": "",
       "font_size": null,
       "text_color": null
      }
     },
     "f4ea112e11ea48f0bacfa4589a75049e": {
      "model_module": "@jupyter-widgets/controls",
      "model_module_version": "2.0.0",
      "model_name": "FloatProgressModel",
      "state": {
       "layout": "IPY_MODEL_32783d69653b4689a964e3deca450724",
       "max": 10000,
       "style": "IPY_MODEL_c6e46f85b4e14287923bab46abc50cd0",
       "value": 10000
      }
     },
     "f5930eba46f2457dae06d149b8c3b358": {
      "model_module": "@jupyter-widgets/controls",
      "model_module_version": "2.0.0",
      "model_name": "HTMLStyleModel",
      "state": {
       "description_width": "",
       "font_size": null,
       "text_color": null
      }
     },
     "f5d2993590e04279b289ab282bc186f6": {
      "model_module": "@jupyter-widgets/base",
      "model_module_version": "2.0.0",
      "model_name": "LayoutModel",
      "state": {
       "visibility": "hidden"
      }
     },
     "f5f41d21f3fa44f3a18b339724b94fa4": {
      "model_module": "@jupyter-widgets/base",
      "model_module_version": "2.0.0",
      "model_name": "LayoutModel",
      "state": {}
     },
     "f6306dab58c34cf28056aced3d7a6c01": {
      "model_module": "@jupyter-widgets/controls",
      "model_module_version": "2.0.0",
      "model_name": "HTMLStyleModel",
      "state": {
       "description_width": "",
       "font_size": null,
       "text_color": null
      }
     },
     "f662c19d4d554b5a94cd911929444bc4": {
      "model_module": "@jupyter-widgets/controls",
      "model_module_version": "2.0.0",
      "model_name": "HTMLStyleModel",
      "state": {
       "description_width": "",
       "font_size": null,
       "text_color": null
      }
     },
     "f6beb39eebb64a839e0636bf68cb6a45": {
      "model_module": "@jupyter-widgets/controls",
      "model_module_version": "2.0.0",
      "model_name": "HTMLStyleModel",
      "state": {
       "description_width": "",
       "font_size": null,
       "text_color": null
      }
     },
     "f6d61eb6982a447cbf21f5b848eeb9bb": {
      "model_module": "@jupyter-widgets/controls",
      "model_module_version": "2.0.0",
      "model_name": "HTMLModel",
      "state": {
       "layout": "IPY_MODEL_121f0f46e54640c0aa77713d1830793f",
       "style": "IPY_MODEL_f5930eba46f2457dae06d149b8c3b358",
       "value": " 0/5 [00:00&lt;?, ?it/s]"
      }
     },
     "f6f01e072cff4d749f71b495e6639e63": {
      "model_module": "@jupyter-widgets/controls",
      "model_module_version": "2.0.0",
      "model_name": "HTMLStyleModel",
      "state": {
       "description_width": "",
       "font_size": null,
       "text_color": null
      }
     },
     "f73f3add14af47ce93e72534d4909edf": {
      "model_module": "@jupyter-widgets/base",
      "model_module_version": "2.0.0",
      "model_name": "LayoutModel",
      "state": {
       "visibility": "hidden"
      }
     },
     "f75c4b598b374a6989da94091eda0825": {
      "model_module": "@jupyter-widgets/base",
      "model_module_version": "2.0.0",
      "model_name": "LayoutModel",
      "state": {}
     },
     "f7698efe62944d4abfab34ab7a8d0e65": {
      "model_module": "@jupyter-widgets/base",
      "model_module_version": "2.0.0",
      "model_name": "LayoutModel",
      "state": {}
     },
     "f7b37d85c2034b96ab29838ca1f93f7b": {
      "model_module": "@jupyter-widgets/controls",
      "model_module_version": "2.0.0",
      "model_name": "FloatProgressModel",
      "state": {
       "layout": "IPY_MODEL_2bb66d103bbd442a894ab45c49ae674a",
       "max": 1000,
       "style": "IPY_MODEL_fc1f65e7a79a41318b69ed8e8aff018a",
       "value": 1000
      }
     },
     "f7e5abbba2fb4732bc25d3a00977e201": {
      "model_module": "@jupyter-widgets/controls",
      "model_module_version": "2.0.0",
      "model_name": "HTMLModel",
      "state": {
       "layout": "IPY_MODEL_43d3adfd72c54b18b1e2d41772b00f33",
       "style": "IPY_MODEL_2ecb0ca48572459c916adcd01c4c5068",
       "value": " 92%"
      }
     },
     "f80864f6d72045909249a258206f3a80": {
      "model_module": "@jupyter-widgets/controls",
      "model_module_version": "2.0.0",
      "model_name": "HTMLStyleModel",
      "state": {
       "description_width": "",
       "font_size": null,
       "text_color": null
      }
     },
     "f868071a6d104a55ae381d89c61add9f": {
      "model_module": "@jupyter-widgets/controls",
      "model_module_version": "2.0.0",
      "model_name": "HTMLModel",
      "state": {
       "layout": "IPY_MODEL_c792488cb5ff41b09ed258c0923f733c",
       "style": "IPY_MODEL_561614b01ed8417a9c6e630eff2191f3",
       "value": " 0/10 [00:00&lt;?, ?it/s]"
      }
     },
     "f88071d3aef14bb093fc72a6e873489c": {
      "model_module": "@jupyter-widgets/controls",
      "model_module_version": "2.0.0",
      "model_name": "HTMLModel",
      "state": {
       "layout": "IPY_MODEL_067328dcf344467da96517bb4b87fa5c",
       "style": "IPY_MODEL_8abe069544234ee78a58e4fdde6ad5a5",
       "value": " 0/10 [00:00&lt;?, ?it/s]"
      }
     },
     "f8a2108decd645cab3cd91235e0fae8e": {
      "model_module": "@jupyter-widgets/base",
      "model_module_version": "2.0.0",
      "model_name": "LayoutModel",
      "state": {}
     },
     "f946acfe43f345f495ea4017858b2e62": {
      "model_module": "@jupyter-widgets/controls",
      "model_module_version": "2.0.0",
      "model_name": "FloatProgressModel",
      "state": {
       "layout": "IPY_MODEL_1de1f9d6c09e44af8dbcce893a27166b",
       "max": 10,
       "style": "IPY_MODEL_42c627c041c54efa8495ac9b0c79fda5",
       "value": 10
      }
     },
     "f98837eab3214fbcbb1d7d83a55994a9": {
      "model_module": "@jupyter-widgets/controls",
      "model_module_version": "2.0.0",
      "model_name": "FloatProgressModel",
      "state": {
       "layout": "IPY_MODEL_b67b59e7c4a9410d98ec715183bc7347",
       "max": 1000,
       "style": "IPY_MODEL_2f4c3717134e4861b6b40afdbfad9599",
       "value": 1000
      }
     },
     "f9cfdc1748f64ed198569dacc3014b97": {
      "model_module": "@jupyter-widgets/controls",
      "model_module_version": "2.0.0",
      "model_name": "FloatProgressModel",
      "state": {
       "layout": "IPY_MODEL_571bd8147cc6483db71d84f3967a57d7",
       "max": 10000,
       "style": "IPY_MODEL_2d77ec9a94034ceba0f8919fc265e1a7",
       "value": 10000
      }
     },
     "faa84a33efc64e78aa26207ca5bbda05": {
      "model_module": "@jupyter-widgets/controls",
      "model_module_version": "2.0.0",
      "model_name": "ProgressStyleModel",
      "state": {
       "bar_color": "#223388",
       "description_width": ""
      }
     },
     "fb3a048bb59e4afd8dc278591b3ed7b1": {
      "model_module": "@jupyter-widgets/controls",
      "model_module_version": "2.0.0",
      "model_name": "FloatProgressModel",
      "state": {
       "bar_style": "danger",
       "layout": "IPY_MODEL_813aa14dcdbe48f38fac76e68b3a7f00",
       "max": 5,
       "style": "IPY_MODEL_2d006f3f0fde4fc7acce415e6075fb49"
      }
     },
     "fb4f14010a48487cb5bffcb3accad510": {
      "model_module": "@jupyter-widgets/controls",
      "model_module_version": "2.0.0",
      "model_name": "HTMLModel",
      "state": {
       "layout": "IPY_MODEL_721732e72db94e09a968b9757a24fb94",
       "style": "IPY_MODEL_44a9b0492a434e1d81de404181167786",
       "value": "  0%"
      }
     },
     "fb991ce653824a0bb82f29bd96fdbd7d": {
      "model_module": "@jupyter-widgets/base",
      "model_module_version": "2.0.0",
      "model_name": "LayoutModel",
      "state": {}
     },
     "fbab0efccd0a4f4d8b54b88f772d6a99": {
      "model_module": "@jupyter-widgets/base",
      "model_module_version": "2.0.0",
      "model_name": "LayoutModel",
      "state": {
       "visibility": "hidden"
      }
     },
     "fbb2d12ab9154c54959c3e5829aee741": {
      "model_module": "@jupyter-widgets/base",
      "model_module_version": "2.0.0",
      "model_name": "LayoutModel",
      "state": {}
     },
     "fc1f65e7a79a41318b69ed8e8aff018a": {
      "model_module": "@jupyter-widgets/controls",
      "model_module_version": "2.0.0",
      "model_name": "ProgressStyleModel",
      "state": {
       "bar_color": "#223388",
       "description_width": ""
      }
     },
     "fcf23774f7cc41f4b20eedd0a753314c": {
      "model_module": "@jupyter-widgets/controls",
      "model_module_version": "2.0.0",
      "model_name": "HTMLStyleModel",
      "state": {
       "description_width": "",
       "font_size": null,
       "text_color": null
      }
     },
     "fd16843ce8154a018324d1b307561c3e": {
      "model_module": "@jupyter-widgets/controls",
      "model_module_version": "2.0.0",
      "model_name": "HTMLModel",
      "state": {
       "layout": "IPY_MODEL_2def26c5e4f843e8af42dbc9c9adac55",
       "style": "IPY_MODEL_9a744523637947f28ff88eb0b976c57d",
       "value": " 9839/10000 [00:05&lt;00:00, 1805.70it/s]"
      }
     },
     "fd1fdaf3bb9b42aea3a1f20d91ac48e6": {
      "model_module": "@jupyter-widgets/controls",
      "model_module_version": "2.0.0",
      "model_name": "HTMLStyleModel",
      "state": {
       "description_width": "",
       "font_size": null,
       "text_color": null
      }
     },
     "fd202d89624345d585601a8981522fa9": {
      "model_module": "@jupyter-widgets/controls",
      "model_module_version": "2.0.0",
      "model_name": "FloatProgressModel",
      "state": {
       "bar_style": "danger",
       "layout": "IPY_MODEL_ddbe082b5196487e815e7b7f74591878",
       "max": 10,
       "style": "IPY_MODEL_84fe376e6e7a45ee9c69e1b2de2dd410"
      }
     },
     "fd22d21b66c44bfa9201f801813c2df5": {
      "model_module": "@jupyter-widgets/controls",
      "model_module_version": "2.0.0",
      "model_name": "HTMLStyleModel",
      "state": {
       "description_width": "",
       "font_size": null,
       "text_color": null
      }
     },
     "fd369dc3e6f64f259bec8e53a8ad609c": {
      "model_module": "@jupyter-widgets/controls",
      "model_module_version": "2.0.0",
      "model_name": "HTMLStyleModel",
      "state": {
       "description_width": "",
       "font_size": null,
       "text_color": null
      }
     },
     "fd78d913c1f04eafabe69b668ace4d6f": {
      "model_module": "@jupyter-widgets/controls",
      "model_module_version": "2.0.0",
      "model_name": "HTMLStyleModel",
      "state": {
       "description_width": "",
       "font_size": null,
       "text_color": null
      }
     },
     "fd7977c2efb44ccab3f2049b3434cf2f": {
      "model_module": "@jupyter-widgets/controls",
      "model_module_version": "2.0.0",
      "model_name": "FloatProgressModel",
      "state": {
       "layout": "IPY_MODEL_485c1e1c7e714c409de4a044d65cedbd",
       "max": 10000,
       "style": "IPY_MODEL_eeae644f2ae5459ab0946290f43cd14f",
       "value": 10000
      }
     },
     "fdcdf6ed37cd4db39896c769d0f36649": {
      "model_module": "@jupyter-widgets/controls",
      "model_module_version": "2.0.0",
      "model_name": "FloatProgressModel",
      "state": {
       "layout": "IPY_MODEL_937f1eecc58c467a86165adace5da11c",
       "max": 10,
       "style": "IPY_MODEL_2f5c8ac19b344730b3309343ba4b7c71",
       "value": 10
      }
     },
     "fdd96bf9b0f646e8a575084c6615e8ff": {
      "model_module": "@jupyter-widgets/controls",
      "model_module_version": "2.0.0",
      "model_name": "HTMLStyleModel",
      "state": {
       "description_width": "",
       "font_size": null,
       "text_color": null
      }
     },
     "fe1c424151d04259a07f2a38a70d4517": {
      "model_module": "@jupyter-widgets/base",
      "model_module_version": "2.0.0",
      "model_name": "LayoutModel",
      "state": {}
     },
     "fe5c5ae9419647d8b01c779318a1ef29": {
      "model_module": "@jupyter-widgets/controls",
      "model_module_version": "2.0.0",
      "model_name": "FloatProgressModel",
      "state": {
       "bar_style": "danger",
       "layout": "IPY_MODEL_33a25eb11393416e9474a57054eef925",
       "max": 10000,
       "style": "IPY_MODEL_6de3db4108f14cf4ad9da56893038665",
       "value": 940
      }
     },
     "ff2bbedea8be4741a798027674e7c0e1": {
      "model_module": "@jupyter-widgets/controls",
      "model_module_version": "2.0.0",
      "model_name": "HBoxModel",
      "state": {
       "children": [
        "IPY_MODEL_bfd0c6152c8f451a83bdce238e67b1aa",
        "IPY_MODEL_7a39d53a0f534747be694a3f4204282a",
        "IPY_MODEL_2b57a0ab039d4d51be343131fba155d9"
       ],
       "layout": "IPY_MODEL_6f396a175ed64454ac234768dadea86b"
      }
     },
     "ff5db1c131de405b8521b1059ae3876b": {
      "model_module": "@jupyter-widgets/controls",
      "model_module_version": "2.0.0",
      "model_name": "FloatProgressModel",
      "state": {
       "bar_style": "danger",
       "layout": "IPY_MODEL_c14c2b207a4a47a4a2fad0147baf5a3d",
       "max": 5,
       "style": "IPY_MODEL_666879e892d64cf2816afba32b48049f"
      }
     },
     "ff9a07b42fb0483f998fafcd81b9c364": {
      "model_module": "@jupyter-widgets/controls",
      "model_module_version": "2.0.0",
      "model_name": "HTMLStyleModel",
      "state": {
       "description_width": "",
       "font_size": null,
       "text_color": null
      }
     },
     "ff9c585ebc624d32b5336ef913dffbea": {
      "model_module": "@jupyter-widgets/controls",
      "model_module_version": "2.0.0",
      "model_name": "FloatProgressModel",
      "state": {
       "layout": "IPY_MODEL_a429d9fc446e46308589d86a6610434e",
       "max": 10,
       "style": "IPY_MODEL_62ee53db39f3420392857cb63a5cae5a",
       "value": 10
      }
     },
     "ff9c7d21387a4a51ac65e667eedfd412": {
      "model_module": "@jupyter-widgets/base",
      "model_module_version": "2.0.0",
      "model_name": "LayoutModel",
      "state": {}
     },
     "ff9f122adf52419e82b0dd6e2c6bf4a3": {
      "model_module": "@jupyter-widgets/controls",
      "model_module_version": "2.0.0",
      "model_name": "HTMLModel",
      "state": {
       "layout": "IPY_MODEL_c698b4a902d0494bace1d8384884ca25",
       "style": "IPY_MODEL_81f96a25b26b4a82854b658b3d66d9b9",
       "value": " 99%"
      }
     },
     "ffc0f03213e7451e988396a50b3efc33": {
      "model_module": "@jupyter-widgets/controls",
      "model_module_version": "2.0.0",
      "model_name": "HTMLModel",
      "state": {
       "layout": "IPY_MODEL_ac1c6671f5fa4ec4b3a5c317ce5947c8",
       "style": "IPY_MODEL_eadbb49189f44df69f0ad78dd18be4bd",
       "value": " 0/10 [00:00&lt;?, ?it/s]"
      }
     },
     "ffdf533d017f410196122a870ed1bd74": {
      "model_module": "@jupyter-widgets/controls",
      "model_module_version": "2.0.0",
      "model_name": "HTMLModel",
      "state": {
       "layout": "IPY_MODEL_bb0bdabdb5ac410288e3fb0f4689c6d5",
       "style": "IPY_MODEL_485329dd0f5d46749173d5c7e923a5d9",
       "value": " 70/100 [00:00&lt;00:00, 698.76it/s]"
      }
     }
    },
    "version_major": 2,
    "version_minor": 0
   }
  }
 },
 "nbformat": 4,
 "nbformat_minor": 4
}
