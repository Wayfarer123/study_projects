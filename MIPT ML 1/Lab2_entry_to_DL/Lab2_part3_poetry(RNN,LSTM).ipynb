{
 "cells": [
  {
   "cell_type": "markdown",
   "metadata": {},
   "source": [
    "## Lab 2"
   ]
  },
  {
   "cell_type": "markdown",
   "metadata": {},
   "source": [
    "### Part 3. Poetry generation\n",
    "\n",
    "Let's try to generate some poetry using RNNs. \n",
    "\n",
    "You have several choices here: \n",
    "\n",
    "* The Shakespeare sonnets, file `sonnets.txt` available in the notebook directory.\n",
    "\n",
    "* Роман в стихах \"Евгений Онегин\" Александра Сергеевича Пушкина. В предобработанном виде доступен по [ссылке](https://github.com/attatrol/data_sources/blob/master/onegin.txt).\n",
    "\n",
    "* Some other text source, if it will be approved by the course staff.\n",
    "\n",
    "Text generation can be designed in several steps:\n",
    "    \n",
    "1. Data loading.\n",
    "2. Dictionary generation.\n",
    "3. Data preprocessing.\n",
    "4. Model (neural network) training.\n",
    "5. Text generation (model evaluation).\n"
   ]
  },
  {
   "cell_type": "code",
   "execution_count": 1,
   "metadata": {},
   "outputs": [],
   "source": [
    "import string\n",
    "import os"
   ]
  },
  {
   "cell_type": "markdown",
   "metadata": {},
   "source": [
    "### Data loading: Shakespeare"
   ]
  },
  {
   "cell_type": "markdown",
   "metadata": {},
   "source": [
    "Shakespeare sonnets are awailable at this [link](http://www.gutenberg.org/ebooks/1041?msg=welcome_stranger). In addition, they are stored in the same directory as this notebook (`sonnetes.txt`). Simple preprocessing is already done for you in the next cell: all technical info is dropped."
   ]
  },
  {
   "cell_type": "code",
   "execution_count": 2,
   "metadata": {},
   "outputs": [],
   "source": [
    "if not os.path.exists('sonnets.txt'):\n",
    "    !wget https://raw.githubusercontent.com/girafe-ai/ml-mipt/master/homeworks_basic/Lab2_DL/sonnets.txt\n",
    "\n",
    "with open('sonnets.txt', 'r') as iofile:\n",
    "    text = iofile.readlines()\n",
    "    \n",
    "TEXT_START = 45\n",
    "TEXT_END = -368\n",
    "text = text[TEXT_START : TEXT_END]\n",
    "assert len(text) == 2616"
   ]
  },
  {
   "cell_type": "markdown",
   "metadata": {},
   "source": [
    "In opposite to the in-class practice, this time we want to predict complex text. Let's reduce the complexity of the task and lowercase all the symbols.\n",
    "\n",
    "Now variable `text` is a list of strings. Join all the strings into one and lowercase it."
   ]
  },
  {
   "cell_type": "code",
   "execution_count": 3,
   "metadata": {},
   "outputs": [
    {
     "name": "stdout",
     "output_type": "stream",
     "text": [
      "OK!\n"
     ]
    }
   ],
   "source": [
    "text = \"\".join(text).lower()\n",
    "\n",
    "assert len(text) == 100225, 'Are you sure you have concatenated all the strings?'\n",
    "assert not any([x in set(text) for x in string.ascii_uppercase]), 'Uppercase letters are present'\n",
    "print('OK!')"
   ]
  },
  {
   "cell_type": "markdown",
   "metadata": {},
   "source": [
    "### Data loading: \"Евгений Онегин\"\n"
   ]
  },
  {
   "cell_type": "code",
   "execution_count": 75,
   "metadata": {
    "scrolled": true
   },
   "outputs": [
    {
     "name": "stdout",
     "output_type": "stream",
     "text": [
      "^C\n"
     ]
    },
    {
     "ename": "FileNotFoundError",
     "evalue": "[Errno 2] No such file or directory: 'onegin.txt'",
     "output_type": "error",
     "traceback": [
      "\u001b[1;31m---------------------------------------------------------------------------\u001b[0m",
      "\u001b[1;31mFileNotFoundError\u001b[0m                         Traceback (most recent call last)",
      "\u001b[1;32m<ipython-input-75-c3467c7ab1f3>\u001b[0m in \u001b[0;36m<module>\u001b[1;34m\u001b[0m\n\u001b[0;32m      1\u001b[0m \u001b[0mget_ipython\u001b[0m\u001b[1;33m(\u001b[0m\u001b[1;33m)\u001b[0m\u001b[1;33m.\u001b[0m\u001b[0msystem\u001b[0m\u001b[1;33m(\u001b[0m\u001b[1;34m'wget https://raw.githubusercontent.com/attatrol/data_sources/master/onegin.txt'\u001b[0m\u001b[1;33m)\u001b[0m\u001b[1;33m\u001b[0m\u001b[1;33m\u001b[0m\u001b[0m\n\u001b[0;32m      2\u001b[0m \u001b[1;33m\u001b[0m\u001b[0m\n\u001b[1;32m----> 3\u001b[1;33m \u001b[1;32mwith\u001b[0m \u001b[0mopen\u001b[0m\u001b[1;33m(\u001b[0m\u001b[1;34m'onegin.txt'\u001b[0m\u001b[1;33m,\u001b[0m \u001b[1;34m'r'\u001b[0m\u001b[1;33m)\u001b[0m \u001b[1;32mas\u001b[0m \u001b[0miofile\u001b[0m\u001b[1;33m:\u001b[0m\u001b[1;33m\u001b[0m\u001b[1;33m\u001b[0m\u001b[0m\n\u001b[0m\u001b[0;32m      4\u001b[0m     \u001b[0mtext\u001b[0m \u001b[1;33m=\u001b[0m \u001b[0miofile\u001b[0m\u001b[1;33m.\u001b[0m\u001b[0mreadlines\u001b[0m\u001b[1;33m(\u001b[0m\u001b[1;33m)\u001b[0m\u001b[1;33m\u001b[0m\u001b[1;33m\u001b[0m\u001b[0m\n\u001b[0;32m      5\u001b[0m \u001b[1;33m\u001b[0m\u001b[0m\n",
      "\u001b[1;31mFileNotFoundError\u001b[0m: [Errno 2] No such file or directory: 'onegin.txt'"
     ]
    }
   ],
   "source": [
    "!wget https://raw.githubusercontent.com/attatrol/data_sources/master/onegin.txt\n",
    "    \n",
    "with open('onegin.txt', 'r') as iofile:\n",
    "    text = iofile.readlines()\n",
    "    \n",
    "text = [x.replace('\\t\\t', '') for x in text]"
   ]
  },
  {
   "cell_type": "markdown",
   "metadata": {},
   "source": [
    "In opposite to the in-class practice, this time we want to predict complex text. Let's reduce the complexity of the task and lowercase all the symbols.\n",
    "\n",
    "Now variable `text` is a list of strings. Join all the strings into one and lowercase it."
   ]
  },
  {
   "cell_type": "code",
   "execution_count": null,
   "metadata": {},
   "outputs": [],
   "source": [
    "# Join all the strings into one and lowercase it\n",
    "# Put result into variable text.\n",
    "\n",
    "# Your great code here\n"
   ]
  },
  {
   "cell_type": "markdown",
   "metadata": {},
   "source": [
    "Put all the characters, that you've seen in the text, into variable `tokens`."
   ]
  },
  {
   "cell_type": "code",
   "execution_count": 4,
   "metadata": {},
   "outputs": [],
   "source": [
    "tokens = sorted(set(text))\n",
    "tokens.append('<') # <SOS>\n",
    "tokens.append('>') # <EOS>\n",
    "tokens.append('_') # <PAD>"
   ]
  },
  {
   "cell_type": "markdown",
   "metadata": {},
   "source": [
    "Create dictionary `token_to_idx = {<char>: <index>}` and dictionary `idx_to_token = {<index>: <char>}`"
   ]
  },
  {
   "cell_type": "code",
   "execution_count": 5,
   "metadata": {},
   "outputs": [],
   "source": [
    "token_to_idx = {token: idx for idx, token in enumerate(tokens)}\n",
    "idx_to_token = tokens"
   ]
  },
  {
   "cell_type": "code",
   "execution_count": 6,
   "metadata": {},
   "outputs": [],
   "source": [
    "# Delete exsessive gaps and split to quatrains\n",
    "lines = ''.join(text.split('\\n\\n')[::2]).split(\"\\n\")\n",
    "lines = [line[2:] for line in lines]\n",
    "#quatrains = ['\\n'.join(lines[i:i+4]) for i in range(len(lines) // 4)]\n",
    "quatrains = ['\\n'.join(lines[i:i+4]) for i in range(len(lines) - 4)]\n",
    "MAX_LENGTH = max(map(len, quatrains))\n",
    "num_tokens = len(tokens)"
   ]
  },
  {
   "cell_type": "markdown",
   "metadata": {},
   "source": [
    "*Comment: in this task we have only 38 different tokens, so let's use one-hot encoding.*"
   ]
  },
  {
   "cell_type": "markdown",
   "metadata": {},
   "source": [
    "###### Building the model"
   ]
  },
  {
   "cell_type": "markdown",
   "metadata": {},
   "source": [
    "Now we want to build and train recurrent neural net which would be able to something similar to Shakespeare's poetry.\n",
    "\n",
    "Let's use vanilla RNN, similar to the one created during the lesson."
   ]
  },
  {
   "cell_type": "code",
   "execution_count": 7,
   "metadata": {},
   "outputs": [],
   "source": [
    "from random import sample\n",
    "def to_matrix(\n",
    "    quatrains, max_len=None, pad=token_to_idx['_'], dtype='int32', batch_first=True\n",
    "    ):\n",
    "    \"\"\"Casts a list of quatrains into rnn-digestable matrix\"\"\"\n",
    "    \n",
    "    if isinstance(quatrains, list):\n",
    "        max_len = max_len or max(map(len, quatrains))\n",
    "    else:\n",
    "        max_len = len(quatrains)\n",
    "    max_len += 1\n",
    "    \n",
    "    max_iter = len(quatrains) if isinstance(quatrains, list) else 1\n",
    "    /\n",
    "    quatrains_ix = np.zeros([max_iter, max_len], dtype) + pad\n",
    "    quatrains_ix[:, 0] = token_to_idx['<'] # \n",
    "    \n",
    "    \n",
    "    for i in range(max_iter):\n",
    "        line_ix = [token_to_idx[c] for c in quatrains[i]] if isinstance(quatrains, list) else [token_to_idx[c] for c in quatrains]\n",
    "        quatrains_ix[i, 1:len(line_ix)] = line_ix[1:]\n",
    "        quatrains_ix[i, len(line_ix)] = token_to_idx['>'] \n",
    "\n",
    "    if not batch_first: # convert [batch, time] into [time, batch]\n",
    "        quatrains_ix = np.transpose(quatrains_ix)\n",
    "\n",
    "    return quatrains_ix"
   ]
  },
  {
   "cell_type": "code",
   "execution_count": 8,
   "metadata": {},
   "outputs": [],
   "source": [
    "import numpy as np\n",
    "import torch, torch.nn as nn\n",
    "import torch.nn.functional as F\n",
    "from matplotlib import pyplot as plt\n",
    "from IPython.display import clear_output\n",
    "import seaborn as sns\n",
    "sns.set_theme(style='darkgrid')\n",
    "\n",
    "class CharRNN(nn.Module):\n",
    "    def __init__(self, num_tokens=num_tokens, emb_size=16, hidden_size=128):\n",
    "        super(self.__class__, self).__init__()\n",
    "        self.emb = nn.Embedding(num_tokens, emb_size)\n",
    "        self.rnn = nn.RNN(emb_size, hidden_size, batch_first=True,\n",
    "                         nonlinearity='relu')\n",
    "        self.hid_to_logits = nn.Linear(hidden_size, num_tokens)\n",
    "        self.hidden_size = hidden_size\n",
    "        \n",
    "    def forward(self, x):\n",
    "        assert isinstance(x.data, torch.LongTensor)\n",
    "        out, hid_state = self.rnn(self.emb(x))\n",
    "        next_logits = self.hid_to_logits(out)\n",
    "        next_logp = F.log_softmax(next_logits, dim=-1)\n",
    "        return next_logp\n",
    "    \n",
    "    def generate(self, x, hid_state):\n",
    "        out, hid_state = self.rnn(self.emb(x), hid_state)\n",
    "        next_logits = self.hid_to_logits(out)\n",
    "        return next_logits, hid_state"
   ]
  },
  {
   "cell_type": "code",
   "execution_count": 10,
   "metadata": {},
   "outputs": [
    {
     "data": {
      "image/png": "[encoded data removed]",
      "text/plain": [
       "<Figure size 720x576 with 1 Axes>"
      ]
     },
     "metadata": {},
     "output_type": "display_data"
    }
   ],
   "source": [
    "loss_history = []\n",
    "\n",
    "try:\n",
    "    del model\n",
    "except:\n",
    "    pass \n",
    "\n",
    "model = CharRNN()\n",
    "optimizer = torch.optim.Adam(model.parameters(), lr=5e-3)\n",
    "scheduler = torch.optim.lr_scheduler.MultiStepLR(optimizer, \n",
    "                                milestones=[1500, 2500], gamma=0.1)\n",
    "\n",
    "for i in range(3500):\n",
    "    batch_ix = to_matrix(sample(quatrains, 16), max_len=MAX_LENGTH)\n",
    "    batch_ix = torch.tensor(batch_ix, dtype=torch.int64)\n",
    "    \n",
    "    logp_seq = model(batch_ix)\n",
    "\n",
    "    loss = F.nll_loss(logp_seq[:, :-1].contiguous().view(-1, num_tokens), \n",
    "                  batch_ix[:, 1:].contiguous().view(-1), \n",
    "                      ignore_index=token_to_idx['_'])\n",
    "    \n",
    "    optimizer.zero_grad()\n",
    "    loss.backward()\n",
    "    optimizer.step()\n",
    "    scheduler.step()\n",
    "\n",
    "    loss_history.append(loss.data.numpy())\n",
    "    if (i+1)%100 == 0:\n",
    "        plt.figure(figsize=(10,8))\n",
    "        clear_output(True)\n",
    "        plt.plot(loss_history, lw=2, label='loss')\n",
    "        plt.xticks(fontsize=16)\n",
    "        plt.yticks(fontsize=16)\n",
    "        plt.legend(shadow=True, fontsize=18)\n",
    "        plt.show()"
   ]
  },
  {
   "cell_type": "markdown",
   "metadata": {},
   "source": [
    "Plot the loss function (axis X: number of epochs, axis Y: loss function)."
   ]
  },
  {
   "cell_type": "code",
   "execution_count": 11,
   "metadata": {},
   "outputs": [],
   "source": [
    "# Your plot code here"
   ]
  },
  {
   "cell_type": "code",
   "execution_count": 12,
   "metadata": {},
   "outputs": [],
   "source": [
    "def generate_sample(model, seed_phrase='<th', max_length=MAX_LENGTH*2, temperature=1.0):\n",
    "    '''\n",
    "    ### Disclaimer: this is an example function for text generation.\n",
    "    ### You can either adapt it in your code or create your own function\n",
    "    \n",
    "    The function generates text given a phrase of length at least SEQ_LENGTH.\n",
    "    :param seed_phrase: prefix characters. The RNN is asked to continue the phrase\n",
    "    :param max_length: maximum output length, including seed_phrase\n",
    "    :param temperature: coefficient for sampling.  higher temperature produces more chaotic outputs, \n",
    "        smaller temperature converges to the single most likely output.\n",
    "        \n",
    "    Be careful with the model output. This model waits logits (not probabilities/log-probabilities)\n",
    "    of the next symbol.\n",
    "    '''\n",
    "    \n",
    "    x_sequence = [token_to_idx[token] for token in seed_phrase]\n",
    "    x_sequence = torch.tensor([x_sequence], dtype=torch.int64)\n",
    "    hid_state = torch.zeros(1, model.hidden_size, requires_grad=True)\n",
    "    \n",
    "    #feed the seed phrase, if any\n",
    "    for i in range(len(seed_phrase) - 1):\n",
    "        logits, hid_state = model.generate(x_sequence[:, i], hid_state)\n",
    "    \n",
    "    #start generating\n",
    "    for _ in range(max_length - len(seed_phrase)):\n",
    "\n",
    "        logits, hid_state = model.generate(x_sequence[:, -1], hid_state)\n",
    "        # Be really careful here with the model output\n",
    "        p_next = F.softmax(logits / temperature, dim=-1).data.numpy()[0]\n",
    "        # sample next token and push it back into x_sequence\n",
    "        next_ix = np.random.choice(len(tokens), p=p_next)\n",
    "        next_ix = torch.tensor([[next_ix]], dtype=torch.int64)\n",
    "        \n",
    "        if next_ix == token_to_idx['>']:\n",
    "            break\n",
    "            \n",
    "        x_sequence = torch.cat([x_sequence, next_ix], dim=1)\n",
    "    \n",
    "    return ''.join([tokens[ix] for ix in x_sequence.data.numpy()[0]])"
   ]
  },
  {
   "cell_type": "code",
   "execution_count": 13,
   "metadata": {},
   "outputs": [
    {
     "name": "stdout",
     "output_type": "stream",
     "text": [
      "thence still and heart which thy shall give the world and you with the sweet self in the world's sweet self to be thy self my heart thou dost his still,\n",
      "  that i am all my beauty of the world my sen the beauty of thine old with my love no loss,\n",
      "or thee what worthing thee my new to me to thee in the take thee in the blame the old dear injuries the worst of blame shall be dear love, and the praise thou that she with me with for thee in the strange of thine abuse thee are and the world whileress and t\n"
     ]
    }
   ],
   "source": [
    "print(generate_sample(model, temperature=0.4)[1:])"
   ]
  },
  {
   "cell_type": "markdown",
   "metadata": {},
   "source": [
    "### More poetic model\n",
    "\n",
    "Let's use LSTM instead of vanilla RNN and compare the results."
   ]
  },
  {
   "cell_type": "markdown",
   "metadata": {},
   "source": [
    "Plot the loss function of the number of epochs. Does the final loss become better?"
   ]
  },
  {
   "cell_type": "code",
   "execution_count": 14,
   "metadata": {},
   "outputs": [],
   "source": [
    "class LSTM(nn.Module):\n",
    "    def __init__(self, num_tokens=num_tokens, emb_size=32, hidden_size=128):\n",
    "        super(self.__class__, self).__init__()\n",
    "        self.emb = nn.Embedding(num_tokens, emb_size)\n",
    "        self.lstm = nn.LSTM(emb_size, hidden_size, batch_first=True)\n",
    "        self.hid_to_logits = nn.Linear(hidden_size, num_tokens)\n",
    "        self.hidden_size = hidden_size\n",
    "        \n",
    "    def forward(self, x):\n",
    "        assert isinstance(x.data, torch.LongTensor)\n",
    "        out, hc_n  = self.lstm(self.emb(x))\n",
    "        h_n, c_n = hc_n[0], hc_n[1]\n",
    "        next_logits = self.hid_to_logits(out)\n",
    "        next_logp = F.log_softmax(next_logits, dim=-1)\n",
    "        return next_logp\n",
    "    \n",
    "    def generate(self, x, h_0, c_0):\n",
    "        out, hc_n = self.lstm(self.emb(x), (h_0, c_0))\n",
    "        h_n, c_n = hc_n[0], hc_n[1]\n",
    "        next_logits = self.hid_to_logits(out)\n",
    "        return next_logits, h_n, c_n"
   ]
  },
  {
   "cell_type": "code",
   "execution_count": 15,
   "metadata": {
    "scrolled": false
   },
   "outputs": [
    {
     "data": {
      "image/png": "[encoded data removed]",
      "text/plain": [
       "<Figure size 720x576 with 1 Axes>"
      ]
     },
     "metadata": {},
     "output_type": "display_data"
    }
   ],
   "source": [
    "loss_history_lstm = []\n",
    "\n",
    "try:\n",
    "    del model_lstm\n",
    "except:\n",
    "    pass \n",
    "\n",
    "model_lstm = LSTM()\n",
    "optimizer_lstm = torch.optim.Adam(model_lstm.parameters(), lr=1e-2)\n",
    "scheduler_lstm = torch.optim.lr_scheduler.MultiStepLR(optimizer_lstm, \n",
    "                                milestones=[1500, 2500, 2501, 3000], gamma=0.2)\n",
    "\n",
    "for i in range(3500):\n",
    "    batch_ix = to_matrix(sample(quatrains, 16), max_len=MAX_LENGTH)\n",
    "    batch_ix = torch.tensor(batch_ix, dtype=torch.int64)\n",
    "    \n",
    "    logp_seq = model_lstm(batch_ix)\n",
    "\n",
    "    loss = F.nll_loss(logp_seq[:, :-1].contiguous().view(-1, num_tokens), \n",
    "                  batch_ix[:, 1:].contiguous().view(-1), \n",
    "                      ignore_index=token_to_idx['_'])\n",
    "    \n",
    "    optimizer_lstm.zero_grad()\n",
    "    loss.backward()\n",
    "    optimizer_lstm.step()\n",
    "    scheduler_lstm.step()\n",
    "\n",
    "    loss_history_lstm.append(loss.data.numpy())\n",
    "    if (i+1)%100 == 0:\n",
    "        plt.figure(figsize=(10,8))\n",
    "        clear_output(True)\n",
    "        plt.plot(loss_history_lstm, lw=2, label='loss')\n",
    "        plt.xticks(fontsize=16)\n",
    "        plt.yticks(fontsize=16)\n",
    "        plt.legend(shadow=True, fontsize=18)\n",
    "        plt.show()"
   ]
  },
  {
   "cell_type": "code",
   "execution_count": 16,
   "metadata": {},
   "outputs": [],
   "source": [
    "def generate_sample_lstm(model, seed_phrase='<the', max_length=MAX_LENGTH*2, temperature=1.0):\n",
    "    \n",
    "    x_sequence = [token_to_idx[token] for token in seed_phrase]\n",
    "    x_sequence = torch.tensor([x_sequence], dtype=torch.int64)\n",
    "    h_n = torch.zeros(1, model.hidden_size, requires_grad=True)\n",
    "    c_n = torch.zeros(1, model.hidden_size, requires_grad=True)\n",
    "    \n",
    "    #feed the seed phrase, if any\n",
    "    for i in range(len(seed_phrase) - 1):\n",
    "        logits, h_n, c_n = model.generate(x_sequence[:, i], h_n, c_n)\n",
    "    \n",
    "    #start generating\n",
    "    for _ in range(max_length - len(seed_phrase)):\n",
    "\n",
    "        logits, h_n, c_n = model.generate(x_sequence[:, -1], h_n, c_n)\n",
    "        # Be really careful here with the model output\n",
    "        p_next = F.softmax(logits / temperature, dim=-1).data.numpy()[0]\n",
    "        # sample next token and push it back into x_sequence\n",
    "        next_ix = np.random.choice(len(tokens), p=p_next)\n",
    "        next_ix = torch.tensor([[next_ix]], dtype=torch.int64)\n",
    "        \n",
    "        if next_ix == token_to_idx['>']:\n",
    "            break\n",
    "        x_sequence = torch.cat([x_sequence, next_ix], dim=1)\n",
    "        \n",
    "        \n",
    "    return ''.join([tokens[ix] for ix in x_sequence.data.numpy()[0]])"
   ]
  },
  {
   "cell_type": "code",
   "execution_count": 17,
   "metadata": {},
   "outputs": [
    {
     "name": "stdout",
     "output_type": "stream",
     "text": [
      "thence your grows would contend.\n",
      "  then thou art the world doth sing:\n",
      "  since my mind, and in my self deceased that thou wilt thou art the world and there is my love, that i am thy self thou art as the world are more to shall i am so fortune of thee in the world all the world doth sight,\n",
      "and so should thee that i have sweet form of thee that thou art the world and that receives reproves thee that thou art as the world and that which i be not to the world and then my love to thee,\n",
      "  and therefore th\n"
     ]
    }
   ],
   "source": [
    "print(generate_sample_lstm(model_lstm, temperature=0.2)[1:])"
   ]
  },
  {
   "cell_type": "markdown",
   "metadata": {},
   "source": [
    "Generate text using the trained net with different `temperature` parameter: `[0.1, 0.2, 0.5, 1.0, 2.0]`.\n",
    "\n",
    "Evaluate the results visually, try to interpret them."
   ]
  },
  {
   "cell_type": "code",
   "execution_count": 20,
   "metadata": {},
   "outputs": [
    {
     "name": "stdout",
     "output_type": "stream",
     "text": [
      "    Temperature = 0.1\n",
      "thence you made my love to thee,\n",
      "when thou art the world and then my love to thee,\n",
      "  and therefore thou art the world and there shall i am still thou art the world to be so thou shouldst in the world to be so thou shouldst in the world and there shall i am still thou art the world and there shall be thy self thou art the world and then my love to thee,\n",
      "when thou art the world and then my love to thee,\n",
      "when thou art the world and then my love to thee,\n",
      "when thou art the world and then my love to thee\n",
      "\n",
      "    Temperature = 0.2\n",
      "thence your love, that is not from the world trifles trivel win one, and therefore to the world i not to the world and there shall i am still,\n",
      "that i am thy self thou shalt fair where thou art the world and there my love to my dear love to show for this thou this thy self thou art the world and that which i see i can see thee i forgot lives seem'd thee words in the present'st thought, all those that which i see my deep doth my am thy self a moth'd compare,\n",
      "when i have so should that thou art the wo\n",
      "\n",
      "    Temperature = 0.5\n",
      "these blot?\n",
      "  and thou art forbid hue, which in the most days\n",
      "when thou art that i am thy self thou black did my body not the bear heart and makes and self in praise unswart of you,\n",
      "nor thoughts so straight i see my heart in thee the rich a death and in my sing,\n",
      "and to the imprining such but sweet love to call the world may be new acrecome's child with thee alone,\n",
      "that i am not love can live him with thee that i am fits,\n",
      "and summer's best of my love that we betongs of the fairest and eyes, for thy \n",
      "\n",
      "    Temperature = 1.0\n",
      "thence, as the women's summer, but slears far decay:\n",
      "if it wot, and therefore to thee it in love, which is for count of lovely?\n",
      "or red,\n",
      "\n",
      "    Temperature = 2.0\n",
      "they my good\n",
      "being your crownit's swive-caring his quichle thou uspor yefell.\n",
      "\n"
     ]
    }
   ],
   "source": [
    "lstm_01 = generate_sample_lstm(model_lstm, temperature=0.1)[1:]\n",
    "lstm_02 = generate_sample_lstm(model_lstm, temperature=0.2)[1:]\n",
    "lstm_05 = generate_sample_lstm(model_lstm, temperature=0.5)[1:]\n",
    "lstm_1 = generate_sample_lstm(model_lstm, temperature=1.0)[1:]\n",
    "lstm_2 = generate_sample_lstm(model_lstm, temperature=2.0)[1:]\n",
    "generated = [lstm_01, lstm_02, lstm_05, lstm_1, lstm_2]\n",
    "labels = ['0.1', '0.2', '0.5', '1.0', '2.0']\n",
    "\n",
    "for i in range(5):\n",
    "    print(f\"    Temperature = {labels[i]}\")\n",
    "    print(generated[i])\n",
    "    print()"
   ]
  },
  {
   "cell_type": "markdown",
   "metadata": {},
   "source": [
    "With temperature $\\geqslant$ 1 generated output seems more and more chaotic that doesn't changes from run to run, temperature = 0.1, 0.2 provides us with readable samples which seems partly remembered from original text though. With temperature = 0.5 model generates smth between, don't quite know how to describe that. None of outputs actually seems like new original poesy, for which we would definetely need more complex approach taking words as a tokens, etc, but that could be a nice baseline -- we actually generating existing or seems to be existing words."
   ]
  },
  {
   "cell_type": "markdown",
   "metadata": {},
   "source": [
    "### Saving and loading models"
   ]
  },
  {
   "cell_type": "markdown",
   "metadata": {},
   "source": [
    "Save the model to the disk, then load it and generate text. Examples are available [here](https://pytorch.org/tutorials/beginner/saving_loading_models.html])."
   ]
  },
  {
   "cell_type": "code",
   "execution_count": 652,
   "metadata": {},
   "outputs": [],
   "source": [
    "torch.save({\n",
    "    'rnn_state_dict': model.state_dict(),\n",
    "    'lstm_state_dict': model_lstm.state_dict(),\n",
    "    'optimizer_rnn': optimizer.state_dict(),\n",
    "    'optimizer_lstm': optimizer_lstm.state_dict(),\n",
    "}, 'models.pt')"
   ]
  },
  {
   "cell_type": "code",
   "execution_count": 666,
   "metadata": {},
   "outputs": [
    {
     "name": "stdout",
     "output_type": "stream",
     "text": [
      "   RNN:\n",
      "ther her ble do whate's canden' u\n",
      "dot ullest of mine, and be the plack'd rost thou grow'st,\n",
      "  and all thy glast;\n",
      "  so shall be a live's for leaves quite gone,\n",
      "who ale and wils must before.\n",
      "  to show;\n",
      "not i forts,\n",
      "which must live, and hath his night,\n",
      "but draw no lines to thee liff's despisting:\n",
      "thee,\n",
      "kis fortunt a tomb with thy shape, not let fresh ghart, and meep to sevour a seaven\n",
      "frime,\n",
      "and thou art i love lombss'de hath provingred and he could atcing thy sins   as that best high due deam his par\n",
      "\n",
      "   LSTM:\n",
      "thered and thy bravery in their rotten smoke?\n",
      "'tis not enough that through the cloud thou break,\n",
      "to dry the rain on my storm-beaten face,\n",
      "for no man well of such a salve can speak,\n",
      "that heals the wound, and cures not the disgrace:\n",
      "nor can thy shame give physic to my grief;\n",
      "though thou repent, yet i have still the loss:\n",
      "the offender's sorrow lends but weak relief\n",
      "to him that bears the strong offence's cross.\n",
      "  ah! but those tears are pearl which thy love sheds,\n",
      "  and they are rich and ransom all ill\n",
      "\n"
     ]
    }
   ],
   "source": [
    "checkpoint = torch.load('models.pt')\n",
    "\n",
    "rnn = CharRNN()\n",
    "rnn.load_state_dict(checkpoint['rnn_state_dict'])\n",
    "lstm = LSTM()\n",
    "lstm.load_state_dict(checkpoint['lstm_state_dict'])\n",
    "\n",
    "print('   RNN:\\n', generate_sample(rnn, temperature=0.4)[1:], '\\n', sep='')\n",
    "print('   LSTM:\\n', generate_sample_lstm(model_lstm, temperature=0.2)[1:], '\\n', sep='')"
   ]
  },
  {
   "cell_type": "markdown",
   "metadata": {},
   "source": [
    "### References\n",
    "1. <a href='http://karpathy.github.io/2015/05/21/rnn-effectiveness/'> Andrew Karpathy blog post about RNN. </a> \n",
    "There are several examples of genration: Shakespeare texts, Latex formulas, Linux Sourse Code and children names.\n",
    "2. <a href='https://github.com/karpathy/char-rnn'> Repo with char-rnn code </a>\n",
    "3. Cool repo with PyTorch examples: [link](https://github.com/spro/practical-pytorch`)"
   ]
  }
 ],
 "metadata": {
  "anaconda-cloud": {},
  "kernelspec": {
   "display_name": "Python 3",
   "language": "python",
   "name": "python3"
  },
  "language_info": {
   "codemirror_mode": {
    "name": "ipython",
    "version": 3
   },
   "file_extension": ".py",
   "mimetype": "text/x-python",
   "name": "python",
   "nbconvert_exporter": "python",
   "pygments_lexer": "ipython3",
   "version": "3.8.8"
  }
 },
 "nbformat": 4,
 "nbformat_minor": 2
}
