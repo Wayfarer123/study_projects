{
 "cells": [
  {
   "cell_type": "code",
   "execution_count": 1,
   "id": "3876c96b-0dfe-49f6-b555-a1a3b2b778e3",
   "metadata": {},
   "outputs": [],
   "source": [
    "import torch \n",
    "import numpy as np\n",
    "from torchvision.io import read_video\n",
    "import tensorly\n",
    "from tqdm.auto import tqdm\n",
    "from itertools import product\n",
    "from hottbox.core import Tensor\n",
    "from hottbox.algorithms.decomposition import TTSVD, HOSVD, HOOI, CPD\n",
    "from hottbox.metrics import residual_rel_error\n",
    "from copy import deepcopy"
   ]
  },
  {
   "cell_type": "code",
   "execution_count": 9,
   "id": "155d83f6-260b-4bc5-ac9a-33bb1c051151",
   "metadata": {},
   "outputs": [
    {
     "name": "stderr",
     "output_type": "stream",
     "text": [
      "C:\\Users\\Nikita\\anaconda3\\envs\\DL\\lib\\site-packages\\torchvision\\io\\video.py:161: UserWarning: The pts_unit 'pts' gives wrong results. Please use pts_unit 'sec'.\n",
      "  warnings.warn(\"The pts_unit 'pts' gives wrong results. Please use pts_unit 'sec'.\")\n"
     ]
    }
   ],
   "source": [
    "video = read_video(\"videos/M8CDW.mp4\") "
   ]
  },
  {
   "cell_type": "code",
   "execution_count": 10,
   "id": "08eca66a-1e37-4d40-8ef6-8fa4de609555",
   "metadata": {},
   "outputs": [
    {
     "data": {
      "text/plain": [
       "torch.Size([984, 480, 270, 3])"
      ]
     },
     "execution_count": 10,
     "metadata": {},
     "output_type": "execute_result"
    }
   ],
   "source": [
    "video[0].shape # (T, H, W, C)"
   ]
  },
  {
   "cell_type": "code",
   "execution_count": 48,
   "id": "17f73b36-a3df-4be4-9501-94f950e6e6dc",
   "metadata": {},
   "outputs": [],
   "source": [
    "video_part = video[0][:30,270:300,120:140,:].type(torch.float).numpy()"
   ]
  },
  {
   "cell_type": "code",
   "execution_count": 49,
   "id": "b642e0fa-79f3-4685-a8d0-62c1b01d256d",
   "metadata": {},
   "outputs": [
    {
     "data": {
      "text/plain": [
       "(30, 30, 20, 3)"
      ]
     },
     "execution_count": 49,
     "metadata": {},
     "output_type": "execute_result"
    }
   ],
   "source": [
    "video_part.shape"
   ]
  },
  {
   "cell_type": "code",
   "execution_count": 36,
   "id": "49b8e6b0-721c-48ca-8486-e5ac83dfdc8a",
   "metadata": {},
   "outputs": [],
   "source": [
    "# D, E = tensorly.decomposition.robust_pca(video_part)\n",
    "# D.shape, E.shape"
   ]
  },
  {
   "cell_type": "code",
   "execution_count": 51,
   "id": "ff0ebb55-1f0d-4467-b1d9-b2bab26147d0",
   "metadata": {},
   "outputs": [],
   "source": [
    "hosvd = HOSVD()\n",
    "\n",
    "ml_rank = (15, 15, 10, 3)\n",
    "video_part_tensor = Tensor(video_part)\n",
    "\n",
    "tensor_tkd_hosvd = hosvd.decompose(video_part_tensor, ml_rank)"
   ]
  },
  {
   "cell_type": "code",
   "execution_count": 53,
   "id": "f9dd7f4f-1214-4305-a522-88ccee0eba40",
   "metadata": {},
   "outputs": [
    {
     "name": "stdout",
     "output_type": "stream",
     "text": [
      "\n",
      "\tFactor matrices\n",
      "Mode-0 factor matrix is of shape (30, 15)\n",
      "Mode-1 factor matrix is of shape (30, 15)\n",
      "Mode-2 factor matrix is of shape (20, 10)\n",
      "Mode-3 factor matrix is of shape (3, 3)\n",
      "\n",
      "\tCore tensor\n",
      "This tensor is of order 4 and consists of 6750 elements.\n",
      "Sizes and names of its modes are (15, 15, 10, 3) and ['mode-0', 'mode-1', 'mode-2', 'mode-3'] respectively.\n"
     ]
    }
   ],
   "source": [
    "print('\\n\\tFactor matrices')\n",
    "for mode, fmat in enumerate(tensor_tkd_hosvd.fmat):\n",
    "    print('Mode-{} factor matrix is of shape {}'.format(mode, fmat.shape))\n",
    "    \n",
    "print('\\n\\tCore tensor')\n",
    "print(tensor_tkd_hosvd.core)"
   ]
  },
  {
   "cell_type": "code",
   "execution_count": 58,
   "id": "3e8593fa-cf07-4a3f-bfd8-5210d8a45177",
   "metadata": {},
   "outputs": [],
   "source": [
    "def calculate_HOSVD(tensor, alg=HOSVD(), t_sizes=[], h_sizes=[], \n",
    "                                           w_sizes=[], c_sizes=[]):\n",
    "    \n",
    "    ml_ranks = product(t_sizes, h_sizes, w_sizes, c_sizes)\n",
    "    res_dict = {}\n",
    "    \n",
    "    for ml_rank in ml_ranks:\n",
    "\n",
    "        decomposed = alg.decompose(tensor, ml_rank)\n",
    "\n",
    "        size = np.prod(ml_rank)\n",
    "        \n",
    "        fmats = []\n",
    "        for fmat in tqdm(decomposed.fmat):\n",
    "            size += np.prod(fmat.shape)\n",
    "            fmats.append(deepcopy(fmat))\n",
    "\n",
    "        error = residual_rel_error(tensor_data, tensor_tucker)\n",
    "        compression = size / np.prod(tensor_data.shape)\n",
    "\n",
    "        res_dict[ml_rank] = {\n",
    "            \"error\": error,\n",
    "            \"compression\": compression,\n",
    "            \"core\": deepcopy(decomposed.core),\n",
    "            \"fmat\": fmats\n",
    "        }\n",
    "    return res_dict"
   ]
  },
  {
   "cell_type": "code",
   "execution_count": null,
   "id": "a82622c4-3d18-4109-8a9a-2d817b3b2b7d",
   "metadata": {},
   "outputs": [],
   "source": []
  }
 ],
 "metadata": {
  "kernelspec": {
   "display_name": "Python 3 (ipykernel)",
   "language": "python",
   "name": "python3"
  },
  "language_info": {
   "codemirror_mode": {
    "name": "ipython",
    "version": 3
   },
   "file_extension": ".py",
   "mimetype": "text/x-python",
   "name": "python",
   "nbconvert_exporter": "python",
   "pygments_lexer": "ipython3",
   "version": "3.10.13"
  },
  "widgets": {
   "application/vnd.jupyter.widget-state+json": {
    "state": {},
    "version_major": 2,
    "version_minor": 0
   }
  }
 },
 "nbformat": 4,
 "nbformat_minor": 5
}
