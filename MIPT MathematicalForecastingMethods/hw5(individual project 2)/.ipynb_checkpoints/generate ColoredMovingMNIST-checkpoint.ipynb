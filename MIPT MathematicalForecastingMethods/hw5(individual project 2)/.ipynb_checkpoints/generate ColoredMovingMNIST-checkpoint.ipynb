{
 "cells": [
  {
   "cell_type": "code",
   "execution_count": 1,
   "id": "5c70430a-0f60-4adb-855f-f33c400c4c56",
   "metadata": {},
   "outputs": [],
   "source": [
    "import numpy as np"
   ]
  },
  {
   "cell_type": "code",
   "execution_count": 173,
   "id": "833da8c1-f931-4af8-939c-ba798435e68c",
   "metadata": {},
   "outputs": [
    {
     "data": {
      "image/jpeg": "[encoded data removed]",
      "image/png": "[encoded data removed]",
      "text/plain": [
       "<PIL.Image.Image image mode=RGB size=64x64>"
      ]
     },
     "execution_count": 173,
     "metadata": {},
     "output_type": "execute_result"
    }
   ],
   "source": [
    "aaa = Image.new('RGB', (64, 64), color=(100,100,100))\n",
    "aaa"
   ]
  },
  {
   "cell_type": "code",
   "execution_count": 139,
   "id": "20af06c0-6fec-47f0-aa9a-059e747066ea",
   "metadata": {},
   "outputs": [
    {
     "data": {
      "image/jpeg": "[encoded data removed]",
      "image/png": "[encoded data removed]",
      "text/plain": [
       "<PIL.Image.Image image mode=RGB size=48x48>"
      ]
     },
     "execution_count": 139,
     "metadata": {},
     "output_type": "execute_result"
    }
   ],
   "source": [
    "aaa.paste(Image.fromarray(np.ones((28,28,3), dtype=np.uint8)*255, \"RGB\"))\n",
    "aaa"
   ]
  },
  {
   "cell_type": "code",
   "execution_count": 172,
   "id": "a1b2f9a3-04a4-43c7-a22f-bb1994f278fb",
   "metadata": {},
   "outputs": [
    {
     "data": {
      "text/plain": [
       "1.0"
      ]
     },
     "execution_count": 172,
     "metadata": {},
     "output_type": "execute_result"
    }
   ],
   "source": [
    "arr_from_img(aaa, shift=0).max()"
   ]
  },
  {
   "cell_type": "code",
   "execution_count": 168,
   "id": "6d031a55-e509-4459-b2cf-dc3653fe72b4",
   "metadata": {},
   "outputs": [
    {
     "data": {
      "image/jpeg": "[encoded data removed]",
      "image/png": "[encoded data removed]",
      "text/plain": [
       "<PIL.Image.Image image mode=RGB size=48x48>"
      ]
     },
     "execution_count": 168,
     "metadata": {},
     "output_type": "execute_result"
    }
   ],
   "source": [
    "Image.fromarray(arr_from_img(aaa, shift=0).transpose(1,2,0), \"RGB\")"
   ]
  },
  {
   "cell_type": "code",
   "execution_count": 175,
   "id": "22acff5c-5f4e-452d-b66a-e62e381837d8",
   "metadata": {},
   "outputs": [],
   "source": [
    "mnist, labels = read_images_labels()"
   ]
  },
  {
   "cell_type": "code",
   "execution_count": 177,
   "id": "9a77f994-2042-442f-9938-67ced3b1ac75",
   "metadata": {},
   "outputs": [],
   "source": [
    "cur_idx = np.random.randint(0, mnist.shape[0], 3)\n",
    "\n",
    "colors = [(random.random() / 2 + 0.5, random.random() / 2 + 0.5, random.random() / 2 + 0.5) \\\n",
    "                                        for _ in range(3)]"
   ]
  },
  {
   "cell_type": "code",
   "execution_count": 185,
   "id": "a220a4f2-1f63-4a6f-aa1d-0eb765b6d2fc",
   "metadata": {},
   "outputs": [],
   "source": [
    "mnist_images_arrays = [np.repeat(get_picture_array(mnist, r, shift=0)[None,:,:], 3, axis=0) \\\n",
    "                                               for ind, r in enumerate(cur_idx)]\n",
    "mnist_images_arrays_colored = [(img * np.array(colors[i])[:,None,None]).astype(np.uint8) \\\n",
    "                                   for i, img in enumerate(mnist_images_arrays)]\n",
    "mnist_images = [Image.fromarray(arr.transpose(2,1,0), mode=\"RGB\") for arr in mnist_images_arrays_colored]"
   ]
  },
  {
   "cell_type": "code",
   "execution_count": 188,
   "id": "1cbccc01-b403-4086-b6c6-044e00c45413",
   "metadata": {},
   "outputs": [
    {
     "data": {
      "image/jpeg": "[encoded data removed]",
      "image/png": "[encoded data removed]",
      "text/plain": [
       "<PIL.Image.Image image mode=RGB size=28x28>"
      ]
     },
     "execution_count": 188,
     "metadata": {},
     "output_type": "execute_result"
    }
   ],
   "source": [
    "mnist_images[]"
   ]
  },
  {
   "cell_type": "code",
   "execution_count": 222,
   "id": "8b96607d-cd48-4400-8623-0a389cf57955",
   "metadata": {},
   "outputs": [],
   "source": [
    "from PIL import Image\n",
    "import sys\n",
    "import os\n",
    "import math\n",
    "import numpy as np\n",
    "import struct\n",
    "from array import array\n",
    "from os.path import join\n",
    "from tqdm import tqdm\n",
    "import random\n",
    "\n",
    "\n",
    "# helper functions\n",
    "def arr_from_img(im, shift=0):\n",
    "    w, h = im.size\n",
    "    c = im.getdata().bands\n",
    "    return np.asarray(im.getdata(), dtype=np.float32).reshape((h, w, c)).transpose(2, 1, 0) / 255.0 - shift\n",
    "\n",
    "def get_picture_array(X, index, shift=0):\n",
    "    ch, w, h = X.shape[1], X.shape[2], X.shape[2]\n",
    "    ret = ((X[index] + shift) * 255.0).reshape(ch, w, h).transpose(2, 1, 0).clip(0, 255).astype(np.uint8)\n",
    "    if ch == 1:\n",
    "        ret=ret.reshape(h, w)\n",
    "    return ret\n",
    "\n",
    "# loads mnist from web on demand\n",
    "def read_images_labels(images_filepath=\"./train-images.idx3-ubyte\", labels_filepath=\"./train-labels.idx1-ubyte\"):\n",
    "    labels = []\n",
    "    with open(labels_filepath, 'rb') as file:\n",
    "        magic, size = struct.unpack(\">II\", file.read(8))\n",
    "        if magic != 2049:\n",
    "            raise ValueError('Magic number mismatch, expected 2049, got {}'.format(magic))\n",
    "        labels = array(\"B\", file.read())\n",
    "\n",
    "    with open(images_filepath, 'rb') as file:\n",
    "        magic, size, rows, cols = struct.unpack(\">IIII\", file.read(16))\n",
    "        if magic != 2051:\n",
    "            raise ValueError('Magic number mismatch, expected 2051, got {}'.format(magic))\n",
    "        image_data = array(\"B\", file.read())\n",
    "    images = []\n",
    "    for i in range(size):\n",
    "        images.append([0] * rows * cols)\n",
    "    for i in range(size):\n",
    "        img = np.array(image_data[i * rows * cols:(i + 1) * rows * cols])\n",
    "        img = img.reshape(28, 28)\n",
    "        images[i][:] = img\n",
    "    \n",
    "    return np.expand_dims(np.asarray(images), axis=1), np.asarray(labels)\n",
    "\n",
    "\n",
    "# generates and returns video frames in uint8 array\n",
    "def generate_moving_mnist(shape=(64, 64), \n",
    "                          seq_len=20, \n",
    "                          seqs=10000, \n",
    "                          num_sz=28, \n",
    "                          nums_per_image=2,\n",
    "                          colored=True):\n",
    "    class_converter = dict()\n",
    "    k = 0\n",
    "    for i in range(10):\n",
    "        for j in range(i + 1):\n",
    "            class_converter[j * 10 + i] = k\n",
    "            k += 1\n",
    "\n",
    "    mnist, labels = read_images_labels()\n",
    "    height, width = shape\n",
    "    lims = (x_lim, y_lim) = width-num_sz, height-num_sz\n",
    "    if colored:\n",
    "        dataset = np.empty((seqs, seq_len, 3, height, width), dtype=np.uint8)\n",
    "    else:\n",
    "        dataset = np.empty((seqs, seq_len, 1, height, width), dtype=np.uint8)\n",
    "    ret_labels = []\n",
    "    for seq_idx in tqdm(range(seqs)):\n",
    "        # randomly generate direc/speed/position, calculate velocity vector\n",
    "        direcs = np.pi * (np.random.rand(nums_per_image) * 2 - 1)\n",
    "        speeds = np.random.randint(4, size=nums_per_image) + 1\n",
    "        veloc = np.asarray([(v * math.cos(d), v * math.sin(d)) for d, v in zip(direcs, speeds)])\n",
    "        cur_idx = np.random.randint(0, mnist.shape[0], nums_per_image)\n",
    "\n",
    "        if colored:\n",
    "            colors = [(random.random() / 4 * 3 + 0.25, random.random() / 4 * 3 + 0.25, random.random() / 4 * 3 + 0.25) \\\n",
    "                                                    for _ in range(nums_per_image)]\n",
    "            \n",
    "            mnist_images_arrays = [np.repeat(get_picture_array(mnist, r, shift=0)[None,:,:], 3, axis=0) \\\n",
    "                                               for ind, r in enumerate(cur_idx)]\n",
    "            mnist_images_arrays_colored = [(img * np.array(colors[i])[:,None,None]).astype(np.uint8) \\\n",
    "                                               for i, img in enumerate(mnist_images_arrays)]\n",
    "            mnist_images = [Image.fromarray(arr.transpose(2,1,0), mode=\"RGB\") for arr in mnist_images_arrays_colored]\n",
    "        else:\n",
    "            mnist_images = [Image.fromarray(get_picture_array(mnist, r, shift=0)).resize((num_sz, num_sz), Image.LANCZOS) \\\n",
    "                   for r in cur_idx]\n",
    "        \n",
    "        # print(cur_idx)\n",
    "        cur_labels = labels[cur_idx]\n",
    "        ret_labels.append(class_converter[min(cur_labels) * 10 + max(cur_labels)])\n",
    "        positions = np.asarray([(np.random.rand() * x_lim, np.random.rand() * y_lim) \\\n",
    "                                                for _ in range(nums_per_image)])\n",
    "        for frame_idx in range(seq_len):\n",
    "            canvases = [Image.new('RGB', (width, height), color=0) \\\n",
    "                                                for i in range(nums_per_image)]\n",
    "            if colored:\n",
    "                canvas = np.zeros((3, width, height), dtype=np.float32)\n",
    "            else:\n",
    "                canvas = np.zeros((1, width, height), dtype=np.float32)\n",
    "            for i, canv in enumerate(canvases):\n",
    "                canv.paste(mnist_images[i], tuple(np.round(positions[i]).astype(int)))\n",
    "                \n",
    "                canvas += arr_from_img(canv, shift=0)\n",
    "            # update positions based on velocity\n",
    "            next_pos = positions + veloc\n",
    "            # bounce off wall if a we hit one\n",
    "            for i, pos in enumerate(next_pos):\n",
    "                for j, coord in enumerate(pos):\n",
    "                    if coord < -2 or coord > lims[j] + 2:\n",
    "                        veloc[i] = np.asarray(veloc[i][:j].tolist() + [-1 * veloc[i][j]] + veloc[i][j+1:].tolist())\n",
    "            positions += veloc\n",
    "            # copy additive canvas to data array\n",
    "            dataset[seq_idx, frame_idx] = (canvas * 255).astype(np.uint8).clip(0, 255)\n",
    "    return dataset, np.asarray(ret_labels)\n",
    "\n",
    "def main(dest, filetype='npz', frame_size=64, seq_len=20, seqs=10000, \n",
    "                             num_sz=28, nums_per_image=2, colored=True):\n",
    "    dat, labels = generate_moving_mnist(shape=(frame_size,frame_size), seq_len=seq_len, seqs=seqs, \\\n",
    "                                        num_sz=num_sz, nums_per_image=nums_per_image)\n",
    "    n = seqs * seq_len\n",
    "    if filetype == 'hdf5':\n",
    "        import h5py\n",
    "        from fuel.datasets.hdf5 import H5PYDataset\n",
    "        def save_hd5py(dataset, destfile, indices_dict):\n",
    "            f = h5py.File(destfile, mode='w')\n",
    "            images = f.create_dataset('images', dataset.shape, dtype='uint8')\n",
    "            images[...] = dataset\n",
    "            split_dict = dict((k, {'images':v}) for k,v in indices_dict.iteritems())\n",
    "            f.attrs['split'] = H5PYDataset.create_split_array(split_dict)\n",
    "            f.flush()\n",
    "            f.close()\n",
    "        indices_dict = {'train': (0, n*9/10), 'test': (n*9/10, n)}\n",
    "        save_hd5py(dat, dest, indices_dict)\n",
    "    elif filetype == 'npz':\n",
    "        np.save(join(dest, \"videos.npy\"), dat)\n",
    "        np.save(join(dest, \"labels.npy\"), labels)\n",
    "    elif filetype == 'jpg':\n",
    "        for i in range(dat.shape[0]):\n",
    "            Image.fromarray(get_picture_array(dat, i, shift=0)).save(join(dest, '{}.jpg'.format(i)))"
   ]
  },
  {
   "cell_type": "code",
   "execution_count": 233,
   "id": "b88398f6-c2e7-4b2a-9043-5b90cfc40d30",
   "metadata": {
    "scrolled": true
   },
   "outputs": [
    {
     "name": "stderr",
     "output_type": "stream",
     "text": [
      "100%|██████████████████████████████████████████████████████████████████████████████████████████████████████████████████████████████████| 20/20 [00:01<00:00, 16.08it/s]\n"
     ]
    }
   ],
   "source": [
    "main(dest=\"./ColoredMovingMNIST\", \n",
    "     filetype='npz', \n",
    "     frame_size=48, \n",
    "     seq_len=30, \n",
    "     seqs=20, \n",
    "     num_sz=28, \n",
    "     nums_per_image=2,\n",
    "     colored=True\n",
    ")"
   ]
  },
  {
   "cell_type": "code",
   "execution_count": 236,
   "id": "cf7f24f0-e98f-4fb1-89d0-059a6f729788",
   "metadata": {},
   "outputs": [],
   "source": [
    "all_videos = np.load(\"ColoredMovingMNIST/videos.npy\")\n",
    "video0 = all_videos[0]"
   ]
  },
  {
   "cell_type": "code",
   "execution_count": 238,
   "id": "3690f834-5e42-44fd-aa7c-e988f98f11ea",
   "metadata": {},
   "outputs": [
    {
     "data": {
      "text/plain": [
       "<matplotlib.image.AxesImage at 0x2726910d7b0>"
      ]
     },
     "execution_count": 238,
     "metadata": {},
     "output_type": "execute_result"
    },
    {
     "data": {
      "image/png": "[encoded data removed]",
      "text/plain": [
       "<Figure size 640x480 with 1 Axes>"
      ]
     },
     "metadata": {},
     "output_type": "display_data"
    }
   ],
   "source": [
    "import matplotlib.pyplot as plt\n",
    "\n",
    "plt.imshow(video0[0].transpose(2,1,0))"
   ]
  },
  {
   "cell_type": "code",
   "execution_count": null,
   "id": "3986d18f-e3c5-473a-94f9-1beeccf37a8a",
   "metadata": {},
   "outputs": [],
   "source": []
  }
 ],
 "metadata": {
  "kernelspec": {
   "display_name": "Python 3 (ipykernel)",
   "language": "python",
   "name": "python3"
  },
  "language_info": {
   "codemirror_mode": {
    "name": "ipython",
    "version": 3
   },
   "file_extension": ".py",
   "mimetype": "text/x-python",
   "name": "python",
   "nbconvert_exporter": "python",
   "pygments_lexer": "ipython3",
   "version": "3.10.13"
  },
  "widgets": {
   "application/vnd.jupyter.widget-state+json": {
    "state": {},
    "version_major": 2,
    "version_minor": 0
   }
  }
 },
 "nbformat": 4,
 "nbformat_minor": 5
}
