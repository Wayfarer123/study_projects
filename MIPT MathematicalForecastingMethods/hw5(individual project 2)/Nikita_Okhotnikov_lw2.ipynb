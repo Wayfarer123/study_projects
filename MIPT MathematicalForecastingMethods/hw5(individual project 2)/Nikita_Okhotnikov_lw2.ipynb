{
 "cells": [
  {
   "cell_type": "code",
   "execution_count": 13,
   "id": "3876c96b-0dfe-49f6-b555-a1a3b2b778e3",
   "metadata": {},
   "outputs": [],
   "source": [
    "import torch \n",
    "import numpy as np\n",
    "from torchvision.io import read_video\n",
    "import tensorly\n",
    "from tqdm.auto import tqdm\n",
    "from itertools import product\n",
    "from hottbox.core import Tensor\n",
    "from hottbox.algorithms.decomposition import TTSVD, HOSVD, HOOI, CPD\n",
    "from hottbox.metrics import residual_rel_error\n",
    "from copy import deepcopy\n",
    "from matplotlib import pyplot as plt\n",
    "from torchvision.io import write_video"
   ]
  },
  {
   "cell_type": "code",
   "execution_count": 14,
   "id": "6b6607da-40aa-4025-b193-40b85ca1c000",
   "metadata": {},
   "outputs": [],
   "source": [
    "dataset_path = \"ColoredMovingMNIST/videos.npy\""
   ]
  },
  {
   "cell_type": "code",
   "execution_count": 15,
   "id": "1391ec4e-3081-491d-850c-0d83c9ebd472",
   "metadata": {},
   "outputs": [
    {
     "data": {
      "text/plain": [
       "(20, 20, 3, 40, 40)"
      ]
     },
     "execution_count": 15,
     "metadata": {},
     "output_type": "execute_result"
    }
   ],
   "source": [
    "data = np.load(\"ColoredMovingMNIST/videos.npy\")\n",
    "data.shape"
   ]
  },
  {
   "cell_type": "code",
   "execution_count": 17,
   "id": "cf3fc78a-0583-4a00-85b4-73ac90e7cef7",
   "metadata": {},
   "outputs": [],
   "source": [
    "for i in range(len(data)):\n",
    "    write_video(f\"./videos/{i}.mp4\", data[i].transpose(0,3,2,1), fps=5)"
   ]
  },
  {
   "cell_type": "code",
   "execution_count": 18,
   "id": "3e8593fa-cf07-4a3f-bfd8-5210d8a45177",
   "metadata": {},
   "outputs": [],
   "source": [
    "def calculate_HOSVD(data, alg=HOSVD(), t_sizes=[], hw_sizes=[], c_sizes=[]):\n",
    "    res_dicts = []\n",
    "    for elem in tqdm(data):\n",
    "\n",
    "        tensor = Tensor((elem/255).astype(np.float64).transpose(0,2,3,1))\n",
    "        \n",
    "        ml_ranks_t_hw_c = product(t_sizes, hw_sizes, c_sizes)\n",
    "        res_dict = {}\n",
    "        \n",
    "        for ml_rank_t_hw_c in tqdm(ml_ranks_t_hw_c, colour=\"#4444BB\"):\n",
    "            ml_rank = (ml_rank_t_hw_c[0], ml_rank_t_hw_c[1], ml_rank_t_hw_c[1], ml_rank_t_hw_c[2])\n",
    "    \n",
    "            decomposed = alg.decompose(tensor, ml_rank)\n",
    "    \n",
    "            size = np.prod(ml_rank)\n",
    "            \n",
    "            for fmat in decomposed.fmat:\n",
    "                size += np.prod(fmat.shape)\n",
    "    \n",
    "            error = residual_rel_error(tensor, decomposed)\n",
    "            compression = size / np.prod(tensor.shape)\n",
    "    \n",
    "            res_dict[ml_rank_t_hw_c] = {\n",
    "                \"error\": error,\n",
    "                \"compression\": compression,\n",
    "                \"decomposed\": deepcopy(decomposed)\n",
    "            }\n",
    "    \n",
    "        res_dicts.append(res_dict)\n",
    "        \n",
    "    return res_dicts"
   ]
  },
  {
   "cell_type": "code",
   "execution_count": 19,
   "id": "44c29498-f6ef-470a-bf01-0f9eebe09380",
   "metadata": {},
   "outputs": [],
   "source": [
    "def restore_from_decomposition(decomposed):\n",
    "    restored = np.einsum(\"ijkl,mi,nj,ok,pl->mnop\", decomposed.core.data, \n",
    "                                                   decomposed.fmat[0],\n",
    "                                                   decomposed.fmat[1],\n",
    "                                                   decomposed.fmat[2],\n",
    "                                                   decomposed.fmat[3])\n",
    "    return np.array(restored.clip(0, 1) * 255).astype(np.uint8)"
   ]
  },
  {
   "cell_type": "code",
   "execution_count": 68,
   "id": "9497df2b-492d-4201-b1d4-ebb849dbf92a",
   "metadata": {},
   "outputs": [],
   "source": [
    "def plot_comparison(original, restored, frame, title_add=\"\"):\n",
    "    fig, axes = plt.subplots(1, 2, figsize=(12,6))\n",
    "    \n",
    "    axes[0].imshow(original[frame].transpose(2,1,0))\n",
    "    axes[1].imshow(restored[frame].transpose(1,0,2))\n",
    "\n",
    "    axes[0].set_title(\"Original\", fontsize=18)\n",
    "    axes[1].set_title(\"Restored\" + title_add, fontsize=18)\n",
    "\n",
    "    \n",
    "    plt.show()"
   ]
  },
  {
   "cell_type": "code",
   "execution_count": 77,
   "id": "201334e5-b803-4978-8ec7-a65ab5ca182d",
   "metadata": {},
   "outputs": [],
   "source": [
    "def restore_and_show(original, decomposed, frame, title_add=\"\"):\n",
    "    restored = restore_from_decomposition(decomposed)\n",
    "    plot_comparison(original, restored, frame, title_add=title_add)"
   ]
  },
  {
   "cell_type": "code",
   "execution_count": 22,
   "id": "1bdc7bf3-5f62-42f7-aa75-e1d388ba730c",
   "metadata": {
    "scrolled": true
   },
   "outputs": [
    {
     "data": {
      "application/vnd.jupyter.widget-view+json": {
       "model_id": "63a6275171cb40308cffb60fc1db433c",
       "version_major": 2,
       "version_minor": 0
      },
      "text/plain": [
       "  0%|          | 0/20 [00:00<?, ?it/s]"
      ]
     },
     "metadata": {},
     "output_type": "display_data"
    },
    {
     "data": {
      "application/vnd.jupyter.widget-view+json": {
       "model_id": "b3fb0f1a51f34e0d829f7f41c270fa6b",
       "version_major": 2,
       "version_minor": 0
      },
      "text/plain": [
       "0it [00:00, ?it/s]"
      ]
     },
     "metadata": {},
     "output_type": "display_data"
    },
    {
     "data": {
      "application/vnd.jupyter.widget-view+json": {
       "model_id": "1d6fb74c9861493391352df08573d25e",
       "version_major": 2,
       "version_minor": 0
      },
      "text/plain": [
       "0it [00:00, ?it/s]"
      ]
     },
     "metadata": {},
     "output_type": "display_data"
    },
    {
     "data": {
      "application/vnd.jupyter.widget-view+json": {
       "model_id": "ead4dacc2f4b4ae1b765ce5569d9cd8a",
       "version_major": 2,
       "version_minor": 0
      },
      "text/plain": [
       "0it [00:00, ?it/s]"
      ]
     },
     "metadata": {},
     "output_type": "display_data"
    },
    {
     "data": {
      "application/vnd.jupyter.widget-view+json": {
       "model_id": "b4f69a2652e74030aa53412c75e880f5",
       "version_major": 2,
       "version_minor": 0
      },
      "text/plain": [
       "0it [00:00, ?it/s]"
      ]
     },
     "metadata": {},
     "output_type": "display_data"
    },
    {
     "data": {
      "application/vnd.jupyter.widget-view+json": {
       "model_id": "bd5fe3c635804fedb973fe2e6f539857",
       "version_major": 2,
       "version_minor": 0
      },
      "text/plain": [
       "0it [00:00, ?it/s]"
      ]
     },
     "metadata": {},
     "output_type": "display_data"
    },
    {
     "data": {
      "application/vnd.jupyter.widget-view+json": {
       "model_id": "7eec545ded564cd8bfe059842611631d",
       "version_major": 2,
       "version_minor": 0
      },
      "text/plain": [
       "0it [00:00, ?it/s]"
      ]
     },
     "metadata": {},
     "output_type": "display_data"
    },
    {
     "data": {
      "application/vnd.jupyter.widget-view+json": {
       "model_id": "e3ebb26ef34a4bf1a9df893819d235dc",
       "version_major": 2,
       "version_minor": 0
      },
      "text/plain": [
       "0it [00:00, ?it/s]"
      ]
     },
     "metadata": {},
     "output_type": "display_data"
    },
    {
     "data": {
      "application/vnd.jupyter.widget-view+json": {
       "model_id": "056fe6380bbd47dd8488cd798f5e4d32",
       "version_major": 2,
       "version_minor": 0
      },
      "text/plain": [
       "0it [00:00, ?it/s]"
      ]
     },
     "metadata": {},
     "output_type": "display_data"
    },
    {
     "data": {
      "application/vnd.jupyter.widget-view+json": {
       "model_id": "048c47c281cd4e7b89720f348e1d45c7",
       "version_major": 2,
       "version_minor": 0
      },
      "text/plain": [
       "0it [00:00, ?it/s]"
      ]
     },
     "metadata": {},
     "output_type": "display_data"
    },
    {
     "data": {
      "application/vnd.jupyter.widget-view+json": {
       "model_id": "1912bd3dcdb04696afbc05d40699df58",
       "version_major": 2,
       "version_minor": 0
      },
      "text/plain": [
       "0it [00:00, ?it/s]"
      ]
     },
     "metadata": {},
     "output_type": "display_data"
    },
    {
     "data": {
      "application/vnd.jupyter.widget-view+json": {
       "model_id": "9d12da86fac946288c193332775b25a5",
       "version_major": 2,
       "version_minor": 0
      },
      "text/plain": [
       "0it [00:00, ?it/s]"
      ]
     },
     "metadata": {},
     "output_type": "display_data"
    },
    {
     "data": {
      "application/vnd.jupyter.widget-view+json": {
       "model_id": "f36693099e7b4939a9e9f68599dbcfb2",
       "version_major": 2,
       "version_minor": 0
      },
      "text/plain": [
       "0it [00:00, ?it/s]"
      ]
     },
     "metadata": {},
     "output_type": "display_data"
    },
    {
     "data": {
      "application/vnd.jupyter.widget-view+json": {
       "model_id": "24927406b53f4beba8a9fd5038d26dba",
       "version_major": 2,
       "version_minor": 0
      },
      "text/plain": [
       "0it [00:00, ?it/s]"
      ]
     },
     "metadata": {},
     "output_type": "display_data"
    },
    {
     "data": {
      "application/vnd.jupyter.widget-view+json": {
       "model_id": "3bf13af0b9924b2eace58d3a1b3cd143",
       "version_major": 2,
       "version_minor": 0
      },
      "text/plain": [
       "0it [00:00, ?it/s]"
      ]
     },
     "metadata": {},
     "output_type": "display_data"
    },
    {
     "data": {
      "application/vnd.jupyter.widget-view+json": {
       "model_id": "081ba625b6eb40299cfba5a68df591bc",
       "version_major": 2,
       "version_minor": 0
      },
      "text/plain": [
       "0it [00:00, ?it/s]"
      ]
     },
     "metadata": {},
     "output_type": "display_data"
    },
    {
     "data": {
      "application/vnd.jupyter.widget-view+json": {
       "model_id": "d8a574d862d74504b3cb99f42da9eaf2",
       "version_major": 2,
       "version_minor": 0
      },
      "text/plain": [
       "0it [00:00, ?it/s]"
      ]
     },
     "metadata": {},
     "output_type": "display_data"
    },
    {
     "data": {
      "application/vnd.jupyter.widget-view+json": {
       "model_id": "fa084095f4cf40c290c0fcb3753e30df",
       "version_major": 2,
       "version_minor": 0
      },
      "text/plain": [
       "0it [00:00, ?it/s]"
      ]
     },
     "metadata": {},
     "output_type": "display_data"
    },
    {
     "data": {
      "application/vnd.jupyter.widget-view+json": {
       "model_id": "07344b00529e4c1cb1cd5120d9a88b1e",
       "version_major": 2,
       "version_minor": 0
      },
      "text/plain": [
       "0it [00:00, ?it/s]"
      ]
     },
     "metadata": {},
     "output_type": "display_data"
    },
    {
     "data": {
      "application/vnd.jupyter.widget-view+json": {
       "model_id": "715440bc4f614ce5979da9927eff6688",
       "version_major": 2,
       "version_minor": 0
      },
      "text/plain": [
       "0it [00:00, ?it/s]"
      ]
     },
     "metadata": {},
     "output_type": "display_data"
    },
    {
     "data": {
      "application/vnd.jupyter.widget-view+json": {
       "model_id": "a58d08739cff450f9428d00cb9e65824",
       "version_major": 2,
       "version_minor": 0
      },
      "text/plain": [
       "0it [00:00, ?it/s]"
      ]
     },
     "metadata": {},
     "output_type": "display_data"
    }
   ],
   "source": [
    "decomposed_data = calculate_HOSVD(data=data,\n",
    "                                  t_sizes=[1, 5, 10, 20], \n",
    "                                  hw_sizes=[5, 10, 20, 40], \n",
    "                                  c_sizes=[1, 2, 3])"
   ]
  },
  {
   "cell_type": "code",
   "execution_count": 23,
   "id": "37ea14b9-1f6c-4468-993c-baa86387032e",
   "metadata": {},
   "outputs": [],
   "source": [
    "restored0 = restore_from_decomposition(decomposed_data[0][(10, 20, 2)][\"decomposed\"])"
   ]
  },
  {
   "cell_type": "code",
   "execution_count": null,
   "id": "eb867992-3ea4-4112-aa20-1efb470693cf",
   "metadata": {},
   "outputs": [],
   "source": []
  },
  {
   "cell_type": "code",
   "execution_count": 44,
   "id": "7187fe63-a76f-4d2d-968b-5c8bbaed62fd",
   "metadata": {},
   "outputs": [],
   "source": [
    "restored1 = restore_from_decomposition(decomposed_data[1][(10, 20, 2)][\"decomposed\"])"
   ]
  },
  {
   "cell_type": "code",
   "execution_count": 83,
   "id": "41aa2338-b5a6-48e5-902f-ca04dcc28fd3",
   "metadata": {},
   "outputs": [
    {
     "data": {
      "image/png": "[encoded data removed]",
      "text/plain": [
       "<Figure size 1200x600 with 2 Axes>"
      ]
     },
     "metadata": {},
     "output_type": "display_data"
    }
   ],
   "source": [
    "restore_and_show(data[0], decomposed_data[0][(1, 20, 3)][\"decomposed\"], 15, title_add=\" t, hw, c = (1, 20, 3)\")"
   ]
  },
  {
   "cell_type": "code",
   "execution_count": 84,
   "id": "86ddff3c-31c6-4660-86d8-a5de5c87dce3",
   "metadata": {},
   "outputs": [
    {
     "data": {
      "image/png": "[encoded data removed]",
      "text/plain": [
       "<Figure size 1200x600 with 2 Axes>"
      ]
     },
     "metadata": {},
     "output_type": "display_data"
    }
   ],
   "source": [
    "restore_and_show(data[0], decomposed_data[0][(5, 20, 3)][\"decomposed\"], 15, title_add=\" t, hw, c = (5, 20, 3)\")"
   ]
  },
  {
   "cell_type": "code",
   "execution_count": 85,
   "id": "6f077780-96d1-41b0-bc77-beb798fc6d05",
   "metadata": {},
   "outputs": [
    {
     "data": {
      "image/png": "[encoded data removed]",
      "text/plain": [
       "<Figure size 1200x600 with 2 Axes>"
      ]
     },
     "metadata": {},
     "output_type": "display_data"
    }
   ],
   "source": [
    "restore_and_show(data[0], decomposed_data[0][(10, 20, 3)][\"decomposed\"], 15, title_add=\" t, hw, c = (10, 20, 3)\")"
   ]
  },
  {
   "cell_type": "code",
   "execution_count": 86,
   "id": "85a0150b-9de8-44d5-87bb-d3622ae5f4bb",
   "metadata": {},
   "outputs": [
    {
     "data": {
      "image/png": "[encoded data removed]",
      "text/plain": [
       "<Figure size 1200x600 with 2 Axes>"
      ]
     },
     "metadata": {},
     "output_type": "display_data"
    }
   ],
   "source": [
    "restore_and_show(data[0], decomposed_data[0][(20, 20, 3)][\"decomposed\"], 15, title_add=\" t, hw, c = (20, 20, 3)\")"
   ]
  },
  {
   "cell_type": "code",
   "execution_count": 91,
   "id": "1a6a117e-2e75-4869-8d63-ba0b99296848",
   "metadata": {},
   "outputs": [],
   "source": [
    "restored0_5_20_3 = restore_from_decomposition(decomposed_data[0][(5, 20, 3)][\"decomposed\"])\n",
    "restored0_10_20_3 = restore_from_decomposition(decomposed_data[0][(10, 20, 3)][\"decomposed\"])\n",
    "restored0_20_20_3 = restore_from_decomposition(decomposed_data[0][(20, 20, 3)][\"decomposed\"])"
   ]
  },
  {
   "cell_type": "code",
   "execution_count": 96,
   "id": "585245c3-58ac-4e9e-80fc-523dc961e577",
   "metadata": {},
   "outputs": [
    {
     "data": {
      "text/plain": [
       "(20, 40, 40, 3)"
      ]
     },
     "execution_count": 96,
     "metadata": {},
     "output_type": "execute_result"
    }
   ],
   "source": [
    "restored0_5_20_3.shape"
   ]
  },
  {
   "cell_type": "code",
   "execution_count": 97,
   "id": "62dd0db2-8d7e-4f0f-8bb7-74e2b04fe914",
   "metadata": {},
   "outputs": [],
   "source": [
    "write_video(f\"./videos/0_restored0_5_20_3.mp4\", restored0_5_20_3.transpose(0,2,1,3), fps=5)"
   ]
  },
  {
   "cell_type": "code",
   "execution_count": 98,
   "id": "2173472a-1661-4f66-8cd9-08e74583f505",
   "metadata": {},
   "outputs": [],
   "source": [
    "write_video(f\"./videos/0_restored0_10_20_3.mp4\", restored0_10_20_3.transpose(0,2,1,3), fps=5)"
   ]
  },
  {
   "cell_type": "code",
   "execution_count": 99,
   "id": "77a6ac33-a1ab-4177-878c-d034da1498b9",
   "metadata": {},
   "outputs": [],
   "source": [
    "write_video(f\"./videos/0_restored0_20_20_3.mp4\", restored0_20_20_3.transpose(0,2,1,3), fps=5)"
   ]
  },
  {
   "cell_type": "code",
   "execution_count": null,
   "id": "3483c96a-0dff-4cc7-91ae-a28859dc5191",
   "metadata": {},
   "outputs": [],
   "source": []
  },
  {
   "cell_type": "code",
   "execution_count": null,
   "id": "10f0cd5b-0fec-40f1-9d1a-7476729672e1",
   "metadata": {},
   "outputs": [],
   "source": []
  },
  {
   "cell_type": "code",
   "execution_count": null,
   "id": "5f2492ac-6601-4812-93c4-0a5d156d672c",
   "metadata": {},
   "outputs": [],
   "source": []
  },
  {
   "cell_type": "code",
   "execution_count": null,
   "id": "74abd708-0359-4be5-bb2b-c52ddcb9ff0c",
   "metadata": {},
   "outputs": [],
   "source": []
  },
  {
   "cell_type": "code",
   "execution_count": 87,
   "id": "415f2040-1bf3-45ec-8337-27c06ba0401e",
   "metadata": {},
   "outputs": [
    {
     "data": {
      "image/png": "[encoded data removed]",
      "text/plain": [
       "<Figure size 1200x600 with 2 Axes>"
      ]
     },
     "metadata": {},
     "output_type": "display_data"
    }
   ],
   "source": [
    "restore_and_show(data[0], decomposed_data[0][(20, 20, 1)][\"decomposed\"], 15, title_add=\" t, hw, c = (20, 20, 1)\")"
   ]
  },
  {
   "cell_type": "code",
   "execution_count": 88,
   "id": "9311ff71-2a5c-4506-8019-f66133e85d42",
   "metadata": {},
   "outputs": [
    {
     "data": {
      "image/png": "[encoded data removed]",
      "text/plain": [
       "<Figure size 1200x600 with 2 Axes>"
      ]
     },
     "metadata": {},
     "output_type": "display_data"
    }
   ],
   "source": [
    "restore_and_show(data[0], decomposed_data[0][(20, 20, 2)][\"decomposed\"], 15, title_add=\" t, hw, c = (20, 20, 2)\")"
   ]
  },
  {
   "cell_type": "code",
   "execution_count": 89,
   "id": "e2eb7f0d-8a82-47a0-84dd-00d2fa012ffe",
   "metadata": {},
   "outputs": [
    {
     "data": {
      "image/png": "[encoded data removed]",
      "text/plain": [
       "<Figure size 1200x600 with 2 Axes>"
      ]
     },
     "metadata": {},
     "output_type": "display_data"
    }
   ],
   "source": [
    "restore_and_show(data[0], decomposed_data[0][(20, 20, 3)][\"decomposed\"], 15, title_add=\" t, hw, c = (20, 20, 3)\")"
   ]
  },
  {
   "cell_type": "code",
   "execution_count": 100,
   "id": "70738204-4b26-4d54-b318-e6f7e80a2966",
   "metadata": {},
   "outputs": [],
   "source": [
    "restored0_20_20_1 = restore_from_decomposition(decomposed_data[0][(20, 20, 1)][\"decomposed\"])\n",
    "restored0_20_20_2 = restore_from_decomposition(decomposed_data[0][(20, 20, 2)][\"decomposed\"])"
   ]
  },
  {
   "cell_type": "code",
   "execution_count": 113,
   "id": "f3bf94ab-7703-40d6-ba84-887d5f1d607a",
   "metadata": {},
   "outputs": [],
   "source": [
    "write_video(f\"./videos/0_restored0_20_20_1.mp4\", restored0_20_20_1.transpose(0,2,1,3), fps=5)\n",
    "write_video(f\"./videos/0_restored0_20_20_2.mp4\", restored0_20_20_2.transpose(0,2,1,3), fps=5)"
   ]
  },
  {
   "cell_type": "code",
   "execution_count": null,
   "id": "267c08d3-307b-49b3-b026-95217e9f9f84",
   "metadata": {},
   "outputs": [],
   "source": []
  },
  {
   "cell_type": "code",
   "execution_count": null,
   "id": "ff8e2117-3e1c-49bd-bc55-a80137fbf25f",
   "metadata": {},
   "outputs": [],
   "source": []
  },
  {
   "cell_type": "code",
   "execution_count": 101,
   "id": "ac88074a-b772-4aed-9104-7f4a1434cf82",
   "metadata": {},
   "outputs": [
    {
     "data": {
      "text/plain": [
       "(20, 3, 40, 40)"
      ]
     },
     "execution_count": 101,
     "metadata": {},
     "output_type": "execute_result"
    }
   ],
   "source": [
    "data[0].shape"
   ]
  },
  {
   "cell_type": "code",
   "execution_count": 110,
   "id": "284043ce-cd4b-4c88-a982-4fffc8c928c2",
   "metadata": {},
   "outputs": [
    {
     "data": {
      "text/plain": [
       "torch.Size([20, 40, 40, 3])"
      ]
     },
     "execution_count": 110,
     "metadata": {},
     "output_type": "execute_result"
    }
   ],
   "source": [
    "data0_grayscale_manually = torch.tensor(data[0].mean(1).astype(np.uint8)).repeat(3, 1, 1, 1).permute(1,3,2,0)\n",
    "data0_grayscale_manually.shape"
   ]
  },
  {
   "cell_type": "code",
   "execution_count": 112,
   "id": "00038b0d-42f8-4447-a243-aa54dae207f6",
   "metadata": {},
   "outputs": [
    {
     "data": {
      "image/png": "[encoded data removed]",
      "text/plain": [
       "<Figure size 1200x600 with 2 Axes>"
      ]
     },
     "metadata": {},
     "output_type": "display_data"
    }
   ],
   "source": [
    "frame = 15\n",
    "\n",
    "fig, axes = plt.subplots(1, 2, figsize=(12,6))\n",
    "    \n",
    "axes[0].imshow(data0_grayscale_manually[frame])\n",
    "axes[1].imshow(restored0_20_20_1[frame].transpose(1,0,2))\n",
    "\n",
    "axes[0].set_title(\"Original grayscale\", fontsize=18)\n",
    "axes[1].set_title(\"Restored t, hw, c = (20, 20, 1)\", fontsize=18)\n",
    "\n",
    "plt.show()"
   ]
  },
  {
   "cell_type": "code",
   "execution_count": 111,
   "id": "9b76430c-89b2-41d0-b52f-0ebfd48ec6fe",
   "metadata": {},
   "outputs": [],
   "source": [
    "write_video(f\"./videos/data0_grayscale_manually.mp4\", data0_grayscale_manually, fps=5)"
   ]
  },
  {
   "cell_type": "code",
   "execution_count": null,
   "id": "86d4b4b4-e547-42a6-9547-4770d24703f8",
   "metadata": {},
   "outputs": [],
   "source": []
  },
  {
   "cell_type": "code",
   "execution_count": 43,
   "id": "4e4c3d6b-1f64-4266-911d-271ac0cfaeaf",
   "metadata": {},
   "outputs": [
    {
     "data": {
      "image/png": "[encoded data removed]",
      "text/plain": [
       "<Figure size 1200x600 with 2 Axes>"
      ]
     },
     "metadata": {},
     "output_type": "display_data"
    }
   ],
   "source": [
    "plot_comparison(data[0], restored0, 15)"
   ]
  },
  {
   "cell_type": "code",
   "execution_count": 67,
   "id": "ac0a1311-740b-4032-b898-ce7f910dd96b",
   "metadata": {},
   "outputs": [
    {
     "data": {
      "image/png": "[encoded data removed]",
      "text/plain": [
       "<Figure size 1200x600 with 2 Axes>"
      ]
     },
     "metadata": {},
     "output_type": "display_data"
    }
   ],
   "source": [
    "plot_comparison(data[16], restored1, 4)"
   ]
  },
  {
   "cell_type": "code",
   "execution_count": 70,
   "id": "7989d72c-f5cb-45c2-89c7-0490d5fee4ae",
   "metadata": {},
   "outputs": [
    {
     "data": {
      "image/png": "[encoded data removed]",
      "text/plain": [
       "<Figure size 800x600 with 1 Axes>"
      ]
     },
     "metadata": {},
     "output_type": "display_data"
    }
   ],
   "source": [
    "errors1 = []\n",
    "errors2 = []\n",
    "errors3 = []\n",
    "compression1 = []\n",
    "compression2 = []\n",
    "compression3 = []\n",
    "\n",
    "\n",
    "for k, v in decomposed_data[0].items():\n",
    "    if k[-1] == 1:\n",
    "        errors1.append(v[\"error\"])\n",
    "        compression1.append(v[\"compression\"])\n",
    "    elif k[-1] == 2:\n",
    "        errors2.append(v[\"error\"])\n",
    "        compression2.append(v[\"compression\"])\n",
    "    elif k[-1] == 3:\n",
    "        errors3.append(v[\"error\"])\n",
    "        compression3.append(v[\"compression\"])\n",
    "\n",
    "\n",
    "plt.figure(figsize=(8, 6))\n",
    "\n",
    "plt.scatter(compression1, errors1, label=\"c = 1\")\n",
    "plt.scatter(compression2, errors2, label=\"c = 2\")\n",
    "plt.scatter(compression3, errors3, label=\"c = 3\")\n",
    "plt.legend(shadow=True, fontsize=16)\n",
    "plt.xlabel(\"Compression rate\", fontsize=16)\n",
    "plt.ylabel(\"residual relative error\", fontsize=16)\n",
    "plt.grid()\n",
    "plt.title(\"Error for differenet number of channels\")\n",
    "plt.show()"
   ]
  },
  {
   "cell_type": "code",
   "execution_count": 90,
   "id": "460315d7-2f17-4484-b3f8-656754530281",
   "metadata": {},
   "outputs": [
    {
     "data": {
      "image/png": "[encoded data removed]",
      "text/plain": [
       "<Figure size 800x600 with 1 Axes>"
      ]
     },
     "metadata": {},
     "output_type": "display_data"
    }
   ],
   "source": [
    "errors1 = []\n",
    "errors5 = []\n",
    "errors10 = []\n",
    "errors20 = []\n",
    "compression1 = []\n",
    "compression5 = []\n",
    "compression10 = []\n",
    "compression20 = []\n",
    "\n",
    "\n",
    "for k, v in decomposed_data[0].items():\n",
    "    if k[0] == 1:\n",
    "        errors1.append(v[\"error\"])\n",
    "        compression1.append(v[\"compression\"])\n",
    "    elif k[0] == 5:\n",
    "        errors5.append(v[\"error\"])\n",
    "        compression5.append(v[\"compression\"])\n",
    "    elif k[0] == 10:\n",
    "        errors10.append(v[\"error\"])\n",
    "        compression10.append(v[\"compression\"])\n",
    "    elif k[0] == 20:\n",
    "        errors20.append(v[\"error\"])\n",
    "        compression20.append(v[\"compression\"])\n",
    "\n",
    "\n",
    "plt.figure(figsize=(8, 6))\n",
    "\n",
    "plt.scatter(compression1, errors1, label=\"t = 1\")\n",
    "plt.scatter(compression5, errors5, label=\"t = 5\")\n",
    "plt.scatter(compression10, errors10, label=\"t = 10\")\n",
    "plt.scatter(compression20, errors20, label=\"t = 20\")\n",
    "plt.xlabel(\"Compression rate\", fontsize=16)\n",
    "plt.ylabel(\"residual relative error\", fontsize=16)\n",
    "plt.legend(shadow=True, fontsize=16)\n",
    "plt.title(\"Error for differenet time dim\")\n",
    "plt.grid()\n",
    "plt.show()"
   ]
  },
  {
   "cell_type": "code",
   "execution_count": null,
   "id": "f3ce5d16-69d3-4842-9022-03ab1035a6c0",
   "metadata": {},
   "outputs": [],
   "source": []
  },
  {
   "cell_type": "code",
   "execution_count": 211,
   "id": "ccb9ae8d-666a-4341-9af1-2f631286be1d",
   "metadata": {},
   "outputs": [],
   "source": [
    "restored = np.einsum(\"ijkl,mi,nj,ok,pl->mnop\", video0_hosvd.core.data, \n",
    "                                               video0_hosvd.fmat[0],\n",
    "                                               video0_hosvd.fmat[1],\n",
    "                                               video0_hosvd.fmat[2],\n",
    "                                               video0_hosvd.fmat[3])"
   ]
  },
  {
   "cell_type": "code",
   "execution_count": 212,
   "id": "56cc4400-3137-4903-8d4a-980f8b7b73a0",
   "metadata": {},
   "outputs": [
    {
     "data": {
      "text/plain": [
       "(0.9764679839827736, -7.625844400394044e-15)"
      ]
     },
     "execution_count": 212,
     "metadata": {},
     "output_type": "execute_result"
    }
   ],
   "source": [
    "restored.max(), restored.min()"
   ]
  },
  {
   "cell_type": "code",
   "execution_count": 213,
   "id": "2eb53421-2947-4522-a1ca-4c98fbe04640",
   "metadata": {},
   "outputs": [],
   "source": [
    "restored_array = np.array(restored.clip(0, 1) * 255).astype(np.uint8)"
   ]
  },
  {
   "cell_type": "code",
   "execution_count": 214,
   "id": "2fc763d7-6050-414a-9a14-d4c76d9c7c12",
   "metadata": {},
   "outputs": [
    {
     "data": {
      "text/plain": [
       "(20, 40, 40, 3)"
      ]
     },
     "execution_count": 214,
     "metadata": {},
     "output_type": "execute_result"
    }
   ],
   "source": [
    "restored_array.shape"
   ]
  },
  {
   "cell_type": "code",
   "execution_count": 215,
   "id": "971d509f-5ac5-4814-b8e5-2a22559e16d8",
   "metadata": {},
   "outputs": [
    {
     "data": {
      "text/plain": [
       "<matplotlib.image.AxesImage at 0x1cce045c0d0>"
      ]
     },
     "execution_count": 215,
     "metadata": {},
     "output_type": "execute_result"
    },
    {
     "data": {
      "image/png": "[encoded data removed]",
      "text/plain": [
       "<Figure size 640x480 with 1 Axes>"
      ]
     },
     "metadata": {},
     "output_type": "display_data"
    }
   ],
   "source": [
    "plt.imshow(restored_array[0].transpose(1,0,2))"
   ]
  },
  {
   "cell_type": "code",
   "execution_count": 216,
   "id": "0cb51f33-2cd4-4984-a174-8bf678694bd4",
   "metadata": {},
   "outputs": [
    {
     "data": {
      "text/plain": [
       "<matplotlib.image.AxesImage at 0x1cce04ee7a0>"
      ]
     },
     "execution_count": 216,
     "metadata": {},
     "output_type": "execute_result"
    },
    {
     "data": {
      "image/png": "[encoded data removed]",
      "text/plain": [
       "<Figure size 640x480 with 1 Axes>"
      ]
     },
     "metadata": {},
     "output_type": "display_data"
    }
   ],
   "source": [
    "plt.imshow(data[0][0].transpose(2,1,0))"
   ]
  },
  {
   "cell_type": "code",
   "execution_count": null,
   "id": "9c753dd6-8832-45e8-b848-bddedf3b852b",
   "metadata": {},
   "outputs": [],
   "source": []
  }
 ],
 "metadata": {
  "kernelspec": {
   "display_name": "Python 3 (ipykernel)",
   "language": "python",
   "name": "python3"
  },
  "language_info": {
   "codemirror_mode": {
    "name": "ipython",
    "version": 3
   },
   "file_extension": ".py",
   "mimetype": "text/x-python",
   "name": "python",
   "nbconvert_exporter": "python",
   "pygments_lexer": "ipython3",
   "version": "3.10.13"
  },
  "widgets": {
   "application/vnd.jupyter.widget-state+json": {
    "state": {
     "0356a90ab15c4e9baed8aeb0d56c9725": {
      "model_module": "@jupyter-widgets/base",
      "model_module_version": "2.0.0",
      "model_name": "LayoutModel",
      "state": {}
     },
     "048c47c281cd4e7b89720f348e1d45c7": {
      "model_module": "@jupyter-widgets/controls",
      "model_module_version": "2.0.0",
      "model_name": "HBoxModel",
      "state": {
       "children": [
        "IPY_MODEL_c10c2fb5d3c44f5097c08d168e35de63",
        "IPY_MODEL_0542e82e0455479cb80d364c850f3469",
        "IPY_MODEL_68f5220d4e7e4504bc849e383fa5b182"
       ],
       "layout": "IPY_MODEL_329a94ddcfdc41d285a0b404a67d379d"
      }
     },
     "04f591f619184309ba9f91dac80f9297": {
      "model_module": "@jupyter-widgets/controls",
      "model_module_version": "2.0.0",
      "model_name": "ProgressStyleModel",
      "state": {
       "bar_color": "#4444BB",
       "description_width": ""
      }
     },
     "05039c05b212474e9c23cf98a5431787": {
      "model_module": "@jupyter-widgets/base",
      "model_module_version": "2.0.0",
      "model_name": "LayoutModel",
      "state": {}
     },
     "0542e82e0455479cb80d364c850f3469": {
      "model_module": "@jupyter-widgets/controls",
      "model_module_version": "2.0.0",
      "model_name": "FloatProgressModel",
      "state": {
       "bar_style": "success",
       "layout": "IPY_MODEL_4a192e3930f84d949b81fcc05dcea7d3",
       "max": 1,
       "style": "IPY_MODEL_4a91caa26308467795c2353fb7ed8e9a",
       "value": 1
      }
     },
     "056fe6380bbd47dd8488cd798f5e4d32": {
      "model_module": "@jupyter-widgets/controls",
      "model_module_version": "2.0.0",
      "model_name": "HBoxModel",
      "state": {
       "children": [
        "IPY_MODEL_56b1141f02724790b1e08924a37c1d3e",
        "IPY_MODEL_5a9831746297438d98009026ee3ae97d",
        "IPY_MODEL_b8a68fc7ca704a76a41c1efa1cbdc945"
       ],
       "layout": "IPY_MODEL_7624b3d3092549c9941ed810c9723df6"
      }
     },
     "05b8a9e24dae4059aab733ed96b70c1c": {
      "model_module": "@jupyter-widgets/base",
      "model_module_version": "2.0.0",
      "model_name": "LayoutModel",
      "state": {}
     },
     "07344b00529e4c1cb1cd5120d9a88b1e": {
      "model_module": "@jupyter-widgets/controls",
      "model_module_version": "2.0.0",
      "model_name": "HBoxModel",
      "state": {
       "children": [
        "IPY_MODEL_47e3ecd39849495486bf3401da768acf",
        "IPY_MODEL_2a2fa10c2c6f4574983f337c16734266",
        "IPY_MODEL_6455cc068cba4c0cac55f9ed6aedbea7"
       ],
       "layout": "IPY_MODEL_e3c08ffbeac047b9bf35d8b4ed609ae5"
      }
     },
     "07a15d4b44d94e19bd6e335800bfe2e5": {
      "model_module": "@jupyter-widgets/controls",
      "model_module_version": "2.0.0",
      "model_name": "HTMLModel",
      "state": {
       "layout": "IPY_MODEL_62c5534bc38d4f09ba2a6601b7a860e1",
       "style": "IPY_MODEL_ee094d59dcd940ca842ecbefd59436bb",
       "value": " 48/? [01:53&lt;00:00,  3.63s/it]"
      }
     },
     "0802188986f142939f21bbfb131c5b30": {
      "model_module": "@jupyter-widgets/controls",
      "model_module_version": "2.0.0",
      "model_name": "HTMLStyleModel",
      "state": {
       "description_width": "",
       "font_size": null,
       "text_color": null
      }
     },
     "081a29e20ba94044bc920d26d94cd953": {
      "model_module": "@jupyter-widgets/controls",
      "model_module_version": "2.0.0",
      "model_name": "HTMLStyleModel",
      "state": {
       "description_width": "",
       "font_size": null,
       "text_color": null
      }
     },
     "081ba625b6eb40299cfba5a68df591bc": {
      "model_module": "@jupyter-widgets/controls",
      "model_module_version": "2.0.0",
      "model_name": "HBoxModel",
      "state": {
       "children": [
        "IPY_MODEL_75c678e4763a4f888b466196fe63b35d",
        "IPY_MODEL_2e31c02c44a14f83befed70d61cd8787",
        "IPY_MODEL_3927e1fe52324e04a6d9aa8330a43c6a"
       ],
       "layout": "IPY_MODEL_6a206850859e496786ff2b8c5dc90ce3"
      }
     },
     "086ef88f6b7945e7bb9140fe9bd6868b": {
      "model_module": "@jupyter-widgets/controls",
      "model_module_version": "2.0.0",
      "model_name": "HTMLStyleModel",
      "state": {
       "description_width": "",
       "font_size": null,
       "text_color": null
      }
     },
     "0ed9a636850740bbaf7efe718b5dfb6c": {
      "model_module": "@jupyter-widgets/controls",
      "model_module_version": "2.0.0",
      "model_name": "HTMLStyleModel",
      "state": {
       "description_width": "",
       "font_size": null,
       "text_color": null
      }
     },
     "0f094e4e2166472f8a14a72f0c390835": {
      "model_module": "@jupyter-widgets/controls",
      "model_module_version": "2.0.0",
      "model_name": "FloatProgressModel",
      "state": {
       "bar_style": "success",
       "layout": "IPY_MODEL_d6589e852723440da411142e4b71de61",
       "max": 1,
       "style": "IPY_MODEL_95cb1c8e05e4405d8f65846f09858bc6",
       "value": 1
      }
     },
     "114bab68d48b41e49993b623d5d4043b": {
      "model_module": "@jupyter-widgets/controls",
      "model_module_version": "2.0.0",
      "model_name": "FloatProgressModel",
      "state": {
       "bar_style": "success",
       "layout": "IPY_MODEL_e5b3f17300314bc781a99c62cffc1747",
       "max": 1,
       "style": "IPY_MODEL_70e0bf1f1efa43e7a1df4cc3bec81194",
       "value": 1
      }
     },
     "134a079a2290434ebeb91dcdf66e062c": {
      "model_module": "@jupyter-widgets/controls",
      "model_module_version": "2.0.0",
      "model_name": "HTMLModel",
      "state": {
       "layout": "IPY_MODEL_24dc09192fa84183aa4b7216c7148ef1",
       "style": "IPY_MODEL_2045a93b5ff540b9baa4800e0d04d50a",
       "value": " 48/? [01:48&lt;00:00,  3.62s/it]"
      }
     },
     "137e8e9d1f904fbd965c44198fedada2": {
      "model_module": "@jupyter-widgets/base",
      "model_module_version": "2.0.0",
      "model_name": "LayoutModel",
      "state": {
       "width": "20px"
      }
     },
     "14192890e0ec427fa2010c482886bfc7": {
      "model_module": "@jupyter-widgets/controls",
      "model_module_version": "2.0.0",
      "model_name": "HTMLStyleModel",
      "state": {
       "description_width": "",
       "font_size": null,
       "text_color": null
      }
     },
     "15fb8740664440fab0603952a7f1f416": {
      "model_module": "@jupyter-widgets/controls",
      "model_module_version": "2.0.0",
      "model_name": "HTMLStyleModel",
      "state": {
       "description_width": "",
       "font_size": null,
       "text_color": null
      }
     },
     "164d291b0dd64d228227603320045db7": {
      "model_module": "@jupyter-widgets/base",
      "model_module_version": "2.0.0",
      "model_name": "LayoutModel",
      "state": {}
     },
     "16e65f9245f14e9c8c274c11f1e1a9ef": {
      "model_module": "@jupyter-widgets/controls",
      "model_module_version": "2.0.0",
      "model_name": "ProgressStyleModel",
      "state": {
       "bar_color": "#4444BB",
       "description_width": ""
      }
     },
     "16fb67428e364173a20e4907a3755e90": {
      "model_module": "@jupyter-widgets/controls",
      "model_module_version": "2.0.0",
      "model_name": "FloatProgressModel",
      "state": {
       "bar_style": "success",
       "layout": "IPY_MODEL_9b4f7bfaf9a2487cb972717270987cbf",
       "max": 1,
       "style": "IPY_MODEL_16e65f9245f14e9c8c274c11f1e1a9ef",
       "value": 1
      }
     },
     "182cec8d91cb4cd3abf99c103605f3df": {
      "model_module": "@jupyter-widgets/base",
      "model_module_version": "2.0.0",
      "model_name": "LayoutModel",
      "state": {}
     },
     "18617f51b06e448f87889583bac5d375": {
      "model_module": "@jupyter-widgets/base",
      "model_module_version": "2.0.0",
      "model_name": "LayoutModel",
      "state": {}
     },
     "1894599d169b4042befc28ee666be23b": {
      "model_module": "@jupyter-widgets/controls",
      "model_module_version": "2.0.0",
      "model_name": "HTMLStyleModel",
      "state": {
       "description_width": "",
       "font_size": null,
       "text_color": null
      }
     },
     "1912bd3dcdb04696afbc05d40699df58": {
      "model_module": "@jupyter-widgets/controls",
      "model_module_version": "2.0.0",
      "model_name": "HBoxModel",
      "state": {
       "children": [
        "IPY_MODEL_6435a25675814d4b9209943027cc9641",
        "IPY_MODEL_d162f974987a431891fae3c16df3ba2c",
        "IPY_MODEL_2ad129028112415381a01632783480e2"
       ],
       "layout": "IPY_MODEL_bf66779810ea4e0f9a27b1325d92d3ca"
      }
     },
     "19426c51b9884a2999364096faab52cb": {
      "model_module": "@jupyter-widgets/base",
      "model_module_version": "2.0.0",
      "model_name": "LayoutModel",
      "state": {}
     },
     "19e2ffe926e6474b8d126de36a59a115": {
      "model_module": "@jupyter-widgets/controls",
      "model_module_version": "2.0.0",
      "model_name": "HTMLStyleModel",
      "state": {
       "description_width": "",
       "font_size": null,
       "text_color": null
      }
     },
     "1bfc189fc80647a98646496f8a665a33": {
      "model_module": "@jupyter-widgets/base",
      "model_module_version": "2.0.0",
      "model_name": "LayoutModel",
      "state": {}
     },
     "1d6fb74c9861493391352df08573d25e": {
      "model_module": "@jupyter-widgets/controls",
      "model_module_version": "2.0.0",
      "model_name": "HBoxModel",
      "state": {
       "children": [
        "IPY_MODEL_a32fb5ebe6c74bc9b593c1d30a3d9ca9",
        "IPY_MODEL_88e266123f7e479a929195e34bafe018",
        "IPY_MODEL_b5eb53acc33a43418e2bd5b81e67a2e4"
       ],
       "layout": "IPY_MODEL_eb232172960e42b28b20e7b490accbce"
      }
     },
     "1fcb2db2715b415791ee094864544dc1": {
      "model_module": "@jupyter-widgets/controls",
      "model_module_version": "2.0.0",
      "model_name": "HTMLModel",
      "state": {
       "layout": "IPY_MODEL_d3f8adbf31394acd8a1b4ced580f8182",
       "style": "IPY_MODEL_8b533d2420d146089963f65538939293"
      }
     },
     "2045a93b5ff540b9baa4800e0d04d50a": {
      "model_module": "@jupyter-widgets/controls",
      "model_module_version": "2.0.0",
      "model_name": "HTMLStyleModel",
      "state": {
       "description_width": "",
       "font_size": null,
       "text_color": null
      }
     },
     "2413cf6dcdcd429caa7c873194aa4729": {
      "model_module": "@jupyter-widgets/base",
      "model_module_version": "2.0.0",
      "model_name": "LayoutModel",
      "state": {}
     },
     "24927406b53f4beba8a9fd5038d26dba": {
      "model_module": "@jupyter-widgets/controls",
      "model_module_version": "2.0.0",
      "model_name": "HBoxModel",
      "state": {
       "children": [
        "IPY_MODEL_6f8bcb61d50d445486fd59e69672c8d9",
        "IPY_MODEL_4b425742f22b44bb97f821c17880c20d",
        "IPY_MODEL_c5a972b4c29249dd84e7027aaf6aabf3"
       ],
       "layout": "IPY_MODEL_83be043b688841bda87c506f42b52c06"
      }
     },
     "24dc09192fa84183aa4b7216c7148ef1": {
      "model_module": "@jupyter-widgets/base",
      "model_module_version": "2.0.0",
      "model_name": "LayoutModel",
      "state": {}
     },
     "289e4b637c9640309776bdb20ea24ca0": {
      "model_module": "@jupyter-widgets/controls",
      "model_module_version": "2.0.0",
      "model_name": "HTMLModel",
      "state": {
       "layout": "IPY_MODEL_dc32eac50de6450e845698ea65d5ba30",
       "style": "IPY_MODEL_086ef88f6b7945e7bb9140fe9bd6868b"
      }
     },
     "28b7c7f2e63149429e5fe7778ad0d657": {
      "model_module": "@jupyter-widgets/controls",
      "model_module_version": "2.0.0",
      "model_name": "HTMLModel",
      "state": {
       "layout": "IPY_MODEL_0356a90ab15c4e9baed8aeb0d56c9725",
       "style": "IPY_MODEL_9cf8d348cb7e439393752c53391139dd",
       "value": " 48/? [01:46&lt;00:00,  3.54s/it]"
      }
     },
     "29aef617e6e940d088d17abb16eacd67": {
      "model_module": "@jupyter-widgets/base",
      "model_module_version": "2.0.0",
      "model_name": "LayoutModel",
      "state": {}
     },
     "2a2fa10c2c6f4574983f337c16734266": {
      "model_module": "@jupyter-widgets/controls",
      "model_module_version": "2.0.0",
      "model_name": "FloatProgressModel",
      "state": {
       "bar_style": "success",
       "layout": "IPY_MODEL_45ea3980f27843d3b7fdd6c6f38a32a4",
       "max": 1,
       "style": "IPY_MODEL_a27d82d73c584ca18712a51ed4750377",
       "value": 1
      }
     },
     "2ad129028112415381a01632783480e2": {
      "model_module": "@jupyter-widgets/controls",
      "model_module_version": "2.0.0",
      "model_name": "HTMLModel",
      "state": {
       "layout": "IPY_MODEL_d781dbe688a34f3782c8bbb24fae1275",
       "style": "IPY_MODEL_a48f5693ffed4737924c03b343f31ade",
       "value": " 48/? [01:50&lt;00:00,  3.75s/it]"
      }
     },
     "2cb8d798cb794a6d9806728868049002": {
      "model_module": "@jupyter-widgets/controls",
      "model_module_version": "2.0.0",
      "model_name": "HTMLStyleModel",
      "state": {
       "description_width": "",
       "font_size": null,
       "text_color": null
      }
     },
     "2e31c02c44a14f83befed70d61cd8787": {
      "model_module": "@jupyter-widgets/controls",
      "model_module_version": "2.0.0",
      "model_name": "FloatProgressModel",
      "state": {
       "bar_style": "success",
       "layout": "IPY_MODEL_38e8c640ae564afe862c67a7596e4c8d",
       "max": 1,
       "style": "IPY_MODEL_04f591f619184309ba9f91dac80f9297",
       "value": 1
      }
     },
     "2f051dc5bf3d436b908594a20653e442": {
      "model_module": "@jupyter-widgets/controls",
      "model_module_version": "2.0.0",
      "model_name": "HTMLStyleModel",
      "state": {
       "description_width": "",
       "font_size": null,
       "text_color": null
      }
     },
     "2fddcdc9d87848c3a4b4b00a5c1b037a": {
      "model_module": "@jupyter-widgets/controls",
      "model_module_version": "2.0.0",
      "model_name": "FloatProgressModel",
      "state": {
       "bar_style": "success",
       "layout": "IPY_MODEL_411f59ca72f0496fac21e906012ee9c6",
       "max": 1,
       "style": "IPY_MODEL_aaa1871ee3f24b8dbb417da03127f446",
       "value": 1
      }
     },
     "329a94ddcfdc41d285a0b404a67d379d": {
      "model_module": "@jupyter-widgets/base",
      "model_module_version": "2.0.0",
      "model_name": "LayoutModel",
      "state": {}
     },
     "34f940401bf7416c873d72d159b80027": {
      "model_module": "@jupyter-widgets/base",
      "model_module_version": "2.0.0",
      "model_name": "LayoutModel",
      "state": {}
     },
     "36e4a97209414568bc0df03d31c86813": {
      "model_module": "@jupyter-widgets/controls",
      "model_module_version": "2.0.0",
      "model_name": "ProgressStyleModel",
      "state": {
       "bar_color": "#4444BB",
       "description_width": ""
      }
     },
     "37f146117c3944189ec95a85aa176995": {
      "model_module": "@jupyter-widgets/controls",
      "model_module_version": "2.0.0",
      "model_name": "HTMLModel",
      "state": {
       "layout": "IPY_MODEL_4b3a2582b0b346598df52621e1bd3496",
       "style": "IPY_MODEL_6a9b6bbdab684884a6ea343717bfc8fa",
       "value": " 48/? [01:51&lt;00:00,  3.67s/it]"
      }
     },
     "38e8c640ae564afe862c67a7596e4c8d": {
      "model_module": "@jupyter-widgets/base",
      "model_module_version": "2.0.0",
      "model_name": "LayoutModel",
      "state": {
       "width": "20px"
      }
     },
     "3927e1fe52324e04a6d9aa8330a43c6a": {
      "model_module": "@jupyter-widgets/controls",
      "model_module_version": "2.0.0",
      "model_name": "HTMLModel",
      "state": {
       "layout": "IPY_MODEL_fdd754da6e16438c8cc739b1a8fa8f45",
       "style": "IPY_MODEL_a8a3d6c527bb4010ad4bb96679ea68eb",
       "value": " 48/? [01:56&lt;00:00,  3.78s/it]"
      }
     },
     "3aa589cd0d0b44dda7dd6d31040244cd": {
      "model_module": "@jupyter-widgets/controls",
      "model_module_version": "2.0.0",
      "model_name": "ProgressStyleModel",
      "state": {
       "bar_color": "#4444BB",
       "description_width": ""
      }
     },
     "3bf13af0b9924b2eace58d3a1b3cd143": {
      "model_module": "@jupyter-widgets/controls",
      "model_module_version": "2.0.0",
      "model_name": "HBoxModel",
      "state": {
       "children": [
        "IPY_MODEL_1fcb2db2715b415791ee094864544dc1",
        "IPY_MODEL_5a26f384d463473cb882b75c1b1ad2af",
        "IPY_MODEL_a836ac8874fd4fd1b625e836f3dc236e"
       ],
       "layout": "IPY_MODEL_a83823c9042340f1bdf133dedc809153"
      }
     },
     "411f59ca72f0496fac21e906012ee9c6": {
      "model_module": "@jupyter-widgets/base",
      "model_module_version": "2.0.0",
      "model_name": "LayoutModel",
      "state": {
       "width": "20px"
      }
     },
     "4275e4868c714fc0a2414b7dd618ddf6": {
      "model_module": "@jupyter-widgets/controls",
      "model_module_version": "2.0.0",
      "model_name": "HTMLStyleModel",
      "state": {
       "description_width": "",
       "font_size": null,
       "text_color": null
      }
     },
     "43657a00086d47a1a5e03939bf8b8fe8": {
      "model_module": "@jupyter-widgets/controls",
      "model_module_version": "2.0.0",
      "model_name": "HTMLModel",
      "state": {
       "layout": "IPY_MODEL_d66ba5d1df764617b0e8767595f46dfe",
       "style": "IPY_MODEL_faee1671ad6e4848a6e56f244dca5c77"
      }
     },
     "458c3856b8b948c39c894cac9c90db30": {
      "model_module": "@jupyter-widgets/base",
      "model_module_version": "2.0.0",
      "model_name": "LayoutModel",
      "state": {}
     },
     "45ea3980f27843d3b7fdd6c6f38a32a4": {
      "model_module": "@jupyter-widgets/base",
      "model_module_version": "2.0.0",
      "model_name": "LayoutModel",
      "state": {
       "width": "20px"
      }
     },
     "47e3ecd39849495486bf3401da768acf": {
      "model_module": "@jupyter-widgets/controls",
      "model_module_version": "2.0.0",
      "model_name": "HTMLModel",
      "state": {
       "layout": "IPY_MODEL_ac8ac21de1e34ca693694aeeda551cd0",
       "style": "IPY_MODEL_c3e0b9df8c0246768f2a7acaf7804279"
      }
     },
     "48e884591d1843f7a5016fd5d23cb7b1": {
      "model_module": "@jupyter-widgets/base",
      "model_module_version": "2.0.0",
      "model_name": "LayoutModel",
      "state": {}
     },
     "4a12107c9768437f9bd80cf7570f1238": {
      "model_module": "@jupyter-widgets/controls",
      "model_module_version": "2.0.0",
      "model_name": "HTMLModel",
      "state": {
       "layout": "IPY_MODEL_f9f95663a3834077ba3c368f4327fd4d",
       "style": "IPY_MODEL_70dc1a05c49942c0958b581d780e3ea0",
       "value": " 20/20 [36:44&lt;00:00, 108.45s/it]"
      }
     },
     "4a192e3930f84d949b81fcc05dcea7d3": {
      "model_module": "@jupyter-widgets/base",
      "model_module_version": "2.0.0",
      "model_name": "LayoutModel",
      "state": {
       "width": "20px"
      }
     },
     "4a91caa26308467795c2353fb7ed8e9a": {
      "model_module": "@jupyter-widgets/controls",
      "model_module_version": "2.0.0",
      "model_name": "ProgressStyleModel",
      "state": {
       "bar_color": "#4444BB",
       "description_width": ""
      }
     },
     "4abd2d89a3184621bc4540d1bf1b1711": {
      "model_module": "@jupyter-widgets/base",
      "model_module_version": "2.0.0",
      "model_name": "LayoutModel",
      "state": {}
     },
     "4b3a2582b0b346598df52621e1bd3496": {
      "model_module": "@jupyter-widgets/base",
      "model_module_version": "2.0.0",
      "model_name": "LayoutModel",
      "state": {}
     },
     "4b425742f22b44bb97f821c17880c20d": {
      "model_module": "@jupyter-widgets/controls",
      "model_module_version": "2.0.0",
      "model_name": "FloatProgressModel",
      "state": {
       "bar_style": "success",
       "layout": "IPY_MODEL_5a5de6bc9fc449dc995013188f5a7974",
       "max": 1,
       "style": "IPY_MODEL_9b5cbd1d3c134fe9a4dee2366271a0ae",
       "value": 1
      }
     },
     "4b4aa331b30d4606b4d980690e54b4ef": {
      "model_module": "@jupyter-widgets/base",
      "model_module_version": "2.0.0",
      "model_name": "LayoutModel",
      "state": {}
     },
     "4c1d77e42f964345be3c533f6ff35582": {
      "model_module": "@jupyter-widgets/controls",
      "model_module_version": "2.0.0",
      "model_name": "HTMLModel",
      "state": {
       "layout": "IPY_MODEL_6ec4d2fd68ac4316a82c83171996d0b5",
       "style": "IPY_MODEL_4275e4868c714fc0a2414b7dd618ddf6"
      }
     },
     "4eaead5a80cf42cfb9a53263b28a1b83": {
      "model_module": "@jupyter-widgets/base",
      "model_module_version": "2.0.0",
      "model_name": "LayoutModel",
      "state": {}
     },
     "4f6b49ba2d4840fc95c65a3825f0e878": {
      "model_module": "@jupyter-widgets/base",
      "model_module_version": "2.0.0",
      "model_name": "LayoutModel",
      "state": {}
     },
     "51c0c2620d7f4136bb7dd66b06872746": {
      "model_module": "@jupyter-widgets/controls",
      "model_module_version": "2.0.0",
      "model_name": "HTMLStyleModel",
      "state": {
       "description_width": "",
       "font_size": null,
       "text_color": null
      }
     },
     "5245f7bc82db431181486151197e8d0c": {
      "model_module": "@jupyter-widgets/controls",
      "model_module_version": "2.0.0",
      "model_name": "ProgressStyleModel",
      "state": {
       "bar_color": "#4444BB",
       "description_width": ""
      }
     },
     "53ac0a8259594e23a0fb158585bdfe80": {
      "model_module": "@jupyter-widgets/controls",
      "model_module_version": "2.0.0",
      "model_name": "HTMLModel",
      "state": {
       "layout": "IPY_MODEL_7521bd0a8ebe401484457f219c8a90e8",
       "style": "IPY_MODEL_585a33f611c54e1584d59e3f0bf73881"
      }
     },
     "54bedece88784cdeab455425d78739c3": {
      "model_module": "@jupyter-widgets/controls",
      "model_module_version": "2.0.0",
      "model_name": "HTMLStyleModel",
      "state": {
       "description_width": "",
       "font_size": null,
       "text_color": null
      }
     },
     "55bdc68cda214cc18d024dfe2b346856": {
      "model_module": "@jupyter-widgets/controls",
      "model_module_version": "2.0.0",
      "model_name": "HTMLModel",
      "state": {
       "layout": "IPY_MODEL_5e20ebbaa3e24682af88ab5ffdf69e4f",
       "style": "IPY_MODEL_b6549191601f4ff0b845fd311838c7be",
       "value": " 48/? [01:50&lt;00:00,  3.56s/it]"
      }
     },
     "56b1141f02724790b1e08924a37c1d3e": {
      "model_module": "@jupyter-widgets/controls",
      "model_module_version": "2.0.0",
      "model_name": "HTMLModel",
      "state": {
       "layout": "IPY_MODEL_4b4aa331b30d4606b4d980690e54b4ef",
       "style": "IPY_MODEL_0802188986f142939f21bbfb131c5b30"
      }
     },
     "57981beff9924aee9f5a86d89569c32f": {
      "model_module": "@jupyter-widgets/base",
      "model_module_version": "2.0.0",
      "model_name": "LayoutModel",
      "state": {}
     },
     "585a33f611c54e1584d59e3f0bf73881": {
      "model_module": "@jupyter-widgets/controls",
      "model_module_version": "2.0.0",
      "model_name": "HTMLStyleModel",
      "state": {
       "description_width": "",
       "font_size": null,
       "text_color": null
      }
     },
     "5a26f384d463473cb882b75c1b1ad2af": {
      "model_module": "@jupyter-widgets/controls",
      "model_module_version": "2.0.0",
      "model_name": "FloatProgressModel",
      "state": {
       "bar_style": "success",
       "layout": "IPY_MODEL_f761d7db597f4030963728028b95de8c",
       "max": 1,
       "style": "IPY_MODEL_8bf3587ae9fd4375bdfc5cbbbd7b7738",
       "value": 1
      }
     },
     "5a5de6bc9fc449dc995013188f5a7974": {
      "model_module": "@jupyter-widgets/base",
      "model_module_version": "2.0.0",
      "model_name": "LayoutModel",
      "state": {
       "width": "20px"
      }
     },
     "5a8dbd74e98b4d9ea2ed33d452e8ee7c": {
      "model_module": "@jupyter-widgets/controls",
      "model_module_version": "2.0.0",
      "model_name": "ProgressStyleModel",
      "state": {
       "bar_color": "#4444BB",
       "description_width": ""
      }
     },
     "5a9831746297438d98009026ee3ae97d": {
      "model_module": "@jupyter-widgets/controls",
      "model_module_version": "2.0.0",
      "model_name": "FloatProgressModel",
      "state": {
       "bar_style": "success",
       "layout": "IPY_MODEL_ee5097195c864088ae6d74398f1484d3",
       "max": 1,
       "style": "IPY_MODEL_893c0b6979804fcf806744f534f1a9c7",
       "value": 1
      }
     },
     "5ba05cb6b1094852a3254146b6c35615": {
      "model_module": "@jupyter-widgets/controls",
      "model_module_version": "2.0.0",
      "model_name": "HTMLModel",
      "state": {
       "layout": "IPY_MODEL_18617f51b06e448f87889583bac5d375",
       "style": "IPY_MODEL_7d618ee4fd524eed84fc806919dce741"
      }
     },
     "5d6fc56ac20e49ea926159b87e603c0f": {
      "model_module": "@jupyter-widgets/base",
      "model_module_version": "2.0.0",
      "model_name": "LayoutModel",
      "state": {
       "width": "20px"
      }
     },
     "5e20ebbaa3e24682af88ab5ffdf69e4f": {
      "model_module": "@jupyter-widgets/base",
      "model_module_version": "2.0.0",
      "model_name": "LayoutModel",
      "state": {}
     },
     "62ae1961bd3e45b7ba809af3e541d860": {
      "model_module": "@jupyter-widgets/controls",
      "model_module_version": "2.0.0",
      "model_name": "HTMLModel",
      "state": {
       "layout": "IPY_MODEL_8c728a8d549248f0b6a1ae688bb5d7ff",
       "style": "IPY_MODEL_82680bea7cb54b24935bf9b5ed72230c",
       "value": " 48/? [01:50&lt;00:00,  3.60s/it]"
      }
     },
     "62c5534bc38d4f09ba2a6601b7a860e1": {
      "model_module": "@jupyter-widgets/base",
      "model_module_version": "2.0.0",
      "model_name": "LayoutModel",
      "state": {}
     },
     "62cc242bb6f64c9dbd31ba69e8bb571a": {
      "model_module": "@jupyter-widgets/controls",
      "model_module_version": "2.0.0",
      "model_name": "HTMLModel",
      "state": {
       "layout": "IPY_MODEL_c9467f592ef34c8c9be92575ef367041",
       "style": "IPY_MODEL_a5d37589d5e34f02b55bcfee50c7ccee"
      }
     },
     "633f4ea564c14426bcb5c0038e5ff323": {
      "model_module": "@jupyter-widgets/controls",
      "model_module_version": "2.0.0",
      "model_name": "HTMLStyleModel",
      "state": {
       "description_width": "",
       "font_size": null,
       "text_color": null
      }
     },
     "63a6275171cb40308cffb60fc1db433c": {
      "model_module": "@jupyter-widgets/controls",
      "model_module_version": "2.0.0",
      "model_name": "HBoxModel",
      "state": {
       "children": [
        "IPY_MODEL_a5d36833984e4afb8af6654bcc58b55a",
        "IPY_MODEL_d42a9aca78544b1ba2dfe30a12b9c6a8",
        "IPY_MODEL_4a12107c9768437f9bd80cf7570f1238"
       ],
       "layout": "IPY_MODEL_19426c51b9884a2999364096faab52cb"
      }
     },
     "6435a25675814d4b9209943027cc9641": {
      "model_module": "@jupyter-widgets/controls",
      "model_module_version": "2.0.0",
      "model_name": "HTMLModel",
      "state": {
       "layout": "IPY_MODEL_78b7c0d5e3654d8284ddd06c72d06d28",
       "style": "IPY_MODEL_d08d87440049419dad5e1f322e9c9a20"
      }
     },
     "6455cc068cba4c0cac55f9ed6aedbea7": {
      "model_module": "@jupyter-widgets/controls",
      "model_module_version": "2.0.0",
      "model_name": "HTMLModel",
      "state": {
       "layout": "IPY_MODEL_a99a45bde64a42a2ae105aa12c9f309e",
       "style": "IPY_MODEL_19e2ffe926e6474b8d126de36a59a115",
       "value": " 48/? [01:47&lt;00:00,  3.63s/it]"
      }
     },
     "6465bde1f60541f1a0b592811f6e7d97": {
      "model_module": "@jupyter-widgets/controls",
      "model_module_version": "2.0.0",
      "model_name": "HTMLModel",
      "state": {
       "layout": "IPY_MODEL_c3ea87d195d84088bc9d223f3553f491",
       "style": "IPY_MODEL_51c0c2620d7f4136bb7dd66b06872746"
      }
     },
     "6817be7739114adaac82381e7bbf7443": {
      "model_module": "@jupyter-widgets/base",
      "model_module_version": "2.0.0",
      "model_name": "LayoutModel",
      "state": {
       "width": "20px"
      }
     },
     "68f5220d4e7e4504bc849e383fa5b182": {
      "model_module": "@jupyter-widgets/controls",
      "model_module_version": "2.0.0",
      "model_name": "HTMLModel",
      "state": {
       "layout": "IPY_MODEL_c05e7c4845da412a848f32ac636de028",
       "style": "IPY_MODEL_97fa5d63f7d447c185edd054121b6753",
       "value": " 48/? [01:50&lt;00:00,  3.70s/it]"
      }
     },
     "6a206850859e496786ff2b8c5dc90ce3": {
      "model_module": "@jupyter-widgets/base",
      "model_module_version": "2.0.0",
      "model_name": "LayoutModel",
      "state": {}
     },
     "6a349073c5534755b9c1f1e1be8dadcc": {
      "model_module": "@jupyter-widgets/base",
      "model_module_version": "2.0.0",
      "model_name": "LayoutModel",
      "state": {
       "width": "20px"
      }
     },
     "6a9b6bbdab684884a6ea343717bfc8fa": {
      "model_module": "@jupyter-widgets/controls",
      "model_module_version": "2.0.0",
      "model_name": "HTMLStyleModel",
      "state": {
       "description_width": "",
       "font_size": null,
       "text_color": null
      }
     },
     "6c89343d34c54645ba188aa4a817d061": {
      "model_module": "@jupyter-widgets/base",
      "model_module_version": "2.0.0",
      "model_name": "LayoutModel",
      "state": {}
     },
     "6cb0ce62e6b147a0a50b4590dbbeae54": {
      "model_module": "@jupyter-widgets/controls",
      "model_module_version": "2.0.0",
      "model_name": "ProgressStyleModel",
      "state": {
       "bar_color": "#4444BB",
       "description_width": ""
      }
     },
     "6d73478ad8704a12ab750e2f877712e0": {
      "model_module": "@jupyter-widgets/controls",
      "model_module_version": "2.0.0",
      "model_name": "HTMLStyleModel",
      "state": {
       "description_width": "",
       "font_size": null,
       "text_color": null
      }
     },
     "6dbf7928a7534cf2b386bace7821c1f5": {
      "model_module": "@jupyter-widgets/controls",
      "model_module_version": "2.0.0",
      "model_name": "HTMLModel",
      "state": {
       "layout": "IPY_MODEL_6c89343d34c54645ba188aa4a817d061",
       "style": "IPY_MODEL_addabe38228e4c76a80e0ec364297114",
       "value": " 48/? [01:50&lt;00:00,  3.70s/it]"
      }
     },
     "6ec4d2fd68ac4316a82c83171996d0b5": {
      "model_module": "@jupyter-widgets/base",
      "model_module_version": "2.0.0",
      "model_name": "LayoutModel",
      "state": {}
     },
     "6f8bcb61d50d445486fd59e69672c8d9": {
      "model_module": "@jupyter-widgets/controls",
      "model_module_version": "2.0.0",
      "model_name": "HTMLModel",
      "state": {
       "layout": "IPY_MODEL_57981beff9924aee9f5a86d89569c32f",
       "style": "IPY_MODEL_ab1b5cad285b424db6e741a853265e28"
      }
     },
     "70dc1a05c49942c0958b581d780e3ea0": {
      "model_module": "@jupyter-widgets/controls",
      "model_module_version": "2.0.0",
      "model_name": "HTMLStyleModel",
      "state": {
       "description_width": "",
       "font_size": null,
       "text_color": null
      }
     },
     "70e0bf1f1efa43e7a1df4cc3bec81194": {
      "model_module": "@jupyter-widgets/controls",
      "model_module_version": "2.0.0",
      "model_name": "ProgressStyleModel",
      "state": {
       "bar_color": "#4444BB",
       "description_width": ""
      }
     },
     "70fbd65fd14e4e738abb3e79a8c97213": {
      "model_module": "@jupyter-widgets/base",
      "model_module_version": "2.0.0",
      "model_name": "LayoutModel",
      "state": {}
     },
     "715440bc4f614ce5979da9927eff6688": {
      "model_module": "@jupyter-widgets/controls",
      "model_module_version": "2.0.0",
      "model_name": "HBoxModel",
      "state": {
       "children": [
        "IPY_MODEL_4c1d77e42f964345be3c533f6ff35582",
        "IPY_MODEL_2fddcdc9d87848c3a4b4b00a5c1b037a",
        "IPY_MODEL_f157ad4aa6b24bc789deb0e8a22b6457"
       ],
       "layout": "IPY_MODEL_4f6b49ba2d4840fc95c65a3825f0e878"
      }
     },
     "7521bd0a8ebe401484457f219c8a90e8": {
      "model_module": "@jupyter-widgets/base",
      "model_module_version": "2.0.0",
      "model_name": "LayoutModel",
      "state": {}
     },
     "75c678e4763a4f888b466196fe63b35d": {
      "model_module": "@jupyter-widgets/controls",
      "model_module_version": "2.0.0",
      "model_name": "HTMLModel",
      "state": {
       "layout": "IPY_MODEL_182cec8d91cb4cd3abf99c103605f3df",
       "style": "IPY_MODEL_1894599d169b4042befc28ee666be23b"
      }
     },
     "7624b3d3092549c9941ed810c9723df6": {
      "model_module": "@jupyter-widgets/base",
      "model_module_version": "2.0.0",
      "model_name": "LayoutModel",
      "state": {}
     },
     "78b7c0d5e3654d8284ddd06c72d06d28": {
      "model_module": "@jupyter-widgets/base",
      "model_module_version": "2.0.0",
      "model_name": "LayoutModel",
      "state": {}
     },
     "7c5e12c3d2ad4ab48ae4c8745e6ef4b3": {
      "model_module": "@jupyter-widgets/controls",
      "model_module_version": "2.0.0",
      "model_name": "HTMLModel",
      "state": {
       "layout": "IPY_MODEL_34f940401bf7416c873d72d159b80027",
       "style": "IPY_MODEL_f847aa2e63d042d381aba3a066d0ff23"
      }
     },
     "7c90bc8fc02543f9907b6ebff737fd68": {
      "model_module": "@jupyter-widgets/controls",
      "model_module_version": "2.0.0",
      "model_name": "FloatProgressModel",
      "state": {
       "bar_style": "success",
       "layout": "IPY_MODEL_8710c5d4d0314162aa7bf4005c48ff8e",
       "max": 1,
       "style": "IPY_MODEL_36e4a97209414568bc0df03d31c86813",
       "value": 1
      }
     },
     "7d618ee4fd524eed84fc806919dce741": {
      "model_module": "@jupyter-widgets/controls",
      "model_module_version": "2.0.0",
      "model_name": "HTMLStyleModel",
      "state": {
       "description_width": "",
       "font_size": null,
       "text_color": null
      }
     },
     "7eec545ded564cd8bfe059842611631d": {
      "model_module": "@jupyter-widgets/controls",
      "model_module_version": "2.0.0",
      "model_name": "HBoxModel",
      "state": {
       "children": [
        "IPY_MODEL_f8a4e159cf5a421f8b06823d6d588922",
        "IPY_MODEL_bf1f1c160da2401080e1569ff7d8916b",
        "IPY_MODEL_134a079a2290434ebeb91dcdf66e062c"
       ],
       "layout": "IPY_MODEL_05b8a9e24dae4059aab733ed96b70c1c"
      }
     },
     "7fb0035ef53a4b53b3f8ded043de4666": {
      "model_module": "@jupyter-widgets/controls",
      "model_module_version": "2.0.0",
      "model_name": "ProgressStyleModel",
      "state": {
       "bar_color": "#4444BB",
       "description_width": ""
      }
     },
     "82680bea7cb54b24935bf9b5ed72230c": {
      "model_module": "@jupyter-widgets/controls",
      "model_module_version": "2.0.0",
      "model_name": "HTMLStyleModel",
      "state": {
       "description_width": "",
       "font_size": null,
       "text_color": null
      }
     },
     "83be043b688841bda87c506f42b52c06": {
      "model_module": "@jupyter-widgets/base",
      "model_module_version": "2.0.0",
      "model_name": "LayoutModel",
      "state": {}
     },
     "8710c5d4d0314162aa7bf4005c48ff8e": {
      "model_module": "@jupyter-widgets/base",
      "model_module_version": "2.0.0",
      "model_name": "LayoutModel",
      "state": {
       "width": "20px"
      }
     },
     "88e266123f7e479a929195e34bafe018": {
      "model_module": "@jupyter-widgets/controls",
      "model_module_version": "2.0.0",
      "model_name": "FloatProgressModel",
      "state": {
       "bar_style": "success",
       "layout": "IPY_MODEL_6a349073c5534755b9c1f1e1be8dadcc",
       "max": 1,
       "style": "IPY_MODEL_5a8dbd74e98b4d9ea2ed33d452e8ee7c",
       "value": 1
      }
     },
     "893c0b6979804fcf806744f534f1a9c7": {
      "model_module": "@jupyter-widgets/controls",
      "model_module_version": "2.0.0",
      "model_name": "ProgressStyleModel",
      "state": {
       "bar_color": "#4444BB",
       "description_width": ""
      }
     },
     "8b533d2420d146089963f65538939293": {
      "model_module": "@jupyter-widgets/controls",
      "model_module_version": "2.0.0",
      "model_name": "HTMLStyleModel",
      "state": {
       "description_width": "",
       "font_size": null,
       "text_color": null
      }
     },
     "8bf3587ae9fd4375bdfc5cbbbd7b7738": {
      "model_module": "@jupyter-widgets/controls",
      "model_module_version": "2.0.0",
      "model_name": "ProgressStyleModel",
      "state": {
       "bar_color": "#4444BB",
       "description_width": ""
      }
     },
     "8c728a8d549248f0b6a1ae688bb5d7ff": {
      "model_module": "@jupyter-widgets/base",
      "model_module_version": "2.0.0",
      "model_name": "LayoutModel",
      "state": {}
     },
     "8d31cbd7d38f4f36945c256f522be4e3": {
      "model_module": "@jupyter-widgets/controls",
      "model_module_version": "2.0.0",
      "model_name": "HTMLModel",
      "state": {
       "layout": "IPY_MODEL_1bfc189fc80647a98646496f8a665a33",
       "style": "IPY_MODEL_fbac68ba29b340b8983d95d0f79e0d99",
       "value": " 48/? [01:49&lt;00:00,  3.57s/it]"
      }
     },
     "95cb1c8e05e4405d8f65846f09858bc6": {
      "model_module": "@jupyter-widgets/controls",
      "model_module_version": "2.0.0",
      "model_name": "ProgressStyleModel",
      "state": {
       "bar_color": "#4444BB",
       "description_width": ""
      }
     },
     "97fa5d63f7d447c185edd054121b6753": {
      "model_module": "@jupyter-widgets/controls",
      "model_module_version": "2.0.0",
      "model_name": "HTMLStyleModel",
      "state": {
       "description_width": "",
       "font_size": null,
       "text_color": null
      }
     },
     "9ae95bb6dddc4b9aad3b0bb989f4655d": {
      "model_module": "@jupyter-widgets/base",
      "model_module_version": "2.0.0",
      "model_name": "LayoutModel",
      "state": {}
     },
     "9b4f7bfaf9a2487cb972717270987cbf": {
      "model_module": "@jupyter-widgets/base",
      "model_module_version": "2.0.0",
      "model_name": "LayoutModel",
      "state": {
       "width": "20px"
      }
     },
     "9b5cbd1d3c134fe9a4dee2366271a0ae": {
      "model_module": "@jupyter-widgets/controls",
      "model_module_version": "2.0.0",
      "model_name": "ProgressStyleModel",
      "state": {
       "bar_color": "#4444BB",
       "description_width": ""
      }
     },
     "9cf8d348cb7e439393752c53391139dd": {
      "model_module": "@jupyter-widgets/controls",
      "model_module_version": "2.0.0",
      "model_name": "HTMLStyleModel",
      "state": {
       "description_width": "",
       "font_size": null,
       "text_color": null
      }
     },
     "9d12da86fac946288c193332775b25a5": {
      "model_module": "@jupyter-widgets/controls",
      "model_module_version": "2.0.0",
      "model_name": "HBoxModel",
      "state": {
       "children": [
        "IPY_MODEL_53ac0a8259594e23a0fb158585bdfe80",
        "IPY_MODEL_114bab68d48b41e49993b623d5d4043b",
        "IPY_MODEL_f760f7d763f645789f39ba5fc21ea2c4"
       ],
       "layout": "IPY_MODEL_f7302a1b1214435eacd60c8f74b7b9fc"
      }
     },
     "a27d82d73c584ca18712a51ed4750377": {
      "model_module": "@jupyter-widgets/controls",
      "model_module_version": "2.0.0",
      "model_name": "ProgressStyleModel",
      "state": {
       "bar_color": "#4444BB",
       "description_width": ""
      }
     },
     "a2ef2f720c51474593147d1c924b8677": {
      "model_module": "@jupyter-widgets/controls",
      "model_module_version": "2.0.0",
      "model_name": "HTMLStyleModel",
      "state": {
       "description_width": "",
       "font_size": null,
       "text_color": null
      }
     },
     "a313f498ca8a474c9f1e5dc4e7064719": {
      "model_module": "@jupyter-widgets/controls",
      "model_module_version": "2.0.0",
      "model_name": "FloatProgressModel",
      "state": {
       "bar_style": "success",
       "layout": "IPY_MODEL_a75e1be20cb348539822e3bc8e408b74",
       "max": 1,
       "style": "IPY_MODEL_3aa589cd0d0b44dda7dd6d31040244cd",
       "value": 1
      }
     },
     "a32fb5ebe6c74bc9b593c1d30a3d9ca9": {
      "model_module": "@jupyter-widgets/controls",
      "model_module_version": "2.0.0",
      "model_name": "HTMLModel",
      "state": {
       "layout": "IPY_MODEL_b0e38dbae5b0452fac56feb8a0300afe",
       "style": "IPY_MODEL_f135479bd33a45448732332e7a72a741"
      }
     },
     "a4573739d288456e920a86351d5fc6c6": {
      "model_module": "@jupyter-widgets/base",
      "model_module_version": "2.0.0",
      "model_name": "LayoutModel",
      "state": {}
     },
     "a48f5693ffed4737924c03b343f31ade": {
      "model_module": "@jupyter-widgets/controls",
      "model_module_version": "2.0.0",
      "model_name": "HTMLStyleModel",
      "state": {
       "description_width": "",
       "font_size": null,
       "text_color": null
      }
     },
     "a54d699eef734ff5937edbc88ff0ae2e": {
      "model_module": "@jupyter-widgets/controls",
      "model_module_version": "2.0.0",
      "model_name": "HTMLModel",
      "state": {
       "layout": "IPY_MODEL_b33051a4d19141788c4bf23b8946e449",
       "style": "IPY_MODEL_e263d7813e7d4e5eb18627992003da80",
       "value": " 48/? [01:57&lt;00:00,  3.94s/it]"
      }
     },
     "a58d08739cff450f9428d00cb9e65824": {
      "model_module": "@jupyter-widgets/controls",
      "model_module_version": "2.0.0",
      "model_name": "HBoxModel",
      "state": {
       "children": [
        "IPY_MODEL_6465bde1f60541f1a0b592811f6e7d97",
        "IPY_MODEL_0f094e4e2166472f8a14a72f0c390835",
        "IPY_MODEL_28b7c7f2e63149429e5fe7778ad0d657"
       ],
       "layout": "IPY_MODEL_c1971253426f416c97c6969361a49465"
      }
     },
     "a5d36833984e4afb8af6654bcc58b55a": {
      "model_module": "@jupyter-widgets/controls",
      "model_module_version": "2.0.0",
      "model_name": "HTMLModel",
      "state": {
       "layout": "IPY_MODEL_4abd2d89a3184621bc4540d1bf1b1711",
       "style": "IPY_MODEL_14192890e0ec427fa2010c482886bfc7",
       "value": "100%"
      }
     },
     "a5d37589d5e34f02b55bcfee50c7ccee": {
      "model_module": "@jupyter-widgets/controls",
      "model_module_version": "2.0.0",
      "model_name": "HTMLStyleModel",
      "state": {
       "description_width": "",
       "font_size": null,
       "text_color": null
      }
     },
     "a721b79831db4c9faf146fda4ac2e397": {
      "model_module": "@jupyter-widgets/base",
      "model_module_version": "2.0.0",
      "model_name": "LayoutModel",
      "state": {
       "width": "20px"
      }
     },
     "a75e1be20cb348539822e3bc8e408b74": {
      "model_module": "@jupyter-widgets/base",
      "model_module_version": "2.0.0",
      "model_name": "LayoutModel",
      "state": {
       "width": "20px"
      }
     },
     "a836ac8874fd4fd1b625e836f3dc236e": {
      "model_module": "@jupyter-widgets/controls",
      "model_module_version": "2.0.0",
      "model_name": "HTMLModel",
      "state": {
       "layout": "IPY_MODEL_2413cf6dcdcd429caa7c873194aa4729",
       "style": "IPY_MODEL_2cb8d798cb794a6d9806728868049002",
       "value": " 48/? [01:49&lt;00:00,  3.72s/it]"
      }
     },
     "a83823c9042340f1bdf133dedc809153": {
      "model_module": "@jupyter-widgets/base",
      "model_module_version": "2.0.0",
      "model_name": "LayoutModel",
      "state": {}
     },
     "a8a3d6c527bb4010ad4bb96679ea68eb": {
      "model_module": "@jupyter-widgets/controls",
      "model_module_version": "2.0.0",
      "model_name": "HTMLStyleModel",
      "state": {
       "description_width": "",
       "font_size": null,
       "text_color": null
      }
     },
     "a99a45bde64a42a2ae105aa12c9f309e": {
      "model_module": "@jupyter-widgets/base",
      "model_module_version": "2.0.0",
      "model_name": "LayoutModel",
      "state": {}
     },
     "aa2ecbecc3c24601ad7c77ebc69d8783": {
      "model_module": "@jupyter-widgets/base",
      "model_module_version": "2.0.0",
      "model_name": "LayoutModel",
      "state": {}
     },
     "aaa1871ee3f24b8dbb417da03127f446": {
      "model_module": "@jupyter-widgets/controls",
      "model_module_version": "2.0.0",
      "model_name": "ProgressStyleModel",
      "state": {
       "bar_color": "#4444BB",
       "description_width": ""
      }
     },
     "ab1b5cad285b424db6e741a853265e28": {
      "model_module": "@jupyter-widgets/controls",
      "model_module_version": "2.0.0",
      "model_name": "HTMLStyleModel",
      "state": {
       "description_width": "",
       "font_size": null,
       "text_color": null
      }
     },
     "ab3806488f1648aa8739344e8a617e21": {
      "model_module": "@jupyter-widgets/controls",
      "model_module_version": "2.0.0",
      "model_name": "HTMLModel",
      "state": {
       "layout": "IPY_MODEL_dac6b2eeb2124138b2b7d05cc3e98ccd",
       "style": "IPY_MODEL_d4e535c3ce674577b59847050c02835a"
      }
     },
     "ac8ac21de1e34ca693694aeeda551cd0": {
      "model_module": "@jupyter-widgets/base",
      "model_module_version": "2.0.0",
      "model_name": "LayoutModel",
      "state": {}
     },
     "addabe38228e4c76a80e0ec364297114": {
      "model_module": "@jupyter-widgets/controls",
      "model_module_version": "2.0.0",
      "model_name": "HTMLStyleModel",
      "state": {
       "description_width": "",
       "font_size": null,
       "text_color": null
      }
     },
     "b0e38dbae5b0452fac56feb8a0300afe": {
      "model_module": "@jupyter-widgets/base",
      "model_module_version": "2.0.0",
      "model_name": "LayoutModel",
      "state": {}
     },
     "b281dc1db7414c508074a7ed7b3d171e": {
      "model_module": "@jupyter-widgets/base",
      "model_module_version": "2.0.0",
      "model_name": "LayoutModel",
      "state": {
       "width": "20px"
      }
     },
     "b33051a4d19141788c4bf23b8946e449": {
      "model_module": "@jupyter-widgets/base",
      "model_module_version": "2.0.0",
      "model_name": "LayoutModel",
      "state": {}
     },
     "b3fb0f1a51f34e0d829f7f41c270fa6b": {
      "model_module": "@jupyter-widgets/controls",
      "model_module_version": "2.0.0",
      "model_name": "HBoxModel",
      "state": {
       "children": [
        "IPY_MODEL_289e4b637c9640309776bdb20ea24ca0",
        "IPY_MODEL_d85f56a56fc542aba4c706627c8d4744",
        "IPY_MODEL_07a15d4b44d94e19bd6e335800bfe2e5"
       ],
       "layout": "IPY_MODEL_164d291b0dd64d228227603320045db7"
      }
     },
     "b4a51f2e535a4387805187bb724ab3bd": {
      "model_module": "@jupyter-widgets/controls",
      "model_module_version": "2.0.0",
      "model_name": "ProgressStyleModel",
      "state": {
       "bar_color": "#4444BB",
       "description_width": ""
      }
     },
     "b4f69a2652e74030aa53412c75e880f5": {
      "model_module": "@jupyter-widgets/controls",
      "model_module_version": "2.0.0",
      "model_name": "HBoxModel",
      "state": {
       "children": [
        "IPY_MODEL_5ba05cb6b1094852a3254146b6c35615",
        "IPY_MODEL_bb42b157f6454af9a8e8a4ac5e064161",
        "IPY_MODEL_37f146117c3944189ec95a85aa176995"
       ],
       "layout": "IPY_MODEL_a4573739d288456e920a86351d5fc6c6"
      }
     },
     "b50f1902660c46b59ea73c4e435cccd0": {
      "model_module": "@jupyter-widgets/controls",
      "model_module_version": "2.0.0",
      "model_name": "ProgressStyleModel",
      "state": {
       "bar_color": "#4444BB",
       "description_width": ""
      }
     },
     "b5eb53acc33a43418e2bd5b81e67a2e4": {
      "model_module": "@jupyter-widgets/controls",
      "model_module_version": "2.0.0",
      "model_name": "HTMLModel",
      "state": {
       "layout": "IPY_MODEL_dd31280dd1c247c8af7f662df57e0f2e",
       "style": "IPY_MODEL_081a29e20ba94044bc920d26d94cd953",
       "value": " 48/? [01:50&lt;00:00,  3.72s/it]"
      }
     },
     "b6549191601f4ff0b845fd311838c7be": {
      "model_module": "@jupyter-widgets/controls",
      "model_module_version": "2.0.0",
      "model_name": "HTMLStyleModel",
      "state": {
       "description_width": "",
       "font_size": null,
       "text_color": null
      }
     },
     "b8a68fc7ca704a76a41c1efa1cbdc945": {
      "model_module": "@jupyter-widgets/controls",
      "model_module_version": "2.0.0",
      "model_name": "HTMLModel",
      "state": {
       "layout": "IPY_MODEL_458c3856b8b948c39c894cac9c90db30",
       "style": "IPY_MODEL_54bedece88784cdeab455425d78739c3",
       "value": " 48/? [01:49&lt;00:00,  3.71s/it]"
      }
     },
     "b9cd536b101c4486bc54d390b1d3ecbf": {
      "model_module": "@jupyter-widgets/controls",
      "model_module_version": "2.0.0",
      "model_name": "HTMLModel",
      "state": {
       "layout": "IPY_MODEL_9ae95bb6dddc4b9aad3b0bb989f4655d",
       "style": "IPY_MODEL_f41a2ae850844d01b0d25f480ff157b6",
       "value": " 48/? [01:47&lt;00:00,  3.56s/it]"
      }
     },
     "bb42b157f6454af9a8e8a4ac5e064161": {
      "model_module": "@jupyter-widgets/controls",
      "model_module_version": "2.0.0",
      "model_name": "FloatProgressModel",
      "state": {
       "bar_style": "success",
       "layout": "IPY_MODEL_6817be7739114adaac82381e7bbf7443",
       "max": 1,
       "style": "IPY_MODEL_7fb0035ef53a4b53b3f8ded043de4666",
       "value": 1
      }
     },
     "bcf90cfd7a734fbc965bd4d2e59e3ace": {
      "model_module": "@jupyter-widgets/controls",
      "model_module_version": "2.0.0",
      "model_name": "ProgressStyleModel",
      "state": {
       "description_width": ""
      }
     },
     "bd5fe3c635804fedb973fe2e6f539857": {
      "model_module": "@jupyter-widgets/controls",
      "model_module_version": "2.0.0",
      "model_name": "HBoxModel",
      "state": {
       "children": [
        "IPY_MODEL_43657a00086d47a1a5e03939bf8b8fe8",
        "IPY_MODEL_a313f498ca8a474c9f1e5dc4e7064719",
        "IPY_MODEL_b9cd536b101c4486bc54d390b1d3ecbf"
       ],
       "layout": "IPY_MODEL_4eaead5a80cf42cfb9a53263b28a1b83"
      }
     },
     "bf1f1c160da2401080e1569ff7d8916b": {
      "model_module": "@jupyter-widgets/controls",
      "model_module_version": "2.0.0",
      "model_name": "FloatProgressModel",
      "state": {
       "bar_style": "success",
       "layout": "IPY_MODEL_c1be6008384e46128f68dbd2fb6d9d7f",
       "max": 1,
       "style": "IPY_MODEL_6cb0ce62e6b147a0a50b4590dbbeae54",
       "value": 1
      }
     },
     "bf66779810ea4e0f9a27b1325d92d3ca": {
      "model_module": "@jupyter-widgets/base",
      "model_module_version": "2.0.0",
      "model_name": "LayoutModel",
      "state": {}
     },
     "c05e7c4845da412a848f32ac636de028": {
      "model_module": "@jupyter-widgets/base",
      "model_module_version": "2.0.0",
      "model_name": "LayoutModel",
      "state": {}
     },
     "c10c2fb5d3c44f5097c08d168e35de63": {
      "model_module": "@jupyter-widgets/controls",
      "model_module_version": "2.0.0",
      "model_name": "HTMLModel",
      "state": {
       "layout": "IPY_MODEL_fc6081844ad148a1bec347f3ed07154a",
       "style": "IPY_MODEL_15fb8740664440fab0603952a7f1f416"
      }
     },
     "c12cb5287eda4ddd87ed0b843f5193d2": {
      "model_module": "@jupyter-widgets/controls",
      "model_module_version": "2.0.0",
      "model_name": "ProgressStyleModel",
      "state": {
       "bar_color": "#4444BB",
       "description_width": ""
      }
     },
     "c1971253426f416c97c6969361a49465": {
      "model_module": "@jupyter-widgets/base",
      "model_module_version": "2.0.0",
      "model_name": "LayoutModel",
      "state": {}
     },
     "c1be6008384e46128f68dbd2fb6d9d7f": {
      "model_module": "@jupyter-widgets/base",
      "model_module_version": "2.0.0",
      "model_name": "LayoutModel",
      "state": {
       "width": "20px"
      }
     },
     "c3e0b9df8c0246768f2a7acaf7804279": {
      "model_module": "@jupyter-widgets/controls",
      "model_module_version": "2.0.0",
      "model_name": "HTMLStyleModel",
      "state": {
       "description_width": "",
       "font_size": null,
       "text_color": null
      }
     },
     "c3ea87d195d84088bc9d223f3553f491": {
      "model_module": "@jupyter-widgets/base",
      "model_module_version": "2.0.0",
      "model_name": "LayoutModel",
      "state": {}
     },
     "c5a972b4c29249dd84e7027aaf6aabf3": {
      "model_module": "@jupyter-widgets/controls",
      "model_module_version": "2.0.0",
      "model_name": "HTMLModel",
      "state": {
       "layout": "IPY_MODEL_c6284c414ac745cfbd9264ebba9fb262",
       "style": "IPY_MODEL_633f4ea564c14426bcb5c0038e5ff323",
       "value": " 48/? [01:48&lt;00:00,  3.47s/it]"
      }
     },
     "c6284c414ac745cfbd9264ebba9fb262": {
      "model_module": "@jupyter-widgets/base",
      "model_module_version": "2.0.0",
      "model_name": "LayoutModel",
      "state": {}
     },
     "c81705e015f940fbaf1527a1e8ef1b37": {
      "model_module": "@jupyter-widgets/base",
      "model_module_version": "2.0.0",
      "model_name": "LayoutModel",
      "state": {}
     },
     "c9467f592ef34c8c9be92575ef367041": {
      "model_module": "@jupyter-widgets/base",
      "model_module_version": "2.0.0",
      "model_name": "LayoutModel",
      "state": {}
     },
     "ce4019b35cac48b8bf48ad3c4c650332": {
      "model_module": "@jupyter-widgets/controls",
      "model_module_version": "2.0.0",
      "model_name": "FloatProgressModel",
      "state": {
       "bar_style": "success",
       "layout": "IPY_MODEL_a721b79831db4c9faf146fda4ac2e397",
       "max": 1,
       "style": "IPY_MODEL_c12cb5287eda4ddd87ed0b843f5193d2",
       "value": 1
      }
     },
     "cff20b070d964ecf94c51c1d39877247": {
      "model_module": "@jupyter-widgets/base",
      "model_module_version": "2.0.0",
      "model_name": "LayoutModel",
      "state": {
       "width": "20px"
      }
     },
     "d08d87440049419dad5e1f322e9c9a20": {
      "model_module": "@jupyter-widgets/controls",
      "model_module_version": "2.0.0",
      "model_name": "HTMLStyleModel",
      "state": {
       "description_width": "",
       "font_size": null,
       "text_color": null
      }
     },
     "d162f974987a431891fae3c16df3ba2c": {
      "model_module": "@jupyter-widgets/controls",
      "model_module_version": "2.0.0",
      "model_name": "FloatProgressModel",
      "state": {
       "bar_style": "success",
       "layout": "IPY_MODEL_cff20b070d964ecf94c51c1d39877247",
       "max": 1,
       "style": "IPY_MODEL_b4a51f2e535a4387805187bb724ab3bd",
       "value": 1
      }
     },
     "d2acd3b0d1a147c5b2a7b8d833c99002": {
      "model_module": "@jupyter-widgets/controls",
      "model_module_version": "2.0.0",
      "model_name": "FloatProgressModel",
      "state": {
       "bar_style": "success",
       "layout": "IPY_MODEL_137e8e9d1f904fbd965c44198fedada2",
       "max": 1,
       "style": "IPY_MODEL_5245f7bc82db431181486151197e8d0c",
       "value": 1
      }
     },
     "d3f8adbf31394acd8a1b4ced580f8182": {
      "model_module": "@jupyter-widgets/base",
      "model_module_version": "2.0.0",
      "model_name": "LayoutModel",
      "state": {}
     },
     "d41dd3fc5c47483e9ee4aa2024df3cb7": {
      "model_module": "@jupyter-widgets/controls",
      "model_module_version": "2.0.0",
      "model_name": "HTMLModel",
      "state": {
       "layout": "IPY_MODEL_29aef617e6e940d088d17abb16eacd67",
       "style": "IPY_MODEL_6d73478ad8704a12ab750e2f877712e0"
      }
     },
     "d42a9aca78544b1ba2dfe30a12b9c6a8": {
      "model_module": "@jupyter-widgets/controls",
      "model_module_version": "2.0.0",
      "model_name": "FloatProgressModel",
      "state": {
       "bar_style": "success",
       "layout": "IPY_MODEL_c81705e015f940fbaf1527a1e8ef1b37",
       "max": 20,
       "style": "IPY_MODEL_bcf90cfd7a734fbc965bd4d2e59e3ace",
       "value": 20
      }
     },
     "d4e535c3ce674577b59847050c02835a": {
      "model_module": "@jupyter-widgets/controls",
      "model_module_version": "2.0.0",
      "model_name": "HTMLStyleModel",
      "state": {
       "description_width": "",
       "font_size": null,
       "text_color": null
      }
     },
     "d6589e852723440da411142e4b71de61": {
      "model_module": "@jupyter-widgets/base",
      "model_module_version": "2.0.0",
      "model_name": "LayoutModel",
      "state": {
       "width": "20px"
      }
     },
     "d66ba5d1df764617b0e8767595f46dfe": {
      "model_module": "@jupyter-widgets/base",
      "model_module_version": "2.0.0",
      "model_name": "LayoutModel",
      "state": {}
     },
     "d781dbe688a34f3782c8bbb24fae1275": {
      "model_module": "@jupyter-widgets/base",
      "model_module_version": "2.0.0",
      "model_name": "LayoutModel",
      "state": {}
     },
     "d8301ccffabe496fbb235e2256aa996c": {
      "model_module": "@jupyter-widgets/base",
      "model_module_version": "2.0.0",
      "model_name": "LayoutModel",
      "state": {}
     },
     "d85f56a56fc542aba4c706627c8d4744": {
      "model_module": "@jupyter-widgets/controls",
      "model_module_version": "2.0.0",
      "model_name": "FloatProgressModel",
      "state": {
       "bar_style": "success",
       "layout": "IPY_MODEL_b281dc1db7414c508074a7ed7b3d171e",
       "max": 1,
       "style": "IPY_MODEL_b50f1902660c46b59ea73c4e435cccd0",
       "value": 1
      }
     },
     "d8a574d862d74504b3cb99f42da9eaf2": {
      "model_module": "@jupyter-widgets/controls",
      "model_module_version": "2.0.0",
      "model_name": "HBoxModel",
      "state": {
       "children": [
        "IPY_MODEL_ed63ceef614241a884af4deac87afb2a",
        "IPY_MODEL_ce4019b35cac48b8bf48ad3c4c650332",
        "IPY_MODEL_a54d699eef734ff5937edbc88ff0ae2e"
       ],
       "layout": "IPY_MODEL_eac000ad93e74bb79e9700a923e38dbb"
      }
     },
     "dac6b2eeb2124138b2b7d05cc3e98ccd": {
      "model_module": "@jupyter-widgets/base",
      "model_module_version": "2.0.0",
      "model_name": "LayoutModel",
      "state": {}
     },
     "dc32eac50de6450e845698ea65d5ba30": {
      "model_module": "@jupyter-widgets/base",
      "model_module_version": "2.0.0",
      "model_name": "LayoutModel",
      "state": {}
     },
     "dd31280dd1c247c8af7f662df57e0f2e": {
      "model_module": "@jupyter-widgets/base",
      "model_module_version": "2.0.0",
      "model_name": "LayoutModel",
      "state": {}
     },
     "e263d7813e7d4e5eb18627992003da80": {
      "model_module": "@jupyter-widgets/controls",
      "model_module_version": "2.0.0",
      "model_name": "HTMLStyleModel",
      "state": {
       "description_width": "",
       "font_size": null,
       "text_color": null
      }
     },
     "e277b6052d994c3b9e1878487ea3e7ab": {
      "model_module": "@jupyter-widgets/base",
      "model_module_version": "2.0.0",
      "model_name": "LayoutModel",
      "state": {}
     },
     "e3c08ffbeac047b9bf35d8b4ed609ae5": {
      "model_module": "@jupyter-widgets/base",
      "model_module_version": "2.0.0",
      "model_name": "LayoutModel",
      "state": {}
     },
     "e3ebb26ef34a4bf1a9df893819d235dc": {
      "model_module": "@jupyter-widgets/controls",
      "model_module_version": "2.0.0",
      "model_name": "HBoxModel",
      "state": {
       "children": [
        "IPY_MODEL_62cc242bb6f64c9dbd31ba69e8bb571a",
        "IPY_MODEL_7c90bc8fc02543f9907b6ebff737fd68",
        "IPY_MODEL_62ae1961bd3e45b7ba809af3e541d860"
       ],
       "layout": "IPY_MODEL_48e884591d1843f7a5016fd5d23cb7b1"
      }
     },
     "e4dea682ab3c4478ad5e52edc471f2ef": {
      "model_module": "@jupyter-widgets/base",
      "model_module_version": "2.0.0",
      "model_name": "LayoutModel",
      "state": {}
     },
     "e5b3f17300314bc781a99c62cffc1747": {
      "model_module": "@jupyter-widgets/base",
      "model_module_version": "2.0.0",
      "model_name": "LayoutModel",
      "state": {
       "width": "20px"
      }
     },
     "e6f86cdb66ba4869936d73b4578dcce0": {
      "model_module": "@jupyter-widgets/controls",
      "model_module_version": "2.0.0",
      "model_name": "ProgressStyleModel",
      "state": {
       "bar_color": "#4444BB",
       "description_width": ""
      }
     },
     "eac000ad93e74bb79e9700a923e38dbb": {
      "model_module": "@jupyter-widgets/base",
      "model_module_version": "2.0.0",
      "model_name": "LayoutModel",
      "state": {}
     },
     "ead4dacc2f4b4ae1b765ce5569d9cd8a": {
      "model_module": "@jupyter-widgets/controls",
      "model_module_version": "2.0.0",
      "model_name": "HBoxModel",
      "state": {
       "children": [
        "IPY_MODEL_ab3806488f1648aa8739344e8a617e21",
        "IPY_MODEL_f85e90035132474d8f3a1f2ef25c7a7e",
        "IPY_MODEL_6dbf7928a7534cf2b386bace7821c1f5"
       ],
       "layout": "IPY_MODEL_e4dea682ab3c4478ad5e52edc471f2ef"
      }
     },
     "eb232172960e42b28b20e7b490accbce": {
      "model_module": "@jupyter-widgets/base",
      "model_module_version": "2.0.0",
      "model_name": "LayoutModel",
      "state": {}
     },
     "ed63ceef614241a884af4deac87afb2a": {
      "model_module": "@jupyter-widgets/controls",
      "model_module_version": "2.0.0",
      "model_name": "HTMLModel",
      "state": {
       "layout": "IPY_MODEL_ee0074e24ced404e9111ce2498ec83d5",
       "style": "IPY_MODEL_fc77d244eb1043dd9f29e7dac2986bb3"
      }
     },
     "ee0074e24ced404e9111ce2498ec83d5": {
      "model_module": "@jupyter-widgets/base",
      "model_module_version": "2.0.0",
      "model_name": "LayoutModel",
      "state": {}
     },
     "ee094d59dcd940ca842ecbefd59436bb": {
      "model_module": "@jupyter-widgets/controls",
      "model_module_version": "2.0.0",
      "model_name": "HTMLStyleModel",
      "state": {
       "description_width": "",
       "font_size": null,
       "text_color": null
      }
     },
     "ee5097195c864088ae6d74398f1484d3": {
      "model_module": "@jupyter-widgets/base",
      "model_module_version": "2.0.0",
      "model_name": "LayoutModel",
      "state": {
       "width": "20px"
      }
     },
     "f135479bd33a45448732332e7a72a741": {
      "model_module": "@jupyter-widgets/controls",
      "model_module_version": "2.0.0",
      "model_name": "HTMLStyleModel",
      "state": {
       "description_width": "",
       "font_size": null,
       "text_color": null
      }
     },
     "f157ad4aa6b24bc789deb0e8a22b6457": {
      "model_module": "@jupyter-widgets/controls",
      "model_module_version": "2.0.0",
      "model_name": "HTMLModel",
      "state": {
       "layout": "IPY_MODEL_70fbd65fd14e4e738abb3e79a8c97213",
       "style": "IPY_MODEL_a2ef2f720c51474593147d1c924b8677",
       "value": " 48/? [01:45&lt;00:00,  3.50s/it]"
      }
     },
     "f36693099e7b4939a9e9f68599dbcfb2": {
      "model_module": "@jupyter-widgets/controls",
      "model_module_version": "2.0.0",
      "model_name": "HBoxModel",
      "state": {
       "children": [
        "IPY_MODEL_d41dd3fc5c47483e9ee4aa2024df3cb7",
        "IPY_MODEL_16fb67428e364173a20e4907a3755e90",
        "IPY_MODEL_8d31cbd7d38f4f36945c256f522be4e3"
       ],
       "layout": "IPY_MODEL_e277b6052d994c3b9e1878487ea3e7ab"
      }
     },
     "f41a2ae850844d01b0d25f480ff157b6": {
      "model_module": "@jupyter-widgets/controls",
      "model_module_version": "2.0.0",
      "model_name": "HTMLStyleModel",
      "state": {
       "description_width": "",
       "font_size": null,
       "text_color": null
      }
     },
     "f7302a1b1214435eacd60c8f74b7b9fc": {
      "model_module": "@jupyter-widgets/base",
      "model_module_version": "2.0.0",
      "model_name": "LayoutModel",
      "state": {}
     },
     "f760f7d763f645789f39ba5fc21ea2c4": {
      "model_module": "@jupyter-widgets/controls",
      "model_module_version": "2.0.0",
      "model_name": "HTMLModel",
      "state": {
       "layout": "IPY_MODEL_d8301ccffabe496fbb235e2256aa996c",
       "style": "IPY_MODEL_0ed9a636850740bbaf7efe718b5dfb6c",
       "value": " 48/? [01:51&lt;00:00,  3.78s/it]"
      }
     },
     "f761d7db597f4030963728028b95de8c": {
      "model_module": "@jupyter-widgets/base",
      "model_module_version": "2.0.0",
      "model_name": "LayoutModel",
      "state": {
       "width": "20px"
      }
     },
     "f847aa2e63d042d381aba3a066d0ff23": {
      "model_module": "@jupyter-widgets/controls",
      "model_module_version": "2.0.0",
      "model_name": "HTMLStyleModel",
      "state": {
       "description_width": "",
       "font_size": null,
       "text_color": null
      }
     },
     "f85e90035132474d8f3a1f2ef25c7a7e": {
      "model_module": "@jupyter-widgets/controls",
      "model_module_version": "2.0.0",
      "model_name": "FloatProgressModel",
      "state": {
       "bar_style": "success",
       "layout": "IPY_MODEL_5d6fc56ac20e49ea926159b87e603c0f",
       "max": 1,
       "style": "IPY_MODEL_e6f86cdb66ba4869936d73b4578dcce0",
       "value": 1
      }
     },
     "f8a4e159cf5a421f8b06823d6d588922": {
      "model_module": "@jupyter-widgets/controls",
      "model_module_version": "2.0.0",
      "model_name": "HTMLModel",
      "state": {
       "layout": "IPY_MODEL_aa2ecbecc3c24601ad7c77ebc69d8783",
       "style": "IPY_MODEL_2f051dc5bf3d436b908594a20653e442"
      }
     },
     "f9f95663a3834077ba3c368f4327fd4d": {
      "model_module": "@jupyter-widgets/base",
      "model_module_version": "2.0.0",
      "model_name": "LayoutModel",
      "state": {}
     },
     "fa084095f4cf40c290c0fcb3753e30df": {
      "model_module": "@jupyter-widgets/controls",
      "model_module_version": "2.0.0",
      "model_name": "HBoxModel",
      "state": {
       "children": [
        "IPY_MODEL_7c5e12c3d2ad4ab48ae4c8745e6ef4b3",
        "IPY_MODEL_d2acd3b0d1a147c5b2a7b8d833c99002",
        "IPY_MODEL_55bdc68cda214cc18d024dfe2b346856"
       ],
       "layout": "IPY_MODEL_05039c05b212474e9c23cf98a5431787"
      }
     },
     "faee1671ad6e4848a6e56f244dca5c77": {
      "model_module": "@jupyter-widgets/controls",
      "model_module_version": "2.0.0",
      "model_name": "HTMLStyleModel",
      "state": {
       "description_width": "",
       "font_size": null,
       "text_color": null
      }
     },
     "fbac68ba29b340b8983d95d0f79e0d99": {
      "model_module": "@jupyter-widgets/controls",
      "model_module_version": "2.0.0",
      "model_name": "HTMLStyleModel",
      "state": {
       "description_width": "",
       "font_size": null,
       "text_color": null
      }
     },
     "fc6081844ad148a1bec347f3ed07154a": {
      "model_module": "@jupyter-widgets/base",
      "model_module_version": "2.0.0",
      "model_name": "LayoutModel",
      "state": {}
     },
     "fc77d244eb1043dd9f29e7dac2986bb3": {
      "model_module": "@jupyter-widgets/controls",
      "model_module_version": "2.0.0",
      "model_name": "HTMLStyleModel",
      "state": {
       "description_width": "",
       "font_size": null,
       "text_color": null
      }
     },
     "fdd754da6e16438c8cc739b1a8fa8f45": {
      "model_module": "@jupyter-widgets/base",
      "model_module_version": "2.0.0",
      "model_name": "LayoutModel",
      "state": {}
     }
    },
    "version_major": 2,
    "version_minor": 0
   }
  }
 },
 "nbformat": 4,
 "nbformat_minor": 5
}
