{
 "cells": [
  {
   "cell_type": "code",
   "execution_count": 1,
   "id": "f1f8d3e8-d5a7-4c51-8dd6-7257fde95d6d",
   "metadata": {},
   "outputs": [],
   "source": [
    "import torch\n",
    "from torch.utils.data import Dataset, DataLoader\n",
    "from torch import nn\n",
    "from torch.nn import functional as F\n",
    "from torch.utils.tensorboard import SummaryWriter\n",
    "from tqdm.auto import tqdm\n",
    "import numpy as np\n",
    "import fasttext.util\n",
    "\n",
    "from nerus import load_nerus\n",
    "from torch.nn.utils.rnn import pad_sequence\n",
    "\n",
    "device = \"cuda\" if torch.cuda.is_available() else \"cpu\"\n",
    "# device = \"cpu\""
   ]
  },
  {
   "cell_type": "code",
   "execution_count": 2,
   "id": "27f5f44d-195c-422c-8e33-6b99de95b3f1",
   "metadata": {
    "scrolled": true
   },
   "outputs": [],
   "source": [
    "# fasttext.util.download_model('ru', if_exists='ignore')"
   ]
  },
  {
   "cell_type": "code",
   "execution_count": 3,
   "id": "8ceff0e8-e91e-4cc1-a439-30aeb865ce86",
   "metadata": {},
   "outputs": [],
   "source": [
    "class NERTokenizer:\n",
    "    def __init__(self):\n",
    "        self.idx2NER = {0: '<PAD>', 1: '<BOS>', 2: '<EOS>', 3: '<UNK>'}\n",
    "        self.pad_token_id = 0\n",
    "        self.bos_token_id = 1\n",
    "        self.eos_token_id = 2\n",
    "        self.unk_token_id = 3\n",
    "        self.NER2idx = {'<PAD>': 0, '<BOS>': 1, '<EOS>': 2, '<UNK>': 3}\n",
    "    def __len__(self):\n",
    "        return len(self.idx2NER)\n",
    "    \n",
    "    def fit(self, sentences_ners):\n",
    "        idx = len(self.idx2NER)\n",
    "        for s in sentences_ners:\n",
    "            for ner in s:\n",
    "                if self.NER2idx.get(ner) is None:\n",
    "                    self.NER2idx[ner] = idx\n",
    "                    self.idx2NER[idx] = ner\n",
    "                    idx += 1\n",
    "        return self\n",
    "\n",
    "    def encode(self, NERs):\n",
    "        ids = []\n",
    "        for ner in NERs:\n",
    "            if self.NER2idx.get(ner) is not None:\n",
    "                ids.append(self.NER2idx[ner])\n",
    "            else:\n",
    "                ids.append(self.NER2idx[\"<UNK>\"])\n",
    "        return ids\n",
    "\n",
    "    def __call__(self, NERs):\n",
    "        return self.encode(NERs)\n",
    "\n",
    "    def decode(self, ids):\n",
    "        NERs = []\n",
    "        for idx in ids:\n",
    "            if self.idx2NER.get(idx) is not None:\n",
    "                tokens.append(self.idx2NER[idx])\n",
    "            else:\n",
    "                tokens.append(self.unk_token_id)\n",
    "        return NERs\n",
    "\n",
    "\n",
    "class NerusDataset(Dataset):\n",
    "    def __init__(self, path=\"nerus_lenta.conllu.gz\", \n",
    "                       min_occurrences=2, \n",
    "                       ners_tokenizer=None,\n",
    "                       first_k=None, n_after_first_k=None):\n",
    "        documents_generator = load_nerus(path)\n",
    "        self.sentences_texts = []\n",
    "        self.sentences_ners = []\n",
    "\n",
    "        if first_k is not None:\n",
    "            k = 0\n",
    "            if n_after_first_k is not None:\n",
    "                n = 0\n",
    "        for doc in tqdm(documents_generator, leave=False):\n",
    "            if n_after_first_k is None:\n",
    "                for s in doc.sents:\n",
    "                    self.sentences_texts.append([token.text for token in s.tokens])\n",
    "                    self.sentences_ners.append([token.tag for token in s.tokens])\n",
    "                if first_k is not None:\n",
    "                    k += 1\n",
    "                    if k >= first_k:\n",
    "                        break\n",
    "            else:\n",
    "                if k < first_k:\n",
    "                    k += 1\n",
    "                    continue\n",
    "                else:\n",
    "                    for s in doc.sents:\n",
    "                        self.sentences_texts.append([token.text for token in s.tokens])\n",
    "                        self.sentences_ners.append([token.tag for token in s.tokens])\n",
    "                    n += 1\n",
    "                    if n >= n_after_first_k:\n",
    "                        break\n",
    "        if ners_tokenizer is None:\n",
    "            self.ners_tokenizer = NERTokenizer().fit(self.sentences_ners)\n",
    "        else:\n",
    "            self.ners_tokenizer = ners_tokenizer\n",
    "\n",
    "    def __len__(self):\n",
    "        return len(self.sentences_texts)\n",
    "\n",
    "    def __getitem__(self, idx):\n",
    "        tokens_texts = self.sentences_texts[idx]\n",
    "        tokens_ners = self.sentences_ners[idx]\n",
    "        \n",
    "        target = self.ners_tokenizer(tokens_ners) + [self.ners_tokenizer.eos_token_id]\n",
    "\n",
    "        return tokens_texts, torch.tensor(target)\n",
    "\n",
    "\n",
    "class Collator:\n",
    "    def __init__(self, pad_token, target_pad_id):\n",
    "        self.pad_token = pad_token\n",
    "        self.target_pad_id = target_pad_id\n",
    "                        \n",
    "        self.words_tokenizer = fasttext.load_model('cc.ru.300.bin')\n",
    "        fasttext.util.reduce_model(self.words_tokenizer, 100)\n",
    "            \n",
    "    def __call__(self, raw_batch):\n",
    "        inputs_batch = [elem[0] for elem in raw_batch]\n",
    "        target_batch = [elem[1] for elem in raw_batch]\n",
    "\n",
    "        max_len = max([len(inp) for inp in inputs_batch])\n",
    "        for i in range(len(inputs_batch)):\n",
    "            inputs_batch[i] = [self.words_tokenizer.get_word_vector(\"[BOS]\")] + \\\n",
    "                              [self.words_tokenizer.get_word_vector(token) for token \\\n",
    "                                 in inputs_batch[i] + [self.pad_token] * (max_len - len(inputs_batch[i]))]\n",
    "\n",
    "        inputs_batch = torch.tensor(np.stack(inputs_batch))\n",
    "\n",
    "        target_batch = pad_sequence(target_batch, \n",
    "                                    batch_first=True, \n",
    "                                    padding_value=self.target_pad_id)\n",
    "        \n",
    "        return inputs_batch, target_batch"
   ]
  },
  {
   "cell_type": "code",
   "execution_count": 4,
   "id": "086f5f16-826e-4730-897c-46b912f787c2",
   "metadata": {},
   "outputs": [],
   "source": [
    "class Encoder(nn.Module):\n",
    "    def __init__(self, \n",
    "                 output_dict_size,\n",
    "                 hidden_dim=128,\n",
    "                 embedding_dim=64,\n",
    "                 n_layers=1, \n",
    "                 batch_norm=False,\n",
    "                 dropout=0):      \n",
    "        super().__init__()\n",
    "\n",
    "        self.n_layers = n_layers\n",
    "        self.lstm = nn.LSTM(embedding_dim, \n",
    "                            hidden_size=hidden_dim//2, \n",
    "                            num_layers=n_layers,\n",
    "                            batch_first=True,\n",
    "                            dropout=dropout)\n",
    "        \n",
    "        self.linear = nn.Linear(hidden_dim//2, output_dict_size)\n",
    "        self.batch_norm = nn.BatchNorm1d(output_dict_size) if batch_norm else False\n",
    "        \n",
    "    def forward(self, x):\n",
    " \n",
    "        max_len = x.shape[1]\n",
    "        logps = []\n",
    "        \n",
    "        i = 0\n",
    "        h = None\n",
    "        c = None\n",
    "        while len(logps) < max_len:\n",
    "            cur_token_emb = (x[:,i].to(device)).unsqueeze(1)\n",
    "            i += 1\n",
    "            output, (h, c) = self.lstm(cur_token_emb, (h, c) if h is not None and c is not None else None)\n",
    "            output = self.linear(output)\n",
    "            if self.batch_norm:\n",
    "                output = torch.permute(self.batch_norm(torch.permute(output, (0, 2, 1))), (0, 2, 1))\n",
    "            next_logp = F.log_softmax(output, dim=-1)\n",
    "            logps.append(next_logp)\n",
    "\n",
    "        return torch.cat(logps, dim=1)"
   ]
  },
  {
   "cell_type": "code",
   "execution_count": 5,
   "id": "a6dbd228-ce03-4c97-be28-fd4f09d83b65",
   "metadata": {},
   "outputs": [],
   "source": [
    "def train_epoch(train_loader, model, loss_function, optimizer, callback=None):\n",
    "    epoch_loss = 0\n",
    "    total = 0\n",
    "    for it, (batch_of_x, batch_of_y) in enumerate(tqdm(train_loader, leave=False)):\n",
    "              \n",
    "        batch_loss = train_on_batch(model, batch_of_x, batch_of_y, optimizer, loss_function)\n",
    "        \n",
    "        if callback is not None:\n",
    "            with torch.no_grad():\n",
    "                callback(model, batch_loss)\n",
    "            \n",
    "        epoch_loss += batch_loss * len(batch_of_x)\n",
    "        total += len(batch_of_x)\n",
    "    \n",
    "    return epoch_loss / total\n",
    "\n",
    "\n",
    "def train_on_batch(model, x_batch, y_batch, optimizer, loss_function):\n",
    "    x_batch, y_batch = x_batch.to(device), y_batch.to(device)\n",
    "    model.train()\n",
    "    optimizer.zero_grad()\n",
    "    preds = model(x_batch)\n",
    "    loss = loss_function(preds, y_batch)\n",
    "    loss.backward()\n",
    "    optimizer.step()\n",
    "\n",
    "    return loss.detach().cpu().item()\n",
    "\n",
    "\n",
    "def trainer(count_of_epoch, \n",
    "            batch_size, \n",
    "            loader,\n",
    "            model, \n",
    "            loss_function,\n",
    "            optimizer,\n",
    "            lr = 0.001,\n",
    "            callback = None):\n",
    "\n",
    "    optima = optimizer(model.parameters(), lr=lr)\n",
    "    \n",
    "    iterations = tqdm(range(count_of_epoch), desc='epoch')\n",
    "    iterations.set_postfix({'train epoch loss': np.nan})\n",
    "    for it in iterations:\n",
    "        \n",
    "        \n",
    "        epoch_loss = train_epoch(train_loader=loader, \n",
    "                    model=model, \n",
    "                    loss_function=loss_function,\n",
    "                    optimizer=optima, \n",
    "                    callback=callback)\n",
    "        \n",
    "        iterations.set_postfix({'train epoch loss': epoch_loss})\n",
    "\n",
    "\n",
    "class Callback():\n",
    "    def __init__(self, writer, test_loader, loss_function, delimeter=100, batch_size=64):\n",
    "        self.step = 0\n",
    "        self.writer = writer\n",
    "        self.delimeter = delimeter\n",
    "        self.loss_function = loss_function\n",
    "        self.batch_size = batch_size\n",
    "\n",
    "        self.loader = test_loader\n",
    "\n",
    "    def forward(self, model, loss):\n",
    "        self.step += 1\n",
    "        self.writer.add_scalar('LOSS/train', loss, self.step)\n",
    "        \n",
    "        if self.step % self.delimeter == 0:\n",
    "            \n",
    "            pred = []\n",
    "            real = []\n",
    "            model.eval()\n",
    "            with torch.no_grad():\n",
    "                for it, (x_batch, y_batch) in enumerate(tqdm(self.loader, leave=False)):\n",
    "\n",
    "                    x_batch = x_batch.to(device)\n",
    "    \n",
    "                    output = model(x_batch).detach()\n",
    "    \n",
    "                    pred.extend(torch.argmax(output, dim=-1).cpu().view(-1).tolist())\n",
    "                    real.extend(y_batch.view(-1).tolist())\n",
    "                    \n",
    "                test_acc = np.mean(np.array(pred) == np.array(real))\n",
    "                \n",
    "                self.writer.add_scalar('Acc/test', test_acc, self.step)\n",
    "\n",
    "          \n",
    "    def __call__(self, model, loss):\n",
    "        return self.forward(model, loss)"
   ]
  },
  {
   "cell_type": "code",
   "execution_count": 6,
   "id": "378705bb-033b-4fe3-a47e-59043f1d97af",
   "metadata": {},
   "outputs": [],
   "source": [
    "class LSTM_loss():\n",
    "    def __init__(self, vocab_size, ignore_index):\n",
    "        self.vocab_size = vocab_size\n",
    "        self.ignore_index = ignore_index\n",
    "        \n",
    "    def __call__(self, pred, target):\n",
    "        \n",
    "        pred_shifted = pred.contiguous().view(-1, self.vocab_size)\n",
    "        target_shifted = target.contiguous().view(-1)\n",
    "        \n",
    "        return F.nll_loss(pred_shifted, target_shifted, \n",
    "                        ignore_index=self.ignore_index)"
   ]
  },
  {
   "cell_type": "code",
   "execution_count": 7,
   "id": "63add3e5-88a1-4307-840a-4fb022b40690",
   "metadata": {},
   "outputs": [
    {
     "data": {
      "application/vnd.jupyter.widget-view+json": {
       "model_id": "3a9e51f27cfc4f958c0f64e00d551305",
       "version_major": 2,
       "version_minor": 0
      },
      "text/plain": [
       "0it [00:00, ?it/s]"
      ]
     },
     "metadata": {},
     "output_type": "display_data"
    },
    {
     "data": {
      "application/vnd.jupyter.widget-view+json": {
       "model_id": "b70f2e7c4a434ea28a82c1a43ec1d71f",
       "version_major": 2,
       "version_minor": 0
      },
      "text/plain": [
       "0it [00:00, ?it/s]"
      ]
     },
     "metadata": {},
     "output_type": "display_data"
    }
   ],
   "source": [
    "train_dataset = NerusDataset(min_occurrences=2, first_k=100000, n_after_first_k=None)\n",
    "test_dataset = NerusDataset(min_occurrences=2, \n",
    "                            ners_tokenizer=train_dataset.ners_tokenizer,\n",
    "                            first_k=100000, n_after_first_k=4000)\n",
    "# first_k = k --- takes only first k elements of dataset if n_after_first_k is None\n",
    "# if n_after_first_k is not None takes n element after first k (x_{k}, x_{k+1} .... x_{k+n-1})\n",
    "# It seems impossible to use whole dataset in the task, so we would go for a small subset"
   ]
  },
  {
   "cell_type": "code",
   "execution_count": 8,
   "id": "011bbb1c-5c83-41ae-94c8-33cedad050e7",
   "metadata": {},
   "outputs": [],
   "source": [
    "collator = Collator(pad_token=\"[PAD]\",\n",
    "                    target_pad_id=train_dataset.ners_tokenizer.pad_token_id)"
   ]
  },
  {
   "cell_type": "code",
   "execution_count": 11,
   "id": "99ddf493-dde0-44ff-82ea-16015fc53526",
   "metadata": {},
   "outputs": [
    {
     "name": "stdout",
     "output_type": "stream",
     "text": [
      "The tensorboard extension is already loaded. To reload it, use:\n",
      "  %reload_ext tensorboard\n"
     ]
    },
    {
     "data": {
      "text/html": [
       "\n",
       "      <iframe id=\"tensorboard-frame-767ce5b4efa2157a\" width=\"100%\" height=\"800\" frameborder=\"0\">\n",
       "      </iframe>\n",
       "      <script>\n",
       "        (function() {\n",
       "          const frame = document.getElementById(\"tensorboard-frame-767ce5b4efa2157a\");\n",
       "          const url = new URL(\"/\", window.location);\n",
       "          const port = 6001;\n",
       "          if (port) {\n",
       "            url.port = port;\n",
       "          }\n",
       "          frame.src = url;\n",
       "        })();\n",
       "      </script>\n",
       "    "
      ],
      "text/plain": [
       "<IPython.core.display.HTML object>"
      ]
     },
     "metadata": {},
     "output_type": "display_data"
    }
   ],
   "source": [
    "%load_ext tensorboard\n",
    "%tensorboard --logdir ./ --port=6001"
   ]
  },
  {
   "cell_type": "code",
   "execution_count": 12,
   "id": "b2f431fc-bc3a-42dc-bc92-fb63d001d24e",
   "metadata": {
    "scrolled": true
   },
   "outputs": [
    {
     "data": {
      "application/vnd.jupyter.widget-view+json": {
       "model_id": "3560db34e7784eafbc78b24d225e9b13",
       "version_major": 2,
       "version_minor": 0
      },
      "text/plain": [
       "epoch:   0%|          | 0/4 [00:00<?, ?it/s]"
      ]
     },
     "metadata": {},
     "output_type": "display_data"
    },
    {
     "data": {
      "application/vnd.jupyter.widget-view+json": {
       "model_id": "",
       "version_major": 2,
       "version_minor": 0
      },
      "text/plain": [
       "  0%|          | 0/17453 [00:00<?, ?it/s]"
      ]
     },
     "metadata": {},
     "output_type": "display_data"
    },
    {
     "data": {
      "application/vnd.jupyter.widget-view+json": {
       "model_id": "",
       "version_major": 2,
       "version_minor": 0
      },
      "text/plain": [
       "  0%|          | 0/673 [00:00<?, ?it/s]"
      ]
     },
     "metadata": {},
     "output_type": "display_data"
    },
    {
     "data": {
      "application/vnd.jupyter.widget-view+json": {
       "model_id": "",
       "version_major": 2,
       "version_minor": 0
      },
      "text/plain": [
       "  0%|          | 0/673 [00:00<?, ?it/s]"
      ]
     },
     "metadata": {},
     "output_type": "display_data"
    },
    {
     "data": {
      "application/vnd.jupyter.widget-view+json": {
       "model_id": "",
       "version_major": 2,
       "version_minor": 0
      },
      "text/plain": [
       "  0%|          | 0/673 [00:00<?, ?it/s]"
      ]
     },
     "metadata": {},
     "output_type": "display_data"
    },
    {
     "data": {
      "application/vnd.jupyter.widget-view+json": {
       "model_id": "",
       "version_major": 2,
       "version_minor": 0
      },
      "text/plain": [
       "  0%|          | 0/673 [00:00<?, ?it/s]"
      ]
     },
     "metadata": {},
     "output_type": "display_data"
    },
    {
     "data": {
      "application/vnd.jupyter.widget-view+json": {
       "model_id": "",
       "version_major": 2,
       "version_minor": 0
      },
      "text/plain": [
       "  0%|          | 0/673 [00:00<?, ?it/s]"
      ]
     },
     "metadata": {},
     "output_type": "display_data"
    },
    {
     "data": {
      "application/vnd.jupyter.widget-view+json": {
       "model_id": "",
       "version_major": 2,
       "version_minor": 0
      },
      "text/plain": [
       "  0%|          | 0/673 [00:00<?, ?it/s]"
      ]
     },
     "metadata": {},
     "output_type": "display_data"
    },
    {
     "data": {
      "application/vnd.jupyter.widget-view+json": {
       "model_id": "",
       "version_major": 2,
       "version_minor": 0
      },
      "text/plain": [
       "  0%|          | 0/673 [00:00<?, ?it/s]"
      ]
     },
     "metadata": {},
     "output_type": "display_data"
    },
    {
     "data": {
      "application/vnd.jupyter.widget-view+json": {
       "model_id": "",
       "version_major": 2,
       "version_minor": 0
      },
      "text/plain": [
       "  0%|          | 0/673 [00:00<?, ?it/s]"
      ]
     },
     "metadata": {},
     "output_type": "display_data"
    },
    {
     "data": {
      "application/vnd.jupyter.widget-view+json": {
       "model_id": "",
       "version_major": 2,
       "version_minor": 0
      },
      "text/plain": [
       "  0%|          | 0/673 [00:00<?, ?it/s]"
      ]
     },
     "metadata": {},
     "output_type": "display_data"
    },
    {
     "data": {
      "application/vnd.jupyter.widget-view+json": {
       "model_id": "",
       "version_major": 2,
       "version_minor": 0
      },
      "text/plain": [
       "  0%|          | 0/673 [00:00<?, ?it/s]"
      ]
     },
     "metadata": {},
     "output_type": "display_data"
    },
    {
     "data": {
      "application/vnd.jupyter.widget-view+json": {
       "model_id": "",
       "version_major": 2,
       "version_minor": 0
      },
      "text/plain": [
       "  0%|          | 0/673 [00:00<?, ?it/s]"
      ]
     },
     "metadata": {},
     "output_type": "display_data"
    },
    {
     "data": {
      "application/vnd.jupyter.widget-view+json": {
       "model_id": "",
       "version_major": 2,
       "version_minor": 0
      },
      "text/plain": [
       "  0%|          | 0/673 [00:00<?, ?it/s]"
      ]
     },
     "metadata": {},
     "output_type": "display_data"
    },
    {
     "data": {
      "application/vnd.jupyter.widget-view+json": {
       "model_id": "",
       "version_major": 2,
       "version_minor": 0
      },
      "text/plain": [
       "  0%|          | 0/673 [00:00<?, ?it/s]"
      ]
     },
     "metadata": {},
     "output_type": "display_data"
    },
    {
     "data": {
      "application/vnd.jupyter.widget-view+json": {
       "model_id": "",
       "version_major": 2,
       "version_minor": 0
      },
      "text/plain": [
       "  0%|          | 0/673 [00:00<?, ?it/s]"
      ]
     },
     "metadata": {},
     "output_type": "display_data"
    },
    {
     "data": {
      "application/vnd.jupyter.widget-view+json": {
       "model_id": "",
       "version_major": 2,
       "version_minor": 0
      },
      "text/plain": [
       "  0%|          | 0/673 [00:00<?, ?it/s]"
      ]
     },
     "metadata": {},
     "output_type": "display_data"
    },
    {
     "data": {
      "application/vnd.jupyter.widget-view+json": {
       "model_id": "",
       "version_major": 2,
       "version_minor": 0
      },
      "text/plain": [
       "  0%|          | 0/673 [00:00<?, ?it/s]"
      ]
     },
     "metadata": {},
     "output_type": "display_data"
    },
    {
     "data": {
      "application/vnd.jupyter.widget-view+json": {
       "model_id": "",
       "version_major": 2,
       "version_minor": 0
      },
      "text/plain": [
       "  0%|          | 0/673 [00:00<?, ?it/s]"
      ]
     },
     "metadata": {},
     "output_type": "display_data"
    },
    {
     "data": {
      "application/vnd.jupyter.widget-view+json": {
       "model_id": "",
       "version_major": 2,
       "version_minor": 0
      },
      "text/plain": [
       "  0%|          | 0/17453 [00:00<?, ?it/s]"
      ]
     },
     "metadata": {},
     "output_type": "display_data"
    },
    {
     "data": {
      "application/vnd.jupyter.widget-view+json": {
       "model_id": "",
       "version_major": 2,
       "version_minor": 0
      },
      "text/plain": [
       "  0%|          | 0/673 [00:00<?, ?it/s]"
      ]
     },
     "metadata": {},
     "output_type": "display_data"
    },
    {
     "data": {
      "application/vnd.jupyter.widget-view+json": {
       "model_id": "",
       "version_major": 2,
       "version_minor": 0
      },
      "text/plain": [
       "  0%|          | 0/673 [00:00<?, ?it/s]"
      ]
     },
     "metadata": {},
     "output_type": "display_data"
    },
    {
     "data": {
      "application/vnd.jupyter.widget-view+json": {
       "model_id": "",
       "version_major": 2,
       "version_minor": 0
      },
      "text/plain": [
       "  0%|          | 0/673 [00:00<?, ?it/s]"
      ]
     },
     "metadata": {},
     "output_type": "display_data"
    },
    {
     "data": {
      "application/vnd.jupyter.widget-view+json": {
       "model_id": "",
       "version_major": 2,
       "version_minor": 0
      },
      "text/plain": [
       "  0%|          | 0/673 [00:00<?, ?it/s]"
      ]
     },
     "metadata": {},
     "output_type": "display_data"
    },
    {
     "data": {
      "application/vnd.jupyter.widget-view+json": {
       "model_id": "",
       "version_major": 2,
       "version_minor": 0
      },
      "text/plain": [
       "  0%|          | 0/673 [00:00<?, ?it/s]"
      ]
     },
     "metadata": {},
     "output_type": "display_data"
    },
    {
     "data": {
      "application/vnd.jupyter.widget-view+json": {
       "model_id": "",
       "version_major": 2,
       "version_minor": 0
      },
      "text/plain": [
       "  0%|          | 0/673 [00:00<?, ?it/s]"
      ]
     },
     "metadata": {},
     "output_type": "display_data"
    },
    {
     "data": {
      "application/vnd.jupyter.widget-view+json": {
       "model_id": "",
       "version_major": 2,
       "version_minor": 0
      },
      "text/plain": [
       "  0%|          | 0/673 [00:00<?, ?it/s]"
      ]
     },
     "metadata": {},
     "output_type": "display_data"
    },
    {
     "data": {
      "application/vnd.jupyter.widget-view+json": {
       "model_id": "",
       "version_major": 2,
       "version_minor": 0
      },
      "text/plain": [
       "  0%|          | 0/673 [00:00<?, ?it/s]"
      ]
     },
     "metadata": {},
     "output_type": "display_data"
    },
    {
     "data": {
      "application/vnd.jupyter.widget-view+json": {
       "model_id": "",
       "version_major": 2,
       "version_minor": 0
      },
      "text/plain": [
       "  0%|          | 0/673 [00:00<?, ?it/s]"
      ]
     },
     "metadata": {},
     "output_type": "display_data"
    },
    {
     "data": {
      "application/vnd.jupyter.widget-view+json": {
       "model_id": "",
       "version_major": 2,
       "version_minor": 0
      },
      "text/plain": [
       "  0%|          | 0/673 [00:00<?, ?it/s]"
      ]
     },
     "metadata": {},
     "output_type": "display_data"
    },
    {
     "data": {
      "application/vnd.jupyter.widget-view+json": {
       "model_id": "",
       "version_major": 2,
       "version_minor": 0
      },
      "text/plain": [
       "  0%|          | 0/673 [00:00<?, ?it/s]"
      ]
     },
     "metadata": {},
     "output_type": "display_data"
    },
    {
     "data": {
      "application/vnd.jupyter.widget-view+json": {
       "model_id": "",
       "version_major": 2,
       "version_minor": 0
      },
      "text/plain": [
       "  0%|          | 0/673 [00:00<?, ?it/s]"
      ]
     },
     "metadata": {},
     "output_type": "display_data"
    },
    {
     "data": {
      "application/vnd.jupyter.widget-view+json": {
       "model_id": "",
       "version_major": 2,
       "version_minor": 0
      },
      "text/plain": [
       "  0%|          | 0/673 [00:00<?, ?it/s]"
      ]
     },
     "metadata": {},
     "output_type": "display_data"
    },
    {
     "data": {
      "application/vnd.jupyter.widget-view+json": {
       "model_id": "",
       "version_major": 2,
       "version_minor": 0
      },
      "text/plain": [
       "  0%|          | 0/673 [00:00<?, ?it/s]"
      ]
     },
     "metadata": {},
     "output_type": "display_data"
    },
    {
     "data": {
      "application/vnd.jupyter.widget-view+json": {
       "model_id": "",
       "version_major": 2,
       "version_minor": 0
      },
      "text/plain": [
       "  0%|          | 0/673 [00:00<?, ?it/s]"
      ]
     },
     "metadata": {},
     "output_type": "display_data"
    },
    {
     "data": {
      "application/vnd.jupyter.widget-view+json": {
       "model_id": "",
       "version_major": 2,
       "version_minor": 0
      },
      "text/plain": [
       "  0%|          | 0/673 [00:00<?, ?it/s]"
      ]
     },
     "metadata": {},
     "output_type": "display_data"
    },
    {
     "data": {
      "application/vnd.jupyter.widget-view+json": {
       "model_id": "",
       "version_major": 2,
       "version_minor": 0
      },
      "text/plain": [
       "  0%|          | 0/673 [00:00<?, ?it/s]"
      ]
     },
     "metadata": {},
     "output_type": "display_data"
    },
    {
     "data": {
      "application/vnd.jupyter.widget-view+json": {
       "model_id": "",
       "version_major": 2,
       "version_minor": 0
      },
      "text/plain": [
       "  0%|          | 0/17453 [00:00<?, ?it/s]"
      ]
     },
     "metadata": {},
     "output_type": "display_data"
    },
    {
     "data": {
      "application/vnd.jupyter.widget-view+json": {
       "model_id": "",
       "version_major": 2,
       "version_minor": 0
      },
      "text/plain": [
       "  0%|          | 0/673 [00:00<?, ?it/s]"
      ]
     },
     "metadata": {},
     "output_type": "display_data"
    },
    {
     "data": {
      "application/vnd.jupyter.widget-view+json": {
       "model_id": "",
       "version_major": 2,
       "version_minor": 0
      },
      "text/plain": [
       "  0%|          | 0/673 [00:00<?, ?it/s]"
      ]
     },
     "metadata": {},
     "output_type": "display_data"
    },
    {
     "data": {
      "application/vnd.jupyter.widget-view+json": {
       "model_id": "",
       "version_major": 2,
       "version_minor": 0
      },
      "text/plain": [
       "  0%|          | 0/673 [00:00<?, ?it/s]"
      ]
     },
     "metadata": {},
     "output_type": "display_data"
    },
    {
     "data": {
      "application/vnd.jupyter.widget-view+json": {
       "model_id": "",
       "version_major": 2,
       "version_minor": 0
      },
      "text/plain": [
       "  0%|          | 0/673 [00:00<?, ?it/s]"
      ]
     },
     "metadata": {},
     "output_type": "display_data"
    },
    {
     "data": {
      "application/vnd.jupyter.widget-view+json": {
       "model_id": "",
       "version_major": 2,
       "version_minor": 0
      },
      "text/plain": [
       "  0%|          | 0/673 [00:00<?, ?it/s]"
      ]
     },
     "metadata": {},
     "output_type": "display_data"
    },
    {
     "data": {
      "application/vnd.jupyter.widget-view+json": {
       "model_id": "",
       "version_major": 2,
       "version_minor": 0
      },
      "text/plain": [
       "  0%|          | 0/673 [00:00<?, ?it/s]"
      ]
     },
     "metadata": {},
     "output_type": "display_data"
    },
    {
     "data": {
      "application/vnd.jupyter.widget-view+json": {
       "model_id": "",
       "version_major": 2,
       "version_minor": 0
      },
      "text/plain": [
       "  0%|          | 0/673 [00:00<?, ?it/s]"
      ]
     },
     "metadata": {},
     "output_type": "display_data"
    },
    {
     "data": {
      "application/vnd.jupyter.widget-view+json": {
       "model_id": "",
       "version_major": 2,
       "version_minor": 0
      },
      "text/plain": [
       "  0%|          | 0/673 [00:00<?, ?it/s]"
      ]
     },
     "metadata": {},
     "output_type": "display_data"
    },
    {
     "data": {
      "application/vnd.jupyter.widget-view+json": {
       "model_id": "",
       "version_major": 2,
       "version_minor": 0
      },
      "text/plain": [
       "  0%|          | 0/673 [00:00<?, ?it/s]"
      ]
     },
     "metadata": {},
     "output_type": "display_data"
    },
    {
     "data": {
      "application/vnd.jupyter.widget-view+json": {
       "model_id": "",
       "version_major": 2,
       "version_minor": 0
      },
      "text/plain": [
       "  0%|          | 0/673 [00:00<?, ?it/s]"
      ]
     },
     "metadata": {},
     "output_type": "display_data"
    },
    {
     "data": {
      "application/vnd.jupyter.widget-view+json": {
       "model_id": "",
       "version_major": 2,
       "version_minor": 0
      },
      "text/plain": [
       "  0%|          | 0/673 [00:00<?, ?it/s]"
      ]
     },
     "metadata": {},
     "output_type": "display_data"
    },
    {
     "data": {
      "application/vnd.jupyter.widget-view+json": {
       "model_id": "",
       "version_major": 2,
       "version_minor": 0
      },
      "text/plain": [
       "  0%|          | 0/673 [00:00<?, ?it/s]"
      ]
     },
     "metadata": {},
     "output_type": "display_data"
    },
    {
     "data": {
      "application/vnd.jupyter.widget-view+json": {
       "model_id": "47974881bebd45bd99ba19581d353dd1",
       "version_major": 2,
       "version_minor": 0
      },
      "text/plain": [
       "  0%|          | 0/673 [00:00<?, ?it/s]"
      ]
     },
     "metadata": {},
     "output_type": "display_data"
    },
    {
     "data": {
      "application/vnd.jupyter.widget-view+json": {
       "model_id": "9d4cc0a49e794436bf6b52f444629b74",
       "version_major": 2,
       "version_minor": 0
      },
      "text/plain": [
       "  0%|          | 0/673 [00:00<?, ?it/s]"
      ]
     },
     "metadata": {},
     "output_type": "display_data"
    },
    {
     "data": {
      "application/vnd.jupyter.widget-view+json": {
       "model_id": "67ea894699ac4d7dac03d6c859aaacf7",
       "version_major": 2,
       "version_minor": 0
      },
      "text/plain": [
       "  0%|          | 0/673 [00:00<?, ?it/s]"
      ]
     },
     "metadata": {},
     "output_type": "display_data"
    },
    {
     "data": {
      "application/vnd.jupyter.widget-view+json": {
       "model_id": "c057f3a294a84f1cae037f57682688c7",
       "version_major": 2,
       "version_minor": 0
      },
      "text/plain": [
       "  0%|          | 0/673 [00:00<?, ?it/s]"
      ]
     },
     "metadata": {},
     "output_type": "display_data"
    },
    {
     "data": {
      "application/vnd.jupyter.widget-view+json": {
       "model_id": "710f04fd143546c391826093c00a13d5",
       "version_major": 2,
       "version_minor": 0
      },
      "text/plain": [
       "  0%|          | 0/673 [00:00<?, ?it/s]"
      ]
     },
     "metadata": {},
     "output_type": "display_data"
    },
    {
     "data": {
      "application/vnd.jupyter.widget-view+json": {
       "model_id": "23a818d3b4554db68620325e3ea6d952",
       "version_major": 2,
       "version_minor": 0
      },
      "text/plain": [
       "  0%|          | 0/673 [00:00<?, ?it/s]"
      ]
     },
     "metadata": {},
     "output_type": "display_data"
    },
    {
     "data": {
      "application/vnd.jupyter.widget-view+json": {
       "model_id": "",
       "version_major": 2,
       "version_minor": 0
      },
      "text/plain": [
       "  0%|          | 0/17453 [00:00<?, ?it/s]"
      ]
     },
     "metadata": {},
     "output_type": "display_data"
    },
    {
     "data": {
      "application/vnd.jupyter.widget-view+json": {
       "model_id": "433bd97b98034cc68410b612d0b0f2b9",
       "version_major": 2,
       "version_minor": 0
      },
      "text/plain": [
       "  0%|          | 0/673 [00:00<?, ?it/s]"
      ]
     },
     "metadata": {},
     "output_type": "display_data"
    },
    {
     "data": {
      "application/vnd.jupyter.widget-view+json": {
       "model_id": "f19d4d65867c41b194d862a80d8e12da",
       "version_major": 2,
       "version_minor": 0
      },
      "text/plain": [
       "  0%|          | 0/673 [00:00<?, ?it/s]"
      ]
     },
     "metadata": {},
     "output_type": "display_data"
    },
    {
     "data": {
      "application/vnd.jupyter.widget-view+json": {
       "model_id": "1721d19f579f4d94b9dd407e58b6d343",
       "version_major": 2,
       "version_minor": 0
      },
      "text/plain": [
       "  0%|          | 0/673 [00:00<?, ?it/s]"
      ]
     },
     "metadata": {},
     "output_type": "display_data"
    },
    {
     "data": {
      "application/vnd.jupyter.widget-view+json": {
       "model_id": "40ab144706774314835cb07c6e3943cd",
       "version_major": 2,
       "version_minor": 0
      },
      "text/plain": [
       "  0%|          | 0/673 [00:00<?, ?it/s]"
      ]
     },
     "metadata": {},
     "output_type": "display_data"
    },
    {
     "data": {
      "application/vnd.jupyter.widget-view+json": {
       "model_id": "12b0dc17d4df494fbab567621aa6e8f9",
       "version_major": 2,
       "version_minor": 0
      },
      "text/plain": [
       "  0%|          | 0/673 [00:00<?, ?it/s]"
      ]
     },
     "metadata": {},
     "output_type": "display_data"
    },
    {
     "data": {
      "application/vnd.jupyter.widget-view+json": {
       "model_id": "a9a186e67b154c7eba526a5400bcc983",
       "version_major": 2,
       "version_minor": 0
      },
      "text/plain": [
       "  0%|          | 0/673 [00:00<?, ?it/s]"
      ]
     },
     "metadata": {},
     "output_type": "display_data"
    },
    {
     "data": {
      "application/vnd.jupyter.widget-view+json": {
       "model_id": "a813c7ce113b4f9b82734ff8b714af17",
       "version_major": 2,
       "version_minor": 0
      },
      "text/plain": [
       "  0%|          | 0/673 [00:00<?, ?it/s]"
      ]
     },
     "metadata": {},
     "output_type": "display_data"
    },
    {
     "data": {
      "application/vnd.jupyter.widget-view+json": {
       "model_id": "e75377b2c2f149b38bd2650bdc454d0a",
       "version_major": 2,
       "version_minor": 0
      },
      "text/plain": [
       "  0%|          | 0/673 [00:00<?, ?it/s]"
      ]
     },
     "metadata": {},
     "output_type": "display_data"
    },
    {
     "data": {
      "application/vnd.jupyter.widget-view+json": {
       "model_id": "ec1311234732431e96223cd9e66b92ee",
       "version_major": 2,
       "version_minor": 0
      },
      "text/plain": [
       "  0%|          | 0/673 [00:00<?, ?it/s]"
      ]
     },
     "metadata": {},
     "output_type": "display_data"
    },
    {
     "data": {
      "application/vnd.jupyter.widget-view+json": {
       "model_id": "3a270684465646a8a4637179266598a0",
       "version_major": 2,
       "version_minor": 0
      },
      "text/plain": [
       "  0%|          | 0/673 [00:00<?, ?it/s]"
      ]
     },
     "metadata": {},
     "output_type": "display_data"
    },
    {
     "data": {
      "application/vnd.jupyter.widget-view+json": {
       "model_id": "969ff7a2b7534dfcbc13e3293a343d58",
       "version_major": 2,
       "version_minor": 0
      },
      "text/plain": [
       "  0%|          | 0/673 [00:00<?, ?it/s]"
      ]
     },
     "metadata": {},
     "output_type": "display_data"
    },
    {
     "data": {
      "application/vnd.jupyter.widget-view+json": {
       "model_id": "b55cb88f5c05472495a644f14c837884",
       "version_major": 2,
       "version_minor": 0
      },
      "text/plain": [
       "  0%|          | 0/673 [00:00<?, ?it/s]"
      ]
     },
     "metadata": {},
     "output_type": "display_data"
    },
    {
     "data": {
      "application/vnd.jupyter.widget-view+json": {
       "model_id": "ec5e0c3a853540a88587f1a202014c9d",
       "version_major": 2,
       "version_minor": 0
      },
      "text/plain": [
       "  0%|          | 0/673 [00:00<?, ?it/s]"
      ]
     },
     "metadata": {},
     "output_type": "display_data"
    },
    {
     "data": {
      "application/vnd.jupyter.widget-view+json": {
       "model_id": "4d549ab0216d456eafa73e713b3f403b",
       "version_major": 2,
       "version_minor": 0
      },
      "text/plain": [
       "  0%|          | 0/673 [00:00<?, ?it/s]"
      ]
     },
     "metadata": {},
     "output_type": "display_data"
    },
    {
     "data": {
      "application/vnd.jupyter.widget-view+json": {
       "model_id": "d64e4693f1984bbd88e6a5e157357774",
       "version_major": 2,
       "version_minor": 0
      },
      "text/plain": [
       "  0%|          | 0/673 [00:00<?, ?it/s]"
      ]
     },
     "metadata": {},
     "output_type": "display_data"
    },
    {
     "data": {
      "application/vnd.jupyter.widget-view+json": {
       "model_id": "33a7c25cd1f04555b4e90154ac3a8d40",
       "version_major": 2,
       "version_minor": 0
      },
      "text/plain": [
       "  0%|          | 0/673 [00:00<?, ?it/s]"
      ]
     },
     "metadata": {},
     "output_type": "display_data"
    },
    {
     "data": {
      "application/vnd.jupyter.widget-view+json": {
       "model_id": "",
       "version_major": 2,
       "version_minor": 0
      },
      "text/plain": [
       "  0%|          | 0/673 [00:00<?, ?it/s]"
      ]
     },
     "metadata": {},
     "output_type": "display_data"
    }
   ],
   "source": [
    "loss_function = LSTM_loss(vocab_size=len(train_dataset.ners_tokenizer), \n",
    "                          ignore_index=train_dataset.ners_tokenizer.pad_token_id)\n",
    "\n",
    "optimizer = torch.optim.Adam\n",
    "lr = 3e-4\n",
    "hidden_dim = 384\n",
    "batch_size = 64\n",
    "test_step_size = 1000\n",
    "n_epochs=4\n",
    "\n",
    "\n",
    "\n",
    "train_loader = DataLoader(train_dataset, shuffle=True, batch_size=batch_size, \n",
    "                          collate_fn=collator)\n",
    "        \n",
    "test_loader = DataLoader(test_dataset, shuffle=False, batch_size=batch_size, \n",
    "                          collate_fn=collator)\n",
    "\n",
    "\n",
    "model = Encoder(output_dict_size=len(train_dataset.ners_tokenizer),\n",
    "                hidden_dim=hidden_dim,\n",
    "                embedding_dim=collator.words_tokenizer.get_dimension(),\n",
    "                n_layers=3, \n",
    "                batch_norm=False,\n",
    "                dropout=0).to(device)\n",
    "\n",
    "writer = SummaryWriter(log_dir=f'./run0')\n",
    "\n",
    "callback = Callback(writer, \n",
    "                    test_loader, \n",
    "                    loss_function, \n",
    "                    delimeter=test_step_size)\n",
    "\n",
    "trainer(count_of_epoch=n_epochs, \n",
    "        batch_size=batch_size, \n",
    "        loader=train_loader,\n",
    "        model=model, \n",
    "        loss_function=loss_function,\n",
    "        optimizer=optimizer,\n",
    "        lr=lr,\n",
    "        callback=callback)"
   ]
  },
  {
   "cell_type": "markdown",
   "id": "9b8fc851-47ab-4cad-93b6-cc3f6f2e19f3",
   "metadata": {},
   "source": [
    "Медленно, но учится, лосс падает, точность на тесте растет. С моделькой больше код падает с непонятными ошибками cuda, хотя запас по памяти большой, возможно у меня отваливается видеокарта -- нехорошо. В идеале надо было бы взять претрененный rubert и доучить голову на разметку токенов, т.к. лстмку с нуля учить довольно долго и довольно затратно по ресурсам, но в задании именно лстм, поэтому оставлю как есть."
   ]
  }
 ],
 "metadata": {
  "kernelspec": {
   "display_name": "Python 3 (ipykernel)",
   "language": "python",
   "name": "python3"
  },
  "language_info": {
   "codemirror_mode": {
    "name": "ipython",
    "version": 3
   },
   "file_extension": ".py",
   "mimetype": "text/x-python",
   "name": "python",
   "nbconvert_exporter": "python",
   "pygments_lexer": "ipython3",
   "version": "3.10.13"
  },
  "widgets": {
   "application/vnd.jupyter.widget-state+json": {
    "state": {
     "0009228f193d4fd9aad4711feae18b2b": {
      "model_module": "@jupyter-widgets/base",
      "model_module_version": "2.0.0",
      "model_name": "LayoutModel",
      "state": {}
     },
     "004249a985cc420a94089ec05d954239": {
      "model_module": "@jupyter-widgets/base",
      "model_module_version": "2.0.0",
      "model_name": "LayoutModel",
      "state": {}
     },
     "00ba4821f21d4d8286d3cb2c4a634dcd": {
      "model_module": "@jupyter-widgets/controls",
      "model_module_version": "2.0.0",
      "model_name": "FloatProgressModel",
      "state": {
       "layout": "IPY_MODEL_ea62ac67100e4348a41230d4bc83ee7b",
       "max": 673,
       "style": "IPY_MODEL_9b030546914445d7b08b37af0d45c95f",
       "value": 673
      }
     },
     "0196f9df4dd643a6917ac439de36cd7a": {
      "model_module": "@jupyter-widgets/base",
      "model_module_version": "2.0.0",
      "model_name": "LayoutModel",
      "state": {
       "visibility": "hidden"
      }
     },
     "01d990d7dc6240f5bd81b22283765c0d": {
      "model_module": "@jupyter-widgets/base",
      "model_module_version": "2.0.0",
      "model_name": "LayoutModel",
      "state": {}
     },
     "01e824e256d845b59db99db5ebdc6d58": {
      "model_module": "@jupyter-widgets/base",
      "model_module_version": "2.0.0",
      "model_name": "LayoutModel",
      "state": {}
     },
     "0200b87f847e45b6aa49794ad604b36d": {
      "model_module": "@jupyter-widgets/controls",
      "model_module_version": "2.0.0",
      "model_name": "HTMLStyleModel",
      "state": {
       "description_width": "",
       "font_size": null,
       "text_color": null
      }
     },
     "0223d929a432421fbf6312b91348120d": {
      "model_module": "@jupyter-widgets/controls",
      "model_module_version": "2.0.0",
      "model_name": "HTMLStyleModel",
      "state": {
       "description_width": "",
       "font_size": null,
       "text_color": null
      }
     },
     "03a83ca50cdb4ed192f6ff0a25595956": {
      "model_module": "@jupyter-widgets/base",
      "model_module_version": "2.0.0",
      "model_name": "LayoutModel",
      "state": {}
     },
     "03f0c9f7fe1649c484b61ac6e3e6abe4": {
      "model_module": "@jupyter-widgets/base",
      "model_module_version": "2.0.0",
      "model_name": "LayoutModel",
      "state": {
       "visibility": "hidden"
      }
     },
     "04045c7d7b954fe498b7db1348c68cc9": {
      "model_module": "@jupyter-widgets/base",
      "model_module_version": "2.0.0",
      "model_name": "LayoutModel",
      "state": {}
     },
     "055b21f78c09400f8161c825fdbe0656": {
      "model_module": "@jupyter-widgets/base",
      "model_module_version": "2.0.0",
      "model_name": "LayoutModel",
      "state": {}
     },
     "05737379025648e4a934c894f4e12d1d": {
      "model_module": "@jupyter-widgets/controls",
      "model_module_version": "2.0.0",
      "model_name": "HTMLModel",
      "state": {
       "layout": "IPY_MODEL_15d894537dc145939bca84e45c4263db",
       "style": "IPY_MODEL_b84beedfff594b89aac5d95d262b475a",
       "value": "100%"
      }
     },
     "06e48e548c30423d865cac6e07f3def4": {
      "model_module": "@jupyter-widgets/controls",
      "model_module_version": "2.0.0",
      "model_name": "HTMLStyleModel",
      "state": {
       "description_width": "",
       "font_size": null,
       "text_color": null
      }
     },
     "071fcd04154f41ac9788394d3866b529": {
      "model_module": "@jupyter-widgets/base",
      "model_module_version": "2.0.0",
      "model_name": "LayoutModel",
      "state": {}
     },
     "0805096757934c7fa22fae221d14ffa0": {
      "model_module": "@jupyter-widgets/controls",
      "model_module_version": "2.0.0",
      "model_name": "ProgressStyleModel",
      "state": {
       "description_width": ""
      }
     },
     "08a80d1e64ac44c7a5b2df7c55705b16": {
      "model_module": "@jupyter-widgets/controls",
      "model_module_version": "2.0.0",
      "model_name": "ProgressStyleModel",
      "state": {
       "description_width": ""
      }
     },
     "08d5d279595b41948dee0a7e50332b9e": {
      "model_module": "@jupyter-widgets/controls",
      "model_module_version": "2.0.0",
      "model_name": "FloatProgressModel",
      "state": {
       "layout": "IPY_MODEL_fdb2ad3921724ec78bd5e7b2ecf88848",
       "max": 673,
       "style": "IPY_MODEL_5a02e827e6a5441faaafe39b0ebfbb2c",
       "value": 673
      }
     },
     "08dc5f69543d4f37af26995fb10acb9f": {
      "model_module": "@jupyter-widgets/base",
      "model_module_version": "2.0.0",
      "model_name": "LayoutModel",
      "state": {}
     },
     "08fc445e19784937b6a1bab1bd4efa59": {
      "model_module": "@jupyter-widgets/controls",
      "model_module_version": "2.0.0",
      "model_name": "ProgressStyleModel",
      "state": {
       "description_width": ""
      }
     },
     "096b493ae2ea477590058f0cadea4d52": {
      "model_module": "@jupyter-widgets/controls",
      "model_module_version": "2.0.0",
      "model_name": "FloatProgressModel",
      "state": {
       "layout": "IPY_MODEL_9a33d5b3fb5c45ae8427f3564462e755",
       "max": 673,
       "style": "IPY_MODEL_e6f4f738bb82451f8eb8834e04eb0220",
       "value": 673
      }
     },
     "0abd3c53fcbf4068876a4e5213df28e7": {
      "model_module": "@jupyter-widgets/controls",
      "model_module_version": "2.0.0",
      "model_name": "HTMLModel",
      "state": {
       "layout": "IPY_MODEL_f60f512ef06a48b4ada00a163b7a2f39",
       "style": "IPY_MODEL_47cc93c6f96748ffb3bc51dc0cd8bd19",
       "value": "100%"
      }
     },
     "0ad7c13d9897498ab679158f7aa6194e": {
      "model_module": "@jupyter-widgets/controls",
      "model_module_version": "2.0.0",
      "model_name": "FloatProgressModel",
      "state": {
       "layout": "IPY_MODEL_b22be30026a44411b467f7218989d2f1",
       "max": 673,
       "style": "IPY_MODEL_fa84bfa2cea446698b2291b66e1613e7",
       "value": 673
      }
     },
     "0bd5e1fcc81e4c78bbdf8e92de10a130": {
      "model_module": "@jupyter-widgets/controls",
      "model_module_version": "2.0.0",
      "model_name": "HTMLStyleModel",
      "state": {
       "description_width": "",
       "font_size": null,
       "text_color": null
      }
     },
     "0c0055fda55a4ff0b6caa8e0bde665c8": {
      "model_module": "@jupyter-widgets/controls",
      "model_module_version": "2.0.0",
      "model_name": "ProgressStyleModel",
      "state": {
       "description_width": ""
      }
     },
     "0c5bfdc56af84937b46a04fe2ecbf50e": {
      "model_module": "@jupyter-widgets/base",
      "model_module_version": "2.0.0",
      "model_name": "LayoutModel",
      "state": {}
     },
     "0c75c21aceb6476f91b93a544a0beda5": {
      "model_module": "@jupyter-widgets/base",
      "model_module_version": "2.0.0",
      "model_name": "LayoutModel",
      "state": {}
     },
     "0d5557966e0a4ca18c4c2f63e3835989": {
      "model_module": "@jupyter-widgets/controls",
      "model_module_version": "2.0.0",
      "model_name": "FloatProgressModel",
      "state": {
       "layout": "IPY_MODEL_100e990de0dd43bfb69a6f532e2a522a",
       "max": 673,
       "style": "IPY_MODEL_9f81e9d2bb7d469b99ae3a8881cbc57d",
       "value": 673
      }
     },
     "0dbf092e0f2e443dab082ce20283d6d1": {
      "model_module": "@jupyter-widgets/controls",
      "model_module_version": "2.0.0",
      "model_name": "HTMLModel",
      "state": {
       "layout": "IPY_MODEL_27258feba1474e92abc70a75b790c066",
       "style": "IPY_MODEL_94fb7255bd57418ba394341a4f772d1e",
       "value": " 672/673 [01:37&lt;00:00,  7.56it/s]"
      }
     },
     "0dc56c33d9114b42866ba3b5936ebc5c": {
      "model_module": "@jupyter-widgets/base",
      "model_module_version": "2.0.0",
      "model_name": "LayoutModel",
      "state": {
       "visibility": "hidden"
      }
     },
     "0eb1ec4f14854ef8aca71f5f0475b82b": {
      "model_module": "@jupyter-widgets/controls",
      "model_module_version": "2.0.0",
      "model_name": "HTMLStyleModel",
      "state": {
       "description_width": "",
       "font_size": null,
       "text_color": null
      }
     },
     "0ebbd06cdf70455f8ff0d1104bc980ec": {
      "model_module": "@jupyter-widgets/controls",
      "model_module_version": "2.0.0",
      "model_name": "HTMLStyleModel",
      "state": {
       "description_width": "",
       "font_size": null,
       "text_color": null
      }
     },
     "0f44dd5d12e846ae92b93ff173d156dd": {
      "model_module": "@jupyter-widgets/controls",
      "model_module_version": "2.0.0",
      "model_name": "HTMLModel",
      "state": {
       "layout": "IPY_MODEL_7dec85751fad4108bc9ce30cdf5068e7",
       "style": "IPY_MODEL_7636cdaa9b1647ee9a3d2e3ecdde8be9",
       "value": "100%"
      }
     },
     "0f7d5e660fbd45d09aacb8fa83f90ea1": {
      "model_module": "@jupyter-widgets/base",
      "model_module_version": "2.0.0",
      "model_name": "LayoutModel",
      "state": {}
     },
     "0f9fe63c67504f7e9e7710c0ebb93484": {
      "model_module": "@jupyter-widgets/base",
      "model_module_version": "2.0.0",
      "model_name": "LayoutModel",
      "state": {}
     },
     "0fcb52940d224093a45850a3843cca93": {
      "model_module": "@jupyter-widgets/base",
      "model_module_version": "2.0.0",
      "model_name": "LayoutModel",
      "state": {}
     },
     "100e990de0dd43bfb69a6f532e2a522a": {
      "model_module": "@jupyter-widgets/base",
      "model_module_version": "2.0.0",
      "model_name": "LayoutModel",
      "state": {}
     },
     "1020325463a046629350583f8eae6a94": {
      "model_module": "@jupyter-widgets/controls",
      "model_module_version": "2.0.0",
      "model_name": "FloatProgressModel",
      "state": {
       "layout": "IPY_MODEL_dd740025647f4911b02cd2eddbb50c81",
       "max": 673,
       "style": "IPY_MODEL_de480a8a936d47ca8a75f127755d0577",
       "value": 673
      }
     },
     "1077b9d544864460945a035d2b45748a": {
      "model_module": "@jupyter-widgets/controls",
      "model_module_version": "2.0.0",
      "model_name": "HTMLModel",
      "state": {
       "layout": "IPY_MODEL_d1c24e30bf4a413d8f1f3f5a6384d2a8",
       "style": "IPY_MODEL_f80896f4fb1043f18200219a7c7b48d4",
       "value": "100%"
      }
     },
     "110795e120b048908a2edba7834547e7": {
      "model_module": "@jupyter-widgets/base",
      "model_module_version": "2.0.0",
      "model_name": "LayoutModel",
      "state": {
       "visibility": "hidden"
      }
     },
     "114a4446fa8146589aa82effaebe6db0": {
      "model_module": "@jupyter-widgets/controls",
      "model_module_version": "2.0.0",
      "model_name": "HTMLStyleModel",
      "state": {
       "description_width": "",
       "font_size": null,
       "text_color": null
      }
     },
     "119a04fcb40f48c3838e22388db556ba": {
      "model_module": "@jupyter-widgets/base",
      "model_module_version": "2.0.0",
      "model_name": "LayoutModel",
      "state": {}
     },
     "11c0317d31574dbab2a9ec7a60048c86": {
      "model_module": "@jupyter-widgets/controls",
      "model_module_version": "2.0.0",
      "model_name": "HTMLStyleModel",
      "state": {
       "description_width": "",
       "font_size": null,
       "text_color": null
      }
     },
     "11e81ec1c29d414b91a8d1e04f53436a": {
      "model_module": "@jupyter-widgets/controls",
      "model_module_version": "2.0.0",
      "model_name": "HTMLModel",
      "state": {
       "layout": "IPY_MODEL_e26918aad8de41589543adccd71d4cb1",
       "style": "IPY_MODEL_5009d5e97b2041ec90c06369c68353f4",
       "value": " 672/673 [01:38&lt;00:00,  7.53it/s]"
      }
     },
     "1236fe64214e4c7391fa1011e78e1e5e": {
      "model_module": "@jupyter-widgets/base",
      "model_module_version": "2.0.0",
      "model_name": "LayoutModel",
      "state": {}
     },
     "13976a77d2dc46519a6259f32307c2fb": {
      "model_module": "@jupyter-widgets/controls",
      "model_module_version": "2.0.0",
      "model_name": "HTMLStyleModel",
      "state": {
       "description_width": "",
       "font_size": null,
       "text_color": null
      }
     },
     "13a3a40d78704278b9a757df9b4107a7": {
      "model_module": "@jupyter-widgets/base",
      "model_module_version": "2.0.0",
      "model_name": "LayoutModel",
      "state": {}
     },
     "13c82e1bb16d41a18a364c1c07fba81d": {
      "model_module": "@jupyter-widgets/base",
      "model_module_version": "2.0.0",
      "model_name": "LayoutModel",
      "state": {}
     },
     "146a277d698646b1b757fa15a2ed841f": {
      "model_module": "@jupyter-widgets/controls",
      "model_module_version": "2.0.0",
      "model_name": "HTMLStyleModel",
      "state": {
       "description_width": "",
       "font_size": null,
       "text_color": null
      }
     },
     "14a2de2ee7004517bc333914873c0d64": {
      "model_module": "@jupyter-widgets/controls",
      "model_module_version": "2.0.0",
      "model_name": "HTMLModel",
      "state": {
       "layout": "IPY_MODEL_31ff0551f4954dc491fb998862b9d841",
       "style": "IPY_MODEL_2342d6bebb6e4ffd9f9d92c10f4de9c8",
       "value": "100%"
      }
     },
     "153e0d885c244da39f0232945a40a5d2": {
      "model_module": "@jupyter-widgets/controls",
      "model_module_version": "2.0.0",
      "model_name": "HTMLModel",
      "state": {
       "layout": "IPY_MODEL_39676fa5a2314fca83bc8004cb9fdcf3",
       "style": "IPY_MODEL_06e48e548c30423d865cac6e07f3def4",
       "value": "100%"
      }
     },
     "159763aa293446f8b338b9f7931014fb": {
      "model_module": "@jupyter-widgets/controls",
      "model_module_version": "2.0.0",
      "model_name": "HTMLModel",
      "state": {
       "layout": "IPY_MODEL_18991e0fd5324d5f80d3f007c159e3c0",
       "style": "IPY_MODEL_990f35e349aa49909d81f58459ef247b",
       "value": "100%"
      }
     },
     "15d894537dc145939bca84e45c4263db": {
      "model_module": "@jupyter-widgets/base",
      "model_module_version": "2.0.0",
      "model_name": "LayoutModel",
      "state": {}
     },
     "172ba48dc4e84dd582ca3d09f6b212fb": {
      "model_module": "@jupyter-widgets/controls",
      "model_module_version": "2.0.0",
      "model_name": "HTMLModel",
      "state": {
       "layout": "IPY_MODEL_362c88610bf542f8968d0eef2943cda4",
       "style": "IPY_MODEL_3bf70eb37b5c4192ba0f9d753e9a6c3c",
       "value": " 672/673 [01:38&lt;00:00,  7.59it/s]"
      }
     },
     "17d1a01a29aa468aa3599d6c0d2b54de": {
      "model_module": "@jupyter-widgets/controls",
      "model_module_version": "2.0.0",
      "model_name": "HTMLModel",
      "state": {
       "layout": "IPY_MODEL_2a28e3debc34419eb86ffb615a71168e",
       "style": "IPY_MODEL_f08169b146914859905921a3bf8ba3ba",
       "value": " 672/673 [01:39&lt;00:00,  7.50it/s]"
      }
     },
     "17d30513f07f4da0bc7e73d06419d2a2": {
      "model_module": "@jupyter-widgets/controls",
      "model_module_version": "2.0.0",
      "model_name": "FloatProgressModel",
      "state": {
       "layout": "IPY_MODEL_c4553ed3eb304dd28f4df46405590a62",
       "max": 673,
       "style": "IPY_MODEL_2c6ef88902904054bc48a4b4f0fa0213",
       "value": 673
      }
     },
     "18991e0fd5324d5f80d3f007c159e3c0": {
      "model_module": "@jupyter-widgets/base",
      "model_module_version": "2.0.0",
      "model_name": "LayoutModel",
      "state": {}
     },
     "18ab30e435a4481e8e8f7eae156b5524": {
      "model_module": "@jupyter-widgets/base",
      "model_module_version": "2.0.0",
      "model_name": "LayoutModel",
      "state": {
       "visibility": "hidden"
      }
     },
     "1970490e3d3f4cffa9c1569dbc40df80": {
      "model_module": "@jupyter-widgets/base",
      "model_module_version": "2.0.0",
      "model_name": "LayoutModel",
      "state": {}
     },
     "19acc27c894b443ea304b6c545abd879": {
      "model_module": "@jupyter-widgets/base",
      "model_module_version": "2.0.0",
      "model_name": "LayoutModel",
      "state": {}
     },
     "19f95e8405ff42ddb8e18070738e8996": {
      "model_module": "@jupyter-widgets/base",
      "model_module_version": "2.0.0",
      "model_name": "LayoutModel",
      "state": {}
     },
     "1ac111cb6ab944038f7da137aee3cf5b": {
      "model_module": "@jupyter-widgets/controls",
      "model_module_version": "2.0.0",
      "model_name": "FloatProgressModel",
      "state": {
       "layout": "IPY_MODEL_d11c4c57f7d14e8a9e20a6ebba3a4814",
       "max": 673,
       "style": "IPY_MODEL_45d91379d1d1457bb6b819c3163a1bef",
       "value": 673
      }
     },
     "1ae66d6b618149f999ab1c6a20a35d21": {
      "model_module": "@jupyter-widgets/base",
      "model_module_version": "2.0.0",
      "model_name": "LayoutModel",
      "state": {}
     },
     "1b4aab4b1f8c4b4ba1119ea5537871bf": {
      "model_module": "@jupyter-widgets/base",
      "model_module_version": "2.0.0",
      "model_name": "LayoutModel",
      "state": {
       "visibility": "hidden"
      }
     },
     "1b6f31a0f63c4eb884bd63c2f31d98e6": {
      "model_module": "@jupyter-widgets/controls",
      "model_module_version": "2.0.0",
      "model_name": "HTMLStyleModel",
      "state": {
       "description_width": "",
       "font_size": null,
       "text_color": null
      }
     },
     "1b723d595e414719b0f87fc6f7498bc6": {
      "model_module": "@jupyter-widgets/base",
      "model_module_version": "2.0.0",
      "model_name": "LayoutModel",
      "state": {}
     },
     "1b92ee53471443769367cf60f4fe657e": {
      "model_module": "@jupyter-widgets/controls",
      "model_module_version": "2.0.0",
      "model_name": "ProgressStyleModel",
      "state": {
       "description_width": ""
      }
     },
     "1c3c0df0085a47dbabb137e6c5679351": {
      "model_module": "@jupyter-widgets/controls",
      "model_module_version": "2.0.0",
      "model_name": "HTMLModel",
      "state": {
       "layout": "IPY_MODEL_8604bd3ebb6942eca38a215882ea4862",
       "style": "IPY_MODEL_b184855dcb4c405cac72c87d5caf6d38",
       "value": " 672/673 [01:38&lt;00:00,  7.52it/s]"
      }
     },
     "1dbab0c1eb6541aba7aa774f936e3717": {
      "model_module": "@jupyter-widgets/controls",
      "model_module_version": "2.0.0",
      "model_name": "HTMLModel",
      "state": {
       "layout": "IPY_MODEL_68a93a1b0d0340a59a963cb23613364f",
       "style": "IPY_MODEL_90a99d8fda454b1384b275fcfded5884",
       "value": " 672/673 [01:40&lt;00:00,  7.38it/s]"
      }
     },
     "1dcf1e91f5fc4c8a84dc2f607fb2b71e": {
      "model_module": "@jupyter-widgets/base",
      "model_module_version": "2.0.0",
      "model_name": "LayoutModel",
      "state": {}
     },
     "1e0b23d4980345d8a195a2001251f54c": {
      "model_module": "@jupyter-widgets/base",
      "model_module_version": "2.0.0",
      "model_name": "LayoutModel",
      "state": {}
     },
     "1e1e9f90577746c18ea949c94161f7f9": {
      "model_module": "@jupyter-widgets/base",
      "model_module_version": "2.0.0",
      "model_name": "LayoutModel",
      "state": {}
     },
     "1e582fe253f8421fb67d0fb3820b0bf6": {
      "model_module": "@jupyter-widgets/base",
      "model_module_version": "2.0.0",
      "model_name": "LayoutModel",
      "state": {}
     },
     "1e86f9ae3d8049d4b95c55825e37613e": {
      "model_module": "@jupyter-widgets/controls",
      "model_module_version": "2.0.0",
      "model_name": "HTMLModel",
      "state": {
       "layout": "IPY_MODEL_62c7c78f5daa40cba9cb3a831eef8237",
       "style": "IPY_MODEL_db168913412c4553ac2d024550263e7f",
       "value": "100%"
      }
     },
     "1eafba85329c43dc83d811da706b73c3": {
      "model_module": "@jupyter-widgets/controls",
      "model_module_version": "2.0.0",
      "model_name": "ProgressStyleModel",
      "state": {
       "description_width": ""
      }
     },
     "20a2f5dcf10946bb8c11daa1af342d1b": {
      "model_module": "@jupyter-widgets/base",
      "model_module_version": "2.0.0",
      "model_name": "LayoutModel",
      "state": {}
     },
     "20f66e717f404ff2bdf80adab90a0387": {
      "model_module": "@jupyter-widgets/controls",
      "model_module_version": "2.0.0",
      "model_name": "ProgressStyleModel",
      "state": {
       "description_width": ""
      }
     },
     "21439b275ea7456b9dc0d0acdfb4b7ad": {
      "model_module": "@jupyter-widgets/controls",
      "model_module_version": "2.0.0",
      "model_name": "HTMLStyleModel",
      "state": {
       "description_width": "",
       "font_size": null,
       "text_color": null
      }
     },
     "2146be4ac8694191a487e61740dbad67": {
      "model_module": "@jupyter-widgets/controls",
      "model_module_version": "2.0.0",
      "model_name": "HTMLModel",
      "state": {
       "layout": "IPY_MODEL_ec7b10a72c89449bb6673b44a884da28",
       "style": "IPY_MODEL_37344dbd76934223b0add1f70369c018",
       "value": " 672/673 [01:42&lt;00:00,  7.40it/s]"
      }
     },
     "215bc7f094dd4190a612897eb22c3ad8": {
      "model_module": "@jupyter-widgets/base",
      "model_module_version": "2.0.0",
      "model_name": "LayoutModel",
      "state": {}
     },
     "222ce16792074c7f84e7f97782d4b285": {
      "model_module": "@jupyter-widgets/controls",
      "model_module_version": "2.0.0",
      "model_name": "FloatProgressModel",
      "state": {
       "layout": "IPY_MODEL_59ba6b740f8745208b36fd187484953b",
       "max": 673,
       "style": "IPY_MODEL_9e4e5127e66d410f8687f2bf650da210",
       "value": 673
      }
     },
     "224f94fd2f714464bf512add6c11c033": {
      "model_module": "@jupyter-widgets/controls",
      "model_module_version": "2.0.0",
      "model_name": "HTMLStyleModel",
      "state": {
       "description_width": "",
       "font_size": null,
       "text_color": null
      }
     },
     "2284bdb82a2949a58182b4ca817aa7e7": {
      "model_module": "@jupyter-widgets/base",
      "model_module_version": "2.0.0",
      "model_name": "LayoutModel",
      "state": {}
     },
     "230d48d6daec4f3da1092b32403f3c4e": {
      "model_module": "@jupyter-widgets/base",
      "model_module_version": "2.0.0",
      "model_name": "LayoutModel",
      "state": {}
     },
     "2342d6bebb6e4ffd9f9d92c10f4de9c8": {
      "model_module": "@jupyter-widgets/controls",
      "model_module_version": "2.0.0",
      "model_name": "HTMLStyleModel",
      "state": {
       "description_width": "",
       "font_size": null,
       "text_color": null
      }
     },
     "2350c3201aec4c5593ab96e2e2f35b45": {
      "model_module": "@jupyter-widgets/controls",
      "model_module_version": "2.0.0",
      "model_name": "HTMLStyleModel",
      "state": {
       "description_width": "",
       "font_size": null,
       "text_color": null
      }
     },
     "23be2ab9d5a046fb99eae51bda28fb2f": {
      "model_module": "@jupyter-widgets/controls",
      "model_module_version": "2.0.0",
      "model_name": "HTMLStyleModel",
      "state": {
       "description_width": "",
       "font_size": null,
       "text_color": null
      }
     },
     "24f41a8d31af4f78952b2a3dd0ecd07f": {
      "model_module": "@jupyter-widgets/controls",
      "model_module_version": "2.0.0",
      "model_name": "HTMLModel",
      "state": {
       "layout": "IPY_MODEL_862d7bd9f6dd4f2fb2f02f7c3bdb5637",
       "style": "IPY_MODEL_146a277d698646b1b757fa15a2ed841f",
       "value": " 672/673 [01:37&lt;00:00,  7.68it/s]"
      }
     },
     "2556093aee0b48a7a2bd7914a8d0ef6a": {
      "model_module": "@jupyter-widgets/controls",
      "model_module_version": "2.0.0",
      "model_name": "HTMLStyleModel",
      "state": {
       "description_width": "",
       "font_size": null,
       "text_color": null
      }
     },
     "25951281a06e40b380e78f750d300bbf": {
      "model_module": "@jupyter-widgets/controls",
      "model_module_version": "2.0.0",
      "model_name": "HTMLStyleModel",
      "state": {
       "description_width": "",
       "font_size": null,
       "text_color": null
      }
     },
     "27258feba1474e92abc70a75b790c066": {
      "model_module": "@jupyter-widgets/base",
      "model_module_version": "2.0.0",
      "model_name": "LayoutModel",
      "state": {}
     },
     "27556bf621114e12ac3aff4108bd6a9d": {
      "model_module": "@jupyter-widgets/controls",
      "model_module_version": "2.0.0",
      "model_name": "HTMLStyleModel",
      "state": {
       "description_width": "",
       "font_size": null,
       "text_color": null
      }
     },
     "27cdc3790289430092ce04d54c79f64f": {
      "model_module": "@jupyter-widgets/controls",
      "model_module_version": "2.0.0",
      "model_name": "HTMLModel",
      "state": {
       "layout": "IPY_MODEL_5fdd845403b64e6cb0ad52b5c99c98d5",
       "style": "IPY_MODEL_2e929d306228418a88e10aac143c1500",
       "value": "epoch:   0%"
      }
     },
     "282cc47d047144fb866572eb3b122b18": {
      "model_module": "@jupyter-widgets/controls",
      "model_module_version": "2.0.0",
      "model_name": "ProgressStyleModel",
      "state": {
       "description_width": ""
      }
     },
     "283cc350021e49d3974aec53f7de2ed6": {
      "model_module": "@jupyter-widgets/base",
      "model_module_version": "2.0.0",
      "model_name": "LayoutModel",
      "state": {}
     },
     "284874c9af1941789c9d94afbc4a03f9": {
      "model_module": "@jupyter-widgets/controls",
      "model_module_version": "2.0.0",
      "model_name": "HTMLModel",
      "state": {
       "layout": "IPY_MODEL_542e8494573a4795b8993cbb20da21c4",
       "style": "IPY_MODEL_b6c51399d74246cfb14d73d215ce0e8e",
       "value": "100%"
      }
     },
     "286309cda38c4edc847e857509498bff": {
      "model_module": "@jupyter-widgets/controls",
      "model_module_version": "2.0.0",
      "model_name": "HTMLModel",
      "state": {
       "layout": "IPY_MODEL_0f9fe63c67504f7e9e7710c0ebb93484",
       "style": "IPY_MODEL_2983699557ec489786a6f5b6cc9f3364",
       "value": " 672/673 [01:38&lt;00:00,  7.47it/s]"
      }
     },
     "2873a0bc807e4aaa9e6bd46b03dd2903": {
      "model_module": "@jupyter-widgets/controls",
      "model_module_version": "2.0.0",
      "model_name": "HTMLStyleModel",
      "state": {
       "description_width": "",
       "font_size": null,
       "text_color": null
      }
     },
     "2897b2cf9082456eab57a800f40ca0b8": {
      "model_module": "@jupyter-widgets/base",
      "model_module_version": "2.0.0",
      "model_name": "LayoutModel",
      "state": {}
     },
     "289db4a2f824412e91687a431fc32627": {
      "model_module": "@jupyter-widgets/controls",
      "model_module_version": "2.0.0",
      "model_name": "HTMLModel",
      "state": {
       "layout": "IPY_MODEL_db416890b5ec4699924cfa12e1319df7",
       "style": "IPY_MODEL_696fb72f402445a5a034e095dd9ba454",
       "value": " 672/673 [01:38&lt;00:00,  7.51it/s]"
      }
     },
     "28cf11d6b00e4654a393b7a43a829c02": {
      "model_module": "@jupyter-widgets/base",
      "model_module_version": "2.0.0",
      "model_name": "LayoutModel",
      "state": {}
     },
     "28d2a8fb438246de809d43b5fe80de15": {
      "model_module": "@jupyter-widgets/base",
      "model_module_version": "2.0.0",
      "model_name": "LayoutModel",
      "state": {
       "visibility": "hidden"
      }
     },
     "28f436ad2cc94cf886c64114dd29f6e0": {
      "model_module": "@jupyter-widgets/controls",
      "model_module_version": "2.0.0",
      "model_name": "HTMLStyleModel",
      "state": {
       "description_width": "",
       "font_size": null,
       "text_color": null
      }
     },
     "295633369e9c4923a1ee9448f6864dc9": {
      "model_module": "@jupyter-widgets/base",
      "model_module_version": "2.0.0",
      "model_name": "LayoutModel",
      "state": {
       "visibility": "hidden"
      }
     },
     "2983699557ec489786a6f5b6cc9f3364": {
      "model_module": "@jupyter-widgets/controls",
      "model_module_version": "2.0.0",
      "model_name": "HTMLStyleModel",
      "state": {
       "description_width": "",
       "font_size": null,
       "text_color": null
      }
     },
     "29fa86e37bf44c5a91e4d960ac2e80bf": {
      "model_module": "@jupyter-widgets/base",
      "model_module_version": "2.0.0",
      "model_name": "LayoutModel",
      "state": {}
     },
     "2a28aaa931dc496ea0dc072d900fe91b": {
      "model_module": "@jupyter-widgets/controls",
      "model_module_version": "2.0.0",
      "model_name": "HTMLStyleModel",
      "state": {
       "description_width": "",
       "font_size": null,
       "text_color": null
      }
     },
     "2a28e3debc34419eb86ffb615a71168e": {
      "model_module": "@jupyter-widgets/base",
      "model_module_version": "2.0.0",
      "model_name": "LayoutModel",
      "state": {}
     },
     "2a293563fe6846d3aaa85ebe3f0f40ab": {
      "model_module": "@jupyter-widgets/base",
      "model_module_version": "2.0.0",
      "model_name": "LayoutModel",
      "state": {
       "visibility": "hidden"
      }
     },
     "2a58f4a33fd74b2c9d25b52af6b1bfb6": {
      "model_module": "@jupyter-widgets/controls",
      "model_module_version": "2.0.0",
      "model_name": "HTMLModel",
      "state": {
       "layout": "IPY_MODEL_387f8d38dab4483ca1a88bc91f1ef705",
       "style": "IPY_MODEL_96b83b26902e42bca82edc922bc0f7a4",
       "value": " 672/673 [01:37&lt;00:00,  7.53it/s]"
      }
     },
     "2affa5455b9a4aca8ddcd72b63221e39": {
      "model_module": "@jupyter-widgets/controls",
      "model_module_version": "2.0.0",
      "model_name": "HTMLModel",
      "state": {
       "layout": "IPY_MODEL_ed914f766b534907b0260aacfaf2b221",
       "style": "IPY_MODEL_6d1d7a51b5774bc2a91bd6ec712fa657",
       "value": " 672/673 [01:45&lt;00:00,  7.38it/s]"
      }
     },
     "2b09a0544853495682ad9c2b7a8c6ff5": {
      "model_module": "@jupyter-widgets/controls",
      "model_module_version": "2.0.0",
      "model_name": "HTMLStyleModel",
      "state": {
       "description_width": "",
       "font_size": null,
       "text_color": null
      }
     },
     "2b1c6385eaa843ed848914375cbfc479": {
      "model_module": "@jupyter-widgets/base",
      "model_module_version": "2.0.0",
      "model_name": "LayoutModel",
      "state": {}
     },
     "2bae072f3a8e41b39e426f6301b2faf9": {
      "model_module": "@jupyter-widgets/controls",
      "model_module_version": "2.0.0",
      "model_name": "FloatProgressModel",
      "state": {
       "layout": "IPY_MODEL_88c003fe47a24950aaf472feaf2e6401",
       "max": 673,
       "style": "IPY_MODEL_84c56e9f53354c4f83859379e4c5b9f6",
       "value": 673
      }
     },
     "2bd1b4b52d084a1386d91a8e62a57bf2": {
      "model_module": "@jupyter-widgets/controls",
      "model_module_version": "2.0.0",
      "model_name": "HTMLStyleModel",
      "state": {
       "description_width": "",
       "font_size": null,
       "text_color": null
      }
     },
     "2c0d138700be44a9a50c3699b3f2d395": {
      "model_module": "@jupyter-widgets/controls",
      "model_module_version": "2.0.0",
      "model_name": "HTMLModel",
      "state": {
       "layout": "IPY_MODEL_79f1311b35bc420f985285bee00736b0",
       "style": "IPY_MODEL_cbdb6e373d994dd79cbaaffb2df3d50d",
       "value": " 672/673 [01:40&lt;00:00,  7.63it/s]"
      }
     },
     "2c6ef88902904054bc48a4b4f0fa0213": {
      "model_module": "@jupyter-widgets/controls",
      "model_module_version": "2.0.0",
      "model_name": "ProgressStyleModel",
      "state": {
       "description_width": ""
      }
     },
     "2c7289bced62405b9390a03ae95cd259": {
      "model_module": "@jupyter-widgets/base",
      "model_module_version": "2.0.0",
      "model_name": "LayoutModel",
      "state": {
       "visibility": "hidden"
      }
     },
     "2c8a3d24eb82479e8c1e193dfcea6324": {
      "model_module": "@jupyter-widgets/controls",
      "model_module_version": "2.0.0",
      "model_name": "HTMLStyleModel",
      "state": {
       "description_width": "",
       "font_size": null,
       "text_color": null
      }
     },
     "2c8b69859b6b45c58496744e927746ce": {
      "model_module": "@jupyter-widgets/controls",
      "model_module_version": "2.0.0",
      "model_name": "HTMLModel",
      "state": {
       "layout": "IPY_MODEL_2dc06954c16a499eb49f16b9b38d7e82",
       "style": "IPY_MODEL_96f7eb635ebd42eca32c9641f75676ec",
       "value": "100%"
      }
     },
     "2d2401df5cd5475ab3916e60ad353bce": {
      "model_module": "@jupyter-widgets/controls",
      "model_module_version": "2.0.0",
      "model_name": "ProgressStyleModel",
      "state": {
       "description_width": ""
      }
     },
     "2d4a8709bbcb47feaaa95a3ad50b6a4d": {
      "model_module": "@jupyter-widgets/controls",
      "model_module_version": "2.0.0",
      "model_name": "FloatProgressModel",
      "state": {
       "layout": "IPY_MODEL_c5259746fed24ba8afe9e206588141d6",
       "max": 673,
       "style": "IPY_MODEL_08fc445e19784937b6a1bab1bd4efa59",
       "value": 673
      }
     },
     "2d5110f987234368b4ea9ca784874b44": {
      "model_module": "@jupyter-widgets/controls",
      "model_module_version": "2.0.0",
      "model_name": "HTMLStyleModel",
      "state": {
       "description_width": "",
       "font_size": null,
       "text_color": null
      }
     },
     "2d6106ec7b0d448796990b01f3a85b78": {
      "model_module": "@jupyter-widgets/base",
      "model_module_version": "2.0.0",
      "model_name": "LayoutModel",
      "state": {}
     },
     "2da5321f7e564deeb4a90c3d52e2cbf7": {
      "model_module": "@jupyter-widgets/controls",
      "model_module_version": "2.0.0",
      "model_name": "FloatProgressModel",
      "state": {
       "layout": "IPY_MODEL_8f6348edae774ada8b498f78abefb9da",
       "max": 673,
       "style": "IPY_MODEL_a6a0d4822a1c49ebb24036a8a540ae39",
       "value": 673
      }
     },
     "2dc06954c16a499eb49f16b9b38d7e82": {
      "model_module": "@jupyter-widgets/base",
      "model_module_version": "2.0.0",
      "model_name": "LayoutModel",
      "state": {}
     },
     "2de2ec984cba458c89d2478f1b05a207": {
      "model_module": "@jupyter-widgets/base",
      "model_module_version": "2.0.0",
      "model_name": "LayoutModel",
      "state": {}
     },
     "2e0254098b174ac2999a539b41873119": {
      "model_module": "@jupyter-widgets/controls",
      "model_module_version": "2.0.0",
      "model_name": "HTMLModel",
      "state": {
       "layout": "IPY_MODEL_be0876a2d47d4bb09e4eec368ed52a37",
       "style": "IPY_MODEL_daf4f349090c45ef98967774b3c13393",
       "value": "epoch: 100%"
      }
     },
     "2e05f85852de412eb95d42e19388b03d": {
      "model_module": "@jupyter-widgets/base",
      "model_module_version": "2.0.0",
      "model_name": "LayoutModel",
      "state": {
       "visibility": "hidden"
      }
     },
     "2e765e79f89d41dfa802d552947f941e": {
      "model_module": "@jupyter-widgets/controls",
      "model_module_version": "2.0.0",
      "model_name": "HTMLStyleModel",
      "state": {
       "description_width": "",
       "font_size": null,
       "text_color": null
      }
     },
     "2e80fbea7de54b519ac54219aeaecc26": {
      "model_module": "@jupyter-widgets/base",
      "model_module_version": "2.0.0",
      "model_name": "LayoutModel",
      "state": {}
     },
     "2e929d306228418a88e10aac143c1500": {
      "model_module": "@jupyter-widgets/controls",
      "model_module_version": "2.0.0",
      "model_name": "HTMLStyleModel",
      "state": {
       "description_width": "",
       "font_size": null,
       "text_color": null
      }
     },
     "2ec625e1a6004299a4e9826b1ccde594": {
      "model_module": "@jupyter-widgets/controls",
      "model_module_version": "2.0.0",
      "model_name": "FloatProgressModel",
      "state": {
       "layout": "IPY_MODEL_8f39993b5153498693c46633774406af",
       "max": 673,
       "style": "IPY_MODEL_3e5360fc8a754dfbb65727394f3664c4",
       "value": 673
      }
     },
     "2f3c4afcfa644de2a33dbb03c146ca27": {
      "model_module": "@jupyter-widgets/controls",
      "model_module_version": "2.0.0",
      "model_name": "HTMLStyleModel",
      "state": {
       "description_width": "",
       "font_size": null,
       "text_color": null
      }
     },
     "2face27a5d6d49fd82e96907f9d6b8b5": {
      "model_module": "@jupyter-widgets/base",
      "model_module_version": "2.0.0",
      "model_name": "LayoutModel",
      "state": {}
     },
     "2ffb96da29dc4020a2784e42d808dd45": {
      "model_module": "@jupyter-widgets/controls",
      "model_module_version": "2.0.0",
      "model_name": "HTMLModel",
      "state": {
       "layout": "IPY_MODEL_d2ab89f677d044a2ac33625e9820ba8e",
       "style": "IPY_MODEL_2873a0bc807e4aaa9e6bd46b03dd2903",
       "value": "100%"
      }
     },
     "30c429ba698f4243be0bb834367e8fa0": {
      "model_module": "@jupyter-widgets/controls",
      "model_module_version": "2.0.0",
      "model_name": "ProgressStyleModel",
      "state": {
       "description_width": ""
      }
     },
     "31e86d7d053d4d3183dd2877edf74031": {
      "model_module": "@jupyter-widgets/controls",
      "model_module_version": "2.0.0",
      "model_name": "HTMLStyleModel",
      "state": {
       "description_width": "",
       "font_size": null,
       "text_color": null
      }
     },
     "31ff0551f4954dc491fb998862b9d841": {
      "model_module": "@jupyter-widgets/base",
      "model_module_version": "2.0.0",
      "model_name": "LayoutModel",
      "state": {}
     },
     "320c74e1040748d6a9145b95e77ad1e8": {
      "model_module": "@jupyter-widgets/base",
      "model_module_version": "2.0.0",
      "model_name": "LayoutModel",
      "state": {}
     },
     "3223a2221ef14b3f91955903e8673fea": {
      "model_module": "@jupyter-widgets/controls",
      "model_module_version": "2.0.0",
      "model_name": "HTMLStyleModel",
      "state": {
       "description_width": "",
       "font_size": null,
       "text_color": null
      }
     },
     "3319e85740f54af0abc0303cdafae9c9": {
      "model_module": "@jupyter-widgets/controls",
      "model_module_version": "2.0.0",
      "model_name": "HTMLStyleModel",
      "state": {
       "description_width": "",
       "font_size": null,
       "text_color": null
      }
     },
     "33416fbfb15d42fb8d583ecd8e668e4c": {
      "model_module": "@jupyter-widgets/base",
      "model_module_version": "2.0.0",
      "model_name": "LayoutModel",
      "state": {}
     },
     "348107093d2045f78580462071387e62": {
      "model_module": "@jupyter-widgets/controls",
      "model_module_version": "2.0.0",
      "model_name": "HTMLStyleModel",
      "state": {
       "description_width": "",
       "font_size": null,
       "text_color": null
      }
     },
     "3522ec308e88430cb307baff14928b1a": {
      "model_module": "@jupyter-widgets/controls",
      "model_module_version": "2.0.0",
      "model_name": "HTMLStyleModel",
      "state": {
       "description_width": "",
       "font_size": null,
       "text_color": null
      }
     },
     "354747b54fb841f6a6abbbe930e5b0ce": {
      "model_module": "@jupyter-widgets/base",
      "model_module_version": "2.0.0",
      "model_name": "LayoutModel",
      "state": {
       "visibility": "hidden"
      }
     },
     "35511b184e0343f0a01fdc54a1fdd31e": {
      "model_module": "@jupyter-widgets/controls",
      "model_module_version": "2.0.0",
      "model_name": "HBoxModel",
      "state": {
       "children": [
        "IPY_MODEL_27cdc3790289430092ce04d54c79f64f",
        "IPY_MODEL_922e302eaf0749139e469137b3435d25",
        "IPY_MODEL_54521960e03c489385abaece8d9fe399"
       ],
       "layout": "IPY_MODEL_4862c5c5470a4b49bb04eaf8a95537dd"
      }
     },
     "3560db34e7784eafbc78b24d225e9b13": {
      "model_module": "@jupyter-widgets/controls",
      "model_module_version": "2.0.0",
      "model_name": "HBoxModel",
      "state": {
       "children": [
        "IPY_MODEL_2e0254098b174ac2999a539b41873119",
        "IPY_MODEL_e0055d04bed7453d84f60825641a2ea1",
        "IPY_MODEL_d0f73d5e754f4691b7639af0371b1f2d"
       ],
       "layout": "IPY_MODEL_215bc7f094dd4190a612897eb22c3ad8"
      }
     },
     "359721849cde4562a80a4a5cf61a9c53": {
      "model_module": "@jupyter-widgets/controls",
      "model_module_version": "2.0.0",
      "model_name": "FloatProgressModel",
      "state": {
       "layout": "IPY_MODEL_7b637361115640f59ea11e225ead41fb",
       "max": 673,
       "style": "IPY_MODEL_c42de4c6630c413e85d4c7812e33eaf2",
       "value": 673
      }
     },
     "362c88610bf542f8968d0eef2943cda4": {
      "model_module": "@jupyter-widgets/base",
      "model_module_version": "2.0.0",
      "model_name": "LayoutModel",
      "state": {}
     },
     "37344dbd76934223b0add1f70369c018": {
      "model_module": "@jupyter-widgets/controls",
      "model_module_version": "2.0.0",
      "model_name": "HTMLStyleModel",
      "state": {
       "description_width": "",
       "font_size": null,
       "text_color": null
      }
     },
     "37e2cbb32bc14240accf45024b3f957c": {
      "model_module": "@jupyter-widgets/controls",
      "model_module_version": "2.0.0",
      "model_name": "FloatProgressModel",
      "state": {
       "layout": "IPY_MODEL_33416fbfb15d42fb8d583ecd8e668e4c",
       "max": 17453,
       "style": "IPY_MODEL_7660dde812b4434b81961efdc44592cb",
       "value": 17453
      }
     },
     "37f05d894ae54541a5e976339c031c86": {
      "model_module": "@jupyter-widgets/base",
      "model_module_version": "2.0.0",
      "model_name": "LayoutModel",
      "state": {}
     },
     "3804aec5f30f4cd398fa5b16efa44566": {
      "model_module": "@jupyter-widgets/base",
      "model_module_version": "2.0.0",
      "model_name": "LayoutModel",
      "state": {}
     },
     "387f8d38dab4483ca1a88bc91f1ef705": {
      "model_module": "@jupyter-widgets/base",
      "model_module_version": "2.0.0",
      "model_name": "LayoutModel",
      "state": {}
     },
     "390bbea9dac64e7394a307e06d278a0b": {
      "model_module": "@jupyter-widgets/base",
      "model_module_version": "2.0.0",
      "model_name": "LayoutModel",
      "state": {
       "visibility": "hidden"
      }
     },
     "39487d595c5f403882dc080c32a75b6a": {
      "model_module": "@jupyter-widgets/base",
      "model_module_version": "2.0.0",
      "model_name": "LayoutModel",
      "state": {}
     },
     "39676fa5a2314fca83bc8004cb9fdcf3": {
      "model_module": "@jupyter-widgets/base",
      "model_module_version": "2.0.0",
      "model_name": "LayoutModel",
      "state": {}
     },
     "39bf0f2404e74954977572f2af57061a": {
      "model_module": "@jupyter-widgets/controls",
      "model_module_version": "2.0.0",
      "model_name": "HTMLModel",
      "state": {
       "layout": "IPY_MODEL_bc0c07cf60004005bd05c51a1dadb0a4",
       "style": "IPY_MODEL_fd3f457faaa44704ae0c94e0d3e013f6",
       "value": "100%"
      }
     },
     "39d30e5abf604ac899b9c69952a52cb5": {
      "model_module": "@jupyter-widgets/base",
      "model_module_version": "2.0.0",
      "model_name": "LayoutModel",
      "state": {
       "width": "20px"
      }
     },
     "39e7297635274e4cbda220d48ae4eae3": {
      "model_module": "@jupyter-widgets/base",
      "model_module_version": "2.0.0",
      "model_name": "LayoutModel",
      "state": {}
     },
     "3a41637f49754c18b3ab1cfbeeda051b": {
      "model_module": "@jupyter-widgets/controls",
      "model_module_version": "2.0.0",
      "model_name": "HTMLStyleModel",
      "state": {
       "description_width": "",
       "font_size": null,
       "text_color": null
      }
     },
     "3a8062ac1f284213b06e7ec193195f22": {
      "model_module": "@jupyter-widgets/controls",
      "model_module_version": "2.0.0",
      "model_name": "HTMLStyleModel",
      "state": {
       "description_width": "",
       "font_size": null,
       "text_color": null
      }
     },
     "3a9c9dc44dfc456f8be135c4569ddf3d": {
      "model_module": "@jupyter-widgets/base",
      "model_module_version": "2.0.0",
      "model_name": "LayoutModel",
      "state": {}
     },
     "3a9e51f27cfc4f958c0f64e00d551305": {
      "model_module": "@jupyter-widgets/controls",
      "model_module_version": "2.0.0",
      "model_name": "HBoxModel",
      "state": {
       "children": [
        "IPY_MODEL_a2bcbd826bd0439990f2d349322422c3",
        "IPY_MODEL_c31d09d8900a46f7961a83a4e6eb40c2",
        "IPY_MODEL_bd87c77e3b6643a4af0ad063bbca4ff8"
       ],
       "layout": "IPY_MODEL_7d917a13b7e44b1c871a79eec71bb3c7"
      }
     },
     "3ad3daaa63de4153af9f4cef69c8c6c1": {
      "model_module": "@jupyter-widgets/controls",
      "model_module_version": "2.0.0",
      "model_name": "ProgressStyleModel",
      "state": {
       "description_width": ""
      }
     },
     "3b3e1f1b4da64fc68cd7f2c65d040d15": {
      "model_module": "@jupyter-widgets/controls",
      "model_module_version": "2.0.0",
      "model_name": "ProgressStyleModel",
      "state": {
       "description_width": ""
      }
     },
     "3b99caabcba443638005abf0581edb2b": {
      "model_module": "@jupyter-widgets/controls",
      "model_module_version": "2.0.0",
      "model_name": "HTMLStyleModel",
      "state": {
       "description_width": "",
       "font_size": null,
       "text_color": null
      }
     },
     "3ba7404daef745fa8b9faedb59e6d8ab": {
      "model_module": "@jupyter-widgets/controls",
      "model_module_version": "2.0.0",
      "model_name": "HTMLModel",
      "state": {
       "layout": "IPY_MODEL_a146f719065f46589e3b2fb290443524",
       "style": "IPY_MODEL_f834a79f955c4457a78d7dc8e2830d2e",
       "value": "100%"
      }
     },
     "3bf70eb37b5c4192ba0f9d753e9a6c3c": {
      "model_module": "@jupyter-widgets/controls",
      "model_module_version": "2.0.0",
      "model_name": "HTMLStyleModel",
      "state": {
       "description_width": "",
       "font_size": null,
       "text_color": null
      }
     },
     "3c1bf3ea571e43bd89186c8b374a6e17": {
      "model_module": "@jupyter-widgets/controls",
      "model_module_version": "2.0.0",
      "model_name": "HTMLStyleModel",
      "state": {
       "description_width": "",
       "font_size": null,
       "text_color": null
      }
     },
     "3c298c57a1cf4698a272089c42a31333": {
      "model_module": "@jupyter-widgets/controls",
      "model_module_version": "2.0.0",
      "model_name": "HTMLModel",
      "state": {
       "layout": "IPY_MODEL_f5019ea2fad54befa0266bf4f484f317",
       "style": "IPY_MODEL_4e3961f0d0f94f7995351459add3ff4f",
       "value": " 672/673 [01:37&lt;00:00,  7.58it/s]"
      }
     },
     "3cae6287c3d84f2fbeb07a62adadd5e3": {
      "model_module": "@jupyter-widgets/controls",
      "model_module_version": "2.0.0",
      "model_name": "ProgressStyleModel",
      "state": {
       "description_width": ""
      }
     },
     "3cdadf33849540baa99bb3f3769dad9f": {
      "model_module": "@jupyter-widgets/controls",
      "model_module_version": "2.0.0",
      "model_name": "HTMLModel",
      "state": {
       "layout": "IPY_MODEL_004249a985cc420a94089ec05d954239",
       "style": "IPY_MODEL_5de82db2e391433dbce43852b6130035",
       "value": "100%"
      }
     },
     "3cff49d05d234efbad1c9db6cd174748": {
      "model_module": "@jupyter-widgets/controls",
      "model_module_version": "2.0.0",
      "model_name": "HTMLModel",
      "state": {
       "layout": "IPY_MODEL_84d4cec8109a4f6fa2b2e268ddc55f60",
       "style": "IPY_MODEL_c91bcb7a41f54161a0a696522e0f29a8",
       "value": " 672/673 [01:36&lt;00:00,  7.58it/s]"
      }
     },
     "3d0c56a541dd4b139dd045e11ec00af1": {
      "model_module": "@jupyter-widgets/controls",
      "model_module_version": "2.0.0",
      "model_name": "HTMLModel",
      "state": {
       "layout": "IPY_MODEL_3804aec5f30f4cd398fa5b16efa44566",
       "style": "IPY_MODEL_28f436ad2cc94cf886c64114dd29f6e0",
       "value": "100%"
      }
     },
     "3d4cf23244e742a289a0911aae594c6c": {
      "model_module": "@jupyter-widgets/base",
      "model_module_version": "2.0.0",
      "model_name": "LayoutModel",
      "state": {}
     },
     "3dbb74a19bae4653b57635025ae87a0f": {
      "model_module": "@jupyter-widgets/controls",
      "model_module_version": "2.0.0",
      "model_name": "ProgressStyleModel",
      "state": {
       "description_width": ""
      }
     },
     "3dea6b5263424310912c9ef04c44e527": {
      "model_module": "@jupyter-widgets/controls",
      "model_module_version": "2.0.0",
      "model_name": "HTMLStyleModel",
      "state": {
       "description_width": "",
       "font_size": null,
       "text_color": null
      }
     },
     "3e48e79bbf584f168e61e902f4417710": {
      "model_module": "@jupyter-widgets/base",
      "model_module_version": "2.0.0",
      "model_name": "LayoutModel",
      "state": {}
     },
     "3e5360fc8a754dfbb65727394f3664c4": {
      "model_module": "@jupyter-widgets/controls",
      "model_module_version": "2.0.0",
      "model_name": "ProgressStyleModel",
      "state": {
       "description_width": ""
      }
     },
     "3ea50d6235a84f0898de18ff2f216e8f": {
      "model_module": "@jupyter-widgets/controls",
      "model_module_version": "2.0.0",
      "model_name": "ProgressStyleModel",
      "state": {
       "description_width": ""
      }
     },
     "3f4fd75814f6499d8cc270c1ffb09ba4": {
      "model_module": "@jupyter-widgets/controls",
      "model_module_version": "2.0.0",
      "model_name": "ProgressStyleModel",
      "state": {
       "description_width": ""
      }
     },
     "3f64e6ad22c34f17b7f74a592f7d3eb9": {
      "model_module": "@jupyter-widgets/base",
      "model_module_version": "2.0.0",
      "model_name": "LayoutModel",
      "state": {}
     },
     "40251aec6a4f4c9d8074a206159321d4": {
      "model_module": "@jupyter-widgets/base",
      "model_module_version": "2.0.0",
      "model_name": "LayoutModel",
      "state": {
       "visibility": "hidden"
      }
     },
     "4040e03968d646b5a8bbb58f1d483e38": {
      "model_module": "@jupyter-widgets/base",
      "model_module_version": "2.0.0",
      "model_name": "LayoutModel",
      "state": {}
     },
     "40a461b93ccd4633bdb5c96aeb2e7e8f": {
      "model_module": "@jupyter-widgets/base",
      "model_module_version": "2.0.0",
      "model_name": "LayoutModel",
      "state": {}
     },
     "40d18cadb6064525a4f12fdc606794f2": {
      "model_module": "@jupyter-widgets/controls",
      "model_module_version": "2.0.0",
      "model_name": "HTMLModel",
      "state": {
       "layout": "IPY_MODEL_f6488a6e022f47218518a9649febfd87",
       "style": "IPY_MODEL_bf458b0d40fd4a81b1276623ae293dff",
       "value": "100%"
      }
     },
     "40e9423c5d59414c877d41fdeda3eabf": {
      "model_module": "@jupyter-widgets/controls",
      "model_module_version": "2.0.0",
      "model_name": "HTMLStyleModel",
      "state": {
       "description_width": "",
       "font_size": null,
       "text_color": null
      }
     },
     "4115148765f145a68a32f682a81073cf": {
      "model_module": "@jupyter-widgets/base",
      "model_module_version": "2.0.0",
      "model_name": "LayoutModel",
      "state": {}
     },
     "413b7e744bf947eda8e1dc31b9252925": {
      "model_module": "@jupyter-widgets/controls",
      "model_module_version": "2.0.0",
      "model_name": "HTMLStyleModel",
      "state": {
       "description_width": "",
       "font_size": null,
       "text_color": null
      }
     },
     "41bfe367dd0047e68028d0a7191e4495": {
      "model_module": "@jupyter-widgets/base",
      "model_module_version": "2.0.0",
      "model_name": "LayoutModel",
      "state": {}
     },
     "425513a8c05549b8856155ef1ddb1311": {
      "model_module": "@jupyter-widgets/base",
      "model_module_version": "2.0.0",
      "model_name": "LayoutModel",
      "state": {}
     },
     "43db38ee94114457a3649b7e6c14c995": {
      "model_module": "@jupyter-widgets/base",
      "model_module_version": "2.0.0",
      "model_name": "LayoutModel",
      "state": {
       "visibility": "hidden"
      }
     },
     "4430c097db1e46fc869b07c42601ceb9": {
      "model_module": "@jupyter-widgets/controls",
      "model_module_version": "2.0.0",
      "model_name": "HTMLModel",
      "state": {
       "layout": "IPY_MODEL_cbc0f2f1f23c43ab944e2cea029b157a",
       "style": "IPY_MODEL_adf40180e29e48e0950bc833d382d3e3",
       "value": "100%"
      }
     },
     "448aa8deddff4c5bb0fd7e2453b64653": {
      "model_module": "@jupyter-widgets/base",
      "model_module_version": "2.0.0",
      "model_name": "LayoutModel",
      "state": {}
     },
     "44972fe855b249ae8c22bcff74204c47": {
      "model_module": "@jupyter-widgets/controls",
      "model_module_version": "2.0.0",
      "model_name": "FloatProgressModel",
      "state": {
       "layout": "IPY_MODEL_fc34e119526a43b5b9f712bab57803b8",
       "max": 673,
       "style": "IPY_MODEL_b5aa8ed8fe18418ea01a15a557625109",
       "value": 673
      }
     },
     "44c21771297a4b479b73933aebb6c99b": {
      "model_module": "@jupyter-widgets/base",
      "model_module_version": "2.0.0",
      "model_name": "LayoutModel",
      "state": {}
     },
     "4579c7e569e44d10b70ff319c37ffebc": {
      "model_module": "@jupyter-widgets/controls",
      "model_module_version": "2.0.0",
      "model_name": "HTMLStyleModel",
      "state": {
       "description_width": "",
       "font_size": null,
       "text_color": null
      }
     },
     "45826ffdebd747f0a0acffcd166f67a9": {
      "model_module": "@jupyter-widgets/controls",
      "model_module_version": "2.0.0",
      "model_name": "FloatProgressModel",
      "state": {
       "layout": "IPY_MODEL_2de2ec984cba458c89d2478f1b05a207",
       "max": 673,
       "style": "IPY_MODEL_d3184fd148d24b88bba83c89e0ea2f49",
       "value": 673
      }
     },
     "45976ae9ba8b4185b39aa22e2f0e1df2": {
      "model_module": "@jupyter-widgets/controls",
      "model_module_version": "2.0.0",
      "model_name": "FloatProgressModel",
      "state": {
       "layout": "IPY_MODEL_ffbf1fb00ac941298a56b6d87eabad3d",
       "max": 673,
       "style": "IPY_MODEL_1eafba85329c43dc83d811da706b73c3",
       "value": 673
      }
     },
     "45c3d4f1830b4688b357e533bed58c33": {
      "model_module": "@jupyter-widgets/controls",
      "model_module_version": "2.0.0",
      "model_name": "HTMLStyleModel",
      "state": {
       "description_width": "",
       "font_size": null,
       "text_color": null
      }
     },
     "45d91379d1d1457bb6b819c3163a1bef": {
      "model_module": "@jupyter-widgets/controls",
      "model_module_version": "2.0.0",
      "model_name": "ProgressStyleModel",
      "state": {
       "description_width": ""
      }
     },
     "45f2e3773d514daea9715ee33fa93984": {
      "model_module": "@jupyter-widgets/controls",
      "model_module_version": "2.0.0",
      "model_name": "HTMLModel",
      "state": {
       "layout": "IPY_MODEL_ae870a884f1f41e78d98d5d8afe82720",
       "style": "IPY_MODEL_7c586c48da8c426d811b80873dcb74c0",
       "value": "100%"
      }
     },
     "465a02801619468fafcbfde191e29582": {
      "model_module": "@jupyter-widgets/controls",
      "model_module_version": "2.0.0",
      "model_name": "HTMLModel",
      "state": {
       "layout": "IPY_MODEL_e5d74fb51f364455bc7e9444a17e11dd",
       "style": "IPY_MODEL_99aac62196b0479a869ce201c0177614",
       "value": " 672/673 [01:42&lt;00:00,  7.58it/s]"
      }
     },
     "4740fdf346fa4dd1adf3800f20668a75": {
      "model_module": "@jupyter-widgets/controls",
      "model_module_version": "2.0.0",
      "model_name": "ProgressStyleModel",
      "state": {
       "description_width": ""
      }
     },
     "47431d47dc3549639af30a5e7105d7e4": {
      "model_module": "@jupyter-widgets/controls",
      "model_module_version": "2.0.0",
      "model_name": "HTMLStyleModel",
      "state": {
       "description_width": "",
       "font_size": null,
       "text_color": null
      }
     },
     "47cc93c6f96748ffb3bc51dc0cd8bd19": {
      "model_module": "@jupyter-widgets/controls",
      "model_module_version": "2.0.0",
      "model_name": "HTMLStyleModel",
      "state": {
       "description_width": "",
       "font_size": null,
       "text_color": null
      }
     },
     "4862c5c5470a4b49bb04eaf8a95537dd": {
      "model_module": "@jupyter-widgets/base",
      "model_module_version": "2.0.0",
      "model_name": "LayoutModel",
      "state": {}
     },
     "491741b25bee489c82e304a93a8fa615": {
      "model_module": "@jupyter-widgets/controls",
      "model_module_version": "2.0.0",
      "model_name": "FloatProgressModel",
      "state": {
       "layout": "IPY_MODEL_eae6807913904fde97c87edb857b0c2e",
       "max": 673,
       "style": "IPY_MODEL_78de93fec71b460aa3d66972f795a04b",
       "value": 673
      }
     },
     "49c1e24ea26a4635926d011744e8a207": {
      "model_module": "@jupyter-widgets/controls",
      "model_module_version": "2.0.0",
      "model_name": "HTMLStyleModel",
      "state": {
       "description_width": "",
       "font_size": null,
       "text_color": null
      }
     },
     "4a1ad80fe832407c97d15e8c78364dc8": {
      "model_module": "@jupyter-widgets/controls",
      "model_module_version": "2.0.0",
      "model_name": "HTMLStyleModel",
      "state": {
       "description_width": "",
       "font_size": null,
       "text_color": null
      }
     },
     "4a4ca4d47e184c9e9f9bf3bd253cd46f": {
      "model_module": "@jupyter-widgets/controls",
      "model_module_version": "2.0.0",
      "model_name": "HTMLModel",
      "state": {
       "layout": "IPY_MODEL_40a461b93ccd4633bdb5c96aeb2e7e8f",
       "style": "IPY_MODEL_7d609fd95bc5436987eee7d5a30736ea",
       "value": "100%"
      }
     },
     "4a6c528ed34b45d590c086f91058943d": {
      "model_module": "@jupyter-widgets/controls",
      "model_module_version": "2.0.0",
      "model_name": "HTMLModel",
      "state": {
       "layout": "IPY_MODEL_c5cee9ef65194da2b3ba52a938080266",
       "style": "IPY_MODEL_c549bfb56fe44dd1b16bde2ad03a43fa",
       "value": " 672/673 [01:38&lt;00:00,  7.35it/s]"
      }
     },
     "4afa342f737b46a69a53e762c8084376": {
      "model_module": "@jupyter-widgets/base",
      "model_module_version": "2.0.0",
      "model_name": "LayoutModel",
      "state": {}
     },
     "4b67ddadedea430185ad93dc01be6e94": {
      "model_module": "@jupyter-widgets/base",
      "model_module_version": "2.0.0",
      "model_name": "LayoutModel",
      "state": {}
     },
     "4bbe1269aca14992b82fa7fe048fccf0": {
      "model_module": "@jupyter-widgets/controls",
      "model_module_version": "2.0.0",
      "model_name": "HTMLModel",
      "state": {
       "layout": "IPY_MODEL_8f5f9f01f32447e283f79c55ae97bbe2",
       "style": "IPY_MODEL_21439b275ea7456b9dc0d0acdfb4b7ad",
       "value": " 672/673 [01:40&lt;00:00,  7.41it/s]"
      }
     },
     "4ca704d1ee284c8caac8e559fd793279": {
      "model_module": "@jupyter-widgets/base",
      "model_module_version": "2.0.0",
      "model_name": "LayoutModel",
      "state": {}
     },
     "4d0b357bc3d748938fad981a61dad7a7": {
      "model_module": "@jupyter-widgets/controls",
      "model_module_version": "2.0.0",
      "model_name": "HTMLStyleModel",
      "state": {
       "description_width": "",
       "font_size": null,
       "text_color": null
      }
     },
     "4d4665a918d14918a8333cdc0b5df17a": {
      "model_module": "@jupyter-widgets/controls",
      "model_module_version": "2.0.0",
      "model_name": "HTMLModel",
      "state": {
       "layout": "IPY_MODEL_9bb42220e3c242b58cddb206d353c3ac",
       "style": "IPY_MODEL_bd87790021924b6f87e0cd1420b5a0a8",
       "value": " 672/673 [01:34&lt;00:00,  7.90it/s]"
      }
     },
     "4e111adab58f4b8191cc40c47009d81c": {
      "model_module": "@jupyter-widgets/controls",
      "model_module_version": "2.0.0",
      "model_name": "HTMLModel",
      "state": {
       "layout": "IPY_MODEL_7c7fcefc035c4f9997f1d5132aece8ee",
       "style": "IPY_MODEL_5e52cc531d074464ac41f773ebe0289d",
       "value": " 672/673 [01:34&lt;00:00,  7.88it/s]"
      }
     },
     "4e3961f0d0f94f7995351459add3ff4f": {
      "model_module": "@jupyter-widgets/controls",
      "model_module_version": "2.0.0",
      "model_name": "HTMLStyleModel",
      "state": {
       "description_width": "",
       "font_size": null,
       "text_color": null
      }
     },
     "4e498e266e644f5ab6a882e4e99758a2": {
      "model_module": "@jupyter-widgets/base",
      "model_module_version": "2.0.0",
      "model_name": "LayoutModel",
      "state": {
       "visibility": "hidden"
      }
     },
     "4edab21f3ab84765a838c9784290ad37": {
      "model_module": "@jupyter-widgets/controls",
      "model_module_version": "2.0.0",
      "model_name": "HTMLModel",
      "state": {
       "layout": "IPY_MODEL_13a3a40d78704278b9a757df9b4107a7",
       "style": "IPY_MODEL_e806433ffcd94a3a873dea3f1f2f38e5",
       "value": "100%"
      }
     },
     "4ee9c40c6e964180944aeaf6469a284a": {
      "model_module": "@jupyter-widgets/controls",
      "model_module_version": "2.0.0",
      "model_name": "HTMLModel",
      "state": {
       "layout": "IPY_MODEL_e411ddbed3454ba8ae50adac47235a6c",
       "style": "IPY_MODEL_4579c7e569e44d10b70ff319c37ffebc",
       "value": "100%"
      }
     },
     "4f1b3234dbf64b6b889d0feb27334b71": {
      "model_module": "@jupyter-widgets/controls",
      "model_module_version": "2.0.0",
      "model_name": "FloatProgressModel",
      "state": {
       "layout": "IPY_MODEL_625a706090e741d18e77d146badb61b5",
       "max": 673,
       "style": "IPY_MODEL_3b3e1f1b4da64fc68cd7f2c65d040d15",
       "value": 673
      }
     },
     "4fd8d8727ad74054b0ce5b126d508fd2": {
      "model_module": "@jupyter-widgets/controls",
      "model_module_version": "2.0.0",
      "model_name": "ProgressStyleModel",
      "state": {
       "description_width": ""
      }
     },
     "4ff0977afeff4a6cb730c92d8df0ef59": {
      "model_module": "@jupyter-widgets/base",
      "model_module_version": "2.0.0",
      "model_name": "LayoutModel",
      "state": {}
     },
     "5009d5e97b2041ec90c06369c68353f4": {
      "model_module": "@jupyter-widgets/controls",
      "model_module_version": "2.0.0",
      "model_name": "HTMLStyleModel",
      "state": {
       "description_width": "",
       "font_size": null,
       "text_color": null
      }
     },
     "502c6ca1d1ef418b9a998f7a39fe84a3": {
      "model_module": "@jupyter-widgets/controls",
      "model_module_version": "2.0.0",
      "model_name": "ProgressStyleModel",
      "state": {
       "description_width": ""
      }
     },
     "5031154bdd5e4832a5d91773f0472d5a": {
      "model_module": "@jupyter-widgets/controls",
      "model_module_version": "2.0.0",
      "model_name": "FloatProgressModel",
      "state": {
       "layout": "IPY_MODEL_119a04fcb40f48c3838e22388db556ba",
       "max": 673,
       "style": "IPY_MODEL_f688ef77189045169b830888e2b3af7e",
       "value": 673
      }
     },
     "50546a7bfc9241be82f9e4a82520b825": {
      "model_module": "@jupyter-widgets/controls",
      "model_module_version": "2.0.0",
      "model_name": "HTMLStyleModel",
      "state": {
       "description_width": "",
       "font_size": null,
       "text_color": null
      }
     },
     "50a601dba14147218bb5c65053da036f": {
      "model_module": "@jupyter-widgets/controls",
      "model_module_version": "2.0.0",
      "model_name": "HTMLModel",
      "state": {
       "layout": "IPY_MODEL_448aa8deddff4c5bb0fd7e2453b64653",
       "style": "IPY_MODEL_7d3f81aa93e447e4ba50b8764e829c48",
       "value": "100%"
      }
     },
     "510c3b75e83844eb9b618d719d9c1fac": {
      "model_module": "@jupyter-widgets/controls",
      "model_module_version": "2.0.0",
      "model_name": "HTMLModel",
      "state": {
       "layout": "IPY_MODEL_f8ab845b49a34d5db611a2206890a8ac",
       "style": "IPY_MODEL_2d5110f987234368b4ea9ca784874b44",
       "value": "100%"
      }
     },
     "514ce120958244f484def1a1214bd011": {
      "model_module": "@jupyter-widgets/base",
      "model_module_version": "2.0.0",
      "model_name": "LayoutModel",
      "state": {}
     },
     "519f009be0ea439696f9f0fea8f6a6df": {
      "model_module": "@jupyter-widgets/controls",
      "model_module_version": "2.0.0",
      "model_name": "HTMLModel",
      "state": {
       "layout": "IPY_MODEL_52eb0cdc64d94919b5f33cb43df303cb",
       "style": "IPY_MODEL_5341afd572fa402683af9deaf68e0d7c",
       "value": " 672/673 [01:37&lt;00:00,  7.60it/s]"
      }
     },
     "52a8b29313644487bf35fb0a2e99ae6d": {
      "model_module": "@jupyter-widgets/base",
      "model_module_version": "2.0.0",
      "model_name": "LayoutModel",
      "state": {
       "visibility": "hidden"
      }
     },
     "52eb0cdc64d94919b5f33cb43df303cb": {
      "model_module": "@jupyter-widgets/base",
      "model_module_version": "2.0.0",
      "model_name": "LayoutModel",
      "state": {}
     },
     "5341afd572fa402683af9deaf68e0d7c": {
      "model_module": "@jupyter-widgets/controls",
      "model_module_version": "2.0.0",
      "model_name": "HTMLStyleModel",
      "state": {
       "description_width": "",
       "font_size": null,
       "text_color": null
      }
     },
     "538adf0d04d243c7bdecb1f360186c9e": {
      "model_module": "@jupyter-widgets/controls",
      "model_module_version": "2.0.0",
      "model_name": "HTMLModel",
      "state": {
       "layout": "IPY_MODEL_b34388b1724043178dfd56b5db08efcd",
       "style": "IPY_MODEL_b73fde39fc0a451ba9912537d6567dcc",
       "value": " 672/673 [01:45&lt;00:00,  6.30it/s]"
      }
     },
     "53c119e7b7e145759153c9416c046417": {
      "model_module": "@jupyter-widgets/controls",
      "model_module_version": "2.0.0",
      "model_name": "FloatProgressModel",
      "state": {
       "layout": "IPY_MODEL_7fb56f24c57e484b9bb77b6dd188aa2f",
       "max": 673,
       "style": "IPY_MODEL_3ad3daaa63de4153af9f4cef69c8c6c1",
       "value": 673
      }
     },
     "542e8494573a4795b8993cbb20da21c4": {
      "model_module": "@jupyter-widgets/base",
      "model_module_version": "2.0.0",
      "model_name": "LayoutModel",
      "state": {}
     },
     "54521960e03c489385abaece8d9fe399": {
      "model_module": "@jupyter-widgets/controls",
      "model_module_version": "2.0.0",
      "model_name": "HTMLModel",
      "state": {
       "layout": "IPY_MODEL_840580211db44b6981041057dd774d73",
       "style": "IPY_MODEL_ec24081abd2448fa9405889517db4e12",
       "value": " 0/4 [00:07&lt;?, ?it/s, train epoch loss=nan]"
      }
     },
     "545b133b858148d6b9b841d38e387a83": {
      "model_module": "@jupyter-widgets/base",
      "model_module_version": "2.0.0",
      "model_name": "LayoutModel",
      "state": {}
     },
     "54c1cd91e76341518a11ca62d8cd53f5": {
      "model_module": "@jupyter-widgets/controls",
      "model_module_version": "2.0.0",
      "model_name": "HTMLStyleModel",
      "state": {
       "description_width": "",
       "font_size": null,
       "text_color": null
      }
     },
     "54de0414ee884bce825431de8fe77c4f": {
      "model_module": "@jupyter-widgets/base",
      "model_module_version": "2.0.0",
      "model_name": "LayoutModel",
      "state": {}
     },
     "564f411516b1458dbc0bf9b5a47244ed": {
      "model_module": "@jupyter-widgets/base",
      "model_module_version": "2.0.0",
      "model_name": "LayoutModel",
      "state": {
       "visibility": "hidden"
      }
     },
     "567701f0086d435d885ed3902d056df9": {
      "model_module": "@jupyter-widgets/base",
      "model_module_version": "2.0.0",
      "model_name": "LayoutModel",
      "state": {}
     },
     "56e43a24b74043379095d9b719d573b7": {
      "model_module": "@jupyter-widgets/controls",
      "model_module_version": "2.0.0",
      "model_name": "ProgressStyleModel",
      "state": {
       "description_width": ""
      }
     },
     "56f5c70f697247c6846a23aa3e6da96d": {
      "model_module": "@jupyter-widgets/controls",
      "model_module_version": "2.0.0",
      "model_name": "FloatProgressModel",
      "state": {
       "layout": "IPY_MODEL_4ff0977afeff4a6cb730c92d8df0ef59",
       "max": 673,
       "style": "IPY_MODEL_08a80d1e64ac44c7a5b2df7c55705b16",
       "value": 673
      }
     },
     "576a3ff4eac44f9a86aa73ade112eee3": {
      "model_module": "@jupyter-widgets/controls",
      "model_module_version": "2.0.0",
      "model_name": "ProgressStyleModel",
      "state": {
       "description_width": ""
      }
     },
     "5788688e5c7c4990ac49ca4d5b005cf1": {
      "model_module": "@jupyter-widgets/controls",
      "model_module_version": "2.0.0",
      "model_name": "HTMLStyleModel",
      "state": {
       "description_width": "",
       "font_size": null,
       "text_color": null
      }
     },
     "57947e2e37894170aba85e42fed86782": {
      "model_module": "@jupyter-widgets/base",
      "model_module_version": "2.0.0",
      "model_name": "LayoutModel",
      "state": {}
     },
     "57db9fe95a6e48b189f754f23e1c3849": {
      "model_module": "@jupyter-widgets/base",
      "model_module_version": "2.0.0",
      "model_name": "LayoutModel",
      "state": {
       "visibility": "hidden"
      }
     },
     "58512b2c8cc542219ee38572572eea44": {
      "model_module": "@jupyter-widgets/base",
      "model_module_version": "2.0.0",
      "model_name": "LayoutModel",
      "state": {
       "visibility": "hidden"
      }
     },
     "5852cf6f532e4f518f4285be216f4f06": {
      "model_module": "@jupyter-widgets/controls",
      "model_module_version": "2.0.0",
      "model_name": "HTMLModel",
      "state": {
       "layout": "IPY_MODEL_7ad3b56bcdee40fe9544812462173770",
       "style": "IPY_MODEL_2f3c4afcfa644de2a33dbb03c146ca27",
       "value": "100%"
      }
     },
     "5854eba498d54e7ab9f87f9a6eb37578": {
      "model_module": "@jupyter-widgets/base",
      "model_module_version": "2.0.0",
      "model_name": "LayoutModel",
      "state": {
       "visibility": "hidden"
      }
     },
     "589f807597f5426888e8def4d9e885d5": {
      "model_module": "@jupyter-widgets/base",
      "model_module_version": "2.0.0",
      "model_name": "LayoutModel",
      "state": {
       "visibility": "hidden"
      }
     },
     "589fdf80a9b54fae9e4ad4dd450c4f0d": {
      "model_module": "@jupyter-widgets/base",
      "model_module_version": "2.0.0",
      "model_name": "LayoutModel",
      "state": {}
     },
     "59882f7f3c7e4a02ba0722262df6067d": {
      "model_module": "@jupyter-widgets/controls",
      "model_module_version": "2.0.0",
      "model_name": "HTMLModel",
      "state": {
       "layout": "IPY_MODEL_4ca704d1ee284c8caac8e559fd793279",
       "style": "IPY_MODEL_e6fcf14ef6f14b1cbb88b78b4f93ff83",
       "value": "100%"
      }
     },
     "59ba6b740f8745208b36fd187484953b": {
      "model_module": "@jupyter-widgets/base",
      "model_module_version": "2.0.0",
      "model_name": "LayoutModel",
      "state": {}
     },
     "59f0cb8fa8c94783b240938e263ff597": {
      "model_module": "@jupyter-widgets/controls",
      "model_module_version": "2.0.0",
      "model_name": "FloatProgressModel",
      "state": {
       "layout": "IPY_MODEL_055b21f78c09400f8161c825fdbe0656",
       "max": 673,
       "style": "IPY_MODEL_c01f7dbec73c47d59bef37ec9d481f18",
       "value": 673
      }
     },
     "5a02e827e6a5441faaafe39b0ebfbb2c": {
      "model_module": "@jupyter-widgets/controls",
      "model_module_version": "2.0.0",
      "model_name": "ProgressStyleModel",
      "state": {
       "description_width": ""
      }
     },
     "5a2f7d19bd1944f8a276bddb474a10ed": {
      "model_module": "@jupyter-widgets/controls",
      "model_module_version": "2.0.0",
      "model_name": "HTMLStyleModel",
      "state": {
       "description_width": "",
       "font_size": null,
       "text_color": null
      }
     },
     "5a85547909f84d118b8833209efa67d7": {
      "model_module": "@jupyter-widgets/controls",
      "model_module_version": "2.0.0",
      "model_name": "FloatProgressModel",
      "state": {
       "layout": "IPY_MODEL_8f6089c5f26c4828a55dc33baac7f4f3",
       "max": 673,
       "style": "IPY_MODEL_e5433fe686304d559328f9ec6e737cd9",
       "value": 673
      }
     },
     "5a9a79e61be54a17b2fea21e771a5ed6": {
      "model_module": "@jupyter-widgets/controls",
      "model_module_version": "2.0.0",
      "model_name": "FloatProgressModel",
      "state": {
       "layout": "IPY_MODEL_c146b29d58614477affe7d44bca59377",
       "max": 673,
       "style": "IPY_MODEL_e858dc859354476691c93c6290a30243",
       "value": 673
      }
     },
     "5a9e8ee0071a4aa2855cec969f0d086a": {
      "model_module": "@jupyter-widgets/controls",
      "model_module_version": "2.0.0",
      "model_name": "ProgressStyleModel",
      "state": {
       "description_width": ""
      }
     },
     "5b07f5f329ae42a7ba9a7107052c4451": {
      "model_module": "@jupyter-widgets/base",
      "model_module_version": "2.0.0",
      "model_name": "LayoutModel",
      "state": {
       "visibility": "hidden"
      }
     },
     "5b3605424b2d4e099f44129841b6b168": {
      "model_module": "@jupyter-widgets/base",
      "model_module_version": "2.0.0",
      "model_name": "LayoutModel",
      "state": {}
     },
     "5b5d778b817d498688b6751bd0bdd6ca": {
      "model_module": "@jupyter-widgets/controls",
      "model_module_version": "2.0.0",
      "model_name": "FloatProgressModel",
      "state": {
       "layout": "IPY_MODEL_2897b2cf9082456eab57a800f40ca0b8",
       "max": 673,
       "style": "IPY_MODEL_61e40754cb7343bda3cdb83879eba8bc",
       "value": 673
      }
     },
     "5bfee2330a80483c9662784a7bf26f31": {
      "model_module": "@jupyter-widgets/controls",
      "model_module_version": "2.0.0",
      "model_name": "FloatProgressModel",
      "state": {
       "layout": "IPY_MODEL_f7e7c9a2f7054a54aef071c4cdb90683",
       "max": 673,
       "style": "IPY_MODEL_20f66e717f404ff2bdf80adab90a0387",
       "value": 673
      }
     },
     "5c6392a0f41a45d08fb63e6505808b88": {
      "model_module": "@jupyter-widgets/base",
      "model_module_version": "2.0.0",
      "model_name": "LayoutModel",
      "state": {
       "visibility": "hidden"
      }
     },
     "5c71cd1603c949b781e7c07c94f5c595": {
      "model_module": "@jupyter-widgets/base",
      "model_module_version": "2.0.0",
      "model_name": "LayoutModel",
      "state": {
       "visibility": "hidden"
      }
     },
     "5d2f25375fc04264855a7196c8b9483b": {
      "model_module": "@jupyter-widgets/controls",
      "model_module_version": "2.0.0",
      "model_name": "ProgressStyleModel",
      "state": {
       "description_width": ""
      }
     },
     "5d5b6bbab50a47dfb5815078c288bc13": {
      "model_module": "@jupyter-widgets/controls",
      "model_module_version": "2.0.0",
      "model_name": "HTMLModel",
      "state": {
       "layout": "IPY_MODEL_0c75c21aceb6476f91b93a544a0beda5",
       "style": "IPY_MODEL_ef182bd99a4140fbad3b206b8ffe7b2f",
       "value": "100%"
      }
     },
     "5de82db2e391433dbce43852b6130035": {
      "model_module": "@jupyter-widgets/controls",
      "model_module_version": "2.0.0",
      "model_name": "HTMLStyleModel",
      "state": {
       "description_width": "",
       "font_size": null,
       "text_color": null
      }
     },
     "5dfed054ec3f4249ba07bc9888fcbf9d": {
      "model_module": "@jupyter-widgets/base",
      "model_module_version": "2.0.0",
      "model_name": "LayoutModel",
      "state": {
       "visibility": "hidden"
      }
     },
     "5e43885708644dcbb542cd2cd3406197": {
      "model_module": "@jupyter-widgets/controls",
      "model_module_version": "2.0.0",
      "model_name": "HTMLModel",
      "state": {
       "layout": "IPY_MODEL_be58f93d727d4665ad563fe5a8232e07",
       "style": "IPY_MODEL_f2ae30a064ee401fa9e7333395af3c10",
       "value": "100%"
      }
     },
     "5e52cc531d074464ac41f773ebe0289d": {
      "model_module": "@jupyter-widgets/controls",
      "model_module_version": "2.0.0",
      "model_name": "HTMLStyleModel",
      "state": {
       "description_width": "",
       "font_size": null,
       "text_color": null
      }
     },
     "5f02a1ba22fa4cc795f72237e4148642": {
      "model_module": "@jupyter-widgets/base",
      "model_module_version": "2.0.0",
      "model_name": "LayoutModel",
      "state": {}
     },
     "5f35bff9cc124db4a53871696726e8b3": {
      "model_module": "@jupyter-widgets/base",
      "model_module_version": "2.0.0",
      "model_name": "LayoutModel",
      "state": {}
     },
     "5f693a19c9fb4f4a994c04c84ec9b203": {
      "model_module": "@jupyter-widgets/base",
      "model_module_version": "2.0.0",
      "model_name": "LayoutModel",
      "state": {}
     },
     "5fdd845403b64e6cb0ad52b5c99c98d5": {
      "model_module": "@jupyter-widgets/base",
      "model_module_version": "2.0.0",
      "model_name": "LayoutModel",
      "state": {}
     },
     "6036e3da18bc46ddabd65329128ffaa9": {
      "model_module": "@jupyter-widgets/base",
      "model_module_version": "2.0.0",
      "model_name": "LayoutModel",
      "state": {}
     },
     "60942ea101dd49f694cd5d767e213b6c": {
      "model_module": "@jupyter-widgets/controls",
      "model_module_version": "2.0.0",
      "model_name": "FloatProgressModel",
      "state": {
       "layout": "IPY_MODEL_514ce120958244f484def1a1214bd011",
       "max": 673,
       "style": "IPY_MODEL_3ea50d6235a84f0898de18ff2f216e8f",
       "value": 673
      }
     },
     "60b2a36ad0ca4319ba46974376162367": {
      "model_module": "@jupyter-widgets/controls",
      "model_module_version": "2.0.0",
      "model_name": "HTMLModel",
      "state": {
       "layout": "IPY_MODEL_70e432ae60d541329a759fd068663b09",
       "style": "IPY_MODEL_78d7c8099a6547a4ad7dbbfaf9b6ad59",
       "value": "100%"
      }
     },
     "6103a26993814a94af1c046b11c684e1": {
      "model_module": "@jupyter-widgets/controls",
      "model_module_version": "2.0.0",
      "model_name": "HTMLModel",
      "state": {
       "layout": "IPY_MODEL_917a105a772d42aa936eae167732ab49",
       "style": "IPY_MODEL_65384fd4e83943b4a12e9e3b248d6af4",
       "value": " 672/673 [01:42&lt;00:00,  7.31it/s]"
      }
     },
     "6115083225ed4c3fa946c0111f8763c4": {
      "model_module": "@jupyter-widgets/base",
      "model_module_version": "2.0.0",
      "model_name": "LayoutModel",
      "state": {}
     },
     "61df6dd30caa453c94273ad6cd3678f0": {
      "model_module": "@jupyter-widgets/controls",
      "model_module_version": "2.0.0",
      "model_name": "HTMLModel",
      "state": {
       "layout": "IPY_MODEL_8c9e0ac00dff4b06bcf0f488fa617e8c",
       "style": "IPY_MODEL_2b09a0544853495682ad9c2b7a8c6ff5",
       "value": " 672/673 [01:40&lt;00:00,  7.45it/s]"
      }
     },
     "61e40754cb7343bda3cdb83879eba8bc": {
      "model_module": "@jupyter-widgets/controls",
      "model_module_version": "2.0.0",
      "model_name": "ProgressStyleModel",
      "state": {
       "description_width": ""
      }
     },
     "625a706090e741d18e77d146badb61b5": {
      "model_module": "@jupyter-widgets/base",
      "model_module_version": "2.0.0",
      "model_name": "LayoutModel",
      "state": {}
     },
     "62bb9a64f77a475ab03d638c9ecf667d": {
      "model_module": "@jupyter-widgets/controls",
      "model_module_version": "2.0.0",
      "model_name": "HTMLStyleModel",
      "state": {
       "description_width": "",
       "font_size": null,
       "text_color": null
      }
     },
     "62c7c78f5daa40cba9cb3a831eef8237": {
      "model_module": "@jupyter-widgets/base",
      "model_module_version": "2.0.0",
      "model_name": "LayoutModel",
      "state": {}
     },
     "64749690fdb84ed79eb110f5c250d365": {
      "model_module": "@jupyter-widgets/controls",
      "model_module_version": "2.0.0",
      "model_name": "HTMLStyleModel",
      "state": {
       "description_width": "",
       "font_size": null,
       "text_color": null
      }
     },
     "649d412ca8e64171b4595d0b91e308b6": {
      "model_module": "@jupyter-widgets/base",
      "model_module_version": "2.0.0",
      "model_name": "LayoutModel",
      "state": {}
     },
     "6505f609af9e4fda9645bf3a1aecbe20": {
      "model_module": "@jupyter-widgets/controls",
      "model_module_version": "2.0.0",
      "model_name": "HTMLModel",
      "state": {
       "layout": "IPY_MODEL_cef8b04616f54c29a12d8714ad738a5b",
       "style": "IPY_MODEL_5a2f7d19bd1944f8a276bddb474a10ed",
       "value": " 672/673 [01:37&lt;00:00,  7.59it/s]"
      }
     },
     "65193b697e3b436182d71f87a4e8faa3": {
      "model_module": "@jupyter-widgets/controls",
      "model_module_version": "2.0.0",
      "model_name": "HTMLModel",
      "state": {
       "layout": "IPY_MODEL_e95de73f022542ada3abfcae455ee666",
       "style": "IPY_MODEL_ee0c14ff289545678b55f66f9637c0b0",
       "value": " 672/673 [01:37&lt;00:00,  7.56it/s]"
      }
     },
     "65384fd4e83943b4a12e9e3b248d6af4": {
      "model_module": "@jupyter-widgets/controls",
      "model_module_version": "2.0.0",
      "model_name": "HTMLStyleModel",
      "state": {
       "description_width": "",
       "font_size": null,
       "text_color": null
      }
     },
     "655c3dfbb1184095b916232cf9886cba": {
      "model_module": "@jupyter-widgets/controls",
      "model_module_version": "2.0.0",
      "model_name": "HTMLStyleModel",
      "state": {
       "description_width": "",
       "font_size": null,
       "text_color": null
      }
     },
     "65f219977325480aa26931cf8490dc93": {
      "model_module": "@jupyter-widgets/base",
      "model_module_version": "2.0.0",
      "model_name": "LayoutModel",
      "state": {
       "visibility": "hidden"
      }
     },
     "66ceb2b392f6450cacdd6fd8d2189581": {
      "model_module": "@jupyter-widgets/controls",
      "model_module_version": "2.0.0",
      "model_name": "HTMLStyleModel",
      "state": {
       "description_width": "",
       "font_size": null,
       "text_color": null
      }
     },
     "673fc23560f24387bfc4e0a435fef934": {
      "model_module": "@jupyter-widgets/controls",
      "model_module_version": "2.0.0",
      "model_name": "ProgressStyleModel",
      "state": {
       "description_width": ""
      }
     },
     "68a93a1b0d0340a59a963cb23613364f": {
      "model_module": "@jupyter-widgets/base",
      "model_module_version": "2.0.0",
      "model_name": "LayoutModel",
      "state": {}
     },
     "69252aac826d490695a09004018d44ab": {
      "model_module": "@jupyter-widgets/base",
      "model_module_version": "2.0.0",
      "model_name": "LayoutModel",
      "state": {}
     },
     "695dec7733c140c686265b74f6601a02": {
      "model_module": "@jupyter-widgets/base",
      "model_module_version": "2.0.0",
      "model_name": "LayoutModel",
      "state": {}
     },
     "696fb72f402445a5a034e095dd9ba454": {
      "model_module": "@jupyter-widgets/controls",
      "model_module_version": "2.0.0",
      "model_name": "HTMLStyleModel",
      "state": {
       "description_width": "",
       "font_size": null,
       "text_color": null
      }
     },
     "6a0c27049fc0467089a2a2c2d972882e": {
      "model_module": "@jupyter-widgets/controls",
      "model_module_version": "2.0.0",
      "model_name": "HTMLModel",
      "state": {
       "layout": "IPY_MODEL_320c74e1040748d6a9145b95e77ad1e8",
       "style": "IPY_MODEL_a4b41e69852545f9b229e5d40516ff76",
       "value": "100%"
      }
     },
     "6a1795944b1d4739a06ee9f39929038d": {
      "model_module": "@jupyter-widgets/controls",
      "model_module_version": "2.0.0",
      "model_name": "ProgressStyleModel",
      "state": {
       "description_width": ""
      }
     },
     "6a6686f636e84408934ff88ee750416b": {
      "model_module": "@jupyter-widgets/controls",
      "model_module_version": "2.0.0",
      "model_name": "HTMLStyleModel",
      "state": {
       "description_width": "",
       "font_size": null,
       "text_color": null
      }
     },
     "6a8502ad62c1477296c2ab0b3de136f5": {
      "model_module": "@jupyter-widgets/controls",
      "model_module_version": "2.0.0",
      "model_name": "ProgressStyleModel",
      "state": {
       "description_width": ""
      }
     },
     "6aa286bbd2d8492f8e094dd548c15c10": {
      "model_module": "@jupyter-widgets/controls",
      "model_module_version": "2.0.0",
      "model_name": "HTMLModel",
      "state": {
       "layout": "IPY_MODEL_f05248abc4024ebdaf018898998de110",
       "style": "IPY_MODEL_50546a7bfc9241be82f9e4a82520b825",
       "value": "100%"
      }
     },
     "6ad9404c92f2426487c5d2d8b98263d0": {
      "model_module": "@jupyter-widgets/controls",
      "model_module_version": "2.0.0",
      "model_name": "HTMLModel",
      "state": {
       "layout": "IPY_MODEL_2d6106ec7b0d448796990b01f3a85b78",
       "style": "IPY_MODEL_2350c3201aec4c5593ab96e2e2f35b45",
       "value": "100%"
      }
     },
     "6c76f7759fe547f0a5904b5d3f2d1b2e": {
      "model_module": "@jupyter-widgets/controls",
      "model_module_version": "2.0.0",
      "model_name": "FloatProgressModel",
      "state": {
       "layout": "IPY_MODEL_8875fb86c74b48d992675835298df11b",
       "max": 17453,
       "style": "IPY_MODEL_1b92ee53471443769367cf60f4fe657e",
       "value": 17453
      }
     },
     "6cf365ed0d3d490ba2269e3ed18f363c": {
      "model_module": "@jupyter-widgets/controls",
      "model_module_version": "2.0.0",
      "model_name": "FloatProgressModel",
      "state": {
       "layout": "IPY_MODEL_761736c1ac42440683521d56516d5879",
       "max": 673,
       "style": "IPY_MODEL_4740fdf346fa4dd1adf3800f20668a75",
       "value": 673
      }
     },
     "6d1083421c884cf8b3758ce17a26a754": {
      "model_module": "@jupyter-widgets/base",
      "model_module_version": "2.0.0",
      "model_name": "LayoutModel",
      "state": {
       "visibility": "hidden"
      }
     },
     "6d1d7a51b5774bc2a91bd6ec712fa657": {
      "model_module": "@jupyter-widgets/controls",
      "model_module_version": "2.0.0",
      "model_name": "HTMLStyleModel",
      "state": {
       "description_width": "",
       "font_size": null,
       "text_color": null
      }
     },
     "6d3a443e743a4a879569a327fa83d22b": {
      "model_module": "@jupyter-widgets/controls",
      "model_module_version": "2.0.0",
      "model_name": "HTMLStyleModel",
      "state": {
       "description_width": "",
       "font_size": null,
       "text_color": null
      }
     },
     "6e6e7af61091451ab1a2c8f952ea2b4f": {
      "model_module": "@jupyter-widgets/controls",
      "model_module_version": "2.0.0",
      "model_name": "HTMLModel",
      "state": {
       "layout": "IPY_MODEL_4b67ddadedea430185ad93dc01be6e94",
       "style": "IPY_MODEL_62bb9a64f77a475ab03d638c9ecf667d",
       "value": "100%"
      }
     },
     "6e8d49d94bf94ce1b3a4f10bc86e58c9": {
      "model_module": "@jupyter-widgets/base",
      "model_module_version": "2.0.0",
      "model_name": "LayoutModel",
      "state": {}
     },
     "7066173f52f4452e877661eab94c5e37": {
      "model_module": "@jupyter-widgets/controls",
      "model_module_version": "2.0.0",
      "model_name": "HTMLModel",
      "state": {
       "layout": "IPY_MODEL_897742d6e7754a4b89bdf68f0e37952d",
       "style": "IPY_MODEL_655c3dfbb1184095b916232cf9886cba",
       "value": "100%"
      }
     },
     "70bbee6430f04700adddcfabfdb5e930": {
      "model_module": "@jupyter-widgets/controls",
      "model_module_version": "2.0.0",
      "model_name": "HTMLStyleModel",
      "state": {
       "description_width": "",
       "font_size": null,
       "text_color": null
      }
     },
     "70e432ae60d541329a759fd068663b09": {
      "model_module": "@jupyter-widgets/base",
      "model_module_version": "2.0.0",
      "model_name": "LayoutModel",
      "state": {}
     },
     "716665d5e775496ea1040e0ad7d970ef": {
      "model_module": "@jupyter-widgets/controls",
      "model_module_version": "2.0.0",
      "model_name": "FloatProgressModel",
      "state": {
       "layout": "IPY_MODEL_1236fe64214e4c7391fa1011e78e1e5e",
       "max": 673,
       "style": "IPY_MODEL_f07181827031486fa2f2eba6c06eaf91",
       "value": 673
      }
     },
     "71ae91b8c79144fd8c6e1112279d3a31": {
      "model_module": "@jupyter-widgets/base",
      "model_module_version": "2.0.0",
      "model_name": "LayoutModel",
      "state": {
       "visibility": "hidden"
      }
     },
     "71cbf6c8bb0e4e51bc0e7a175bf071ff": {
      "model_module": "@jupyter-widgets/controls",
      "model_module_version": "2.0.0",
      "model_name": "ProgressStyleModel",
      "state": {
       "description_width": ""
      }
     },
     "71e698bbb5b74a5184fd862e1e7012ac": {
      "model_module": "@jupyter-widgets/controls",
      "model_module_version": "2.0.0",
      "model_name": "HTMLStyleModel",
      "state": {
       "description_width": "",
       "font_size": null,
       "text_color": null
      }
     },
     "72210b9214a0464b90ae94578696a94e": {
      "model_module": "@jupyter-widgets/controls",
      "model_module_version": "2.0.0",
      "model_name": "HTMLStyleModel",
      "state": {
       "description_width": "",
       "font_size": null,
       "text_color": null
      }
     },
     "72a949b4027b472dbc6286e7278228d7": {
      "model_module": "@jupyter-widgets/base",
      "model_module_version": "2.0.0",
      "model_name": "LayoutModel",
      "state": {
       "visibility": "hidden"
      }
     },
     "73986c7c34a844b894144497172911eb": {
      "model_module": "@jupyter-widgets/controls",
      "model_module_version": "2.0.0",
      "model_name": "HTMLModel",
      "state": {
       "layout": "IPY_MODEL_a2b60dc22c954f2db73d8de9c268249d",
       "style": "IPY_MODEL_e71816b4eea64b7da6fbc824c20a78ce",
       "value": "100%"
      }
     },
     "754d20b47c244cd1b537aeb7a709caef": {
      "model_module": "@jupyter-widgets/base",
      "model_module_version": "2.0.0",
      "model_name": "LayoutModel",
      "state": {}
     },
     "7586afdfb7fc4168a80dd26197d5fbd5": {
      "model_module": "@jupyter-widgets/controls",
      "model_module_version": "2.0.0",
      "model_name": "HTMLModel",
      "state": {
       "layout": "IPY_MODEL_3f64e6ad22c34f17b7f74a592f7d3eb9",
       "style": "IPY_MODEL_9507ad5a32fe4df682314d628a6cfc03",
       "value": " 672/673 [01:41&lt;00:00,  7.46it/s]"
      }
     },
     "75d8aafe340046bfa381d37939063c2b": {
      "model_module": "@jupyter-widgets/controls",
      "model_module_version": "2.0.0",
      "model_name": "FloatProgressModel",
      "state": {
       "layout": "IPY_MODEL_dcfc38514a4e4b49be066c7d03d417df",
       "max": 673,
       "style": "IPY_MODEL_5d2f25375fc04264855a7196c8b9483b",
       "value": 673
      }
     },
     "75e2bcc6cfb54cc98b16bef7f803e569": {
      "model_module": "@jupyter-widgets/controls",
      "model_module_version": "2.0.0",
      "model_name": "ProgressStyleModel",
      "state": {
       "description_width": ""
      }
     },
     "761736c1ac42440683521d56516d5879": {
      "model_module": "@jupyter-widgets/base",
      "model_module_version": "2.0.0",
      "model_name": "LayoutModel",
      "state": {}
     },
     "7636cdaa9b1647ee9a3d2e3ecdde8be9": {
      "model_module": "@jupyter-widgets/controls",
      "model_module_version": "2.0.0",
      "model_name": "HTMLStyleModel",
      "state": {
       "description_width": "",
       "font_size": null,
       "text_color": null
      }
     },
     "7648fa5ff2b64b50a5e073a62de0dda1": {
      "model_module": "@jupyter-widgets/controls",
      "model_module_version": "2.0.0",
      "model_name": "ProgressStyleModel",
      "state": {
       "description_width": ""
      }
     },
     "7660dde812b4434b81961efdc44592cb": {
      "model_module": "@jupyter-widgets/controls",
      "model_module_version": "2.0.0",
      "model_name": "ProgressStyleModel",
      "state": {
       "description_width": ""
      }
     },
     "771c54027d9249d3ad4f90370d780589": {
      "model_module": "@jupyter-widgets/base",
      "model_module_version": "2.0.0",
      "model_name": "LayoutModel",
      "state": {
       "visibility": "hidden"
      }
     },
     "77999342166145df8fe99c6665c54908": {
      "model_module": "@jupyter-widgets/controls",
      "model_module_version": "2.0.0",
      "model_name": "HTMLModel",
      "state": {
       "layout": "IPY_MODEL_ad18c1122e0b4b83a5468401d6411f71",
       "style": "IPY_MODEL_3b99caabcba443638005abf0581edb2b",
       "value": " 672/673 [01:38&lt;00:00,  7.58it/s]"
      }
     },
     "77a5938738014901847b8b7a9490602c": {
      "model_module": "@jupyter-widgets/base",
      "model_module_version": "2.0.0",
      "model_name": "LayoutModel",
      "state": {}
     },
     "781139f1a627462d84c677d0c07d78c3": {
      "model_module": "@jupyter-widgets/base",
      "model_module_version": "2.0.0",
      "model_name": "LayoutModel",
      "state": {}
     },
     "784eeda5e73e431090be1b8966549760": {
      "model_module": "@jupyter-widgets/controls",
      "model_module_version": "2.0.0",
      "model_name": "HTMLModel",
      "state": {
       "layout": "IPY_MODEL_545b133b858148d6b9b841d38e387a83",
       "style": "IPY_MODEL_e2695bbf9f334813b783af448527474e",
       "value": " 672/673 [01:40&lt;00:00,  7.52it/s]"
      }
     },
     "78d7c8099a6547a4ad7dbbfaf9b6ad59": {
      "model_module": "@jupyter-widgets/controls",
      "model_module_version": "2.0.0",
      "model_name": "HTMLStyleModel",
      "state": {
       "description_width": "",
       "font_size": null,
       "text_color": null
      }
     },
     "78de93fec71b460aa3d66972f795a04b": {
      "model_module": "@jupyter-widgets/controls",
      "model_module_version": "2.0.0",
      "model_name": "ProgressStyleModel",
      "state": {
       "description_width": ""
      }
     },
     "78e43fd09bbe404f890eb20af23cde99": {
      "model_module": "@jupyter-widgets/controls",
      "model_module_version": "2.0.0",
      "model_name": "HTMLModel",
      "state": {
       "layout": "IPY_MODEL_13c82e1bb16d41a18a364c1c07fba81d",
       "style": "IPY_MODEL_27556bf621114e12ac3aff4108bd6a9d",
       "value": " 672/673 [01:37&lt;00:00,  7.54it/s]"
      }
     },
     "798a75fb01a240fcb0bc6451824355d5": {
      "model_module": "@jupyter-widgets/base",
      "model_module_version": "2.0.0",
      "model_name": "LayoutModel",
      "state": {
       "visibility": "hidden"
      }
     },
     "79f1311b35bc420f985285bee00736b0": {
      "model_module": "@jupyter-widgets/base",
      "model_module_version": "2.0.0",
      "model_name": "LayoutModel",
      "state": {}
     },
     "7a79e56e357044feb4afb9bd494f44c9": {
      "model_module": "@jupyter-widgets/base",
      "model_module_version": "2.0.0",
      "model_name": "LayoutModel",
      "state": {}
     },
     "7ac9bd69007a469fa298bf456f3334c4": {
      "model_module": "@jupyter-widgets/controls",
      "model_module_version": "2.0.0",
      "model_name": "HTMLStyleModel",
      "state": {
       "description_width": "",
       "font_size": null,
       "text_color": null
      }
     },
     "7ad3b56bcdee40fe9544812462173770": {
      "model_module": "@jupyter-widgets/base",
      "model_module_version": "2.0.0",
      "model_name": "LayoutModel",
      "state": {}
     },
     "7aea6dd06d5f4fbd9cfa37c2c4249866": {
      "model_module": "@jupyter-widgets/base",
      "model_module_version": "2.0.0",
      "model_name": "LayoutModel",
      "state": {}
     },
     "7afd7fdc51e9400b8afe099b0655476e": {
      "model_module": "@jupyter-widgets/base",
      "model_module_version": "2.0.0",
      "model_name": "LayoutModel",
      "state": {
       "visibility": "hidden"
      }
     },
     "7b637361115640f59ea11e225ead41fb": {
      "model_module": "@jupyter-widgets/base",
      "model_module_version": "2.0.0",
      "model_name": "LayoutModel",
      "state": {}
     },
     "7c586c48da8c426d811b80873dcb74c0": {
      "model_module": "@jupyter-widgets/controls",
      "model_module_version": "2.0.0",
      "model_name": "HTMLStyleModel",
      "state": {
       "description_width": "",
       "font_size": null,
       "text_color": null
      }
     },
     "7c7fcefc035c4f9997f1d5132aece8ee": {
      "model_module": "@jupyter-widgets/base",
      "model_module_version": "2.0.0",
      "model_name": "LayoutModel",
      "state": {}
     },
     "7cf2905bf1de41459a53756865a89c80": {
      "model_module": "@jupyter-widgets/controls",
      "model_module_version": "2.0.0",
      "model_name": "HTMLStyleModel",
      "state": {
       "description_width": "",
       "font_size": null,
       "text_color": null
      }
     },
     "7cf3d05e134f474593aaefdce2ba925e": {
      "model_module": "@jupyter-widgets/controls",
      "model_module_version": "2.0.0",
      "model_name": "HTMLStyleModel",
      "state": {
       "description_width": "",
       "font_size": null,
       "text_color": null
      }
     },
     "7d3f81aa93e447e4ba50b8764e829c48": {
      "model_module": "@jupyter-widgets/controls",
      "model_module_version": "2.0.0",
      "model_name": "HTMLStyleModel",
      "state": {
       "description_width": "",
       "font_size": null,
       "text_color": null
      }
     },
     "7d609fd95bc5436987eee7d5a30736ea": {
      "model_module": "@jupyter-widgets/controls",
      "model_module_version": "2.0.0",
      "model_name": "HTMLStyleModel",
      "state": {
       "description_width": "",
       "font_size": null,
       "text_color": null
      }
     },
     "7d917a13b7e44b1c871a79eec71bb3c7": {
      "model_module": "@jupyter-widgets/base",
      "model_module_version": "2.0.0",
      "model_name": "LayoutModel",
      "state": {}
     },
     "7dec85751fad4108bc9ce30cdf5068e7": {
      "model_module": "@jupyter-widgets/base",
      "model_module_version": "2.0.0",
      "model_name": "LayoutModel",
      "state": {}
     },
     "7ed7163c9d704f5c92d32efc59f2e0c3": {
      "model_module": "@jupyter-widgets/base",
      "model_module_version": "2.0.0",
      "model_name": "LayoutModel",
      "state": {}
     },
     "7eff8e29edc8429e8d6577f9220da63a": {
      "model_module": "@jupyter-widgets/base",
      "model_module_version": "2.0.0",
      "model_name": "LayoutModel",
      "state": {
       "visibility": "hidden"
      }
     },
     "7f87cd4252f14c8682c4a50be425dee1": {
      "model_module": "@jupyter-widgets/base",
      "model_module_version": "2.0.0",
      "model_name": "LayoutModel",
      "state": {}
     },
     "7fb56f24c57e484b9bb77b6dd188aa2f": {
      "model_module": "@jupyter-widgets/base",
      "model_module_version": "2.0.0",
      "model_name": "LayoutModel",
      "state": {}
     },
     "7ffd0790062e41939091b61d35239fb9": {
      "model_module": "@jupyter-widgets/base",
      "model_module_version": "2.0.0",
      "model_name": "LayoutModel",
      "state": {}
     },
     "813065bccb2f4ee5a4dd6db8643ad730": {
      "model_module": "@jupyter-widgets/controls",
      "model_module_version": "2.0.0",
      "model_name": "ProgressStyleModel",
      "state": {
       "description_width": ""
      }
     },
     "8147622ea420446094e26083a6864ce9": {
      "model_module": "@jupyter-widgets/controls",
      "model_module_version": "2.0.0",
      "model_name": "HTMLModel",
      "state": {
       "layout": "IPY_MODEL_54de0414ee884bce825431de8fe77c4f",
       "style": "IPY_MODEL_818d553674894276b2ca60b26db3c9e8",
       "value": "100%"
      }
     },
     "818d553674894276b2ca60b26db3c9e8": {
      "model_module": "@jupyter-widgets/controls",
      "model_module_version": "2.0.0",
      "model_name": "HTMLStyleModel",
      "state": {
       "description_width": "",
       "font_size": null,
       "text_color": null
      }
     },
     "820ae8ef6d7b451a8be8570fc1e15fe7": {
      "model_module": "@jupyter-widgets/controls",
      "model_module_version": "2.0.0",
      "model_name": "HTMLStyleModel",
      "state": {
       "description_width": "",
       "font_size": null,
       "text_color": null
      }
     },
     "82aff7e8e8a94e3294b97df710d5ca39": {
      "model_module": "@jupyter-widgets/base",
      "model_module_version": "2.0.0",
      "model_name": "LayoutModel",
      "state": {}
     },
     "82ba1c2bbcb742df8d141283ba20a17f": {
      "model_module": "@jupyter-widgets/base",
      "model_module_version": "2.0.0",
      "model_name": "LayoutModel",
      "state": {}
     },
     "840039ee3b1b46ff9d3c30da9b1e1a71": {
      "model_module": "@jupyter-widgets/controls",
      "model_module_version": "2.0.0",
      "model_name": "HTMLModel",
      "state": {
       "layout": "IPY_MODEL_f2d825d9fac64645af4cefe5c08d23c9",
       "style": "IPY_MODEL_bdbe86afefb84cf5b5908fc583d0482e",
       "value": "100%"
      }
     },
     "840580211db44b6981041057dd774d73": {
      "model_module": "@jupyter-widgets/base",
      "model_module_version": "2.0.0",
      "model_name": "LayoutModel",
      "state": {}
     },
     "841b780f7b384dec86ac9ed8e06e2e11": {
      "model_module": "@jupyter-widgets/base",
      "model_module_version": "2.0.0",
      "model_name": "LayoutModel",
      "state": {}
     },
     "8430780c55e14196bab715ddcdfce593": {
      "model_module": "@jupyter-widgets/base",
      "model_module_version": "2.0.0",
      "model_name": "LayoutModel",
      "state": {}
     },
     "8452367e8e8d4d748322c344282f1caf": {
      "model_module": "@jupyter-widgets/base",
      "model_module_version": "2.0.0",
      "model_name": "LayoutModel",
      "state": {
       "visibility": "hidden"
      }
     },
     "84c56e9f53354c4f83859379e4c5b9f6": {
      "model_module": "@jupyter-widgets/controls",
      "model_module_version": "2.0.0",
      "model_name": "ProgressStyleModel",
      "state": {
       "description_width": ""
      }
     },
     "84d4cec8109a4f6fa2b2e268ddc55f60": {
      "model_module": "@jupyter-widgets/base",
      "model_module_version": "2.0.0",
      "model_name": "LayoutModel",
      "state": {}
     },
     "850bc2f56e744a5bb7a39d7f3f7330d8": {
      "model_module": "@jupyter-widgets/base",
      "model_module_version": "2.0.0",
      "model_name": "LayoutModel",
      "state": {}
     },
     "856ca3eab2dd46bcaa98c0c94fa94c36": {
      "model_module": "@jupyter-widgets/controls",
      "model_module_version": "2.0.0",
      "model_name": "HTMLModel",
      "state": {
       "layout": "IPY_MODEL_9742147108eb40789a842bd4f5c977a7",
       "style": "IPY_MODEL_c4ef6c2c90224277901be91cc5c2c0f4",
       "value": " 38/17453 [00:07&lt;57:42,  5.03it/s]"
      }
     },
     "8604bd3ebb6942eca38a215882ea4862": {
      "model_module": "@jupyter-widgets/base",
      "model_module_version": "2.0.0",
      "model_name": "LayoutModel",
      "state": {}
     },
     "860d63e7f2fa47dfbe16b01c471ce2d4": {
      "model_module": "@jupyter-widgets/controls",
      "model_module_version": "2.0.0",
      "model_name": "HTMLModel",
      "state": {
       "layout": "IPY_MODEL_a77c82c7c1cc4e92bbf42bfb21a4e46d",
       "style": "IPY_MODEL_0200b87f847e45b6aa49794ad604b36d",
       "value": " 17453/17453 [1:16:53&lt;00:00,  7.20it/s]"
      }
     },
     "861876d881c34218b89a760e7a3097c4": {
      "model_module": "@jupyter-widgets/controls",
      "model_module_version": "2.0.0",
      "model_name": "HTMLModel",
      "state": {
       "layout": "IPY_MODEL_af3e067cc696458b94030e0b6617be20",
       "style": "IPY_MODEL_40e9423c5d59414c877d41fdeda3eabf",
       "value": "100%"
      }
     },
     "861b0f32751f412fbbcd23f933c83479": {
      "model_module": "@jupyter-widgets/controls",
      "model_module_version": "2.0.0",
      "model_name": "HTMLModel",
      "state": {
       "layout": "IPY_MODEL_37f05d894ae54541a5e976339c031c86",
       "style": "IPY_MODEL_72210b9214a0464b90ae94578696a94e",
       "value": " 672/673 [01:37&lt;00:00,  7.66it/s]"
      }
     },
     "862d7bd9f6dd4f2fb2f02f7c3bdb5637": {
      "model_module": "@jupyter-widgets/base",
      "model_module_version": "2.0.0",
      "model_name": "LayoutModel",
      "state": {}
     },
     "86d2c22c1f524316af1d868461d25826": {
      "model_module": "@jupyter-widgets/controls",
      "model_module_version": "2.0.0",
      "model_name": "HTMLStyleModel",
      "state": {
       "description_width": "",
       "font_size": null,
       "text_color": null
      }
     },
     "871449099a474c0a8657d269ff97c620": {
      "model_module": "@jupyter-widgets/controls",
      "model_module_version": "2.0.0",
      "model_name": "HTMLStyleModel",
      "state": {
       "description_width": "",
       "font_size": null,
       "text_color": null
      }
     },
     "8780b4d8b94144d8afa204961a752efa": {
      "model_module": "@jupyter-widgets/base",
      "model_module_version": "2.0.0",
      "model_name": "LayoutModel",
      "state": {}
     },
     "87e8fbe4670d45a09ce598bb64aa1d87": {
      "model_module": "@jupyter-widgets/controls",
      "model_module_version": "2.0.0",
      "model_name": "HTMLModel",
      "state": {
       "layout": "IPY_MODEL_95546581a1c048e2970a5304634e8d80",
       "style": "IPY_MODEL_11c0317d31574dbab2a9ec7a60048c86",
       "value": "100%"
      }
     },
     "8803ebc1a127462ab224e0065e13757f": {
      "model_module": "@jupyter-widgets/controls",
      "model_module_version": "2.0.0",
      "model_name": "HTMLModel",
      "state": {
       "layout": "IPY_MODEL_1e1e9f90577746c18ea949c94161f7f9",
       "style": "IPY_MODEL_a58c2c1e9a0f40a3ac0c10f1e7dba497",
       "value": "100%"
      }
     },
     "8875fb86c74b48d992675835298df11b": {
      "model_module": "@jupyter-widgets/base",
      "model_module_version": "2.0.0",
      "model_name": "LayoutModel",
      "state": {}
     },
     "88c003fe47a24950aaf472feaf2e6401": {
      "model_module": "@jupyter-widgets/base",
      "model_module_version": "2.0.0",
      "model_name": "LayoutModel",
      "state": {}
     },
     "88dff819e8f2437ebf9a4f67946e1036": {
      "model_module": "@jupyter-widgets/controls",
      "model_module_version": "2.0.0",
      "model_name": "HTMLStyleModel",
      "state": {
       "description_width": "",
       "font_size": null,
       "text_color": null
      }
     },
     "8901b704e13e431ba1929d195a42d49d": {
      "model_module": "@jupyter-widgets/base",
      "model_module_version": "2.0.0",
      "model_name": "LayoutModel",
      "state": {}
     },
     "897742d6e7754a4b89bdf68f0e37952d": {
      "model_module": "@jupyter-widgets/base",
      "model_module_version": "2.0.0",
      "model_name": "LayoutModel",
      "state": {}
     },
     "89fb36b73d9347e18c05c2f5ddcb7210": {
      "model_module": "@jupyter-widgets/base",
      "model_module_version": "2.0.0",
      "model_name": "LayoutModel",
      "state": {
       "visibility": "hidden"
      }
     },
     "8a3669fce8ae4a22a3dcd5989f781be1": {
      "model_module": "@jupyter-widgets/controls",
      "model_module_version": "2.0.0",
      "model_name": "ProgressStyleModel",
      "state": {
       "description_width": ""
      }
     },
     "8abe48f428e74bbc9b5c4cfb8233e8ab": {
      "model_module": "@jupyter-widgets/controls",
      "model_module_version": "2.0.0",
      "model_name": "HTMLModel",
      "state": {
       "layout": "IPY_MODEL_a8934ff950ec43a0a8359c956930c6d4",
       "style": "IPY_MODEL_13976a77d2dc46519a6259f32307c2fb",
       "value": " 672/673 [01:36&lt;00:00,  7.70it/s]"
      }
     },
     "8b197971d0874dd5a5faf2cae5462b6d": {
      "model_module": "@jupyter-widgets/base",
      "model_module_version": "2.0.0",
      "model_name": "LayoutModel",
      "state": {}
     },
     "8c75c4e73f61420c84d823dd000ca3e9": {
      "model_module": "@jupyter-widgets/controls",
      "model_module_version": "2.0.0",
      "model_name": "FloatProgressModel",
      "state": {
       "layout": "IPY_MODEL_d9a3af883ec340b781b03d787b7fc148",
       "max": 673,
       "style": "IPY_MODEL_576a3ff4eac44f9a86aa73ade112eee3",
       "value": 673
      }
     },
     "8c9e0ac00dff4b06bcf0f488fa617e8c": {
      "model_module": "@jupyter-widgets/base",
      "model_module_version": "2.0.0",
      "model_name": "LayoutModel",
      "state": {}
     },
     "8d180ba094b947f7935c647c8a62b3da": {
      "model_module": "@jupyter-widgets/base",
      "model_module_version": "2.0.0",
      "model_name": "LayoutModel",
      "state": {}
     },
     "8deaa2ce59bd4fc08acbb4b955a54410": {
      "model_module": "@jupyter-widgets/controls",
      "model_module_version": "2.0.0",
      "model_name": "HTMLModel",
      "state": {
       "layout": "IPY_MODEL_919e74ed555742039b6a051837b8004f",
       "style": "IPY_MODEL_1b6f31a0f63c4eb884bd63c2f31d98e6",
       "value": " 672/673 [01:43&lt;00:00,  7.43it/s]"
      }
     },
     "8e3ede6ef1df46e28a2d3b3f8be49e35": {
      "model_module": "@jupyter-widgets/base",
      "model_module_version": "2.0.0",
      "model_name": "LayoutModel",
      "state": {}
     },
     "8e5f43b2adbc4aa9aaf0e7678320469b": {
      "model_module": "@jupyter-widgets/controls",
      "model_module_version": "2.0.0",
      "model_name": "HTMLModel",
      "state": {
       "layout": "IPY_MODEL_a31939646ab74b51ad80d9ad5ff9fc84",
       "style": "IPY_MODEL_de097c86fca2413c92983de978bc256c",
       "value": "100%"
      }
     },
     "8f39993b5153498693c46633774406af": {
      "model_module": "@jupyter-widgets/base",
      "model_module_version": "2.0.0",
      "model_name": "LayoutModel",
      "state": {}
     },
     "8f5f9f01f32447e283f79c55ae97bbe2": {
      "model_module": "@jupyter-widgets/base",
      "model_module_version": "2.0.0",
      "model_name": "LayoutModel",
      "state": {}
     },
     "8f6089c5f26c4828a55dc33baac7f4f3": {
      "model_module": "@jupyter-widgets/base",
      "model_module_version": "2.0.0",
      "model_name": "LayoutModel",
      "state": {}
     },
     "8f6348edae774ada8b498f78abefb9da": {
      "model_module": "@jupyter-widgets/base",
      "model_module_version": "2.0.0",
      "model_name": "LayoutModel",
      "state": {}
     },
     "8f9aad1ec23248c8a35754117e23c384": {
      "model_module": "@jupyter-widgets/controls",
      "model_module_version": "2.0.0",
      "model_name": "HTMLModel",
      "state": {
       "layout": "IPY_MODEL_d8a545b05b50481bba0b2757f9e4470f",
       "style": "IPY_MODEL_e1821fe06f1143368ab67f69f1ac80e0",
       "value": " 672/673 [01:34&lt;00:00,  8.06it/s]"
      }
     },
     "8fb9fe29c02a4328b5c287fa4c273a35": {
      "model_module": "@jupyter-widgets/controls",
      "model_module_version": "2.0.0",
      "model_name": "FloatProgressModel",
      "state": {
       "layout": "IPY_MODEL_5b3605424b2d4e099f44129841b6b168",
       "max": 673,
       "style": "IPY_MODEL_6a8502ad62c1477296c2ab0b3de136f5",
       "value": 673
      }
     },
     "8ff8856ae1564753bb5a015521a5d290": {
      "model_module": "@jupyter-widgets/controls",
      "model_module_version": "2.0.0",
      "model_name": "HTMLStyleModel",
      "state": {
       "description_width": "",
       "font_size": null,
       "text_color": null
      }
     },
     "902c1ff37fbd4e9eb9c4f494a18037a5": {
      "model_module": "@jupyter-widgets/controls",
      "model_module_version": "2.0.0",
      "model_name": "HTMLModel",
      "state": {
       "layout": "IPY_MODEL_695dec7733c140c686265b74f6601a02",
       "style": "IPY_MODEL_6a6686f636e84408934ff88ee750416b",
       "value": " 672/673 [01:36&lt;00:00,  7.70it/s]"
      }
     },
     "907ec3d06cd547c2abf84c4a52c970f3": {
      "model_module": "@jupyter-widgets/controls",
      "model_module_version": "2.0.0",
      "model_name": "HTMLModel",
      "state": {
       "layout": "IPY_MODEL_1970490e3d3f4cffa9c1569dbc40df80",
       "style": "IPY_MODEL_23be2ab9d5a046fb99eae51bda28fb2f",
       "value": " 672/673 [01:38&lt;00:00,  7.48it/s]"
      }
     },
     "90a99d8fda454b1384b275fcfded5884": {
      "model_module": "@jupyter-widgets/controls",
      "model_module_version": "2.0.0",
      "model_name": "HTMLStyleModel",
      "state": {
       "description_width": "",
       "font_size": null,
       "text_color": null
      }
     },
     "91069f2b6e6a43b6b2104c244963c57c": {
      "model_module": "@jupyter-widgets/controls",
      "model_module_version": "2.0.0",
      "model_name": "HTMLModel",
      "state": {
       "layout": "IPY_MODEL_41bfe367dd0047e68028d0a7191e4495",
       "style": "IPY_MODEL_3319e85740f54af0abc0303cdafae9c9",
       "value": "100%"
      }
     },
     "917a105a772d42aa936eae167732ab49": {
      "model_module": "@jupyter-widgets/base",
      "model_module_version": "2.0.0",
      "model_name": "LayoutModel",
      "state": {}
     },
     "919e74ed555742039b6a051837b8004f": {
      "model_module": "@jupyter-widgets/base",
      "model_module_version": "2.0.0",
      "model_name": "LayoutModel",
      "state": {}
     },
     "922e302eaf0749139e469137b3435d25": {
      "model_module": "@jupyter-widgets/controls",
      "model_module_version": "2.0.0",
      "model_name": "FloatProgressModel",
      "state": {
       "bar_style": "danger",
       "layout": "IPY_MODEL_283cc350021e49d3974aec53f7de2ed6",
       "max": 4,
       "style": "IPY_MODEL_6a1795944b1d4739a06ee9f39929038d"
      }
     },
     "9232770cdff94b74ae00abe26228f447": {
      "model_module": "@jupyter-widgets/controls",
      "model_module_version": "2.0.0",
      "model_name": "HTMLStyleModel",
      "state": {
       "description_width": "",
       "font_size": null,
       "text_color": null
      }
     },
     "926c3b95c6b04be9b8456372038dd822": {
      "model_module": "@jupyter-widgets/controls",
      "model_module_version": "2.0.0",
      "model_name": "HTMLModel",
      "state": {
       "layout": "IPY_MODEL_01d990d7dc6240f5bd81b22283765c0d",
       "style": "IPY_MODEL_d4194e18dbfd4908ad138f910cb2a46f",
       "value": " 672/673 [01:42&lt;00:00,  6.87it/s]"
      }
     },
     "92957771af7145ec85d983a1801757a7": {
      "model_module": "@jupyter-widgets/controls",
      "model_module_version": "2.0.0",
      "model_name": "HTMLStyleModel",
      "state": {
       "description_width": "",
       "font_size": null,
       "text_color": null
      }
     },
     "92d6f7f9b9614a77be1c98625d805e73": {
      "model_module": "@jupyter-widgets/base",
      "model_module_version": "2.0.0",
      "model_name": "LayoutModel",
      "state": {}
     },
     "93781f237a6743b2a45b51ccfda7640f": {
      "model_module": "@jupyter-widgets/base",
      "model_module_version": "2.0.0",
      "model_name": "LayoutModel",
      "state": {
       "visibility": "hidden"
      }
     },
     "94e684f01e484ccbb675eae7000809db": {
      "model_module": "@jupyter-widgets/base",
      "model_module_version": "2.0.0",
      "model_name": "LayoutModel",
      "state": {}
     },
     "94e6a29da4a54e19b621e1d8cdac1c39": {
      "model_module": "@jupyter-widgets/controls",
      "model_module_version": "2.0.0",
      "model_name": "ProgressStyleModel",
      "state": {
       "description_width": ""
      }
     },
     "94ec678b4cea435d94795d4f002fb23d": {
      "model_module": "@jupyter-widgets/controls",
      "model_module_version": "2.0.0",
      "model_name": "HTMLStyleModel",
      "state": {
       "description_width": "",
       "font_size": null,
       "text_color": null
      }
     },
     "94fb7255bd57418ba394341a4f772d1e": {
      "model_module": "@jupyter-widgets/controls",
      "model_module_version": "2.0.0",
      "model_name": "HTMLStyleModel",
      "state": {
       "description_width": "",
       "font_size": null,
       "text_color": null
      }
     },
     "9507ad5a32fe4df682314d628a6cfc03": {
      "model_module": "@jupyter-widgets/controls",
      "model_module_version": "2.0.0",
      "model_name": "HTMLStyleModel",
      "state": {
       "description_width": "",
       "font_size": null,
       "text_color": null
      }
     },
     "95544522907143dfb84e4d3a7128bb39": {
      "model_module": "@jupyter-widgets/controls",
      "model_module_version": "2.0.0",
      "model_name": "HTMLStyleModel",
      "state": {
       "description_width": "",
       "font_size": null,
       "text_color": null
      }
     },
     "95546581a1c048e2970a5304634e8d80": {
      "model_module": "@jupyter-widgets/base",
      "model_module_version": "2.0.0",
      "model_name": "LayoutModel",
      "state": {}
     },
     "959117942c394f288e185f6498e870e0": {
      "model_module": "@jupyter-widgets/controls",
      "model_module_version": "2.0.0",
      "model_name": "HTMLStyleModel",
      "state": {
       "description_width": "",
       "font_size": null,
       "text_color": null
      }
     },
     "96b83b26902e42bca82edc922bc0f7a4": {
      "model_module": "@jupyter-widgets/controls",
      "model_module_version": "2.0.0",
      "model_name": "HTMLStyleModel",
      "state": {
       "description_width": "",
       "font_size": null,
       "text_color": null
      }
     },
     "96f7eb635ebd42eca32c9641f75676ec": {
      "model_module": "@jupyter-widgets/controls",
      "model_module_version": "2.0.0",
      "model_name": "HTMLStyleModel",
      "state": {
       "description_width": "",
       "font_size": null,
       "text_color": null
      }
     },
     "9742147108eb40789a842bd4f5c977a7": {
      "model_module": "@jupyter-widgets/base",
      "model_module_version": "2.0.0",
      "model_name": "LayoutModel",
      "state": {}
     },
     "97c26b14a9c6466a9c5166f3b228d2c6": {
      "model_module": "@jupyter-widgets/controls",
      "model_module_version": "2.0.0",
      "model_name": "HTMLModel",
      "state": {
       "layout": "IPY_MODEL_5f693a19c9fb4f4a994c04c84ec9b203",
       "style": "IPY_MODEL_a1e954e8f0ae46c0aa0e22fd09cc6a6d",
       "value": "100%"
      }
     },
     "980986022c634752aa5ce71b99481089": {
      "model_module": "@jupyter-widgets/controls",
      "model_module_version": "2.0.0",
      "model_name": "HTMLStyleModel",
      "state": {
       "description_width": "",
       "font_size": null,
       "text_color": null
      }
     },
     "98c519e7344247fd97efed70b6464b06": {
      "model_module": "@jupyter-widgets/controls",
      "model_module_version": "2.0.0",
      "model_name": "HTMLModel",
      "state": {
       "layout": "IPY_MODEL_bc16ddd4c4f74a90ac8d388ee893a2fc",
       "style": "IPY_MODEL_66ceb2b392f6450cacdd6fd8d2189581",
       "value": " 672/673 [01:34&lt;00:00,  7.75it/s]"
      }
     },
     "98c52934a95547f2872739f209465fb9": {
      "model_module": "@jupyter-widgets/controls",
      "model_module_version": "2.0.0",
      "model_name": "FloatProgressModel",
      "state": {
       "layout": "IPY_MODEL_aed6dc5b7a9e490cb991e50414600560",
       "max": 673,
       "style": "IPY_MODEL_d07411c7f3524c18a311ac2448560d58",
       "value": 673
      }
     },
     "990f35e349aa49909d81f58459ef247b": {
      "model_module": "@jupyter-widgets/controls",
      "model_module_version": "2.0.0",
      "model_name": "HTMLStyleModel",
      "state": {
       "description_width": "",
       "font_size": null,
       "text_color": null
      }
     },
     "99201562e1bd42e8be95061023dc3473": {
      "model_module": "@jupyter-widgets/base",
      "model_module_version": "2.0.0",
      "model_name": "LayoutModel",
      "state": {
       "visibility": "hidden"
      }
     },
     "9945ebce4d774fa69cfd461b3aaba0b2": {
      "model_module": "@jupyter-widgets/controls",
      "model_module_version": "2.0.0",
      "model_name": "HTMLModel",
      "state": {
       "layout": "IPY_MODEL_7ed7163c9d704f5c92d32efc59f2e0c3",
       "style": "IPY_MODEL_ca5f86e8544f45afa28888201344b921",
       "value": "100%"
      }
     },
     "99893f8fde78454294e03bd28d8bc1ef": {
      "model_module": "@jupyter-widgets/controls",
      "model_module_version": "2.0.0",
      "model_name": "HTMLModel",
      "state": {
       "layout": "IPY_MODEL_d0928cbd307243118435c9a50382b736",
       "style": "IPY_MODEL_224f94fd2f714464bf512add6c11c033",
       "value": " 672/673 [01:38&lt;00:00,  7.62it/s]"
      }
     },
     "99aac62196b0479a869ce201c0177614": {
      "model_module": "@jupyter-widgets/controls",
      "model_module_version": "2.0.0",
      "model_name": "HTMLStyleModel",
      "state": {
       "description_width": "",
       "font_size": null,
       "text_color": null
      }
     },
     "99f6cef576b74469b119a3fa7d116b27": {
      "model_module": "@jupyter-widgets/controls",
      "model_module_version": "2.0.0",
      "model_name": "FloatProgressModel",
      "state": {
       "layout": "IPY_MODEL_c1caa8dc2e79465fa44d405a04f6bc53",
       "max": 673,
       "style": "IPY_MODEL_30c429ba698f4243be0bb834367e8fa0",
       "value": 673
      }
     },
     "99f9fb3171bf4335ad7edc37cd862c22": {
      "model_module": "@jupyter-widgets/base",
      "model_module_version": "2.0.0",
      "model_name": "LayoutModel",
      "state": {}
     },
     "9a33d5b3fb5c45ae8427f3564462e755": {
      "model_module": "@jupyter-widgets/base",
      "model_module_version": "2.0.0",
      "model_name": "LayoutModel",
      "state": {}
     },
     "9a6d54c6bd5a4bbd88fc5fcf7e2bb113": {
      "model_module": "@jupyter-widgets/controls",
      "model_module_version": "2.0.0",
      "model_name": "HTMLStyleModel",
      "state": {
       "description_width": "",
       "font_size": null,
       "text_color": null
      }
     },
     "9aa999e022e74f49afacc2d75c711467": {
      "model_module": "@jupyter-widgets/base",
      "model_module_version": "2.0.0",
      "model_name": "LayoutModel",
      "state": {
       "visibility": "hidden"
      }
     },
     "9ae2c638e7654dda9dfa20ef8cbcdfda": {
      "model_module": "@jupyter-widgets/controls",
      "model_module_version": "2.0.0",
      "model_name": "HTMLModel",
      "state": {
       "layout": "IPY_MODEL_8d180ba094b947f7935c647c8a62b3da",
       "style": "IPY_MODEL_3c1bf3ea571e43bd89186c8b374a6e17",
       "value": " 672/673 [01:37&lt;00:00,  7.56it/s]"
      }
     },
     "9b030546914445d7b08b37af0d45c95f": {
      "model_module": "@jupyter-widgets/controls",
      "model_module_version": "2.0.0",
      "model_name": "ProgressStyleModel",
      "state": {
       "description_width": ""
      }
     },
     "9b29c52a9da6411f81958f057a6e035e": {
      "model_module": "@jupyter-widgets/base",
      "model_module_version": "2.0.0",
      "model_name": "LayoutModel",
      "state": {
       "visibility": "hidden"
      }
     },
     "9bb42220e3c242b58cddb206d353c3ac": {
      "model_module": "@jupyter-widgets/base",
      "model_module_version": "2.0.0",
      "model_name": "LayoutModel",
      "state": {}
     },
     "9be5cfa20e6a4b068d2dd0aecf7de50a": {
      "model_module": "@jupyter-widgets/controls",
      "model_module_version": "2.0.0",
      "model_name": "HTMLModel",
      "state": {
       "layout": "IPY_MODEL_754d20b47c244cd1b537aeb7a709caef",
       "style": "IPY_MODEL_e20c937dae3845d0ab1512b4eafe2625",
       "value": " 672/673 [01:40&lt;00:00,  7.05it/s]"
      }
     },
     "9cedfc8779224a8787ca85f1f21811bd": {
      "model_module": "@jupyter-widgets/controls",
      "model_module_version": "2.0.0",
      "model_name": "FloatProgressModel",
      "state": {
       "layout": "IPY_MODEL_f28c126f65204fc9b916111133cf2b26",
       "max": 673,
       "style": "IPY_MODEL_d0b5d7ccfeeb4ff8a27abad1c2be4a64",
       "value": 673
      }
     },
     "9d907d645d9949078e09babdff5f86fc": {
      "model_module": "@jupyter-widgets/controls",
      "model_module_version": "2.0.0",
      "model_name": "HTMLStyleModel",
      "state": {
       "description_width": "",
       "font_size": null,
       "text_color": null
      }
     },
     "9dfb03da90f9429ebde13a728f503f58": {
      "model_module": "@jupyter-widgets/controls",
      "model_module_version": "2.0.0",
      "model_name": "HTMLStyleModel",
      "state": {
       "description_width": "",
       "font_size": null,
       "text_color": null
      }
     },
     "9e3607e1d5734fabaf15146f04d84c14": {
      "model_module": "@jupyter-widgets/base",
      "model_module_version": "2.0.0",
      "model_name": "LayoutModel",
      "state": {}
     },
     "9e4e5127e66d410f8687f2bf650da210": {
      "model_module": "@jupyter-widgets/controls",
      "model_module_version": "2.0.0",
      "model_name": "ProgressStyleModel",
      "state": {
       "description_width": ""
      }
     },
     "9e67f871cc7748fab8bec633b856797a": {
      "model_module": "@jupyter-widgets/controls",
      "model_module_version": "2.0.0",
      "model_name": "HTMLStyleModel",
      "state": {
       "description_width": "",
       "font_size": null,
       "text_color": null
      }
     },
     "9e7699aae8cb4247b9556a7a1d0bb55e": {
      "model_module": "@jupyter-widgets/controls",
      "model_module_version": "2.0.0",
      "model_name": "HTMLModel",
      "state": {
       "layout": "IPY_MODEL_7f87cd4252f14c8682c4a50be425dee1",
       "style": "IPY_MODEL_a19106a646f14444acde5b97d5d6558b",
       "value": " 672/673 [01:35&lt;00:00,  7.78it/s]"
      }
     },
     "9ef1b5847fcc4d74b0ef340bf31e6009": {
      "model_module": "@jupyter-widgets/controls",
      "model_module_version": "2.0.0",
      "model_name": "ProgressStyleModel",
      "state": {
       "description_width": ""
      }
     },
     "9f074053a4c24d398c23b16900748f71": {
      "model_module": "@jupyter-widgets/controls",
      "model_module_version": "2.0.0",
      "model_name": "FloatProgressModel",
      "state": {
       "layout": "IPY_MODEL_3e48e79bbf584f168e61e902f4417710",
       "max": 673,
       "style": "IPY_MODEL_ba6aab63bef14498bafaa2d0a9968a4a",
       "value": 673
      }
     },
     "9f6a6f17a4b04e6eb4516a37a7e18441": {
      "model_module": "@jupyter-widgets/base",
      "model_module_version": "2.0.0",
      "model_name": "LayoutModel",
      "state": {
       "visibility": "hidden"
      }
     },
     "9f7ea66ed4ed4dd4aee37d45a5f13ace": {
      "model_module": "@jupyter-widgets/base",
      "model_module_version": "2.0.0",
      "model_name": "LayoutModel",
      "state": {
       "visibility": "hidden"
      }
     },
     "9f81e9d2bb7d469b99ae3a8881cbc57d": {
      "model_module": "@jupyter-widgets/controls",
      "model_module_version": "2.0.0",
      "model_name": "ProgressStyleModel",
      "state": {
       "description_width": ""
      }
     },
     "9f9b6cb54fad4cb791266b304ff97582": {
      "model_module": "@jupyter-widgets/base",
      "model_module_version": "2.0.0",
      "model_name": "LayoutModel",
      "state": {
       "visibility": "hidden"
      }
     },
     "a0c2b50a970944ebbdcb5f0ad142099c": {
      "model_module": "@jupyter-widgets/controls",
      "model_module_version": "2.0.0",
      "model_name": "HTMLModel",
      "state": {
       "layout": "IPY_MODEL_afb9256f0b304971b2972ab3015229e3",
       "style": "IPY_MODEL_0bd5e1fcc81e4c78bbdf8e92de10a130",
       "value": "100%"
      }
     },
     "a13f56b9f4304f7fb7aceab4de472876": {
      "model_module": "@jupyter-widgets/base",
      "model_module_version": "2.0.0",
      "model_name": "LayoutModel",
      "state": {}
     },
     "a146f719065f46589e3b2fb290443524": {
      "model_module": "@jupyter-widgets/base",
      "model_module_version": "2.0.0",
      "model_name": "LayoutModel",
      "state": {}
     },
     "a185d679de6e4ddf89321cdac27601e7": {
      "model_module": "@jupyter-widgets/controls",
      "model_module_version": "2.0.0",
      "model_name": "HTMLModel",
      "state": {
       "layout": "IPY_MODEL_781139f1a627462d84c677d0c07d78c3",
       "style": "IPY_MODEL_7ac9bd69007a469fa298bf456f3334c4"
      }
     },
     "a187549fa4f24bd9ab17d22a8efadeda": {
      "model_module": "@jupyter-widgets/controls",
      "model_module_version": "2.0.0",
      "model_name": "HTMLModel",
      "state": {
       "layout": "IPY_MODEL_19acc27c894b443ea304b6c545abd879",
       "style": "IPY_MODEL_ebc895e47fcd4fb089ae3893fff83d89",
       "value": "100%"
      }
     },
     "a18faa6900dd40198dd2e79bbf8021a0": {
      "model_module": "@jupyter-widgets/base",
      "model_module_version": "2.0.0",
      "model_name": "LayoutModel",
      "state": {}
     },
     "a19106a646f14444acde5b97d5d6558b": {
      "model_module": "@jupyter-widgets/controls",
      "model_module_version": "2.0.0",
      "model_name": "HTMLStyleModel",
      "state": {
       "description_width": "",
       "font_size": null,
       "text_color": null
      }
     },
     "a19ffc7f734b496ea56b3efedc5515f8": {
      "model_module": "@jupyter-widgets/controls",
      "model_module_version": "2.0.0",
      "model_name": "FloatProgressModel",
      "state": {
       "layout": "IPY_MODEL_c4e0dec678d64b088f00c0785497fdfd",
       "max": 673,
       "style": "IPY_MODEL_a569b8d0d8f445b3b9d0cfc76472483f",
       "value": 673
      }
     },
     "a1e954e8f0ae46c0aa0e22fd09cc6a6d": {
      "model_module": "@jupyter-widgets/controls",
      "model_module_version": "2.0.0",
      "model_name": "HTMLStyleModel",
      "state": {
       "description_width": "",
       "font_size": null,
       "text_color": null
      }
     },
     "a2885f72aa114c2ebcd1363f48726479": {
      "model_module": "@jupyter-widgets/base",
      "model_module_version": "2.0.0",
      "model_name": "LayoutModel",
      "state": {
       "visibility": "hidden"
      }
     },
     "a2b3e5eb77b943e0abfaf3df12932462": {
      "model_module": "@jupyter-widgets/base",
      "model_module_version": "2.0.0",
      "model_name": "LayoutModel",
      "state": {}
     },
     "a2b60dc22c954f2db73d8de9c268249d": {
      "model_module": "@jupyter-widgets/base",
      "model_module_version": "2.0.0",
      "model_name": "LayoutModel",
      "state": {}
     },
     "a2bcbd826bd0439990f2d349322422c3": {
      "model_module": "@jupyter-widgets/controls",
      "model_module_version": "2.0.0",
      "model_name": "HTMLModel",
      "state": {
       "layout": "IPY_MODEL_a2d1dabae330454b98e534698c295f64",
       "style": "IPY_MODEL_2a28aaa931dc496ea0dc072d900fe91b"
      }
     },
     "a2d1dabae330454b98e534698c295f64": {
      "model_module": "@jupyter-widgets/base",
      "model_module_version": "2.0.0",
      "model_name": "LayoutModel",
      "state": {}
     },
     "a31939646ab74b51ad80d9ad5ff9fc84": {
      "model_module": "@jupyter-widgets/base",
      "model_module_version": "2.0.0",
      "model_name": "LayoutModel",
      "state": {}
     },
     "a32b82e8226246398f2f87e94386cfcc": {
      "model_module": "@jupyter-widgets/controls",
      "model_module_version": "2.0.0",
      "model_name": "HTMLModel",
      "state": {
       "layout": "IPY_MODEL_b0e23be119ce4ef5943f2c55e72e0c90",
       "style": "IPY_MODEL_d55b890c9797435ea7a84407cbcd5786",
       "value": "100%"
      }
     },
     "a3bf3a790376498a8025e93f260113ef": {
      "model_module": "@jupyter-widgets/controls",
      "model_module_version": "2.0.0",
      "model_name": "HTMLModel",
      "state": {
       "layout": "IPY_MODEL_2284bdb82a2949a58182b4ca817aa7e7",
       "style": "IPY_MODEL_4a1ad80fe832407c97d15e8c78364dc8",
       "value": " 672/673 [01:42&lt;00:00,  7.06it/s]"
      }
     },
     "a45884fb5d7e49c384b3543ab07e4354": {
      "model_module": "@jupyter-widgets/controls",
      "model_module_version": "2.0.0",
      "model_name": "HTMLModel",
      "state": {
       "layout": "IPY_MODEL_cd60905919fe4833b9694578daa6daa0",
       "style": "IPY_MODEL_0223d929a432421fbf6312b91348120d",
       "value": "100%"
      }
     },
     "a4b41e69852545f9b229e5d40516ff76": {
      "model_module": "@jupyter-widgets/controls",
      "model_module_version": "2.0.0",
      "model_name": "HTMLStyleModel",
      "state": {
       "description_width": "",
       "font_size": null,
       "text_color": null
      }
     },
     "a569b8d0d8f445b3b9d0cfc76472483f": {
      "model_module": "@jupyter-widgets/controls",
      "model_module_version": "2.0.0",
      "model_name": "ProgressStyleModel",
      "state": {
       "description_width": ""
      }
     },
     "a58c2c1e9a0f40a3ac0c10f1e7dba497": {
      "model_module": "@jupyter-widgets/controls",
      "model_module_version": "2.0.0",
      "model_name": "HTMLStyleModel",
      "state": {
       "description_width": "",
       "font_size": null,
       "text_color": null
      }
     },
     "a6a0d4822a1c49ebb24036a8a540ae39": {
      "model_module": "@jupyter-widgets/controls",
      "model_module_version": "2.0.0",
      "model_name": "ProgressStyleModel",
      "state": {
       "description_width": ""
      }
     },
     "a6c6b60e0d12444988f95c62f1f491d3": {
      "model_module": "@jupyter-widgets/controls",
      "model_module_version": "2.0.0",
      "model_name": "HTMLModel",
      "state": {
       "layout": "IPY_MODEL_f0009eb7e0eb4d609f83f360217f4458",
       "style": "IPY_MODEL_114a4446fa8146589aa82effaebe6db0",
       "value": "100%"
      }
     },
     "a6eef65bbd8e4d8a854f258b3fb2855e": {
      "model_module": "@jupyter-widgets/controls",
      "model_module_version": "2.0.0",
      "model_name": "FloatProgressModel",
      "state": {
       "layout": "IPY_MODEL_5f35bff9cc124db4a53871696726e8b3",
       "max": 673,
       "style": "IPY_MODEL_fde09378f5744c42a073231435dec6e7",
       "value": 673
      }
     },
     "a76601944c8c48e397b668f4745c2b33": {
      "model_module": "@jupyter-widgets/controls",
      "model_module_version": "2.0.0",
      "model_name": "HTMLModel",
      "state": {
       "layout": "IPY_MODEL_44c21771297a4b479b73933aebb6c99b",
       "style": "IPY_MODEL_b61d2e5ae322488facc079db621666ae",
       "value": "100%"
      }
     },
     "a77c82c7c1cc4e92bbf42bfb21a4e46d": {
      "model_module": "@jupyter-widgets/base",
      "model_module_version": "2.0.0",
      "model_name": "LayoutModel",
      "state": {}
     },
     "a7d7e120ef0749de974dab32bce088e2": {
      "model_module": "@jupyter-widgets/controls",
      "model_module_version": "2.0.0",
      "model_name": "FloatProgressModel",
      "state": {
       "layout": "IPY_MODEL_0c5bfdc56af84937b46a04fe2ecbf50e",
       "max": 673,
       "style": "IPY_MODEL_d3881e86020843df820a807d46af3f69",
       "value": 673
      }
     },
     "a84c85efa67a46a99a54e10ce0bd9e46": {
      "model_module": "@jupyter-widgets/base",
      "model_module_version": "2.0.0",
      "model_name": "LayoutModel",
      "state": {
       "visibility": "hidden"
      }
     },
     "a851d02be4c144ac8cb771b4129162fa": {
      "model_module": "@jupyter-widgets/base",
      "model_module_version": "2.0.0",
      "model_name": "LayoutModel",
      "state": {}
     },
     "a8934ff950ec43a0a8359c956930c6d4": {
      "model_module": "@jupyter-widgets/base",
      "model_module_version": "2.0.0",
      "model_name": "LayoutModel",
      "state": {}
     },
     "a8eca4c0fbb64ffcbedb472a9543099a": {
      "model_module": "@jupyter-widgets/controls",
      "model_module_version": "2.0.0",
      "model_name": "HTMLStyleModel",
      "state": {
       "description_width": "",
       "font_size": null,
       "text_color": null
      }
     },
     "a9497202120149479e97e3db716ed35f": {
      "model_module": "@jupyter-widgets/base",
      "model_module_version": "2.0.0",
      "model_name": "LayoutModel",
      "state": {
       "visibility": "hidden"
      }
     },
     "a9bc6f69451249488ab64b061c655f4b": {
      "model_module": "@jupyter-widgets/controls",
      "model_module_version": "2.0.0",
      "model_name": "HTMLModel",
      "state": {
       "layout": "IPY_MODEL_7ffd0790062e41939091b61d35239fb9",
       "style": "IPY_MODEL_3522ec308e88430cb307baff14928b1a",
       "value": " 672/673 [01:41&lt;00:00,  7.54it/s]"
      }
     },
     "aa564f56fff44ec6b79c13a67bb5a2a9": {
      "model_module": "@jupyter-widgets/base",
      "model_module_version": "2.0.0",
      "model_name": "LayoutModel",
      "state": {}
     },
     "ab576c1858cd4527acac9a84b3ece8ed": {
      "model_module": "@jupyter-widgets/controls",
      "model_module_version": "2.0.0",
      "model_name": "HTMLModel",
      "state": {
       "layout": "IPY_MODEL_a13f56b9f4304f7fb7aceab4de472876",
       "style": "IPY_MODEL_88dff819e8f2437ebf9a4f67946e1036",
       "value": "100%"
      }
     },
     "ac5fbc4a23974e0a8462d67a0dd0bc0f": {
      "model_module": "@jupyter-widgets/controls",
      "model_module_version": "2.0.0",
      "model_name": "HTMLModel",
      "state": {
       "layout": "IPY_MODEL_2face27a5d6d49fd82e96907f9d6b8b5",
       "style": "IPY_MODEL_94ec678b4cea435d94795d4f002fb23d",
       "value": " 672/673 [01:34&lt;00:00,  7.76it/s]"
      }
     },
     "acf829fa499540dea02e3a2fb2c280cc": {
      "model_module": "@jupyter-widgets/controls",
      "model_module_version": "2.0.0",
      "model_name": "ProgressStyleModel",
      "state": {
       "description_width": ""
      }
     },
     "ad18c1122e0b4b83a5468401d6411f71": {
      "model_module": "@jupyter-widgets/base",
      "model_module_version": "2.0.0",
      "model_name": "LayoutModel",
      "state": {}
     },
     "ad39e42b771d47fba8c1ec096720ea5a": {
      "model_module": "@jupyter-widgets/base",
      "model_module_version": "2.0.0",
      "model_name": "LayoutModel",
      "state": {}
     },
     "adf40180e29e48e0950bc833d382d3e3": {
      "model_module": "@jupyter-widgets/controls",
      "model_module_version": "2.0.0",
      "model_name": "HTMLStyleModel",
      "state": {
       "description_width": "",
       "font_size": null,
       "text_color": null
      }
     },
     "ae870a884f1f41e78d98d5d8afe82720": {
      "model_module": "@jupyter-widgets/base",
      "model_module_version": "2.0.0",
      "model_name": "LayoutModel",
      "state": {}
     },
     "ae918d8575ed493aa618d15cb15016f6": {
      "model_module": "@jupyter-widgets/base",
      "model_module_version": "2.0.0",
      "model_name": "LayoutModel",
      "state": {}
     },
     "aecc3cb2c8ef496b8084e4a744ffe16e": {
      "model_module": "@jupyter-widgets/base",
      "model_module_version": "2.0.0",
      "model_name": "LayoutModel",
      "state": {}
     },
     "aed6dc5b7a9e490cb991e50414600560": {
      "model_module": "@jupyter-widgets/base",
      "model_module_version": "2.0.0",
      "model_name": "LayoutModel",
      "state": {}
     },
     "af3e067cc696458b94030e0b6617be20": {
      "model_module": "@jupyter-widgets/base",
      "model_module_version": "2.0.0",
      "model_name": "LayoutModel",
      "state": {}
     },
     "afb9256f0b304971b2972ab3015229e3": {
      "model_module": "@jupyter-widgets/base",
      "model_module_version": "2.0.0",
      "model_name": "LayoutModel",
      "state": {}
     },
     "b0e23be119ce4ef5943f2c55e72e0c90": {
      "model_module": "@jupyter-widgets/base",
      "model_module_version": "2.0.0",
      "model_name": "LayoutModel",
      "state": {}
     },
     "b11c3249883944c983cf24da60c8145b": {
      "model_module": "@jupyter-widgets/base",
      "model_module_version": "2.0.0",
      "model_name": "LayoutModel",
      "state": {}
     },
     "b136100c77ec4b07aaa0531441a16771": {
      "model_module": "@jupyter-widgets/controls",
      "model_module_version": "2.0.0",
      "model_name": "HTMLModel",
      "state": {
       "layout": "IPY_MODEL_425513a8c05549b8856155ef1ddb1311",
       "style": "IPY_MODEL_3223a2221ef14b3f91955903e8673fea",
       "value": "100%"
      }
     },
     "b184855dcb4c405cac72c87d5caf6d38": {
      "model_module": "@jupyter-widgets/controls",
      "model_module_version": "2.0.0",
      "model_name": "HTMLStyleModel",
      "state": {
       "description_width": "",
       "font_size": null,
       "text_color": null
      }
     },
     "b1f9a70bce2148709d096712ca523488": {
      "model_module": "@jupyter-widgets/base",
      "model_module_version": "2.0.0",
      "model_name": "LayoutModel",
      "state": {
       "visibility": "hidden"
      }
     },
     "b20f3aa01e914e8ea1b22b4d5c643843": {
      "model_module": "@jupyter-widgets/controls",
      "model_module_version": "2.0.0",
      "model_name": "FloatProgressModel",
      "state": {
       "bar_style": "danger",
       "layout": "IPY_MODEL_bc2339d6f79d4a3b873de1d7f2929039",
       "max": 1,
       "style": "IPY_MODEL_813065bccb2f4ee5a4dd6db8643ad730",
       "value": 1
      }
     },
     "b22be30026a44411b467f7218989d2f1": {
      "model_module": "@jupyter-widgets/base",
      "model_module_version": "2.0.0",
      "model_name": "LayoutModel",
      "state": {}
     },
     "b26d259d6e634151a903180bd4632302": {
      "model_module": "@jupyter-widgets/base",
      "model_module_version": "2.0.0",
      "model_name": "LayoutModel",
      "state": {}
     },
     "b34388b1724043178dfd56b5db08efcd": {
      "model_module": "@jupyter-widgets/base",
      "model_module_version": "2.0.0",
      "model_name": "LayoutModel",
      "state": {}
     },
     "b36858275cdf4c288a7e27a10a13ee84": {
      "model_module": "@jupyter-widgets/controls",
      "model_module_version": "2.0.0",
      "model_name": "HTMLStyleModel",
      "state": {
       "description_width": "",
       "font_size": null,
       "text_color": null
      }
     },
     "b381495010334a1fa8850b15553eafcc": {
      "model_module": "@jupyter-widgets/base",
      "model_module_version": "2.0.0",
      "model_name": "LayoutModel",
      "state": {}
     },
     "b3d3bab820854b2b9af5e1d0d5a1b80f": {
      "model_module": "@jupyter-widgets/controls",
      "model_module_version": "2.0.0",
      "model_name": "ProgressStyleModel",
      "state": {
       "description_width": ""
      }
     },
     "b428246184fa43fd8279e8367acfaa63": {
      "model_module": "@jupyter-widgets/base",
      "model_module_version": "2.0.0",
      "model_name": "LayoutModel",
      "state": {}
     },
     "b46bfbf1963f42748e544d6edfd110f7": {
      "model_module": "@jupyter-widgets/base",
      "model_module_version": "2.0.0",
      "model_name": "LayoutModel",
      "state": {}
     },
     "b47f9ab3393342aca566bd0ac98e5fc9": {
      "model_module": "@jupyter-widgets/base",
      "model_module_version": "2.0.0",
      "model_name": "LayoutModel",
      "state": {
       "visibility": "hidden"
      }
     },
     "b4d483a7e59349c78b791f6b2cfa677e": {
      "model_module": "@jupyter-widgets/controls",
      "model_module_version": "2.0.0",
      "model_name": "HTMLModel",
      "state": {
       "layout": "IPY_MODEL_3d4cf23244e742a289a0911aae594c6c",
       "style": "IPY_MODEL_86d2c22c1f524316af1d868461d25826",
       "value": "100%"
      }
     },
     "b4de156b41ee46e9a17f3037c18e4081": {
      "model_module": "@jupyter-widgets/controls",
      "model_module_version": "2.0.0",
      "model_name": "FloatProgressModel",
      "state": {
       "layout": "IPY_MODEL_e0d5e40f0d2e4f5b81759bfd3b95fb4d",
       "max": 673,
       "style": "IPY_MODEL_ee26e19ffd1945fdbbb50b279d91c94f",
       "value": 673
      }
     },
     "b566b4abe12c472492919b189871190e": {
      "model_module": "@jupyter-widgets/controls",
      "model_module_version": "2.0.0",
      "model_name": "HTMLStyleModel",
      "state": {
       "description_width": "",
       "font_size": null,
       "text_color": null
      }
     },
     "b56bc4a466c4491586466f315c7b1dab": {
      "model_module": "@jupyter-widgets/controls",
      "model_module_version": "2.0.0",
      "model_name": "FloatProgressModel",
      "state": {
       "layout": "IPY_MODEL_f5d1c147ba214350abc2a8fda9cd561c",
       "max": 673,
       "style": "IPY_MODEL_94e6a29da4a54e19b621e1d8cdac1c39",
       "value": 673
      }
     },
     "b5935e703bb44742b9cd40d1f42468b6": {
      "model_module": "@jupyter-widgets/controls",
      "model_module_version": "2.0.0",
      "model_name": "HTMLModel",
      "state": {
       "layout": "IPY_MODEL_4040e03968d646b5a8bbb58f1d483e38",
       "style": "IPY_MODEL_9dfb03da90f9429ebde13a728f503f58",
       "value": "100%"
      }
     },
     "b5aa8ed8fe18418ea01a15a557625109": {
      "model_module": "@jupyter-widgets/controls",
      "model_module_version": "2.0.0",
      "model_name": "ProgressStyleModel",
      "state": {
       "description_width": ""
      }
     },
     "b61d2e5ae322488facc079db621666ae": {
      "model_module": "@jupyter-widgets/controls",
      "model_module_version": "2.0.0",
      "model_name": "HTMLStyleModel",
      "state": {
       "description_width": "",
       "font_size": null,
       "text_color": null
      }
     },
     "b6a44d2e9fdf4666bf7a26eb95dc8adc": {
      "model_module": "@jupyter-widgets/controls",
      "model_module_version": "2.0.0",
      "model_name": "FloatProgressModel",
      "state": {
       "layout": "IPY_MODEL_8430780c55e14196bab715ddcdfce593",
       "max": 673,
       "style": "IPY_MODEL_3cae6287c3d84f2fbeb07a62adadd5e3",
       "value": 673
      }
     },
     "b6c51399d74246cfb14d73d215ce0e8e": {
      "model_module": "@jupyter-widgets/controls",
      "model_module_version": "2.0.0",
      "model_name": "HTMLStyleModel",
      "state": {
       "description_width": "",
       "font_size": null,
       "text_color": null
      }
     },
     "b6df04aa0cc8497182f73c5bfc175c78": {
      "model_module": "@jupyter-widgets/controls",
      "model_module_version": "2.0.0",
      "model_name": "FloatProgressModel",
      "state": {
       "layout": "IPY_MODEL_03a83ca50cdb4ed192f6ff0a25595956",
       "max": 673,
       "style": "IPY_MODEL_56e43a24b74043379095d9b719d573b7",
       "value": 673
      }
     },
     "b70f2e7c4a434ea28a82c1a43ec1d71f": {
      "model_module": "@jupyter-widgets/controls",
      "model_module_version": "2.0.0",
      "model_name": "HBoxModel",
      "state": {
       "children": [
        "IPY_MODEL_a185d679de6e4ddf89321cdac27601e7",
        "IPY_MODEL_b20f3aa01e914e8ea1b22b4d5c643843",
        "IPY_MODEL_f64e0b2dd4e04555bc57376d9d5a20aa"
       ],
       "layout": "IPY_MODEL_b381495010334a1fa8850b15553eafcc"
      }
     },
     "b73fde39fc0a451ba9912537d6567dcc": {
      "model_module": "@jupyter-widgets/controls",
      "model_module_version": "2.0.0",
      "model_name": "HTMLStyleModel",
      "state": {
       "description_width": "",
       "font_size": null,
       "text_color": null
      }
     },
     "b77cc0c67482480a803a50922fa77119": {
      "model_module": "@jupyter-widgets/controls",
      "model_module_version": "2.0.0",
      "model_name": "FloatProgressModel",
      "state": {
       "layout": "IPY_MODEL_7a79e56e357044feb4afb9bd494f44c9",
       "max": 673,
       "style": "IPY_MODEL_0c0055fda55a4ff0b6caa8e0bde665c8",
       "value": 673
      }
     },
     "b7b8112d63624f3bb58d6357c17425a9": {
      "model_module": "@jupyter-widgets/base",
      "model_module_version": "2.0.0",
      "model_name": "LayoutModel",
      "state": {
       "visibility": "hidden"
      }
     },
     "b84beedfff594b89aac5d95d262b475a": {
      "model_module": "@jupyter-widgets/controls",
      "model_module_version": "2.0.0",
      "model_name": "HTMLStyleModel",
      "state": {
       "description_width": "",
       "font_size": null,
       "text_color": null
      }
     },
     "b8fd0ce915584c11a9243e60b6b0aa7a": {
      "model_module": "@jupyter-widgets/base",
      "model_module_version": "2.0.0",
      "model_name": "LayoutModel",
      "state": {}
     },
     "b90947c4fa7a4a8ca913fe579de4bb9a": {
      "model_module": "@jupyter-widgets/controls",
      "model_module_version": "2.0.0",
      "model_name": "HTMLModel",
      "state": {
       "layout": "IPY_MODEL_c168ac9deed547f5b9b025bfb58ea80c",
       "style": "IPY_MODEL_54c1cd91e76341518a11ca62d8cd53f5",
       "value": " 17453/17453 [1:21:35&lt;00:00,  6.09it/s]"
      }
     },
     "b920b69d0a354187ab7df06d0d48cd40": {
      "model_module": "@jupyter-widgets/base",
      "model_module_version": "2.0.0",
      "model_name": "LayoutModel",
      "state": {}
     },
     "b9b1e11b59234c4b97c4123469d43039": {
      "model_module": "@jupyter-widgets/base",
      "model_module_version": "2.0.0",
      "model_name": "LayoutModel",
      "state": {}
     },
     "ba6aab63bef14498bafaa2d0a9968a4a": {
      "model_module": "@jupyter-widgets/controls",
      "model_module_version": "2.0.0",
      "model_name": "ProgressStyleModel",
      "state": {
       "description_width": ""
      }
     },
     "ba860a406b884e13b86d6d7ca9a23d9c": {
      "model_module": "@jupyter-widgets/controls",
      "model_module_version": "2.0.0",
      "model_name": "HTMLStyleModel",
      "state": {
       "description_width": "",
       "font_size": null,
       "text_color": null
      }
     },
     "ba8e3f38a2e145f7a5d9205751ef2f3a": {
      "model_module": "@jupyter-widgets/controls",
      "model_module_version": "2.0.0",
      "model_name": "FloatProgressModel",
      "state": {
       "layout": "IPY_MODEL_a18faa6900dd40198dd2e79bbf8021a0",
       "max": 673,
       "style": "IPY_MODEL_b3d3bab820854b2b9af5e1d0d5a1b80f",
       "value": 673
      }
     },
     "babc1a279d364dcab54374fc23dd135a": {
      "model_module": "@jupyter-widgets/controls",
      "model_module_version": "2.0.0",
      "model_name": "ProgressStyleModel",
      "state": {
       "description_width": ""
      }
     },
     "bafcf33c13c94ccf871f4b7c9e4bff34": {
      "model_module": "@jupyter-widgets/controls",
      "model_module_version": "2.0.0",
      "model_name": "HTMLStyleModel",
      "state": {
       "description_width": "",
       "font_size": null,
       "text_color": null
      }
     },
     "bba0e605da4a4b1db94610c50cc3e723": {
      "model_module": "@jupyter-widgets/controls",
      "model_module_version": "2.0.0",
      "model_name": "HTMLModel",
      "state": {
       "layout": "IPY_MODEL_fa904349d2174236b1f9d7c8c8141be6",
       "style": "IPY_MODEL_ba860a406b884e13b86d6d7ca9a23d9c",
       "value": "100%"
      }
     },
     "bc0c07cf60004005bd05c51a1dadb0a4": {
      "model_module": "@jupyter-widgets/base",
      "model_module_version": "2.0.0",
      "model_name": "LayoutModel",
      "state": {}
     },
     "bc16ddd4c4f74a90ac8d388ee893a2fc": {
      "model_module": "@jupyter-widgets/base",
      "model_module_version": "2.0.0",
      "model_name": "LayoutModel",
      "state": {}
     },
     "bc2339d6f79d4a3b873de1d7f2929039": {
      "model_module": "@jupyter-widgets/base",
      "model_module_version": "2.0.0",
      "model_name": "LayoutModel",
      "state": {
       "width": "20px"
      }
     },
     "bcb6b3fcbe224e2e86ca21ba182d6a46": {
      "model_module": "@jupyter-widgets/controls",
      "model_module_version": "2.0.0",
      "model_name": "FloatProgressModel",
      "state": {
       "layout": "IPY_MODEL_39e7297635274e4cbda220d48ae4eae3",
       "max": 673,
       "style": "IPY_MODEL_e608e3bdd2e34226bd3c39a7de06f400",
       "value": 673
      }
     },
     "bd87790021924b6f87e0cd1420b5a0a8": {
      "model_module": "@jupyter-widgets/controls",
      "model_module_version": "2.0.0",
      "model_name": "HTMLStyleModel",
      "state": {
       "description_width": "",
       "font_size": null,
       "text_color": null
      }
     },
     "bd87c77e3b6643a4af0ad063bbca4ff8": {
      "model_module": "@jupyter-widgets/controls",
      "model_module_version": "2.0.0",
      "model_name": "HTMLModel",
      "state": {
       "layout": "IPY_MODEL_19f95e8405ff42ddb8e18070738e8996",
       "style": "IPY_MODEL_871449099a474c0a8657d269ff97c620",
       "value": " 99987/? [02:31&lt;00:00, 726.37it/s]"
      }
     },
     "bd9d21a03b9b4f809fcb6bcdbf8993f8": {
      "model_module": "@jupyter-widgets/controls",
      "model_module_version": "2.0.0",
      "model_name": "HTMLStyleModel",
      "state": {
       "description_width": "",
       "font_size": null,
       "text_color": null
      }
     },
     "bdbe86afefb84cf5b5908fc583d0482e": {
      "model_module": "@jupyter-widgets/controls",
      "model_module_version": "2.0.0",
      "model_name": "HTMLStyleModel",
      "state": {
       "description_width": "",
       "font_size": null,
       "text_color": null
      }
     },
     "be0876a2d47d4bb09e4eec368ed52a37": {
      "model_module": "@jupyter-widgets/base",
      "model_module_version": "2.0.0",
      "model_name": "LayoutModel",
      "state": {}
     },
     "be58f93d727d4665ad563fe5a8232e07": {
      "model_module": "@jupyter-widgets/base",
      "model_module_version": "2.0.0",
      "model_name": "LayoutModel",
      "state": {}
     },
     "bec203b6fb4c4280adfc74af9f5e504e": {
      "model_module": "@jupyter-widgets/controls",
      "model_module_version": "2.0.0",
      "model_name": "FloatProgressModel",
      "state": {
       "layout": "IPY_MODEL_b428246184fa43fd8279e8367acfaa63",
       "max": 673,
       "style": "IPY_MODEL_acf829fa499540dea02e3a2fb2c280cc",
       "value": 673
      }
     },
     "bf458b0d40fd4a81b1276623ae293dff": {
      "model_module": "@jupyter-widgets/controls",
      "model_module_version": "2.0.0",
      "model_name": "HTMLStyleModel",
      "state": {
       "description_width": "",
       "font_size": null,
       "text_color": null
      }
     },
     "bff59d90ed51471292fb4046d4bca30c": {
      "model_module": "@jupyter-widgets/controls",
      "model_module_version": "2.0.0",
      "model_name": "FloatProgressModel",
      "state": {
       "layout": "IPY_MODEL_8b197971d0874dd5a5faf2cae5462b6d",
       "max": 673,
       "style": "IPY_MODEL_282cc47d047144fb866572eb3b122b18",
       "value": 673
      }
     },
     "c01f7dbec73c47d59bef37ec9d481f18": {
      "model_module": "@jupyter-widgets/controls",
      "model_module_version": "2.0.0",
      "model_name": "ProgressStyleModel",
      "state": {
       "description_width": ""
      }
     },
     "c08a82af6fcc40a0a51c94cb6d8e5d6c": {
      "model_module": "@jupyter-widgets/controls",
      "model_module_version": "2.0.0",
      "model_name": "HTMLModel",
      "state": {
       "layout": "IPY_MODEL_567701f0086d435d885ed3902d056df9",
       "style": "IPY_MODEL_bafcf33c13c94ccf871f4b7c9e4bff34",
       "value": "100%"
      }
     },
     "c0a5326e632d42fcb017ec17a23f1ada": {
      "model_module": "@jupyter-widgets/base",
      "model_module_version": "2.0.0",
      "model_name": "LayoutModel",
      "state": {
       "visibility": "hidden"
      }
     },
     "c0f804e22567421ba1ce53139d0fd34f": {
      "model_module": "@jupyter-widgets/base",
      "model_module_version": "2.0.0",
      "model_name": "LayoutModel",
      "state": {}
     },
     "c11d5977326e46e39e26ed6a93587880": {
      "model_module": "@jupyter-widgets/controls",
      "model_module_version": "2.0.0",
      "model_name": "FloatProgressModel",
      "state": {
       "layout": "IPY_MODEL_841b780f7b384dec86ac9ed8e06e2e11",
       "max": 673,
       "style": "IPY_MODEL_2d2401df5cd5475ab3916e60ad353bce",
       "value": 673
      }
     },
     "c13820fc0afa4b209b0431d31287ad55": {
      "model_module": "@jupyter-widgets/controls",
      "model_module_version": "2.0.0",
      "model_name": "HTMLModel",
      "state": {
       "layout": "IPY_MODEL_c16e9b23d3274f7cb4e1cc7b649bc7a9",
       "style": "IPY_MODEL_49c1e24ea26a4635926d011744e8a207",
       "value": "100%"
      }
     },
     "c146b29d58614477affe7d44bca59377": {
      "model_module": "@jupyter-widgets/base",
      "model_module_version": "2.0.0",
      "model_name": "LayoutModel",
      "state": {}
     },
     "c168ac9deed547f5b9b025bfb58ea80c": {
      "model_module": "@jupyter-widgets/base",
      "model_module_version": "2.0.0",
      "model_name": "LayoutModel",
      "state": {}
     },
     "c16e9b23d3274f7cb4e1cc7b649bc7a9": {
      "model_module": "@jupyter-widgets/base",
      "model_module_version": "2.0.0",
      "model_name": "LayoutModel",
      "state": {}
     },
     "c1b52dacc50f442f86efd0c0418a2d05": {
      "model_module": "@jupyter-widgets/controls",
      "model_module_version": "2.0.0",
      "model_name": "HTMLModel",
      "state": {
       "layout": "IPY_MODEL_92d6f7f9b9614a77be1c98625d805e73",
       "style": "IPY_MODEL_f075bdb0d7e94ecfa770862c7749cded",
       "value": "100%"
      }
     },
     "c1caa8dc2e79465fa44d405a04f6bc53": {
      "model_module": "@jupyter-widgets/base",
      "model_module_version": "2.0.0",
      "model_name": "LayoutModel",
      "state": {}
     },
     "c1e52c24dafb4ec0974c25b02bfa92e5": {
      "model_module": "@jupyter-widgets/base",
      "model_module_version": "2.0.0",
      "model_name": "LayoutModel",
      "state": {
       "visibility": "hidden"
      }
     },
     "c25f6532c6bb44cca95471dfc6578ae8": {
      "model_module": "@jupyter-widgets/base",
      "model_module_version": "2.0.0",
      "model_name": "LayoutModel",
      "state": {}
     },
     "c2a3f837c33d4884be3c1d4b42f4da76": {
      "model_module": "@jupyter-widgets/controls",
      "model_module_version": "2.0.0",
      "model_name": "HTMLModel",
      "state": {
       "layout": "IPY_MODEL_589fdf80a9b54fae9e4ad4dd450c4f0d",
       "style": "IPY_MODEL_95544522907143dfb84e4d3a7128bb39",
       "value": " 672/673 [01:41&lt;00:00,  7.47it/s]"
      }
     },
     "c2a717365bc14fcd8fd920fc48550f15": {
      "model_module": "@jupyter-widgets/base",
      "model_module_version": "2.0.0",
      "model_name": "LayoutModel",
      "state": {
       "visibility": "hidden"
      }
     },
     "c2bd878832e84e788451d3f4c7f61657": {
      "model_module": "@jupyter-widgets/controls",
      "model_module_version": "2.0.0",
      "model_name": "HTMLModel",
      "state": {
       "layout": "IPY_MODEL_e1cf437714a74b7f91e520af8342a287",
       "style": "IPY_MODEL_47431d47dc3549639af30a5e7105d7e4",
       "value": "100%"
      }
     },
     "c3097d2605a74637aa2b9d3c8dae3bec": {
      "model_module": "@jupyter-widgets/controls",
      "model_module_version": "2.0.0",
      "model_name": "HTMLModel",
      "state": {
       "layout": "IPY_MODEL_b46bfbf1963f42748e544d6edfd110f7",
       "style": "IPY_MODEL_820ae8ef6d7b451a8be8570fc1e15fe7",
       "value": " 672/673 [01:37&lt;00:00,  7.68it/s]"
      }
     },
     "c31d09d8900a46f7961a83a4e6eb40c2": {
      "model_module": "@jupyter-widgets/controls",
      "model_module_version": "2.0.0",
      "model_name": "FloatProgressModel",
      "state": {
       "bar_style": "danger",
       "layout": "IPY_MODEL_39d30e5abf604ac899b9c69952a52cb5",
       "max": 1,
       "style": "IPY_MODEL_df47e90e14e748499538e64c6b8bbd23",
       "value": 1
      }
     },
     "c343e5e916974b1189f94253c5b4d5e7": {
      "model_module": "@jupyter-widgets/controls",
      "model_module_version": "2.0.0",
      "model_name": "HTMLModel",
      "state": {
       "layout": "IPY_MODEL_c5003d9f242a42d0bf3a249f553d2343",
       "style": "IPY_MODEL_2bd1b4b52d084a1386d91a8e62a57bf2",
       "value": " 672/673 [01:41&lt;00:00,  7.36it/s]"
      }
     },
     "c391485a328d477e96c5152905e3b843": {
      "model_module": "@jupyter-widgets/controls",
      "model_module_version": "2.0.0",
      "model_name": "ProgressStyleModel",
      "state": {
       "description_width": ""
      }
     },
     "c42de4c6630c413e85d4c7812e33eaf2": {
      "model_module": "@jupyter-widgets/controls",
      "model_module_version": "2.0.0",
      "model_name": "ProgressStyleModel",
      "state": {
       "description_width": ""
      }
     },
     "c4553ed3eb304dd28f4df46405590a62": {
      "model_module": "@jupyter-widgets/base",
      "model_module_version": "2.0.0",
      "model_name": "LayoutModel",
      "state": {}
     },
     "c46aa0cb93744f5a994293a8e15554c3": {
      "model_module": "@jupyter-widgets/controls",
      "model_module_version": "2.0.0",
      "model_name": "HTMLModel",
      "state": {
       "layout": "IPY_MODEL_94e684f01e484ccbb675eae7000809db",
       "style": "IPY_MODEL_f45aba88fbd04e7eaaa46fedc711e377",
       "value": "100%"
      }
     },
     "c4e0dec678d64b088f00c0785497fdfd": {
      "model_module": "@jupyter-widgets/base",
      "model_module_version": "2.0.0",
      "model_name": "LayoutModel",
      "state": {}
     },
     "c4ef6c2c90224277901be91cc5c2c0f4": {
      "model_module": "@jupyter-widgets/controls",
      "model_module_version": "2.0.0",
      "model_name": "HTMLStyleModel",
      "state": {
       "description_width": "",
       "font_size": null,
       "text_color": null
      }
     },
     "c5003d9f242a42d0bf3a249f553d2343": {
      "model_module": "@jupyter-widgets/base",
      "model_module_version": "2.0.0",
      "model_name": "LayoutModel",
      "state": {}
     },
     "c5259746fed24ba8afe9e206588141d6": {
      "model_module": "@jupyter-widgets/base",
      "model_module_version": "2.0.0",
      "model_name": "LayoutModel",
      "state": {}
     },
     "c52f113d82a14ee7a79b627449fa7ab3": {
      "model_module": "@jupyter-widgets/controls",
      "model_module_version": "2.0.0",
      "model_name": "HTMLModel",
      "state": {
       "layout": "IPY_MODEL_649d412ca8e64171b4595d0b91e308b6",
       "style": "IPY_MODEL_9232770cdff94b74ae00abe26228f447",
       "value": "100%"
      }
     },
     "c549bfb56fe44dd1b16bde2ad03a43fa": {
      "model_module": "@jupyter-widgets/controls",
      "model_module_version": "2.0.0",
      "model_name": "HTMLStyleModel",
      "state": {
       "description_width": "",
       "font_size": null,
       "text_color": null
      }
     },
     "c58f34dbacd648cd9e66eb3204230051": {
      "model_module": "@jupyter-widgets/controls",
      "model_module_version": "2.0.0",
      "model_name": "ProgressStyleModel",
      "state": {
       "description_width": ""
      }
     },
     "c5cee9ef65194da2b3ba52a938080266": {
      "model_module": "@jupyter-widgets/base",
      "model_module_version": "2.0.0",
      "model_name": "LayoutModel",
      "state": {}
     },
     "c5ef4ca97dd64fa9b6cd8947b710ed91": {
      "model_module": "@jupyter-widgets/controls",
      "model_module_version": "2.0.0",
      "model_name": "HTMLModel",
      "state": {
       "layout": "IPY_MODEL_f24a315f59e849d58921f4c81daa4746",
       "style": "IPY_MODEL_7cf3d05e134f474593aaefdce2ba925e",
       "value": "100%"
      }
     },
     "c610110cf8904a248408456bd9ab5153": {
      "model_module": "@jupyter-widgets/controls",
      "model_module_version": "2.0.0",
      "model_name": "HTMLModel",
      "state": {
       "layout": "IPY_MODEL_d872d89b137f49d0b147f7983e497357",
       "style": "IPY_MODEL_d910b3b341c7461dbd1e8237657884ac",
       "value": " 672/673 [01:42&lt;00:00,  7.36it/s]"
      }
     },
     "c646e1c2745646a9b69b3e8c97d65661": {
      "model_module": "@jupyter-widgets/base",
      "model_module_version": "2.0.0",
      "model_name": "LayoutModel",
      "state": {
       "visibility": "hidden"
      }
     },
     "c6d5d664278e4faf83512cbf6387436e": {
      "model_module": "@jupyter-widgets/controls",
      "model_module_version": "2.0.0",
      "model_name": "FloatProgressModel",
      "state": {
       "layout": "IPY_MODEL_9e3607e1d5734fabaf15146f04d84c14",
       "max": 673,
       "style": "IPY_MODEL_4fd8d8727ad74054b0ce5b126d508fd2",
       "value": 673
      }
     },
     "c7070525b9d842a8936c1aca428280a2": {
      "model_module": "@jupyter-widgets/controls",
      "model_module_version": "2.0.0",
      "model_name": "FloatProgressModel",
      "state": {
       "layout": "IPY_MODEL_0009228f193d4fd9aad4711feae18b2b",
       "max": 673,
       "style": "IPY_MODEL_c910048051b2460bb40b2054b2e7b182",
       "value": 673
      }
     },
     "c733d357b8354f03b5a0006fe05c91ea": {
      "model_module": "@jupyter-widgets/controls",
      "model_module_version": "2.0.0",
      "model_name": "FloatProgressModel",
      "state": {
       "layout": "IPY_MODEL_ae918d8575ed493aa618d15cb15016f6",
       "max": 17453,
       "style": "IPY_MODEL_7648fa5ff2b64b50a5e073a62de0dda1",
       "value": 17453
      }
     },
     "c898b3eb943c4c0595eb4455c4fe273b": {
      "model_module": "@jupyter-widgets/controls",
      "model_module_version": "2.0.0",
      "model_name": "HTMLModel",
      "state": {
       "layout": "IPY_MODEL_b26d259d6e634151a903180bd4632302",
       "style": "IPY_MODEL_71e698bbb5b74a5184fd862e1e7012ac",
       "value": "100%"
      }
     },
     "c8e20b35ed1844eaaa7c967c84c67653": {
      "model_module": "@jupyter-widgets/controls",
      "model_module_version": "2.0.0",
      "model_name": "HTMLModel",
      "state": {
       "layout": "IPY_MODEL_69252aac826d490695a09004018d44ab",
       "style": "IPY_MODEL_a8eca4c0fbb64ffcbedb472a9543099a",
       "value": "100%"
      }
     },
     "c910048051b2460bb40b2054b2e7b182": {
      "model_module": "@jupyter-widgets/controls",
      "model_module_version": "2.0.0",
      "model_name": "ProgressStyleModel",
      "state": {
       "description_width": ""
      }
     },
     "c91bcb7a41f54161a0a696522e0f29a8": {
      "model_module": "@jupyter-widgets/controls",
      "model_module_version": "2.0.0",
      "model_name": "HTMLStyleModel",
      "state": {
       "description_width": "",
       "font_size": null,
       "text_color": null
      }
     },
     "c92f3289cad44a7aab634cff660c6181": {
      "model_module": "@jupyter-widgets/controls",
      "model_module_version": "2.0.0",
      "model_name": "ProgressStyleModel",
      "state": {
       "description_width": ""
      }
     },
     "ca5f86e8544f45afa28888201344b921": {
      "model_module": "@jupyter-widgets/controls",
      "model_module_version": "2.0.0",
      "model_name": "HTMLStyleModel",
      "state": {
       "description_width": "",
       "font_size": null,
       "text_color": null
      }
     },
     "ca7918911e764ce2928617343938b5ff": {
      "model_module": "@jupyter-widgets/controls",
      "model_module_version": "2.0.0",
      "model_name": "HTMLModel",
      "state": {
       "layout": "IPY_MODEL_ad39e42b771d47fba8c1ec096720ea5a",
       "style": "IPY_MODEL_f111ca1edf6e4b1989e5a996388701fe",
       "value": "100%"
      }
     },
     "caf1c9d89197404cb0aa8dd42710e1a0": {
      "model_module": "@jupyter-widgets/controls",
      "model_module_version": "2.0.0",
      "model_name": "HTMLStyleModel",
      "state": {
       "description_width": "",
       "font_size": null,
       "text_color": null
      }
     },
     "cb8a98894d4b4f0f89cb7a8090b739f8": {
      "model_module": "@jupyter-widgets/base",
      "model_module_version": "2.0.0",
      "model_name": "LayoutModel",
      "state": {
       "visibility": "hidden"
      }
     },
     "cbc0f2f1f23c43ab944e2cea029b157a": {
      "model_module": "@jupyter-widgets/base",
      "model_module_version": "2.0.0",
      "model_name": "LayoutModel",
      "state": {}
     },
     "cbdb6e373d994dd79cbaaffb2df3d50d": {
      "model_module": "@jupyter-widgets/controls",
      "model_module_version": "2.0.0",
      "model_name": "HTMLStyleModel",
      "state": {
       "description_width": "",
       "font_size": null,
       "text_color": null
      }
     },
     "cd11c92717ff46579c2ea2b355631541": {
      "model_module": "@jupyter-widgets/controls",
      "model_module_version": "2.0.0",
      "model_name": "HTMLModel",
      "state": {
       "layout": "IPY_MODEL_99f9fb3171bf4335ad7edc37cd862c22",
       "style": "IPY_MODEL_413b7e744bf947eda8e1dc31b9252925",
       "value": " 672/673 [01:37&lt;00:00,  7.64it/s]"
      }
     },
     "cd60905919fe4833b9694578daa6daa0": {
      "model_module": "@jupyter-widgets/base",
      "model_module_version": "2.0.0",
      "model_name": "LayoutModel",
      "state": {}
     },
     "cda2b9fb1d654bc9bfe602e6b0261492": {
      "model_module": "@jupyter-widgets/base",
      "model_module_version": "2.0.0",
      "model_name": "LayoutModel",
      "state": {
       "visibility": "hidden"
      }
     },
     "ce0486d5064149478031d702f371e9a6": {
      "model_module": "@jupyter-widgets/controls",
      "model_module_version": "2.0.0",
      "model_name": "HTMLModel",
      "state": {
       "layout": "IPY_MODEL_7aea6dd06d5f4fbd9cfa37c2c4249866",
       "style": "IPY_MODEL_9e67f871cc7748fab8bec633b856797a",
       "value": " 672/673 [01:41&lt;00:00,  7.44it/s]"
      }
     },
     "cef8b04616f54c29a12d8714ad738a5b": {
      "model_module": "@jupyter-widgets/base",
      "model_module_version": "2.0.0",
      "model_name": "LayoutModel",
      "state": {}
     },
     "cf310d8b4ba3474f89d818912db755e7": {
      "model_module": "@jupyter-widgets/controls",
      "model_module_version": "2.0.0",
      "model_name": "HTMLModel",
      "state": {
       "layout": "IPY_MODEL_8901b704e13e431ba1929d195a42d49d",
       "style": "IPY_MODEL_980986022c634752aa5ce71b99481089",
       "value": "100%"
      }
     },
     "cf99806da5c248e9b18def2468112b84": {
      "model_module": "@jupyter-widgets/controls",
      "model_module_version": "2.0.0",
      "model_name": "HTMLModel",
      "state": {
       "layout": "IPY_MODEL_d6611c9d059e46ee9bf62d246e83feea",
       "style": "IPY_MODEL_feb43042d3c04c118aa54fb256d3e003",
       "value": " 672/673 [01:38&lt;00:00,  7.47it/s]"
      }
     },
     "d046a3cad73c497683a8602fc2299a01": {
      "model_module": "@jupyter-widgets/controls",
      "model_module_version": "2.0.0",
      "model_name": "FloatProgressModel",
      "state": {
       "layout": "IPY_MODEL_1e0b23d4980345d8a195a2001251f54c",
       "max": 673,
       "style": "IPY_MODEL_3f4fd75814f6499d8cc270c1ffb09ba4",
       "value": 673
      }
     },
     "d07411c7f3524c18a311ac2448560d58": {
      "model_module": "@jupyter-widgets/controls",
      "model_module_version": "2.0.0",
      "model_name": "ProgressStyleModel",
      "state": {
       "description_width": ""
      }
     },
     "d0928cbd307243118435c9a50382b736": {
      "model_module": "@jupyter-widgets/base",
      "model_module_version": "2.0.0",
      "model_name": "LayoutModel",
      "state": {}
     },
     "d0b5d7ccfeeb4ff8a27abad1c2be4a64": {
      "model_module": "@jupyter-widgets/controls",
      "model_module_version": "2.0.0",
      "model_name": "ProgressStyleModel",
      "state": {
       "description_width": ""
      }
     },
     "d0d54cba5ec646f08995c111029ea80a": {
      "model_module": "@jupyter-widgets/base",
      "model_module_version": "2.0.0",
      "model_name": "LayoutModel",
      "state": {
       "visibility": "hidden"
      }
     },
     "d0f73d5e754f4691b7639af0371b1f2d": {
      "model_module": "@jupyter-widgets/controls",
      "model_module_version": "2.0.0",
      "model_name": "HTMLModel",
      "state": {
       "layout": "IPY_MODEL_071fcd04154f41ac9788394d3866b529",
       "style": "IPY_MODEL_b566b4abe12c472492919b189871190e",
       "value": " 4/4 [5:18:17&lt;00:00, 4748.53s/it, train epoch loss=0.192]"
      }
     },
     "d11bb94cf9134cc58c567491028b7609": {
      "model_module": "@jupyter-widgets/base",
      "model_module_version": "2.0.0",
      "model_name": "LayoutModel",
      "state": {}
     },
     "d11c4c57f7d14e8a9e20a6ebba3a4814": {
      "model_module": "@jupyter-widgets/base",
      "model_module_version": "2.0.0",
      "model_name": "LayoutModel",
      "state": {}
     },
     "d1c24e30bf4a413d8f1f3f5a6384d2a8": {
      "model_module": "@jupyter-widgets/base",
      "model_module_version": "2.0.0",
      "model_name": "LayoutModel",
      "state": {}
     },
     "d26cb55195d042b39d5c362cc2a84793": {
      "model_module": "@jupyter-widgets/controls",
      "model_module_version": "2.0.0",
      "model_name": "ProgressStyleModel",
      "state": {
       "description_width": ""
      }
     },
     "d2a3947f3a3d40d488dad90740f5635d": {
      "model_module": "@jupyter-widgets/controls",
      "model_module_version": "2.0.0",
      "model_name": "HTMLModel",
      "state": {
       "layout": "IPY_MODEL_b9b1e11b59234c4b97c4123469d43039",
       "style": "IPY_MODEL_6d3a443e743a4a879569a327fa83d22b",
       "value": " 672/673 [01:39&lt;00:00,  7.43it/s]"
      }
     },
     "d2ab89f677d044a2ac33625e9820ba8e": {
      "model_module": "@jupyter-widgets/base",
      "model_module_version": "2.0.0",
      "model_name": "LayoutModel",
      "state": {}
     },
     "d2e992a95c6e450dba334ad980698133": {
      "model_module": "@jupyter-widgets/base",
      "model_module_version": "2.0.0",
      "model_name": "LayoutModel",
      "state": {}
     },
     "d3184fd148d24b88bba83c89e0ea2f49": {
      "model_module": "@jupyter-widgets/controls",
      "model_module_version": "2.0.0",
      "model_name": "ProgressStyleModel",
      "state": {
       "description_width": ""
      }
     },
     "d3881e86020843df820a807d46af3f69": {
      "model_module": "@jupyter-widgets/controls",
      "model_module_version": "2.0.0",
      "model_name": "ProgressStyleModel",
      "state": {
       "description_width": ""
      }
     },
     "d41617bd6b304ab9aa9c10b669b66942": {
      "model_module": "@jupyter-widgets/controls",
      "model_module_version": "2.0.0",
      "model_name": "HTMLModel",
      "state": {
       "layout": "IPY_MODEL_8780b4d8b94144d8afa204961a752efa",
       "style": "IPY_MODEL_7cf2905bf1de41459a53756865a89c80",
       "value": "100%"
      }
     },
     "d4194e18dbfd4908ad138f910cb2a46f": {
      "model_module": "@jupyter-widgets/controls",
      "model_module_version": "2.0.0",
      "model_name": "HTMLStyleModel",
      "state": {
       "description_width": "",
       "font_size": null,
       "text_color": null
      }
     },
     "d41f9d2bc61748f8b20f36cd2d07cab1": {
      "model_module": "@jupyter-widgets/controls",
      "model_module_version": "2.0.0",
      "model_name": "HTMLModel",
      "state": {
       "layout": "IPY_MODEL_b8fd0ce915584c11a9243e60b6b0aa7a",
       "style": "IPY_MODEL_ec391819c6054664a9a6f60899ac206a",
       "value": " 672/673 [01:34&lt;00:00,  7.89it/s]"
      }
     },
     "d44af8966daa4ffe8d5e703ad3d916b8": {
      "model_module": "@jupyter-widgets/controls",
      "model_module_version": "2.0.0",
      "model_name": "HTMLModel",
      "state": {
       "layout": "IPY_MODEL_8e3ede6ef1df46e28a2d3b3f8be49e35",
       "style": "IPY_MODEL_0eb1ec4f14854ef8aca71f5f0475b82b",
       "value": " 672/673 [01:34&lt;00:00,  7.70it/s]"
      }
     },
     "d4fc9e1500b64088b53ea906c159c183": {
      "model_module": "@jupyter-widgets/base",
      "model_module_version": "2.0.0",
      "model_name": "LayoutModel",
      "state": {}
     },
     "d55b890c9797435ea7a84407cbcd5786": {
      "model_module": "@jupyter-widgets/controls",
      "model_module_version": "2.0.0",
      "model_name": "HTMLStyleModel",
      "state": {
       "description_width": "",
       "font_size": null,
       "text_color": null
      }
     },
     "d604f401b18a42349963a40ef8c0057d": {
      "model_module": "@jupyter-widgets/controls",
      "model_module_version": "2.0.0",
      "model_name": "HBoxModel",
      "state": {
       "children": [
        "IPY_MODEL_f0f38b2a654f4312944e60532a5d4c78",
        "IPY_MODEL_f311192b980149cd927537c3e07c2ad9",
        "IPY_MODEL_856ca3eab2dd46bcaa98c0c94fa94c36"
       ],
       "layout": "IPY_MODEL_1b723d595e414719b0f87fc6f7498bc6"
      }
     },
     "d6611c9d059e46ee9bf62d246e83feea": {
      "model_module": "@jupyter-widgets/base",
      "model_module_version": "2.0.0",
      "model_name": "LayoutModel",
      "state": {}
     },
     "d7224ad827044242b7ab704b32a17156": {
      "model_module": "@jupyter-widgets/controls",
      "model_module_version": "2.0.0",
      "model_name": "ProgressStyleModel",
      "state": {
       "description_width": ""
      }
     },
     "d725bf6a45ce480eb4b29921cd7a1f3a": {
      "model_module": "@jupyter-widgets/controls",
      "model_module_version": "2.0.0",
      "model_name": "FloatProgressModel",
      "state": {
       "layout": "IPY_MODEL_2e80fbea7de54b519ac54219aeaecc26",
       "max": 673,
       "style": "IPY_MODEL_c92f3289cad44a7aab634cff660c6181",
       "value": 673
      }
     },
     "d77445c840dd47c4952f47552b14f92f": {
      "model_module": "@jupyter-widgets/controls",
      "model_module_version": "2.0.0",
      "model_name": "HTMLModel",
      "state": {
       "layout": "IPY_MODEL_77a5938738014901847b8b7a9490602c",
       "style": "IPY_MODEL_bd9d21a03b9b4f809fcb6bcdbf8993f8",
       "value": "100%"
      }
     },
     "d872d89b137f49d0b147f7983e497357": {
      "model_module": "@jupyter-widgets/base",
      "model_module_version": "2.0.0",
      "model_name": "LayoutModel",
      "state": {}
     },
     "d8773139502c405798ff050f9d64b34c": {
      "model_module": "@jupyter-widgets/controls",
      "model_module_version": "2.0.0",
      "model_name": "FloatProgressModel",
      "state": {
       "layout": "IPY_MODEL_39487d595c5f403882dc080c32a75b6a",
       "max": 673,
       "style": "IPY_MODEL_9ef1b5847fcc4d74b0ef340bf31e6009",
       "value": 673
      }
     },
     "d8a545b05b50481bba0b2757f9e4470f": {
      "model_module": "@jupyter-widgets/base",
      "model_module_version": "2.0.0",
      "model_name": "LayoutModel",
      "state": {}
     },
     "d8c82de84b174da88e55bfb5f9778d8b": {
      "model_module": "@jupyter-widgets/controls",
      "model_module_version": "2.0.0",
      "model_name": "HTMLModel",
      "state": {
       "layout": "IPY_MODEL_6e8d49d94bf94ce1b3a4f10bc86e58c9",
       "style": "IPY_MODEL_45c3d4f1830b4688b357e533bed58c33",
       "value": "100%"
      }
     },
     "d910b3b341c7461dbd1e8237657884ac": {
      "model_module": "@jupyter-widgets/controls",
      "model_module_version": "2.0.0",
      "model_name": "HTMLStyleModel",
      "state": {
       "description_width": "",
       "font_size": null,
       "text_color": null
      }
     },
     "d9781604327340bb80c627850f9d6aee": {
      "model_module": "@jupyter-widgets/controls",
      "model_module_version": "2.0.0",
      "model_name": "FloatProgressModel",
      "state": {
       "layout": "IPY_MODEL_fdaa6a410b2d4587990c259c3b414e5b",
       "max": 673,
       "style": "IPY_MODEL_eca3447520694453981c01bba255e2d7",
       "value": 673
      }
     },
     "d9a3af883ec340b781b03d787b7fc148": {
      "model_module": "@jupyter-widgets/base",
      "model_module_version": "2.0.0",
      "model_name": "LayoutModel",
      "state": {}
     },
     "dad86994c01045b2bc900575d4385aa7": {
      "model_module": "@jupyter-widgets/controls",
      "model_module_version": "2.0.0",
      "model_name": "HTMLStyleModel",
      "state": {
       "description_width": "",
       "font_size": null,
       "text_color": null
      }
     },
     "daf4f349090c45ef98967774b3c13393": {
      "model_module": "@jupyter-widgets/controls",
      "model_module_version": "2.0.0",
      "model_name": "HTMLStyleModel",
      "state": {
       "description_width": "",
       "font_size": null,
       "text_color": null
      }
     },
     "db168913412c4553ac2d024550263e7f": {
      "model_module": "@jupyter-widgets/controls",
      "model_module_version": "2.0.0",
      "model_name": "HTMLStyleModel",
      "state": {
       "description_width": "",
       "font_size": null,
       "text_color": null
      }
     },
     "db416890b5ec4699924cfa12e1319df7": {
      "model_module": "@jupyter-widgets/base",
      "model_module_version": "2.0.0",
      "model_name": "LayoutModel",
      "state": {}
     },
     "dc06b6e03e41465d941357fae599ba9c": {
      "model_module": "@jupyter-widgets/base",
      "model_module_version": "2.0.0",
      "model_name": "LayoutModel",
      "state": {}
     },
     "dc60cc2482854762ab68eeebc67e7f98": {
      "model_module": "@jupyter-widgets/base",
      "model_module_version": "2.0.0",
      "model_name": "LayoutModel",
      "state": {}
     },
     "dc83368cb9e7462da7af7c754919ed8e": {
      "model_module": "@jupyter-widgets/base",
      "model_module_version": "2.0.0",
      "model_name": "LayoutModel",
      "state": {
       "visibility": "hidden"
      }
     },
     "dcdb352dbc6b4528a0456964360906f6": {
      "model_module": "@jupyter-widgets/controls",
      "model_module_version": "2.0.0",
      "model_name": "HTMLModel",
      "state": {
       "layout": "IPY_MODEL_1ae66d6b618149f999ab1c6a20a35d21",
       "style": "IPY_MODEL_dad86994c01045b2bc900575d4385aa7",
       "value": " 672/673 [01:34&lt;00:00,  7.96it/s]"
      }
     },
     "dcfc38514a4e4b49be066c7d03d417df": {
      "model_module": "@jupyter-widgets/base",
      "model_module_version": "2.0.0",
      "model_name": "LayoutModel",
      "state": {}
     },
     "dd740025647f4911b02cd2eddbb50c81": {
      "model_module": "@jupyter-widgets/base",
      "model_module_version": "2.0.0",
      "model_name": "LayoutModel",
      "state": {}
     },
     "de074eb415024533a8031c402a65314d": {
      "model_module": "@jupyter-widgets/base",
      "model_module_version": "2.0.0",
      "model_name": "LayoutModel",
      "state": {
       "visibility": "hidden"
      }
     },
     "de097c86fca2413c92983de978bc256c": {
      "model_module": "@jupyter-widgets/controls",
      "model_module_version": "2.0.0",
      "model_name": "HTMLStyleModel",
      "state": {
       "description_width": "",
       "font_size": null,
       "text_color": null
      }
     },
     "de4049f09cf447089b9ac64a16902561": {
      "model_module": "@jupyter-widgets/controls",
      "model_module_version": "2.0.0",
      "model_name": "FloatProgressModel",
      "state": {
       "layout": "IPY_MODEL_29fa86e37bf44c5a91e4d960ac2e80bf",
       "max": 673,
       "style": "IPY_MODEL_fccda0b908714e51b89d50b9d2fc0152",
       "value": 673
      }
     },
     "de480a8a936d47ca8a75f127755d0577": {
      "model_module": "@jupyter-widgets/controls",
      "model_module_version": "2.0.0",
      "model_name": "ProgressStyleModel",
      "state": {
       "description_width": ""
      }
     },
     "de5ffbc659ff412db22bd7909f3000ef": {
      "model_module": "@jupyter-widgets/controls",
      "model_module_version": "2.0.0",
      "model_name": "FloatProgressModel",
      "state": {
       "layout": "IPY_MODEL_82ba1c2bbcb742df8d141283ba20a17f",
       "max": 673,
       "style": "IPY_MODEL_c391485a328d477e96c5152905e3b843",
       "value": 673
      }
     },
     "df47e90e14e748499538e64c6b8bbd23": {
      "model_module": "@jupyter-widgets/controls",
      "model_module_version": "2.0.0",
      "model_name": "ProgressStyleModel",
      "state": {
       "description_width": ""
      }
     },
     "e0055d04bed7453d84f60825641a2ea1": {
      "model_module": "@jupyter-widgets/controls",
      "model_module_version": "2.0.0",
      "model_name": "FloatProgressModel",
      "state": {
       "bar_style": "success",
       "layout": "IPY_MODEL_a851d02be4c144ac8cb771b4129162fa",
       "max": 4,
       "style": "IPY_MODEL_5a9e8ee0071a4aa2855cec969f0d086a",
       "value": 4
      }
     },
     "e029e5c223d947db97ab436a10219180": {
      "model_module": "@jupyter-widgets/base",
      "model_module_version": "2.0.0",
      "model_name": "LayoutModel",
      "state": {
       "visibility": "hidden"
      }
     },
     "e0483603e365445d8cd8e382e2448857": {
      "model_module": "@jupyter-widgets/controls",
      "model_module_version": "2.0.0",
      "model_name": "HTMLModel",
      "state": {
       "layout": "IPY_MODEL_1e582fe253f8421fb67d0fb3820b0bf6",
       "style": "IPY_MODEL_31e86d7d053d4d3183dd2877edf74031",
       "value": " 672/673 [01:37&lt;00:00,  7.64it/s]"
      }
     },
     "e0d5e40f0d2e4f5b81759bfd3b95fb4d": {
      "model_module": "@jupyter-widgets/base",
      "model_module_version": "2.0.0",
      "model_name": "LayoutModel",
      "state": {}
     },
     "e1503303d2674753af0097cfee7e6653": {
      "model_module": "@jupyter-widgets/controls",
      "model_module_version": "2.0.0",
      "model_name": "FloatProgressModel",
      "state": {
       "layout": "IPY_MODEL_0f7d5e660fbd45d09aacb8fa83f90ea1",
       "max": 673,
       "style": "IPY_MODEL_673fc23560f24387bfc4e0a435fef934",
       "value": 673
      }
     },
     "e1821fe06f1143368ab67f69f1ac80e0": {
      "model_module": "@jupyter-widgets/controls",
      "model_module_version": "2.0.0",
      "model_name": "HTMLStyleModel",
      "state": {
       "description_width": "",
       "font_size": null,
       "text_color": null
      }
     },
     "e1cf437714a74b7f91e520af8342a287": {
      "model_module": "@jupyter-widgets/base",
      "model_module_version": "2.0.0",
      "model_name": "LayoutModel",
      "state": {}
     },
     "e20c937dae3845d0ab1512b4eafe2625": {
      "model_module": "@jupyter-widgets/controls",
      "model_module_version": "2.0.0",
      "model_name": "HTMLStyleModel",
      "state": {
       "description_width": "",
       "font_size": null,
       "text_color": null
      }
     },
     "e24e545beea7405c8ec5a5e82e905fe8": {
      "model_module": "@jupyter-widgets/base",
      "model_module_version": "2.0.0",
      "model_name": "LayoutModel",
      "state": {
       "visibility": "hidden"
      }
     },
     "e26918aad8de41589543adccd71d4cb1": {
      "model_module": "@jupyter-widgets/base",
      "model_module_version": "2.0.0",
      "model_name": "LayoutModel",
      "state": {}
     },
     "e2695bbf9f334813b783af448527474e": {
      "model_module": "@jupyter-widgets/controls",
      "model_module_version": "2.0.0",
      "model_name": "HTMLStyleModel",
      "state": {
       "description_width": "",
       "font_size": null,
       "text_color": null
      }
     },
     "e26b393d2cdf45b0a58dbfbdee466b86": {
      "model_module": "@jupyter-widgets/controls",
      "model_module_version": "2.0.0",
      "model_name": "HTMLModel",
      "state": {
       "layout": "IPY_MODEL_d11bb94cf9134cc58c567491028b7609",
       "style": "IPY_MODEL_e2f61afb9d6342a1bdea89bbb1efed4b",
       "value": " 672/673 [01:36&lt;00:00,  7.71it/s]"
      }
     },
     "e2b22f66cefa4f5d84ad4e73b369c4e6": {
      "model_module": "@jupyter-widgets/controls",
      "model_module_version": "2.0.0",
      "model_name": "FloatProgressModel",
      "state": {
       "layout": "IPY_MODEL_a2b3e5eb77b943e0abfaf3df12932462",
       "max": 673,
       "style": "IPY_MODEL_c58f34dbacd648cd9e66eb3204230051",
       "value": 673
      }
     },
     "e2f61afb9d6342a1bdea89bbb1efed4b": {
      "model_module": "@jupyter-widgets/controls",
      "model_module_version": "2.0.0",
      "model_name": "HTMLStyleModel",
      "state": {
       "description_width": "",
       "font_size": null,
       "text_color": null
      }
     },
     "e3031a28a9464c059b30e918b2dcf3a3": {
      "model_module": "@jupyter-widgets/controls",
      "model_module_version": "2.0.0",
      "model_name": "HTMLModel",
      "state": {
       "layout": "IPY_MODEL_edb8566a0d6b47d2a9b504caa242c46b",
       "style": "IPY_MODEL_3dea6b5263424310912c9ef04c44e527",
       "value": " 672/673 [01:37&lt;00:00,  7.52it/s]"
      }
     },
     "e3068a85537b4600a3ab68085c40b90f": {
      "model_module": "@jupyter-widgets/controls",
      "model_module_version": "2.0.0",
      "model_name": "FloatProgressModel",
      "state": {
       "layout": "IPY_MODEL_6036e3da18bc46ddabd65329128ffaa9",
       "max": 673,
       "style": "IPY_MODEL_f1d9cfa68cd34acc8b1e71e6f50c1a06",
       "value": 673
      }
     },
     "e3420d7f873d42af9a44a0f6d7036286": {
      "model_module": "@jupyter-widgets/base",
      "model_module_version": "2.0.0",
      "model_name": "LayoutModel",
      "state": {
       "visibility": "hidden"
      }
     },
     "e3782e0382734bdb95568c2ef1d804a1": {
      "model_module": "@jupyter-widgets/controls",
      "model_module_version": "2.0.0",
      "model_name": "HTMLModel",
      "state": {
       "layout": "IPY_MODEL_6115083225ed4c3fa946c0111f8763c4",
       "style": "IPY_MODEL_2556093aee0b48a7a2bd7914a8d0ef6a",
       "value": "100%"
      }
     },
     "e39a105a889c40f2adba9414ea54cddd": {
      "model_module": "@jupyter-widgets/controls",
      "model_module_version": "2.0.0",
      "model_name": "HTMLModel",
      "state": {
       "layout": "IPY_MODEL_82aff7e8e8a94e3294b97df710d5ca39",
       "style": "IPY_MODEL_25951281a06e40b380e78f750d300bbf",
       "value": " 672/673 [01:39&lt;00:00,  7.37it/s]"
      }
     },
     "e3d2497d6f8942bfa599aa02273ff45c": {
      "model_module": "@jupyter-widgets/controls",
      "model_module_version": "2.0.0",
      "model_name": "ProgressStyleModel",
      "state": {
       "description_width": ""
      }
     },
     "e411ddbed3454ba8ae50adac47235a6c": {
      "model_module": "@jupyter-widgets/base",
      "model_module_version": "2.0.0",
      "model_name": "LayoutModel",
      "state": {}
     },
     "e4124a84e2fb4dc5a05352e21740f403": {
      "model_module": "@jupyter-widgets/controls",
      "model_module_version": "2.0.0",
      "model_name": "FloatProgressModel",
      "state": {
       "layout": "IPY_MODEL_4115148765f145a68a32f682a81073cf",
       "max": 17453,
       "style": "IPY_MODEL_502c6ca1d1ef418b9a998f7a39fe84a3",
       "value": 17453
      }
     },
     "e46b906f6d014546b9a7ffe57a397f3e": {
      "model_module": "@jupyter-widgets/controls",
      "model_module_version": "2.0.0",
      "model_name": "FloatProgressModel",
      "state": {
       "layout": "IPY_MODEL_aa564f56fff44ec6b79c13a67bb5a2a9",
       "max": 673,
       "style": "IPY_MODEL_3dbb74a19bae4653b57635025ae87a0f",
       "value": 673
      }
     },
     "e480db6dbcbf4497a8abefe4afae60b8": {
      "model_module": "@jupyter-widgets/base",
      "model_module_version": "2.0.0",
      "model_name": "LayoutModel",
      "state": {
       "visibility": "hidden"
      }
     },
     "e48bb1af70bb48108a10cbc10ad302ff": {
      "model_module": "@jupyter-widgets/controls",
      "model_module_version": "2.0.0",
      "model_name": "FloatProgressModel",
      "state": {
       "layout": "IPY_MODEL_57947e2e37894170aba85e42fed86782",
       "max": 673,
       "style": "IPY_MODEL_babc1a279d364dcab54374fc23dd135a",
       "value": 673
      }
     },
     "e497b7ddd60c4b1fabef31d3baaa31d4": {
      "model_module": "@jupyter-widgets/controls",
      "model_module_version": "2.0.0",
      "model_name": "FloatProgressModel",
      "state": {
       "layout": "IPY_MODEL_aecc3cb2c8ef496b8084e4a744ffe16e",
       "max": 673,
       "style": "IPY_MODEL_0805096757934c7fa22fae221d14ffa0",
       "value": 673
      }
     },
     "e51ff254bbfa40ddb5ee13014b868e4c": {
      "model_module": "@jupyter-widgets/controls",
      "model_module_version": "2.0.0",
      "model_name": "HTMLModel",
      "state": {
       "layout": "IPY_MODEL_c0f804e22567421ba1ce53139d0fd34f",
       "style": "IPY_MODEL_b36858275cdf4c288a7e27a10a13ee84",
       "value": " 672/673 [01:39&lt;00:00,  7.41it/s]"
      }
     },
     "e5433fe686304d559328f9ec6e737cd9": {
      "model_module": "@jupyter-widgets/controls",
      "model_module_version": "2.0.0",
      "model_name": "ProgressStyleModel",
      "state": {
       "description_width": ""
      }
     },
     "e5d74fb51f364455bc7e9444a17e11dd": {
      "model_module": "@jupyter-widgets/base",
      "model_module_version": "2.0.0",
      "model_name": "LayoutModel",
      "state": {}
     },
     "e608e3bdd2e34226bd3c39a7de06f400": {
      "model_module": "@jupyter-widgets/controls",
      "model_module_version": "2.0.0",
      "model_name": "ProgressStyleModel",
      "state": {
       "description_width": ""
      }
     },
     "e6147159e43741a7818c8798bb282eef": {
      "model_module": "@jupyter-widgets/base",
      "model_module_version": "2.0.0",
      "model_name": "LayoutModel",
      "state": {
       "visibility": "hidden"
      }
     },
     "e6f4f738bb82451f8eb8834e04eb0220": {
      "model_module": "@jupyter-widgets/controls",
      "model_module_version": "2.0.0",
      "model_name": "ProgressStyleModel",
      "state": {
       "description_width": ""
      }
     },
     "e6fcf14ef6f14b1cbb88b78b4f93ff83": {
      "model_module": "@jupyter-widgets/controls",
      "model_module_version": "2.0.0",
      "model_name": "HTMLStyleModel",
      "state": {
       "description_width": "",
       "font_size": null,
       "text_color": null
      }
     },
     "e704b38067a0409aa9b09794d2f10f67": {
      "model_module": "@jupyter-widgets/base",
      "model_module_version": "2.0.0",
      "model_name": "LayoutModel",
      "state": {
       "visibility": "hidden"
      }
     },
     "e71816b4eea64b7da6fbc824c20a78ce": {
      "model_module": "@jupyter-widgets/controls",
      "model_module_version": "2.0.0",
      "model_name": "HTMLStyleModel",
      "state": {
       "description_width": "",
       "font_size": null,
       "text_color": null
      }
     },
     "e806433ffcd94a3a873dea3f1f2f38e5": {
      "model_module": "@jupyter-widgets/controls",
      "model_module_version": "2.0.0",
      "model_name": "HTMLStyleModel",
      "state": {
       "description_width": "",
       "font_size": null,
       "text_color": null
      }
     },
     "e833a5393e5c4bacb8f4ea1fc138a9b1": {
      "model_module": "@jupyter-widgets/controls",
      "model_module_version": "2.0.0",
      "model_name": "HTMLModel",
      "state": {
       "layout": "IPY_MODEL_20a2f5dcf10946bb8c11daa1af342d1b",
       "style": "IPY_MODEL_64749690fdb84ed79eb110f5c250d365",
       "value": " 672/673 [01:38&lt;00:00,  7.57it/s]"
      }
     },
     "e858dc859354476691c93c6290a30243": {
      "model_module": "@jupyter-widgets/controls",
      "model_module_version": "2.0.0",
      "model_name": "ProgressStyleModel",
      "state": {
       "description_width": ""
      }
     },
     "e85e14b5e6a44dde99b6321104369b51": {
      "model_module": "@jupyter-widgets/controls",
      "model_module_version": "2.0.0",
      "model_name": "HTMLModel",
      "state": {
       "layout": "IPY_MODEL_850bc2f56e744a5bb7a39d7f3f7330d8",
       "style": "IPY_MODEL_9a6d54c6bd5a4bbd88fc5fcf7e2bb113",
       "value": "100%"
      }
     },
     "e8b45889d3a24d3c90eeb0378c96fece": {
      "model_module": "@jupyter-widgets/controls",
      "model_module_version": "2.0.0",
      "model_name": "FloatProgressModel",
      "state": {
       "layout": "IPY_MODEL_f590e46994264ddb80f69eb57737720b",
       "max": 673,
       "style": "IPY_MODEL_d26cb55195d042b39d5c362cc2a84793",
       "value": 673
      }
     },
     "e8c13b6d9326447c9ba3f4410662ae54": {
      "model_module": "@jupyter-widgets/base",
      "model_module_version": "2.0.0",
      "model_name": "LayoutModel",
      "state": {
       "visibility": "hidden"
      }
     },
     "e95de73f022542ada3abfcae455ee666": {
      "model_module": "@jupyter-widgets/base",
      "model_module_version": "2.0.0",
      "model_name": "LayoutModel",
      "state": {}
     },
     "ea62ac67100e4348a41230d4bc83ee7b": {
      "model_module": "@jupyter-widgets/base",
      "model_module_version": "2.0.0",
      "model_name": "LayoutModel",
      "state": {}
     },
     "eaba8e29deaa40edbe8832ae16153369": {
      "model_module": "@jupyter-widgets/controls",
      "model_module_version": "2.0.0",
      "model_name": "HTMLModel",
      "state": {
       "layout": "IPY_MODEL_1dcf1e91f5fc4c8a84dc2f607fb2b71e",
       "style": "IPY_MODEL_0ebbd06cdf70455f8ff0d1104bc980ec",
       "value": " 672/673 [01:38&lt;00:00,  7.44it/s]"
      }
     },
     "eae6807913904fde97c87edb857b0c2e": {
      "model_module": "@jupyter-widgets/base",
      "model_module_version": "2.0.0",
      "model_name": "LayoutModel",
      "state": {}
     },
     "ebc895e47fcd4fb089ae3893fff83d89": {
      "model_module": "@jupyter-widgets/controls",
      "model_module_version": "2.0.0",
      "model_name": "HTMLStyleModel",
      "state": {
       "description_width": "",
       "font_size": null,
       "text_color": null
      }
     },
     "ec24081abd2448fa9405889517db4e12": {
      "model_module": "@jupyter-widgets/controls",
      "model_module_version": "2.0.0",
      "model_name": "HTMLStyleModel",
      "state": {
       "description_width": "",
       "font_size": null,
       "text_color": null
      }
     },
     "ec391819c6054664a9a6f60899ac206a": {
      "model_module": "@jupyter-widgets/controls",
      "model_module_version": "2.0.0",
      "model_name": "HTMLStyleModel",
      "state": {
       "description_width": "",
       "font_size": null,
       "text_color": null
      }
     },
     "ec7b10a72c89449bb6673b44a884da28": {
      "model_module": "@jupyter-widgets/base",
      "model_module_version": "2.0.0",
      "model_name": "LayoutModel",
      "state": {}
     },
     "eca3447520694453981c01bba255e2d7": {
      "model_module": "@jupyter-widgets/controls",
      "model_module_version": "2.0.0",
      "model_name": "ProgressStyleModel",
      "state": {
       "description_width": ""
      }
     },
     "ed04d4fa3b91455293e84b9b00cb8f73": {
      "model_module": "@jupyter-widgets/controls",
      "model_module_version": "2.0.0",
      "model_name": "FloatProgressModel",
      "state": {
       "layout": "IPY_MODEL_5f02a1ba22fa4cc795f72237e4148642",
       "max": 673,
       "style": "IPY_MODEL_e3d2497d6f8942bfa599aa02273ff45c",
       "value": 673
      }
     },
     "ed6de1cb625f43849eac2602fd89144b": {
      "model_module": "@jupyter-widgets/base",
      "model_module_version": "2.0.0",
      "model_name": "LayoutModel",
      "state": {
       "visibility": "hidden"
      }
     },
     "ed914f766b534907b0260aacfaf2b221": {
      "model_module": "@jupyter-widgets/base",
      "model_module_version": "2.0.0",
      "model_name": "LayoutModel",
      "state": {}
     },
     "edb8566a0d6b47d2a9b504caa242c46b": {
      "model_module": "@jupyter-widgets/base",
      "model_module_version": "2.0.0",
      "model_name": "LayoutModel",
      "state": {}
     },
     "ee0c14ff289545678b55f66f9637c0b0": {
      "model_module": "@jupyter-widgets/controls",
      "model_module_version": "2.0.0",
      "model_name": "HTMLStyleModel",
      "state": {
       "description_width": "",
       "font_size": null,
       "text_color": null
      }
     },
     "ee26e19ffd1945fdbbb50b279d91c94f": {
      "model_module": "@jupyter-widgets/controls",
      "model_module_version": "2.0.0",
      "model_name": "ProgressStyleModel",
      "state": {
       "description_width": ""
      }
     },
     "eeb6d4f45d71421ca0b026f3baa54f78": {
      "model_module": "@jupyter-widgets/controls",
      "model_module_version": "2.0.0",
      "model_name": "HTMLModel",
      "state": {
       "layout": "IPY_MODEL_28cf11d6b00e4654a393b7a43a829c02",
       "style": "IPY_MODEL_2e765e79f89d41dfa802d552947f941e",
       "value": " 672/673 [01:40&lt;00:00,  7.45it/s]"
      }
     },
     "ef182bd99a4140fbad3b206b8ffe7b2f": {
      "model_module": "@jupyter-widgets/controls",
      "model_module_version": "2.0.0",
      "model_name": "HTMLStyleModel",
      "state": {
       "description_width": "",
       "font_size": null,
       "text_color": null
      }
     },
     "efc3c6e4b95c464f8a6ab6c8b240437c": {
      "model_module": "@jupyter-widgets/base",
      "model_module_version": "2.0.0",
      "model_name": "LayoutModel",
      "state": {
       "visibility": "hidden"
      }
     },
     "f0009eb7e0eb4d609f83f360217f4458": {
      "model_module": "@jupyter-widgets/base",
      "model_module_version": "2.0.0",
      "model_name": "LayoutModel",
      "state": {}
     },
     "f05248abc4024ebdaf018898998de110": {
      "model_module": "@jupyter-widgets/base",
      "model_module_version": "2.0.0",
      "model_name": "LayoutModel",
      "state": {}
     },
     "f07181827031486fa2f2eba6c06eaf91": {
      "model_module": "@jupyter-widgets/controls",
      "model_module_version": "2.0.0",
      "model_name": "ProgressStyleModel",
      "state": {
       "description_width": ""
      }
     },
     "f075bdb0d7e94ecfa770862c7749cded": {
      "model_module": "@jupyter-widgets/controls",
      "model_module_version": "2.0.0",
      "model_name": "HTMLStyleModel",
      "state": {
       "description_width": "",
       "font_size": null,
       "text_color": null
      }
     },
     "f08169b146914859905921a3bf8ba3ba": {
      "model_module": "@jupyter-widgets/controls",
      "model_module_version": "2.0.0",
      "model_name": "HTMLStyleModel",
      "state": {
       "description_width": "",
       "font_size": null,
       "text_color": null
      }
     },
     "f0d1a4637c0e4fe69e5e404cfc7a5347": {
      "model_module": "@jupyter-widgets/controls",
      "model_module_version": "2.0.0",
      "model_name": "HTMLModel",
      "state": {
       "layout": "IPY_MODEL_08dc5f69543d4f37af26995fb10acb9f",
       "style": "IPY_MODEL_8ff8856ae1564753bb5a015521a5d290",
       "value": " 17453/17453 [1:20:35&lt;00:00,  5.98it/s]"
      }
     },
     "f0f38b2a654f4312944e60532a5d4c78": {
      "model_module": "@jupyter-widgets/controls",
      "model_module_version": "2.0.0",
      "model_name": "HTMLModel",
      "state": {
       "layout": "IPY_MODEL_3a9c9dc44dfc456f8be135c4569ddf3d",
       "style": "IPY_MODEL_2c8a3d24eb82479e8c1e193dfcea6324",
       "value": "  0%"
      }
     },
     "f111ca1edf6e4b1989e5a996388701fe": {
      "model_module": "@jupyter-widgets/controls",
      "model_module_version": "2.0.0",
      "model_name": "HTMLStyleModel",
      "state": {
       "description_width": "",
       "font_size": null,
       "text_color": null
      }
     },
     "f1d9cfa68cd34acc8b1e71e6f50c1a06": {
      "model_module": "@jupyter-widgets/controls",
      "model_module_version": "2.0.0",
      "model_name": "ProgressStyleModel",
      "state": {
       "description_width": ""
      }
     },
     "f24a315f59e849d58921f4c81daa4746": {
      "model_module": "@jupyter-widgets/base",
      "model_module_version": "2.0.0",
      "model_name": "LayoutModel",
      "state": {}
     },
     "f285e6300a6a4b16b6c686e54c330116": {
      "model_module": "@jupyter-widgets/base",
      "model_module_version": "2.0.0",
      "model_name": "LayoutModel",
      "state": {
       "visibility": "hidden"
      }
     },
     "f28c126f65204fc9b916111133cf2b26": {
      "model_module": "@jupyter-widgets/base",
      "model_module_version": "2.0.0",
      "model_name": "LayoutModel",
      "state": {}
     },
     "f2ae30a064ee401fa9e7333395af3c10": {
      "model_module": "@jupyter-widgets/controls",
      "model_module_version": "2.0.0",
      "model_name": "HTMLStyleModel",
      "state": {
       "description_width": "",
       "font_size": null,
       "text_color": null
      }
     },
     "f2d825d9fac64645af4cefe5c08d23c9": {
      "model_module": "@jupyter-widgets/base",
      "model_module_version": "2.0.0",
      "model_name": "LayoutModel",
      "state": {}
     },
     "f2db41635e09422b86e6d5226440ad64": {
      "model_module": "@jupyter-widgets/controls",
      "model_module_version": "2.0.0",
      "model_name": "FloatProgressModel",
      "state": {
       "layout": "IPY_MODEL_04045c7d7b954fe498b7db1348c68cc9",
       "max": 673,
       "style": "IPY_MODEL_8a3669fce8ae4a22a3dcd5989f781be1",
       "value": 673
      }
     },
     "f2e3cdb5280d4cb1a6d2880d8d7944c2": {
      "model_module": "@jupyter-widgets/controls",
      "model_module_version": "2.0.0",
      "model_name": "HTMLModel",
      "state": {
       "layout": "IPY_MODEL_c25f6532c6bb44cca95471dfc6578ae8",
       "style": "IPY_MODEL_3a41637f49754c18b3ab1cfbeeda051b",
       "value": " 672/673 [01:39&lt;00:00,  7.50it/s]"
      }
     },
     "f311192b980149cd927537c3e07c2ad9": {
      "model_module": "@jupyter-widgets/controls",
      "model_module_version": "2.0.0",
      "model_name": "FloatProgressModel",
      "state": {
       "bar_style": "danger",
       "layout": "IPY_MODEL_b11c3249883944c983cf24da60c8145b",
       "max": 17453,
       "style": "IPY_MODEL_71cbf6c8bb0e4e51bc0e7a175bf071ff",
       "value": 38
      }
     },
     "f45aba88fbd04e7eaaa46fedc711e377": {
      "model_module": "@jupyter-widgets/controls",
      "model_module_version": "2.0.0",
      "model_name": "HTMLStyleModel",
      "state": {
       "description_width": "",
       "font_size": null,
       "text_color": null
      }
     },
     "f4dce0c7e73c49b3891d09dfc76983ff": {
      "model_module": "@jupyter-widgets/controls",
      "model_module_version": "2.0.0",
      "model_name": "HTMLModel",
      "state": {
       "layout": "IPY_MODEL_dc60cc2482854762ab68eeebc67e7f98",
       "style": "IPY_MODEL_348107093d2045f78580462071387e62",
       "value": " 672/673 [01:38&lt;00:00,  7.58it/s]"
      }
     },
     "f4ea5dad6a2b4da2b1fc9a061c0e5827": {
      "model_module": "@jupyter-widgets/controls",
      "model_module_version": "2.0.0",
      "model_name": "HTMLModel",
      "state": {
       "layout": "IPY_MODEL_4afa342f737b46a69a53e762c8084376",
       "style": "IPY_MODEL_92957771af7145ec85d983a1801757a7",
       "value": " 672/673 [01:40&lt;00:00,  7.44it/s]"
      }
     },
     "f5019ea2fad54befa0266bf4f484f317": {
      "model_module": "@jupyter-widgets/base",
      "model_module_version": "2.0.0",
      "model_name": "LayoutModel",
      "state": {}
     },
     "f58130693e394b21b51a0f05cc8d60d9": {
      "model_module": "@jupyter-widgets/controls",
      "model_module_version": "2.0.0",
      "model_name": "HTMLModel",
      "state": {
       "layout": "IPY_MODEL_01e824e256d845b59db99db5ebdc6d58",
       "style": "IPY_MODEL_3a8062ac1f284213b06e7ec193195f22",
       "value": "100%"
      }
     },
     "f581b8189050421b842d678cfa228145": {
      "model_module": "@jupyter-widgets/controls",
      "model_module_version": "2.0.0",
      "model_name": "FloatProgressModel",
      "state": {
       "layout": "IPY_MODEL_0fcb52940d224093a45850a3843cca93",
       "max": 673,
       "style": "IPY_MODEL_75e2bcc6cfb54cc98b16bef7f803e569",
       "value": 673
      }
     },
     "f590e46994264ddb80f69eb57737720b": {
      "model_module": "@jupyter-widgets/base",
      "model_module_version": "2.0.0",
      "model_name": "LayoutModel",
      "state": {}
     },
     "f5be2cd5847f4f39bb419e4b9cbb8a72": {
      "model_module": "@jupyter-widgets/base",
      "model_module_version": "2.0.0",
      "model_name": "LayoutModel",
      "state": {
       "visibility": "hidden"
      }
     },
     "f5d1c147ba214350abc2a8fda9cd561c": {
      "model_module": "@jupyter-widgets/base",
      "model_module_version": "2.0.0",
      "model_name": "LayoutModel",
      "state": {}
     },
     "f60f512ef06a48b4ada00a163b7a2f39": {
      "model_module": "@jupyter-widgets/base",
      "model_module_version": "2.0.0",
      "model_name": "LayoutModel",
      "state": {}
     },
     "f6465ba673a440ccbb3a68989372f027": {
      "model_module": "@jupyter-widgets/controls",
      "model_module_version": "2.0.0",
      "model_name": "HTMLModel",
      "state": {
       "layout": "IPY_MODEL_d4fc9e1500b64088b53ea906c159c183",
       "style": "IPY_MODEL_9d907d645d9949078e09babdff5f86fc",
       "value": "100%"
      }
     },
     "f6488a6e022f47218518a9649febfd87": {
      "model_module": "@jupyter-widgets/base",
      "model_module_version": "2.0.0",
      "model_name": "LayoutModel",
      "state": {}
     },
     "f64e0b2dd4e04555bc57376d9d5a20aa": {
      "model_module": "@jupyter-widgets/controls",
      "model_module_version": "2.0.0",
      "model_name": "HTMLModel",
      "state": {
       "layout": "IPY_MODEL_d2e992a95c6e450dba334ad980698133",
       "style": "IPY_MODEL_70bbee6430f04700adddcfabfdb5e930",
       "value": " 103954/? [02:32&lt;00:00, 700.37it/s]"
      }
     },
     "f65ecf974527482b934bb6404fb8bb40": {
      "model_module": "@jupyter-widgets/base",
      "model_module_version": "2.0.0",
      "model_name": "LayoutModel",
      "state": {
       "visibility": "hidden"
      }
     },
     "f688ef77189045169b830888e2b3af7e": {
      "model_module": "@jupyter-widgets/controls",
      "model_module_version": "2.0.0",
      "model_name": "ProgressStyleModel",
      "state": {
       "description_width": ""
      }
     },
     "f748074f86db40c8a7fc428697193f24": {
      "model_module": "@jupyter-widgets/base",
      "model_module_version": "2.0.0",
      "model_name": "LayoutModel",
      "state": {
       "visibility": "hidden"
      }
     },
     "f7e7c9a2f7054a54aef071c4cdb90683": {
      "model_module": "@jupyter-widgets/base",
      "model_module_version": "2.0.0",
      "model_name": "LayoutModel",
      "state": {}
     },
     "f80896f4fb1043f18200219a7c7b48d4": {
      "model_module": "@jupyter-widgets/controls",
      "model_module_version": "2.0.0",
      "model_name": "HTMLStyleModel",
      "state": {
       "description_width": "",
       "font_size": null,
       "text_color": null
      }
     },
     "f834a79f955c4457a78d7dc8e2830d2e": {
      "model_module": "@jupyter-widgets/controls",
      "model_module_version": "2.0.0",
      "model_name": "HTMLStyleModel",
      "state": {
       "description_width": "",
       "font_size": null,
       "text_color": null
      }
     },
     "f8ab845b49a34d5db611a2206890a8ac": {
      "model_module": "@jupyter-widgets/base",
      "model_module_version": "2.0.0",
      "model_name": "LayoutModel",
      "state": {}
     },
     "f95dd5549ec546d2a6df66bad393d180": {
      "model_module": "@jupyter-widgets/controls",
      "model_module_version": "2.0.0",
      "model_name": "HTMLModel",
      "state": {
       "layout": "IPY_MODEL_2b1c6385eaa843ed848914375cbfc479",
       "style": "IPY_MODEL_5788688e5c7c4990ac49ca4d5b005cf1",
       "value": " 672/673 [01:45&lt;00:00,  7.44it/s]"
      }
     },
     "f9d12d7bb36a4a17a2cee62dc39ba2f2": {
      "model_module": "@jupyter-widgets/base",
      "model_module_version": "2.0.0",
      "model_name": "LayoutModel",
      "state": {}
     },
     "f9d53deb27b44490aacaf5b55ad76813": {
      "model_module": "@jupyter-widgets/controls",
      "model_module_version": "2.0.0",
      "model_name": "HTMLModel",
      "state": {
       "layout": "IPY_MODEL_dc06b6e03e41465d941357fae599ba9c",
       "style": "IPY_MODEL_caf1c9d89197404cb0aa8dd42710e1a0",
       "value": " 17453/17453 [1:19:13&lt;00:00,  7.09it/s]"
      }
     },
     "fa84bfa2cea446698b2291b66e1613e7": {
      "model_module": "@jupyter-widgets/controls",
      "model_module_version": "2.0.0",
      "model_name": "ProgressStyleModel",
      "state": {
       "description_width": ""
      }
     },
     "fa904349d2174236b1f9d7c8c8141be6": {
      "model_module": "@jupyter-widgets/base",
      "model_module_version": "2.0.0",
      "model_name": "LayoutModel",
      "state": {}
     },
     "fbeddf0f2a614686876db4b184ab5e86": {
      "model_module": "@jupyter-widgets/base",
      "model_module_version": "2.0.0",
      "model_name": "LayoutModel",
      "state": {
       "visibility": "hidden"
      }
     },
     "fc34e119526a43b5b9f712bab57803b8": {
      "model_module": "@jupyter-widgets/base",
      "model_module_version": "2.0.0",
      "model_name": "LayoutModel",
      "state": {}
     },
     "fccda0b908714e51b89d50b9d2fc0152": {
      "model_module": "@jupyter-widgets/controls",
      "model_module_version": "2.0.0",
      "model_name": "ProgressStyleModel",
      "state": {
       "description_width": ""
      }
     },
     "fcf378d3b79b443aa9ab42b2f04d642a": {
      "model_module": "@jupyter-widgets/controls",
      "model_module_version": "2.0.0",
      "model_name": "HTMLModel",
      "state": {
       "layout": "IPY_MODEL_b920b69d0a354187ab7df06d0d48cd40",
       "style": "IPY_MODEL_959117942c394f288e185f6498e870e0",
       "value": "100%"
      }
     },
     "fcf97151a5fd4fea91a3b7536a086b56": {
      "model_module": "@jupyter-widgets/base",
      "model_module_version": "2.0.0",
      "model_name": "LayoutModel",
      "state": {
       "visibility": "hidden"
      }
     },
     "fd3f457faaa44704ae0c94e0d3e013f6": {
      "model_module": "@jupyter-widgets/controls",
      "model_module_version": "2.0.0",
      "model_name": "HTMLStyleModel",
      "state": {
       "description_width": "",
       "font_size": null,
       "text_color": null
      }
     },
     "fdaa6a410b2d4587990c259c3b414e5b": {
      "model_module": "@jupyter-widgets/base",
      "model_module_version": "2.0.0",
      "model_name": "LayoutModel",
      "state": {}
     },
     "fdb2ad3921724ec78bd5e7b2ecf88848": {
      "model_module": "@jupyter-widgets/base",
      "model_module_version": "2.0.0",
      "model_name": "LayoutModel",
      "state": {}
     },
     "fde09378f5744c42a073231435dec6e7": {
      "model_module": "@jupyter-widgets/controls",
      "model_module_version": "2.0.0",
      "model_name": "ProgressStyleModel",
      "state": {
       "description_width": ""
      }
     },
     "feb43042d3c04c118aa54fb256d3e003": {
      "model_module": "@jupyter-widgets/controls",
      "model_module_version": "2.0.0",
      "model_name": "HTMLStyleModel",
      "state": {
       "description_width": "",
       "font_size": null,
       "text_color": null
      }
     },
     "ff333d57a2224fcfb1a7f3aad0bd91a2": {
      "model_module": "@jupyter-widgets/controls",
      "model_module_version": "2.0.0",
      "model_name": "FloatProgressModel",
      "state": {
       "layout": "IPY_MODEL_f9d12d7bb36a4a17a2cee62dc39ba2f2",
       "max": 673,
       "style": "IPY_MODEL_d7224ad827044242b7ab704b32a17156",
       "value": 673
      }
     },
     "ff5e6a7b8eab445f98e7cd76961a0814": {
      "model_module": "@jupyter-widgets/controls",
      "model_module_version": "2.0.0",
      "model_name": "HTMLModel",
      "state": {
       "layout": "IPY_MODEL_230d48d6daec4f3da1092b32403f3c4e",
       "style": "IPY_MODEL_4d0b357bc3d748938fad981a61dad7a7",
       "value": " 672/673 [01:39&lt;00:00,  7.49it/s]"
      }
     },
     "ffbf1fb00ac941298a56b6d87eabad3d": {
      "model_module": "@jupyter-widgets/base",
      "model_module_version": "2.0.0",
      "model_name": "LayoutModel",
      "state": {}
     }
    },
    "version_major": 2,
    "version_minor": 0
   }
  }
 },
 "nbformat": 4,
 "nbformat_minor": 5
}
