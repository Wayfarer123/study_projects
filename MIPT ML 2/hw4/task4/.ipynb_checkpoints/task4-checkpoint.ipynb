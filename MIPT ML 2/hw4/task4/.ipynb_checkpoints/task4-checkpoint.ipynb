{
 "cells": [
  {
   "cell_type": "code",
   "execution_count": 1,
   "id": "a58284ef-9899-46f1-bf9d-88a403ff69fa",
   "metadata": {},
   "outputs": [],
   "source": [
    "import json\n",
    "import torch\n",
    "import torch.optim as optim\n",
    "import torch.nn as nn\n",
    "from torch.nn import functional as F\n",
    "from transformers import AutoModel, AutoTokenizer\n",
    "from torch.utils.data import DataLoader, Dataset\n",
    "from torch.nn.utils.rnn import pad_sequence\n",
    "from torch.utils.tensorboard import SummaryWriter\n",
    "import numpy as np\n",
    "from tqdm.auto import tqdm\n",
    "import pandas as pd\n",
    "\n",
    "device = \"cuda\" if torch.cuda.is_available() else \"cpu\""
   ]
  },
  {
   "cell_type": "code",
   "execution_count": 16,
   "id": "142b17fa-dcdc-4c27-bbbf-df0e9c74be36",
   "metadata": {},
   "outputs": [],
   "source": [
    "train_data = pd.read_json(\"subtaskA_train_monolingual.jsonl\", lines=True)\n",
    "test_data = pd.read_json(\"subtaskA_dev_monolingual.jsonl\", lines=True)"
   ]
  },
  {
   "cell_type": "code",
   "execution_count": 17,
   "id": "dc8408f3-7f84-4745-bff1-72697b8df833",
   "metadata": {},
   "outputs": [
    {
     "data": {
      "text/plain": [
       "(119757, 5000)"
      ]
     },
     "execution_count": 17,
     "metadata": {},
     "output_type": "execute_result"
    }
   ],
   "source": [
    "len(train_data), len(test_data)"
   ]
  },
  {
   "cell_type": "code",
   "execution_count": 18,
   "id": "66579be7-fe0b-4eb3-9065-8c3ec254fe5e",
   "metadata": {},
   "outputs": [
    {
     "data": {
      "text/html": [
       "<div>\n",
       "<style scoped>\n",
       "    .dataframe tbody tr th:only-of-type {\n",
       "        vertical-align: middle;\n",
       "    }\n",
       "\n",
       "    .dataframe tbody tr th {\n",
       "        vertical-align: top;\n",
       "    }\n",
       "\n",
       "    .dataframe thead th {\n",
       "        text-align: right;\n",
       "    }\n",
       "</style>\n",
       "<table border=\"1\" class=\"dataframe\">\n",
       "  <thead>\n",
       "    <tr style=\"text-align: right;\">\n",
       "      <th></th>\n",
       "      <th>text</th>\n",
       "      <th>label</th>\n",
       "      <th>model</th>\n",
       "      <th>source</th>\n",
       "      <th>id</th>\n",
       "    </tr>\n",
       "  </thead>\n",
       "  <tbody>\n",
       "    <tr>\n",
       "      <th>0</th>\n",
       "      <td>Forza Motorsport is a popular racing game that...</td>\n",
       "      <td>1</td>\n",
       "      <td>chatGPT</td>\n",
       "      <td>wikihow</td>\n",
       "      <td>0</td>\n",
       "    </tr>\n",
       "    <tr>\n",
       "      <th>1</th>\n",
       "      <td>Buying Virtual Console games for your Nintendo...</td>\n",
       "      <td>1</td>\n",
       "      <td>chatGPT</td>\n",
       "      <td>wikihow</td>\n",
       "      <td>1</td>\n",
       "    </tr>\n",
       "    <tr>\n",
       "      <th>2</th>\n",
       "      <td>Windows NT 4.0 was a popular operating system ...</td>\n",
       "      <td>1</td>\n",
       "      <td>chatGPT</td>\n",
       "      <td>wikihow</td>\n",
       "      <td>2</td>\n",
       "    </tr>\n",
       "    <tr>\n",
       "      <th>3</th>\n",
       "      <td>How to Make Perfume\\n\\nPerfume is a great way ...</td>\n",
       "      <td>1</td>\n",
       "      <td>chatGPT</td>\n",
       "      <td>wikihow</td>\n",
       "      <td>3</td>\n",
       "    </tr>\n",
       "    <tr>\n",
       "      <th>4</th>\n",
       "      <td>How to Convert Song Lyrics to a Song'\\n\\nConve...</td>\n",
       "      <td>1</td>\n",
       "      <td>chatGPT</td>\n",
       "      <td>wikihow</td>\n",
       "      <td>4</td>\n",
       "    </tr>\n",
       "  </tbody>\n",
       "</table>\n",
       "</div>"
      ],
      "text/plain": [
       "                                                text  label    model   source  \\\n",
       "0  Forza Motorsport is a popular racing game that...      1  chatGPT  wikihow   \n",
       "1  Buying Virtual Console games for your Nintendo...      1  chatGPT  wikihow   \n",
       "2  Windows NT 4.0 was a popular operating system ...      1  chatGPT  wikihow   \n",
       "3  How to Make Perfume\\n\\nPerfume is a great way ...      1  chatGPT  wikihow   \n",
       "4  How to Convert Song Lyrics to a Song'\\n\\nConve...      1  chatGPT  wikihow   \n",
       "\n",
       "   id  \n",
       "0   0  \n",
       "1   1  \n",
       "2   2  \n",
       "3   3  \n",
       "4   4  "
      ]
     },
     "execution_count": 18,
     "metadata": {},
     "output_type": "execute_result"
    }
   ],
   "source": [
    "train_data.head()"
   ]
  },
  {
   "cell_type": "code",
   "execution_count": 19,
   "id": "6433b66d-7d70-492c-9682-4c8fe2640a20",
   "metadata": {},
   "outputs": [
    {
     "data": {
      "text/plain": [
       "(array(['chatGPT', 'cohere', 'davinci', 'dolly', 'human'], dtype=object),\n",
       " array([0, 1], dtype=int64))"
      ]
     },
     "execution_count": 19,
     "metadata": {},
     "output_type": "execute_result"
    }
   ],
   "source": [
    "np.unique(train_data[\"model\"]), np.unique(train_data[\"label\"])"
   ]
  },
  {
   "cell_type": "markdown",
   "id": "f494abe1-4602-4005-8640-0be8afd64ce2",
   "metadata": {},
   "source": [
    "Обрабатываем данные"
   ]
  },
  {
   "cell_type": "code",
   "execution_count": 13,
   "id": "5bb3145f-e9ef-4755-8776-59cae9926a43",
   "metadata": {},
   "outputs": [],
   "source": [
    "class DetectionDateset(Dataset):\n",
    "    def __init__(self, \n",
    "                 data,\n",
    "                 n_samples=10000):\n",
    "        super().__init__()\n",
    "\n",
    "        self.data = data.iloc[:n_samples]\n",
    "\n",
    "    def __len__(self):\n",
    "        return len(self.data)\n",
    "\n",
    "    def __getitem__(self, idx):\n",
    "        return self.data[\"text\"][idx], self.data[\"label\"][idx]\n",
    "\n",
    "class Collator:\n",
    "    def __init__(self, \n",
    "                 tokenizer,\n",
    "                 max_len):\n",
    "        self.tokenizer = tokenizer\n",
    "        self.max_len = max_len\n",
    "    \n",
    "    def __call__(self, batch):\n",
    "        texts = [elem[0] for elem in batch]\n",
    "        labels = [elem[1] for elem in batch]\n",
    "\n",
    "        tokenized = self.tokenizer(texts, \n",
    "                                   return_tensors=\"pt\", \n",
    "                                   truncation=True,\n",
    "                                   padding=True, \n",
    "                                   max_length=self.max_len,\n",
    "                                   add_special_tokens=True)\n",
    "        input_ids = tokenized[\"input_ids\"]\n",
    "        attention_mask = tokenized[\"attention_mask\"]\n",
    "        \n",
    "        \n",
    "        return input_ids, attention_mask, torch.tensor(labels)"
   ]
  },
  {
   "cell_type": "markdown",
   "id": "bba49bcb-fce4-4fe4-8fe0-74bde0134d5f",
   "metadata": {},
   "source": [
    "Прикручиваем голову для классификации к tiny-bert-у"
   ]
  },
  {
   "cell_type": "code",
   "execution_count": 14,
   "id": "45892b01-6817-441a-aa19-b274e48af689",
   "metadata": {},
   "outputs": [],
   "source": [
    "class DetectionModel(nn.Module):\n",
    "    def __init__(self, \n",
    "                 pretrained_model_path,\n",
    "                 hidden_dim,\n",
    "                 output_dim,\n",
    "                 drouput):\n",
    "        super().__init__()\n",
    "        self.backbone = AutoModel.from_pretrained(pretrained_model_path)\n",
    "        self.clf_head = nn.Sequential(nn.Linear(self.backbone.encoder.layer[1].output.dense.out_features, hidden_dim),\n",
    "                                      nn.GELU(),\n",
    "                                      nn.Dropout(p=drouput),\n",
    "                                      nn.Linear(hidden_dim, hidden_dim),\n",
    "                                      nn.GELU(),\n",
    "                                      nn.Dropout(p=drouput),\n",
    "                                      nn.Linear(hidden_dim, output_dim))\n",
    "        \n",
    "    def forward(self, input_ids, attention_mask):\n",
    "        if len(input_ids.shape) == 1:\n",
    "            input_ids = input_ids.unsqueeze(0)\n",
    "\n",
    "        embeds = self.backbone(input_ids, attention_mask)[\"last_hidden_state\"]\n",
    "\n",
    "        cls_output = self.clf_head(embeds[:,0,:])\n",
    "\n",
    "        return cls_output"
   ]
  },
  {
   "cell_type": "code",
   "execution_count": 15,
   "id": "417f6576-e896-4da7-891c-2facf8673e00",
   "metadata": {},
   "outputs": [],
   "source": [
    "def train_epoch(train_loader, model, loss_function, optimizer, callback=None):\n",
    "    epoch_loss = 0\n",
    "    total = 0\n",
    "    for it, (input_ids, attention_mask, labels) in enumerate(tqdm(train_loader, leave=False)):\n",
    "              \n",
    "        batch_loss = train_on_batch(model, \n",
    "                                    input_ids, \n",
    "                                    attention_mask, \n",
    "                                    labels, \n",
    "                                    optimizer, \n",
    "                                    loss_function)\n",
    "        \n",
    "        if callback is not None:\n",
    "            with torch.no_grad():\n",
    "                callback(model, batch_loss)\n",
    "            \n",
    "        epoch_loss += batch_loss * len(labels)\n",
    "        total += len(labels)\n",
    "    \n",
    "    return epoch_loss / total\n",
    "\n",
    "\n",
    "def train_on_batch(model, \n",
    "                   input_ids, \n",
    "                   attention_mask, \n",
    "                   labels,\n",
    "                   optimizer, \n",
    "                   loss_function):\n",
    "    input_ids, attention_mask, labels = input_ids.to(device), attention_mask.to(device), labels.to(device)\n",
    "    model.train()\n",
    "    optimizer.zero_grad()\n",
    "    preds = model(input_ids, attention_mask)\n",
    "    loss = loss_function(preds, labels)\n",
    "    loss.backward()\n",
    "    optimizer.step()\n",
    "\n",
    "    return loss.detach().cpu().item()\n",
    "\n",
    "\n",
    "def trainer(count_of_epoch, \n",
    "            batch_size, \n",
    "            loader,\n",
    "            model, \n",
    "            loss_function,\n",
    "            optimizer,\n",
    "            lr = 0.001,\n",
    "            callback = None):\n",
    "\n",
    "    optima = optimizer(model.parameters(), lr=lr)\n",
    "    \n",
    "    iterations = tqdm(range(count_of_epoch), desc='epoch')\n",
    "    iterations.set_postfix({'train epoch loss': np.nan})\n",
    "    for it in iterations:\n",
    "        \n",
    "        \n",
    "        epoch_loss = train_epoch(train_loader=loader, \n",
    "                    model=model, \n",
    "                    loss_function=loss_function,\n",
    "                    optimizer=optima, \n",
    "                    callback=callback)\n",
    "        \n",
    "        iterations.set_postfix({'train epoch loss': epoch_loss})\n",
    "\n",
    "\n",
    "class Callback():\n",
    "    def __init__(self, writer, test_loader, loss_function, delimeter=100, batch_size=64):\n",
    "        self.step = 0\n",
    "        self.writer = writer\n",
    "        self.delimeter = delimeter\n",
    "        self.loss_function = loss_function\n",
    "        self.batch_size = batch_size\n",
    "\n",
    "        self.loader = test_loader\n",
    "\n",
    "    def forward(self, model, loss):\n",
    "        self.step += 1\n",
    "        self.writer.add_scalar('LOSS/train', loss, self.step)\n",
    "        \n",
    "        if self.step % self.delimeter == 0:\n",
    "            \n",
    "            pred = []\n",
    "            real = []\n",
    "            model.eval()\n",
    "            with torch.no_grad():\n",
    "                for it, (input_ids, attention_mask, labels) in enumerate(tqdm(self.loader, leave=False)):\n",
    "\n",
    "                    input_ids, attention_mask = input_ids.to(device), attention_mask.to(device)\n",
    "    \n",
    "                    output = model(input_ids, attention_mask).detach()\n",
    "    \n",
    "                    pred.extend(torch.argmax(output, dim=-1).cpu().view(-1).tolist())\n",
    "                    real.extend(labels.view(-1).tolist())\n",
    "                    \n",
    "                test_acc = np.mean(np.array(pred) == np.array(real))\n",
    "                \n",
    "                self.writer.add_scalar('Acc/test', test_acc, self.step)\n",
    "\n",
    "          \n",
    "    def __call__(self, model, loss):\n",
    "        return self.forward(model, loss)"
   ]
  },
  {
   "cell_type": "code",
   "execution_count": 10,
   "id": "08460c94-1061-4c1a-a155-85dd31aa5c5f",
   "metadata": {},
   "outputs": [
    {
     "data": {
      "text/html": [
       "\n",
       "      <iframe id=\"tensorboard-frame-cef896889c95788b\" width=\"100%\" height=\"800\" frameborder=\"0\">\n",
       "      </iframe>\n",
       "      <script>\n",
       "        (function() {\n",
       "          const frame = document.getElementById(\"tensorboard-frame-cef896889c95788b\");\n",
       "          const url = new URL(\"/\", window.location);\n",
       "          const port = 6002;\n",
       "          if (port) {\n",
       "            url.port = port;\n",
       "          }\n",
       "          frame.src = url;\n",
       "        })();\n",
       "      </script>\n",
       "    "
      ],
      "text/plain": [
       "<IPython.core.display.HTML object>"
      ]
     },
     "metadata": {},
     "output_type": "display_data"
    }
   ],
   "source": [
    "%load_ext tensorboard\n",
    "%tensorboard --logdir ./ --port=6002"
   ]
  },
  {
   "cell_type": "code",
   "execution_count": 11,
   "id": "1e0b535c-3c4d-4e62-9314-1a04bb42a7d6",
   "metadata": {},
   "outputs": [],
   "source": [
    "train_dataset = DetectionDateset(train_data, n_samples=-1)\n",
    "test_dataset = DetectionDateset(test_data, n_samples=5000)"
   ]
  },
  {
   "cell_type": "code",
   "execution_count": 20,
   "id": "17807227-53f7-4973-b60b-193383f50e28",
   "metadata": {
    "scrolled": true
   },
   "outputs": [
    {
     "data": {
      "application/vnd.jupyter.widget-view+json": {
       "model_id": "0a0f928005014a8ea920cef7ba8429db",
       "version_major": 2,
       "version_minor": 0
      },
      "text/plain": [
       "epoch:   0%|          | 0/5 [00:00<?, ?it/s]"
      ]
     },
     "metadata": {},
     "output_type": "display_data"
    },
    {
     "data": {
      "application/vnd.jupyter.widget-view+json": {
       "model_id": "",
       "version_major": 2,
       "version_minor": 0
      },
      "text/plain": [
       "  0%|          | 0/1198 [00:00<?, ?it/s]"
      ]
     },
     "metadata": {},
     "output_type": "display_data"
    },
    {
     "data": {
      "application/vnd.jupyter.widget-view+json": {
       "model_id": "",
       "version_major": 2,
       "version_minor": 0
      },
      "text/plain": [
       "  0%|          | 0/50 [00:00<?, ?it/s]"
      ]
     },
     "metadata": {},
     "output_type": "display_data"
    },
    {
     "data": {
      "application/vnd.jupyter.widget-view+json": {
       "model_id": "",
       "version_major": 2,
       "version_minor": 0
      },
      "text/plain": [
       "  0%|          | 0/50 [00:00<?, ?it/s]"
      ]
     },
     "metadata": {},
     "output_type": "display_data"
    },
    {
     "data": {
      "application/vnd.jupyter.widget-view+json": {
       "model_id": "",
       "version_major": 2,
       "version_minor": 0
      },
      "text/plain": [
       "  0%|          | 0/50 [00:00<?, ?it/s]"
      ]
     },
     "metadata": {},
     "output_type": "display_data"
    },
    {
     "data": {
      "application/vnd.jupyter.widget-view+json": {
       "model_id": "",
       "version_major": 2,
       "version_minor": 0
      },
      "text/plain": [
       "  0%|          | 0/50 [00:00<?, ?it/s]"
      ]
     },
     "metadata": {},
     "output_type": "display_data"
    },
    {
     "data": {
      "application/vnd.jupyter.widget-view+json": {
       "model_id": "",
       "version_major": 2,
       "version_minor": 0
      },
      "text/plain": [
       "  0%|          | 0/50 [00:00<?, ?it/s]"
      ]
     },
     "metadata": {},
     "output_type": "display_data"
    },
    {
     "data": {
      "application/vnd.jupyter.widget-view+json": {
       "model_id": "",
       "version_major": 2,
       "version_minor": 0
      },
      "text/plain": [
       "  0%|          | 0/50 [00:00<?, ?it/s]"
      ]
     },
     "metadata": {},
     "output_type": "display_data"
    },
    {
     "data": {
      "application/vnd.jupyter.widget-view+json": {
       "model_id": "",
       "version_major": 2,
       "version_minor": 0
      },
      "text/plain": [
       "  0%|          | 0/50 [00:00<?, ?it/s]"
      ]
     },
     "metadata": {},
     "output_type": "display_data"
    },
    {
     "data": {
      "application/vnd.jupyter.widget-view+json": {
       "model_id": "",
       "version_major": 2,
       "version_minor": 0
      },
      "text/plain": [
       "  0%|          | 0/50 [00:00<?, ?it/s]"
      ]
     },
     "metadata": {},
     "output_type": "display_data"
    },
    {
     "data": {
      "application/vnd.jupyter.widget-view+json": {
       "model_id": "",
       "version_major": 2,
       "version_minor": 0
      },
      "text/plain": [
       "  0%|          | 0/50 [00:00<?, ?it/s]"
      ]
     },
     "metadata": {},
     "output_type": "display_data"
    },
    {
     "data": {
      "application/vnd.jupyter.widget-view+json": {
       "model_id": "",
       "version_major": 2,
       "version_minor": 0
      },
      "text/plain": [
       "  0%|          | 0/50 [00:00<?, ?it/s]"
      ]
     },
     "metadata": {},
     "output_type": "display_data"
    },
    {
     "data": {
      "application/vnd.jupyter.widget-view+json": {
       "model_id": "",
       "version_major": 2,
       "version_minor": 0
      },
      "text/plain": [
       "  0%|          | 0/50 [00:00<?, ?it/s]"
      ]
     },
     "metadata": {},
     "output_type": "display_data"
    },
    {
     "data": {
      "application/vnd.jupyter.widget-view+json": {
       "model_id": "",
       "version_major": 2,
       "version_minor": 0
      },
      "text/plain": [
       "  0%|          | 0/50 [00:00<?, ?it/s]"
      ]
     },
     "metadata": {},
     "output_type": "display_data"
    },
    {
     "data": {
      "application/vnd.jupyter.widget-view+json": {
       "model_id": "",
       "version_major": 2,
       "version_minor": 0
      },
      "text/plain": [
       "  0%|          | 0/50 [00:00<?, ?it/s]"
      ]
     },
     "metadata": {},
     "output_type": "display_data"
    },
    {
     "data": {
      "application/vnd.jupyter.widget-view+json": {
       "model_id": "",
       "version_major": 2,
       "version_minor": 0
      },
      "text/plain": [
       "  0%|          | 0/50 [00:00<?, ?it/s]"
      ]
     },
     "metadata": {},
     "output_type": "display_data"
    },
    {
     "data": {
      "application/vnd.jupyter.widget-view+json": {
       "model_id": "",
       "version_major": 2,
       "version_minor": 0
      },
      "text/plain": [
       "  0%|          | 0/50 [00:00<?, ?it/s]"
      ]
     },
     "metadata": {},
     "output_type": "display_data"
    },
    {
     "data": {
      "application/vnd.jupyter.widget-view+json": {
       "model_id": "",
       "version_major": 2,
       "version_minor": 0
      },
      "text/plain": [
       "  0%|          | 0/50 [00:00<?, ?it/s]"
      ]
     },
     "metadata": {},
     "output_type": "display_data"
    },
    {
     "data": {
      "application/vnd.jupyter.widget-view+json": {
       "model_id": "",
       "version_major": 2,
       "version_minor": 0
      },
      "text/plain": [
       "  0%|          | 0/50 [00:00<?, ?it/s]"
      ]
     },
     "metadata": {},
     "output_type": "display_data"
    },
    {
     "data": {
      "application/vnd.jupyter.widget-view+json": {
       "model_id": "",
       "version_major": 2,
       "version_minor": 0
      },
      "text/plain": [
       "  0%|          | 0/50 [00:00<?, ?it/s]"
      ]
     },
     "metadata": {},
     "output_type": "display_data"
    },
    {
     "data": {
      "application/vnd.jupyter.widget-view+json": {
       "model_id": "",
       "version_major": 2,
       "version_minor": 0
      },
      "text/plain": [
       "  0%|          | 0/50 [00:00<?, ?it/s]"
      ]
     },
     "metadata": {},
     "output_type": "display_data"
    },
    {
     "data": {
      "application/vnd.jupyter.widget-view+json": {
       "model_id": "",
       "version_major": 2,
       "version_minor": 0
      },
      "text/plain": [
       "  0%|          | 0/50 [00:00<?, ?it/s]"
      ]
     },
     "metadata": {},
     "output_type": "display_data"
    },
    {
     "data": {
      "application/vnd.jupyter.widget-view+json": {
       "model_id": "",
       "version_major": 2,
       "version_minor": 0
      },
      "text/plain": [
       "  0%|          | 0/50 [00:00<?, ?it/s]"
      ]
     },
     "metadata": {},
     "output_type": "display_data"
    },
    {
     "data": {
      "application/vnd.jupyter.widget-view+json": {
       "model_id": "",
       "version_major": 2,
       "version_minor": 0
      },
      "text/plain": [
       "  0%|          | 0/50 [00:00<?, ?it/s]"
      ]
     },
     "metadata": {},
     "output_type": "display_data"
    },
    {
     "data": {
      "application/vnd.jupyter.widget-view+json": {
       "model_id": "",
       "version_major": 2,
       "version_minor": 0
      },
      "text/plain": [
       "  0%|          | 0/50 [00:00<?, ?it/s]"
      ]
     },
     "metadata": {},
     "output_type": "display_data"
    },
    {
     "data": {
      "application/vnd.jupyter.widget-view+json": {
       "model_id": "",
       "version_major": 2,
       "version_minor": 0
      },
      "text/plain": [
       "  0%|          | 0/1198 [00:00<?, ?it/s]"
      ]
     },
     "metadata": {},
     "output_type": "display_data"
    },
    {
     "data": {
      "application/vnd.jupyter.widget-view+json": {
       "model_id": "",
       "version_major": 2,
       "version_minor": 0
      },
      "text/plain": [
       "  0%|          | 0/50 [00:00<?, ?it/s]"
      ]
     },
     "metadata": {},
     "output_type": "display_data"
    },
    {
     "data": {
      "application/vnd.jupyter.widget-view+json": {
       "model_id": "",
       "version_major": 2,
       "version_minor": 0
      },
      "text/plain": [
       "  0%|          | 0/50 [00:00<?, ?it/s]"
      ]
     },
     "metadata": {},
     "output_type": "display_data"
    },
    {
     "data": {
      "application/vnd.jupyter.widget-view+json": {
       "model_id": "",
       "version_major": 2,
       "version_minor": 0
      },
      "text/plain": [
       "  0%|          | 0/50 [00:00<?, ?it/s]"
      ]
     },
     "metadata": {},
     "output_type": "display_data"
    },
    {
     "data": {
      "application/vnd.jupyter.widget-view+json": {
       "model_id": "",
       "version_major": 2,
       "version_minor": 0
      },
      "text/plain": [
       "  0%|          | 0/50 [00:00<?, ?it/s]"
      ]
     },
     "metadata": {},
     "output_type": "display_data"
    },
    {
     "data": {
      "application/vnd.jupyter.widget-view+json": {
       "model_id": "",
       "version_major": 2,
       "version_minor": 0
      },
      "text/plain": [
       "  0%|          | 0/50 [00:00<?, ?it/s]"
      ]
     },
     "metadata": {},
     "output_type": "display_data"
    },
    {
     "data": {
      "application/vnd.jupyter.widget-view+json": {
       "model_id": "",
       "version_major": 2,
       "version_minor": 0
      },
      "text/plain": [
       "  0%|          | 0/50 [00:00<?, ?it/s]"
      ]
     },
     "metadata": {},
     "output_type": "display_data"
    },
    {
     "data": {
      "application/vnd.jupyter.widget-view+json": {
       "model_id": "",
       "version_major": 2,
       "version_minor": 0
      },
      "text/plain": [
       "  0%|          | 0/50 [00:00<?, ?it/s]"
      ]
     },
     "metadata": {},
     "output_type": "display_data"
    },
    {
     "data": {
      "application/vnd.jupyter.widget-view+json": {
       "model_id": "",
       "version_major": 2,
       "version_minor": 0
      },
      "text/plain": [
       "  0%|          | 0/50 [00:00<?, ?it/s]"
      ]
     },
     "metadata": {},
     "output_type": "display_data"
    },
    {
     "data": {
      "application/vnd.jupyter.widget-view+json": {
       "model_id": "",
       "version_major": 2,
       "version_minor": 0
      },
      "text/plain": [
       "  0%|          | 0/50 [00:00<?, ?it/s]"
      ]
     },
     "metadata": {},
     "output_type": "display_data"
    },
    {
     "data": {
      "application/vnd.jupyter.widget-view+json": {
       "model_id": "",
       "version_major": 2,
       "version_minor": 0
      },
      "text/plain": [
       "  0%|          | 0/50 [00:00<?, ?it/s]"
      ]
     },
     "metadata": {},
     "output_type": "display_data"
    },
    {
     "data": {
      "application/vnd.jupyter.widget-view+json": {
       "model_id": "",
       "version_major": 2,
       "version_minor": 0
      },
      "text/plain": [
       "  0%|          | 0/50 [00:00<?, ?it/s]"
      ]
     },
     "metadata": {},
     "output_type": "display_data"
    },
    {
     "data": {
      "application/vnd.jupyter.widget-view+json": {
       "model_id": "",
       "version_major": 2,
       "version_minor": 0
      },
      "text/plain": [
       "  0%|          | 0/50 [00:00<?, ?it/s]"
      ]
     },
     "metadata": {},
     "output_type": "display_data"
    },
    {
     "data": {
      "application/vnd.jupyter.widget-view+json": {
       "model_id": "",
       "version_major": 2,
       "version_minor": 0
      },
      "text/plain": [
       "  0%|          | 0/50 [00:00<?, ?it/s]"
      ]
     },
     "metadata": {},
     "output_type": "display_data"
    },
    {
     "data": {
      "application/vnd.jupyter.widget-view+json": {
       "model_id": "",
       "version_major": 2,
       "version_minor": 0
      },
      "text/plain": [
       "  0%|          | 0/50 [00:00<?, ?it/s]"
      ]
     },
     "metadata": {},
     "output_type": "display_data"
    },
    {
     "data": {
      "application/vnd.jupyter.widget-view+json": {
       "model_id": "",
       "version_major": 2,
       "version_minor": 0
      },
      "text/plain": [
       "  0%|          | 0/50 [00:00<?, ?it/s]"
      ]
     },
     "metadata": {},
     "output_type": "display_data"
    },
    {
     "data": {
      "application/vnd.jupyter.widget-view+json": {
       "model_id": "",
       "version_major": 2,
       "version_minor": 0
      },
      "text/plain": [
       "  0%|          | 0/50 [00:00<?, ?it/s]"
      ]
     },
     "metadata": {},
     "output_type": "display_data"
    },
    {
     "data": {
      "application/vnd.jupyter.widget-view+json": {
       "model_id": "",
       "version_major": 2,
       "version_minor": 0
      },
      "text/plain": [
       "  0%|          | 0/50 [00:00<?, ?it/s]"
      ]
     },
     "metadata": {},
     "output_type": "display_data"
    },
    {
     "data": {
      "application/vnd.jupyter.widget-view+json": {
       "model_id": "",
       "version_major": 2,
       "version_minor": 0
      },
      "text/plain": [
       "  0%|          | 0/50 [00:00<?, ?it/s]"
      ]
     },
     "metadata": {},
     "output_type": "display_data"
    },
    {
     "data": {
      "application/vnd.jupyter.widget-view+json": {
       "model_id": "",
       "version_major": 2,
       "version_minor": 0
      },
      "text/plain": [
       "  0%|          | 0/50 [00:00<?, ?it/s]"
      ]
     },
     "metadata": {},
     "output_type": "display_data"
    },
    {
     "data": {
      "application/vnd.jupyter.widget-view+json": {
       "model_id": "",
       "version_major": 2,
       "version_minor": 0
      },
      "text/plain": [
       "  0%|          | 0/50 [00:00<?, ?it/s]"
      ]
     },
     "metadata": {},
     "output_type": "display_data"
    },
    {
     "data": {
      "application/vnd.jupyter.widget-view+json": {
       "model_id": "",
       "version_major": 2,
       "version_minor": 0
      },
      "text/plain": [
       "  0%|          | 0/50 [00:00<?, ?it/s]"
      ]
     },
     "metadata": {},
     "output_type": "display_data"
    },
    {
     "data": {
      "application/vnd.jupyter.widget-view+json": {
       "model_id": "",
       "version_major": 2,
       "version_minor": 0
      },
      "text/plain": [
       "  0%|          | 0/50 [00:00<?, ?it/s]"
      ]
     },
     "metadata": {},
     "output_type": "display_data"
    },
    {
     "data": {
      "application/vnd.jupyter.widget-view+json": {
       "model_id": "",
       "version_major": 2,
       "version_minor": 0
      },
      "text/plain": [
       "  0%|          | 0/50 [00:00<?, ?it/s]"
      ]
     },
     "metadata": {},
     "output_type": "display_data"
    },
    {
     "data": {
      "application/vnd.jupyter.widget-view+json": {
       "model_id": "",
       "version_major": 2,
       "version_minor": 0
      },
      "text/plain": [
       "  0%|          | 0/50 [00:00<?, ?it/s]"
      ]
     },
     "metadata": {},
     "output_type": "display_data"
    },
    {
     "data": {
      "application/vnd.jupyter.widget-view+json": {
       "model_id": "",
       "version_major": 2,
       "version_minor": 0
      },
      "text/plain": [
       "  0%|          | 0/1198 [00:00<?, ?it/s]"
      ]
     },
     "metadata": {},
     "output_type": "display_data"
    },
    {
     "data": {
      "application/vnd.jupyter.widget-view+json": {
       "model_id": "6f9369bec4cc44e58f77ed0bc6454f2e",
       "version_major": 2,
       "version_minor": 0
      },
      "text/plain": [
       "  0%|          | 0/50 [00:00<?, ?it/s]"
      ]
     },
     "metadata": {},
     "output_type": "display_data"
    },
    {
     "data": {
      "application/vnd.jupyter.widget-view+json": {
       "model_id": "1671690b8aa44fe59ded9ec9f52d40ce",
       "version_major": 2,
       "version_minor": 0
      },
      "text/plain": [
       "  0%|          | 0/50 [00:00<?, ?it/s]"
      ]
     },
     "metadata": {},
     "output_type": "display_data"
    },
    {
     "data": {
      "application/vnd.jupyter.widget-view+json": {
       "model_id": "47a0d2e07b3d47b4b4d2b5be4217a462",
       "version_major": 2,
       "version_minor": 0
      },
      "text/plain": [
       "  0%|          | 0/50 [00:00<?, ?it/s]"
      ]
     },
     "metadata": {},
     "output_type": "display_data"
    },
    {
     "data": {
      "application/vnd.jupyter.widget-view+json": {
       "model_id": "00a45de43edc4bfda675d8791985504c",
       "version_major": 2,
       "version_minor": 0
      },
      "text/plain": [
       "  0%|          | 0/50 [00:00<?, ?it/s]"
      ]
     },
     "metadata": {},
     "output_type": "display_data"
    },
    {
     "data": {
      "application/vnd.jupyter.widget-view+json": {
       "model_id": "776a7d5eb0c34ae0bb45078960cb0635",
       "version_major": 2,
       "version_minor": 0
      },
      "text/plain": [
       "  0%|          | 0/50 [00:00<?, ?it/s]"
      ]
     },
     "metadata": {},
     "output_type": "display_data"
    },
    {
     "data": {
      "application/vnd.jupyter.widget-view+json": {
       "model_id": "4f4ccc2c67834dcea0d342b9e1a452ce",
       "version_major": 2,
       "version_minor": 0
      },
      "text/plain": [
       "  0%|          | 0/50 [00:00<?, ?it/s]"
      ]
     },
     "metadata": {},
     "output_type": "display_data"
    },
    {
     "data": {
      "application/vnd.jupyter.widget-view+json": {
       "model_id": "31e1c68cc5d147af831a8e868d6fb9cb",
       "version_major": 2,
       "version_minor": 0
      },
      "text/plain": [
       "  0%|          | 0/50 [00:00<?, ?it/s]"
      ]
     },
     "metadata": {},
     "output_type": "display_data"
    },
    {
     "data": {
      "application/vnd.jupyter.widget-view+json": {
       "model_id": "23dd980fffb94d478b911c91695c6767",
       "version_major": 2,
       "version_minor": 0
      },
      "text/plain": [
       "  0%|          | 0/50 [00:00<?, ?it/s]"
      ]
     },
     "metadata": {},
     "output_type": "display_data"
    },
    {
     "data": {
      "application/vnd.jupyter.widget-view+json": {
       "model_id": "83e399fdb96149dc96b52a7105e53fd9",
       "version_major": 2,
       "version_minor": 0
      },
      "text/plain": [
       "  0%|          | 0/50 [00:00<?, ?it/s]"
      ]
     },
     "metadata": {},
     "output_type": "display_data"
    },
    {
     "data": {
      "application/vnd.jupyter.widget-view+json": {
       "model_id": "3b3c1ee3fef14c9bb6cf35f8d2325bf9",
       "version_major": 2,
       "version_minor": 0
      },
      "text/plain": [
       "  0%|          | 0/50 [00:00<?, ?it/s]"
      ]
     },
     "metadata": {},
     "output_type": "display_data"
    },
    {
     "data": {
      "application/vnd.jupyter.widget-view+json": {
       "model_id": "a61dd0c3c7b04567b0930573b742e4bc",
       "version_major": 2,
       "version_minor": 0
      },
      "text/plain": [
       "  0%|          | 0/50 [00:00<?, ?it/s]"
      ]
     },
     "metadata": {},
     "output_type": "display_data"
    },
    {
     "data": {
      "application/vnd.jupyter.widget-view+json": {
       "model_id": "0bd64d7f17224662b5f5a30f82ea8763",
       "version_major": 2,
       "version_minor": 0
      },
      "text/plain": [
       "  0%|          | 0/50 [00:00<?, ?it/s]"
      ]
     },
     "metadata": {},
     "output_type": "display_data"
    },
    {
     "data": {
      "application/vnd.jupyter.widget-view+json": {
       "model_id": "a1848dd4eb3f4a9089d217252acd190d",
       "version_major": 2,
       "version_minor": 0
      },
      "text/plain": [
       "  0%|          | 0/50 [00:00<?, ?it/s]"
      ]
     },
     "metadata": {},
     "output_type": "display_data"
    },
    {
     "data": {
      "application/vnd.jupyter.widget-view+json": {
       "model_id": "90c245f7ffdb46fda5131fee339006b9",
       "version_major": 2,
       "version_minor": 0
      },
      "text/plain": [
       "  0%|          | 0/50 [00:00<?, ?it/s]"
      ]
     },
     "metadata": {},
     "output_type": "display_data"
    },
    {
     "data": {
      "application/vnd.jupyter.widget-view+json": {
       "model_id": "704b5927ec2a409f99fb8b585245e6c7",
       "version_major": 2,
       "version_minor": 0
      },
      "text/plain": [
       "  0%|          | 0/50 [00:00<?, ?it/s]"
      ]
     },
     "metadata": {},
     "output_type": "display_data"
    },
    {
     "data": {
      "application/vnd.jupyter.widget-view+json": {
       "model_id": "a55217ddf3144e999df4fc3bb25e6c37",
       "version_major": 2,
       "version_minor": 0
      },
      "text/plain": [
       "  0%|          | 0/50 [00:00<?, ?it/s]"
      ]
     },
     "metadata": {},
     "output_type": "display_data"
    },
    {
     "data": {
      "application/vnd.jupyter.widget-view+json": {
       "model_id": "",
       "version_major": 2,
       "version_minor": 0
      },
      "text/plain": [
       "  0%|          | 0/50 [00:00<?, ?it/s]"
      ]
     },
     "metadata": {},
     "output_type": "display_data"
    },
    {
     "data": {
      "application/vnd.jupyter.widget-view+json": {
       "model_id": "",
       "version_major": 2,
       "version_minor": 0
      },
      "text/plain": [
       "  0%|          | 0/50 [00:00<?, ?it/s]"
      ]
     },
     "metadata": {},
     "output_type": "display_data"
    },
    {
     "data": {
      "application/vnd.jupyter.widget-view+json": {
       "model_id": "",
       "version_major": 2,
       "version_minor": 0
      },
      "text/plain": [
       "  0%|          | 0/50 [00:00<?, ?it/s]"
      ]
     },
     "metadata": {},
     "output_type": "display_data"
    },
    {
     "data": {
      "application/vnd.jupyter.widget-view+json": {
       "model_id": "",
       "version_major": 2,
       "version_minor": 0
      },
      "text/plain": [
       "  0%|          | 0/50 [00:00<?, ?it/s]"
      ]
     },
     "metadata": {},
     "output_type": "display_data"
    },
    {
     "data": {
      "application/vnd.jupyter.widget-view+json": {
       "model_id": "",
       "version_major": 2,
       "version_minor": 0
      },
      "text/plain": [
       "  0%|          | 0/50 [00:00<?, ?it/s]"
      ]
     },
     "metadata": {},
     "output_type": "display_data"
    },
    {
     "data": {
      "application/vnd.jupyter.widget-view+json": {
       "model_id": "",
       "version_major": 2,
       "version_minor": 0
      },
      "text/plain": [
       "  0%|          | 0/50 [00:00<?, ?it/s]"
      ]
     },
     "metadata": {},
     "output_type": "display_data"
    },
    {
     "data": {
      "application/vnd.jupyter.widget-view+json": {
       "model_id": "",
       "version_major": 2,
       "version_minor": 0
      },
      "text/plain": [
       "  0%|          | 0/50 [00:00<?, ?it/s]"
      ]
     },
     "metadata": {},
     "output_type": "display_data"
    },
    {
     "data": {
      "application/vnd.jupyter.widget-view+json": {
       "model_id": "",
       "version_major": 2,
       "version_minor": 0
      },
      "text/plain": [
       "  0%|          | 0/50 [00:00<?, ?it/s]"
      ]
     },
     "metadata": {},
     "output_type": "display_data"
    },
    {
     "data": {
      "application/vnd.jupyter.widget-view+json": {
       "model_id": "",
       "version_major": 2,
       "version_minor": 0
      },
      "text/plain": [
       "  0%|          | 0/1198 [00:00<?, ?it/s]"
      ]
     },
     "metadata": {},
     "output_type": "display_data"
    },
    {
     "data": {
      "application/vnd.jupyter.widget-view+json": {
       "model_id": "",
       "version_major": 2,
       "version_minor": 0
      },
      "text/plain": [
       "  0%|          | 0/50 [00:00<?, ?it/s]"
      ]
     },
     "metadata": {},
     "output_type": "display_data"
    },
    {
     "data": {
      "application/vnd.jupyter.widget-view+json": {
       "model_id": "",
       "version_major": 2,
       "version_minor": 0
      },
      "text/plain": [
       "  0%|          | 0/50 [00:00<?, ?it/s]"
      ]
     },
     "metadata": {},
     "output_type": "display_data"
    },
    {
     "data": {
      "application/vnd.jupyter.widget-view+json": {
       "model_id": "",
       "version_major": 2,
       "version_minor": 0
      },
      "text/plain": [
       "  0%|          | 0/50 [00:00<?, ?it/s]"
      ]
     },
     "metadata": {},
     "output_type": "display_data"
    },
    {
     "data": {
      "application/vnd.jupyter.widget-view+json": {
       "model_id": "",
       "version_major": 2,
       "version_minor": 0
      },
      "text/plain": [
       "  0%|          | 0/50 [00:00<?, ?it/s]"
      ]
     },
     "metadata": {},
     "output_type": "display_data"
    },
    {
     "data": {
      "application/vnd.jupyter.widget-view+json": {
       "model_id": "",
       "version_major": 2,
       "version_minor": 0
      },
      "text/plain": [
       "  0%|          | 0/50 [00:00<?, ?it/s]"
      ]
     },
     "metadata": {},
     "output_type": "display_data"
    },
    {
     "data": {
      "application/vnd.jupyter.widget-view+json": {
       "model_id": "",
       "version_major": 2,
       "version_minor": 0
      },
      "text/plain": [
       "  0%|          | 0/50 [00:00<?, ?it/s]"
      ]
     },
     "metadata": {},
     "output_type": "display_data"
    },
    {
     "data": {
      "application/vnd.jupyter.widget-view+json": {
       "model_id": "",
       "version_major": 2,
       "version_minor": 0
      },
      "text/plain": [
       "  0%|          | 0/50 [00:00<?, ?it/s]"
      ]
     },
     "metadata": {},
     "output_type": "display_data"
    },
    {
     "data": {
      "application/vnd.jupyter.widget-view+json": {
       "model_id": "",
       "version_major": 2,
       "version_minor": 0
      },
      "text/plain": [
       "  0%|          | 0/50 [00:00<?, ?it/s]"
      ]
     },
     "metadata": {},
     "output_type": "display_data"
    },
    {
     "data": {
      "application/vnd.jupyter.widget-view+json": {
       "model_id": "",
       "version_major": 2,
       "version_minor": 0
      },
      "text/plain": [
       "  0%|          | 0/50 [00:00<?, ?it/s]"
      ]
     },
     "metadata": {},
     "output_type": "display_data"
    },
    {
     "data": {
      "application/vnd.jupyter.widget-view+json": {
       "model_id": "",
       "version_major": 2,
       "version_minor": 0
      },
      "text/plain": [
       "  0%|          | 0/50 [00:00<?, ?it/s]"
      ]
     },
     "metadata": {},
     "output_type": "display_data"
    },
    {
     "data": {
      "application/vnd.jupyter.widget-view+json": {
       "model_id": "",
       "version_major": 2,
       "version_minor": 0
      },
      "text/plain": [
       "  0%|          | 0/50 [00:00<?, ?it/s]"
      ]
     },
     "metadata": {},
     "output_type": "display_data"
    },
    {
     "data": {
      "application/vnd.jupyter.widget-view+json": {
       "model_id": "",
       "version_major": 2,
       "version_minor": 0
      },
      "text/plain": [
       "  0%|          | 0/50 [00:00<?, ?it/s]"
      ]
     },
     "metadata": {},
     "output_type": "display_data"
    },
    {
     "data": {
      "application/vnd.jupyter.widget-view+json": {
       "model_id": "",
       "version_major": 2,
       "version_minor": 0
      },
      "text/plain": [
       "  0%|          | 0/50 [00:00<?, ?it/s]"
      ]
     },
     "metadata": {},
     "output_type": "display_data"
    },
    {
     "data": {
      "application/vnd.jupyter.widget-view+json": {
       "model_id": "",
       "version_major": 2,
       "version_minor": 0
      },
      "text/plain": [
       "  0%|          | 0/50 [00:00<?, ?it/s]"
      ]
     },
     "metadata": {},
     "output_type": "display_data"
    },
    {
     "data": {
      "application/vnd.jupyter.widget-view+json": {
       "model_id": "",
       "version_major": 2,
       "version_minor": 0
      },
      "text/plain": [
       "  0%|          | 0/50 [00:00<?, ?it/s]"
      ]
     },
     "metadata": {},
     "output_type": "display_data"
    },
    {
     "data": {
      "application/vnd.jupyter.widget-view+json": {
       "model_id": "",
       "version_major": 2,
       "version_minor": 0
      },
      "text/plain": [
       "  0%|          | 0/50 [00:00<?, ?it/s]"
      ]
     },
     "metadata": {},
     "output_type": "display_data"
    },
    {
     "data": {
      "application/vnd.jupyter.widget-view+json": {
       "model_id": "",
       "version_major": 2,
       "version_minor": 0
      },
      "text/plain": [
       "  0%|          | 0/50 [00:00<?, ?it/s]"
      ]
     },
     "metadata": {},
     "output_type": "display_data"
    },
    {
     "data": {
      "application/vnd.jupyter.widget-view+json": {
       "model_id": "",
       "version_major": 2,
       "version_minor": 0
      },
      "text/plain": [
       "  0%|          | 0/50 [00:00<?, ?it/s]"
      ]
     },
     "metadata": {},
     "output_type": "display_data"
    },
    {
     "data": {
      "application/vnd.jupyter.widget-view+json": {
       "model_id": "",
       "version_major": 2,
       "version_minor": 0
      },
      "text/plain": [
       "  0%|          | 0/50 [00:00<?, ?it/s]"
      ]
     },
     "metadata": {},
     "output_type": "display_data"
    },
    {
     "data": {
      "application/vnd.jupyter.widget-view+json": {
       "model_id": "",
       "version_major": 2,
       "version_minor": 0
      },
      "text/plain": [
       "  0%|          | 0/50 [00:00<?, ?it/s]"
      ]
     },
     "metadata": {},
     "output_type": "display_data"
    },
    {
     "data": {
      "application/vnd.jupyter.widget-view+json": {
       "model_id": "",
       "version_major": 2,
       "version_minor": 0
      },
      "text/plain": [
       "  0%|          | 0/50 [00:00<?, ?it/s]"
      ]
     },
     "metadata": {},
     "output_type": "display_data"
    },
    {
     "data": {
      "application/vnd.jupyter.widget-view+json": {
       "model_id": "",
       "version_major": 2,
       "version_minor": 0
      },
      "text/plain": [
       "  0%|          | 0/50 [00:00<?, ?it/s]"
      ]
     },
     "metadata": {},
     "output_type": "display_data"
    },
    {
     "data": {
      "application/vnd.jupyter.widget-view+json": {
       "model_id": "",
       "version_major": 2,
       "version_minor": 0
      },
      "text/plain": [
       "  0%|          | 0/50 [00:00<?, ?it/s]"
      ]
     },
     "metadata": {},
     "output_type": "display_data"
    },
    {
     "data": {
      "application/vnd.jupyter.widget-view+json": {
       "model_id": "",
       "version_major": 2,
       "version_minor": 0
      },
      "text/plain": [
       "  0%|          | 0/50 [00:00<?, ?it/s]"
      ]
     },
     "metadata": {},
     "output_type": "display_data"
    },
    {
     "data": {
      "application/vnd.jupyter.widget-view+json": {
       "model_id": "",
       "version_major": 2,
       "version_minor": 0
      },
      "text/plain": [
       "  0%|          | 0/1198 [00:00<?, ?it/s]"
      ]
     },
     "metadata": {},
     "output_type": "display_data"
    },
    {
     "data": {
      "application/vnd.jupyter.widget-view+json": {
       "model_id": "",
       "version_major": 2,
       "version_minor": 0
      },
      "text/plain": [
       "  0%|          | 0/50 [00:00<?, ?it/s]"
      ]
     },
     "metadata": {},
     "output_type": "display_data"
    },
    {
     "data": {
      "application/vnd.jupyter.widget-view+json": {
       "model_id": "",
       "version_major": 2,
       "version_minor": 0
      },
      "text/plain": [
       "  0%|          | 0/50 [00:00<?, ?it/s]"
      ]
     },
     "metadata": {},
     "output_type": "display_data"
    },
    {
     "data": {
      "application/vnd.jupyter.widget-view+json": {
       "model_id": "",
       "version_major": 2,
       "version_minor": 0
      },
      "text/plain": [
       "  0%|          | 0/50 [00:00<?, ?it/s]"
      ]
     },
     "metadata": {},
     "output_type": "display_data"
    },
    {
     "data": {
      "application/vnd.jupyter.widget-view+json": {
       "model_id": "",
       "version_major": 2,
       "version_minor": 0
      },
      "text/plain": [
       "  0%|          | 0/50 [00:00<?, ?it/s]"
      ]
     },
     "metadata": {},
     "output_type": "display_data"
    },
    {
     "data": {
      "application/vnd.jupyter.widget-view+json": {
       "model_id": "",
       "version_major": 2,
       "version_minor": 0
      },
      "text/plain": [
       "  0%|          | 0/50 [00:00<?, ?it/s]"
      ]
     },
     "metadata": {},
     "output_type": "display_data"
    },
    {
     "data": {
      "application/vnd.jupyter.widget-view+json": {
       "model_id": "",
       "version_major": 2,
       "version_minor": 0
      },
      "text/plain": [
       "  0%|          | 0/50 [00:00<?, ?it/s]"
      ]
     },
     "metadata": {},
     "output_type": "display_data"
    },
    {
     "data": {
      "application/vnd.jupyter.widget-view+json": {
       "model_id": "",
       "version_major": 2,
       "version_minor": 0
      },
      "text/plain": [
       "  0%|          | 0/50 [00:00<?, ?it/s]"
      ]
     },
     "metadata": {},
     "output_type": "display_data"
    },
    {
     "data": {
      "application/vnd.jupyter.widget-view+json": {
       "model_id": "",
       "version_major": 2,
       "version_minor": 0
      },
      "text/plain": [
       "  0%|          | 0/50 [00:00<?, ?it/s]"
      ]
     },
     "metadata": {},
     "output_type": "display_data"
    },
    {
     "data": {
      "application/vnd.jupyter.widget-view+json": {
       "model_id": "",
       "version_major": 2,
       "version_minor": 0
      },
      "text/plain": [
       "  0%|          | 0/50 [00:00<?, ?it/s]"
      ]
     },
     "metadata": {},
     "output_type": "display_data"
    },
    {
     "data": {
      "application/vnd.jupyter.widget-view+json": {
       "model_id": "",
       "version_major": 2,
       "version_minor": 0
      },
      "text/plain": [
       "  0%|          | 0/50 [00:00<?, ?it/s]"
      ]
     },
     "metadata": {},
     "output_type": "display_data"
    },
    {
     "data": {
      "application/vnd.jupyter.widget-view+json": {
       "model_id": "",
       "version_major": 2,
       "version_minor": 0
      },
      "text/plain": [
       "  0%|          | 0/50 [00:00<?, ?it/s]"
      ]
     },
     "metadata": {},
     "output_type": "display_data"
    },
    {
     "data": {
      "application/vnd.jupyter.widget-view+json": {
       "model_id": "",
       "version_major": 2,
       "version_minor": 0
      },
      "text/plain": [
       "  0%|          | 0/50 [00:00<?, ?it/s]"
      ]
     },
     "metadata": {},
     "output_type": "display_data"
    },
    {
     "data": {
      "application/vnd.jupyter.widget-view+json": {
       "model_id": "",
       "version_major": 2,
       "version_minor": 0
      },
      "text/plain": [
       "  0%|          | 0/50 [00:00<?, ?it/s]"
      ]
     },
     "metadata": {},
     "output_type": "display_data"
    },
    {
     "data": {
      "application/vnd.jupyter.widget-view+json": {
       "model_id": "",
       "version_major": 2,
       "version_minor": 0
      },
      "text/plain": [
       "  0%|          | 0/50 [00:00<?, ?it/s]"
      ]
     },
     "metadata": {},
     "output_type": "display_data"
    },
    {
     "data": {
      "application/vnd.jupyter.widget-view+json": {
       "model_id": "",
       "version_major": 2,
       "version_minor": 0
      },
      "text/plain": [
       "  0%|          | 0/50 [00:00<?, ?it/s]"
      ]
     },
     "metadata": {},
     "output_type": "display_data"
    },
    {
     "data": {
      "application/vnd.jupyter.widget-view+json": {
       "model_id": "",
       "version_major": 2,
       "version_minor": 0
      },
      "text/plain": [
       "  0%|          | 0/50 [00:00<?, ?it/s]"
      ]
     },
     "metadata": {},
     "output_type": "display_data"
    },
    {
     "data": {
      "application/vnd.jupyter.widget-view+json": {
       "model_id": "",
       "version_major": 2,
       "version_minor": 0
      },
      "text/plain": [
       "  0%|          | 0/50 [00:00<?, ?it/s]"
      ]
     },
     "metadata": {},
     "output_type": "display_data"
    },
    {
     "data": {
      "application/vnd.jupyter.widget-view+json": {
       "model_id": "",
       "version_major": 2,
       "version_minor": 0
      },
      "text/plain": [
       "  0%|          | 0/50 [00:00<?, ?it/s]"
      ]
     },
     "metadata": {},
     "output_type": "display_data"
    },
    {
     "data": {
      "application/vnd.jupyter.widget-view+json": {
       "model_id": "",
       "version_major": 2,
       "version_minor": 0
      },
      "text/plain": [
       "  0%|          | 0/50 [00:00<?, ?it/s]"
      ]
     },
     "metadata": {},
     "output_type": "display_data"
    },
    {
     "data": {
      "application/vnd.jupyter.widget-view+json": {
       "model_id": "",
       "version_major": 2,
       "version_minor": 0
      },
      "text/plain": [
       "  0%|          | 0/50 [00:00<?, ?it/s]"
      ]
     },
     "metadata": {},
     "output_type": "display_data"
    },
    {
     "data": {
      "application/vnd.jupyter.widget-view+json": {
       "model_id": "",
       "version_major": 2,
       "version_minor": 0
      },
      "text/plain": [
       "  0%|          | 0/50 [00:00<?, ?it/s]"
      ]
     },
     "metadata": {},
     "output_type": "display_data"
    },
    {
     "data": {
      "application/vnd.jupyter.widget-view+json": {
       "model_id": "",
       "version_major": 2,
       "version_minor": 0
      },
      "text/plain": [
       "  0%|          | 0/50 [00:00<?, ?it/s]"
      ]
     },
     "metadata": {},
     "output_type": "display_data"
    },
    {
     "data": {
      "application/vnd.jupyter.widget-view+json": {
       "model_id": "",
       "version_major": 2,
       "version_minor": 0
      },
      "text/plain": [
       "  0%|          | 0/50 [00:00<?, ?it/s]"
      ]
     },
     "metadata": {},
     "output_type": "display_data"
    },
    {
     "data": {
      "application/vnd.jupyter.widget-view+json": {
       "model_id": "",
       "version_major": 2,
       "version_minor": 0
      },
      "text/plain": [
       "  0%|          | 0/50 [00:00<?, ?it/s]"
      ]
     },
     "metadata": {},
     "output_type": "display_data"
    }
   ],
   "source": [
    "tokenizer = AutoTokenizer.from_pretrained(\"prajjwal1/bert-tiny\")\n",
    "\n",
    "batch_size = 100\n",
    "collator = Collator(tokenizer, max_len=512)\n",
    "\n",
    "\n",
    "loss_function = nn.CrossEntropyLoss(\n",
    "    \n",
    ")\n",
    "\n",
    "\n",
    "n_epochs = 5\n",
    "test_step_size = 50\n",
    "lr = 3e-4\n",
    "hidden_dim = 256\n",
    "output_dim = 2\n",
    "dropout = 0.1\n",
    "optimizer = torch.optim.Adam\n",
    "\n",
    "train_loader = DataLoader(train_dataset, \n",
    "                         shuffle=True, \n",
    "                         batch_size=batch_size,\n",
    "                         collate_fn=collator)\n",
    "test_loader = DataLoader(test_dataset, \n",
    "                         shuffle=False, \n",
    "                         batch_size=batch_size,\n",
    "                         collate_fn=collator)\n",
    "\n",
    "model = DetectionModel(pretrained_model_path=\"prajjwal1/bert-tiny\",\n",
    "                       hidden_dim=hidden_dim,\n",
    "                       output_dim=output_dim,\n",
    "                       drouput=dropout).to(device)\n",
    "\n",
    "writer = SummaryWriter(log_dir=\"./run0\")\n",
    "\n",
    "callback = Callback(writer, \n",
    "                    test_loader, \n",
    "                    loss_function, \n",
    "                    delimeter=test_step_size)\n",
    "\n",
    "trainer(count_of_epoch=n_epochs, \n",
    "        batch_size=batch_size, \n",
    "        loader=train_loader,\n",
    "        model=model, \n",
    "        loss_function=loss_function,\n",
    "        optimizer=optimizer,\n",
    "        lr=lr,\n",
    "        callback=callback)"
   ]
  },
  {
   "cell_type": "markdown",
   "id": "79e71a3f-dc7b-45fb-9d8f-60d6bab31b4a",
   "metadata": {},
   "source": [
    "Не знаю что комментировать, взяли tiny bert, взяли выход напротив cls токена, засунули в голову для классификации, оно завелось и как-то обучилось, выдает accuracy > 0.5 и ладно. Для улучшения качества можно взять модельку побольше и покрутить немножко параметры, но задача, кажется, не в выбивании скора, поэтому этим ограничимся."
   ]
  }
 ],
 "metadata": {
  "kernelspec": {
   "display_name": "Python 3 (ipykernel)",
   "language": "python",
   "name": "python3"
  },
  "language_info": {
   "codemirror_mode": {
    "name": "ipython",
    "version": 3
   },
   "file_extension": ".py",
   "mimetype": "text/x-python",
   "name": "python",
   "nbconvert_exporter": "python",
   "pygments_lexer": "ipython3",
   "version": "3.10.13"
  },
  "widgets": {
   "application/vnd.jupyter.widget-state+json": {
    "state": {
     "007a3a179d8843b1b181fd471c281e32": {
      "model_module": "@jupyter-widgets/controls",
      "model_module_version": "2.0.0",
      "model_name": "ProgressStyleModel",
      "state": {
       "description_width": ""
      }
     },
     "00c22473b522412895b166691de96037": {
      "model_module": "@jupyter-widgets/base",
      "model_module_version": "2.0.0",
      "model_name": "LayoutModel",
      "state": {}
     },
     "00e55fd76bcc4f06adc30d0b3e52db53": {
      "model_module": "@jupyter-widgets/base",
      "model_module_version": "2.0.0",
      "model_name": "LayoutModel",
      "state": {}
     },
     "013cb1a7a6454631881e33157007de8b": {
      "model_module": "@jupyter-widgets/controls",
      "model_module_version": "2.0.0",
      "model_name": "HTMLModel",
      "state": {
       "layout": "IPY_MODEL_b44879d2581b4f5c96e11267b0c2e6a6",
       "style": "IPY_MODEL_7d45b30948ee4fa49de00612b0064939",
       "value": "100%"
      }
     },
     "0152237f29b1498b888f6f1aa582fff2": {
      "model_module": "@jupyter-widgets/base",
      "model_module_version": "2.0.0",
      "model_name": "LayoutModel",
      "state": {}
     },
     "01611f762a6e4deb835802a0bfc2ded5": {
      "model_module": "@jupyter-widgets/controls",
      "model_module_version": "2.0.0",
      "model_name": "HTMLStyleModel",
      "state": {
       "description_width": "",
       "font_size": null,
       "text_color": null
      }
     },
     "01d6d1b9ebff435a9d125f2f470febd4": {
      "model_module": "@jupyter-widgets/controls",
      "model_module_version": "2.0.0",
      "model_name": "ProgressStyleModel",
      "state": {
       "description_width": ""
      }
     },
     "02fbb849236549c89a31ce04323d6d3d": {
      "model_module": "@jupyter-widgets/controls",
      "model_module_version": "2.0.0",
      "model_name": "FloatProgressModel",
      "state": {
       "layout": "IPY_MODEL_312fc4c2b98344468ef6473cdbed28a9",
       "max": 50,
       "style": "IPY_MODEL_7131135091c14650ad47f4925be62d78",
       "value": 50
      }
     },
     "030c414f9518456781c294587be681d9": {
      "model_module": "@jupyter-widgets/controls",
      "model_module_version": "2.0.0",
      "model_name": "HTMLModel",
      "state": {
       "layout": "IPY_MODEL_44045d4a51c247a18db39cadbea75974",
       "style": "IPY_MODEL_18336249ebfa438ba0d492fb145e888c",
       "value": "100%"
      }
     },
     "0311390af1e54b03835316cc68f1ccdf": {
      "model_module": "@jupyter-widgets/controls",
      "model_module_version": "2.0.0",
      "model_name": "ProgressStyleModel",
      "state": {
       "description_width": ""
      }
     },
     "032b8d849d984665bf202caa5738ab8d": {
      "model_module": "@jupyter-widgets/base",
      "model_module_version": "2.0.0",
      "model_name": "LayoutModel",
      "state": {}
     },
     "035966eddfa54b91a940e041b7707c6c": {
      "model_module": "@jupyter-widgets/base",
      "model_module_version": "2.0.0",
      "model_name": "LayoutModel",
      "state": {}
     },
     "035c771e3eb948cc9ea24aa34eafdf69": {
      "model_module": "@jupyter-widgets/base",
      "model_module_version": "2.0.0",
      "model_name": "LayoutModel",
      "state": {
       "visibility": "hidden"
      }
     },
     "03913573e69541699028ea000dd30416": {
      "model_module": "@jupyter-widgets/controls",
      "model_module_version": "2.0.0",
      "model_name": "ProgressStyleModel",
      "state": {
       "description_width": ""
      }
     },
     "03b0caae586c4dbcac2513ae4e83bcb5": {
      "model_module": "@jupyter-widgets/controls",
      "model_module_version": "2.0.0",
      "model_name": "HTMLModel",
      "state": {
       "layout": "IPY_MODEL_e1b575789f18455e9d7686da54d4337f",
       "style": "IPY_MODEL_180fea48a94f4c32ad84ca3edb654c2c",
       "value": "100%"
      }
     },
     "03b33ec9024f4551a8e9e3f6b566af2f": {
      "model_module": "@jupyter-widgets/controls",
      "model_module_version": "2.0.0",
      "model_name": "HTMLStyleModel",
      "state": {
       "description_width": "",
       "font_size": null,
       "text_color": null
      }
     },
     "03d66412b8a54b71ae467e1aa99abe4a": {
      "model_module": "@jupyter-widgets/controls",
      "model_module_version": "2.0.0",
      "model_name": "HTMLStyleModel",
      "state": {
       "description_width": "",
       "font_size": null,
       "text_color": null
      }
     },
     "03f239d1ddf4430795e760d70ea57c46": {
      "model_module": "@jupyter-widgets/controls",
      "model_module_version": "2.0.0",
      "model_name": "HTMLStyleModel",
      "state": {
       "description_width": "",
       "font_size": null,
       "text_color": null
      }
     },
     "042c5c96564842b88a2668b68e20f872": {
      "model_module": "@jupyter-widgets/controls",
      "model_module_version": "2.0.0",
      "model_name": "HTMLStyleModel",
      "state": {
       "description_width": "",
       "font_size": null,
       "text_color": null
      }
     },
     "045b8f0e5298428c9fd5f609704f8b36": {
      "model_module": "@jupyter-widgets/base",
      "model_module_version": "2.0.0",
      "model_name": "LayoutModel",
      "state": {}
     },
     "048b495209f84a34a44546fe30c7e99d": {
      "model_module": "@jupyter-widgets/controls",
      "model_module_version": "2.0.0",
      "model_name": "HTMLModel",
      "state": {
       "layout": "IPY_MODEL_35747000316244dbb03fcf11d412708e",
       "style": "IPY_MODEL_cdf481dfa2ed442dab50c8234124c2e2",
       "value": "100%"
      }
     },
     "053aa21fa7b24baebfad0ac4bd000dc1": {
      "model_module": "@jupyter-widgets/controls",
      "model_module_version": "2.0.0",
      "model_name": "FloatProgressModel",
      "state": {
       "layout": "IPY_MODEL_1255e210c5c146ef9f33e05582c2a38c",
       "max": 50,
       "style": "IPY_MODEL_68184efea43f4668bd6aa26555c1bb5f",
       "value": 50
      }
     },
     "059fb9dafa3a490c95fedfe45cf56df1": {
      "model_module": "@jupyter-widgets/controls",
      "model_module_version": "2.0.0",
      "model_name": "HTMLStyleModel",
      "state": {
       "description_width": "",
       "font_size": null,
       "text_color": null
      }
     },
     "05ec38e07090431cb05d0f4052f3927f": {
      "model_module": "@jupyter-widgets/base",
      "model_module_version": "2.0.0",
      "model_name": "LayoutModel",
      "state": {
       "visibility": "hidden"
      }
     },
     "0628bfc2a74e43cd92771616755df51a": {
      "model_module": "@jupyter-widgets/base",
      "model_module_version": "2.0.0",
      "model_name": "LayoutModel",
      "state": {}
     },
     "0679c06c43524afd9064fdce5cdc42d7": {
      "model_module": "@jupyter-widgets/base",
      "model_module_version": "2.0.0",
      "model_name": "LayoutModel",
      "state": {}
     },
     "069465051a3f4b90b3378b43172fdb9c": {
      "model_module": "@jupyter-widgets/controls",
      "model_module_version": "2.0.0",
      "model_name": "ProgressStyleModel",
      "state": {
       "description_width": ""
      }
     },
     "06add6f346494caab50fc3a01b4a323e": {
      "model_module": "@jupyter-widgets/controls",
      "model_module_version": "2.0.0",
      "model_name": "HTMLModel",
      "state": {
       "layout": "IPY_MODEL_a2ec03574fa045a1bff488fdfe463733",
       "style": "IPY_MODEL_c119f1e93d874e1b991d3f38a40d3f76",
       "value": " 50/50 [00:04&lt;00:00, 12.27it/s]"
      }
     },
     "06af12f098944d1aabf34083ca944ae5": {
      "model_module": "@jupyter-widgets/controls",
      "model_module_version": "2.0.0",
      "model_name": "HTMLModel",
      "state": {
       "layout": "IPY_MODEL_d864d42e9365428681963fa19abcf643",
       "style": "IPY_MODEL_fd36ffc382e04981b48d0b81e1d8b565",
       "value": "100%"
      }
     },
     "06e98b0b143a409fb7a826b396a42c8b": {
      "model_module": "@jupyter-widgets/base",
      "model_module_version": "2.0.0",
      "model_name": "LayoutModel",
      "state": {
       "visibility": "hidden"
      }
     },
     "07250d42609b4b119f35e4c1f85fc298": {
      "model_module": "@jupyter-widgets/controls",
      "model_module_version": "2.0.0",
      "model_name": "HTMLModel",
      "state": {
       "layout": "IPY_MODEL_3d1195fcfb5a47d1844c13ea5036261d",
       "style": "IPY_MODEL_c8c9928bb38241bd9ea52360d8abe888",
       "value": " 1198/1198 [07:18&lt;00:00,  5.75it/s]"
      }
     },
     "0756c7953cf44c2fad0a9456b2c4e355": {
      "model_module": "@jupyter-widgets/base",
      "model_module_version": "2.0.0",
      "model_name": "LayoutModel",
      "state": {
       "visibility": "hidden"
      }
     },
     "07c84b0c3baf477dba4160998ca8e03e": {
      "model_module": "@jupyter-widgets/base",
      "model_module_version": "2.0.0",
      "model_name": "LayoutModel",
      "state": {}
     },
     "07e33732ccb34e4790ffc2bd2c0a1472": {
      "model_module": "@jupyter-widgets/base",
      "model_module_version": "2.0.0",
      "model_name": "LayoutModel",
      "state": {
       "visibility": "hidden"
      }
     },
     "0810521de278474e9cb80e122eab1afc": {
      "model_module": "@jupyter-widgets/controls",
      "model_module_version": "2.0.0",
      "model_name": "ProgressStyleModel",
      "state": {
       "description_width": ""
      }
     },
     "081cbd662c764d50b51a958378f46aa4": {
      "model_module": "@jupyter-widgets/base",
      "model_module_version": "2.0.0",
      "model_name": "LayoutModel",
      "state": {}
     },
     "082a046acdb34739b2cd137e9f272d57": {
      "model_module": "@jupyter-widgets/base",
      "model_module_version": "2.0.0",
      "model_name": "LayoutModel",
      "state": {
       "visibility": "hidden"
      }
     },
     "083f830d73e6473ea205b226b3ccac69": {
      "model_module": "@jupyter-widgets/controls",
      "model_module_version": "2.0.0",
      "model_name": "FloatProgressModel",
      "state": {
       "layout": "IPY_MODEL_11e60a5aae414d888e4d7a219496cd66",
       "max": 50,
       "style": "IPY_MODEL_65367142eb6b43518e41fcf7c7b816a7",
       "value": 50
      }
     },
     "08635e93bcbe46009c9c6d63b008205a": {
      "model_module": "@jupyter-widgets/base",
      "model_module_version": "2.0.0",
      "model_name": "LayoutModel",
      "state": {
       "visibility": "hidden"
      }
     },
     "08b57670a73544a0842a747d094b0588": {
      "model_module": "@jupyter-widgets/controls",
      "model_module_version": "2.0.0",
      "model_name": "HTMLStyleModel",
      "state": {
       "description_width": "",
       "font_size": null,
       "text_color": null
      }
     },
     "08e1be96929244c6878ee680c508f50d": {
      "model_module": "@jupyter-widgets/base",
      "model_module_version": "2.0.0",
      "model_name": "LayoutModel",
      "state": {}
     },
     "08e97f57c5b8481cafa86c3d9bed3a10": {
      "model_module": "@jupyter-widgets/base",
      "model_module_version": "2.0.0",
      "model_name": "LayoutModel",
      "state": {}
     },
     "08ec2b3c84b047728fd2bf67e1011dad": {
      "model_module": "@jupyter-widgets/base",
      "model_module_version": "2.0.0",
      "model_name": "LayoutModel",
      "state": {}
     },
     "08f8599f7adb4276938d235211c07094": {
      "model_module": "@jupyter-widgets/controls",
      "model_module_version": "2.0.0",
      "model_name": "FloatProgressModel",
      "state": {
       "layout": "IPY_MODEL_c521dc5bfd894ff88c58b3751454359c",
       "max": 50,
       "style": "IPY_MODEL_47d64784b56c4247bd3749c52d842ede",
       "value": 50
      }
     },
     "097ec02b1c8245569faf47950f338515": {
      "model_module": "@jupyter-widgets/controls",
      "model_module_version": "2.0.0",
      "model_name": "HTMLModel",
      "state": {
       "layout": "IPY_MODEL_c93b856418b84b81a374391f01a685de",
       "style": "IPY_MODEL_0e57a6d2db7d48f7b7251609f1b90042",
       "value": " 50/50 [00:05&lt;00:00, 11.05it/s]"
      }
     },
     "0998b4fed8344a18a4cb7c5128f1bef4": {
      "model_module": "@jupyter-widgets/controls",
      "model_module_version": "2.0.0",
      "model_name": "HTMLStyleModel",
      "state": {
       "description_width": "",
       "font_size": null,
       "text_color": null
      }
     },
     "09b5726cf2984e668410c1ff9b6d409e": {
      "model_module": "@jupyter-widgets/controls",
      "model_module_version": "2.0.0",
      "model_name": "HTMLStyleModel",
      "state": {
       "description_width": "",
       "font_size": null,
       "text_color": null
      }
     },
     "09be000239af41f5ae35e7c859898765": {
      "model_module": "@jupyter-widgets/controls",
      "model_module_version": "2.0.0",
      "model_name": "HTMLStyleModel",
      "state": {
       "description_width": "",
       "font_size": null,
       "text_color": null
      }
     },
     "09c48934c48640a8aeecd184a4d07e46": {
      "model_module": "@jupyter-widgets/controls",
      "model_module_version": "2.0.0",
      "model_name": "HTMLStyleModel",
      "state": {
       "description_width": "",
       "font_size": null,
       "text_color": null
      }
     },
     "09e358ecfd7c4112aaba1c1cc35f20eb": {
      "model_module": "@jupyter-widgets/base",
      "model_module_version": "2.0.0",
      "model_name": "LayoutModel",
      "state": {}
     },
     "09f2c48dd354437fabb02d2bb9a2c82c": {
      "model_module": "@jupyter-widgets/base",
      "model_module_version": "2.0.0",
      "model_name": "LayoutModel",
      "state": {}
     },
     "0a0f928005014a8ea920cef7ba8429db": {
      "model_module": "@jupyter-widgets/controls",
      "model_module_version": "2.0.0",
      "model_name": "HBoxModel",
      "state": {
       "children": [
        "IPY_MODEL_22bf7597c77d43e3958b9388ac73a223",
        "IPY_MODEL_74a61c8867ec43a9bdc67c9333439299",
        "IPY_MODEL_5b84e081d791419da27934d1b8eae37d"
       ],
       "layout": "IPY_MODEL_0679c06c43524afd9064fdce5cdc42d7"
      }
     },
     "0a3a1a52bf3243cfa4ff0d2d33881906": {
      "model_module": "@jupyter-widgets/base",
      "model_module_version": "2.0.0",
      "model_name": "LayoutModel",
      "state": {
       "visibility": "hidden"
      }
     },
     "0a3b4401d399491d99696862af48cbad": {
      "model_module": "@jupyter-widgets/base",
      "model_module_version": "2.0.0",
      "model_name": "LayoutModel",
      "state": {}
     },
     "0a40d6d9cb8d491bbeb50a2bdaf80a52": {
      "model_module": "@jupyter-widgets/base",
      "model_module_version": "2.0.0",
      "model_name": "LayoutModel",
      "state": {}
     },
     "0b32f2b60be744c6a39f8bebb1569e75": {
      "model_module": "@jupyter-widgets/controls",
      "model_module_version": "2.0.0",
      "model_name": "HTMLModel",
      "state": {
       "layout": "IPY_MODEL_3b720ff0ad9144c2bbbc6b3a6c312f08",
       "style": "IPY_MODEL_1e9031c69ceb4adfbf60fc818032e2fd",
       "value": "100%"
      }
     },
     "0b56b860606c40248e6367b9dbc0ee91": {
      "model_module": "@jupyter-widgets/base",
      "model_module_version": "2.0.0",
      "model_name": "LayoutModel",
      "state": {
       "visibility": "hidden"
      }
     },
     "0b922d98cd8d48dca513ea6452b02af5": {
      "model_module": "@jupyter-widgets/base",
      "model_module_version": "2.0.0",
      "model_name": "LayoutModel",
      "state": {}
     },
     "0b98ce4300a047e29c7b969181dafb6c": {
      "model_module": "@jupyter-widgets/base",
      "model_module_version": "2.0.0",
      "model_name": "LayoutModel",
      "state": {}
     },
     "0bb411657c074b5a902a8a8590e62610": {
      "model_module": "@jupyter-widgets/base",
      "model_module_version": "2.0.0",
      "model_name": "LayoutModel",
      "state": {}
     },
     "0bc73b566b664416a512cd5b55433257": {
      "model_module": "@jupyter-widgets/controls",
      "model_module_version": "2.0.0",
      "model_name": "HTMLModel",
      "state": {
       "layout": "IPY_MODEL_5d3964d50a6a4d8d841f0794879c32f9",
       "style": "IPY_MODEL_1b334d6d2284479390a1243b4fc949bb",
       "value": "100%"
      }
     },
     "0bed6044277a4d79899a10bbe76f248b": {
      "model_module": "@jupyter-widgets/base",
      "model_module_version": "2.0.0",
      "model_name": "LayoutModel",
      "state": {}
     },
     "0c536be6d0d148dcb2d95def1159adde": {
      "model_module": "@jupyter-widgets/controls",
      "model_module_version": "2.0.0",
      "model_name": "HTMLStyleModel",
      "state": {
       "description_width": "",
       "font_size": null,
       "text_color": null
      }
     },
     "0c571b615aab44f8a081e453a94e4667": {
      "model_module": "@jupyter-widgets/base",
      "model_module_version": "2.0.0",
      "model_name": "LayoutModel",
      "state": {}
     },
     "0cf92059aa6046ba848b4116d80c9eb0": {
      "model_module": "@jupyter-widgets/base",
      "model_module_version": "2.0.0",
      "model_name": "LayoutModel",
      "state": {}
     },
     "0d2df514e79a49958ffb11d2d1b678cc": {
      "model_module": "@jupyter-widgets/controls",
      "model_module_version": "2.0.0",
      "model_name": "HTMLModel",
      "state": {
       "layout": "IPY_MODEL_9e382422c7934d73a6b2a57f7ba20cc3",
       "style": "IPY_MODEL_73052eaa30564860af41534b2f2b92f7",
       "value": " 50/50 [00:04&lt;00:00, 12.14it/s]"
      }
     },
     "0d6cd9598c5d4c66b7d3e0f44001fdd4": {
      "model_module": "@jupyter-widgets/controls",
      "model_module_version": "2.0.0",
      "model_name": "FloatProgressModel",
      "state": {
       "layout": "IPY_MODEL_7e53f37aadf04a7fbef61b799068da58",
       "max": 50,
       "style": "IPY_MODEL_c337a8db27914914b209f87d62f358bb",
       "value": 50
      }
     },
     "0d7384b8e0d14322b20cb15cbae48db7": {
      "model_module": "@jupyter-widgets/controls",
      "model_module_version": "2.0.0",
      "model_name": "HTMLStyleModel",
      "state": {
       "description_width": "",
       "font_size": null,
       "text_color": null
      }
     },
     "0d7ee13888d74ac6ae1b94fad7bf9d04": {
      "model_module": "@jupyter-widgets/controls",
      "model_module_version": "2.0.0",
      "model_name": "ProgressStyleModel",
      "state": {
       "description_width": ""
      }
     },
     "0db4239ffd8e4e4ea21cedae01187c56": {
      "model_module": "@jupyter-widgets/controls",
      "model_module_version": "2.0.0",
      "model_name": "HTMLModel",
      "state": {
       "layout": "IPY_MODEL_a0540a704f9649a58474e88a397e023f",
       "style": "IPY_MODEL_30919663997d47c1a8b057b14b379ab2",
       "value": " 50/50 [00:04&lt;00:00, 11.98it/s]"
      }
     },
     "0e4da321d46243658574f2fcc58f9da4": {
      "model_module": "@jupyter-widgets/base",
      "model_module_version": "2.0.0",
      "model_name": "LayoutModel",
      "state": {}
     },
     "0e57a6d2db7d48f7b7251609f1b90042": {
      "model_module": "@jupyter-widgets/controls",
      "model_module_version": "2.0.0",
      "model_name": "HTMLStyleModel",
      "state": {
       "description_width": "",
       "font_size": null,
       "text_color": null
      }
     },
     "0ee5c0e25513439b8b36a9efe21743e2": {
      "model_module": "@jupyter-widgets/base",
      "model_module_version": "2.0.0",
      "model_name": "LayoutModel",
      "state": {}
     },
     "0efcb141edd840dda7816b630c1e966f": {
      "model_module": "@jupyter-widgets/controls",
      "model_module_version": "2.0.0",
      "model_name": "HTMLStyleModel",
      "state": {
       "description_width": "",
       "font_size": null,
       "text_color": null
      }
     },
     "0effd5c669f04ac5838a9839cbe16b61": {
      "model_module": "@jupyter-widgets/controls",
      "model_module_version": "2.0.0",
      "model_name": "HTMLStyleModel",
      "state": {
       "description_width": "",
       "font_size": null,
       "text_color": null
      }
     },
     "0f1d42cc07e34885be2cda935345b251": {
      "model_module": "@jupyter-widgets/controls",
      "model_module_version": "2.0.0",
      "model_name": "HTMLModel",
      "state": {
       "layout": "IPY_MODEL_b5b73e19bc8c4648b692f5d876c3701a",
       "style": "IPY_MODEL_e8bd53df062346baba597f765bfde779",
       "value": "100%"
      }
     },
     "0f9a75cc13f043f9a6aa7afadbb11ee3": {
      "model_module": "@jupyter-widgets/base",
      "model_module_version": "2.0.0",
      "model_name": "LayoutModel",
      "state": {
       "visibility": "hidden"
      }
     },
     "0fa50b8a9a29429dbc1cf59a82e7958b": {
      "model_module": "@jupyter-widgets/controls",
      "model_module_version": "2.0.0",
      "model_name": "FloatProgressModel",
      "state": {
       "layout": "IPY_MODEL_045b8f0e5298428c9fd5f609704f8b36",
       "max": 50,
       "style": "IPY_MODEL_910f1316c00f469fa42c229922ea2c22",
       "value": 50
      }
     },
     "0fa64a35ead44289b4efc27d4e480a74": {
      "model_module": "@jupyter-widgets/base",
      "model_module_version": "2.0.0",
      "model_name": "LayoutModel",
      "state": {
       "visibility": "hidden"
      }
     },
     "0fb8c6c505e1484e8ac0b54151ba6085": {
      "model_module": "@jupyter-widgets/base",
      "model_module_version": "2.0.0",
      "model_name": "LayoutModel",
      "state": {
       "visibility": "hidden"
      }
     },
     "0fcb024aa2d749b3b959ad80832a4d0f": {
      "model_module": "@jupyter-widgets/controls",
      "model_module_version": "2.0.0",
      "model_name": "HTMLStyleModel",
      "state": {
       "description_width": "",
       "font_size": null,
       "text_color": null
      }
     },
     "0fdbb76e298840298b9459ab6a59300d": {
      "model_module": "@jupyter-widgets/base",
      "model_module_version": "2.0.0",
      "model_name": "LayoutModel",
      "state": {}
     },
     "0ff95717b970464381f06b04dcaab92a": {
      "model_module": "@jupyter-widgets/controls",
      "model_module_version": "2.0.0",
      "model_name": "HTMLModel",
      "state": {
       "layout": "IPY_MODEL_936464ab0fe045068eb218e8beb81aa7",
       "style": "IPY_MODEL_39b982c1b97d4d10865668c7e2785c84",
       "value": " 50/50 [00:04&lt;00:00, 12.13it/s]"
      }
     },
     "10419ceb118d4a3582b8ca38a47a55ba": {
      "model_module": "@jupyter-widgets/base",
      "model_module_version": "2.0.0",
      "model_name": "LayoutModel",
      "state": {}
     },
     "10457b4e371c458299e836e496c38577": {
      "model_module": "@jupyter-widgets/base",
      "model_module_version": "2.0.0",
      "model_name": "LayoutModel",
      "state": {}
     },
     "1049abf43cd14e3ba4e3878fa068bd81": {
      "model_module": "@jupyter-widgets/base",
      "model_module_version": "2.0.0",
      "model_name": "LayoutModel",
      "state": {}
     },
     "109cae9456db416a950cddeebf07b9ac": {
      "model_module": "@jupyter-widgets/controls",
      "model_module_version": "2.0.0",
      "model_name": "ProgressStyleModel",
      "state": {
       "description_width": ""
      }
     },
     "10dac316a48e464e804c408b3d7aa134": {
      "model_module": "@jupyter-widgets/controls",
      "model_module_version": "2.0.0",
      "model_name": "HTMLModel",
      "state": {
       "layout": "IPY_MODEL_c8acf5d81d11433685f530b33049fc97",
       "style": "IPY_MODEL_4eeb243fc2bf4d63a8196b70dc929a47",
       "value": "100%"
      }
     },
     "1180418572a145a0b47c75dfbe2ab19a": {
      "model_module": "@jupyter-widgets/base",
      "model_module_version": "2.0.0",
      "model_name": "LayoutModel",
      "state": {}
     },
     "11e60a5aae414d888e4d7a219496cd66": {
      "model_module": "@jupyter-widgets/base",
      "model_module_version": "2.0.0",
      "model_name": "LayoutModel",
      "state": {}
     },
     "11f18a4ab47a4bc58f77e381be2adfbc": {
      "model_module": "@jupyter-widgets/base",
      "model_module_version": "2.0.0",
      "model_name": "LayoutModel",
      "state": {}
     },
     "1254c7ade73a4e31ab5a5174ce485d4b": {
      "model_module": "@jupyter-widgets/base",
      "model_module_version": "2.0.0",
      "model_name": "LayoutModel",
      "state": {}
     },
     "1255e210c5c146ef9f33e05582c2a38c": {
      "model_module": "@jupyter-widgets/base",
      "model_module_version": "2.0.0",
      "model_name": "LayoutModel",
      "state": {}
     },
     "128637a058a64779901cf082f0dbd3ef": {
      "model_module": "@jupyter-widgets/controls",
      "model_module_version": "2.0.0",
      "model_name": "FloatProgressModel",
      "state": {
       "layout": "IPY_MODEL_da0287d13f414141974473543896bf77",
       "max": 50,
       "style": "IPY_MODEL_897624feba164309ba1272b80b564b48",
       "value": 50
      }
     },
     "129df519673241faaa0f2de05ae92aef": {
      "model_module": "@jupyter-widgets/controls",
      "model_module_version": "2.0.0",
      "model_name": "HTMLModel",
      "state": {
       "layout": "IPY_MODEL_0a3b4401d399491d99696862af48cbad",
       "style": "IPY_MODEL_e8d38a9341014c2599abdbf2557da4d1",
       "value": "100%"
      }
     },
     "12a08b8a2d734962b4eca215acc43ec1": {
      "model_module": "@jupyter-widgets/base",
      "model_module_version": "2.0.0",
      "model_name": "LayoutModel",
      "state": {
       "visibility": "hidden"
      }
     },
     "12b712ddb46a434e8aaf6514ffd64241": {
      "model_module": "@jupyter-widgets/base",
      "model_module_version": "2.0.0",
      "model_name": "LayoutModel",
      "state": {}
     },
     "12e4573377f24bc4b87f620c68b5d83e": {
      "model_module": "@jupyter-widgets/controls",
      "model_module_version": "2.0.0",
      "model_name": "ProgressStyleModel",
      "state": {
       "description_width": ""
      }
     },
     "12e6123e336c4d8f81127255f6389b67": {
      "model_module": "@jupyter-widgets/controls",
      "model_module_version": "2.0.0",
      "model_name": "HTMLStyleModel",
      "state": {
       "description_width": "",
       "font_size": null,
       "text_color": null
      }
     },
     "136370e8bd444deeafe65e395bcf7126": {
      "model_module": "@jupyter-widgets/controls",
      "model_module_version": "2.0.0",
      "model_name": "HTMLStyleModel",
      "state": {
       "description_width": "",
       "font_size": null,
       "text_color": null
      }
     },
     "139afb25b5164ef2b6893a037438804c": {
      "model_module": "@jupyter-widgets/base",
      "model_module_version": "2.0.0",
      "model_name": "LayoutModel",
      "state": {
       "visibility": "hidden"
      }
     },
     "13a97375360842d9929bdfdb08c1d25a": {
      "model_module": "@jupyter-widgets/controls",
      "model_module_version": "2.0.0",
      "model_name": "HTMLStyleModel",
      "state": {
       "description_width": "",
       "font_size": null,
       "text_color": null
      }
     },
     "13c4e6e239894ba1bcc47bb6bcd76db2": {
      "model_module": "@jupyter-widgets/base",
      "model_module_version": "2.0.0",
      "model_name": "LayoutModel",
      "state": {}
     },
     "13ea782991ba456d8117fc315a415e33": {
      "model_module": "@jupyter-widgets/controls",
      "model_module_version": "2.0.0",
      "model_name": "HTMLStyleModel",
      "state": {
       "description_width": "",
       "font_size": null,
       "text_color": null
      }
     },
     "13eaab66e91d407a95515aefeef7b293": {
      "model_module": "@jupyter-widgets/controls",
      "model_module_version": "2.0.0",
      "model_name": "HTMLModel",
      "state": {
       "layout": "IPY_MODEL_c508027d789543979e171a349b572db7",
       "style": "IPY_MODEL_e55f2c80076542f6914b0f8ac4028aa4",
       "value": " 50/50 [00:04&lt;00:00, 12.12it/s]"
      }
     },
     "14053025317441d38455bb8e37f45284": {
      "model_module": "@jupyter-widgets/controls",
      "model_module_version": "2.0.0",
      "model_name": "HTMLStyleModel",
      "state": {
       "description_width": "",
       "font_size": null,
       "text_color": null
      }
     },
     "14200ef5de704b6ab3348c461b52c818": {
      "model_module": "@jupyter-widgets/controls",
      "model_module_version": "2.0.0",
      "model_name": "HTMLStyleModel",
      "state": {
       "description_width": "",
       "font_size": null,
       "text_color": null
      }
     },
     "14272837084c4480b8bf41e9b001f712": {
      "model_module": "@jupyter-widgets/controls",
      "model_module_version": "2.0.0",
      "model_name": "HTMLStyleModel",
      "state": {
       "description_width": "",
       "font_size": null,
       "text_color": null
      }
     },
     "1436b9a850de46f19e5f09a1e7e8449b": {
      "model_module": "@jupyter-widgets/base",
      "model_module_version": "2.0.0",
      "model_name": "LayoutModel",
      "state": {}
     },
     "1490fefad9714a3083817ff560702b7a": {
      "model_module": "@jupyter-widgets/base",
      "model_module_version": "2.0.0",
      "model_name": "LayoutModel",
      "state": {}
     },
     "14b3ae26993f464ea5634fe931c32d64": {
      "model_module": "@jupyter-widgets/controls",
      "model_module_version": "2.0.0",
      "model_name": "HTMLStyleModel",
      "state": {
       "description_width": "",
       "font_size": null,
       "text_color": null
      }
     },
     "14b7f68c0839468e9ae3de3f1c06b047": {
      "model_module": "@jupyter-widgets/base",
      "model_module_version": "2.0.0",
      "model_name": "LayoutModel",
      "state": {}
     },
     "14be75ce835d40bdb794298f59a03e32": {
      "model_module": "@jupyter-widgets/controls",
      "model_module_version": "2.0.0",
      "model_name": "HTMLModel",
      "state": {
       "layout": "IPY_MODEL_7e1773b345e2469f8237dd98a7ed4e7d",
       "style": "IPY_MODEL_241cf0eb396540e68c4193ef1216ed2c",
       "value": "100%"
      }
     },
     "14c2632fef2249e9abc6d935c6571ea5": {
      "model_module": "@jupyter-widgets/controls",
      "model_module_version": "2.0.0",
      "model_name": "HTMLModel",
      "state": {
       "layout": "IPY_MODEL_f06ed80b4a4e48d4a3094c54fbbf59b4",
       "style": "IPY_MODEL_6831a3d56ceb44a4bfeff9f5377dd726",
       "value": "100%"
      }
     },
     "14c65b9464f44d899519cea86ef1c5c9": {
      "model_module": "@jupyter-widgets/base",
      "model_module_version": "2.0.0",
      "model_name": "LayoutModel",
      "state": {
       "visibility": "hidden"
      }
     },
     "150732b0b6e14c7aa9bb3f28d66731f5": {
      "model_module": "@jupyter-widgets/base",
      "model_module_version": "2.0.0",
      "model_name": "LayoutModel",
      "state": {}
     },
     "151d12d2e35249498e53bb6305b52be5": {
      "model_module": "@jupyter-widgets/controls",
      "model_module_version": "2.0.0",
      "model_name": "HTMLModel",
      "state": {
       "layout": "IPY_MODEL_517847ede3ae4aa3be485d529b876fbb",
       "style": "IPY_MODEL_0998b4fed8344a18a4cb7c5128f1bef4",
       "value": "100%"
      }
     },
     "15d7a816e1c74e5e963e7b553709ccca": {
      "model_module": "@jupyter-widgets/controls",
      "model_module_version": "2.0.0",
      "model_name": "ProgressStyleModel",
      "state": {
       "description_width": ""
      }
     },
     "15e313363cef4f038870598bb19a52f1": {
      "model_module": "@jupyter-widgets/controls",
      "model_module_version": "2.0.0",
      "model_name": "HTMLStyleModel",
      "state": {
       "description_width": "",
       "font_size": null,
       "text_color": null
      }
     },
     "160eaadfcb3343f4bc6d62d74c62066b": {
      "model_module": "@jupyter-widgets/controls",
      "model_module_version": "2.0.0",
      "model_name": "HTMLStyleModel",
      "state": {
       "description_width": "",
       "font_size": null,
       "text_color": null
      }
     },
     "168b888de39746cba40bdd7cc2f02a32": {
      "model_module": "@jupyter-widgets/base",
      "model_module_version": "2.0.0",
      "model_name": "LayoutModel",
      "state": {}
     },
     "1704c5fae1024d73b576f3004df1e2eb": {
      "model_module": "@jupyter-widgets/base",
      "model_module_version": "2.0.0",
      "model_name": "LayoutModel",
      "state": {
       "visibility": "hidden"
      }
     },
     "176f95605f0c4ac3abdca4ebfbd3bfa0": {
      "model_module": "@jupyter-widgets/controls",
      "model_module_version": "2.0.0",
      "model_name": "HTMLStyleModel",
      "state": {
       "description_width": "",
       "font_size": null,
       "text_color": null
      }
     },
     "17ad11d4dc9645f19399191bbd04432b": {
      "model_module": "@jupyter-widgets/controls",
      "model_module_version": "2.0.0",
      "model_name": "HTMLModel",
      "state": {
       "layout": "IPY_MODEL_470ec5d368a7405a82c797a89db8bae6",
       "style": "IPY_MODEL_638a37c4a8754a659425f1f2e5961623",
       "value": " 50/50 [00:04&lt;00:00, 12.04it/s]"
      }
     },
     "17c2a19a4b9f4f5b83f54a7192eee999": {
      "model_module": "@jupyter-widgets/controls",
      "model_module_version": "2.0.0",
      "model_name": "HTMLStyleModel",
      "state": {
       "description_width": "",
       "font_size": null,
       "text_color": null
      }
     },
     "17edf7d43d7a41b8b0337f0aa9c53f2f": {
      "model_module": "@jupyter-widgets/controls",
      "model_module_version": "2.0.0",
      "model_name": "HTMLStyleModel",
      "state": {
       "description_width": "",
       "font_size": null,
       "text_color": null
      }
     },
     "17f611c4497f4fabb91dc2978aa37635": {
      "model_module": "@jupyter-widgets/controls",
      "model_module_version": "2.0.0",
      "model_name": "ProgressStyleModel",
      "state": {
       "description_width": ""
      }
     },
     "180fea48a94f4c32ad84ca3edb654c2c": {
      "model_module": "@jupyter-widgets/controls",
      "model_module_version": "2.0.0",
      "model_name": "HTMLStyleModel",
      "state": {
       "description_width": "",
       "font_size": null,
       "text_color": null
      }
     },
     "18336249ebfa438ba0d492fb145e888c": {
      "model_module": "@jupyter-widgets/controls",
      "model_module_version": "2.0.0",
      "model_name": "HTMLStyleModel",
      "state": {
       "description_width": "",
       "font_size": null,
       "text_color": null
      }
     },
     "183db241b4b7469da010cf2b081f702f": {
      "model_module": "@jupyter-widgets/controls",
      "model_module_version": "2.0.0",
      "model_name": "HTMLModel",
      "state": {
       "layout": "IPY_MODEL_dab2eee83cbe4abeaed29062fcbe7c02",
       "style": "IPY_MODEL_becf44cc3b3a4e46a5b4ca10da018c2b",
       "value": " 50/50 [00:04&lt;00:00, 12.14it/s]"
      }
     },
     "193299d13fa649a1bd9b0e9ef46b01a0": {
      "model_module": "@jupyter-widgets/base",
      "model_module_version": "2.0.0",
      "model_name": "LayoutModel",
      "state": {
       "visibility": "hidden"
      }
     },
     "193f74a5e67b4a81994211f081e55696": {
      "model_module": "@jupyter-widgets/controls",
      "model_module_version": "2.0.0",
      "model_name": "HTMLModel",
      "state": {
       "layout": "IPY_MODEL_e4181df4d8964aae86f3cd21a0d3d6d2",
       "style": "IPY_MODEL_d12749e0b8964b969c025b147eeae515",
       "value": "100%"
      }
     },
     "19a45dc296694deba40f27555fb0c6bb": {
      "model_module": "@jupyter-widgets/base",
      "model_module_version": "2.0.0",
      "model_name": "LayoutModel",
      "state": {}
     },
     "1a0b4cca62df495190484923081d1799": {
      "model_module": "@jupyter-widgets/controls",
      "model_module_version": "2.0.0",
      "model_name": "HTMLStyleModel",
      "state": {
       "description_width": "",
       "font_size": null,
       "text_color": null
      }
     },
     "1a0ec558484a4cabb74c209c1adcaa54": {
      "model_module": "@jupyter-widgets/base",
      "model_module_version": "2.0.0",
      "model_name": "LayoutModel",
      "state": {}
     },
     "1a15057ca9804d628378fc05dc740f0d": {
      "model_module": "@jupyter-widgets/controls",
      "model_module_version": "2.0.0",
      "model_name": "FloatProgressModel",
      "state": {
       "layout": "IPY_MODEL_d28b4cc6f83d4d7386afc63a2087686e",
       "max": 50,
       "style": "IPY_MODEL_347494e6cc354b4fba92b6a53adb96df",
       "value": 50
      }
     },
     "1a58cef36c964b4996e653478d368ccb": {
      "model_module": "@jupyter-widgets/controls",
      "model_module_version": "2.0.0",
      "model_name": "ProgressStyleModel",
      "state": {
       "description_width": ""
      }
     },
     "1a87f37494d24e698cf0d0f2f55900f8": {
      "model_module": "@jupyter-widgets/controls",
      "model_module_version": "2.0.0",
      "model_name": "HTMLStyleModel",
      "state": {
       "description_width": "",
       "font_size": null,
       "text_color": null
      }
     },
     "1adfc56bdedc4ec3bd0f8c571638b4e2": {
      "model_module": "@jupyter-widgets/base",
      "model_module_version": "2.0.0",
      "model_name": "LayoutModel",
      "state": {}
     },
     "1b00d765baba4e949f728cf6dfcb1150": {
      "model_module": "@jupyter-widgets/controls",
      "model_module_version": "2.0.0",
      "model_name": "ProgressStyleModel",
      "state": {
       "description_width": ""
      }
     },
     "1b334d6d2284479390a1243b4fc949bb": {
      "model_module": "@jupyter-widgets/controls",
      "model_module_version": "2.0.0",
      "model_name": "HTMLStyleModel",
      "state": {
       "description_width": "",
       "font_size": null,
       "text_color": null
      }
     },
     "1b3ba756c3404fa29ed9392458f1f156": {
      "model_module": "@jupyter-widgets/controls",
      "model_module_version": "2.0.0",
      "model_name": "ProgressStyleModel",
      "state": {
       "description_width": ""
      }
     },
     "1b70ddc6425a45af8c362330d34bb25d": {
      "model_module": "@jupyter-widgets/base",
      "model_module_version": "2.0.0",
      "model_name": "LayoutModel",
      "state": {}
     },
     "1b90427428e24ee6bebea72406fe656d": {
      "model_module": "@jupyter-widgets/controls",
      "model_module_version": "2.0.0",
      "model_name": "HTMLModel",
      "state": {
       "layout": "IPY_MODEL_4c8515baeeaf4bafb75edfe6b3fa1071",
       "style": "IPY_MODEL_6601c07ead784e6eb7a4c3ee2c127280",
       "value": "100%"
      }
     },
     "1b9bcdc7a23d4f6d86b9a8c4df103771": {
      "model_module": "@jupyter-widgets/controls",
      "model_module_version": "2.0.0",
      "model_name": "ProgressStyleModel",
      "state": {
       "description_width": ""
      }
     },
     "1b9c80d449c84a36a2e841e158600d66": {
      "model_module": "@jupyter-widgets/base",
      "model_module_version": "2.0.0",
      "model_name": "LayoutModel",
      "state": {}
     },
     "1c1b6deadc974f6aa5ea8ed42e5ed7b0": {
      "model_module": "@jupyter-widgets/controls",
      "model_module_version": "2.0.0",
      "model_name": "HTMLStyleModel",
      "state": {
       "description_width": "",
       "font_size": null,
       "text_color": null
      }
     },
     "1c3bb119aa904bde9580503f8d0a7795": {
      "model_module": "@jupyter-widgets/base",
      "model_module_version": "2.0.0",
      "model_name": "LayoutModel",
      "state": {
       "visibility": "hidden"
      }
     },
     "1c4921a96f2a43dcaf94db0f267fd95d": {
      "model_module": "@jupyter-widgets/base",
      "model_module_version": "2.0.0",
      "model_name": "LayoutModel",
      "state": {}
     },
     "1c7410547d114015b914a48dbf6b69fd": {
      "model_module": "@jupyter-widgets/base",
      "model_module_version": "2.0.0",
      "model_name": "LayoutModel",
      "state": {
       "visibility": "hidden"
      }
     },
     "1c83e9287454449692b7df058c2f0ad5": {
      "model_module": "@jupyter-widgets/controls",
      "model_module_version": "2.0.0",
      "model_name": "HTMLStyleModel",
      "state": {
       "description_width": "",
       "font_size": null,
       "text_color": null
      }
     },
     "1ca37f66e7aa41e8ae5a20b9ff687cdf": {
      "model_module": "@jupyter-widgets/controls",
      "model_module_version": "2.0.0",
      "model_name": "FloatProgressModel",
      "state": {
       "layout": "IPY_MODEL_6020045751bd4da0aa5d9f4227e1ea35",
       "max": 50,
       "style": "IPY_MODEL_392bcd6d930745258deafebacafa11f5",
       "value": 50
      }
     },
     "1cb672e63e144b2d9139fe8fb3dc2dd4": {
      "model_module": "@jupyter-widgets/base",
      "model_module_version": "2.0.0",
      "model_name": "LayoutModel",
      "state": {}
     },
     "1cb6f4fcff2446a48d5f3d61c79c8710": {
      "model_module": "@jupyter-widgets/controls",
      "model_module_version": "2.0.0",
      "model_name": "FloatProgressModel",
      "state": {
       "layout": "IPY_MODEL_c194439e32cc4d42ab5fca0b4a58b0cb",
       "max": 50,
       "style": "IPY_MODEL_bb4eaa07e1dd4d298e4aa5e0311a7f38",
       "value": 50
      }
     },
     "1cbd06d2dcce4d62a8442f853368d01a": {
      "model_module": "@jupyter-widgets/base",
      "model_module_version": "2.0.0",
      "model_name": "LayoutModel",
      "state": {}
     },
     "1cc0355f4fad41b795d1888a2400d943": {
      "model_module": "@jupyter-widgets/base",
      "model_module_version": "2.0.0",
      "model_name": "LayoutModel",
      "state": {
       "visibility": "hidden"
      }
     },
     "1ce06499dbff4ddeaedadc5e092c1d1a": {
      "model_module": "@jupyter-widgets/controls",
      "model_module_version": "2.0.0",
      "model_name": "HTMLStyleModel",
      "state": {
       "description_width": "",
       "font_size": null,
       "text_color": null
      }
     },
     "1d03545197ff4d41baf7a85e45751082": {
      "model_module": "@jupyter-widgets/controls",
      "model_module_version": "2.0.0",
      "model_name": "FloatProgressModel",
      "state": {
       "layout": "IPY_MODEL_d517f4c780924fc682e0ff6cd21f4029",
       "max": 50,
       "style": "IPY_MODEL_2d586d83c7914f00adb4db8e396e4120",
       "value": 50
      }
     },
     "1d407f7938554734979d348c49021755": {
      "model_module": "@jupyter-widgets/controls",
      "model_module_version": "2.0.0",
      "model_name": "HTMLModel",
      "state": {
       "layout": "IPY_MODEL_32c1c4bab6cf430d8c633a603be51685",
       "style": "IPY_MODEL_4a83a73849b749eba89a8684bc35b634",
       "value": " 50/50 [00:04&lt;00:00, 12.15it/s]"
      }
     },
     "1d6f2ab575934a8c8791bb982fad2d07": {
      "model_module": "@jupyter-widgets/controls",
      "model_module_version": "2.0.0",
      "model_name": "FloatProgressModel",
      "state": {
       "layout": "IPY_MODEL_d5f00ec80eb14d7da34723a880604c7b",
       "max": 50,
       "style": "IPY_MODEL_03913573e69541699028ea000dd30416",
       "value": 50
      }
     },
     "1d6f47e6ab5e46ba9106a72ca22fae77": {
      "model_module": "@jupyter-widgets/base",
      "model_module_version": "2.0.0",
      "model_name": "LayoutModel",
      "state": {}
     },
     "1d750816f49c4e2cba7b924ae3da10d8": {
      "model_module": "@jupyter-widgets/base",
      "model_module_version": "2.0.0",
      "model_name": "LayoutModel",
      "state": {}
     },
     "1dd72fcf519f446a98a3388db2551119": {
      "model_module": "@jupyter-widgets/controls",
      "model_module_version": "2.0.0",
      "model_name": "HTMLModel",
      "state": {
       "layout": "IPY_MODEL_d859af58b8b044098bfddce6f2a07e99",
       "style": "IPY_MODEL_4b18f0fa6f0a4356b96783f9efa74478",
       "value": " 50/50 [00:04&lt;00:00, 12.05it/s]"
      }
     },
     "1df35301c808429e80dd763613cf82db": {
      "model_module": "@jupyter-widgets/controls",
      "model_module_version": "2.0.0",
      "model_name": "HTMLStyleModel",
      "state": {
       "description_width": "",
       "font_size": null,
       "text_color": null
      }
     },
     "1e143a5373c84693a1a8c5bf2360c3cf": {
      "model_module": "@jupyter-widgets/base",
      "model_module_version": "2.0.0",
      "model_name": "LayoutModel",
      "state": {}
     },
     "1e2578c7158b48dabb3b0c84082095ba": {
      "model_module": "@jupyter-widgets/base",
      "model_module_version": "2.0.0",
      "model_name": "LayoutModel",
      "state": {}
     },
     "1e2fcae268da4b28aa8bd986b6f23544": {
      "model_module": "@jupyter-widgets/base",
      "model_module_version": "2.0.0",
      "model_name": "LayoutModel",
      "state": {
       "visibility": "hidden"
      }
     },
     "1e6b4d4c682e47fb88045cee0b47b1fa": {
      "model_module": "@jupyter-widgets/controls",
      "model_module_version": "2.0.0",
      "model_name": "HTMLStyleModel",
      "state": {
       "description_width": "",
       "font_size": null,
       "text_color": null
      }
     },
     "1e9031c69ceb4adfbf60fc818032e2fd": {
      "model_module": "@jupyter-widgets/controls",
      "model_module_version": "2.0.0",
      "model_name": "HTMLStyleModel",
      "state": {
       "description_width": "",
       "font_size": null,
       "text_color": null
      }
     },
     "1e9572d920c642d4932546e3e729aedf": {
      "model_module": "@jupyter-widgets/base",
      "model_module_version": "2.0.0",
      "model_name": "LayoutModel",
      "state": {}
     },
     "1eb21b3e817d4ee18b00f15bce31dad4": {
      "model_module": "@jupyter-widgets/base",
      "model_module_version": "2.0.0",
      "model_name": "LayoutModel",
      "state": {
       "visibility": "hidden"
      }
     },
     "1f015e11fe904e90a5f02bdca9f2f12c": {
      "model_module": "@jupyter-widgets/controls",
      "model_module_version": "2.0.0",
      "model_name": "HTMLStyleModel",
      "state": {
       "description_width": "",
       "font_size": null,
       "text_color": null
      }
     },
     "1f612d14f2254df89ebfec97590489ad": {
      "model_module": "@jupyter-widgets/controls",
      "model_module_version": "2.0.0",
      "model_name": "ProgressStyleModel",
      "state": {
       "description_width": ""
      }
     },
     "1f6fa15b80244f9486f40854e0e6c044": {
      "model_module": "@jupyter-widgets/controls",
      "model_module_version": "2.0.0",
      "model_name": "HTMLStyleModel",
      "state": {
       "description_width": "",
       "font_size": null,
       "text_color": null
      }
     },
     "1f8ff70da8294b9a80ee5a9424342ff2": {
      "model_module": "@jupyter-widgets/base",
      "model_module_version": "2.0.0",
      "model_name": "LayoutModel",
      "state": {
       "visibility": "hidden"
      }
     },
     "1fc755e24cff4bd99ead751b5a00dce9": {
      "model_module": "@jupyter-widgets/base",
      "model_module_version": "2.0.0",
      "model_name": "LayoutModel",
      "state": {
       "visibility": "hidden"
      }
     },
     "1fdb7315948d4ecf8efa6631381cc00f": {
      "model_module": "@jupyter-widgets/base",
      "model_module_version": "2.0.0",
      "model_name": "LayoutModel",
      "state": {}
     },
     "20254a4c853244568ff8433249feda8a": {
      "model_module": "@jupyter-widgets/base",
      "model_module_version": "2.0.0",
      "model_name": "LayoutModel",
      "state": {
       "visibility": "hidden"
      }
     },
     "2034769fe01d4822a6d7d21b0b813200": {
      "model_module": "@jupyter-widgets/controls",
      "model_module_version": "2.0.0",
      "model_name": "HTMLStyleModel",
      "state": {
       "description_width": "",
       "font_size": null,
       "text_color": null
      }
     },
     "2060040574c3447da6f7b159e6ef2ba8": {
      "model_module": "@jupyter-widgets/base",
      "model_module_version": "2.0.0",
      "model_name": "LayoutModel",
      "state": {
       "visibility": "hidden"
      }
     },
     "20c3dee6fe4247f19fbac0a4de1f6ae3": {
      "model_module": "@jupyter-widgets/base",
      "model_module_version": "2.0.0",
      "model_name": "LayoutModel",
      "state": {}
     },
     "20fc170900534104b63fb37d99684882": {
      "model_module": "@jupyter-widgets/controls",
      "model_module_version": "2.0.0",
      "model_name": "HTMLStyleModel",
      "state": {
       "description_width": "",
       "font_size": null,
       "text_color": null
      }
     },
     "2105317758e34a2287f4ad1e941aa2d0": {
      "model_module": "@jupyter-widgets/controls",
      "model_module_version": "2.0.0",
      "model_name": "FloatProgressModel",
      "state": {
       "layout": "IPY_MODEL_eea5cb16914947c5b15535d57283b412",
       "max": 50,
       "style": "IPY_MODEL_77678d3f2da0484eb6265698c3e3954f",
       "value": 50
      }
     },
     "217514aace574ef48595e5a8e34da75f": {
      "model_module": "@jupyter-widgets/controls",
      "model_module_version": "2.0.0",
      "model_name": "HTMLStyleModel",
      "state": {
       "description_width": "",
       "font_size": null,
       "text_color": null
      }
     },
     "21a1dad8e77848739884efc6bca5d0b5": {
      "model_module": "@jupyter-widgets/controls",
      "model_module_version": "2.0.0",
      "model_name": "HTMLStyleModel",
      "state": {
       "description_width": "",
       "font_size": null,
       "text_color": null
      }
     },
     "21b2cefbb301480ea03e596b0f455758": {
      "model_module": "@jupyter-widgets/controls",
      "model_module_version": "2.0.0",
      "model_name": "HTMLStyleModel",
      "state": {
       "description_width": "",
       "font_size": null,
       "text_color": null
      }
     },
     "223de4c4a5014e5385a6580ad4f47667": {
      "model_module": "@jupyter-widgets/controls",
      "model_module_version": "2.0.0",
      "model_name": "HTMLModel",
      "state": {
       "layout": "IPY_MODEL_1e143a5373c84693a1a8c5bf2360c3cf",
       "style": "IPY_MODEL_630f555d48464920b320d797b34e869b",
       "value": " 50/50 [00:04&lt;00:00, 12.16it/s]"
      }
     },
     "229c4761a81a4b03a88630d1bf8555da": {
      "model_module": "@jupyter-widgets/controls",
      "model_module_version": "2.0.0",
      "model_name": "HTMLStyleModel",
      "state": {
       "description_width": "",
       "font_size": null,
       "text_color": null
      }
     },
     "22bf7597c77d43e3958b9388ac73a223": {
      "model_module": "@jupyter-widgets/controls",
      "model_module_version": "2.0.0",
      "model_name": "HTMLModel",
      "state": {
       "layout": "IPY_MODEL_d0f7576ca7264d8798cdcf170561f8a5",
       "style": "IPY_MODEL_f3d86b7018024da49afa2a269122fb06",
       "value": "epoch: 100%"
      }
     },
     "22ea8ac4673b463bb97ac575906f6f0b": {
      "model_module": "@jupyter-widgets/controls",
      "model_module_version": "2.0.0",
      "model_name": "HTMLModel",
      "state": {
       "layout": "IPY_MODEL_d7b5cdb2d65c4a4097eec2a9fc23bd54",
       "style": "IPY_MODEL_a5376c8c0c22487baae8ed3ac41a43ff",
       "value": " 50/50 [00:04&lt;00:00, 12.15it/s]"
      }
     },
     "2347c561094b4e43abdbad1a9b1b9049": {
      "model_module": "@jupyter-widgets/controls",
      "model_module_version": "2.0.0",
      "model_name": "HTMLModel",
      "state": {
       "layout": "IPY_MODEL_f74cacfc1dde4b0ea8e9a7626bdd31f0",
       "style": "IPY_MODEL_bdc138397884488087050336298e54be",
       "value": " 50/50 [00:04&lt;00:00, 12.11it/s]"
      }
     },
     "236f44931bbc48479cf3f3f573186088": {
      "model_module": "@jupyter-widgets/base",
      "model_module_version": "2.0.0",
      "model_name": "LayoutModel",
      "state": {
       "visibility": "hidden"
      }
     },
     "241cf0eb396540e68c4193ef1216ed2c": {
      "model_module": "@jupyter-widgets/controls",
      "model_module_version": "2.0.0",
      "model_name": "HTMLStyleModel",
      "state": {
       "description_width": "",
       "font_size": null,
       "text_color": null
      }
     },
     "244cfddca8c948da90f3250aad6b8cde": {
      "model_module": "@jupyter-widgets/controls",
      "model_module_version": "2.0.0",
      "model_name": "ProgressStyleModel",
      "state": {
       "description_width": ""
      }
     },
     "24a2e37c716d40e6b3ef288e54a95612": {
      "model_module": "@jupyter-widgets/controls",
      "model_module_version": "2.0.0",
      "model_name": "HTMLStyleModel",
      "state": {
       "description_width": "",
       "font_size": null,
       "text_color": null
      }
     },
     "24d40507743c49c286340c3cb45aa7a4": {
      "model_module": "@jupyter-widgets/base",
      "model_module_version": "2.0.0",
      "model_name": "LayoutModel",
      "state": {}
     },
     "24d8f24378dc4e14b51f03b869dc65ff": {
      "model_module": "@jupyter-widgets/base",
      "model_module_version": "2.0.0",
      "model_name": "LayoutModel",
      "state": {}
     },
     "24faa586d334409291562a4c2cfcf25a": {
      "model_module": "@jupyter-widgets/base",
      "model_module_version": "2.0.0",
      "model_name": "LayoutModel",
      "state": {}
     },
     "250c4731a8b248668de33a4b1e8ab4e5": {
      "model_module": "@jupyter-widgets/controls",
      "model_module_version": "2.0.0",
      "model_name": "HTMLModel",
      "state": {
       "layout": "IPY_MODEL_a428b976244b40a2a24c5fa39c3ba245",
       "style": "IPY_MODEL_dde8e07861af4274a999b56fc93c0000",
       "value": "100%"
      }
     },
     "256588b8eccf4724bdbcbd524f53fc7b": {
      "model_module": "@jupyter-widgets/base",
      "model_module_version": "2.0.0",
      "model_name": "LayoutModel",
      "state": {
       "visibility": "hidden"
      }
     },
     "256f22765ee841b58680f66a43581add": {
      "model_module": "@jupyter-widgets/controls",
      "model_module_version": "2.0.0",
      "model_name": "HTMLModel",
      "state": {
       "layout": "IPY_MODEL_24faa586d334409291562a4c2cfcf25a",
       "style": "IPY_MODEL_24a2e37c716d40e6b3ef288e54a95612",
       "value": "100%"
      }
     },
     "2587f36dbe594030ac46ec61fb1572fc": {
      "model_module": "@jupyter-widgets/base",
      "model_module_version": "2.0.0",
      "model_name": "LayoutModel",
      "state": {}
     },
     "259d9da50ab14ebc84a48e9a794be61e": {
      "model_module": "@jupyter-widgets/base",
      "model_module_version": "2.0.0",
      "model_name": "LayoutModel",
      "state": {}
     },
     "25bfb1e3f567462b9d46f3c514e71144": {
      "model_module": "@jupyter-widgets/controls",
      "model_module_version": "2.0.0",
      "model_name": "HTMLStyleModel",
      "state": {
       "description_width": "",
       "font_size": null,
       "text_color": null
      }
     },
     "25da8a1752a04cdda0a52c51435a1c44": {
      "model_module": "@jupyter-widgets/controls",
      "model_module_version": "2.0.0",
      "model_name": "HTMLStyleModel",
      "state": {
       "description_width": "",
       "font_size": null,
       "text_color": null
      }
     },
     "261b4931d29346b19e393f378baf4faf": {
      "model_module": "@jupyter-widgets/controls",
      "model_module_version": "2.0.0",
      "model_name": "HTMLModel",
      "state": {
       "layout": "IPY_MODEL_f87453a258834250a02adad577afc5c7",
       "style": "IPY_MODEL_4026f30ee7d643579cc2fdfddf70cb93",
       "value": " 98%"
      }
     },
     "264cd610302c4b9aa1def09650fcecbc": {
      "model_module": "@jupyter-widgets/base",
      "model_module_version": "2.0.0",
      "model_name": "LayoutModel",
      "state": {
       "visibility": "hidden"
      }
     },
     "26588f0026394057831d45be8ca6cbdd": {
      "model_module": "@jupyter-widgets/controls",
      "model_module_version": "2.0.0",
      "model_name": "HTMLModel",
      "state": {
       "layout": "IPY_MODEL_c5937f89eadf4ba59a7d1989f1152eb6",
       "style": "IPY_MODEL_85d8eb66b8734090a5fecd78f65dccb0",
       "value": " 50/50 [00:04&lt;00:00, 12.13it/s]"
      }
     },
     "268047a8855f486d9c4779d6e4e51348": {
      "model_module": "@jupyter-widgets/controls",
      "model_module_version": "2.0.0",
      "model_name": "HTMLStyleModel",
      "state": {
       "description_width": "",
       "font_size": null,
       "text_color": null
      }
     },
     "26aed2df279e44379ccc5d5d9ac9cae7": {
      "model_module": "@jupyter-widgets/controls",
      "model_module_version": "2.0.0",
      "model_name": "HTMLModel",
      "state": {
       "layout": "IPY_MODEL_e73c4460617c4ce085a2d70e5d158353",
       "style": "IPY_MODEL_cad31428e00b44498dac8264ef9015bc",
       "value": " 50/50 [00:04&lt;00:00, 12.10it/s]"
      }
     },
     "26b5c8b5d7e941708dd67f4aad96895a": {
      "model_module": "@jupyter-widgets/controls",
      "model_module_version": "2.0.0",
      "model_name": "FloatProgressModel",
      "state": {
       "layout": "IPY_MODEL_810103108c4a4993b71508922f4e9211",
       "max": 50,
       "style": "IPY_MODEL_495a4bdc03ab4661ba3d40ad05b2a726",
       "value": 50
      }
     },
     "26d622ab12834d87bb3432bf243d46eb": {
      "model_module": "@jupyter-widgets/controls",
      "model_module_version": "2.0.0",
      "model_name": "ProgressStyleModel",
      "state": {
       "description_width": ""
      }
     },
     "26e67ac42c5c4323acb4e30727e14675": {
      "model_module": "@jupyter-widgets/controls",
      "model_module_version": "2.0.0",
      "model_name": "HTMLModel",
      "state": {
       "layout": "IPY_MODEL_7cc430220eab4af396e32ac4557888b7",
       "style": "IPY_MODEL_63bb17dbf91143e29d2262a6f2704532",
       "value": "100%"
      }
     },
     "27723a0e4a3c49dc863f861a4a51575f": {
      "model_module": "@jupyter-widgets/controls",
      "model_module_version": "2.0.0",
      "model_name": "HTMLModel",
      "state": {
       "layout": "IPY_MODEL_87daa3cc2ea845f796a5716ad5af10a7",
       "style": "IPY_MODEL_56f25fa4786c4ed3a3d587b32a56b5b5",
       "value": " 50/50 [00:04&lt;00:00, 12.26it/s]"
      }
     },
     "278f1f5a47734df18911e28cd5aae353": {
      "model_module": "@jupyter-widgets/controls",
      "model_module_version": "2.0.0",
      "model_name": "HTMLModel",
      "state": {
       "layout": "IPY_MODEL_4f31272fe8564b6e9b4bad77a05ac3ae",
       "style": "IPY_MODEL_2ad0b59f02a44d04bf0064006c5cc0ea",
       "value": " 50/50 [00:06&lt;00:00,  8.40it/s]"
      }
     },
     "27a34653b9324be386e7b994e7a4b474": {
      "model_module": "@jupyter-widgets/base",
      "model_module_version": "2.0.0",
      "model_name": "LayoutModel",
      "state": {}
     },
     "27e51515400a458e988b197e5331fc6f": {
      "model_module": "@jupyter-widgets/base",
      "model_module_version": "2.0.0",
      "model_name": "LayoutModel",
      "state": {}
     },
     "27f0e5e046a7431eb3748f55478015d9": {
      "model_module": "@jupyter-widgets/controls",
      "model_module_version": "2.0.0",
      "model_name": "HTMLModel",
      "state": {
       "layout": "IPY_MODEL_417dcf71f0234ec0b4e8b3b6381377a9",
       "style": "IPY_MODEL_366e90cd13e84010a432236beee60199",
       "value": "100%"
      }
     },
     "27f8e4a2e5ae4cdd9fc9f33acef81afc": {
      "model_module": "@jupyter-widgets/base",
      "model_module_version": "2.0.0",
      "model_name": "LayoutModel",
      "state": {}
     },
     "280b076aa5784c9b8607a43ebed0baa6": {
      "model_module": "@jupyter-widgets/controls",
      "model_module_version": "2.0.0",
      "model_name": "HTMLModel",
      "state": {
       "layout": "IPY_MODEL_b9fe25c02e424e7095345c828f8d6382",
       "style": "IPY_MODEL_14200ef5de704b6ab3348c461b52c818",
       "value": " 50/50 [00:04&lt;00:00, 12.21it/s]"
      }
     },
     "281f52675bf84122bf7d9bf6e954dfc3": {
      "model_module": "@jupyter-widgets/base",
      "model_module_version": "2.0.0",
      "model_name": "LayoutModel",
      "state": {}
     },
     "283a9b97cdcf4bb08c22e75c598aa8b2": {
      "model_module": "@jupyter-widgets/controls",
      "model_module_version": "2.0.0",
      "model_name": "HTMLStyleModel",
      "state": {
       "description_width": "",
       "font_size": null,
       "text_color": null
      }
     },
     "2859a9d2e01447c3ba8f6cc119d41932": {
      "model_module": "@jupyter-widgets/base",
      "model_module_version": "2.0.0",
      "model_name": "LayoutModel",
      "state": {}
     },
     "288750fc5d4a4346ac913c992e01d3e7": {
      "model_module": "@jupyter-widgets/controls",
      "model_module_version": "2.0.0",
      "model_name": "ProgressStyleModel",
      "state": {
       "description_width": ""
      }
     },
     "28cf9ae74d784042a1395e66ef9b898b": {
      "model_module": "@jupyter-widgets/controls",
      "model_module_version": "2.0.0",
      "model_name": "HTMLStyleModel",
      "state": {
       "description_width": "",
       "font_size": null,
       "text_color": null
      }
     },
     "29044a7bb4db4d28a629f958a477f86c": {
      "model_module": "@jupyter-widgets/base",
      "model_module_version": "2.0.0",
      "model_name": "LayoutModel",
      "state": {}
     },
     "292f1e1368f54648990794d333872434": {
      "model_module": "@jupyter-widgets/controls",
      "model_module_version": "2.0.0",
      "model_name": "HTMLStyleModel",
      "state": {
       "description_width": "",
       "font_size": null,
       "text_color": null
      }
     },
     "298ec396394f4b7ea9ccffb30cfd329c": {
      "model_module": "@jupyter-widgets/base",
      "model_module_version": "2.0.0",
      "model_name": "LayoutModel",
      "state": {}
     },
     "29dd2de41705419cb7a0878555d35232": {
      "model_module": "@jupyter-widgets/base",
      "model_module_version": "2.0.0",
      "model_name": "LayoutModel",
      "state": {}
     },
     "2ac725dbf09a4129a530f8467f0e8b84": {
      "model_module": "@jupyter-widgets/controls",
      "model_module_version": "2.0.0",
      "model_name": "FloatProgressModel",
      "state": {
       "layout": "IPY_MODEL_585604c9f92e4e3cbf3a949a29553d06",
       "max": 50,
       "style": "IPY_MODEL_983babd1177c4280a302c0b57dde0fd4",
       "value": 50
      }
     },
     "2ad0b59f02a44d04bf0064006c5cc0ea": {
      "model_module": "@jupyter-widgets/controls",
      "model_module_version": "2.0.0",
      "model_name": "HTMLStyleModel",
      "state": {
       "description_width": "",
       "font_size": null,
       "text_color": null
      }
     },
     "2b248fb556a249038c27af58bd0e3d7a": {
      "model_module": "@jupyter-widgets/controls",
      "model_module_version": "2.0.0",
      "model_name": "HTMLModel",
      "state": {
       "layout": "IPY_MODEL_9bb7ae280b494fb19e996330ef550be6",
       "style": "IPY_MODEL_411952b3a71d4ba28ac0dfeea73fde35",
       "value": " 50/50 [00:04&lt;00:00, 11.81it/s]"
      }
     },
     "2b2b4c3cedbf4c468855c81a03d83f91": {
      "model_module": "@jupyter-widgets/controls",
      "model_module_version": "2.0.0",
      "model_name": "HTMLModel",
      "state": {
       "layout": "IPY_MODEL_83e5802b6c7045fc9cb8216e1f333353",
       "style": "IPY_MODEL_50a59c5750a24c02a93a180384dc169b",
       "value": "100%"
      }
     },
     "2b74d012857641f7aaf0a152fc87ff94": {
      "model_module": "@jupyter-widgets/base",
      "model_module_version": "2.0.0",
      "model_name": "LayoutModel",
      "state": {}
     },
     "2bbc00518edb462e9e9aba4c0a3ed3c1": {
      "model_module": "@jupyter-widgets/base",
      "model_module_version": "2.0.0",
      "model_name": "LayoutModel",
      "state": {
       "visibility": "hidden"
      }
     },
     "2bf2460d9d434265a9d948f126d639b5": {
      "model_module": "@jupyter-widgets/base",
      "model_module_version": "2.0.0",
      "model_name": "LayoutModel",
      "state": {}
     },
     "2c1410bd65b3402d9c5ccdbc7386f8ca": {
      "model_module": "@jupyter-widgets/controls",
      "model_module_version": "2.0.0",
      "model_name": "FloatProgressModel",
      "state": {
       "layout": "IPY_MODEL_6803c292ae724a4190971edd31a8315d",
       "max": 50,
       "style": "IPY_MODEL_67e40ef8b00540f2a26b880d7f977a0a",
       "value": 50
      }
     },
     "2c1a3f4d46d74e1b8fe20b70086af66c": {
      "model_module": "@jupyter-widgets/base",
      "model_module_version": "2.0.0",
      "model_name": "LayoutModel",
      "state": {}
     },
     "2c5d014b660d48abbe2ecad4689eeb41": {
      "model_module": "@jupyter-widgets/controls",
      "model_module_version": "2.0.0",
      "model_name": "HTMLStyleModel",
      "state": {
       "description_width": "",
       "font_size": null,
       "text_color": null
      }
     },
     "2c8991ceee45409683ef2ab3c8415cd5": {
      "model_module": "@jupyter-widgets/controls",
      "model_module_version": "2.0.0",
      "model_name": "ProgressStyleModel",
      "state": {
       "description_width": ""
      }
     },
     "2cb762a7dd4c437899a5821843a06c30": {
      "model_module": "@jupyter-widgets/base",
      "model_module_version": "2.0.0",
      "model_name": "LayoutModel",
      "state": {}
     },
     "2d2abe147755436485fcf301629d62c8": {
      "model_module": "@jupyter-widgets/base",
      "model_module_version": "2.0.0",
      "model_name": "LayoutModel",
      "state": {}
     },
     "2d586d83c7914f00adb4db8e396e4120": {
      "model_module": "@jupyter-widgets/controls",
      "model_module_version": "2.0.0",
      "model_name": "ProgressStyleModel",
      "state": {
       "description_width": ""
      }
     },
     "2d77028f4a1f49ada27b1059ab649f7e": {
      "model_module": "@jupyter-widgets/base",
      "model_module_version": "2.0.0",
      "model_name": "LayoutModel",
      "state": {
       "visibility": "hidden"
      }
     },
     "2d81eb9b1d7f4f2385508e4e81eb8bad": {
      "model_module": "@jupyter-widgets/base",
      "model_module_version": "2.0.0",
      "model_name": "LayoutModel",
      "state": {
       "visibility": "hidden"
      }
     },
     "2dc7356c3c654ea4a0416f38bff26a55": {
      "model_module": "@jupyter-widgets/controls",
      "model_module_version": "2.0.0",
      "model_name": "HTMLModel",
      "state": {
       "layout": "IPY_MODEL_c7287d95451041869ba8f03df64fcfa7",
       "style": "IPY_MODEL_a34f2d5a28e448a5bbb70dc8ab4dc38c",
       "value": " 50/50 [00:04&lt;00:00, 12.12it/s]"
      }
     },
     "2e856765ca4a4e319c489cc56d22345e": {
      "model_module": "@jupyter-widgets/base",
      "model_module_version": "2.0.0",
      "model_name": "LayoutModel",
      "state": {
       "visibility": "hidden"
      }
     },
     "2edb287744784516ba7365d525c243e6": {
      "model_module": "@jupyter-widgets/base",
      "model_module_version": "2.0.0",
      "model_name": "LayoutModel",
      "state": {
       "visibility": "hidden"
      }
     },
     "2eec452108d64d8fa3a9685d049a0575": {
      "model_module": "@jupyter-widgets/base",
      "model_module_version": "2.0.0",
      "model_name": "LayoutModel",
      "state": {}
     },
     "2f322db76754462a92b22194905ff69e": {
      "model_module": "@jupyter-widgets/base",
      "model_module_version": "2.0.0",
      "model_name": "LayoutModel",
      "state": {}
     },
     "2f37ef4ecca74d8f9042f492a472f103": {
      "model_module": "@jupyter-widgets/controls",
      "model_module_version": "2.0.0",
      "model_name": "HTMLModel",
      "state": {
       "layout": "IPY_MODEL_1d750816f49c4e2cba7b924ae3da10d8",
       "style": "IPY_MODEL_eb13fef9f2fc4da8b9fcf85558f7d6d8",
       "value": "100%"
      }
     },
     "2f9c6422b8d048ddb3d325e31b71a4ef": {
      "model_module": "@jupyter-widgets/base",
      "model_module_version": "2.0.0",
      "model_name": "LayoutModel",
      "state": {}
     },
     "2fe5cadefad54b90a04608e041a8d33f": {
      "model_module": "@jupyter-widgets/controls",
      "model_module_version": "2.0.0",
      "model_name": "HTMLStyleModel",
      "state": {
       "description_width": "",
       "font_size": null,
       "text_color": null
      }
     },
     "300007e7c268436d9ef07a00ca2bb06d": {
      "model_module": "@jupyter-widgets/base",
      "model_module_version": "2.0.0",
      "model_name": "LayoutModel",
      "state": {}
     },
     "30110884cc604e858f7a63911c7ca81e": {
      "model_module": "@jupyter-widgets/controls",
      "model_module_version": "2.0.0",
      "model_name": "FloatProgressModel",
      "state": {
       "layout": "IPY_MODEL_392c2510575544bf8de77de19693e252",
       "max": 50,
       "style": "IPY_MODEL_7479075eb80f47998cd096b48c04cc7d",
       "value": 50
      }
     },
     "3036d55b96764e188dbfc60e7ecaac24": {
      "model_module": "@jupyter-widgets/base",
      "model_module_version": "2.0.0",
      "model_name": "LayoutModel",
      "state": {}
     },
     "3054a5a1a7c5436daf15fd8a18b0d2eb": {
      "model_module": "@jupyter-widgets/controls",
      "model_module_version": "2.0.0",
      "model_name": "HTMLModel",
      "state": {
       "layout": "IPY_MODEL_94e8c665873f4d48bdfa561d474a037e",
       "style": "IPY_MODEL_6fc0bbab601e4f0c8a047d1fc92df766",
       "value": " 50/50 [00:04&lt;00:00, 11.87it/s]"
      }
     },
     "30598ec2be3640849b1c034b074967a4": {
      "model_module": "@jupyter-widgets/controls",
      "model_module_version": "2.0.0",
      "model_name": "HTMLStyleModel",
      "state": {
       "description_width": "",
       "font_size": null,
       "text_color": null
      }
     },
     "3065daba614e4c68a5acc6caa2e243dd": {
      "model_module": "@jupyter-widgets/controls",
      "model_module_version": "2.0.0",
      "model_name": "HTMLModel",
      "state": {
       "layout": "IPY_MODEL_babfb46026234b4999567f7f555284c8",
       "style": "IPY_MODEL_3b16992c3398420385af4a8c687f67a1",
       "value": " 50/50 [00:04&lt;00:00, 12.00it/s]"
      }
     },
     "30919663997d47c1a8b057b14b379ab2": {
      "model_module": "@jupyter-widgets/controls",
      "model_module_version": "2.0.0",
      "model_name": "HTMLStyleModel",
      "state": {
       "description_width": "",
       "font_size": null,
       "text_color": null
      }
     },
     "3098d5b481e941edb45073cbb61e4de0": {
      "model_module": "@jupyter-widgets/controls",
      "model_module_version": "2.0.0",
      "model_name": "HTMLModel",
      "state": {
       "layout": "IPY_MODEL_8e70c8ad776a441b8a17c0dc8f5cd4e2",
       "style": "IPY_MODEL_599aa33016204e0694172ef89abce808",
       "value": " 50/50 [00:06&lt;00:00,  8.11it/s]"
      }
     },
     "309bc7a4959a463ab02ef47d83dc29b9": {
      "model_module": "@jupyter-widgets/controls",
      "model_module_version": "2.0.0",
      "model_name": "FloatProgressModel",
      "state": {
       "layout": "IPY_MODEL_6cdcb7c429ee41f89416459d1e9e6e0e",
       "max": 50,
       "style": "IPY_MODEL_1b00d765baba4e949f728cf6dfcb1150",
       "value": 50
      }
     },
     "312fc4c2b98344468ef6473cdbed28a9": {
      "model_module": "@jupyter-widgets/base",
      "model_module_version": "2.0.0",
      "model_name": "LayoutModel",
      "state": {}
     },
     "31392eaac0cb4b3180beaecc54018f11": {
      "model_module": "@jupyter-widgets/controls",
      "model_module_version": "2.0.0",
      "model_name": "HTMLModel",
      "state": {
       "layout": "IPY_MODEL_1e9572d920c642d4932546e3e729aedf",
       "style": "IPY_MODEL_160eaadfcb3343f4bc6d62d74c62066b",
       "value": "100%"
      }
     },
     "3163af2250d0450483651984aa6c6ab0": {
      "model_module": "@jupyter-widgets/controls",
      "model_module_version": "2.0.0",
      "model_name": "ProgressStyleModel",
      "state": {
       "description_width": ""
      }
     },
     "317ab25d3eae4fe49d419b59f2a5cbd5": {
      "model_module": "@jupyter-widgets/controls",
      "model_module_version": "2.0.0",
      "model_name": "HTMLModel",
      "state": {
       "layout": "IPY_MODEL_a11759a1378a4f6cbd20aec51af78584",
       "style": "IPY_MODEL_2034769fe01d4822a6d7d21b0b813200",
       "value": "100%"
      }
     },
     "31a9b7424dab4bc6bf441b02f17afff4": {
      "model_module": "@jupyter-widgets/base",
      "model_module_version": "2.0.0",
      "model_name": "LayoutModel",
      "state": {}
     },
     "31ba6a29b2d34cee972b2320b3d03b9e": {
      "model_module": "@jupyter-widgets/base",
      "model_module_version": "2.0.0",
      "model_name": "LayoutModel",
      "state": {}
     },
     "31d279d52da841b694621eb1df7782a3": {
      "model_module": "@jupyter-widgets/controls",
      "model_module_version": "2.0.0",
      "model_name": "HTMLStyleModel",
      "state": {
       "description_width": "",
       "font_size": null,
       "text_color": null
      }
     },
     "31d2a18390514b4f81fe93989dd3cb92": {
      "model_module": "@jupyter-widgets/base",
      "model_module_version": "2.0.0",
      "model_name": "LayoutModel",
      "state": {}
     },
     "31dbafc511ba4356abdfeabeb8d22293": {
      "model_module": "@jupyter-widgets/controls",
      "model_module_version": "2.0.0",
      "model_name": "HTMLModel",
      "state": {
       "layout": "IPY_MODEL_d0fd5756d61e4a93a2d20bb8eedb21a2",
       "style": "IPY_MODEL_86219fdbe2554daa9b02af34bf05e141",
       "value": "100%"
      }
     },
     "31f4355b9e99475d996ed95fb023898e": {
      "model_module": "@jupyter-widgets/controls",
      "model_module_version": "2.0.0",
      "model_name": "ProgressStyleModel",
      "state": {
       "description_width": ""
      }
     },
     "3284ed635c3f48a6b31012a40485d7ef": {
      "model_module": "@jupyter-widgets/base",
      "model_module_version": "2.0.0",
      "model_name": "LayoutModel",
      "state": {}
     },
     "32b1bc51c5ca4406845dcaf7a3262485": {
      "model_module": "@jupyter-widgets/base",
      "model_module_version": "2.0.0",
      "model_name": "LayoutModel",
      "state": {}
     },
     "32c1c4bab6cf430d8c633a603be51685": {
      "model_module": "@jupyter-widgets/base",
      "model_module_version": "2.0.0",
      "model_name": "LayoutModel",
      "state": {}
     },
     "32d3303e2fbf4085acaada8ff28b86e9": {
      "model_module": "@jupyter-widgets/controls",
      "model_module_version": "2.0.0",
      "model_name": "HTMLModel",
      "state": {
       "layout": "IPY_MODEL_ec510dee4b84423691de512689a9f129",
       "style": "IPY_MODEL_b9d1936790da42959827b17ea3f9bfdb",
       "value": " 50/50 [00:04&lt;00:00, 12.16it/s]"
      }
     },
     "32f6b4fc593e4261afcd76ebfd95b947": {
      "model_module": "@jupyter-widgets/controls",
      "model_module_version": "2.0.0",
      "model_name": "FloatProgressModel",
      "state": {
       "layout": "IPY_MODEL_4770c369cd1c4fe2b3eae9236bc45671",
       "max": 50,
       "style": "IPY_MODEL_007a3a179d8843b1b181fd471c281e32",
       "value": 50
      }
     },
     "336e9ce6efa146d899a29f74bd43bde0": {
      "model_module": "@jupyter-widgets/controls",
      "model_module_version": "2.0.0",
      "model_name": "HTMLModel",
      "state": {
       "layout": "IPY_MODEL_b81b45d66ead449c9e96ac813e5f05d9",
       "style": "IPY_MODEL_de1767cc9bf04e5e83c4e0c8161612a8",
       "value": " 50/50 [00:04&lt;00:00, 12.16it/s]"
      }
     },
     "3374707685674edbbcb27f6e39a897b4": {
      "model_module": "@jupyter-widgets/controls",
      "model_module_version": "2.0.0",
      "model_name": "HTMLModel",
      "state": {
       "layout": "IPY_MODEL_cc579c643e3b4f6eb7847973364afb47",
       "style": "IPY_MODEL_753541b5a35a45e89942e9fb638a02c8",
       "value": "100%"
      }
     },
     "33ebaa3ebec245ecbd2dcb9d5eabe110": {
      "model_module": "@jupyter-widgets/controls",
      "model_module_version": "2.0.0",
      "model_name": "ProgressStyleModel",
      "state": {
       "description_width": ""
      }
     },
     "33f9511a93b940e8ab637da1f5b7ba55": {
      "model_module": "@jupyter-widgets/base",
      "model_module_version": "2.0.0",
      "model_name": "LayoutModel",
      "state": {}
     },
     "340d8e4ac96a4b099b27e9c1f51315fa": {
      "model_module": "@jupyter-widgets/controls",
      "model_module_version": "2.0.0",
      "model_name": "HTMLStyleModel",
      "state": {
       "description_width": "",
       "font_size": null,
       "text_color": null
      }
     },
     "3424db2b50914348a10cbef5519f77a6": {
      "model_module": "@jupyter-widgets/controls",
      "model_module_version": "2.0.0",
      "model_name": "FloatProgressModel",
      "state": {
       "layout": "IPY_MODEL_c6e28876280047d1b4c67dd91dd33389",
       "max": 50,
       "style": "IPY_MODEL_e727102dd6cf4b9bae2032da1ff4f963",
       "value": 50
      }
     },
     "347494e6cc354b4fba92b6a53adb96df": {
      "model_module": "@jupyter-widgets/controls",
      "model_module_version": "2.0.0",
      "model_name": "ProgressStyleModel",
      "state": {
       "description_width": ""
      }
     },
     "34b04871ba3d4b4e8dc5dbffa8cc1d4c": {
      "model_module": "@jupyter-widgets/base",
      "model_module_version": "2.0.0",
      "model_name": "LayoutModel",
      "state": {
       "visibility": "hidden"
      }
     },
     "350abf4aa0ea47598495b18c6084125b": {
      "model_module": "@jupyter-widgets/base",
      "model_module_version": "2.0.0",
      "model_name": "LayoutModel",
      "state": {}
     },
     "354425eedad8427b962e47e9c359bee4": {
      "model_module": "@jupyter-widgets/base",
      "model_module_version": "2.0.0",
      "model_name": "LayoutModel",
      "state": {
       "visibility": "hidden"
      }
     },
     "35747000316244dbb03fcf11d412708e": {
      "model_module": "@jupyter-widgets/base",
      "model_module_version": "2.0.0",
      "model_name": "LayoutModel",
      "state": {}
     },
     "358a77124a8242ffaf7d7f4d11b549c8": {
      "model_module": "@jupyter-widgets/controls",
      "model_module_version": "2.0.0",
      "model_name": "HTMLStyleModel",
      "state": {
       "description_width": "",
       "font_size": null,
       "text_color": null
      }
     },
     "361701a7d2d2478e93c8a2485425a0a3": {
      "model_module": "@jupyter-widgets/controls",
      "model_module_version": "2.0.0",
      "model_name": "HTMLModel",
      "state": {
       "layout": "IPY_MODEL_ce946aeeb4f2433e92428866ea536e2d",
       "style": "IPY_MODEL_3dc874269d534ff3b555e6ddd0bc6a74",
       "value": "100%"
      }
     },
     "364d6b76fa1e43a2bd4cb540321284ab": {
      "model_module": "@jupyter-widgets/base",
      "model_module_version": "2.0.0",
      "model_name": "LayoutModel",
      "state": {
       "visibility": "hidden"
      }
     },
     "366b05f50fb447868ba7f764cbb90af3": {
      "model_module": "@jupyter-widgets/controls",
      "model_module_version": "2.0.0",
      "model_name": "HTMLModel",
      "state": {
       "layout": "IPY_MODEL_a134ff5ef9a0400d96db42939706a4c4",
       "style": "IPY_MODEL_13ea782991ba456d8117fc315a415e33",
       "value": " 50/50 [00:04&lt;00:00, 12.10it/s]"
      }
     },
     "366e90cd13e84010a432236beee60199": {
      "model_module": "@jupyter-widgets/controls",
      "model_module_version": "2.0.0",
      "model_name": "HTMLStyleModel",
      "state": {
       "description_width": "",
       "font_size": null,
       "text_color": null
      }
     },
     "368cd408a4fc4960ba5c053382ffe5f4": {
      "model_module": "@jupyter-widgets/base",
      "model_module_version": "2.0.0",
      "model_name": "LayoutModel",
      "state": {
       "visibility": "hidden"
      }
     },
     "36b1b4edb4b247008f0c98174de9aef9": {
      "model_module": "@jupyter-widgets/base",
      "model_module_version": "2.0.0",
      "model_name": "LayoutModel",
      "state": {}
     },
     "36edeb50411048719faa37881a7004db": {
      "model_module": "@jupyter-widgets/base",
      "model_module_version": "2.0.0",
      "model_name": "LayoutModel",
      "state": {}
     },
     "371fe20438364a0d9ce157d2770eda3b": {
      "model_module": "@jupyter-widgets/controls",
      "model_module_version": "2.0.0",
      "model_name": "HTMLModel",
      "state": {
       "layout": "IPY_MODEL_608a5325ad874e7c85cb6597d2fec5f8",
       "style": "IPY_MODEL_f053ffb06b7b497f8e1a3e10b2a164b4",
       "value": "100%"
      }
     },
     "3728906d807c4a28a789d0fd0a1f402a": {
      "model_module": "@jupyter-widgets/controls",
      "model_module_version": "2.0.0",
      "model_name": "HTMLStyleModel",
      "state": {
       "description_width": "",
       "font_size": null,
       "text_color": null
      }
     },
     "376c915bceee4c23ac76c93ec9534a31": {
      "model_module": "@jupyter-widgets/base",
      "model_module_version": "2.0.0",
      "model_name": "LayoutModel",
      "state": {}
     },
     "383eb456db3849528fc12eaff8afcaf7": {
      "model_module": "@jupyter-widgets/controls",
      "model_module_version": "2.0.0",
      "model_name": "HTMLModel",
      "state": {
       "layout": "IPY_MODEL_081cbd662c764d50b51a958378f46aa4",
       "style": "IPY_MODEL_30598ec2be3640849b1c034b074967a4",
       "value": "100%"
      }
     },
     "392bcd6d930745258deafebacafa11f5": {
      "model_module": "@jupyter-widgets/controls",
      "model_module_version": "2.0.0",
      "model_name": "ProgressStyleModel",
      "state": {
       "description_width": ""
      }
     },
     "392c2510575544bf8de77de19693e252": {
      "model_module": "@jupyter-widgets/base",
      "model_module_version": "2.0.0",
      "model_name": "LayoutModel",
      "state": {}
     },
     "39754c0263fc408b814fd7f82d876961": {
      "model_module": "@jupyter-widgets/base",
      "model_module_version": "2.0.0",
      "model_name": "LayoutModel",
      "state": {
       "visibility": "hidden"
      }
     },
     "39b982c1b97d4d10865668c7e2785c84": {
      "model_module": "@jupyter-widgets/controls",
      "model_module_version": "2.0.0",
      "model_name": "HTMLStyleModel",
      "state": {
       "description_width": "",
       "font_size": null,
       "text_color": null
      }
     },
     "39eb544e12bd4230a2134c5b8acf5ec7": {
      "model_module": "@jupyter-widgets/controls",
      "model_module_version": "2.0.0",
      "model_name": "HTMLModel",
      "state": {
       "layout": "IPY_MODEL_0152237f29b1498b888f6f1aa582fff2",
       "style": "IPY_MODEL_6200801fc5554dcaadc2f27ce360abca",
       "value": " 50/50 [00:04&lt;00:00, 12.27it/s]"
      }
     },
     "39ecfca0d7a6412a89e55245d0aafc44": {
      "model_module": "@jupyter-widgets/controls",
      "model_module_version": "2.0.0",
      "model_name": "ProgressStyleModel",
      "state": {
       "description_width": ""
      }
     },
     "39f9c1becf404c8e960937da107ea1e1": {
      "model_module": "@jupyter-widgets/controls",
      "model_module_version": "2.0.0",
      "model_name": "HTMLStyleModel",
      "state": {
       "description_width": "",
       "font_size": null,
       "text_color": null
      }
     },
     "3a39c8dc57964587b10d846aa8784d34": {
      "model_module": "@jupyter-widgets/controls",
      "model_module_version": "2.0.0",
      "model_name": "ProgressStyleModel",
      "state": {
       "description_width": ""
      }
     },
     "3a7ef6dbdea84744875fcf63338edc85": {
      "model_module": "@jupyter-widgets/base",
      "model_module_version": "2.0.0",
      "model_name": "LayoutModel",
      "state": {
       "visibility": "hidden"
      }
     },
     "3a95567115d94caab9e4cbb28bb59f44": {
      "model_module": "@jupyter-widgets/controls",
      "model_module_version": "2.0.0",
      "model_name": "HTMLModel",
      "state": {
       "layout": "IPY_MODEL_1a0ec558484a4cabb74c209c1adcaa54",
       "style": "IPY_MODEL_8fd4b782288c4431b2187bc12961846b",
       "value": "100%"
      }
     },
     "3aa931ce87144397924a5d348b868bee": {
      "model_module": "@jupyter-widgets/controls",
      "model_module_version": "2.0.0",
      "model_name": "HTMLModel",
      "state": {
       "layout": "IPY_MODEL_b08af8bcf0c64e2a984afa31bff72df6",
       "style": "IPY_MODEL_21a1dad8e77848739884efc6bca5d0b5",
       "value": " 50/50 [00:04&lt;00:00, 12.07it/s]"
      }
     },
     "3b16992c3398420385af4a8c687f67a1": {
      "model_module": "@jupyter-widgets/controls",
      "model_module_version": "2.0.0",
      "model_name": "HTMLStyleModel",
      "state": {
       "description_width": "",
       "font_size": null,
       "text_color": null
      }
     },
     "3b4caf8a52004aed8bff0f4040496f70": {
      "model_module": "@jupyter-widgets/base",
      "model_module_version": "2.0.0",
      "model_name": "LayoutModel",
      "state": {}
     },
     "3b720ff0ad9144c2bbbc6b3a6c312f08": {
      "model_module": "@jupyter-widgets/base",
      "model_module_version": "2.0.0",
      "model_name": "LayoutModel",
      "state": {}
     },
     "3b786519293f4c99a39784c832f3ece0": {
      "model_module": "@jupyter-widgets/controls",
      "model_module_version": "2.0.0",
      "model_name": "HTMLStyleModel",
      "state": {
       "description_width": "",
       "font_size": null,
       "text_color": null
      }
     },
     "3b98966a7acc41c5b8451849d0a13787": {
      "model_module": "@jupyter-widgets/controls",
      "model_module_version": "2.0.0",
      "model_name": "HTMLModel",
      "state": {
       "layout": "IPY_MODEL_adc8056b99dc400e957aa20cc500928f",
       "style": "IPY_MODEL_13a97375360842d9929bdfdb08c1d25a",
       "value": " 50/50 [00:04&lt;00:00, 12.21it/s]"
      }
     },
     "3bba92d18f174d58907b00176431c4f0": {
      "model_module": "@jupyter-widgets/controls",
      "model_module_version": "2.0.0",
      "model_name": "HTMLStyleModel",
      "state": {
       "description_width": "",
       "font_size": null,
       "text_color": null
      }
     },
     "3c839c10ecbb4e86b2ad6487e140a84d": {
      "model_module": "@jupyter-widgets/controls",
      "model_module_version": "2.0.0",
      "model_name": "HTMLModel",
      "state": {
       "layout": "IPY_MODEL_d6837753ab9743038d1c29bafdaa6fd9",
       "style": "IPY_MODEL_c4a0bdb0f18a41ab9adc8b1f0000a791",
       "value": " 50/50 [00:04&lt;00:00, 11.40it/s]"
      }
     },
     "3cb9b256e57b4c27a265efa6cf369371": {
      "model_module": "@jupyter-widgets/base",
      "model_module_version": "2.0.0",
      "model_name": "LayoutModel",
      "state": {}
     },
     "3d1195fcfb5a47d1844c13ea5036261d": {
      "model_module": "@jupyter-widgets/base",
      "model_module_version": "2.0.0",
      "model_name": "LayoutModel",
      "state": {}
     },
     "3d12917b34d34bac8bd582533ed44424": {
      "model_module": "@jupyter-widgets/base",
      "model_module_version": "2.0.0",
      "model_name": "LayoutModel",
      "state": {}
     },
     "3d5104f9304d4d969acb89871b312651": {
      "model_module": "@jupyter-widgets/base",
      "model_module_version": "2.0.0",
      "model_name": "LayoutModel",
      "state": {}
     },
     "3d5b4569939542268029ea2daef206a9": {
      "model_module": "@jupyter-widgets/controls",
      "model_module_version": "2.0.0",
      "model_name": "HTMLModel",
      "state": {
       "layout": "IPY_MODEL_66c358297ad54655989ba4f5b492a7f0",
       "style": "IPY_MODEL_f18b5055173c46149a690e4c3425b412",
       "value": " 50/50 [00:04&lt;00:00, 12.14it/s]"
      }
     },
     "3d764d9ec2d74af3b3fd686832530417": {
      "model_module": "@jupyter-widgets/base",
      "model_module_version": "2.0.0",
      "model_name": "LayoutModel",
      "state": {
       "visibility": "hidden"
      }
     },
     "3d9d4c8cd68c45cc8d2c1b1d0dc03f05": {
      "model_module": "@jupyter-widgets/base",
      "model_module_version": "2.0.0",
      "model_name": "LayoutModel",
      "state": {
       "visibility": "hidden"
      }
     },
     "3db520c6165149bdb2a23d6b352db238": {
      "model_module": "@jupyter-widgets/controls",
      "model_module_version": "2.0.0",
      "model_name": "HTMLModel",
      "state": {
       "layout": "IPY_MODEL_e629c7065ca641c2a1de9f72abb4baaa",
       "style": "IPY_MODEL_2fe5cadefad54b90a04608e041a8d33f",
       "value": " 50/50 [00:04&lt;00:00, 12.14it/s]"
      }
     },
     "3dc874269d534ff3b555e6ddd0bc6a74": {
      "model_module": "@jupyter-widgets/controls",
      "model_module_version": "2.0.0",
      "model_name": "HTMLStyleModel",
      "state": {
       "description_width": "",
       "font_size": null,
       "text_color": null
      }
     },
     "3e1edade136f4139b27a27105f331114": {
      "model_module": "@jupyter-widgets/base",
      "model_module_version": "2.0.0",
      "model_name": "LayoutModel",
      "state": {
       "visibility": "hidden"
      }
     },
     "3e40c3b358a24fe091cbaa2f5cb2cd81": {
      "model_module": "@jupyter-widgets/controls",
      "model_module_version": "2.0.0",
      "model_name": "FloatProgressModel",
      "state": {
       "layout": "IPY_MODEL_2b74d012857641f7aaf0a152fc87ff94",
       "max": 50,
       "style": "IPY_MODEL_9d5b4ae9783e4277a6dfe3e9d1dbdcfa",
       "value": 50
      }
     },
     "3ee5dcd7b28d4b23be3f6f2f77dc5f9c": {
      "model_module": "@jupyter-widgets/controls",
      "model_module_version": "2.0.0",
      "model_name": "HTMLStyleModel",
      "state": {
       "description_width": "",
       "font_size": null,
       "text_color": null
      }
     },
     "3f40125b742f40e5af3da0ba92a69cf2": {
      "model_module": "@jupyter-widgets/controls",
      "model_module_version": "2.0.0",
      "model_name": "HTMLStyleModel",
      "state": {
       "description_width": "",
       "font_size": null,
       "text_color": null
      }
     },
     "3f62510307ce49ef92d7e3e8660fdfec": {
      "model_module": "@jupyter-widgets/controls",
      "model_module_version": "2.0.0",
      "model_name": "ProgressStyleModel",
      "state": {
       "description_width": ""
      }
     },
     "3fc21a88c7324fa6a55e43cb4a809bc1": {
      "model_module": "@jupyter-widgets/controls",
      "model_module_version": "2.0.0",
      "model_name": "HTMLModel",
      "state": {
       "layout": "IPY_MODEL_e68d94f52bec4d30ba55fb6cd6e92c90",
       "style": "IPY_MODEL_03f239d1ddf4430795e760d70ea57c46",
       "value": " 50/50 [00:04&lt;00:00, 12.28it/s]"
      }
     },
     "3fd2679891fa4f07867e8c4ba8e96833": {
      "model_module": "@jupyter-widgets/base",
      "model_module_version": "2.0.0",
      "model_name": "LayoutModel",
      "state": {
       "visibility": "hidden"
      }
     },
     "3fec57a22d594d7384beb2a87de859df": {
      "model_module": "@jupyter-widgets/controls",
      "model_module_version": "2.0.0",
      "model_name": "FloatProgressModel",
      "state": {
       "layout": "IPY_MODEL_497f3794056642dc8e21d3e7ccf3affb",
       "max": 50,
       "style": "IPY_MODEL_5a9616b3bede4eb48d4caac7a2431b9a",
       "value": 50
      }
     },
     "4026f30ee7d643579cc2fdfddf70cb93": {
      "model_module": "@jupyter-widgets/controls",
      "model_module_version": "2.0.0",
      "model_name": "HTMLStyleModel",
      "state": {
       "description_width": "",
       "font_size": null,
       "text_color": null
      }
     },
     "4036f7f268f340a19e7fc8904d7b6610": {
      "model_module": "@jupyter-widgets/controls",
      "model_module_version": "2.0.0",
      "model_name": "ProgressStyleModel",
      "state": {
       "description_width": ""
      }
     },
     "40393c9319fe406fba384b10d1e6c019": {
      "model_module": "@jupyter-widgets/controls",
      "model_module_version": "2.0.0",
      "model_name": "HTMLModel",
      "state": {
       "layout": "IPY_MODEL_71da283eeffd4353aa9d89b838ae1d92",
       "style": "IPY_MODEL_b25ba930aebb407b99eec5507b4de036",
       "value": "100%"
      }
     },
     "405578343de74738b5f406505a3f37ac": {
      "model_module": "@jupyter-widgets/base",
      "model_module_version": "2.0.0",
      "model_name": "LayoutModel",
      "state": {}
     },
     "40cdb860671b4947bf3e236005a3bf1a": {
      "model_module": "@jupyter-widgets/controls",
      "model_module_version": "2.0.0",
      "model_name": "HTMLModel",
      "state": {
       "layout": "IPY_MODEL_b06f06610bf24427af805f4419b9d7a4",
       "style": "IPY_MODEL_f80c15acdfef472fa8091b93f5d39c59",
       "value": " 50/50 [00:04&lt;00:00, 12.14it/s]"
      }
     },
     "410a9f4a988749469197fe7b2cbdd955": {
      "model_module": "@jupyter-widgets/base",
      "model_module_version": "2.0.0",
      "model_name": "LayoutModel",
      "state": {}
     },
     "411952b3a71d4ba28ac0dfeea73fde35": {
      "model_module": "@jupyter-widgets/controls",
      "model_module_version": "2.0.0",
      "model_name": "HTMLStyleModel",
      "state": {
       "description_width": "",
       "font_size": null,
       "text_color": null
      }
     },
     "412233a8234b4e36a402ac6115c837f7": {
      "model_module": "@jupyter-widgets/controls",
      "model_module_version": "2.0.0",
      "model_name": "HTMLStyleModel",
      "state": {
       "description_width": "",
       "font_size": null,
       "text_color": null
      }
     },
     "417dcf71f0234ec0b4e8b3b6381377a9": {
      "model_module": "@jupyter-widgets/base",
      "model_module_version": "2.0.0",
      "model_name": "LayoutModel",
      "state": {}
     },
     "41947b6928804849a274f620523102c7": {
      "model_module": "@jupyter-widgets/base",
      "model_module_version": "2.0.0",
      "model_name": "LayoutModel",
      "state": {}
     },
     "419cb4b443c9410a912bccf127e2c48d": {
      "model_module": "@jupyter-widgets/controls",
      "model_module_version": "2.0.0",
      "model_name": "HTMLStyleModel",
      "state": {
       "description_width": "",
       "font_size": null,
       "text_color": null
      }
     },
     "41a047b4dde04552918cec2ad7dc1f8b": {
      "model_module": "@jupyter-widgets/base",
      "model_module_version": "2.0.0",
      "model_name": "LayoutModel",
      "state": {}
     },
     "41bd5f9a24674420b24981644081285c": {
      "model_module": "@jupyter-widgets/base",
      "model_module_version": "2.0.0",
      "model_name": "LayoutModel",
      "state": {}
     },
     "42df12f1e5ed4243b893c21866ab2548": {
      "model_module": "@jupyter-widgets/base",
      "model_module_version": "2.0.0",
      "model_name": "LayoutModel",
      "state": {
       "visibility": "hidden"
      }
     },
     "4322b1943efc4d8786593ee219acc1f7": {
      "model_module": "@jupyter-widgets/controls",
      "model_module_version": "2.0.0",
      "model_name": "FloatProgressModel",
      "state": {
       "layout": "IPY_MODEL_690e7c25b20b4e229938523c4ef17c7c",
       "max": 50,
       "style": "IPY_MODEL_9b22d76605ad471b9ece2bc24d2bcdf7",
       "value": 50
      }
     },
     "4393f4c52d01413f80996f5fb34ef0d6": {
      "model_module": "@jupyter-widgets/controls",
      "model_module_version": "2.0.0",
      "model_name": "HTMLStyleModel",
      "state": {
       "description_width": "",
       "font_size": null,
       "text_color": null
      }
     },
     "439b48df36924c79a656b437f5f4d531": {
      "model_module": "@jupyter-widgets/controls",
      "model_module_version": "2.0.0",
      "model_name": "HTMLStyleModel",
      "state": {
       "description_width": "",
       "font_size": null,
       "text_color": null
      }
     },
     "4400c88e65684e29a00244b004468f1a": {
      "model_module": "@jupyter-widgets/base",
      "model_module_version": "2.0.0",
      "model_name": "LayoutModel",
      "state": {}
     },
     "44045d4a51c247a18db39cadbea75974": {
      "model_module": "@jupyter-widgets/base",
      "model_module_version": "2.0.0",
      "model_name": "LayoutModel",
      "state": {}
     },
     "449cda4a6a1644518dd2f3da1738e566": {
      "model_module": "@jupyter-widgets/controls",
      "model_module_version": "2.0.0",
      "model_name": "FloatProgressModel",
      "state": {
       "layout": "IPY_MODEL_8c37a8528b344344a99d34ba92006064",
       "max": 50,
       "style": "IPY_MODEL_f5cb95617a264cc2a88f86bc19c9ee2e",
       "value": 50
      }
     },
     "44cbc28e8bcc491099d1dd084a69ccbe": {
      "model_module": "@jupyter-widgets/base",
      "model_module_version": "2.0.0",
      "model_name": "LayoutModel",
      "state": {}
     },
     "457957028e894597b44cdfd104bc7ad4": {
      "model_module": "@jupyter-widgets/controls",
      "model_module_version": "2.0.0",
      "model_name": "HTMLModel",
      "state": {
       "layout": "IPY_MODEL_11f18a4ab47a4bc58f77e381be2adfbc",
       "style": "IPY_MODEL_8284bb6027fb495b83f112d5afaa5ffd",
       "value": " 50/50 [00:04&lt;00:00, 12.23it/s]"
      }
     },
     "45eba570de9b4ea2a316e391fa172c3d": {
      "model_module": "@jupyter-widgets/controls",
      "model_module_version": "2.0.0",
      "model_name": "HTMLStyleModel",
      "state": {
       "description_width": "",
       "font_size": null,
       "text_color": null
      }
     },
     "45ff37fc6a5d497fa69eb62da92431bf": {
      "model_module": "@jupyter-widgets/controls",
      "model_module_version": "2.0.0",
      "model_name": "HTMLStyleModel",
      "state": {
       "description_width": "",
       "font_size": null,
       "text_color": null
      }
     },
     "4638ecb70981454ca524dd3608c81610": {
      "model_module": "@jupyter-widgets/base",
      "model_module_version": "2.0.0",
      "model_name": "LayoutModel",
      "state": {}
     },
     "46819195adce4e719b6f6ac1774388e4": {
      "model_module": "@jupyter-widgets/base",
      "model_module_version": "2.0.0",
      "model_name": "LayoutModel",
      "state": {}
     },
     "46b516371f0e412c981411854709a104": {
      "model_module": "@jupyter-widgets/controls",
      "model_module_version": "2.0.0",
      "model_name": "FloatProgressModel",
      "state": {
       "layout": "IPY_MODEL_cad3eaeb66414f79b9da12582096bbf6",
       "max": 50,
       "style": "IPY_MODEL_a3954ac4eb024f8a9bb87832c5f72cac",
       "value": 50
      }
     },
     "46ea6cb5389241c2ac3eceefa0f005e7": {
      "model_module": "@jupyter-widgets/controls",
      "model_module_version": "2.0.0",
      "model_name": "FloatProgressModel",
      "state": {
       "layout": "IPY_MODEL_b4f00ec2a4664a17b76a6dd655934594",
       "max": 50,
       "style": "IPY_MODEL_c921c668c9a14edfa5eb24f8f49e4c72",
       "value": 50
      }
     },
     "470ec5d368a7405a82c797a89db8bae6": {
      "model_module": "@jupyter-widgets/base",
      "model_module_version": "2.0.0",
      "model_name": "LayoutModel",
      "state": {}
     },
     "4713e01d8bd94b838d069ec57de1be43": {
      "model_module": "@jupyter-widgets/controls",
      "model_module_version": "2.0.0",
      "model_name": "HTMLModel",
      "state": {
       "layout": "IPY_MODEL_0c571b615aab44f8a081e453a94e4667",
       "style": "IPY_MODEL_cb82b16aee66424aa8bbd2bc392fc950",
       "value": " 1198/1198 [05:50&lt;00:00,  5.75it/s]"
      }
     },
     "47218ae9e5ed4a6299dd6581a0858a07": {
      "model_module": "@jupyter-widgets/controls",
      "model_module_version": "2.0.0",
      "model_name": "ProgressStyleModel",
      "state": {
       "description_width": ""
      }
     },
     "476b541440ae4fe88178b21341ace91b": {
      "model_module": "@jupyter-widgets/controls",
      "model_module_version": "2.0.0",
      "model_name": "HTMLStyleModel",
      "state": {
       "description_width": "",
       "font_size": null,
       "text_color": null
      }
     },
     "4770c369cd1c4fe2b3eae9236bc45671": {
      "model_module": "@jupyter-widgets/base",
      "model_module_version": "2.0.0",
      "model_name": "LayoutModel",
      "state": {}
     },
     "47d64784b56c4247bd3749c52d842ede": {
      "model_module": "@jupyter-widgets/controls",
      "model_module_version": "2.0.0",
      "model_name": "ProgressStyleModel",
      "state": {
       "description_width": ""
      }
     },
     "47f5d33d67694b18a8d95cba3c2cea23": {
      "model_module": "@jupyter-widgets/controls",
      "model_module_version": "2.0.0",
      "model_name": "HTMLModel",
      "state": {
       "layout": "IPY_MODEL_2d2abe147755436485fcf301629d62c8",
       "style": "IPY_MODEL_8351b3db2ca541c3ac2cb6dc59ba3c5c",
       "value": "100%"
      }
     },
     "4844d74ed548427aa24008193f2f8204": {
      "model_module": "@jupyter-widgets/controls",
      "model_module_version": "2.0.0",
      "model_name": "HTMLStyleModel",
      "state": {
       "description_width": "",
       "font_size": null,
       "text_color": null
      }
     },
     "485659e4c4074a84b4785012e59ca043": {
      "model_module": "@jupyter-widgets/base",
      "model_module_version": "2.0.0",
      "model_name": "LayoutModel",
      "state": {}
     },
     "4870838aac7c4948a05fc4cab6773265": {
      "model_module": "@jupyter-widgets/base",
      "model_module_version": "2.0.0",
      "model_name": "LayoutModel",
      "state": {}
     },
     "488c4a889c73432a89b8d58bb0df8b9d": {
      "model_module": "@jupyter-widgets/base",
      "model_module_version": "2.0.0",
      "model_name": "LayoutModel",
      "state": {}
     },
     "48bd94c9b7cd4496b319a6173a3e13bb": {
      "model_module": "@jupyter-widgets/controls",
      "model_module_version": "2.0.0",
      "model_name": "FloatProgressModel",
      "state": {
       "layout": "IPY_MODEL_41a047b4dde04552918cec2ad7dc1f8b",
       "max": 50,
       "style": "IPY_MODEL_1a58cef36c964b4996e653478d368ccb",
       "value": 50
      }
     },
     "48db67134f89401099381e845a203309": {
      "model_module": "@jupyter-widgets/controls",
      "model_module_version": "2.0.0",
      "model_name": "HTMLStyleModel",
      "state": {
       "description_width": "",
       "font_size": null,
       "text_color": null
      }
     },
     "4929d6d1b424412e9c3b49fa96519496": {
      "model_module": "@jupyter-widgets/controls",
      "model_module_version": "2.0.0",
      "model_name": "FloatProgressModel",
      "state": {
       "layout": "IPY_MODEL_6c79d43975a543cc9cb8221505b90aaf",
       "max": 50,
       "style": "IPY_MODEL_1b3ba756c3404fa29ed9392458f1f156",
       "value": 50
      }
     },
     "495a4bdc03ab4661ba3d40ad05b2a726": {
      "model_module": "@jupyter-widgets/controls",
      "model_module_version": "2.0.0",
      "model_name": "ProgressStyleModel",
      "state": {
       "description_width": ""
      }
     },
     "497f3794056642dc8e21d3e7ccf3affb": {
      "model_module": "@jupyter-widgets/base",
      "model_module_version": "2.0.0",
      "model_name": "LayoutModel",
      "state": {}
     },
     "4983c1fda7ae4628aca9517f54a3413a": {
      "model_module": "@jupyter-widgets/base",
      "model_module_version": "2.0.0",
      "model_name": "LayoutModel",
      "state": {}
     },
     "49db000e6b4a4d2fbb19633cdcfc7e44": {
      "model_module": "@jupyter-widgets/base",
      "model_module_version": "2.0.0",
      "model_name": "LayoutModel",
      "state": {
       "visibility": "hidden"
      }
     },
     "49e620b4a0824fe191b5f4fe6a9acd55": {
      "model_module": "@jupyter-widgets/base",
      "model_module_version": "2.0.0",
      "model_name": "LayoutModel",
      "state": {}
     },
     "4a1d4b5f40cf497e97712402851989fd": {
      "model_module": "@jupyter-widgets/controls",
      "model_module_version": "2.0.0",
      "model_name": "ProgressStyleModel",
      "state": {
       "description_width": ""
      }
     },
     "4a83a73849b749eba89a8684bc35b634": {
      "model_module": "@jupyter-widgets/controls",
      "model_module_version": "2.0.0",
      "model_name": "HTMLStyleModel",
      "state": {
       "description_width": "",
       "font_size": null,
       "text_color": null
      }
     },
     "4a988119bce44d6997d50ac3dd51d69d": {
      "model_module": "@jupyter-widgets/controls",
      "model_module_version": "2.0.0",
      "model_name": "HTMLModel",
      "state": {
       "layout": "IPY_MODEL_24d8f24378dc4e14b51f03b869dc65ff",
       "style": "IPY_MODEL_20fc170900534104b63fb37d99684882",
       "value": "100%"
      }
     },
     "4acb799f815c4ee485cde1e8b44ad9f5": {
      "model_module": "@jupyter-widgets/controls",
      "model_module_version": "2.0.0",
      "model_name": "FloatProgressModel",
      "state": {
       "layout": "IPY_MODEL_61342f66d5054d96a64e897a0aee72f7",
       "max": 50,
       "style": "IPY_MODEL_b1b37141df7e4d0582e22d1f4554ec2b",
       "value": 50
      }
     },
     "4aedfea2d787456db453ea369a3c6a1e": {
      "model_module": "@jupyter-widgets/controls",
      "model_module_version": "2.0.0",
      "model_name": "HTMLModel",
      "state": {
       "layout": "IPY_MODEL_3cb9b256e57b4c27a265efa6cf369371",
       "style": "IPY_MODEL_1c83e9287454449692b7df058c2f0ad5",
       "value": "100%"
      }
     },
     "4b18f0fa6f0a4356b96783f9efa74478": {
      "model_module": "@jupyter-widgets/controls",
      "model_module_version": "2.0.0",
      "model_name": "HTMLStyleModel",
      "state": {
       "description_width": "",
       "font_size": null,
       "text_color": null
      }
     },
     "4b4d8f1634d04f0a8343c4af53220656": {
      "model_module": "@jupyter-widgets/controls",
      "model_module_version": "2.0.0",
      "model_name": "HTMLModel",
      "state": {
       "layout": "IPY_MODEL_f2e49207fc0e4ea8ac2fe1cf7eff2797",
       "style": "IPY_MODEL_a7ebfb03954e4164897a56836dba189b",
       "value": "100%"
      }
     },
     "4b5f2af82d0e47f9a781c08e0a468d8e": {
      "model_module": "@jupyter-widgets/base",
      "model_module_version": "2.0.0",
      "model_name": "LayoutModel",
      "state": {}
     },
     "4baff8b4ddda49ef8e0064b6eda04994": {
      "model_module": "@jupyter-widgets/base",
      "model_module_version": "2.0.0",
      "model_name": "LayoutModel",
      "state": {}
     },
     "4c2fbdb89be64b0b817bd9f8f0a87f8a": {
      "model_module": "@jupyter-widgets/controls",
      "model_module_version": "2.0.0",
      "model_name": "HTMLStyleModel",
      "state": {
       "description_width": "",
       "font_size": null,
       "text_color": null
      }
     },
     "4c8515baeeaf4bafb75edfe6b3fa1071": {
      "model_module": "@jupyter-widgets/base",
      "model_module_version": "2.0.0",
      "model_name": "LayoutModel",
      "state": {}
     },
     "4d747a573cef436c965477c8c9045367": {
      "model_module": "@jupyter-widgets/controls",
      "model_module_version": "2.0.0",
      "model_name": "HTMLStyleModel",
      "state": {
       "description_width": "",
       "font_size": null,
       "text_color": null
      }
     },
     "4d816ca92a794e379c35db31adf90d37": {
      "model_module": "@jupyter-widgets/controls",
      "model_module_version": "2.0.0",
      "model_name": "HTMLModel",
      "state": {
       "layout": "IPY_MODEL_0628bfc2a74e43cd92771616755df51a",
       "style": "IPY_MODEL_1ce06499dbff4ddeaedadc5e092c1d1a",
       "value": " 50/50 [00:06&lt;00:00,  8.45it/s]"
      }
     },
     "4da38609f95949448324a8385fb5934a": {
      "model_module": "@jupyter-widgets/controls",
      "model_module_version": "2.0.0",
      "model_name": "HTMLModel",
      "state": {
       "layout": "IPY_MODEL_2f322db76754462a92b22194905ff69e",
       "style": "IPY_MODEL_4c2fbdb89be64b0b817bd9f8f0a87f8a",
       "value": "100%"
      }
     },
     "4db0862743bd4317b425b8de3ea17a79": {
      "model_module": "@jupyter-widgets/controls",
      "model_module_version": "2.0.0",
      "model_name": "HTMLModel",
      "state": {
       "layout": "IPY_MODEL_2cb762a7dd4c437899a5821843a06c30",
       "style": "IPY_MODEL_a5ff70a30db84a8fa93a201ec9702a75",
       "value": "100%"
      }
     },
     "4dea3f4343b749a983733b87fdba6183": {
      "model_module": "@jupyter-widgets/controls",
      "model_module_version": "2.0.0",
      "model_name": "ProgressStyleModel",
      "state": {
       "description_width": ""
      }
     },
     "4e06f289f1b945068f4d344e786c4ed2": {
      "model_module": "@jupyter-widgets/controls",
      "model_module_version": "2.0.0",
      "model_name": "FloatProgressModel",
      "state": {
       "layout": "IPY_MODEL_b07b28cd7f3d48e9ba86f12ee84a0578",
       "max": 50,
       "style": "IPY_MODEL_a67e55ba909c42d0a2936da8c2f664f4",
       "value": 50
      }
     },
     "4e41eba0ba1e409dbd4c7d2ffdae2657": {
      "model_module": "@jupyter-widgets/base",
      "model_module_version": "2.0.0",
      "model_name": "LayoutModel",
      "state": {}
     },
     "4e5c00c510bb4c27a12b22905acefee6": {
      "model_module": "@jupyter-widgets/base",
      "model_module_version": "2.0.0",
      "model_name": "LayoutModel",
      "state": {
       "visibility": "hidden"
      }
     },
     "4e66e9c69c3e4f9fb89c81cce7d4bc03": {
      "model_module": "@jupyter-widgets/controls",
      "model_module_version": "2.0.0",
      "model_name": "ProgressStyleModel",
      "state": {
       "description_width": ""
      }
     },
     "4e7d342f318d4396b2313c1eabd048c1": {
      "model_module": "@jupyter-widgets/base",
      "model_module_version": "2.0.0",
      "model_name": "LayoutModel",
      "state": {}
     },
     "4eeb243fc2bf4d63a8196b70dc929a47": {
      "model_module": "@jupyter-widgets/controls",
      "model_module_version": "2.0.0",
      "model_name": "HTMLStyleModel",
      "state": {
       "description_width": "",
       "font_size": null,
       "text_color": null
      }
     },
     "4f31272fe8564b6e9b4bad77a05ac3ae": {
      "model_module": "@jupyter-widgets/base",
      "model_module_version": "2.0.0",
      "model_name": "LayoutModel",
      "state": {}
     },
     "4f63271d464744949e2f68de758a402b": {
      "model_module": "@jupyter-widgets/base",
      "model_module_version": "2.0.0",
      "model_name": "LayoutModel",
      "state": {}
     },
     "4f7cf10b0f3244cca982ec6531b0966b": {
      "model_module": "@jupyter-widgets/base",
      "model_module_version": "2.0.0",
      "model_name": "LayoutModel",
      "state": {
       "visibility": "hidden"
      }
     },
     "4fb93aa761864c3f92d79c5109531c20": {
      "model_module": "@jupyter-widgets/controls",
      "model_module_version": "2.0.0",
      "model_name": "ProgressStyleModel",
      "state": {
       "description_width": ""
      }
     },
     "4fc3d180e39a4a84a7ccb04c20e87572": {
      "model_module": "@jupyter-widgets/base",
      "model_module_version": "2.0.0",
      "model_name": "LayoutModel",
      "state": {
       "visibility": "hidden"
      }
     },
     "505ad32c0b3446048282488643354019": {
      "model_module": "@jupyter-widgets/base",
      "model_module_version": "2.0.0",
      "model_name": "LayoutModel",
      "state": {}
     },
     "5083475bd13b44a891aab6cd4fba1573": {
      "model_module": "@jupyter-widgets/base",
      "model_module_version": "2.0.0",
      "model_name": "LayoutModel",
      "state": {
       "visibility": "hidden"
      }
     },
     "50a59c5750a24c02a93a180384dc169b": {
      "model_module": "@jupyter-widgets/controls",
      "model_module_version": "2.0.0",
      "model_name": "HTMLStyleModel",
      "state": {
       "description_width": "",
       "font_size": null,
       "text_color": null
      }
     },
     "5102dd71066b495fb190971dde126a87": {
      "model_module": "@jupyter-widgets/controls",
      "model_module_version": "2.0.0",
      "model_name": "FloatProgressModel",
      "state": {
       "layout": "IPY_MODEL_e6a8f4a5da8e4a6095b14452adc52333",
       "max": 50,
       "style": "IPY_MODEL_976197ce37154e5f81f051cf9fd0ce66",
       "value": 50
      }
     },
     "5128671c35664c94baacfc5f27df0125": {
      "model_module": "@jupyter-widgets/controls",
      "model_module_version": "2.0.0",
      "model_name": "ProgressStyleModel",
      "state": {
       "description_width": ""
      }
     },
     "517847ede3ae4aa3be485d529b876fbb": {
      "model_module": "@jupyter-widgets/base",
      "model_module_version": "2.0.0",
      "model_name": "LayoutModel",
      "state": {}
     },
     "51a49b9bde0d470080586f48c917e341": {
      "model_module": "@jupyter-widgets/controls",
      "model_module_version": "2.0.0",
      "model_name": "HTMLModel",
      "state": {
       "layout": "IPY_MODEL_7bcc5c6e221946f5897b7923b9925298",
       "style": "IPY_MODEL_705164172a85460c93e147ce8b59e249",
       "value": " 50/50 [00:04&lt;00:00, 12.18it/s]"
      }
     },
     "5293eb0d602547889350231e21ad1add": {
      "model_module": "@jupyter-widgets/base",
      "model_module_version": "2.0.0",
      "model_name": "LayoutModel",
      "state": {}
     },
     "52e80caf3c0e4c41ab3d874bf2993b08": {
      "model_module": "@jupyter-widgets/base",
      "model_module_version": "2.0.0",
      "model_name": "LayoutModel",
      "state": {}
     },
     "53c8373028a146e0a7a791a1d126b96e": {
      "model_module": "@jupyter-widgets/controls",
      "model_module_version": "2.0.0",
      "model_name": "ProgressStyleModel",
      "state": {
       "description_width": ""
      }
     },
     "53de7717555442e087db4290dbbfb0ff": {
      "model_module": "@jupyter-widgets/base",
      "model_module_version": "2.0.0",
      "model_name": "LayoutModel",
      "state": {
       "visibility": "hidden"
      }
     },
     "54254ff451974493ac36096e57fe640f": {
      "model_module": "@jupyter-widgets/base",
      "model_module_version": "2.0.0",
      "model_name": "LayoutModel",
      "state": {}
     },
     "554c6cce7cca40838c815a129b4a5408": {
      "model_module": "@jupyter-widgets/base",
      "model_module_version": "2.0.0",
      "model_name": "LayoutModel",
      "state": {}
     },
     "55cbc07346d94e748059d27265b603d5": {
      "model_module": "@jupyter-widgets/controls",
      "model_module_version": "2.0.0",
      "model_name": "FloatProgressModel",
      "state": {
       "layout": "IPY_MODEL_568057d3e5ab4aea9fae0ff1934d1c6e",
       "max": 50,
       "style": "IPY_MODEL_4fb93aa761864c3f92d79c5109531c20",
       "value": 50
      }
     },
     "55f19942583740968c3c198d68a47860": {
      "model_module": "@jupyter-widgets/base",
      "model_module_version": "2.0.0",
      "model_name": "LayoutModel",
      "state": {}
     },
     "55ffc1c41cf145acb93453814b759b27": {
      "model_module": "@jupyter-widgets/controls",
      "model_module_version": "2.0.0",
      "model_name": "HTMLModel",
      "state": {
       "layout": "IPY_MODEL_6856a6c5711940bd935ef590dcd0b9ff",
       "style": "IPY_MODEL_136370e8bd444deeafe65e395bcf7126",
       "value": " 50/50 [00:04&lt;00:00, 11.39it/s]"
      }
     },
     "568057d3e5ab4aea9fae0ff1934d1c6e": {
      "model_module": "@jupyter-widgets/base",
      "model_module_version": "2.0.0",
      "model_name": "LayoutModel",
      "state": {}
     },
     "56b93102bc0d43d08d8dbe995895ec6e": {
      "model_module": "@jupyter-widgets/base",
      "model_module_version": "2.0.0",
      "model_name": "LayoutModel",
      "state": {}
     },
     "56f25fa4786c4ed3a3d587b32a56b5b5": {
      "model_module": "@jupyter-widgets/controls",
      "model_module_version": "2.0.0",
      "model_name": "HTMLStyleModel",
      "state": {
       "description_width": "",
       "font_size": null,
       "text_color": null
      }
     },
     "579ff8b6bdc04bceb1f211096ac88f1d": {
      "model_module": "@jupyter-widgets/base",
      "model_module_version": "2.0.0",
      "model_name": "LayoutModel",
      "state": {}
     },
     "57d6336e41b44114b36c6ada53ea7d52": {
      "model_module": "@jupyter-widgets/controls",
      "model_module_version": "2.0.0",
      "model_name": "ProgressStyleModel",
      "state": {
       "description_width": ""
      }
     },
     "57e368c1e0ee4b8fbf3db2321ed4ad29": {
      "model_module": "@jupyter-widgets/base",
      "model_module_version": "2.0.0",
      "model_name": "LayoutModel",
      "state": {}
     },
     "585604c9f92e4e3cbf3a949a29553d06": {
      "model_module": "@jupyter-widgets/base",
      "model_module_version": "2.0.0",
      "model_name": "LayoutModel",
      "state": {}
     },
     "587f7bc2f483490e93a58de53ecefe2c": {
      "model_module": "@jupyter-widgets/controls",
      "model_module_version": "2.0.0",
      "model_name": "ProgressStyleModel",
      "state": {
       "description_width": ""
      }
     },
     "589f2712cad24b42af6a32dfd4e6ad1a": {
      "model_module": "@jupyter-widgets/controls",
      "model_module_version": "2.0.0",
      "model_name": "FloatProgressModel",
      "state": {
       "layout": "IPY_MODEL_8fed6eb963834c22aed538651f14ad2f",
       "max": 50,
       "style": "IPY_MODEL_a0c71065a11f4084852bada56fa0b147",
       "value": 50
      }
     },
     "591d55a54d3f4a30959e69cb557d06fd": {
      "model_module": "@jupyter-widgets/base",
      "model_module_version": "2.0.0",
      "model_name": "LayoutModel",
      "state": {
       "visibility": "hidden"
      }
     },
     "599aa33016204e0694172ef89abce808": {
      "model_module": "@jupyter-widgets/controls",
      "model_module_version": "2.0.0",
      "model_name": "HTMLStyleModel",
      "state": {
       "description_width": "",
       "font_size": null,
       "text_color": null
      }
     },
     "59a2438886ee498b9ae4bc67ef6b4692": {
      "model_module": "@jupyter-widgets/controls",
      "model_module_version": "2.0.0",
      "model_name": "ProgressStyleModel",
      "state": {
       "description_width": ""
      }
     },
     "59aba52dc9dd47a7ab2014bdb3ea7db6": {
      "model_module": "@jupyter-widgets/controls",
      "model_module_version": "2.0.0",
      "model_name": "HTMLModel",
      "state": {
       "layout": "IPY_MODEL_b6781a1a5440419094d46cd08b2a0224",
       "style": "IPY_MODEL_1df35301c808429e80dd763613cf82db",
       "value": " 50/50 [00:04&lt;00:00, 12.25it/s]"
      }
     },
     "59d42ec6ce3441ee9f9af2cc5280748c": {
      "model_module": "@jupyter-widgets/controls",
      "model_module_version": "2.0.0",
      "model_name": "HTMLModel",
      "state": {
       "layout": "IPY_MODEL_680bff9ac7944693aef4e66225c85668",
       "style": "IPY_MODEL_f3a15a8ae6404a7ca12657539ae199fe",
       "value": " 50/50 [00:04&lt;00:00, 12.19it/s]"
      }
     },
     "5a55d6a7dbfc423ab325014965196f02": {
      "model_module": "@jupyter-widgets/controls",
      "model_module_version": "2.0.0",
      "model_name": "HTMLModel",
      "state": {
       "layout": "IPY_MODEL_12b712ddb46a434e8aaf6514ffd64241",
       "style": "IPY_MODEL_6958522ce762450c8abc5ea070fb6af7",
       "value": " 50/50 [00:04&lt;00:00, 12.01it/s]"
      }
     },
     "5a9616b3bede4eb48d4caac7a2431b9a": {
      "model_module": "@jupyter-widgets/controls",
      "model_module_version": "2.0.0",
      "model_name": "ProgressStyleModel",
      "state": {
       "description_width": ""
      }
     },
     "5aad0de094c24a67845878c654ea8d6b": {
      "model_module": "@jupyter-widgets/controls",
      "model_module_version": "2.0.0",
      "model_name": "HTMLStyleModel",
      "state": {
       "description_width": "",
       "font_size": null,
       "text_color": null
      }
     },
     "5b45d9c90edb46abbabb71a120b8bf39": {
      "model_module": "@jupyter-widgets/base",
      "model_module_version": "2.0.0",
      "model_name": "LayoutModel",
      "state": {}
     },
     "5b65cda06ca643248fd501bf49e0c6e9": {
      "model_module": "@jupyter-widgets/base",
      "model_module_version": "2.0.0",
      "model_name": "LayoutModel",
      "state": {}
     },
     "5b84e081d791419da27934d1b8eae37d": {
      "model_module": "@jupyter-widgets/controls",
      "model_module_version": "2.0.0",
      "model_name": "HTMLModel",
      "state": {
       "layout": "IPY_MODEL_31ba6a29b2d34cee972b2320b3d03b9e",
       "style": "IPY_MODEL_bb95a4e78e2b453e8fecca94de3f8019",
       "value": " 5/5 [30:41&lt;00:00, 358.15s/it, train epoch loss=0.0257]"
      }
     },
     "5b861687529c4fc18ced5388a97643d3": {
      "model_module": "@jupyter-widgets/controls",
      "model_module_version": "2.0.0",
      "model_name": "HTMLModel",
      "state": {
       "layout": "IPY_MODEL_e6b7482b8f384fcb859a067c27a68cee",
       "style": "IPY_MODEL_0fcb024aa2d749b3b959ad80832a4d0f",
       "value": "100%"
      }
     },
     "5ba5b75d79c3431ca6c9de2400936c0f": {
      "model_module": "@jupyter-widgets/controls",
      "model_module_version": "2.0.0",
      "model_name": "HTMLModel",
      "state": {
       "layout": "IPY_MODEL_74198bff31294b8e8247d47c80dab1b3",
       "style": "IPY_MODEL_45eba570de9b4ea2a316e391fa172c3d",
       "value": " 50/50 [00:04&lt;00:00, 12.22it/s]"
      }
     },
     "5bc66903abdf432eb580e7b93e9a9b68": {
      "model_module": "@jupyter-widgets/controls",
      "model_module_version": "2.0.0",
      "model_name": "HTMLStyleModel",
      "state": {
       "description_width": "",
       "font_size": null,
       "text_color": null
      }
     },
     "5c3a15bcf31944218c256c89493525ac": {
      "model_module": "@jupyter-widgets/controls",
      "model_module_version": "2.0.0",
      "model_name": "ProgressStyleModel",
      "state": {
       "description_width": ""
      }
     },
     "5c5d20054df146ad9d508761adb09040": {
      "model_module": "@jupyter-widgets/controls",
      "model_module_version": "2.0.0",
      "model_name": "HTMLModel",
      "state": {
       "layout": "IPY_MODEL_9f62bfb334334478ba5a5a5dab43ef05",
       "style": "IPY_MODEL_c8824ddd65cc4c2fbb60397f237c2804",
       "value": "100%"
      }
     },
     "5c7ff9dafa814bfab61e2949eae1e1d2": {
      "model_module": "@jupyter-widgets/controls",
      "model_module_version": "2.0.0",
      "model_name": "ProgressStyleModel",
      "state": {
       "description_width": ""
      }
     },
     "5c8b51601fa346509366d22a3288e46a": {
      "model_module": "@jupyter-widgets/base",
      "model_module_version": "2.0.0",
      "model_name": "LayoutModel",
      "state": {}
     },
     "5d3964d50a6a4d8d841f0794879c32f9": {
      "model_module": "@jupyter-widgets/base",
      "model_module_version": "2.0.0",
      "model_name": "LayoutModel",
      "state": {}
     },
     "5d8b907d6389417fbccc8f701daf2e3e": {
      "model_module": "@jupyter-widgets/controls",
      "model_module_version": "2.0.0",
      "model_name": "ProgressStyleModel",
      "state": {
       "description_width": ""
      }
     },
     "5db630677aa749639166f3005c83387c": {
      "model_module": "@jupyter-widgets/base",
      "model_module_version": "2.0.0",
      "model_name": "LayoutModel",
      "state": {
       "visibility": "hidden"
      }
     },
     "5dcaf97b68104480aac140c7f4f171d0": {
      "model_module": "@jupyter-widgets/controls",
      "model_module_version": "2.0.0",
      "model_name": "FloatProgressModel",
      "state": {
       "layout": "IPY_MODEL_eaa769685a094ce1a7af6da240d1f3bf",
       "max": 50,
       "style": "IPY_MODEL_26d622ab12834d87bb3432bf243d46eb",
       "value": 50
      }
     },
     "5e188b1362ab40f39f538c10cb17852a": {
      "model_module": "@jupyter-widgets/controls",
      "model_module_version": "2.0.0",
      "model_name": "FloatProgressModel",
      "state": {
       "layout": "IPY_MODEL_cdb221305e074470ab2d4f9d746833a6",
       "max": 50,
       "style": "IPY_MODEL_adbc549175f7421d9b1c3e510301140e",
       "value": 50
      }
     },
     "5e1ff621c16a444f82e84afb62edc6fa": {
      "model_module": "@jupyter-widgets/controls",
      "model_module_version": "2.0.0",
      "model_name": "HTMLModel",
      "state": {
       "layout": "IPY_MODEL_168b888de39746cba40bdd7cc2f02a32",
       "style": "IPY_MODEL_042c5c96564842b88a2668b68e20f872",
       "value": "100%"
      }
     },
     "5e6f6b20e4a641258956dc6e300d09d3": {
      "model_module": "@jupyter-widgets/controls",
      "model_module_version": "2.0.0",
      "model_name": "HTMLModel",
      "state": {
       "layout": "IPY_MODEL_579ff8b6bdc04bceb1f211096ac88f1d",
       "style": "IPY_MODEL_4393f4c52d01413f80996f5fb34ef0d6",
       "value": " 50/50 [00:04&lt;00:00, 12.22it/s]"
      }
     },
     "5ee604b1b88d406aa1594ac42ef67b3d": {
      "model_module": "@jupyter-widgets/controls",
      "model_module_version": "2.0.0",
      "model_name": "HTMLModel",
      "state": {
       "layout": "IPY_MODEL_5c8b51601fa346509366d22a3288e46a",
       "style": "IPY_MODEL_e0f9073ae48d4502ae01abb2ea7b6eb7",
       "value": " 50/50 [00:04&lt;00:00, 12.22it/s]"
      }
     },
     "5f116981cfb349349c0a776488fe212f": {
      "model_module": "@jupyter-widgets/controls",
      "model_module_version": "2.0.0",
      "model_name": "HTMLStyleModel",
      "state": {
       "description_width": "",
       "font_size": null,
       "text_color": null
      }
     },
     "5f5d73f5ec21481fad2750eb38f0352c": {
      "model_module": "@jupyter-widgets/base",
      "model_module_version": "2.0.0",
      "model_name": "LayoutModel",
      "state": {}
     },
     "5f636edecebf44b986c42c7822e739b9": {
      "model_module": "@jupyter-widgets/controls",
      "model_module_version": "2.0.0",
      "model_name": "FloatProgressModel",
      "state": {
       "layout": "IPY_MODEL_760a4334912b44f694cd75561b27ef23",
       "max": 50,
       "style": "IPY_MODEL_288750fc5d4a4346ac913c992e01d3e7",
       "value": 50
      }
     },
     "5f9a9c66cabb4bee8209a7f89084039d": {
      "model_module": "@jupyter-widgets/controls",
      "model_module_version": "2.0.0",
      "model_name": "HTMLModel",
      "state": {
       "layout": "IPY_MODEL_7f774e2c358b4a168c7738ef20f63c0c",
       "style": "IPY_MODEL_87bbe92ec188404bb3609b032d96e08b",
       "value": "100%"
      }
     },
     "5fa798a8760144358b51481c3fc6e3d3": {
      "model_module": "@jupyter-widgets/controls",
      "model_module_version": "2.0.0",
      "model_name": "HTMLModel",
      "state": {
       "layout": "IPY_MODEL_1180418572a145a0b47c75dfbe2ab19a",
       "style": "IPY_MODEL_b72dcbb3bbb84c70881e4a217a6e4e90",
       "value": "100%"
      }
     },
     "6005eabe2fd14a5ca44aecbede84578a": {
      "model_module": "@jupyter-widgets/controls",
      "model_module_version": "2.0.0",
      "model_name": "HTMLStyleModel",
      "state": {
       "description_width": "",
       "font_size": null,
       "text_color": null
      }
     },
     "6012317b6bb64a2188e93bc82f4bbc3c": {
      "model_module": "@jupyter-widgets/controls",
      "model_module_version": "2.0.0",
      "model_name": "HTMLModel",
      "state": {
       "layout": "IPY_MODEL_1436b9a850de46f19e5f09a1e7e8449b",
       "style": "IPY_MODEL_45ff37fc6a5d497fa69eb62da92431bf",
       "value": " 50/50 [00:04&lt;00:00, 12.26it/s]"
      }
     },
     "6020045751bd4da0aa5d9f4227e1ea35": {
      "model_module": "@jupyter-widgets/base",
      "model_module_version": "2.0.0",
      "model_name": "LayoutModel",
      "state": {}
     },
     "605ab3568d76429481b410a45d57e8ed": {
      "model_module": "@jupyter-widgets/base",
      "model_module_version": "2.0.0",
      "model_name": "LayoutModel",
      "state": {}
     },
     "6076c8b45167490baf2f32f82fe344ea": {
      "model_module": "@jupyter-widgets/controls",
      "model_module_version": "2.0.0",
      "model_name": "HTMLModel",
      "state": {
       "layout": "IPY_MODEL_a7df4249f33b4b5499f362be6f5b53bb",
       "style": "IPY_MODEL_82c566f046874c99a1b08f722d02230b",
       "value": " 50/50 [00:04&lt;00:00, 12.21it/s]"
      }
     },
     "608a5325ad874e7c85cb6597d2fec5f8": {
      "model_module": "@jupyter-widgets/base",
      "model_module_version": "2.0.0",
      "model_name": "LayoutModel",
      "state": {}
     },
     "608d93fc6db44f75b8186ab5aa17deb7": {
      "model_module": "@jupyter-widgets/controls",
      "model_module_version": "2.0.0",
      "model_name": "FloatProgressModel",
      "state": {
       "layout": "IPY_MODEL_6520690380dd45f981d3de7b12f0bb88",
       "max": 50,
       "style": "IPY_MODEL_960e533a6faf471793fc4185da550178",
       "value": 50
      }
     },
     "60cefb6b0b864e88bcd07b2013d0b1e0": {
      "model_module": "@jupyter-widgets/controls",
      "model_module_version": "2.0.0",
      "model_name": "HTMLStyleModel",
      "state": {
       "description_width": "",
       "font_size": null,
       "text_color": null
      }
     },
     "61342f66d5054d96a64e897a0aee72f7": {
      "model_module": "@jupyter-widgets/base",
      "model_module_version": "2.0.0",
      "model_name": "LayoutModel",
      "state": {}
     },
     "6156d337662a46e590d3e55ecb8a6937": {
      "model_module": "@jupyter-widgets/controls",
      "model_module_version": "2.0.0",
      "model_name": "FloatProgressModel",
      "state": {
       "layout": "IPY_MODEL_300007e7c268436d9ef07a00ca2bb06d",
       "max": 50,
       "style": "IPY_MODEL_8b71049d9f504c4296131cf87ff110f8",
       "value": 50
      }
     },
     "6158a7bb1d804f43a94e23b1aac22c6b": {
      "model_module": "@jupyter-widgets/controls",
      "model_module_version": "2.0.0",
      "model_name": "ProgressStyleModel",
      "state": {
       "description_width": ""
      }
     },
     "61df02d1acba4ea5a26fec670c14329a": {
      "model_module": "@jupyter-widgets/controls",
      "model_module_version": "2.0.0",
      "model_name": "HTMLStyleModel",
      "state": {
       "description_width": "",
       "font_size": null,
       "text_color": null
      }
     },
     "61fe461b77b04fb88f4707a8fda9f130": {
      "model_module": "@jupyter-widgets/base",
      "model_module_version": "2.0.0",
      "model_name": "LayoutModel",
      "state": {
       "visibility": "hidden"
      }
     },
     "6200801fc5554dcaadc2f27ce360abca": {
      "model_module": "@jupyter-widgets/controls",
      "model_module_version": "2.0.0",
      "model_name": "HTMLStyleModel",
      "state": {
       "description_width": "",
       "font_size": null,
       "text_color": null
      }
     },
     "6206ed93e3db4794906abe713b0880ce": {
      "model_module": "@jupyter-widgets/controls",
      "model_module_version": "2.0.0",
      "model_name": "HTMLStyleModel",
      "state": {
       "description_width": "",
       "font_size": null,
       "text_color": null
      }
     },
     "622141f4ed0c4131a6775afd0190addf": {
      "model_module": "@jupyter-widgets/base",
      "model_module_version": "2.0.0",
      "model_name": "LayoutModel",
      "state": {}
     },
     "62723c31a41c493ab1e3c3538b328a49": {
      "model_module": "@jupyter-widgets/controls",
      "model_module_version": "2.0.0",
      "model_name": "HTMLStyleModel",
      "state": {
       "description_width": "",
       "font_size": null,
       "text_color": null
      }
     },
     "628f25d1bf0841a289054935537821ce": {
      "model_module": "@jupyter-widgets/controls",
      "model_module_version": "2.0.0",
      "model_name": "HTMLModel",
      "state": {
       "layout": "IPY_MODEL_49e620b4a0824fe191b5f4fe6a9acd55",
       "style": "IPY_MODEL_6367efb292364ff9b836359fbba95f50",
       "value": "100%"
      }
     },
     "630f555d48464920b320d797b34e869b": {
      "model_module": "@jupyter-widgets/controls",
      "model_module_version": "2.0.0",
      "model_name": "HTMLStyleModel",
      "state": {
       "description_width": "",
       "font_size": null,
       "text_color": null
      }
     },
     "632b25ee06714f939f5e8de361a143d9": {
      "model_module": "@jupyter-widgets/base",
      "model_module_version": "2.0.0",
      "model_name": "LayoutModel",
      "state": {}
     },
     "636239e985c5477eabfe8f017d551099": {
      "model_module": "@jupyter-widgets/base",
      "model_module_version": "2.0.0",
      "model_name": "LayoutModel",
      "state": {}
     },
     "6367efb292364ff9b836359fbba95f50": {
      "model_module": "@jupyter-widgets/controls",
      "model_module_version": "2.0.0",
      "model_name": "HTMLStyleModel",
      "state": {
       "description_width": "",
       "font_size": null,
       "text_color": null
      }
     },
     "638a37c4a8754a659425f1f2e5961623": {
      "model_module": "@jupyter-widgets/controls",
      "model_module_version": "2.0.0",
      "model_name": "HTMLStyleModel",
      "state": {
       "description_width": "",
       "font_size": null,
       "text_color": null
      }
     },
     "63bb17dbf91143e29d2262a6f2704532": {
      "model_module": "@jupyter-widgets/controls",
      "model_module_version": "2.0.0",
      "model_name": "HTMLStyleModel",
      "state": {
       "description_width": "",
       "font_size": null,
       "text_color": null
      }
     },
     "63ea829f178e47afa147a2f121b2eb0a": {
      "model_module": "@jupyter-widgets/base",
      "model_module_version": "2.0.0",
      "model_name": "LayoutModel",
      "state": {}
     },
     "6416f0ac45854f2bb6265cef03c8c60a": {
      "model_module": "@jupyter-widgets/controls",
      "model_module_version": "2.0.0",
      "model_name": "ProgressStyleModel",
      "state": {
       "description_width": ""
      }
     },
     "64aaafdc992b49f2a235151dcd4a73a6": {
      "model_module": "@jupyter-widgets/base",
      "model_module_version": "2.0.0",
      "model_name": "LayoutModel",
      "state": {
       "visibility": "hidden"
      }
     },
     "6520690380dd45f981d3de7b12f0bb88": {
      "model_module": "@jupyter-widgets/base",
      "model_module_version": "2.0.0",
      "model_name": "LayoutModel",
      "state": {}
     },
     "65234c8ba9514f77a56ca0de8f8383f7": {
      "model_module": "@jupyter-widgets/controls",
      "model_module_version": "2.0.0",
      "model_name": "HTMLModel",
      "state": {
       "layout": "IPY_MODEL_c3f97cd160b84495a5880c713fae369d",
       "style": "IPY_MODEL_f7df8a076ff14826a2154b4de41763a6",
       "value": " 50/50 [00:06&lt;00:00,  8.14it/s]"
      }
     },
     "6529a53aad734829945d5a4e4bc6811e": {
      "model_module": "@jupyter-widgets/controls",
      "model_module_version": "2.0.0",
      "model_name": "FloatProgressModel",
      "state": {
       "layout": "IPY_MODEL_80ec78ef2289499ea48443ecd8793bd5",
       "max": 50,
       "style": "IPY_MODEL_8f2f2f23518f4e519f7902a0a16b1f38",
       "value": 50
      }
     },
     "65367142eb6b43518e41fcf7c7b816a7": {
      "model_module": "@jupyter-widgets/controls",
      "model_module_version": "2.0.0",
      "model_name": "ProgressStyleModel",
      "state": {
       "description_width": ""
      }
     },
     "65c015bbccb649fab44840bfb596b111": {
      "model_module": "@jupyter-widgets/controls",
      "model_module_version": "2.0.0",
      "model_name": "HTMLStyleModel",
      "state": {
       "description_width": "",
       "font_size": null,
       "text_color": null
      }
     },
     "65c244968b814725a09e5e4db45dbfd1": {
      "model_module": "@jupyter-widgets/controls",
      "model_module_version": "2.0.0",
      "model_name": "HTMLStyleModel",
      "state": {
       "description_width": "",
       "font_size": null,
       "text_color": null
      }
     },
     "65cf728fe95f42cbbb148caae72957c7": {
      "model_module": "@jupyter-widgets/base",
      "model_module_version": "2.0.0",
      "model_name": "LayoutModel",
      "state": {}
     },
     "65f3695d1d974f298f73034a42f88240": {
      "model_module": "@jupyter-widgets/base",
      "model_module_version": "2.0.0",
      "model_name": "LayoutModel",
      "state": {
       "visibility": "hidden"
      }
     },
     "6601c07ead784e6eb7a4c3ee2c127280": {
      "model_module": "@jupyter-widgets/controls",
      "model_module_version": "2.0.0",
      "model_name": "HTMLStyleModel",
      "state": {
       "description_width": "",
       "font_size": null,
       "text_color": null
      }
     },
     "661f7366317b4bf0a94edb619862e178": {
      "model_module": "@jupyter-widgets/controls",
      "model_module_version": "2.0.0",
      "model_name": "HTMLModel",
      "state": {
       "layout": "IPY_MODEL_baf209f279c54fa6a6f7c2cc32414200",
       "style": "IPY_MODEL_03d66412b8a54b71ae467e1aa99abe4a",
       "value": "100%"
      }
     },
     "662b7173d01f422c9c2112ea5ee2f3e7": {
      "model_module": "@jupyter-widgets/controls",
      "model_module_version": "2.0.0",
      "model_name": "HTMLStyleModel",
      "state": {
       "description_width": "",
       "font_size": null,
       "text_color": null
      }
     },
     "6697ceeda10446b48f127c7062bb29c5": {
      "model_module": "@jupyter-widgets/base",
      "model_module_version": "2.0.0",
      "model_name": "LayoutModel",
      "state": {
       "visibility": "hidden"
      }
     },
     "66c358297ad54655989ba4f5b492a7f0": {
      "model_module": "@jupyter-widgets/base",
      "model_module_version": "2.0.0",
      "model_name": "LayoutModel",
      "state": {}
     },
     "670ef8e571954e138a8d76a80a36675c": {
      "model_module": "@jupyter-widgets/controls",
      "model_module_version": "2.0.0",
      "model_name": "FloatProgressModel",
      "state": {
       "layout": "IPY_MODEL_24d40507743c49c286340c3cb45aa7a4",
       "max": 50,
       "style": "IPY_MODEL_7c7071b021874b2196ea6f76cf5ea9c4",
       "value": 50
      }
     },
     "6796f01ba2874db89842f270c66c7abf": {
      "model_module": "@jupyter-widgets/controls",
      "model_module_version": "2.0.0",
      "model_name": "HTMLModel",
      "state": {
       "layout": "IPY_MODEL_485659e4c4074a84b4785012e59ca043",
       "style": "IPY_MODEL_a34d26f68c684240bc7606d399c8c53d",
       "value": " 50/50 [00:04&lt;00:00, 12.19it/s]"
      }
     },
     "67c375ff8335429e8cdc2943bc0d98f4": {
      "model_module": "@jupyter-widgets/controls",
      "model_module_version": "2.0.0",
      "model_name": "HTMLModel",
      "state": {
       "layout": "IPY_MODEL_505ad32c0b3446048282488643354019",
       "style": "IPY_MODEL_739582ac6d124bfa81769a585917650b",
       "value": " 50/50 [00:04&lt;00:00, 12.12it/s]"
      }
     },
     "67c9e75490874b8289488947d2c4ba39": {
      "model_module": "@jupyter-widgets/base",
      "model_module_version": "2.0.0",
      "model_name": "LayoutModel",
      "state": {}
     },
     "67e40ef8b00540f2a26b880d7f977a0a": {
      "model_module": "@jupyter-widgets/controls",
      "model_module_version": "2.0.0",
      "model_name": "ProgressStyleModel",
      "state": {
       "description_width": ""
      }
     },
     "6803c292ae724a4190971edd31a8315d": {
      "model_module": "@jupyter-widgets/base",
      "model_module_version": "2.0.0",
      "model_name": "LayoutModel",
      "state": {}
     },
     "680bff9ac7944693aef4e66225c85668": {
      "model_module": "@jupyter-widgets/base",
      "model_module_version": "2.0.0",
      "model_name": "LayoutModel",
      "state": {}
     },
     "68184efea43f4668bd6aa26555c1bb5f": {
      "model_module": "@jupyter-widgets/controls",
      "model_module_version": "2.0.0",
      "model_name": "ProgressStyleModel",
      "state": {
       "description_width": ""
      }
     },
     "6831a3d56ceb44a4bfeff9f5377dd726": {
      "model_module": "@jupyter-widgets/controls",
      "model_module_version": "2.0.0",
      "model_name": "HTMLStyleModel",
      "state": {
       "description_width": "",
       "font_size": null,
       "text_color": null
      }
     },
     "6856a6c5711940bd935ef590dcd0b9ff": {
      "model_module": "@jupyter-widgets/base",
      "model_module_version": "2.0.0",
      "model_name": "LayoutModel",
      "state": {}
     },
     "68ad6fd888b94f749e13edb90daf70ef": {
      "model_module": "@jupyter-widgets/controls",
      "model_module_version": "2.0.0",
      "model_name": "HTMLModel",
      "state": {
       "layout": "IPY_MODEL_00c22473b522412895b166691de96037",
       "style": "IPY_MODEL_c1b257194dcf4ed7998038da860bf498",
       "value": " 50/50 [00:04&lt;00:00, 12.28it/s]"
      }
     },
     "68f907e725f1415bb8d701136827cb03": {
      "model_module": "@jupyter-widgets/controls",
      "model_module_version": "2.0.0",
      "model_name": "FloatProgressModel",
      "state": {
       "layout": "IPY_MODEL_4870838aac7c4948a05fc4cab6773265",
       "max": 50,
       "style": "IPY_MODEL_fe1eef4473a647d294915de4513d175a",
       "value": 50
      }
     },
     "690e7c25b20b4e229938523c4ef17c7c": {
      "model_module": "@jupyter-widgets/base",
      "model_module_version": "2.0.0",
      "model_name": "LayoutModel",
      "state": {}
     },
     "69442fe9ff1240aaa18e3c9a49c76f01": {
      "model_module": "@jupyter-widgets/base",
      "model_module_version": "2.0.0",
      "model_name": "LayoutModel",
      "state": {}
     },
     "69514b7e6077498a893917ac28c183db": {
      "model_module": "@jupyter-widgets/base",
      "model_module_version": "2.0.0",
      "model_name": "LayoutModel",
      "state": {}
     },
     "6958522ce762450c8abc5ea070fb6af7": {
      "model_module": "@jupyter-widgets/controls",
      "model_module_version": "2.0.0",
      "model_name": "HTMLStyleModel",
      "state": {
       "description_width": "",
       "font_size": null,
       "text_color": null
      }
     },
     "696c03e674144af8a044bd10dbd04ca0": {
      "model_module": "@jupyter-widgets/controls",
      "model_module_version": "2.0.0",
      "model_name": "HTMLModel",
      "state": {
       "layout": "IPY_MODEL_a1848fe21074472a858e2fd2113bedcd",
       "style": "IPY_MODEL_48db67134f89401099381e845a203309",
       "value": "100%"
      }
     },
     "697432ca09ef4a818a7414cf43540235": {
      "model_module": "@jupyter-widgets/base",
      "model_module_version": "2.0.0",
      "model_name": "LayoutModel",
      "state": {}
     },
     "69d8f5a1967541378224000a2b571b5b": {
      "model_module": "@jupyter-widgets/base",
      "model_module_version": "2.0.0",
      "model_name": "LayoutModel",
      "state": {
       "visibility": "hidden"
      }
     },
     "69ed9769471b4355ac5fbdc10d2e6a5a": {
      "model_module": "@jupyter-widgets/controls",
      "model_module_version": "2.0.0",
      "model_name": "HTMLStyleModel",
      "state": {
       "description_width": "",
       "font_size": null,
       "text_color": null
      }
     },
     "6a31c0a74cae42268516e97478b8be20": {
      "model_module": "@jupyter-widgets/base",
      "model_module_version": "2.0.0",
      "model_name": "LayoutModel",
      "state": {}
     },
     "6a429d29d4584e78a2daa0f5c4bfb27e": {
      "model_module": "@jupyter-widgets/controls",
      "model_module_version": "2.0.0",
      "model_name": "FloatProgressModel",
      "state": {
       "layout": "IPY_MODEL_ad3e107f549b45cf838c5575de405f53",
       "max": 50,
       "style": "IPY_MODEL_b285c2ad982d45c4bab3b8e71f50f29b",
       "value": 50
      }
     },
     "6a5d8e35261c4b0fb7ea52f49577dcde": {
      "model_module": "@jupyter-widgets/controls",
      "model_module_version": "2.0.0",
      "model_name": "HTMLModel",
      "state": {
       "layout": "IPY_MODEL_aa98af3561dc4219a7f98c1723229b57",
       "style": "IPY_MODEL_1a0b4cca62df495190484923081d1799",
       "value": "100%"
      }
     },
     "6a7e2d18a29d495da96abb21b2e6fdf2": {
      "model_module": "@jupyter-widgets/base",
      "model_module_version": "2.0.0",
      "model_name": "LayoutModel",
      "state": {}
     },
     "6ad46948ff924d3d9a1f8050e836715b": {
      "model_module": "@jupyter-widgets/controls",
      "model_module_version": "2.0.0",
      "model_name": "HTMLModel",
      "state": {
       "layout": "IPY_MODEL_a4358f82c1404af8b7214783fe590c1c",
       "style": "IPY_MODEL_86c8176176c54e55a5822b40bf252beb",
       "value": " 50/50 [00:04&lt;00:00, 12.19it/s]"
      }
     },
     "6b2569879df04d10ab4c980ab3034653": {
      "model_module": "@jupyter-widgets/base",
      "model_module_version": "2.0.0",
      "model_name": "LayoutModel",
      "state": {}
     },
     "6bb895aca01f4ed984e9e035c58fdece": {
      "model_module": "@jupyter-widgets/controls",
      "model_module_version": "2.0.0",
      "model_name": "HTMLModel",
      "state": {
       "layout": "IPY_MODEL_1fdb7315948d4ecf8efa6631381cc00f",
       "style": "IPY_MODEL_861a58403cc3487eaa57d0846e70fb10",
       "value": "100%"
      }
     },
     "6be7e48e7cd8454ca7127cd5e27a9cdc": {
      "model_module": "@jupyter-widgets/base",
      "model_module_version": "2.0.0",
      "model_name": "LayoutModel",
      "state": {}
     },
     "6bf00a944c8e44ce9cdd959d25dec3e5": {
      "model_module": "@jupyter-widgets/controls",
      "model_module_version": "2.0.0",
      "model_name": "HTMLStyleModel",
      "state": {
       "description_width": "",
       "font_size": null,
       "text_color": null
      }
     },
     "6c3ab522fef6472b9cd7245ad44427d9": {
      "model_module": "@jupyter-widgets/controls",
      "model_module_version": "2.0.0",
      "model_name": "FloatProgressModel",
      "state": {
       "layout": "IPY_MODEL_0bed6044277a4d79899a10bbe76f248b",
       "max": 50,
       "style": "IPY_MODEL_3163af2250d0450483651984aa6c6ab0",
       "value": 50
      }
     },
     "6c79d43975a543cc9cb8221505b90aaf": {
      "model_module": "@jupyter-widgets/base",
      "model_module_version": "2.0.0",
      "model_name": "LayoutModel",
      "state": {}
     },
     "6cdcb7c429ee41f89416459d1e9e6e0e": {
      "model_module": "@jupyter-widgets/base",
      "model_module_version": "2.0.0",
      "model_name": "LayoutModel",
      "state": {}
     },
     "6d12516a240344e29db1391df795dc47": {
      "model_module": "@jupyter-widgets/base",
      "model_module_version": "2.0.0",
      "model_name": "LayoutModel",
      "state": {}
     },
     "6d2947f1a04043bba9b2f3943ac96ba0": {
      "model_module": "@jupyter-widgets/controls",
      "model_module_version": "2.0.0",
      "model_name": "HTMLStyleModel",
      "state": {
       "description_width": "",
       "font_size": null,
       "text_color": null
      }
     },
     "6d77eb6e41aa40e2a13c0c38bdca25e3": {
      "model_module": "@jupyter-widgets/controls",
      "model_module_version": "2.0.0",
      "model_name": "FloatProgressModel",
      "state": {
       "layout": "IPY_MODEL_9fff40d8c7a4497781ba06981c382d2b",
       "max": 50,
       "style": "IPY_MODEL_8088c4f73a7a4389a33843923106aaff",
       "value": 50
      }
     },
     "6dc0f25e1813432d984f164fcdb1d91a": {
      "model_module": "@jupyter-widgets/base",
      "model_module_version": "2.0.0",
      "model_name": "LayoutModel",
      "state": {
       "visibility": "hidden"
      }
     },
     "6dcf6579e6d8479db88337d63d6e95ea": {
      "model_module": "@jupyter-widgets/base",
      "model_module_version": "2.0.0",
      "model_name": "LayoutModel",
      "state": {
       "visibility": "hidden"
      }
     },
     "6e6e9e6300294b70a61e9f1aa275528e": {
      "model_module": "@jupyter-widgets/controls",
      "model_module_version": "2.0.0",
      "model_name": "HTMLModel",
      "state": {
       "layout": "IPY_MODEL_b05c8c8b88d64c9b9ac56995f87c4397",
       "style": "IPY_MODEL_acfd090cb7fb4966a45a9a3fc0f0209f",
       "value": "100%"
      }
     },
     "6eae9e196f63422b90711ad209da9ab1": {
      "model_module": "@jupyter-widgets/base",
      "model_module_version": "2.0.0",
      "model_name": "LayoutModel",
      "state": {}
     },
     "6f45cb681f9c4d36a1b5216fdd0a68fb": {
      "model_module": "@jupyter-widgets/controls",
      "model_module_version": "2.0.0",
      "model_name": "HTMLStyleModel",
      "state": {
       "description_width": "",
       "font_size": null,
       "text_color": null
      }
     },
     "6f6bad26630a42b8b41dc245439973cd": {
      "model_module": "@jupyter-widgets/controls",
      "model_module_version": "2.0.0",
      "model_name": "HTMLModel",
      "state": {
       "layout": "IPY_MODEL_0b98ce4300a047e29c7b969181dafb6c",
       "style": "IPY_MODEL_1c1b6deadc974f6aa5ea8ed42e5ed7b0",
       "value": "100%"
      }
     },
     "6f7b976d0f144959aa5f3844e535d0fd": {
      "model_module": "@jupyter-widgets/controls",
      "model_module_version": "2.0.0",
      "model_name": "HTMLModel",
      "state": {
       "layout": "IPY_MODEL_f754e7504df54394b262eb42b2df569f",
       "style": "IPY_MODEL_f68e56311d93407da333e96369c70181",
       "value": " 50/50 [00:05&lt;00:00, 12.00it/s]"
      }
     },
     "6f7de0b22d8e4d609340dc609c9b03f8": {
      "model_module": "@jupyter-widgets/controls",
      "model_module_version": "2.0.0",
      "model_name": "HTMLStyleModel",
      "state": {
       "description_width": "",
       "font_size": null,
       "text_color": null
      }
     },
     "6fc0bbab601e4f0c8a047d1fc92df766": {
      "model_module": "@jupyter-widgets/controls",
      "model_module_version": "2.0.0",
      "model_name": "HTMLStyleModel",
      "state": {
       "description_width": "",
       "font_size": null,
       "text_color": null
      }
     },
     "6fe4aab883754d8e98bd40a6adcbb9c0": {
      "model_module": "@jupyter-widgets/base",
      "model_module_version": "2.0.0",
      "model_name": "LayoutModel",
      "state": {}
     },
     "705164172a85460c93e147ce8b59e249": {
      "model_module": "@jupyter-widgets/controls",
      "model_module_version": "2.0.0",
      "model_name": "HTMLStyleModel",
      "state": {
       "description_width": "",
       "font_size": null,
       "text_color": null
      }
     },
     "709208aa8a4644b8b57b21910d56e8dc": {
      "model_module": "@jupyter-widgets/controls",
      "model_module_version": "2.0.0",
      "model_name": "FloatProgressModel",
      "state": {
       "layout": "IPY_MODEL_10419ceb118d4a3582b8ca38a47a55ba",
       "max": 50,
       "style": "IPY_MODEL_ebe7ad14751542afa0302f20c125f21d",
       "value": 50
      }
     },
     "70f8d7f559ee4b4bbbe136875dab0ea6": {
      "model_module": "@jupyter-widgets/base",
      "model_module_version": "2.0.0",
      "model_name": "LayoutModel",
      "state": {}
     },
     "712f871b101942aebb85d43de7ac9ac8": {
      "model_module": "@jupyter-widgets/controls",
      "model_module_version": "2.0.0",
      "model_name": "ProgressStyleModel",
      "state": {
       "description_width": ""
      }
     },
     "7131135091c14650ad47f4925be62d78": {
      "model_module": "@jupyter-widgets/controls",
      "model_module_version": "2.0.0",
      "model_name": "ProgressStyleModel",
      "state": {
       "description_width": ""
      }
     },
     "71cd9bbccbac40f395d9a8b6cb845a83": {
      "model_module": "@jupyter-widgets/controls",
      "model_module_version": "2.0.0",
      "model_name": "HTMLStyleModel",
      "state": {
       "description_width": "",
       "font_size": null,
       "text_color": null
      }
     },
     "71da283eeffd4353aa9d89b838ae1d92": {
      "model_module": "@jupyter-widgets/base",
      "model_module_version": "2.0.0",
      "model_name": "LayoutModel",
      "state": {}
     },
     "72326a2eb9c94c239e23336873360f60": {
      "model_module": "@jupyter-widgets/controls",
      "model_module_version": "2.0.0",
      "model_name": "HTMLStyleModel",
      "state": {
       "description_width": "",
       "font_size": null,
       "text_color": null
      }
     },
     "72923c8dc66d42d6a6f298af30c3a021": {
      "model_module": "@jupyter-widgets/controls",
      "model_module_version": "2.0.0",
      "model_name": "HTMLStyleModel",
      "state": {
       "description_width": "",
       "font_size": null,
       "text_color": null
      }
     },
     "72a7515d3bef4ab6bcc5f4996a0454eb": {
      "model_module": "@jupyter-widgets/base",
      "model_module_version": "2.0.0",
      "model_name": "LayoutModel",
      "state": {}
     },
     "73052eaa30564860af41534b2f2b92f7": {
      "model_module": "@jupyter-widgets/controls",
      "model_module_version": "2.0.0",
      "model_name": "HTMLStyleModel",
      "state": {
       "description_width": "",
       "font_size": null,
       "text_color": null
      }
     },
     "730908969f01441c8887bf2262d37332": {
      "model_module": "@jupyter-widgets/controls",
      "model_module_version": "2.0.0",
      "model_name": "FloatProgressModel",
      "state": {
       "layout": "IPY_MODEL_6fe4aab883754d8e98bd40a6adcbb9c0",
       "max": 50,
       "style": "IPY_MODEL_77b8118a9b9d4fb0b6a97529a5a89af0",
       "value": 50
      }
     },
     "739582ac6d124bfa81769a585917650b": {
      "model_module": "@jupyter-widgets/controls",
      "model_module_version": "2.0.0",
      "model_name": "HTMLStyleModel",
      "state": {
       "description_width": "",
       "font_size": null,
       "text_color": null
      }
     },
     "73e81ca7705342b0a322a94ecbf100bf": {
      "model_module": "@jupyter-widgets/controls",
      "model_module_version": "2.0.0",
      "model_name": "HTMLStyleModel",
      "state": {
       "description_width": "",
       "font_size": null,
       "text_color": null
      }
     },
     "74198bff31294b8e8247d47c80dab1b3": {
      "model_module": "@jupyter-widgets/base",
      "model_module_version": "2.0.0",
      "model_name": "LayoutModel",
      "state": {}
     },
     "743458ac5afd473483f14aae358f1fe6": {
      "model_module": "@jupyter-widgets/controls",
      "model_module_version": "2.0.0",
      "model_name": "HTMLStyleModel",
      "state": {
       "description_width": "",
       "font_size": null,
       "text_color": null
      }
     },
     "743f64305ee640378aef0eb704351779": {
      "model_module": "@jupyter-widgets/controls",
      "model_module_version": "2.0.0",
      "model_name": "ProgressStyleModel",
      "state": {
       "description_width": ""
      }
     },
     "746479bd3f3f4e648087c8edf20c88df": {
      "model_module": "@jupyter-widgets/controls",
      "model_module_version": "2.0.0",
      "model_name": "FloatProgressModel",
      "state": {
       "layout": "IPY_MODEL_ce5ef6e3cb2a48c0a9c502165d524fd5",
       "max": 50,
       "style": "IPY_MODEL_b8362071f3a543d1a3202fced213ef1e",
       "value": 50
      }
     },
     "7479075eb80f47998cd096b48c04cc7d": {
      "model_module": "@jupyter-widgets/controls",
      "model_module_version": "2.0.0",
      "model_name": "ProgressStyleModel",
      "state": {
       "description_width": ""
      }
     },
     "74a61c8867ec43a9bdc67c9333439299": {
      "model_module": "@jupyter-widgets/controls",
      "model_module_version": "2.0.0",
      "model_name": "FloatProgressModel",
      "state": {
       "bar_style": "success",
       "layout": "IPY_MODEL_32b1bc51c5ca4406845dcaf7a3262485",
       "max": 5,
       "style": "IPY_MODEL_a597de72bcc249ccb02fd31c83cfda73",
       "value": 5
      }
     },
     "74c79f6eb32844468822ba2b2b685dfb": {
      "model_module": "@jupyter-widgets/controls",
      "model_module_version": "2.0.0",
      "model_name": "HTMLModel",
      "state": {
       "layout": "IPY_MODEL_8c6135df026249669513c076b6f78144",
       "style": "IPY_MODEL_15e313363cef4f038870598bb19a52f1",
       "value": " 50/50 [00:04&lt;00:00, 12.12it/s]"
      }
     },
     "74dd5f8b575642918259c64624c0e7a9": {
      "model_module": "@jupyter-widgets/controls",
      "model_module_version": "2.0.0",
      "model_name": "HTMLModel",
      "state": {
       "layout": "IPY_MODEL_035966eddfa54b91a940e041b7707c6c",
       "style": "IPY_MODEL_b5436b102db347cfa442b1e2b8c0d345",
       "value": "100%"
      }
     },
     "74f1cdc933174a5aaf640f024af27907": {
      "model_module": "@jupyter-widgets/controls",
      "model_module_version": "2.0.0",
      "model_name": "ProgressStyleModel",
      "state": {
       "description_width": ""
      }
     },
     "75216c8fa28d4f719546818c43d4c245": {
      "model_module": "@jupyter-widgets/controls",
      "model_module_version": "2.0.0",
      "model_name": "HTMLModel",
      "state": {
       "layout": "IPY_MODEL_b4147109585a4a5c9ce5d75d473121f7",
       "style": "IPY_MODEL_5aad0de094c24a67845878c654ea8d6b",
       "value": "100%"
      }
     },
     "753541b5a35a45e89942e9fb638a02c8": {
      "model_module": "@jupyter-widgets/controls",
      "model_module_version": "2.0.0",
      "model_name": "HTMLStyleModel",
      "state": {
       "description_width": "",
       "font_size": null,
       "text_color": null
      }
     },
     "757371165bc14b3197286879ae539700": {
      "model_module": "@jupyter-widgets/controls",
      "model_module_version": "2.0.0",
      "model_name": "HTMLModel",
      "state": {
       "layout": "IPY_MODEL_fb4335c2cf914f9db42ec2e061484c6e",
       "style": "IPY_MODEL_d49fbc8d2887407e8853a9adce01f683",
       "value": " 50/50 [00:04&lt;00:00, 12.15it/s]"
      }
     },
     "75c9feeb392e4ee59a232269b1336133": {
      "model_module": "@jupyter-widgets/base",
      "model_module_version": "2.0.0",
      "model_name": "LayoutModel",
      "state": {}
     },
     "760a4334912b44f694cd75561b27ef23": {
      "model_module": "@jupyter-widgets/base",
      "model_module_version": "2.0.0",
      "model_name": "LayoutModel",
      "state": {}
     },
     "763cf8932ce74ffb9d0cf523367fd865": {
      "model_module": "@jupyter-widgets/controls",
      "model_module_version": "2.0.0",
      "model_name": "HTMLModel",
      "state": {
       "layout": "IPY_MODEL_1cbd06d2dcce4d62a8442f853368d01a",
       "style": "IPY_MODEL_cb0dd26a1bec471f8ad6af0ab523c21b",
       "value": " 50/50 [00:04&lt;00:00, 12.08it/s]"
      }
     },
     "7640f77c6d1c4018beea18bb32bf81a4": {
      "model_module": "@jupyter-widgets/controls",
      "model_module_version": "2.0.0",
      "model_name": "HTMLModel",
      "state": {
       "layout": "IPY_MODEL_3d12917b34d34bac8bd582533ed44424",
       "style": "IPY_MODEL_96410012e6f2472f994fdc086d8e27d1",
       "value": "100%"
      }
     },
     "7685f160d7e240658f1039314d6ffa08": {
      "model_module": "@jupyter-widgets/base",
      "model_module_version": "2.0.0",
      "model_name": "LayoutModel",
      "state": {
       "visibility": "hidden"
      }
     },
     "76963bf69ef741b1a3a4cd049bef79c6": {
      "model_module": "@jupyter-widgets/controls",
      "model_module_version": "2.0.0",
      "model_name": "ProgressStyleModel",
      "state": {
       "description_width": ""
      }
     },
     "769f5edab7934f1ba8677d21dc1e6ce4": {
      "model_module": "@jupyter-widgets/controls",
      "model_module_version": "2.0.0",
      "model_name": "FloatProgressModel",
      "state": {
       "layout": "IPY_MODEL_3284ed635c3f48a6b31012a40485d7ef",
       "max": 50,
       "style": "IPY_MODEL_0311390af1e54b03835316cc68f1ccdf",
       "value": 50
      }
     },
     "76b6ed53f0e9422a941f1b45db253877": {
      "model_module": "@jupyter-widgets/controls",
      "model_module_version": "2.0.0",
      "model_name": "HTMLModel",
      "state": {
       "layout": "IPY_MODEL_20c3dee6fe4247f19fbac0a4de1f6ae3",
       "style": "IPY_MODEL_f5ae4e01bbcd4bc3a75b7bf636242344",
       "value": "100%"
      }
     },
     "76b90613784f42c2870ff3e5ca1ecae9": {
      "model_module": "@jupyter-widgets/base",
      "model_module_version": "2.0.0",
      "model_name": "LayoutModel",
      "state": {}
     },
     "76fc9cc7077d4ef78bb494b71910e9eb": {
      "model_module": "@jupyter-widgets/base",
      "model_module_version": "2.0.0",
      "model_name": "LayoutModel",
      "state": {}
     },
     "77678d3f2da0484eb6265698c3e3954f": {
      "model_module": "@jupyter-widgets/controls",
      "model_module_version": "2.0.0",
      "model_name": "ProgressStyleModel",
      "state": {
       "description_width": ""
      }
     },
     "77b8118a9b9d4fb0b6a97529a5a89af0": {
      "model_module": "@jupyter-widgets/controls",
      "model_module_version": "2.0.0",
      "model_name": "ProgressStyleModel",
      "state": {
       "description_width": ""
      }
     },
     "784e814baa5646aebd94535be6e3bd60": {
      "model_module": "@jupyter-widgets/base",
      "model_module_version": "2.0.0",
      "model_name": "LayoutModel",
      "state": {}
     },
     "785affb8eb004373bd096a011d8a8e50": {
      "model_module": "@jupyter-widgets/controls",
      "model_module_version": "2.0.0",
      "model_name": "HTMLStyleModel",
      "state": {
       "description_width": "",
       "font_size": null,
       "text_color": null
      }
     },
     "78e3903070484fe2a8fc64d3c05f9204": {
      "model_module": "@jupyter-widgets/base",
      "model_module_version": "2.0.0",
      "model_name": "LayoutModel",
      "state": {
       "visibility": "hidden"
      }
     },
     "795996c4ea0b4bd8ae26e6e962a94dc6": {
      "model_module": "@jupyter-widgets/controls",
      "model_module_version": "2.0.0",
      "model_name": "HTMLModel",
      "state": {
       "layout": "IPY_MODEL_27a34653b9324be386e7b994e7a4b474",
       "style": "IPY_MODEL_73e81ca7705342b0a322a94ecbf100bf",
       "value": "100%"
      }
     },
     "796604efc6a64fa69794630cd67f7ad4": {
      "model_module": "@jupyter-widgets/base",
      "model_module_version": "2.0.0",
      "model_name": "LayoutModel",
      "state": {}
     },
     "796c8ba48762426e8d58147aba38e803": {
      "model_module": "@jupyter-widgets/controls",
      "model_module_version": "2.0.0",
      "model_name": "HTMLStyleModel",
      "state": {
       "description_width": "",
       "font_size": null,
       "text_color": null
      }
     },
     "7971446779614d389502f233ad285434": {
      "model_module": "@jupyter-widgets/controls",
      "model_module_version": "2.0.0",
      "model_name": "FloatProgressModel",
      "state": {
       "layout": "IPY_MODEL_29dd2de41705419cb7a0878555d35232",
       "max": 50,
       "style": "IPY_MODEL_6158a7bb1d804f43a94e23b1aac22c6b",
       "value": 50
      }
     },
     "79724b1851c04e9495b3ec4422ce7cda": {
      "model_module": "@jupyter-widgets/controls",
      "model_module_version": "2.0.0",
      "model_name": "HTMLStyleModel",
      "state": {
       "description_width": "",
       "font_size": null,
       "text_color": null
      }
     },
     "7972a80a5bb64420bd36a3b333ba1c5e": {
      "model_module": "@jupyter-widgets/controls",
      "model_module_version": "2.0.0",
      "model_name": "ProgressStyleModel",
      "state": {
       "description_width": ""
      }
     },
     "7981a814aa4a413b9d4babb15274344b": {
      "model_module": "@jupyter-widgets/controls",
      "model_module_version": "2.0.0",
      "model_name": "FloatProgressModel",
      "state": {
       "layout": "IPY_MODEL_3d5104f9304d4d969acb89871b312651",
       "max": 50,
       "style": "IPY_MODEL_dd387f1960fc4438ab98563cb483e9d3",
       "value": 50
      }
     },
     "79a5761069904d0b8940530b28c72b7f": {
      "model_module": "@jupyter-widgets/base",
      "model_module_version": "2.0.0",
      "model_name": "LayoutModel",
      "state": {}
     },
     "79a5de865ff84e3dbf7059d2824ea6a1": {
      "model_module": "@jupyter-widgets/controls",
      "model_module_version": "2.0.0",
      "model_name": "HTMLModel",
      "state": {
       "layout": "IPY_MODEL_54254ff451974493ac36096e57fe640f",
       "style": "IPY_MODEL_65c015bbccb649fab44840bfb596b111",
       "value": "100%"
      }
     },
     "79af9dffc4114deba6ee06461a995310": {
      "model_module": "@jupyter-widgets/controls",
      "model_module_version": "2.0.0",
      "model_name": "HTMLModel",
      "state": {
       "layout": "IPY_MODEL_93e3640c3fd44d159db6a9b00172d4e7",
       "style": "IPY_MODEL_efff91a157d44856a012fdd1217fb7af",
       "value": " 50/50 [00:06&lt;00:00,  8.30it/s]"
      }
     },
     "7a517dcfe3304fd9a409bd7078791e20": {
      "model_module": "@jupyter-widgets/base",
      "model_module_version": "2.0.0",
      "model_name": "LayoutModel",
      "state": {
       "visibility": "hidden"
      }
     },
     "7a98849e092b4a53bd9741fe30a95b5d": {
      "model_module": "@jupyter-widgets/base",
      "model_module_version": "2.0.0",
      "model_name": "LayoutModel",
      "state": {}
     },
     "7abafb58f3484ff8ad0a6c99bf999430": {
      "model_module": "@jupyter-widgets/base",
      "model_module_version": "2.0.0",
      "model_name": "LayoutModel",
      "state": {
       "visibility": "hidden"
      }
     },
     "7b22a909e18d4ae9a032109a4c2b15ca": {
      "model_module": "@jupyter-widgets/controls",
      "model_module_version": "2.0.0",
      "model_name": "HTMLStyleModel",
      "state": {
       "description_width": "",
       "font_size": null,
       "text_color": null
      }
     },
     "7b26c23eb4c64b52ad2b452b68df329d": {
      "model_module": "@jupyter-widgets/controls",
      "model_module_version": "2.0.0",
      "model_name": "HTMLModel",
      "state": {
       "layout": "IPY_MODEL_ec884daa0d12426486b443d54b66aefc",
       "style": "IPY_MODEL_69ed9769471b4355ac5fbdc10d2e6a5a",
       "value": " 50/50 [00:06&lt;00:00,  8.36it/s]"
      }
     },
     "7b95b47ac65f41918a7d612a9ce52a76": {
      "model_module": "@jupyter-widgets/base",
      "model_module_version": "2.0.0",
      "model_name": "LayoutModel",
      "state": {
       "visibility": "hidden"
      }
     },
     "7baf8e3e5fa24128a84527f0714f1d0a": {
      "model_module": "@jupyter-widgets/base",
      "model_module_version": "2.0.0",
      "model_name": "LayoutModel",
      "state": {}
     },
     "7bcc5c6e221946f5897b7923b9925298": {
      "model_module": "@jupyter-widgets/base",
      "model_module_version": "2.0.0",
      "model_name": "LayoutModel",
      "state": {}
     },
     "7be1b0825b36426a831738f06ccbbf17": {
      "model_module": "@jupyter-widgets/controls",
      "model_module_version": "2.0.0",
      "model_name": "HTMLModel",
      "state": {
       "layout": "IPY_MODEL_57e368c1e0ee4b8fbf3db2321ed4ad29",
       "style": "IPY_MODEL_e49912f6cc0c4f5cb1e3e53f14d629a6",
       "value": " 50/50 [00:04&lt;00:00, 12.01it/s]"
      }
     },
     "7bfdb8af192341c6812638c4b492ba23": {
      "model_module": "@jupyter-widgets/controls",
      "model_module_version": "2.0.0",
      "model_name": "ProgressStyleModel",
      "state": {
       "description_width": ""
      }
     },
     "7c21867179ad4c3cb752e0bae00e6e33": {
      "model_module": "@jupyter-widgets/controls",
      "model_module_version": "2.0.0",
      "model_name": "FloatProgressModel",
      "state": {
       "layout": "IPY_MODEL_4baff8b4ddda49ef8e0064b6eda04994",
       "max": 50,
       "style": "IPY_MODEL_8aa18774d25a4075b21d54d335e29728",
       "value": 50
      }
     },
     "7c41f494bd3b436ebd48b33fee867831": {
      "model_module": "@jupyter-widgets/controls",
      "model_module_version": "2.0.0",
      "model_name": "HTMLModel",
      "state": {
       "layout": "IPY_MODEL_1254c7ade73a4e31ab5a5174ce485d4b",
       "style": "IPY_MODEL_ea80f764dff44f2faf23304f1f4339c5",
       "value": " 50/50 [00:04&lt;00:00, 12.22it/s]"
      }
     },
     "7c5d306037ea4f81844624f57d275808": {
      "model_module": "@jupyter-widgets/controls",
      "model_module_version": "2.0.0",
      "model_name": "HTMLModel",
      "state": {
       "layout": "IPY_MODEL_b245203aecaa464195a4f100d6b989d2",
       "style": "IPY_MODEL_01611f762a6e4deb835802a0bfc2ded5",
       "value": "100%"
      }
     },
     "7c7071b021874b2196ea6f76cf5ea9c4": {
      "model_module": "@jupyter-widgets/controls",
      "model_module_version": "2.0.0",
      "model_name": "ProgressStyleModel",
      "state": {
       "description_width": ""
      }
     },
     "7c7ba67c1b4d4a6cac458b2507bacea2": {
      "model_module": "@jupyter-widgets/base",
      "model_module_version": "2.0.0",
      "model_name": "LayoutModel",
      "state": {}
     },
     "7c8b6ae5ca2946bbb869b3156b80bba2": {
      "model_module": "@jupyter-widgets/controls",
      "model_module_version": "2.0.0",
      "model_name": "HTMLModel",
      "state": {
       "layout": "IPY_MODEL_a7a72247120a418ea0478e6563c32467",
       "style": "IPY_MODEL_9b9e9a1c3117470a856168a6a272be51",
       "value": "100%"
      }
     },
     "7cb71fa1024a4236aae3fc5b69dd8a91": {
      "model_module": "@jupyter-widgets/controls",
      "model_module_version": "2.0.0",
      "model_name": "FloatProgressModel",
      "state": {
       "layout": "IPY_MODEL_8b6abde8226547ec8ce496dbe4fd39b1",
       "max": 50,
       "style": "IPY_MODEL_f3214e4417214ca6a296eed1b622d2e1",
       "value": 50
      }
     },
     "7cc430220eab4af396e32ac4557888b7": {
      "model_module": "@jupyter-widgets/base",
      "model_module_version": "2.0.0",
      "model_name": "LayoutModel",
      "state": {}
     },
     "7d265d5cf458409eaa1d6d0ab3834cb1": {
      "model_module": "@jupyter-widgets/controls",
      "model_module_version": "2.0.0",
      "model_name": "HTMLStyleModel",
      "state": {
       "description_width": "",
       "font_size": null,
       "text_color": null
      }
     },
     "7d45b30948ee4fa49de00612b0064939": {
      "model_module": "@jupyter-widgets/controls",
      "model_module_version": "2.0.0",
      "model_name": "HTMLStyleModel",
      "state": {
       "description_width": "",
       "font_size": null,
       "text_color": null
      }
     },
     "7d8738dd22f54e8f9b55d45b4f80ccd8": {
      "model_module": "@jupyter-widgets/controls",
      "model_module_version": "2.0.0",
      "model_name": "HTMLModel",
      "state": {
       "layout": "IPY_MODEL_7a98849e092b4a53bd9741fe30a95b5d",
       "style": "IPY_MODEL_796c8ba48762426e8d58147aba38e803",
       "value": " 50/50 [00:04&lt;00:00, 12.00it/s]"
      }
     },
     "7e07806640df498e9bc73a74452abd12": {
      "model_module": "@jupyter-widgets/controls",
      "model_module_version": "2.0.0",
      "model_name": "HTMLStyleModel",
      "state": {
       "description_width": "",
       "font_size": null,
       "text_color": null
      }
     },
     "7e1773b345e2469f8237dd98a7ed4e7d": {
      "model_module": "@jupyter-widgets/base",
      "model_module_version": "2.0.0",
      "model_name": "LayoutModel",
      "state": {}
     },
     "7e53f37aadf04a7fbef61b799068da58": {
      "model_module": "@jupyter-widgets/base",
      "model_module_version": "2.0.0",
      "model_name": "LayoutModel",
      "state": {}
     },
     "7e82e2c3456b435b98e37f88858605ce": {
      "model_module": "@jupyter-widgets/base",
      "model_module_version": "2.0.0",
      "model_name": "LayoutModel",
      "state": {
       "visibility": "hidden"
      }
     },
     "7f17632e8e7f40de8947d72c69cca1b3": {
      "model_module": "@jupyter-widgets/controls",
      "model_module_version": "2.0.0",
      "model_name": "HTMLStyleModel",
      "state": {
       "description_width": "",
       "font_size": null,
       "text_color": null
      }
     },
     "7f4505d02c764f5e9b9b198d5a342ef3": {
      "model_module": "@jupyter-widgets/base",
      "model_module_version": "2.0.0",
      "model_name": "LayoutModel",
      "state": {}
     },
     "7f732bfae16843968aebc8b3fd419df2": {
      "model_module": "@jupyter-widgets/controls",
      "model_module_version": "2.0.0",
      "model_name": "HTMLModel",
      "state": {
       "layout": "IPY_MODEL_925d373c8b2441a3a382dbbf947c2505",
       "style": "IPY_MODEL_f43f17fdaa0f48d285e1f7a04f77c12c",
       "value": " 50/50 [00:04&lt;00:00, 12.12it/s]"
      }
     },
     "7f774e2c358b4a168c7738ef20f63c0c": {
      "model_module": "@jupyter-widgets/base",
      "model_module_version": "2.0.0",
      "model_name": "LayoutModel",
      "state": {}
     },
     "7f985ab1ca504164a33df0cbdd1d5299": {
      "model_module": "@jupyter-widgets/controls",
      "model_module_version": "2.0.0",
      "model_name": "HTMLModel",
      "state": {
       "layout": "IPY_MODEL_9bf0653fdef24b5e80b3075692c9b11a",
       "style": "IPY_MODEL_03b33ec9024f4551a8e9e3f6b566af2f",
       "value": " 50/50 [00:04&lt;00:00, 12.17it/s]"
      }
     },
     "7faa29372f4a4eb1bf58e6dd7525e480": {
      "model_module": "@jupyter-widgets/base",
      "model_module_version": "2.0.0",
      "model_name": "LayoutModel",
      "state": {}
     },
     "7ff99a5408bc4dd5998962df7751b765": {
      "model_module": "@jupyter-widgets/controls",
      "model_module_version": "2.0.0",
      "model_name": "HTMLModel",
      "state": {
       "layout": "IPY_MODEL_e61c67bb10db4975aae61814ffd791c0",
       "style": "IPY_MODEL_80e447f9ab1b4c5ca5d2531bef4de8fe",
       "value": " 50/50 [00:04&lt;00:00, 12.16it/s]"
      }
     },
     "8088c4f73a7a4389a33843923106aaff": {
      "model_module": "@jupyter-widgets/controls",
      "model_module_version": "2.0.0",
      "model_name": "ProgressStyleModel",
      "state": {
       "description_width": ""
      }
     },
     "80a4b2b592f04c7c935b7e5c16854423": {
      "model_module": "@jupyter-widgets/controls",
      "model_module_version": "2.0.0",
      "model_name": "HTMLModel",
      "state": {
       "layout": "IPY_MODEL_e5daed238b5f44bf803939eb266a1b56",
       "style": "IPY_MODEL_283a9b97cdcf4bb08c22e75c598aa8b2",
       "value": " 49/50 [00:04&lt;00:00, 11.88it/s]"
      }
     },
     "80b29166bd874ff183dc9029e6ba4488": {
      "model_module": "@jupyter-widgets/controls",
      "model_module_version": "2.0.0",
      "model_name": "FloatProgressModel",
      "state": {
       "layout": "IPY_MODEL_ba9ccbdc66e2472788f1a9e749bff9ec",
       "max": 50,
       "style": "IPY_MODEL_a8657c76fb194d529b3b4997980842d1",
       "value": 50
      }
     },
     "80c5912582aa4dd3aa2ade2ff5193d4d": {
      "model_module": "@jupyter-widgets/base",
      "model_module_version": "2.0.0",
      "model_name": "LayoutModel",
      "state": {
       "visibility": "hidden"
      }
     },
     "80e447f9ab1b4c5ca5d2531bef4de8fe": {
      "model_module": "@jupyter-widgets/controls",
      "model_module_version": "2.0.0",
      "model_name": "HTMLStyleModel",
      "state": {
       "description_width": "",
       "font_size": null,
       "text_color": null
      }
     },
     "80ec78ef2289499ea48443ecd8793bd5": {
      "model_module": "@jupyter-widgets/base",
      "model_module_version": "2.0.0",
      "model_name": "LayoutModel",
      "state": {}
     },
     "810103108c4a4993b71508922f4e9211": {
      "model_module": "@jupyter-widgets/base",
      "model_module_version": "2.0.0",
      "model_name": "LayoutModel",
      "state": {}
     },
     "8162043ac1054e8fa9807a8f78f59afa": {
      "model_module": "@jupyter-widgets/controls",
      "model_module_version": "2.0.0",
      "model_name": "FloatProgressModel",
      "state": {
       "layout": "IPY_MODEL_796604efc6a64fa69794630cd67f7ad4",
       "max": 50,
       "style": "IPY_MODEL_069465051a3f4b90b3378b43172fdb9c",
       "value": 50
      }
     },
     "8187efd10a974190b69a3811fc29aa40": {
      "model_module": "@jupyter-widgets/base",
      "model_module_version": "2.0.0",
      "model_name": "LayoutModel",
      "state": {}
     },
     "82136bab14934ed4bf76a462f9fd2da5": {
      "model_module": "@jupyter-widgets/controls",
      "model_module_version": "2.0.0",
      "model_name": "FloatProgressModel",
      "state": {
       "layout": "IPY_MODEL_4f63271d464744949e2f68de758a402b",
       "max": 50,
       "style": "IPY_MODEL_a659c45aaa204a39a84fc9dae4800fd5",
       "value": 50
      }
     },
     "8260b0819b09427cac67ff87c2d8f625": {
      "model_module": "@jupyter-widgets/controls",
      "model_module_version": "2.0.0",
      "model_name": "FloatProgressModel",
      "state": {
       "layout": "IPY_MODEL_b0f947e06ef4417f8de071afe6293c99",
       "max": 50,
       "style": "IPY_MODEL_9d45160b11d045d0b5c3b1f4acd3e442",
       "value": 50
      }
     },
     "8284bb6027fb495b83f112d5afaa5ffd": {
      "model_module": "@jupyter-widgets/controls",
      "model_module_version": "2.0.0",
      "model_name": "HTMLStyleModel",
      "state": {
       "description_width": "",
       "font_size": null,
       "text_color": null
      }
     },
     "828802f9cce54e648d5a1cc23c57b736": {
      "model_module": "@jupyter-widgets/controls",
      "model_module_version": "2.0.0",
      "model_name": "HTMLModel",
      "state": {
       "layout": "IPY_MODEL_2eec452108d64d8fa3a9685d049a0575",
       "style": "IPY_MODEL_12e6123e336c4d8f81127255f6389b67",
       "value": "100%"
      }
     },
     "82ae2fbb1c394f8193716733f6cd41f5": {
      "model_module": "@jupyter-widgets/controls",
      "model_module_version": "2.0.0",
      "model_name": "ProgressStyleModel",
      "state": {
       "description_width": ""
      }
     },
     "82c566f046874c99a1b08f722d02230b": {
      "model_module": "@jupyter-widgets/controls",
      "model_module_version": "2.0.0",
      "model_name": "HTMLStyleModel",
      "state": {
       "description_width": "",
       "font_size": null,
       "text_color": null
      }
     },
     "831237f2d8bf491eaab241ef5ca118a5": {
      "model_module": "@jupyter-widgets/controls",
      "model_module_version": "2.0.0",
      "model_name": "HTMLModel",
      "state": {
       "layout": "IPY_MODEL_9187f6b43422425c877dc2678eda65bb",
       "style": "IPY_MODEL_1f015e11fe904e90a5f02bdca9f2f12c",
       "value": "100%"
      }
     },
     "832562f66d4d444fa62033ba8cc6330f": {
      "model_module": "@jupyter-widgets/controls",
      "model_module_version": "2.0.0",
      "model_name": "HTMLModel",
      "state": {
       "layout": "IPY_MODEL_845bd3f80b6848c3b463bd84b5bb19b2",
       "style": "IPY_MODEL_476b541440ae4fe88178b21341ace91b",
       "value": "100%"
      }
     },
     "83400658414d497cb70104fdbee13591": {
      "model_module": "@jupyter-widgets/controls",
      "model_module_version": "2.0.0",
      "model_name": "HTMLStyleModel",
      "state": {
       "description_width": "",
       "font_size": null,
       "text_color": null
      }
     },
     "8351b3db2ca541c3ac2cb6dc59ba3c5c": {
      "model_module": "@jupyter-widgets/controls",
      "model_module_version": "2.0.0",
      "model_name": "HTMLStyleModel",
      "state": {
       "description_width": "",
       "font_size": null,
       "text_color": null
      }
     },
     "8373bd12f01c4238ad343138c3a47145": {
      "model_module": "@jupyter-widgets/base",
      "model_module_version": "2.0.0",
      "model_name": "LayoutModel",
      "state": {}
     },
     "83ad97ab45974bbea50b2fd01f28757e": {
      "model_module": "@jupyter-widgets/controls",
      "model_module_version": "2.0.0",
      "model_name": "ProgressStyleModel",
      "state": {
       "description_width": ""
      }
     },
     "83e5802b6c7045fc9cb8216e1f333353": {
      "model_module": "@jupyter-widgets/base",
      "model_module_version": "2.0.0",
      "model_name": "LayoutModel",
      "state": {}
     },
     "83eb8e8c6785479586b2cc0f003a6c91": {
      "model_module": "@jupyter-widgets/controls",
      "model_module_version": "2.0.0",
      "model_name": "HTMLStyleModel",
      "state": {
       "description_width": "",
       "font_size": null,
       "text_color": null
      }
     },
     "845bd3f80b6848c3b463bd84b5bb19b2": {
      "model_module": "@jupyter-widgets/base",
      "model_module_version": "2.0.0",
      "model_name": "LayoutModel",
      "state": {}
     },
     "847de43ee7e04f7e9af0990c2d3d415e": {
      "model_module": "@jupyter-widgets/base",
      "model_module_version": "2.0.0",
      "model_name": "LayoutModel",
      "state": {}
     },
     "84a34a8ecc774c08b3c54a229bbae384": {
      "model_module": "@jupyter-widgets/controls",
      "model_module_version": "2.0.0",
      "model_name": "HTMLModel",
      "state": {
       "layout": "IPY_MODEL_b88dabd86eea4e0c9ccf795defe21277",
       "style": "IPY_MODEL_f798e86b89df4e0abb0bd04d6fc94ec7",
       "value": "100%"
      }
     },
     "84c0919828e942ca81fd257a314cbbda": {
      "model_module": "@jupyter-widgets/controls",
      "model_module_version": "2.0.0",
      "model_name": "ProgressStyleModel",
      "state": {
       "description_width": ""
      }
     },
     "84e97f0cb6da4a5bb4a36753315dfbca": {
      "model_module": "@jupyter-widgets/controls",
      "model_module_version": "2.0.0",
      "model_name": "FloatProgressModel",
      "state": {
       "layout": "IPY_MODEL_6eae9e196f63422b90711ad209da9ab1",
       "max": 50,
       "style": "IPY_MODEL_712f871b101942aebb85d43de7ac9ac8",
       "value": 50
      }
     },
     "856b3e36f04b4216b16f68039164f774": {
      "model_module": "@jupyter-widgets/controls",
      "model_module_version": "2.0.0",
      "model_name": "FloatProgressModel",
      "state": {
       "layout": "IPY_MODEL_ea06306b270544d09b82efc4672a78bd",
       "max": 50,
       "style": "IPY_MODEL_3a39c8dc57964587b10d846aa8784d34",
       "value": 50
      }
     },
     "859e71ef4940482696e2aba04b259cf4": {
      "model_module": "@jupyter-widgets/base",
      "model_module_version": "2.0.0",
      "model_name": "LayoutModel",
      "state": {
       "visibility": "hidden"
      }
     },
     "85b57fca67834597820337032c875854": {
      "model_module": "@jupyter-widgets/controls",
      "model_module_version": "2.0.0",
      "model_name": "HTMLModel",
      "state": {
       "layout": "IPY_MODEL_c0dc9db5d4ca4db39f0fb760ab6a3aac",
       "style": "IPY_MODEL_21b2cefbb301480ea03e596b0f455758",
       "value": " 50/50 [00:04&lt;00:00, 12.25it/s]"
      }
     },
     "85d8eb66b8734090a5fecd78f65dccb0": {
      "model_module": "@jupyter-widgets/controls",
      "model_module_version": "2.0.0",
      "model_name": "HTMLStyleModel",
      "state": {
       "description_width": "",
       "font_size": null,
       "text_color": null
      }
     },
     "85eb0171c6464d9f98ad0fda5d085a1f": {
      "model_module": "@jupyter-widgets/base",
      "model_module_version": "2.0.0",
      "model_name": "LayoutModel",
      "state": {}
     },
     "8619505a52f347efa887f5a455247866": {
      "model_module": "@jupyter-widgets/base",
      "model_module_version": "2.0.0",
      "model_name": "LayoutModel",
      "state": {
       "visibility": "hidden"
      }
     },
     "861a58403cc3487eaa57d0846e70fb10": {
      "model_module": "@jupyter-widgets/controls",
      "model_module_version": "2.0.0",
      "model_name": "HTMLStyleModel",
      "state": {
       "description_width": "",
       "font_size": null,
       "text_color": null
      }
     },
     "86219fdbe2554daa9b02af34bf05e141": {
      "model_module": "@jupyter-widgets/controls",
      "model_module_version": "2.0.0",
      "model_name": "HTMLStyleModel",
      "state": {
       "description_width": "",
       "font_size": null,
       "text_color": null
      }
     },
     "862646f22b204f85ac96e0d61a411267": {
      "model_module": "@jupyter-widgets/base",
      "model_module_version": "2.0.0",
      "model_name": "LayoutModel",
      "state": {
       "visibility": "hidden"
      }
     },
     "86a7bc3367894f95b242d67abd8b4a1d": {
      "model_module": "@jupyter-widgets/controls",
      "model_module_version": "2.0.0",
      "model_name": "HTMLStyleModel",
      "state": {
       "description_width": "",
       "font_size": null,
       "text_color": null
      }
     },
     "86c8176176c54e55a5822b40bf252beb": {
      "model_module": "@jupyter-widgets/controls",
      "model_module_version": "2.0.0",
      "model_name": "HTMLStyleModel",
      "state": {
       "description_width": "",
       "font_size": null,
       "text_color": null
      }
     },
     "86dee1740c6d45158b5386076a39af88": {
      "model_module": "@jupyter-widgets/base",
      "model_module_version": "2.0.0",
      "model_name": "LayoutModel",
      "state": {
       "visibility": "hidden"
      }
     },
     "879831df077b4b6ea3886b78af9cff9b": {
      "model_module": "@jupyter-widgets/controls",
      "model_module_version": "2.0.0",
      "model_name": "HTMLModel",
      "state": {
       "layout": "IPY_MODEL_cd9d6cbc85d6436a8f3fadb93a3fec3d",
       "style": "IPY_MODEL_0c536be6d0d148dcb2d95def1159adde",
       "value": " 50/50 [00:04&lt;00:00, 12.14it/s]"
      }
     },
     "87bbe92ec188404bb3609b032d96e08b": {
      "model_module": "@jupyter-widgets/controls",
      "model_module_version": "2.0.0",
      "model_name": "HTMLStyleModel",
      "state": {
       "description_width": "",
       "font_size": null,
       "text_color": null
      }
     },
     "87daa3cc2ea845f796a5716ad5af10a7": {
      "model_module": "@jupyter-widgets/base",
      "model_module_version": "2.0.0",
      "model_name": "LayoutModel",
      "state": {}
     },
     "87e054644f73454e821166b0aa7b6ace": {
      "model_module": "@jupyter-widgets/base",
      "model_module_version": "2.0.0",
      "model_name": "LayoutModel",
      "state": {}
     },
     "87fbe7ab48604a23a49230a9cfd01be0": {
      "model_module": "@jupyter-widgets/base",
      "model_module_version": "2.0.0",
      "model_name": "LayoutModel",
      "state": {
       "visibility": "hidden"
      }
     },
     "885fb2b2a9e64846a8b734958f4780b9": {
      "model_module": "@jupyter-widgets/controls",
      "model_module_version": "2.0.0",
      "model_name": "FloatProgressModel",
      "state": {
       "layout": "IPY_MODEL_7baf8e3e5fa24128a84527f0714f1d0a",
       "max": 1198,
       "style": "IPY_MODEL_b76fd9a2e28a4f7a859650839a84a0d1",
       "value": 1198
      }
     },
     "88ba6a4a07684fd297b8c03e3886779c": {
      "model_module": "@jupyter-widgets/base",
      "model_module_version": "2.0.0",
      "model_name": "LayoutModel",
      "state": {}
     },
     "88eb12536a50409fa134c707912ca83e": {
      "model_module": "@jupyter-widgets/controls",
      "model_module_version": "2.0.0",
      "model_name": "HTMLStyleModel",
      "state": {
       "description_width": "",
       "font_size": null,
       "text_color": null
      }
     },
     "88fb2a732ba44b44bc2c42f1d4f440c9": {
      "model_module": "@jupyter-widgets/base",
      "model_module_version": "2.0.0",
      "model_name": "LayoutModel",
      "state": {}
     },
     "8935200fccce45c08ff7859c5d44aaed": {
      "model_module": "@jupyter-widgets/controls",
      "model_module_version": "2.0.0",
      "model_name": "ProgressStyleModel",
      "state": {
       "description_width": ""
      }
     },
     "897624feba164309ba1272b80b564b48": {
      "model_module": "@jupyter-widgets/controls",
      "model_module_version": "2.0.0",
      "model_name": "ProgressStyleModel",
      "state": {
       "description_width": ""
      }
     },
     "8a48322154c141a4bc3bfcb9a7ad1e97": {
      "model_module": "@jupyter-widgets/controls",
      "model_module_version": "2.0.0",
      "model_name": "HTMLModel",
      "state": {
       "layout": "IPY_MODEL_70f8d7f559ee4b4bbbe136875dab0ea6",
       "style": "IPY_MODEL_a555fc380d8e4697865406af459a4038",
       "value": " 50/50 [00:06&lt;00:00,  8.17it/s]"
      }
     },
     "8aa18774d25a4075b21d54d335e29728": {
      "model_module": "@jupyter-widgets/controls",
      "model_module_version": "2.0.0",
      "model_name": "ProgressStyleModel",
      "state": {
       "description_width": ""
      }
     },
     "8ab53e6f067c43f08645991e1c34d5be": {
      "model_module": "@jupyter-widgets/controls",
      "model_module_version": "2.0.0",
      "model_name": "HTMLModel",
      "state": {
       "layout": "IPY_MODEL_41947b6928804849a274f620523102c7",
       "style": "IPY_MODEL_c358f2838935407291f445765c94c771",
       "value": " 50/50 [00:04&lt;00:00, 12.07it/s]"
      }
     },
     "8ae18a3150cf4185ad13b81e8bbb5f0d": {
      "model_module": "@jupyter-widgets/controls",
      "model_module_version": "2.0.0",
      "model_name": "HTMLModel",
      "state": {
       "layout": "IPY_MODEL_9fe796f45ed4448481b66aaf1f88002a",
       "style": "IPY_MODEL_25da8a1752a04cdda0a52c51435a1c44",
       "value": " 50/50 [00:06&lt;00:00,  8.33it/s]"
      }
     },
     "8b22a77d4b724887a2f89d1c726ba359": {
      "model_module": "@jupyter-widgets/controls",
      "model_module_version": "2.0.0",
      "model_name": "HTMLStyleModel",
      "state": {
       "description_width": "",
       "font_size": null,
       "text_color": null
      }
     },
     "8b2b4d7ba8c74b589d508961f57e5ca6": {
      "model_module": "@jupyter-widgets/base",
      "model_module_version": "2.0.0",
      "model_name": "LayoutModel",
      "state": {
       "visibility": "hidden"
      }
     },
     "8b6abde8226547ec8ce496dbe4fd39b1": {
      "model_module": "@jupyter-widgets/base",
      "model_module_version": "2.0.0",
      "model_name": "LayoutModel",
      "state": {}
     },
     "8b71049d9f504c4296131cf87ff110f8": {
      "model_module": "@jupyter-widgets/controls",
      "model_module_version": "2.0.0",
      "model_name": "ProgressStyleModel",
      "state": {
       "description_width": ""
      }
     },
     "8b79aae410a74bec8085cd75f845c190": {
      "model_module": "@jupyter-widgets/base",
      "model_module_version": "2.0.0",
      "model_name": "LayoutModel",
      "state": {}
     },
     "8b810fa7b7134dfdb96a3b363f6ccf4a": {
      "model_module": "@jupyter-widgets/controls",
      "model_module_version": "2.0.0",
      "model_name": "HTMLStyleModel",
      "state": {
       "description_width": "",
       "font_size": null,
       "text_color": null
      }
     },
     "8ba48778eb144191ab0caad8fe20d473": {
      "model_module": "@jupyter-widgets/controls",
      "model_module_version": "2.0.0",
      "model_name": "HTMLModel",
      "state": {
       "layout": "IPY_MODEL_e8662cf1e1e9481a887eba42e97be2a6",
       "style": "IPY_MODEL_6bf00a944c8e44ce9cdd959d25dec3e5",
       "value": "100%"
      }
     },
     "8c37a8528b344344a99d34ba92006064": {
      "model_module": "@jupyter-widgets/base",
      "model_module_version": "2.0.0",
      "model_name": "LayoutModel",
      "state": {}
     },
     "8c6135df026249669513c076b6f78144": {
      "model_module": "@jupyter-widgets/base",
      "model_module_version": "2.0.0",
      "model_name": "LayoutModel",
      "state": {}
     },
     "8c795c764e964022b9e0a2d1775b3bf3": {
      "model_module": "@jupyter-widgets/base",
      "model_module_version": "2.0.0",
      "model_name": "LayoutModel",
      "state": {
       "visibility": "hidden"
      }
     },
     "8c8f56ef174d4140800a8a0961c3492a": {
      "model_module": "@jupyter-widgets/base",
      "model_module_version": "2.0.0",
      "model_name": "LayoutModel",
      "state": {
       "visibility": "hidden"
      }
     },
     "8dbe9190c7bd4212b58faae441fe8428": {
      "model_module": "@jupyter-widgets/base",
      "model_module_version": "2.0.0",
      "model_name": "LayoutModel",
      "state": {}
     },
     "8e1ed6486987469789260a8996d4e190": {
      "model_module": "@jupyter-widgets/controls",
      "model_module_version": "2.0.0",
      "model_name": "HTMLModel",
      "state": {
       "layout": "IPY_MODEL_d4e98ef62d7844a78ab9fdbc7458af1a",
       "style": "IPY_MODEL_83eb8e8c6785479586b2cc0f003a6c91",
       "value": "100%"
      }
     },
     "8e3e6d5b53b74b60ba521a5c98e49a03": {
      "model_module": "@jupyter-widgets/controls",
      "model_module_version": "2.0.0",
      "model_name": "HTMLStyleModel",
      "state": {
       "description_width": "",
       "font_size": null,
       "text_color": null
      }
     },
     "8e70c8ad776a441b8a17c0dc8f5cd4e2": {
      "model_module": "@jupyter-widgets/base",
      "model_module_version": "2.0.0",
      "model_name": "LayoutModel",
      "state": {}
     },
     "8eb94584d488465fbfd2fcf9aadf25d7": {
      "model_module": "@jupyter-widgets/controls",
      "model_module_version": "2.0.0",
      "model_name": "FloatProgressModel",
      "state": {
       "layout": "IPY_MODEL_a343246d2b79423d8aaf104d257c5771",
       "max": 50,
       "style": "IPY_MODEL_53c8373028a146e0a7a791a1d126b96e",
       "value": 50
      }
     },
     "8f2f2f23518f4e519f7902a0a16b1f38": {
      "model_module": "@jupyter-widgets/controls",
      "model_module_version": "2.0.0",
      "model_name": "ProgressStyleModel",
      "state": {
       "description_width": ""
      }
     },
     "8f6832f16588495e87d355402b6825e8": {
      "model_module": "@jupyter-widgets/controls",
      "model_module_version": "2.0.0",
      "model_name": "FloatProgressModel",
      "state": {
       "layout": "IPY_MODEL_ab549cc83684492b94f6b26fceea8e46",
       "max": 50,
       "style": "IPY_MODEL_84c0919828e942ca81fd257a314cbbda",
       "value": 50
      }
     },
     "8f86986cc76b4d2c8aaff89af1f66198": {
      "model_module": "@jupyter-widgets/controls",
      "model_module_version": "2.0.0",
      "model_name": "HTMLStyleModel",
      "state": {
       "description_width": "",
       "font_size": null,
       "text_color": null
      }
     },
     "8fd4b782288c4431b2187bc12961846b": {
      "model_module": "@jupyter-widgets/controls",
      "model_module_version": "2.0.0",
      "model_name": "HTMLStyleModel",
      "state": {
       "description_width": "",
       "font_size": null,
       "text_color": null
      }
     },
     "8fed6eb963834c22aed538651f14ad2f": {
      "model_module": "@jupyter-widgets/base",
      "model_module_version": "2.0.0",
      "model_name": "LayoutModel",
      "state": {}
     },
     "905ef1b4a180472699bdc4d514b36f9b": {
      "model_module": "@jupyter-widgets/base",
      "model_module_version": "2.0.0",
      "model_name": "LayoutModel",
      "state": {}
     },
     "90c02993ed5346faad7f25bc9a9827af": {
      "model_module": "@jupyter-widgets/controls",
      "model_module_version": "2.0.0",
      "model_name": "HTMLModel",
      "state": {
       "layout": "IPY_MODEL_88ba6a4a07684fd297b8c03e3886779c",
       "style": "IPY_MODEL_6d2947f1a04043bba9b2f3943ac96ba0",
       "value": "100%"
      }
     },
     "910f1316c00f469fa42c229922ea2c22": {
      "model_module": "@jupyter-widgets/controls",
      "model_module_version": "2.0.0",
      "model_name": "ProgressStyleModel",
      "state": {
       "description_width": ""
      }
     },
     "912899012b4747588d9ead2ce24d68a1": {
      "model_module": "@jupyter-widgets/controls",
      "model_module_version": "2.0.0",
      "model_name": "HTMLModel",
      "state": {
       "layout": "IPY_MODEL_c62776dc07f748d4bf80a0b795bb5ec8",
       "style": "IPY_MODEL_6f45cb681f9c4d36a1b5216fdd0a68fb",
       "value": " 1198/1198 [05:50&lt;00:00,  5.83it/s]"
      }
     },
     "9187f6b43422425c877dc2678eda65bb": {
      "model_module": "@jupyter-widgets/base",
      "model_module_version": "2.0.0",
      "model_name": "LayoutModel",
      "state": {}
     },
     "91a10bbc85294ad18438480e75399254": {
      "model_module": "@jupyter-widgets/controls",
      "model_module_version": "2.0.0",
      "model_name": "FloatProgressModel",
      "state": {
       "layout": "IPY_MODEL_bda17baead504f2faed4d8e3b4c035de",
       "max": 50,
       "style": "IPY_MODEL_cc321b8917324031adc6316491ec9954",
       "value": 50
      }
     },
     "91e6254182794e299bf198fbaf4fcf21": {
      "model_module": "@jupyter-widgets/base",
      "model_module_version": "2.0.0",
      "model_name": "LayoutModel",
      "state": {}
     },
     "925d373c8b2441a3a382dbbf947c2505": {
      "model_module": "@jupyter-widgets/base",
      "model_module_version": "2.0.0",
      "model_name": "LayoutModel",
      "state": {}
     },
     "92d2383b553b4bba82f723272a82ef38": {
      "model_module": "@jupyter-widgets/base",
      "model_module_version": "2.0.0",
      "model_name": "LayoutModel",
      "state": {}
     },
     "930638c93938427f9248dbaf4a3df0e1": {
      "model_module": "@jupyter-widgets/controls",
      "model_module_version": "2.0.0",
      "model_name": "HTMLModel",
      "state": {
       "layout": "IPY_MODEL_d6e2b66da12341f5bd09383173c74a9e",
       "style": "IPY_MODEL_f5bdcfbf0f7d4c80b8781390432032c5",
       "value": " 50/50 [00:04&lt;00:00, 12.07it/s]"
      }
     },
     "9306586c7345420d9b20271adcc2931a": {
      "model_module": "@jupyter-widgets/controls",
      "model_module_version": "2.0.0",
      "model_name": "HTMLModel",
      "state": {
       "layout": "IPY_MODEL_91e6254182794e299bf198fbaf4fcf21",
       "style": "IPY_MODEL_28cf9ae74d784042a1395e66ef9b898b",
       "value": "100%"
      }
     },
     "93177279bc4a463e95d9ee3b8b0f2baa": {
      "model_module": "@jupyter-widgets/base",
      "model_module_version": "2.0.0",
      "model_name": "LayoutModel",
      "state": {}
     },
     "931abd6d42834ee995950980fa5b3608": {
      "model_module": "@jupyter-widgets/controls",
      "model_module_version": "2.0.0",
      "model_name": "FloatProgressModel",
      "state": {
       "layout": "IPY_MODEL_c454edf0fdc74f09a60f9ded6384ca14",
       "max": 50,
       "style": "IPY_MODEL_83ad97ab45974bbea50b2fd01f28757e",
       "value": 50
      }
     },
     "935651140e76403ab3a88261fe6f6573": {
      "model_module": "@jupyter-widgets/controls",
      "model_module_version": "2.0.0",
      "model_name": "HTMLModel",
      "state": {
       "layout": "IPY_MODEL_0bb411657c074b5a902a8a8590e62610",
       "style": "IPY_MODEL_785affb8eb004373bd096a011d8a8e50",
       "value": "100%"
      }
     },
     "93628d73079d46ce870032313a21845f": {
      "model_module": "@jupyter-widgets/base",
      "model_module_version": "2.0.0",
      "model_name": "LayoutModel",
      "state": {
       "visibility": "hidden"
      }
     },
     "936464ab0fe045068eb218e8beb81aa7": {
      "model_module": "@jupyter-widgets/base",
      "model_module_version": "2.0.0",
      "model_name": "LayoutModel",
      "state": {}
     },
     "93a4a056f8344c12b639deae5f1b757f": {
      "model_module": "@jupyter-widgets/controls",
      "model_module_version": "2.0.0",
      "model_name": "FloatProgressModel",
      "state": {
       "layout": "IPY_MODEL_5b65cda06ca643248fd501bf49e0c6e9",
       "max": 50,
       "style": "IPY_MODEL_e2e7078773e94ef4a78a0e05f21f8b1f",
       "value": 50
      }
     },
     "93b90da3a1374ded936a578bf9f2555d": {
      "model_module": "@jupyter-widgets/base",
      "model_module_version": "2.0.0",
      "model_name": "LayoutModel",
      "state": {}
     },
     "93e3640c3fd44d159db6a9b00172d4e7": {
      "model_module": "@jupyter-widgets/base",
      "model_module_version": "2.0.0",
      "model_name": "LayoutModel",
      "state": {}
     },
     "94328b96ff824e309c4b8d61f46d4cc5": {
      "model_module": "@jupyter-widgets/controls",
      "model_module_version": "2.0.0",
      "model_name": "HTMLModel",
      "state": {
       "layout": "IPY_MODEL_07c84b0c3baf477dba4160998ca8e03e",
       "style": "IPY_MODEL_cf40842c3a4345a0a404db6f3620d56c",
       "value": " 50/50 [00:04&lt;00:00, 12.13it/s]"
      }
     },
     "94e8c665873f4d48bdfa561d474a037e": {
      "model_module": "@jupyter-widgets/base",
      "model_module_version": "2.0.0",
      "model_name": "LayoutModel",
      "state": {}
     },
     "958e15b276454aa3b660b7e641976241": {
      "model_module": "@jupyter-widgets/controls",
      "model_module_version": "2.0.0",
      "model_name": "HTMLModel",
      "state": {
       "layout": "IPY_MODEL_c8716c6966eb45069ecb4aa4338aa469",
       "style": "IPY_MODEL_e2685e1db33f42b79cedbfa490577596",
       "value": " 50/50 [00:04&lt;00:00, 12.20it/s]"
      }
     },
     "95a8f6b1592c479283e860420a4c4408": {
      "model_module": "@jupyter-widgets/controls",
      "model_module_version": "2.0.0",
      "model_name": "HTMLStyleModel",
      "state": {
       "description_width": "",
       "font_size": null,
       "text_color": null
      }
     },
     "960e533a6faf471793fc4185da550178": {
      "model_module": "@jupyter-widgets/controls",
      "model_module_version": "2.0.0",
      "model_name": "ProgressStyleModel",
      "state": {
       "description_width": ""
      }
     },
     "96106c6c266e47b3b02207d7dbba80f5": {
      "model_module": "@jupyter-widgets/base",
      "model_module_version": "2.0.0",
      "model_name": "LayoutModel",
      "state": {}
     },
     "961baeb0ba9e4c379c0fda740a7b5055": {
      "model_module": "@jupyter-widgets/controls",
      "model_module_version": "2.0.0",
      "model_name": "HTMLModel",
      "state": {
       "layout": "IPY_MODEL_1049abf43cd14e3ba4e3878fa068bd81",
       "style": "IPY_MODEL_ecf04099e4324b319b402d7200fab85b",
       "value": " 50/50 [00:04&lt;00:00, 12.03it/s]"
      }
     },
     "96410012e6f2472f994fdc086d8e27d1": {
      "model_module": "@jupyter-widgets/controls",
      "model_module_version": "2.0.0",
      "model_name": "HTMLStyleModel",
      "state": {
       "description_width": "",
       "font_size": null,
       "text_color": null
      }
     },
     "965b5714430f454c9160509010cf8382": {
      "model_module": "@jupyter-widgets/controls",
      "model_module_version": "2.0.0",
      "model_name": "HTMLModel",
      "state": {
       "layout": "IPY_MODEL_9689728a21bf4134b28d3727f77aabf3",
       "style": "IPY_MODEL_b9e68c84d3704578aa09406a3aedbb25",
       "value": " 50/50 [00:04&lt;00:00, 12.15it/s]"
      }
     },
     "9665aa42d7fc4515985042b1fdc5a02d": {
      "model_module": "@jupyter-widgets/controls",
      "model_module_version": "2.0.0",
      "model_name": "HTMLModel",
      "state": {
       "layout": "IPY_MODEL_4e41eba0ba1e409dbd4c7d2ffdae2657",
       "style": "IPY_MODEL_09b5726cf2984e668410c1ff9b6d409e",
       "value": " 50/50 [00:04&lt;00:00, 12.21it/s]"
      }
     },
     "9689728a21bf4134b28d3727f77aabf3": {
      "model_module": "@jupyter-widgets/base",
      "model_module_version": "2.0.0",
      "model_name": "LayoutModel",
      "state": {}
     },
     "9737aa36b7ef442a9be56c880a5b7579": {
      "model_module": "@jupyter-widgets/base",
      "model_module_version": "2.0.0",
      "model_name": "LayoutModel",
      "state": {}
     },
     "976197ce37154e5f81f051cf9fd0ce66": {
      "model_module": "@jupyter-widgets/controls",
      "model_module_version": "2.0.0",
      "model_name": "ProgressStyleModel",
      "state": {
       "description_width": ""
      }
     },
     "98306ebae2f64d3aa1436b58db36138d": {
      "model_module": "@jupyter-widgets/base",
      "model_module_version": "2.0.0",
      "model_name": "LayoutModel",
      "state": {}
     },
     "983babd1177c4280a302c0b57dde0fd4": {
      "model_module": "@jupyter-widgets/controls",
      "model_module_version": "2.0.0",
      "model_name": "ProgressStyleModel",
      "state": {
       "description_width": ""
      }
     },
     "988810171eda4512b15ccfeedb9ab447": {
      "model_module": "@jupyter-widgets/base",
      "model_module_version": "2.0.0",
      "model_name": "LayoutModel",
      "state": {}
     },
     "98d89a48339b476fac6a6f5e314d7430": {
      "model_module": "@jupyter-widgets/base",
      "model_module_version": "2.0.0",
      "model_name": "LayoutModel",
      "state": {}
     },
     "98eb407a9f8744f5a09471e5214ff2e6": {
      "model_module": "@jupyter-widgets/controls",
      "model_module_version": "2.0.0",
      "model_name": "HTMLModel",
      "state": {
       "layout": "IPY_MODEL_4983c1fda7ae4628aca9517f54a3413a",
       "style": "IPY_MODEL_340d8e4ac96a4b099b27e9c1f51315fa",
       "value": "100%"
      }
     },
     "9909ef5b92ed480b94c59de1f16d04f1": {
      "model_module": "@jupyter-widgets/controls",
      "model_module_version": "2.0.0",
      "model_name": "HTMLStyleModel",
      "state": {
       "description_width": "",
       "font_size": null,
       "text_color": null
      }
     },
     "9942fc510e234afcaf306d7c5da6a5d8": {
      "model_module": "@jupyter-widgets/controls",
      "model_module_version": "2.0.0",
      "model_name": "HTMLModel",
      "state": {
       "layout": "IPY_MODEL_5f5d73f5ec21481fad2750eb38f0352c",
       "style": "IPY_MODEL_7f17632e8e7f40de8947d72c69cca1b3",
       "value": "100%"
      }
     },
     "9945949445f844029764b0ce19a215be": {
      "model_module": "@jupyter-widgets/controls",
      "model_module_version": "2.0.0",
      "model_name": "HTMLModel",
      "state": {
       "layout": "IPY_MODEL_e1003608fb3744749a3fe44043ca31cc",
       "style": "IPY_MODEL_c102e6f392cf49f2ad611307bd556179",
       "value": " 50/50 [00:04&lt;00:00, 12.26it/s]"
      }
     },
     "996453c7afaa455d9a2e98193e3d3f85": {
      "model_module": "@jupyter-widgets/base",
      "model_module_version": "2.0.0",
      "model_name": "LayoutModel",
      "state": {}
     },
     "9a35c352cff24fd59fca7a3e5abb4445": {
      "model_module": "@jupyter-widgets/controls",
      "model_module_version": "2.0.0",
      "model_name": "ProgressStyleModel",
      "state": {
       "description_width": ""
      }
     },
     "9afc60f4c60640d1b289ed2227494a3c": {
      "model_module": "@jupyter-widgets/controls",
      "model_module_version": "2.0.0",
      "model_name": "HTMLModel",
      "state": {
       "layout": "IPY_MODEL_7c7ba67c1b4d4a6cac458b2507bacea2",
       "style": "IPY_MODEL_b2919bb164f546d6a962efed4022dc7e",
       "value": "100%"
      }
     },
     "9b0191bc65db4ae9a1ae1177aefee66e": {
      "model_module": "@jupyter-widgets/controls",
      "model_module_version": "2.0.0",
      "model_name": "FloatProgressModel",
      "state": {
       "layout": "IPY_MODEL_554c6cce7cca40838c815a129b4a5408",
       "max": 50,
       "style": "IPY_MODEL_2c8991ceee45409683ef2ab3c8415cd5",
       "value": 50
      }
     },
     "9b22d76605ad471b9ece2bc24d2bcdf7": {
      "model_module": "@jupyter-widgets/controls",
      "model_module_version": "2.0.0",
      "model_name": "ProgressStyleModel",
      "state": {
       "description_width": ""
      }
     },
     "9b2e210a9584452b9071c819f54bc632": {
      "model_module": "@jupyter-widgets/controls",
      "model_module_version": "2.0.0",
      "model_name": "FloatProgressModel",
      "state": {
       "layout": "IPY_MODEL_6b2569879df04d10ab4c980ab3034653",
       "max": 50,
       "style": "IPY_MODEL_39ecfca0d7a6412a89e55245d0aafc44",
       "value": 50
      }
     },
     "9b36b186da7046909668f5e21929b66e": {
      "model_module": "@jupyter-widgets/base",
      "model_module_version": "2.0.0",
      "model_name": "LayoutModel",
      "state": {}
     },
     "9b9e9a1c3117470a856168a6a272be51": {
      "model_module": "@jupyter-widgets/controls",
      "model_module_version": "2.0.0",
      "model_name": "HTMLStyleModel",
      "state": {
       "description_width": "",
       "font_size": null,
       "text_color": null
      }
     },
     "9bb7ae280b494fb19e996330ef550be6": {
      "model_module": "@jupyter-widgets/base",
      "model_module_version": "2.0.0",
      "model_name": "LayoutModel",
      "state": {}
     },
     "9bf0653fdef24b5e80b3075692c9b11a": {
      "model_module": "@jupyter-widgets/base",
      "model_module_version": "2.0.0",
      "model_name": "LayoutModel",
      "state": {}
     },
     "9c3c348668534cd4bcedb993a4aca62a": {
      "model_module": "@jupyter-widgets/controls",
      "model_module_version": "2.0.0",
      "model_name": "FloatProgressModel",
      "state": {
       "layout": "IPY_MODEL_14b7f68c0839468e9ae3de3f1c06b047",
       "max": 50,
       "style": "IPY_MODEL_47218ae9e5ed4a6299dd6581a0858a07",
       "value": 50
      }
     },
     "9ca44849e02640b6abc699e9710fd40e": {
      "model_module": "@jupyter-widgets/controls",
      "model_module_version": "2.0.0",
      "model_name": "HTMLModel",
      "state": {
       "layout": "IPY_MODEL_b5836133f60a4eb8937192103833deb9",
       "style": "IPY_MODEL_e35819ed7bcc4205a79ea91d6ca66da9",
       "value": " 50/50 [00:04&lt;00:00, 12.08it/s]"
      }
     },
     "9cbfb3bfd273444392d8e9349ad1cafe": {
      "model_module": "@jupyter-widgets/base",
      "model_module_version": "2.0.0",
      "model_name": "LayoutModel",
      "state": {}
     },
     "9d1177a78c004d52ab4117de7ee1790f": {
      "model_module": "@jupyter-widgets/base",
      "model_module_version": "2.0.0",
      "model_name": "LayoutModel",
      "state": {}
     },
     "9d45160b11d045d0b5c3b1f4acd3e442": {
      "model_module": "@jupyter-widgets/controls",
      "model_module_version": "2.0.0",
      "model_name": "ProgressStyleModel",
      "state": {
       "description_width": ""
      }
     },
     "9d5b4ae9783e4277a6dfe3e9d1dbdcfa": {
      "model_module": "@jupyter-widgets/controls",
      "model_module_version": "2.0.0",
      "model_name": "ProgressStyleModel",
      "state": {
       "description_width": ""
      }
     },
     "9d703eea670544bd9c126c2be13b3692": {
      "model_module": "@jupyter-widgets/base",
      "model_module_version": "2.0.0",
      "model_name": "LayoutModel",
      "state": {}
     },
     "9d8a6d01aa744e70919e8c36d0659b5a": {
      "model_module": "@jupyter-widgets/controls",
      "model_module_version": "2.0.0",
      "model_name": "FloatProgressModel",
      "state": {
       "layout": "IPY_MODEL_2587f36dbe594030ac46ec61fb1572fc",
       "max": 50,
       "style": "IPY_MODEL_dab97056c0fd4c6ba5f2327f1a234bf1",
       "value": 50
      }
     },
     "9e0c36a4585846fc9942f9bcb521c8f2": {
      "model_module": "@jupyter-widgets/controls",
      "model_module_version": "2.0.0",
      "model_name": "HTMLModel",
      "state": {
       "layout": "IPY_MODEL_0ee5c0e25513439b8b36a9efe21743e2",
       "style": "IPY_MODEL_3bba92d18f174d58907b00176431c4f0",
       "value": " 50/50 [00:04&lt;00:00, 12.11it/s]"
      }
     },
     "9e382422c7934d73a6b2a57f7ba20cc3": {
      "model_module": "@jupyter-widgets/base",
      "model_module_version": "2.0.0",
      "model_name": "LayoutModel",
      "state": {}
     },
     "9e74e687d1644e7e980ce692955a606f": {
      "model_module": "@jupyter-widgets/base",
      "model_module_version": "2.0.0",
      "model_name": "LayoutModel",
      "state": {
       "visibility": "hidden"
      }
     },
     "9e990757c9514ed0947233c85e5d8433": {
      "model_module": "@jupyter-widgets/base",
      "model_module_version": "2.0.0",
      "model_name": "LayoutModel",
      "state": {
       "visibility": "hidden"
      }
     },
     "9f62bfb334334478ba5a5a5dab43ef05": {
      "model_module": "@jupyter-widgets/base",
      "model_module_version": "2.0.0",
      "model_name": "LayoutModel",
      "state": {}
     },
     "9f73dab1ab394e5c95978e7c8efca280": {
      "model_module": "@jupyter-widgets/controls",
      "model_module_version": "2.0.0",
      "model_name": "FloatProgressModel",
      "state": {
       "layout": "IPY_MODEL_93b90da3a1374ded936a578bf9f2555d",
       "max": 50,
       "style": "IPY_MODEL_3f62510307ce49ef92d7e3e8660fdfec",
       "value": 50
      }
     },
     "9fe796f45ed4448481b66aaf1f88002a": {
      "model_module": "@jupyter-widgets/base",
      "model_module_version": "2.0.0",
      "model_name": "LayoutModel",
      "state": {}
     },
     "9fea7924083c43e48750bac61b5bdb13": {
      "model_module": "@jupyter-widgets/base",
      "model_module_version": "2.0.0",
      "model_name": "LayoutModel",
      "state": {
       "visibility": "hidden"
      }
     },
     "9fff40d8c7a4497781ba06981c382d2b": {
      "model_module": "@jupyter-widgets/base",
      "model_module_version": "2.0.0",
      "model_name": "LayoutModel",
      "state": {}
     },
     "a0540a704f9649a58474e88a397e023f": {
      "model_module": "@jupyter-widgets/base",
      "model_module_version": "2.0.0",
      "model_name": "LayoutModel",
      "state": {}
     },
     "a0876f22fe0946df84c5b5e3b1376d0d": {
      "model_module": "@jupyter-widgets/controls",
      "model_module_version": "2.0.0",
      "model_name": "HTMLModel",
      "state": {
       "layout": "IPY_MODEL_cbe1d5b8b2934fc8a9b624af0f04e335",
       "style": "IPY_MODEL_14272837084c4480b8bf41e9b001f712",
       "value": "100%"
      }
     },
     "a089d8790efc48a5a7aefdc1484d72dc": {
      "model_module": "@jupyter-widgets/base",
      "model_module_version": "2.0.0",
      "model_name": "LayoutModel",
      "state": {
       "visibility": "hidden"
      }
     },
     "a095d83caaf84036abfc524397f853f7": {
      "model_module": "@jupyter-widgets/controls",
      "model_module_version": "2.0.0",
      "model_name": "HTMLStyleModel",
      "state": {
       "description_width": "",
       "font_size": null,
       "text_color": null
      }
     },
     "a0a5de2653dd47d0b551429a8d330717": {
      "model_module": "@jupyter-widgets/controls",
      "model_module_version": "2.0.0",
      "model_name": "HTMLStyleModel",
      "state": {
       "description_width": "",
       "font_size": null,
       "text_color": null
      }
     },
     "a0c1c1b307cb429a840783af2ae5624f": {
      "model_module": "@jupyter-widgets/controls",
      "model_module_version": "2.0.0",
      "model_name": "HTMLModel",
      "state": {
       "layout": "IPY_MODEL_9737aa36b7ef442a9be56c880a5b7579",
       "style": "IPY_MODEL_d373f61ebc2046cca4be56714c3a5369",
       "value": " 50/50 [00:04&lt;00:00, 12.17it/s]"
      }
     },
     "a0c2c10df6ac44698c1afd1ff0fe0f90": {
      "model_module": "@jupyter-widgets/controls",
      "model_module_version": "2.0.0",
      "model_name": "HTMLModel",
      "state": {
       "layout": "IPY_MODEL_41bd5f9a24674420b24981644081285c",
       "style": "IPY_MODEL_1f6fa15b80244f9486f40854e0e6c044",
       "value": " 98%"
      }
     },
     "a0c71065a11f4084852bada56fa0b147": {
      "model_module": "@jupyter-widgets/controls",
      "model_module_version": "2.0.0",
      "model_name": "ProgressStyleModel",
      "state": {
       "description_width": ""
      }
     },
     "a11759a1378a4f6cbd20aec51af78584": {
      "model_module": "@jupyter-widgets/base",
      "model_module_version": "2.0.0",
      "model_name": "LayoutModel",
      "state": {}
     },
     "a134ff5ef9a0400d96db42939706a4c4": {
      "model_module": "@jupyter-widgets/base",
      "model_module_version": "2.0.0",
      "model_name": "LayoutModel",
      "state": {}
     },
     "a13f608c70344078a2a49eb5d7c51383": {
      "model_module": "@jupyter-widgets/base",
      "model_module_version": "2.0.0",
      "model_name": "LayoutModel",
      "state": {}
     },
     "a1848fe21074472a858e2fd2113bedcd": {
      "model_module": "@jupyter-widgets/base",
      "model_module_version": "2.0.0",
      "model_name": "LayoutModel",
      "state": {}
     },
     "a1b994975bc14111b85bcd67d00743aa": {
      "model_module": "@jupyter-widgets/controls",
      "model_module_version": "2.0.0",
      "model_name": "FloatProgressModel",
      "state": {
       "layout": "IPY_MODEL_9d703eea670544bd9c126c2be13b3692",
       "max": 50,
       "style": "IPY_MODEL_dbad9c98cb2345bd8194b3894e7f6929",
       "value": 50
      }
     },
     "a1cceea46d2d45718d91ce27996068bd": {
      "model_module": "@jupyter-widgets/controls",
      "model_module_version": "2.0.0",
      "model_name": "HTMLStyleModel",
      "state": {
       "description_width": "",
       "font_size": null,
       "text_color": null
      }
     },
     "a1fd7016ff52429ca4f4b4be75247253": {
      "model_module": "@jupyter-widgets/base",
      "model_module_version": "2.0.0",
      "model_name": "LayoutModel",
      "state": {
       "visibility": "hidden"
      }
     },
     "a272fff07efe41bfafeaf1a52ca3f8e0": {
      "model_module": "@jupyter-widgets/base",
      "model_module_version": "2.0.0",
      "model_name": "LayoutModel",
      "state": {}
     },
     "a2751b3b00a741f981926c2de29841aa": {
      "model_module": "@jupyter-widgets/controls",
      "model_module_version": "2.0.0",
      "model_name": "FloatProgressModel",
      "state": {
       "layout": "IPY_MODEL_0a40d6d9cb8d491bbeb50a2bdaf80a52",
       "max": 50,
       "style": "IPY_MODEL_4dea3f4343b749a983733b87fdba6183",
       "value": 50
      }
     },
     "a28c0f02327e4daa8031e9b6be0a6f11": {
      "model_module": "@jupyter-widgets/base",
      "model_module_version": "2.0.0",
      "model_name": "LayoutModel",
      "state": {
       "visibility": "hidden"
      }
     },
     "a2ec03574fa045a1bff488fdfe463733": {
      "model_module": "@jupyter-widgets/base",
      "model_module_version": "2.0.0",
      "model_name": "LayoutModel",
      "state": {}
     },
     "a343246d2b79423d8aaf104d257c5771": {
      "model_module": "@jupyter-widgets/base",
      "model_module_version": "2.0.0",
      "model_name": "LayoutModel",
      "state": {}
     },
     "a34d26f68c684240bc7606d399c8c53d": {
      "model_module": "@jupyter-widgets/controls",
      "model_module_version": "2.0.0",
      "model_name": "HTMLStyleModel",
      "state": {
       "description_width": "",
       "font_size": null,
       "text_color": null
      }
     },
     "a34f2d5a28e448a5bbb70dc8ab4dc38c": {
      "model_module": "@jupyter-widgets/controls",
      "model_module_version": "2.0.0",
      "model_name": "HTMLStyleModel",
      "state": {
       "description_width": "",
       "font_size": null,
       "text_color": null
      }
     },
     "a36c550bc921489e8a051b63a19e8fda": {
      "model_module": "@jupyter-widgets/base",
      "model_module_version": "2.0.0",
      "model_name": "LayoutModel",
      "state": {}
     },
     "a37a8d9bcfb44d38b9fe297eff54a071": {
      "model_module": "@jupyter-widgets/base",
      "model_module_version": "2.0.0",
      "model_name": "LayoutModel",
      "state": {
       "visibility": "hidden"
      }
     },
     "a3954ac4eb024f8a9bb87832c5f72cac": {
      "model_module": "@jupyter-widgets/controls",
      "model_module_version": "2.0.0",
      "model_name": "ProgressStyleModel",
      "state": {
       "description_width": ""
      }
     },
     "a3a13fddb5164bfa862b49ac1208d8f9": {
      "model_module": "@jupyter-widgets/controls",
      "model_module_version": "2.0.0",
      "model_name": "HTMLModel",
      "state": {
       "layout": "IPY_MODEL_410a9f4a988749469197fe7b2cbdd955",
       "style": "IPY_MODEL_09c48934c48640a8aeecd184a4d07e46",
       "value": "100%"
      }
     },
     "a3cdb49e440d4197aab32a153fdc055e": {
      "model_module": "@jupyter-widgets/base",
      "model_module_version": "2.0.0",
      "model_name": "LayoutModel",
      "state": {
       "visibility": "hidden"
      }
     },
     "a3dd9f7be13246d2acac91b21c1c9a09": {
      "model_module": "@jupyter-widgets/controls",
      "model_module_version": "2.0.0",
      "model_name": "ProgressStyleModel",
      "state": {
       "description_width": ""
      }
     },
     "a428b976244b40a2a24c5fa39c3ba245": {
      "model_module": "@jupyter-widgets/base",
      "model_module_version": "2.0.0",
      "model_name": "LayoutModel",
      "state": {}
     },
     "a4358f82c1404af8b7214783fe590c1c": {
      "model_module": "@jupyter-widgets/base",
      "model_module_version": "2.0.0",
      "model_name": "LayoutModel",
      "state": {}
     },
     "a496f03609b74b859bb8a81101435f23": {
      "model_module": "@jupyter-widgets/controls",
      "model_module_version": "2.0.0",
      "model_name": "HTMLModel",
      "state": {
       "layout": "IPY_MODEL_76b90613784f42c2870ff3e5ca1ecae9",
       "style": "IPY_MODEL_88eb12536a50409fa134c707912ca83e",
       "value": "100%"
      }
     },
     "a5376c8c0c22487baae8ed3ac41a43ff": {
      "model_module": "@jupyter-widgets/controls",
      "model_module_version": "2.0.0",
      "model_name": "HTMLStyleModel",
      "state": {
       "description_width": "",
       "font_size": null,
       "text_color": null
      }
     },
     "a5434ecaa90f4b90b9a3aebf7e353378": {
      "model_module": "@jupyter-widgets/base",
      "model_module_version": "2.0.0",
      "model_name": "LayoutModel",
      "state": {
       "visibility": "hidden"
      }
     },
     "a555fc380d8e4697865406af459a4038": {
      "model_module": "@jupyter-widgets/controls",
      "model_module_version": "2.0.0",
      "model_name": "HTMLStyleModel",
      "state": {
       "description_width": "",
       "font_size": null,
       "text_color": null
      }
     },
     "a597de72bcc249ccb02fd31c83cfda73": {
      "model_module": "@jupyter-widgets/controls",
      "model_module_version": "2.0.0",
      "model_name": "ProgressStyleModel",
      "state": {
       "description_width": ""
      }
     },
     "a5abf662f56946e1ba77880d54d1ccbd": {
      "model_module": "@jupyter-widgets/controls",
      "model_module_version": "2.0.0",
      "model_name": "HTMLModel",
      "state": {
       "layout": "IPY_MODEL_cae375d2f3af4bf3bb9c1245a0caab85",
       "style": "IPY_MODEL_79724b1851c04e9495b3ec4422ce7cda",
       "value": " 50/50 [00:04&lt;00:00, 12.09it/s]"
      }
     },
     "a5c6e2a219fb44bcadc1eaf5d90cb0a6": {
      "model_module": "@jupyter-widgets/controls",
      "model_module_version": "2.0.0",
      "model_name": "FloatProgressModel",
      "state": {
       "layout": "IPY_MODEL_27f8e4a2e5ae4cdd9fc9f33acef81afc",
       "max": 50,
       "style": "IPY_MODEL_ca364e65596b47feb733a8a76ddd8d29",
       "value": 50
      }
     },
     "a5ff70a30db84a8fa93a201ec9702a75": {
      "model_module": "@jupyter-widgets/controls",
      "model_module_version": "2.0.0",
      "model_name": "HTMLStyleModel",
      "state": {
       "description_width": "",
       "font_size": null,
       "text_color": null
      }
     },
     "a659c45aaa204a39a84fc9dae4800fd5": {
      "model_module": "@jupyter-widgets/controls",
      "model_module_version": "2.0.0",
      "model_name": "ProgressStyleModel",
      "state": {
       "description_width": ""
      }
     },
     "a672a321ede04453af9ed082af641c19": {
      "model_module": "@jupyter-widgets/controls",
      "model_module_version": "2.0.0",
      "model_name": "HTMLStyleModel",
      "state": {
       "description_width": "",
       "font_size": null,
       "text_color": null
      }
     },
     "a67e55ba909c42d0a2936da8c2f664f4": {
      "model_module": "@jupyter-widgets/controls",
      "model_module_version": "2.0.0",
      "model_name": "ProgressStyleModel",
      "state": {
       "description_width": ""
      }
     },
     "a6a1c90854c84e518172a1b9d57e45da": {
      "model_module": "@jupyter-widgets/controls",
      "model_module_version": "2.0.0",
      "model_name": "FloatProgressModel",
      "state": {
       "layout": "IPY_MODEL_09f2c48dd354437fabb02d2bb9a2c82c",
       "max": 50,
       "style": "IPY_MODEL_4036f7f268f340a19e7fc8904d7b6610",
       "value": 50
      }
     },
     "a764d09fa21c46818ea01a4ebec1a309": {
      "model_module": "@jupyter-widgets/base",
      "model_module_version": "2.0.0",
      "model_name": "LayoutModel",
      "state": {
       "visibility": "hidden"
      }
     },
     "a7a72247120a418ea0478e6563c32467": {
      "model_module": "@jupyter-widgets/base",
      "model_module_version": "2.0.0",
      "model_name": "LayoutModel",
      "state": {}
     },
     "a7df4249f33b4b5499f362be6f5b53bb": {
      "model_module": "@jupyter-widgets/base",
      "model_module_version": "2.0.0",
      "model_name": "LayoutModel",
      "state": {}
     },
     "a7ebfb03954e4164897a56836dba189b": {
      "model_module": "@jupyter-widgets/controls",
      "model_module_version": "2.0.0",
      "model_name": "HTMLStyleModel",
      "state": {
       "description_width": "",
       "font_size": null,
       "text_color": null
      }
     },
     "a8657c76fb194d529b3b4997980842d1": {
      "model_module": "@jupyter-widgets/controls",
      "model_module_version": "2.0.0",
      "model_name": "ProgressStyleModel",
      "state": {
       "description_width": ""
      }
     },
     "a90e8417db7f4c67a11c52e4b3d99d95": {
      "model_module": "@jupyter-widgets/controls",
      "model_module_version": "2.0.0",
      "model_name": "HTMLModel",
      "state": {
       "layout": "IPY_MODEL_56b93102bc0d43d08d8dbe995895ec6e",
       "style": "IPY_MODEL_3ee5dcd7b28d4b23be3f6f2f77dc5f9c",
       "value": " 50/50 [00:04&lt;00:00, 12.13it/s]"
      }
     },
     "a9525edd13f54d45ba175d98a049b69d": {
      "model_module": "@jupyter-widgets/controls",
      "model_module_version": "2.0.0",
      "model_name": "HTMLModel",
      "state": {
       "layout": "IPY_MODEL_69442fe9ff1240aaa18e3c9a49c76f01",
       "style": "IPY_MODEL_358a77124a8242ffaf7d7f4d11b549c8",
       "value": " 50/50 [00:04&lt;00:00, 12.16it/s]"
      }
     },
     "a98e48163d4546daa741be998e57d212": {
      "model_module": "@jupyter-widgets/controls",
      "model_module_version": "2.0.0",
      "model_name": "HTMLModel",
      "state": {
       "layout": "IPY_MODEL_3b4caf8a52004aed8bff0f4040496f70",
       "style": "IPY_MODEL_c02ff9113f5144e0a60723a6a9889971",
       "value": " 98%"
      }
     },
     "a9b13b3ca7334d0e9d9f73648b424afc": {
      "model_module": "@jupyter-widgets/base",
      "model_module_version": "2.0.0",
      "model_name": "LayoutModel",
      "state": {}
     },
     "a9c3a51a4def48cf95d4a07d5d6e5cb2": {
      "model_module": "@jupyter-widgets/controls",
      "model_module_version": "2.0.0",
      "model_name": "HTMLModel",
      "state": {
       "layout": "IPY_MODEL_65cf728fe95f42cbbb148caae72957c7",
       "style": "IPY_MODEL_f003e799312a4c22abd50de0e6891f88",
       "value": " 50/50 [00:04&lt;00:00, 12.17it/s]"
      }
     },
     "aa17bdea125e4963ba95c88364b0e953": {
      "model_module": "@jupyter-widgets/controls",
      "model_module_version": "2.0.0",
      "model_name": "ProgressStyleModel",
      "state": {
       "description_width": ""
      }
     },
     "aa2bd3a82d594e55a9259819d2ff395b": {
      "model_module": "@jupyter-widgets/controls",
      "model_module_version": "2.0.0",
      "model_name": "HTMLModel",
      "state": {
       "layout": "IPY_MODEL_1b9c80d449c84a36a2e841e158600d66",
       "style": "IPY_MODEL_17c2a19a4b9f4f5b83f54a7192eee999",
       "value": "100%"
      }
     },
     "aa3597b7304f4f7c91ecf0a6289af3d6": {
      "model_module": "@jupyter-widgets/base",
      "model_module_version": "2.0.0",
      "model_name": "LayoutModel",
      "state": {
       "visibility": "hidden"
      }
     },
     "aa3c87248f59433391be8223caf9730c": {
      "model_module": "@jupyter-widgets/controls",
      "model_module_version": "2.0.0",
      "model_name": "HTMLStyleModel",
      "state": {
       "description_width": "",
       "font_size": null,
       "text_color": null
      }
     },
     "aa684b673f81498bbc1f529bbe5bb73b": {
      "model_module": "@jupyter-widgets/controls",
      "model_module_version": "2.0.0",
      "model_name": "HTMLModel",
      "state": {
       "layout": "IPY_MODEL_27e51515400a458e988b197e5331fc6f",
       "style": "IPY_MODEL_4d747a573cef436c965477c8c9045367",
       "value": " 50/50 [00:04&lt;00:00, 12.12it/s]"
      }
     },
     "aa884a68f67d48cfaca20526e7188340": {
      "model_module": "@jupyter-widgets/base",
      "model_module_version": "2.0.0",
      "model_name": "LayoutModel",
      "state": {}
     },
     "aa98af3561dc4219a7f98c1723229b57": {
      "model_module": "@jupyter-widgets/base",
      "model_module_version": "2.0.0",
      "model_name": "LayoutModel",
      "state": {}
     },
     "aaab241b3ffa48c0a87d560b88d4e41a": {
      "model_module": "@jupyter-widgets/controls",
      "model_module_version": "2.0.0",
      "model_name": "FloatProgressModel",
      "state": {
       "layout": "IPY_MODEL_09e358ecfd7c4112aaba1c1cc35f20eb",
       "max": 50,
       "style": "IPY_MODEL_12e4573377f24bc4b87f620c68b5d83e",
       "value": 50
      }
     },
     "aac0b6d8bcb2482d8c74076de5606c99": {
      "model_module": "@jupyter-widgets/controls",
      "model_module_version": "2.0.0",
      "model_name": "HTMLStyleModel",
      "state": {
       "description_width": "",
       "font_size": null,
       "text_color": null
      }
     },
     "aae1a27df4504e7b93ac789053b71899": {
      "model_module": "@jupyter-widgets/controls",
      "model_module_version": "2.0.0",
      "model_name": "HTMLModel",
      "state": {
       "layout": "IPY_MODEL_ed184bae88864408b618ac49cbe2222a",
       "style": "IPY_MODEL_c510cdd23208404b93330783a11f9a30",
       "value": "100%"
      }
     },
     "ab549cc83684492b94f6b26fceea8e46": {
      "model_module": "@jupyter-widgets/base",
      "model_module_version": "2.0.0",
      "model_name": "LayoutModel",
      "state": {}
     },
     "aba4a943a3904ee6895e95a93fb68814": {
      "model_module": "@jupyter-widgets/base",
      "model_module_version": "2.0.0",
      "model_name": "LayoutModel",
      "state": {}
     },
     "ac0d09db69094312b7b98651eada3fa0": {
      "model_module": "@jupyter-widgets/controls",
      "model_module_version": "2.0.0",
      "model_name": "ProgressStyleModel",
      "state": {
       "description_width": ""
      }
     },
     "ac643cb33d6a458c8f4d1300dd308873": {
      "model_module": "@jupyter-widgets/controls",
      "model_module_version": "2.0.0",
      "model_name": "ProgressStyleModel",
      "state": {
       "description_width": ""
      }
     },
     "ac940d44b7d14962aa1b4b9b6b21fe30": {
      "model_module": "@jupyter-widgets/controls",
      "model_module_version": "2.0.0",
      "model_name": "HTMLModel",
      "state": {
       "layout": "IPY_MODEL_697432ca09ef4a818a7414cf43540235",
       "style": "IPY_MODEL_ce240c17e30044f28d95cadecf2c517b",
       "value": "100%"
      }
     },
     "aca7361b64c24a56a03cc5be7b3c8daf": {
      "model_module": "@jupyter-widgets/controls",
      "model_module_version": "2.0.0",
      "model_name": "HTMLStyleModel",
      "state": {
       "description_width": "",
       "font_size": null,
       "text_color": null
      }
     },
     "acaefb05cf794afeae21d30e06e0ef5a": {
      "model_module": "@jupyter-widgets/controls",
      "model_module_version": "2.0.0",
      "model_name": "HTMLModel",
      "state": {
       "layout": "IPY_MODEL_ada0b6f2826c49d4bff253e595b3c6d3",
       "style": "IPY_MODEL_8e3e6d5b53b74b60ba521a5c98e49a03",
       "value": "100%"
      }
     },
     "acbd5c0da6d042199a60fd89fcad954a": {
      "model_module": "@jupyter-widgets/controls",
      "model_module_version": "2.0.0",
      "model_name": "ProgressStyleModel",
      "state": {
       "description_width": ""
      }
     },
     "acfd090cb7fb4966a45a9a3fc0f0209f": {
      "model_module": "@jupyter-widgets/controls",
      "model_module_version": "2.0.0",
      "model_name": "HTMLStyleModel",
      "state": {
       "description_width": "",
       "font_size": null,
       "text_color": null
      }
     },
     "ad3e107f549b45cf838c5575de405f53": {
      "model_module": "@jupyter-widgets/base",
      "model_module_version": "2.0.0",
      "model_name": "LayoutModel",
      "state": {}
     },
     "ada0b6f2826c49d4bff253e595b3c6d3": {
      "model_module": "@jupyter-widgets/base",
      "model_module_version": "2.0.0",
      "model_name": "LayoutModel",
      "state": {}
     },
     "adbc549175f7421d9b1c3e510301140e": {
      "model_module": "@jupyter-widgets/controls",
      "model_module_version": "2.0.0",
      "model_name": "ProgressStyleModel",
      "state": {
       "description_width": ""
      }
     },
     "adc8056b99dc400e957aa20cc500928f": {
      "model_module": "@jupyter-widgets/base",
      "model_module_version": "2.0.0",
      "model_name": "LayoutModel",
      "state": {}
     },
     "adf40008be0e42df874ad7809d562352": {
      "model_module": "@jupyter-widgets/base",
      "model_module_version": "2.0.0",
      "model_name": "LayoutModel",
      "state": {}
     },
     "ae07d55683924f3fa8309200fba0481f": {
      "model_module": "@jupyter-widgets/controls",
      "model_module_version": "2.0.0",
      "model_name": "ProgressStyleModel",
      "state": {
       "description_width": ""
      }
     },
     "ae326d8d98f046c3b8c0a532351b5b2e": {
      "model_module": "@jupyter-widgets/base",
      "model_module_version": "2.0.0",
      "model_name": "LayoutModel",
      "state": {
       "visibility": "hidden"
      }
     },
     "aeda1475e4464cf7b31901a4b381deb8": {
      "model_module": "@jupyter-widgets/controls",
      "model_module_version": "2.0.0",
      "model_name": "HTMLStyleModel",
      "state": {
       "description_width": "",
       "font_size": null,
       "text_color": null
      }
     },
     "aef8d796aaff435386be0be5e6da7a2c": {
      "model_module": "@jupyter-widgets/controls",
      "model_module_version": "2.0.0",
      "model_name": "FloatProgressModel",
      "state": {
       "layout": "IPY_MODEL_988810171eda4512b15ccfeedb9ab447",
       "max": 50,
       "style": "IPY_MODEL_d96ae26596314b7e84cfa0bf8ab3a833",
       "value": 50
      }
     },
     "af72628e662a43d6b97988ec8262a3df": {
      "model_module": "@jupyter-widgets/base",
      "model_module_version": "2.0.0",
      "model_name": "LayoutModel",
      "state": {
       "visibility": "hidden"
      }
     },
     "b02855dbb59d42b5a77cdc2729875fcd": {
      "model_module": "@jupyter-widgets/controls",
      "model_module_version": "2.0.0",
      "model_name": "HTMLModel",
      "state": {
       "layout": "IPY_MODEL_7faa29372f4a4eb1bf58e6dd7525e480",
       "style": "IPY_MODEL_2c5d014b660d48abbe2ecad4689eeb41",
       "value": " 50/50 [00:04&lt;00:00, 12.26it/s]"
      }
     },
     "b033c0f0a9db43eeb5286759fa1dccf7": {
      "model_module": "@jupyter-widgets/controls",
      "model_module_version": "2.0.0",
      "model_name": "HTMLModel",
      "state": {
       "layout": "IPY_MODEL_488c4a889c73432a89b8d58bb0df8b9d",
       "style": "IPY_MODEL_5bc66903abdf432eb580e7b93e9a9b68",
       "value": "100%"
      }
     },
     "b05c8c8b88d64c9b9ac56995f87c4397": {
      "model_module": "@jupyter-widgets/base",
      "model_module_version": "2.0.0",
      "model_name": "LayoutModel",
      "state": {}
     },
     "b067623fd0ba4aa3894ade155d0cbdf9": {
      "model_module": "@jupyter-widgets/base",
      "model_module_version": "2.0.0",
      "model_name": "LayoutModel",
      "state": {}
     },
     "b06f06610bf24427af805f4419b9d7a4": {
      "model_module": "@jupyter-widgets/base",
      "model_module_version": "2.0.0",
      "model_name": "LayoutModel",
      "state": {}
     },
     "b07b28cd7f3d48e9ba86f12ee84a0578": {
      "model_module": "@jupyter-widgets/base",
      "model_module_version": "2.0.0",
      "model_name": "LayoutModel",
      "state": {}
     },
     "b084c2f2114146f6968116b82f6cfc5f": {
      "model_module": "@jupyter-widgets/base",
      "model_module_version": "2.0.0",
      "model_name": "LayoutModel",
      "state": {}
     },
     "b08af8bcf0c64e2a984afa31bff72df6": {
      "model_module": "@jupyter-widgets/base",
      "model_module_version": "2.0.0",
      "model_name": "LayoutModel",
      "state": {}
     },
     "b0f947e06ef4417f8de071afe6293c99": {
      "model_module": "@jupyter-widgets/base",
      "model_module_version": "2.0.0",
      "model_name": "LayoutModel",
      "state": {}
     },
     "b0f97f9da1ef414fb9f34cf99e2801fb": {
      "model_module": "@jupyter-widgets/controls",
      "model_module_version": "2.0.0",
      "model_name": "FloatProgressModel",
      "state": {
       "layout": "IPY_MODEL_aba4a943a3904ee6895e95a93fb68814",
       "max": 50,
       "style": "IPY_MODEL_ac643cb33d6a458c8f4d1300dd308873",
       "value": 50
      }
     },
     "b1b37141df7e4d0582e22d1f4554ec2b": {
      "model_module": "@jupyter-widgets/controls",
      "model_module_version": "2.0.0",
      "model_name": "ProgressStyleModel",
      "state": {
       "description_width": ""
      }
     },
     "b1b58b5f0afc49b7ae1786c3796b3294": {
      "model_module": "@jupyter-widgets/base",
      "model_module_version": "2.0.0",
      "model_name": "LayoutModel",
      "state": {
       "visibility": "hidden"
      }
     },
     "b203e734b6944bca9511f02f47893838": {
      "model_module": "@jupyter-widgets/controls",
      "model_module_version": "2.0.0",
      "model_name": "HTMLModel",
      "state": {
       "layout": "IPY_MODEL_2859a9d2e01447c3ba8f6cc119d41932",
       "style": "IPY_MODEL_61df02d1acba4ea5a26fec670c14329a",
       "value": "100%"
      }
     },
     "b245203aecaa464195a4f100d6b989d2": {
      "model_module": "@jupyter-widgets/base",
      "model_module_version": "2.0.0",
      "model_name": "LayoutModel",
      "state": {}
     },
     "b25ba930aebb407b99eec5507b4de036": {
      "model_module": "@jupyter-widgets/controls",
      "model_module_version": "2.0.0",
      "model_name": "HTMLStyleModel",
      "state": {
       "description_width": "",
       "font_size": null,
       "text_color": null
      }
     },
     "b285c2ad982d45c4bab3b8e71f50f29b": {
      "model_module": "@jupyter-widgets/controls",
      "model_module_version": "2.0.0",
      "model_name": "ProgressStyleModel",
      "state": {
       "description_width": ""
      }
     },
     "b2919bb164f546d6a962efed4022dc7e": {
      "model_module": "@jupyter-widgets/controls",
      "model_module_version": "2.0.0",
      "model_name": "HTMLStyleModel",
      "state": {
       "description_width": "",
       "font_size": null,
       "text_color": null
      }
     },
     "b2ae06cbf4cf4cea850bd93a53db825c": {
      "model_module": "@jupyter-widgets/controls",
      "model_module_version": "2.0.0",
      "model_name": "HTMLModel",
      "state": {
       "layout": "IPY_MODEL_2c1a3f4d46d74e1b8fe20b70086af66c",
       "style": "IPY_MODEL_0efcb141edd840dda7816b630c1e966f",
       "value": " 1198/1198 [05:50&lt;00:00,  5.57it/s]"
      }
     },
     "b323a6d5ec4a4fdea2f35eb572f6887c": {
      "model_module": "@jupyter-widgets/base",
      "model_module_version": "2.0.0",
      "model_name": "LayoutModel",
      "state": {}
     },
     "b3c116b1189e43f7b68ec5bfdb6f0565": {
      "model_module": "@jupyter-widgets/controls",
      "model_module_version": "2.0.0",
      "model_name": "HTMLModel",
      "state": {
       "layout": "IPY_MODEL_605ab3568d76429481b410a45d57e8ed",
       "style": "IPY_MODEL_e4e3b4ddb2df47fb84ffe6834aaa3d8d",
       "value": " 50/50 [00:04&lt;00:00, 12.11it/s]"
      }
     },
     "b4147109585a4a5c9ce5d75d473121f7": {
      "model_module": "@jupyter-widgets/base",
      "model_module_version": "2.0.0",
      "model_name": "LayoutModel",
      "state": {}
     },
     "b44879d2581b4f5c96e11267b0c2e6a6": {
      "model_module": "@jupyter-widgets/base",
      "model_module_version": "2.0.0",
      "model_name": "LayoutModel",
      "state": {}
     },
     "b47ff13d68aa467d935d8315427ac86c": {
      "model_module": "@jupyter-widgets/controls",
      "model_module_version": "2.0.0",
      "model_name": "FloatProgressModel",
      "state": {
       "layout": "IPY_MODEL_c1a145504cb744c396a1079145cc4390",
       "max": 50,
       "style": "IPY_MODEL_ddb2c97059cf40fca5a5f0e69a8241cf",
       "value": 50
      }
     },
     "b4eb6182d5754e05b9e4da415f01b171": {
      "model_module": "@jupyter-widgets/controls",
      "model_module_version": "2.0.0",
      "model_name": "ProgressStyleModel",
      "state": {
       "description_width": ""
      }
     },
     "b4f00ec2a4664a17b76a6dd655934594": {
      "model_module": "@jupyter-widgets/base",
      "model_module_version": "2.0.0",
      "model_name": "LayoutModel",
      "state": {}
     },
     "b514504da4ef4b43bac36919c31cf089": {
      "model_module": "@jupyter-widgets/controls",
      "model_module_version": "2.0.0",
      "model_name": "HTMLStyleModel",
      "state": {
       "description_width": "",
       "font_size": null,
       "text_color": null
      }
     },
     "b5436b102db347cfa442b1e2b8c0d345": {
      "model_module": "@jupyter-widgets/controls",
      "model_module_version": "2.0.0",
      "model_name": "HTMLStyleModel",
      "state": {
       "description_width": "",
       "font_size": null,
       "text_color": null
      }
     },
     "b5836133f60a4eb8937192103833deb9": {
      "model_module": "@jupyter-widgets/base",
      "model_module_version": "2.0.0",
      "model_name": "LayoutModel",
      "state": {}
     },
     "b5922fceb8b3469382e190bae61ad5df": {
      "model_module": "@jupyter-widgets/controls",
      "model_module_version": "2.0.0",
      "model_name": "ProgressStyleModel",
      "state": {
       "description_width": ""
      }
     },
     "b5b73e19bc8c4648b692f5d876c3701a": {
      "model_module": "@jupyter-widgets/base",
      "model_module_version": "2.0.0",
      "model_name": "LayoutModel",
      "state": {}
     },
     "b62054371a0b4aaba2bac70245b40d16": {
      "model_module": "@jupyter-widgets/controls",
      "model_module_version": "2.0.0",
      "model_name": "HTMLModel",
      "state": {
       "layout": "IPY_MODEL_44cbc28e8bcc491099d1dd084a69ccbe",
       "style": "IPY_MODEL_09be000239af41f5ae35e7c859898765",
       "value": " 1198/1198 [05:50&lt;00:00,  5.76it/s]"
      }
     },
     "b6781a1a5440419094d46cd08b2a0224": {
      "model_module": "@jupyter-widgets/base",
      "model_module_version": "2.0.0",
      "model_name": "LayoutModel",
      "state": {}
     },
     "b6e36b25b84249e0879ae3fea157022f": {
      "model_module": "@jupyter-widgets/controls",
      "model_module_version": "2.0.0",
      "model_name": "ProgressStyleModel",
      "state": {
       "description_width": ""
      }
     },
     "b72dcbb3bbb84c70881e4a217a6e4e90": {
      "model_module": "@jupyter-widgets/controls",
      "model_module_version": "2.0.0",
      "model_name": "HTMLStyleModel",
      "state": {
       "description_width": "",
       "font_size": null,
       "text_color": null
      }
     },
     "b76e8405d9594b3c96bff81797769741": {
      "model_module": "@jupyter-widgets/controls",
      "model_module_version": "2.0.0",
      "model_name": "HTMLModel",
      "state": {
       "layout": "IPY_MODEL_31a9b7424dab4bc6bf441b02f17afff4",
       "style": "IPY_MODEL_95a8f6b1592c479283e860420a4c4408",
       "value": "100%"
      }
     },
     "b76fd9a2e28a4f7a859650839a84a0d1": {
      "model_module": "@jupyter-widgets/controls",
      "model_module_version": "2.0.0",
      "model_name": "ProgressStyleModel",
      "state": {
       "description_width": ""
      }
     },
     "b78be81572a0473089bd3f743e20b2ed": {
      "model_module": "@jupyter-widgets/base",
      "model_module_version": "2.0.0",
      "model_name": "LayoutModel",
      "state": {}
     },
     "b7b15c44f3094050914c41ed2212e1a3": {
      "model_module": "@jupyter-widgets/controls",
      "model_module_version": "2.0.0",
      "model_name": "HTMLStyleModel",
      "state": {
       "description_width": "",
       "font_size": null,
       "text_color": null
      }
     },
     "b7ddcdd05c6a401e87f9e10ec90ffcfa": {
      "model_module": "@jupyter-widgets/controls",
      "model_module_version": "2.0.0",
      "model_name": "HTMLModel",
      "state": {
       "layout": "IPY_MODEL_f19b8e873cd5406595030fdecba0a855",
       "style": "IPY_MODEL_3b786519293f4c99a39784c832f3ece0",
       "value": " 50/50 [00:04&lt;00:00, 11.92it/s]"
      }
     },
     "b7e9f04b7ef24992b81b0d03708809ac": {
      "model_module": "@jupyter-widgets/controls",
      "model_module_version": "2.0.0",
      "model_name": "HTMLModel",
      "state": {
       "layout": "IPY_MODEL_e567bd9c8b45480988a553299f910b61",
       "style": "IPY_MODEL_b7b15c44f3094050914c41ed2212e1a3",
       "value": "100%"
      }
     },
     "b81b45d66ead449c9e96ac813e5f05d9": {
      "model_module": "@jupyter-widgets/base",
      "model_module_version": "2.0.0",
      "model_name": "LayoutModel",
      "state": {}
     },
     "b8362071f3a543d1a3202fced213ef1e": {
      "model_module": "@jupyter-widgets/controls",
      "model_module_version": "2.0.0",
      "model_name": "ProgressStyleModel",
      "state": {
       "description_width": ""
      }
     },
     "b84594d328aa4bb6af2307170a2f1b62": {
      "model_module": "@jupyter-widgets/controls",
      "model_module_version": "2.0.0",
      "model_name": "FloatProgressModel",
      "state": {
       "layout": "IPY_MODEL_bea90c5596d74477a11d9d6cb4a69860",
       "max": 50,
       "style": "IPY_MODEL_1f612d14f2254df89ebfec97590489ad",
       "value": 50
      }
     },
     "b88dabd86eea4e0c9ccf795defe21277": {
      "model_module": "@jupyter-widgets/base",
      "model_module_version": "2.0.0",
      "model_name": "LayoutModel",
      "state": {}
     },
     "b8a728c7d324445da7d178cd5a75ee3d": {
      "model_module": "@jupyter-widgets/controls",
      "model_module_version": "2.0.0",
      "model_name": "FloatProgressModel",
      "state": {
       "layout": "IPY_MODEL_67c9e75490874b8289488947d2c4ba39",
       "max": 50,
       "style": "IPY_MODEL_7972a80a5bb64420bd36a3b333ba1c5e",
       "value": 50
      }
     },
     "b8dcc02b71e44fb89ed52b793de0e269": {
      "model_module": "@jupyter-widgets/controls",
      "model_module_version": "2.0.0",
      "model_name": "FloatProgressModel",
      "state": {
       "layout": "IPY_MODEL_a13f608c70344078a2a49eb5d7c51383",
       "max": 50,
       "style": "IPY_MODEL_33ebaa3ebec245ecbd2dcb9d5eabe110",
       "value": 50
      }
     },
     "b8dcded410b743d5a88ce27c2f02ebd6": {
      "model_module": "@jupyter-widgets/controls",
      "model_module_version": "2.0.0",
      "model_name": "HTMLModel",
      "state": {
       "layout": "IPY_MODEL_5b45d9c90edb46abbabb71a120b8bf39",
       "style": "IPY_MODEL_1e6b4d4c682e47fb88045cee0b47b1fa",
       "value": "100%"
      }
     },
     "b8f02f177ce7498888945b189d43648b": {
      "model_module": "@jupyter-widgets/controls",
      "model_module_version": "2.0.0",
      "model_name": "FloatProgressModel",
      "state": {
       "layout": "IPY_MODEL_fbf2140977ed405a8167f895cbd4dbef",
       "max": 50,
       "style": "IPY_MODEL_c4dc2b6594694f6082d6cb54dc961e18",
       "value": 50
      }
     },
     "b8f9c2f72b2f46ec818bbc9bcf8a1c23": {
      "model_module": "@jupyter-widgets/controls",
      "model_module_version": "2.0.0",
      "model_name": "HTMLStyleModel",
      "state": {
       "description_width": "",
       "font_size": null,
       "text_color": null
      }
     },
     "b9171bd47b6b4dd2897dabb3b265adbd": {
      "model_module": "@jupyter-widgets/controls",
      "model_module_version": "2.0.0",
      "model_name": "HTMLStyleModel",
      "state": {
       "description_width": "",
       "font_size": null,
       "text_color": null
      }
     },
     "b9899b99084b44a1a1fb164d2fbe4b87": {
      "model_module": "@jupyter-widgets/controls",
      "model_module_version": "2.0.0",
      "model_name": "HTMLModel",
      "state": {
       "layout": "IPY_MODEL_0fdbb76e298840298b9459ab6a59300d",
       "style": "IPY_MODEL_5f116981cfb349349c0a776488fe212f",
       "value": " 50/50 [00:04&lt;00:00, 12.18it/s]"
      }
     },
     "b9b8009a1f36424ca87cf3dcd82a7830": {
      "model_module": "@jupyter-widgets/base",
      "model_module_version": "2.0.0",
      "model_name": "LayoutModel",
      "state": {
       "visibility": "hidden"
      }
     },
     "b9d1936790da42959827b17ea3f9bfdb": {
      "model_module": "@jupyter-widgets/controls",
      "model_module_version": "2.0.0",
      "model_name": "HTMLStyleModel",
      "state": {
       "description_width": "",
       "font_size": null,
       "text_color": null
      }
     },
     "b9e68c84d3704578aa09406a3aedbb25": {
      "model_module": "@jupyter-widgets/controls",
      "model_module_version": "2.0.0",
      "model_name": "HTMLStyleModel",
      "state": {
       "description_width": "",
       "font_size": null,
       "text_color": null
      }
     },
     "b9f2581e65da4b24835d52da28a732b0": {
      "model_module": "@jupyter-widgets/controls",
      "model_module_version": "2.0.0",
      "model_name": "HTMLModel",
      "state": {
       "layout": "IPY_MODEL_46819195adce4e719b6f6ac1774388e4",
       "style": "IPY_MODEL_8b810fa7b7134dfdb96a3b363f6ccf4a",
       "value": "100%"
      }
     },
     "b9fe25c02e424e7095345c828f8d6382": {
      "model_module": "@jupyter-widgets/base",
      "model_module_version": "2.0.0",
      "model_name": "LayoutModel",
      "state": {}
     },
     "ba17c3b2894a42c5affaec1fd1eb8e6d": {
      "model_module": "@jupyter-widgets/controls",
      "model_module_version": "2.0.0",
      "model_name": "HTMLModel",
      "state": {
       "layout": "IPY_MODEL_defd007abccd4eb59cb870f6863689d9",
       "style": "IPY_MODEL_aca7361b64c24a56a03cc5be7b3c8daf",
       "value": "100%"
      }
     },
     "ba40774eb28349f4ab94726cf2f28165": {
      "model_module": "@jupyter-widgets/controls",
      "model_module_version": "2.0.0",
      "model_name": "FloatProgressModel",
      "state": {
       "layout": "IPY_MODEL_bcd9f815d952468f84609b704b5a0d6f",
       "max": 50,
       "style": "IPY_MODEL_5c7ff9dafa814bfab61e2949eae1e1d2",
       "value": 50
      }
     },
     "ba9ccbdc66e2472788f1a9e749bff9ec": {
      "model_module": "@jupyter-widgets/base",
      "model_module_version": "2.0.0",
      "model_name": "LayoutModel",
      "state": {}
     },
     "babfb46026234b4999567f7f555284c8": {
      "model_module": "@jupyter-widgets/base",
      "model_module_version": "2.0.0",
      "model_name": "LayoutModel",
      "state": {}
     },
     "baf209f279c54fa6a6f7c2cc32414200": {
      "model_module": "@jupyter-widgets/base",
      "model_module_version": "2.0.0",
      "model_name": "LayoutModel",
      "state": {}
     },
     "bb0e5a1835ac4cc48c4ec8a74495d65e": {
      "model_module": "@jupyter-widgets/controls",
      "model_module_version": "2.0.0",
      "model_name": "FloatProgressModel",
      "state": {
       "layout": "IPY_MODEL_996453c7afaa455d9a2e98193e3d3f85",
       "max": 50,
       "style": "IPY_MODEL_1b9bcdc7a23d4f6d86b9a8c4df103771",
       "value": 50
      }
     },
     "bb4eaa07e1dd4d298e4aa5e0311a7f38": {
      "model_module": "@jupyter-widgets/controls",
      "model_module_version": "2.0.0",
      "model_name": "ProgressStyleModel",
      "state": {
       "description_width": ""
      }
     },
     "bb95a4e78e2b453e8fecca94de3f8019": {
      "model_module": "@jupyter-widgets/controls",
      "model_module_version": "2.0.0",
      "model_name": "HTMLStyleModel",
      "state": {
       "description_width": "",
       "font_size": null,
       "text_color": null
      }
     },
     "bbf4778b4fc24689b17a67e8eb03bbd6": {
      "model_module": "@jupyter-widgets/controls",
      "model_module_version": "2.0.0",
      "model_name": "HTMLModel",
      "state": {
       "layout": "IPY_MODEL_85eb0171c6464d9f98ad0fda5d085a1f",
       "style": "IPY_MODEL_c8da3fb353a444a1bbe07fddffba95b7",
       "value": "100%"
      }
     },
     "bc879ad4e32c4dc490807a40f24fd75a": {
      "model_module": "@jupyter-widgets/controls",
      "model_module_version": "2.0.0",
      "model_name": "FloatProgressModel",
      "state": {
       "layout": "IPY_MODEL_1490fefad9714a3083817ff560702b7a",
       "max": 50,
       "style": "IPY_MODEL_587f7bc2f483490e93a58de53ecefe2c",
       "value": 50
      }
     },
     "bc8bc2d29519423fb3bee4e28c866400": {
      "model_module": "@jupyter-widgets/controls",
      "model_module_version": "2.0.0",
      "model_name": "HTMLStyleModel",
      "state": {
       "description_width": "",
       "font_size": null,
       "text_color": null
      }
     },
     "bc8cab43e2c047668dc22b29852ae0c9": {
      "model_module": "@jupyter-widgets/controls",
      "model_module_version": "2.0.0",
      "model_name": "FloatProgressModel",
      "state": {
       "layout": "IPY_MODEL_b067623fd0ba4aa3894ade155d0cbdf9",
       "max": 1198,
       "style": "IPY_MODEL_244cfddca8c948da90f3250aad6b8cde",
       "value": 1198
      }
     },
     "bcb159e673554f72ba563fc591be58ed": {
      "model_module": "@jupyter-widgets/controls",
      "model_module_version": "2.0.0",
      "model_name": "HTMLModel",
      "state": {
       "layout": "IPY_MODEL_3036d55b96764e188dbfc60e7ecaac24",
       "style": "IPY_MODEL_d1332a456f404d569e5b07384a4407a2",
       "value": " 50/50 [00:04&lt;00:00, 11.90it/s]"
      }
     },
     "bccab787756c4869833be9910687550a": {
      "model_module": "@jupyter-widgets/controls",
      "model_module_version": "2.0.0",
      "model_name": "FloatProgressModel",
      "state": {
       "layout": "IPY_MODEL_1cb672e63e144b2d9139fe8fb3dc2dd4",
       "max": 50,
       "style": "IPY_MODEL_743f64305ee640378aef0eb704351779",
       "value": 50
      }
     },
     "bcd9f815d952468f84609b704b5a0d6f": {
      "model_module": "@jupyter-widgets/base",
      "model_module_version": "2.0.0",
      "model_name": "LayoutModel",
      "state": {}
     },
     "bd56f6e5c4954cdc9b0a08cac4dcb58b": {
      "model_module": "@jupyter-widgets/controls",
      "model_module_version": "2.0.0",
      "model_name": "HTMLModel",
      "state": {
       "layout": "IPY_MODEL_298ec396394f4b7ea9ccffb30cfd329c",
       "style": "IPY_MODEL_83400658414d497cb70104fdbee13591",
       "value": " 50/50 [00:04&lt;00:00, 12.12it/s]"
      }
     },
     "bda17baead504f2faed4d8e3b4c035de": {
      "model_module": "@jupyter-widgets/base",
      "model_module_version": "2.0.0",
      "model_name": "LayoutModel",
      "state": {}
     },
     "bdc138397884488087050336298e54be": {
      "model_module": "@jupyter-widgets/controls",
      "model_module_version": "2.0.0",
      "model_name": "HTMLStyleModel",
      "state": {
       "description_width": "",
       "font_size": null,
       "text_color": null
      }
     },
     "be2538d1dcf644cb97ac8ba3e9236bb6": {
      "model_module": "@jupyter-widgets/controls",
      "model_module_version": "2.0.0",
      "model_name": "FloatProgressModel",
      "state": {
       "layout": "IPY_MODEL_36b1b4edb4b247008f0c98174de9aef9",
       "max": 50,
       "style": "IPY_MODEL_db40cd90994c4cd99b440b6150b8715f",
       "value": 50
      }
     },
     "bea8b2b63d9142d8885cc694c1e05552": {
      "model_module": "@jupyter-widgets/controls",
      "model_module_version": "2.0.0",
      "model_name": "HTMLModel",
      "state": {
       "layout": "IPY_MODEL_a272fff07efe41bfafeaf1a52ca3f8e0",
       "style": "IPY_MODEL_059fb9dafa3a490c95fedfe45cf56df1",
       "value": "100%"
      }
     },
     "bea90c5596d74477a11d9d6cb4a69860": {
      "model_module": "@jupyter-widgets/base",
      "model_module_version": "2.0.0",
      "model_name": "LayoutModel",
      "state": {}
     },
     "becf44cc3b3a4e46a5b4ca10da018c2b": {
      "model_module": "@jupyter-widgets/controls",
      "model_module_version": "2.0.0",
      "model_name": "HTMLStyleModel",
      "state": {
       "description_width": "",
       "font_size": null,
       "text_color": null
      }
     },
     "bf06092ffb5b4919ab13b111994c6480": {
      "model_module": "@jupyter-widgets/controls",
      "model_module_version": "2.0.0",
      "model_name": "HTMLModel",
      "state": {
       "layout": "IPY_MODEL_93177279bc4a463e95d9ee3b8b0f2baa",
       "style": "IPY_MODEL_d8fec2cb3923480a9bc88319d849314f",
       "value": "100%"
      }
     },
     "bfb6c9405b6f4660b9ca3ad9e11d146c": {
      "model_module": "@jupyter-widgets/controls",
      "model_module_version": "2.0.0",
      "model_name": "HTMLModel",
      "state": {
       "layout": "IPY_MODEL_259d9da50ab14ebc84a48e9a794be61e",
       "style": "IPY_MODEL_0effd5c669f04ac5838a9839cbe16b61",
       "value": "100%"
      }
     },
     "bfdca856ab00410d8a8b9037ae043ba5": {
      "model_module": "@jupyter-widgets/controls",
      "model_module_version": "2.0.0",
      "model_name": "HTMLModel",
      "state": {
       "layout": "IPY_MODEL_76fc9cc7077d4ef78bb494b71910e9eb",
       "style": "IPY_MODEL_292f1e1368f54648990794d333872434",
       "value": " 50/50 [00:04&lt;00:00, 12.11it/s]"
      }
     },
     "c02afa7dbd3e44aa8d8e2d50b2088743": {
      "model_module": "@jupyter-widgets/controls",
      "model_module_version": "2.0.0",
      "model_name": "HTMLModel",
      "state": {
       "layout": "IPY_MODEL_350abf4aa0ea47598495b18c6084125b",
       "style": "IPY_MODEL_a095d83caaf84036abfc524397f853f7",
       "value": " 50/50 [00:04&lt;00:00, 11.94it/s]"
      }
     },
     "c02ff9113f5144e0a60723a6a9889971": {
      "model_module": "@jupyter-widgets/controls",
      "model_module_version": "2.0.0",
      "model_name": "HTMLStyleModel",
      "state": {
       "description_width": "",
       "font_size": null,
       "text_color": null
      }
     },
     "c068ccfc86c9453eb5edc66788aa7ece": {
      "model_module": "@jupyter-widgets/controls",
      "model_module_version": "2.0.0",
      "model_name": "HTMLStyleModel",
      "state": {
       "description_width": "",
       "font_size": null,
       "text_color": null
      }
     },
     "c0723a0f239b4b62ac203841bb58a96c": {
      "model_module": "@jupyter-widgets/base",
      "model_module_version": "2.0.0",
      "model_name": "LayoutModel",
      "state": {
       "visibility": "hidden"
      }
     },
     "c07a315d493c4e92abe98d279e2fba6a": {
      "model_module": "@jupyter-widgets/controls",
      "model_module_version": "2.0.0",
      "model_name": "ProgressStyleModel",
      "state": {
       "description_width": ""
      }
     },
     "c0c3a4cb2b644a6b8f1dca3fef2ea417": {
      "model_module": "@jupyter-widgets/controls",
      "model_module_version": "2.0.0",
      "model_name": "HTMLModel",
      "state": {
       "layout": "IPY_MODEL_adf40008be0e42df874ad7809d562352",
       "style": "IPY_MODEL_268047a8855f486d9c4779d6e4e51348",
       "value": " 50/50 [00:04&lt;00:00, 12.01it/s]"
      }
     },
     "c0dc9db5d4ca4db39f0fb760ab6a3aac": {
      "model_module": "@jupyter-widgets/base",
      "model_module_version": "2.0.0",
      "model_name": "LayoutModel",
      "state": {}
     },
     "c0e958f0bcf549b7a6c5b1151a0d2844": {
      "model_module": "@jupyter-widgets/controls",
      "model_module_version": "2.0.0",
      "model_name": "HTMLModel",
      "state": {
       "layout": "IPY_MODEL_d0eb61058e9e4afa8d75f20dd7a925f2",
       "style": "IPY_MODEL_e873db0698bc4b209e8a6fcdf351b976",
       "value": "100%"
      }
     },
     "c102e6f392cf49f2ad611307bd556179": {
      "model_module": "@jupyter-widgets/controls",
      "model_module_version": "2.0.0",
      "model_name": "HTMLStyleModel",
      "state": {
       "description_width": "",
       "font_size": null,
       "text_color": null
      }
     },
     "c119f1e93d874e1b991d3f38a40d3f76": {
      "model_module": "@jupyter-widgets/controls",
      "model_module_version": "2.0.0",
      "model_name": "HTMLStyleModel",
      "state": {
       "description_width": "",
       "font_size": null,
       "text_color": null
      }
     },
     "c1363d23d942446ba02ea8d89cd68d5c": {
      "model_module": "@jupyter-widgets/base",
      "model_module_version": "2.0.0",
      "model_name": "LayoutModel",
      "state": {
       "visibility": "hidden"
      }
     },
     "c15e8adf3f7947d49a5725a0d79b1fb6": {
      "model_module": "@jupyter-widgets/base",
      "model_module_version": "2.0.0",
      "model_name": "LayoutModel",
      "state": {
       "visibility": "hidden"
      }
     },
     "c183d6abc67541299de6ddb573fe7944": {
      "model_module": "@jupyter-widgets/controls",
      "model_module_version": "2.0.0",
      "model_name": "FloatProgressModel",
      "state": {
       "layout": "IPY_MODEL_d2ffdf4806404399967117b6876c758e",
       "max": 50,
       "style": "IPY_MODEL_74f1cdc933174a5aaf640f024af27907",
       "value": 50
      }
     },
     "c194439e32cc4d42ab5fca0b4a58b0cb": {
      "model_module": "@jupyter-widgets/base",
      "model_module_version": "2.0.0",
      "model_name": "LayoutModel",
      "state": {}
     },
     "c1a145504cb744c396a1079145cc4390": {
      "model_module": "@jupyter-widgets/base",
      "model_module_version": "2.0.0",
      "model_name": "LayoutModel",
      "state": {}
     },
     "c1b257194dcf4ed7998038da860bf498": {
      "model_module": "@jupyter-widgets/controls",
      "model_module_version": "2.0.0",
      "model_name": "HTMLStyleModel",
      "state": {
       "description_width": "",
       "font_size": null,
       "text_color": null
      }
     },
     "c1d28374f6b44ee3be8428086a0f2e87": {
      "model_module": "@jupyter-widgets/base",
      "model_module_version": "2.0.0",
      "model_name": "LayoutModel",
      "state": {}
     },
     "c238a7f86c66438ab857584e98da90b0": {
      "model_module": "@jupyter-widgets/controls",
      "model_module_version": "2.0.0",
      "model_name": "HTMLModel",
      "state": {
       "layout": "IPY_MODEL_88fb2a732ba44b44bc2c42f1d4f440c9",
       "style": "IPY_MODEL_a672a321ede04453af9ed082af641c19",
       "value": " 50/50 [00:04&lt;00:00, 12.06it/s]"
      }
     },
     "c2fb395d098548739df36bbe2d141d30": {
      "model_module": "@jupyter-widgets/base",
      "model_module_version": "2.0.0",
      "model_name": "LayoutModel",
      "state": {
       "visibility": "hidden"
      }
     },
     "c3221703bea9468c9db01d22eac574cf": {
      "model_module": "@jupyter-widgets/controls",
      "model_module_version": "2.0.0",
      "model_name": "HTMLModel",
      "state": {
       "layout": "IPY_MODEL_632b25ee06714f939f5e8de361a143d9",
       "style": "IPY_MODEL_9909ef5b92ed480b94c59de1f16d04f1",
       "value": "100%"
      }
     },
     "c337a8db27914914b209f87d62f358bb": {
      "model_module": "@jupyter-widgets/controls",
      "model_module_version": "2.0.0",
      "model_name": "ProgressStyleModel",
      "state": {
       "description_width": ""
      }
     },
     "c358f2838935407291f445765c94c771": {
      "model_module": "@jupyter-widgets/controls",
      "model_module_version": "2.0.0",
      "model_name": "HTMLStyleModel",
      "state": {
       "description_width": "",
       "font_size": null,
       "text_color": null
      }
     },
     "c3f97cd160b84495a5880c713fae369d": {
      "model_module": "@jupyter-widgets/base",
      "model_module_version": "2.0.0",
      "model_name": "LayoutModel",
      "state": {}
     },
     "c454edf0fdc74f09a60f9ded6384ca14": {
      "model_module": "@jupyter-widgets/base",
      "model_module_version": "2.0.0",
      "model_name": "LayoutModel",
      "state": {}
     },
     "c4a0bdb0f18a41ab9adc8b1f0000a791": {
      "model_module": "@jupyter-widgets/controls",
      "model_module_version": "2.0.0",
      "model_name": "HTMLStyleModel",
      "state": {
       "description_width": "",
       "font_size": null,
       "text_color": null
      }
     },
     "c4a2974cc06046708eee56c76c97ee89": {
      "model_module": "@jupyter-widgets/controls",
      "model_module_version": "2.0.0",
      "model_name": "FloatProgressModel",
      "state": {
       "layout": "IPY_MODEL_fe3f136eae0d4518ba1093ea36a5e7a2",
       "max": 50,
       "style": "IPY_MODEL_f2183c29435e4e17b95f08f3d801954d",
       "value": 50
      }
     },
     "c4c8a387d614494c9876a219da973ac8": {
      "model_module": "@jupyter-widgets/controls",
      "model_module_version": "2.0.0",
      "model_name": "FloatProgressModel",
      "state": {
       "layout": "IPY_MODEL_ceece9f3f4d84a05b862c603c662202c",
       "max": 50,
       "style": "IPY_MODEL_f58efc159a974d03800f56c9e4ec6610",
       "value": 50
      }
     },
     "c4dc2b6594694f6082d6cb54dc961e18": {
      "model_module": "@jupyter-widgets/controls",
      "model_module_version": "2.0.0",
      "model_name": "ProgressStyleModel",
      "state": {
       "description_width": ""
      }
     },
     "c508027d789543979e171a349b572db7": {
      "model_module": "@jupyter-widgets/base",
      "model_module_version": "2.0.0",
      "model_name": "LayoutModel",
      "state": {}
     },
     "c510cdd23208404b93330783a11f9a30": {
      "model_module": "@jupyter-widgets/controls",
      "model_module_version": "2.0.0",
      "model_name": "HTMLStyleModel",
      "state": {
       "description_width": "",
       "font_size": null,
       "text_color": null
      }
     },
     "c517b41e5c474d11b112e79f839d0ad9": {
      "model_module": "@jupyter-widgets/base",
      "model_module_version": "2.0.0",
      "model_name": "LayoutModel",
      "state": {
       "visibility": "hidden"
      }
     },
     "c521dc5bfd894ff88c58b3751454359c": {
      "model_module": "@jupyter-widgets/base",
      "model_module_version": "2.0.0",
      "model_name": "LayoutModel",
      "state": {}
     },
     "c5937f89eadf4ba59a7d1989f1152eb6": {
      "model_module": "@jupyter-widgets/base",
      "model_module_version": "2.0.0",
      "model_name": "LayoutModel",
      "state": {}
     },
     "c611593a92c24a9b85f36fd92abd5232": {
      "model_module": "@jupyter-widgets/base",
      "model_module_version": "2.0.0",
      "model_name": "LayoutModel",
      "state": {}
     },
     "c62776dc07f748d4bf80a0b795bb5ec8": {
      "model_module": "@jupyter-widgets/base",
      "model_module_version": "2.0.0",
      "model_name": "LayoutModel",
      "state": {}
     },
     "c6e28876280047d1b4c67dd91dd33389": {
      "model_module": "@jupyter-widgets/base",
      "model_module_version": "2.0.0",
      "model_name": "LayoutModel",
      "state": {}
     },
     "c7287d95451041869ba8f03df64fcfa7": {
      "model_module": "@jupyter-widgets/base",
      "model_module_version": "2.0.0",
      "model_name": "LayoutModel",
      "state": {}
     },
     "c744802e46c946ec9859e28be70fb95c": {
      "model_module": "@jupyter-widgets/controls",
      "model_module_version": "2.0.0",
      "model_name": "HTMLModel",
      "state": {
       "layout": "IPY_MODEL_f8c391cb8b124156b345e87016407639",
       "style": "IPY_MODEL_229c4761a81a4b03a88630d1bf8555da",
       "value": "100%"
      }
     },
     "c7d7bd03203747efafcfed474efc6738": {
      "model_module": "@jupyter-widgets/base",
      "model_module_version": "2.0.0",
      "model_name": "LayoutModel",
      "state": {}
     },
     "c824ae871a8e45c4b053c4659ee28a35": {
      "model_module": "@jupyter-widgets/controls",
      "model_module_version": "2.0.0",
      "model_name": "FloatProgressModel",
      "state": {
       "layout": "IPY_MODEL_c611593a92c24a9b85f36fd92abd5232",
       "max": 50,
       "style": "IPY_MODEL_76963bf69ef741b1a3a4cd049bef79c6",
       "value": 50
      }
     },
     "c8716c6966eb45069ecb4aa4338aa469": {
      "model_module": "@jupyter-widgets/base",
      "model_module_version": "2.0.0",
      "model_name": "LayoutModel",
      "state": {}
     },
     "c8824ddd65cc4c2fbb60397f237c2804": {
      "model_module": "@jupyter-widgets/controls",
      "model_module_version": "2.0.0",
      "model_name": "HTMLStyleModel",
      "state": {
       "description_width": "",
       "font_size": null,
       "text_color": null
      }
     },
     "c8acf5d81d11433685f530b33049fc97": {
      "model_module": "@jupyter-widgets/base",
      "model_module_version": "2.0.0",
      "model_name": "LayoutModel",
      "state": {}
     },
     "c8c9928bb38241bd9ea52360d8abe888": {
      "model_module": "@jupyter-widgets/controls",
      "model_module_version": "2.0.0",
      "model_name": "HTMLStyleModel",
      "state": {
       "description_width": "",
       "font_size": null,
       "text_color": null
      }
     },
     "c8da3fb353a444a1bbe07fddffba95b7": {
      "model_module": "@jupyter-widgets/controls",
      "model_module_version": "2.0.0",
      "model_name": "HTMLStyleModel",
      "state": {
       "description_width": "",
       "font_size": null,
       "text_color": null
      }
     },
     "c921c668c9a14edfa5eb24f8f49e4c72": {
      "model_module": "@jupyter-widgets/controls",
      "model_module_version": "2.0.0",
      "model_name": "ProgressStyleModel",
      "state": {
       "description_width": ""
      }
     },
     "c93b856418b84b81a374391f01a685de": {
      "model_module": "@jupyter-widgets/base",
      "model_module_version": "2.0.0",
      "model_name": "LayoutModel",
      "state": {}
     },
     "c9a455fa1eaf4d089e267539efa61e54": {
      "model_module": "@jupyter-widgets/base",
      "model_module_version": "2.0.0",
      "model_name": "LayoutModel",
      "state": {}
     },
     "c9f672be88c54e8fbdc0f378ce13aaf2": {
      "model_module": "@jupyter-widgets/controls",
      "model_module_version": "2.0.0",
      "model_name": "HTMLModel",
      "state": {
       "layout": "IPY_MODEL_92d2383b553b4bba82f723272a82ef38",
       "style": "IPY_MODEL_d286e614e2fc437d962d9e31290da1c3",
       "value": " 50/50 [00:06&lt;00:00,  8.42it/s]"
      }
     },
     "ca30e20d043b4c399f922e9146ba7c75": {
      "model_module": "@jupyter-widgets/controls",
      "model_module_version": "2.0.0",
      "model_name": "FloatProgressModel",
      "state": {
       "layout": "IPY_MODEL_8dbe9190c7bd4212b58faae441fe8428",
       "max": 50,
       "style": "IPY_MODEL_aa17bdea125e4963ba95c88364b0e953",
       "value": 50
      }
     },
     "ca364e65596b47feb733a8a76ddd8d29": {
      "model_module": "@jupyter-widgets/controls",
      "model_module_version": "2.0.0",
      "model_name": "ProgressStyleModel",
      "state": {
       "description_width": ""
      }
     },
     "cad03f8446df44aaa8573a06645a4899": {
      "model_module": "@jupyter-widgets/controls",
      "model_module_version": "2.0.0",
      "model_name": "FloatProgressModel",
      "state": {
       "layout": "IPY_MODEL_9d1177a78c004d52ab4117de7ee1790f",
       "max": 50,
       "style": "IPY_MODEL_57d6336e41b44114b36c6ada53ea7d52",
       "value": 50
      }
     },
     "cad31428e00b44498dac8264ef9015bc": {
      "model_module": "@jupyter-widgets/controls",
      "model_module_version": "2.0.0",
      "model_name": "HTMLStyleModel",
      "state": {
       "description_width": "",
       "font_size": null,
       "text_color": null
      }
     },
     "cad3eaeb66414f79b9da12582096bbf6": {
      "model_module": "@jupyter-widgets/base",
      "model_module_version": "2.0.0",
      "model_name": "LayoutModel",
      "state": {}
     },
     "cae375d2f3af4bf3bb9c1245a0caab85": {
      "model_module": "@jupyter-widgets/base",
      "model_module_version": "2.0.0",
      "model_name": "LayoutModel",
      "state": {}
     },
     "caf7b2e9466c42298731f702f4d2d4a1": {
      "model_module": "@jupyter-widgets/controls",
      "model_module_version": "2.0.0",
      "model_name": "HTMLModel",
      "state": {
       "layout": "IPY_MODEL_4638ecb70981454ca524dd3608c81610",
       "style": "IPY_MODEL_d4ca20da6e874e1c9c3461db5b376b47",
       "value": " 50/50 [00:04&lt;00:00, 12.28it/s]"
      }
     },
     "cb095e6acf2d4ec68d4652d790509e5b": {
      "model_module": "@jupyter-widgets/controls",
      "model_module_version": "2.0.0",
      "model_name": "FloatProgressModel",
      "state": {
       "layout": "IPY_MODEL_0cf92059aa6046ba848b4116d80c9eb0",
       "max": 50,
       "style": "IPY_MODEL_ee6246a73a8d42d8866ba75d49ae2599",
       "value": 50
      }
     },
     "cb0dd26a1bec471f8ad6af0ab523c21b": {
      "model_module": "@jupyter-widgets/controls",
      "model_module_version": "2.0.0",
      "model_name": "HTMLStyleModel",
      "state": {
       "description_width": "",
       "font_size": null,
       "text_color": null
      }
     },
     "cb26f0ab28e54ae0921f4e6fad47a565": {
      "model_module": "@jupyter-widgets/controls",
      "model_module_version": "2.0.0",
      "model_name": "FloatProgressModel",
      "state": {
       "layout": "IPY_MODEL_d357ad8b2ee14640bb2999bfb3e62c6c",
       "max": 50,
       "style": "IPY_MODEL_15d7a816e1c74e5e963e7b553709ccca",
       "value": 50
      }
     },
     "cb5755988065401e8a6e0dbcb6413a39": {
      "model_module": "@jupyter-widgets/controls",
      "model_module_version": "2.0.0",
      "model_name": "FloatProgressModel",
      "state": {
       "layout": "IPY_MODEL_4b5f2af82d0e47f9a781c08e0a468d8e",
       "max": 50,
       "style": "IPY_MODEL_c07a315d493c4e92abe98d279e2fba6a",
       "value": 50
      }
     },
     "cb7e1ac40d5743778079831e17790956": {
      "model_module": "@jupyter-widgets/controls",
      "model_module_version": "2.0.0",
      "model_name": "FloatProgressModel",
      "state": {
       "layout": "IPY_MODEL_b78be81572a0473089bd3f743e20b2ed",
       "max": 1198,
       "style": "IPY_MODEL_b6e36b25b84249e0879ae3fea157022f",
       "value": 1198
      }
     },
     "cb82b16aee66424aa8bbd2bc392fc950": {
      "model_module": "@jupyter-widgets/controls",
      "model_module_version": "2.0.0",
      "model_name": "HTMLStyleModel",
      "state": {
       "description_width": "",
       "font_size": null,
       "text_color": null
      }
     },
     "cbe1d5b8b2934fc8a9b624af0f04e335": {
      "model_module": "@jupyter-widgets/base",
      "model_module_version": "2.0.0",
      "model_name": "LayoutModel",
      "state": {}
     },
     "cc321b8917324031adc6316491ec9954": {
      "model_module": "@jupyter-widgets/controls",
      "model_module_version": "2.0.0",
      "model_name": "ProgressStyleModel",
      "state": {
       "description_width": ""
      }
     },
     "cc579c643e3b4f6eb7847973364afb47": {
      "model_module": "@jupyter-widgets/base",
      "model_module_version": "2.0.0",
      "model_name": "LayoutModel",
      "state": {}
     },
     "cc95ae8172684a20a66b48d1f79924a9": {
      "model_module": "@jupyter-widgets/controls",
      "model_module_version": "2.0.0",
      "model_name": "HTMLModel",
      "state": {
       "layout": "IPY_MODEL_c1d28374f6b44ee3be8428086a0f2e87",
       "style": "IPY_MODEL_bc8bc2d29519423fb3bee4e28c866400",
       "value": "100%"
      }
     },
     "ccc8ea7acffc414f88e90752d2da9753": {
      "model_module": "@jupyter-widgets/controls",
      "model_module_version": "2.0.0",
      "model_name": "ProgressStyleModel",
      "state": {
       "description_width": ""
      }
     },
     "cd24b5624dee49179a0048940b442232": {
      "model_module": "@jupyter-widgets/base",
      "model_module_version": "2.0.0",
      "model_name": "LayoutModel",
      "state": {}
     },
     "cd4bf0c96df146d599aab982df8c32d6": {
      "model_module": "@jupyter-widgets/base",
      "model_module_version": "2.0.0",
      "model_name": "LayoutModel",
      "state": {
       "visibility": "hidden"
      }
     },
     "cd6ee538e8b74d09b913d2dfd5278d07": {
      "model_module": "@jupyter-widgets/base",
      "model_module_version": "2.0.0",
      "model_name": "LayoutModel",
      "state": {
       "visibility": "hidden"
      }
     },
     "cd7d9c05a9344a13875070f48e22fb3a": {
      "model_module": "@jupyter-widgets/controls",
      "model_module_version": "2.0.0",
      "model_name": "HTMLStyleModel",
      "state": {
       "description_width": "",
       "font_size": null,
       "text_color": null
      }
     },
     "cd9d6cbc85d6436a8f3fadb93a3fec3d": {
      "model_module": "@jupyter-widgets/base",
      "model_module_version": "2.0.0",
      "model_name": "LayoutModel",
      "state": {}
     },
     "cdb221305e074470ab2d4f9d746833a6": {
      "model_module": "@jupyter-widgets/base",
      "model_module_version": "2.0.0",
      "model_name": "LayoutModel",
      "state": {}
     },
     "cdf481dfa2ed442dab50c8234124c2e2": {
      "model_module": "@jupyter-widgets/controls",
      "model_module_version": "2.0.0",
      "model_name": "HTMLStyleModel",
      "state": {
       "description_width": "",
       "font_size": null,
       "text_color": null
      }
     },
     "cdfb2ffd3dd348c2be247ff6b8102dc4": {
      "model_module": "@jupyter-widgets/controls",
      "model_module_version": "2.0.0",
      "model_name": "HTMLModel",
      "state": {
       "layout": "IPY_MODEL_1b70ddc6425a45af8c362330d34bb25d",
       "style": "IPY_MODEL_a1cceea46d2d45718d91ce27996068bd",
       "value": "100%"
      }
     },
     "ce0cd8e10a0d41d98b364be6e326f0e6": {
      "model_module": "@jupyter-widgets/base",
      "model_module_version": "2.0.0",
      "model_name": "LayoutModel",
      "state": {}
     },
     "ce240c17e30044f28d95cadecf2c517b": {
      "model_module": "@jupyter-widgets/controls",
      "model_module_version": "2.0.0",
      "model_name": "HTMLStyleModel",
      "state": {
       "description_width": "",
       "font_size": null,
       "text_color": null
      }
     },
     "ce4234123a1f4c2eb3f138e6d2d3f830": {
      "model_module": "@jupyter-widgets/controls",
      "model_module_version": "2.0.0",
      "model_name": "FloatProgressModel",
      "state": {
       "layout": "IPY_MODEL_72a7515d3bef4ab6bcc5f4996a0454eb",
       "max": 50,
       "style": "IPY_MODEL_01d6d1b9ebff435a9d125f2f470febd4",
       "value": 50
      }
     },
     "ce4be19ebfd84ae5bccd6c1c5cea1789": {
      "model_module": "@jupyter-widgets/controls",
      "model_module_version": "2.0.0",
      "model_name": "HTMLModel",
      "state": {
       "layout": "IPY_MODEL_33f9511a93b940e8ab637da1f5b7ba55",
       "style": "IPY_MODEL_a0a5de2653dd47d0b551429a8d330717",
       "value": " 50/50 [00:04&lt;00:00, 12.21it/s]"
      }
     },
     "ce5ef6e3cb2a48c0a9c502165d524fd5": {
      "model_module": "@jupyter-widgets/base",
      "model_module_version": "2.0.0",
      "model_name": "LayoutModel",
      "state": {}
     },
     "ce789b361e4c4ea3bd83ee5b19458ef0": {
      "model_module": "@jupyter-widgets/controls",
      "model_module_version": "2.0.0",
      "model_name": "HTMLStyleModel",
      "state": {
       "description_width": "",
       "font_size": null,
       "text_color": null
      }
     },
     "ce946aeeb4f2433e92428866ea536e2d": {
      "model_module": "@jupyter-widgets/base",
      "model_module_version": "2.0.0",
      "model_name": "LayoutModel",
      "state": {}
     },
     "ceece9f3f4d84a05b862c603c662202c": {
      "model_module": "@jupyter-widgets/base",
      "model_module_version": "2.0.0",
      "model_name": "LayoutModel",
      "state": {}
     },
     "cf1cddb202d54f99a149ce8932c0b10b": {
      "model_module": "@jupyter-widgets/controls",
      "model_module_version": "2.0.0",
      "model_name": "FloatProgressModel",
      "state": {
       "layout": "IPY_MODEL_c7d7bd03203747efafcfed474efc6738",
       "max": 50,
       "style": "IPY_MODEL_b5922fceb8b3469382e190bae61ad5df",
       "value": 50
      }
     },
     "cf33058228bf4425afe4d6a86c77cd50": {
      "model_module": "@jupyter-widgets/controls",
      "model_module_version": "2.0.0",
      "model_name": "HTMLModel",
      "state": {
       "layout": "IPY_MODEL_8187efd10a974190b69a3811fc29aa40",
       "style": "IPY_MODEL_f14bfdb73671400d9a1962c8ddf8884a",
       "value": "100%"
      }
     },
     "cf40842c3a4345a0a404db6f3620d56c": {
      "model_module": "@jupyter-widgets/controls",
      "model_module_version": "2.0.0",
      "model_name": "HTMLStyleModel",
      "state": {
       "description_width": "",
       "font_size": null,
       "text_color": null
      }
     },
     "cf46d6bc941f40e9b491103712d179fc": {
      "model_module": "@jupyter-widgets/base",
      "model_module_version": "2.0.0",
      "model_name": "LayoutModel",
      "state": {
       "visibility": "hidden"
      }
     },
     "cf6aa5952fc6406d98706b804d5f30b1": {
      "model_module": "@jupyter-widgets/controls",
      "model_module_version": "2.0.0",
      "model_name": "ProgressStyleModel",
      "state": {
       "description_width": ""
      }
     },
     "cfc96d7a3dd84e8689c55fd022c54a80": {
      "model_module": "@jupyter-widgets/controls",
      "model_module_version": "2.0.0",
      "model_name": "HTMLModel",
      "state": {
       "layout": "IPY_MODEL_63ea829f178e47afa147a2f121b2eb0a",
       "style": "IPY_MODEL_8b22a77d4b724887a2f89d1c726ba359",
       "value": " 50/50 [00:04&lt;00:00, 12.08it/s]"
      }
     },
     "cfe1df98adb142d3adbb0d9b6a1221b4": {
      "model_module": "@jupyter-widgets/controls",
      "model_module_version": "2.0.0",
      "model_name": "HTMLStyleModel",
      "state": {
       "description_width": "",
       "font_size": null,
       "text_color": null
      }
     },
     "d053a93b422d45199ed31a56aa26f6d3": {
      "model_module": "@jupyter-widgets/controls",
      "model_module_version": "2.0.0",
      "model_name": "HTMLModel",
      "state": {
       "layout": "IPY_MODEL_aa884a68f67d48cfaca20526e7188340",
       "style": "IPY_MODEL_60cefb6b0b864e88bcd07b2013d0b1e0",
       "value": "100%"
      }
     },
     "d0695f4ae9614c16b626f9a092aebeb7": {
      "model_module": "@jupyter-widgets/base",
      "model_module_version": "2.0.0",
      "model_name": "LayoutModel",
      "state": {
       "visibility": "hidden"
      }
     },
     "d07168932bb74542b9da6918e4e9ee93": {
      "model_module": "@jupyter-widgets/base",
      "model_module_version": "2.0.0",
      "model_name": "LayoutModel",
      "state": {}
     },
     "d08bbaa55f72434193e846978202e1af": {
      "model_module": "@jupyter-widgets/controls",
      "model_module_version": "2.0.0",
      "model_name": "HTMLStyleModel",
      "state": {
       "description_width": "",
       "font_size": null,
       "text_color": null
      }
     },
     "d0c88a8b0d12452cac46934e21d56c2c": {
      "model_module": "@jupyter-widgets/controls",
      "model_module_version": "2.0.0",
      "model_name": "HTMLModel",
      "state": {
       "layout": "IPY_MODEL_7f4505d02c764f5e9b9b198d5a342ef3",
       "style": "IPY_MODEL_1a87f37494d24e698cf0d0f2f55900f8",
       "value": " 49/50 [00:05&lt;00:00, 11.17it/s]"
      }
     },
     "d0eb61058e9e4afa8d75f20dd7a925f2": {
      "model_module": "@jupyter-widgets/base",
      "model_module_version": "2.0.0",
      "model_name": "LayoutModel",
      "state": {}
     },
     "d0f7576ca7264d8798cdcf170561f8a5": {
      "model_module": "@jupyter-widgets/base",
      "model_module_version": "2.0.0",
      "model_name": "LayoutModel",
      "state": {}
     },
     "d0fd5756d61e4a93a2d20bb8eedb21a2": {
      "model_module": "@jupyter-widgets/base",
      "model_module_version": "2.0.0",
      "model_name": "LayoutModel",
      "state": {}
     },
     "d12749e0b8964b969c025b147eeae515": {
      "model_module": "@jupyter-widgets/controls",
      "model_module_version": "2.0.0",
      "model_name": "HTMLStyleModel",
      "state": {
       "description_width": "",
       "font_size": null,
       "text_color": null
      }
     },
     "d132933e7e0042f8bd44d8317c26d556": {
      "model_module": "@jupyter-widgets/controls",
      "model_module_version": "2.0.0",
      "model_name": "FloatProgressModel",
      "state": {
       "layout": "IPY_MODEL_87e054644f73454e821166b0aa7b6ace",
       "max": 50,
       "style": "IPY_MODEL_8935200fccce45c08ff7859c5d44aaed",
       "value": 50
      }
     },
     "d1332a456f404d569e5b07384a4407a2": {
      "model_module": "@jupyter-widgets/controls",
      "model_module_version": "2.0.0",
      "model_name": "HTMLStyleModel",
      "state": {
       "description_width": "",
       "font_size": null,
       "text_color": null
      }
     },
     "d16aa7e260914a0690a771f853cb1cc7": {
      "model_module": "@jupyter-widgets/controls",
      "model_module_version": "2.0.0",
      "model_name": "HTMLModel",
      "state": {
       "layout": "IPY_MODEL_1c4921a96f2a43dcaf94db0f267fd95d",
       "style": "IPY_MODEL_65c244968b814725a09e5e4db45dbfd1",
       "value": " 50/50 [00:04&lt;00:00, 12.16it/s]"
      }
     },
     "d1dfaf57926c4c5c88e9f68aba5890bd": {
      "model_module": "@jupyter-widgets/controls",
      "model_module_version": "2.0.0",
      "model_name": "FloatProgressModel",
      "state": {
       "layout": "IPY_MODEL_150732b0b6e14c7aa9bb3f28d66731f5",
       "max": 50,
       "style": "IPY_MODEL_4e66e9c69c3e4f9fb89c81cce7d4bc03",
       "value": 50
      }
     },
     "d1f1cad1eaa244d7b332ea2af539c6b8": {
      "model_module": "@jupyter-widgets/controls",
      "model_module_version": "2.0.0",
      "model_name": "HTMLModel",
      "state": {
       "layout": "IPY_MODEL_281f52675bf84122bf7d9bf6e954dfc3",
       "style": "IPY_MODEL_f9872418345f428e90304c0b06e78e38",
       "value": "100%"
      }
     },
     "d286e614e2fc437d962d9e31290da1c3": {
      "model_module": "@jupyter-widgets/controls",
      "model_module_version": "2.0.0",
      "model_name": "HTMLStyleModel",
      "state": {
       "description_width": "",
       "font_size": null,
       "text_color": null
      }
     },
     "d28b4cc6f83d4d7386afc63a2087686e": {
      "model_module": "@jupyter-widgets/base",
      "model_module_version": "2.0.0",
      "model_name": "LayoutModel",
      "state": {}
     },
     "d2b1d340c8b64bb5873e047ae196d04a": {
      "model_module": "@jupyter-widgets/controls",
      "model_module_version": "2.0.0",
      "model_name": "HTMLModel",
      "state": {
       "layout": "IPY_MODEL_405578343de74738b5f406505a3f37ac",
       "style": "IPY_MODEL_7d265d5cf458409eaa1d6d0ab3834cb1",
       "value": " 50/50 [00:04&lt;00:00, 12.22it/s]"
      }
     },
     "d2ffdf4806404399967117b6876c758e": {
      "model_module": "@jupyter-widgets/base",
      "model_module_version": "2.0.0",
      "model_name": "LayoutModel",
      "state": {}
     },
     "d3075523f0014814b94e16d192bdec04": {
      "model_module": "@jupyter-widgets/controls",
      "model_module_version": "2.0.0",
      "model_name": "ProgressStyleModel",
      "state": {
       "description_width": ""
      }
     },
     "d31b146603d34dc0a59cbc0e9f6e5833": {
      "model_module": "@jupyter-widgets/controls",
      "model_module_version": "2.0.0",
      "model_name": "HTMLModel",
      "state": {
       "layout": "IPY_MODEL_b084c2f2114146f6968116b82f6cfc5f",
       "style": "IPY_MODEL_cd7d9c05a9344a13875070f48e22fb3a",
       "value": " 50/50 [00:04&lt;00:00, 12.09it/s]"
      }
     },
     "d3270753a6944f5dabfa06c1f4f0a682": {
      "model_module": "@jupyter-widgets/controls",
      "model_module_version": "2.0.0",
      "model_name": "FloatProgressModel",
      "state": {
       "layout": "IPY_MODEL_2bf2460d9d434265a9d948f126d639b5",
       "max": 50,
       "style": "IPY_MODEL_7bfdb8af192341c6812638c4b492ba23",
       "value": 50
      }
     },
     "d357ad8b2ee14640bb2999bfb3e62c6c": {
      "model_module": "@jupyter-widgets/base",
      "model_module_version": "2.0.0",
      "model_name": "LayoutModel",
      "state": {}
     },
     "d373f61ebc2046cca4be56714c3a5369": {
      "model_module": "@jupyter-widgets/controls",
      "model_module_version": "2.0.0",
      "model_name": "HTMLStyleModel",
      "state": {
       "description_width": "",
       "font_size": null,
       "text_color": null
      }
     },
     "d38aff64820d4b9d8687510f2ecdf6c4": {
      "model_module": "@jupyter-widgets/controls",
      "model_module_version": "2.0.0",
      "model_name": "FloatProgressModel",
      "state": {
       "layout": "IPY_MODEL_96106c6c266e47b3b02207d7dbba80f5",
       "max": 50,
       "style": "IPY_MODEL_ac0d09db69094312b7b98651eada3fa0",
       "value": 50
      }
     },
     "d39571eca7894b889e8fb850bc2f3337": {
      "model_module": "@jupyter-widgets/base",
      "model_module_version": "2.0.0",
      "model_name": "LayoutModel",
      "state": {
       "visibility": "hidden"
      }
     },
     "d39ff37d839d4e46b13ef0af302d8522": {
      "model_module": "@jupyter-widgets/controls",
      "model_module_version": "2.0.0",
      "model_name": "HTMLModel",
      "state": {
       "layout": "IPY_MODEL_1e2578c7158b48dabb3b0c84082095ba",
       "style": "IPY_MODEL_39f9c1becf404c8e960937da107ea1e1",
       "value": "100%"
      }
     },
     "d3a0cab122aa467da4288e908082440c": {
      "model_module": "@jupyter-widgets/base",
      "model_module_version": "2.0.0",
      "model_name": "LayoutModel",
      "state": {
       "visibility": "hidden"
      }
     },
     "d3f1129f265e47c291f0202d37be6c32": {
      "model_module": "@jupyter-widgets/controls",
      "model_module_version": "2.0.0",
      "model_name": "HTMLModel",
      "state": {
       "layout": "IPY_MODEL_d07168932bb74542b9da6918e4e9ee93",
       "style": "IPY_MODEL_aac0b6d8bcb2482d8c74076de5606c99",
       "value": "100%"
      }
     },
     "d49fbc8d2887407e8853a9adce01f683": {
      "model_module": "@jupyter-widgets/controls",
      "model_module_version": "2.0.0",
      "model_name": "HTMLStyleModel",
      "state": {
       "description_width": "",
       "font_size": null,
       "text_color": null
      }
     },
     "d4a3fc9071124dd3a4c8409a6be19d15": {
      "model_module": "@jupyter-widgets/controls",
      "model_module_version": "2.0.0",
      "model_name": "ProgressStyleModel",
      "state": {
       "description_width": ""
      }
     },
     "d4c9fd9b285546a684d05be09e2d1909": {
      "model_module": "@jupyter-widgets/controls",
      "model_module_version": "2.0.0",
      "model_name": "HTMLModel",
      "state": {
       "layout": "IPY_MODEL_ec31dd2cddd3445682647aa274196e2b",
       "style": "IPY_MODEL_4844d74ed548427aa24008193f2f8204",
       "value": " 49/50 [00:04&lt;00:00, 11.74it/s]"
      }
     },
     "d4ca20da6e874e1c9c3461db5b376b47": {
      "model_module": "@jupyter-widgets/controls",
      "model_module_version": "2.0.0",
      "model_name": "HTMLStyleModel",
      "state": {
       "description_width": "",
       "font_size": null,
       "text_color": null
      }
     },
     "d4e98ef62d7844a78ab9fdbc7458af1a": {
      "model_module": "@jupyter-widgets/base",
      "model_module_version": "2.0.0",
      "model_name": "LayoutModel",
      "state": {}
     },
     "d4eb79fc42504ce098f3c64ee8b80b1a": {
      "model_module": "@jupyter-widgets/controls",
      "model_module_version": "2.0.0",
      "model_name": "HTMLModel",
      "state": {
       "layout": "IPY_MODEL_636239e985c5477eabfe8f017d551099",
       "style": "IPY_MODEL_08b57670a73544a0842a747d094b0588",
       "value": " 50/50 [00:06&lt;00:00,  8.41it/s]"
      }
     },
     "d5017ed273fe45ac9fd3d56f0705f6b7": {
      "model_module": "@jupyter-widgets/base",
      "model_module_version": "2.0.0",
      "model_name": "LayoutModel",
      "state": {}
     },
     "d517f4c780924fc682e0ff6cd21f4029": {
      "model_module": "@jupyter-widgets/base",
      "model_module_version": "2.0.0",
      "model_name": "LayoutModel",
      "state": {}
     },
     "d532a87f4ffd4c1890e6df7d33e6b063": {
      "model_module": "@jupyter-widgets/base",
      "model_module_version": "2.0.0",
      "model_name": "LayoutModel",
      "state": {
       "visibility": "hidden"
      }
     },
     "d55adb4e67bc400887f08b7808e57181": {
      "model_module": "@jupyter-widgets/base",
      "model_module_version": "2.0.0",
      "model_name": "LayoutModel",
      "state": {}
     },
     "d5f00ec80eb14d7da34723a880604c7b": {
      "model_module": "@jupyter-widgets/base",
      "model_module_version": "2.0.0",
      "model_name": "LayoutModel",
      "state": {}
     },
     "d60a7947b02d4295a34a9df953f65a0c": {
      "model_module": "@jupyter-widgets/controls",
      "model_module_version": "2.0.0",
      "model_name": "FloatProgressModel",
      "state": {
       "layout": "IPY_MODEL_29044a7bb4db4d28a629f958a477f86c",
       "max": 50,
       "style": "IPY_MODEL_5c3a15bcf31944218c256c89493525ac",
       "value": 50
      }
     },
     "d61c819ffdcc444f82d86b5d4d91e1c7": {
      "model_module": "@jupyter-widgets/controls",
      "model_module_version": "2.0.0",
      "model_name": "FloatProgressModel",
      "state": {
       "layout": "IPY_MODEL_f5d8c7efe8b84767baceceb8d24c48a7",
       "max": 50,
       "style": "IPY_MODEL_31f4355b9e99475d996ed95fb023898e",
       "value": 50
      }
     },
     "d62e6d6bbb0c408f9c85298a471aeae0": {
      "model_module": "@jupyter-widgets/controls",
      "model_module_version": "2.0.0",
      "model_name": "FloatProgressModel",
      "state": {
       "layout": "IPY_MODEL_00e55fd76bcc4f06adc30d0b3e52db53",
       "max": 50,
       "style": "IPY_MODEL_82ae2fbb1c394f8193716733f6cd41f5",
       "value": 50
      }
     },
     "d6837753ab9743038d1c29bafdaa6fd9": {
      "model_module": "@jupyter-widgets/base",
      "model_module_version": "2.0.0",
      "model_name": "LayoutModel",
      "state": {}
     },
     "d6c10ea6bc8f4c2f89215b93dad5018f": {
      "model_module": "@jupyter-widgets/controls",
      "model_module_version": "2.0.0",
      "model_name": "HTMLModel",
      "state": {
       "layout": "IPY_MODEL_a9b13b3ca7334d0e9d9f73648b424afc",
       "style": "IPY_MODEL_17edf7d43d7a41b8b0337f0aa9c53f2f",
       "value": " 50/50 [00:04&lt;00:00, 11.95it/s]"
      }
     },
     "d6e2b66da12341f5bd09383173c74a9e": {
      "model_module": "@jupyter-widgets/base",
      "model_module_version": "2.0.0",
      "model_name": "LayoutModel",
      "state": {}
     },
     "d78f9f86f79a4e939c65ff23033317e9": {
      "model_module": "@jupyter-widgets/controls",
      "model_module_version": "2.0.0",
      "model_name": "HTMLModel",
      "state": {
       "layout": "IPY_MODEL_8b79aae410a74bec8085cd75f845c190",
       "style": "IPY_MODEL_b9171bd47b6b4dd2897dabb3b265adbd",
       "value": "100%"
      }
     },
     "d7b5cdb2d65c4a4097eec2a9fc23bd54": {
      "model_module": "@jupyter-widgets/base",
      "model_module_version": "2.0.0",
      "model_name": "LayoutModel",
      "state": {}
     },
     "d8344c87e1094642bf8996af1a8acab8": {
      "model_module": "@jupyter-widgets/base",
      "model_module_version": "2.0.0",
      "model_name": "LayoutModel",
      "state": {}
     },
     "d859af58b8b044098bfddce6f2a07e99": {
      "model_module": "@jupyter-widgets/base",
      "model_module_version": "2.0.0",
      "model_name": "LayoutModel",
      "state": {}
     },
     "d864d42e9365428681963fa19abcf643": {
      "model_module": "@jupyter-widgets/base",
      "model_module_version": "2.0.0",
      "model_name": "LayoutModel",
      "state": {}
     },
     "d8fec2cb3923480a9bc88319d849314f": {
      "model_module": "@jupyter-widgets/controls",
      "model_module_version": "2.0.0",
      "model_name": "HTMLStyleModel",
      "state": {
       "description_width": "",
       "font_size": null,
       "text_color": null
      }
     },
     "d961774dfbd54a0193b0a9ecf642a357": {
      "model_module": "@jupyter-widgets/base",
      "model_module_version": "2.0.0",
      "model_name": "LayoutModel",
      "state": {
       "visibility": "hidden"
      }
     },
     "d96ae26596314b7e84cfa0bf8ab3a833": {
      "model_module": "@jupyter-widgets/controls",
      "model_module_version": "2.0.0",
      "model_name": "ProgressStyleModel",
      "state": {
       "description_width": ""
      }
     },
     "d9c071a417ee49999c6b1553b55ddfa2": {
      "model_module": "@jupyter-widgets/controls",
      "model_module_version": "2.0.0",
      "model_name": "HTMLModel",
      "state": {
       "layout": "IPY_MODEL_9cbfb3bfd273444392d8e9349ad1cafe",
       "style": "IPY_MODEL_e5442021cf414f4c96c2446f9f4b11d4",
       "value": " 50/50 [00:04&lt;00:00, 11.73it/s]"
      }
     },
     "d9c54c6047504a5a8e21bb0a743c1090": {
      "model_module": "@jupyter-widgets/controls",
      "model_module_version": "2.0.0",
      "model_name": "HTMLModel",
      "state": {
       "layout": "IPY_MODEL_f75e3ade62e24bb9915affec2e712890",
       "style": "IPY_MODEL_14b3ae26993f464ea5634fe931c32d64",
       "value": "100%"
      }
     },
     "d9d7264f6e8148069cb6287c831e0053": {
      "model_module": "@jupyter-widgets/controls",
      "model_module_version": "2.0.0",
      "model_name": "HTMLModel",
      "state": {
       "layout": "IPY_MODEL_75c9feeb392e4ee59a232269b1336133",
       "style": "IPY_MODEL_72326a2eb9c94c239e23336873360f60",
       "value": "100%"
      }
     },
     "da0287d13f414141974473543896bf77": {
      "model_module": "@jupyter-widgets/base",
      "model_module_version": "2.0.0",
      "model_name": "LayoutModel",
      "state": {}
     },
     "da98740a46494007a9a7efbb1d957884": {
      "model_module": "@jupyter-widgets/controls",
      "model_module_version": "2.0.0",
      "model_name": "HTMLModel",
      "state": {
       "layout": "IPY_MODEL_e6a9843d909641c5a61e175a55b5d8bb",
       "style": "IPY_MODEL_72923c8dc66d42d6a6f298af30c3a021",
       "value": "100%"
      }
     },
     "dab2eee83cbe4abeaed29062fcbe7c02": {
      "model_module": "@jupyter-widgets/base",
      "model_module_version": "2.0.0",
      "model_name": "LayoutModel",
      "state": {}
     },
     "dab97056c0fd4c6ba5f2327f1a234bf1": {
      "model_module": "@jupyter-widgets/controls",
      "model_module_version": "2.0.0",
      "model_name": "ProgressStyleModel",
      "state": {
       "description_width": ""
      }
     },
     "db40cd90994c4cd99b440b6150b8715f": {
      "model_module": "@jupyter-widgets/controls",
      "model_module_version": "2.0.0",
      "model_name": "ProgressStyleModel",
      "state": {
       "description_width": ""
      }
     },
     "db56314c360d412ab05fa65f0f261ef0": {
      "model_module": "@jupyter-widgets/base",
      "model_module_version": "2.0.0",
      "model_name": "LayoutModel",
      "state": {}
     },
     "dbad9c98cb2345bd8194b3894e7f6929": {
      "model_module": "@jupyter-widgets/controls",
      "model_module_version": "2.0.0",
      "model_name": "ProgressStyleModel",
      "state": {
       "description_width": ""
      }
     },
     "dbdf558e104140a1b9f4bd643b3742e7": {
      "model_module": "@jupyter-widgets/controls",
      "model_module_version": "2.0.0",
      "model_name": "FloatProgressModel",
      "state": {
       "layout": "IPY_MODEL_e455865d4a63433686869dd5d2ee0e5d",
       "max": 50,
       "style": "IPY_MODEL_0d7ee13888d74ac6ae1b94fad7bf9d04",
       "value": 50
      }
     },
     "dcc28df5e67b4654ac4d6f446d9ccde2": {
      "model_module": "@jupyter-widgets/controls",
      "model_module_version": "2.0.0",
      "model_name": "FloatProgressModel",
      "state": {
       "layout": "IPY_MODEL_6a31c0a74cae42268516e97478b8be20",
       "max": 50,
       "style": "IPY_MODEL_5d8b907d6389417fbccc8f701daf2e3e",
       "value": 50
      }
     },
     "dd387f1960fc4438ab98563cb483e9d3": {
      "model_module": "@jupyter-widgets/controls",
      "model_module_version": "2.0.0",
      "model_name": "ProgressStyleModel",
      "state": {
       "description_width": ""
      }
     },
     "dd9dd72550e64447a8f7fb836335795f": {
      "model_module": "@jupyter-widgets/controls",
      "model_module_version": "2.0.0",
      "model_name": "HTMLModel",
      "state": {
       "layout": "IPY_MODEL_9b36b186da7046909668f5e21929b66e",
       "style": "IPY_MODEL_7b22a909e18d4ae9a032109a4c2b15ca",
       "value": "100%"
      }
     },
     "ddb2c97059cf40fca5a5f0e69a8241cf": {
      "model_module": "@jupyter-widgets/controls",
      "model_module_version": "2.0.0",
      "model_name": "ProgressStyleModel",
      "state": {
       "description_width": ""
      }
     },
     "dde8e07861af4274a999b56fc93c0000": {
      "model_module": "@jupyter-widgets/controls",
      "model_module_version": "2.0.0",
      "model_name": "HTMLStyleModel",
      "state": {
       "description_width": "",
       "font_size": null,
       "text_color": null
      }
     },
     "de1767cc9bf04e5e83c4e0c8161612a8": {
      "model_module": "@jupyter-widgets/controls",
      "model_module_version": "2.0.0",
      "model_name": "HTMLStyleModel",
      "state": {
       "description_width": "",
       "font_size": null,
       "text_color": null
      }
     },
     "deba2633317441639b90ccf3f849b253": {
      "model_module": "@jupyter-widgets/controls",
      "model_module_version": "2.0.0",
      "model_name": "HTMLModel",
      "state": {
       "layout": "IPY_MODEL_6d12516a240344e29db1391df795dc47",
       "style": "IPY_MODEL_176f95605f0c4ac3abdca4ebfbd3bfa0",
       "value": "100%"
      }
     },
     "defd007abccd4eb59cb870f6863689d9": {
      "model_module": "@jupyter-widgets/base",
      "model_module_version": "2.0.0",
      "model_name": "LayoutModel",
      "state": {}
     },
     "df7be9d2c4174df380a524d54daa017e": {
      "model_module": "@jupyter-widgets/base",
      "model_module_version": "2.0.0",
      "model_name": "LayoutModel",
      "state": {
       "visibility": "hidden"
      }
     },
     "dfbc396e9c6148c9a2abe3263291b975": {
      "model_module": "@jupyter-widgets/base",
      "model_module_version": "2.0.0",
      "model_name": "LayoutModel",
      "state": {}
     },
     "e0294b5fd7cd4556a8799e38c96f7f25": {
      "model_module": "@jupyter-widgets/base",
      "model_module_version": "2.0.0",
      "model_name": "LayoutModel",
      "state": {
       "visibility": "hidden"
      }
     },
     "e0f9073ae48d4502ae01abb2ea7b6eb7": {
      "model_module": "@jupyter-widgets/controls",
      "model_module_version": "2.0.0",
      "model_name": "HTMLStyleModel",
      "state": {
       "description_width": "",
       "font_size": null,
       "text_color": null
      }
     },
     "e1003608fb3744749a3fe44043ca31cc": {
      "model_module": "@jupyter-widgets/base",
      "model_module_version": "2.0.0",
      "model_name": "LayoutModel",
      "state": {}
     },
     "e12a3ad9571047ddb4e4a254644822d1": {
      "model_module": "@jupyter-widgets/base",
      "model_module_version": "2.0.0",
      "model_name": "LayoutModel",
      "state": {
       "visibility": "hidden"
      }
     },
     "e1a02c6e6aa64e08a44b5230601e1025": {
      "model_module": "@jupyter-widgets/controls",
      "model_module_version": "2.0.0",
      "model_name": "HTMLModel",
      "state": {
       "layout": "IPY_MODEL_36edeb50411048719faa37881a7004db",
       "style": "IPY_MODEL_3728906d807c4a28a789d0fd0a1f402a",
       "value": " 50/50 [00:04&lt;00:00, 12.06it/s]"
      }
     },
     "e1b575789f18455e9d7686da54d4337f": {
      "model_module": "@jupyter-widgets/base",
      "model_module_version": "2.0.0",
      "model_name": "LayoutModel",
      "state": {}
     },
     "e252577e149544da9ca61e3681b43edd": {
      "model_module": "@jupyter-widgets/controls",
      "model_module_version": "2.0.0",
      "model_name": "HTMLModel",
      "state": {
       "layout": "IPY_MODEL_08ec2b3c84b047728fd2bf67e1011dad",
       "style": "IPY_MODEL_412233a8234b4e36a402ac6115c837f7",
       "value": " 50/50 [00:04&lt;00:00, 12.20it/s]"
      }
     },
     "e2685e1db33f42b79cedbfa490577596": {
      "model_module": "@jupyter-widgets/controls",
      "model_module_version": "2.0.0",
      "model_name": "HTMLStyleModel",
      "state": {
       "description_width": "",
       "font_size": null,
       "text_color": null
      }
     },
     "e2e7078773e94ef4a78a0e05f21f8b1f": {
      "model_module": "@jupyter-widgets/controls",
      "model_module_version": "2.0.0",
      "model_name": "ProgressStyleModel",
      "state": {
       "description_width": ""
      }
     },
     "e2faa11116cc495abc8a11aa49d5d892": {
      "model_module": "@jupyter-widgets/controls",
      "model_module_version": "2.0.0",
      "model_name": "FloatProgressModel",
      "state": {
       "layout": "IPY_MODEL_e69540841db846c1a4dfe22df1fa01b0",
       "max": 1198,
       "style": "IPY_MODEL_17f611c4497f4fabb91dc2978aa37635",
       "value": 1198
      }
     },
     "e35819ed7bcc4205a79ea91d6ca66da9": {
      "model_module": "@jupyter-widgets/controls",
      "model_module_version": "2.0.0",
      "model_name": "HTMLStyleModel",
      "state": {
       "description_width": "",
       "font_size": null,
       "text_color": null
      }
     },
     "e3ad231e45d647d1816cf77a2cf45ebf": {
      "model_module": "@jupyter-widgets/controls",
      "model_module_version": "2.0.0",
      "model_name": "HTMLModel",
      "state": {
       "layout": "IPY_MODEL_d55adb4e67bc400887f08b7808e57181",
       "style": "IPY_MODEL_62723c31a41c493ab1e3c3538b328a49",
       "value": " 50/50 [00:04&lt;00:00, 12.18it/s]"
      }
     },
     "e3e19f1215644c79b22f8831fde8dfa3": {
      "model_module": "@jupyter-widgets/controls",
      "model_module_version": "2.0.0",
      "model_name": "HTMLStyleModel",
      "state": {
       "description_width": "",
       "font_size": null,
       "text_color": null
      }
     },
     "e3e4d41a6c244716991e7a0d1a2ac0fe": {
      "model_module": "@jupyter-widgets/controls",
      "model_module_version": "2.0.0",
      "model_name": "FloatProgressModel",
      "state": {
       "layout": "IPY_MODEL_0e4da321d46243658574f2fcc58f9da4",
       "max": 50,
       "style": "IPY_MODEL_9a35c352cff24fd59fca7a3e5abb4445",
       "value": 50
      }
     },
     "e3ec7b3402f44fef9858108550db5998": {
      "model_module": "@jupyter-widgets/base",
      "model_module_version": "2.0.0",
      "model_name": "LayoutModel",
      "state": {
       "visibility": "hidden"
      }
     },
     "e3eed1308b35414884e5fc610f258192": {
      "model_module": "@jupyter-widgets/controls",
      "model_module_version": "2.0.0",
      "model_name": "HTMLModel",
      "state": {
       "layout": "IPY_MODEL_032b8d849d984665bf202caa5738ab8d",
       "style": "IPY_MODEL_14053025317441d38455bb8e37f45284",
       "value": "100%"
      }
     },
     "e4181df4d8964aae86f3cd21a0d3d6d2": {
      "model_module": "@jupyter-widgets/base",
      "model_module_version": "2.0.0",
      "model_name": "LayoutModel",
      "state": {}
     },
     "e455865d4a63433686869dd5d2ee0e5d": {
      "model_module": "@jupyter-widgets/base",
      "model_module_version": "2.0.0",
      "model_name": "LayoutModel",
      "state": {}
     },
     "e49912f6cc0c4f5cb1e3e53f14d629a6": {
      "model_module": "@jupyter-widgets/controls",
      "model_module_version": "2.0.0",
      "model_name": "HTMLStyleModel",
      "state": {
       "description_width": "",
       "font_size": null,
       "text_color": null
      }
     },
     "e4e3b4ddb2df47fb84ffe6834aaa3d8d": {
      "model_module": "@jupyter-widgets/controls",
      "model_module_version": "2.0.0",
      "model_name": "HTMLStyleModel",
      "state": {
       "description_width": "",
       "font_size": null,
       "text_color": null
      }
     },
     "e51f518c290d421ab97a27eae3f36844": {
      "model_module": "@jupyter-widgets/controls",
      "model_module_version": "2.0.0",
      "model_name": "FloatProgressModel",
      "state": {
       "layout": "IPY_MODEL_847de43ee7e04f7e9af0990c2d3d415e",
       "max": 50,
       "style": "IPY_MODEL_5128671c35664c94baacfc5f27df0125",
       "value": 50
      }
     },
     "e5442021cf414f4c96c2446f9f4b11d4": {
      "model_module": "@jupyter-widgets/controls",
      "model_module_version": "2.0.0",
      "model_name": "HTMLStyleModel",
      "state": {
       "description_width": "",
       "font_size": null,
       "text_color": null
      }
     },
     "e55f2c80076542f6914b0f8ac4028aa4": {
      "model_module": "@jupyter-widgets/controls",
      "model_module_version": "2.0.0",
      "model_name": "HTMLStyleModel",
      "state": {
       "description_width": "",
       "font_size": null,
       "text_color": null
      }
     },
     "e567bd9c8b45480988a553299f910b61": {
      "model_module": "@jupyter-widgets/base",
      "model_module_version": "2.0.0",
      "model_name": "LayoutModel",
      "state": {}
     },
     "e5daed238b5f44bf803939eb266a1b56": {
      "model_module": "@jupyter-widgets/base",
      "model_module_version": "2.0.0",
      "model_name": "LayoutModel",
      "state": {}
     },
     "e61c67bb10db4975aae61814ffd791c0": {
      "model_module": "@jupyter-widgets/base",
      "model_module_version": "2.0.0",
      "model_name": "LayoutModel",
      "state": {}
     },
     "e629c7065ca641c2a1de9f72abb4baaa": {
      "model_module": "@jupyter-widgets/base",
      "model_module_version": "2.0.0",
      "model_name": "LayoutModel",
      "state": {}
     },
     "e68d94f52bec4d30ba55fb6cd6e92c90": {
      "model_module": "@jupyter-widgets/base",
      "model_module_version": "2.0.0",
      "model_name": "LayoutModel",
      "state": {}
     },
     "e69540841db846c1a4dfe22df1fa01b0": {
      "model_module": "@jupyter-widgets/base",
      "model_module_version": "2.0.0",
      "model_name": "LayoutModel",
      "state": {}
     },
     "e6a3ee61f677440a9d8c6a0010880158": {
      "model_module": "@jupyter-widgets/base",
      "model_module_version": "2.0.0",
      "model_name": "LayoutModel",
      "state": {}
     },
     "e6a8f4a5da8e4a6095b14452adc52333": {
      "model_module": "@jupyter-widgets/base",
      "model_module_version": "2.0.0",
      "model_name": "LayoutModel",
      "state": {}
     },
     "e6a9843d909641c5a61e175a55b5d8bb": {
      "model_module": "@jupyter-widgets/base",
      "model_module_version": "2.0.0",
      "model_name": "LayoutModel",
      "state": {}
     },
     "e6b7482b8f384fcb859a067c27a68cee": {
      "model_module": "@jupyter-widgets/base",
      "model_module_version": "2.0.0",
      "model_name": "LayoutModel",
      "state": {}
     },
     "e727102dd6cf4b9bae2032da1ff4f963": {
      "model_module": "@jupyter-widgets/controls",
      "model_module_version": "2.0.0",
      "model_name": "ProgressStyleModel",
      "state": {
       "description_width": ""
      }
     },
     "e73c4460617c4ce085a2d70e5d158353": {
      "model_module": "@jupyter-widgets/base",
      "model_module_version": "2.0.0",
      "model_name": "LayoutModel",
      "state": {}
     },
     "e7830cf70628484ca2745078add813b1": {
      "model_module": "@jupyter-widgets/base",
      "model_module_version": "2.0.0",
      "model_name": "LayoutModel",
      "state": {
       "visibility": "hidden"
      }
     },
     "e81c4c5818854a5cb908f0f55b3284f0": {
      "model_module": "@jupyter-widgets/controls",
      "model_module_version": "2.0.0",
      "model_name": "HTMLModel",
      "state": {
       "layout": "IPY_MODEL_98306ebae2f64d3aa1436b58db36138d",
       "style": "IPY_MODEL_ee93d82ca4ff4c61b6d5bb4b461e16f8",
       "value": "100%"
      }
     },
     "e84172f4bdc54220a27876d9a66ef6ae": {
      "model_module": "@jupyter-widgets/controls",
      "model_module_version": "2.0.0",
      "model_name": "HTMLModel",
      "state": {
       "layout": "IPY_MODEL_08e1be96929244c6878ee680c508f50d",
       "style": "IPY_MODEL_aa3c87248f59433391be8223caf9730c",
       "value": "100%"
      }
     },
     "e8662cf1e1e9481a887eba42e97be2a6": {
      "model_module": "@jupyter-widgets/base",
      "model_module_version": "2.0.0",
      "model_name": "LayoutModel",
      "state": {}
     },
     "e873db0698bc4b209e8a6fcdf351b976": {
      "model_module": "@jupyter-widgets/controls",
      "model_module_version": "2.0.0",
      "model_name": "HTMLStyleModel",
      "state": {
       "description_width": "",
       "font_size": null,
       "text_color": null
      }
     },
     "e8a2561eb084442d96f3c173ee491771": {
      "model_module": "@jupyter-widgets/controls",
      "model_module_version": "2.0.0",
      "model_name": "HTMLModel",
      "state": {
       "layout": "IPY_MODEL_ce0cd8e10a0d41d98b364be6e326f0e6",
       "style": "IPY_MODEL_25bfb1e3f567462b9d46f3c514e71144",
       "value": " 50/50 [00:04&lt;00:00, 12.24it/s]"
      }
     },
     "e8bd53df062346baba597f765bfde779": {
      "model_module": "@jupyter-widgets/controls",
      "model_module_version": "2.0.0",
      "model_name": "HTMLStyleModel",
      "state": {
       "description_width": "",
       "font_size": null,
       "text_color": null
      }
     },
     "e8d38a9341014c2599abdbf2557da4d1": {
      "model_module": "@jupyter-widgets/controls",
      "model_module_version": "2.0.0",
      "model_name": "HTMLStyleModel",
      "state": {
       "description_width": "",
       "font_size": null,
       "text_color": null
      }
     },
     "e95c43a5c6b94888a4079607001acf4d": {
      "model_module": "@jupyter-widgets/controls",
      "model_module_version": "2.0.0",
      "model_name": "HTMLModel",
      "state": {
       "layout": "IPY_MODEL_e6a3ee61f677440a9d8c6a0010880158",
       "style": "IPY_MODEL_fe86d9123f5742dbbba25053c24aef77",
       "value": " 50/50 [00:04&lt;00:00, 12.14it/s]"
      }
     },
     "e9cb9e0af3d3477cb6bccba1fa2dccf0": {
      "model_module": "@jupyter-widgets/controls",
      "model_module_version": "2.0.0",
      "model_name": "HTMLModel",
      "state": {
       "layout": "IPY_MODEL_0b922d98cd8d48dca513ea6452b02af5",
       "style": "IPY_MODEL_86a7bc3367894f95b242d67abd8b4a1d",
       "value": " 50/50 [00:06&lt;00:00,  8.19it/s]"
      }
     },
     "ea06306b270544d09b82efc4672a78bd": {
      "model_module": "@jupyter-widgets/base",
      "model_module_version": "2.0.0",
      "model_name": "LayoutModel",
      "state": {}
     },
     "ea08c232386c4bf99ec46795bb961c09": {
      "model_module": "@jupyter-widgets/base",
      "model_module_version": "2.0.0",
      "model_name": "LayoutModel",
      "state": {}
     },
     "ea80f764dff44f2faf23304f1f4339c5": {
      "model_module": "@jupyter-widgets/controls",
      "model_module_version": "2.0.0",
      "model_name": "HTMLStyleModel",
      "state": {
       "description_width": "",
       "font_size": null,
       "text_color": null
      }
     },
     "eaa769685a094ce1a7af6da240d1f3bf": {
      "model_module": "@jupyter-widgets/base",
      "model_module_version": "2.0.0",
      "model_name": "LayoutModel",
      "state": {}
     },
     "eb13fef9f2fc4da8b9fcf85558f7d6d8": {
      "model_module": "@jupyter-widgets/controls",
      "model_module_version": "2.0.0",
      "model_name": "HTMLStyleModel",
      "state": {
       "description_width": "",
       "font_size": null,
       "text_color": null
      }
     },
     "eb1f9c3a989548ee96e30969ef5e4317": {
      "model_module": "@jupyter-widgets/base",
      "model_module_version": "2.0.0",
      "model_name": "LayoutModel",
      "state": {
       "visibility": "hidden"
      }
     },
     "eb4c3e39aa61408bbff042e23dc1accb": {
      "model_module": "@jupyter-widgets/base",
      "model_module_version": "2.0.0",
      "model_name": "LayoutModel",
      "state": {}
     },
     "eb615b81c0ee4cf6b6a65052e31c539c": {
      "model_module": "@jupyter-widgets/controls",
      "model_module_version": "2.0.0",
      "model_name": "FloatProgressModel",
      "state": {
       "layout": "IPY_MODEL_52e80caf3c0e4c41ab3d874bf2993b08",
       "max": 50,
       "style": "IPY_MODEL_cf6aa5952fc6406d98706b804d5f30b1",
       "value": 50
      }
     },
     "ebe7ad14751542afa0302f20c125f21d": {
      "model_module": "@jupyter-widgets/controls",
      "model_module_version": "2.0.0",
      "model_name": "ProgressStyleModel",
      "state": {
       "description_width": ""
      }
     },
     "ec0067f3fcbd4975906786c86b68a8cc": {
      "model_module": "@jupyter-widgets/controls",
      "model_module_version": "2.0.0",
      "model_name": "HTMLModel",
      "state": {
       "layout": "IPY_MODEL_2f9c6422b8d048ddb3d325e31b71a4ef",
       "style": "IPY_MODEL_419cb4b443c9410a912bccf127e2c48d",
       "value": " 50/50 [00:04&lt;00:00, 12.07it/s]"
      }
     },
     "ec0698902984439aa0458e194fea07b6": {
      "model_module": "@jupyter-widgets/controls",
      "model_module_version": "2.0.0",
      "model_name": "HTMLModel",
      "state": {
       "layout": "IPY_MODEL_905ef1b4a180472699bdc4d514b36f9b",
       "style": "IPY_MODEL_efec5cc58e4e45e098a68fc9a0f92c26",
       "value": "100%"
      }
     },
     "ec31dd2cddd3445682647aa274196e2b": {
      "model_module": "@jupyter-widgets/base",
      "model_module_version": "2.0.0",
      "model_name": "LayoutModel",
      "state": {}
     },
     "ec510dee4b84423691de512689a9f129": {
      "model_module": "@jupyter-widgets/base",
      "model_module_version": "2.0.0",
      "model_name": "LayoutModel",
      "state": {}
     },
     "ec884daa0d12426486b443d54b66aefc": {
      "model_module": "@jupyter-widgets/base",
      "model_module_version": "2.0.0",
      "model_name": "LayoutModel",
      "state": {}
     },
     "ecf04099e4324b319b402d7200fab85b": {
      "model_module": "@jupyter-widgets/controls",
      "model_module_version": "2.0.0",
      "model_name": "HTMLStyleModel",
      "state": {
       "description_width": "",
       "font_size": null,
       "text_color": null
      }
     },
     "ed184bae88864408b618ac49cbe2222a": {
      "model_module": "@jupyter-widgets/base",
      "model_module_version": "2.0.0",
      "model_name": "LayoutModel",
      "state": {}
     },
     "edf601c119d14acabf19800552a0a056": {
      "model_module": "@jupyter-widgets/base",
      "model_module_version": "2.0.0",
      "model_name": "LayoutModel",
      "state": {
       "visibility": "hidden"
      }
     },
     "ee6246a73a8d42d8866ba75d49ae2599": {
      "model_module": "@jupyter-widgets/controls",
      "model_module_version": "2.0.0",
      "model_name": "ProgressStyleModel",
      "state": {
       "description_width": ""
      }
     },
     "ee7b571aad624d88a6c07a7f08915a4f": {
      "model_module": "@jupyter-widgets/controls",
      "model_module_version": "2.0.0",
      "model_name": "FloatProgressModel",
      "state": {
       "layout": "IPY_MODEL_d8344c87e1094642bf8996af1a8acab8",
       "max": 50,
       "style": "IPY_MODEL_109cae9456db416a950cddeebf07b9ac",
       "value": 50
      }
     },
     "ee87d9fa56e94fca96465561f7ad5845": {
      "model_module": "@jupyter-widgets/base",
      "model_module_version": "2.0.0",
      "model_name": "LayoutModel",
      "state": {
       "visibility": "hidden"
      }
     },
     "ee93d82ca4ff4c61b6d5bb4b461e16f8": {
      "model_module": "@jupyter-widgets/controls",
      "model_module_version": "2.0.0",
      "model_name": "HTMLStyleModel",
      "state": {
       "description_width": "",
       "font_size": null,
       "text_color": null
      }
     },
     "eea5cb16914947c5b15535d57283b412": {
      "model_module": "@jupyter-widgets/base",
      "model_module_version": "2.0.0",
      "model_name": "LayoutModel",
      "state": {}
     },
     "ef6dda29044e46018a1defed37dde0b7": {
      "model_module": "@jupyter-widgets/controls",
      "model_module_version": "2.0.0",
      "model_name": "HTMLModel",
      "state": {
       "layout": "IPY_MODEL_fc9f42ae7f514408b5f00cb0472c5a18",
       "style": "IPY_MODEL_b8f9c2f72b2f46ec818bbc9bcf8a1c23",
       "value": "100%"
      }
     },
     "ef7b6efc292a4e05856deba00062ec1d": {
      "model_module": "@jupyter-widgets/controls",
      "model_module_version": "2.0.0",
      "model_name": "HTMLModel",
      "state": {
       "layout": "IPY_MODEL_b323a6d5ec4a4fdea2f35eb572f6887c",
       "style": "IPY_MODEL_6206ed93e3db4794906abe713b0880ce",
       "value": "100%"
      }
     },
     "efec5cc58e4e45e098a68fc9a0f92c26": {
      "model_module": "@jupyter-widgets/controls",
      "model_module_version": "2.0.0",
      "model_name": "HTMLStyleModel",
      "state": {
       "description_width": "",
       "font_size": null,
       "text_color": null
      }
     },
     "efff91a157d44856a012fdd1217fb7af": {
      "model_module": "@jupyter-widgets/controls",
      "model_module_version": "2.0.0",
      "model_name": "HTMLStyleModel",
      "state": {
       "description_width": "",
       "font_size": null,
       "text_color": null
      }
     },
     "f003e799312a4c22abd50de0e6891f88": {
      "model_module": "@jupyter-widgets/controls",
      "model_module_version": "2.0.0",
      "model_name": "HTMLStyleModel",
      "state": {
       "description_width": "",
       "font_size": null,
       "text_color": null
      }
     },
     "f053ffb06b7b497f8e1a3e10b2a164b4": {
      "model_module": "@jupyter-widgets/controls",
      "model_module_version": "2.0.0",
      "model_name": "HTMLStyleModel",
      "state": {
       "description_width": "",
       "font_size": null,
       "text_color": null
      }
     },
     "f06ed80b4a4e48d4a3094c54fbbf59b4": {
      "model_module": "@jupyter-widgets/base",
      "model_module_version": "2.0.0",
      "model_name": "LayoutModel",
      "state": {}
     },
     "f08309dc197848d5a02fc8fb06b53fe2": {
      "model_module": "@jupyter-widgets/controls",
      "model_module_version": "2.0.0",
      "model_name": "HTMLModel",
      "state": {
       "layout": "IPY_MODEL_55f19942583740968c3c198d68a47860",
       "style": "IPY_MODEL_71cd9bbccbac40f395d9a8b6cb845a83",
       "value": "100%"
      }
     },
     "f0b6af7e4602467b847797e6fe818f57": {
      "model_module": "@jupyter-widgets/controls",
      "model_module_version": "2.0.0",
      "model_name": "HTMLModel",
      "state": {
       "layout": "IPY_MODEL_dfbc396e9c6148c9a2abe3263291b975",
       "style": "IPY_MODEL_3f40125b742f40e5af3da0ba92a69cf2",
       "value": " 50/50 [00:05&lt;00:00,  8.29it/s]"
      }
     },
     "f0f6f2da303b432f8b850c7164254f62": {
      "model_module": "@jupyter-widgets/base",
      "model_module_version": "2.0.0",
      "model_name": "LayoutModel",
      "state": {
       "visibility": "hidden"
      }
     },
     "f14bfdb73671400d9a1962c8ddf8884a": {
      "model_module": "@jupyter-widgets/controls",
      "model_module_version": "2.0.0",
      "model_name": "HTMLStyleModel",
      "state": {
       "description_width": "",
       "font_size": null,
       "text_color": null
      }
     },
     "f1756209b7a04ca9a7a91459a3134ee2": {
      "model_module": "@jupyter-widgets/controls",
      "model_module_version": "2.0.0",
      "model_name": "HTMLModel",
      "state": {
       "layout": "IPY_MODEL_10457b4e371c458299e836e496c38577",
       "style": "IPY_MODEL_cfe1df98adb142d3adbb0d9b6a1221b4",
       "value": "100%"
      }
     },
     "f188136055344239a8f1750c10377dce": {
      "model_module": "@jupyter-widgets/controls",
      "model_module_version": "2.0.0",
      "model_name": "HTMLModel",
      "state": {
       "layout": "IPY_MODEL_98d89a48339b476fac6a6f5e314d7430",
       "style": "IPY_MODEL_d08bbaa55f72434193e846978202e1af",
       "value": "100%"
      }
     },
     "f18b5055173c46149a690e4c3425b412": {
      "model_module": "@jupyter-widgets/controls",
      "model_module_version": "2.0.0",
      "model_name": "HTMLStyleModel",
      "state": {
       "description_width": "",
       "font_size": null,
       "text_color": null
      }
     },
     "f19b8e873cd5406595030fdecba0a855": {
      "model_module": "@jupyter-widgets/base",
      "model_module_version": "2.0.0",
      "model_name": "LayoutModel",
      "state": {}
     },
     "f2183c29435e4e17b95f08f3d801954d": {
      "model_module": "@jupyter-widgets/controls",
      "model_module_version": "2.0.0",
      "model_name": "ProgressStyleModel",
      "state": {
       "description_width": ""
      }
     },
     "f2442a1ba73242f1a54d64d1e27386f1": {
      "model_module": "@jupyter-widgets/base",
      "model_module_version": "2.0.0",
      "model_name": "LayoutModel",
      "state": {}
     },
     "f2e49207fc0e4ea8ac2fe1cf7eff2797": {
      "model_module": "@jupyter-widgets/base",
      "model_module_version": "2.0.0",
      "model_name": "LayoutModel",
      "state": {}
     },
     "f31a980b90924ec2bb8573531df3fab9": {
      "model_module": "@jupyter-widgets/controls",
      "model_module_version": "2.0.0",
      "model_name": "FloatProgressModel",
      "state": {
       "layout": "IPY_MODEL_13c4e6e239894ba1bcc47bb6bcd76db2",
       "max": 50,
       "style": "IPY_MODEL_d4a3fc9071124dd3a4c8409a6be19d15",
       "value": 50
      }
     },
     "f3214e4417214ca6a296eed1b622d2e1": {
      "model_module": "@jupyter-widgets/controls",
      "model_module_version": "2.0.0",
      "model_name": "ProgressStyleModel",
      "state": {
       "description_width": ""
      }
     },
     "f3359f50e2a84567a3fa62dd42bbbe50": {
      "model_module": "@jupyter-widgets/controls",
      "model_module_version": "2.0.0",
      "model_name": "HTMLModel",
      "state": {
       "layout": "IPY_MODEL_31d2a18390514b4f81fe93989dd3cb92",
       "style": "IPY_MODEL_ce789b361e4c4ea3bd83ee5b19458ef0",
       "value": " 50/50 [00:04&lt;00:00, 11.87it/s]"
      }
     },
     "f375095ec0d94e41b5922e03d59a8555": {
      "model_module": "@jupyter-widgets/base",
      "model_module_version": "2.0.0",
      "model_name": "LayoutModel",
      "state": {
       "visibility": "hidden"
      }
     },
     "f3a15a8ae6404a7ca12657539ae199fe": {
      "model_module": "@jupyter-widgets/controls",
      "model_module_version": "2.0.0",
      "model_name": "HTMLStyleModel",
      "state": {
       "description_width": "",
       "font_size": null,
       "text_color": null
      }
     },
     "f3ac64b968a140f284fb3dbc83c86863": {
      "model_module": "@jupyter-widgets/controls",
      "model_module_version": "2.0.0",
      "model_name": "HTMLModel",
      "state": {
       "layout": "IPY_MODEL_19a45dc296694deba40f27555fb0c6bb",
       "style": "IPY_MODEL_b514504da4ef4b43bac36919c31cf089",
       "value": "100%"
      }
     },
     "f3bf66af983c48289472d3e5978ce769": {
      "model_module": "@jupyter-widgets/controls",
      "model_module_version": "2.0.0",
      "model_name": "HTMLModel",
      "state": {
       "layout": "IPY_MODEL_6a7e2d18a29d495da96abb21b2e6fdf2",
       "style": "IPY_MODEL_439b48df36924c79a656b437f5f4d531",
       "value": "100%"
      }
     },
     "f3d066e4f519481faac33aaa6d40a465": {
      "model_module": "@jupyter-widgets/controls",
      "model_module_version": "2.0.0",
      "model_name": "HTMLModel",
      "state": {
       "layout": "IPY_MODEL_8373bd12f01c4238ad343138c3a47145",
       "style": "IPY_MODEL_31d279d52da841b694621eb1df7782a3",
       "value": "100%"
      }
     },
     "f3d86b7018024da49afa2a269122fb06": {
      "model_module": "@jupyter-widgets/controls",
      "model_module_version": "2.0.0",
      "model_name": "HTMLStyleModel",
      "state": {
       "description_width": "",
       "font_size": null,
       "text_color": null
      }
     },
     "f43f17fdaa0f48d285e1f7a04f77c12c": {
      "model_module": "@jupyter-widgets/controls",
      "model_module_version": "2.0.0",
      "model_name": "HTMLStyleModel",
      "state": {
       "description_width": "",
       "font_size": null,
       "text_color": null
      }
     },
     "f44205ee265148e690664c7438625922": {
      "model_module": "@jupyter-widgets/controls",
      "model_module_version": "2.0.0",
      "model_name": "HTMLModel",
      "state": {
       "layout": "IPY_MODEL_5293eb0d602547889350231e21ad1add",
       "style": "IPY_MODEL_8f86986cc76b4d2c8aaff89af1f66198",
       "value": " 50/50 [00:04&lt;00:00, 12.13it/s]"
      }
     },
     "f4bcfed613b14092af18e22b399f329a": {
      "model_module": "@jupyter-widgets/controls",
      "model_module_version": "2.0.0",
      "model_name": "FloatProgressModel",
      "state": {
       "layout": "IPY_MODEL_4400c88e65684e29a00244b004468f1a",
       "max": 50,
       "style": "IPY_MODEL_6416f0ac45854f2bb6265cef03c8c60a",
       "value": 50
      }
     },
     "f4db34cbe3474a60ab4d175de2e90085": {
      "model_module": "@jupyter-widgets/controls",
      "model_module_version": "2.0.0",
      "model_name": "FloatProgressModel",
      "state": {
       "layout": "IPY_MODEL_c9a455fa1eaf4d089e267539efa61e54",
       "max": 50,
       "style": "IPY_MODEL_0810521de278474e9cb80e122eab1afc",
       "value": 50
      }
     },
     "f5621d9a9f95410fb380d9bb4c206403": {
      "model_module": "@jupyter-widgets/base",
      "model_module_version": "2.0.0",
      "model_name": "LayoutModel",
      "state": {
       "visibility": "hidden"
      }
     },
     "f5816cef6bd146008d6effd3633e72af": {
      "model_module": "@jupyter-widgets/controls",
      "model_module_version": "2.0.0",
      "model_name": "FloatProgressModel",
      "state": {
       "layout": "IPY_MODEL_eb4c3e39aa61408bbff042e23dc1accb",
       "max": 50,
       "style": "IPY_MODEL_4a1d4b5f40cf497e97712402851989fd",
       "value": 50
      }
     },
     "f58efc159a974d03800f56c9e4ec6610": {
      "model_module": "@jupyter-widgets/controls",
      "model_module_version": "2.0.0",
      "model_name": "ProgressStyleModel",
      "state": {
       "description_width": ""
      }
     },
     "f5ae4e01bbcd4bc3a75b7bf636242344": {
      "model_module": "@jupyter-widgets/controls",
      "model_module_version": "2.0.0",
      "model_name": "HTMLStyleModel",
      "state": {
       "description_width": "",
       "font_size": null,
       "text_color": null
      }
     },
     "f5bdcfbf0f7d4c80b8781390432032c5": {
      "model_module": "@jupyter-widgets/controls",
      "model_module_version": "2.0.0",
      "model_name": "HTMLStyleModel",
      "state": {
       "description_width": "",
       "font_size": null,
       "text_color": null
      }
     },
     "f5bde0c5c1634e628bf1111b60519d8a": {
      "model_module": "@jupyter-widgets/controls",
      "model_module_version": "2.0.0",
      "model_name": "HTMLModel",
      "state": {
       "layout": "IPY_MODEL_f2442a1ba73242f1a54d64d1e27386f1",
       "style": "IPY_MODEL_aeda1475e4464cf7b31901a4b381deb8",
       "value": "100%"
      }
     },
     "f5c287284053490994d779884a9c5c02": {
      "model_module": "@jupyter-widgets/base",
      "model_module_version": "2.0.0",
      "model_name": "LayoutModel",
      "state": {
       "visibility": "hidden"
      }
     },
     "f5cb95617a264cc2a88f86bc19c9ee2e": {
      "model_module": "@jupyter-widgets/controls",
      "model_module_version": "2.0.0",
      "model_name": "ProgressStyleModel",
      "state": {
       "description_width": ""
      }
     },
     "f5d8c7efe8b84767baceceb8d24c48a7": {
      "model_module": "@jupyter-widgets/base",
      "model_module_version": "2.0.0",
      "model_name": "LayoutModel",
      "state": {}
     },
     "f621764438e84b6ba6762c06921c2793": {
      "model_module": "@jupyter-widgets/base",
      "model_module_version": "2.0.0",
      "model_name": "LayoutModel",
      "state": {
       "visibility": "hidden"
      }
     },
     "f639b009b40b4859940ed1aeda73f981": {
      "model_module": "@jupyter-widgets/controls",
      "model_module_version": "2.0.0",
      "model_name": "FloatProgressModel",
      "state": {
       "layout": "IPY_MODEL_cd24b5624dee49179a0048940b442232",
       "max": 50,
       "style": "IPY_MODEL_ae07d55683924f3fa8309200fba0481f",
       "value": 50
      }
     },
     "f68e3dd0a0e14f44ac2d67599a36ce24": {
      "model_module": "@jupyter-widgets/base",
      "model_module_version": "2.0.0",
      "model_name": "LayoutModel",
      "state": {
       "visibility": "hidden"
      }
     },
     "f68e56311d93407da333e96369c70181": {
      "model_module": "@jupyter-widgets/controls",
      "model_module_version": "2.0.0",
      "model_name": "HTMLStyleModel",
      "state": {
       "description_width": "",
       "font_size": null,
       "text_color": null
      }
     },
     "f6a6d08655294fd4b12a048b71c50f83": {
      "model_module": "@jupyter-widgets/base",
      "model_module_version": "2.0.0",
      "model_name": "LayoutModel",
      "state": {
       "visibility": "hidden"
      }
     },
     "f74cacfc1dde4b0ea8e9a7626bdd31f0": {
      "model_module": "@jupyter-widgets/base",
      "model_module_version": "2.0.0",
      "model_name": "LayoutModel",
      "state": {}
     },
     "f754e7504df54394b262eb42b2df569f": {
      "model_module": "@jupyter-widgets/base",
      "model_module_version": "2.0.0",
      "model_name": "LayoutModel",
      "state": {}
     },
     "f75e3ade62e24bb9915affec2e712890": {
      "model_module": "@jupyter-widgets/base",
      "model_module_version": "2.0.0",
      "model_name": "LayoutModel",
      "state": {}
     },
     "f776ac6539df43429543ec7a96adc14d": {
      "model_module": "@jupyter-widgets/controls",
      "model_module_version": "2.0.0",
      "model_name": "HTMLModel",
      "state": {
       "layout": "IPY_MODEL_79a5761069904d0b8940530b28c72b7f",
       "style": "IPY_MODEL_c068ccfc86c9453eb5edc66788aa7ece",
       "value": "100%"
      }
     },
     "f798e86b89df4e0abb0bd04d6fc94ec7": {
      "model_module": "@jupyter-widgets/controls",
      "model_module_version": "2.0.0",
      "model_name": "HTMLStyleModel",
      "state": {
       "description_width": "",
       "font_size": null,
       "text_color": null
      }
     },
     "f7df8a076ff14826a2154b4de41763a6": {
      "model_module": "@jupyter-widgets/controls",
      "model_module_version": "2.0.0",
      "model_name": "HTMLStyleModel",
      "state": {
       "description_width": "",
       "font_size": null,
       "text_color": null
      }
     },
     "f80c15acdfef472fa8091b93f5d39c59": {
      "model_module": "@jupyter-widgets/controls",
      "model_module_version": "2.0.0",
      "model_name": "HTMLStyleModel",
      "state": {
       "description_width": "",
       "font_size": null,
       "text_color": null
      }
     },
     "f82e9077b9b940f789f28816e76de862": {
      "model_module": "@jupyter-widgets/controls",
      "model_module_version": "2.0.0",
      "model_name": "HTMLModel",
      "state": {
       "layout": "IPY_MODEL_69514b7e6077498a893917ac28c183db",
       "style": "IPY_MODEL_217514aace574ef48595e5a8e34da75f",
       "value": "100%"
      }
     },
     "f83f657c4d2448ddbf2aebc3e4f4b2a4": {
      "model_module": "@jupyter-widgets/controls",
      "model_module_version": "2.0.0",
      "model_name": "HTMLModel",
      "state": {
       "layout": "IPY_MODEL_ea08c232386c4bf99ec46795bb961c09",
       "style": "IPY_MODEL_6005eabe2fd14a5ca44aecbede84578a",
       "value": "100%"
      }
     },
     "f87453a258834250a02adad577afc5c7": {
      "model_module": "@jupyter-widgets/base",
      "model_module_version": "2.0.0",
      "model_name": "LayoutModel",
      "state": {}
     },
     "f8c391cb8b124156b345e87016407639": {
      "model_module": "@jupyter-widgets/base",
      "model_module_version": "2.0.0",
      "model_name": "LayoutModel",
      "state": {}
     },
     "f8e8a2f52cfa426994564caec07b052f": {
      "model_module": "@jupyter-widgets/base",
      "model_module_version": "2.0.0",
      "model_name": "LayoutModel",
      "state": {
       "visibility": "hidden"
      }
     },
     "f8fcdbb9a2244e1dac8fe0cd88125ab3": {
      "model_module": "@jupyter-widgets/controls",
      "model_module_version": "2.0.0",
      "model_name": "HTMLModel",
      "state": {
       "layout": "IPY_MODEL_1d6f47e6ab5e46ba9106a72ca22fae77",
       "style": "IPY_MODEL_662b7173d01f422c9c2112ea5ee2f3e7",
       "value": " 50/50 [00:04&lt;00:00, 12.18it/s]"
      }
     },
     "f9872418345f428e90304c0b06e78e38": {
      "model_module": "@jupyter-widgets/controls",
      "model_module_version": "2.0.0",
      "model_name": "HTMLStyleModel",
      "state": {
       "description_width": "",
       "font_size": null,
       "text_color": null
      }
     },
     "fa0dc965d3b64f1ebd2ba038dbf17e78": {
      "model_module": "@jupyter-widgets/controls",
      "model_module_version": "2.0.0",
      "model_name": "HTMLModel",
      "state": {
       "layout": "IPY_MODEL_376c915bceee4c23ac76c93ec9534a31",
       "style": "IPY_MODEL_e3e19f1215644c79b22f8831fde8dfa3",
       "value": "100%"
      }
     },
     "fa4328972f714faab788c3fc10ed6006": {
      "model_module": "@jupyter-widgets/base",
      "model_module_version": "2.0.0",
      "model_name": "LayoutModel",
      "state": {}
     },
     "fb4335c2cf914f9db42ec2e061484c6e": {
      "model_module": "@jupyter-widgets/base",
      "model_module_version": "2.0.0",
      "model_name": "LayoutModel",
      "state": {}
     },
     "fb5da8163c1545ea883b0a21cf8ac4af": {
      "model_module": "@jupyter-widgets/controls",
      "model_module_version": "2.0.0",
      "model_name": "HTMLModel",
      "state": {
       "layout": "IPY_MODEL_622141f4ed0c4131a6775afd0190addf",
       "style": "IPY_MODEL_743458ac5afd473483f14aae358f1fe6",
       "value": "100%"
      }
     },
     "fbebefc3942f4b379bef646537e74b9a": {
      "model_module": "@jupyter-widgets/base",
      "model_module_version": "2.0.0",
      "model_name": "LayoutModel",
      "state": {
       "visibility": "hidden"
      }
     },
     "fbf2140977ed405a8167f895cbd4dbef": {
      "model_module": "@jupyter-widgets/base",
      "model_module_version": "2.0.0",
      "model_name": "LayoutModel",
      "state": {}
     },
     "fc049b457942407bb07ebaeb66ae875a": {
      "model_module": "@jupyter-widgets/controls",
      "model_module_version": "2.0.0",
      "model_name": "FloatProgressModel",
      "state": {
       "layout": "IPY_MODEL_1adfc56bdedc4ec3bd0f8c571638b4e2",
       "max": 50,
       "style": "IPY_MODEL_b4eb6182d5754e05b9e4da415f01b171",
       "value": 50
      }
     },
     "fc14a74d1a99403095aa4c03ba738d38": {
      "model_module": "@jupyter-widgets/controls",
      "model_module_version": "2.0.0",
      "model_name": "FloatProgressModel",
      "state": {
       "layout": "IPY_MODEL_4e7d342f318d4396b2313c1eabd048c1",
       "max": 50,
       "style": "IPY_MODEL_59a2438886ee498b9ae4bc67ef6b4692",
       "value": 50
      }
     },
     "fc9f42ae7f514408b5f00cb0472c5a18": {
      "model_module": "@jupyter-widgets/base",
      "model_module_version": "2.0.0",
      "model_name": "LayoutModel",
      "state": {}
     },
     "fceb8a61fa2a455d9615b20d96358ec0": {
      "model_module": "@jupyter-widgets/controls",
      "model_module_version": "2.0.0",
      "model_name": "HTMLModel",
      "state": {
       "layout": "IPY_MODEL_d5017ed273fe45ac9fd3d56f0705f6b7",
       "style": "IPY_MODEL_7e07806640df498e9bc73a74452abd12",
       "value": " 50/50 [00:04&lt;00:00, 12.08it/s]"
      }
     },
     "fceda23afbaf419b996f65be81637d1f": {
      "model_module": "@jupyter-widgets/controls",
      "model_module_version": "2.0.0",
      "model_name": "FloatProgressModel",
      "state": {
       "layout": "IPY_MODEL_db56314c360d412ab05fa65f0f261ef0",
       "max": 1198,
       "style": "IPY_MODEL_ccc8ea7acffc414f88e90752d2da9753",
       "value": 1198
      }
     },
     "fd15edab09134118bc92c73396265fc5": {
      "model_module": "@jupyter-widgets/controls",
      "model_module_version": "2.0.0",
      "model_name": "FloatProgressModel",
      "state": {
       "layout": "IPY_MODEL_6be7e48e7cd8454ca7127cd5e27a9cdc",
       "max": 50,
       "style": "IPY_MODEL_acbd5c0da6d042199a60fd89fcad954a",
       "value": 50
      }
     },
     "fd36ffc382e04981b48d0b81e1d8b565": {
      "model_module": "@jupyter-widgets/controls",
      "model_module_version": "2.0.0",
      "model_name": "HTMLStyleModel",
      "state": {
       "description_width": "",
       "font_size": null,
       "text_color": null
      }
     },
     "fdded1dbe02241499506f593a52ea08a": {
      "model_module": "@jupyter-widgets/controls",
      "model_module_version": "2.0.0",
      "model_name": "HTMLModel",
      "state": {
       "layout": "IPY_MODEL_fa4328972f714faab788c3fc10ed6006",
       "style": "IPY_MODEL_0d7384b8e0d14322b20cb15cbae48db7",
       "value": " 50/50 [00:04&lt;00:00, 12.06it/s]"
      }
     },
     "fe1eef4473a647d294915de4513d175a": {
      "model_module": "@jupyter-widgets/controls",
      "model_module_version": "2.0.0",
      "model_name": "ProgressStyleModel",
      "state": {
       "description_width": ""
      }
     },
     "fe3f136eae0d4518ba1093ea36a5e7a2": {
      "model_module": "@jupyter-widgets/base",
      "model_module_version": "2.0.0",
      "model_name": "LayoutModel",
      "state": {}
     },
     "fe4cc5dfa1a44fa29f5aafae816cdd89": {
      "model_module": "@jupyter-widgets/controls",
      "model_module_version": "2.0.0",
      "model_name": "FloatProgressModel",
      "state": {
       "layout": "IPY_MODEL_08e97f57c5b8481cafa86c3d9bed3a10",
       "max": 50,
       "style": "IPY_MODEL_d3075523f0014814b94e16d192bdec04",
       "value": 50
      }
     },
     "fe72f7de03014f5da7b13e1c36885f7f": {
      "model_module": "@jupyter-widgets/base",
      "model_module_version": "2.0.0",
      "model_name": "LayoutModel",
      "state": {
       "visibility": "hidden"
      }
     },
     "fe86d9123f5742dbbba25053c24aef77": {
      "model_module": "@jupyter-widgets/controls",
      "model_module_version": "2.0.0",
      "model_name": "HTMLStyleModel",
      "state": {
       "description_width": "",
       "font_size": null,
       "text_color": null
      }
     },
     "feac1106ec2e43888ff8b1354b40c5d0": {
      "model_module": "@jupyter-widgets/base",
      "model_module_version": "2.0.0",
      "model_name": "LayoutModel",
      "state": {
       "visibility": "hidden"
      }
     },
     "ff650ff959c94f5bbeee3c8afc79a34e": {
      "model_module": "@jupyter-widgets/controls",
      "model_module_version": "2.0.0",
      "model_name": "FloatProgressModel",
      "state": {
       "layout": "IPY_MODEL_784e814baa5646aebd94535be6e3bd60",
       "max": 50,
       "style": "IPY_MODEL_a3dd9f7be13246d2acac91b21c1c9a09",
       "value": 50
      }
     },
     "ffa368eddead4ec28d51067063a516d5": {
      "model_module": "@jupyter-widgets/controls",
      "model_module_version": "2.0.0",
      "model_name": "HTMLModel",
      "state": {
       "layout": "IPY_MODEL_a36c550bc921489e8a051b63a19e8fda",
       "style": "IPY_MODEL_6f7de0b22d8e4d609340dc609c9b03f8",
       "value": "100%"
      }
     },
     "fff973266e9c452a9c7724e7451bca17": {
      "model_module": "@jupyter-widgets/base",
      "model_module_version": "2.0.0",
      "model_name": "LayoutModel",
      "state": {
       "visibility": "hidden"
      }
     }
    },
    "version_major": 2,
    "version_minor": 0
   }
  }
 },
 "nbformat": 4,
 "nbformat_minor": 5
}
