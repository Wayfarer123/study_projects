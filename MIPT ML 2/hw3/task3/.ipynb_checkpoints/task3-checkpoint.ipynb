{
 "cells": [
  {
   "cell_type": "code",
   "execution_count": 1,
   "id": "17ac4200-bb76-4e88-b351-27134300b4fc",
   "metadata": {},
   "outputs": [],
   "source": [
    "import torch\n",
    "from torch.utils.data import Dataset, DataLoader\n",
    "from torch import nn\n",
    "from torch.nn import functional as F\n",
    "from torch.utils.tensorboard import SummaryWriter\n",
    "from tqdm.auto import tqdm\n",
    "import numpy as np\n",
    "from torchaudio.functional import edit_distance\n",
    "\n",
    "device = \"cuda\" if torch.cuda.is_available() else \"cpu\""
   ]
  },
  {
   "cell_type": "code",
   "execution_count": 2,
   "id": "77ae9ac0-ce8d-400f-84e3-cca6b9cb5366",
   "metadata": {},
   "outputs": [
    {
     "data": {
      "text/html": [
       "<div>\n",
       "<style scoped>\n",
       "    .dataframe tbody tr th:only-of-type {\n",
       "        vertical-align: middle;\n",
       "    }\n",
       "\n",
       "    .dataframe tbody tr th {\n",
       "        vertical-align: top;\n",
       "    }\n",
       "\n",
       "    .dataframe thead th {\n",
       "        text-align: right;\n",
       "    }\n",
       "</style>\n",
       "<table border=\"1\" class=\"dataframe\">\n",
       "  <thead>\n",
       "    <tr style=\"text-align: right;\">\n",
       "      <th></th>\n",
       "      <th>tag</th>\n",
       "      <th>message</th>\n",
       "    </tr>\n",
       "  </thead>\n",
       "  <tbody>\n",
       "    <tr>\n",
       "      <th>0</th>\n",
       "      <td>0.0</td>\n",
       "      <td>is so sad for my APL friend.............</td>\n",
       "    </tr>\n",
       "    <tr>\n",
       "      <th>1</th>\n",
       "      <td>0.0</td>\n",
       "      <td>I missed the New Moon trailer...</td>\n",
       "    </tr>\n",
       "    <tr>\n",
       "      <th>2</th>\n",
       "      <td>1.0</td>\n",
       "      <td>omg its already 7:30 :O</td>\n",
       "    </tr>\n",
       "    <tr>\n",
       "      <th>3</th>\n",
       "      <td>0.0</td>\n",
       "      <td>.. Omgaga. Im sooo  im gunna CRy. I've been at...</td>\n",
       "    </tr>\n",
       "    <tr>\n",
       "      <th>4</th>\n",
       "      <td>0.0</td>\n",
       "      <td>i think mi bf is cheating on me!!!       T_T</td>\n",
       "    </tr>\n",
       "  </tbody>\n",
       "</table>\n",
       "</div>"
      ],
      "text/plain": [
       "   tag                                            message\n",
       "0  0.0           is so sad for my APL friend.............\n",
       "1  0.0                   I missed the New Moon trailer...\n",
       "2  1.0                            omg its already 7:30 :O\n",
       "3  0.0  .. Omgaga. Im sooo  im gunna CRy. I've been at...\n",
       "4  0.0       i think mi bf is cheating on me!!!       T_T"
      ]
     },
     "execution_count": 2,
     "metadata": {},
     "output_type": "execute_result"
    }
   ],
   "source": [
    "import pandas as pd\n",
    "\n",
    "data = pd.read_csv('twitter.csv')\n",
    "data = data[data[['tag', 'message']].notnull().all(1)]\n",
    "data.head()"
   ]
  },
  {
   "cell_type": "markdown",
   "id": "02c63abd-5b55-47f7-9193-843aa4b3ecfa",
   "metadata": {},
   "source": [
    "Автоэнкодер для языка логично делать с помощью рекурентных сетей, поскольку они могут кодировать в представление заранее фиксированного размера последовательности любой длины. Так и поступим."
   ]
  },
  {
   "cell_type": "code",
   "execution_count": 3,
   "id": "1d29227d-8045-4815-b34e-cf98763f63b8",
   "metadata": {},
   "outputs": [],
   "source": [
    "from transformers import AutoTokenizer, AutoModel\n",
    "\n",
    "# tokenizer = AutoTokenizer.from_pretrained(\"sentence-transformers/LaBSE\") \n",
    "#Не используем этот, поскольку длина словаря >500000, возьмем какой-нибудь нормальный:\n",
    "\n",
    "tokenizer = AutoTokenizer.from_pretrained(\"mistralai/Mistral-7B-v0.1\")\n",
    "tokenizer.pad_token_id = tokenizer.eos_token_id"
   ]
  },
  {
   "cell_type": "code",
   "execution_count": 4,
   "id": "44c2dd5f-2cc9-41d9-9eab-cf4e1a9ba553",
   "metadata": {},
   "outputs": [],
   "source": [
    "from sklearn.model_selection import train_test_split\n",
    "\n",
    "train_data, test_data = train_test_split(data, test_size=0.05, shuffle=True)\n",
    "\n",
    "class MyDataset(Dataset):\n",
    "    def __init__(self, data):\n",
    "        self.messages = data[\"message\"].to_numpy()\n",
    "        self.max_length = max_length\n",
    "    def __len__(self):\n",
    "        return len(self.messages)\n",
    "    def __getitem__(self, idx):\n",
    "        return self.messages[idx], self.messages[idx]\n",
    "\n",
    "\n",
    "max_length = 100\n",
    "train_dataset = MyDataset(data=train_data)\n",
    "test_dataset = MyDataset(data=test_data)"
   ]
  },
  {
   "cell_type": "markdown",
   "id": "454f35f3-c9b7-4548-9105-ca7085fe8e95",
   "metadata": {},
   "source": [
    "Напишем классы для нашей модели"
   ]
  },
  {
   "cell_type": "code",
   "execution_count": 5,
   "id": "f850a442-fb61-4374-9385-fafb7470f4de",
   "metadata": {},
   "outputs": [],
   "source": [
    "class Encoder(nn.Module):\n",
    "    def __init__(self, \n",
    "                 dict_size,\n",
    "                 output_dim=128, # == 2 * layer_size \n",
    "                 embedding_dim=128,\n",
    "                 n_layers=1, \n",
    "                 batch_norm=False,\n",
    "                 dropout=0):      \n",
    "        super().__init__()\n",
    "\n",
    "        self.embedding = nn.Embedding(dict_size, embedding_dim)\n",
    "        self.n_layers = n_layers\n",
    "        self.output_dim = output_dim\n",
    "        self.lstm = nn.LSTM(embedding_dim, \n",
    "                            hidden_size=output_dim//2, \n",
    "                            num_layers=n_layers,\n",
    "                            batch_first=True,\n",
    "                            dropout=dropout)\n",
    "        \n",
    "        self.batch_norm = nn.BatchNorm2d(n_layers) if batch_norm else False\n",
    "        \n",
    "        \n",
    "    def forward(self, x):\n",
    "        \n",
    "        x = self.embedding(x)\n",
    " \n",
    "        _, (h_n, c_n) = self.lstm(x)\n",
    "\n",
    "        out = torch.cat([torch.permute(h_n, (1, 0, 2)), torch.permute(c_n, (1, 0, 2))], -1)\n",
    "        if self.batch_norm:\n",
    "            out = self.batch_norm(out.unsqueeze(2)).view(x.shape[0], self.n_layers, -1)\n",
    "        \n",
    "        return out\n",
    "\n",
    "\n",
    "class Decoder(nn.Module):\n",
    "    def __init__(self, \n",
    "                 dict_size,\n",
    "                 input_dim=128, # == 2 * layer_size \n",
    "                 embedding_dim=128,\n",
    "                 n_layers=1, \n",
    "                 dropout=0,\n",
    "                 max_len=100, \n",
    "                 bos_token_id=1):      \n",
    "        super().__init__()\n",
    "\n",
    "        self.lstm = nn.LSTM(embedding_dim, \n",
    "                            hidden_size=input_dim//2, \n",
    "                            num_layers=n_layers,\n",
    "                            batch_first=True,\n",
    "                            dropout=dropout)\n",
    "        self.linear = nn.Linear(input_dim // 2, dict_size)\n",
    "        \n",
    "        self.max_len = max_len\n",
    "        self.embedding = nn.Embedding(dict_size, embedding_dim)\n",
    "        self.bos_token_id = bos_token_id\n",
    "        self.input_dim = input_dim\n",
    "        \n",
    "    def forward(self, encoder_output, max_len):\n",
    "        \n",
    "        h = torch.permute(encoder_output[:, :, :self.input_dim//2], (1,0,2)).contiguous()\n",
    "        c = torch.permute(encoder_output[:, :, self.input_dim//2:], (1,0,2)).contiguous()\n",
    "\n",
    "        cur_token_emb = self.embedding(torch.empty(encoder_output.shape[0], 1).fill_(self.bos_token_id).int().to(device))\n",
    "        \n",
    "        logps = []\n",
    "        \n",
    "        while len(logps) < max_len:\n",
    "            output, (h, c) = self.lstm(cur_token_emb, (h, c))\n",
    "            next_logp = F.log_softmax(self.linear(output), dim=-1)\n",
    "            logps.append(next_logp)\n",
    "\n",
    "            cur_token_emb = self.embedding(torch.argmax(next_logp.detach(), dim=-1))\n",
    "\n",
    "        return torch.cat(logps, dim=1)\n",
    "\n",
    "\n",
    "class LSTMAutoencoder(nn.Module):\n",
    "    def __init__(self, \n",
    "                 tokenizer, \n",
    "                 hidden_dim=128,\n",
    "                 embedding_dim=128,\n",
    "                 n_layers=1, \n",
    "                 batch_norm=False,\n",
    "                 dropout=0,\n",
    "                 max_len=100):      \n",
    "        super().__init__()\n",
    "\n",
    "        self.tokenizer = tokenizer\n",
    "        self.dict_size = len(tokenizer)\n",
    "        self.bos_token_id = tokenizer.bos_token_id\n",
    "        \n",
    "        self.encoder = Encoder(dict_size=self.dict_size,\n",
    "                               output_dim=hidden_dim,\n",
    "                               embedding_dim=embedding_dim,\n",
    "                               n_layers=n_layers, \n",
    "                               batch_norm=batch_norm,\n",
    "                               dropout=dropout)     \n",
    "        \n",
    "        self.decoder = Decoder(dict_size=self.dict_size,\n",
    "                               input_dim=hidden_dim, \n",
    "                               embedding_dim=embedding_dim,\n",
    "                               n_layers=n_layers, \n",
    "                               dropout=dropout,\n",
    "                               max_len=max_len, \n",
    "                               bos_token_id=tokenizer.bos_token_id)\n",
    "\n",
    "    def forward(self, inp_tokens):\n",
    "        max_len = inp_tokens.shape[-1]\n",
    "        middle = self.encoder(inp_tokens)\n",
    "        output = self.decoder(middle, max_len)\n",
    "        return output"
   ]
  },
  {
   "cell_type": "markdown",
   "id": "a744dd21-5c26-48ca-bb30-daedb7573ffc",
   "metadata": {},
   "source": [
    "Следующая ячейка как в первой задаче скопирована с семинара с небольшими изменениями.\n",
    "\n",
    "В качестве метрики как будто разумно использовать минимальное расстояние редактирования, попробуем так и сделать. Нужно только не забывать, что в данном случае меньше -- лучше."
   ]
  },
  {
   "cell_type": "code",
   "execution_count": 6,
   "id": "afcd0b5a-813f-41c1-aa65-d9b7c9f7d0a7",
   "metadata": {},
   "outputs": [],
   "source": [
    "def train_epoch(train_loader, model, loss_function, optimizer, callback=None):\n",
    "    epoch_loss = 0\n",
    "    total = 0\n",
    "    for it, (batch_of_x, batch_of_y) in enumerate(tqdm(train_loader, leave=False)):\n",
    "        batch_of_x, batch_of_y = model.tokenizer(batch_of_x, padding=True, truncation=True, max_length=max_length,\n",
    "                                 return_tensors=\"pt\")[\"input_ids\"], \\\n",
    "                                 model.tokenizer(batch_of_y, padding=True, truncation=True, max_length=max_length,\n",
    "                                 return_tensors=\"pt\")[\"input_ids\"]\n",
    "                            \n",
    "        batch_loss = train_on_batch(model, batch_of_x, batch_of_y, optimizer, loss_function)\n",
    "        \n",
    "        if callback is not None:\n",
    "            with torch.no_grad():\n",
    "                callback(model, batch_loss)\n",
    "            \n",
    "        epoch_loss += batch_loss * len(batch_of_x)\n",
    "        total += len(batch_of_x)\n",
    "    \n",
    "    return epoch_loss / total\n",
    "\n",
    "\n",
    "def train_on_batch(model, x_batch, y_batch, optimizer, loss_function):\n",
    "    model.train()\n",
    "    optimizer.zero_grad()\n",
    "    preds = model(x_batch.to(device))\n",
    "    loss = loss_function(preds, y_batch.to(device))\n",
    "    loss.backward()\n",
    "\n",
    "    optimizer.step()\n",
    "    return loss.detach().cpu().item()\n",
    "\n",
    "\n",
    "def trainer(count_of_epoch, \n",
    "            batch_size, \n",
    "            loader,\n",
    "            model, \n",
    "            loss_function,\n",
    "            optimizer,\n",
    "            lr = 0.001,\n",
    "            callback = None):\n",
    "\n",
    "    optima = optimizer(model.parameters(), lr=lr)\n",
    "    \n",
    "    iterations = tqdm(range(count_of_epoch), desc='epoch')\n",
    "    iterations.set_postfix({'train epoch loss': np.nan})\n",
    "    for it in iterations:\n",
    "        \n",
    "        \n",
    "        epoch_loss = train_epoch(train_loader=loader, \n",
    "                    model=model, \n",
    "                    loss_function=loss_function,\n",
    "                    optimizer=optima, \n",
    "                    callback=callback)\n",
    "        \n",
    "        iterations.set_postfix({'train epoch loss': epoch_loss})\n",
    "\n",
    "\n",
    "class Callback():\n",
    "    def __init__(self, writer, test_loader, loss_function, delimeter=100, batch_size=64):\n",
    "        self.step = 0\n",
    "        self.writer = writer\n",
    "        self.delimeter = delimeter\n",
    "        self.loss_function = loss_function\n",
    "        self.batch_size = batch_size\n",
    "\n",
    "        self.loader = test_loader\n",
    "\n",
    "    def forward(self, model, loss):\n",
    "        self.step += 1\n",
    "        self.writer.add_scalar('LOSS/train', loss, self.step)\n",
    "        \n",
    "        if self.step % self.delimeter == 0:\n",
    "            \n",
    "            pred = []\n",
    "            real = []\n",
    "            model.eval()\n",
    "            with torch.no_grad():\n",
    "                for it, (x_batch, y_batch) in enumerate(tqdm(self.loader, leave=False)):\n",
    "                    x_batch, y_batch = model.tokenizer(x_batch, padding=True, truncation=True, max_length=max_length,\n",
    "                                     return_tensors=\"pt\")[\"input_ids\"], \\\n",
    "                                       model.tokenizer(y_batch, padding=True, truncation=True, max_length=max_length,\n",
    "                                     return_tensors=\"pt\")[\"input_ids\"]\n",
    "                    \n",
    "                    x_batch = x_batch.to(device)\n",
    "    \n",
    "                    output = model(x_batch).detach()\n",
    "    \n",
    "                    pred.extend(torch.argmax(output, dim=-1).cpu().numpy().tolist())\n",
    "                    real.extend(y_batch.numpy().tolist())\n",
    "                    \n",
    "                test_edit_disctance = np.mean([edit_distance(pred_sent, real_sent) for \\\n",
    "                                               pred_sent, real_sent in zip(pred, real)])\n",
    "                \n",
    "                self.writer.add_scalar('Edit_Disctance/test', test_edit_disctance, self.step)\n",
    "\n",
    "          \n",
    "    def __call__(self, model, loss):\n",
    "        return self.forward(model, loss)"
   ]
  },
  {
   "cell_type": "code",
   "execution_count": 7,
   "id": "3c4e5387-eb32-482b-93cd-1f3f47f9c011",
   "metadata": {},
   "outputs": [
    {
     "data": {
      "text/html": [
       "\n",
       "      <iframe id=\"tensorboard-frame-6267f70b6cd39f\" width=\"100%\" height=\"800\" frameborder=\"0\">\n",
       "      </iframe>\n",
       "      <script>\n",
       "        (function() {\n",
       "          const frame = document.getElementById(\"tensorboard-frame-6267f70b6cd39f\");\n",
       "          const url = new URL(\"/\", window.location);\n",
       "          const port = 6002;\n",
       "          if (port) {\n",
       "            url.port = port;\n",
       "          }\n",
       "          frame.src = url;\n",
       "        })();\n",
       "      </script>\n",
       "    "
      ],
      "text/plain": [
       "<IPython.core.display.HTML object>"
      ]
     },
     "metadata": {},
     "output_type": "display_data"
    }
   ],
   "source": [
    "%load_ext tensorboard\n",
    "%tensorboard --logdir ./ --port=6002"
   ]
  },
  {
   "cell_type": "markdown",
   "id": "65d7b2ac-b15d-42cd-88a2-4fbff8d631a7",
   "metadata": {},
   "source": [
    "Переберем параметры аналогично первой задаче, начнем с размера скрытого представления (он же -- размер скрытых представлений в lstm).\n",
    "Обучать будем на всех данных, но только одну эпоху -- слишком долго работает."
   ]
  },
  {
   "cell_type": "code",
   "execution_count": 8,
   "id": "3c900089-e495-4eb7-91c4-7c42da75e486",
   "metadata": {},
   "outputs": [
    {
     "data": {
      "application/vnd.jupyter.widget-view+json": {
       "model_id": "feb551b87abd4aab96681acd778f93a0",
       "version_major": 2,
       "version_minor": 0
      },
      "text/plain": [
       "epoch:   0%|          | 0/1 [00:00<?, ?it/s]"
      ]
     },
     "metadata": {},
     "output_type": "display_data"
    },
    {
     "data": {
      "application/vnd.jupyter.widget-view+json": {
       "model_id": "917e1430f6fa417b9dd466d49aba2d5b",
       "version_major": 2,
       "version_minor": 0
      },
      "text/plain": [
       "  0%|          | 0/29994 [00:00<?, ?it/s]"
      ]
     },
     "metadata": {},
     "output_type": "display_data"
    },
    {
     "name": "stderr",
     "output_type": "stream",
     "text": [
      "\n",
      "KeyboardInterrupt\n",
      "\n"
     ]
    }
   ],
   "source": [
    "class LSTM_loss():\n",
    "    '''\n",
    "    regular torch.nn.functional.nll_loss addapted for (batch_size, sequence_length, vocab_size) shape inputs\n",
    "    '''\n",
    "    def __init__(self, vocab_size):\n",
    "        self.vocab_size = vocab_size\n",
    "        \n",
    "    def __call__(self, pred, target):\n",
    "\n",
    "        return F.nll_loss(pred.view(-1, self.vocab_size), target.view(-1))\n",
    "        \n",
    "\n",
    "loss_function = LSTM_loss(vocab_size=len(tokenizer))\n",
    "\n",
    "optimizer = torch.optim.Adam\n",
    "lr = 1e-3\n",
    "hidden_dims = [32,64,128,256,512]\n",
    "batch_size = 50\n",
    "test_step_size = 3000\n",
    "n_epochs=1\n",
    "\n",
    "train_loader = DataLoader(train_dataset, shuffle=True, batch_size=batch_size)\n",
    "test_loader = DataLoader(test_dataset, shuffle=False, batch_size=batch_size)\n",
    "\n",
    "\n",
    "for hidden_dim in hidden_dims:\n",
    "\n",
    "    model = LSTMAutoencoder(tokenizer, \n",
    "                            hidden_dim=hidden_dim,\n",
    "                            embedding_dim=64,\n",
    "                            n_layers=2, \n",
    "                            batch_norm=False,\n",
    "                            dropout=0,\n",
    "                            max_len=100).to(device)\n",
    "    \n",
    "    writer = SummaryWriter(log_dir=f'different_hidden_dims/{hidden_dim}')\n",
    "\n",
    "    callback = Callback(writer, test_loader, loss_function, delimeter=test_step_size)\n",
    "\n",
    "    trainer(count_of_epoch=n_epochs, \n",
    "            batch_size=batch_size, \n",
    "            loader=train_loader,\n",
    "            model=model, \n",
    "            loss_function=loss_function,\n",
    "            optimizer=optimizer,\n",
    "            lr=lr,\n",
    "            callback=callback)"
   ]
  },
  {
   "cell_type": "markdown",
   "id": "af25ca26-9311-461e-9547-b87837e849cc",
   "metadata": {},
   "source": [
    "БОльшее скрытое представление закономерно дает лучший скор, поскольку данных довольно много и задача сложная.\n",
    "Теперь попробуем добавить batchnorm между энкодером и декодером (а куда его еще пихать?)"
   ]
  },
  {
   "cell_type": "code",
   "execution_count": 8,
   "id": "a9d6d594-2856-4424-8efb-5e266254fb66",
   "metadata": {},
   "outputs": [
    {
     "data": {
      "application/vnd.jupyter.widget-view+json": {
       "model_id": "0d3336c302644f55b3f816b2bed031ab",
       "version_major": 2,
       "version_minor": 0
      },
      "text/plain": [
       "epoch:   0%|          | 0/1 [00:00<?, ?it/s]"
      ]
     },
     "metadata": {},
     "output_type": "display_data"
    },
    {
     "data": {
      "application/vnd.jupyter.widget-view+json": {
       "model_id": "",
       "version_major": 2,
       "version_minor": 0
      },
      "text/plain": [
       "  0%|          | 0/37492 [00:00<?, ?it/s]"
      ]
     },
     "metadata": {},
     "output_type": "display_data"
    },
    {
     "data": {
      "application/vnd.jupyter.widget-view+json": {
       "model_id": "",
       "version_major": 2,
       "version_minor": 0
      },
      "text/plain": [
       "  0%|          | 0/1974 [00:00<?, ?it/s]"
      ]
     },
     "metadata": {},
     "output_type": "display_data"
    },
    {
     "data": {
      "application/vnd.jupyter.widget-view+json": {
       "model_id": "",
       "version_major": 2,
       "version_minor": 0
      },
      "text/plain": [
       "  0%|          | 0/1974 [00:00<?, ?it/s]"
      ]
     },
     "metadata": {},
     "output_type": "display_data"
    },
    {
     "data": {
      "application/vnd.jupyter.widget-view+json": {
       "model_id": "",
       "version_major": 2,
       "version_minor": 0
      },
      "text/plain": [
       "  0%|          | 0/1974 [00:00<?, ?it/s]"
      ]
     },
     "metadata": {},
     "output_type": "display_data"
    },
    {
     "data": {
      "application/vnd.jupyter.widget-view+json": {
       "model_id": "",
       "version_major": 2,
       "version_minor": 0
      },
      "text/plain": [
       "  0%|          | 0/1974 [00:00<?, ?it/s]"
      ]
     },
     "metadata": {},
     "output_type": "display_data"
    },
    {
     "data": {
      "application/vnd.jupyter.widget-view+json": {
       "model_id": "",
       "version_major": 2,
       "version_minor": 0
      },
      "text/plain": [
       "  0%|          | 0/1974 [00:00<?, ?it/s]"
      ]
     },
     "metadata": {},
     "output_type": "display_data"
    },
    {
     "data": {
      "application/vnd.jupyter.widget-view+json": {
       "model_id": "",
       "version_major": 2,
       "version_minor": 0
      },
      "text/plain": [
       "  0%|          | 0/1974 [00:00<?, ?it/s]"
      ]
     },
     "metadata": {},
     "output_type": "display_data"
    },
    {
     "data": {
      "application/vnd.jupyter.widget-view+json": {
       "model_id": "",
       "version_major": 2,
       "version_minor": 0
      },
      "text/plain": [
       "  0%|          | 0/1974 [00:00<?, ?it/s]"
      ]
     },
     "metadata": {},
     "output_type": "display_data"
    },
    {
     "data": {
      "application/vnd.jupyter.widget-view+json": {
       "model_id": "",
       "version_major": 2,
       "version_minor": 0
      },
      "text/plain": [
       "  0%|          | 0/1974 [00:00<?, ?it/s]"
      ]
     },
     "metadata": {},
     "output_type": "display_data"
    },
    {
     "data": {
      "application/vnd.jupyter.widget-view+json": {
       "model_id": "",
       "version_major": 2,
       "version_minor": 0
      },
      "text/plain": [
       "  0%|          | 0/1974 [00:00<?, ?it/s]"
      ]
     },
     "metadata": {},
     "output_type": "display_data"
    },
    {
     "data": {
      "application/vnd.jupyter.widget-view+json": {
       "model_id": "",
       "version_major": 2,
       "version_minor": 0
      },
      "text/plain": [
       "  0%|          | 0/1974 [00:00<?, ?it/s]"
      ]
     },
     "metadata": {},
     "output_type": "display_data"
    },
    {
     "data": {
      "application/vnd.jupyter.widget-view+json": {
       "model_id": "1bb8568e30d24edba5e018621fefbbbd",
       "version_major": 2,
       "version_minor": 0
      },
      "text/plain": [
       "epoch:   0%|          | 0/1 [00:00<?, ?it/s]"
      ]
     },
     "metadata": {},
     "output_type": "display_data"
    },
    {
     "data": {
      "application/vnd.jupyter.widget-view+json": {
       "model_id": "",
       "version_major": 2,
       "version_minor": 0
      },
      "text/plain": [
       "  0%|          | 0/37492 [00:00<?, ?it/s]"
      ]
     },
     "metadata": {},
     "output_type": "display_data"
    },
    {
     "data": {
      "application/vnd.jupyter.widget-view+json": {
       "model_id": "",
       "version_major": 2,
       "version_minor": 0
      },
      "text/plain": [
       "  0%|          | 0/1974 [00:00<?, ?it/s]"
      ]
     },
     "metadata": {},
     "output_type": "display_data"
    },
    {
     "data": {
      "application/vnd.jupyter.widget-view+json": {
       "model_id": "",
       "version_major": 2,
       "version_minor": 0
      },
      "text/plain": [
       "  0%|          | 0/1974 [00:00<?, ?it/s]"
      ]
     },
     "metadata": {},
     "output_type": "display_data"
    },
    {
     "data": {
      "application/vnd.jupyter.widget-view+json": {
       "model_id": "",
       "version_major": 2,
       "version_minor": 0
      },
      "text/plain": [
       "  0%|          | 0/1974 [00:00<?, ?it/s]"
      ]
     },
     "metadata": {},
     "output_type": "display_data"
    },
    {
     "data": {
      "application/vnd.jupyter.widget-view+json": {
       "model_id": "",
       "version_major": 2,
       "version_minor": 0
      },
      "text/plain": [
       "  0%|          | 0/1974 [00:00<?, ?it/s]"
      ]
     },
     "metadata": {},
     "output_type": "display_data"
    },
    {
     "data": {
      "application/vnd.jupyter.widget-view+json": {
       "model_id": "",
       "version_major": 2,
       "version_minor": 0
      },
      "text/plain": [
       "  0%|          | 0/1974 [00:00<?, ?it/s]"
      ]
     },
     "metadata": {},
     "output_type": "display_data"
    },
    {
     "data": {
      "application/vnd.jupyter.widget-view+json": {
       "model_id": "",
       "version_major": 2,
       "version_minor": 0
      },
      "text/plain": [
       "  0%|          | 0/1974 [00:00<?, ?it/s]"
      ]
     },
     "metadata": {},
     "output_type": "display_data"
    },
    {
     "data": {
      "application/vnd.jupyter.widget-view+json": {
       "model_id": "",
       "version_major": 2,
       "version_minor": 0
      },
      "text/plain": [
       "  0%|          | 0/1974 [00:00<?, ?it/s]"
      ]
     },
     "metadata": {},
     "output_type": "display_data"
    },
    {
     "data": {
      "application/vnd.jupyter.widget-view+json": {
       "model_id": "",
       "version_major": 2,
       "version_minor": 0
      },
      "text/plain": [
       "  0%|          | 0/1974 [00:00<?, ?it/s]"
      ]
     },
     "metadata": {},
     "output_type": "display_data"
    },
    {
     "data": {
      "application/vnd.jupyter.widget-view+json": {
       "model_id": "",
       "version_major": 2,
       "version_minor": 0
      },
      "text/plain": [
       "  0%|          | 0/1974 [00:00<?, ?it/s]"
      ]
     },
     "metadata": {},
     "output_type": "display_data"
    },
    {
     "data": {
      "application/vnd.jupyter.widget-view+json": {
       "model_id": "",
       "version_major": 2,
       "version_minor": 0
      },
      "text/plain": [
       "  0%|          | 0/1974 [00:00<?, ?it/s]"
      ]
     },
     "metadata": {},
     "output_type": "display_data"
    }
   ],
   "source": [
    "batch_norms = [True, False]\n",
    "batch_size = 40\n",
    "test_step_size = 3600\n",
    "n_epochs=1\n",
    "\n",
    "train_loader = DataLoader(train_dataset, shuffle=True, batch_size=batch_size)\n",
    "test_loader = DataLoader(test_dataset, shuffle=False, batch_size=batch_size)\n",
    "\n",
    "\n",
    "for batch_norm in batch_norms:\n",
    "\n",
    "    model = LSTMAutoencoder(tokenizer, \n",
    "                            hidden_dim=512,\n",
    "                            embedding_dim=64,\n",
    "                            n_layers=2, \n",
    "                            batch_norm=batch_norm,\n",
    "                            dropout=0,\n",
    "                            max_len=100).to(device)\n",
    "    \n",
    "    writer = SummaryWriter(log_dir=f'batch_norms/{batch_norm}')\n",
    "\n",
    "    callback = Callback(writer, test_loader, loss_function, delimeter=test_step_size)\n",
    "\n",
    "    trainer(count_of_epoch=n_epochs, \n",
    "            batch_size=batch_size, \n",
    "            loader=train_loader,\n",
    "            model=model, \n",
    "            loss_function=loss_function,\n",
    "            optimizer=optimizer,\n",
    "            lr=lr,\n",
    "            callback=callback)"
   ]
  },
  {
   "cell_type": "markdown",
   "id": "61377140-13b4-4463-bd73-4e868103f83a",
   "metadata": {},
   "source": [
    "Не такая ожидаемая картина -- результат с batch_norm-ом заметно хуже, неочевидно, но допустим, далее не будем его использовать.\n",
    "\n",
    "Теперь посмотрим дают ли прирост используемые все время до этого 2 слоя LSTM относительного одного. (Больше будет учиться хуже и дольше, а эксперименты итак занимают довольно много времени)"
   ]
  },
  {
   "cell_type": "code",
   "execution_count": 9,
   "id": "90a81b5f-8e39-45bf-a21f-e45f897e4317",
   "metadata": {},
   "outputs": [
    {
     "data": {
      "application/vnd.jupyter.widget-view+json": {
       "model_id": "5479fca760d646e3ae86bda8de392a37",
       "version_major": 2,
       "version_minor": 0
      },
      "text/plain": [
       "epoch:   0%|          | 0/1 [00:00<?, ?it/s]"
      ]
     },
     "metadata": {},
     "output_type": "display_data"
    },
    {
     "data": {
      "application/vnd.jupyter.widget-view+json": {
       "model_id": "",
       "version_major": 2,
       "version_minor": 0
      },
      "text/plain": [
       "  0%|          | 0/37492 [00:00<?, ?it/s]"
      ]
     },
     "metadata": {},
     "output_type": "display_data"
    },
    {
     "data": {
      "application/vnd.jupyter.widget-view+json": {
       "model_id": "",
       "version_major": 2,
       "version_minor": 0
      },
      "text/plain": [
       "  0%|          | 0/1974 [00:00<?, ?it/s]"
      ]
     },
     "metadata": {},
     "output_type": "display_data"
    },
    {
     "data": {
      "application/vnd.jupyter.widget-view+json": {
       "model_id": "",
       "version_major": 2,
       "version_minor": 0
      },
      "text/plain": [
       "  0%|          | 0/1974 [00:00<?, ?it/s]"
      ]
     },
     "metadata": {},
     "output_type": "display_data"
    },
    {
     "data": {
      "application/vnd.jupyter.widget-view+json": {
       "model_id": "",
       "version_major": 2,
       "version_minor": 0
      },
      "text/plain": [
       "  0%|          | 0/1974 [00:00<?, ?it/s]"
      ]
     },
     "metadata": {},
     "output_type": "display_data"
    },
    {
     "data": {
      "application/vnd.jupyter.widget-view+json": {
       "model_id": "",
       "version_major": 2,
       "version_minor": 0
      },
      "text/plain": [
       "  0%|          | 0/1974 [00:00<?, ?it/s]"
      ]
     },
     "metadata": {},
     "output_type": "display_data"
    },
    {
     "data": {
      "application/vnd.jupyter.widget-view+json": {
       "model_id": "",
       "version_major": 2,
       "version_minor": 0
      },
      "text/plain": [
       "  0%|          | 0/1974 [00:00<?, ?it/s]"
      ]
     },
     "metadata": {},
     "output_type": "display_data"
    },
    {
     "data": {
      "application/vnd.jupyter.widget-view+json": {
       "model_id": "",
       "version_major": 2,
       "version_minor": 0
      },
      "text/plain": [
       "  0%|          | 0/1974 [00:00<?, ?it/s]"
      ]
     },
     "metadata": {},
     "output_type": "display_data"
    },
    {
     "data": {
      "application/vnd.jupyter.widget-view+json": {
       "model_id": "",
       "version_major": 2,
       "version_minor": 0
      },
      "text/plain": [
       "  0%|          | 0/1974 [00:00<?, ?it/s]"
      ]
     },
     "metadata": {},
     "output_type": "display_data"
    },
    {
     "data": {
      "application/vnd.jupyter.widget-view+json": {
       "model_id": "",
       "version_major": 2,
       "version_minor": 0
      },
      "text/plain": [
       "  0%|          | 0/1974 [00:00<?, ?it/s]"
      ]
     },
     "metadata": {},
     "output_type": "display_data"
    },
    {
     "data": {
      "application/vnd.jupyter.widget-view+json": {
       "model_id": "",
       "version_major": 2,
       "version_minor": 0
      },
      "text/plain": [
       "  0%|          | 0/1974 [00:00<?, ?it/s]"
      ]
     },
     "metadata": {},
     "output_type": "display_data"
    },
    {
     "data": {
      "application/vnd.jupyter.widget-view+json": {
       "model_id": "",
       "version_major": 2,
       "version_minor": 0
      },
      "text/plain": [
       "  0%|          | 0/1974 [00:00<?, ?it/s]"
      ]
     },
     "metadata": {},
     "output_type": "display_data"
    },
    {
     "data": {
      "application/vnd.jupyter.widget-view+json": {
       "model_id": "b49bf7ae5a2a406c88ac32ac820db356",
       "version_major": 2,
       "version_minor": 0
      },
      "text/plain": [
       "epoch:   0%|          | 0/1 [00:00<?, ?it/s]"
      ]
     },
     "metadata": {},
     "output_type": "display_data"
    },
    {
     "data": {
      "application/vnd.jupyter.widget-view+json": {
       "model_id": "",
       "version_major": 2,
       "version_minor": 0
      },
      "text/plain": [
       "  0%|          | 0/37492 [00:00<?, ?it/s]"
      ]
     },
     "metadata": {},
     "output_type": "display_data"
    },
    {
     "data": {
      "application/vnd.jupyter.widget-view+json": {
       "model_id": "",
       "version_major": 2,
       "version_minor": 0
      },
      "text/plain": [
       "  0%|          | 0/1974 [00:00<?, ?it/s]"
      ]
     },
     "metadata": {},
     "output_type": "display_data"
    },
    {
     "data": {
      "application/vnd.jupyter.widget-view+json": {
       "model_id": "",
       "version_major": 2,
       "version_minor": 0
      },
      "text/plain": [
       "  0%|          | 0/1974 [00:00<?, ?it/s]"
      ]
     },
     "metadata": {},
     "output_type": "display_data"
    },
    {
     "data": {
      "application/vnd.jupyter.widget-view+json": {
       "model_id": "",
       "version_major": 2,
       "version_minor": 0
      },
      "text/plain": [
       "  0%|          | 0/1974 [00:00<?, ?it/s]"
      ]
     },
     "metadata": {},
     "output_type": "display_data"
    },
    {
     "data": {
      "application/vnd.jupyter.widget-view+json": {
       "model_id": "",
       "version_major": 2,
       "version_minor": 0
      },
      "text/plain": [
       "  0%|          | 0/1974 [00:00<?, ?it/s]"
      ]
     },
     "metadata": {},
     "output_type": "display_data"
    },
    {
     "data": {
      "application/vnd.jupyter.widget-view+json": {
       "model_id": "",
       "version_major": 2,
       "version_minor": 0
      },
      "text/plain": [
       "  0%|          | 0/1974 [00:00<?, ?it/s]"
      ]
     },
     "metadata": {},
     "output_type": "display_data"
    },
    {
     "data": {
      "application/vnd.jupyter.widget-view+json": {
       "model_id": "",
       "version_major": 2,
       "version_minor": 0
      },
      "text/plain": [
       "  0%|          | 0/1974 [00:00<?, ?it/s]"
      ]
     },
     "metadata": {},
     "output_type": "display_data"
    },
    {
     "data": {
      "application/vnd.jupyter.widget-view+json": {
       "model_id": "",
       "version_major": 2,
       "version_minor": 0
      },
      "text/plain": [
       "  0%|          | 0/1974 [00:00<?, ?it/s]"
      ]
     },
     "metadata": {},
     "output_type": "display_data"
    },
    {
     "data": {
      "application/vnd.jupyter.widget-view+json": {
       "model_id": "",
       "version_major": 2,
       "version_minor": 0
      },
      "text/plain": [
       "  0%|          | 0/1974 [00:00<?, ?it/s]"
      ]
     },
     "metadata": {},
     "output_type": "display_data"
    },
    {
     "data": {
      "application/vnd.jupyter.widget-view+json": {
       "model_id": "",
       "version_major": 2,
       "version_minor": 0
      },
      "text/plain": [
       "  0%|          | 0/1974 [00:00<?, ?it/s]"
      ]
     },
     "metadata": {},
     "output_type": "display_data"
    },
    {
     "data": {
      "application/vnd.jupyter.widget-view+json": {
       "model_id": "",
       "version_major": 2,
       "version_minor": 0
      },
      "text/plain": [
       "  0%|          | 0/1974 [00:00<?, ?it/s]"
      ]
     },
     "metadata": {},
     "output_type": "display_data"
    }
   ],
   "source": [
    "batch_size = 40\n",
    "n_layers_options = [1, 2]\n",
    "test_step_size = 3600\n",
    "n_epochs=1\n",
    "\n",
    "train_loader = DataLoader(train_dataset, shuffle=True, batch_size=batch_size)\n",
    "test_loader = DataLoader(test_dataset, shuffle=False, batch_size=batch_size)\n",
    "\n",
    "\n",
    "for n_layers in n_layers_options:\n",
    "\n",
    "    model = LSTMAutoencoder(tokenizer, \n",
    "                            hidden_dim=512,\n",
    "                            embedding_dim=64,\n",
    "                            n_layers=n_layers, \n",
    "                            batch_norm=False,\n",
    "                            dropout=0,\n",
    "                            max_len=100).to(device)\n",
    "    \n",
    "    writer = SummaryWriter(log_dir=f'different_number_of_layers/{n_layers}')\n",
    "\n",
    "    callback = Callback(writer, test_loader, loss_function, delimeter=test_step_size)\n",
    "\n",
    "    trainer(count_of_epoch=n_epochs, \n",
    "            batch_size=batch_size, \n",
    "            loader=train_loader,\n",
    "            model=model, \n",
    "            loss_function=loss_function,\n",
    "            optimizer=optimizer,\n",
    "            lr=lr,\n",
    "            callback=callback)"
   ]
  },
  {
   "cell_type": "markdown",
   "id": "a69701d7-6604-45fe-aedd-e601e912eaaf",
   "metadata": {},
   "source": [
    "Оверфита выше не видно, поэтому едва ли добавление dropout-а чем-то поможет, но все таки проверим"
   ]
  },
  {
   "cell_type": "code",
   "execution_count": 12,
   "id": "04c1a111-9437-432e-bd94-bc5afd8f1f3e",
   "metadata": {},
   "outputs": [],
   "source": [
    "batch_size = 40\n",
    "dropouts = [0, 0.15, 0.3]\n",
    "test_step_size = 3600\n",
    "n_epochs=1\n",
    "\n",
    "train_loader = DataLoader(train_dataset, shuffle=True, batch_size=batch_size)\n",
    "test_loader = DataLoader(test_dataset, shuffle=False, batch_size=batch_size)\n",
    "\n",
    "\n",
    "for dropout in dropouts:\n",
    "\n",
    "    model = LSTMAutoencoder(tokenizer, \n",
    "                            hidden_dim=512,\n",
    "                            embedding_dim=64,\n",
    "                            n_layers=2, \n",
    "                            batch_norm=False,\n",
    "                            dropout=dropout,\n",
    "                            max_len=100).to(device)\n",
    "    \n",
    "    writer = SummaryWriter(log_dir=f'dropouts/{dropout}')\n",
    "\n",
    "    callback = Callback(writer, test_loader, loss_function, delimeter=test_step_size)\n",
    "\n",
    "    trainer(count_of_epoch=n_epochs, \n",
    "            batch_size=batch_size, \n",
    "            loader=train_loader,\n",
    "            model=model, \n",
    "            loss_function=loss_function,\n",
    "            optimizer=optimizer,\n",
    "            lr=lr,\n",
    "            callback=callback)"
   ]
  },
  {
   "cell_type": "markdown",
   "id": "6a2cf648-04de-42b9-9093-db66d39d7a63",
   "metadata": {},
   "source": [
    "собственно как и ожидалось dropout делает только слегка хуже на первой эпохе, есть ли улучшения дальше увидеть не представляется возможным, поскольку этот ноутбук в сумме уже итак работал около 20 часов -- хватит с этой задачи."
   ]
  }
 ],
 "metadata": {
  "kernelspec": {
   "display_name": "Python 3 (ipykernel)",
   "language": "python",
   "name": "python3"
  },
  "language_info": {
   "codemirror_mode": {
    "name": "ipython",
    "version": 3
   },
   "file_extension": ".py",
   "mimetype": "text/x-python",
   "name": "python",
   "nbconvert_exporter": "python",
   "pygments_lexer": "ipython3",
   "version": "3.10.13"
  },
  "widgets": {
   "application/vnd.jupyter.widget-state+json": {
    "state": {},
    "version_major": 2,
    "version_minor": 0
   }
  }
 },
 "nbformat": 4,
 "nbformat_minor": 5
}
